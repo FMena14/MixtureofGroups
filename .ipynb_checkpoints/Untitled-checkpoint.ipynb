{
 "cells": [
  {
   "cell_type": "code",
   "execution_count": 1,
   "metadata": {
    "collapsed": false
   },
   "outputs": [
    {
     "name": "stderr",
     "output_type": "stream",
     "text": [
      "/home/fmena/anaconda3/envs/tesis/lib/python3.5/site-packages/h5py/__init__.py:34: FutureWarning: Conversion of the second argument of issubdtype from `float` to `np.floating` is deprecated. In future, it will be treated as `np.float64 == np.dtype(float).type`.\n",
      "  from ._conv import register_converters as _register_converters\n",
      "Using TensorFlow backend.\n"
     ]
    }
   ],
   "source": [
    "import numpy as np\n",
    "import pandas as pd\n",
    "import matplotlib.pyplot as plt\n",
    "import keras, time, sys, os, gc\n",
    "from code.evaluation import Evaluation_metrics\n",
    "\n",
    "\n",
    "DTYPE_OP = 'float32'\n",
    "keras.backend.set_floatx(DTYPE_OP)\n",
    "\n",
    "if DTYPE_OP == 'float64':\n",
    "    keras.backend.set_epsilon(np.finfo(np.float64).eps)\n",
    "elif DTYPE_OP == 'float32':\n",
    "    keras.backend.set_epsilon(np.finfo(np.float32).eps)"
   ]
  },
  {
   "cell_type": "code",
   "execution_count": 2,
   "metadata": {
    "collapsed": true
   },
   "outputs": [],
   "source": [
    "#GLOBAL Variables\n",
    "BATCH_SIZE = 128\n",
    "EPOCHS_BASE = 50\n",
    "OPT = 'adam' #optimizer for neural network \n",
    "TOL = 3e-2 #tolerance for relative variation of parameters"
   ]
  },
  {
   "cell_type": "code",
   "execution_count": 3,
   "metadata": {
    "collapsed": true
   },
   "outputs": [],
   "source": [
    "#good model for cifar??"
   ]
  },
  {
   "cell_type": "code",
   "execution_count": 4,
   "metadata": {
    "collapsed": false
   },
   "outputs": [
    {
     "name": "stdout",
     "output_type": "stream",
     "text": [
      "Input shape: (50000, 32, 32, 3)\n"
     ]
    }
   ],
   "source": [
    "from keras.datasets import cifar10\n",
    "(X_train, Z_train), (X_test, Z_test) = cifar10.load_data()\n",
    "print(\"Input shape:\",X_train.shape)"
   ]
  },
  {
   "cell_type": "code",
   "execution_count": 5,
   "metadata": {
    "collapsed": false
   },
   "outputs": [
    {
     "data": {
      "text/plain": [
       "(50000, 32, 32, 3)"
      ]
     },
     "execution_count": 5,
     "metadata": {},
     "output_type": "execute_result"
    }
   ],
   "source": [
    "Xstd_train = X_train.astype(DTYPE_OP)/255\n",
    "Xstd_test = X_test.astype(DTYPE_OP)/255\n",
    "Z_train = Z_train[:,0]\n",
    "Z_test = Z_test[:,0]\n",
    "\n",
    "Z_train_onehot = keras.utils.to_categorical(Z_train)\n",
    "Z_test_onehot = keras.utils.to_categorical(Z_test)\n",
    "\n",
    "Xstd_train.shape"
   ]
  },
  {
   "cell_type": "code",
   "execution_count": 6,
   "metadata": {
    "collapsed": false
   },
   "outputs": [],
   "source": [
    "from code.learning_models import LogisticRegression_Sklearn,LogisticRegression_Keras,MLP_Keras\n",
    "#deep learning\n",
    "from code.learning_models import default_CNN,default_RNN,default_RNNw_emb,CNN_simple, RNN_simple\n",
    "\n",
    "from code.utils import EarlyStopRelative\n",
    "ourCallback = EarlyStopRelative(monitor='loss',patience=1,min_delta=TOL)\n"
   ]
  },
  {
   "cell_type": "code",
   "execution_count": 7,
   "metadata": {
    "collapsed": false,
    "scrolled": true
   },
   "outputs": [
    {
     "name": "stdout",
     "output_type": "stream",
     "text": [
      "Train on 50000 samples, validate on 10000 samples\n",
      "Epoch 1/50\n",
      "50000/50000 [==============================] - 15s 300us/step - loss: 1.3578 - acc: 0.5279 - val_loss: 0.9601 - val_acc: 0.6615\n",
      "Epoch 2/50\n",
      "50000/50000 [==============================] - 11s 226us/step - loss: 0.9296 - acc: 0.6720 - val_loss: 0.9101 - val_acc: 0.6789\n",
      "Epoch 3/50\n",
      "50000/50000 [==============================] - 11s 227us/step - loss: 0.7880 - acc: 0.7211 - val_loss: 0.8071 - val_acc: 0.7226\n",
      "Epoch 4/50\n",
      "50000/50000 [==============================] - 11s 227us/step - loss: 0.7120 - acc: 0.7494 - val_loss: 1.1151 - val_acc: 0.6371\n",
      "Epoch 5/50\n",
      "50000/50000 [==============================] - 11s 227us/step - loss: 0.6427 - acc: 0.7731 - val_loss: 0.7301 - val_acc: 0.7461\n",
      "Epoch 6/50\n",
      "50000/50000 [==============================] - 11s 227us/step - loss: 0.5943 - acc: 0.7928 - val_loss: 0.6854 - val_acc: 0.7644\n",
      "Epoch 7/50\n",
      "50000/50000 [==============================] - 11s 227us/step - loss: 0.5392 - acc: 0.8078 - val_loss: 0.6582 - val_acc: 0.7778\n",
      "Epoch 8/50\n",
      "50000/50000 [==============================] - 11s 226us/step - loss: 0.5001 - acc: 0.8230 - val_loss: 0.6146 - val_acc: 0.7870\n",
      "Epoch 9/50\n",
      "50000/50000 [==============================] - 11s 227us/step - loss: 0.4608 - acc: 0.8355 - val_loss: 0.6082 - val_acc: 0.7940\n",
      "Epoch 10/50\n",
      "50000/50000 [==============================] - 11s 227us/step - loss: 0.4269 - acc: 0.8498 - val_loss: 0.6335 - val_acc: 0.7899\n",
      "Epoch 11/50\n",
      "50000/50000 [==============================] - 11s 226us/step - loss: 0.3990 - acc: 0.8587 - val_loss: 0.6103 - val_acc: 0.8014\n",
      "Epoch 12/50\n",
      "50000/50000 [==============================] - 11s 226us/step - loss: 0.3761 - acc: 0.8658 - val_loss: 0.6529 - val_acc: 0.7896\n",
      "Epoch 13/50\n",
      "50000/50000 [==============================] - 11s 227us/step - loss: 0.3494 - acc: 0.8753 - val_loss: 0.5871 - val_acc: 0.8054\n",
      "Epoch 14/50\n",
      "50000/50000 [==============================] - 11s 227us/step - loss: 0.3321 - acc: 0.8828 - val_loss: 0.6331 - val_acc: 0.7983\n",
      "Epoch 15/50\n",
      "50000/50000 [==============================] - 11s 227us/step - loss: 0.3131 - acc: 0.8892 - val_loss: 0.6049 - val_acc: 0.8026\n",
      "Epoch 16/50\n",
      "50000/50000 [==============================] - 11s 227us/step - loss: 0.2945 - acc: 0.8948 - val_loss: 0.6216 - val_acc: 0.8038\n",
      "Epoch 17/50\n",
      "50000/50000 [==============================] - 11s 227us/step - loss: 0.2831 - acc: 0.8986 - val_loss: 0.6375 - val_acc: 0.8025\n",
      "Epoch 18/50\n",
      "50000/50000 [==============================] - 11s 226us/step - loss: 0.2754 - acc: 0.9011 - val_loss: 0.6997 - val_acc: 0.7887\n"
     ]
    },
    {
     "data": {
      "text/plain": [
       "<keras.callbacks.History at 0x7fcad01c5eb8>"
      ]
     },
     "execution_count": 7,
     "metadata": {},
     "output_type": "execute_result"
    }
   ],
   "source": [
    "\n",
    "#model_UB = default_CNN(Xstd_train.shape[1:],Z_train_onehot.shape[1])\n",
    "model_UB = CNN_simple(Xstd_train.shape[1:],Z_train_onehot.shape[1],32,2,double=True,BN=True,drop=0.25) #CP\n",
    "\n",
    "\n",
    "model_UB.compile(loss='categorical_crossentropy',optimizer=OPT,metrics=[\"acc\"])\n",
    "model_UB.fit(Xstd_train,Z_train_onehot,epochs=EPOCHS_BASE,batch_size=BATCH_SIZE,verbose=1,callbacks=[ourCallback],\n",
    "            validation_data=(Xstd_test,Z_test_onehot))"
   ]
  },
  {
   "cell_type": "code",
   "execution_count": 8,
   "metadata": {
    "collapsed": false
   },
   "outputs": [
    {
     "name": "stdout",
     "output_type": "stream",
     "text": [
      "*** Upper bound -- Ideal (Train with GT) ***\n",
      "Train\n",
      "A result\n",
      " +----+--------+------------+--------------+\n",
      "|    |        |   Accuracy |   F1 (micro) |\n",
      "|----+--------+------------+--------------|\n",
      "|  0 | Global |     0.9467 |       0.9467 |\n",
      "+----+--------+------------+--------------+\n",
      "Test\n",
      "A result\n",
      " +----+--------+------------+--------------+\n",
      "|    |        |   Accuracy |   F1 (micro) |\n",
      "|----+--------+------------+--------------|\n",
      "|  0 | Global |     0.7887 |       0.7887 |\n",
      "+----+--------+------------+--------------+\n"
     ]
    }
   ],
   "source": [
    "evaluate = Evaluation_metrics(model_UB,'keras',Xstd_train.shape[0])\n",
    "print(\"*** Upper bound -- Ideal (Train with GT) ***\")\n",
    "\n",
    "print(\"Train\")\n",
    "Z_train_pred = model_UB.predict_classes(Xstd_train)\n",
    "results1 = evaluate.calculate_metrics(Z=Z_train,Z_pred=Z_train_pred)\n",
    "\n",
    "print(\"Test\")\n",
    "Z_test_pred = model_UB.predict_classes(Xstd_test)\n",
    "results2 = evaluate.calculate_metrics(Z=Z_test,Z_pred=Z_test_pred)"
   ]
  },
  {
   "cell_type": "code",
   "execution_count": 9,
   "metadata": {
    "collapsed": false,
    "scrolled": true
   },
   "outputs": [
    {
     "name": "stdout",
     "output_type": "stream",
     "text": [
      "Train on 50000 samples, validate on 10000 samples\n",
      "Epoch 1/50\n",
      "50000/50000 [==============================] - 16s 330us/step - loss: 1.4811 - acc: 0.4809 - val_loss: 1.3100 - val_acc: 0.5601\n",
      "Epoch 2/50\n",
      "50000/50000 [==============================] - 13s 266us/step - loss: 0.9859 - acc: 0.6513 - val_loss: 0.8576 - val_acc: 0.6989\n",
      "Epoch 3/50\n",
      "50000/50000 [==============================] - 13s 265us/step - loss: 0.8061 - acc: 0.7167 - val_loss: 0.8274 - val_acc: 0.7175\n",
      "Epoch 4/50\n",
      "50000/50000 [==============================] - 13s 266us/step - loss: 0.7013 - acc: 0.7539 - val_loss: 0.7710 - val_acc: 0.7343\n",
      "Epoch 5/50\n",
      "50000/50000 [==============================] - 13s 266us/step - loss: 0.6274 - acc: 0.7819 - val_loss: 0.6191 - val_acc: 0.7841\n",
      "Epoch 6/50\n",
      "50000/50000 [==============================] - 13s 266us/step - loss: 0.5713 - acc: 0.8006 - val_loss: 0.6269 - val_acc: 0.7849\n",
      "Epoch 7/50\n",
      "50000/50000 [==============================] - 13s 265us/step - loss: 0.5208 - acc: 0.8181 - val_loss: 0.6550 - val_acc: 0.7793\n",
      "Epoch 8/50\n",
      "50000/50000 [==============================] - 13s 265us/step - loss: 0.4791 - acc: 0.8318 - val_loss: 0.5895 - val_acc: 0.8013\n",
      "Epoch 9/50\n",
      "50000/50000 [==============================] - 13s 265us/step - loss: 0.4442 - acc: 0.8434 - val_loss: 0.5703 - val_acc: 0.8072\n",
      "Epoch 10/50\n",
      "50000/50000 [==============================] - 13s 266us/step - loss: 0.4136 - acc: 0.8542 - val_loss: 0.6679 - val_acc: 0.7815\n",
      "Epoch 11/50\n",
      "50000/50000 [==============================] - 13s 265us/step - loss: 0.3909 - acc: 0.8626 - val_loss: 0.5014 - val_acc: 0.8312\n",
      "Epoch 12/50\n",
      "50000/50000 [==============================] - 13s 266us/step - loss: 0.3640 - acc: 0.8714 - val_loss: 0.5474 - val_acc: 0.8225\n",
      "Epoch 13/50\n",
      "50000/50000 [==============================] - 13s 266us/step - loss: 0.3381 - acc: 0.8798 - val_loss: 0.5430 - val_acc: 0.8258\n",
      "Epoch 14/50\n",
      "50000/50000 [==============================] - 13s 266us/step - loss: 0.3204 - acc: 0.8856 - val_loss: 0.5251 - val_acc: 0.8352\n",
      "Epoch 15/50\n",
      "50000/50000 [==============================] - 13s 265us/step - loss: 0.3036 - acc: 0.8913 - val_loss: 0.5604 - val_acc: 0.8235\n",
      "Epoch 16/50\n",
      "50000/50000 [==============================] - 13s 266us/step - loss: 0.2892 - acc: 0.8987 - val_loss: 0.5736 - val_acc: 0.8269\n",
      "Epoch 17/50\n",
      "50000/50000 [==============================] - 13s 266us/step - loss: 0.2703 - acc: 0.9035 - val_loss: 0.5461 - val_acc: 0.8343\n",
      "Epoch 18/50\n",
      "50000/50000 [==============================] - 13s 266us/step - loss: 0.2629 - acc: 0.9063 - val_loss: 0.5450 - val_acc: 0.8380\n",
      "*** Upper bound -- Ideal (Train with GT) ***\n",
      "Train\n",
      "A result\n",
      " +----+--------+------------+--------------+\n",
      "|    |        |   Accuracy |   F1 (micro) |\n",
      "|----+--------+------------+--------------|\n",
      "|  0 | Global |     0.9575 |       0.9575 |\n",
      "+----+--------+------------+--------------+\n",
      "Test\n",
      "A result\n",
      " +----+--------+------------+--------------+\n",
      "|    |        |   Accuracy |   F1 (micro) |\n",
      "|----+--------+------------+--------------|\n",
      "|  0 | Global |      0.838 |        0.838 |\n",
      "+----+--------+------------+--------------+\n"
     ]
    }
   ],
   "source": [
    "\n",
    "#model_UB = default_CNN(Xstd_train.shape[1:],Z_train_onehot.shape[1])\n",
    "model_UB = CNN_simple(Xstd_train.shape[1:],Z_train_onehot.shape[1],32,3,double=True,BN=True,drop=0.25) #CP\n",
    "\n",
    "\n",
    "model_UB.compile(loss='categorical_crossentropy',optimizer=OPT,metrics=[\"acc\"])\n",
    "model_UB.fit(Xstd_train,Z_train_onehot,epochs=EPOCHS_BASE,batch_size=BATCH_SIZE,verbose=1,callbacks=[ourCallback],\n",
    "            validation_data=(Xstd_test,Z_test_onehot))\n",
    "\n",
    "evaluate = Evaluation_metrics(model_UB,'keras',Xstd_train.shape[0])\n",
    "print(\"*** Upper bound -- Ideal (Train with GT) ***\")\n",
    "\n",
    "print(\"Train\")\n",
    "Z_train_pred = model_UB.predict_classes(Xstd_train)\n",
    "results1 = evaluate.calculate_metrics(Z=Z_train,Z_pred=Z_train_pred)\n",
    "\n",
    "print(\"Test\")\n",
    "Z_test_pred = model_UB.predict_classes(Xstd_test)\n",
    "results2 = evaluate.calculate_metrics(Z=Z_test,Z_pred=Z_test_pred)"
   ]
  },
  {
   "cell_type": "code",
   "execution_count": 10,
   "metadata": {
    "collapsed": false,
    "scrolled": true
   },
   "outputs": [
    {
     "name": "stdout",
     "output_type": "stream",
     "text": [
      "Train on 50000 samples, validate on 10000 samples\n",
      "Epoch 1/50\n",
      "50000/50000 [==============================] - 15s 293us/step - loss: 1.5368 - acc: 0.4925 - val_loss: 1.6968 - val_acc: 0.4654\n",
      "Epoch 2/50\n",
      "50000/50000 [==============================] - 12s 239us/step - loss: 1.0209 - acc: 0.6402 - val_loss: 0.9095 - val_acc: 0.6810\n",
      "Epoch 3/50\n",
      "50000/50000 [==============================] - 12s 238us/step - loss: 0.8565 - acc: 0.6992 - val_loss: 0.9029 - val_acc: 0.6904\n",
      "Epoch 4/50\n",
      "50000/50000 [==============================] - 12s 238us/step - loss: 0.7623 - acc: 0.7312 - val_loss: 0.7408 - val_acc: 0.7412\n",
      "Epoch 5/50\n",
      "50000/50000 [==============================] - 12s 239us/step - loss: 0.6880 - acc: 0.7594 - val_loss: 0.7476 - val_acc: 0.7354\n",
      "Epoch 6/50\n",
      "50000/50000 [==============================] - 12s 239us/step - loss: 0.6297 - acc: 0.7790 - val_loss: 0.7264 - val_acc: 0.7549\n",
      "Epoch 7/50\n",
      "50000/50000 [==============================] - 12s 240us/step - loss: 0.5754 - acc: 0.7971 - val_loss: 0.7403 - val_acc: 0.7539\n",
      "Epoch 8/50\n",
      "50000/50000 [==============================] - 12s 239us/step - loss: 0.5318 - acc: 0.8119 - val_loss: 0.6355 - val_acc: 0.7828\n",
      "Epoch 9/50\n",
      "50000/50000 [==============================] - 12s 239us/step - loss: 0.4861 - acc: 0.8287 - val_loss: 0.6435 - val_acc: 0.7846\n",
      "Epoch 10/50\n",
      "50000/50000 [==============================] - 12s 240us/step - loss: 0.4550 - acc: 0.8400 - val_loss: 0.6183 - val_acc: 0.7921\n",
      "Epoch 11/50\n",
      "50000/50000 [==============================] - 12s 239us/step - loss: 0.4174 - acc: 0.8531 - val_loss: 0.6366 - val_acc: 0.7878\n",
      "Epoch 12/50\n",
      "50000/50000 [==============================] - 12s 239us/step - loss: 0.3941 - acc: 0.8602 - val_loss: 0.6727 - val_acc: 0.7866\n",
      "Epoch 13/50\n",
      "50000/50000 [==============================] - 12s 238us/step - loss: 0.3620 - acc: 0.8711 - val_loss: 0.6093 - val_acc: 0.8068\n",
      "Epoch 14/50\n",
      "50000/50000 [==============================] - 12s 239us/step - loss: 0.3381 - acc: 0.8800 - val_loss: 0.5913 - val_acc: 0.8083\n",
      "Epoch 15/50\n",
      "50000/50000 [==============================] - 12s 238us/step - loss: 0.3188 - acc: 0.8867 - val_loss: 0.6265 - val_acc: 0.8040\n",
      "Epoch 16/50\n",
      "50000/50000 [==============================] - 12s 239us/step - loss: 0.3020 - acc: 0.8920 - val_loss: 0.5994 - val_acc: 0.8093\n",
      "Epoch 17/50\n",
      "50000/50000 [==============================] - 12s 239us/step - loss: 0.2788 - acc: 0.9008 - val_loss: 0.5732 - val_acc: 0.8138\n",
      "Epoch 18/50\n",
      "50000/50000 [==============================] - 12s 239us/step - loss: 0.2637 - acc: 0.9062 - val_loss: 0.5777 - val_acc: 0.8235\n",
      "Epoch 19/50\n",
      "50000/50000 [==============================] - 12s 239us/step - loss: 0.2589 - acc: 0.9069 - val_loss: 0.6276 - val_acc: 0.8082\n",
      "*** Upper bound -- Ideal (Train with GT) ***\n",
      "Train\n",
      "A result\n",
      " +----+--------+------------+--------------+\n",
      "|    |        |   Accuracy |   F1 (micro) |\n",
      "|----+--------+------------+--------------|\n",
      "|  0 | Global |    0.97408 |      0.97408 |\n",
      "+----+--------+------------+--------------+\n",
      "Test\n",
      "A result\n",
      " +----+--------+------------+--------------+\n",
      "|    |        |   Accuracy |   F1 (micro) |\n",
      "|----+--------+------------+--------------|\n",
      "|  0 | Global |     0.8082 |       0.8082 |\n",
      "+----+--------+------------+--------------+\n"
     ]
    }
   ],
   "source": [
    "model_UB = default_CNN(Xstd_train.shape[1:],Z_train_onehot.shape[1])\n",
    "\n",
    "model_UB.compile(loss='categorical_crossentropy',optimizer=OPT,metrics=[\"acc\"])\n",
    "model_UB.fit(Xstd_train,Z_train_onehot,epochs=EPOCHS_BASE,batch_size=BATCH_SIZE,verbose=1,callbacks=[ourCallback],\n",
    "            validation_data=(Xstd_test,Z_test_onehot))\n",
    "\n",
    "evaluate = Evaluation_metrics(model_UB,'keras',Xstd_train.shape[0])\n",
    "print(\"*** Upper bound -- Ideal (Train with GT) ***\")\n",
    "\n",
    "print(\"Train\")\n",
    "Z_train_pred = model_UB.predict_classes(Xstd_train)\n",
    "results1 = evaluate.calculate_metrics(Z=Z_train,Z_pred=Z_train_pred)\n",
    "\n",
    "print(\"Test\")\n",
    "Z_test_pred = model_UB.predict_classes(Xstd_test)\n",
    "results2 = evaluate.calculate_metrics(Z=Z_test,Z_pred=Z_test_pred)"
   ]
  },
  {
   "cell_type": "code",
   "execution_count": 11,
   "metadata": {
    "collapsed": false,
    "scrolled": true
   },
   "outputs": [
    {
     "name": "stdout",
     "output_type": "stream",
     "text": [
      "Train on 50000 samples, validate on 10000 samples\n",
      "Epoch 1/50\n",
      "50000/50000 [==============================] - 23s 462us/step - loss: 1.3303 - acc: 0.5354 - val_loss: 1.2033 - val_acc: 0.5856\n",
      "Epoch 2/50\n",
      "50000/50000 [==============================] - 20s 399us/step - loss: 0.8823 - acc: 0.6901 - val_loss: 0.9696 - val_acc: 0.6732\n",
      "Epoch 3/50\n",
      "50000/50000 [==============================] - 20s 400us/step - loss: 0.7436 - acc: 0.7408 - val_loss: 1.0348 - val_acc: 0.6614\n",
      "Epoch 4/50\n",
      "50000/50000 [==============================] - 20s 399us/step - loss: 0.6483 - acc: 0.7728 - val_loss: 0.6331 - val_acc: 0.7775\n",
      "Epoch 5/50\n",
      "50000/50000 [==============================] - 20s 399us/step - loss: 0.5680 - acc: 0.8020 - val_loss: 1.6317 - val_acc: 0.5536\n",
      "Epoch 6/50\n",
      "50000/50000 [==============================] - 20s 399us/step - loss: 0.5011 - acc: 0.8256 - val_loss: 0.6177 - val_acc: 0.7964\n",
      "Epoch 7/50\n",
      "50000/50000 [==============================] - 20s 399us/step - loss: 0.4439 - acc: 0.8435 - val_loss: 0.6177 - val_acc: 0.8022\n",
      "Epoch 8/50\n",
      "50000/50000 [==============================] - 20s 399us/step - loss: 0.4058 - acc: 0.8573 - val_loss: 1.0183 - val_acc: 0.7075\n",
      "Epoch 9/50\n",
      "50000/50000 [==============================] - 20s 400us/step - loss: 0.3595 - acc: 0.8748 - val_loss: 0.5983 - val_acc: 0.8074\n",
      "Epoch 10/50\n",
      "50000/50000 [==============================] - 20s 400us/step - loss: 0.3227 - acc: 0.8864 - val_loss: 0.5922 - val_acc: 0.8134\n",
      "Epoch 11/50\n",
      "50000/50000 [==============================] - 20s 401us/step - loss: 0.2943 - acc: 0.8972 - val_loss: 0.7208 - val_acc: 0.7812\n",
      "Epoch 12/50\n",
      "50000/50000 [==============================] - 20s 400us/step - loss: 0.2699 - acc: 0.9027 - val_loss: 0.5844 - val_acc: 0.8233\n",
      "Epoch 13/50\n",
      "50000/50000 [==============================] - 20s 399us/step - loss: 0.2461 - acc: 0.9141 - val_loss: 0.8080 - val_acc: 0.7795\n",
      "Epoch 14/50\n",
      "50000/50000 [==============================] - 20s 399us/step - loss: 0.2271 - acc: 0.9198 - val_loss: 0.5994 - val_acc: 0.8139\n",
      "Epoch 15/50\n",
      "50000/50000 [==============================] - 20s 399us/step - loss: 0.2110 - acc: 0.9246 - val_loss: 0.7293 - val_acc: 0.7905\n",
      "Epoch 16/50\n",
      "50000/50000 [==============================] - 20s 399us/step - loss: 0.1977 - acc: 0.9285 - val_loss: 0.5872 - val_acc: 0.8232\n",
      "Epoch 17/50\n",
      "50000/50000 [==============================] - 20s 399us/step - loss: 0.1836 - acc: 0.9350 - val_loss: 0.6424 - val_acc: 0.8152\n",
      "Epoch 18/50\n",
      "50000/50000 [==============================] - 20s 399us/step - loss: 0.1733 - acc: 0.9388 - val_loss: 0.6118 - val_acc: 0.8285\n",
      "Epoch 19/50\n",
      "50000/50000 [==============================] - 20s 399us/step - loss: 0.1661 - acc: 0.9413 - val_loss: 0.8123 - val_acc: 0.7817\n",
      "Epoch 20/50\n",
      "50000/50000 [==============================] - 20s 399us/step - loss: 0.1633 - acc: 0.9422 - val_loss: 0.6449 - val_acc: 0.8203\n",
      "*** Upper bound -- Ideal (Train with GT) ***\n",
      "Train\n",
      "A result\n",
      " +----+--------+------------+--------------+\n",
      "|    |        |   Accuracy |   F1 (micro) |\n",
      "|----+--------+------------+--------------|\n",
      "|  0 | Global |    0.98442 |      0.98442 |\n",
      "+----+--------+------------+--------------+\n",
      "Test\n",
      "A result\n",
      " +----+--------+------------+--------------+\n",
      "|    |        |   Accuracy |   F1 (micro) |\n",
      "|----+--------+------------+--------------|\n",
      "|  0 | Global |     0.8203 |       0.8203 |\n",
      "+----+--------+------------+--------------+\n"
     ]
    }
   ],
   "source": [
    "model_UB = CNN_simple(Xstd_train.shape[1:],Z_train_onehot.shape[1],64,2,double=True,BN=True,drop=0.3) #CP\n",
    "\n",
    "\n",
    "model_UB.compile(loss='categorical_crossentropy',optimizer=OPT,metrics=[\"acc\"])\n",
    "model_UB.fit(Xstd_train,Z_train_onehot,epochs=EPOCHS_BASE,batch_size=BATCH_SIZE,verbose=1,callbacks=[ourCallback],\n",
    "            validation_data=(Xstd_test,Z_test_onehot))\n",
    "\n",
    "evaluate = Evaluation_metrics(model_UB,'keras',Xstd_train.shape[0])\n",
    "print(\"*** Upper bound -- Ideal (Train with GT) ***\")\n",
    "\n",
    "print(\"Train\")\n",
    "Z_train_pred = model_UB.predict_classes(Xstd_train)\n",
    "results1 = evaluate.calculate_metrics(Z=Z_train,Z_pred=Z_train_pred)\n",
    "\n",
    "print(\"Test\")\n",
    "Z_test_pred = model_UB.predict_classes(Xstd_test)\n",
    "results2 = evaluate.calculate_metrics(Z=Z_test,Z_pred=Z_test_pred)"
   ]
  },
  {
   "cell_type": "code",
   "execution_count": null,
   "metadata": {
    "collapsed": true
   },
   "outputs": [],
   "source": []
  },
  {
   "cell_type": "code",
   "execution_count": 12,
   "metadata": {
    "collapsed": false,
    "scrolled": true
   },
   "outputs": [
    {
     "name": "stdout",
     "output_type": "stream",
     "text": [
      "Train on 50000 samples, validate on 10000 samples\n",
      "Epoch 1/50\n",
      "50000/50000 [==============================] - 28s 570us/step - loss: 1.3614 - acc: 0.5256 - val_loss: 1.2373 - val_acc: 0.5857\n",
      "Epoch 2/50\n",
      "50000/50000 [==============================] - 25s 491us/step - loss: 0.8623 - acc: 0.6989 - val_loss: 0.8006 - val_acc: 0.7250\n",
      "Epoch 3/50\n",
      "50000/50000 [==============================] - 25s 491us/step - loss: 0.6929 - acc: 0.7584 - val_loss: 0.8146 - val_acc: 0.7173\n",
      "Epoch 4/50\n",
      "50000/50000 [==============================] - 25s 491us/step - loss: 0.5950 - acc: 0.7931 - val_loss: 1.1782 - val_acc: 0.6296\n",
      "Epoch 5/50\n",
      "50000/50000 [==============================] - 25s 492us/step - loss: 0.5147 - acc: 0.8215 - val_loss: 0.5837 - val_acc: 0.8013\n",
      "Epoch 6/50\n",
      "50000/50000 [==============================] - 25s 491us/step - loss: 0.4458 - acc: 0.8461 - val_loss: 0.5566 - val_acc: 0.8145\n",
      "Epoch 7/50\n",
      "50000/50000 [==============================] - 25s 493us/step - loss: 0.4061 - acc: 0.8595 - val_loss: 0.6114 - val_acc: 0.8017\n",
      "Epoch 8/50\n",
      "50000/50000 [==============================] - 25s 491us/step - loss: 0.3513 - acc: 0.8775 - val_loss: 0.5701 - val_acc: 0.8186\n",
      "Epoch 9/50\n",
      "50000/50000 [==============================] - 25s 492us/step - loss: 0.3152 - acc: 0.8911 - val_loss: 0.5805 - val_acc: 0.8143\n",
      "Epoch 10/50\n",
      "50000/50000 [==============================] - 25s 492us/step - loss: 0.2816 - acc: 0.9013 - val_loss: 0.4958 - val_acc: 0.8443\n",
      "Epoch 11/50\n",
      "50000/50000 [==============================] - 25s 492us/step - loss: 0.2554 - acc: 0.9104 - val_loss: 0.5441 - val_acc: 0.8340\n",
      "Epoch 12/50\n",
      "50000/50000 [==============================] - 25s 492us/step - loss: 0.2268 - acc: 0.9200 - val_loss: 0.5437 - val_acc: 0.8363\n",
      "Epoch 13/50\n",
      "50000/50000 [==============================] - 25s 492us/step - loss: 0.2036 - acc: 0.9289 - val_loss: 0.6539 - val_acc: 0.8084\n",
      "Epoch 14/50\n",
      "50000/50000 [==============================] - 25s 493us/step - loss: 0.1950 - acc: 0.9295 - val_loss: 0.7880 - val_acc: 0.7900\n",
      "Epoch 15/50\n",
      "50000/50000 [==============================] - 25s 491us/step - loss: 0.1688 - acc: 0.9408 - val_loss: 0.5006 - val_acc: 0.8575\n",
      "Epoch 16/50\n",
      "50000/50000 [==============================] - 25s 492us/step - loss: 0.1547 - acc: 0.9441 - val_loss: 0.5477 - val_acc: 0.8473\n",
      "Epoch 17/50\n",
      "50000/50000 [==============================] - 25s 493us/step - loss: 0.1512 - acc: 0.9465 - val_loss: 0.6346 - val_acc: 0.8292\n",
      "*** Upper bound -- Ideal (Train with GT) ***\n",
      "Train\n",
      "A result\n",
      " +----+--------+------------+--------------+\n",
      "|    |        |   Accuracy |   F1 (micro) |\n",
      "|----+--------+------------+--------------|\n",
      "|  0 | Global |    0.95836 |      0.95836 |\n",
      "+----+--------+------------+--------------+\n",
      "Test\n",
      "A result\n",
      " +----+--------+------------+--------------+\n",
      "|    |        |   Accuracy |   F1 (micro) |\n",
      "|----+--------+------------+--------------|\n",
      "|  0 | Global |     0.8292 |       0.8292 |\n",
      "+----+--------+------------+--------------+\n"
     ]
    }
   ],
   "source": [
    "model_UB = CNN_simple(Xstd_train.shape[1:],Z_train_onehot.shape[1],64,3,double=True,BN=True,drop=0.3) #CP\n",
    "\n",
    "\n",
    "model_UB.compile(loss='categorical_crossentropy',optimizer=OPT,metrics=[\"acc\"])\n",
    "model_UB.fit(Xstd_train,Z_train_onehot,epochs=EPOCHS_BASE,batch_size=BATCH_SIZE,verbose=1,callbacks=[ourCallback],\n",
    "            validation_data=(Xstd_test,Z_test_onehot))\n",
    "\n",
    "evaluate = Evaluation_metrics(model_UB,'keras',Xstd_train.shape[0])\n",
    "print(\"*** Upper bound -- Ideal (Train with GT) ***\")\n",
    "\n",
    "print(\"Train\")\n",
    "Z_train_pred = model_UB.predict_classes(Xstd_train)\n",
    "results1 = evaluate.calculate_metrics(Z=Z_train,Z_pred=Z_train_pred)\n",
    "\n",
    "print(\"Test\")\n",
    "Z_test_pred = model_UB.predict_classes(Xstd_test)\n",
    "results2 = evaluate.calculate_metrics(Z=Z_test,Z_pred=Z_test_pred)"
   ]
  },
  {
   "cell_type": "code",
   "execution_count": 15,
   "metadata": {
    "collapsed": false,
    "scrolled": true
   },
   "outputs": [
    {
     "name": "stdout",
     "output_type": "stream",
     "text": [
      "Train on 50000 samples, validate on 10000 samples\n",
      "Epoch 1/50\n",
      "50000/50000 [==============================] - 18s 351us/step - loss: 1.5346 - acc: 0.4615 - val_loss: 1.4965 - val_acc: 0.4949\n",
      "Epoch 2/50\n",
      "50000/50000 [==============================] - 13s 270us/step - loss: 1.0243 - acc: 0.6361 - val_loss: 1.1586 - val_acc: 0.5977\n",
      "Epoch 3/50\n",
      "50000/50000 [==============================] - 13s 270us/step - loss: 0.8343 - acc: 0.7078 - val_loss: 0.8764 - val_acc: 0.6985\n",
      "Epoch 4/50\n",
      "50000/50000 [==============================] - 13s 270us/step - loss: 0.7334 - acc: 0.7426 - val_loss: 0.7334 - val_acc: 0.7466\n",
      "Epoch 5/50\n",
      "50000/50000 [==============================] - 13s 270us/step - loss: 0.6678 - acc: 0.7659 - val_loss: 0.7159 - val_acc: 0.7530\n",
      "Epoch 6/50\n",
      "50000/50000 [==============================] - 14s 270us/step - loss: 0.6083 - acc: 0.7884 - val_loss: 0.6144 - val_acc: 0.7926\n",
      "Epoch 7/50\n",
      "50000/50000 [==============================] - 13s 269us/step - loss: 0.5673 - acc: 0.8017 - val_loss: 0.7006 - val_acc: 0.7684\n",
      "Epoch 8/50\n",
      "50000/50000 [==============================] - 13s 270us/step - loss: 0.5283 - acc: 0.8166 - val_loss: 0.5451 - val_acc: 0.8129\n",
      "Epoch 9/50\n",
      "50000/50000 [==============================] - 14s 272us/step - loss: 0.4922 - acc: 0.8286 - val_loss: 0.5853 - val_acc: 0.8000\n",
      "Epoch 10/50\n",
      "50000/50000 [==============================] - 15s 290us/step - loss: 0.4622 - acc: 0.8378 - val_loss: 0.5376 - val_acc: 0.8223\n",
      "Epoch 11/50\n",
      "50000/50000 [==============================] - 14s 278us/step - loss: 0.4377 - acc: 0.8463 - val_loss: 0.5202 - val_acc: 0.8226\n",
      "Epoch 12/50\n",
      "50000/50000 [==============================] - 14s 285us/step - loss: 0.4153 - acc: 0.8533 - val_loss: 0.5622 - val_acc: 0.8162\n",
      "Epoch 13/50\n",
      "50000/50000 [==============================] - 14s 279us/step - loss: 0.3918 - acc: 0.8620 - val_loss: 0.5057 - val_acc: 0.8327\n",
      "Epoch 14/50\n",
      "50000/50000 [==============================] - 14s 271us/step - loss: 0.3717 - acc: 0.8692 - val_loss: 0.4770 - val_acc: 0.8410\n",
      "Epoch 15/50\n",
      "50000/50000 [==============================] - 14s 277us/step - loss: 0.3515 - acc: 0.8755 - val_loss: 0.5145 - val_acc: 0.8348\n",
      "Epoch 16/50\n",
      "50000/50000 [==============================] - 14s 278us/step - loss: 0.3412 - acc: 0.8790 - val_loss: 0.5296 - val_acc: 0.8322\n",
      "*** Upper bound -- Ideal (Train with GT) ***\n",
      "Train\n",
      "A result\n",
      " +----+--------+------------+--------------+\n",
      "|    |        |   Accuracy |   F1 (micro) |\n",
      "|----+--------+------------+--------------|\n",
      "|  0 | Global |    0.91974 |      0.91974 |\n",
      "+----+--------+------------+--------------+\n",
      "Test\n",
      "A result\n",
      " +----+--------+------------+--------------+\n",
      "|    |        |   Accuracy |   F1 (micro) |\n",
      "|----+--------+------------+--------------|\n",
      "|  0 | Global |     0.8322 |       0.8322 |\n",
      "+----+--------+------------+--------------+\n"
     ]
    }
   ],
   "source": [
    "\n",
    "from keras.models import Sequential,Model\n",
    "from keras.layers import *\n",
    "#weight_decay = 1e-4\n",
    "model = Sequential() \n",
    "model.add(InputLayer(input_shape=Xstd_train.shape[1:]))\n",
    "model.add(Conv2D(32,(3,3),strides=1,padding='same',activation='relu'))\n",
    "model.add(BatchNormalization())\n",
    "model.add(Conv2D(32,(3,3),strides=1,padding='same',activation='relu'))\n",
    "model.add(BatchNormalization())\n",
    "model.add(MaxPooling2D(2,2))\n",
    "model.add(Dropout(0.25))\n",
    "\n",
    "model.add(Conv2D(64,(3,3),strides=1,padding='same',activation='relu'))\n",
    "model.add(BatchNormalization())\n",
    "model.add(Conv2D(64,(3,3),strides=1,padding='same',activation='relu'))\n",
    "model.add(BatchNormalization())\n",
    "model.add(MaxPooling2D(2,2))\n",
    "model.add(Dropout(0.3))\n",
    "\n",
    "model.add(Conv2D(128,(3,3),strides=1,padding='same',activation='relu'))\n",
    "model.add(BatchNormalization())\n",
    "model.add(Conv2D(128,(3,3),strides=1,padding='same',activation='relu'))\n",
    "model.add(BatchNormalization())\n",
    "model.add(MaxPooling2D(2,2))\n",
    "model.add(Dropout(0.35))\n",
    "\n",
    "model.add(Flatten())\n",
    "model.add(Dense(128,activation='relu'))\n",
    "model.add(BatchNormalization())\n",
    "model.add(Dropout(0.25)) #maybe more 512 y 0.5 d dropa\n",
    "model.add(Dense(Z_train_onehot.shape[1], activation='softmax'))      \n",
    "\n",
    "model.compile(loss='categorical_crossentropy',optimizer=OPT,metrics=[\"acc\"])\n",
    "model.fit(Xstd_train,Z_train_onehot,epochs=EPOCHS_BASE,batch_size=BATCH_SIZE,verbose=1,callbacks=[ourCallback],\n",
    "            validation_data=(Xstd_test,Z_test_onehot))\n",
    "\n",
    "evaluate = Evaluation_metrics(model,'keras',Xstd_train.shape[0])\n",
    "print(\"*** Upper bound -- Ideal (Train with GT) ***\")\n",
    "\n",
    "print(\"Train\")\n",
    "Z_train_pred = model.predict_classes(Xstd_train)\n",
    "results1 = evaluate.calculate_metrics(Z=Z_train,Z_pred=Z_train_pred)\n",
    "\n",
    "print(\"Test\")\n",
    "Z_test_pred = model.predict_classes(Xstd_test)\n",
    "results2 = evaluate.calculate_metrics(Z=Z_test,Z_pred=Z_test_pred)"
   ]
  },
  {
   "cell_type": "code",
   "execution_count": 18,
   "metadata": {
    "collapsed": false,
    "scrolled": true
   },
   "outputs": [
    {
     "name": "stdout",
     "output_type": "stream",
     "text": [
      "Train on 50000 samples, validate on 10000 samples\n",
      "Epoch 1/50\n",
      "50000/50000 [==============================] - 24s 486us/step - loss: 1.3588 - acc: 0.5276 - val_loss: 1.1415 - val_acc: 0.5989\n",
      "Epoch 2/50\n",
      "50000/50000 [==============================] - 20s 405us/step - loss: 0.8922 - acc: 0.6869 - val_loss: 0.9261 - val_acc: 0.6762\n",
      "Epoch 3/50\n",
      "50000/50000 [==============================] - 20s 407us/step - loss: 0.7512 - acc: 0.7368 - val_loss: 0.9613 - val_acc: 0.6629\n",
      "Epoch 4/50\n",
      "50000/50000 [==============================] - 20s 406us/step - loss: 0.6581 - acc: 0.7699 - val_loss: 0.7519 - val_acc: 0.7430\n",
      "Epoch 5/50\n",
      "50000/50000 [==============================] - 20s 406us/step - loss: 0.5882 - acc: 0.7954 - val_loss: 0.8171 - val_acc: 0.7305\n",
      "Epoch 6/50\n",
      "50000/50000 [==============================] - 20s 408us/step - loss: 0.5270 - acc: 0.8164 - val_loss: 0.6243 - val_acc: 0.7858\n",
      "Epoch 7/50\n",
      "50000/50000 [==============================] - 20s 408us/step - loss: 0.4771 - acc: 0.8322 - val_loss: 0.6289 - val_acc: 0.7876\n",
      "Epoch 8/50\n",
      "50000/50000 [==============================] - 20s 408us/step - loss: 0.4305 - acc: 0.8501 - val_loss: 0.7045 - val_acc: 0.7722\n",
      "Epoch 9/50\n",
      "50000/50000 [==============================] - 20s 406us/step - loss: 0.3948 - acc: 0.8612 - val_loss: 0.7915 - val_acc: 0.7472\n",
      "Epoch 10/50\n",
      "50000/50000 [==============================] - 20s 407us/step - loss: 0.3637 - acc: 0.8718 - val_loss: 0.5773 - val_acc: 0.8080\n",
      "Epoch 11/50\n",
      "50000/50000 [==============================] - 20s 407us/step - loss: 0.3306 - acc: 0.8840 - val_loss: 0.6111 - val_acc: 0.8030\n",
      "Epoch 12/50\n",
      "50000/50000 [==============================] - 20s 407us/step - loss: 0.3104 - acc: 0.8894 - val_loss: 0.6198 - val_acc: 0.8010\n",
      "Epoch 13/50\n",
      "50000/50000 [==============================] - 20s 407us/step - loss: 0.2912 - acc: 0.8969 - val_loss: 0.5900 - val_acc: 0.8106\n",
      "Epoch 14/50\n",
      "50000/50000 [==============================] - 20s 407us/step - loss: 0.2704 - acc: 0.9027 - val_loss: 0.5741 - val_acc: 0.8256\n",
      "Epoch 15/50\n",
      "50000/50000 [==============================] - 20s 406us/step - loss: 0.2493 - acc: 0.9121 - val_loss: 0.5815 - val_acc: 0.8184\n",
      "Epoch 16/50\n",
      "50000/50000 [==============================] - 20s 409us/step - loss: 0.2334 - acc: 0.9166 - val_loss: 0.7077 - val_acc: 0.7911\n",
      "Epoch 17/50\n",
      "50000/50000 [==============================] - 20s 406us/step - loss: 0.2202 - acc: 0.9206 - val_loss: 0.5480 - val_acc: 0.8338\n",
      "Epoch 18/50\n",
      "50000/50000 [==============================] - 20s 408us/step - loss: 0.2156 - acc: 0.9232 - val_loss: 0.5695 - val_acc: 0.8207\n",
      "*** Upper bound -- Ideal (Train with GT) ***\n",
      "Train\n",
      "A result\n",
      " +----+--------+------------+--------------+\n",
      "|    |        |   Accuracy |   F1 (micro) |\n",
      "|----+--------+------------+--------------|\n",
      "|  0 | Global |    0.97004 |      0.97004 |\n",
      "+----+--------+------------+--------------+\n",
      "Test\n",
      "A result\n",
      " +----+--------+------------+--------------+\n",
      "|    |        |   Accuracy |   F1 (micro) |\n",
      "|----+--------+------------+--------------|\n",
      "|  0 | Global |     0.8207 |       0.8207 |\n",
      "+----+--------+------------+--------------+\n"
     ]
    }
   ],
   "source": [
    "#weight_decay = 1e-4\n",
    "model = Sequential() \n",
    "model.add(InputLayer(input_shape=Xstd_train.shape[1:]))\n",
    "model.add(Conv2D(64,(3,3),strides=1,padding='same',activation='relu'))\n",
    "model.add(BatchNormalization())\n",
    "model.add(Conv2D(64,(3,3),strides=1,padding='same',activation='relu'))\n",
    "model.add(BatchNormalization())\n",
    "model.add(MaxPooling2D(2,2))\n",
    "model.add(Dropout(0.3))\n",
    "\n",
    "model.add(Conv2D(128,(3,3),strides=1,padding='same',activation='relu'))\n",
    "model.add(BatchNormalization())\n",
    "model.add(Conv2D(128,(3,3),strides=1,padding='same',activation='relu'))\n",
    "model.add(BatchNormalization())\n",
    "model.add(MaxPooling2D(2,2))\n",
    "model.add(Dropout(0.4))\n",
    "\n",
    "model.add(Flatten())\n",
    "model.add(Dense(128,activation='relu'))\n",
    "model.add(BatchNormalization())\n",
    "model.add(Dropout(0.3)) #maybe more 512 y 0.5 d dropa\n",
    "model.add(Dense(Z_train_onehot.shape[1], activation='softmax'))      \n",
    "\n",
    "model.compile(loss='categorical_crossentropy',optimizer=OPT,metrics=[\"acc\"])\n",
    "model.fit(Xstd_train,Z_train_onehot,epochs=EPOCHS_BASE,batch_size=BATCH_SIZE,verbose=1,callbacks=[ourCallback],\n",
    "            validation_data=(Xstd_test,Z_test_onehot))\n",
    "\n",
    "evaluate = Evaluation_metrics(model,'keras',Xstd_train.shape[0])\n",
    "print(\"*** Upper bound -- Ideal (Train with GT) ***\")\n",
    "\n",
    "print(\"Train\")\n",
    "Z_train_pred = model.predict_classes(Xstd_train)\n",
    "results1 = evaluate.calculate_metrics(Z=Z_train,Z_pred=Z_train_pred)\n",
    "\n",
    "print(\"Test\")\n",
    "Z_test_pred = model.predict_classes(Xstd_test)\n",
    "results2 = evaluate.calculate_metrics(Z=Z_test,Z_pred=Z_test_pred)"
   ]
  },
  {
   "cell_type": "code",
   "execution_count": 19,
   "metadata": {
    "collapsed": false,
    "scrolled": true
   },
   "outputs": [
    {
     "name": "stdout",
     "output_type": "stream",
     "text": [
      "Train on 50000 samples, validate on 10000 samples\n",
      "Epoch 1/50\n",
      "50000/50000 [==============================] - 19s 372us/step - loss: 1.7439 - acc: 0.4013 - val_loss: 2.1411 - val_acc: 0.3270\n",
      "Epoch 2/50\n",
      "50000/50000 [==============================] - 14s 276us/step - loss: 1.1989 - acc: 0.5724 - val_loss: 1.0572 - val_acc: 0.6258\n",
      "Epoch 3/50\n",
      "50000/50000 [==============================] - 14s 276us/step - loss: 1.0006 - acc: 0.6455 - val_loss: 1.2467 - val_acc: 0.6010\n",
      "Epoch 4/50\n",
      "50000/50000 [==============================] - 14s 275us/step - loss: 0.8768 - acc: 0.6890 - val_loss: 0.7644 - val_acc: 0.7371\n",
      "Epoch 5/50\n",
      "50000/50000 [==============================] - 14s 275us/step - loss: 0.7942 - acc: 0.7205 - val_loss: 0.8261 - val_acc: 0.7198\n",
      "Epoch 6/50\n",
      "50000/50000 [==============================] - 14s 275us/step - loss: 0.7350 - acc: 0.7421 - val_loss: 0.6889 - val_acc: 0.7560\n",
      "Epoch 7/50\n",
      "50000/50000 [==============================] - 14s 277us/step - loss: 0.6892 - acc: 0.7618 - val_loss: 0.6675 - val_acc: 0.7699\n",
      "Epoch 8/50\n",
      "50000/50000 [==============================] - 14s 276us/step - loss: 0.6488 - acc: 0.7744 - val_loss: 0.6644 - val_acc: 0.7670\n",
      "Epoch 9/50\n",
      "50000/50000 [==============================] - 14s 276us/step - loss: 0.6153 - acc: 0.7851 - val_loss: 0.8810 - val_acc: 0.7204\n",
      "Epoch 10/50\n",
      "50000/50000 [==============================] - 14s 276us/step - loss: 0.5854 - acc: 0.7974 - val_loss: 0.5502 - val_acc: 0.8161\n",
      "Epoch 11/50\n",
      "50000/50000 [==============================] - 14s 275us/step - loss: 0.5557 - acc: 0.8069 - val_loss: 0.6132 - val_acc: 0.7918\n",
      "Epoch 12/50\n",
      "50000/50000 [==============================] - 14s 275us/step - loss: 0.5349 - acc: 0.8158 - val_loss: 0.5258 - val_acc: 0.8252\n",
      "Epoch 13/50\n",
      "50000/50000 [==============================] - 14s 275us/step - loss: 0.5179 - acc: 0.8206 - val_loss: 0.5520 - val_acc: 0.8112\n",
      "Epoch 14/50\n",
      "50000/50000 [==============================] - 14s 276us/step - loss: 0.4952 - acc: 0.8285 - val_loss: 0.5280 - val_acc: 0.8195\n",
      "Epoch 15/50\n",
      "50000/50000 [==============================] - 14s 276us/step - loss: 0.4763 - acc: 0.8348 - val_loss: 0.5709 - val_acc: 0.8094\n",
      "Epoch 16/50\n",
      "50000/50000 [==============================] - 14s 275us/step - loss: 0.4662 - acc: 0.8375 - val_loss: 0.5113 - val_acc: 0.8274\n",
      "*** Upper bound -- Ideal (Train with GT) ***\n",
      "Train\n",
      "A result\n",
      " +----+--------+------------+--------------+\n",
      "|    |        |   Accuracy |   F1 (micro) |\n",
      "|----+--------+------------+--------------|\n",
      "|  0 | Global |     0.8934 |       0.8934 |\n",
      "+----+--------+------------+--------------+\n",
      "Test\n",
      "A result\n",
      " +----+--------+------------+--------------+\n",
      "|    |        |   Accuracy |   F1 (micro) |\n",
      "|----+--------+------------+--------------|\n",
      "|  0 | Global |     0.8274 |       0.8274 |\n",
      "+----+--------+------------+--------------+\n"
     ]
    }
   ],
   "source": [
    "\n",
    "#model_UB = default_CNN(Xstd_train.shape[1:],Z_train_onehot.shape[1])\n",
    "model_UB = CNN_simple(Xstd_train.shape[1:],Z_train_onehot.shape[1],32,3,double=True,BN=True,drop=0.4) #CP\n",
    "\n",
    "\n",
    "model_UB.compile(loss='categorical_crossentropy',optimizer=OPT,metrics=[\"acc\"])\n",
    "model_UB.fit(Xstd_train,Z_train_onehot,epochs=EPOCHS_BASE,batch_size=BATCH_SIZE,verbose=1,callbacks=[ourCallback],\n",
    "            validation_data=(Xstd_test,Z_test_onehot))\n",
    "\n",
    "evaluate = Evaluation_metrics(model_UB,'keras',Xstd_train.shape[0])\n",
    "print(\"*** Upper bound -- Ideal (Train with GT) ***\")\n",
    "\n",
    "print(\"Train\")\n",
    "Z_train_pred = model_UB.predict_classes(Xstd_train)\n",
    "results1 = evaluate.calculate_metrics(Z=Z_train,Z_pred=Z_train_pred)\n",
    "\n",
    "print(\"Test\")\n",
    "Z_test_pred = model_UB.predict_classes(Xstd_test)\n",
    "results2 = evaluate.calculate_metrics(Z=Z_test,Z_pred=Z_test_pred)"
   ]
  },
  {
   "cell_type": "code",
   "execution_count": 23,
   "metadata": {
    "collapsed": false,
    "scrolled": true
   },
   "outputs": [
    {
     "name": "stdout",
     "output_type": "stream",
     "text": [
      "Train on 50000 samples, validate on 10000 samples\n",
      "Epoch 1/50\n",
      "50000/50000 [==============================] - 20s 396us/step - loss: 1.5816 - acc: 0.4714 - val_loss: 1.3938 - val_acc: 0.5253\n",
      "Epoch 2/50\n",
      "50000/50000 [==============================] - 14s 283us/step - loss: 1.0797 - acc: 0.6405 - val_loss: 1.0639 - val_acc: 0.6655\n",
      "Epoch 3/50\n",
      "50000/50000 [==============================] - 14s 281us/step - loss: 0.8869 - acc: 0.7124 - val_loss: 0.8548 - val_acc: 0.7298\n",
      "Epoch 4/50\n",
      "50000/50000 [==============================] - 14s 281us/step - loss: 0.7923 - acc: 0.7503 - val_loss: 0.8203 - val_acc: 0.7428\n",
      "Epoch 5/50\n",
      "50000/50000 [==============================] - 14s 281us/step - loss: 0.7250 - acc: 0.7744 - val_loss: 0.8580 - val_acc: 0.7360\n",
      "Epoch 6/50\n",
      "50000/50000 [==============================] - 14s 280us/step - loss: 0.6799 - acc: 0.7935 - val_loss: 0.9542 - val_acc: 0.7246\n",
      "Epoch 7/50\n",
      "50000/50000 [==============================] - 14s 280us/step - loss: 0.6372 - acc: 0.8113 - val_loss: 0.6931 - val_acc: 0.7997\n",
      "Epoch 8/50\n",
      "50000/50000 [==============================] - 14s 280us/step - loss: 0.5984 - acc: 0.8289 - val_loss: 0.7043 - val_acc: 0.8026\n",
      "Epoch 9/50\n",
      "50000/50000 [==============================] - 14s 281us/step - loss: 0.5769 - acc: 0.8386 - val_loss: 0.6794 - val_acc: 0.8100\n",
      "Epoch 10/50\n",
      "50000/50000 [==============================] - 14s 280us/step - loss: 0.5561 - acc: 0.8468 - val_loss: 0.7179 - val_acc: 0.8037\n",
      "Epoch 11/50\n",
      "50000/50000 [==============================] - 14s 281us/step - loss: 0.5407 - acc: 0.8578 - val_loss: 0.7458 - val_acc: 0.8030\n",
      "*** Upper bound -- Ideal (Train with GT) ***\n",
      "Train\n",
      "A result\n",
      " +----+--------+------------+--------------+\n",
      "|    |        |   Accuracy |   F1 (micro) |\n",
      "|----+--------+------------+--------------|\n",
      "|  0 | Global |     0.8781 |       0.8781 |\n",
      "+----+--------+------------+--------------+\n",
      "Test\n",
      "A result\n",
      " +----+--------+------------+--------------+\n",
      "|    |        |   Accuracy |   F1 (micro) |\n",
      "|----+--------+------------+--------------|\n",
      "|  0 | Global |      0.803 |        0.803 |\n",
      "+----+--------+------------+--------------+\n"
     ]
    }
   ],
   "source": [
    "#a model with weight decay?\n",
    "from keras import regularizers\n",
    "weight_decay = 1e-4\n",
    "model = Sequential() \n",
    "model.add(InputLayer(input_shape=Xstd_train.shape[1:]))\n",
    "model.add(Conv2D(32,(3,3),strides=1,padding='same',activation='relu',kernel_regularizer=regularizers.l2(weight_decay)))\n",
    "model.add(BatchNormalization())\n",
    "model.add(Conv2D(32,(3,3),strides=1,padding='same',activation='relu',kernel_regularizer=regularizers.l2(weight_decay)))\n",
    "model.add(BatchNormalization())\n",
    "model.add(MaxPooling2D(2,2))\n",
    "model.add(Dropout(0.25))\n",
    "\n",
    "model.add(Conv2D(64,(3,3),strides=1,padding='same',activation='relu',kernel_regularizer=regularizers.l2(weight_decay)))\n",
    "model.add(BatchNormalization())\n",
    "model.add(Conv2D(64,(3,3),strides=1,padding='same',activation='relu',kernel_regularizer=regularizers.l2(weight_decay)))\n",
    "model.add(BatchNormalization())\n",
    "model.add(MaxPooling2D(2,2))\n",
    "model.add(Dropout(0.25))\n",
    "\n",
    "model.add(Conv2D(128,(3,3),strides=1,padding='same',activation='relu',kernel_regularizer=regularizers.l2(weight_decay)))\n",
    "model.add(BatchNormalization())\n",
    "model.add(Conv2D(128,(3,3),strides=1,padding='same',activation='relu',kernel_regularizer=regularizers.l2(weight_decay)))\n",
    "model.add(BatchNormalization())\n",
    "model.add(MaxPooling2D(2,2))\n",
    "model.add(Dropout(0.25))\n",
    "\n",
    "model.add(Flatten())\n",
    "model.add(Dense(128,activation='relu',kernel_regularizer=regularizers.l2(weight_decay)))\n",
    "model.add(BatchNormalization())\n",
    "model.add(Dropout(0.25)) #maybe more 512 y 0.5 d dropa\n",
    "model.add(Dense(Z_train_onehot.shape[1], activation='softmax'))      \n",
    "\n",
    "model.compile(loss='categorical_crossentropy',optimizer=OPT,metrics=[\"acc\"])\n",
    "model.fit(Xstd_train,Z_train_onehot,epochs=EPOCHS_BASE,batch_size=BATCH_SIZE,verbose=1,callbacks=[ourCallback],\n",
    "            validation_data=(Xstd_test,Z_test_onehot))\n",
    "\n",
    "evaluate = Evaluation_metrics(model,'keras',Xstd_train.shape[0])\n",
    "print(\"*** Upper bound -- Ideal (Train with GT) ***\")\n",
    "\n",
    "print(\"Train\")\n",
    "Z_train_pred = model.predict_classes(Xstd_train)\n",
    "results1 = evaluate.calculate_metrics(Z=Z_train,Z_pred=Z_train_pred)\n",
    "\n",
    "print(\"Test\")\n",
    "Z_test_pred = model.predict_classes(Xstd_test)\n",
    "results2 = evaluate.calculate_metrics(Z=Z_test,Z_pred=Z_test_pred)"
   ]
  },
  {
   "cell_type": "code",
   "execution_count": 8,
   "metadata": {
    "collapsed": false
   },
   "outputs": [],
   "source": [
    "from code.learning_models import through_VGG\n",
    "new_train = through_VGG(X_train.astype('float32'))\n",
    "new_test = through_VGG(X_test.astype('float32'))"
   ]
  },
  {
   "cell_type": "code",
   "execution_count": 22,
   "metadata": {
    "collapsed": false
   },
   "outputs": [
    {
     "data": {
      "text/plain": [
       "(50000, 512)"
      ]
     },
     "execution_count": 22,
     "metadata": {},
     "output_type": "execute_result"
    }
   ],
   "source": [
    "new_train.shape"
   ]
  },
  {
   "cell_type": "code",
   "execution_count": 9,
   "metadata": {
    "collapsed": false
   },
   "outputs": [],
   "source": [
    "#standar scaler new train?\n",
    "from sklearn.preprocessing import StandardScaler\n",
    "std = StandardScaler()\n",
    "new_train = std.fit_transform(new_train)\n",
    "new_test = std.transform(new_test)"
   ]
  },
  {
   "cell_type": "code",
   "execution_count": null,
   "metadata": {
    "collapsed": true
   },
   "outputs": [],
   "source": []
  },
  {
   "cell_type": "code",
   "execution_count": 21,
   "metadata": {
    "collapsed": false,
    "scrolled": true
   },
   "outputs": [
    {
     "name": "stdout",
     "output_type": "stream",
     "text": [
      "Train on 50000 samples, validate on 10000 samples\n",
      "Epoch 1/50\n",
      "50000/50000 [==============================] - 1s - loss: 1.4908 - acc: 0.5283 - val_loss: 1.0164 - val_acc: 0.6450\n",
      "Epoch 2/50\n",
      "50000/50000 [==============================] - 1s - loss: 1.0853 - acc: 0.6204 - val_loss: 0.9569 - val_acc: 0.6666\n",
      "Epoch 3/50\n",
      "50000/50000 [==============================] - 1s - loss: 0.9919 - acc: 0.6499 - val_loss: 0.9331 - val_acc: 0.6736\n",
      "Epoch 4/50\n",
      "50000/50000 [==============================] - 1s - loss: 0.9469 - acc: 0.6658 - val_loss: 0.9265 - val_acc: 0.6752\n",
      "Epoch 5/50\n",
      "50000/50000 [==============================] - 1s - loss: 0.9156 - acc: 0.6758 - val_loss: 0.9164 - val_acc: 0.6808\n",
      "Epoch 6/50\n",
      "50000/50000 [==============================] - 1s - loss: 0.8867 - acc: 0.6847 - val_loss: 0.9141 - val_acc: 0.6801\n",
      "Epoch 7/50\n",
      "50000/50000 [==============================] - 1s - loss: 0.8624 - acc: 0.6918 - val_loss: 0.9017 - val_acc: 0.6885\n"
     ]
    },
    {
     "data": {
      "text/plain": [
       "<keras.callbacks.History at 0x7fc4fa3551d0>"
      ]
     },
     "execution_count": 21,
     "metadata": {},
     "output_type": "execute_result"
    }
   ],
   "source": [
    "model_UB = MLP_Keras(new_train.shape[1:],Z_train_onehot.shape[1],512,2,BN=True,drop=0.5)\n",
    "\n",
    "model_UB.compile(loss='categorical_crossentropy',optimizer=OPT,metrics=[\"acc\"])\n",
    "model_UB.fit(new_train,Z_train_onehot,epochs=EPOCHS_BASE,batch_size=BATCH_SIZE,verbose=1,callbacks=[ourCallback],\n",
    "            validation_data=(new_test,Z_test_onehot))"
   ]
  }
 ],
 "metadata": {
  "anaconda-cloud": {},
  "kernelspec": {
   "display_name": "Python [conda env:tesis]",
   "language": "python",
   "name": "conda-env-tesis-py"
  },
  "language_info": {
   "codemirror_mode": {
    "name": "ipython",
    "version": 3
   },
   "file_extension": ".py",
   "mimetype": "text/x-python",
   "name": "python",
   "nbconvert_exporter": "python",
   "pygments_lexer": "ipython3",
   "version": "3.5.3"
  }
 },
 "nbformat": 4,
 "nbformat_minor": 2
}
