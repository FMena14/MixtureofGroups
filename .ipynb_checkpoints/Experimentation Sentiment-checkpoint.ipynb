{
 "cells": [
  {
   "cell_type": "code",
   "execution_count": 1,
   "metadata": {
    "scrolled": true
   },
   "outputs": [
    {
     "name": "stderr",
     "output_type": "stream",
     "text": [
      "Using TensorFlow backend.\n"
     ]
    }
   ],
   "source": [
    "import numpy as np\n",
    "import pandas as pd\n",
    "import matplotlib.pyplot as plt\n",
    "import seaborn as sns\n",
    "import keras, time, sys, os, gc\n",
    "\n",
    "DTYPE_OP = 'float32'\n",
    "keras.backend.set_floatx(DTYPE_OP)\n",
    "\n",
    "if DTYPE_OP == 'float64':\n",
    "    keras.backend.set_epsilon(np.finfo(np.float64).eps)\n",
    "elif DTYPE_OP == 'float32':\n",
    "    keras.backend.set_epsilon(np.finfo(np.float32).eps)"
   ]
  },
  {
   "cell_type": "code",
   "execution_count": 2,
   "metadata": {},
   "outputs": [],
   "source": [
    "#GLOBAL Variables\n",
    "BATCH_SIZE = 128 \n",
    "EPOCHS_BASE = 50 #or 100\n",
    "OPT = 'adam' #optimizer for neural network \n",
    "TOL = 3e-2"
   ]
  },
  {
   "cell_type": "code",
   "execution_count": 3,
   "metadata": {},
   "outputs": [],
   "source": [
    "#folder = \"./Sentiment/twitter/\"\n",
    "folder = \"./Sentiment/rotten//\""
   ]
  },
  {
   "cell_type": "markdown",
   "metadata": {},
   "source": [
    "### Load Data and preprocess"
   ]
  },
  {
   "cell_type": "code",
   "execution_count": 4,
   "metadata": {},
   "outputs": [
    {
     "name": "stdout",
     "output_type": "stream",
     "text": [
      "Num. train texts: 4999\n",
      "Num. test texts:  3999\n"
     ]
    }
   ],
   "source": [
    "import re\n",
    "FLAGS = re.MULTILINE | re.DOTALL\n",
    "def allcaps(text):\n",
    "    text = text.group()\n",
    "    return text.lower() + \" <allcaps>\"\n",
    "def tokenize(text):\n",
    "    # Different regex parts for smiley faces\n",
    "    eyes = r\"[8:=;]\"\n",
    "    nose = r\"['`\\-]?\"\n",
    "    def re_sub(pattern, repl):\n",
    "        return re.sub(pattern, repl, text, flags=FLAGS)\n",
    "\n",
    "    text = re_sub(r\"https?:\\/\\/\\S+\\b|www\\.(\\w+\\.)+\\S*\", \"<url>\")\n",
    "    text = re_sub(r\"/\",\" / \")\n",
    "    text = re_sub(r\"@\\w+\", \"<user>\")\n",
    "    text = re_sub(r\"{}{}[)dD]+|[)dD]+{}{}\".format(eyes, nose, nose, eyes), \"<smile>\")\n",
    "    text = re_sub(r\"{}{}p+\".format(eyes, nose), \"<lolface>\")\n",
    "    text = re_sub(r\"{}{}\\(+|\\)+{}{}\".format(eyes, nose, nose, eyes), \"<sadface>\")\n",
    "    text = re_sub(r\"{}{}[\\/|l*]\".format(eyes, nose), \"<neutralface>\")\n",
    "    text = re_sub(r\"<3\",\"<heart>\")\n",
    "    text = re_sub(r\"[-+]?[.\\d]*[\\d]+[:,.\\d]*\", \"<number>\")\n",
    "    text = re_sub(r\"#\\S+\", \"<hashtag>\")\n",
    "    text = re_sub(r\"([!?.]){2,}\", r\"\\1 <repeat>\")\n",
    "    text = re_sub(r\"\\b(\\S*?)(.)\\2{2,}\\b\", r\"\\1\\2 <elong>\")\n",
    "\n",
    "    ## -- I just don't understand why the Ruby script adds <allcaps> to everything so I limited the selection.\n",
    "    # text = re_sub(r\"([^a-z0-9()<>'`\\-]){2,}\", allcaps)\n",
    "    text = re_sub(r\"([A-Z]){2,}\", allcaps)\n",
    "    return text.lower()\n",
    "\n",
    "def read_texts(filename):\n",
    "    f = open(filename)\n",
    "    data = [line.strip() for line in f]\n",
    "    f.close()\n",
    "    return data\n",
    "\n",
    "#texts_train = [tokenize(text) for text in read_texts(folder+\"texts_train.txt\")]\n",
    "texts_train = read_texts(folder+\"texts_train.txt\")\n",
    "#texts_test = [tokenize(text) for text in read_texts(folder+\"texts_test.txt\")]\n",
    "texts_test = read_texts(folder+\"texts_test.txt\")\n",
    "\n",
    "Z_train = np.loadtxt(folder+\"sent_train.txt\", dtype='int')\n",
    "Z_test = np.loadtxt(folder+\"sent_test.txt\", dtype='int')\n",
    "\n",
    "print(\"Num. train texts: %d\" % len(texts_train))\n",
    "print(\"Num. test texts:  %d\" % len(texts_test))"
   ]
  },
  {
   "cell_type": "code",
   "execution_count": 5,
   "metadata": {},
   "outputs": [
    {
     "data": {
      "image/png": "[encoded data removed]",
      "text/plain": [
       "<Figure size 432x288 with 1 Axes>"
      ]
     },
     "metadata": {},
     "output_type": "display_data"
    }
   ],
   "source": [
    "sns.countplot(Z_train)\n",
    "plt.show()"
   ]
  },
  {
   "cell_type": "code",
   "execution_count": 5,
   "metadata": {},
   "outputs": [
    {
     "name": "stdout",
     "output_type": "stream",
     "text": [
      "Found 14096 unique tokens.\n"
     ]
    }
   ],
   "source": [
    "from keras import preprocessing\n",
    "MAX_NB_WORDS = 14000\n",
    "tokenizer = preprocessing.text.Tokenizer(num_words=MAX_NB_WORDS)\n",
    "tokenizer.fit_on_texts(texts_train+texts_test)\n",
    "sequences_train = tokenizer.texts_to_sequences(texts_train)\n",
    "sequences_test = tokenizer.texts_to_sequences(texts_test)\n",
    "#MAX_NB_WORDS = len(tokenizer.word_index)\n",
    "print('Found %s unique tokens.' % len(tokenizer.word_index))"
   ]
  },
  {
   "cell_type": "code",
   "execution_count": 6,
   "metadata": {},
   "outputs": [
    {
     "data": {
      "text/plain": [
       "(-100, 13000)"
      ]
     },
     "execution_count": 6,
     "metadata": {},
     "output_type": "execute_result"
    },
    {
     "data": {
      "image/png": "[encoded data removed]",
      "text/plain": [
       "<Figure size 432x288 with 1 Axes>"
      ]
     },
     "metadata": {},
     "output_type": "display_data"
    }
   ],
   "source": [
    "aux = np.asarray(list(tokenizer.word_counts.values()))\n",
    "plt.plot(np.sort(aux)[::-1])\n",
    "plt.xlim(-100,MAX_NB_WORDS)"
   ]
  },
  {
   "cell_type": "code",
   "execution_count": 6,
   "metadata": {},
   "outputs": [
    {
     "name": "stdout",
     "output_type": "stream",
     "text": [
      "Real max:  51\n",
      "Used max:  50\n",
      "Shape of train tensor: (4999, 50)\n"
     ]
    }
   ],
   "source": [
    "lens = list(map(len,sequences_train))\n",
    "max_L = np.max(lens)\n",
    "print(\"Real max: \",max_L)\n",
    "max_L = 50 \n",
    "print(\"Used max: \",max_L)\n",
    "\n",
    "X_train = preprocessing.sequence.pad_sequences(sequences_train, maxlen=max_L,dtype='int32', value=0,padding='pre')\n",
    "X_test = preprocessing.sequence.pad_sequences(sequences_test, maxlen=max_L,dtype='int32', value=0,padding='pre')\n",
    "print('Shape of train tensor:', X_train.shape)"
   ]
  },
  {
   "cell_type": "code",
   "execution_count": 12,
   "metadata": {},
   "outputs": [
    {
     "data": {
      "image/png": "[encoded data removed]",
      "text/plain": [
       "<Figure size 432x288 with 1 Axes>"
      ]
     },
     "metadata": {},
     "output_type": "display_data"
    }
   ],
   "source": [
    "plt.boxplot(lens)\n",
    "plt.show()"
   ]
  },
  {
   "cell_type": "code",
   "execution_count": 7,
   "metadata": {},
   "outputs": [
    {
     "name": "stdout",
     "output_type": "stream",
     "text": [
      "Preparing embedding matrix.\n",
      "Words found on glove:  12935\n"
     ]
    }
   ],
   "source": [
    "EMBEDDING_DIM = 300\n",
    "GLOVE_FILE = \"../GLOVE/glove.6B.%dd.txt\"%(EMBEDDING_DIM)\n",
    "#GLOVE_FILE = \"../AUX_DATA/glove.twitter.27B/glove.twitter.27B.%dd.txt\"%(EMBEDDING_DIM)\n",
    "\n",
    "embeddings_index = {}\n",
    "with open(GLOVE_FILE) as file:\n",
    "    for line in file:\n",
    "        values = line.split()\n",
    "        coefs = np.asarray(values[1:], dtype='float32')\n",
    "        embeddings_index[values[0]] = coefs\n",
    "print('Preparing embedding matrix.')\n",
    "sorted_x = sorted(tokenizer.word_counts.items(), key=lambda kv: kv[1], reverse=True)\n",
    "vocab = {value[0]:tokenizer.word_index[value[0]] for i, value in enumerate(sorted_x) if i < MAX_NB_WORDS}\n",
    "embedding_matrix = np.zeros((len(vocab)+1, EMBEDDING_DIM))\n",
    "v=0\n",
    "for word, i in vocab.items():\n",
    "    embedding_vector = embeddings_index.get(word)\n",
    "    if embedding_vector is not None:\n",
    "        embedding_matrix[i] = embedding_vector # words not found in embedding index will be all-zeros.\n",
    "        v+=1\n",
    "del embeddings_index, sorted_x, tokenizer\n",
    "gc.collect()\n",
    "print(\"Words found on glove: \",v)"
   ]
  },
  {
   "cell_type": "markdown",
   "metadata": {},
   "source": [
    "### Load annotations / Generate"
   ]
  },
  {
   "cell_type": "code",
   "execution_count": 8,
   "metadata": {},
   "outputs": [],
   "source": [
    "from code.representation import *\n",
    "from code.utils import *"
   ]
  },
  {
   "cell_type": "code",
   "execution_count": 9,
   "metadata": {},
   "outputs": [
    {
     "name": "stdout",
     "output_type": "stream",
     "text": [
      "Loading AMT data...\n",
      "Shape (data,annotators):  (4999, 203)\n",
      "Classes:  2\n"
     ]
    }
   ],
   "source": [
    "print(\"Loading AMT data...\")\n",
    "y_obs = np.loadtxt(folder+\"answers.txt\", delimiter=' ', dtype='int16')\n",
    "T_weights = np.sum(y_obs != -1,axis=0) #distribucion de anotaciones\n",
    "\n",
    "N,T = y_obs.shape\n",
    "Kl = np.max(y_obs)+1 # asumiendo que estan ordenadas\n",
    "print(\"Shape (data,annotators): \",(N,T))\n",
    "print(\"Classes: \",Kl)"
   ]
  },
  {
   "cell_type": "code",
   "execution_count": null,
   "metadata": {},
   "outputs": [],
   "source": []
  },
  {
   "cell_type": "code",
   "execution_count": 10,
   "metadata": {
    "scrolled": true
   },
   "outputs": [
    {
     "data": {
      "text/plain": [
       "array([[[0.7058824 , 0.29411766],\n",
       "        [0.33333334, 0.6666667 ]],\n",
       "\n",
       "       [[0.94827586, 0.05172414],\n",
       "        [0.13733906, 0.86266094]],\n",
       "\n",
       "       [[0.9756098 , 0.02439024],\n",
       "        [0.10526316, 0.8947368 ]],\n",
       "\n",
       "       [[0.9306358 , 0.06936416],\n",
       "        [0.07629428, 0.9237057 ]],\n",
       "\n",
       "       [[0.94011974, 0.05988024],\n",
       "        [0.22839506, 0.77160496]],\n",
       "\n",
       "       [[0.6469111 , 0.3530889 ],\n",
       "        [0.16083916, 0.83916086]],\n",
       "\n",
       "       [[0.9344    , 0.0656    ],\n",
       "        [0.07922272, 0.92077726]],\n",
       "\n",
       "       [[0.8918919 , 0.10810811],\n",
       "        [0.11267605, 0.8873239 ]],\n",
       "\n",
       "       [[0.625     , 0.375     ],\n",
       "        [0.3809524 , 0.61904764]],\n",
       "\n",
       "       [[0.81389576, 0.18610422],\n",
       "        [0.13315926, 0.8668407 ]],\n",
       "\n",
       "       [[0.8372093 , 0.1627907 ],\n",
       "        [0.22891566, 0.7710843 ]],\n",
       "\n",
       "       [[0.89830506, 0.10169491],\n",
       "        [0.06      , 0.94      ]],\n",
       "\n",
       "       [[0.9122807 , 0.0877193 ],\n",
       "        [0.14655173, 0.8534483 ]],\n",
       "\n",
       "       [[0.9301165 , 0.06988353],\n",
       "        [0.12522046, 0.8747795 ]],\n",
       "\n",
       "       [[0.7702703 , 0.22972973],\n",
       "        [0.14285715, 0.85714287]],\n",
       "\n",
       "       [[0.9326923 , 0.0673077 ],\n",
       "        [0.11781609, 0.8821839 ]],\n",
       "\n",
       "       [[0.9285714 , 0.07142857],\n",
       "        [0.09090909, 0.90909094]],\n",
       "\n",
       "       [[0.9382716 , 0.0617284 ],\n",
       "        [0.06779661, 0.9322034 ]],\n",
       "\n",
       "       [[0.46153846, 0.53846157],\n",
       "        [0.25      , 0.75      ]],\n",
       "\n",
       "       [[0.7164179 , 0.2835821 ],\n",
       "        [0.11764706, 0.88235295]],\n",
       "\n",
       "       [[0.74358976, 0.25641027],\n",
       "        [0.07792208, 0.9220779 ]],\n",
       "\n",
       "       [[0.7916667 , 0.20833333],\n",
       "        [0.30476192, 0.6952381 ]],\n",
       "\n",
       "       [[0.7346939 , 0.26530612],\n",
       "        [0.3084112 , 0.69158876]],\n",
       "\n",
       "       [[0.375     , 0.625     ],\n",
       "        [0.2857143 , 0.71428573]],\n",
       "\n",
       "       [[0.83928573, 0.16071428],\n",
       "        [0.08474576, 0.91525424]],\n",
       "\n",
       "       [[0.7291667 , 0.27083334],\n",
       "        [0.20967741, 0.7903226 ]],\n",
       "\n",
       "       [[0.9480519 , 0.05194805],\n",
       "        [0.10294118, 0.89705884]],\n",
       "\n",
       "       [[0.75396824, 0.24603175],\n",
       "        [0.1120332 , 0.8879668 ]],\n",
       "\n",
       "       [[0.9166667 , 0.08333334],\n",
       "        [0.07692308, 0.9230769 ]],\n",
       "\n",
       "       [[0.5714286 , 0.42857143],\n",
       "        [0.1875    , 0.8125    ]],\n",
       "\n",
       "       [[0.7741935 , 0.22580644],\n",
       "        [0.06896552, 0.9310345 ]],\n",
       "\n",
       "       [[0.74444443, 0.25555557],\n",
       "        [0.20952381, 0.7904762 ]],\n",
       "\n",
       "       [[0.92      , 0.08      ],\n",
       "        [0.25      , 0.75      ]],\n",
       "\n",
       "       [[0.81578946, 0.18421052],\n",
       "        [0.16216215, 0.8378378 ]],\n",
       "\n",
       "       [[0.38636363, 0.6136364 ],\n",
       "        [0.18390805, 0.81609195]],\n",
       "\n",
       "       [[0.48818898, 0.511811  ],\n",
       "        [0.14285715, 0.85714287]],\n",
       "\n",
       "       [[0.6944444 , 0.30555555],\n",
       "        [0.14705883, 0.85294116]],\n",
       "\n",
       "       [[0.9130435 , 0.08695652],\n",
       "        [0.09090909, 0.90909094]],\n",
       "\n",
       "       [[0.9478261 , 0.05217391],\n",
       "        [0.05737705, 0.94262296]],\n",
       "\n",
       "       [[0.9032258 , 0.09677419],\n",
       "        [0.10344828, 0.8965517 ]],\n",
       "\n",
       "       [[0.93939394, 0.06060606],\n",
       "        [0.09090909, 0.90909094]],\n",
       "\n",
       "       [[0.90909094, 0.09090909],\n",
       "        [0.21052632, 0.7894737 ]],\n",
       "\n",
       "       [[0.375     , 0.625     ],\n",
       "        [0.14285715, 0.85714287]],\n",
       "\n",
       "       [[0.85714287, 0.14285715],\n",
       "        [0.33333334, 0.6666667 ]],\n",
       "\n",
       "       [[0.7222222 , 0.2777778 ],\n",
       "        [0.11111111, 0.8888889 ]],\n",
       "\n",
       "       [[0.9125    , 0.0875    ],\n",
       "        [0.12857144, 0.87142855]],\n",
       "\n",
       "       [[0.64705884, 0.3529412 ],\n",
       "        [0.22222222, 0.7777778 ]],\n",
       "\n",
       "       [[0.90909094, 0.09090909],\n",
       "        [0.2857143 , 0.71428573]],\n",
       "\n",
       "       [[0.8888889 , 0.11111111],\n",
       "        [0.10843374, 0.8915663 ]],\n",
       "\n",
       "       [[0.8875    , 0.1125    ],\n",
       "        [0.15      , 0.85      ]],\n",
       "\n",
       "       [[0.8       , 0.2       ],\n",
       "        [0.28      , 0.72      ]],\n",
       "\n",
       "       [[0.9032258 , 0.09677419],\n",
       "        [0.2647059 , 0.7352941 ]],\n",
       "\n",
       "       [[0.6666667 , 0.33333334],\n",
       "        [0.        , 1.        ]],\n",
       "\n",
       "       [[0.85714287, 0.14285715],\n",
       "        [0.        , 1.        ]],\n",
       "\n",
       "       [[1.        , 0.        ],\n",
       "        [0.        , 1.        ]],\n",
       "\n",
       "       [[1.        , 0.        ],\n",
       "        [0.        , 1.        ]],\n",
       "\n",
       "       [[0.71428573, 0.2857143 ],\n",
       "        [0.        , 1.        ]],\n",
       "\n",
       "       [[0.73333335, 0.26666668],\n",
       "        [0.25      , 0.75      ]],\n",
       "\n",
       "       [[0.36363637, 0.6363636 ],\n",
       "        [0.375     , 0.625     ]],\n",
       "\n",
       "       [[0.61538464, 0.3846154 ],\n",
       "        [0.13636364, 0.8636364 ]],\n",
       "\n",
       "       [[0.9230769 , 0.07692308],\n",
       "        [0.27272728, 0.72727275]],\n",
       "\n",
       "       [[0.        , 1.        ],\n",
       "        [0.33333334, 0.6666667 ]],\n",
       "\n",
       "       [[0.5       , 0.5       ],\n",
       "        [0.11111111, 0.8888889 ]],\n",
       "\n",
       "       [[0.6       , 0.4       ],\n",
       "        [0.4       , 0.6       ]],\n",
       "\n",
       "       [[0.6666667 , 0.33333334],\n",
       "        [0.15789473, 0.84210527]],\n",
       "\n",
       "       [[0.72      , 0.28      ],\n",
       "        [0.26666668, 0.73333335]],\n",
       "\n",
       "       [[0.22222222, 0.7777778 ],\n",
       "        [1.        , 0.        ]],\n",
       "\n",
       "       [[1.        , 0.        ],\n",
       "        [0.07142857, 0.9285714 ]],\n",
       "\n",
       "       [[0.33333334, 0.6666667 ],\n",
       "        [0.5       , 0.5       ]],\n",
       "\n",
       "       [[1.        , 0.        ],\n",
       "        [0.33333334, 0.6666667 ]],\n",
       "\n",
       "       [[0.33333334, 0.6666667 ],\n",
       "        [1.        , 0.        ]],\n",
       "\n",
       "       [[0.8       , 0.2       ],\n",
       "        [0.2       , 0.8       ]],\n",
       "\n",
       "       [[1.        , 0.        ],\n",
       "        [0.6666667 , 0.33333334]],\n",
       "\n",
       "       [[0.71428573, 0.2857143 ],\n",
       "        [0.        , 1.        ]],\n",
       "\n",
       "       [[0.25      , 0.75      ],\n",
       "        [0.14285715, 0.85714287]],\n",
       "\n",
       "       [[0.5       , 0.5       ],\n",
       "        [1.        , 0.        ]],\n",
       "\n",
       "       [[0.5       , 0.5       ],\n",
       "        [0.        , 1.        ]],\n",
       "\n",
       "       [[1.        , 0.        ],\n",
       "        [0.        , 1.        ]],\n",
       "\n",
       "       [[1.        , 0.        ],\n",
       "        [0.        , 1.        ]],\n",
       "\n",
       "       [[0.33333334, 0.6666667 ],\n",
       "        [0.        , 1.        ]],\n",
       "\n",
       "       [[1.        , 0.        ],\n",
       "        [0.        , 1.        ]],\n",
       "\n",
       "       [[1.        , 0.        ],\n",
       "        [0.33333334, 0.6666667 ]],\n",
       "\n",
       "       [[1.        , 0.        ],\n",
       "        [0.25      , 0.75      ]],\n",
       "\n",
       "       [[0.5       , 0.5       ],\n",
       "        [0.        , 1.        ]],\n",
       "\n",
       "       [[1.        , 0.        ],\n",
       "        [0.        , 1.        ]],\n",
       "\n",
       "       [[0.6739563 , 0.32604373],\n",
       "        [0.15711646, 0.8428835 ]],\n",
       "\n",
       "       [[0.85294116, 0.14705883],\n",
       "        [0.2835821 , 0.7164179 ]],\n",
       "\n",
       "       [[0.7647059 , 0.23529412],\n",
       "        [0.11111111, 0.8888889 ]],\n",
       "\n",
       "       [[0.75      , 0.25      ],\n",
       "        [0.16666667, 0.8333333 ]],\n",
       "\n",
       "       [[0.962963  , 0.03703704],\n",
       "        [0.14285715, 0.85714287]],\n",
       "\n",
       "       [[0.45238096, 0.54761904],\n",
       "        [0.17718941, 0.8228106 ]],\n",
       "\n",
       "       [[0.8776978 , 0.12230216],\n",
       "        [0.05405406, 0.9459459 ]],\n",
       "\n",
       "       [[0.4710145 , 0.5289855 ],\n",
       "        [0.23684211, 0.7631579 ]],\n",
       "\n",
       "       [[0.88414633, 0.11585366],\n",
       "        [0.12068965, 0.87931037]],\n",
       "\n",
       "       [[0.9121622 , 0.08783784],\n",
       "        [0.13375796, 0.86624205]],\n",
       "\n",
       "       [[0.82758623, 0.1724138 ],\n",
       "        [0.07692308, 0.9230769 ]],\n",
       "\n",
       "       [[0.8877551 , 0.1122449 ],\n",
       "        [0.16091955, 0.83908045]],\n",
       "\n",
       "       [[0.31923077, 0.6807692 ],\n",
       "        [0.20833333, 0.7916667 ]],\n",
       "\n",
       "       [[0.8770492 , 0.12295082],\n",
       "        [0.15254237, 0.84745765]],\n",
       "\n",
       "       [[0.6666667 , 0.33333334],\n",
       "        [0.06666667, 0.93333334]],\n",
       "\n",
       "       [[0.74390244, 0.25609756],\n",
       "        [0.11111111, 0.8888889 ]],\n",
       "\n",
       "       [[0.91812867, 0.08187135],\n",
       "        [0.07978723, 0.92021275]],\n",
       "\n",
       "       [[0.89873415, 0.10126583],\n",
       "        [0.1       , 0.9       ]],\n",
       "\n",
       "       [[0.7887324 , 0.2112676 ],\n",
       "        [0.10144927, 0.89855075]],\n",
       "\n",
       "       [[0.5102041 , 0.48979592],\n",
       "        [0.22916667, 0.7708333 ]],\n",
       "\n",
       "       [[0.8666667 , 0.13333334],\n",
       "        [0.1       , 0.9       ]],\n",
       "\n",
       "       [[0.90625   , 0.09375   ],\n",
       "        [0.07407407, 0.9259259 ]],\n",
       "\n",
       "       [[0.9307692 , 0.06923077],\n",
       "        [0.11875   , 0.88125   ]],\n",
       "\n",
       "       [[0.973913  , 0.02608696],\n",
       "        [0.08372093, 0.9162791 ]],\n",
       "\n",
       "       [[0.6330275 , 0.36697248],\n",
       "        [0.13541667, 0.8645833 ]],\n",
       "\n",
       "       [[0.9574468 , 0.04255319],\n",
       "        [0.0406504 , 0.9593496 ]],\n",
       "\n",
       "       [[1.        , 0.        ],\n",
       "        [0.11111111, 0.8888889 ]],\n",
       "\n",
       "       [[0.9444444 , 0.05555556],\n",
       "        [0.3529412 , 0.64705884]],\n",
       "\n",
       "       [[0.875     , 0.125     ],\n",
       "        [0.08695652, 0.9130435 ]],\n",
       "\n",
       "       [[0.70149255, 0.29850745],\n",
       "        [0.15277778, 0.8472222 ]],\n",
       "\n",
       "       [[0.96428573, 0.03571429],\n",
       "        [0.1875    , 0.8125    ]],\n",
       "\n",
       "       [[0.82539684, 0.17460318],\n",
       "        [0.03508772, 0.9649123 ]],\n",
       "\n",
       "       [[0.96      , 0.04      ],\n",
       "        [0.11428571, 0.8857143 ]],\n",
       "\n",
       "       [[0.9382716 , 0.0617284 ],\n",
       "        [0.11864407, 0.88135594]],\n",
       "\n",
       "       [[0.8367347 , 0.1632653 ],\n",
       "        [0.07142857, 0.9285714 ]],\n",
       "\n",
       "       [[0.8913044 , 0.10869565],\n",
       "        [0.07936508, 0.9206349 ]],\n",
       "\n",
       "       [[0.37662336, 0.6233766 ],\n",
       "        [0.38636363, 0.6136364 ]],\n",
       "\n",
       "       [[0.796875  , 0.203125  ],\n",
       "        [0.08928572, 0.91071427]],\n",
       "\n",
       "       [[0.9166667 , 0.08333334],\n",
       "        [0.23076923, 0.7692308 ]],\n",
       "\n",
       "       [[1.        , 0.        ],\n",
       "        [0.        , 1.        ]],\n",
       "\n",
       "       [[0.7941176 , 0.20588236],\n",
       "        [0.42857143, 0.5714286 ]],\n",
       "\n",
       "       [[0.9       , 0.1       ],\n",
       "        [0.06779661, 0.9322034 ]],\n",
       "\n",
       "       [[0.5263158 , 0.47368422],\n",
       "        [0.4375    , 0.5625    ]],\n",
       "\n",
       "       [[1.        , 0.        ],\n",
       "        [0.125     , 0.875     ]],\n",
       "\n",
       "       [[0.90384614, 0.09615385],\n",
       "        [0.12345679, 0.8765432 ]],\n",
       "\n",
       "       [[0.94827586, 0.05172414],\n",
       "        [0.21311475, 0.78688526]],\n",
       "\n",
       "       [[0.85714287, 0.14285715],\n",
       "        [0.125     , 0.875     ]],\n",
       "\n",
       "       [[1.        , 0.        ],\n",
       "        [0.2       , 0.8       ]],\n",
       "\n",
       "       [[0.65789473, 0.34210527],\n",
       "        [0.16216215, 0.8378378 ]],\n",
       "\n",
       "       [[0.8888889 , 0.11111111],\n",
       "        [0.        , 1.        ]],\n",
       "\n",
       "       [[0.875     , 0.125     ],\n",
       "        [0.2195122 , 0.7804878 ]],\n",
       "\n",
       "       [[1.        , 0.        ],\n",
       "        [1.        , 0.        ]],\n",
       "\n",
       "       [[0.5       , 0.5       ],\n",
       "        [0.        , 1.        ]],\n",
       "\n",
       "       [[0.9767442 , 0.02325581],\n",
       "        [0.10810811, 0.8918919 ]],\n",
       "\n",
       "       [[0.94736844, 0.05263158],\n",
       "        [0.        , 1.        ]],\n",
       "\n",
       "       [[0.8636364 , 0.13636364],\n",
       "        [0.07142857, 0.9285714 ]],\n",
       "\n",
       "       [[0.8787879 , 0.12121212],\n",
       "        [0.2857143 , 0.71428573]],\n",
       "\n",
       "       [[0.75      , 0.25      ],\n",
       "        [0.        , 1.        ]],\n",
       "\n",
       "       [[1.        , 0.        ],\n",
       "        [0.07142857, 0.9285714 ]],\n",
       "\n",
       "       [[0.        , 1.        ],\n",
       "        [0.16666667, 0.8333333 ]],\n",
       "\n",
       "       [[0.7692308 , 0.23076923],\n",
       "        [0.09090909, 0.90909094]],\n",
       "\n",
       "       [[0.33333334, 0.6666667 ],\n",
       "        [0.        , 1.        ]],\n",
       "\n",
       "       [[0.6666667 , 0.33333334],\n",
       "        [0.        , 1.        ]],\n",
       "\n",
       "       [[0.8333333 , 0.16666667],\n",
       "        [0.        , 1.        ]],\n",
       "\n",
       "       [[0.8333333 , 0.16666667],\n",
       "        [0.1875    , 0.8125    ]],\n",
       "\n",
       "       [[1.        , 0.        ],\n",
       "        [0.33333334, 0.6666667 ]],\n",
       "\n",
       "       [[0.78846157, 0.21153846],\n",
       "        [0.10606061, 0.8939394 ]],\n",
       "\n",
       "       [[0.8857143 , 0.11428571],\n",
       "        [0.12      , 0.88      ]],\n",
       "\n",
       "       [[0.375     , 0.625     ],\n",
       "        [0.2857143 , 0.71428573]],\n",
       "\n",
       "       [[0.8       , 0.2       ],\n",
       "        [0.4       , 0.6       ]],\n",
       "\n",
       "       [[0.8       , 0.2       ],\n",
       "        [0.22222222, 0.7777778 ]],\n",
       "\n",
       "       [[1.        , 0.        ],\n",
       "        [0.1904762 , 0.8095238 ]],\n",
       "\n",
       "       [[0.7567568 , 0.24324325],\n",
       "        [0.3478261 , 0.65217394]],\n",
       "\n",
       "       [[1.        , 0.        ],\n",
       "        [0.2857143 , 0.71428573]],\n",
       "\n",
       "       [[0.8       , 0.2       ],\n",
       "        [0.2       , 0.8       ]],\n",
       "\n",
       "       [[0.8       , 0.2       ],\n",
       "        [0.2       , 0.8       ]],\n",
       "\n",
       "       [[1.        , 0.        ],\n",
       "        [0.5       , 0.5       ]],\n",
       "\n",
       "       [[0.5714286 , 0.42857143],\n",
       "        [0.5       , 0.5       ]],\n",
       "\n",
       "       [[0.33333334, 0.6666667 ],\n",
       "        [0.        , 1.        ]],\n",
       "\n",
       "       [[0.        , 1.        ],\n",
       "        [0.        , 1.        ]],\n",
       "\n",
       "       [[1.        , 0.        ],\n",
       "        [0.11111111, 0.8888889 ]],\n",
       "\n",
       "       [[0.        , 1.        ],\n",
       "        [0.5       , 0.5       ]],\n",
       "\n",
       "       [[0.4       , 0.6       ],\n",
       "        [0.2       , 0.8       ]],\n",
       "\n",
       "       [[0.5       , 0.5       ],\n",
       "        [0.33333334, 0.6666667 ]],\n",
       "\n",
       "       [[0.6666667 , 0.33333334],\n",
       "        [0.        , 1.        ]],\n",
       "\n",
       "       [[0.8333333 , 0.16666667],\n",
       "        [0.        , 1.        ]],\n",
       "\n",
       "       [[1.        , 0.        ],\n",
       "        [0.        , 1.        ]],\n",
       "\n",
       "       [[0.5       , 0.5       ],\n",
       "        [0.        , 1.        ]],\n",
       "\n",
       "       [[0.6666667 , 0.33333334],\n",
       "        [0.        , 1.        ]],\n",
       "\n",
       "       [[0.5       , 0.5       ],\n",
       "        [0.        , 1.        ]],\n",
       "\n",
       "       [[0.25      , 0.75      ],\n",
       "        [1.        , 0.        ]],\n",
       "\n",
       "       [[1.        , 0.        ],\n",
       "        [1.        , 0.        ]],\n",
       "\n",
       "       [[0.6666667 , 0.33333334],\n",
       "        [0.        , 1.        ]],\n",
       "\n",
       "       [[0.5       , 0.5       ],\n",
       "        [0.        , 1.        ]],\n",
       "\n",
       "       [[0.5       , 0.5       ],\n",
       "        [0.33333334, 0.6666667 ]],\n",
       "\n",
       "       [[0.5       , 0.5       ],\n",
       "        [0.33333334, 0.6666667 ]],\n",
       "\n",
       "       [[0.6666667 , 0.33333334],\n",
       "        [0.        , 1.        ]],\n",
       "\n",
       "       [[1.        , 0.        ],\n",
       "        [0.33333334, 0.6666667 ]],\n",
       "\n",
       "       [[0.        , 1.        ],\n",
       "        [0.        , 1.        ]],\n",
       "\n",
       "       [[0.6       , 0.4       ],\n",
       "        [0.2       , 0.8       ]],\n",
       "\n",
       "       [[0.25      , 0.75      ],\n",
       "        [1.        , 0.        ]],\n",
       "\n",
       "       [[0.6       , 0.4       ],\n",
       "        [0.5       , 0.5       ]],\n",
       "\n",
       "       [[1.        , 0.        ],\n",
       "        [0.        , 1.        ]],\n",
       "\n",
       "       [[0.6666667 , 0.33333334],\n",
       "        [0.25      , 0.75      ]],\n",
       "\n",
       "       [[0.33333334, 0.6666667 ],\n",
       "        [0.        , 1.        ]],\n",
       "\n",
       "       [[0.        , 1.        ],\n",
       "        [0.33333334, 0.6666667 ]],\n",
       "\n",
       "       [[0.6666667 , 0.33333334],\n",
       "        [0.        , 1.        ]],\n",
       "\n",
       "       [[0.6666667 , 0.33333334],\n",
       "        [0.        , 1.        ]],\n",
       "\n",
       "       [[0.49129853, 0.50870144],\n",
       "        [0.5182679 , 0.48173207]],\n",
       "\n",
       "       [[0.5942029 , 0.4057971 ],\n",
       "        [0.39344263, 0.60655737]],\n",
       "\n",
       "       [[0.5416667 , 0.45833334],\n",
       "        [0.62650603, 0.37349397]],\n",
       "\n",
       "       [[0.5060241 , 0.4939759 ],\n",
       "        [0.40983605, 0.59016395]],\n",
       "\n",
       "       [[0.5873016 , 0.41269842],\n",
       "        [0.44642857, 0.5535714 ]],\n",
       "\n",
       "       [[0.5423729 , 0.45762712],\n",
       "        [0.49367088, 0.5063291 ]],\n",
       "\n",
       "       [[0.6533333 , 0.34666666],\n",
       "        [0.35714287, 0.64285713]],\n",
       "\n",
       "       [[0.41935483, 0.58064514],\n",
       "        [0.61333334, 0.38666666]],\n",
       "\n",
       "       [[0.88372093, 0.11627907],\n",
       "        [0.08450704, 0.91549295]],\n",
       "\n",
       "       [[0.93670887, 0.06329114],\n",
       "        [0.05208333, 0.9479167 ]]], dtype=float32)"
      ]
     },
     "execution_count": 10,
     "metadata": {},
     "output_type": "execute_result"
    }
   ],
   "source": [
    "#generate conf matrix...\n",
    "confe_matrix_R = np.zeros((T,Kl,Kl),dtype=DTYPE_OP) #rodrigues add epsilon here\n",
    "for t in range(T):    \n",
    "    for i in range(N):\n",
    "        if y_obs[i,t] != -1:\n",
    "            confe_matrix_R[t,Z_train[i],y_obs[i,t]] +=1\n",
    "            \n",
    "    mask_nan = confe_matrix_R[t,:,:].sum(axis=-1) == 0\n",
    "    mean_replace = np.mean(confe_matrix_R[t,:,:][~mask_nan],axis=0)\n",
    "    for value in np.arange(Kl)[mask_nan]:\n",
    "        confe_matrix_R[t,value,:] =  1 #Rodrigues 1./K -- similar  to laplace smooth (prior 1)\n",
    "    confe_matrix_R[t,:,:] = confe_matrix_R[t,:,:]/confe_matrix_R[t,:,:].sum(axis=-1,keepdims=True) #normalize\n",
    "confe_matrix_R"
   ]
  },
  {
   "cell_type": "code",
   "execution_count": 11,
   "metadata": {
    "scrolled": true
   },
   "outputs": [
    {
     "data": {
      "image/png": "[encoded data removed]",
      "text/plain": [
       "<Figure size 432x288 with 1 Axes>"
      ]
     },
     "metadata": {},
     "output_type": "display_data"
    },
    {
     "name": "stdout",
     "output_type": "stream",
     "text": [
      "Minimum annotations in a example:  4\n",
      "Maximum annotations in a example:  10\n",
      "T data (expected value):  5.550310062012403\n",
      "Graphics of T weights\n"
     ]
    },
    {
     "data": {
      "image/png": "[encoded data removed]",
      "text/plain": [
       "<Figure size 432x288 with 1 Axes>"
      ]
     },
     "metadata": {},
     "output_type": "display_data"
    },
    {
     "data": {
      "image/png": "[encoded data removed]",
      "text/plain": [
       "<Figure size 432x288 with 1 Axes>"
      ]
     },
     "metadata": {},
     "output_type": "display_data"
    },
    {
     "name": "stdout",
     "output_type": "stream",
     "text": [
      "Minimum annotations by an annotator:  5\n",
      "Maximum annotations by an annotator:  3993\n",
      "Mean annotations by an annotator:  136.67980295566502\n"
     ]
    }
   ],
   "source": [
    "#graphics and distribution? what is T_data\n",
    "N_ann = np.sum(y_obs != -1,axis=1) #distribucion de anotaciones con este valor\n",
    "\n",
    "sns.countplot(N_ann)\n",
    "plt.show()\n",
    "print(\"Minimum annotations in a example: \",N_ann.min())\n",
    "print(\"Maximum annotations in a example: \",N_ann.max())\n",
    "print(\"T data (expected value): \",N_ann.mean())\n",
    "\n",
    "print(\"Graphics of T weights\")\n",
    "plt.hist(T_weights)\n",
    "plt.show()\n",
    "\n",
    "plt.boxplot(T_weights)\n",
    "plt.show()\n",
    "print(\"Minimum annotations by an annotator: \",T_weights.min())\n",
    "print(\"Maximum annotations by an annotator: \",T_weights.max())\n",
    "print(\"Mean annotations by an annotator: \",T_weights.mean())"
   ]
  },
  {
   "cell_type": "markdown",
   "metadata": {},
   "source": [
    "#### Delta Convergence criteria"
   ]
  },
  {
   "cell_type": "code",
   "execution_count": 11,
   "metadata": {},
   "outputs": [],
   "source": [
    "from code.learning_models import LogisticRegression_Sklearn,LogisticRegression_Keras,MLP_Keras\n",
    "#deep learning\n",
    "from code.learning_models import default_CNN,default_RNN_text,default_CNN_text, Clonable_Model\n",
    "\n",
    "from code.utils import EarlyStopRelative\n",
    "ourCallback = EarlyStopRelative(monitor='loss',patience=1,min_delta=TOL)"
   ]
  },
  {
   "cell_type": "markdown",
   "metadata": {},
   "source": [
    "### Upper Bound Model -- ideal"
   ]
  },
  {
   "cell_type": "code",
   "execution_count": 12,
   "metadata": {
    "scrolled": true
   },
   "outputs": [
    {
     "name": "stdout",
     "output_type": "stream",
     "text": [
      "Trained IDeal Model, Epochs to converge = 48\n"
     ]
    }
   ],
   "source": [
    "Z_train_onehot = keras.utils.to_categorical(Z_train)\n",
    "\n",
    "model_UB = default_RNN_text(max_L, Kl, embed_M=embedding_matrix)\n",
    "model_UB.compile(loss='categorical_crossentropy',optimizer=OPT)\n",
    "hist = model_UB.fit(X_train,Z_train_onehot,epochs=EPOCHS_BASE,batch_size=BATCH_SIZE,verbose=0,callbacks=[ourCallback])\n",
    "print(\"Trained IDeal Model, Epochs to converge =\",len(hist.epoch))\n",
    "clone_UB = Clonable_Model(model_UB)\n",
    "Z_train_pred = model_UB.predict_classes(X_train)\n",
    "Z_test_pred = model_UB.predict_classes(X_test)"
   ]
  },
  {
   "cell_type": "code",
   "execution_count": null,
   "metadata": {},
   "outputs": [],
   "source": []
  },
  {
   "cell_type": "code",
   "execution_count": 11,
   "metadata": {},
   "outputs": [
    {
     "name": "stdout",
     "output_type": "stream",
     "text": [
      "Representation for MV in 0.097395 sec\n",
      "Estimation MV in 0.000410 sec\n"
     ]
    }
   ],
   "source": [
    "from code.baseline import LabelInference\n",
    "\n",
    "label_I = LabelInference(y_obs,TOL,type_inf = 'mv')\n",
    "\n",
    "mv_probas, mv_conf_probas = label_I.mv_labels('probas')\n",
    "mv_onehot, mv_conf_onehot = label_I.mv_labels('onehot')\n",
    "\n",
    "Z_train_onehot = keras.utils.to_categorical(Z_train)\n",
    "Z_test_onehot = keras.utils.to_categorical(Z_test)"
   ]
  },
  {
   "cell_type": "code",
   "execution_count": null,
   "metadata": {},
   "outputs": [],
   "source": []
  },
  {
   "cell_type": "code",
   "execution_count": 12,
   "metadata": {},
   "outputs": [],
   "source": [
    "from keras.models import Sequential,Model\n",
    "from keras.layers import *\n",
    "def default_CNN_text(input_dim,output_dim,embed_M=[]):\n",
    "    model = Sequential() \n",
    "    if len(embed_M) != 0:\n",
    "        T, R_t = embed_M.shape\n",
    "        emd_layer = Embedding(T, R_t,trainable=False,weights=[embed_M],input_length=input_dim)\n",
    "        model.add(emd_layer)\n",
    "    else:\n",
    "        model.add(InputLayer(input_shape=input_dim))\n",
    "    model.add(Conv1D(128, 3, activation='relu')) #kernel 5?\n",
    "    model.add(BatchNormalization())\n",
    "    model.add(MaxPooling1D(2))\n",
    "    model.add(Dropout(0.5))\n",
    "    \n",
    "    model.add(Conv1D(128, 3, activation='relu'))\n",
    "    model.add(BatchNormalization())\n",
    "    model.add(MaxPooling1D(2))\n",
    "    model.add(Dropout(0.5))\n",
    "    \n",
    "    model.add(GlobalAveragePooling1D())\n",
    "    \n",
    "    #model.add(Flatten())\n",
    "    #model.add(Dense(32, activation='relu'))\n",
    "    #model.add(BatchNormalization())\n",
    "    #model.add(Dropout(0.25))\n",
    "    \n",
    "    model.add(Dense(output_dim, activation='softmax')) \n",
    "    return model\n",
    "## muy parecida a la recurrente-.--"
   ]
  },
  {
   "cell_type": "code",
   "execution_count": 34,
   "metadata": {},
   "outputs": [],
   "source": [
    "def default_RNN2_text(input_dim,output_dim,embed_M=[]): \n",
    "    model = Sequential() \n",
    "    if len(embed_M) != 0:\n",
    "        T, R_t = embed_M.shape\n",
    "        emd_layer = Embedding(T, R_t,trainable=False,weights=[embed_M],input_length=input_dim)\n",
    "        model.add(emd_layer)\n",
    "    else:\n",
    "        model.add(InputLayer(input_shape=input_dim))\n",
    "    #model.add(Dropout(0.2))\n",
    "    \n",
    "    layer_gru1 = GRU(128,return_sequences=True) #, dropout=0.2, recurrent_dropout=0.5)\n",
    "    #model.add(Bidirectional(layer_gru1)) \n",
    "    model.add(layer_gru1)\n",
    "    \n",
    "    model.add(Dropout(0.5))\n",
    "    \n",
    "    layer_gru2 = GRU(64,return_sequences=False) #, dropout=0.2, recurrent_dropout=0.5)\n",
    "    #model.add(Bidirectional(layer_gru2)) #128 funciona con embd 100 (sin otra capa)\n",
    "    model.add(layer_gru2) #128 funciona con embd 100 (sin otra capa)\n",
    "    \n",
    "    #model.add(BatchNormalization())\n",
    "    model.add(Dropout(0.5))\n",
    "    \n",
    "    #model.add(Dense(32, activation='relu'))\n",
    "    #model.add(BatchNormalization())\n",
    "    #model.add(Dropout(0.5))\n",
    "    \n",
    "    model.add(Dense(output_dim, activation='softmax'))     \n",
    "    return model"
   ]
  },
  {
   "cell_type": "code",
   "execution_count": 24,
   "metadata": {},
   "outputs": [],
   "source": [
    "### como hacer modelo \"no tan potente\""
   ]
  },
  {
   "cell_type": "code",
   "execution_count": 35,
   "metadata": {
    "scrolled": true
   },
   "outputs": [
    {
     "name": "stdout",
     "output_type": "stream",
     "text": [
      "_________________________________________________________________\n",
      "Layer (type)                 Output Shape              Param #   \n",
      "=================================================================\n",
      "embedding_5 (Embedding)      (None, 50, 300)           4200300   \n",
      "_________________________________________________________________\n",
      "gru_9 (GRU)                  (None, 50, 128)           164736    \n",
      "_________________________________________________________________\n",
      "dropout_9 (Dropout)          (None, 50, 128)           0         \n",
      "_________________________________________________________________\n",
      "gru_10 (GRU)                 (None, 64)                37056     \n",
      "_________________________________________________________________\n",
      "dropout_10 (Dropout)         (None, 64)                0         \n",
      "_________________________________________________________________\n",
      "dense_5 (Dense)              (None, 2)                 130       \n",
      "=================================================================\n",
      "Total params: 4,402,222\n",
      "Trainable params: 201,922\n",
      "Non-trainable params: 4,200,300\n",
      "_________________________________________________________________\n"
     ]
    }
   ],
   "source": [
    "model_UB = default_RNN2_text(max_L, Kl, embed_M=embedding_matrix)\n",
    "model_UB.compile(loss='categorical_crossentropy',optimizer=OPT, metrics=[\"accuracy\"])\n",
    "model_UB.summary()"
   ]
  },
  {
   "cell_type": "code",
   "execution_count": 36,
   "metadata": {
    "scrolled": true
   },
   "outputs": [
    {
     "name": "stdout",
     "output_type": "stream",
     "text": [
      "Train on 4999 samples, validate on 3999 samples\n",
      "Epoch 1/50\n",
      " - 10s - loss: 0.6536 - acc: 0.6101 - val_loss: 0.5954 - val_acc: 0.6994\n",
      "Epoch 2/50\n",
      " - 8s - loss: 0.5540 - acc: 0.7131 - val_loss: 0.5655 - val_acc: 0.7169\n",
      "Epoch 3/50\n",
      " - 8s - loss: 0.4932 - acc: 0.7648 - val_loss: 0.5722 - val_acc: 0.6997\n",
      "Epoch 4/50\n",
      " - 8s - loss: 0.4608 - acc: 0.7868 - val_loss: 0.5408 - val_acc: 0.7287\n",
      "Epoch 5/50\n",
      " - 8s - loss: 0.4562 - acc: 0.7882 - val_loss: 0.5489 - val_acc: 0.7249\n",
      "Trained IDeal Model, Epochs to converge = 5\n"
     ]
    }
   ],
   "source": [
    "hist=model_UB.fit(X_train,Z_train_onehot,epochs=EPOCHS_BASE,batch_size=BATCH_SIZE,verbose=2,callbacks=[ourCallback]\n",
    "                  ,validation_data=(X_test,Z_test_onehot))\n",
    "print(\"Trained IDeal Model, Epochs to converge =\",len(hist.epoch))"
   ]
  },
  {
   "cell_type": "code",
   "execution_count": 19,
   "metadata": {
    "scrolled": true
   },
   "outputs": [
    {
     "data": {
      "text/plain": [
       "<matplotlib.legend.Legend at 0x7f0f3aff6240>"
      ]
     },
     "execution_count": 19,
     "metadata": {},
     "output_type": "execute_result"
    },
    {
     "data": {
      "image/png": "[encoded data removed]",
      "text/plain": [
       "<Figure size 432x288 with 1 Axes>"
      ]
     },
     "metadata": {},
     "output_type": "display_data"
    }
   ],
   "source": [
    "plt.plot(hist.history[\"loss\"],label=\"train\")\n",
    "plt.plot(hist.history[\"val_loss\"])\n",
    "plt.legend()"
   ]
  },
  {
   "cell_type": "code",
   "execution_count": 16,
   "metadata": {},
   "outputs": [
    {
     "name": "stdout",
     "output_type": "stream",
     "text": [
      "Train on 3999 samples, validate on 1000 samples\n",
      "Epoch 1/50\n",
      " - 6s - loss: 0.6404 - acc: 0.6212 - val_loss: 0.5651 - val_acc: 0.7000\n",
      "Epoch 2/50\n",
      " - 5s - loss: 0.5248 - acc: 0.7434 - val_loss: 0.5077 - val_acc: 0.7400\n",
      "Epoch 3/50\n",
      " - 5s - loss: 0.4782 - acc: 0.7789 - val_loss: 0.4968 - val_acc: 0.7510\n",
      "Epoch 4/50\n",
      " - 5s - loss: 0.4471 - acc: 0.7869 - val_loss: 0.5376 - val_acc: 0.7360\n",
      "Epoch 5/50\n",
      " - 5s - loss: 0.4137 - acc: 0.8180 - val_loss: 0.4922 - val_acc: 0.7590\n",
      "Epoch 6/50\n",
      " - 5s - loss: 0.3765 - acc: 0.8327 - val_loss: 0.5251 - val_acc: 0.7520\n",
      "Epoch 7/50\n",
      " - 5s - loss: 0.3341 - acc: 0.8572 - val_loss: 0.5751 - val_acc: 0.7470\n",
      "Epoch 8/50\n"
     ]
    },
    {
     "ename": "KeyboardInterrupt",
     "evalue": "",
     "output_type": "error",
     "traceback": [
      "\u001b[0;31m---------------------------------------------------------------------------\u001b[0m",
      "\u001b[0;31mKeyboardInterrupt\u001b[0m                         Traceback (most recent call last)",
      "\u001b[0;32m<ipython-input-16-2e2f25e31969>\u001b[0m in \u001b[0;36m<module>\u001b[0;34m()\u001b[0m\n\u001b[1;32m      2\u001b[0m \u001b[0mmodel_UB\u001b[0m\u001b[0;34m.\u001b[0m\u001b[0mcompile\u001b[0m\u001b[0;34m(\u001b[0m\u001b[0mloss\u001b[0m\u001b[0;34m=\u001b[0m\u001b[0;34m'categorical_crossentropy'\u001b[0m\u001b[0;34m,\u001b[0m\u001b[0moptimizer\u001b[0m\u001b[0;34m=\u001b[0m\u001b[0mOPT\u001b[0m\u001b[0;34m,\u001b[0m \u001b[0mmetrics\u001b[0m\u001b[0;34m=\u001b[0m\u001b[0;34m[\u001b[0m\u001b[0;34m\"accuracy\"\u001b[0m\u001b[0;34m]\u001b[0m\u001b[0;34m)\u001b[0m\u001b[0;34m\u001b[0m\u001b[0m\n\u001b[1;32m      3\u001b[0m hist=model_UB.fit(X_train,Z_train_onehot,epochs=EPOCHS_BASE,batch_size=BATCH_SIZE,verbose=2#,callbacks=[ourCallback]\n\u001b[0;32m----> 4\u001b[0;31m                   ,validation_split=0.2)\n\u001b[0m\u001b[1;32m      5\u001b[0m \u001b[0mprint\u001b[0m\u001b[0;34m(\u001b[0m\u001b[0;34m\"Trained IDeal Model, Epochs to converge =\"\u001b[0m\u001b[0;34m,\u001b[0m\u001b[0mlen\u001b[0m\u001b[0;34m(\u001b[0m\u001b[0mhist\u001b[0m\u001b[0;34m.\u001b[0m\u001b[0mepoch\u001b[0m\u001b[0;34m)\u001b[0m\u001b[0;34m)\u001b[0m\u001b[0;34m\u001b[0m\u001b[0m\n",
      "\u001b[0;32m~/anaconda3/envs/tesis/lib/python3.5/site-packages/keras/models.py\u001b[0m in \u001b[0;36mfit\u001b[0;34m(self, x, y, batch_size, epochs, verbose, callbacks, validation_split, validation_data, shuffle, class_weight, sample_weight, initial_epoch, steps_per_epoch, validation_steps, **kwargs)\u001b[0m\n\u001b[1;32m   1000\u001b[0m                               \u001b[0minitial_epoch\u001b[0m\u001b[0;34m=\u001b[0m\u001b[0minitial_epoch\u001b[0m\u001b[0;34m,\u001b[0m\u001b[0;34m\u001b[0m\u001b[0m\n\u001b[1;32m   1001\u001b[0m                               \u001b[0msteps_per_epoch\u001b[0m\u001b[0;34m=\u001b[0m\u001b[0msteps_per_epoch\u001b[0m\u001b[0;34m,\u001b[0m\u001b[0;34m\u001b[0m\u001b[0m\n\u001b[0;32m-> 1002\u001b[0;31m                               validation_steps=validation_steps)\n\u001b[0m\u001b[1;32m   1003\u001b[0m \u001b[0;34m\u001b[0m\u001b[0m\n\u001b[1;32m   1004\u001b[0m     def evaluate(self, x=None, y=None,\n",
      "\u001b[0;32m~/anaconda3/envs/tesis/lib/python3.5/site-packages/keras/engine/training.py\u001b[0m in \u001b[0;36mfit\u001b[0;34m(self, x, y, batch_size, epochs, verbose, callbacks, validation_split, validation_data, shuffle, class_weight, sample_weight, initial_epoch, steps_per_epoch, validation_steps, **kwargs)\u001b[0m\n\u001b[1;32m   1703\u001b[0m                               \u001b[0minitial_epoch\u001b[0m\u001b[0;34m=\u001b[0m\u001b[0minitial_epoch\u001b[0m\u001b[0;34m,\u001b[0m\u001b[0;34m\u001b[0m\u001b[0m\n\u001b[1;32m   1704\u001b[0m                               \u001b[0msteps_per_epoch\u001b[0m\u001b[0;34m=\u001b[0m\u001b[0msteps_per_epoch\u001b[0m\u001b[0;34m,\u001b[0m\u001b[0;34m\u001b[0m\u001b[0m\n\u001b[0;32m-> 1705\u001b[0;31m                               validation_steps=validation_steps)\n\u001b[0m\u001b[1;32m   1706\u001b[0m \u001b[0;34m\u001b[0m\u001b[0m\n\u001b[1;32m   1707\u001b[0m     def evaluate(self, x=None, y=None,\n",
      "\u001b[0;32m~/anaconda3/envs/tesis/lib/python3.5/site-packages/keras/engine/training.py\u001b[0m in \u001b[0;36m_fit_loop\u001b[0;34m(self, f, ins, out_labels, batch_size, epochs, verbose, callbacks, val_f, val_ins, shuffle, callback_metrics, initial_epoch, steps_per_epoch, validation_steps)\u001b[0m\n\u001b[1;32m   1248\u001b[0m                             val_outs = self._test_loop(val_f, val_ins,\n\u001b[1;32m   1249\u001b[0m                                                        \u001b[0mbatch_size\u001b[0m\u001b[0;34m=\u001b[0m\u001b[0mbatch_size\u001b[0m\u001b[0;34m,\u001b[0m\u001b[0;34m\u001b[0m\u001b[0m\n\u001b[0;32m-> 1250\u001b[0;31m                                                        verbose=0)\n\u001b[0m\u001b[1;32m   1251\u001b[0m                             \u001b[0;32mif\u001b[0m \u001b[0;32mnot\u001b[0m \u001b[0misinstance\u001b[0m\u001b[0;34m(\u001b[0m\u001b[0mval_outs\u001b[0m\u001b[0;34m,\u001b[0m \u001b[0mlist\u001b[0m\u001b[0;34m)\u001b[0m\u001b[0;34m:\u001b[0m\u001b[0;34m\u001b[0m\u001b[0m\n\u001b[1;32m   1252\u001b[0m                                 \u001b[0mval_outs\u001b[0m \u001b[0;34m=\u001b[0m \u001b[0;34m[\u001b[0m\u001b[0mval_outs\u001b[0m\u001b[0;34m]\u001b[0m\u001b[0;34m\u001b[0m\u001b[0m\n",
      "\u001b[0;32m~/anaconda3/envs/tesis/lib/python3.5/site-packages/keras/engine/training.py\u001b[0m in \u001b[0;36m_test_loop\u001b[0;34m(self, f, ins, batch_size, verbose, steps)\u001b[0m\n\u001b[1;32m   1424\u001b[0m                     \u001b[0mins_batch\u001b[0m\u001b[0;34m[\u001b[0m\u001b[0mi\u001b[0m\u001b[0;34m]\u001b[0m \u001b[0;34m=\u001b[0m \u001b[0mins_batch\u001b[0m\u001b[0;34m[\u001b[0m\u001b[0mi\u001b[0m\u001b[0;34m]\u001b[0m\u001b[0;34m.\u001b[0m\u001b[0mtoarray\u001b[0m\u001b[0;34m(\u001b[0m\u001b[0;34m)\u001b[0m\u001b[0;34m\u001b[0m\u001b[0m\n\u001b[1;32m   1425\u001b[0m \u001b[0;34m\u001b[0m\u001b[0m\n\u001b[0;32m-> 1426\u001b[0;31m                 \u001b[0mbatch_outs\u001b[0m \u001b[0;34m=\u001b[0m \u001b[0mf\u001b[0m\u001b[0;34m(\u001b[0m\u001b[0mins_batch\u001b[0m\u001b[0;34m)\u001b[0m\u001b[0;34m\u001b[0m\u001b[0m\n\u001b[0m\u001b[1;32m   1427\u001b[0m                 \u001b[0;32mif\u001b[0m \u001b[0misinstance\u001b[0m\u001b[0;34m(\u001b[0m\u001b[0mbatch_outs\u001b[0m\u001b[0;34m,\u001b[0m \u001b[0mlist\u001b[0m\u001b[0;34m)\u001b[0m\u001b[0;34m:\u001b[0m\u001b[0;34m\u001b[0m\u001b[0m\n\u001b[1;32m   1428\u001b[0m                     \u001b[0;32mif\u001b[0m \u001b[0mbatch_index\u001b[0m \u001b[0;34m==\u001b[0m \u001b[0;36m0\u001b[0m\u001b[0;34m:\u001b[0m\u001b[0;34m\u001b[0m\u001b[0m\n",
      "\u001b[0;32m~/anaconda3/envs/tesis/lib/python3.5/site-packages/keras/backend/tensorflow_backend.py\u001b[0m in \u001b[0;36m__call__\u001b[0;34m(self, inputs)\u001b[0m\n\u001b[1;32m   2480\u001b[0m         \u001b[0msession\u001b[0m \u001b[0;34m=\u001b[0m \u001b[0mget_session\u001b[0m\u001b[0;34m(\u001b[0m\u001b[0;34m)\u001b[0m\u001b[0;34m\u001b[0m\u001b[0m\n\u001b[1;32m   2481\u001b[0m         updated = session.run(fetches=fetches, feed_dict=feed_dict,\n\u001b[0;32m-> 2482\u001b[0;31m                               **self.session_kwargs)\n\u001b[0m\u001b[1;32m   2483\u001b[0m         \u001b[0;32mreturn\u001b[0m \u001b[0mupdated\u001b[0m\u001b[0;34m[\u001b[0m\u001b[0;34m:\u001b[0m\u001b[0mlen\u001b[0m\u001b[0;34m(\u001b[0m\u001b[0mself\u001b[0m\u001b[0;34m.\u001b[0m\u001b[0moutputs\u001b[0m\u001b[0;34m)\u001b[0m\u001b[0;34m]\u001b[0m\u001b[0;34m\u001b[0m\u001b[0m\n\u001b[1;32m   2484\u001b[0m \u001b[0;34m\u001b[0m\u001b[0m\n",
      "\u001b[0;32m~/anaconda3/envs/tesis/lib/python3.5/site-packages/tensorflow/python/client/session.py\u001b[0m in \u001b[0;36mrun\u001b[0;34m(self, fetches, feed_dict, options, run_metadata)\u001b[0m\n\u001b[1;32m    898\u001b[0m     \u001b[0;32mtry\u001b[0m\u001b[0;34m:\u001b[0m\u001b[0;34m\u001b[0m\u001b[0m\n\u001b[1;32m    899\u001b[0m       result = self._run(None, fetches, feed_dict, options_ptr,\n\u001b[0;32m--> 900\u001b[0;31m                          run_metadata_ptr)\n\u001b[0m\u001b[1;32m    901\u001b[0m       \u001b[0;32mif\u001b[0m \u001b[0mrun_metadata\u001b[0m\u001b[0;34m:\u001b[0m\u001b[0;34m\u001b[0m\u001b[0m\n\u001b[1;32m    902\u001b[0m         \u001b[0mproto_data\u001b[0m \u001b[0;34m=\u001b[0m \u001b[0mtf_session\u001b[0m\u001b[0;34m.\u001b[0m\u001b[0mTF_GetBuffer\u001b[0m\u001b[0;34m(\u001b[0m\u001b[0mrun_metadata_ptr\u001b[0m\u001b[0;34m)\u001b[0m\u001b[0;34m\u001b[0m\u001b[0m\n",
      "\u001b[0;32m~/anaconda3/envs/tesis/lib/python3.5/site-packages/tensorflow/python/client/session.py\u001b[0m in \u001b[0;36m_run\u001b[0;34m(self, handle, fetches, feed_dict, options, run_metadata)\u001b[0m\n\u001b[1;32m   1133\u001b[0m     \u001b[0;32mif\u001b[0m \u001b[0mfinal_fetches\u001b[0m \u001b[0;32mor\u001b[0m \u001b[0mfinal_targets\u001b[0m \u001b[0;32mor\u001b[0m \u001b[0;34m(\u001b[0m\u001b[0mhandle\u001b[0m \u001b[0;32mand\u001b[0m \u001b[0mfeed_dict_tensor\u001b[0m\u001b[0;34m)\u001b[0m\u001b[0;34m:\u001b[0m\u001b[0;34m\u001b[0m\u001b[0m\n\u001b[1;32m   1134\u001b[0m       results = self._do_run(handle, final_targets, final_fetches,\n\u001b[0;32m-> 1135\u001b[0;31m                              feed_dict_tensor, options, run_metadata)\n\u001b[0m\u001b[1;32m   1136\u001b[0m     \u001b[0;32melse\u001b[0m\u001b[0;34m:\u001b[0m\u001b[0;34m\u001b[0m\u001b[0m\n\u001b[1;32m   1137\u001b[0m       \u001b[0mresults\u001b[0m \u001b[0;34m=\u001b[0m \u001b[0;34m[\u001b[0m\u001b[0;34m]\u001b[0m\u001b[0;34m\u001b[0m\u001b[0m\n",
      "\u001b[0;32m~/anaconda3/envs/tesis/lib/python3.5/site-packages/tensorflow/python/client/session.py\u001b[0m in \u001b[0;36m_do_run\u001b[0;34m(self, handle, target_list, fetch_list, feed_dict, options, run_metadata)\u001b[0m\n\u001b[1;32m   1314\u001b[0m     \u001b[0;32mif\u001b[0m \u001b[0mhandle\u001b[0m \u001b[0;32mis\u001b[0m \u001b[0;32mNone\u001b[0m\u001b[0;34m:\u001b[0m\u001b[0;34m\u001b[0m\u001b[0m\n\u001b[1;32m   1315\u001b[0m       return self._do_call(_run_fn, feeds, fetches, targets, options,\n\u001b[0;32m-> 1316\u001b[0;31m                            run_metadata)\n\u001b[0m\u001b[1;32m   1317\u001b[0m     \u001b[0;32melse\u001b[0m\u001b[0;34m:\u001b[0m\u001b[0;34m\u001b[0m\u001b[0m\n\u001b[1;32m   1318\u001b[0m       \u001b[0;32mreturn\u001b[0m \u001b[0mself\u001b[0m\u001b[0;34m.\u001b[0m\u001b[0m_do_call\u001b[0m\u001b[0;34m(\u001b[0m\u001b[0m_prun_fn\u001b[0m\u001b[0;34m,\u001b[0m \u001b[0mhandle\u001b[0m\u001b[0;34m,\u001b[0m \u001b[0mfeeds\u001b[0m\u001b[0;34m,\u001b[0m \u001b[0mfetches\u001b[0m\u001b[0;34m)\u001b[0m\u001b[0;34m\u001b[0m\u001b[0m\n",
      "\u001b[0;32m~/anaconda3/envs/tesis/lib/python3.5/site-packages/tensorflow/python/client/session.py\u001b[0m in \u001b[0;36m_do_call\u001b[0;34m(self, fn, *args)\u001b[0m\n\u001b[1;32m   1320\u001b[0m   \u001b[0;32mdef\u001b[0m \u001b[0m_do_call\u001b[0m\u001b[0;34m(\u001b[0m\u001b[0mself\u001b[0m\u001b[0;34m,\u001b[0m \u001b[0mfn\u001b[0m\u001b[0;34m,\u001b[0m \u001b[0;34m*\u001b[0m\u001b[0margs\u001b[0m\u001b[0;34m)\u001b[0m\u001b[0;34m:\u001b[0m\u001b[0;34m\u001b[0m\u001b[0m\n\u001b[1;32m   1321\u001b[0m     \u001b[0;32mtry\u001b[0m\u001b[0;34m:\u001b[0m\u001b[0;34m\u001b[0m\u001b[0m\n\u001b[0;32m-> 1322\u001b[0;31m       \u001b[0;32mreturn\u001b[0m \u001b[0mfn\u001b[0m\u001b[0;34m(\u001b[0m\u001b[0;34m*\u001b[0m\u001b[0margs\u001b[0m\u001b[0;34m)\u001b[0m\u001b[0;34m\u001b[0m\u001b[0m\n\u001b[0m\u001b[1;32m   1323\u001b[0m     \u001b[0;32mexcept\u001b[0m \u001b[0merrors\u001b[0m\u001b[0;34m.\u001b[0m\u001b[0mOpError\u001b[0m \u001b[0;32mas\u001b[0m \u001b[0me\u001b[0m\u001b[0;34m:\u001b[0m\u001b[0;34m\u001b[0m\u001b[0m\n\u001b[1;32m   1324\u001b[0m       \u001b[0mmessage\u001b[0m \u001b[0;34m=\u001b[0m \u001b[0mcompat\u001b[0m\u001b[0;34m.\u001b[0m\u001b[0mas_text\u001b[0m\u001b[0;34m(\u001b[0m\u001b[0me\u001b[0m\u001b[0;34m.\u001b[0m\u001b[0mmessage\u001b[0m\u001b[0;34m)\u001b[0m\u001b[0;34m\u001b[0m\u001b[0m\n",
      "\u001b[0;32m~/anaconda3/envs/tesis/lib/python3.5/site-packages/tensorflow/python/client/session.py\u001b[0m in \u001b[0;36m_run_fn\u001b[0;34m(feed_dict, fetch_list, target_list, options, run_metadata)\u001b[0m\n\u001b[1;32m   1305\u001b[0m       \u001b[0mself\u001b[0m\u001b[0;34m.\u001b[0m\u001b[0m_extend_graph\u001b[0m\u001b[0;34m(\u001b[0m\u001b[0;34m)\u001b[0m\u001b[0;34m\u001b[0m\u001b[0m\n\u001b[1;32m   1306\u001b[0m       return self._call_tf_sessionrun(\n\u001b[0;32m-> 1307\u001b[0;31m           options, feed_dict, fetch_list, target_list, run_metadata)\n\u001b[0m\u001b[1;32m   1308\u001b[0m \u001b[0;34m\u001b[0m\u001b[0m\n\u001b[1;32m   1309\u001b[0m     \u001b[0;32mdef\u001b[0m \u001b[0m_prun_fn\u001b[0m\u001b[0;34m(\u001b[0m\u001b[0mhandle\u001b[0m\u001b[0;34m,\u001b[0m \u001b[0mfeed_dict\u001b[0m\u001b[0;34m,\u001b[0m \u001b[0mfetch_list\u001b[0m\u001b[0;34m)\u001b[0m\u001b[0;34m:\u001b[0m\u001b[0;34m\u001b[0m\u001b[0m\n",
      "\u001b[0;32m~/anaconda3/envs/tesis/lib/python3.5/site-packages/tensorflow/python/client/session.py\u001b[0m in \u001b[0;36m_call_tf_sessionrun\u001b[0;34m(self, options, feed_dict, fetch_list, target_list, run_metadata)\u001b[0m\n\u001b[1;32m   1407\u001b[0m       return tf_session.TF_SessionRun_wrapper(\n\u001b[1;32m   1408\u001b[0m           \u001b[0mself\u001b[0m\u001b[0;34m.\u001b[0m\u001b[0m_session\u001b[0m\u001b[0;34m,\u001b[0m \u001b[0moptions\u001b[0m\u001b[0;34m,\u001b[0m \u001b[0mfeed_dict\u001b[0m\u001b[0;34m,\u001b[0m \u001b[0mfetch_list\u001b[0m\u001b[0;34m,\u001b[0m \u001b[0mtarget_list\u001b[0m\u001b[0;34m,\u001b[0m\u001b[0;34m\u001b[0m\u001b[0m\n\u001b[0;32m-> 1409\u001b[0;31m           run_metadata)\n\u001b[0m\u001b[1;32m   1410\u001b[0m     \u001b[0;32melse\u001b[0m\u001b[0;34m:\u001b[0m\u001b[0;34m\u001b[0m\u001b[0m\n\u001b[1;32m   1411\u001b[0m       \u001b[0;32mwith\u001b[0m \u001b[0merrors\u001b[0m\u001b[0;34m.\u001b[0m\u001b[0mraise_exception_on_not_ok_status\u001b[0m\u001b[0;34m(\u001b[0m\u001b[0;34m)\u001b[0m \u001b[0;32mas\u001b[0m \u001b[0mstatus\u001b[0m\u001b[0;34m:\u001b[0m\u001b[0;34m\u001b[0m\u001b[0m\n",
      "\u001b[0;31mKeyboardInterrupt\u001b[0m: "
     ]
    }
   ],
   "source": [
    "model_UB = default_RNN_text(max_L, Kl, embed_M=embedding_matrix)\n",
    "model_UB.compile(loss='categorical_crossentropy',optimizer=OPT, metrics=[\"accuracy\"])\n",
    "hist=model_UB.fit(X_train,Z_train_onehot,epochs=EPOCHS_BASE,batch_size=BATCH_SIZE,verbose=2#,callbacks=[ourCallback]\n",
    "                  ,validation_split=0.2)\n",
    "print(\"Trained IDeal Model, Epochs to converge =\",len(hist.epoch))"
   ]
  },
  {
   "cell_type": "code",
   "execution_count": 20,
   "metadata": {
    "scrolled": true
   },
   "outputs": [
    {
     "name": "stdout",
     "output_type": "stream",
     "text": [
      "Train on 4999 samples, validate on 3999 samples\n",
      "Epoch 1/50\n",
      " - 9s - loss: 0.6527 - acc: 0.6279 - val_loss: 0.5761 - val_acc: 0.7234\n",
      "Epoch 2/50\n",
      " - 8s - loss: 0.5927 - acc: 0.7403 - val_loss: 0.5718 - val_acc: 0.7317\n",
      "Epoch 3/50\n",
      " - 8s - loss: 0.5745 - acc: 0.7636 - val_loss: 0.5774 - val_acc: 0.7039\n",
      "Epoch 4/50\n",
      " - 8s - loss: 0.5760 - acc: 0.7590 - val_loss: 0.5560 - val_acc: 0.7352\n"
     ]
    }
   ],
   "source": [
    "model_mvsoft = default_RNN_text(max_L, Kl, embed_M=embedding_matrix)\n",
    "model_mvsoft.compile(loss='categorical_crossentropy',optimizer=OPT, metrics=[\"accuracy\"])\n",
    "hist=model_mvsoft.fit(X_train, mv_probas, epochs=EPOCHS_BASE,batch_size=BATCH_SIZE,verbose=2,callbacks=[ourCallback]\n",
    "                     #,validation_split=0.2)\n",
    "                      ,validation_data=(X_test,Z_test_onehot))"
   ]
  },
  {
   "cell_type": "code",
   "execution_count": 19,
   "metadata": {},
   "outputs": [
    {
     "data": {
      "text/plain": [
       "<matplotlib.legend.Legend at 0x7f143b1bd748>"
      ]
     },
     "execution_count": 19,
     "metadata": {},
     "output_type": "execute_result"
    },
    {
     "data": {
      "image/png": "[encoded data removed]",
      "text/plain": [
       "<Figure size 432x288 with 1 Axes>"
      ]
     },
     "metadata": {},
     "output_type": "display_data"
    }
   ],
   "source": [
    "plt.plot(hist.history[\"loss\"],label=\"train\")\n",
    "plt.plot(hist.history[\"val_loss\"])\n",
    "plt.legend()"
   ]
  },
  {
   "cell_type": "code",
   "execution_count": 20,
   "metadata": {},
   "outputs": [],
   "source": [
    "model_mvsoft.save(\"aux.h5\")"
   ]
  },
  {
   "cell_type": "markdown",
   "metadata": {},
   "source": [
    "### Infer Labels (without predictive model)"
   ]
  },
  {
   "cell_type": "code",
   "execution_count": 15,
   "metadata": {
    "scrolled": true
   },
   "outputs": [
    {
     "name": "stdout",
     "output_type": "stream",
     "text": [
      "Representation for MV in 0.116856 sec\n",
      "Representation for DS in 0.065963 sec\n",
      "Estimation MV in 0.000467 sec\n",
      "Iter\tlog-likelihood\tdelta-CM\tdelta-ER\tdelta-LL\n",
      "1 \t -14653.167042256031\n",
      "2 \t -13799.355137438279 \t0.0437\t0.259030\t0.058268\n",
      "3 \t -13743.942426302658 \t0.0171\t0.135132\t0.004016\n",
      "4 \t -13734.486476957558 \t0.0083\t0.096952\t0.000688\n",
      "5 \t -13731.737228510072 \t0.0047\t0.066205\t0.000200\n",
      "6 \t -13730.743830870631 \t0.0029\t0.047743\t0.000072\n",
      "7 \t -13730.308987607652 \t0.0018\t0.036592\t0.000032\n",
      "8 \t -13730.081076716144 \t0.0012\t0.028339\t0.000017\n",
      "Class marginals\n",
      "[0.5 0.5]\n",
      "Estimation for DS in 3.575960 sec\n"
     ]
    }
   ],
   "source": [
    "from code.baseline import LabelInference\n",
    "\n",
    "label_I = LabelInference(y_obs,TOL,type_inf = 'all')\n",
    "\n",
    "mv_probas, mv_conf_probas = label_I.mv_labels('probas')\n",
    "mv_onehot, mv_conf_onehot = label_I.mv_labels('onehot')\n",
    "\n",
    "confe_matrix_G = get_Global_confusionM(Z_train,label_I.y_obs_repeat)\n",
    "\n",
    "if y_obs.shape[1] <= 12000:\n",
    "    ds_labels,ds_conf = label_I.DS_labels()"
   ]
  },
  {
   "cell_type": "code",
   "execution_count": 25,
   "metadata": {},
   "outputs": [
    {
     "name": "stdout",
     "output_type": "stream",
     "text": [
      "ACC MV on train: 0.8895779155831166\n",
      "ACC D&S on train: 0.9151830366073215\n"
     ]
    }
   ],
   "source": [
    "print(\"ACC MV on train:\",np.mean(mv_onehot.argmax(axis=1)==Z_train))\n",
    "print(\"ACC D&S on train:\",np.mean(ds_labels.argmax(axis=1)==Z_train))"
   ]
  },
  {
   "cell_type": "code",
   "execution_count": 26,
   "metadata": {},
   "outputs": [
    {
     "name": "stdout",
     "output_type": "stream",
     "text": [
      "Trained model over soft-MV, Epochs to converge = 5\n"
     ]
    }
   ],
   "source": [
    "model_mvsoft = clone_UB.get_model()\n",
    "model_mvsoft.compile(loss='categorical_crossentropy',optimizer=OPT)\n",
    "hist=model_mvsoft.fit(X_train, mv_probas, epochs=EPOCHS_BASE,batch_size=BATCH_SIZE,verbose=0,callbacks=[ourCallback])\n",
    "print(\"Trained model over soft-MV, Epochs to converge =\",len(hist.epoch))\n",
    "Z_train_pred = model_mvsoft.predict_classes(X_train)\n",
    "Z_test_pred = model_mvsoft.predict_classes(X_test)"
   ]
  },
  {
   "cell_type": "code",
   "execution_count": 16,
   "metadata": {},
   "outputs": [
    {
     "name": "stdout",
     "output_type": "stream",
     "text": [
      "Trained model over hard-MV, Epochs to converge = 6\n"
     ]
    }
   ],
   "source": [
    "model_mvhard = clone_UB.get_model()\n",
    "model_mvhard.compile(loss='categorical_crossentropy',optimizer=OPT)\n",
    "hist=model_mvhard.fit(X_train, mv_onehot, epochs=EPOCHS_BASE,batch_size=BATCH_SIZE,verbose=0,callbacks=[ourCallback])\n",
    "print(\"Trained model over hard-MV, Epochs to converge =\",len(hist.epoch))\n",
    "Z_train_pred = model_mvhard.predict_classes(X_train)\n",
    "Z_test_pred = model_mvhard.predict_classes(X_test)"
   ]
  },
  {
   "cell_type": "code",
   "execution_count": 32,
   "metadata": {},
   "outputs": [
    {
     "name": "stdout",
     "output_type": "stream",
     "text": [
      "Trained model over D&S, Epochs to converge = 17\n"
     ]
    }
   ],
   "source": [
    "model_ds = clone_UB.get_model()\n",
    "model_ds.compile(loss='categorical_crossentropy',optimizer=OPT)\n",
    "hist=model_ds.fit(X_train, ds_labels, epochs=EPOCHS_BASE,batch_size=BATCH_SIZE,verbose=0,callbacks=[ourCallback])\n",
    "print(\"Trained model over D&S, Epochs to converge =\",len(hist.epoch))\n",
    "Z_train_pred = model_ds.predict_classes(X_train)\n",
    "Z_test_pred = model_ds.predict_classes(X_test)"
   ]
  },
  {
   "cell_type": "markdown",
   "metadata": {},
   "source": [
    "### Raykar Model (joint predict model)"
   ]
  },
  {
   "cell_type": "code",
   "execution_count": 23,
   "metadata": {},
   "outputs": [
    {
     "name": "stdout",
     "output_type": "stream",
     "text": [
      "shape: (4999, 203, 2)\n"
     ]
    }
   ],
   "source": [
    "from code.baseline import RaykarMC\n",
    "y_obs_categorical = set_representation(y_obs,'onehot') #for raykar\n",
    "print(\"shape:\",y_obs_categorical.shape)"
   ]
  },
  {
   "cell_type": "code",
   "execution_count": 24,
   "metadata": {
    "scrolled": true
   },
   "outputs": [
    {
     "name": "stdout",
     "output_type": "stream",
     "text": [
      "Initializing new EM...\n",
      "Betas shape:  (203, 2, 2)\n",
      "Q estimate shape:  (4999, 2)\n",
      "Iter 1/50 \n",
      "M step: done,  E step: done //  (in 3.70 sec)\tlogL: -14124.199\t\n",
      "Iter 2/50 \n",
      "M step: done,  E step: done //  (in 1.09 sec)\tlogL: -12691.454\tTol1: 0.10144\tTol2: 0.18036\t\n",
      "Iter 3/50 \n",
      "M step: done,  E step: done //  (in 1.07 sec)\tlogL: -12437.879\tTol1: 0.01998\tTol2: 0.05311\t\n",
      "Iter 4/50 \n",
      "M step: done,  E step: done //  (in 1.05 sec)\tlogL: -12217.074\tTol1: 0.01775\tTol2: 0.02611\t\n",
      "Finished training\n",
      "Initializing new EM...\n",
      "Betas shape:  (203, 2, 2)\n",
      "Q estimate shape:  (4999, 2)\n",
      "Iter 1/50 \n",
      "M step: done,  E step: done //  (in 3.00 sec)\tlogL: -14058.684\t\n",
      "Iter 2/50 \n",
      "M step: done,  E step: done //  (in 1.08 sec)\tlogL: -12751.912\tTol1: 0.09295\tTol2: 0.18174\t\n",
      "Iter 3/50 \n",
      "M step: done,  E step: done //  (in 1.07 sec)\tlogL: -12447.818\tTol1: 0.02385\tTol2: 0.05651\t\n",
      "Iter 4/50 \n",
      "M step: done,  E step: done //  (in 1.04 sec)\tlogL: -12246.297\tTol1: 0.01619\tTol2: 0.01802\t\n",
      "Finished training\n",
      "Initializing new EM...\n",
      "Betas shape:  (203, 2, 2)\n",
      "Q estimate shape:  (4999, 2)\n",
      "Iter 1/50 \n",
      "M step: done,  E step: done //  (in 3.01 sec)\tlogL: -14027.528\t\n",
      "Iter 2/50 \n",
      "M step: done,  E step: done //  (in 1.05 sec)\tlogL: -12621.797\tTol1: 0.10021\tTol2: 0.18099\t\n",
      "Iter 3/50 \n",
      "M step: done,  E step: done //  (in 1.06 sec)\tlogL: -12549.092\tTol1: 0.00576\tTol2: 0.04623\t\n",
      "Iter 4/50 \n",
      "M step: done,  E step: done //  (in 1.06 sec)\tlogL: -12252.580\tTol1: 0.02363\tTol2: 0.02676\t\n",
      "Finished training\n",
      "Initializing new EM...\n",
      "Betas shape:  (203, 2, 2)\n",
      "Q estimate shape:  (4999, 2)\n",
      "Iter 1/50 \n",
      "M step: done,  E step: done //  (in 3.01 sec)\tlogL: -14182.469\t\n",
      "Iter 2/50 \n",
      "M step: done,  E step: done //  (in 1.07 sec)\tlogL: -12773.628\tTol1: 0.09934\tTol2: 0.17931\t\n",
      "Iter 3/50 \n",
      "M step: done,  E step: done //  (in 1.07 sec)\tlogL: -12488.435\tTol1: 0.02233\tTol2: 0.05850\t\n",
      "Iter 4/50 \n",
      "M step: done,  E step: done //  (in 1.06 sec)\tlogL: -12416.206\tTol1: 0.00578\tTol2: 0.01746\t\n",
      "Finished training\n",
      "Initializing new EM...\n",
      "Betas shape:  (203, 2, 2)\n",
      "Q estimate shape:  (4999, 2)\n",
      "Iter 1/50 \n",
      "M step: done,  E step: done //  (in 2.96 sec)\tlogL: -14085.721\t\n",
      "Iter 2/50 \n",
      "M step: done,  E step: done //  (in 1.07 sec)\tlogL: -12730.688\tTol1: 0.09620\tTol2: 0.18053\t\n",
      "Iter 3/50 \n",
      "M step: done,  E step: done //  (in 1.06 sec)\tlogL: -12592.889\tTol1: 0.01082\tTol2: 0.04626\t\n",
      "Iter 4/50 \n",
      "M step: done,  E step: done //  (in 1.09 sec)\tlogL: -12242.891\tTol1: 0.02779\tTol2: 0.03369\t\n",
      "Iter 5/50 \n",
      "M step: done,  E step: done //  (in 1.07 sec)\tlogL: -12288.627\tTol1: 0.00374\tTol2: 0.01479\t\n",
      "Finished training\n",
      "Initializing new EM...\n",
      "Betas shape:  (203, 2, 2)\n",
      "Q estimate shape:  (4999, 2)\n",
      "Iter 1/50 \n",
      "M step: done,  E step: done //  (in 3.00 sec)\tlogL: -14038.168\t\n",
      "Iter 2/50 \n",
      "M step: done,  E step: done //  (in 1.07 sec)\tlogL: -12661.530\tTol1: 0.09806\tTol2: 0.18135\t\n",
      "Iter 3/50 \n",
      "M step: done,  E step: done //  (in 1.08 sec)\tlogL: -12397.342\tTol1: 0.02087\tTol2: 0.04945\t\n",
      "Iter 4/50 \n",
      "M step: done,  E step: done //  (in 1.05 sec)\tlogL: -12387.601\tTol1: 0.00079\tTol2: 0.02232\t\n",
      "Finished training\n",
      "Initializing new EM...\n",
      "Betas shape:  (203, 2, 2)\n",
      "Q estimate shape:  (4999, 2)\n",
      "Iter 1/50 \n",
      "M step: done,  E step: done //  (in 2.97 sec)\tlogL: -14105.189\t\n",
      "Iter 2/50 \n",
      "M step: done,  E step: done //  (in 1.08 sec)\tlogL: -12775.986\tTol1: 0.09424\tTol2: 0.17967\t\n",
      "Iter 3/50 \n",
      "M step: done,  E step: done //  (in 1.06 sec)\tlogL: -12410.565\tTol1: 0.02860\tTol2: 0.04656\t\n",
      "Iter 4/50 \n",
      "M step: done,  E step: done //  (in 1.07 sec)\tlogL: -12310.068\tTol1: 0.00810\tTol2: 0.03450\t\n",
      "Iter 5/50 \n",
      "M step: done,  E step: done //  (in 1.14 sec)\tlogL: -12059.769\tTol1: 0.02033\tTol2: 0.02619\t\n",
      "Finished training\n",
      "Initializing new EM...\n",
      "Betas shape:  (203, 2, 2)\n",
      "Q estimate shape:  (4999, 2)\n",
      "Iter 1/50 \n",
      "M step: done,  E step: done //  (in 3.00 sec)\tlogL: -13957.194\t\n",
      "Iter 2/50 \n",
      "M step: done,  E step: done //  (in 1.03 sec)\tlogL: -12695.737\tTol1: 0.09038\tTol2: 0.18134\t\n",
      "Iter 3/50 \n",
      "M step: done,  E step: done //  (in 1.12 sec)\tlogL: -12507.851\tTol1: 0.01480\tTol2: 0.04614\t\n",
      "Iter 4/50 \n",
      "M step: done,  E step: done //  (in 1.05 sec)\tlogL: -12305.576\tTol1: 0.01617\tTol2: 0.02394\t\n",
      "Finished training\n",
      "Initializing new EM...\n",
      "Betas shape:  (203, 2, 2)\n",
      "Q estimate shape:  (4999, 2)\n",
      "Iter 1/50 \n",
      "M step: done,  E step: done //  (in 2.97 sec)\tlogL: -14018.555\t\n",
      "Iter 2/50 \n",
      "M step: done,  E step: done //  (in 1.06 sec)\tlogL: -12685.354\tTol1: 0.09510\tTol2: 0.18111\t\n",
      "Iter 3/50 \n",
      "M step: done,  E step: done //  (in 1.13 sec)\tlogL: -12426.475\tTol1: 0.02041\tTol2: 0.05043\t\n",
      "Iter 4/50 \n",
      "M step: done,  E step: done //  (in 1.07 sec)\tlogL: -12248.662\tTol1: 0.01431\tTol2: 0.01950\t\n",
      "Finished training\n",
      "Initializing new EM...\n",
      "Betas shape:  (203, 2, 2)\n",
      "Q estimate shape:  (4999, 2)\n",
      "Iter 1/50 \n",
      "M step: done,  E step: done //  (in 3.13 sec)\tlogL: -13964.545\t\n",
      "Iter 2/50 \n",
      "M step: done,  E step: done //  (in 1.05 sec)\tlogL: -12619.785\tTol1: 0.09630\tTol2: 0.18142\t\n",
      "Iter 3/50 \n",
      "M step: done,  E step: done //  (in 1.10 sec)\tlogL: -12469.392\tTol1: 0.01192\tTol2: 0.05081\t\n",
      "Iter 4/50 \n",
      "M step: done,  E step: done //  (in 1.09 sec)\tlogL: -12202.732\tTol1: 0.02139\tTol2: 0.01938\t\n",
      "Finished training\n",
      "Initializing new EM...\n",
      "Betas shape:  (203, 2, 2)\n",
      "Q estimate shape:  (4999, 2)\n",
      "Iter 1/50 \n",
      "M step: done,  E step: done //  (in 3.02 sec)\tlogL: -14212.109\t\n",
      "Iter 2/50 \n",
      "M step: done,  E step: done //  (in 1.12 sec)\tlogL: -12917.279\tTol1: 0.09111\tTol2: 0.18011\t\n",
      "Iter 3/50 \n",
      "M step: done,  E step: done //  (in 1.10 sec)\tlogL: -12446.445\tTol1: 0.03645\tTol2: 0.04614\t\n",
      "Iter 4/50 \n",
      "M step: done,  E step: done //  (in 1.09 sec)\tlogL: -12264.773\tTol1: 0.01460\tTol2: 0.04054\t\n",
      "Iter 5/50 \n",
      "M step: done,  E step: done //  (in 1.18 sec)\tlogL: -12119.861\tTol1: 0.01182\tTol2: 0.02136\t\n",
      "Finished training\n",
      "Initializing new EM...\n",
      "Betas shape:  (203, 2, 2)\n",
      "Q estimate shape:  (4999, 2)\n",
      "Iter 1/50 \n",
      "M step: done,  E step: done //  (in 3.21 sec)\tlogL: -14168.980\t\n",
      "Iter 2/50 \n",
      "M step: done,  E step: done //  (in 1.14 sec)\tlogL: -12783.954\tTol1: 0.09775\tTol2: 0.17964\t\n",
      "Iter 3/50 \n",
      "M step: done,  E step: done //  (in 1.07 sec)\tlogL: -12532.725\tTol1: 0.01965\tTol2: 0.04862\t\n",
      "Iter 4/50 \n",
      "M step: done,  E step: done //  (in 1.08 sec)\tlogL: -12346.967\tTol1: 0.01482\tTol2: 0.01812\t\n",
      "Finished training\n",
      "Initializing new EM...\n",
      "Betas shape:  (203, 2, 2)\n",
      "Q estimate shape:  (4999, 2)\n",
      "Iter 1/50 \n",
      "M step: done,  E step: done //  (in 2.99 sec)\tlogL: -14216.384\t\n",
      "Iter 2/50 \n",
      "M step: done,  E step: done //  (in 1.09 sec)\tlogL: -13194.763\tTol1: 0.07186\tTol2: 0.17940\t\n",
      "Iter 3/50 \n",
      "M step: done,  E step: done //  (in 1.07 sec)\tlogL: -12412.626\tTol1: 0.05928\tTol2: 0.08613\t\n",
      "Iter 4/50 \n",
      "M step: done,  E step: done //  (in 1.08 sec)\tlogL: -12274.982\tTol1: 0.01109\tTol2: 0.01942\t\n",
      "Finished training\n",
      "Initializing new EM...\n",
      "Betas shape:  (203, 2, 2)\n",
      "Q estimate shape:  (4999, 2)\n",
      "Iter 1/50 \n",
      "M step: done,  E step: done //  (in 3.05 sec)\tlogL: -14030.365\t\n",
      "Iter 2/50 \n",
      "M step: done,  E step: done //  (in 1.08 sec)\tlogL: -12672.122\tTol1: 0.09681\tTol2: 0.18112\t\n",
      "Iter 3/50 \n",
      "M step: done,  E step: done //  (in 1.05 sec)\tlogL: -12495.422\tTol1: 0.01394\tTol2: 0.05007\t\n",
      "Iter 4/50 \n",
      "M step: done,  E step: done //  (in 1.06 sec)\tlogL: -12243.886\tTol1: 0.02013\tTol2: 0.01859\t\n",
      "Finished training\n",
      "Initializing new EM...\n",
      "Betas shape:  (203, 2, 2)\n",
      "Q estimate shape:  (4999, 2)\n",
      "Iter 1/50 \n",
      "M step: done,  E step: done //  (in 3.11 sec)\tlogL: -14115.216\t\n",
      "Iter 2/50 \n",
      "M step: done,  E step: done //  (in 1.18 sec)\tlogL: -12649.432\tTol1: 0.10384\tTol2: 0.18109\t\n",
      "Iter 3/50 \n",
      "M step: done,  E step: done //  (in 1.13 sec)\tlogL: -12558.793\tTol1: 0.00717\tTol2: 0.04884\t\n",
      "Iter 4/50 \n",
      "M step: done,  E step: done //  (in 1.09 sec)\tlogL: -12324.196\tTol1: 0.01868\tTol2: 0.03194\t\n",
      "Iter 5/50 \n",
      "M step: done,  E step: done //  (in 1.11 sec)\tlogL: -12079.045\tTol1: 0.01989\tTol2: 0.02398\t\n",
      "Finished training\n",
      "Initializing new EM...\n",
      "Betas shape:  (203, 2, 2)\n",
      "Q estimate shape:  (4999, 2)\n",
      "Iter 1/50 \n",
      "M step: done,  E step: done //  (in 3.21 sec)\tlogL: -14106.101\t\n",
      "Iter 2/50 \n",
      "M step: done,  E step: done //  (in 1.08 sec)\tlogL: -12774.290\tTol1: 0.09441\tTol2: 0.18115\t\n",
      "Iter 3/50 \n",
      "M step: done,  E step: done //  (in 1.10 sec)\tlogL: -12420.038\tTol1: 0.02773\tTol2: 0.05324\t\n",
      "Iter 4/50 \n",
      "M step: done,  E step: done //  (in 1.15 sec)\tlogL: -12618.252\tTol1: 0.01596\tTol2: 0.01690\t\n",
      "Finished training\n",
      "Initializing new EM...\n",
      "Betas shape:  (203, 2, 2)\n",
      "Q estimate shape:  (4999, 2)\n",
      "Iter 1/50 \n",
      "M step: done,  E step: done //  (in 3.27 sec)\tlogL: -13975.699\t\n",
      "Iter 2/50 \n",
      "M step: done,  E step: done //  (in 1.14 sec)\tlogL: -12703.623\tTol1: 0.09102\tTol2: 0.18140\t\n",
      "Iter 3/50 \n",
      "M step: done,  E step: done //  (in 1.18 sec)\tlogL: -12408.688\tTol1: 0.02322\tTol2: 0.04468\t\n",
      "Iter 4/50 \n",
      "M step: done,  E step: done //  (in 1.06 sec)\tlogL: -12253.681\tTol1: 0.01249\tTol2: 0.01553\t\n",
      "Finished training\n",
      "Initializing new EM...\n",
      "Betas shape:  (203, 2, 2)\n",
      "Q estimate shape:  (4999, 2)\n",
      "Iter 1/50 \n",
      "M step: done,  E step: done //  (in 3.36 sec)\tlogL: -13935.139\t\n",
      "Iter 2/50 \n",
      "M step: done,  E step: done //  (in 1.18 sec)\tlogL: -12667.963\tTol1: 0.09093\tTol2: 0.18181\t\n",
      "Iter 3/50 \n",
      "M step: done,  E step: done //  (in 1.17 sec)\tlogL: -12387.646\tTol1: 0.02213\tTol2: 0.04512\t\n",
      "Iter 4/50 \n",
      "M step: done,  E step: done //  (in 1.19 sec)\tlogL: -12382.039\tTol1: 0.00045\tTol2: 0.01542\t\n",
      "Finished training\n",
      "Initializing new EM...\n",
      "Betas shape:  (203, 2, 2)\n",
      "Q estimate shape:  (4999, 2)\n",
      "Iter 1/50 \n",
      "M step: done,  E step: done //  (in 3.08 sec)\tlogL: -14002.671\t\n",
      "Iter 2/50 \n",
      "M step: done,  E step: done //  (in 1.11 sec)\tlogL: -12635.589\tTol1: 0.09763\tTol2: 0.18080\t\n",
      "Iter 3/50 \n",
      "M step: done,  E step: done //  (in 1.08 sec)\tlogL: -12426.848\tTol1: 0.01652\tTol2: 0.04787\t\n",
      "Iter 4/50 \n",
      "M step: done,  E step: done //  (in 1.08 sec)\tlogL: -12327.713\tTol1: 0.00798\tTol2: 0.01597\t\n",
      "Finished training\n",
      "Initializing new EM...\n",
      "Betas shape:  (203, 2, 2)\n",
      "Q estimate shape:  (4999, 2)\n",
      "Iter 1/50 \n",
      "M step: done,  E step: done //  (in 3.09 sec)\tlogL: -14022.077\t\n",
      "Iter 2/50 \n",
      "M step: done,  E step: done //  (in 1.11 sec)\tlogL: -13096.605\tTol1: 0.06600\tTol2: 0.18117\t\n",
      "Iter 3/50 \n",
      "M step: done,  E step: done //  (in 1.22 sec)\tlogL: -12395.623\tTol1: 0.05352\tTol2: 0.05328\t\n",
      "Iter 4/50 \n",
      "M step: done,  E step: done //  (in 1.11 sec)\tlogL: -12308.299\tTol1: 0.00704\tTol2: 0.03132\t\n",
      "Iter 5/50 \n",
      "M step: done,  E step: done //  (in 1.15 sec)\tlogL: -12137.249\tTol1: 0.01390\tTol2: 0.02951\t\n",
      "Finished training\n",
      "Multiples runs over Raykar, Epochs to converge=  4.25\n"
     ]
    }
   ],
   "source": [
    "raykarMC = RaykarMC(max_L, y_obs_categorical.shape[-1], T,epochs=1,optimizer=OPT,DTYPE_OP=DTYPE_OP)\n",
    "raykarMC.define_model(\"default rnn text\", embed=embedding_matrix)\n",
    "\n",
    "logL_hists,i_r = raykarMC.multiples_run(20,X_train,y_obs_categorical,batch_size=BATCH_SIZE,max_iter=EPOCHS_BASE,\n",
    "                                     tolerance=TOL)"
   ]
  },
  {
   "cell_type": "code",
   "execution_count": 25,
   "metadata": {},
   "outputs": [],
   "source": [
    "Z_train_p = raykarMC.get_predictions(X_train)\n",
    "Z_train_pred =Z_train_p.argmax(axis=-1)\n",
    "Z_test_p = raykarMC.get_predictions(X_test)\n",
    "Z_test_pred = Z_test_p.argmax(axis=-1)"
   ]
  },
  {
   "cell_type": "code",
   "execution_count": 26,
   "metadata": {},
   "outputs": [
    {
     "data": {
      "image/png": "[encoded data removed]",
      "text/plain": [
       "<Figure size 1080x504 with 1 Axes>"
      ]
     },
     "metadata": {},
     "output_type": "display_data"
    }
   ],
   "source": [
    "plt.figure(figsize=(15,7))\n",
    "for a, value in enumerate(logL_hists): #logL_hists\n",
    "    if a != i_r:\n",
    "        plt.plot(range(len(value)),value,'.-')\n",
    "plt.plot(range(len(logL_hists[i_r])),logL_hists[i_r],'o-',markersize=10,label=\"Selected run\")\n",
    "plt.legend()\n",
    "plt.show()"
   ]
  },
  {
   "cell_type": "markdown",
   "metadata": {},
   "source": [
    "### Our Proposed"
   ]
  },
  {
   "cell_type": "code",
   "execution_count": 78,
   "metadata": {},
   "outputs": [],
   "source": [
    "from code.MixtureofGroups import GroupMixtureGlo, GroupMixtureInd"
   ]
  },
  {
   "cell_type": "code",
   "execution_count": 79,
   "metadata": {},
   "outputs": [
    {
     "name": "stdout",
     "output_type": "stream",
     "text": [
      "vector of repeats:\n",
      " [[0 5]\n",
      " [5 0]\n",
      " [4 2]\n",
      " ...\n",
      " [2 4]\n",
      " [1 4]\n",
      " [3 2]]\n",
      "shape: (4999, 2)\n"
     ]
    }
   ],
   "source": [
    "\"\"\" AÑADIR A ARCHIVO GROUPS...\"\"\"\n",
    "def define_uniform_groups(power, r, M):\n",
    "    R_total = r.sum()\n",
    "    uniform_groups = np.asarray([power*R_total/M for _ in range(M)])\n",
    "    return uniform_groups\n",
    "\n",
    "#get our representation \n",
    "r_obs = set_representation(y_obs,\"repeat\")\n",
    "confe_matrix_G = get_Global_confusionM(Z_train,r_obs)\n",
    "\n",
    "print(\"vector of repeats:\\n\",r_obs)\n",
    "print(\"shape:\",r_obs.shape)"
   ]
  },
  {
   "cell_type": "markdown",
   "metadata": {},
   "source": [
    "There is low entropy (information), maybe there is only a few groups in this dataset, the possible of different behavior is low."
   ]
  },
  {
   "cell_type": "code",
   "execution_count": 22,
   "metadata": {
    "scrolled": true
   },
   "outputs": [
    {
     "name": "stdout",
     "output_type": "stream",
     "text": [
      "Initializing new EM...\n",
      "Doing clustering...Done!\n",
      "Get init alphas in 0.006591 mins\n",
      "Lambda by group:  [1. 1. 1. 1. 1.]\n",
      "Alphas:  (5,)\n",
      "MV init:  (4999, 2)\n",
      "Betas:  (5, 2, 2)\n",
      "Q estimate:  (4999, 2, 5, 2)\n",
      "Iter 1/0\n",
      "M step: done,  E step: done //  (in 1.49 sec)\tlogL: -19351.873\t\n",
      "Finished training!\n"
     ]
    },
    {
     "data": {
      "image/png": "[encoded data removed]",
      "text/plain": [
       "<Figure size 432x288 with 1 Axes>"
      ]
     },
     "metadata": {},
     "output_type": "display_data"
    },
    {
     "data": {
      "text/plain": [
       "<BarContainer object of 5 artists>"
      ]
     },
     "execution_count": 22,
     "metadata": {},
     "output_type": "execute_result"
    },
    {
     "data": {
      "image/png": "[encoded data removed]",
      "text/plain": [
       "<Figure size 432x288 with 1 Axes>"
      ]
     },
     "metadata": {},
     "output_type": "display_data"
    }
   ],
   "source": [
    "gMixture_Global = GroupMixtureGlo(max_L,Kl=r_obs.shape[1],M=5,epochs=0,optimizer=OPT,dtype_op=DTYPE_OP) \n",
    "\n",
    "gMixture_Global.define_model(\"default rnn text\", embed=embedding_matrix)\n",
    "\n",
    "logL_hists,i_r = gMixture_Global.multiples_run(1,X_train,r_obs,batch_size=BATCH_SIZE,max_iter=0,tolerance=TOL)\n",
    "\n",
    "aux = gMixture_Global.alpha_init.sum(axis=1).sum(axis=0)\n",
    "plt.bar(np.arange(gMixture_Global.M),aux)\n",
    "plt.show()\n",
    "gMixture_Global.get_alpha()\n",
    "plt.bar(np.arange(gMixture_Global.M),gMixture_Global.get_alpha())"
   ]
  },
  {
   "cell_type": "code",
   "execution_count": null,
   "metadata": {},
   "outputs": [],
   "source": [
    "#select M based on JS on train and accuracy on val (as train has ground truth can evaluate JS)\n",
    "from code.evaluation import Evaluation_metrics\n",
    "logL_Mchange = []\n",
    "accTR_Mchange = []\n",
    "accTE_Mchange = []\n",
    "best_group_acc_Mchange = []\n",
    "probas_Mchange = []\n",
    "divergence1_Mchange = [] #JS Weighted\n",
    "divergence2_Mchange = [] #JS\n",
    "probGt_Mchange = []\n",
    "inertia_Mchange = [] \n",
    "\n",
    "uniform_groups = define_uniform_groups(0.1, r_obs, M_seted)\n",
    "uniform = True\n",
    "for M_seted in range(1,10+1):\n",
    "    for _ in range(10):\n",
    "        gMixture_Global = GroupMixtureGlo(max_L,Kl=r_obs.shape[1],M=M_seted,epochs=1,optimizer=OPT,dtype_op=DTYPE_OP) \n",
    "        gMixture_Global.define_model(\"default rnn text\", embed=embedding_matrix)\n",
    "        \n",
    "        if uniform:\n",
    "            #to uniform groups...\n",
    "            gMixture_Global.define_priors(\"laplace\")\n",
    "            gMixture_Global.define_priors(uniform_groups) \n",
    "        \n",
    "        logL_hists,i_r = gMixture_Global.multiples_run(20,Xstd_train,r_obs,batch_size=BATCH_SIZE,max_iter=EPOCHS_BASE,tolerance=TOL)\n",
    "        \n",
    "        print(\"Model with %d trained\"%(M_seted))\n",
    "        logL_Mchange.append(logL_hists[i_r])\n",
    "        probas_Mchange.append(gMixture_Global.get_alpha())\n",
    "\n",
    "        #measure metrics..\n",
    "        evaluate = Evaluation_metrics(gMixture_Global,'our1',plot=False) \n",
    "        aux = gMixture_Global.calculate_extra_components(Xstd_train,y_obs,T=T,calculate_pred_annotator=False)\n",
    "        predictions_m,prob_Gt,prob_Yzt,_ =  aux #to evaluate...\n",
    "        Z_train_pred = gMixture_Global.base_model.predict_classes(Xstd_train)\n",
    "        results1 = evaluate.calculate_metrics(Z=Z_train,Z_pred=Z_train_pred,conf_pred=prob_Yzt,conf_true=confe_matrix_R,y_o=y_obs)\n",
    "\n",
    "        accTR_Mchange.append(results1[0][\"Accuracy\"][0])\n",
    "        divergence1_Mchange.append(results1[0][\"Mean NormF\"][0])\n",
    "        divergence2_Mchange.append(results1[0][\"Mean JS\"][0])\n",
    "        probGt_Mchange.append(prob_Gt)\n",
    "\n",
    "        c_M = gMixture_Global.get_confusionM()\n",
    "        y_o_groups = gMixture_Global.get_predictions_groups(Xstd_val).argmax(axis=-1) #obtain p(y^o|x,g=m) and then argmax\n",
    "        Z_val_pred = gMixture_Global.base_model.predict_classes(Xstd_val)\n",
    "        results2 = evaluate.calculate_metrics(Z=Z_val,Z_pred=Z_val_pred,conf_pred=c_M, y_o_groups=y_o_groups)\n",
    "\n",
    "        best_group_acc_Mchange.append(np.max(results2[0][\"Accuracy\"]))\n",
    "        accTE_Mchange.append(results2[1][\"Accuracy\"][0])\n",
    "        inertia_Mchange.append(evaluate.inertia)\n",
    "        \n",
    "        del gMixture_Global,logL_hists,evaluate,predictions_m,prob_Gt,prob_Yzt,Z_train_pred,results1,results2,Z_val_pred\n",
    "        gc.collect()\n",
    "        keras.backend.clear_session()\n",
    "# cada 10 obtener promedio\n",
    "T_models = 9\n",
    "R = 10\n",
    "logL_Mchange = [np.mean( [value[-1] for value in logL_Mchange[i*R:(i+1)*R] ] ) for i in range(T_models)]\n",
    "accTR_Mchange = [np.mean(accTR_Mchange[i*R:(i+1)*R],axis=0) for i in range(T_models)]\n",
    "accTE_Mchange = [np.mean(accTE_Mchange[i*R:(i+1)*R],axis=0) for i in range(T_models)]\n",
    "best_group_acc_Mchange = [np.mean(best_group_acc_Mchange[i*R:(i+1)*R],axis=0) for i in range(T_models)]\n",
    "probas_Mchange = [np.mean(probas_Mchange[i*R:(i+1)*R],axis=0) for i in range(T_models)]\n",
    "divergence1_Mchange = [np.mean(divergence1_Mchange[i*R:(i+1)*R],axis=0) for i in range(T_models)] #KL or JS\n",
    "divergence2_Mchange = [np.mean(divergence2_Mchange[i*R:(i+1)*R],axis=0) for i in range(T_models)] #KL or JS\n",
    "probGt_Mchange = [np.mean(probGt_Mchange[i*R:(i+1)*R],axis=0) for i in range(T_models)]\n",
    "inertia_Mchange = [np.mean(inertia_Mchange[i*R:(i+1)*R],axis=0) for i in range(T_models)]"
   ]
  },
  {
   "cell_type": "code",
   "execution_count": null,
   "metadata": {},
   "outputs": [],
   "source": [
    "plot_Mchange(logL_Mchange,\n",
    "         accTR_Mchange,\n",
    "         accTE_Mchange,\n",
    "         best_group_acc_Mchange,\n",
    "         probas_Mchange,\n",
    "         divergence1_Mchange,\n",
    "             divergence2_Mchange,\n",
    "         probGt_Mchange,\n",
    "         inertia_Mchange\n",
    "            )"
   ]
  },
  {
   "cell_type": "code",
   "execution_count": null,
   "metadata": {},
   "outputs": [],
   "source": [
    "#T if i know T\n",
    "print(T)\n",
    "M_values = range(1,1+len(logL_Mchange))\n",
    "t = pd.DataFrame()\n",
    "t[\"#Groups\"] = M_values\n",
    "t[\">=1 annotator\"] = [ np.sum(probas*T >= 1) for probas in probas_Mchange]\n",
    "t[\">=2 annotator\"] = [ np.sum(probas*T >= 2) for probas in probas_Mchange] #si agrupa al menos tiene 2\n",
    "t[\"Used on annotators\"] = [ len(np.unique(prob_Gt.argmax(axis=1))) for prob_Gt in probGt_Mchange ]#based on p(g|t)\n",
    "t[\"Used on annotators limit >=0.01\"] = [ np.sum(prob_Gt.max(axis=0)>=0.01) for prob_Gt in probGt_Mchange ]#based on p(g|t)\n",
    "t[\"Used on annotators limit >=0.05\"] = [ np.sum(prob_Gt.max(axis=0)>=0.05) for prob_Gt in probGt_Mchange ]#based on p(g|t)\n",
    "t"
   ]
  },
  {
   "cell_type": "code",
   "execution_count": 24,
   "metadata": {},
   "outputs": [],
   "source": [
    "M_seted = 3 #??\n",
    "\n",
    "uniform = False\n",
    "if uniform:\n",
    "    uniform_groups = define_uniform_groups(0.1, r_obs, M_seted)\n",
    "    print(uniform_groups)"
   ]
  },
  {
   "cell_type": "code",
   "execution_count": 25,
   "metadata": {
    "scrolled": true
   },
   "outputs": [
    {
     "name": "stdout",
     "output_type": "stream",
     "text": [
      "Initializing new EM...\n",
      "Doing clustering...Done!\n",
      "Get init alphas in 0.006256 mins\n",
      "Lambda by group:  [1. 1. 1.]\n",
      "Alphas:  (3,)\n",
      "MV init:  (4999, 2)\n",
      "Betas:  (3, 2, 2)\n",
      "Q estimate:  (4999, 2, 3, 2)\n",
      "Iter 1/50\n",
      "M step: done,  E step: done //  (in 3.13 sec)\tlogL: -19102.927\t\n",
      "Iter 2/50\n",
      "M step: done,  E step: done //  (in 0.89 sec)\tlogL: -18944.338\tTol1: 0.00830\tTol2: 0.33977\tTol3: 0.00770\t\n",
      "Iter 3/50\n",
      "M step: done,  E step: done //  (in 0.88 sec)\tlogL: -18743.027\tTol1: 0.01063\tTol2: 0.16703\tTol3: 0.00672\t\n",
      "Iter 4/50\n",
      "M step: done,  E step: done //  (in 0.90 sec)\tlogL: -18617.517\tTol1: 0.00670\tTol2: 0.11656\tTol3: 0.00802\t\n",
      "Iter 5/50\n",
      "M step: done,  E step: done //  (in 0.96 sec)\tlogL: -18450.706\tTol1: 0.00896\tTol2: 0.09191\tTol3: 0.01198\t\n",
      "Iter 6/50\n",
      "M step: done,  E step: done //  (in 0.88 sec)\tlogL: -18249.667\tTol1: 0.01090\tTol2: 0.07873\tTol3: 0.01770\t\n",
      "Iter 7/50\n",
      "M step: done,  E step: done //  (in 0.90 sec)\tlogL: -18065.401\tTol1: 0.01010\tTol2: 0.06952\tTol3: 0.01629\t\n",
      "Iter 8/50\n",
      "M step: done,  E step: done //  (in 0.88 sec)\tlogL: -17875.868\tTol1: 0.01049\tTol2: 0.06422\tTol3: 0.02272\t\n",
      "Iter 9/50\n",
      "M step: done,  E step: done //  (in 0.87 sec)\tlogL: -17745.697\tTol1: 0.00728\tTol2: 0.05339\tTol3: 0.01229\t\n",
      "Iter 10/50\n",
      "M step: done,  E step: done //  (in 0.90 sec)\tlogL: -17700.793\tTol1: 0.00253\tTol2: 0.05072\tTol3: 0.01455\t\n",
      "Iter 11/50\n",
      "M step: done,  E step: done //  (in 0.87 sec)\tlogL: -17764.549\tTol1: 0.00360\tTol2: 0.05045\tTol3: 0.01839\t\n",
      "Iter 12/50\n",
      "M step: done,  E step: done //  (in 0.83 sec)\tlogL: -17437.475\tTol1: 0.01841\tTol2: 0.12918\tTol3: 0.07988\t\n",
      "Iter 13/50\n",
      "M step: done,  E step: done //  (in 0.95 sec)\tlogL: -17301.942\tTol1: 0.00777\tTol2: 0.04491\tTol3: 0.01874\t\n",
      "Iter 14/50\n",
      "M step: done,  E step: done //  (in 0.89 sec)\tlogL: -17252.765\tTol1: 0.00284\tTol2: 0.04600\tTol3: 0.02353\t\n",
      "Iter 15/50\n",
      "M step: done,  E step: done //  (in 0.89 sec)\tlogL: -17480.838\tTol1: 0.01322\tTol2: 0.07132\tTol3: 0.04354\t\n",
      "Iter 16/50\n",
      "M step: done,  E step: done //  (in 0.85 sec)\tlogL: -17289.547\tTol1: 0.01094\tTol2: 0.16425\tTol3: 0.10187\t\n",
      "Iter 17/50\n",
      "M step: done,  E step: done //  (in 0.89 sec)\tlogL: -17077.286\tTol1: 0.01228\tTol2: 0.11283\tTol3: 0.06670\t\n",
      "Iter 18/50\n",
      "M step: done,  E step: done //  (in 0.87 sec)\tlogL: -16976.524\tTol1: 0.00590\tTol2: 0.04813\tTol3: 0.02369\t\n",
      "Iter 19/50\n",
      "M step: done,  E step: done //  (in 0.88 sec)\tlogL: -16845.457\tTol1: 0.00772\tTol2: 0.04640\tTol3: 0.02514\t\n",
      "Iter 20/50\n",
      "M step: done,  E step: done //  (in 0.86 sec)\tlogL: -16796.814\tTol1: 0.00289\tTol2: 0.04846\tTol3: 0.02538\t\n",
      "Iter 21/50\n",
      "M step: done,  E step: done //  (in 0.86 sec)\tlogL: -16733.760\tTol1: 0.00375\tTol2: 0.03776\tTol3: 0.01793\t\n",
      "Iter 22/50\n",
      "M step: done,  E step: done //  (in 0.85 sec)\tlogL: -16608.862\tTol1: 0.00746\tTol2: 0.06627\tTol3: 0.04254\t\n",
      "Iter 23/50\n",
      "M step: done,  E step: done //  (in 0.84 sec)\tlogL: -16441.871\tTol1: 0.01005\tTol2: 0.04620\tTol3: 0.02874\t\n",
      "Iter 24/50\n",
      "M step: done,  E step: done //  (in 0.84 sec)\tlogL: -16421.917\tTol1: 0.00121\tTol2: 0.03281\tTol3: 0.01733\t\n",
      "Iter 25/50\n",
      "M step: done,  E step: done //  (in 0.87 sec)\tlogL: -16361.800\tTol1: 0.00366\tTol2: 0.07193\tTol3: 0.04524\t\n",
      "Iter 26/50\n",
      "M step: done,  E step: done //  (in 0.87 sec)\tlogL: -16172.337\tTol1: 0.01158\tTol2: 0.08632\tTol3: 0.05153\t\n",
      "Iter 27/50\n",
      "M step: done,  E step: done //  (in 0.89 sec)\tlogL: -16160.329\tTol1: 0.00074\tTol2: 0.02731\tTol3: 0.01196\t\n",
      "Finished training!\n",
      "Initializing new EM...\n",
      "Doing clustering...Done!\n",
      "Get init alphas in 0.005786 mins\n",
      "Lambda by group:  [1. 1. 1.]\n",
      "Alphas:  (3,)\n",
      "MV init:  (4999, 2)\n",
      "Betas:  (3, 2, 2)\n",
      "Q estimate:  (4999, 2, 3, 2)\n",
      "Iter 1/50\n",
      "M step: done,  E step: done //  (in 2.74 sec)\tlogL: -19117.959\t\n",
      "Iter 2/50\n",
      "M step: done,  E step: done //  (in 0.85 sec)\tlogL: -19006.184\tTol1: 0.00585\tTol2: 0.34338\tTol3: 0.01578\t\n",
      "Iter 3/50\n",
      "M step: done,  E step: done //  (in 0.90 sec)\tlogL: -18857.627\tTol1: 0.00782\tTol2: 0.16653\tTol3: 0.00592\t\n",
      "Iter 4/50\n",
      "M step: done,  E step: done //  (in 0.91 sec)\tlogL: -18721.123\tTol1: 0.00724\tTol2: 0.11463\tTol3: 0.00658\t\n",
      "Iter 5/50\n",
      "M step: done,  E step: done //  (in 0.91 sec)\tlogL: -18500.315\tTol1: 0.01179\tTol2: 0.09011\tTol3: 0.01384\t\n",
      "Iter 6/50\n",
      "M step: done,  E step: done //  (in 0.89 sec)\tlogL: -18317.057\tTol1: 0.00991\tTol2: 0.07742\tTol3: 0.01432\t\n",
      "Iter 7/50\n",
      "M step: done,  E step: done //  (in 0.87 sec)\tlogL: -18126.105\tTol1: 0.01042\tTol2: 0.06885\tTol3: 0.01852\t\n",
      "Iter 8/50\n",
      "M step: done,  E step: done //  (in 0.90 sec)\tlogL: -17985.094\tTol1: 0.00778\tTol2: 0.06320\tTol3: 0.01731\t\n",
      "Iter 9/50\n",
      "M step: done,  E step: done //  (in 0.89 sec)\tlogL: -17815.499\tTol1: 0.00943\tTol2: 0.07968\tTol3: 0.04659\t\n",
      "Iter 10/50\n",
      "M step: done,  E step: done //  (in 0.85 sec)\tlogL: -17780.281\tTol1: 0.00198\tTol2: 0.05418\tTol3: 0.02626\t\n",
      "Iter 11/50\n",
      "M step: done,  E step: done //  (in 0.84 sec)\tlogL: -17684.547\tTol1: 0.00538\tTol2: 0.06197\tTol3: 0.03541\t\n",
      "Iter 12/50\n",
      "M step: done,  E step: done //  (in 0.87 sec)\tlogL: -17513.197\tTol1: 0.00969\tTol2: 0.06451\tTol3: 0.03802\t\n",
      "Iter 13/50\n",
      "M step: done,  E step: done //  (in 0.89 sec)\tlogL: -17563.473\tTol1: 0.00287\tTol2: 0.04340\tTol3: 0.02167\t\n",
      "Iter 14/50\n",
      "M step: done,  E step: done //  (in 0.87 sec)\tlogL: -17384.377\tTol1: 0.01020\tTol2: 0.11167\tTol3: 0.06937\t\n",
      "Iter 15/50\n",
      "M step: done,  E step: done //  (in 0.86 sec)\tlogL: -17189.760\tTol1: 0.01119\tTol2: 0.07320\tTol3: 0.04585\t\n",
      "Iter 16/50\n",
      "M step: done,  E step: done //  (in 0.87 sec)\tlogL: -17251.142\tTol1: 0.00357\tTol2: 0.03703\tTol3: 0.01413\t\n",
      "Iter 17/50\n",
      "M step: done,  E step: done //  (in 0.85 sec)\tlogL: -17370.090\tTol1: 0.00690\tTol2: 0.11182\tTol3: 0.07167\t\n",
      "Iter 18/50\n",
      "M step: done,  E step: done //  (in 0.88 sec)\tlogL: -16943.298\tTol1: 0.02457\tTol2: 0.16707\tTol3: 0.10133\t\n",
      "Iter 19/50\n",
      "M step: done,  E step: done //  (in 0.82 sec)\tlogL: -17059.789\tTol1: 0.00688\tTol2: 0.03540\tTol3: 0.01906\t\n",
      "Iter 20/50\n",
      "M step: done,  E step: done //  (in 0.84 sec)\tlogL: -16736.324\tTol1: 0.01896\tTol2: 0.12528\tTol3: 0.07615\t\n",
      "Iter 21/50\n",
      "M step: done,  E step: done //  (in 0.84 sec)\tlogL: -16748.424\tTol1: 0.00072\tTol2: 0.03589\tTol3: 0.01912\t\n",
      "Iter 22/50\n",
      "M step: done,  E step: done //  (in 0.89 sec)\tlogL: -16652.313\tTol1: 0.00574\tTol2: 0.04426\tTol3: 0.02079\t\n",
      "Iter 23/50\n",
      "M step: done,  E step: done //  (in 0.87 sec)\tlogL: -16578.545\tTol1: 0.00443\tTol2: 0.05420\tTol3: 0.03266\t\n",
      "Iter 24/50\n",
      "M step: done,  E step: done //  (in 0.88 sec)\tlogL: -16538.557\tTol1: 0.00241\tTol2: 0.08926\tTol3: 0.05459\t\n",
      "Iter 25/50\n",
      "M step: done,  E step: done //  (in 0.89 sec)\tlogL: -16271.032\tTol1: 0.01618\tTol2: 0.10221\tTol3: 0.06147\t\n",
      "Iter 26/50\n",
      "M step: done,  E step: done //  (in 0.84 sec)\tlogL: -16147.826\tTol1: 0.00757\tTol2: 0.03065\tTol3: 0.01613\t\n",
      "Iter 27/50\n",
      "M step: done,  E step: done //  (in 0.89 sec)\tlogL: -16352.913\tTol1: 0.01270\tTol2: 0.03175\tTol3: 0.01816\t\n",
      "Iter 28/50\n",
      "M step: done,  E step: done //  (in 0.86 sec)\tlogL: -16200.056\tTol1: 0.00935\tTol2: 0.14048\tTol3: 0.08679\t\n",
      "Iter 29/50\n",
      "M step: done,  E step: done //  (in 0.84 sec)\tlogL: -15912.739\tTol1: 0.01774\tTol2: 0.10771\tTol3: 0.06620\t\n",
      "Iter 30/50\n",
      "M step: done,  E step: done //  (in 0.82 sec)\tlogL: -15886.419\tTol1: 0.00165\tTol2: 0.03300\tTol3: 0.01809\t\n",
      "Iter 31/50\n",
      "M step: done,  E step: done //  (in 0.85 sec)\tlogL: -15701.423\tTol1: 0.01164\tTol2: 0.08934\tTol3: 0.04887\t\n",
      "Iter 32/50\n",
      "M step: done,  E step: done //  (in 0.85 sec)\tlogL: -15627.837\tTol1: 0.00469\tTol2: 0.03638\tTol3: 0.01830\t\n",
      "Iter 33/50\n",
      "M step: done,  E step: done //  (in 0.89 sec)\tlogL: -15557.488\tTol1: 0.00450\tTol2: 0.03708\tTol3: 0.02026\t\n",
      "Iter 34/50\n",
      "M step: done,  E step: done //  (in 0.86 sec)\tlogL: -15389.426\tTol1: 0.01080\tTol2: 0.03363\tTol3: 0.02205\t\n",
      "Iter 35/50\n",
      "M step: done,  E step: done //  (in 0.90 sec)\tlogL: -15415.844\tTol1: 0.00172\tTol2: 0.03528\tTol3: 0.02017\t\n",
      "Iter 36/50\n",
      "M step: done,  E step: done //  (in 0.85 sec)\tlogL: -15189.216\tTol1: 0.01470\tTol2: 0.10925\tTol3: 0.05889\t\n",
      "Iter 37/50\n",
      "M step: done,  E step: done //  (in 0.85 sec)\tlogL: -15087.326\tTol1: 0.00671\tTol2: 0.03256\tTol3: 0.02002\t\n",
      "Iter 38/50\n",
      "M step: done,  E step: done //  (in 0.88 sec)\tlogL: -15001.175\tTol1: 0.00571\tTol2: 0.02013\tTol3: 0.00635\t\n",
      "Finished training!\n",
      "Initializing new EM...\n",
      "Doing clustering...Done!\n",
      "Get init alphas in 0.006248 mins\n",
      "Lambda by group:  [1. 1. 1.]\n",
      "Alphas:  (3,)\n",
      "MV init:  (4999, 2)\n",
      "Betas:  (3, 2, 2)\n",
      "Q estimate:  (4999, 2, 3, 2)\n",
      "Iter 1/50\n",
      "M step: done,  E step: done //  (in 2.73 sec)\tlogL: -19105.409\t\n",
      "Iter 2/50\n"
     ]
    },
    {
     "name": "stdout",
     "output_type": "stream",
     "text": [
      "M step: done,  E step: done //  (in 0.87 sec)\tlogL: -18978.179\tTol1: 0.00666\tTol2: 0.33937\tTol3: 0.00689\t\n",
      "Iter 3/50\n",
      "M step: done,  E step: done //  (in 0.83 sec)\tlogL: -18913.062\tTol1: 0.00343\tTol2: 0.16791\tTol3: 0.00791\t\n",
      "Iter 4/50\n",
      "M step: done,  E step: done //  (in 0.85 sec)\tlogL: -18572.943\tTol1: 0.01798\tTol2: 0.13707\tTol3: 0.04678\t\n",
      "Iter 5/50\n",
      "M step: done,  E step: done //  (in 0.87 sec)\tlogL: -18497.577\tTol1: 0.00406\tTol2: 0.09161\tTol3: 0.01074\t\n",
      "Iter 6/50\n",
      "M step: done,  E step: done //  (in 0.85 sec)\tlogL: -18162.942\tTol1: 0.01809\tTol2: 0.11657\tTol3: 0.06850\t\n",
      "Iter 7/50\n",
      "M step: done,  E step: done //  (in 0.85 sec)\tlogL: -18070.463\tTol1: 0.00509\tTol2: 0.06948\tTol3: 0.01494\t\n",
      "Iter 8/50\n",
      "M step: done,  E step: done //  (in 0.83 sec)\tlogL: -17909.843\tTol1: 0.00889\tTol2: 0.08321\tTol3: 0.04836\t\n",
      "Iter 9/50\n",
      "M step: done,  E step: done //  (in 0.85 sec)\tlogL: -17726.107\tTol1: 0.01026\tTol2: 0.08359\tTol3: 0.04825\t\n",
      "Iter 10/50\n",
      "M step: done,  E step: done //  (in 0.85 sec)\tlogL: -17569.554\tTol1: 0.00883\tTol2: 0.06557\tTol3: 0.03860\t\n",
      "Iter 11/50\n",
      "M step: done,  E step: done //  (in 0.83 sec)\tlogL: -17498.351\tTol1: 0.00405\tTol2: 0.04919\tTol3: 0.01792\t\n",
      "Iter 12/50\n",
      "M step: done,  E step: done //  (in 0.84 sec)\tlogL: -17529.451\tTol1: 0.00178\tTol2: 0.06736\tTol3: 0.03888\t\n",
      "Iter 13/50\n",
      "M step: done,  E step: done //  (in 0.81 sec)\tlogL: -17209.265\tTol1: 0.01827\tTol2: 0.09492\tTol3: 0.05724\t\n",
      "Iter 14/50\n",
      "M step: done,  E step: done //  (in 0.80 sec)\tlogL: -17122.941\tTol1: 0.00502\tTol2: 0.04377\tTol3: 0.01740\t\n",
      "Iter 15/50\n",
      "M step: done,  E step: done //  (in 0.85 sec)\tlogL: -17022.671\tTol1: 0.00586\tTol2: 0.04340\tTol3: 0.01943\t\n",
      "Iter 16/50\n",
      "M step: done,  E step: done //  (in 0.83 sec)\tlogL: -16906.061\tTol1: 0.00685\tTol2: 0.04936\tTol3: 0.02799\t\n",
      "Iter 17/50\n",
      "M step: done,  E step: done //  (in 0.86 sec)\tlogL: -16831.350\tTol1: 0.00442\tTol2: 0.03580\tTol3: 0.01381\t\n",
      "Iter 18/50\n",
      "M step: done,  E step: done //  (in 0.82 sec)\tlogL: -16853.493\tTol1: 0.00132\tTol2: 0.04698\tTol3: 0.02957\t\n",
      "Iter 19/50\n",
      "M step: done,  E step: done //  (in 0.87 sec)\tlogL: -17215.131\tTol1: 0.02146\tTol2: 0.09162\tTol3: 0.05505\t\n",
      "Iter 20/50\n",
      "M step: done,  E step: done //  (in 0.84 sec)\tlogL: -16664.129\tTol1: 0.03201\tTol2: 0.19428\tTol3: 0.12138\t\n",
      "Iter 21/50\n",
      "M step: done,  E step: done //  (in 0.86 sec)\tlogL: -16600.917\tTol1: 0.00379\tTol2: 0.04044\tTol3: 0.01922\t\n",
      "Iter 22/50\n",
      "M step: done,  E step: done //  (in 0.81 sec)\tlogL: -16486.168\tTol1: 0.00691\tTol2: 0.06667\tTol3: 0.04058\t\n",
      "Iter 23/50\n",
      "M step: done,  E step: done //  (in 0.84 sec)\tlogL: -16405.358\tTol1: 0.00490\tTol2: 0.03680\tTol3: 0.02043\t\n",
      "Iter 24/50\n",
      "M step: done,  E step: done //  (in 0.81 sec)\tlogL: -16384.012\tTol1: 0.00130\tTol2: 0.03690\tTol3: 0.02130\t\n",
      "Iter 25/50\n",
      "M step: done,  E step: done //  (in 0.82 sec)\tlogL: -16269.682\tTol1: 0.00698\tTol2: 0.06694\tTol3: 0.03949\t\n",
      "Iter 26/50\n",
      "M step: done,  E step: done //  (in 0.85 sec)\tlogL: -16273.354\tTol1: 0.00023\tTol2: 0.04778\tTol3: 0.02927\t\n",
      "Iter 27/50\n",
      "M step: done,  E step: done //  (in 0.85 sec)\tlogL: -16313.718\tTol1: 0.00248\tTol2: 0.06525\tTol3: 0.03732\t\n",
      "Iter 28/50\n",
      "M step: done,  E step: done //  (in 0.84 sec)\tlogL: -16136.768\tTol1: 0.01085\tTol2: 0.12259\tTol3: 0.07224\t\n",
      "Iter 29/50\n",
      "M step: done,  E step: done //  (in 0.86 sec)\tlogL: -15979.147\tTol1: 0.00977\tTol2: 0.03619\tTol3: 0.02136\t\n",
      "Iter 30/50\n",
      "M step: done,  E step: done //  (in 0.83 sec)\tlogL: -15887.368\tTol1: 0.00574\tTol2: 0.02211\tTol3: 0.00800\t\n",
      "Finished training!\n",
      "Initializing new EM...\n",
      "Doing clustering...Done!\n",
      "Get init alphas in 0.005759 mins\n",
      "Lambda by group:  [1. 1. 1.]\n",
      "Alphas:  (3,)\n",
      "MV init:  (4999, 2)\n",
      "Betas:  (3, 2, 2)\n",
      "Q estimate:  (4999, 2, 3, 2)\n",
      "Iter 1/50\n",
      "M step: done,  E step: done //  (in 2.71 sec)\tlogL: -19093.640\t\n",
      "Iter 2/50\n",
      "M step: done,  E step: done //  (in 0.85 sec)\tlogL: -18957.847\tTol1: 0.00711\tTol2: 0.33820\tTol3: 0.00360\t\n",
      "Iter 3/50\n",
      "M step: done,  E step: done //  (in 0.87 sec)\tlogL: -18766.132\tTol1: 0.01011\tTol2: 0.16702\tTol3: 0.00479\t\n",
      "Iter 4/50\n",
      "M step: done,  E step: done //  (in 0.85 sec)\tlogL: -18483.626\tTol1: 0.01505\tTol2: 0.12609\tTol3: 0.02629\t\n",
      "Iter 5/50\n",
      "M step: done,  E step: done //  (in 0.86 sec)\tlogL: -18370.104\tTol1: 0.00614\tTol2: 0.09339\tTol3: 0.01202\t\n",
      "Iter 6/50\n",
      "M step: done,  E step: done //  (in 0.84 sec)\tlogL: -18255.886\tTol1: 0.00622\tTol2: 0.07898\tTol3: 0.01450\t\n",
      "Iter 7/50\n",
      "M step: done,  E step: done //  (in 0.84 sec)\tlogL: -18139.203\tTol1: 0.00639\tTol2: 0.06868\tTol3: 0.01483\t\n",
      "Iter 8/50\n",
      "M step: done,  E step: done //  (in 0.85 sec)\tlogL: -18092.520\tTol1: 0.00257\tTol2: 0.06211\tTol3: 0.02214\t\n",
      "Iter 9/50\n",
      "M step: done,  E step: done //  (in 0.84 sec)\tlogL: -17929.296\tTol1: 0.00902\tTol2: 0.07222\tTol3: 0.04178\t\n",
      "Iter 10/50\n",
      "M step: done,  E step: done //  (in 0.84 sec)\tlogL: -17841.292\tTol1: 0.00491\tTol2: 0.05337\tTol3: 0.01759\t\n",
      "Iter 11/50\n",
      "M step: done,  E step: done //  (in 0.86 sec)\tlogL: -17743.603\tTol1: 0.00548\tTol2: 0.08227\tTol3: 0.05225\t\n",
      "Iter 12/50\n",
      "M step: done,  E step: done //  (in 0.85 sec)\tlogL: -17810.843\tTol1: 0.00379\tTol2: 0.09397\tTol3: 0.05653\t\n",
      "Iter 13/50\n",
      "M step: done,  E step: done //  (in 0.86 sec)\tlogL: -17555.838\tTol1: 0.01432\tTol2: 0.15446\tTol3: 0.09484\t\n",
      "Iter 14/50\n",
      "M step: done,  E step: done //  (in 0.81 sec)\tlogL: -17305.120\tTol1: 0.01428\tTol2: 0.10770\tTol3: 0.06641\t\n",
      "Iter 15/50\n",
      "M step: done,  E step: done //  (in 0.82 sec)\tlogL: -17196.543\tTol1: 0.00627\tTol2: 0.03784\tTol3: 0.01334\t\n",
      "Iter 16/50\n",
      "M step: done,  E step: done //  (in 0.84 sec)\tlogL: -17236.150\tTol1: 0.00230\tTol2: 0.03656\tTol3: 0.01531\t\n",
      "Iter 17/50\n",
      "M step: done,  E step: done //  (in 0.83 sec)\tlogL: -17106.029\tTol1: 0.00755\tTol2: 0.10042\tTol3: 0.06134\t\n",
      "Iter 18/50\n",
      "M step: done,  E step: done //  (in 0.84 sec)\tlogL: -16926.987\tTol1: 0.01047\tTol2: 0.08253\tTol3: 0.05153\t\n",
      "Iter 19/50\n",
      "M step: done,  E step: done //  (in 0.85 sec)\tlogL: -16971.283\tTol1: 0.00262\tTol2: 0.03130\tTol3: 0.01529\t\n",
      "Iter 20/50\n",
      "M step: done,  E step: done //  (in 0.82 sec)\tlogL: -16873.197\tTol1: 0.00578\tTol2: 0.10444\tTol3: 0.06445\t\n",
      "Iter 21/50\n",
      "M step: done,  E step: done //  (in 0.87 sec)\tlogL: -16755.698\tTol1: 0.00696\tTol2: 0.07215\tTol3: 0.04558\t\n",
      "Iter 22/50\n",
      "M step: done,  E step: done //  (in 0.85 sec)\tlogL: -16661.901\tTol1: 0.00560\tTol2: 0.03336\tTol3: 0.01795\t\n",
      "Iter 23/50\n",
      "M step: done,  E step: done //  (in 0.83 sec)\tlogL: -16572.907\tTol1: 0.00534\tTol2: 0.03604\tTol3: 0.02259\t\n",
      "Iter 24/50\n",
      "M step: done,  E step: done //  (in 0.85 sec)\tlogL: -16524.982\tTol1: 0.00289\tTol2: 0.05011\tTol3: 0.02968\t\n",
      "Iter 25/50\n",
      "M step: done,  E step: done //  (in 0.85 sec)\tlogL: -16446.681\tTol1: 0.00474\tTol2: 0.05850\tTol3: 0.03651\t\n",
      "Iter 26/50\n",
      "M step: done,  E step: done //  (in 0.86 sec)\tlogL: -16277.044\tTol1: 0.01031\tTol2: 0.07579\tTol3: 0.04487\t\n",
      "Iter 27/50\n",
      "M step: done,  E step: done //  (in 0.83 sec)\tlogL: -16209.398\tTol1: 0.00416\tTol2: 0.02510\tTol3: 0.00938\t\n",
      "Finished training!\n",
      "Initializing new EM...\n",
      "Doing clustering...Done!\n",
      "Get init alphas in 0.006108 mins\n",
      "Lambda by group:  [1. 1. 1.]\n",
      "Alphas:  (3,)\n",
      "MV init:  (4999, 2)\n",
      "Betas:  (3, 2, 2)\n",
      "Q estimate:  (4999, 2, 3, 2)\n",
      "Iter 1/50\n",
      "M step: done,  E step: done //  (in 2.66 sec)\tlogL: -19083.321\t\n",
      "Iter 2/50\n",
      "M step: done,  E step: done //  (in 0.86 sec)\tlogL: -18905.087\tTol1: 0.00934\tTol2: 0.34000\tTol3: 0.00757\t\n",
      "Iter 3/50\n",
      "M step: done,  E step: done //  (in 0.84 sec)\tlogL: -18751.087\tTol1: 0.00815\tTol2: 0.16794\tTol3: 0.00567\t\n",
      "Iter 4/50\n",
      "M step: done,  E step: done //  (in 0.85 sec)\tlogL: -18521.745\tTol1: 0.01223\tTol2: 0.11678\tTol3: 0.00872\t\n",
      "Iter 5/50\n",
      "M step: done,  E step: done //  (in 0.86 sec)\tlogL: -18338.598\tTol1: 0.00989\tTol2: 0.09218\tTol3: 0.01127\t\n",
      "Iter 6/50\n",
      "M step: done,  E step: done //  (in 0.83 sec)\tlogL: -18355.325\tTol1: 0.00091\tTol2: 0.07908\tTol3: 0.01802\t\n",
      "Iter 7/50\n",
      "M step: done,  E step: done //  (in 0.87 sec)\tlogL: -18079.150\tTol1: 0.01505\tTol2: 0.11294\tTol3: 0.06812\t\n",
      "Iter 8/50\n",
      "M step: done,  E step: done //  (in 0.86 sec)\tlogL: -17999.071\tTol1: 0.00443\tTol2: 0.06327\tTol3: 0.01725\t\n",
      "Iter 9/50\n",
      "M step: done,  E step: done //  (in 0.86 sec)\tlogL: -17857.804\tTol1: 0.00785\tTol2: 0.05832\tTol3: 0.01731\t\n",
      "Iter 10/50\n",
      "M step: done,  E step: done //  (in 0.84 sec)\tlogL: -17700.210\tTol1: 0.00882\tTol2: 0.07910\tTol3: 0.04960\t\n",
      "Iter 11/50\n",
      "M step: done,  E step: done //  (in 0.83 sec)\tlogL: -17536.132\tTol1: 0.00927\tTol2: 0.05002\tTol3: 0.01724\t\n",
      "Iter 12/50\n",
      "M step: done,  E step: done //  (in 0.86 sec)\tlogL: -17540.040\tTol1: 0.00022\tTol2: 0.04699\tTol3: 0.02114\t\n",
      "Iter 13/50\n",
      "M step: done,  E step: done //  (in 0.87 sec)\tlogL: -17414.071\tTol1: 0.00718\tTol2: 0.06518\tTol3: 0.04095\t\n",
      "Iter 14/50\n",
      "M step: done,  E step: done //  (in 0.87 sec)\tlogL: -17331.679\tTol1: 0.00473\tTol2: 0.04638\tTol3: 0.02392\t\n",
      "Iter 15/50\n",
      "M step: done,  E step: done //  (in 0.88 sec)\tlogL: -17270.120\tTol1: 0.00355\tTol2: 0.04399\tTol3: 0.01986\t\n",
      "Iter 16/50\n",
      "M step: done,  E step: done //  (in 0.85 sec)\tlogL: -17117.977\tTol1: 0.00881\tTol2: 0.04236\tTol3: 0.01993\t\n",
      "Iter 17/50\n",
      "M step: done,  E step: done //  (in 0.84 sec)\tlogL: -17006.380\tTol1: 0.00652\tTol2: 0.04006\tTol3: 0.01860\t\n",
      "Iter 18/50\n",
      "M step: done,  E step: done //  (in 0.88 sec)\tlogL: -16989.441\tTol1: 0.00100\tTol2: 0.03717\tTol3: 0.01612\t\n",
      "Iter 19/50\n",
      "M step: done,  E step: done //  (in 0.82 sec)\tlogL: -16817.770\tTol1: 0.01010\tTol2: 0.05350\tTol3: 0.03323\t\n",
      "Iter 20/50\n",
      "M step: done,  E step: done //  (in 0.85 sec)\tlogL: -16938.191\tTol1: 0.00716\tTol2: 0.03071\tTol3: 0.01101\t\n",
      "Iter 21/50\n",
      "M step: done,  E step: done //  (in 0.87 sec)\tlogL: -16756.465\tTol1: 0.01073\tTol2: 0.11985\tTol3: 0.07516\t\n",
      "Iter 22/50\n",
      "M step: done,  E step: done //  (in 0.85 sec)\tlogL: -16629.022\tTol1: 0.00761\tTol2: 0.05718\tTol3: 0.03477\t\n",
      "Iter 23/50\n",
      "M step: done,  E step: done //  (in 0.84 sec)\tlogL: -16539.840\tTol1: 0.00536\tTol2: 0.02558\tTol3: 0.00799\t\n",
      "Finished training!\n",
      "Initializing new EM...\n",
      "Doing clustering...Done!\n",
      "Get init alphas in 0.005909 mins\n",
      "Lambda by group:  [1. 1. 1.]\n",
      "Alphas:  (3,)\n",
      "MV init:  (4999, 2)\n",
      "Betas:  (3, 2, 2)\n",
      "Q estimate:  (4999, 2, 3, 2)\n",
      "Iter 1/50\n",
      "M step: done,  E step: done //  (in 2.74 sec)\tlogL: -19094.784\t\n",
      "Iter 2/50\n",
      "M step: done,  E step: done //  (in 0.91 sec)\tlogL: -19014.501\tTol1: 0.00420\tTol2: 0.34072\tTol3: 0.00565\t\n",
      "Iter 3/50\n",
      "M step: done,  E step: done //  (in 0.86 sec)\tlogL: -18872.847\tTol1: 0.00745\tTol2: 0.16565\tTol3: 0.00336\t\n",
      "Iter 4/50\n",
      "M step: done,  E step: done //  (in 0.84 sec)\tlogL: -18687.454\tTol1: 0.00982\tTol2: 0.11431\tTol3: 0.00987\t\n",
      "Iter 5/50\n",
      "M step: done,  E step: done //  (in 0.86 sec)\tlogL: -18525.765\tTol1: 0.00865\tTol2: 0.09735\tTol3: 0.02372\t\n",
      "Iter 6/50\n",
      "M step: done,  E step: done //  (in 0.86 sec)\tlogL: -18398.806\tTol1: 0.00685\tTol2: 0.07741\tTol3: 0.01315\t\n",
      "Iter 7/50\n",
      "M step: done,  E step: done //  (in 0.86 sec)\tlogL: -18152.718\tTol1: 0.01338\tTol2: 0.06894\tTol3: 0.02291\t\n",
      "Iter 8/50\n",
      "M step: done,  E step: done //  (in 0.86 sec)\tlogL: -18059.504\tTol1: 0.00513\tTol2: 0.06309\tTol3: 0.01737\t\n",
      "Iter 9/50\n",
      "M step: done,  E step: done //  (in 0.87 sec)\tlogL: -17935.306\tTol1: 0.00688\tTol2: 0.08356\tTol3: 0.05099\t\n",
      "Iter 10/50\n",
      "M step: done,  E step: done //  (in 0.86 sec)\tlogL: -17828.734\tTol1: 0.00594\tTol2: 0.06181\tTol3: 0.03041\t\n",
      "Iter 11/50\n",
      "M step: done,  E step: done //  (in 0.86 sec)\tlogL: -17675.343\tTol1: 0.00860\tTol2: 0.07339\tTol3: 0.04446\t\n",
      "Iter 12/50\n",
      "M step: done,  E step: done //  (in 0.87 sec)\tlogL: -17586.199\tTol1: 0.00504\tTol2: 0.04608\tTol3: 0.01540\t\n",
      "Iter 13/50\n",
      "M step: done,  E step: done //  (in 0.87 sec)\tlogL: -17494.913\tTol1: 0.00519\tTol2: 0.04537\tTol3: 0.01824\t\n",
      "Iter 14/50\n",
      "M step: done,  E step: done //  (in 0.84 sec)\tlogL: -17365.252\tTol1: 0.00741\tTol2: 0.04467\tTol3: 0.02059\t\n",
      "Iter 15/50\n",
      "M step: done,  E step: done //  (in 0.84 sec)\tlogL: -17365.464\tTol1: 0.00001\tTol2: 0.04336\tTol3: 0.02239\t\n",
      "Iter 16/50\n",
      "M step: done,  E step: done //  (in 0.89 sec)\tlogL: -17302.673\tTol1: 0.00362\tTol2: 0.09415\tTol3: 0.05887\t\n",
      "Iter 17/50\n",
      "M step: done,  E step: done //  (in 0.88 sec)\tlogL: -17125.590\tTol1: 0.01023\tTol2: 0.08281\tTol3: 0.05239\t\n",
      "Iter 18/50\n",
      "M step: done,  E step: done //  (in 0.86 sec)\tlogL: -17036.559\tTol1: 0.00520\tTol2: 0.04063\tTol3: 0.02203\t\n",
      "Iter 19/50\n",
      "M step: done,  E step: done //  (in 0.85 sec)\tlogL: -17397.533\tTol1: 0.02119\tTol2: 0.08551\tTol3: 0.05138\t\n",
      "Iter 20/50\n",
      "M step: done,  E step: done //  (in 0.87 sec)\tlogL: -16965.490\tTol1: 0.02483\tTol2: 0.20843\tTol3: 0.12674\t\n",
      "Iter 21/50\n",
      "M step: done,  E step: done //  (in 0.89 sec)\tlogL: -16865.617\tTol1: 0.00589\tTol2: 0.10404\tTol3: 0.06180\t\n",
      "Iter 22/50\n",
      "M step: done,  E step: done //  (in 0.88 sec)\tlogL: -16657.775\tTol1: 0.01232\tTol2: 0.07988\tTol3: 0.04767\t\n",
      "Iter 23/50\n",
      "M step: done,  E step: done //  (in 0.81 sec)\tlogL: -16585.939\tTol1: 0.00431\tTol2: 0.03594\tTol3: 0.02110\t\n",
      "Iter 24/50\n",
      "M step: done,  E step: done //  (in 0.85 sec)\tlogL: -16681.245\tTol1: 0.00575\tTol2: 0.03786\tTol3: 0.02209\t\n",
      "Iter 25/50\n",
      "M step: done,  E step: done //  (in 0.88 sec)\tlogL: -16420.258\tTol1: 0.01565\tTol2: 0.10820\tTol3: 0.06459\t\n",
      "Iter 26/50\n",
      "M step: done,  E step: done //  (in 0.85 sec)\tlogL: -16367.345\tTol1: 0.00322\tTol2: 0.03658\tTol3: 0.02258\t\n",
      "Iter 27/50\n",
      "M step: done,  E step: done //  (in 0.84 sec)\tlogL: -16293.205\tTol1: 0.00453\tTol2: 0.04279\tTol3: 0.02676\t\n",
      "Iter 28/50\n",
      "M step: done,  E step: done //  (in 0.85 sec)\tlogL: -16213.491\tTol1: 0.00489\tTol2: 0.03459\tTol3: 0.02086\t\n",
      "Iter 29/50\n",
      "M step: done,  E step: done //  (in 0.85 sec)\tlogL: -16215.691\tTol1: 0.00014\tTol2: 0.03900\tTol3: 0.01939\t\n",
      "Iter 30/50\n",
      "M step: done,  E step: done //  (in 0.86 sec)\tlogL: -16051.238\tTol1: 0.01014\tTol2: 0.06381\tTol3: 0.03732\t\n",
      "Iter 31/50\n",
      "M step: done,  E step: done //  (in 0.83 sec)\tlogL: -16516.536\tTol1: 0.02899\tTol2: 0.04910\tTol3: 0.02919\t\n",
      "Iter 32/50\n",
      "M step: done,  E step: done //  (in 0.88 sec)\tlogL: -15943.966\tTol1: 0.03467\tTol2: 0.20212\tTol3: 0.11735\t\n",
      "Iter 33/50\n",
      "M step: done,  E step: done //  (in 0.88 sec)\tlogL: -15797.836\tTol1: 0.00917\tTol2: 0.03486\tTol3: 0.01748\t\n",
      "Iter 34/50\n",
      "M step: done,  E step: done //  (in 0.87 sec)\tlogL: -15769.195\tTol1: 0.00181\tTol2: 0.03136\tTol3: 0.01537\t\n",
      "Iter 35/50\n",
      "M step: done,  E step: done //  (in 0.89 sec)\tlogL: -15775.873\tTol1: 0.00042\tTol2: 0.04034\tTol3: 0.01743\t\n",
      "Iter 36/50\n",
      "M step: done,  E step: done //  (in 0.90 sec)\tlogL: -15618.757\tTol1: 0.00996\tTol2: 0.07039\tTol3: 0.03880\t\n",
      "Iter 37/50\n",
      "M step: done,  E step: done //  (in 0.96 sec)\tlogL: -15471.939\tTol1: 0.00940\tTol2: 0.02864\tTol3: 0.01313\t\n",
      "Finished training!\n",
      "Initializing new EM...\n",
      "Doing clustering...Done!\n",
      "Get init alphas in 0.006110 mins\n",
      "Lambda by group:  [1. 1. 1.]\n",
      "Alphas:  (3,)\n",
      "MV init:  (4999, 2)\n",
      "Betas:  (3, 2, 2)\n",
      "Q estimate:  (4999, 2, 3, 2)\n",
      "Iter 1/50\n",
      "M step: done,  E step: done //  (in 2.95 sec)\tlogL: -19116.596\t\n",
      "Iter 2/50\n",
      "M step: done,  E step: done //  (in 0.87 sec)\tlogL: -18957.446\tTol1: 0.00833\tTol2: 0.34906\tTol3: 0.02585\t\n",
      "Iter 3/50\n",
      "M step: done,  E step: done //  (in 0.88 sec)\tlogL: -18741.728\tTol1: 0.01138\tTol2: 0.16848\tTol3: 0.00879\t\n",
      "Iter 4/50\n",
      "M step: done,  E step: done //  (in 0.92 sec)\tlogL: -18519.193\tTol1: 0.01187\tTol2: 0.13887\tTol3: 0.04785\t\n",
      "Iter 5/50\n",
      "M step: done,  E step: done //  (in 0.89 sec)\tlogL: -18308.442\tTol1: 0.01138\tTol2: 0.09216\tTol3: 0.01097\t\n",
      "Iter 6/50\n",
      "M step: done,  E step: done //  (in 0.84 sec)\tlogL: -18261.403\tTol1: 0.00257\tTol2: 0.07877\tTol3: 0.01357\t\n",
      "Iter 7/50\n",
      "M step: done,  E step: done //  (in 0.87 sec)\tlogL: -18050.394\tTol1: 0.01155\tTol2: 0.08604\tTol3: 0.04555\t\n",
      "Iter 8/50\n",
      "M step: done,  E step: done //  (in 0.86 sec)\tlogL: -17960.298\tTol1: 0.00499\tTol2: 0.06143\tTol3: 0.01506\t\n",
      "Iter 9/50\n",
      "M step: done,  E step: done //  (in 0.86 sec)\tlogL: -17872.128\tTol1: 0.00491\tTol2: 0.07517\tTol3: 0.04309\t\n",
      "Iter 10/50\n",
      "M step: done,  E step: done //  (in 0.83 sec)\tlogL: -17836.650\tTol1: 0.00199\tTol2: 0.05571\tTol3: 0.02723\t\n",
      "Iter 11/50\n",
      "M step: done,  E step: done //  (in 0.85 sec)\tlogL: -17697.142\tTol1: 0.00782\tTol2: 0.07212\tTol3: 0.04405\t\n",
      "Iter 12/50\n",
      "M step: done,  E step: done //  (in 0.87 sec)\tlogL: -17540.804\tTol1: 0.00883\tTol2: 0.04737\tTol3: 0.01851\t\n",
      "Iter 13/50\n",
      "M step: done,  E step: done //  (in 0.84 sec)\tlogL: -17479.372\tTol1: 0.00350\tTol2: 0.05295\tTol3: 0.03179\t\n",
      "Iter 14/50\n",
      "M step: done,  E step: done //  (in 0.86 sec)\tlogL: -17446.407\tTol1: 0.00189\tTol2: 0.06744\tTol3: 0.04193\t\n",
      "Iter 15/50\n",
      "M step: done,  E step: done //  (in 0.83 sec)\tlogL: -17296.144\tTol1: 0.00861\tTol2: 0.06385\tTol3: 0.03943\t\n",
      "Iter 16/50\n",
      "M step: done,  E step: done //  (in 0.85 sec)\tlogL: -17160.973\tTol1: 0.00782\tTol2: 0.04728\tTol3: 0.02456\t\n",
      "Iter 17/50\n",
      "M step: done,  E step: done //  (in 0.89 sec)\tlogL: -17086.700\tTol1: 0.00433\tTol2: 0.04093\tTol3: 0.01885\t\n",
      "Iter 18/50\n",
      "M step: done,  E step: done //  (in 0.88 sec)\tlogL: -17141.902\tTol1: 0.00323\tTol2: 0.06132\tTol3: 0.03809\t\n",
      "Iter 19/50\n"
     ]
    },
    {
     "name": "stdout",
     "output_type": "stream",
     "text": [
      "M step: done,  E step: done //  (in 0.98 sec)\tlogL: -16979.005\tTol1: 0.00950\tTol2: 0.10184\tTol3: 0.06228\t\n",
      "Iter 20/50\n",
      "M step: done,  E step: done //  (in 0.91 sec)\tlogL: -16833.601\tTol1: 0.00856\tTol2: 0.03768\tTol3: 0.02088\t\n",
      "Iter 21/50\n",
      "M step: done,  E step: done //  (in 0.93 sec)\tlogL: -16774.797\tTol1: 0.00349\tTol2: 0.03392\tTol3: 0.01709\t\n",
      "Iter 22/50\n",
      "M step: done,  E step: done //  (in 0.90 sec)\tlogL: -16813.037\tTol1: 0.00228\tTol2: 0.03587\tTol3: 0.02052\t\n",
      "Iter 23/50\n",
      "M step: done,  E step: done //  (in 0.86 sec)\tlogL: -16618.272\tTol1: 0.01158\tTol2: 0.10814\tTol3: 0.06610\t\n",
      "Iter 24/50\n",
      "M step: done,  E step: done //  (in 0.87 sec)\tlogL: -16550.777\tTol1: 0.00406\tTol2: 0.07198\tTol3: 0.04292\t\n",
      "Iter 25/50\n",
      "M step: done,  E step: done //  (in 0.92 sec)\tlogL: -16469.669\tTol1: 0.00490\tTol2: 0.03148\tTol3: 0.01777\t\n",
      "Iter 26/50\n",
      "M step: done,  E step: done //  (in 0.80 sec)\tlogL: -16537.531\tTol1: 0.00412\tTol2: 0.03890\tTol3: 0.02332\t\n",
      "Iter 27/50\n",
      "M step: done,  E step: done //  (in 0.87 sec)\tlogL: -16369.103\tTol1: 0.01018\tTol2: 0.08094\tTol3: 0.04933\t\n",
      "Iter 28/50\n",
      "M step: done,  E step: done //  (in 0.87 sec)\tlogL: -16339.583\tTol1: 0.00180\tTol2: 0.03503\tTol3: 0.02122\t\n",
      "Iter 29/50\n",
      "M step: done,  E step: done //  (in 0.88 sec)\tlogL: -16236.301\tTol1: 0.00632\tTol2: 0.06932\tTol3: 0.04137\t\n",
      "Iter 30/50\n",
      "M step: done,  E step: done //  (in 0.84 sec)\tlogL: -16101.746\tTol1: 0.00829\tTol2: 0.06502\tTol3: 0.03877\t\n",
      "Iter 31/50\n",
      "M step: done,  E step: done //  (in 0.84 sec)\tlogL: -16002.012\tTol1: 0.00619\tTol2: 0.03675\tTol3: 0.02154\t\n",
      "Iter 32/50\n",
      "M step: done,  E step: done //  (in 0.86 sec)\tlogL: -16002.572\tTol1: 0.00003\tTol2: 0.02948\tTol3: 0.01737\t\n",
      "Finished training!\n",
      "Initializing new EM...\n",
      "Doing clustering...Done!\n",
      "Get init alphas in 0.006316 mins\n",
      "Lambda by group:  [1. 1. 1.]\n",
      "Alphas:  (3,)\n",
      "MV init:  (4999, 2)\n",
      "Betas:  (3, 2, 2)\n",
      "Q estimate:  (4999, 2, 3, 2)\n",
      "Iter 1/50\n",
      "M step: done,  E step: done //  (in 2.73 sec)\tlogL: -19088.477\t\n",
      "Iter 2/50\n",
      "M step: done,  E step: done //  (in 0.82 sec)\tlogL: -18964.046\tTol1: 0.00652\tTol2: 0.34214\tTol3: 0.01242\t\n",
      "Iter 3/50\n",
      "M step: done,  E step: done //  (in 0.86 sec)\tlogL: -18808.542\tTol1: 0.00820\tTol2: 0.16698\tTol3: 0.00454\t\n",
      "Iter 4/50\n",
      "M step: done,  E step: done //  (in 0.86 sec)\tlogL: -18629.127\tTol1: 0.00954\tTol2: 0.11581\tTol3: 0.00773\t\n",
      "Iter 5/50\n",
      "M step: done,  E step: done //  (in 0.83 sec)\tlogL: -18512.910\tTol1: 0.00624\tTol2: 0.09272\tTol3: 0.01589\t\n",
      "Iter 6/50\n",
      "M step: done,  E step: done //  (in 0.87 sec)\tlogL: -18315.364\tTol1: 0.01067\tTol2: 0.07943\tTol3: 0.02013\t\n",
      "Iter 7/50\n",
      "M step: done,  E step: done //  (in 0.84 sec)\tlogL: -18163.174\tTol1: 0.00831\tTol2: 0.06759\tTol3: 0.01356\t\n",
      "Iter 8/50\n",
      "M step: done,  E step: done //  (in 0.85 sec)\tlogL: -18031.733\tTol1: 0.00724\tTol2: 0.07804\tTol3: 0.04268\t\n",
      "Iter 9/50\n",
      "M step: done,  E step: done //  (in 0.87 sec)\tlogL: -17889.398\tTol1: 0.00789\tTol2: 0.05650\tTol3: 0.01654\t\n",
      "Iter 10/50\n",
      "M step: done,  E step: done //  (in 0.81 sec)\tlogL: -17965.460\tTol1: 0.00425\tTol2: 0.05604\tTol3: 0.02870\t\n",
      "Iter 11/50\n",
      "M step: done,  E step: done //  (in 0.86 sec)\tlogL: -17614.117\tTol1: 0.01956\tTol2: 0.13437\tTol3: 0.08277\t\n",
      "Iter 12/50\n",
      "M step: done,  E step: done //  (in 0.84 sec)\tlogL: -17626.270\tTol1: 0.00069\tTol2: 0.04718\tTol3: 0.02070\t\n",
      "Iter 13/50\n",
      "M step: done,  E step: done //  (in 0.84 sec)\tlogL: -17642.586\tTol1: 0.00093\tTol2: 0.07292\tTol3: 0.04658\t\n",
      "Iter 14/50\n",
      "M step: done,  E step: done //  (in 0.84 sec)\tlogL: -17491.152\tTol1: 0.00858\tTol2: 0.11510\tTol3: 0.07185\t\n",
      "Iter 15/50\n",
      "M step: done,  E step: done //  (in 0.89 sec)\tlogL: -17321.912\tTol1: 0.00968\tTol2: 0.04914\tTol3: 0.02376\t\n",
      "Iter 16/50\n",
      "M step: done,  E step: done //  (in 0.85 sec)\tlogL: -17344.599\tTol1: 0.00131\tTol2: 0.05092\tTol3: 0.02021\t\n",
      "Iter 17/50\n",
      "M step: done,  E step: done //  (in 0.85 sec)\tlogL: -17159.086\tTol1: 0.01070\tTol2: 0.09668\tTol3: 0.06111\t\n",
      "Iter 18/50\n",
      "M step: done,  E step: done //  (in 0.84 sec)\tlogL: -17059.833\tTol1: 0.00578\tTol2: 0.04360\tTol3: 0.02465\t\n",
      "Iter 19/50\n",
      "M step: done,  E step: done //  (in 0.84 sec)\tlogL: -17022.277\tTol1: 0.00220\tTol2: 0.04438\tTol3: 0.02593\t\n",
      "Iter 20/50\n",
      "M step: done,  E step: done //  (in 0.83 sec)\tlogL: -16879.108\tTol1: 0.00841\tTol2: 0.09717\tTol3: 0.05839\t\n",
      "Iter 21/50\n",
      "M step: done,  E step: done //  (in 0.84 sec)\tlogL: -16874.727\tTol1: 0.00026\tTol2: 0.03797\tTol3: 0.02223\t\n",
      "Iter 22/50\n",
      "M step: done,  E step: done //  (in 0.86 sec)\tlogL: -16761.673\tTol1: 0.00670\tTol2: 0.05918\tTol3: 0.03434\t\n",
      "Iter 23/50\n",
      "M step: done,  E step: done //  (in 0.85 sec)\tlogL: -16632.473\tTol1: 0.00771\tTol2: 0.06404\tTol3: 0.03993\t\n",
      "Iter 24/50\n",
      "M step: done,  E step: done //  (in 0.88 sec)\tlogL: -16593.467\tTol1: 0.00235\tTol2: 0.03815\tTol3: 0.02387\t\n",
      "Iter 25/50\n",
      "M step: done,  E step: done //  (in 0.84 sec)\tlogL: -16497.253\tTol1: 0.00580\tTol2: 0.07084\tTol3: 0.04150\t\n",
      "Iter 26/50\n",
      "M step: done,  E step: done //  (in 0.85 sec)\tlogL: -16515.012\tTol1: 0.00108\tTol2: 0.03353\tTol3: 0.01877\t\n",
      "Iter 27/50\n",
      "M step: done,  E step: done //  (in 0.84 sec)\tlogL: -16445.186\tTol1: 0.00423\tTol2: 0.09402\tTol3: 0.05468\t\n",
      "Iter 28/50\n",
      "M step: done,  E step: done //  (in 0.85 sec)\tlogL: -16246.959\tTol1: 0.01205\tTol2: 0.08094\tTol3: 0.04434\t\n",
      "Iter 29/50\n",
      "M step: done,  E step: done //  (in 0.85 sec)\tlogL: -16185.645\tTol1: 0.00377\tTol2: 0.03173\tTol3: 0.01523\t\n",
      "Iter 30/50\n",
      "M step: done,  E step: done //  (in 0.85 sec)\tlogL: -16338.585\tTol1: 0.00945\tTol2: 0.03522\tTol3: 0.01639\t\n",
      "Iter 31/50\n",
      "M step: done,  E step: done //  (in 0.83 sec)\tlogL: -15992.572\tTol1: 0.02118\tTol2: 0.10287\tTol3: 0.05366\t\n",
      "Iter 32/50\n",
      "M step: done,  E step: done //  (in 0.84 sec)\tlogL: -15924.173\tTol1: 0.00428\tTol2: 0.03115\tTol3: 0.01310\t\n",
      "Iter 33/50\n",
      "M step: done,  E step: done //  (in 0.85 sec)\tlogL: -15884.060\tTol1: 0.00252\tTol2: 0.04979\tTol3: 0.02887\t\n",
      "Iter 34/50\n",
      "M step: done,  E step: done //  (in 0.85 sec)\tlogL: -15902.391\tTol1: 0.00115\tTol2: 0.06666\tTol3: 0.03655\t\n",
      "Iter 35/50\n",
      "M step: done,  E step: done //  (in 0.85 sec)\tlogL: -15630.607\tTol1: 0.01709\tTol2: 0.08664\tTol3: 0.04587\t\n",
      "Iter 36/50\n",
      "M step: done,  E step: done //  (in 0.82 sec)\tlogL: -15608.901\tTol1: 0.00139\tTol2: 0.03475\tTol3: 0.01836\t\n",
      "Iter 37/50\n",
      "M step: done,  E step: done //  (in 0.84 sec)\tlogL: -15873.680\tTol1: 0.01696\tTol2: 0.06403\tTol3: 0.03205\t\n",
      "Iter 38/50\n",
      "M step: done,  E step: done //  (in 0.85 sec)\tlogL: -15596.167\tTol1: 0.01748\tTol2: 0.13279\tTol3: 0.06722\t\n",
      "Iter 39/50\n",
      "M step: done,  E step: done //  (in 0.86 sec)\tlogL: -15479.364\tTol1: 0.00749\tTol2: 0.08200\tTol3: 0.04398\t\n",
      "Iter 40/50\n",
      "M step: done,  E step: done //  (in 0.84 sec)\tlogL: -15327.491\tTol1: 0.00981\tTol2: 0.04448\tTol3: 0.02505\t\n",
      "Iter 41/50\n",
      "M step: done,  E step: done //  (in 0.85 sec)\tlogL: -15385.693\tTol1: 0.00380\tTol2: 0.07058\tTol3: 0.03101\t\n",
      "Iter 42/50\n",
      "M step: done,  E step: done //  (in 0.87 sec)\tlogL: -15099.483\tTol1: 0.01860\tTol2: 0.09327\tTol3: 0.04398\t\n",
      "Iter 43/50\n",
      "M step: done,  E step: done //  (in 0.86 sec)\tlogL: -15258.521\tTol1: 0.01053\tTol2: 0.04188\tTol3: 0.02263\t\n",
      "Iter 44/50\n",
      "M step: done,  E step: done //  (in 0.83 sec)\tlogL: -15073.549\tTol1: 0.01212\tTol2: 0.12259\tTol3: 0.05872\t\n",
      "Iter 45/50\n",
      "M step: done,  E step: done //  (in 0.87 sec)\tlogL: -14986.132\tTol1: 0.00580\tTol2: 0.02560\tTol3: 0.01127\t\n",
      "Finished training!\n",
      "Initializing new EM...\n",
      "Doing clustering...Done!\n",
      "Get init alphas in 0.006536 mins\n",
      "Lambda by group:  [1. 1. 1.]\n",
      "Alphas:  (3,)\n",
      "MV init:  (4999, 2)\n",
      "Betas:  (3, 2, 2)\n",
      "Q estimate:  (4999, 2, 3, 2)\n",
      "Iter 1/50\n",
      "M step: done,  E step: done //  (in 2.71 sec)\tlogL: -19057.064\t\n",
      "Iter 2/50\n",
      "M step: done,  E step: done //  (in 0.86 sec)\tlogL: -18889.118\tTol1: 0.00881\tTol2: 0.34465\tTol3: 0.01021\t\n",
      "Iter 3/50\n",
      "M step: done,  E step: done //  (in 0.83 sec)\tlogL: -18722.717\tTol1: 0.00881\tTol2: 0.17204\tTol3: 0.01370\t\n",
      "Iter 4/50\n",
      "M step: done,  E step: done //  (in 0.86 sec)\tlogL: -18622.106\tTol1: 0.00537\tTol2: 0.12914\tTol3: 0.02972\t\n",
      "Iter 5/50\n",
      "M step: done,  E step: done //  (in 0.86 sec)\tlogL: -18370.602\tTol1: 0.01351\tTol2: 0.10866\tTol3: 0.03762\t\n",
      "Iter 6/50\n",
      "M step: done,  E step: done //  (in 0.86 sec)\tlogL: -18203.056\tTol1: 0.00912\tTol2: 0.07810\tTol3: 0.01318\t\n",
      "Iter 7/50\n",
      "M step: done,  E step: done //  (in 0.86 sec)\tlogL: -18084.733\tTol1: 0.00650\tTol2: 0.06892\tTol3: 0.01458\t\n",
      "Iter 8/50\n",
      "M step: done,  E step: done //  (in 0.83 sec)\tlogL: -17915.847\tTol1: 0.00934\tTol2: 0.06477\tTol3: 0.02182\t\n",
      "Iter 9/50\n",
      "M step: done,  E step: done //  (in 0.86 sec)\tlogL: -17759.587\tTol1: 0.00872\tTol2: 0.05828\tTol3: 0.01585\t\n",
      "Iter 10/50\n",
      "M step: done,  E step: done //  (in 0.84 sec)\tlogL: -17596.306\tTol1: 0.00919\tTol2: 0.06437\tTol3: 0.03768\t\n",
      "Iter 11/50\n",
      "M step: done,  E step: done //  (in 0.86 sec)\tlogL: -17665.260\tTol1: 0.00392\tTol2: 0.04735\tTol3: 0.01665\t\n",
      "Iter 12/50\n",
      "M step: done,  E step: done //  (in 0.85 sec)\tlogL: -17484.009\tTol1: 0.01026\tTol2: 0.10127\tTol3: 0.05945\t\n",
      "Iter 13/50\n",
      "M step: done,  E step: done //  (in 0.86 sec)\tlogL: -17438.269\tTol1: 0.00262\tTol2: 0.04427\tTol3: 0.01760\t\n",
      "Iter 14/50\n",
      "M step: done,  E step: done //  (in 0.83 sec)\tlogL: -17238.037\tTol1: 0.01148\tTol2: 0.06741\tTol3: 0.04428\t\n",
      "Iter 15/50\n",
      "M step: done,  E step: done //  (in 0.85 sec)\tlogL: -17207.138\tTol1: 0.00179\tTol2: 0.04122\tTol3: 0.01885\t\n",
      "Iter 16/50\n",
      "M step: done,  E step: done //  (in 0.86 sec)\tlogL: -17047.171\tTol1: 0.00930\tTol2: 0.05298\tTol3: 0.03100\t\n",
      "Iter 17/50\n",
      "M step: done,  E step: done //  (in 0.83 sec)\tlogL: -16944.508\tTol1: 0.00602\tTol2: 0.03838\tTol3: 0.01845\t\n",
      "Iter 18/50\n",
      "M step: done,  E step: done //  (in 0.86 sec)\tlogL: -16872.680\tTol1: 0.00424\tTol2: 0.04563\tTol3: 0.03025\t\n",
      "Iter 19/50\n",
      "M step: done,  E step: done //  (in 0.84 sec)\tlogL: -16803.408\tTol1: 0.00411\tTol2: 0.03686\tTol3: 0.01986\t\n",
      "Iter 20/50\n",
      "M step: done,  E step: done //  (in 0.83 sec)\tlogL: -16658.802\tTol1: 0.00861\tTol2: 0.03856\tTol3: 0.02055\t\n",
      "Iter 21/50\n",
      "M step: done,  E step: done //  (in 0.84 sec)\tlogL: -16606.474\tTol1: 0.00314\tTol2: 0.03373\tTol3: 0.02078\t\n",
      "Iter 22/50\n",
      "M step: done,  E step: done //  (in 0.84 sec)\tlogL: -16597.438\tTol1: 0.00054\tTol2: 0.04115\tTol3: 0.02738\t\n",
      "Iter 23/50\n",
      "M step: done,  E step: done //  (in 0.85 sec)\tlogL: -16526.006\tTol1: 0.00430\tTol2: 0.08289\tTol3: 0.05259\t\n",
      "Iter 24/50\n",
      "M step: done,  E step: done //  (in 0.83 sec)\tlogL: -16493.701\tTol1: 0.00195\tTol2: 0.04835\tTol3: 0.02343\t\n",
      "Iter 25/50\n",
      "M step: done,  E step: done //  (in 0.85 sec)\tlogL: -16287.336\tTol1: 0.01251\tTol2: 0.09507\tTol3: 0.05622\t\n",
      "Iter 26/50\n",
      "M step: done,  E step: done //  (in 0.84 sec)\tlogL: -16209.678\tTol1: 0.00477\tTol2: 0.03037\tTol3: 0.01643\t\n",
      "Iter 27/50\n",
      "M step: done,  E step: done //  (in 0.86 sec)\tlogL: -16127.816\tTol1: 0.00505\tTol2: 0.03969\tTol3: 0.02449\t\n",
      "Iter 28/50\n",
      "M step: done,  E step: done //  (in 0.88 sec)\tlogL: -16124.830\tTol1: 0.00019\tTol2: 0.03180\tTol3: 0.01499\t\n",
      "Iter 29/50\n",
      "M step: done,  E step: done //  (in 0.84 sec)\tlogL: -16333.875\tTol1: 0.01296\tTol2: 0.05368\tTol3: 0.03294\t\n",
      "Iter 30/50\n",
      "M step: done,  E step: done //  (in 0.87 sec)\tlogL: -15958.328\tTol1: 0.02299\tTol2: 0.15486\tTol3: 0.09433\t\n",
      "Iter 31/50\n",
      "M step: done,  E step: done //  (in 0.86 sec)\tlogL: -15803.767\tTol1: 0.00969\tTol2: 0.03471\tTol3: 0.02140\t\n",
      "Iter 32/50\n",
      "M step: done,  E step: done //  (in 0.86 sec)\tlogL: -15823.568\tTol1: 0.00125\tTol2: 0.03540\tTol3: 0.01744\t\n",
      "Iter 33/50\n",
      "M step: done,  E step: done //  (in 0.83 sec)\tlogL: -15701.369\tTol1: 0.00772\tTol2: 0.05114\tTol3: 0.03134\t\n",
      "Iter 34/50\n",
      "M step: done,  E step: done //  (in 0.84 sec)\tlogL: -15634.058\tTol1: 0.00429\tTol2: 0.07686\tTol3: 0.04284\t\n",
      "Iter 35/50\n",
      "M step: done,  E step: done //  (in 0.84 sec)\tlogL: -15531.073\tTol1: 0.00659\tTol2: 0.02777\tTol3: 0.01814\t\n",
      "Finished training!\n",
      "Initializing new EM...\n",
      "Doing clustering...Done!\n",
      "Get init alphas in 0.005823 mins\n",
      "Lambda by group:  [1. 1. 1.]\n",
      "Alphas:  (3,)\n",
      "MV init:  (4999, 2)\n",
      "Betas:  (3, 2, 2)\n",
      "Q estimate:  (4999, 2, 3, 2)\n",
      "Iter 1/50\n",
      "M step: done,  E step: done //  (in 2.72 sec)\tlogL: -19112.280\t\n",
      "Iter 2/50\n",
      "M step: done,  E step: done //  (in 0.85 sec)\tlogL: -19014.371\tTol1: 0.00512\tTol2: 0.34455\tTol3: 0.01787\t\n",
      "Iter 3/50\n",
      "M step: done,  E step: done //  (in 0.84 sec)\tlogL: -18855.991\tTol1: 0.00833\tTol2: 0.16583\tTol3: 0.00349\t\n",
      "Iter 4/50\n",
      "M step: done,  E step: done //  (in 0.84 sec)\tlogL: -18745.493\tTol1: 0.00586\tTol2: 0.11500\tTol3: 0.00829\t\n",
      "Iter 5/50\n",
      "M step: done,  E step: done //  (in 0.86 sec)\tlogL: -18487.472\tTol1: 0.01376\tTol2: 0.09090\tTol3: 0.01586\t\n",
      "Iter 6/50\n",
      "M step: done,  E step: done //  (in 0.89 sec)\tlogL: -18359.942\tTol1: 0.00690\tTol2: 0.07774\tTol3: 0.01837\t\n",
      "Iter 7/50\n",
      "M step: done,  E step: done //  (in 0.86 sec)\tlogL: -18203.490\tTol1: 0.00852\tTol2: 0.06849\tTol3: 0.01961\t\n",
      "Iter 8/50\n",
      "M step: done,  E step: done //  (in 0.86 sec)\tlogL: -17981.442\tTol1: 0.01220\tTol2: 0.06943\tTol3: 0.03462\t\n",
      "Iter 9/50\n",
      "M step: done,  E step: done //  (in 0.87 sec)\tlogL: -17892.421\tTol1: 0.00495\tTol2: 0.05722\tTol3: 0.01532\t\n",
      "Iter 10/50\n",
      "M step: done,  E step: done //  (in 0.83 sec)\tlogL: -17739.693\tTol1: 0.00854\tTol2: 0.08326\tTol3: 0.05192\t\n",
      "Iter 11/50\n",
      "M step: done,  E step: done //  (in 0.85 sec)\tlogL: -17577.067\tTol1: 0.00917\tTol2: 0.05420\tTol3: 0.02694\t\n",
      "Iter 12/50\n",
      "M step: done,  E step: done //  (in 0.85 sec)\tlogL: -17604.555\tTol1: 0.00156\tTol2: 0.04858\tTol3: 0.02613\t\n",
      "Iter 13/50\n",
      "M step: done,  E step: done //  (in 0.85 sec)\tlogL: -17432.785\tTol1: 0.00976\tTol2: 0.09170\tTol3: 0.05794\t\n",
      "Iter 14/50\n",
      "M step: done,  E step: done //  (in 0.87 sec)\tlogL: -17361.520\tTol1: 0.00409\tTol2: 0.04505\tTol3: 0.02597\t\n",
      "Iter 15/50\n",
      "M step: done,  E step: done //  (in 0.85 sec)\tlogL: -17274.589\tTol1: 0.00501\tTol2: 0.04072\tTol3: 0.01767\t\n",
      "Iter 16/50\n",
      "M step: done,  E step: done //  (in 0.84 sec)\tlogL: -17130.688\tTol1: 0.00833\tTol2: 0.03909\tTol3: 0.01606\t\n",
      "Iter 17/50\n",
      "M step: done,  E step: done //  (in 0.84 sec)\tlogL: -17111.994\tTol1: 0.00109\tTol2: 0.03217\tTol3: 0.01013\t\n",
      "Iter 18/50\n",
      "M step: done,  E step: done //  (in 0.85 sec)\tlogL: -16917.724\tTol1: 0.01135\tTol2: 0.08909\tTol3: 0.05559\t\n",
      "Iter 19/50\n",
      "M step: done,  E step: done //  (in 0.84 sec)\tlogL: -16865.859\tTol1: 0.00307\tTol2: 0.03134\tTol3: 0.01381\t\n",
      "Iter 20/50\n",
      "M step: done,  E step: done //  (in 0.86 sec)\tlogL: -16744.965\tTol1: 0.00717\tTol2: 0.04547\tTol3: 0.02803\t\n",
      "Iter 21/50\n",
      "M step: done,  E step: done //  (in 0.86 sec)\tlogL: -16648.298\tTol1: 0.00577\tTol2: 0.03762\tTol3: 0.01895\t\n",
      "Iter 22/50\n",
      "M step: done,  E step: done //  (in 0.86 sec)\tlogL: -16549.653\tTol1: 0.00593\tTol2: 0.04697\tTol3: 0.02713\t\n",
      "Iter 23/50\n",
      "M step: done,  E step: done //  (in 0.85 sec)\tlogL: -16578.990\tTol1: 0.00177\tTol2: 0.06506\tTol3: 0.03975\t\n",
      "Iter 24/50\n",
      "M step: done,  E step: done //  (in 0.86 sec)\tlogL: -16384.389\tTol1: 0.01174\tTol2: 0.10893\tTol3: 0.06677\t\n",
      "Iter 25/50\n",
      "M step: done,  E step: done //  (in 0.84 sec)\tlogL: -16472.278\tTol1: 0.00536\tTol2: 0.04449\tTol3: 0.02422\t\n",
      "Iter 26/50\n",
      "M step: done,  E step: done //  (in 0.85 sec)\tlogL: -16400.978\tTol1: 0.00433\tTol2: 0.14444\tTol3: 0.08754\t\n",
      "Iter 27/50\n",
      "M step: done,  E step: done //  (in 0.86 sec)\tlogL: -16071.605\tTol1: 0.02008\tTol2: 0.12130\tTol3: 0.07354\t\n",
      "Iter 28/50\n",
      "M step: done,  E step: done //  (in 0.82 sec)\tlogL: -15935.291\tTol1: 0.00848\tTol2: 0.03872\tTol3: 0.01897\t\n",
      "Iter 29/50\n",
      "M step: done,  E step: done //  (in 0.85 sec)\tlogL: -15955.962\tTol1: 0.00130\tTol2: 0.02922\tTol3: 0.01618\t\n",
      "Finished training!\n",
      "Initializing new EM...\n",
      "Doing clustering...Done!\n",
      "Get init alphas in 0.006141 mins\n",
      "Lambda by group:  [1. 1. 1.]\n",
      "Alphas:  (3,)\n",
      "MV init:  (4999, 2)\n",
      "Betas:  (3, 2, 2)\n",
      "Q estimate:  (4999, 2, 3, 2)\n",
      "Iter 1/50\n",
      "M step: done,  E step: done //  (in 2.69 sec)\tlogL: -19151.854\t\n",
      "Iter 2/50\n",
      "M step: done,  E step: done //  (in 0.82 sec)\tlogL: -19058.255\tTol1: 0.00489\tTol2: 0.34904\tTol3: 0.02675\t\n",
      "Iter 3/50\n",
      "M step: done,  E step: done //  (in 0.85 sec)\tlogL: -18896.157\tTol1: 0.00851\tTol2: 0.16729\tTol3: 0.00913\t\n",
      "Iter 4/50\n",
      "M step: done,  E step: done //  (in 0.83 sec)\tlogL: -18674.886\tTol1: 0.01171\tTol2: 0.12196\tTol3: 0.02303\t\n",
      "Iter 5/50\n",
      "M step: done,  E step: done //  (in 0.87 sec)\tlogL: -18475.248\tTol1: 0.01069\tTol2: 0.09059\tTol3: 0.00952\t\n",
      "Iter 6/50\n",
      "M step: done,  E step: done //  (in 0.84 sec)\tlogL: -18268.066\tTol1: 0.01121\tTol2: 0.07681\tTol3: 0.01443\t\n",
      "Iter 7/50\n",
      "M step: done,  E step: done //  (in 0.86 sec)\tlogL: -18179.212\tTol1: 0.00486\tTol2: 0.06716\tTol3: 0.01311\t\n",
      "Iter 8/50\n",
      "M step: done,  E step: done //  (in 0.84 sec)\tlogL: -18127.634\tTol1: 0.00284\tTol2: 0.06393\tTol3: 0.02405\t\n",
      "Iter 9/50\n",
      "M step: done,  E step: done //  (in 0.87 sec)\tlogL: -17991.196\tTol1: 0.00753\tTol2: 0.07946\tTol3: 0.04542\t\n",
      "Iter 10/50\n",
      "M step: done,  E step: done //  (in 0.82 sec)\tlogL: -17861.755\tTol1: 0.00719\tTol2: 0.06402\tTol3: 0.03467\t\n",
      "Iter 11/50\n",
      "M step: done,  E step: done //  (in 0.84 sec)\tlogL: -17840.650\tTol1: 0.00118\tTol2: 0.04883\tTol3: 0.01693\t\n",
      "Iter 12/50\n"
     ]
    },
    {
     "name": "stdout",
     "output_type": "stream",
     "text": [
      "M step: done,  E step: done //  (in 0.85 sec)\tlogL: -17701.703\tTol1: 0.00779\tTol2: 0.12007\tTol3: 0.07520\t\n",
      "Iter 13/50\n",
      "M step: done,  E step: done //  (in 0.84 sec)\tlogL: -17468.301\tTol1: 0.01319\tTol2: 0.09879\tTol3: 0.06184\t\n",
      "Iter 14/50\n",
      "M step: done,  E step: done //  (in 0.85 sec)\tlogL: -17351.583\tTol1: 0.00668\tTol2: 0.04756\tTol3: 0.02730\t\n",
      "Iter 15/50\n",
      "M step: done,  E step: done //  (in 0.86 sec)\tlogL: -17262.984\tTol1: 0.00511\tTol2: 0.07539\tTol3: 0.04583\t\n",
      "Iter 16/50\n",
      "M step: done,  E step: done //  (in 0.84 sec)\tlogL: -17145.209\tTol1: 0.00682\tTol2: 0.04625\tTol3: 0.02467\t\n",
      "Iter 17/50\n",
      "M step: done,  E step: done //  (in 0.87 sec)\tlogL: -17083.209\tTol1: 0.00362\tTol2: 0.03655\tTol3: 0.01740\t\n",
      "Iter 18/50\n",
      "M step: done,  E step: done //  (in 0.87 sec)\tlogL: -16965.432\tTol1: 0.00689\tTol2: 0.04999\tTol3: 0.03069\t\n",
      "Iter 19/50\n",
      "M step: done,  E step: done //  (in 0.84 sec)\tlogL: -16983.066\tTol1: 0.00104\tTol2: 0.03557\tTol3: 0.01751\t\n",
      "Iter 20/50\n",
      "M step: done,  E step: done //  (in 0.82 sec)\tlogL: -16778.956\tTol1: 0.01202\tTol2: 0.07471\tTol3: 0.04597\t\n",
      "Iter 21/50\n",
      "M step: done,  E step: done //  (in 0.84 sec)\tlogL: -16950.103\tTol1: 0.01020\tTol2: 0.02664\tTol3: 0.00784\t\n",
      "Finished training!\n",
      "Initializing new EM...\n",
      "Doing clustering...Done!\n",
      "Get init alphas in 0.006362 mins\n",
      "Lambda by group:  [1. 1. 1.]\n",
      "Alphas:  (3,)\n",
      "MV init:  (4999, 2)\n",
      "Betas:  (3, 2, 2)\n",
      "Q estimate:  (4999, 2, 3, 2)\n",
      "Iter 1/50\n",
      "M step: done,  E step: done //  (in 2.73 sec)\tlogL: -19110.305\t\n",
      "Iter 2/50\n",
      "M step: done,  E step: done //  (in 0.87 sec)\tlogL: -19044.205\tTol1: 0.00346\tTol2: 0.33743\tTol3: 0.00205\t\n",
      "Iter 3/50\n",
      "M step: done,  E step: done //  (in 0.86 sec)\tlogL: -18859.462\tTol1: 0.00970\tTol2: 0.16507\tTol3: 0.00273\t\n",
      "Iter 4/50\n",
      "M step: done,  E step: done //  (in 0.84 sec)\tlogL: -18737.262\tTol1: 0.00648\tTol2: 0.11474\tTol3: 0.00691\t\n",
      "Iter 5/50\n",
      "M step: done,  E step: done //  (in 0.83 sec)\tlogL: -18568.715\tTol1: 0.00900\tTol2: 0.09005\tTol3: 0.01323\t\n",
      "Iter 6/50\n",
      "M step: done,  E step: done //  (in 0.86 sec)\tlogL: -18416.479\tTol1: 0.00820\tTol2: 0.08008\tTol3: 0.02449\t\n",
      "Iter 7/50\n",
      "M step: done,  E step: done //  (in 0.88 sec)\tlogL: -18285.148\tTol1: 0.00713\tTol2: 0.06997\tTol3: 0.02409\t\n",
      "Iter 8/50\n",
      "M step: done,  E step: done //  (in 0.85 sec)\tlogL: -18131.293\tTol1: 0.00841\tTol2: 0.06131\tTol3: 0.01521\t\n",
      "Iter 9/50\n",
      "M step: done,  E step: done //  (in 0.87 sec)\tlogL: -18031.224\tTol1: 0.00552\tTol2: 0.06013\tTol3: 0.02765\t\n",
      "Iter 10/50\n",
      "M step: done,  E step: done //  (in 0.85 sec)\tlogL: -17971.924\tTol1: 0.00329\tTol2: 0.07614\tTol3: 0.04683\t\n",
      "Iter 11/50\n",
      "M step: done,  E step: done //  (in 0.84 sec)\tlogL: -17758.740\tTol1: 0.01186\tTol2: 0.08323\tTol3: 0.05200\t\n",
      "Iter 12/50\n",
      "M step: done,  E step: done //  (in 0.84 sec)\tlogL: -17710.850\tTol1: 0.00270\tTol2: 0.04915\tTol3: 0.01828\t\n",
      "Iter 13/50\n",
      "M step: done,  E step: done //  (in 0.86 sec)\tlogL: -17529.540\tTol1: 0.01024\tTol2: 0.06623\tTol3: 0.03873\t\n",
      "Iter 14/50\n",
      "M step: done,  E step: done //  (in 0.84 sec)\tlogL: -17395.005\tTol1: 0.00767\tTol2: 0.04422\tTol3: 0.01925\t\n",
      "Iter 15/50\n",
      "M step: done,  E step: done //  (in 0.84 sec)\tlogL: -17263.576\tTol1: 0.00756\tTol2: 0.04712\tTol3: 0.02473\t\n",
      "Iter 16/50\n",
      "M step: done,  E step: done //  (in 0.87 sec)\tlogL: -17193.277\tTol1: 0.00407\tTol2: 0.04132\tTol3: 0.01898\t\n",
      "Iter 17/50\n",
      "M step: done,  E step: done //  (in 0.84 sec)\tlogL: -17190.757\tTol1: 0.00015\tTol2: 0.03897\tTol3: 0.01703\t\n",
      "Iter 18/50\n",
      "M step: done,  E step: done //  (in 0.82 sec)\tlogL: -16976.263\tTol1: 0.01248\tTol2: 0.09082\tTol3: 0.05628\t\n",
      "Iter 19/50\n",
      "M step: done,  E step: done //  (in 0.84 sec)\tlogL: -16972.599\tTol1: 0.00022\tTol2: 0.03429\tTol3: 0.01505\t\n",
      "Iter 20/50\n",
      "M step: done,  E step: done //  (in 0.84 sec)\tlogL: -17016.596\tTol1: 0.00259\tTol2: 0.04599\tTol3: 0.02605\t\n",
      "Iter 21/50\n",
      "M step: done,  E step: done //  (in 0.87 sec)\tlogL: -16788.233\tTol1: 0.01342\tTol2: 0.12232\tTol3: 0.07403\t\n",
      "Iter 22/50\n",
      "M step: done,  E step: done //  (in 0.83 sec)\tlogL: -16712.269\tTol1: 0.00452\tTol2: 0.04415\tTol3: 0.02769\t\n",
      "Iter 23/50\n",
      "M step: done,  E step: done //  (in 0.86 sec)\tlogL: -16644.118\tTol1: 0.00408\tTol2: 0.03330\tTol3: 0.01694\t\n",
      "Iter 24/50\n",
      "M step: done,  E step: done //  (in 0.85 sec)\tlogL: -16557.258\tTol1: 0.00522\tTol2: 0.03181\tTol3: 0.01569\t\n",
      "Iter 25/50\n",
      "M step: done,  E step: done //  (in 0.87 sec)\tlogL: -16429.315\tTol1: 0.00773\tTol2: 0.06414\tTol3: 0.03851\t\n",
      "Iter 26/50\n",
      "M step: done,  E step: done //  (in 0.86 sec)\tlogL: -16422.330\tTol1: 0.00043\tTol2: 0.02878\tTol3: 0.01555\t\n",
      "Finished training!\n",
      "Initializing new EM...\n",
      "Doing clustering...Done!\n",
      "Get init alphas in 0.006118 mins\n",
      "Lambda by group:  [1. 1. 1.]\n",
      "Alphas:  (3,)\n",
      "MV init:  (4999, 2)\n",
      "Betas:  (3, 2, 2)\n",
      "Q estimate:  (4999, 2, 3, 2)\n",
      "Iter 1/50\n",
      "M step: done,  E step: done //  (in 2.68 sec)\tlogL: -19104.331\t\n",
      "Iter 2/50\n",
      "M step: done,  E step: done //  (in 0.84 sec)\tlogL: -19003.496\tTol1: 0.00528\tTol2: 0.34045\tTol3: 0.00930\t\n",
      "Iter 3/50\n",
      "M step: done,  E step: done //  (in 0.87 sec)\tlogL: -18754.138\tTol1: 0.01312\tTol2: 0.17272\tTol3: 0.01879\t\n",
      "Iter 4/50\n",
      "M step: done,  E step: done //  (in 0.84 sec)\tlogL: -18486.966\tTol1: 0.01425\tTol2: 0.11684\tTol3: 0.01118\t\n",
      "Iter 5/50\n",
      "M step: done,  E step: done //  (in 0.85 sec)\tlogL: -18230.600\tTol1: 0.01387\tTol2: 0.10131\tTol3: 0.02926\t\n",
      "Iter 6/50\n",
      "M step: done,  E step: done //  (in 0.89 sec)\tlogL: -18098.038\tTol1: 0.00727\tTol2: 0.09555\tTol3: 0.04644\t\n",
      "Iter 7/50\n",
      "M step: done,  E step: done //  (in 0.82 sec)\tlogL: -17941.769\tTol1: 0.00863\tTol2: 0.07166\tTol3: 0.01782\t\n",
      "Iter 8/50\n",
      "M step: done,  E step: done //  (in 0.87 sec)\tlogL: -17809.378\tTol1: 0.00738\tTol2: 0.06550\tTol3: 0.02155\t\n",
      "Iter 9/50\n",
      "M step: done,  E step: done //  (in 0.86 sec)\tlogL: -17652.748\tTol1: 0.00879\tTol2: 0.06621\tTol3: 0.03430\t\n",
      "Iter 10/50\n",
      "M step: done,  E step: done //  (in 0.86 sec)\tlogL: -17478.334\tTol1: 0.00988\tTol2: 0.06552\tTol3: 0.03338\t\n",
      "Iter 11/50\n",
      "M step: done,  E step: done //  (in 0.84 sec)\tlogL: -17323.750\tTol1: 0.00884\tTol2: 0.05004\tTol3: 0.01673\t\n",
      "Iter 12/50\n",
      "M step: done,  E step: done //  (in 0.85 sec)\tlogL: -17300.724\tTol1: 0.00133\tTol2: 0.04811\tTol3: 0.02037\t\n",
      "Iter 13/50\n",
      "M step: done,  E step: done //  (in 0.84 sec)\tlogL: -17175.564\tTol1: 0.00723\tTol2: 0.06459\tTol3: 0.03965\t\n",
      "Iter 14/50\n",
      "M step: done,  E step: done //  (in 0.84 sec)\tlogL: -17070.006\tTol1: 0.00615\tTol2: 0.05161\tTol3: 0.02311\t\n",
      "Iter 15/50\n",
      "M step: done,  E step: done //  (in 0.86 sec)\tlogL: -17286.849\tTol1: 0.01270\tTol2: 0.07101\tTol3: 0.04405\t\n",
      "Iter 16/50\n",
      "M step: done,  E step: done //  (in 0.85 sec)\tlogL: -16995.135\tTol1: 0.01687\tTol2: 0.14751\tTol3: 0.09003\t\n",
      "Iter 17/50\n",
      "M step: done,  E step: done //  (in 0.84 sec)\tlogL: -16807.429\tTol1: 0.01104\tTol2: 0.10957\tTol3: 0.06645\t\n",
      "Iter 18/50\n",
      "M step: done,  E step: done //  (in 0.88 sec)\tlogL: -17105.337\tTol1: 0.01772\tTol2: 0.05558\tTol3: 0.03433\t\n",
      "Iter 19/50\n",
      "M step: done,  E step: done //  (in 0.89 sec)\tlogL: -16706.692\tTol1: 0.02331\tTol2: 0.18623\tTol3: 0.11232\t\n",
      "Iter 20/50\n",
      "M step: done,  E step: done //  (in 0.84 sec)\tlogL: -16566.155\tTol1: 0.00841\tTol2: 0.04812\tTol3: 0.03156\t\n",
      "Iter 21/50\n",
      "M step: done,  E step: done //  (in 0.85 sec)\tlogL: -16572.121\tTol1: 0.00036\tTol2: 0.06494\tTol3: 0.03851\t\n",
      "Iter 22/50\n",
      "M step: done,  E step: done //  (in 0.87 sec)\tlogL: -16460.337\tTol1: 0.00675\tTol2: 0.08900\tTol3: 0.05377\t\n",
      "Iter 23/50\n",
      "M step: done,  E step: done //  (in 0.87 sec)\tlogL: -16309.695\tTol1: 0.00915\tTol2: 0.07743\tTol3: 0.04752\t\n",
      "Iter 24/50\n",
      "M step: done,  E step: done //  (in 0.88 sec)\tlogL: -16346.995\tTol1: 0.00229\tTol2: 0.02982\tTol3: 0.01400\t\n",
      "Finished training!\n",
      "Initializing new EM...\n",
      "Doing clustering...Done!\n",
      "Get init alphas in 0.005856 mins\n",
      "Lambda by group:  [1. 1. 1.]\n",
      "Alphas:  (3,)\n",
      "MV init:  (4999, 2)\n",
      "Betas:  (3, 2, 2)\n",
      "Q estimate:  (4999, 2, 3, 2)\n",
      "Iter 1/50\n",
      "M step: done,  E step: done //  (in 2.65 sec)\tlogL: -19128.115\t\n",
      "Iter 2/50\n",
      "M step: done,  E step: done //  (in 0.85 sec)\tlogL: -19057.356\tTol1: 0.00370\tTol2: 0.34168\tTol3: 0.01269\t\n",
      "Iter 3/50\n",
      "M step: done,  E step: done //  (in 0.85 sec)\tlogL: -18836.927\tTol1: 0.01157\tTol2: 0.17069\tTol3: 0.01561\t\n",
      "Iter 4/50\n",
      "M step: done,  E step: done //  (in 0.86 sec)\tlogL: -18685.637\tTol1: 0.00803\tTol2: 0.11518\tTol3: 0.00706\t\n",
      "Iter 5/50\n",
      "M step: done,  E step: done //  (in 0.83 sec)\tlogL: -18417.929\tTol1: 0.01433\tTol2: 0.09454\tTol3: 0.01956\t\n",
      "Iter 6/50\n",
      "M step: done,  E step: done //  (in 0.84 sec)\tlogL: -18194.767\tTol1: 0.01212\tTol2: 0.07806\tTol3: 0.01290\t\n",
      "Iter 7/50\n"
     ]
    },
    {
     "name": "stdout",
     "output_type": "stream",
     "text": [
      "M step: done,  E step: done //  (in 0.86 sec)\tlogL: -18063.355\tTol1: 0.00722\tTol2: 0.06942\tTol3: 0.01519\t\n",
      "Iter 8/50\n",
      "M step: done,  E step: done //  (in 0.84 sec)\tlogL: -17904.794\tTol1: 0.00878\tTol2: 0.08214\tTol3: 0.04530\t\n",
      "Iter 9/50\n",
      "M step: done,  E step: done //  (in 0.89 sec)\tlogL: -17907.022\tTol1: 0.00012\tTol2: 0.05945\tTol3: 0.02414\t\n",
      "Iter 10/50\n",
      "M step: done,  E step: done //  (in 0.85 sec)\tlogL: -17690.923\tTol1: 0.01207\tTol2: 0.08183\tTol3: 0.05020\t\n",
      "Iter 11/50\n",
      "M step: done,  E step: done //  (in 0.86 sec)\tlogL: -17546.128\tTol1: 0.00818\tTol2: 0.05508\tTol3: 0.02241\t\n",
      "Iter 12/50\n",
      "M step: done,  E step: done //  (in 0.83 sec)\tlogL: -17317.797\tTol1: 0.01301\tTol2: 0.08905\tTol3: 0.05535\t\n",
      "Iter 13/50\n",
      "M step: done,  E step: done //  (in 0.85 sec)\tlogL: -17196.538\tTol1: 0.00700\tTol2: 0.04751\tTol3: 0.02067\t\n",
      "Iter 14/50\n",
      "M step: done,  E step: done //  (in 0.83 sec)\tlogL: -17112.529\tTol1: 0.00489\tTol2: 0.05169\tTol3: 0.03093\t\n",
      "Iter 15/50\n",
      "M step: done,  E step: done //  (in 0.84 sec)\tlogL: -17047.206\tTol1: 0.00382\tTol2: 0.05298\tTol3: 0.03088\t\n",
      "Iter 16/50\n",
      "M step: done,  E step: done //  (in 0.85 sec)\tlogL: -16926.571\tTol1: 0.00708\tTol2: 0.07121\tTol3: 0.04377\t\n",
      "Iter 17/50\n",
      "M step: done,  E step: done //  (in 0.87 sec)\tlogL: -16928.423\tTol1: 0.00011\tTol2: 0.03698\tTol3: 0.01882\t\n",
      "Iter 18/50\n",
      "M step: done,  E step: done //  (in 0.84 sec)\tlogL: -16731.391\tTol1: 0.01164\tTol2: 0.04182\tTol3: 0.02320\t\n",
      "Iter 19/50\n",
      "M step: done,  E step: done //  (in 0.89 sec)\tlogL: -16684.609\tTol1: 0.00280\tTol2: 0.03400\tTol3: 0.01580\t\n",
      "Iter 20/50\n",
      "M step: done,  E step: done //  (in 0.85 sec)\tlogL: -17080.085\tTol1: 0.02370\tTol2: 0.05200\tTol3: 0.03301\t\n",
      "Iter 21/50\n",
      "M step: done,  E step: done //  (in 0.83 sec)\tlogL: -16533.465\tTol1: 0.03200\tTol2: 0.18013\tTol3: 0.11765\t\n",
      "Iter 22/50\n",
      "M step: done,  E step: done //  (in 0.85 sec)\tlogL: -16521.514\tTol1: 0.00072\tTol2: 0.02464\tTol3: 0.00791\t\n",
      "Finished training!\n",
      "Initializing new EM...\n",
      "Doing clustering...Done!\n",
      "Get init alphas in 0.006343 mins\n",
      "Lambda by group:  [1. 1. 1.]\n",
      "Alphas:  (3,)\n",
      "MV init:  (4999, 2)\n",
      "Betas:  (3, 2, 2)\n",
      "Q estimate:  (4999, 2, 3, 2)\n",
      "Iter 1/50\n",
      "M step: done,  E step: done //  (in 2.67 sec)\tlogL: -19117.806\t\n",
      "Iter 2/50\n",
      "M step: done,  E step: done //  (in 0.85 sec)\tlogL: -18988.438\tTol1: 0.00677\tTol2: 0.34451\tTol3: 0.01792\t\n",
      "Iter 3/50\n",
      "M step: done,  E step: done //  (in 0.83 sec)\tlogL: -18802.530\tTol1: 0.00979\tTol2: 0.17056\tTol3: 0.01460\t\n",
      "Iter 4/50\n",
      "M step: done,  E step: done //  (in 0.84 sec)\tlogL: -18535.564\tTol1: 0.01420\tTol2: 0.12163\tTol3: 0.02187\t\n",
      "Iter 5/50\n",
      "M step: done,  E step: done //  (in 0.84 sec)\tlogL: -18358.659\tTol1: 0.00954\tTol2: 0.09349\tTol3: 0.01250\t\n",
      "Iter 6/50\n",
      "M step: done,  E step: done //  (in 0.85 sec)\tlogL: -18063.388\tTol1: 0.01608\tTol2: 0.10827\tTol3: 0.05835\t\n",
      "Iter 7/50\n",
      "M step: done,  E step: done //  (in 0.85 sec)\tlogL: -17976.268\tTol1: 0.00482\tTol2: 0.06903\tTol3: 0.01515\t\n",
      "Iter 8/50\n",
      "M step: done,  E step: done //  (in 0.86 sec)\tlogL: -17817.457\tTol1: 0.00883\tTol2: 0.08363\tTol3: 0.04776\t\n",
      "Iter 9/50\n",
      "M step: done,  E step: done //  (in 0.88 sec)\tlogL: -17650.574\tTol1: 0.00937\tTol2: 0.05838\tTol3: 0.02207\t\n",
      "Iter 10/50\n",
      "M step: done,  E step: done //  (in 0.86 sec)\tlogL: -17656.255\tTol1: 0.00032\tTol2: 0.05216\tTol3: 0.01611\t\n",
      "Iter 11/50\n",
      "M step: done,  E step: done //  (in 0.85 sec)\tlogL: -17459.876\tTol1: 0.01112\tTol2: 0.08310\tTol3: 0.05055\t\n",
      "Iter 12/50\n",
      "M step: done,  E step: done //  (in 0.82 sec)\tlogL: -17400.862\tTol1: 0.00338\tTol2: 0.04656\tTol3: 0.01711\t\n",
      "Iter 13/50\n",
      "M step: done,  E step: done //  (in 0.85 sec)\tlogL: -17493.842\tTol1: 0.00534\tTol2: 0.04268\tTol3: 0.01500\t\n",
      "Iter 14/50\n",
      "M step: done,  E step: done //  (in 0.84 sec)\tlogL: -17384.997\tTol1: 0.00622\tTol2: 0.11775\tTol3: 0.07273\t\n",
      "Iter 15/50\n",
      "M step: done,  E step: done //  (in 0.83 sec)\tlogL: -17211.992\tTol1: 0.00995\tTol2: 0.10541\tTol3: 0.06597\t\n",
      "Iter 16/50\n",
      "M step: done,  E step: done //  (in 0.84 sec)\tlogL: -17094.097\tTol1: 0.00685\tTol2: 0.04372\tTol3: 0.02360\t\n",
      "Iter 17/50\n",
      "M step: done,  E step: done //  (in 0.82 sec)\tlogL: -16988.731\tTol1: 0.00616\tTol2: 0.04020\tTol3: 0.01955\t\n",
      "Iter 18/50\n",
      "M step: done,  E step: done //  (in 0.84 sec)\tlogL: -16932.928\tTol1: 0.00328\tTol2: 0.04794\tTol3: 0.02920\t\n",
      "Iter 19/50\n",
      "M step: done,  E step: done //  (in 0.87 sec)\tlogL: -16846.999\tTol1: 0.00507\tTol2: 0.04579\tTol3: 0.02743\t\n",
      "Iter 20/50\n",
      "M step: done,  E step: done //  (in 0.83 sec)\tlogL: -16745.058\tTol1: 0.00605\tTol2: 0.04352\tTol3: 0.02452\t\n",
      "Iter 21/50\n",
      "M step: done,  E step: done //  (in 0.86 sec)\tlogL: -16675.619\tTol1: 0.00415\tTol2: 0.03708\tTol3: 0.02355\t\n",
      "Iter 22/50\n",
      "M step: done,  E step: done //  (in 0.88 sec)\tlogL: -16788.782\tTol1: 0.00679\tTol2: 0.05953\tTol3: 0.03587\t\n",
      "Iter 23/50\n",
      "M step: done,  E step: done //  (in 0.83 sec)\tlogL: -16534.148\tTol1: 0.01517\tTol2: 0.11427\tTol3: 0.07269\t\n",
      "Iter 24/50\n",
      "M step: done,  E step: done //  (in 0.83 sec)\tlogL: -16873.962\tTol1: 0.02055\tTol2: 0.02788\tTol3: 0.01293\t\n",
      "Finished training!\n",
      "Initializing new EM...\n",
      "Doing clustering...Done!\n",
      "Get init alphas in 0.006271 mins\n",
      "Lambda by group:  [1. 1. 1.]\n",
      "Alphas:  (3,)\n",
      "MV init:  (4999, 2)\n",
      "Betas:  (3, 2, 2)\n",
      "Q estimate:  (4999, 2, 3, 2)\n",
      "Iter 1/50\n",
      "M step: done,  E step: done //  (in 2.74 sec)\tlogL: -19103.606\t\n",
      "Iter 2/50\n",
      "M step: done,  E step: done //  (in 0.84 sec)\tlogL: -18975.862\tTol1: 0.00669\tTol2: 0.34504\tTol3: 0.01856\t\n",
      "Iter 3/50\n",
      "M step: done,  E step: done //  (in 0.84 sec)\tlogL: -18752.649\tTol1: 0.01176\tTol2: 0.16692\tTol3: 0.00512\t\n",
      "Iter 4/50\n",
      "M step: done,  E step: done //  (in 0.82 sec)\tlogL: -18527.853\tTol1: 0.01199\tTol2: 0.11604\tTol3: 0.00736\t\n",
      "Iter 5/50\n",
      "M step: done,  E step: done //  (in 0.90 sec)\tlogL: -18397.924\tTol1: 0.00701\tTol2: 0.09261\tTol3: 0.01057\t\n",
      "Iter 6/50\n",
      "M step: done,  E step: done //  (in 0.84 sec)\tlogL: -18108.284\tTol1: 0.01574\tTol2: 0.07645\tTol3: 0.01122\t\n",
      "Iter 7/50\n",
      "M step: done,  E step: done //  (in 0.85 sec)\tlogL: -17913.719\tTol1: 0.01074\tTol2: 0.07875\tTol3: 0.03842\t\n",
      "Iter 8/50\n",
      "M step: done,  E step: done //  (in 0.87 sec)\tlogL: -17727.456\tTol1: 0.01040\tTol2: 0.06371\tTol3: 0.01684\t\n",
      "Iter 9/50\n",
      "M step: done,  E step: done //  (in 0.87 sec)\tlogL: -17609.577\tTol1: 0.00665\tTol2: 0.05723\tTol3: 0.01710\t\n",
      "Iter 10/50\n",
      "M step: done,  E step: done //  (in 0.85 sec)\tlogL: -17485.242\tTol1: 0.00706\tTol2: 0.05746\tTol3: 0.02999\t\n",
      "Iter 11/50\n",
      "M step: done,  E step: done //  (in 0.87 sec)\tlogL: -17507.252\tTol1: 0.00126\tTol2: 0.05646\tTol3: 0.03255\t\n",
      "Iter 12/50\n",
      "M step: done,  E step: done //  (in 0.89 sec)\tlogL: -17271.622\tTol1: 0.01346\tTol2: 0.07437\tTol3: 0.04301\t\n",
      "Iter 13/50\n",
      "M step: done,  E step: done //  (in 0.86 sec)\tlogL: -17221.175\tTol1: 0.00292\tTol2: 0.04637\tTol3: 0.01925\t\n",
      "Iter 14/50\n",
      "M step: done,  E step: done //  (in 0.87 sec)\tlogL: -17165.731\tTol1: 0.00322\tTol2: 0.07743\tTol3: 0.04857\t\n",
      "Iter 15/50\n",
      "M step: done,  E step: done //  (in 0.85 sec)\tlogL: -17226.672\tTol1: 0.00355\tTol2: 0.08480\tTol3: 0.05161\t\n",
      "Iter 16/50\n",
      "M step: done,  E step: done //  (in 0.85 sec)\tlogL: -16892.631\tTol1: 0.01939\tTol2: 0.11456\tTol3: 0.06974\t\n",
      "Iter 17/50\n",
      "M step: done,  E step: done //  (in 0.83 sec)\tlogL: -16825.177\tTol1: 0.00399\tTol2: 0.04739\tTol3: 0.02612\t\n",
      "Iter 18/50\n",
      "M step: done,  E step: done //  (in 0.85 sec)\tlogL: -16979.209\tTol1: 0.00915\tTol2: 0.04810\tTol3: 0.02848\t\n",
      "Iter 19/50\n",
      "M step: done,  E step: done //  (in 0.87 sec)\tlogL: -16701.481\tTol1: 0.01636\tTol2: 0.14065\tTol3: 0.08688\t\n",
      "Iter 20/50\n",
      "M step: done,  E step: done //  (in 0.87 sec)\tlogL: -16628.223\tTol1: 0.00439\tTol2: 0.03950\tTol3: 0.02039\t\n",
      "Iter 21/50\n",
      "M step: done,  E step: done //  (in 0.85 sec)\tlogL: -16539.617\tTol1: 0.00533\tTol2: 0.07791\tTol3: 0.04789\t\n",
      "Iter 22/50\n",
      "M step: done,  E step: done //  (in 0.92 sec)\tlogL: -16428.668\tTol1: 0.00671\tTol2: 0.05465\tTol3: 0.03367\t\n",
      "Iter 23/50\n",
      "M step: done,  E step: done //  (in 0.83 sec)\tlogL: -16424.167\tTol1: 0.00027\tTol2: 0.03319\tTol3: 0.01795\t\n",
      "Iter 24/50\n",
      "M step: done,  E step: done //  (in 0.92 sec)\tlogL: -16387.649\tTol1: 0.00222\tTol2: 0.03434\tTol3: 0.02117\t\n",
      "Iter 25/50\n",
      "M step: done,  E step: done //  (in 0.86 sec)\tlogL: -16247.893\tTol1: 0.00853\tTol2: 0.03917\tTol3: 0.02104\t\n",
      "Iter 26/50\n",
      "M step: done,  E step: done //  (in 0.86 sec)\tlogL: -16221.953\tTol1: 0.00160\tTol2: 0.04203\tTol3: 0.02647\t\n",
      "Iter 27/50\n",
      "M step: done,  E step: done //  (in 0.83 sec)\tlogL: -16109.986\tTol1: 0.00690\tTol2: 0.09764\tTol3: 0.05797\t\n",
      "Iter 28/50\n",
      "M step: done,  E step: done //  (in 0.85 sec)\tlogL: -16158.067\tTol1: 0.00298\tTol2: 0.02961\tTol3: 0.01794\t\n",
      "Finished training!\n",
      "Initializing new EM...\n",
      "Doing clustering...Done!\n",
      "Get init alphas in 0.006170 mins\n",
      "Lambda by group:  [1. 1. 1.]\n",
      "Alphas:  (3,)\n",
      "MV init:  (4999, 2)\n",
      "Betas:  (3, 2, 2)\n",
      "Q estimate:  (4999, 2, 3, 2)\n",
      "Iter 1/50\n",
      "M step: done,  E step: done //  (in 2.71 sec)\tlogL: -19109.880\t\n",
      "Iter 2/50\n",
      "M step: done,  E step: done //  (in 0.84 sec)\tlogL: -19037.260\tTol1: 0.00380\tTol2: 0.34054\tTol3: 0.00968\t\n",
      "Iter 3/50\n",
      "M step: done,  E step: done //  (in 0.85 sec)\tlogL: -18843.882\tTol1: 0.01016\tTol2: 0.16548\tTol3: 0.00392\t\n",
      "Iter 4/50\n",
      "M step: done,  E step: done //  (in 0.84 sec)\tlogL: -18649.336\tTol1: 0.01032\tTol2: 0.11486\tTol3: 0.00664\t\n",
      "Iter 5/50\n",
      "M step: done,  E step: done //  (in 0.86 sec)\tlogL: -18441.920\tTol1: 0.01112\tTol2: 0.09058\tTol3: 0.00989\t\n",
      "Iter 6/50\n",
      "M step: done,  E step: done //  (in 0.83 sec)\tlogL: -18258.324\tTol1: 0.00996\tTol2: 0.07720\tTol3: 0.01444\t\n",
      "Iter 7/50\n",
      "M step: done,  E step: done //  (in 0.84 sec)\tlogL: -18161.361\tTol1: 0.00531\tTol2: 0.06879\tTol3: 0.01527\t\n",
      "Iter 8/50\n",
      "M step: done,  E step: done //  (in 0.90 sec)\tlogL: -18065.644\tTol1: 0.00527\tTol2: 0.08088\tTol3: 0.04523\t\n",
      "Iter 9/50\n",
      "M step: done,  E step: done //  (in 0.87 sec)\tlogL: -17813.457\tTol1: 0.01396\tTol2: 0.07031\tTol3: 0.03927\t\n",
      "Iter 10/50\n",
      "M step: done,  E step: done //  (in 0.86 sec)\tlogL: -17766.334\tTol1: 0.00265\tTol2: 0.05283\tTol3: 0.01594\t\n",
      "Iter 11/50\n",
      "M step: done,  E step: done //  (in 0.88 sec)\tlogL: -17623.534\tTol1: 0.00804\tTol2: 0.07438\tTol3: 0.04442\t\n",
      "Iter 12/50\n",
      "M step: done,  E step: done //  (in 0.89 sec)\tlogL: -17610.992\tTol1: 0.00071\tTol2: 0.04632\tTol3: 0.01645\t\n",
      "Iter 13/50\n",
      "M step: done,  E step: done //  (in 0.92 sec)\tlogL: -17475.883\tTol1: 0.00767\tTol2: 0.06502\tTol3: 0.03891\t\n",
      "Iter 14/50\n",
      "M step: done,  E step: done //  (in 0.85 sec)\tlogL: -17320.354\tTol1: 0.00890\tTol2: 0.04674\tTol3: 0.02128\t\n",
      "Iter 15/50\n",
      "M step: done,  E step: done //  (in 0.84 sec)\tlogL: -17173.776\tTol1: 0.00846\tTol2: 0.04258\tTol3: 0.01899\t\n",
      "Iter 16/50\n",
      "M step: done,  E step: done //  (in 0.86 sec)\tlogL: -17127.495\tTol1: 0.00269\tTol2: 0.03521\tTol3: 0.01083\t\n",
      "Iter 17/50\n",
      "M step: done,  E step: done //  (in 0.86 sec)\tlogL: -16989.562\tTol1: 0.00805\tTol2: 0.04130\tTol3: 0.02030\t\n",
      "Iter 18/50\n",
      "M step: done,  E step: done //  (in 0.84 sec)\tlogL: -17181.779\tTol1: 0.01131\tTol2: 0.04713\tTol3: 0.02885\t\n",
      "Iter 19/50\n",
      "M step: done,  E step: done //  (in 0.84 sec)\tlogL: -16880.088\tTol1: 0.01756\tTol2: 0.13998\tTol3: 0.08687\t\n",
      "Iter 20/50\n",
      "M step: done,  E step: done //  (in 0.86 sec)\tlogL: -16794.460\tTol1: 0.00507\tTol2: 0.03522\tTol3: 0.02129\t\n",
      "Iter 21/50\n",
      "M step: done,  E step: done //  (in 0.85 sec)\tlogL: -16679.114\tTol1: 0.00687\tTol2: 0.05221\tTol3: 0.03197\t\n",
      "Iter 22/50\n",
      "M step: done,  E step: done //  (in 0.86 sec)\tlogL: -16610.823\tTol1: 0.00409\tTol2: 0.02924\tTol3: 0.01300\t\n",
      "Finished training!\n",
      "Initializing new EM...\n",
      "Doing clustering...Done!\n",
      "Get init alphas in 0.006304 mins\n",
      "Lambda by group:  [1. 1. 1.]\n",
      "Alphas:  (3,)\n",
      "MV init:  (4999, 2)\n",
      "Betas:  (3, 2, 2)\n",
      "Q estimate:  (4999, 2, 3, 2)\n",
      "Iter 1/50\n",
      "M step: done,  E step: done //  (in 2.72 sec)\tlogL: -19107.740\t\n",
      "Iter 2/50\n",
      "M step: done,  E step: done //  (in 0.86 sec)\tlogL: -18981.501\tTol1: 0.00661\tTol2: 0.34407\tTol3: 0.01681\t\n",
      "Iter 3/50\n",
      "M step: done,  E step: done //  (in 0.84 sec)\tlogL: -18750.721\tTol1: 0.01216\tTol2: 0.16836\tTol3: 0.01057\t\n",
      "Iter 4/50\n",
      "M step: done,  E step: done //  (in 0.87 sec)\tlogL: -18483.599\tTol1: 0.01425\tTol2: 0.11966\tTol3: 0.01859\t\n",
      "Iter 5/50\n",
      "M step: done,  E step: done //  (in 0.84 sec)\tlogL: -18223.418\tTol1: 0.01408\tTol2: 0.09430\tTol3: 0.01339\t\n",
      "Iter 6/50\n",
      "M step: done,  E step: done //  (in 0.87 sec)\tlogL: -18021.012\tTol1: 0.01111\tTol2: 0.08077\tTol3: 0.01561\t\n",
      "Iter 7/50\n",
      "M step: done,  E step: done //  (in 0.86 sec)\tlogL: -17960.061\tTol1: 0.00338\tTol2: 0.08765\tTol3: 0.04637\t\n",
      "Iter 8/50\n",
      "M step: done,  E step: done //  (in 0.83 sec)\tlogL: -17804.285\tTol1: 0.00867\tTol2: 0.06410\tTol3: 0.01748\t\n",
      "Iter 9/50\n",
      "M step: done,  E step: done //  (in 0.83 sec)\tlogL: -17595.660\tTol1: 0.01172\tTol2: 0.06233\tTol3: 0.02753\t\n",
      "Iter 10/50\n",
      "M step: done,  E step: done //  (in 0.82 sec)\tlogL: -17565.018\tTol1: 0.00174\tTol2: 0.05344\tTol3: 0.02079\t\n",
      "Iter 11/50\n",
      "M step: done,  E step: done //  (in 0.84 sec)\tlogL: -17460.688\tTol1: 0.00594\tTol2: 0.05869\tTol3: 0.03358\t\n",
      "Iter 12/50\n",
      "M step: done,  E step: done //  (in 0.86 sec)\tlogL: -17327.648\tTol1: 0.00762\tTol2: 0.05999\tTol3: 0.03599\t\n",
      "Iter 13/50\n",
      "M step: done,  E step: done //  (in 0.85 sec)\tlogL: -17261.850\tTol1: 0.00380\tTol2: 0.04315\tTol3: 0.01855\t\n",
      "Iter 14/50\n",
      "M step: done,  E step: done //  (in 0.88 sec)\tlogL: -17198.877\tTol1: 0.00365\tTol2: 0.04348\tTol3: 0.02257\t\n",
      "Iter 15/50\n",
      "M step: done,  E step: done //  (in 0.84 sec)\tlogL: -17159.079\tTol1: 0.00231\tTol2: 0.05638\tTol3: 0.03299\t\n",
      "Iter 16/50\n",
      "M step: done,  E step: done //  (in 0.84 sec)\tlogL: -17132.938\tTol1: 0.00152\tTol2: 0.07315\tTol3: 0.04418\t\n",
      "Iter 17/50\n",
      "M step: done,  E step: done //  (in 0.88 sec)\tlogL: -16907.384\tTol1: 0.01316\tTol2: 0.09194\tTol3: 0.05553\t\n",
      "Iter 18/50\n",
      "M step: done,  E step: done //  (in 0.86 sec)\tlogL: -16803.843\tTol1: 0.00612\tTol2: 0.05587\tTol3: 0.03557\t\n",
      "Iter 19/50\n",
      "M step: done,  E step: done //  (in 0.88 sec)\tlogL: -16887.041\tTol1: 0.00495\tTol2: 0.05242\tTol3: 0.03359\t\n",
      "Iter 20/50\n",
      "M step: done,  E step: done //  (in 0.90 sec)\tlogL: -16687.831\tTol1: 0.01180\tTol2: 0.09732\tTol3: 0.05728\t\n",
      "Iter 21/50\n",
      "M step: done,  E step: done //  (in 0.91 sec)\tlogL: -16895.260\tTol1: 0.01243\tTol2: 0.04003\tTol3: 0.02145\t\n",
      "Iter 22/50\n",
      "M step: done,  E step: done //  (in 0.88 sec)\tlogL: -16612.677\tTol1: 0.01673\tTol2: 0.12331\tTol3: 0.07566\t\n",
      "Iter 23/50\n",
      "M step: done,  E step: done //  (in 0.85 sec)\tlogL: -16561.078\tTol1: 0.00311\tTol2: 0.10028\tTol3: 0.06157\t\n",
      "Iter 24/50\n",
      "M step: done,  E step: done //  (in 0.87 sec)\tlogL: -16519.831\tTol1: 0.00249\tTol2: 0.08865\tTol3: 0.05551\t\n",
      "Iter 25/50\n",
      "M step: done,  E step: done //  (in 0.86 sec)\tlogL: -16559.875\tTol1: 0.00242\tTol2: 0.08166\tTol3: 0.05141\t\n",
      "Iter 26/50\n",
      "M step: done,  E step: done //  (in 0.91 sec)\tlogL: -16286.285\tTol1: 0.01652\tTol2: 0.09658\tTol3: 0.05896\t\n",
      "Iter 27/50\n",
      "M step: done,  E step: done //  (in 0.86 sec)\tlogL: -16287.510\tTol1: 0.00008\tTol2: 0.04472\tTol3: 0.02165\t\n",
      "Iter 28/50\n",
      "M step: done,  E step: done //  (in 0.87 sec)\tlogL: -16109.346\tTol1: 0.01094\tTol2: 0.07959\tTol3: 0.05159\t\n",
      "Iter 29/50\n",
      "M step: done,  E step: done //  (in 0.92 sec)\tlogL: -16072.619\tTol1: 0.00228\tTol2: 0.03721\tTol3: 0.01966\t\n",
      "Iter 30/50\n",
      "M step: done,  E step: done //  (in 0.86 sec)\tlogL: -15971.045\tTol1: 0.00632\tTol2: 0.07316\tTol3: 0.04013\t\n",
      "Iter 31/50\n",
      "M step: done,  E step: done //  (in 0.85 sec)\tlogL: -15856.355\tTol1: 0.00718\tTol2: 0.04067\tTol3: 0.02159\t\n",
      "Iter 32/50\n",
      "M step: done,  E step: done //  (in 0.89 sec)\tlogL: -15799.149\tTol1: 0.00361\tTol2: 0.03165\tTol3: 0.01467\t\n",
      "Iter 33/50\n",
      "M step: done,  E step: done //  (in 0.91 sec)\tlogL: -15979.843\tTol1: 0.01144\tTol2: 0.02195\tTol3: 0.00783\t\n",
      "Finished training!\n",
      "Initializing new EM...\n",
      "Doing clustering...Done!\n",
      "Get init alphas in 0.005936 mins\n",
      "Lambda by group:  [1. 1. 1.]\n",
      "Alphas:  (3,)\n",
      "MV init:  (4999, 2)\n",
      "Betas:  (3, 2, 2)\n",
      "Q estimate:  (4999, 2, 3, 2)\n",
      "Iter 1/50\n",
      "M step: done,  E step: done //  (in 2.95 sec)\tlogL: -19105.698\t\n",
      "Iter 2/50\n",
      "M step: done,  E step: done //  (in 0.82 sec)\tlogL: -19020.722\tTol1: 0.00445\tTol2: 0.33909\tTol3: 0.00624\t\n",
      "Iter 3/50\n",
      "M step: done,  E step: done //  (in 0.80 sec)\tlogL: -18871.909\tTol1: 0.00782\tTol2: 0.16965\tTol3: 0.01129\t\n",
      "Iter 4/50\n",
      "M step: done,  E step: done //  (in 0.81 sec)\tlogL: -18622.927\tTol1: 0.01319\tTol2: 0.11474\tTol3: 0.00868\t\n",
      "Iter 5/50\n",
      "M step: done,  E step: done //  (in 0.85 sec)\tlogL: -18386.718\tTol1: 0.01268\tTol2: 0.09226\tTol3: 0.01394\t\n",
      "Iter 6/50\n",
      "M step: done,  E step: done //  (in 0.88 sec)\tlogL: -18264.613\tTol1: 0.00664\tTol2: 0.07877\tTol3: 0.02017\t\n",
      "Iter 7/50\n",
      "M step: done,  E step: done //  (in 0.86 sec)\tlogL: -18057.176\tTol1: 0.01136\tTol2: 0.07149\tTol3: 0.02243\t\n",
      "Iter 8/50\n",
      "M step: done,  E step: done //  (in 0.85 sec)\tlogL: -17908.794\tTol1: 0.00822\tTol2: 0.07103\tTol3: 0.03202\t\n",
      "Iter 9/50\n",
      "M step: done,  E step: done //  (in 0.83 sec)\tlogL: -17931.818\tTol1: 0.00129\tTol2: 0.05758\tTol3: 0.01737\t\n",
      "Iter 10/50\n",
      "M step: done,  E step: done //  (in 0.81 sec)\tlogL: -17776.892\tTol1: 0.00864\tTol2: 0.13796\tTol3: 0.08460\t\n",
      "Iter 11/50\n"
     ]
    },
    {
     "name": "stdout",
     "output_type": "stream",
     "text": [
      "M step: done,  E step: done //  (in 0.81 sec)\tlogL: -17601.562\tTol1: 0.00986\tTol2: 0.11401\tTol3: 0.07136\t\n",
      "Iter 12/50\n",
      "M step: done,  E step: done //  (in 0.82 sec)\tlogL: -17463.706\tTol1: 0.00783\tTol2: 0.07265\tTol3: 0.04287\t\n",
      "Iter 13/50\n",
      "M step: done,  E step: done //  (in 0.81 sec)\tlogL: -17365.694\tTol1: 0.00561\tTol2: 0.04724\tTol3: 0.01899\t\n",
      "Iter 14/50\n",
      "M step: done,  E step: done //  (in 0.84 sec)\tlogL: -17237.322\tTol1: 0.00739\tTol2: 0.04387\tTol3: 0.02001\t\n",
      "Iter 15/50\n",
      "M step: done,  E step: done //  (in 0.85 sec)\tlogL: -17131.787\tTol1: 0.00612\tTol2: 0.04130\tTol3: 0.02291\t\n",
      "Iter 16/50\n",
      "M step: done,  E step: done //  (in 0.83 sec)\tlogL: -17059.992\tTol1: 0.00419\tTol2: 0.03986\tTol3: 0.01850\t\n",
      "Iter 17/50\n",
      "M step: done,  E step: done //  (in 0.85 sec)\tlogL: -16950.884\tTol1: 0.00640\tTol2: 0.04922\tTol3: 0.03119\t\n",
      "Iter 18/50\n",
      "M step: done,  E step: done //  (in 0.83 sec)\tlogL: -16896.753\tTol1: 0.00319\tTol2: 0.04742\tTol3: 0.02805\t\n",
      "Iter 19/50\n",
      "M step: done,  E step: done //  (in 0.85 sec)\tlogL: -16872.542\tTol1: 0.00143\tTol2: 0.05262\tTol3: 0.03242\t\n",
      "Iter 20/50\n",
      "M step: done,  E step: done //  (in 0.88 sec)\tlogL: -16892.743\tTol1: 0.00120\tTol2: 0.03577\tTol3: 0.02101\t\n",
      "Iter 21/50\n",
      "M step: done,  E step: done //  (in 0.86 sec)\tlogL: -16719.751\tTol1: 0.01024\tTol2: 0.10690\tTol3: 0.06623\t\n",
      "Iter 22/50\n",
      "M step: done,  E step: done //  (in 0.85 sec)\tlogL: -16667.859\tTol1: 0.00310\tTol2: 0.05315\tTol3: 0.03366\t\n",
      "Iter 23/50\n",
      "M step: done,  E step: done //  (in 0.86 sec)\tlogL: -16565.342\tTol1: 0.00615\tTol2: 0.07425\tTol3: 0.04547\t\n",
      "Iter 24/50\n",
      "M step: done,  E step: done //  (in 0.85 sec)\tlogL: -16545.845\tTol1: 0.00118\tTol2: 0.03915\tTol3: 0.02368\t\n",
      "Iter 25/50\n",
      "M step: done,  E step: done //  (in 0.86 sec)\tlogL: -16419.166\tTol1: 0.00766\tTol2: 0.03025\tTol3: 0.01823\t\n",
      "Iter 26/50\n",
      "M step: done,  E step: done //  (in 0.83 sec)\tlogL: -16383.135\tTol1: 0.00219\tTol2: 0.02583\tTol3: 0.01107\t\n",
      "Finished training!\n",
      "Initializing new EM...\n",
      "Doing clustering...Done!\n",
      "Get init alphas in 0.005836 mins\n",
      "Lambda by group:  [1. 1. 1.]\n",
      "Alphas:  (3,)\n",
      "MV init:  (4999, 2)\n",
      "Betas:  (3, 2, 2)\n",
      "Q estimate:  (4999, 2, 3, 2)\n",
      "Iter 1/50\n",
      "M step: done,  E step: done //  (in 2.80 sec)\tlogL: -19125.686\t\n",
      "Iter 2/50\n",
      "M step: done,  E step: done //  (in 0.83 sec)\tlogL: -18961.067\tTol1: 0.00861\tTol2: 0.35567\tTol3: 0.03616\t\n",
      "Iter 3/50\n",
      "M step: done,  E step: done //  (in 0.84 sec)\tlogL: -18782.083\tTol1: 0.00944\tTol2: 0.16702\tTol3: 0.00423\t\n",
      "Iter 4/50\n",
      "M step: done,  E step: done //  (in 0.95 sec)\tlogL: -18556.169\tTol1: 0.01203\tTol2: 0.12484\tTol3: 0.02702\t\n",
      "Iter 5/50\n",
      "M step: done,  E step: done //  (in 0.92 sec)\tlogL: -18361.267\tTol1: 0.01050\tTol2: 0.11055\tTol3: 0.04341\t\n",
      "Iter 6/50\n",
      "M step: done,  E step: done //  (in 0.85 sec)\tlogL: -18185.255\tTol1: 0.00959\tTol2: 0.07910\tTol3: 0.01840\t\n",
      "Iter 7/50\n",
      "M step: done,  E step: done //  (in 0.86 sec)\tlogL: -18045.336\tTol1: 0.00769\tTol2: 0.07940\tTol3: 0.03593\t\n",
      "Iter 8/50\n",
      "M step: done,  E step: done //  (in 0.84 sec)\tlogL: -18070.889\tTol1: 0.00142\tTol2: 0.06190\tTol3: 0.01507\t\n",
      "Iter 9/50\n",
      "M step: done,  E step: done //  (in 0.84 sec)\tlogL: -17944.120\tTol1: 0.00702\tTol2: 0.07470\tTol3: 0.04194\t\n",
      "Iter 10/50\n",
      "M step: done,  E step: done //  (in 0.86 sec)\tlogL: -17792.956\tTol1: 0.00842\tTol2: 0.07015\tTol3: 0.04165\t\n",
      "Iter 11/50\n",
      "M step: done,  E step: done //  (in 0.85 sec)\tlogL: -17682.009\tTol1: 0.00624\tTol2: 0.06083\tTol3: 0.03428\t\n",
      "Iter 12/50\n",
      "M step: done,  E step: done //  (in 0.85 sec)\tlogL: -17546.244\tTol1: 0.00768\tTol2: 0.05989\tTol3: 0.03183\t\n",
      "Iter 13/50\n",
      "M step: done,  E step: done //  (in 0.85 sec)\tlogL: -17462.108\tTol1: 0.00480\tTol2: 0.07878\tTol3: 0.04856\t\n",
      "Iter 14/50\n",
      "M step: done,  E step: done //  (in 0.85 sec)\tlogL: -17359.022\tTol1: 0.00590\tTol2: 0.05115\tTol3: 0.02792\t\n",
      "Iter 15/50\n",
      "M step: done,  E step: done //  (in 0.85 sec)\tlogL: -17262.181\tTol1: 0.00558\tTol2: 0.04628\tTol3: 0.02339\t\n",
      "Iter 16/50\n",
      "M step: done,  E step: done //  (in 0.91 sec)\tlogL: -17148.356\tTol1: 0.00659\tTol2: 0.04174\tTol3: 0.01988\t\n",
      "Iter 17/50\n",
      "M step: done,  E step: done //  (in 0.94 sec)\tlogL: -17037.505\tTol1: 0.00646\tTol2: 0.06331\tTol3: 0.03903\t\n",
      "Iter 18/50\n",
      "M step: done,  E step: done //  (in 0.90 sec)\tlogL: -16969.442\tTol1: 0.00399\tTol2: 0.07078\tTol3: 0.04376\t\n",
      "Iter 19/50\n",
      "M step: done,  E step: done //  (in 0.95 sec)\tlogL: -16819.585\tTol1: 0.00883\tTol2: 0.04787\tTol3: 0.02869\t\n",
      "Iter 20/50\n",
      "M step: done,  E step: done //  (in 0.86 sec)\tlogL: -16739.830\tTol1: 0.00474\tTol2: 0.03466\tTol3: 0.01521\t\n",
      "Iter 21/50\n",
      "M step: done,  E step: done //  (in 0.83 sec)\tlogL: -16680.752\tTol1: 0.00353\tTol2: 0.03226\tTol3: 0.01287\t\n",
      "Iter 22/50\n",
      "M step: done,  E step: done //  (in 0.89 sec)\tlogL: -16721.468\tTol1: 0.00244\tTol2: 0.03821\tTol3: 0.01846\t\n",
      "Iter 23/50\n",
      "M step: done,  E step: done //  (in 0.84 sec)\tlogL: -16548.784\tTol1: 0.01033\tTol2: 0.09270\tTol3: 0.05655\t\n",
      "Iter 24/50\n",
      "M step: done,  E step: done //  (in 0.83 sec)\tlogL: -16511.029\tTol1: 0.00228\tTol2: 0.03593\tTol3: 0.01866\t\n",
      "Iter 25/50\n",
      "M step: done,  E step: done //  (in 0.87 sec)\tlogL: -16935.936\tTol1: 0.02573\tTol2: 0.05729\tTol3: 0.03436\t\n",
      "Iter 26/50\n",
      "M step: done,  E step: done //  (in 0.92 sec)\tlogL: -16386.131\tTol1: 0.03246\tTol2: 0.18926\tTol3: 0.11405\t\n",
      "Iter 27/50\n",
      "M step: done,  E step: done //  (in 0.93 sec)\tlogL: -16245.632\tTol1: 0.00857\tTol2: 0.04317\tTol3: 0.02400\t\n",
      "Iter 28/50\n",
      "M step: done,  E step: done //  (in 0.91 sec)\tlogL: -16301.355\tTol1: 0.00343\tTol2: 0.02860\tTol3: 0.01453\t\n",
      "Finished training!\n",
      "Multiples runs over Ours Global, Epochs to converge=  28.85\n"
     ]
    }
   ],
   "source": [
    "gMixture_Global = GroupMixtureGlo(max_L,Kl=r_obs.shape[1],M=M_seted,epochs=1,optimizer=OPT,dtype_op=DTYPE_OP) \n",
    "gMixture_Global.define_model(\"default rnn text\", embed=embedding_matrix)\n",
    "\n",
    "if uniform:\n",
    "    gMixture_Global.define_priors(\"laplace\")\n",
    "    gMixture_Global.define_priors(uniform_groups)\n",
    "\n",
    "logL_hists,i_r = gMixture_Global.multiples_run(20,X_train,r_obs,\n",
    "                                               batch_size=BATCH_SIZE,max_iter=EPOCHS_BASE,tolerance=TOL)"
   ]
  },
  {
   "cell_type": "code",
   "execution_count": 26,
   "metadata": {},
   "outputs": [],
   "source": [
    "Z_train_p = gMixture_Global.get_predictions(X_train)\n",
    "Z_train_pred = Z_train_p.argmax(axis=-1)\n",
    "Z_test_p = gMixture_Global.get_predictions(X_test)\n",
    "Z_test_pred = Z_test_p.argmax(axis=-1)"
   ]
  },
  {
   "cell_type": "code",
   "execution_count": 27,
   "metadata": {},
   "outputs": [
    {
     "data": {
      "image/png": "[encoded data removed]",
      "text/plain": [
       "<Figure size 1080x504 with 1 Axes>"
      ]
     },
     "metadata": {},
     "output_type": "display_data"
    }
   ],
   "source": [
    "plt.figure(figsize=(15,7))\n",
    "for a, value in enumerate(logL_hists): #logL_hists\n",
    "    if a != i_r:\n",
    "        plt.plot(range(len(value)),value,'.-')\n",
    "plt.plot(range(len(logL_hists[i_r])),logL_hists[i_r],'o-',markersize=10,label=\"Selected run\")\n",
    "plt.legend()\n",
    "plt.show()"
   ]
  },
  {
   "cell_type": "code",
   "execution_count": null,
   "metadata": {},
   "outputs": [],
   "source": []
  },
  {
   "cell_type": "code",
   "execution_count": 80,
   "metadata": {},
   "outputs": [
    {
     "name": "stdout",
     "output_type": "stream",
     "text": [
      "shape of annotator representation (T, R_t)= (203, 203)\n"
     ]
    }
   ],
   "source": [
    "Y_ann_train, T_idx = set_representation(y_obs,\"onehotvar\")\n",
    "T_idx_unique = np.arange(T).reshape(-1,1)\n",
    "\n",
    "A = keras.utils.to_categorical(np.arange(T), num_classes=T) #fast way\n",
    "print(\"shape of annotator representation (T, R_t)=\", A.shape)"
   ]
  },
  {
   "cell_type": "code",
   "execution_count": 81,
   "metadata": {},
   "outputs": [
    {
     "name": "stdout",
     "output_type": "stream",
     "text": [
      "shape of annotator representation (T, R_t)= (203, 2)\n"
     ]
    },
    {
     "data": {
      "image/png": "[encoded data removed]",
      "text/plain": [
       "<Figure size 432x288 with 1 Axes>"
      ]
     },
     "metadata": {},
     "output_type": "display_data"
    },
    {
     "data": {
      "image/png": "[encoded data removed]",
      "text/plain": [
       "<Figure size 432x288 with 1 Axes>"
      ]
     },
     "metadata": {},
     "output_type": "display_data"
    },
    {
     "data": {
      "text/plain": [
       "array([[  18.,   17.],\n",
       "       [ 252.,  213.],\n",
       "       [  46.,   52.],\n",
       "       [ 350.,  363.],\n",
       "       [ 194.,  135.],\n",
       "       [1610., 2383.],\n",
       "       [ 637.,  657.],\n",
       "       [ 148.,  142.],\n",
       "       [  23.,   22.],\n",
       "       [ 379.,  407.],\n",
       "       [  91.,   78.],\n",
       "       [  56.,   53.],\n",
       "       [ 121.,  109.],\n",
       "       [ 630.,  538.],\n",
       "       [  67.,   77.],\n",
       "       [ 332.,  328.],\n",
       "       [  14.,   11.],\n",
       "       [  80.,   60.],\n",
       "       [  10.,   19.],\n",
       "       [  56.,   79.],\n",
       "       [  64.,   91.],\n",
       "       [ 127.,   98.],\n",
       "       [ 105.,  100.],\n",
       "       [   5.,   10.],\n",
       "       [  52.,   63.],\n",
       "       [  48.,   62.],\n",
       "       [  80.,   65.],\n",
       "       [ 217.,  276.],\n",
       "       [  12.,   13.],\n",
       "       [  11.,   19.],\n",
       "       [  26.,   34.],\n",
       "       [  89.,  106.],\n",
       "       [  28.,   17.],\n",
       "       [  74.,   76.],\n",
       "       [  50.,  125.],\n",
       "       [  86.,  209.],\n",
       "       [  30.,   40.],\n",
       "       [  69.,   66.],\n",
       "       [ 116.,  121.],\n",
       "       [  62.,   58.],\n",
       "       [  33.,   22.],\n",
       "       [  14.,   16.],\n",
       "       [   4.,   11.],\n",
       "       [  10.,    9.],\n",
       "       [  16.,   29.],\n",
       "       [  82.,   68.],\n",
       "       [  15.,   20.],\n",
       "       [  14.,   11.],\n",
       "       [  73.,   82.],\n",
       "       [  83.,   77.],\n",
       "       [  11.,   19.],\n",
       "       [  37.,   28.],\n",
       "       [   2.,    3.],\n",
       "       [   6.,    4.],\n",
       "       [   3.,    2.],\n",
       "       [   3.,    2.],\n",
       "       [   5.,    5.],\n",
       "       [  16.,   19.],\n",
       "       [   7.,   12.],\n",
       "       [  11.,   24.],\n",
       "       [  18.,   17.],\n",
       "       [   1.,    4.],\n",
       "       [   4.,   11.],\n",
       "       [   5.,    5.],\n",
       "       [  17.,   23.],\n",
       "       [  22.,   18.],\n",
       "       [   3.,    7.],\n",
       "       [  12.,   13.],\n",
       "       [   2.,    3.],\n",
       "       [   3.,    2.],\n",
       "       [   3.,    2.],\n",
       "       [  10.,   10.],\n",
       "       [   9.,    1.],\n",
       "       [   5.,    5.],\n",
       "       [   3.,   12.],\n",
       "       [   3.,    2.],\n",
       "       [   1.,    4.],\n",
       "       [   1.,    4.],\n",
       "       [   4.,    1.],\n",
       "       [   1.,    4.],\n",
       "       [   3.,    2.],\n",
       "       [   6.,    4.],\n",
       "       [   2.,    3.],\n",
       "       [   2.,    3.],\n",
       "       [   1.,    4.],\n",
       "       [ 424.,  620.],\n",
       "       [  77.,   58.],\n",
       "       [  15.,   20.],\n",
       "       [  16.,   24.],\n",
       "       [  30.,   25.],\n",
       "       [ 315.,  680.],\n",
       "       [ 128.,  122.],\n",
       "       [ 101.,  189.],\n",
       "       [ 166.,  172.],\n",
       "       [ 156.,  149.],\n",
       "       [  26.,   29.],\n",
       "       [ 101.,   84.],\n",
       "       [ 133.,  367.],\n",
       "       [ 125.,  115.],\n",
       "       [  11.,   19.],\n",
       "       [  68.,   77.],\n",
       "       [ 172.,  187.],\n",
       "       [  79.,   80.],\n",
       "       [  63.,   77.],\n",
       "       [  36.,   61.],\n",
       "       [  14.,   11.],\n",
       "       [  64.,   81.],\n",
       "       [ 140.,  150.],\n",
       "       [ 242.,  203.],\n",
       "       [  82.,  123.],\n",
       "       [ 140.,  124.],\n",
       "       [  12.,    8.],\n",
       "       [  23.,   12.],\n",
       "       [  30.,   25.],\n",
       "       [  58.,   81.],\n",
       "       [  33.,   27.],\n",
       "       [  54.,   66.],\n",
       "       [  28.,   32.],\n",
       "       [  83.,   57.],\n",
       "       [  45.,   60.],\n",
       "       [  46.,   63.],\n",
       "       [  63.,  102.],\n",
       "       [  56.,   64.],\n",
       "       [  28.,   22.],\n",
       "       [   3.,    2.],\n",
       "       [  36.,   19.],\n",
       "       [  58.,   61.],\n",
       "       [  51.,   54.],\n",
       "       [   8.,    7.],\n",
       "       [ 104.,   81.],\n",
       "       [  68.,   51.],\n",
       "       [   7.,    8.],\n",
       "       [  15.,   20.],\n",
       "       [  31.,   44.],\n",
       "       [  40.,   39.],\n",
       "       [  51.,   38.],\n",
       "       [   5.,    0.],\n",
       "       [   1.,    4.],\n",
       "       [  46.,   34.],\n",
       "       [  18.,   22.],\n",
       "       [  21.,   29.],\n",
       "       [  35.,   19.],\n",
       "       [  12.,   33.],\n",
       "       [  17.,   13.],\n",
       "       [   1.,   14.],\n",
       "       [  12.,   23.],\n",
       "       [   1.,    4.],\n",
       "       [   2.,    3.],\n",
       "       [  10.,   15.],\n",
       "       [  23.,   17.],\n",
       "       [   3.,    2.],\n",
       "       [  48.,   70.],\n",
       "       [  34.,   26.],\n",
       "       [   5.,   10.],\n",
       "       [   6.,    4.],\n",
       "       [  14.,   10.],\n",
       "       [  28.,   17.],\n",
       "       [  36.,   24.],\n",
       "       [  10.,    5.],\n",
       "       [   5.,    5.],\n",
       "       [   9.,    6.],\n",
       "       [   7.,    3.],\n",
       "       [   8.,    7.],\n",
       "       [   1.,    4.],\n",
       "       [   0.,    5.],\n",
       "       [   7.,    8.],\n",
       "       [   2.,    3.],\n",
       "       [   3.,    7.],\n",
       "       [   2.,    3.],\n",
       "       [   2.,    3.],\n",
       "       [   5.,    5.],\n",
       "       [   2.,    3.],\n",
       "       [   1.,    4.],\n",
       "       [   2.,    3.],\n",
       "       [   0.,    5.],\n",
       "       [   2.,    3.],\n",
       "       [   5.,    0.],\n",
       "       [   2.,    3.],\n",
       "       [   2.,    8.],\n",
       "       [   2.,    3.],\n",
       "       [   2.,    3.],\n",
       "       [   2.,    3.],\n",
       "       [   3.,    2.],\n",
       "       [   0.,    5.],\n",
       "       [   4.,    6.],\n",
       "       [   2.,    3.],\n",
       "       [   3.,    2.],\n",
       "       [   2.,    3.],\n",
       "       [   5.,    5.],\n",
       "       [   1.,    4.],\n",
       "       [   1.,    4.],\n",
       "       [   2.,    3.],\n",
       "       [   2.,    3.],\n",
       "       [ 750.,  736.],\n",
       "       [  65.,   65.],\n",
       "       [ 104.,   75.],\n",
       "       [  67.,   77.],\n",
       "       [  62.,   57.],\n",
       "       [  71.,   67.],\n",
       "       [  74.,   71.],\n",
       "       [  72.,   65.],\n",
       "       [  82.,   75.],\n",
       "       [  79.,   96.]])"
      ]
     },
     "execution_count": 81,
     "metadata": {},
     "output_type": "execute_result"
    }
   ],
   "source": [
    "from code.MixtureofGroups import *\n",
    "conf_mat, conf_mat_norm  = build_conf_Yvar(Y_ann_train, T_idx, r_obs.argmax(axis=-1))\n",
    "\n",
    "#A_rep = conf_mat_norm.reshape(conf_mat_norm.shape[0], Kl**2) #flatten\n",
    "A_rep = np.zeros((conf_mat.shape[0], Kl))\n",
    "for t in range(A_rep.shape[0]):\n",
    "    A_rep[t] = JS_confmatrixs(conf_mat_norm[t], np.identity(Kl),raw=True) #distancia a I (MV)\n",
    "    \n",
    "print(\"shape of annotator representation (T, R_t)=\", A_rep.shape)\n",
    "\n",
    "from sklearn.decomposition import PCA\n",
    "model = PCA(2)\n",
    "aux_pca = model.fit_transform(A_rep)\n",
    "plt.scatter(aux_pca[:,0],aux_pca[:,1])\n",
    "plt.show()\n",
    "\n",
    "\n",
    "A_rep = np.zeros((y_obs.shape[1], Kl))\n",
    "for i in range(N):\n",
    "    for l, t_idx in enumerate(T_idx[i]):\n",
    "        obs_t = Y_ann_train[i][l].argmax(axis=-1)\n",
    "        A_rep[t_idx, obs_t] += 1\n",
    "    \n",
    "from sklearn.decomposition import PCA\n",
    "model = PCA(2)\n",
    "aux_pca = model.fit_transform(A_rep)\n",
    "plt.scatter(aux_pca[:,0],aux_pca[:,1])\n",
    "plt.show()\n",
    "A_rep"
   ]
  },
  {
   "cell_type": "code",
   "execution_count": 82,
   "metadata": {},
   "outputs": [],
   "source": [
    "#different M_seted??\n",
    "M_seted = 2"
   ]
  },
  {
   "cell_type": "code",
   "execution_count": 85,
   "metadata": {
    "scrolled": true
   },
   "outputs": [
    {
     "name": "stdout",
     "output_type": "stream",
     "text": [
      "Initializing new EM...\n",
      "A = Son ortonormales / No fueron entregados!\n",
      "Doing clustering...Done!\n",
      "Get init alphas in 0.002356 mins\n",
      "Lambda by group:  [1. 1. 1.]\n",
      "Pre-train networks over *z* on 3 epochs... Done!\n",
      "MV init:  (4999, 2)\n",
      "Betas:  (3, 2, 2)\n",
      "Q estimate:  (27746, 3, 2)\n",
      "Iter 1/50\n",
      "M step: done,  E step: done //  (in 5.95 sec)\tlogL: -17004.676\t\n",
      "Iter 2/50\n",
      "M step: done,  E step: done //  (in 1.53 sec)\tlogL: -15813.108\tTol1: 0.07007\tTol2: 0.16775\t\n",
      "Iter 3/50\n",
      "M step: done,  E step: done //  (in 1.50 sec)\tlogL: -14931.188\tTol1: 0.05577\tTol2: 0.15502\t\n",
      "Iter 4/50\n",
      "M step: done,  E step: done //  (in 1.60 sec)\tlogL: -14515.067\tTol1: 0.02787\tTol2: 0.12398\t\n",
      "Iter 5/50\n",
      "M step: done,  E step: done //  (in 1.57 sec)\tlogL: -14461.433\tTol1: 0.00370\tTol2: 0.10197\t\n",
      "Iter 6/50\n",
      "M step: done,  E step: done //  (in 1.46 sec)\tlogL: -13656.745\tTol1: 0.05564\tTol2: 0.14788\t\n",
      "Iter 7/50\n",
      "M step: done,  E step: done //  (in 1.56 sec)\tlogL: -13224.931\tTol1: 0.03162\tTol2: 0.07016\t\n",
      "Iter 8/50\n",
      "M step: done,  E step: done //  (in 1.46 sec)\tlogL: -12834.869\tTol1: 0.02949\tTol2: 0.06720\t\n",
      "Iter 9/50\n",
      "M step: done,  E step: done //  (in 1.46 sec)\tlogL: -12419.904\tTol1: 0.03233\tTol2: 0.07447\t\n",
      "Iter 10/50\n",
      "M step: done,  E step: done //  (in 1.47 sec)\tlogL: -12033.487\tTol1: 0.03111\tTol2: 0.07116\t\n",
      "Iter 11/50\n",
      "M step: done,  E step: done //  (in 1.50 sec)\tlogL: -11771.584\tTol1: 0.02176\tTol2: 0.08078\t\n",
      "Iter 12/50\n",
      "M step: done,  E step: done //  (in 1.48 sec)\tlogL: -11506.650\tTol1: 0.02251\tTol2: 0.08778\t\n",
      "Iter 13/50\n",
      "M step: done,  E step: done //  (in 1.46 sec)\tlogL: -11267.165\tTol1: 0.02081\tTol2: 0.08715\t\n",
      "Iter 14/50\n",
      "M step: done,  E step: done //  (in 1.50 sec)\tlogL: -11151.802\tTol1: 0.01024\tTol2: 0.09313\t\n",
      "Iter 15/50\n",
      "M step: done,  E step: done //  (in 1.49 sec)\tlogL: -10858.607\tTol1: 0.02629\tTol2: 0.12034\t\n",
      "Iter 16/50\n",
      "M step: done,  E step: done //  (in 1.53 sec)\tlogL: -11132.673\tTol1: 0.02524\tTol2: 0.09939\t\n",
      "Iter 17/50\n",
      "M step: done,  E step: done //  (in 1.49 sec)\tlogL: -10583.007\tTol1: 0.04937\tTol2: 0.14342\t\n",
      "Iter 18/50\n",
      "M step: done,  E step: done //  (in 1.44 sec)\tlogL: -10458.694\tTol1: 0.01175\tTol2: 0.09067\t\n",
      "Iter 19/50\n",
      "M step: done,  E step: done //  (in 1.48 sec)\tlogL: -10383.910\tTol1: 0.00715\tTol2: 0.07594\t\n",
      "Iter 20/50\n",
      "M step: done,  E step: done //  (in 1.48 sec)\tlogL: -11299.943\tTol1: 0.08822\tTol2: 0.06980\t\n",
      "Iter 21/50\n",
      "M step: done,  E step: done //  (in 1.48 sec)\tlogL: -11487.551\tTol1: 0.01660\tTol2: 0.16925\t\n",
      "Iter 22/50\n",
      "M step: done,  E step: done //  (in 1.44 sec)\tlogL: -10450.797\tTol1: 0.09025\tTol2: 0.07826\t\n",
      "Iter 23/50\n",
      "M step: done,  E step: done //  (in 1.50 sec)\tlogL: -10362.848\tTol1: 0.00842\tTol2: 0.13060\t\n",
      "Iter 24/50\n",
      "M step: done,  E step: done //  (in 1.47 sec)\tlogL: -10128.184\tTol1: 0.02264\tTol2: 0.10348\t\n",
      "Iter 25/50\n",
      "M step: done,  E step: done //  (in 1.48 sec)\tlogL: -10049.164\tTol1: 0.00780\tTol2: 0.03137\t\n",
      "Iter 26/50\n",
      "M step: done,  E step: done //  (in 1.48 sec)\tlogL: -9948.080\tTol1: 0.01006\tTol2: 0.03289\t\n",
      "Iter 27/50\n",
      "M step: done,  E step: done //  (in 1.47 sec)\tlogL: -9864.088\tTol1: 0.00844\tTol2: 0.02392\t\n",
      "Finished training!\n",
      "Initializing new EM...\n",
      "A = Son ortonormales / No fueron entregados!\n",
      "Doing clustering...Done!\n",
      "Get init alphas in 0.002593 mins\n",
      "Lambda by group:  [1. 1. 1.]\n",
      "Pre-train networks over *z* on 3 epochs... Done!\n",
      "MV init:  (4999, 2)\n",
      "Betas:  (3, 2, 2)\n",
      "Q estimate:  (27746, 3, 2)\n",
      "Iter 1/50\n",
      "M step: done,  E step: done //  (in 4.55 sec)\tlogL: -16860.060\t\n",
      "Iter 2/50\n",
      "M step: done,  E step: done //  (in 1.45 sec)\tlogL: -15772.288\tTol1: 0.06452\tTol2: 0.17510\t\n",
      "Iter 3/50\n",
      "M step: done,  E step: done //  (in 1.46 sec)\tlogL: -15029.580\tTol1: 0.04709\tTol2: 0.15340\t\n",
      "Iter 4/50\n",
      "M step: done,  E step: done //  (in 1.43 sec)\tlogL: -14558.122\tTol1: 0.03137\tTol2: 0.11952\t\n",
      "Iter 5/50\n",
      "M step: done,  E step: done //  (in 1.45 sec)\tlogL: -14183.543\tTol1: 0.02573\tTol2: 0.08815\t\n",
      "Iter 6/50\n",
      "M step: done,  E step: done //  (in 1.43 sec)\tlogL: -13879.244\tTol1: 0.02145\tTol2: 0.07235\t\n",
      "Iter 7/50\n",
      "M step: done,  E step: done //  (in 1.43 sec)\tlogL: -13505.654\tTol1: 0.02692\tTol2: 0.09083\t\n",
      "Iter 8/50\n",
      "M step: done,  E step: done //  (in 1.44 sec)\tlogL: -13328.153\tTol1: 0.01314\tTol2: 0.07808\t\n",
      "Iter 9/50\n",
      "M step: done,  E step: done //  (in 1.43 sec)\tlogL: -12812.019\tTol1: 0.03873\tTol2: 0.14197\t\n",
      "Iter 10/50\n",
      "M step: done,  E step: done //  (in 1.43 sec)\tlogL: -12809.648\tTol1: 0.00019\tTol2: 0.03968\t\n",
      "Iter 11/50\n",
      "M step: done,  E step: done //  (in 1.42 sec)\tlogL: -12324.090\tTol1: 0.03791\tTol2: 0.13518\t\n",
      "Iter 12/50\n",
      "M step: done,  E step: done //  (in 1.46 sec)\tlogL: -12095.861\tTol1: 0.01852\tTol2: 0.05550\t\n",
      "Iter 13/50\n",
      "M step: done,  E step: done //  (in 1.46 sec)\tlogL: -11984.979\tTol1: 0.00917\tTol2: 0.03341\t\n",
      "Iter 14/50\n",
      "M step: done,  E step: done //  (in 1.42 sec)\tlogL: -12162.609\tTol1: 0.01482\tTol2: 0.06105\t\n",
      "Iter 15/50\n",
      "M step: done,  E step: done //  (in 1.42 sec)\tlogL: -11537.841\tTol1: 0.05137\tTol2: 0.18438\t\n",
      "Iter 16/50\n",
      "M step: done,  E step: done //  (in 1.47 sec)\tlogL: -11597.051\tTol1: 0.00513\tTol2: 0.04468\t\n",
      "Iter 17/50\n",
      "M step: done,  E step: done //  (in 1.47 sec)\tlogL: -11298.335\tTol1: 0.02576\tTol2: 0.09229\t\n",
      "Iter 18/50\n",
      "M step: done,  E step: done //  (in 1.49 sec)\tlogL: -11140.647\tTol1: 0.01396\tTol2: 0.07775\t\n",
      "Iter 19/50\n",
      "M step: done,  E step: done //  (in 1.43 sec)\tlogL: -11007.517\tTol1: 0.01195\tTol2: 0.07560\t\n",
      "Iter 20/50\n",
      "M step: done,  E step: done //  (in 1.48 sec)\tlogL: -11012.700\tTol1: 0.00047\tTol2: 0.07484\t\n",
      "Iter 21/50\n",
      "M step: done,  E step: done //  (in 1.51 sec)\tlogL: -10847.542\tTol1: 0.01500\tTol2: 0.09349\t\n",
      "Iter 22/50\n",
      "M step: done,  E step: done //  (in 1.46 sec)\tlogL: -10750.820\tTol1: 0.00892\tTol2: 0.07826\t\n",
      "Iter 23/50\n",
      "M step: done,  E step: done //  (in 1.42 sec)\tlogL: -10788.567\tTol1: 0.00351\tTol2: 0.08196\t\n",
      "Iter 24/50\n",
      "M step: done,  E step: done //  (in 1.51 sec)\tlogL: -10594.485\tTol1: 0.01799\tTol2: 0.10979\t\n",
      "Iter 25/50\n",
      "M step: done,  E step: done //  (in 1.48 sec)\tlogL: -10578.362\tTol1: 0.00152\tTol2: 0.07483\t\n",
      "Iter 26/50\n",
      "M step: done,  E step: done //  (in 1.44 sec)\tlogL: -10440.808\tTol1: 0.01300\tTol2: 0.08789\t\n",
      "Iter 27/50\n",
      "M step: done,  E step: done //  (in 1.50 sec)\tlogL: -10991.315\tTol1: 0.05273\tTol2: 0.07039\t\n",
      "Iter 28/50\n",
      "M step: done,  E step: done //  (in 1.47 sec)\tlogL: -10609.640\tTol1: 0.03473\tTol2: 0.15685\t\n",
      "Iter 29/50\n",
      "M step: done,  E step: done //  (in 1.46 sec)\tlogL: -10522.626\tTol1: 0.00820\tTol2: 0.05578\t\n",
      "Iter 30/50\n",
      "M step: done,  E step: done //  (in 1.48 sec)\tlogL: -10435.993\tTol1: 0.00823\tTol2: 0.05775\t\n",
      "Iter 31/50\n",
      "M step: done,  E step: done //  (in 1.48 sec)\tlogL: -10216.448\tTol1: 0.02104\tTol2: 0.05258\t\n",
      "Iter 32/50\n",
      "M step: done,  E step: done //  (in 1.44 sec)\tlogL: -10117.943\tTol1: 0.00964\tTol2: 0.07911\t\n",
      "Iter 33/50\n",
      "M step: done,  E step: done //  (in 1.49 sec)\tlogL: -10034.825\tTol1: 0.00821\tTol2: 0.07582\t\n",
      "Iter 34/50\n",
      "M step: done,  E step: done //  (in 1.50 sec)\tlogL: -9978.464\tTol1: 0.00562\tTol2: 0.06460\t\n",
      "Iter 35/50\n",
      "M step: done,  E step: done //  (in 1.46 sec)\tlogL: -9905.427\tTol1: 0.00732\tTol2: 0.05696\t\n",
      "Iter 36/50\n",
      "M step: done,  E step: done //  (in 1.48 sec)\tlogL: -9784.992\tTol1: 0.01216\tTol2: 0.04902\t\n",
      "Iter 37/50\n",
      "M step: done,  E step: done //  (in 1.46 sec)\tlogL: -9997.455\tTol1: 0.02171\tTol2: 0.05137\t\n",
      "Iter 38/50\n",
      "M step: done,  E step: done //  (in 1.47 sec)\tlogL: -9830.642\tTol1: 0.01669\tTol2: 0.06984\t\n",
      "Iter 39/50\n",
      "M step: done,  E step: done //  (in 1.45 sec)\tlogL: -9681.801\tTol1: 0.01514\tTol2: 0.02711\t\n",
      "Finished training!\n",
      "Initializing new EM...\n",
      "A = Son ortonormales / No fueron entregados!\n",
      "Doing clustering...Done!\n",
      "Get init alphas in 0.002488 mins\n",
      "Lambda by group:  [1. 1. 1.]\n",
      "Pre-train networks over *z* on 3 epochs... Done!\n",
      "MV init:  (4999, 2)\n",
      "Betas:  (3, 2, 2)\n",
      "Q estimate:  (27746, 3, 2)\n",
      "Iter 1/50\n",
      "M step: done,  E step: done //  (in 4.70 sec)\tlogL: -16942.786\t\n",
      "Iter 2/50\n",
      "M step: done,  E step: done //  (in 1.42 sec)\tlogL: -15820.286\tTol1: 0.06625\tTol2: 0.17151\t\n",
      "Iter 3/50\n",
      "M step: done,  E step: done //  (in 1.43 sec)\tlogL: -15071.803\tTol1: 0.04731\tTol2: 0.15534\t\n",
      "Iter 4/50\n",
      "M step: done,  E step: done //  (in 1.45 sec)\tlogL: -14520.225\tTol1: 0.03660\tTol2: 0.12567\t\n",
      "Iter 5/50\n",
      "M step: done,  E step: done //  (in 1.48 sec)\tlogL: -14657.363\tTol1: 0.00944\tTol2: 0.10199\t\n",
      "Iter 6/50\n",
      "M step: done,  E step: done //  (in 1.43 sec)\tlogL: -13759.067\tTol1: 0.06129\tTol2: 0.17309\t\n",
      "Iter 7/50\n",
      "M step: done,  E step: done //  (in 1.47 sec)\tlogL: -13487.514\tTol1: 0.01974\tTol2: 0.07820\t\n",
      "Iter 8/50\n",
      "M step: done,  E step: done //  (in 1.43 sec)\tlogL: -13360.679\tTol1: 0.00940\tTol2: 0.09601\t\n",
      "Iter 9/50\n",
      "M step: done,  E step: done //  (in 1.46 sec)\tlogL: -12874.617\tTol1: 0.03638\tTol2: 0.12575\t\n",
      "Iter 10/50\n",
      "M step: done,  E step: done //  (in 1.44 sec)\tlogL: -12395.848\tTol1: 0.03719\tTol2: 0.12134\t\n",
      "Iter 11/50\n",
      "M step: done,  E step: done //  (in 1.48 sec)\tlogL: -12145.794\tTol1: 0.02017\tTol2: 0.06806\t\n",
      "Iter 12/50\n",
      "M step: done,  E step: done //  (in 1.46 sec)\tlogL: -11730.777\tTol1: 0.03417\tTol2: 0.08043\t\n",
      "Iter 13/50\n",
      "M step: done,  E step: done //  (in 1.45 sec)\tlogL: -11842.613\tTol1: 0.00953\tTol2: 0.08109\t\n",
      "Iter 14/50\n",
      "M step: done,  E step: done //  (in 1.47 sec)\tlogL: -11546.580\tTol1: 0.02500\tTol2: 0.11136\t\n",
      "Iter 15/50\n",
      "M step: done,  E step: done //  (in 1.45 sec)\tlogL: -11170.063\tTol1: 0.03261\tTol2: 0.09209\t\n",
      "Iter 16/50\n",
      "M step: done,  E step: done //  (in 1.52 sec)\tlogL: -11024.054\tTol1: 0.01307\tTol2: 0.09744\t\n",
      "Iter 17/50\n",
      "M step: done,  E step: done //  (in 1.47 sec)\tlogL: -10788.719\tTol1: 0.02135\tTol2: 0.09624\t\n",
      "Iter 18/50\n",
      "M step: done,  E step: done //  (in 1.49 sec)\tlogL: -10651.060\tTol1: 0.01276\tTol2: 0.09549\t\n",
      "Iter 19/50\n",
      "M step: done,  E step: done //  (in 1.46 sec)\tlogL: -10660.794\tTol1: 0.00091\tTol2: 0.09270\t\n",
      "Iter 20/50\n",
      "M step: done,  E step: done //  (in 1.47 sec)\tlogL: -10664.374\tTol1: 0.00034\tTol2: 0.07948\t\n",
      "Iter 21/50\n",
      "M step: done,  E step: done //  (in 1.49 sec)\tlogL: -10313.427\tTol1: 0.03291\tTol2: 0.08324\t\n",
      "Iter 22/50\n",
      "M step: done,  E step: done //  (in 1.50 sec)\tlogL: -10529.751\tTol1: 0.02097\tTol2: 0.07473\t\n",
      "Iter 23/50\n",
      "M step: done,  E step: done //  (in 1.46 sec)\tlogL: -10193.661\tTol1: 0.03192\tTol2: 0.08871\t\n",
      "Iter 24/50\n",
      "M step: done,  E step: done //  (in 1.51 sec)\tlogL: -10019.919\tTol1: 0.01704\tTol2: 0.06278\t\n",
      "Iter 25/50\n",
      "M step: done,  E step: done //  (in 1.52 sec)\tlogL: -9989.384\tTol1: 0.00305\tTol2: 0.06190\t\n",
      "Iter 26/50\n",
      "M step: done,  E step: done //  (in 1.48 sec)\tlogL: -10216.481\tTol1: 0.02273\tTol2: 0.04370\t\n",
      "Iter 27/50\n",
      "M step: done,  E step: done //  (in 1.51 sec)\tlogL: -10463.009\tTol1: 0.02413\tTol2: 0.07960\t\n",
      "Iter 28/50\n",
      "M step: done,  E step: done //  (in 1.47 sec)\tlogL: -10068.551\tTol1: 0.03770\tTol2: 0.08736\t\n",
      "Iter 29/50\n",
      "M step: done,  E step: done //  (in 1.43 sec)\tlogL: -9876.065\tTol1: 0.01912\tTol2: 0.03484\t\n",
      "Iter 30/50\n",
      "M step: done,  E step: done //  (in 1.50 sec)\tlogL: -9796.104\tTol1: 0.00810\tTol2: 0.06084\t\n",
      "Iter 31/50\n",
      "M step: done,  E step: done //  (in 1.48 sec)\tlogL: -9797.789\tTol1: 0.00017\tTol2: 0.04512\t\n",
      "Iter 32/50\n",
      "M step: done,  E step: done //  (in 1.47 sec)\tlogL: -9755.048\tTol1: 0.00436\tTol2: 0.01995\t\n",
      "Finished training!\n",
      "Initializing new EM...\n",
      "A = Son ortonormales / No fueron entregados!\n",
      "Doing clustering...Done!\n",
      "Get init alphas in 0.002425 mins\n",
      "Lambda by group:  [1. 1. 1.]\n",
      "Pre-train networks over *z* on 3 epochs... Done!\n",
      "MV init:  (4999, 2)\n",
      "Betas:  (3, 2, 2)\n",
      "Q estimate:  (27746, 3, 2)\n",
      "Iter 1/50\n",
      "M step: done,  E step: done //  (in 4.75 sec)\tlogL: -16959.771\t\n",
      "Iter 2/50\n",
      "M step: done,  E step: done //  (in 1.49 sec)\tlogL: -15869.132\tTol1: 0.06431\tTol2: 0.16714\t\n",
      "Iter 3/50\n",
      "M step: done,  E step: done //  (in 1.49 sec)\tlogL: -15079.172\tTol1: 0.04978\tTol2: 0.15056\t\n",
      "Iter 4/50\n",
      "M step: done,  E step: done //  (in 1.43 sec)\tlogL: -14786.028\tTol1: 0.01944\tTol2: 0.12446\t\n",
      "Iter 5/50\n",
      "M step: done,  E step: done //  (in 1.47 sec)\tlogL: -14199.367\tTol1: 0.03968\tTol2: 0.10626\t\n",
      "Iter 6/50\n",
      "M step: done,  E step: done //  (in 1.45 sec)\tlogL: -13863.986\tTol1: 0.02362\tTol2: 0.07188\t\n",
      "Iter 7/50\n",
      "M step: done,  E step: done //  (in 1.50 sec)\tlogL: -13426.002\tTol1: 0.03159\tTol2: 0.06648\t\n",
      "Iter 8/50\n",
      "M step: done,  E step: done //  (in 1.51 sec)\tlogL: -13119.789\tTol1: 0.02281\tTol2: 0.07324\t\n",
      "Iter 9/50\n",
      "M step: done,  E step: done //  (in 1.48 sec)\tlogL: -12671.198\tTol1: 0.03419\tTol2: 0.09264\t\n",
      "Iter 10/50\n",
      "M step: done,  E step: done //  (in 1.48 sec)\tlogL: -12387.666\tTol1: 0.02238\tTol2: 0.07369\t\n",
      "Iter 11/50\n",
      "M step: done,  E step: done //  (in 1.44 sec)\tlogL: -12099.743\tTol1: 0.02324\tTol2: 0.06753\t\n",
      "Iter 12/50\n",
      "M step: done,  E step: done //  (in 1.44 sec)\tlogL: -11794.091\tTol1: 0.02526\tTol2: 0.07376\t\n",
      "Iter 13/50\n",
      "M step: done,  E step: done //  (in 1.42 sec)\tlogL: -11540.792\tTol1: 0.02148\tTol2: 0.07191\t\n",
      "Iter 14/50\n",
      "M step: done,  E step: done //  (in 1.47 sec)\tlogL: -11723.123\tTol1: 0.01580\tTol2: 0.07968\t\n",
      "Iter 15/50\n",
      "M step: done,  E step: done //  (in 1.49 sec)\tlogL: -11474.982\tTol1: 0.02117\tTol2: 0.09083\t\n",
      "Iter 16/50\n",
      "M step: done,  E step: done //  (in 1.50 sec)\tlogL: -11085.374\tTol1: 0.03395\tTol2: 0.06838\t\n",
      "Iter 17/50\n",
      "M step: done,  E step: done //  (in 1.45 sec)\tlogL: -10851.640\tTol1: 0.02108\tTol2: 0.07435\t\n",
      "Iter 18/50\n",
      "M step: done,  E step: done //  (in 1.49 sec)\tlogL: -10698.041\tTol1: 0.01415\tTol2: 0.07625\t\n",
      "Iter 19/50\n",
      "M step: done,  E step: done //  (in 1.46 sec)\tlogL: -10689.237\tTol1: 0.00082\tTol2: 0.07181\t\n",
      "Iter 20/50\n",
      "M step: done,  E step: done //  (in 1.49 sec)\tlogL: -10746.017\tTol1: 0.00531\tTol2: 0.10550\t\n",
      "Iter 21/50\n",
      "M step: done,  E step: done //  (in 1.46 sec)\tlogL: -10419.060\tTol1: 0.03043\tTol2: 0.08853\t\n",
      "Iter 22/50\n",
      "M step: done,  E step: done //  (in 1.47 sec)\tlogL: -10310.901\tTol1: 0.01038\tTol2: 0.09248\t\n",
      "Iter 23/50\n",
      "M step: done,  E step: done //  (in 1.50 sec)\tlogL: -10295.157\tTol1: 0.00153\tTol2: 0.06160\t\n",
      "Iter 24/50\n",
      "M step: done,  E step: done //  (in 1.47 sec)\tlogL: -10206.701\tTol1: 0.00859\tTol2: 0.05402\t\n",
      "Iter 25/50\n",
      "M step: done,  E step: done //  (in 1.43 sec)\tlogL: -10224.437\tTol1: 0.00174\tTol2: 0.05052\t\n",
      "Iter 26/50\n",
      "M step: done,  E step: done //  (in 1.49 sec)\tlogL: -10126.259\tTol1: 0.00960\tTol2: 0.04095\t\n",
      "Iter 27/50\n",
      "M step: done,  E step: done //  (in 1.49 sec)\tlogL: -9988.161\tTol1: 0.01364\tTol2: 0.04040\t\n",
      "Iter 28/50\n",
      "M step: done,  E step: done //  (in 1.44 sec)\tlogL: -9984.746\tTol1: 0.00034\tTol2: 0.05463\t\n",
      "Iter 29/50\n",
      "M step: done,  E step: done //  (in 1.45 sec)\tlogL: -9971.745\tTol1: 0.00130\tTol2: 0.04006\t\n",
      "Iter 30/50\n",
      "M step: done,  E step: done //  (in 1.44 sec)\tlogL: -9883.032\tTol1: 0.00890\tTol2: 0.02916\t\n",
      "Finished training!\n",
      "Initializing new EM...\n",
      "A = Son ortonormales / No fueron entregados!\n",
      "Doing clustering...Done!\n",
      "Get init alphas in 0.002597 mins\n",
      "Lambda by group:  [1. 1. 1.]\n",
      "Pre-train networks over *z* on 3 epochs... Done!\n",
      "MV init:  (4999, 2)\n",
      "Betas:  (3, 2, 2)\n",
      "Q estimate:  (27746, 3, 2)\n",
      "Iter 1/50\n",
      "M step: done,  E step: done //  (in 4.88 sec)\tlogL: -16782.309\t\n",
      "Iter 2/50\n",
      "M step: done,  E step: done //  (in 1.49 sec)\tlogL: -15628.135\tTol1: 0.06877\tTol2: 0.17400\t\n",
      "Iter 3/50\n",
      "M step: done,  E step: done //  (in 1.53 sec)\tlogL: -15156.564\tTol1: 0.03017\tTol2: 0.15114\t\n",
      "Iter 4/50\n",
      "M step: done,  E step: done //  (in 1.65 sec)\tlogL: -14593.374\tTol1: 0.03716\tTol2: 0.11693\t\n",
      "Iter 5/50\n",
      "M step: done,  E step: done //  (in 1.59 sec)\tlogL: -14111.355\tTol1: 0.03303\tTol2: 0.09248\t\n",
      "Iter 6/50\n",
      "M step: done,  E step: done //  (in 1.41 sec)\tlogL: -14564.618\tTol1: 0.03212\tTol2: 0.07870\t\n",
      "Iter 7/50\n",
      "M step: done,  E step: done //  (in 1.44 sec)\tlogL: -13796.314\tTol1: 0.05275\tTol2: 0.16826\t\n",
      "Iter 8/50\n",
      "M step: done,  E step: done //  (in 1.46 sec)\tlogL: -13230.122\tTol1: 0.04104\tTol2: 0.06899\t\n",
      "Iter 9/50\n",
      "M step: done,  E step: done //  (in 1.44 sec)\tlogL: -12786.649\tTol1: 0.03352\tTol2: 0.09072\t\n",
      "Iter 10/50\n",
      "M step: done,  E step: done //  (in 1.49 sec)\tlogL: -12493.244\tTol1: 0.02295\tTol2: 0.06804\t\n",
      "Iter 11/50\n",
      "M step: done,  E step: done //  (in 1.43 sec)\tlogL: -12131.185\tTol1: 0.02898\tTol2: 0.06036\t\n",
      "Iter 12/50\n",
      "M step: done,  E step: done //  (in 1.43 sec)\tlogL: -11997.225\tTol1: 0.01104\tTol2: 0.07381\t\n",
      "Iter 13/50\n",
      "M step: done,  E step: done //  (in 1.44 sec)\tlogL: -11902.148\tTol1: 0.00792\tTol2: 0.06207\t\n",
      "Iter 14/50\n",
      "M step: done,  E step: done //  (in 1.46 sec)\tlogL: -11620.218\tTol1: 0.02369\tTol2: 0.05196\t\n",
      "Iter 15/50\n",
      "M step: done,  E step: done //  (in 1.48 sec)\tlogL: -11399.829\tTol1: 0.01897\tTol2: 0.05710\t\n",
      "Iter 16/50\n",
      "M step: done,  E step: done //  (in 1.47 sec)\tlogL: -11334.226\tTol1: 0.00575\tTol2: 0.07011\t\n",
      "Iter 17/50\n",
      "M step: done,  E step: done //  (in 1.44 sec)\tlogL: -11078.111\tTol1: 0.02260\tTol2: 0.11976\t\n",
      "Iter 18/50\n",
      "M step: done,  E step: done //  (in 1.45 sec)\tlogL: -10963.869\tTol1: 0.01031\tTol2: 0.06335\t\n",
      "Iter 19/50\n"
     ]
    },
    {
     "name": "stdout",
     "output_type": "stream",
     "text": [
      "M step: done,  E step: done //  (in 1.44 sec)\tlogL: -10779.137\tTol1: 0.01685\tTol2: 0.06725\t\n",
      "Iter 20/50\n",
      "M step: done,  E step: done //  (in 1.46 sec)\tlogL: -10693.113\tTol1: 0.00798\tTol2: 0.06611\t\n",
      "Iter 21/50\n",
      "M step: done,  E step: done //  (in 1.47 sec)\tlogL: -10587.732\tTol1: 0.00986\tTol2: 0.07506\t\n",
      "Iter 22/50\n",
      "M step: done,  E step: done //  (in 1.47 sec)\tlogL: -10435.968\tTol1: 0.01433\tTol2: 0.07271\t\n",
      "Iter 23/50\n",
      "M step: done,  E step: done //  (in 1.50 sec)\tlogL: -10348.264\tTol1: 0.00840\tTol2: 0.06499\t\n",
      "Iter 24/50\n",
      "M step: done,  E step: done //  (in 1.46 sec)\tlogL: -10353.279\tTol1: 0.00048\tTol2: 0.05751\t\n",
      "Iter 25/50\n",
      "M step: done,  E step: done //  (in 1.46 sec)\tlogL: -10189.659\tTol1: 0.01580\tTol2: 0.04719\t\n",
      "Iter 26/50\n",
      "M step: done,  E step: done //  (in 1.43 sec)\tlogL: -10176.024\tTol1: 0.00134\tTol2: 0.05341\t\n",
      "Iter 27/50\n",
      "M step: done,  E step: done //  (in 1.43 sec)\tlogL: -10165.008\tTol1: 0.00108\tTol2: 0.07414\t\n",
      "Iter 28/50\n",
      "M step: done,  E step: done //  (in 1.49 sec)\tlogL: -10041.162\tTol1: 0.01218\tTol2: 0.06392\t\n",
      "Iter 29/50\n",
      "M step: done,  E step: done //  (in 1.49 sec)\tlogL: -9984.361\tTol1: 0.00566\tTol2: 0.03638\t\n",
      "Iter 30/50\n",
      "M step: done,  E step: done //  (in 1.49 sec)\tlogL: -9927.990\tTol1: 0.00565\tTol2: 0.03259\t\n",
      "Iter 31/50\n",
      "M step: done,  E step: done //  (in 1.49 sec)\tlogL: -9865.721\tTol1: 0.00627\tTol2: 0.02831\t\n",
      "Finished training!\n",
      "Initializing new EM...\n",
      "A = Son ortonormales / No fueron entregados!\n",
      "Doing clustering...Done!\n",
      "Get init alphas in 0.002443 mins\n",
      "Lambda by group:  [1. 1. 1.]\n",
      "Pre-train networks over *z* on 3 epochs... Done!\n",
      "MV init:  (4999, 2)\n",
      "Betas:  (3, 2, 2)\n",
      "Q estimate:  (27746, 3, 2)\n",
      "Iter 1/50\n",
      "M step: done,  E step: done //  (in 5.03 sec)\tlogL: -17214.491\t\n",
      "Iter 2/50\n",
      "M step: done,  E step: done //  (in 1.55 sec)\tlogL: -15996.806\tTol1: 0.07074\tTol2: 0.16213\t\n",
      "Iter 3/50\n",
      "M step: done,  E step: done //  (in 1.52 sec)\tlogL: -15121.815\tTol1: 0.05470\tTol2: 0.15377\t\n",
      "Iter 4/50\n",
      "M step: done,  E step: done //  (in 1.54 sec)\tlogL: -14610.569\tTol1: 0.03381\tTol2: 0.12576\t\n",
      "Iter 5/50\n",
      "M step: done,  E step: done //  (in 1.47 sec)\tlogL: -14154.209\tTol1: 0.03123\tTol2: 0.08921\t\n",
      "Iter 6/50\n",
      "M step: done,  E step: done //  (in 1.56 sec)\tlogL: -13843.672\tTol1: 0.02194\tTol2: 0.06763\t\n",
      "Iter 7/50\n",
      "M step: done,  E step: done //  (in 1.52 sec)\tlogL: -13375.138\tTol1: 0.03384\tTol2: 0.08265\t\n",
      "Iter 8/50\n",
      "M step: done,  E step: done //  (in 1.49 sec)\tlogL: -13116.582\tTol1: 0.01933\tTol2: 0.05354\t\n",
      "Iter 9/50\n",
      "M step: done,  E step: done //  (in 1.47 sec)\tlogL: -12747.387\tTol1: 0.02815\tTol2: 0.05621\t\n",
      "Iter 10/50\n",
      "M step: done,  E step: done //  (in 1.49 sec)\tlogL: -12652.897\tTol1: 0.00741\tTol2: 0.05455\t\n",
      "Iter 11/50\n",
      "M step: done,  E step: done //  (in 1.44 sec)\tlogL: -12347.890\tTol1: 0.02411\tTol2: 0.10357\t\n",
      "Iter 12/50\n",
      "M step: done,  E step: done //  (in 1.49 sec)\tlogL: -11930.855\tTol1: 0.03377\tTol2: 0.07997\t\n",
      "Iter 13/50\n",
      "M step: done,  E step: done //  (in 1.48 sec)\tlogL: -11917.135\tTol1: 0.00115\tTol2: 0.06952\t\n",
      "Iter 14/50\n",
      "M step: done,  E step: done //  (in 1.51 sec)\tlogL: -11569.824\tTol1: 0.02914\tTol2: 0.06279\t\n",
      "Iter 15/50\n",
      "M step: done,  E step: done //  (in 1.49 sec)\tlogL: -11579.110\tTol1: 0.00080\tTol2: 0.07534\t\n",
      "Iter 16/50\n",
      "M step: done,  E step: done //  (in 1.48 sec)\tlogL: -11210.718\tTol1: 0.03182\tTol2: 0.18010\t\n",
      "Iter 17/50\n",
      "M step: done,  E step: done //  (in 1.49 sec)\tlogL: -11035.571\tTol1: 0.01562\tTol2: 0.08596\t\n",
      "Iter 18/50\n",
      "M step: done,  E step: done //  (in 1.45 sec)\tlogL: -10799.727\tTol1: 0.02137\tTol2: 0.08752\t\n",
      "Iter 19/50\n",
      "M step: done,  E step: done //  (in 1.46 sec)\tlogL: -10653.187\tTol1: 0.01357\tTol2: 0.10120\t\n",
      "Iter 20/50\n",
      "M step: done,  E step: done //  (in 1.45 sec)\tlogL: -10784.663\tTol1: 0.01234\tTol2: 0.10026\t\n",
      "Iter 21/50\n",
      "M step: done,  E step: done //  (in 1.45 sec)\tlogL: -10468.979\tTol1: 0.02927\tTol2: 0.10228\t\n",
      "Iter 22/50\n",
      "M step: done,  E step: done //  (in 1.47 sec)\tlogL: -10316.063\tTol1: 0.01461\tTol2: 0.09848\t\n",
      "Iter 23/50\n",
      "M step: done,  E step: done //  (in 1.42 sec)\tlogL: -10211.755\tTol1: 0.01011\tTol2: 0.10141\t\n",
      "Iter 24/50\n",
      "M step: done,  E step: done //  (in 1.46 sec)\tlogL: -10163.402\tTol1: 0.00474\tTol2: 0.09083\t\n",
      "Iter 25/50\n",
      "M step: done,  E step: done //  (in 1.47 sec)\tlogL: -10039.043\tTol1: 0.01224\tTol2: 0.07650\t\n",
      "Iter 26/50\n",
      "M step: done,  E step: done //  (in 1.48 sec)\tlogL: -10141.043\tTol1: 0.01016\tTol2: 0.06775\t\n",
      "Iter 27/50\n",
      "M step: done,  E step: done //  (in 1.47 sec)\tlogL: -10019.212\tTol1: 0.01201\tTol2: 0.04264\t\n",
      "Iter 28/50\n",
      "M step: done,  E step: done //  (in 1.50 sec)\tlogL: -10000.172\tTol1: 0.00190\tTol2: 0.07234\t\n",
      "Iter 29/50\n",
      "M step: done,  E step: done //  (in 1.50 sec)\tlogL: -10009.896\tTol1: 0.00097\tTol2: 0.03785\t\n",
      "Iter 30/50\n",
      "M step: done,  E step: done //  (in 1.51 sec)\tlogL: -9919.742\tTol1: 0.00901\tTol2: 0.02350\t\n",
      "Finished training!\n",
      "Initializing new EM...\n",
      "A = Son ortonormales / No fueron entregados!\n",
      "Doing clustering...Done!\n",
      "Get init alphas in 0.002566 mins\n",
      "Lambda by group:  [1. 1. 1.]\n",
      "Pre-train networks over *z* on 3 epochs... Done!\n",
      "MV init:  (4999, 2)\n",
      "Betas:  (3, 2, 2)\n",
      "Q estimate:  (27746, 3, 2)\n",
      "Iter 1/50\n",
      "M step: done,  E step: done //  (in 4.92 sec)\tlogL: -17041.821\t\n",
      "Iter 2/50\n",
      "M step: done,  E step: done //  (in 1.47 sec)\tlogL: -15951.592\tTol1: 0.06397\tTol2: 0.16779\t\n",
      "Iter 3/50\n",
      "M step: done,  E step: done //  (in 1.48 sec)\tlogL: -15243.087\tTol1: 0.04442\tTol2: 0.15721\t\n",
      "Iter 4/50\n",
      "M step: done,  E step: done //  (in 1.49 sec)\tlogL: -14742.140\tTol1: 0.03286\tTol2: 0.13112\t\n",
      "Iter 5/50\n",
      "M step: done,  E step: done //  (in 1.48 sec)\tlogL: -14279.423\tTol1: 0.03139\tTol2: 0.08990\t\n",
      "Iter 6/50\n",
      "M step: done,  E step: done //  (in 1.49 sec)\tlogL: -14155.584\tTol1: 0.00867\tTol2: 0.06886\t\n",
      "Iter 7/50\n",
      "M step: done,  E step: done //  (in 1.51 sec)\tlogL: -14334.216\tTol1: 0.01262\tTol2: 0.08426\t\n",
      "Iter 8/50\n",
      "M step: done,  E step: done //  (in 1.50 sec)\tlogL: -13525.392\tTol1: 0.05643\tTol2: 0.14444\t\n",
      "Iter 9/50\n",
      "M step: done,  E step: done //  (in 1.47 sec)\tlogL: -13086.034\tTol1: 0.03248\tTol2: 0.05763\t\n",
      "Iter 10/50\n",
      "M step: done,  E step: done //  (in 1.49 sec)\tlogL: -12666.789\tTol1: 0.03204\tTol2: 0.14071\t\n",
      "Iter 11/50\n",
      "M step: done,  E step: done //  (in 1.46 sec)\tlogL: -12877.454\tTol1: 0.01663\tTol2: 0.07834\t\n",
      "Iter 12/50\n",
      "M step: done,  E step: done //  (in 1.42 sec)\tlogL: -12219.822\tTol1: 0.05107\tTol2: 0.16418\t\n",
      "Iter 13/50\n",
      "M step: done,  E step: done //  (in 1.46 sec)\tlogL: -11908.860\tTol1: 0.02545\tTol2: 0.07108\t\n",
      "Iter 14/50\n",
      "M step: done,  E step: done //  (in 1.45 sec)\tlogL: -11766.220\tTol1: 0.01198\tTol2: 0.08229\t\n",
      "Iter 15/50\n",
      "M step: done,  E step: done //  (in 1.49 sec)\tlogL: -12272.515\tTol1: 0.04303\tTol2: 0.06854\t\n",
      "Iter 16/50\n",
      "M step: done,  E step: done //  (in 1.42 sec)\tlogL: -11461.337\tTol1: 0.06610\tTol2: 0.22898\t\n",
      "Iter 17/50\n",
      "M step: done,  E step: done //  (in 1.47 sec)\tlogL: -11264.063\tTol1: 0.01721\tTol2: 0.07813\t\n",
      "Iter 18/50\n",
      "M step: done,  E step: done //  (in 1.44 sec)\tlogL: -11187.702\tTol1: 0.00678\tTol2: 0.07310\t\n",
      "Iter 19/50\n",
      "M step: done,  E step: done //  (in 1.47 sec)\tlogL: -11258.412\tTol1: 0.00632\tTol2: 0.11640\t\n",
      "Iter 20/50\n",
      "M step: done,  E step: done //  (in 1.48 sec)\tlogL: -10877.529\tTol1: 0.03383\tTol2: 0.15881\t\n",
      "Iter 21/50\n",
      "M step: done,  E step: done //  (in 1.45 sec)\tlogL: -10905.471\tTol1: 0.00257\tTol2: 0.08706\t\n",
      "Iter 22/50\n",
      "M step: done,  E step: done //  (in 1.46 sec)\tlogL: -10740.445\tTol1: 0.01513\tTol2: 0.13022\t\n",
      "Iter 23/50\n",
      "M step: done,  E step: done //  (in 1.49 sec)\tlogL: -10500.394\tTol1: 0.02235\tTol2: 0.08083\t\n",
      "Iter 24/50\n",
      "M step: done,  E step: done //  (in 1.50 sec)\tlogL: -10376.994\tTol1: 0.01175\tTol2: 0.08780\t\n",
      "Iter 25/50\n",
      "M step: done,  E step: done //  (in 1.45 sec)\tlogL: -10294.244\tTol1: 0.00797\tTol2: 0.07896\t\n",
      "Iter 26/50\n",
      "M step: done,  E step: done //  (in 1.48 sec)\tlogL: -10221.257\tTol1: 0.00709\tTol2: 0.07548\t\n",
      "Iter 27/50\n",
      "M step: done,  E step: done //  (in 1.49 sec)\tlogL: -10124.979\tTol1: 0.00942\tTol2: 0.06354\t\n",
      "Iter 28/50\n",
      "M step: done,  E step: done //  (in 1.53 sec)\tlogL: -10069.336\tTol1: 0.00550\tTol2: 0.05780\t\n",
      "Iter 29/50\n",
      "M step: done,  E step: done //  (in 1.52 sec)\tlogL: -10044.608\tTol1: 0.00246\tTol2: 0.05995\t\n",
      "Iter 30/50\n",
      "M step: done,  E step: done //  (in 1.49 sec)\tlogL: -9931.607\tTol1: 0.01125\tTol2: 0.06773\t\n",
      "Iter 31/50\n",
      "M step: done,  E step: done //  (in 1.50 sec)\tlogL: -9913.601\tTol1: 0.00181\tTol2: 0.06452\t\n",
      "Iter 32/50\n",
      "M step: done,  E step: done //  (in 1.48 sec)\tlogL: -9847.205\tTol1: 0.00670\tTol2: 0.03677\t\n",
      "Iter 33/50\n",
      "M step: done,  E step: done //  (in 1.48 sec)\tlogL: -9818.703\tTol1: 0.00289\tTol2: 0.06778\t\n",
      "Iter 34/50\n",
      "M step: done,  E step: done //  (in 1.41 sec)\tlogL: -9761.222\tTol1: 0.00585\tTol2: 0.04098\t\n",
      "Iter 35/50\n",
      "M step: done,  E step: done //  (in 1.41 sec)\tlogL: -9717.846\tTol1: 0.00444\tTol2: 0.05289\t\n",
      "Iter 36/50\n",
      "M step: done,  E step: done //  (in 1.49 sec)\tlogL: -9671.387\tTol1: 0.00478\tTol2: 0.02798\t\n",
      "Finished training!\n",
      "Initializing new EM...\n",
      "A = Son ortonormales / No fueron entregados!\n",
      "Doing clustering...Done!\n",
      "Get init alphas in 0.002466 mins\n",
      "Lambda by group:  [1. 1. 1.]\n",
      "Pre-train networks over *z* on 3 epochs... Done!\n",
      "MV init:  (4999, 2)\n",
      "Betas:  (3, 2, 2)\n",
      "Q estimate:  (27746, 3, 2)\n",
      "Iter 1/50\n",
      "M step: done,  E step: done //  (in 4.70 sec)\tlogL: -16982.270\t\n",
      "Iter 2/50\n",
      "M step: done,  E step: done //  (in 1.46 sec)\tlogL: -15915.289\tTol1: 0.06283\tTol2: 0.17064\t\n",
      "Iter 3/50\n",
      "M step: done,  E step: done //  (in 1.44 sec)\tlogL: -15197.673\tTol1: 0.04509\tTol2: 0.14770\t\n",
      "Iter 4/50\n",
      "M step: done,  E step: done //  (in 1.52 sec)\tlogL: -14628.108\tTol1: 0.03748\tTol2: 0.12082\t\n",
      "Iter 5/50\n",
      "M step: done,  E step: done //  (in 1.45 sec)\tlogL: -14224.510\tTol1: 0.02759\tTol2: 0.08523\t\n",
      "Iter 6/50\n",
      "M step: done,  E step: done //  (in 1.43 sec)\tlogL: -13869.981\tTol1: 0.02492\tTol2: 0.06081\t\n",
      "Iter 7/50\n",
      "M step: done,  E step: done //  (in 1.48 sec)\tlogL: -13528.794\tTol1: 0.02460\tTol2: 0.05203\t\n",
      "Iter 8/50\n",
      "M step: done,  E step: done //  (in 1.52 sec)\tlogL: -13259.263\tTol1: 0.01992\tTol2: 0.03978\t\n",
      "Iter 9/50\n",
      "M step: done,  E step: done //  (in 1.49 sec)\tlogL: -13469.940\tTol1: 0.01589\tTol2: 0.05583\t\n",
      "Iter 10/50\n",
      "M step: done,  E step: done //  (in 1.48 sec)\tlogL: -12619.937\tTol1: 0.06310\tTol2: 0.21462\t\n",
      "Iter 11/50\n",
      "M step: done,  E step: done //  (in 1.49 sec)\tlogL: -12335.758\tTol1: 0.02252\tTol2: 0.06406\t\n",
      "Iter 12/50\n",
      "M step: done,  E step: done //  (in 1.49 sec)\tlogL: -12117.398\tTol1: 0.01770\tTol2: 0.08342\t\n",
      "Iter 13/50\n",
      "M step: done,  E step: done //  (in 1.48 sec)\tlogL: -12211.775\tTol1: 0.00779\tTol2: 0.05514\t\n",
      "Iter 14/50\n",
      "M step: done,  E step: done //  (in 1.48 sec)\tlogL: -11667.507\tTol1: 0.04457\tTol2: 0.17305\t\n",
      "Iter 15/50\n",
      "M step: done,  E step: done //  (in 1.43 sec)\tlogL: -11559.113\tTol1: 0.00929\tTol2: 0.08221\t\n",
      "Iter 16/50\n",
      "M step: done,  E step: done //  (in 1.47 sec)\tlogL: -11216.701\tTol1: 0.02962\tTol2: 0.10465\t\n",
      "Iter 17/50\n",
      "M step: done,  E step: done //  (in 1.47 sec)\tlogL: -11089.563\tTol1: 0.01133\tTol2: 0.08519\t\n",
      "Iter 18/50\n",
      "M step: done,  E step: done //  (in 1.47 sec)\tlogL: -10956.197\tTol1: 0.01203\tTol2: 0.08619\t\n",
      "Iter 19/50\n",
      "M step: done,  E step: done //  (in 1.48 sec)\tlogL: -10754.791\tTol1: 0.01838\tTol2: 0.09014\t\n",
      "Iter 20/50\n",
      "M step: done,  E step: done //  (in 1.48 sec)\tlogL: -10583.499\tTol1: 0.01593\tTol2: 0.09510\t\n",
      "Iter 21/50\n",
      "M step: done,  E step: done //  (in 1.46 sec)\tlogL: -10650.874\tTol1: 0.00637\tTol2: 0.09483\t\n",
      "Iter 22/50\n",
      "M step: done,  E step: done //  (in 1.48 sec)\tlogL: -10724.352\tTol1: 0.00690\tTol2: 0.08379\t\n",
      "Iter 23/50\n",
      "M step: done,  E step: done //  (in 1.53 sec)\tlogL: -10394.424\tTol1: 0.03076\tTol2: 0.09679\t\n",
      "Iter 24/50\n",
      "M step: done,  E step: done //  (in 1.46 sec)\tlogL: -10250.651\tTol1: 0.01383\tTol2: 0.08415\t\n",
      "Iter 25/50\n",
      "M step: done,  E step: done //  (in 1.46 sec)\tlogL: -10152.462\tTol1: 0.00958\tTol2: 0.07593\t\n",
      "Iter 26/50\n",
      "M step: done,  E step: done //  (in 1.54 sec)\tlogL: -10145.643\tTol1: 0.00067\tTol2: 0.07059\t\n",
      "Iter 27/50\n",
      "M step: done,  E step: done //  (in 1.55 sec)\tlogL: -9995.757\tTol1: 0.01477\tTol2: 0.07527\t\n",
      "Iter 28/50\n",
      "M step: done,  E step: done //  (in 1.56 sec)\tlogL: -10050.072\tTol1: 0.00543\tTol2: 0.05132\t\n",
      "Iter 29/50\n",
      "M step: done,  E step: done //  (in 1.48 sec)\tlogL: -9962.515\tTol1: 0.00871\tTol2: 0.07839\t\n",
      "Iter 30/50\n",
      "M step: done,  E step: done //  (in 1.51 sec)\tlogL: -10114.969\tTol1: 0.01530\tTol2: 0.05985\t\n",
      "Iter 31/50\n",
      "M step: done,  E step: done //  (in 1.67 sec)\tlogL: -9981.046\tTol1: 0.01324\tTol2: 0.06009\t\n",
      "Iter 32/50\n",
      "M step: done,  E step: done //  (in 1.68 sec)\tlogL: -9852.497\tTol1: 0.01288\tTol2: 0.03206\t\n",
      "Iter 33/50\n",
      "M step: done,  E step: done //  (in 1.59 sec)\tlogL: -9780.674\tTol1: 0.00729\tTol2: 0.02726\t\n",
      "Finished training!\n",
      "Initializing new EM...\n",
      "A = Son ortonormales / No fueron entregados!\n",
      "Doing clustering...Done!\n",
      "Get init alphas in 0.002403 mins\n",
      "Lambda by group:  [1. 1. 1.]\n",
      "Pre-train networks over *z* on 3 epochs... Done!\n",
      "MV init:  (4999, 2)\n",
      "Betas:  (3, 2, 2)\n",
      "Q estimate:  (27746, 3, 2)\n",
      "Iter 1/50\n",
      "M step: done,  E step: done //  (in 4.61 sec)\tlogL: -16852.055\t\n",
      "Iter 2/50\n",
      "M step: done,  E step: done //  (in 1.47 sec)\tlogL: -15760.136\tTol1: 0.06479\tTol2: 0.17695\t\n",
      "Iter 3/50\n",
      "M step: done,  E step: done //  (in 1.49 sec)\tlogL: -15071.968\tTol1: 0.04367\tTol2: 0.15087\t\n",
      "Iter 4/50\n",
      "M step: done,  E step: done //  (in 1.47 sec)\tlogL: -14567.818\tTol1: 0.03345\tTol2: 0.11253\t\n",
      "Iter 5/50\n",
      "M step: done,  E step: done //  (in 1.47 sec)\tlogL: -14473.929\tTol1: 0.00644\tTol2: 0.08931\t\n",
      "Iter 6/50\n",
      "M step: done,  E step: done //  (in 1.49 sec)\tlogL: -13916.440\tTol1: 0.03852\tTol2: 0.14214\t\n",
      "Iter 7/50\n",
      "M step: done,  E step: done //  (in 1.43 sec)\tlogL: -13504.525\tTol1: 0.02960\tTol2: 0.11053\t\n",
      "Iter 8/50\n",
      "M step: done,  E step: done //  (in 1.47 sec)\tlogL: -13431.169\tTol1: 0.00543\tTol2: 0.04091\t\n",
      "Iter 9/50\n",
      "M step: done,  E step: done //  (in 1.48 sec)\tlogL: -13201.271\tTol1: 0.01712\tTol2: 0.13040\t\n",
      "Iter 10/50\n",
      "M step: done,  E step: done //  (in 1.43 sec)\tlogL: -12755.285\tTol1: 0.03378\tTol2: 0.18602\t\n",
      "Iter 11/50\n",
      "M step: done,  E step: done //  (in 1.50 sec)\tlogL: -12382.172\tTol1: 0.02925\tTol2: 0.09101\t\n",
      "Iter 12/50\n",
      "M step: done,  E step: done //  (in 1.49 sec)\tlogL: -12024.653\tTol1: 0.02887\tTol2: 0.08294\t\n",
      "Iter 13/50\n",
      "M step: done,  E step: done //  (in 1.48 sec)\tlogL: -12040.125\tTol1: 0.00129\tTol2: 0.04453\t\n",
      "Iter 14/50\n",
      "M step: done,  E step: done //  (in 1.49 sec)\tlogL: -11740.156\tTol1: 0.02491\tTol2: 0.09696\t\n",
      "Iter 15/50\n",
      "M step: done,  E step: done //  (in 1.45 sec)\tlogL: -11515.469\tTol1: 0.01914\tTol2: 0.11826\t\n",
      "Iter 16/50\n",
      "M step: done,  E step: done //  (in 1.44 sec)\tlogL: -11426.660\tTol1: 0.00771\tTol2: 0.03898\t\n",
      "Iter 17/50\n",
      "M step: done,  E step: done //  (in 1.42 sec)\tlogL: -11364.120\tTol1: 0.00547\tTol2: 0.04819\t\n",
      "Iter 18/50\n",
      "M step: done,  E step: done //  (in 1.45 sec)\tlogL: -11514.440\tTol1: 0.01323\tTol2: 0.05871\t\n",
      "Iter 19/50\n",
      "M step: done,  E step: done //  (in 1.50 sec)\tlogL: -11554.455\tTol1: 0.00348\tTol2: 0.15530\t\n",
      "Iter 20/50\n",
      "M step: done,  E step: done //  (in 1.45 sec)\tlogL: -11133.688\tTol1: 0.03642\tTol2: 0.17342\t\n",
      "Iter 21/50\n",
      "M step: done,  E step: done //  (in 1.47 sec)\tlogL: -10986.527\tTol1: 0.01322\tTol2: 0.06929\t\n",
      "Iter 22/50\n",
      "M step: done,  E step: done //  (in 1.49 sec)\tlogL: -10876.460\tTol1: 0.01002\tTol2: 0.05887\t\n",
      "Iter 23/50\n",
      "M step: done,  E step: done //  (in 1.58 sec)\tlogL: -10890.742\tTol1: 0.00131\tTol2: 0.06354\t\n",
      "Iter 24/50\n",
      "M step: done,  E step: done //  (in 1.62 sec)\tlogL: -10740.393\tTol1: 0.01381\tTol2: 0.06887\t\n",
      "Iter 25/50\n",
      "M step: done,  E step: done //  (in 1.54 sec)\tlogL: -10647.834\tTol1: 0.00862\tTol2: 0.06265\t\n",
      "Iter 26/50\n",
      "M step: done,  E step: done //  (in 1.59 sec)\tlogL: -10583.205\tTol1: 0.00607\tTol2: 0.06325\t\n",
      "Iter 27/50\n",
      "M step: done,  E step: done //  (in 1.54 sec)\tlogL: -10543.321\tTol1: 0.00377\tTol2: 0.06001\t\n",
      "Iter 28/50\n",
      "M step: done,  E step: done //  (in 1.46 sec)\tlogL: -10694.453\tTol1: 0.01433\tTol2: 0.05994\t\n",
      "Iter 29/50\n",
      "M step: done,  E step: done //  (in 1.41 sec)\tlogL: -10498.005\tTol1: 0.01837\tTol2: 0.11749\t\n",
      "Iter 30/50\n",
      "M step: done,  E step: done //  (in 1.51 sec)\tlogL: -10448.671\tTol1: 0.00470\tTol2: 0.05801\t\n",
      "Iter 31/50\n",
      "M step: done,  E step: done //  (in 1.46 sec)\tlogL: -10342.780\tTol1: 0.01013\tTol2: 0.08405\t\n",
      "Iter 32/50\n",
      "M step: done,  E step: done //  (in 1.46 sec)\tlogL: -10327.322\tTol1: 0.00149\tTol2: 0.04647\t\n",
      "Iter 33/50\n",
      "M step: done,  E step: done //  (in 1.44 sec)\tlogL: -10314.603\tTol1: 0.00123\tTol2: 0.03628\t\n",
      "Iter 34/50\n",
      "M step: done,  E step: done //  (in 1.54 sec)\tlogL: -10277.953\tTol1: 0.00355\tTol2: 0.03221\t\n",
      "Iter 35/50\n",
      "M step: done,  E step: done //  (in 1.52 sec)\tlogL: -10237.478\tTol1: 0.00394\tTol2: 0.02638\t\n",
      "Finished training!\n",
      "Initializing new EM...\n",
      "A = Son ortonormales / No fueron entregados!\n",
      "Doing clustering...Done!\n",
      "Get init alphas in 0.002604 mins\n",
      "Lambda by group:  [1. 1. 1.]\n"
     ]
    },
    {
     "name": "stdout",
     "output_type": "stream",
     "text": [
      "Pre-train networks over *z* on 3 epochs... Done!\n",
      "MV init:  (4999, 2)\n",
      "Betas:  (3, 2, 2)\n",
      "Q estimate:  (27746, 3, 2)\n",
      "Iter 1/50\n",
      "M step: done,  E step: done //  (in 4.73 sec)\tlogL: -16927.723\t\n",
      "Iter 2/50\n",
      "M step: done,  E step: done //  (in 1.45 sec)\tlogL: -16001.506\tTol1: 0.05472\tTol2: 0.17205\t\n",
      "Iter 3/50\n",
      "M step: done,  E step: done //  (in 1.48 sec)\tlogL: -15166.463\tTol1: 0.05219\tTol2: 0.14385\t\n",
      "Iter 4/50\n",
      "M step: done,  E step: done //  (in 1.49 sec)\tlogL: -14676.025\tTol1: 0.03234\tTol2: 0.12001\t\n",
      "Iter 5/50\n",
      "M step: done,  E step: done //  (in 1.43 sec)\tlogL: -14213.816\tTol1: 0.03149\tTol2: 0.09396\t\n",
      "Iter 6/50\n",
      "M step: done,  E step: done //  (in 1.52 sec)\tlogL: -13805.805\tTol1: 0.02871\tTol2: 0.07229\t\n",
      "Iter 7/50\n",
      "M step: done,  E step: done //  (in 1.53 sec)\tlogL: -13558.790\tTol1: 0.01789\tTol2: 0.07142\t\n",
      "Iter 8/50\n",
      "M step: done,  E step: done //  (in 1.45 sec)\tlogL: -13104.672\tTol1: 0.03349\tTol2: 0.07893\t\n",
      "Iter 9/50\n",
      "M step: done,  E step: done //  (in 1.48 sec)\tlogL: -12865.575\tTol1: 0.01825\tTol2: 0.06844\t\n",
      "Iter 10/50\n",
      "M step: done,  E step: done //  (in 1.49 sec)\tlogL: -12408.615\tTol1: 0.03552\tTol2: 0.10992\t\n",
      "Iter 11/50\n",
      "M step: done,  E step: done //  (in 1.44 sec)\tlogL: -12305.513\tTol1: 0.00831\tTol2: 0.08066\t\n",
      "Iter 12/50\n",
      "M step: done,  E step: done //  (in 1.47 sec)\tlogL: -12792.711\tTol1: 0.03959\tTol2: 0.08892\t\n",
      "Iter 13/50\n",
      "M step: done,  E step: done //  (in 1.50 sec)\tlogL: -12319.287\tTol1: 0.03701\tTol2: 0.26212\t\n",
      "Iter 14/50\n",
      "M step: done,  E step: done //  (in 1.56 sec)\tlogL: -12009.473\tTol1: 0.02515\tTol2: 0.22759\t\n",
      "Iter 15/50\n",
      "M step: done,  E step: done //  (in 1.49 sec)\tlogL: -11428.332\tTol1: 0.04839\tTol2: 0.13569\t\n",
      "Iter 16/50\n",
      "M step: done,  E step: done //  (in 1.48 sec)\tlogL: -11313.091\tTol1: 0.01008\tTol2: 0.08895\t\n",
      "Iter 17/50\n",
      "M step: done,  E step: done //  (in 1.46 sec)\tlogL: -11121.592\tTol1: 0.01693\tTol2: 0.07148\t\n",
      "Iter 18/50\n",
      "M step: done,  E step: done //  (in 1.47 sec)\tlogL: -11098.824\tTol1: 0.00205\tTol2: 0.09266\t\n",
      "Iter 19/50\n",
      "M step: done,  E step: done //  (in 1.49 sec)\tlogL: -10871.387\tTol1: 0.02049\tTol2: 0.10153\t\n",
      "Iter 20/50\n",
      "M step: done,  E step: done //  (in 1.48 sec)\tlogL: -10723.699\tTol1: 0.01359\tTol2: 0.09477\t\n",
      "Iter 21/50\n",
      "M step: done,  E step: done //  (in 1.50 sec)\tlogL: -10838.904\tTol1: 0.01074\tTol2: 0.08440\t\n",
      "Iter 22/50\n",
      "M step: done,  E step: done //  (in 1.50 sec)\tlogL: -10556.507\tTol1: 0.02605\tTol2: 0.10147\t\n",
      "Iter 23/50\n",
      "M step: done,  E step: done //  (in 1.47 sec)\tlogL: -10392.258\tTol1: 0.01556\tTol2: 0.09237\t\n",
      "Iter 24/50\n",
      "M step: done,  E step: done //  (in 1.52 sec)\tlogL: -10517.107\tTol1: 0.01201\tTol2: 0.08093\t\n",
      "Iter 25/50\n",
      "M step: done,  E step: done //  (in 1.51 sec)\tlogL: -10774.241\tTol1: 0.02445\tTol2: 0.09667\t\n",
      "Iter 26/50\n",
      "M step: done,  E step: done //  (in 1.50 sec)\tlogL: -10490.914\tTol1: 0.02630\tTol2: 0.10767\t\n",
      "Iter 27/50\n",
      "M step: done,  E step: done //  (in 1.56 sec)\tlogL: -10197.191\tTol1: 0.02800\tTol2: 0.04644\t\n",
      "Iter 28/50\n",
      "M step: done,  E step: done //  (in 1.48 sec)\tlogL: -10157.673\tTol1: 0.00388\tTol2: 0.07231\t\n",
      "Iter 29/50\n",
      "M step: done,  E step: done //  (in 1.52 sec)\tlogL: -10083.275\tTol1: 0.00732\tTol2: 0.04220\t\n",
      "Iter 30/50\n",
      "M step: done,  E step: done //  (in 1.47 sec)\tlogL: -10036.314\tTol1: 0.00466\tTol2: 0.03971\t\n",
      "Iter 31/50\n",
      "M step: done,  E step: done //  (in 1.42 sec)\tlogL: -9940.072\tTol1: 0.00959\tTol2: 0.09695\t\n",
      "Iter 32/50\n",
      "M step: done,  E step: done //  (in 1.49 sec)\tlogL: -9830.239\tTol1: 0.01105\tTol2: 0.03760\t\n",
      "Iter 33/50\n",
      "M step: done,  E step: done //  (in 1.46 sec)\tlogL: -9749.832\tTol1: 0.00818\tTol2: 0.03191\t\n",
      "Iter 34/50\n",
      "M step: done,  E step: done //  (in 1.47 sec)\tlogL: -9711.874\tTol1: 0.00389\tTol2: 0.03654\t\n",
      "Iter 35/50\n",
      "M step: done,  E step: done //  (in 1.51 sec)\tlogL: -9732.529\tTol1: 0.00213\tTol2: 0.03190\t\n",
      "Iter 36/50\n",
      "M step: done,  E step: done //  (in 1.69 sec)\tlogL: -9684.131\tTol1: 0.00497\tTol2: 0.03356\t\n",
      "Iter 37/50\n",
      "M step: done,  E step: done //  (in 1.50 sec)\tlogL: -9698.612\tTol1: 0.00150\tTol2: 0.02872\t\n",
      "Finished training!\n",
      "Multiples runs over Ours Individual, Epochs to converge=  33.0\n"
     ]
    }
   ],
   "source": [
    "gMixture_Ind1 = GroupMixtureInd(max_L,Kl=Kl,M=M_seted,epochs=1,optimizer=OPT,dtype_op=DTYPE_OP) \n",
    "gMixture_Ind1.define_model(\"default rnn text\", embed=embedding_matrix)\n",
    "\n",
    "#gMixture_Ind.define_model_group(\"mlp\", T, M_seted, 1, BatchN=True, embed=True, embed_M=A) #con o sin BN\n",
    "gMixture_Ind1.define_model_group(\"perceptron\", T, embed=True, embed_M=A, BatchN=True,bias=False)\n",
    "\n",
    "logL_hists,i_r = gMixture_Ind1.multiples_run(10,X_train,Y_ann_train, T_idx, A=[], batch_size=BATCH_SIZE,\n",
    "                                    pre_init_z=3,pre_init_g=0,max_iter=EPOCHS_BASE,tolerance=TOL)"
   ]
  },
  {
   "cell_type": "code",
   "execution_count": 86,
   "metadata": {},
   "outputs": [],
   "source": [
    "Z_train_p = gMixture_Ind1.get_predictions_z(X_train)\n",
    "Z_train_pred = Z_train_p.argmax(axis=-1)\n",
    "Z_test_p = gMixture_Ind1.get_predictions_z(X_test)\n",
    "Z_test_pred = Z_test_p.argmax(axis=-1)\n",
    "prob_Gt = gMixture_Ind1.get_predictions_g(T_idx_unique) "
   ]
  },
  {
   "cell_type": "code",
   "execution_count": 89,
   "metadata": {
    "scrolled": true
   },
   "outputs": [
    {
     "name": "stdout",
     "output_type": "stream",
     "text": [
      "Needed params (units,deep,drop,BatchN?)\n",
      "Initializing new EM...\n",
      "Doing clustering...Done!\n",
      "Get init alphas in 0.000290 mins\n",
      "Lambda by group:  [1. 1. 1.]\n",
      "Pre-train networks over *z* on 3 epochs..."
     ]
    },
    {
     "ename": "KeyboardInterrupt",
     "evalue": "",
     "output_type": "error",
     "traceback": [
      "\u001b[0;31m---------------------------------------------------------------------------\u001b[0m",
      "\u001b[0;31mKeyboardInterrupt\u001b[0m                         Traceback (most recent call last)",
      "\u001b[0;32m<ipython-input-89-44690f213ec3>\u001b[0m in \u001b[0;36m<module>\u001b[0;34m()\u001b[0m\n\u001b[1;32m      5\u001b[0m \u001b[0;34m\u001b[0m\u001b[0m\n\u001b[1;32m      6\u001b[0m logL_hists,i_r = gMixture_Ind3.multiples_run(10,X_train,Y_ann_train, T_idx, A=A_rep, batch_size=BATCH_SIZE,\n\u001b[0;32m----> 7\u001b[0;31m                                    pre_init_z=3,pre_init_g=0,max_iter=EPOCHS_BASE,tolerance=TOL) \n\u001b[0m",
      "\u001b[0;32m~/Desktop/Dataset_Tesis/MixtureofGroups/code/MixtureofGroups.py\u001b[0m in \u001b[0;36mmultiples_run\u001b[0;34m(self, Runs, X, Y_ann, T_idx, A, pre_init_z, pre_init_g, batch_size, max_iter, tolerance)\u001b[0m\n\u001b[1;32m    873\u001b[0m                 \u001b[0mself\u001b[0m\u001b[0;34m.\u001b[0m\u001b[0mgroup_model\u001b[0m\u001b[0;34m.\u001b[0m\u001b[0mcompile\u001b[0m\u001b[0;34m(\u001b[0m\u001b[0mloss\u001b[0m\u001b[0;34m=\u001b[0m\u001b[0;34m'categorical_crossentropy'\u001b[0m\u001b[0;34m,\u001b[0m\u001b[0moptimizer\u001b[0m\u001b[0;34m=\u001b[0m\u001b[0mself\u001b[0m\u001b[0;34m.\u001b[0m\u001b[0moptimizer\u001b[0m\u001b[0;34m)\u001b[0m\u001b[0;34m\u001b[0m\u001b[0m\n\u001b[1;32m    874\u001b[0m \u001b[0;34m\u001b[0m\u001b[0m\n\u001b[0;32m--> 875\u001b[0;31m             \u001b[0mlogL_hist\u001b[0m \u001b[0;34m=\u001b[0m \u001b[0mself\u001b[0m\u001b[0;34m.\u001b[0m\u001b[0mtrain\u001b[0m\u001b[0;34m(\u001b[0m\u001b[0mX\u001b[0m\u001b[0;34m,\u001b[0m\u001b[0mY_ann\u001b[0m\u001b[0;34m,\u001b[0m\u001b[0mT_idx\u001b[0m\u001b[0;34m,\u001b[0m \u001b[0mA_train\u001b[0m\u001b[0;34m=\u001b[0m\u001b[0mA\u001b[0m\u001b[0;34m,\u001b[0m \u001b[0mpre_init_z\u001b[0m\u001b[0;34m=\u001b[0m\u001b[0mpre_init_z\u001b[0m\u001b[0;34m,\u001b[0m\u001b[0mpre_init_g\u001b[0m\u001b[0;34m=\u001b[0m\u001b[0mpre_init_g\u001b[0m\u001b[0;34m,\u001b[0m \u001b[0mbatch_size\u001b[0m\u001b[0;34m=\u001b[0m\u001b[0mbatch_size\u001b[0m\u001b[0;34m,\u001b[0m\u001b[0mmax_iter\u001b[0m\u001b[0;34m=\u001b[0m\u001b[0mmax_iter\u001b[0m\u001b[0;34m,\u001b[0m\u001b[0mtolerance\u001b[0m\u001b[0;34m=\u001b[0m\u001b[0mtolerance\u001b[0m\u001b[0;34m)\u001b[0m \u001b[0;31m#here the models get resets\u001b[0m\u001b[0;34m\u001b[0m\u001b[0m\n\u001b[0m\u001b[1;32m    876\u001b[0m \u001b[0;34m\u001b[0m\u001b[0m\n\u001b[1;32m    877\u001b[0m             \u001b[0mfound_betas\u001b[0m\u001b[0;34m.\u001b[0m\u001b[0mappend\u001b[0m\u001b[0;34m(\u001b[0m\u001b[0mself\u001b[0m\u001b[0;34m.\u001b[0m\u001b[0mbetas\u001b[0m\u001b[0;34m.\u001b[0m\u001b[0mcopy\u001b[0m\u001b[0;34m(\u001b[0m\u001b[0;34m)\u001b[0m\u001b[0;34m)\u001b[0m\u001b[0;34m\u001b[0m\u001b[0m\n",
      "\u001b[0;32m~/Desktop/Dataset_Tesis/MixtureofGroups/code/MixtureofGroups.py\u001b[0m in \u001b[0;36mtrain\u001b[0;34m(self, X_train, Y_ann_train, T_idx, A_train, pre_init_z, pre_init_g, batch_size, max_iter, relative, tolerance)\u001b[0m\n\u001b[1;32m    787\u001b[0m         \u001b[0mself\u001b[0m\u001b[0;34m.\u001b[0m\u001b[0mT\u001b[0m \u001b[0;34m=\u001b[0m \u001b[0mmax\u001b[0m\u001b[0;34m(\u001b[0m\u001b[0mlist\u001b[0m\u001b[0;34m(\u001b[0m\u001b[0mmap\u001b[0m\u001b[0;34m(\u001b[0m\u001b[0mmax\u001b[0m\u001b[0;34m,\u001b[0m\u001b[0mT_idx\u001b[0m\u001b[0;34m)\u001b[0m\u001b[0;34m)\u001b[0m\u001b[0;34m)\u001b[0m\u001b[0;34m+\u001b[0m\u001b[0;36m1\u001b[0m \u001b[0;31m#not important...--> is important for clustering\u001b[0m\u001b[0;34m\u001b[0m\u001b[0m\n\u001b[1;32m    788\u001b[0m         \u001b[0mprint\u001b[0m\u001b[0;34m(\u001b[0m\u001b[0;34m\"Initializing new EM...\"\u001b[0m\u001b[0;34m)\u001b[0m\u001b[0;34m\u001b[0m\u001b[0m\n\u001b[0;32m--> 789\u001b[0;31m         \u001b[0mself\u001b[0m\u001b[0;34m.\u001b[0m\u001b[0minit_E\u001b[0m\u001b[0;34m(\u001b[0m\u001b[0mX_train\u001b[0m\u001b[0;34m,\u001b[0m\u001b[0mY_ann_train\u001b[0m\u001b[0;34m,\u001b[0m\u001b[0mT_idx\u001b[0m\u001b[0;34m,\u001b[0m \u001b[0mA\u001b[0m\u001b[0;34m=\u001b[0m\u001b[0mA_train\u001b[0m\u001b[0;34m)\u001b[0m\u001b[0;34m\u001b[0m\u001b[0m\n\u001b[0m\u001b[1;32m    790\u001b[0m \u001b[0;34m\u001b[0m\u001b[0m\n\u001b[1;32m    791\u001b[0m         \u001b[0;32mif\u001b[0m \u001b[0mlen\u001b[0m\u001b[0;34m(\u001b[0m\u001b[0mA_train\u001b[0m\u001b[0;34m)\u001b[0m \u001b[0;34m==\u001b[0m \u001b[0;36m0\u001b[0m\u001b[0;34m:\u001b[0m \u001b[0;31m#use T instead\u001b[0m\u001b[0;34m\u001b[0m\u001b[0m\n",
      "\u001b[0;32m~/Desktop/Dataset_Tesis/MixtureofGroups/code/MixtureofGroups.py\u001b[0m in \u001b[0;36minit_E\u001b[0;34m(self, X, Y_ann, T_idx, A)\u001b[0m\n\u001b[1;32m    708\u001b[0m         \u001b[0;32mif\u001b[0m \u001b[0mself\u001b[0m\u001b[0;34m.\u001b[0m\u001b[0mpre_init_z\u001b[0m \u001b[0;34m!=\u001b[0m \u001b[0;36m0\u001b[0m\u001b[0;34m:\u001b[0m\u001b[0;34m\u001b[0m\u001b[0m\n\u001b[1;32m    709\u001b[0m             \u001b[0mprint\u001b[0m\u001b[0;34m(\u001b[0m\u001b[0;34m\"Pre-train networks over *z* on %d epochs...\"\u001b[0m\u001b[0;34m%\u001b[0m\u001b[0;34m(\u001b[0m\u001b[0mself\u001b[0m\u001b[0;34m.\u001b[0m\u001b[0mpre_init_z\u001b[0m\u001b[0;34m)\u001b[0m\u001b[0;34m,\u001b[0m\u001b[0mend\u001b[0m\u001b[0;34m=\u001b[0m\u001b[0;34m''\u001b[0m\u001b[0;34m,\u001b[0m\u001b[0mflush\u001b[0m\u001b[0;34m=\u001b[0m\u001b[0;32mTrue\u001b[0m\u001b[0;34m)\u001b[0m\u001b[0;34m\u001b[0m\u001b[0m\n\u001b[0;32m--> 710\u001b[0;31m             \u001b[0mself\u001b[0m\u001b[0;34m.\u001b[0m\u001b[0mbase_model\u001b[0m\u001b[0;34m.\u001b[0m\u001b[0mfit\u001b[0m\u001b[0;34m(\u001b[0m\u001b[0mX\u001b[0m\u001b[0;34m,\u001b[0m\u001b[0mmv_probs_j\u001b[0m\u001b[0;34m,\u001b[0m\u001b[0mbatch_size\u001b[0m\u001b[0;34m=\u001b[0m\u001b[0mself\u001b[0m\u001b[0;34m.\u001b[0m\u001b[0mbatch_size\u001b[0m\u001b[0;34m,\u001b[0m\u001b[0mepochs\u001b[0m\u001b[0;34m=\u001b[0m\u001b[0mself\u001b[0m\u001b[0;34m.\u001b[0m\u001b[0mpre_init_z\u001b[0m\u001b[0;34m,\u001b[0m\u001b[0mverbose\u001b[0m\u001b[0;34m=\u001b[0m\u001b[0;36m0\u001b[0m\u001b[0;34m)\u001b[0m\u001b[0;34m\u001b[0m\u001b[0m\n\u001b[0m\u001b[1;32m    711\u001b[0m             \u001b[0mself\u001b[0m\u001b[0;34m.\u001b[0m\u001b[0mbase_model\u001b[0m\u001b[0;34m.\u001b[0m\u001b[0mcompile\u001b[0m\u001b[0;34m(\u001b[0m\u001b[0mloss\u001b[0m\u001b[0;34m=\u001b[0m\u001b[0;34m'categorical_crossentropy'\u001b[0m\u001b[0;34m,\u001b[0m\u001b[0moptimizer\u001b[0m\u001b[0;34m=\u001b[0m\u001b[0mself\u001b[0m\u001b[0;34m.\u001b[0m\u001b[0moptimizer\u001b[0m\u001b[0;34m)\u001b[0m \u001b[0;31m#reset optimizer but hold weights--necessary for stability\u001b[0m\u001b[0;34m\u001b[0m\u001b[0m\n\u001b[1;32m    712\u001b[0m             \u001b[0mprint\u001b[0m\u001b[0;34m(\u001b[0m\u001b[0;34m\" Done!\"\u001b[0m\u001b[0;34m)\u001b[0m\u001b[0;34m\u001b[0m\u001b[0m\n",
      "\u001b[0;32m~/.local/lib/python3.5/site-packages/keras/models.py\u001b[0m in \u001b[0;36mfit\u001b[0;34m(self, x, y, batch_size, epochs, verbose, callbacks, validation_split, validation_data, shuffle, class_weight, sample_weight, initial_epoch, steps_per_epoch, validation_steps, **kwargs)\u001b[0m\n\u001b[1;32m   1000\u001b[0m                               \u001b[0minitial_epoch\u001b[0m\u001b[0;34m=\u001b[0m\u001b[0minitial_epoch\u001b[0m\u001b[0;34m,\u001b[0m\u001b[0;34m\u001b[0m\u001b[0m\n\u001b[1;32m   1001\u001b[0m                               \u001b[0msteps_per_epoch\u001b[0m\u001b[0;34m=\u001b[0m\u001b[0msteps_per_epoch\u001b[0m\u001b[0;34m,\u001b[0m\u001b[0;34m\u001b[0m\u001b[0m\n\u001b[0;32m-> 1002\u001b[0;31m                               validation_steps=validation_steps)\n\u001b[0m\u001b[1;32m   1003\u001b[0m \u001b[0;34m\u001b[0m\u001b[0m\n\u001b[1;32m   1004\u001b[0m     def evaluate(self, x=None, y=None,\n",
      "\u001b[0;32m~/.local/lib/python3.5/site-packages/keras/engine/training.py\u001b[0m in \u001b[0;36mfit\u001b[0;34m(self, x, y, batch_size, epochs, verbose, callbacks, validation_split, validation_data, shuffle, class_weight, sample_weight, initial_epoch, steps_per_epoch, validation_steps, **kwargs)\u001b[0m\n\u001b[1;32m   1703\u001b[0m                               \u001b[0minitial_epoch\u001b[0m\u001b[0;34m=\u001b[0m\u001b[0minitial_epoch\u001b[0m\u001b[0;34m,\u001b[0m\u001b[0;34m\u001b[0m\u001b[0m\n\u001b[1;32m   1704\u001b[0m                               \u001b[0msteps_per_epoch\u001b[0m\u001b[0;34m=\u001b[0m\u001b[0msteps_per_epoch\u001b[0m\u001b[0;34m,\u001b[0m\u001b[0;34m\u001b[0m\u001b[0m\n\u001b[0;32m-> 1705\u001b[0;31m                               validation_steps=validation_steps)\n\u001b[0m\u001b[1;32m   1706\u001b[0m \u001b[0;34m\u001b[0m\u001b[0m\n\u001b[1;32m   1707\u001b[0m     def evaluate(self, x=None, y=None,\n",
      "\u001b[0;32m~/.local/lib/python3.5/site-packages/keras/engine/training.py\u001b[0m in \u001b[0;36m_fit_loop\u001b[0;34m(self, f, ins, out_labels, batch_size, epochs, verbose, callbacks, val_f, val_ins, shuffle, callback_metrics, initial_epoch, steps_per_epoch, validation_steps)\u001b[0m\n\u001b[1;32m   1234\u001b[0m                         \u001b[0mins_batch\u001b[0m\u001b[0;34m[\u001b[0m\u001b[0mi\u001b[0m\u001b[0;34m]\u001b[0m \u001b[0;34m=\u001b[0m \u001b[0mins_batch\u001b[0m\u001b[0;34m[\u001b[0m\u001b[0mi\u001b[0m\u001b[0;34m]\u001b[0m\u001b[0;34m.\u001b[0m\u001b[0mtoarray\u001b[0m\u001b[0;34m(\u001b[0m\u001b[0;34m)\u001b[0m\u001b[0;34m\u001b[0m\u001b[0m\n\u001b[1;32m   1235\u001b[0m \u001b[0;34m\u001b[0m\u001b[0m\n\u001b[0;32m-> 1236\u001b[0;31m                     \u001b[0mouts\u001b[0m \u001b[0;34m=\u001b[0m \u001b[0mf\u001b[0m\u001b[0;34m(\u001b[0m\u001b[0mins_batch\u001b[0m\u001b[0;34m)\u001b[0m\u001b[0;34m\u001b[0m\u001b[0m\n\u001b[0m\u001b[1;32m   1237\u001b[0m                     \u001b[0;32mif\u001b[0m \u001b[0;32mnot\u001b[0m \u001b[0misinstance\u001b[0m\u001b[0;34m(\u001b[0m\u001b[0mouts\u001b[0m\u001b[0;34m,\u001b[0m \u001b[0mlist\u001b[0m\u001b[0;34m)\u001b[0m\u001b[0;34m:\u001b[0m\u001b[0;34m\u001b[0m\u001b[0m\n\u001b[1;32m   1238\u001b[0m                         \u001b[0mouts\u001b[0m \u001b[0;34m=\u001b[0m \u001b[0;34m[\u001b[0m\u001b[0mouts\u001b[0m\u001b[0;34m]\u001b[0m\u001b[0;34m\u001b[0m\u001b[0m\n",
      "\u001b[0;32m~/.local/lib/python3.5/site-packages/keras/backend/tensorflow_backend.py\u001b[0m in \u001b[0;36m__call__\u001b[0;34m(self, inputs)\u001b[0m\n\u001b[1;32m   2480\u001b[0m         \u001b[0msession\u001b[0m \u001b[0;34m=\u001b[0m \u001b[0mget_session\u001b[0m\u001b[0;34m(\u001b[0m\u001b[0;34m)\u001b[0m\u001b[0;34m\u001b[0m\u001b[0m\n\u001b[1;32m   2481\u001b[0m         updated = session.run(fetches=fetches, feed_dict=feed_dict,\n\u001b[0;32m-> 2482\u001b[0;31m                               **self.session_kwargs)\n\u001b[0m\u001b[1;32m   2483\u001b[0m         \u001b[0;32mreturn\u001b[0m \u001b[0mupdated\u001b[0m\u001b[0;34m[\u001b[0m\u001b[0;34m:\u001b[0m\u001b[0mlen\u001b[0m\u001b[0;34m(\u001b[0m\u001b[0mself\u001b[0m\u001b[0;34m.\u001b[0m\u001b[0moutputs\u001b[0m\u001b[0;34m)\u001b[0m\u001b[0;34m]\u001b[0m\u001b[0;34m\u001b[0m\u001b[0m\n\u001b[1;32m   2484\u001b[0m \u001b[0;34m\u001b[0m\u001b[0m\n",
      "\u001b[0;32m/home/casapanshop/anaconda2/envs/py3/lib/python3.5/site-packages/tensorflow/python/client/session.py\u001b[0m in \u001b[0;36mrun\u001b[0;34m(self, fetches, feed_dict, options, run_metadata)\u001b[0m\n\u001b[1;32m    898\u001b[0m     \u001b[0;32mtry\u001b[0m\u001b[0;34m:\u001b[0m\u001b[0;34m\u001b[0m\u001b[0m\n\u001b[1;32m    899\u001b[0m       result = self._run(None, fetches, feed_dict, options_ptr,\n\u001b[0;32m--> 900\u001b[0;31m                          run_metadata_ptr)\n\u001b[0m\u001b[1;32m    901\u001b[0m       \u001b[0;32mif\u001b[0m \u001b[0mrun_metadata\u001b[0m\u001b[0;34m:\u001b[0m\u001b[0;34m\u001b[0m\u001b[0m\n\u001b[1;32m    902\u001b[0m         \u001b[0mproto_data\u001b[0m \u001b[0;34m=\u001b[0m \u001b[0mtf_session\u001b[0m\u001b[0;34m.\u001b[0m\u001b[0mTF_GetBuffer\u001b[0m\u001b[0;34m(\u001b[0m\u001b[0mrun_metadata_ptr\u001b[0m\u001b[0;34m)\u001b[0m\u001b[0;34m\u001b[0m\u001b[0m\n",
      "\u001b[0;32m/home/casapanshop/anaconda2/envs/py3/lib/python3.5/site-packages/tensorflow/python/client/session.py\u001b[0m in \u001b[0;36m_run\u001b[0;34m(self, handle, fetches, feed_dict, options, run_metadata)\u001b[0m\n\u001b[1;32m   1102\u001b[0m             \u001b[0mfeed_handles\u001b[0m\u001b[0;34m[\u001b[0m\u001b[0msubfeed_t\u001b[0m\u001b[0;34m]\u001b[0m \u001b[0;34m=\u001b[0m \u001b[0msubfeed_val\u001b[0m\u001b[0;34m\u001b[0m\u001b[0m\n\u001b[1;32m   1103\u001b[0m           \u001b[0;32melse\u001b[0m\u001b[0;34m:\u001b[0m\u001b[0;34m\u001b[0m\u001b[0m\n\u001b[0;32m-> 1104\u001b[0;31m             \u001b[0mnp_val\u001b[0m \u001b[0;34m=\u001b[0m \u001b[0mnp\u001b[0m\u001b[0;34m.\u001b[0m\u001b[0masarray\u001b[0m\u001b[0;34m(\u001b[0m\u001b[0msubfeed_val\u001b[0m\u001b[0;34m,\u001b[0m \u001b[0mdtype\u001b[0m\u001b[0;34m=\u001b[0m\u001b[0msubfeed_dtype\u001b[0m\u001b[0;34m)\u001b[0m\u001b[0;34m\u001b[0m\u001b[0m\n\u001b[0m\u001b[1;32m   1105\u001b[0m \u001b[0;34m\u001b[0m\u001b[0m\n\u001b[1;32m   1106\u001b[0m           if (not is_tensor_handle_feed and\n",
      "\u001b[0;32m/home/casapanshop/anaconda2/envs/py3/lib/python3.5/site-packages/numpy/core/numeric.py\u001b[0m in \u001b[0;36masarray\u001b[0;34m(a, dtype, order)\u001b[0m\n\u001b[1;32m    490\u001b[0m \u001b[0;34m\u001b[0m\u001b[0m\n\u001b[1;32m    491\u001b[0m     \"\"\"\n\u001b[0;32m--> 492\u001b[0;31m     \u001b[0;32mreturn\u001b[0m \u001b[0marray\u001b[0m\u001b[0;34m(\u001b[0m\u001b[0ma\u001b[0m\u001b[0;34m,\u001b[0m \u001b[0mdtype\u001b[0m\u001b[0;34m,\u001b[0m \u001b[0mcopy\u001b[0m\u001b[0;34m=\u001b[0m\u001b[0;32mFalse\u001b[0m\u001b[0;34m,\u001b[0m \u001b[0morder\u001b[0m\u001b[0;34m=\u001b[0m\u001b[0morder\u001b[0m\u001b[0;34m)\u001b[0m\u001b[0;34m\u001b[0m\u001b[0m\n\u001b[0m\u001b[1;32m    493\u001b[0m \u001b[0;34m\u001b[0m\u001b[0m\n\u001b[1;32m    494\u001b[0m \u001b[0;34m\u001b[0m\u001b[0m\n",
      "\u001b[0;31mKeyboardInterrupt\u001b[0m: "
     ]
    }
   ],
   "source": [
    "gMixture_Ind3 = GroupMixtureInd(max_L,Kl=Kl,M=M_seted,epochs=1,optimizer=OPT,dtype_op=DTYPE_OP) \n",
    "gMixture_Ind3.define_model(\"default rnn text\", embed=embedding_matrix)\n",
    "\n",
    "gMixture_Ind3.define_model_group(\"mlp\", A_rep.shape[1], Kl*M_seted, 1, BatchN=False, embed=False) #con BN\n",
    "\n",
    "logL_hists,i_r = gMixture_Ind3.multiples_run(10,X_train,Y_ann_train, T_idx, A=A_rep, batch_size=BATCH_SIZE,\n",
    "                                   pre_init_z=3,pre_init_g=0,max_iter=EPOCHS_BASE,tolerance=TOL) "
   ]
  },
  {
   "cell_type": "code",
   "execution_count": null,
   "metadata": {},
   "outputs": [],
   "source": [
    "Z_train_p = gMixture_Ind3.get_predictions_z(X_train)\n",
    "Z_train_pred = Z_train_p.argmax(axis=-1)\n",
    "Z_test_p = gMixture_Ind3.get_predictions_z(X_test)\n",
    "Z_test_pred = Z_test_p.argmax(axis=-1)\n",
    "prob_Gt = gMixture_Ind3.get_predictions_g(A_rep) "
   ]
  },
  {
   "cell_type": "code",
   "execution_count": 87,
   "metadata": {},
   "outputs": [
    {
     "data": {
      "image/png": "[encoded data removed]",
      "text/plain": [
       "<Figure size 1080x504 with 1 Axes>"
      ]
     },
     "metadata": {},
     "output_type": "display_data"
    }
   ],
   "source": [
    "plt.figure(figsize=(15,7))\n",
    "for a, value in enumerate(logL_hists): #logL_hists\n",
    "    if a != i_r:\n",
    "        plt.plot(range(len(value)),value,'.-')\n",
    "plt.plot(range(len(logL_hists[i_r])),logL_hists[i_r],'o-',markersize=10,label=\"Selected run\")\n",
    "plt.legend()\n",
    "plt.show()"
   ]
  },
  {
   "cell_type": "markdown",
   "metadata": {},
   "source": [
    "### Compare trained models"
   ]
  },
  {
   "cell_type": "code",
   "execution_count": 13,
   "metadata": {},
   "outputs": [],
   "source": [
    "#Import it:\n",
    "from code.evaluation import Evaluation_metrics"
   ]
  },
  {
   "cell_type": "code",
   "execution_count": 14,
   "metadata": {},
   "outputs": [
    {
     "name": "stdout",
     "output_type": "stream",
     "text": [
      "*** Upper bound (Train with GT) ***\n",
      "Train\n",
      "A result\n"
     ]
    },
    {
     "data": {
      "text/html": [
       "<div>\n",
       "<style scoped>\n",
       "    .dataframe tbody tr th:only-of-type {\n",
       "        vertical-align: middle;\n",
       "    }\n",
       "\n",
       "    .dataframe tbody tr th {\n",
       "        vertical-align: top;\n",
       "    }\n",
       "\n",
       "    .dataframe thead th {\n",
       "        text-align: right;\n",
       "    }\n",
       "</style>\n",
       "<table border=\"1\" class=\"dataframe\">\n",
       "  <thead>\n",
       "    <tr style=\"text-align: right;\">\n",
       "      <th></th>\n",
       "      <th></th>\n",
       "      <th>Accuracy</th>\n",
       "      <th>F1 (micro)</th>\n",
       "      <th>F1 (macro)</th>\n",
       "    </tr>\n",
       "  </thead>\n",
       "  <tbody>\n",
       "    <tr>\n",
       "      <th>0</th>\n",
       "      <td>All</td>\n",
       "      <td>1.0</td>\n",
       "      <td>1.0</td>\n",
       "      <td>1.0</td>\n",
       "    </tr>\n",
       "  </tbody>\n",
       "</table>\n",
       "</div>"
      ],
      "text/plain": [
       "        Accuracy  F1 (micro)  F1 (macro)\n",
       "0  All       1.0         1.0         1.0"
      ]
     },
     "metadata": {},
     "output_type": "display_data"
    },
    {
     "name": "stdout",
     "output_type": "stream",
     "text": [
      "Test\n",
      "A result\n"
     ]
    },
    {
     "data": {
      "text/html": [
       "<div>\n",
       "<style scoped>\n",
       "    .dataframe tbody tr th:only-of-type {\n",
       "        vertical-align: middle;\n",
       "    }\n",
       "\n",
       "    .dataframe tbody tr th {\n",
       "        vertical-align: top;\n",
       "    }\n",
       "\n",
       "    .dataframe thead th {\n",
       "        text-align: right;\n",
       "    }\n",
       "</style>\n",
       "<table border=\"1\" class=\"dataframe\">\n",
       "  <thead>\n",
       "    <tr style=\"text-align: right;\">\n",
       "      <th></th>\n",
       "      <th></th>\n",
       "      <th>Accuracy</th>\n",
       "      <th>F1 (micro)</th>\n",
       "      <th>F1 (macro)</th>\n",
       "    </tr>\n",
       "  </thead>\n",
       "  <tbody>\n",
       "    <tr>\n",
       "      <th>0</th>\n",
       "      <td>All</td>\n",
       "      <td>0.7414</td>\n",
       "      <td>0.7414</td>\n",
       "      <td>0.7408</td>\n",
       "    </tr>\n",
       "  </tbody>\n",
       "</table>\n",
       "</div>"
      ],
      "text/plain": [
       "        Accuracy  F1 (micro)  F1 (macro)\n",
       "0  All    0.7414      0.7414      0.7408"
      ]
     },
     "metadata": {},
     "output_type": "display_data"
    }
   ],
   "source": [
    "evaluate = Evaluation_metrics(model_UB,'keras',X_train.shape[0])\n",
    "print(\"*** Upper bound (Train with GT) ***\")\n",
    "\n",
    "print(\"Train\")\n",
    "results1 = evaluate.calculate_metrics(Z=Z_train,Z_pred=Z_train_pred)\n",
    "\n",
    "print(\"Test\")\n",
    "results2 = evaluate.calculate_metrics(Z=Z_test,Z_pred=Z_test_pred)"
   ]
  },
  {
   "cell_type": "code",
   "execution_count": null,
   "metadata": {
    "collapsed": true
   },
   "outputs": [],
   "source": [
    "#upper bound global confusion matrix..\n",
    "prob_Yz = generate_confusionM(Z_train_pred, label_I.y_obs_repeat)\n",
    "results1 = evaluate.calculate_metrics(Z=Z_train,Z_pred=Z_train_pred,conf_true_G =confe_matrix_G, conf_pred_G = prob_Yz)"
   ]
  },
  {
   "cell_type": "code",
   "execution_count": null,
   "metadata": {},
   "outputs": [],
   "source": [
    "evaluate = Evaluation_metrics(model_mvsoft,'keras',X_train.shape[0])\n",
    "evaluate.set_T_weights(T_weights)\n",
    "print(\"*** Soft-Majority (Train with softMV) ***\")\n",
    "\n",
    "print(\"Train\")\n",
    "prob_Yzt = np.tile( mv_conf_probas, (T,1,1) )\n",
    "results1 = evaluate.calculate_metrics(Z=Z_train,Z_pred=Z_train_pred,conf_pred=prob_Yzt,conf_true=confe_matrix_R,\n",
    "                                     conf_true_G =confe_matrix_G, conf_pred_G = mv_conf_probas)\n",
    "\n",
    "print(\"Test\")\n",
    "results2 = evaluate.calculate_metrics(Z=Z_test,Z_pred=Z_test_pred)"
   ]
  },
  {
   "cell_type": "code",
   "execution_count": 17,
   "metadata": {},
   "outputs": [
    {
     "name": "stdout",
     "output_type": "stream",
     "text": [
      "*** Hard-Majority (Train with hardMV) ***\n",
      "Train\n",
      "Calculate confusion matrix on repeat version\n"
     ]
    },
    {
     "data": {
      "image/png": "[encoded data removed]",
      "text/plain": [
       "<Figure size 432x288 with 2 Axes>"
      ]
     },
     "metadata": {},
     "output_type": "display_data"
    },
    {
     "name": "stdout",
     "output_type": "stream",
     "text": [
      "JS divergence: 0.0198\tNorm Frobenius: 0.1073\n"
     ]
    },
    {
     "data": {
      "image/png": "[encoded data removed]",
      "text/plain": [
       "<Figure size 432x288 with 2 Axes>"
      ]
     },
     "metadata": {},
     "output_type": "display_data"
    },
    {
     "name": "stdout",
     "output_type": "stream",
     "text": [
      "JS divergence: 0.0105\tNorm Frobenius: 0.1070\n"
     ]
    },
    {
     "data": {
      "image/png": "[encoded data removed]",
      "text/plain": [
       "<Figure size 432x288 with 2 Axes>"
      ]
     },
     "metadata": {},
     "output_type": "display_data"
    },
    {
     "name": "stdout",
     "output_type": "stream",
     "text": [
      "JS divergence: 0.0417\tNorm Frobenius: 0.2104\n"
     ]
    },
    {
     "data": {
      "image/png": "[encoded data removed]",
      "text/plain": [
       "<Figure size 432x288 with 2 Axes>"
      ]
     },
     "metadata": {},
     "output_type": "display_data"
    },
    {
     "name": "stdout",
     "output_type": "stream",
     "text": [
      "JS divergence: 0.0004\tNorm Frobenius: 0.0189\n"
     ]
    },
    {
     "data": {
      "image/png": "[encoded data removed]",
      "text/plain": [
       "<Figure size 432x288 with 2 Axes>"
      ]
     },
     "metadata": {},
     "output_type": "display_data"
    },
    {
     "name": "stdout",
     "output_type": "stream",
     "text": [
      "JS divergence: 0.0157\tNorm Frobenius: 0.0991\n"
     ]
    },
    {
     "data": {
      "image/png": "[encoded data removed]",
      "text/plain": [
       "<Figure size 432x288 with 2 Axes>"
      ]
     },
     "metadata": {},
     "output_type": "display_data"
    },
    {
     "name": "stdout",
     "output_type": "stream",
     "text": [
      "JS divergence: 0.0048\tNorm Frobenius: 0.0565\n"
     ]
    },
    {
     "data": {
      "image/png": "[encoded data removed]",
      "text/plain": [
       "<Figure size 432x288 with 2 Axes>"
      ]
     },
     "metadata": {},
     "output_type": "display_data"
    },
    {
     "name": "stdout",
     "output_type": "stream",
     "text": [
      "JS divergence: 0.0149\tNorm Frobenius: 0.1181\n"
     ]
    },
    {
     "data": {
      "image/png": "[encoded data removed]",
      "text/plain": [
       "<Figure size 432x288 with 2 Axes>"
      ]
     },
     "metadata": {},
     "output_type": "display_data"
    },
    {
     "name": "stdout",
     "output_type": "stream",
     "text": [
      "JS divergence: 0.0805\tNorm Frobenius: 0.3158\n"
     ]
    },
    {
     "data": {
      "image/png": "[encoded data removed]",
      "text/plain": [
       "<Figure size 432x288 with 2 Axes>"
      ]
     },
     "metadata": {},
     "output_type": "display_data"
    },
    {
     "name": "stdout",
     "output_type": "stream",
     "text": [
      "JS divergence: 0.0037\tNorm Frobenius: 0.0482\n"
     ]
    },
    {
     "data": {
      "image/png": "[encoded data removed]",
      "text/plain": [
       "<Figure size 432x288 with 2 Axes>"
      ]
     },
     "metadata": {},
     "output_type": "display_data"
    },
    {
     "name": "stdout",
     "output_type": "stream",
     "text": [
      "JS divergence: 0.0208\tNorm Frobenius: 0.1100\n"
     ]
    },
    {
     "data": {
      "image/png": "[encoded data removed]",
      "text/plain": [
       "<Figure size 432x288 with 2 Axes>"
      ]
     },
     "metadata": {},
     "output_type": "display_data"
    },
    {
     "name": "stdout",
     "output_type": "stream",
     "text": [
      "JS divergence: 0.0231\tNorm Frobenius: 0.1630\n"
     ]
    },
    {
     "data": {
      "image/png": "[encoded data removed]",
      "text/plain": [
       "<Figure size 432x288 with 2 Axes>"
      ]
     },
     "metadata": {},
     "output_type": "display_data"
    },
    {
     "name": "stdout",
     "output_type": "stream",
     "text": [
      "JS divergence: 0.0050\tNorm Frobenius: 0.0512\n"
     ]
    },
    {
     "data": {
      "image/png": "[encoded data removed]",
      "text/plain": [
       "<Figure size 432x288 with 2 Axes>"
      ]
     },
     "metadata": {},
     "output_type": "display_data"
    },
    {
     "name": "stdout",
     "output_type": "stream",
     "text": [
      "JS divergence: 0.0383\tNorm Frobenius: 0.2180\n"
     ]
    },
    {
     "data": {
      "image/png": "[encoded data removed]",
      "text/plain": [
       "<Figure size 432x288 with 2 Axes>"
      ]
     },
     "metadata": {},
     "output_type": "display_data"
    },
    {
     "name": "stdout",
     "output_type": "stream",
     "text": [
      "JS divergence: 0.0050\tNorm Frobenius: 0.0724\n"
     ]
    },
    {
     "data": {
      "image/png": "[encoded data removed]",
      "text/plain": [
       "<Figure size 432x288 with 2 Axes>"
      ]
     },
     "metadata": {},
     "output_type": "display_data"
    },
    {
     "name": "stdout",
     "output_type": "stream",
     "text": [
      "JS divergence: 0.0188\tNorm Frobenius: 0.1064\n",
      "Calculate confusion matrix on global version\n"
     ]
    },
    {
     "data": {
      "image/png": "[encoded data removed]",
      "text/plain": [
       "<Figure size 432x288 with 2 Axes>"
      ]
     },
     "metadata": {},
     "output_type": "display_data"
    },
    {
     "name": "stdout",
     "output_type": "stream",
     "text": [
      "JS divergence: 0.0019\tNorm Frobenius: 0.0399\n",
      "A result\n"
     ]
    },
    {
     "data": {
      "text/html": [
       "<div>\n",
       "<style scoped>\n",
       "    .dataframe tbody tr th:only-of-type {\n",
       "        vertical-align: middle;\n",
       "    }\n",
       "\n",
       "    .dataframe tbody tr th {\n",
       "        vertical-align: top;\n",
       "    }\n",
       "\n",
       "    .dataframe thead th {\n",
       "        text-align: right;\n",
       "    }\n",
       "</style>\n",
       "<table border=\"1\" class=\"dataframe\">\n",
       "  <thead>\n",
       "    <tr style=\"text-align: right;\">\n",
       "      <th></th>\n",
       "      <th></th>\n",
       "      <th>Accuracy</th>\n",
       "      <th>F1 (micro)</th>\n",
       "      <th>F1 (macro)</th>\n",
       "      <th>(R) NormF mean</th>\n",
       "      <th>(R) JS mean</th>\n",
       "      <th>(R) NormF w</th>\n",
       "      <th>(R) JS w</th>\n",
       "      <th>(G) NormF</th>\n",
       "      <th>(G) JS</th>\n",
       "    </tr>\n",
       "  </thead>\n",
       "  <tbody>\n",
       "    <tr>\n",
       "      <th>0</th>\n",
       "      <td>All</td>\n",
       "      <td>0.7946</td>\n",
       "      <td>0.7946</td>\n",
       "      <td>0.7923</td>\n",
       "      <td>0.1788</td>\n",
       "      <td>0.0601</td>\n",
       "      <td>0.1329</td>\n",
       "      <td>0.0266</td>\n",
       "      <td>0.0399</td>\n",
       "      <td>0.0019</td>\n",
       "    </tr>\n",
       "  </tbody>\n",
       "</table>\n",
       "</div>"
      ],
      "text/plain": [
       "        Accuracy  F1 (micro)  F1 (macro)  (R) NormF mean  (R) JS mean  \\\n",
       "0  All    0.7946      0.7946      0.7923          0.1788       0.0601   \n",
       "\n",
       "   (R) NormF w  (R) JS w  (G) NormF  (G) JS  \n",
       "0       0.1329    0.0266     0.0399  0.0019  "
      ]
     },
     "metadata": {},
     "output_type": "display_data"
    },
    {
     "name": "stdout",
     "output_type": "stream",
     "text": [
      "Test\n",
      "A result\n"
     ]
    },
    {
     "data": {
      "text/html": [
       "<div>\n",
       "<style scoped>\n",
       "    .dataframe tbody tr th:only-of-type {\n",
       "        vertical-align: middle;\n",
       "    }\n",
       "\n",
       "    .dataframe tbody tr th {\n",
       "        vertical-align: top;\n",
       "    }\n",
       "\n",
       "    .dataframe thead th {\n",
       "        text-align: right;\n",
       "    }\n",
       "</style>\n",
       "<table border=\"1\" class=\"dataframe\">\n",
       "  <thead>\n",
       "    <tr style=\"text-align: right;\">\n",
       "      <th></th>\n",
       "      <th></th>\n",
       "      <th>Accuracy</th>\n",
       "      <th>F1 (micro)</th>\n",
       "      <th>F1 (macro)</th>\n",
       "    </tr>\n",
       "  </thead>\n",
       "  <tbody>\n",
       "    <tr>\n",
       "      <th>0</th>\n",
       "      <td>All</td>\n",
       "      <td>0.7419</td>\n",
       "      <td>0.7419</td>\n",
       "      <td>0.7392</td>\n",
       "    </tr>\n",
       "  </tbody>\n",
       "</table>\n",
       "</div>"
      ],
      "text/plain": [
       "        Accuracy  F1 (micro)  F1 (macro)\n",
       "0  All    0.7419      0.7419      0.7392"
      ]
     },
     "metadata": {},
     "output_type": "display_data"
    }
   ],
   "source": [
    "evaluate = Evaluation_metrics(model_mvhard,'keras',X_train.shape[0])\n",
    "evaluate.set_T_weights(T_weights)\n",
    "print(\"*** Hard-Majority (Train with hardMV) ***\")\n",
    "\n",
    "print(\"Train\")\n",
    "prob_Yzt = np.tile( mv_conf_onehot, (T,1,1) )\n",
    "results1 = evaluate.calculate_metrics(Z=Z_train,Z_pred=Z_train_pred,conf_pred=prob_Yzt,conf_true=confe_matrix_R,\n",
    "                                     conf_true_G =confe_matrix_G, conf_pred_G = mv_conf_onehot)\n",
    "\n",
    "print(\"Test\")\n",
    "results2 = evaluate.calculate_metrics(Z=Z_test,Z_pred=Z_test_pred)"
   ]
  },
  {
   "cell_type": "code",
   "execution_count": null,
   "metadata": {},
   "outputs": [],
   "source": [
    "evaluate = Evaluation_metrics(model_ds,'keras',X_train.shape[0])\n",
    "evaluate.set_T_weights(T_weights)\n",
    "print(\"*** Dawid and Skene model (Train with D&S) ***\")\n",
    "\n",
    "print(\"Train\")\n",
    "results1 = evaluate.calculate_metrics(Z=Z_train,Z_pred=Z_train_pred,conf_pred=ds_conf,conf_true=confe_matrix_R,\n",
    "                                     conf_true_G =confe_matrix_G, conf_pred_G = ds_conf.mean(axis=0))\n",
    "\n",
    "print(\"Test\")\n",
    "results2 = evaluate.calculate_metrics(Z=Z_test,Z_pred=Z_test_pred)"
   ]
  },
  {
   "cell_type": "code",
   "execution_count": 27,
   "metadata": {},
   "outputs": [
    {
     "name": "stdout",
     "output_type": "stream",
     "text": [
      "*** Raykar model multiples runs***\n",
      "Train\n",
      "Calculate confusion matrix on repeat version\n"
     ]
    },
    {
     "data": {
      "image/png": "[encoded data removed]",
      "text/plain": [
       "<Figure size 432x288 with 2 Axes>"
      ]
     },
     "metadata": {},
     "output_type": "display_data"
    },
    {
     "name": "stdout",
     "output_type": "stream",
     "text": [
      "JS divergence: 0.0046\tNorm Frobenius: 0.0380\n"
     ]
    },
    {
     "data": {
      "image/png": "[encoded data removed]",
      "text/plain": [
       "<Figure size 432x288 with 2 Axes>"
      ]
     },
     "metadata": {},
     "output_type": "display_data"
    },
    {
     "name": "stdout",
     "output_type": "stream",
     "text": [
      "JS divergence: 0.0044\tNorm Frobenius: 0.0351\n"
     ]
    },
    {
     "data": {
      "image/png": "[encoded data removed]",
      "text/plain": [
       "<Figure size 432x288 with 2 Axes>"
      ]
     },
     "metadata": {},
     "output_type": "display_data"
    },
    {
     "name": "stdout",
     "output_type": "stream",
     "text": [
      "JS divergence: 0.0042\tNorm Frobenius: 0.0350\n"
     ]
    },
    {
     "data": {
      "image/png": "[encoded data removed]",
      "text/plain": [
       "<Figure size 432x288 with 2 Axes>"
      ]
     },
     "metadata": {},
     "output_type": "display_data"
    },
    {
     "name": "stdout",
     "output_type": "stream",
     "text": [
      "JS divergence: 0.0013\tNorm Frobenius: 0.0345\n"
     ]
    },
    {
     "data": {
      "image/png": "[encoded data removed]",
      "text/plain": [
       "<Figure size 432x288 with 2 Axes>"
      ]
     },
     "metadata": {},
     "output_type": "display_data"
    },
    {
     "name": "stdout",
     "output_type": "stream",
     "text": [
      "JS divergence: 0.0029\tNorm Frobenius: 0.0304\n"
     ]
    },
    {
     "data": {
      "image/png": "[encoded data removed]",
      "text/plain": [
       "<Figure size 432x288 with 2 Axes>"
      ]
     },
     "metadata": {},
     "output_type": "display_data"
    },
    {
     "name": "stdout",
     "output_type": "stream",
     "text": [
      "JS divergence: 0.0064\tNorm Frobenius: 0.0814\n"
     ]
    },
    {
     "data": {
      "image/png": "[encoded data removed]",
      "text/plain": [
       "<Figure size 432x288 with 2 Axes>"
      ]
     },
     "metadata": {},
     "output_type": "display_data"
    },
    {
     "name": "stdout",
     "output_type": "stream",
     "text": [
      "JS divergence: 0.0028\tNorm Frobenius: 0.0373\n"
     ]
    },
    {
     "data": {
      "image/png": "[encoded data removed]",
      "text/plain": [
       "<Figure size 432x288 with 2 Axes>"
      ]
     },
     "metadata": {},
     "output_type": "display_data"
    },
    {
     "name": "stdout",
     "output_type": "stream",
     "text": [
      "JS divergence: 0.0012\tNorm Frobenius: 0.0345\n"
     ]
    },
    {
     "data": {
      "image/png": "[encoded data removed]",
      "text/plain": [
       "<Figure size 432x288 with 2 Axes>"
      ]
     },
     "metadata": {},
     "output_type": "display_data"
    },
    {
     "name": "stdout",
     "output_type": "stream",
     "text": [
      "JS divergence: 0.0023\tNorm Frobenius: 0.0341\n"
     ]
    },
    {
     "data": {
      "image/png": "[encoded data removed]",
      "text/plain": [
       "<Figure size 432x288 with 2 Axes>"
      ]
     },
     "metadata": {},
     "output_type": "display_data"
    },
    {
     "name": "stdout",
     "output_type": "stream",
     "text": [
      "JS divergence: 0.0036\tNorm Frobenius: 0.0493\n"
     ]
    },
    {
     "data": {
      "image/png": "[encoded data removed]",
      "text/plain": [
       "<Figure size 432x288 with 2 Axes>"
      ]
     },
     "metadata": {},
     "output_type": "display_data"
    },
    {
     "name": "stdout",
     "output_type": "stream",
     "text": [
      "JS divergence: 0.0001\tNorm Frobenius: 0.0135\n"
     ]
    },
    {
     "data": {
      "image/png": "[encoded data removed]",
      "text/plain": [
       "<Figure size 432x288 with 2 Axes>"
      ]
     },
     "metadata": {},
     "output_type": "display_data"
    },
    {
     "name": "stdout",
     "output_type": "stream",
     "text": [
      "JS divergence: 0.0006\tNorm Frobenius: 0.0198\n"
     ]
    },
    {
     "data": {
      "image/png": "[encoded data removed]",
      "text/plain": [
       "<Figure size 432x288 with 2 Axes>"
      ]
     },
     "metadata": {},
     "output_type": "display_data"
    },
    {
     "name": "stdout",
     "output_type": "stream",
     "text": [
      "JS divergence: 0.0346\tNorm Frobenius: 0.1756\n"
     ]
    },
    {
     "data": {
      "image/png": "[encoded data removed]",
      "text/plain": [
       "<Figure size 432x288 with 2 Axes>"
      ]
     },
     "metadata": {},
     "output_type": "display_data"
    },
    {
     "name": "stdout",
     "output_type": "stream",
     "text": [
      "JS divergence: 0.0075\tNorm Frobenius: 0.0980\n"
     ]
    },
    {
     "data": {
      "image/png": "[encoded data removed]",
      "text/plain": [
       "<Figure size 432x288 with 2 Axes>"
      ]
     },
     "metadata": {},
     "output_type": "display_data"
    },
    {
     "name": "stdout",
     "output_type": "stream",
     "text": [
      "JS divergence: 0.0041\tNorm Frobenius: 0.0585\n",
      "Calculate confusion matrix on global version\n"
     ]
    },
    {
     "data": {
      "image/png": "[encoded data removed]",
      "text/plain": [
       "<Figure size 432x288 with 2 Axes>"
      ]
     },
     "metadata": {},
     "output_type": "display_data"
    },
    {
     "name": "stdout",
     "output_type": "stream",
     "text": [
      "JS divergence: 0.0012\tNorm Frobenius: 0.0329\n",
      "A result\n"
     ]
    },
    {
     "data": {
      "text/html": [
       "<div>\n",
       "<style scoped>\n",
       "    .dataframe tbody tr th:only-of-type {\n",
       "        vertical-align: middle;\n",
       "    }\n",
       "\n",
       "    .dataframe tbody tr th {\n",
       "        vertical-align: top;\n",
       "    }\n",
       "\n",
       "    .dataframe thead th {\n",
       "        text-align: right;\n",
       "    }\n",
       "</style>\n",
       "<table border=\"1\" class=\"dataframe\">\n",
       "  <thead>\n",
       "    <tr style=\"text-align: right;\">\n",
       "      <th></th>\n",
       "      <th></th>\n",
       "      <th>Accuracy</th>\n",
       "      <th>F1 (micro)</th>\n",
       "      <th>F1 (macro)</th>\n",
       "      <th>(R) NormF mean</th>\n",
       "      <th>(R) JS mean</th>\n",
       "      <th>(R) NormF w</th>\n",
       "      <th>(R) JS w</th>\n",
       "      <th>(G) NormF</th>\n",
       "      <th>(G) JS</th>\n",
       "      <th>RMSE mean</th>\n",
       "      <th>RMSE w</th>\n",
       "    </tr>\n",
       "  </thead>\n",
       "  <tbody>\n",
       "    <tr>\n",
       "      <th>0</th>\n",
       "      <td>All</td>\n",
       "      <td>0.826</td>\n",
       "      <td>0.826</td>\n",
       "      <td>0.8252</td>\n",
       "      <td>0.09</td>\n",
       "      <td>0.0283</td>\n",
       "      <td>0.0358</td>\n",
       "      <td>0.0038</td>\n",
       "      <td>0.0329</td>\n",
       "      <td>0.0012</td>\n",
       "      <td>0.108</td>\n",
       "      <td>0.094</td>\n",
       "    </tr>\n",
       "  </tbody>\n",
       "</table>\n",
       "</div>"
      ],
      "text/plain": [
       "        Accuracy  F1 (micro)  F1 (macro)  (R) NormF mean  (R) JS mean  \\\n",
       "0  All     0.826       0.826      0.8252            0.09       0.0283   \n",
       "\n",
       "   (R) NormF w  (R) JS w  (G) NormF  (G) JS  RMSE mean  RMSE w  \n",
       "0       0.0358    0.0038     0.0329  0.0012      0.108   0.094  "
      ]
     },
     "metadata": {},
     "output_type": "display_data"
    },
    {
     "name": "stdout",
     "output_type": "stream",
     "text": [
      "A result\n"
     ]
    },
    {
     "data": {
      "text/html": [
       "<div>\n",
       "<style scoped>\n",
       "    .dataframe tbody tr th:only-of-type {\n",
       "        vertical-align: middle;\n",
       "    }\n",
       "\n",
       "    .dataframe tbody tr th {\n",
       "        vertical-align: top;\n",
       "    }\n",
       "\n",
       "    .dataframe thead th {\n",
       "        text-align: right;\n",
       "    }\n",
       "</style>\n",
       "<table border=\"1\" class=\"dataframe\">\n",
       "  <thead>\n",
       "    <tr style=\"text-align: right;\">\n",
       "      <th></th>\n",
       "      <th>ACC imiting Annot mean</th>\n",
       "      <th>Cross-entropy mean</th>\n",
       "      <th>ACC imiting Annot wmean</th>\n",
       "      <th>Cross entropy wmean</th>\n",
       "    </tr>\n",
       "  </thead>\n",
       "  <tbody>\n",
       "    <tr>\n",
       "      <th>0</th>\n",
       "      <td>0.7722</td>\n",
       "      <td>0.4882</td>\n",
       "      <td>0.7567</td>\n",
       "      <td>0.4881</td>\n",
       "    </tr>\n",
       "  </tbody>\n",
       "</table>\n",
       "</div>"
      ],
      "text/plain": [
       "   ACC imiting Annot mean  Cross-entropy mean  ACC imiting Annot wmean  \\\n",
       "0                  0.7722              0.4882                   0.7567   \n",
       "\n",
       "   Cross entropy wmean  \n",
       "0               0.4881  "
      ]
     },
     "metadata": {},
     "output_type": "display_data"
    },
    {
     "name": "stdout",
     "output_type": "stream",
     "text": [
      "Test\n",
      "A result\n"
     ]
    },
    {
     "data": {
      "text/html": [
       "<div>\n",
       "<style scoped>\n",
       "    .dataframe tbody tr th:only-of-type {\n",
       "        vertical-align: middle;\n",
       "    }\n",
       "\n",
       "    .dataframe tbody tr th {\n",
       "        vertical-align: top;\n",
       "    }\n",
       "\n",
       "    .dataframe thead th {\n",
       "        text-align: right;\n",
       "    }\n",
       "</style>\n",
       "<table border=\"1\" class=\"dataframe\">\n",
       "  <thead>\n",
       "    <tr style=\"text-align: right;\">\n",
       "      <th></th>\n",
       "      <th></th>\n",
       "      <th>Accuracy</th>\n",
       "      <th>F1 (micro)</th>\n",
       "      <th>F1 (macro)</th>\n",
       "    </tr>\n",
       "  </thead>\n",
       "  <tbody>\n",
       "    <tr>\n",
       "      <th>0</th>\n",
       "      <td>All</td>\n",
       "      <td>0.8778</td>\n",
       "      <td>0.8778</td>\n",
       "      <td>0.8776</td>\n",
       "    </tr>\n",
       "  </tbody>\n",
       "</table>\n",
       "</div>"
      ],
      "text/plain": [
       "        Accuracy  F1 (micro)  F1 (macro)\n",
       "0  All    0.8778      0.8778      0.8776"
      ]
     },
     "metadata": {},
     "output_type": "display_data"
    }
   ],
   "source": [
    "evaluate = Evaluation_metrics(raykarMC,'raykar')\n",
    "print(\"*** Raykar model multiples runs***\")\n",
    "\n",
    "print(\"Train\")\n",
    "prob_Yzt = raykarMC.get_confusionM()\n",
    "prob_Yxt = raykarMC.get_predictions_annot(X_train,data=Z_train_p)\n",
    "results = evaluate.calculate_metrics(Z=Z_train,Z_pred=Z_train_pred,conf_pred=prob_Yzt,conf_true=confe_matrix_R,\n",
    "                                     y_o=y_obs,yo_pred=prob_Yxt,conf_true_G =confe_matrix_G, conf_pred_G = prob_Yzt.mean(axis=0))\n",
    "\n",
    "results = evaluate.calculate_metrics(y_o=y_obs,yo_pred=prob_Yxt)\n",
    "\n",
    "print(\"Test\")\n",
    "results2 = evaluate.calculate_metrics(Z=Z_test,Z_pred=Z_test_pred)"
   ]
  },
  {
   "cell_type": "code",
   "execution_count": null,
   "metadata": {},
   "outputs": [],
   "source": [
    "evaluate = Evaluation_metrics(gMixture_Global,'our1') \n",
    "aux = gMixture_Global.calculate_extra_components(X_train,y_obs,T=T,calculate_pred_annotator=True,p_z=Z_train_p)\n",
    "predictions_m,prob_Gt,prob_Yzt,prob_Yxt =  aux #to evaluate...\n",
    "prob_Yz = gMixture_Global.calculate_Yz()\n",
    "evaluate.set_Gt(prob_Gt)\n",
    "print(\"*** Ours Global multiples runs***\") #lambda = random\n",
    "\n",
    "print(\"Train\")\n",
    "y_o_groups = predictions_m.argmax(axis=-1)\n",
    "results = evaluate.calculate_metrics(Z=Z_train,Z_pred=Z_train_pred,conf_pred=prob_Yzt,conf_true=confe_matrix_R,\n",
    "                                     y_o=y_obs,yo_pred=prob_Yxt, y_o_groups=y_o_groups,\n",
    "                                    conf_true_G =confe_matrix_G, conf_pred_G = prob_Yz)\n",
    "\n",
    "results = evaluate.calculate_metrics(y_o=y_obs,yo_pred=prob_Yxt)\n",
    "\n",
    "print(\"Test\")\n",
    "c_M = gMixture_Global.get_confusionM()\n",
    "y_o_groups = gMixture_Global.get_predictions_groups(X_test,data=Z_test_p).argmax(axis=-1) #obtain p(y^o|x,g=m) and then argmax\n",
    "results = evaluate.calculate_metrics(Z=Z_test,Z_pred=Z_test_pred,conf_pred=c_M, y_o_groups=y_o_groups)"
   ]
  },
  {
   "cell_type": "code",
   "execution_count": null,
   "metadata": {},
   "outputs": [],
   "source": [
    "evaluate = Evaluation_metrics(gMixture_Global,'our1') \n",
    "aux = gMixture_Global.calculate_extra_components(X_train,y_obs,T=T,calculate_pred_annotator=True,p_z=Z_train_p)\n",
    "predictions_m,prob_Gt,prob_Yzt,prob_Yxt =  aux #to evaluate...\n",
    "evaluate.set_Gt(prob_Gt)\n",
    "print(\"*** Ours Global multiples runs (Uniform priors) ***\") #groups uniform...\n",
    "\n",
    "print(\"Train\")\n",
    "y_o_groups = predictions_m.argmax(axis=-1)\n",
    "results = evaluate.calculate_metrics(Z=Z_train,Z_pred=Z_train_pred,conf_pred=prob_Yzt,conf_true=confe_matrix_R,y_o=y_obs,yo_pred=prob_Yxt, y_o_groups=y_o_groups)\n",
    "\n",
    "results = evaluate.calculate_metrics(y_o=y_obs,yo_pred=prob_Yxt)\n",
    "\n",
    "print(\"Test\")\n",
    "c_M = gMixture_Global.get_confusionM()\n",
    "y_o_groups = gMixture_Global.get_predictions_groups(X_test,data=Z_test_p).argmax(axis=-1) #obtain p(y^o|x,g=m) and then argmax\n",
    "results = evaluate.calculate_metrics(Z=Z_test,Z_pred=Z_test_pred,conf_pred=c_M, y_o_groups=y_o_groups)"
   ]
  },
  {
   "cell_type": "code",
   "execution_count": null,
   "metadata": {},
   "outputs": [],
   "source": []
  },
  {
   "cell_type": "code",
   "execution_count": 88,
   "metadata": {},
   "outputs": [
    {
     "name": "stdout",
     "output_type": "stream",
     "text": [
      "*** Ours Individual-T multiples runs***\n",
      "Train\n",
      "Calculate confusion matrix on repeat version\n"
     ]
    },
    {
     "data": {
      "image/png": "[encoded data removed]",
      "text/plain": [
       "<Figure size 432x288 with 2 Axes>"
      ]
     },
     "metadata": {},
     "output_type": "display_data"
    },
    {
     "name": "stdout",
     "output_type": "stream",
     "text": [
      "JS divergence: 0.0100\tNorm Frobenius: 0.0556\n",
      "Groups probabilities:  [0.74 0.14 0.12]\n"
     ]
    },
    {
     "data": {
      "image/png": "[encoded data removed]",
      "text/plain": [
       "<Figure size 432x288 with 2 Axes>"
      ]
     },
     "metadata": {},
     "output_type": "display_data"
    },
    {
     "name": "stdout",
     "output_type": "stream",
     "text": [
      "JS divergence: 0.0111\tNorm Frobenius: 0.0513\n",
      "Groups probabilities:  [0.72 0.22 0.06]\n"
     ]
    },
    {
     "data": {
      "image/png": "[encoded data removed]",
      "text/plain": [
       "<Figure size 432x288 with 2 Axes>"
      ]
     },
     "metadata": {},
     "output_type": "display_data"
    },
    {
     "name": "stdout",
     "output_type": "stream",
     "text": [
      "JS divergence: 0.0094\tNorm Frobenius: 0.1053\n",
      "Groups probabilities:  [0.16 0.04 0.8 ]\n"
     ]
    },
    {
     "data": {
      "image/png": "[encoded data removed]",
      "text/plain": [
       "<Figure size 432x288 with 2 Axes>"
      ]
     },
     "metadata": {},
     "output_type": "display_data"
    },
    {
     "name": "stdout",
     "output_type": "stream",
     "text": [
      "JS divergence: 0.0271\tNorm Frobenius: 0.1152\n",
      "Groups probabilities:  [0.11 0.78 0.11]\n"
     ]
    },
    {
     "data": {
      "image/png": "[encoded data removed]",
      "text/plain": [
       "<Figure size 432x288 with 2 Axes>"
      ]
     },
     "metadata": {},
     "output_type": "display_data"
    },
    {
     "name": "stdout",
     "output_type": "stream",
     "text": [
      "JS divergence: 0.0273\tNorm Frobenius: 0.0989\n",
      "Groups probabilities:  [0.84 0.1  0.06]\n"
     ]
    },
    {
     "data": {
      "image/png": "[encoded data removed]",
      "text/plain": [
       "<Figure size 432x288 with 2 Axes>"
      ]
     },
     "metadata": {},
     "output_type": "display_data"
    },
    {
     "name": "stdout",
     "output_type": "stream",
     "text": [
      "JS divergence: 0.0215\tNorm Frobenius: 0.0822\n",
      "Groups probabilities:  [0.56 0.38 0.06]\n"
     ]
    },
    {
     "data": {
      "image/png": "[encoded data removed]",
      "text/plain": [
       "<Figure size 432x288 with 2 Axes>"
      ]
     },
     "metadata": {},
     "output_type": "display_data"
    },
    {
     "name": "stdout",
     "output_type": "stream",
     "text": [
      "JS divergence: 0.0087\tNorm Frobenius: 0.0785\n",
      "Groups probabilities:  [0.08 0.65 0.27]\n"
     ]
    },
    {
     "data": {
      "image/png": "[encoded data removed]",
      "text/plain": [
       "<Figure size 432x288 with 2 Axes>"
      ]
     },
     "metadata": {},
     "output_type": "display_data"
    },
    {
     "name": "stdout",
     "output_type": "stream",
     "text": [
      "JS divergence: 0.0202\tNorm Frobenius: 0.0775\n",
      "Groups probabilities:  [0.85 0.1  0.05]\n"
     ]
    },
    {
     "data": {
      "image/png": "[encoded data removed]",
      "text/plain": [
       "<Figure size 432x288 with 2 Axes>"
      ]
     },
     "metadata": {},
     "output_type": "display_data"
    },
    {
     "name": "stdout",
     "output_type": "stream",
     "text": [
      "JS divergence: 0.0160\tNorm Frobenius: 0.0631\n",
      "Groups probabilities:  [0.3  0.65 0.05]\n"
     ]
    },
    {
     "data": {
      "image/png": "[encoded data removed]",
      "text/plain": [
       "<Figure size 432x288 with 2 Axes>"
      ]
     },
     "metadata": {},
     "output_type": "display_data"
    },
    {
     "name": "stdout",
     "output_type": "stream",
     "text": [
      "JS divergence: 0.0400\tNorm Frobenius: 0.1832\n",
      "Groups probabilities:  [0.1  0.62 0.28]\n"
     ]
    },
    {
     "data": {
      "image/png": "[encoded data removed]",
      "text/plain": [
       "<Figure size 432x288 with 2 Axes>"
      ]
     },
     "metadata": {},
     "output_type": "display_data"
    },
    {
     "name": "stdout",
     "output_type": "stream",
     "text": [
      "JS divergence: 0.1848\tNorm Frobenius: 0.4331\n",
      "Groups probabilities:  [0.17 0.7  0.13]\n"
     ]
    },
    {
     "data": {
      "image/png": "[encoded data removed]",
      "text/plain": [
       "<Figure size 432x288 with 2 Axes>"
      ]
     },
     "metadata": {},
     "output_type": "display_data"
    },
    {
     "name": "stdout",
     "output_type": "stream",
     "text": [
      "JS divergence: 0.0282\tNorm Frobenius: 0.1036\n",
      "Groups probabilities:  [0.41 0.53 0.06]\n"
     ]
    },
    {
     "data": {
      "image/png": "[encoded data removed]",
      "text/plain": [
       "<Figure size 432x288 with 2 Axes>"
      ]
     },
     "metadata": {},
     "output_type": "display_data"
    },
    {
     "name": "stdout",
     "output_type": "stream",
     "text": [
      "JS divergence: 0.0053\tNorm Frobenius: 0.0663\n",
      "Groups probabilities:  [0.34 0.22 0.44]\n"
     ]
    },
    {
     "data": {
      "image/png": "[encoded data removed]",
      "text/plain": [
       "<Figure size 432x288 with 2 Axes>"
      ]
     },
     "metadata": {},
     "output_type": "display_data"
    },
    {
     "name": "stdout",
     "output_type": "stream",
     "text": [
      "JS divergence: 0.0265\tNorm Frobenius: 0.1302\n",
      "Groups probabilities:  [0.41 0.44 0.15]\n"
     ]
    },
    {
     "data": {
      "image/png": "[encoded data removed]",
      "text/plain": [
       "<Figure size 432x288 with 2 Axes>"
      ]
     },
     "metadata": {},
     "output_type": "display_data"
    },
    {
     "name": "stdout",
     "output_type": "stream",
     "text": [
      "JS divergence: 0.0162\tNorm Frobenius: 0.0620\n",
      "Groups probabilities:  [0.9  0.06 0.04]\n",
      "Calculate confusion matrix on global version\n"
     ]
    },
    {
     "data": {
      "image/png": "[encoded data removed]",
      "text/plain": [
       "<Figure size 432x288 with 2 Axes>"
      ]
     },
     "metadata": {},
     "output_type": "display_data"
    },
    {
     "name": "stdout",
     "output_type": "stream",
     "text": [
      "JS divergence: 0.0162\tNorm Frobenius: 0.1075\n",
      "A result\n"
     ]
    },
    {
     "data": {
      "text/html": [
       "<div>\n",
       "<style scoped>\n",
       "    .dataframe tbody tr th:only-of-type {\n",
       "        vertical-align: middle;\n",
       "    }\n",
       "\n",
       "    .dataframe tbody tr th {\n",
       "        vertical-align: top;\n",
       "    }\n",
       "\n",
       "    .dataframe thead th {\n",
       "        text-align: right;\n",
       "    }\n",
       "</style>\n",
       "<table border=\"1\" class=\"dataframe\">\n",
       "  <thead>\n",
       "    <tr style=\"text-align: right;\">\n",
       "      <th></th>\n",
       "      <th></th>\n",
       "      <th>Accuracy</th>\n",
       "      <th>F1 (micro)</th>\n",
       "      <th>F1 (macro)</th>\n",
       "      <th>(R) NormF mean</th>\n",
       "      <th>(R) JS mean</th>\n",
       "      <th>(R) NormF w</th>\n",
       "      <th>(R) JS w</th>\n",
       "      <th>(G) NormF</th>\n",
       "      <th>(G) JS</th>\n",
       "      <th>RMSE mean</th>\n",
       "      <th>RMSE w</th>\n",
       "    </tr>\n",
       "  </thead>\n",
       "  <tbody>\n",
       "    <tr>\n",
       "      <th>0</th>\n",
       "      <td>All</td>\n",
       "      <td>0.8988</td>\n",
       "      <td>0.8988</td>\n",
       "      <td>0.8988</td>\n",
       "      <td>0.1745</td>\n",
       "      <td>0.0598</td>\n",
       "      <td>0.1226</td>\n",
       "      <td>0.0253</td>\n",
       "      <td>0.1075</td>\n",
       "      <td>0.0162</td>\n",
       "      <td>0.1258</td>\n",
       "      <td>0.1068</td>\n",
       "    </tr>\n",
       "  </tbody>\n",
       "</table>\n",
       "</div>"
      ],
      "text/plain": [
       "        Accuracy  F1 (micro)  F1 (macro)  (R) NormF mean  (R) JS mean  \\\n",
       "0  All    0.8988      0.8988      0.8988          0.1745       0.0598   \n",
       "\n",
       "   (R) NormF w  (R) JS w  (G) NormF  (G) JS  RMSE mean  RMSE w  \n",
       "0       0.1226    0.0253     0.1075  0.0162     0.1258  0.1068  "
      ]
     },
     "metadata": {},
     "output_type": "display_data"
    },
    {
     "name": "stdout",
     "output_type": "stream",
     "text": [
      "A result\n"
     ]
    },
    {
     "data": {
      "text/html": [
       "<div>\n",
       "<style scoped>\n",
       "    .dataframe tbody tr th:only-of-type {\n",
       "        vertical-align: middle;\n",
       "    }\n",
       "\n",
       "    .dataframe tbody tr th {\n",
       "        vertical-align: top;\n",
       "    }\n",
       "\n",
       "    .dataframe thead th {\n",
       "        text-align: right;\n",
       "    }\n",
       "</style>\n",
       "<table border=\"1\" class=\"dataframe\">\n",
       "  <thead>\n",
       "    <tr style=\"text-align: right;\">\n",
       "      <th></th>\n",
       "      <th>ACC imiting Annot mean</th>\n",
       "      <th>Cross-entropy mean</th>\n",
       "      <th>ACC imiting Annot wmean</th>\n",
       "      <th>Cross entropy wmean</th>\n",
       "    </tr>\n",
       "  </thead>\n",
       "  <tbody>\n",
       "    <tr>\n",
       "      <th>0</th>\n",
       "      <td>0.8204</td>\n",
       "      <td>0.345</td>\n",
       "      <td>0.8266</td>\n",
       "      <td>0.3486</td>\n",
       "    </tr>\n",
       "  </tbody>\n",
       "</table>\n",
       "</div>"
      ],
      "text/plain": [
       "   ACC imiting Annot mean  Cross-entropy mean  ACC imiting Annot wmean  \\\n",
       "0                  0.8204               0.345                   0.8266   \n",
       "\n",
       "   Cross entropy wmean  \n",
       "0               0.3486  "
      ]
     },
     "metadata": {},
     "output_type": "display_data"
    },
    {
     "name": "stdout",
     "output_type": "stream",
     "text": [
      "Test\n"
     ]
    },
    {
     "data": {
      "image/png": "[encoded data removed]",
      "text/plain": [
       "<Figure size 432x288 with 1 Axes>"
      ]
     },
     "metadata": {},
     "output_type": "display_data"
    },
    {
     "data": {
      "image/png": "[encoded data removed]",
      "text/plain": [
       "<Figure size 432x288 with 1 Axes>"
      ]
     },
     "metadata": {},
     "output_type": "display_data"
    },
    {
     "data": {
      "image/png": "[encoded data removed]",
      "text/plain": [
       "<Figure size 432x288 with 1 Axes>"
      ]
     },
     "metadata": {},
     "output_type": "display_data"
    },
    {
     "name": "stdout",
     "output_type": "stream",
     "text": [
      "Inertia JS: 0.15712175915321439\n",
      "Inertia NormF: 0.27323441725712255\n",
      "A result\n"
     ]
    },
    {
     "data": {
      "text/html": [
       "<div>\n",
       "<style scoped>\n",
       "    .dataframe tbody tr th:only-of-type {\n",
       "        vertical-align: middle;\n",
       "    }\n",
       "\n",
       "    .dataframe tbody tr th {\n",
       "        vertical-align: top;\n",
       "    }\n",
       "\n",
       "    .dataframe thead th {\n",
       "        text-align: right;\n",
       "    }\n",
       "</style>\n",
       "<table border=\"1\" class=\"dataframe\">\n",
       "  <thead>\n",
       "    <tr style=\"text-align: right;\">\n",
       "      <th></th>\n",
       "      <th>Groups</th>\n",
       "      <th>Prob</th>\n",
       "      <th>T(g)</th>\n",
       "      <th>Entropy</th>\n",
       "      <th>Diag mean</th>\n",
       "      <th>Isim (JS)</th>\n",
       "      <th>S_raykar</th>\n",
       "      <th>S_bias</th>\n",
       "      <th>C_bias</th>\n",
       "      <th>Iner JS</th>\n",
       "      <th>Iner NormF</th>\n",
       "      <th>Accuracy</th>\n",
       "      <th>F1 (micro)</th>\n",
       "    </tr>\n",
       "  </thead>\n",
       "  <tbody>\n",
       "    <tr>\n",
       "      <th>0</th>\n",
       "      <td>0</td>\n",
       "      <td>0.3808</td>\n",
       "      <td>77</td>\n",
       "      <td>0.0035</td>\n",
       "      <td>0.9996</td>\n",
       "      <td>0.9998</td>\n",
       "      <td>0.9992</td>\n",
       "      <td>0.0000</td>\n",
       "      <td>1</td>\n",
       "      <td>0.1571</td>\n",
       "      <td>0.2732</td>\n",
       "      <td>0.8985</td>\n",
       "      <td>0.8985</td>\n",
       "    </tr>\n",
       "    <tr>\n",
       "      <th>1</th>\n",
       "      <td>1</td>\n",
       "      <td>0.3600</td>\n",
       "      <td>73</td>\n",
       "      <td>0.0051</td>\n",
       "      <td>0.9994</td>\n",
       "      <td>0.9997</td>\n",
       "      <td>0.9988</td>\n",
       "      <td>0.0001</td>\n",
       "      <td>1</td>\n",
       "      <td>0.1571</td>\n",
       "      <td>0.2732</td>\n",
       "      <td>0.8985</td>\n",
       "      <td>0.8985</td>\n",
       "    </tr>\n",
       "    <tr>\n",
       "      <th>2</th>\n",
       "      <td>2</td>\n",
       "      <td>0.2592</td>\n",
       "      <td>52</td>\n",
       "      <td>0.6488</td>\n",
       "      <td>0.6032</td>\n",
       "      <td>0.7617</td>\n",
       "      <td>0.2065</td>\n",
       "      <td>0.1043</td>\n",
       "      <td>1</td>\n",
       "      <td>0.1571</td>\n",
       "      <td>0.2732</td>\n",
       "      <td>0.5588</td>\n",
       "      <td>0.5588</td>\n",
       "    </tr>\n",
       "  </tbody>\n",
       "</table>\n",
       "</div>"
      ],
      "text/plain": [
       "   Groups    Prob  T(g)  Entropy  Diag mean  Isim (JS)  S_raykar  S_bias  \\\n",
       "0       0  0.3808    77   0.0035     0.9996     0.9998    0.9992  0.0000   \n",
       "1       1  0.3600    73   0.0051     0.9994     0.9997    0.9988  0.0001   \n",
       "2       2  0.2592    52   0.6488     0.6032     0.7617    0.2065  0.1043   \n",
       "\n",
       "   C_bias  Iner JS  Iner NormF  Accuracy  F1 (micro)  \n",
       "0       1   0.1571      0.2732    0.8985      0.8985  \n",
       "1       1   0.1571      0.2732    0.8985      0.8985  \n",
       "2       1   0.1571      0.2732    0.5588      0.5588  "
      ]
     },
     "metadata": {},
     "output_type": "display_data"
    },
    {
     "name": "stdout",
     "output_type": "stream",
     "text": [
      "A result\n"
     ]
    },
    {
     "data": {
      "text/html": [
       "<div>\n",
       "<style scoped>\n",
       "    .dataframe tbody tr th:only-of-type {\n",
       "        vertical-align: middle;\n",
       "    }\n",
       "\n",
       "    .dataframe tbody tr th {\n",
       "        vertical-align: top;\n",
       "    }\n",
       "\n",
       "    .dataframe thead th {\n",
       "        text-align: right;\n",
       "    }\n",
       "</style>\n",
       "<table border=\"1\" class=\"dataframe\">\n",
       "  <thead>\n",
       "    <tr style=\"text-align: right;\">\n",
       "      <th></th>\n",
       "      <th></th>\n",
       "      <th>Accuracy</th>\n",
       "      <th>F1 (micro)</th>\n",
       "      <th>F1 (macro)</th>\n",
       "    </tr>\n",
       "  </thead>\n",
       "  <tbody>\n",
       "    <tr>\n",
       "      <th>0</th>\n",
       "      <td>All</td>\n",
       "      <td>0.8985</td>\n",
       "      <td>0.8985</td>\n",
       "      <td>0.8978</td>\n",
       "    </tr>\n",
       "  </tbody>\n",
       "</table>\n",
       "</div>"
      ],
      "text/plain": [
       "        Accuracy  F1 (micro)  F1 (macro)\n",
       "0  All    0.8985      0.8985      0.8978"
      ]
     },
     "metadata": {},
     "output_type": "display_data"
    }
   ],
   "source": [
    "evaluate = Evaluation_metrics(gMixture_Ind1,'our1') \n",
    "aux = gMixture_Ind1.calculate_extra_components(X_train, A,calculate_pred_annotator=True,p_z=Z_train_p,p_g=prob_Gt)\n",
    "predictions_m,prob_Gt,prob_Yzt,prob_Yxt =  aux #to evaluate...\n",
    "prob_Yz = gMixture_Ind1.calculate_Yz(prob_Gt)\n",
    "evaluate.set_Gt(prob_Gt)\n",
    "print(\"*** Ours Individual-T multiples runs***\")\n",
    "\n",
    "print(\"Train\")\n",
    "y_o_groups = predictions_m.argmax(axis=-1)\n",
    "results = evaluate.calculate_metrics(Z=Z_train,Z_pred=Z_train_pred,conf_pred=prob_Yzt,conf_true=confe_matrix_R,\n",
    "                                     y_o=y_obs,yo_pred=prob_Yxt, y_o_groups=y_o_groups,\n",
    "                                    conf_true_G =confe_matrix_G, conf_pred_G = prob_Yz)\n",
    "results = evaluate.calculate_metrics(y_o=y_obs,yo_pred=prob_Yxt)\n",
    "\n",
    "print(\"Test\")\n",
    "c_M = gMixture_Ind1.get_confusionM()\n",
    "y_o_groups = gMixture_Ind1.get_predictions_groups(X_test,data=Z_test_p).argmax(axis=-1) #obtain p(y^o|x,g=m) and then argmax\n",
    "results = evaluate.calculate_metrics(Z=Z_test,Z_pred=Z_test_pred,conf_pred=c_M, y_o_groups=y_o_groups)"
   ]
  },
  {
   "cell_type": "code",
   "execution_count": null,
   "metadata": {},
   "outputs": [],
   "source": [
    "evaluate = Evaluation_metrics(gMixture_Ind3,'our1') \n",
    "aux = gMixture_Ind3.calculate_extra_components(X_train, A,calculate_pred_annotator=True,p_z=Z_train_p,p_g=prob_Gt)\n",
    "predictions_m,prob_Gt,prob_Yzt,prob_Yxt =  aux #to evaluate...\n",
    "prob_Yz = gMixture_Ind3.calculate_Yz(prob_Gt)\n",
    "evaluate.set_Gt(prob_Gt)\n",
    "print(\"*** Ours Individual-K multiples runs***\")\n",
    "\n",
    "print(\"Train\")\n",
    "y_o_groups = predictions_m.argmax(axis=-1)\n",
    "results = evaluate.calculate_metrics(Z=Z_train,Z_pred=Z_train_pred,conf_pred=prob_Yzt,conf_true=confe_matrix_R,\n",
    "                                     y_o=y_obs,yo_pred=prob_Yxt, y_o_groups=y_o_groups,\n",
    "                                    conf_true_G =confe_matrix_G, conf_pred_G = prob_Yz)\n",
    "results = evaluate.calculate_metrics(y_o=y_obs,yo_pred=prob_Yxt)\n",
    "\n",
    "print(\"Test\")\n",
    "c_M = gMixture_Ind3.get_confusionM()\n",
    "y_o_groups = gMixture_Ind3.get_predictions_groups(X_test,data=Z_test_p).argmax(axis=-1) #obtain p(y^o|x,g=m) and then argmax\n",
    "results = evaluate.calculate_metrics(Z=Z_test,Z_pred=Z_test_pred,conf_pred=c_M, y_o_groups=y_o_groups)"
   ]
  },
  {
   "cell_type": "code",
   "execution_count": null,
   "metadata": {},
   "outputs": [],
   "source": []
  },
  {
   "cell_type": "markdown",
   "metadata": {
    "collapsed": true
   },
   "source": [
    "### project confusion matrices"
   ]
  },
  {
   "cell_type": "code",
   "execution_count": 42,
   "metadata": {},
   "outputs": [],
   "source": [
    "def flatten_conf(m):\n",
    "    return m.reshape(m.shape[0], np.prod(m.shape[1:]))\n",
    "\n",
    "to_plot = flatten_conf(confe_matrix_R)\n",
    "\n",
    "centroids_plot_G = flatten_conf(gMixture_Global.get_confusionM())\n",
    "centroids_plot_I2 = flatten_conf(gMixture_Ind2.get_confusionM())\n",
    "centroids_plot_I3 = flatten_conf(gMixture_Ind3.get_confusionM())\n",
    "\n",
    "from sklearn.decomposition import PCA\n",
    "model = PCA(2)\n",
    "\n",
    "to_plot = model.fit_transform(to_plot)\n",
    "centroids_plot_G = model.transform(centroids_plot_G)\n",
    "centroids_plot_I2 = model.transform(centroids_plot_I2)\n",
    "centroids_plot_I3 = model.transform(centroids_plot_I3)"
   ]
  },
  {
   "cell_type": "code",
   "execution_count": null,
   "metadata": {},
   "outputs": [],
   "source": [
    "plt.figure(figsize=(10,7))\n",
    "plt.scatter(to_plot[:,0], to_plot[:,1], label=\"Annotators\")\n",
    "plt.scatter(centroids_plot_G[:,0], centroids_plot_G[:,1], s=150,marker=\"*\", color='g',label=\"Centroids Global\")\n",
    "plt.scatter(centroids_plot_I2[:,0], centroids_plot_I2[:,1],s=150, marker=\"X\", color='magenta',label=\"Centroids Individual 2\")\n",
    "plt.scatter(centroids_plot_I3[:,0], centroids_plot_I3[:,1], s=150, marker=\"X\", color='hotpink',label=\"Centroids Individual 3\")\n",
    "\n",
    "plt.legend()\n",
    "plt.show()"
   ]
  },
  {
   "cell_type": "code",
   "execution_count": null,
   "metadata": {},
   "outputs": [],
   "source": [
    "##plotear probabilidades de matriz  de conf.."
   ]
  },
  {
   "cell_type": "code",
   "execution_count": null,
   "metadata": {},
   "outputs": [],
   "source": []
  }
 ],
 "metadata": {
  "kernelspec": {
   "display_name": "Python [conda env:tesis]",
   "language": "python",
   "name": "conda-env-tesis-py"
  },
  "language_info": {
   "codemirror_mode": {
    "name": "ipython",
    "version": 3
   },
   "file_extension": ".py",
   "mimetype": "text/x-python",
   "name": "python",
   "nbconvert_exporter": "python",
   "pygments_lexer": "ipython3",
   "version": "3.5.5"
  }
 },
 "nbformat": 4,
 "nbformat_minor": 2
}
