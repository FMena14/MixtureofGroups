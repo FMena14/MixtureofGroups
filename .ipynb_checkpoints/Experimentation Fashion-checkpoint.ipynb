{
 "cells": [
  {
   "cell_type": "code",
   "execution_count": 13,
   "metadata": {},
   "outputs": [],
   "source": [
    "### tol 5 o 3??"
   ]
  },
  {
   "cell_type": "code",
   "execution_count": 1,
   "metadata": {},
   "outputs": [
    {
     "name": "stderr",
     "output_type": "stream",
     "text": [
      "Using TensorFlow backend.\n"
     ]
    }
   ],
   "source": [
    "import numpy as np\n",
    "import pandas as pd\n",
    "import matplotlib.pyplot as plt\n",
    "import seaborn as sns\n",
    "import keras, time, sys, os, gc\n",
    "\n",
    "DTYPE_OP = 'float32'\n",
    "keras.backend.set_floatx(DTYPE_OP)\n",
    "\n",
    "if DTYPE_OP == 'float64':\n",
    "    keras.backend.set_epsilon(np.finfo(np.float64).eps)\n",
    "elif DTYPE_OP == 'float32':\n",
    "    keras.backend.set_epsilon(np.finfo(np.float32).eps)"
   ]
  },
  {
   "cell_type": "code",
   "execution_count": 2,
   "metadata": {},
   "outputs": [],
   "source": [
    "#GLOBAL Variables\n",
    "BATCH_SIZE = 128 #rodrigues = BATCH_SIZE = 64\n",
    "EPOCHS_BASE = 50\n",
    "OPT = 'adam' #optimizer for neural network \n",
    "TOL = 3e-2"
   ]
  },
  {
   "cell_type": "code",
   "execution_count": 3,
   "metadata": {},
   "outputs": [],
   "source": [
    "label_names = ['not app', 'no person', 'yes', 'no'] # Q4: Person wearing fashion?\n",
    "folder = \"./Fashion10000/\""
   ]
  },
  {
   "cell_type": "markdown",
   "metadata": {},
   "source": [
    "### Load Data and preprocess"
   ]
  },
  {
   "cell_type": "code",
   "execution_count": 4,
   "metadata": {},
   "outputs": [
    {
     "data": {
      "text/plain": [
       "(31077, 512)"
      ]
     },
     "execution_count": 4,
     "metadata": {},
     "output_type": "execute_result"
    }
   ],
   "source": [
    "X_vgg16 = np.load(folder+\"Fashion10000_VGG_avg_all.npy\")\n",
    "X_vgg16.shape"
   ]
  },
  {
   "cell_type": "code",
   "execution_count": 5,
   "metadata": {},
   "outputs": [],
   "source": [
    "Q_s = \"Q4\" #question selected\n",
    "p_error = \"0.6\" #Q3: cerca de 82-84.. valores varian 2% "
   ]
  },
  {
   "cell_type": "code",
   "execution_count": 6,
   "metadata": {
    "scrolled": true
   },
   "outputs": [
    {
     "name": "stdout",
     "output_type": "stream",
     "text": [
      "Input train shape: (25137, 512)\n",
      "Label train shape: (25137,)\n",
      "Input test shape: (1968, 512)\n",
      "Label test shape: (1968,)\n"
     ]
    }
   ],
   "source": [
    "sets = np.loadtxt(folder+\"sets_\"+p_error+\"_\"+Q_s+\".txt\", dtype='U')\n",
    "mask_train = sets == \"train\"\n",
    "mask_test = sets == \"test\"\n",
    "\n",
    "Z_data = np.loadtxt(folder+\"Z_data_\"+Q_s+\".txt\",dtype='int')\n",
    "Z_train = Z_data[mask_train]\n",
    "Z_test = Z_data[mask_test]\n",
    "\n",
    "X_train_vgg16 = X_vgg16[mask_train]\n",
    "X_test_vgg16 = X_vgg16[mask_test]\n",
    "\n",
    "X_val_vgg16 = X_test_vgg16\n",
    "Z_val = Z_test\n",
    "\n",
    "print(\"Input train shape:\",X_train_vgg16.shape)\n",
    "print(\"Label train shape:\",Z_train.shape)\n",
    "\n",
    "print(\"Input test shape:\",X_test_vgg16.shape)\n",
    "print(\"Label test shape:\",Z_test.shape)"
   ]
  },
  {
   "cell_type": "code",
   "execution_count": 27,
   "metadata": {
    "scrolled": true
   },
   "outputs": [
    {
     "ename": "KeyboardInterrupt",
     "evalue": "",
     "output_type": "error",
     "traceback": [
      "\u001b[0;31m---------------------------------------------------------------------------\u001b[0m",
      "\u001b[0;31mKeyboardInterrupt\u001b[0m                         Traceback (most recent call last)",
      "\u001b[0;32m<ipython-input-27-9d9480212935>\u001b[0m in \u001b[0;36m<module>\u001b[0;34m()\u001b[0m\n\u001b[1;32m      9\u001b[0m \u001b[0mmask_sets\u001b[0m\u001b[0;34m[\u001b[0m\u001b[0mmask_test\u001b[0m\u001b[0;34m]\u001b[0m \u001b[0;34m=\u001b[0m \u001b[0;34m\"test\"\u001b[0m\u001b[0;34m\u001b[0m\u001b[0m\n\u001b[1;32m     10\u001b[0m \u001b[0;34m\u001b[0m\u001b[0m\n\u001b[0;32m---> 11\u001b[0;31m \u001b[0my_obs\u001b[0m \u001b[0;34m=\u001b[0m \u001b[0mnp\u001b[0m\u001b[0;34m.\u001b[0m\u001b[0mloadtxt\u001b[0m\u001b[0;34m(\u001b[0m\u001b[0mfolder\u001b[0m\u001b[0;34m+\u001b[0m\u001b[0;34m\"answers_\"\u001b[0m\u001b[0;34m+\u001b[0m\u001b[0mp_error\u001b[0m\u001b[0;34m+\u001b[0m\u001b[0;34m\"_\"\u001b[0m\u001b[0;34m+\u001b[0m\u001b[0mQ_s\u001b[0m\u001b[0;34m+\u001b[0m\u001b[0;34m\".txt\"\u001b[0m\u001b[0;34m,\u001b[0m\u001b[0mdtype\u001b[0m\u001b[0;34m=\u001b[0m\u001b[0;34m'int16'\u001b[0m\u001b[0;34m)\u001b[0m\u001b[0;31m#not annotation symbol ==-1\u001b[0m\u001b[0;34m\u001b[0m\u001b[0m\n\u001b[0m\u001b[1;32m     12\u001b[0m \u001b[0;34m\u001b[0m\u001b[0m\n\u001b[1;32m     13\u001b[0m \u001b[0mnp\u001b[0m\u001b[0;34m.\u001b[0m\u001b[0msavetxt\u001b[0m\u001b[0;34m(\u001b[0m\u001b[0mfolder\u001b[0m\u001b[0;34m+\u001b[0m\u001b[0;34m\"sets_\"\u001b[0m\u001b[0;34m+\u001b[0m\u001b[0mp_error\u001b[0m\u001b[0;34m+\u001b[0m\u001b[0;34m\"_\"\u001b[0m\u001b[0;34m+\u001b[0m\u001b[0mQ_s\u001b[0m\u001b[0;34m+\u001b[0m\u001b[0;34m\".txt\"\u001b[0m\u001b[0;34m,\u001b[0m \u001b[0mmask_sets\u001b[0m\u001b[0;34m,\u001b[0m\u001b[0mdelimiter\u001b[0m\u001b[0;34m=\u001b[0m\u001b[0;34m' '\u001b[0m\u001b[0;34m,\u001b[0m \u001b[0mfmt\u001b[0m\u001b[0;34m=\u001b[0m\u001b[0;34m'%s'\u001b[0m\u001b[0;34m)\u001b[0m\u001b[0;34m\u001b[0m\u001b[0m\n",
      "\u001b[0;32m~/anaconda3/envs/tesis/lib/python3.5/site-packages/numpy/lib/npyio.py\u001b[0m in \u001b[0;36mloadtxt\u001b[0;34m(fname, dtype, comments, delimiter, converters, skiprows, usecols, unpack, ndmin, encoding, max_rows)\u001b[0m\n\u001b[1;32m   1144\u001b[0m         \u001b[0;31m# converting the data\u001b[0m\u001b[0;34m\u001b[0m\u001b[0;34m\u001b[0m\u001b[0m\n\u001b[1;32m   1145\u001b[0m         \u001b[0mX\u001b[0m \u001b[0;34m=\u001b[0m \u001b[0;32mNone\u001b[0m\u001b[0;34m\u001b[0m\u001b[0m\n\u001b[0;32m-> 1146\u001b[0;31m         \u001b[0;32mfor\u001b[0m \u001b[0mx\u001b[0m \u001b[0;32min\u001b[0m \u001b[0mread_data\u001b[0m\u001b[0;34m(\u001b[0m\u001b[0m_loadtxt_chunksize\u001b[0m\u001b[0;34m)\u001b[0m\u001b[0;34m:\u001b[0m\u001b[0;34m\u001b[0m\u001b[0m\n\u001b[0m\u001b[1;32m   1147\u001b[0m             \u001b[0;32mif\u001b[0m \u001b[0mX\u001b[0m \u001b[0;32mis\u001b[0m \u001b[0;32mNone\u001b[0m\u001b[0;34m:\u001b[0m\u001b[0;34m\u001b[0m\u001b[0m\n\u001b[1;32m   1148\u001b[0m                 \u001b[0mX\u001b[0m \u001b[0;34m=\u001b[0m \u001b[0mnp\u001b[0m\u001b[0;34m.\u001b[0m\u001b[0marray\u001b[0m\u001b[0;34m(\u001b[0m\u001b[0mx\u001b[0m\u001b[0;34m,\u001b[0m \u001b[0mdtype\u001b[0m\u001b[0;34m)\u001b[0m\u001b[0;34m\u001b[0m\u001b[0m\n",
      "\u001b[0;32m~/anaconda3/envs/tesis/lib/python3.5/site-packages/numpy/lib/npyio.py\u001b[0m in \u001b[0;36mread_data\u001b[0;34m(chunk_size)\u001b[0m\n\u001b[1;32m   1072\u001b[0m \u001b[0;34m\u001b[0m\u001b[0m\n\u001b[1;32m   1073\u001b[0m             \u001b[0;31m# Convert each value according to its column and store\u001b[0m\u001b[0;34m\u001b[0m\u001b[0;34m\u001b[0m\u001b[0m\n\u001b[0;32m-> 1074\u001b[0;31m             \u001b[0mitems\u001b[0m \u001b[0;34m=\u001b[0m \u001b[0;34m[\u001b[0m\u001b[0mconv\u001b[0m\u001b[0;34m(\u001b[0m\u001b[0mval\u001b[0m\u001b[0;34m)\u001b[0m \u001b[0;32mfor\u001b[0m \u001b[0;34m(\u001b[0m\u001b[0mconv\u001b[0m\u001b[0;34m,\u001b[0m \u001b[0mval\u001b[0m\u001b[0;34m)\u001b[0m \u001b[0;32min\u001b[0m \u001b[0mzip\u001b[0m\u001b[0;34m(\u001b[0m\u001b[0mconverters\u001b[0m\u001b[0;34m,\u001b[0m \u001b[0mvals\u001b[0m\u001b[0;34m)\u001b[0m\u001b[0;34m]\u001b[0m\u001b[0;34m\u001b[0m\u001b[0m\n\u001b[0m\u001b[1;32m   1075\u001b[0m \u001b[0;34m\u001b[0m\u001b[0m\n\u001b[1;32m   1076\u001b[0m             \u001b[0;31m# Then pack it according to the dtype's nesting\u001b[0m\u001b[0;34m\u001b[0m\u001b[0;34m\u001b[0m\u001b[0m\n",
      "\u001b[0;32m~/anaconda3/envs/tesis/lib/python3.5/site-packages/numpy/lib/npyio.py\u001b[0m in \u001b[0;36m<listcomp>\u001b[0;34m(.0)\u001b[0m\n\u001b[1;32m   1072\u001b[0m \u001b[0;34m\u001b[0m\u001b[0m\n\u001b[1;32m   1073\u001b[0m             \u001b[0;31m# Convert each value according to its column and store\u001b[0m\u001b[0;34m\u001b[0m\u001b[0;34m\u001b[0m\u001b[0m\n\u001b[0;32m-> 1074\u001b[0;31m             \u001b[0mitems\u001b[0m \u001b[0;34m=\u001b[0m \u001b[0;34m[\u001b[0m\u001b[0mconv\u001b[0m\u001b[0;34m(\u001b[0m\u001b[0mval\u001b[0m\u001b[0;34m)\u001b[0m \u001b[0;32mfor\u001b[0m \u001b[0;34m(\u001b[0m\u001b[0mconv\u001b[0m\u001b[0;34m,\u001b[0m \u001b[0mval\u001b[0m\u001b[0;34m)\u001b[0m \u001b[0;32min\u001b[0m \u001b[0mzip\u001b[0m\u001b[0;34m(\u001b[0m\u001b[0mconverters\u001b[0m\u001b[0;34m,\u001b[0m \u001b[0mvals\u001b[0m\u001b[0;34m)\u001b[0m\u001b[0;34m]\u001b[0m\u001b[0;34m\u001b[0m\u001b[0m\n\u001b[0m\u001b[1;32m   1075\u001b[0m \u001b[0;34m\u001b[0m\u001b[0m\n\u001b[1;32m   1076\u001b[0m             \u001b[0;31m# Then pack it according to the dtype's nesting\u001b[0m\u001b[0;34m\u001b[0m\u001b[0;34m\u001b[0m\u001b[0m\n",
      "\u001b[0;32m~/anaconda3/envs/tesis/lib/python3.5/site-packages/numpy/lib/npyio.py\u001b[0m in \u001b[0;36m<lambda>\u001b[0;34m(x)\u001b[0m\n\u001b[1;32m    789\u001b[0m         \u001b[0;32mreturn\u001b[0m \u001b[0mnp\u001b[0m\u001b[0;34m.\u001b[0m\u001b[0mint64\u001b[0m\u001b[0;34m\u001b[0m\u001b[0m\n\u001b[1;32m    790\u001b[0m     \u001b[0;32mif\u001b[0m \u001b[0missubclass\u001b[0m\u001b[0;34m(\u001b[0m\u001b[0mtyp\u001b[0m\u001b[0;34m,\u001b[0m \u001b[0mnp\u001b[0m\u001b[0;34m.\u001b[0m\u001b[0minteger\u001b[0m\u001b[0;34m)\u001b[0m\u001b[0;34m:\u001b[0m\u001b[0;34m\u001b[0m\u001b[0m\n\u001b[0;32m--> 791\u001b[0;31m         \u001b[0;32mreturn\u001b[0m \u001b[0;32mlambda\u001b[0m \u001b[0mx\u001b[0m\u001b[0;34m:\u001b[0m \u001b[0mint\u001b[0m\u001b[0;34m(\u001b[0m\u001b[0mfloat\u001b[0m\u001b[0;34m(\u001b[0m\u001b[0mx\u001b[0m\u001b[0;34m)\u001b[0m\u001b[0;34m)\u001b[0m\u001b[0;34m\u001b[0m\u001b[0m\n\u001b[0m\u001b[1;32m    792\u001b[0m     \u001b[0;32melif\u001b[0m \u001b[0missubclass\u001b[0m\u001b[0;34m(\u001b[0m\u001b[0mtyp\u001b[0m\u001b[0;34m,\u001b[0m \u001b[0mnp\u001b[0m\u001b[0;34m.\u001b[0m\u001b[0mlongdouble\u001b[0m\u001b[0;34m)\u001b[0m\u001b[0;34m:\u001b[0m\u001b[0;34m\u001b[0m\u001b[0m\n\u001b[1;32m    793\u001b[0m         \u001b[0;32mreturn\u001b[0m \u001b[0mnp\u001b[0m\u001b[0;34m.\u001b[0m\u001b[0mlongdouble\u001b[0m\u001b[0;34m\u001b[0m\u001b[0m\n",
      "\u001b[0;31mKeyboardInterrupt\u001b[0m: "
     ]
    }
   ],
   "source": [
    "## create new test...\n",
    "mask_val = np.random.rand(Z_train.shape[0]) < 0.25 #0.33\n",
    "\n",
    "mask_test[mask_train] = mask_val #test selected to be test\n",
    "mask_train[mask_train] = ~mask_val #train extracted to be test..\n",
    "\n",
    "mask_sets = np.asarray([\"aux\" for _ in range(Z_data.shape[0])]).astype(\"U5\")\n",
    "mask_sets[mask_train] = \"train\"\n",
    "mask_sets[mask_test] = \"test\"\n",
    "\n",
    "y_obs = np.loadtxt(folder+\"answers_\"+p_error+\"_\"+Q_s+\".txt\",dtype='int16')#not annotation symbol ==-1\n",
    "\n",
    "np.savetxt(folder+\"sets_\"+p_error+\"_\"+Q_s+\".txt\", mask_sets,delimiter=' ', fmt='%s')\n",
    "np.savetxt(folder+\"answers_\"+p_error+\"_\"+Q_s+\".txt\", y_obs[~mask_val], delimiter=' ', fmt='%d')"
   ]
  },
  {
   "cell_type": "code",
   "execution_count": 7,
   "metadata": {},
   "outputs": [],
   "source": [
    "#created before..\n",
    "mask_val = np.random.rand(Z_train.shape[0]) < 0.33 #0.25 #0.33"
   ]
  },
  {
   "cell_type": "code",
   "execution_count": 63,
   "metadata": {},
   "outputs": [
    {
     "name": "stdout",
     "output_type": "stream",
     "text": [
      "Input train shape: (18201, 512)\n",
      "Label train shape: (18201,)\n",
      "Input val shape: (8904, 512)\n",
      "Label val shape: (8904,)\n"
     ]
    }
   ],
   "source": [
    "X_val_vgg16 = X_train_vgg16[mask_val]\n",
    "X_train_vgg16 = X_train_vgg16[~mask_val]\n",
    "Z_val = Z_train[mask_val]\n",
    "Z_train = Z_train[~mask_val]\n",
    "\n",
    "X_val_vgg16 = np.concatenate([X_val_vgg16,X_test_vgg16])\n",
    "Z_val = np.concatenate([Z_val,Z_test])\n",
    "\n",
    "\n",
    "print(\"Input train shape:\",X_train_vgg16.shape)\n",
    "print(\"Label train shape:\",Z_train.shape)\n",
    "\n",
    "print(\"Input val shape:\",X_val_vgg16.shape)\n",
    "print(\"Label val shape:\",Z_val.shape)"
   ]
  },
  {
   "cell_type": "code",
   "execution_count": 7,
   "metadata": {},
   "outputs": [],
   "source": [
    "Xstd_train = X_train_vgg16\n",
    "Xstd_val = X_val_vgg16\n",
    "Xstd_test = X_test_vgg16"
   ]
  },
  {
   "cell_type": "code",
   "execution_count": 70,
   "metadata": {},
   "outputs": [],
   "source": [
    "from sklearn.preprocessing import StandardScaler\n",
    "std = StandardScaler().fit(X_train_vgg16)\n",
    "Xstd_train = std.transform(X_train_vgg16)\n",
    "Xstd_val = std.transform(X_val_vgg16)\n",
    "Xstd_test = std.transform(X_test_vgg16)"
   ]
  },
  {
   "cell_type": "code",
   "execution_count": 8,
   "metadata": {
    "scrolled": true
   },
   "outputs": [
    {
     "data": {
      "image/png": "[encoded data removed]",
      "text/plain": [
       "<Figure size 432x288 with 1 Axes>"
      ]
     },
     "metadata": {
      "needs_background": "light"
     },
     "output_type": "display_data"
    },
    {
     "data": {
      "image/png": "[encoded data removed]",
      "text/plain": [
       "<Figure size 432x288 with 1 Axes>"
      ]
     },
     "metadata": {
      "needs_background": "light"
     },
     "output_type": "display_data"
    }
   ],
   "source": [
    "sns.countplot(Z_train)\n",
    "plt.xticks(np.arange(len(label_names)), label_names)\n",
    "plt.show()\n",
    "\n",
    "sns.countplot(Z_test)\n",
    "plt.xticks(np.arange(len(label_names)), label_names)\n",
    "plt.show()"
   ]
  },
  {
   "cell_type": "markdown",
   "metadata": {},
   "source": [
    "### Load annotations / Generate"
   ]
  },
  {
   "cell_type": "code",
   "execution_count": 8,
   "metadata": {
    "scrolled": true
   },
   "outputs": [
    {
     "name": "stdout",
     "output_type": "stream",
     "text": [
      "Loading AMT data...\n",
      "Remove 0 annotators that do not annotate on this set \n",
      "Shape (data,annotators):  (25137, 1389)\n",
      "Classes:  4\n"
     ]
    }
   ],
   "source": [
    "from code.representation import *\n",
    "from code.utils import *\n",
    "\n",
    "# data from Amazon Mechanical Turk\n",
    "print(\"Loading AMT data...\")\n",
    "y_obs = np.loadtxt(folder+\"answers_\"+p_error+\"_\"+Q_s+\".txt\",dtype='int16')#not annotation symbol ==-1\n",
    "#y_obs = y_obs[~mask_val]\n",
    "T_weights = np.sum(y_obs != -1,axis=0) #distribucion de anotaciones\n",
    "\n",
    "print(\"Remove %d annotators that do not annotate on this set \"%(np.sum(T_weights==0)))\n",
    "y_obs = y_obs[:,T_weights!=0]\n",
    "T_weights = np.sum(y_obs != -1,axis=0) #distribucion de anotaciones\n",
    "\n",
    "N,T = y_obs.shape\n",
    "Kl = np.max(y_obs)+1 # asumiendo que estan ordenadas\n",
    "print(\"Shape (data,annotators): \",(N,T))\n",
    "print(\"Classes: \",Kl)"
   ]
  },
  {
   "cell_type": "code",
   "execution_count": null,
   "metadata": {},
   "outputs": [],
   "source": [
    "#every annotation is one annotator\n",
    "total_annotations = T_weights.sum(axis=0)\n",
    "new_annotations = np.ones((N, total_annotations),dtype='int16')*-1\n",
    "t_aux = 0\n",
    "for i in range(y_obs.shape[0]):\n",
    "    for t in range(y_obs.shape[1]):\n",
    "        if y_obs[i,t] != -1:\n",
    "            new_annotations[i,t_aux] = y_obs[i,t]\n",
    "            t_aux+=1\n",
    "new_annotations.shape"
   ]
  },
  {
   "cell_type": "code",
   "execution_count": 30,
   "metadata": {
    "collapsed": true
   },
   "outputs": [],
   "source": [
    "np.savetxt(folder+\"answers_v2.txt\",new_annotations, delimiter=\",\", fmt=\"%i\")"
   ]
  },
  {
   "cell_type": "code",
   "execution_count": 9,
   "metadata": {
    "scrolled": true
   },
   "outputs": [
    {
     "data": {
      "text/plain": [
       "array([[[0.49019608, 0.23529412, 0.11764706, 0.15686275],\n",
       "        [0.04166667, 0.625     , 0.1875    , 0.14583333],\n",
       "        [0.        , 0.        , 0.8867925 , 0.11320755],\n",
       "        [0.        , 0.        , 0.7906977 , 0.20930232]],\n",
       "\n",
       "       [[1.        , 0.        , 0.        , 0.        ],\n",
       "        [0.67741936, 0.29032257, 0.        , 0.03225806],\n",
       "        [0.        , 0.        , 0.46666667, 0.53333336],\n",
       "        [0.2       , 0.05      , 0.05      , 0.7       ]],\n",
       "\n",
       "       [[0.5       , 0.5       , 0.        , 0.        ],\n",
       "        [0.        , 1.        , 0.        , 0.        ],\n",
       "        [0.        , 0.        , 0.        , 1.        ],\n",
       "        [0.        , 0.        , 0.5       , 0.5       ]],\n",
       "\n",
       "       ...,\n",
       "\n",
       "       [[0.25      , 0.25      , 0.25      , 0.25      ],\n",
       "        [0.        , 1.        , 0.        , 0.        ],\n",
       "        [0.25      , 0.25      , 0.25      , 0.25      ],\n",
       "        [1.        , 0.        , 0.        , 0.        ]],\n",
       "\n",
       "       [[0.        , 1.        , 0.        , 0.        ],\n",
       "        [0.25      , 0.25      , 0.25      , 0.25      ],\n",
       "        [0.25      , 0.25      , 0.25      , 0.25      ],\n",
       "        [0.        , 0.        , 1.        , 0.        ]],\n",
       "\n",
       "       [[0.25      , 0.25      , 0.25      , 0.25      ],\n",
       "        [0.        , 1.        , 0.        , 0.        ],\n",
       "        [0.25      , 0.25      , 0.25      , 0.25      ],\n",
       "        [0.25      , 0.25      , 0.25      , 0.25      ]]], dtype=float32)"
      ]
     },
     "execution_count": 9,
     "metadata": {},
     "output_type": "execute_result"
    }
   ],
   "source": [
    "#generate conf matrix...\n",
    "confe_matrix_R = np.zeros((T,Kl,Kl),dtype=DTYPE_OP) #rodrigues add epsilon here\n",
    "for t in range(T):    \n",
    "    for i in range(N):\n",
    "        if y_obs[i,t] != -1:\n",
    "            confe_matrix_R[t,Z_train[i],y_obs[i,t]] +=1\n",
    "            \n",
    "    mask_nan = confe_matrix_R[t,:,:].sum(axis=-1) == 0\n",
    "    mean_replace = np.mean(confe_matrix_R[t,:,:][~mask_nan],axis=0)\n",
    "    for value in np.arange(Kl)[mask_nan]:\n",
    "        #how to fill where she not annotate?? -- \n",
    "        confe_matrix_R[t,value,:] =  1 #Rodrigues 1./K -- similar  to laplace smooth (prior 1)\n",
    "        #confe_matrix[t,value,:] = mean_replace #Ours\n",
    "    confe_matrix_R[t,:,:] = confe_matrix_R[t,:,:]/confe_matrix_R[t,:,:].sum(axis=-1,keepdims=True) #normalize\n",
    "confe_matrix_R"
   ]
  },
  {
   "cell_type": "code",
   "execution_count": 10,
   "metadata": {
    "scrolled": true
   },
   "outputs": [
    {
     "data": {
      "image/png": "[encoded data removed]",
      "text/plain": [
       "<Figure size 432x288 with 1 Axes>"
      ]
     },
     "metadata": {
      "needs_background": "light"
     },
     "output_type": "display_data"
    },
    {
     "name": "stdout",
     "output_type": "stream",
     "text": [
      "Minimum annotations in a example:  1\n",
      "Maximum annotations in a example:  5\n",
      "T data (expected value):  1.7667979472490751\n",
      "Graphics of T weights\n"
     ]
    },
    {
     "data": {
      "image/png": "[encoded data removed]",
      "text/plain": [
       "<Figure size 432x288 with 1 Axes>"
      ]
     },
     "metadata": {
      "needs_background": "light"
     },
     "output_type": "display_data"
    },
    {
     "data": {
      "image/png": "[encoded data removed]",
      "text/plain": [
       "<Figure size 432x288 with 1 Axes>"
      ]
     },
     "metadata": {
      "needs_background": "light"
     },
     "output_type": "display_data"
    },
    {
     "name": "stdout",
     "output_type": "stream",
     "text": [
      "Minimum annotations by an annotator:  1\n",
      "Maximum annotations by an annotator:  872\n",
      "Mean annotations by an annotator:  31.974082073434126\n"
     ]
    }
   ],
   "source": [
    "#graphics and distribution? what is T_data\n",
    "N_ann = np.sum(y_obs != -1,axis=1) #distribucion de anotaciones con este valor\n",
    "\n",
    "sns.countplot(N_ann)\n",
    "plt.show()\n",
    "print(\"Minimum annotations in a example: \",N_ann.min())\n",
    "print(\"Maximum annotations in a example: \",N_ann.max())\n",
    "print(\"T data (expected value): \",N_ann.mean())\n",
    "\n",
    "print(\"Graphics of T weights\")\n",
    "plt.hist(T_weights)\n",
    "plt.show()\n",
    "\n",
    "plt.boxplot(T_weights)\n",
    "plt.show()\n",
    "print(\"Minimum annotations by an annotator: \",T_weights.min())\n",
    "print(\"Maximum annotations by an annotator: \",T_weights.max())\n",
    "print(\"Mean annotations by an annotator: \",T_weights.mean())"
   ]
  },
  {
   "cell_type": "markdown",
   "metadata": {},
   "source": [
    "#### Delta Convergence criteria"
   ]
  },
  {
   "cell_type": "code",
   "execution_count": 11,
   "metadata": {},
   "outputs": [],
   "source": [
    "from code.learning_models import LogisticRegression_Sklearn,LogisticRegression_Keras,MLP_Keras\n",
    "#deep learning\n",
    "from code.learning_models import default_CNN,default_RNN,CNN_simple, RNN_simple, Clonable_Model\n",
    "\n",
    "from code.utils import EarlyStopRelative\n",
    "ourCallback = EarlyStopRelative(monitor='loss',patience=1,min_delta=TOL)"
   ]
  },
  {
   "cell_type": "markdown",
   "metadata": {},
   "source": [
    "### Upper Bound Model -- ideal"
   ]
  },
  {
   "cell_type": "code",
   "execution_count": 12,
   "metadata": {
    "scrolled": true
   },
   "outputs": [
    {
     "name": "stdout",
     "output_type": "stream",
     "text": [
      "Trained IDeal Model, Epochs to converge = 4\n"
     ]
    }
   ],
   "source": [
    "Z_train_onehot = keras.utils.to_categorical(Z_train, num_classes=Kl)\n",
    "\n",
    "model_UB = MLP_Keras(Xstd_train.shape[1:],Z_train_onehot.shape[1],128,1,BN=True,drop=0.5) \n",
    "model_UB.compile(loss='categorical_crossentropy',optimizer=OPT)\n",
    "hist=model_UB.fit(Xstd_train,Z_train_onehot,epochs=EPOCHS_BASE,batch_size=BATCH_SIZE,verbose=0,callbacks=[ourCallback])\n",
    "\n",
    "clone_UB = Clonable_Model(model_UB)\n",
    "print(\"Trained IDeal Model, Epochs to converge =\",len(hist.epoch))\n",
    "Z_train_pred = model_UB.predict_classes(Xstd_train)\n",
    "Z_val_pred = model_UB.predict_classes(Xstd_val)\n",
    "Z_test_pred = model_UB.predict_classes(Xstd_test)"
   ]
  },
  {
   "cell_type": "code",
   "execution_count": null,
   "metadata": {},
   "outputs": [],
   "source": []
  },
  {
   "cell_type": "code",
   "execution_count": 52,
   "metadata": {},
   "outputs": [],
   "source": [
    "Kl = Z_train.max()+1\n",
    "Z_train_onehot = keras.utils.to_categorical(Z_train, num_classes=Kl)\n",
    "Z_val_onehot = keras.utils.to_categorical(Z_val, num_classes=Kl)\n",
    "Z_test_onehot = keras.utils.to_categorical(Z_test, num_classes=Kl)"
   ]
  },
  {
   "cell_type": "code",
   "execution_count": 53,
   "metadata": {
    "scrolled": true
   },
   "outputs": [
    {
     "name": "stdout",
     "output_type": "stream",
     "text": [
      "_________________________________________________________________\n",
      "Layer (type)                 Output Shape              Param #   \n",
      "=================================================================\n",
      "input_1 (InputLayer)         (None, 512)               0         \n",
      "_________________________________________________________________\n",
      "dense_1 (Dense)              (None, 128)               65664     \n",
      "_________________________________________________________________\n",
      "dropout_1 (Dropout)          (None, 128)               0         \n",
      "_________________________________________________________________\n",
      "dense_2 (Dense)              (None, 128)               16512     \n",
      "_________________________________________________________________\n",
      "dropout_2 (Dropout)          (None, 128)               0         \n",
      "_________________________________________________________________\n",
      "dense_3 (Dense)              (None, 4)                 516       \n",
      "_________________________________________________________________\n",
      "activation_1 (Activation)    (None, 4)                 0         \n",
      "=================================================================\n",
      "Total params: 82,692\n",
      "Trainable params: 82,692\n",
      "Non-trainable params: 0\n",
      "_________________________________________________________________\n",
      "Train on 25027 samples, validate on 2078 samples\n",
      "Epoch 1/50\n",
      "25027/25027 [==============================] - 1s 49us/step - loss: 9.2896 - acc: 0.3975 - val_loss: 4.8659 - val_acc: 0.6785\n",
      "Epoch 2/50\n",
      "25027/25027 [==============================] - 1s 36us/step - loss: 7.5863 - acc: 0.5080 - val_loss: 4.6786 - val_acc: 0.6935\n",
      "Epoch 3/50\n",
      "25027/25027 [==============================] - 1s 35us/step - loss: 7.1706 - acc: 0.5284 - val_loss: 4.7993 - val_acc: 0.6848\n",
      "Epoch 4/50\n",
      "25027/25027 [==============================] - 1s 36us/step - loss: 7.0418 - acc: 0.5384 - val_loss: 4.9714 - val_acc: 0.6675\n"
     ]
    }
   ],
   "source": [
    "model_UB = MLP_Keras(Xstd_train.shape[1:],Z_train_onehot.shape[1],128,2,BN=False,drop=0.5) #true bn?\n",
    "model_UB.compile(loss='categorical_crossentropy',optimizer=OPT, metrics=[\"acc\"])\n",
    "model_UB.summary()\n",
    "hist=model_UB.fit(Xstd_train,Z_train_onehot,epochs=EPOCHS_BASE,batch_size=BATCH_SIZE,verbose=1,callbacks=[ourCallback]\n",
    "                  ,validation_data=(Xstd_val,Z_val_onehot))"
   ]
  },
  {
   "cell_type": "code",
   "execution_count": 54,
   "metadata": {
    "scrolled": true
   },
   "outputs": [
    {
     "name": "stdout",
     "output_type": "stream",
     "text": [
      "_________________________________________________________________\n",
      "Layer (type)                 Output Shape              Param #   \n",
      "=================================================================\n",
      "input_2 (InputLayer)         (None, 512)               0         \n",
      "_________________________________________________________________\n",
      "dense_4 (Dense)              (None, 128)               65664     \n",
      "_________________________________________________________________\n",
      "batch_normalization_1 (Batch (None, 128)               512       \n",
      "_________________________________________________________________\n",
      "dropout_3 (Dropout)          (None, 128)               0         \n",
      "_________________________________________________________________\n",
      "dense_5 (Dense)              (None, 4)                 516       \n",
      "_________________________________________________________________\n",
      "activation_2 (Activation)    (None, 4)                 0         \n",
      "=================================================================\n",
      "Total params: 66,692\n",
      "Trainable params: 66,436\n",
      "Non-trainable params: 256\n",
      "_________________________________________________________________\n",
      "Train on 25027 samples, validate on 2078 samples\n",
      "Epoch 1/50\n",
      "25027/25027 [==============================] - 1s 52us/step - loss: 1.2170 - acc: 0.5356 - val_loss: 0.6555 - val_acc: 0.7416\n",
      "Epoch 2/50\n",
      "25027/25027 [==============================] - 1s 41us/step - loss: 0.9524 - acc: 0.5948 - val_loss: 0.6191 - val_acc: 0.7680\n",
      "Epoch 3/50\n",
      "25027/25027 [==============================] - 1s 39us/step - loss: 0.8993 - acc: 0.6170 - val_loss: 0.6280 - val_acc: 0.7671\n",
      "Epoch 4/50\n",
      "25027/25027 [==============================] - 1s 39us/step - loss: 0.8747 - acc: 0.6262 - val_loss: 0.6384 - val_acc: 0.7603\n"
     ]
    }
   ],
   "source": [
    "model_UB = MLP_Keras(Xstd_train.shape[1:],Z_train_onehot.shape[1],128,1,BN=True,drop=0.5) #true bn?\n",
    "model_UB.compile(loss='categorical_crossentropy',optimizer=OPT, metrics=[\"acc\"])\n",
    "model_UB.summary()\n",
    "hist=model_UB.fit(Xstd_train,Z_train_onehot,epochs=EPOCHS_BASE,batch_size=BATCH_SIZE,verbose=1,callbacks=[ourCallback]\n",
    "                  ,validation_data=(Xstd_val,Z_val_onehot))"
   ]
  },
  {
   "cell_type": "code",
   "execution_count": 55,
   "metadata": {
    "scrolled": true
   },
   "outputs": [
    {
     "name": "stdout",
     "output_type": "stream",
     "text": [
      "_________________________________________________________________\n",
      "Layer (type)                 Output Shape              Param #   \n",
      "=================================================================\n",
      "input_3 (InputLayer)         (None, 512)               0         \n",
      "_________________________________________________________________\n",
      "dense_6 (Dense)              (None, 128)               65664     \n",
      "_________________________________________________________________\n",
      "batch_normalization_2 (Batch (None, 128)               512       \n",
      "_________________________________________________________________\n",
      "dropout_4 (Dropout)          (None, 128)               0         \n",
      "_________________________________________________________________\n",
      "dense_7 (Dense)              (None, 128)               16512     \n",
      "_________________________________________________________________\n",
      "batch_normalization_3 (Batch (None, 128)               512       \n",
      "_________________________________________________________________\n",
      "dropout_5 (Dropout)          (None, 128)               0         \n",
      "_________________________________________________________________\n",
      "dense_8 (Dense)              (None, 4)                 516       \n",
      "_________________________________________________________________\n",
      "activation_3 (Activation)    (None, 4)                 0         \n",
      "=================================================================\n",
      "Total params: 83,716\n",
      "Trainable params: 83,204\n",
      "Non-trainable params: 512\n",
      "_________________________________________________________________\n",
      "Train on 25027 samples, validate on 2078 samples\n",
      "Epoch 1/50\n",
      "25027/25027 [==============================] - 2s 68us/step - loss: 1.3661 - acc: 0.4860 - val_loss: 0.6672 - val_acc: 0.7392\n",
      "Epoch 2/50\n",
      "25027/25027 [==============================] - 1s 40us/step - loss: 1.0129 - acc: 0.5631 - val_loss: 0.6341 - val_acc: 0.7575\n",
      "Epoch 3/50\n",
      "25027/25027 [==============================] - 1s 40us/step - loss: 0.9371 - acc: 0.5916 - val_loss: 0.6349 - val_acc: 0.7700\n",
      "Epoch 4/50\n",
      "25027/25027 [==============================] - 1s 38us/step - loss: 0.9086 - acc: 0.6058 - val_loss: 0.6115 - val_acc: 0.7825\n",
      "Epoch 5/50\n",
      "25027/25027 [==============================] - 1s 55us/step - loss: 0.8950 - acc: 0.6121 - val_loss: 0.6320 - val_acc: 0.7786\n"
     ]
    }
   ],
   "source": [
    "model_UB = MLP_Keras(Xstd_train.shape[1:],Z_train_onehot.shape[1],128,2,BN=True,drop=0.5) #true bn?\n",
    "model_UB.compile(loss='categorical_crossentropy',optimizer=OPT, metrics=[\"acc\"])\n",
    "model_UB.summary()\n",
    "hist=model_UB.fit(Xstd_train,Z_train_onehot,epochs=EPOCHS_BASE,batch_size=BATCH_SIZE,verbose=1,callbacks=[ourCallback]\n",
    "                  ,validation_data=(Xstd_val,Z_val_onehot))"
   ]
  },
  {
   "cell_type": "code",
   "execution_count": null,
   "metadata": {},
   "outputs": [],
   "source": []
  },
  {
   "cell_type": "code",
   "execution_count": null,
   "metadata": {},
   "outputs": [],
   "source": []
  },
  {
   "cell_type": "code",
   "execution_count": 87,
   "metadata": {},
   "outputs": [
    {
     "name": "stdout",
     "output_type": "stream",
     "text": [
      "Trained IDeal Model, Epochs to converge = 4\n"
     ]
    }
   ],
   "source": [
    "clone_UB = Clonable_Model(model_UB)\n",
    "print(\"Trained IDeal Model, Epochs to converge =\",len(hist.epoch))\n",
    "Z_train_pred = model_UB.predict_classes(Xstd_train)\n",
    "Z_test_pred = model_UB.predict_classes(Xstd_test)"
   ]
  },
  {
   "cell_type": "code",
   "execution_count": 91,
   "metadata": {
    "scrolled": true
   },
   "outputs": [
    {
     "data": {
      "image/png": "[encoded data removed]",
      "text/plain": [
       "<Figure size 432x288 with 1 Axes>"
      ]
     },
     "metadata": {
      "needs_background": "light"
     },
     "output_type": "display_data"
    },
    {
     "data": {
      "image/png": "[encoded data removed]",
      "text/plain": [
       "<Figure size 432x288 with 1 Axes>"
      ]
     },
     "metadata": {
      "needs_background": "light"
     },
     "output_type": "display_data"
    }
   ],
   "source": [
    "sns.countplot(Z_train_pred)\n",
    "plt.show()\n",
    "sns.countplot(Z_test_pred)\n",
    "plt.show()"
   ]
  },
  {
   "cell_type": "code",
   "execution_count": 92,
   "metadata": {},
   "outputs": [
    {
     "data": {
      "text/plain": [
       "<matplotlib.legend.Legend at 0x7f2b351a6a58>"
      ]
     },
     "execution_count": 92,
     "metadata": {},
     "output_type": "execute_result"
    },
    {
     "data": {
      "image/png": "[encoded data removed]",
      "text/plain": [
       "<Figure size 432x288 with 1 Axes>"
      ]
     },
     "metadata": {
      "needs_background": "light"
     },
     "output_type": "display_data"
    }
   ],
   "source": [
    "plt.plot(hist.history[\"loss\"],label=\"train\")\n",
    "plt.plot(hist.history[\"val_loss\"])\n",
    "plt.legend()"
   ]
  },
  {
   "cell_type": "markdown",
   "metadata": {},
   "source": [
    "### Infer Labels (without predictive model)"
   ]
  },
  {
   "cell_type": "code",
   "execution_count": 13,
   "metadata": {
    "scrolled": true
   },
   "outputs": [
    {
     "name": "stdout",
     "output_type": "stream",
     "text": [
      "Representation for MV in 1.095452 sec\n",
      "Representation for DS in 0.981089 sec\n",
      "Estimation MV in 0.001869 sec\n",
      "Iter\tlog-likelihood\tdelta-CM\tdelta-ER\tdelta-LL\n",
      "1 \t -47583.25877114918\n",
      "2 \t -46060.27884869213 \t0.0155\t0.319594\t0.032007\n",
      "3 \t -45625.268618768576 \t0.0119\t0.071859\t0.009444\n",
      "4 \t -45382.537427372146 \t0.0071\t0.064271\t0.005320\n",
      "5 \t -45225.3842405607 \t0.0042\t0.060685\t0.003463\n",
      "6 \t -45115.04263587003 \t0.0029\t0.057219\t0.002440\n",
      "7 \t -45034.08758969122 \t0.0023\t0.053829\t0.001794\n",
      "8 \t -44973.30313350427 \t0.0022\t0.050884\t0.001350\n",
      "9 \t -44926.03310724123 \t0.0022\t0.048181\t0.001051\n",
      "10 \t -44888.568921090526 \t0.0022\t0.045685\t0.000834\n",
      "11 \t -44857.94510470734 \t0.0021\t0.043438\t0.000682\n",
      "12 \t -44832.45612988966 \t0.0021\t0.041369\t0.000568\n",
      "13 \t -44810.89119053453 \t0.0020\t0.039196\t0.000481\n",
      "14 \t -44792.30425381032 \t0.0020\t0.036790\t0.000415\n",
      "15 \t -44776.02730837744 \t0.0019\t337.507660\t0.000363\n",
      "16 \t -44761.470048217336 \t0.0019\t0.032699\t0.000325\n",
      "17 \t -44748.23970376747 \t0.0018\t0.030968\t0.000296\n",
      "18 \t -44736.13917431224 \t0.0017\t0.029421\t0.000270\n",
      "Class marginals\n",
      "[0.23 0.2  0.32 0.25]\n",
      "Estimation for DS in 500.370749 sec\n"
     ]
    }
   ],
   "source": [
    "from code.baseline import LabelInference\n",
    "\n",
    "label_I = LabelInference(y_obs,TOL,type_inf = 'all')\n",
    "\n",
    "mv_probas, mv_conf_probas = label_I.mv_labels('probas')\n",
    "mv_onehot, mv_conf_onehot = label_I.mv_labels('onehot')\n",
    "\n",
    "confe_matrix_G = get_Global_confusionM(Z_train,label_I.y_obs_repeat)\n",
    "\n",
    "if y_obs.shape[1] <= 12000:\n",
    "    ds_labels,ds_conf = label_I.DS_labels()"
   ]
  },
  {
   "cell_type": "code",
   "execution_count": 14,
   "metadata": {},
   "outputs": [
    {
     "name": "stdout",
     "output_type": "stream",
     "text": [
      "ACC MV on train: 0.6065958547161555\n",
      "F1 MV  on train: 0.585113124263393\n",
      "ACC D&S on train: 0.5802601742451367\n",
      "F1 D&S  on train: 0.5664530426344931\n"
     ]
    }
   ],
   "source": [
    "print(\"ACC MV on train:\",np.mean(mv_onehot.argmax(axis=1)==Z_train))\n",
    "print(\"F1 MV  on train:\",f1_score(Z_train,mv_onehot.argmax(axis=1),average=\"macro\"))\n",
    "\n",
    "print(\"ACC D&S on train:\",np.mean(ds_labels.argmax(axis=1)==Z_train))\n",
    "print(\"F1 D&S  on train:\",f1_score(Z_train,ds_labels.argmax(axis=1),average=\"macro\"))"
   ]
  },
  {
   "cell_type": "code",
   "execution_count": 15,
   "metadata": {},
   "outputs": [
    {
     "name": "stdout",
     "output_type": "stream",
     "text": [
      "Trained model over soft-MV, Epochs to converge = 4\n"
     ]
    }
   ],
   "source": [
    "model_mvsoft = clone_UB.get_model()\n",
    "model_mvsoft.compile(loss='categorical_crossentropy',optimizer=OPT)\n",
    "hist=model_mvsoft.fit(Xstd_train, mv_probas, epochs=EPOCHS_BASE,batch_size=BATCH_SIZE,verbose=0,callbacks=[ourCallback])\n",
    "print(\"Trained model over soft-MV, Epochs to converge =\",len(hist.epoch))\n",
    "Z_train_pred = model_mvsoft.predict_classes(Xstd_train)\n",
    "Z_val_pred = model_mvsoft.predict_classes(Xstd_val)\n",
    "Z_test_pred = model_mvsoft.predict_classes(Xstd_test)"
   ]
  },
  {
   "cell_type": "code",
   "execution_count": 21,
   "metadata": {},
   "outputs": [
    {
     "name": "stdout",
     "output_type": "stream",
     "text": [
      "Trained model over hard-MV, Epochs to converge = 4\n"
     ]
    }
   ],
   "source": [
    "model_mvhard = clone_UB.get_model()\n",
    "model_mvhard.compile(loss='categorical_crossentropy',optimizer=OPT)\n",
    "hist=model_mvhard.fit(Xstd_train, mv_onehot, epochs=EPOCHS_BASE,batch_size=BATCH_SIZE,verbose=0,callbacks=[ourCallback])\n",
    "print(\"Trained model over hard-MV, Epochs to converge =\",len(hist.epoch))\n",
    "Z_train_pred = model_mvhard.predict_classes(Xstd_train)\n",
    "Z_val_pred = model_mvhard.predict_classes(Xstd_val)\n",
    "Z_test_pred = model_mvhard.predict_classes(Xstd_test)"
   ]
  },
  {
   "cell_type": "code",
   "execution_count": 23,
   "metadata": {
    "scrolled": true
   },
   "outputs": [
    {
     "name": "stdout",
     "output_type": "stream",
     "text": [
      "Trained model over D&S, Epochs to converge = 4\n"
     ]
    }
   ],
   "source": [
    "model_ds = clone_UB.get_model()\n",
    "model_ds.compile(loss='categorical_crossentropy',optimizer=OPT)\n",
    "hist=model_ds.fit(Xstd_train, ds_labels, epochs=EPOCHS_BASE,batch_size=BATCH_SIZE,verbose=0,callbacks=[ourCallback])\n",
    "print(\"Trained model over D&S, Epochs to converge =\",len(hist.epoch))\n",
    "Z_train_pred = model_ds.predict_classes(Xstd_train)\n",
    "Z_val_pred = model_ds.predict_classes(Xstd_val)\n",
    "Z_test_pred = model_ds.predict_classes(Xstd_test)"
   ]
  },
  {
   "cell_type": "markdown",
   "metadata": {},
   "source": [
    "### Raykar Model (joint predict model)"
   ]
  },
  {
   "cell_type": "code",
   "execution_count": 16,
   "metadata": {
    "scrolled": true
   },
   "outputs": [
    {
     "name": "stdout",
     "output_type": "stream",
     "text": [
      "shape: (25137, 1389, 4)\n"
     ]
    }
   ],
   "source": [
    "from code.baseline import RaykarMC\n",
    "y_obs_categorical = set_representation(y_obs,'onehot') #for raykar\n",
    "print(\"shape:\",y_obs_categorical.shape)"
   ]
  },
  {
   "cell_type": "code",
   "execution_count": 36,
   "metadata": {
    "scrolled": true
   },
   "outputs": [
    {
     "name": "stdout",
     "output_type": "stream",
     "text": [
      "Needed params (units,deep,drop,BatchN?)\n",
      "Initializing new EM...\n",
      "Betas shape:  (1389, 4, 4)\n",
      "Q estimate shape:  (25137, 4)\n",
      "Iter 1/50 \n",
      "M step: done,  E step: done //  (in 4.84 sec)\tlogL: -42530.879\t\n",
      "Iter 2/50 \n",
      "M step: done,  E step: done //  (in 2.75 sec)\tlogL: -39742.289\tTol1: 0.06557\tTol2: 0.14487\t\n",
      "Iter 3/50 \n",
      "M step: done,  E step: done //  (in 2.75 sec)\tlogL: -38427.207\tTol1: 0.03309\tTol2: 0.05606\t\n",
      "Iter 4/50 \n",
      "M step: done,  E step: done //  (in 2.76 sec)\tlogL: -37400.230\tTol1: 0.02673\tTol2: 0.03464\t\n",
      "Iter 5/50 \n",
      "M step: done,  E step: done //  (in 2.74 sec)\tlogL: -36646.758\tTol1: 0.02015\tTol2: 0.02812\t\n",
      "Finished training\n",
      "Initializing new EM...\n",
      "Betas shape:  (1389, 4, 4)\n",
      "Q estimate shape:  (25137, 4)\n",
      "Iter 1/50 \n",
      "M step: done,  E step: done //  (in 4.67 sec)\tlogL: -42704.508\t\n",
      "Iter 2/50 \n",
      "M step: done,  E step: done //  (in 2.76 sec)\tlogL: -39886.574\tTol1: 0.06599\tTol2: 0.14459\t\n",
      "Iter 3/50 \n",
      "M step: done,  E step: done //  (in 2.76 sec)\tlogL: -38396.004\tTol1: 0.03737\tTol2: 0.05443\t\n",
      "Iter 4/50 \n",
      "M step: done,  E step: done //  (in 2.76 sec)\tlogL: -37445.020\tTol1: 0.02477\tTol2: 0.03634\t\n",
      "Iter 5/50 \n",
      "M step: done,  E step: done //  (in 2.76 sec)\tlogL: -36805.105\tTol1: 0.01709\tTol2: 0.02825\t\n",
      "Finished training\n",
      "Initializing new EM...\n",
      "Betas shape:  (1389, 4, 4)\n",
      "Q estimate shape:  (25137, 4)\n",
      "Iter 1/50 \n",
      "M step: done,  E step: done //  (in 4.65 sec)\tlogL: -42162.500\t\n",
      "Iter 2/50 \n",
      "M step: done,  E step: done //  (in 2.76 sec)\tlogL: -39390.828\tTol1: 0.06574\tTol2: 0.14975\t\n",
      "Iter 3/50 \n",
      "M step: done,  E step: done //  (in 2.76 sec)\tlogL: -38095.391\tTol1: 0.03289\tTol2: 0.05485\t\n",
      "Iter 4/50 \n",
      "M step: done,  E step: done //  (in 2.76 sec)\tlogL: -37276.617\tTol1: 0.02149\tTol2: 0.03333\t\n",
      "Iter 5/50 \n",
      "M step: done,  E step: done //  (in 2.77 sec)\tlogL: -36651.215\tTol1: 0.01678\tTol2: 0.02736\t\n",
      "Finished training\n",
      "Initializing new EM...\n",
      "Betas shape:  (1389, 4, 4)\n",
      "Q estimate shape:  (25137, 4)\n",
      "Iter 1/50 \n",
      "M step: done,  E step: done //  (in 4.64 sec)\tlogL: -42340.855\t\n",
      "Iter 2/50 \n",
      "M step: done,  E step: done //  (in 2.78 sec)\tlogL: -39509.555\tTol1: 0.06687\tTol2: 0.14556\t\n",
      "Iter 3/50 \n",
      "M step: done,  E step: done //  (in 2.76 sec)\tlogL: -38092.980\tTol1: 0.03585\tTol2: 0.05514\t\n",
      "Iter 4/50 \n",
      "M step: done,  E step: done //  (in 2.76 sec)\tlogL: -37212.965\tTol1: 0.02310\tTol2: 0.03819\t\n",
      "Iter 5/50 \n",
      "M step: done,  E step: done //  (in 2.77 sec)\tlogL: -36601.012\tTol1: 0.01644\tTol2: 0.02823\t\n",
      "Finished training\n",
      "Initializing new EM...\n",
      "Betas shape:  (1389, 4, 4)\n",
      "Q estimate shape:  (25137, 4)\n",
      "Iter 1/50 \n",
      "M step: done,  E step: done //  (in 4.65 sec)\tlogL: -42291.227\t\n",
      "Iter 2/50 \n",
      "M step: done,  E step: done //  (in 2.77 sec)\tlogL: -39474.746\tTol1: 0.06660\tTol2: 0.14878\t\n",
      "Iter 3/50 \n",
      "M step: done,  E step: done //  (in 2.76 sec)\tlogL: -38072.184\tTol1: 0.03553\tTol2: 0.05585\t\n",
      "Iter 4/50 \n",
      "M step: done,  E step: done //  (in 2.76 sec)\tlogL: -37229.891\tTol1: 0.02212\tTol2: 0.03657\t\n",
      "Iter 5/50 \n",
      "M step: done,  E step: done //  (in 2.76 sec)\tlogL: -36607.324\tTol1: 0.01672\tTol2: 0.02497\t\n",
      "Finished training\n",
      "Initializing new EM...\n",
      "Betas shape:  (1389, 4, 4)\n",
      "Q estimate shape:  (25137, 4)\n",
      "Iter 1/50 \n",
      "M step: done,  E step: done //  (in 4.67 sec)\tlogL: -42358.203\t\n",
      "Iter 2/50 \n",
      "M step: done,  E step: done //  (in 2.77 sec)\tlogL: -39601.371\tTol1: 0.06508\tTol2: 0.14899\t\n",
      "Iter 3/50 \n",
      "M step: done,  E step: done //  (in 2.79 sec)\tlogL: -38088.547\tTol1: 0.03820\tTol2: 0.05611\t\n",
      "Iter 4/50 \n",
      "M step: done,  E step: done //  (in 2.77 sec)\tlogL: -37228.414\tTol1: 0.02258\tTol2: 0.03827\t\n",
      "Iter 5/50 \n",
      "M step: done,  E step: done //  (in 2.78 sec)\tlogL: -36560.676\tTol1: 0.01794\tTol2: 0.02683\t\n",
      "Finished training\n",
      "Initializing new EM...\n",
      "Betas shape:  (1389, 4, 4)\n",
      "Q estimate shape:  (25137, 4)\n",
      "Iter 1/50 \n",
      "M step: done,  E step: done //  (in 4.66 sec)\tlogL: -42577.953\t\n",
      "Iter 2/50 \n",
      "M step: done,  E step: done //  (in 2.74 sec)\tlogL: -39811.242\tTol1: 0.06498\tTol2: 0.14406\t\n",
      "Iter 3/50 \n",
      "M step: done,  E step: done //  (in 2.78 sec)\tlogL: -38388.707\tTol1: 0.03573\tTol2: 0.05425\t\n",
      "Iter 4/50 \n",
      "M step: done,  E step: done //  (in 2.79 sec)\tlogL: -37486.109\tTol1: 0.02351\tTol2: 0.03588\t\n",
      "Iter 5/50 \n",
      "M step: done,  E step: done //  (in 2.79 sec)\tlogL: -36821.152\tTol1: 0.01774\tTol2: 0.02599\t\n",
      "Finished training\n",
      "Initializing new EM...\n",
      "Betas shape:  (1389, 4, 4)\n",
      "Q estimate shape:  (25137, 4)\n",
      "Iter 1/50 \n",
      "M step: done,  E step: done //  (in 4.64 sec)\tlogL: -42293.633\t\n",
      "Iter 2/50 \n",
      "M step: done,  E step: done //  (in 2.76 sec)\tlogL: -39551.539\tTol1: 0.06483\tTol2: 0.14686\t\n",
      "Iter 3/50 \n",
      "M step: done,  E step: done //  (in 2.77 sec)\tlogL: -38247.398\tTol1: 0.03297\tTol2: 0.05479\t\n",
      "Iter 4/50 \n",
      "M step: done,  E step: done //  (in 2.77 sec)\tlogL: -37359.133\tTol1: 0.02322\tTol2: 0.03403\t\n",
      "Iter 5/50 \n",
      "M step: done,  E step: done //  (in 2.75 sec)\tlogL: -36854.637\tTol1: 0.01350\tTol2: 0.02587\t\n",
      "Finished training\n",
      "Initializing new EM...\n",
      "Betas shape:  (1389, 4, 4)\n",
      "Q estimate shape:  (25137, 4)\n",
      "Iter 1/50 \n",
      "M step: done,  E step: done //  (in 4.65 sec)\tlogL: -42608.164\t\n",
      "Iter 2/50 \n",
      "M step: done,  E step: done //  (in 2.76 sec)\tlogL: -39802.047\tTol1: 0.06586\tTol2: 0.14572\t\n",
      "Iter 3/50 \n",
      "M step: done,  E step: done //  (in 2.75 sec)\tlogL: -38324.051\tTol1: 0.03713\tTol2: 0.05450\t\n",
      "Iter 4/50 \n",
      "M step: done,  E step: done //  (in 2.77 sec)\tlogL: -37397.262\tTol1: 0.02418\tTol2: 0.03684\t\n",
      "Iter 5/50 \n",
      "M step: done,  E step: done //  (in 2.77 sec)\tlogL: -36722.004\tTol1: 0.01806\tTol2: 0.02715\t\n",
      "Finished training\n",
      "Initializing new EM...\n",
      "Betas shape:  (1389, 4, 4)\n",
      "Q estimate shape:  (25137, 4)\n",
      "Iter 1/50 \n",
      "M step: done,  E step: done //  (in 4.65 sec)\tlogL: -42368.410\t\n",
      "Iter 2/50 \n",
      "M step: done,  E step: done //  (in 2.76 sec)\tlogL: -39521.633\tTol1: 0.06719\tTol2: 0.14963\t\n",
      "Iter 3/50 \n",
      "M step: done,  E step: done //  (in 2.76 sec)\tlogL: -38136.918\tTol1: 0.03504\tTol2: 0.05446\t\n",
      "Iter 4/50 \n",
      "M step: done,  E step: done //  (in 2.78 sec)\tlogL: -37256.430\tTol1: 0.02309\tTol2: 0.03604\t\n",
      "Iter 5/50 \n",
      "M step: done,  E step: done //  (in 2.76 sec)\tlogL: -36697.867\tTol1: 0.01499\tTol2: 0.02718\t\n",
      "Finished training\n",
      "Initializing new EM...\n",
      "Betas shape:  (1389, 4, 4)\n",
      "Q estimate shape:  (25137, 4)\n",
      "Iter 1/50 \n",
      "M step: done,  E step: done //  (in 4.66 sec)\tlogL: -42312.836\t\n",
      "Iter 2/50 \n",
      "M step: done,  E step: done //  (in 2.75 sec)\tlogL: -39426.363\tTol1: 0.06822\tTol2: 0.14917\t\n",
      "Iter 3/50 \n",
      "M step: done,  E step: done //  (in 2.78 sec)\tlogL: -38108.688\tTol1: 0.03342\tTol2: 0.05590\t\n",
      "Iter 4/50 \n",
      "M step: done,  E step: done //  (in 2.76 sec)\tlogL: -37295.324\tTol1: 0.02134\tTol2: 0.03443\t\n",
      "Iter 5/50 \n",
      "M step: done,  E step: done //  (in 2.76 sec)\tlogL: -36663.367\tTol1: 0.01694\tTol2: 0.02508\t\n",
      "Finished training\n",
      "Initializing new EM...\n",
      "Betas shape:  (1389, 4, 4)\n",
      "Q estimate shape:  (25137, 4)\n",
      "Iter 1/50 \n",
      "M step: done,  E step: done //  (in 4.66 sec)\tlogL: -42468.555\t\n",
      "Iter 2/50 \n",
      "M step: done,  E step: done //  (in 2.76 sec)\tlogL: -39681.273\tTol1: 0.06563\tTol2: 0.14631\t\n",
      "Iter 3/50 \n",
      "M step: done,  E step: done //  (in 2.76 sec)\tlogL: -38256.391\tTol1: 0.03591\tTol2: 0.05422\t\n",
      "Iter 4/50 \n",
      "M step: done,  E step: done //  (in 2.77 sec)\tlogL: -37465.496\tTol1: 0.02067\tTol2: 0.03524\t\n",
      "Iter 5/50 \n",
      "M step: done,  E step: done //  (in 2.75 sec)\tlogL: -36702.684\tTol1: 0.02036\tTol2: 0.02479\t\n",
      "Finished training\n",
      "Initializing new EM...\n",
      "Betas shape:  (1389, 4, 4)\n",
      "Q estimate shape:  (25137, 4)\n",
      "Iter 1/50 \n",
      "M step: done,  E step: done //  (in 4.66 sec)\tlogL: -42116.238\t\n",
      "Iter 2/50 \n",
      "M step: done,  E step: done //  (in 2.76 sec)\tlogL: -39482.359\tTol1: 0.06254\tTol2: 0.14785\t\n",
      "Iter 3/50 \n",
      "M step: done,  E step: done //  (in 2.75 sec)\tlogL: -38166.941\tTol1: 0.03332\tTol2: 0.05249\t\n",
      "Iter 4/50 \n",
      "M step: done,  E step: done //  (in 2.75 sec)\tlogL: -37339.312\tTol1: 0.02168\tTol2: 0.03522\t\n",
      "Iter 5/50 \n",
      "M step: done,  E step: done //  (in 2.76 sec)\tlogL: -36671.930\tTol1: 0.01787\tTol2: 0.02537\t\n",
      "Finished training\n",
      "Initializing new EM...\n",
      "Betas shape:  (1389, 4, 4)\n",
      "Q estimate shape:  (25137, 4)\n",
      "Iter 1/50 \n",
      "M step: done,  E step: done //  (in 4.64 sec)\tlogL: -42184.016\t\n",
      "Iter 2/50 \n",
      "M step: done,  E step: done //  (in 2.76 sec)\tlogL: -39576.484\tTol1: 0.06181\tTol2: 0.14692\t\n",
      "Iter 3/50 \n",
      "M step: done,  E step: done //  (in 2.75 sec)\tlogL: -38296.363\tTol1: 0.03235\tTol2: 0.05286\t\n",
      "Iter 4/50 \n",
      "M step: done,  E step: done //  (in 2.78 sec)\tlogL: -37417.637\tTol1: 0.02295\tTol2: 0.03550\t\n",
      "Iter 5/50 \n"
     ]
    },
    {
     "name": "stdout",
     "output_type": "stream",
     "text": [
      "M step: done,  E step: done //  (in 2.77 sec)\tlogL: -36755.102\tTol1: 0.01771\tTol2: 0.02854\t\n",
      "Finished training\n",
      "Initializing new EM...\n",
      "Betas shape:  (1389, 4, 4)\n",
      "Q estimate shape:  (25137, 4)\n",
      "Iter 1/50 \n",
      "M step: done,  E step: done //  (in 4.70 sec)\tlogL: -42112.789\t\n",
      "Iter 2/50 \n",
      "M step: done,  E step: done //  (in 2.77 sec)\tlogL: -39445.402\tTol1: 0.06334\tTol2: 0.14876\t\n",
      "Iter 3/50 \n",
      "M step: done,  E step: done //  (in 2.76 sec)\tlogL: -38152.441\tTol1: 0.03278\tTol2: 0.05360\t\n",
      "Iter 4/50 \n",
      "M step: done,  E step: done //  (in 2.76 sec)\tlogL: -37336.184\tTol1: 0.02139\tTol2: 0.03432\t\n",
      "Iter 5/50 \n",
      "M step: done,  E step: done //  (in 2.75 sec)\tlogL: -36718.488\tTol1: 0.01654\tTol2: 0.02411\t\n",
      "Finished training\n",
      "Initializing new EM...\n",
      "Betas shape:  (1389, 4, 4)\n",
      "Q estimate shape:  (25137, 4)\n",
      "Iter 1/50 \n",
      "M step: done,  E step: done //  (in 4.70 sec)\tlogL: -42587.043\t\n",
      "Iter 2/50 \n",
      "M step: done,  E step: done //  (in 2.76 sec)\tlogL: -39637.816\tTol1: 0.06925\tTol2: 0.14562\t\n",
      "Iter 3/50 \n",
      "M step: done,  E step: done //  (in 2.77 sec)\tlogL: -38130.020\tTol1: 0.03804\tTol2: 0.05706\t\n",
      "Iter 4/50 \n",
      "M step: done,  E step: done //  (in 2.77 sec)\tlogL: -37206.273\tTol1: 0.02423\tTol2: 0.03906\t\n",
      "Iter 5/50 \n",
      "M step: done,  E step: done //  (in 2.78 sec)\tlogL: -36576.289\tTol1: 0.01693\tTol2: 0.02778\t\n",
      "Finished training\n",
      "Initializing new EM...\n",
      "Betas shape:  (1389, 4, 4)\n",
      "Q estimate shape:  (25137, 4)\n",
      "Iter 1/50 \n",
      "M step: done,  E step: done //  (in 4.68 sec)\tlogL: -42370.898\t\n",
      "Iter 2/50 \n",
      "M step: done,  E step: done //  (in 2.75 sec)\tlogL: -39613.738\tTol1: 0.06507\tTol2: 0.14671\t\n",
      "Iter 3/50 \n",
      "M step: done,  E step: done //  (in 2.76 sec)\tlogL: -38229.691\tTol1: 0.03494\tTol2: 0.05427\t\n",
      "Iter 4/50 \n",
      "M step: done,  E step: done //  (in 2.75 sec)\tlogL: -37297.203\tTol1: 0.02439\tTol2: 0.03434\t\n",
      "Iter 5/50 \n",
      "M step: done,  E step: done //  (in 2.76 sec)\tlogL: -36702.160\tTol1: 0.01595\tTol2: 0.02778\t\n",
      "Finished training\n",
      "Initializing new EM...\n",
      "Betas shape:  (1389, 4, 4)\n",
      "Q estimate shape:  (25137, 4)\n",
      "Iter 1/50 \n",
      "M step: done,  E step: done //  (in 4.68 sec)\tlogL: -42408.957\t\n",
      "Iter 2/50 \n",
      "M step: done,  E step: done //  (in 2.78 sec)\tlogL: -39548.461\tTol1: 0.06745\tTol2: 0.15123\t\n",
      "Iter 3/50 \n",
      "M step: done,  E step: done //  (in 2.76 sec)\tlogL: -38264.117\tTol1: 0.03248\tTol2: 0.05457\t\n",
      "Iter 4/50 \n",
      "M step: done,  E step: done //  (in 2.76 sec)\tlogL: -37393.969\tTol1: 0.02274\tTol2: 0.03513\t\n",
      "Iter 5/50 \n",
      "M step: done,  E step: done //  (in 2.77 sec)\tlogL: -36738.758\tTol1: 0.01752\tTol2: 0.02948\t\n",
      "Finished training\n",
      "Initializing new EM...\n",
      "Betas shape:  (1389, 4, 4)\n",
      "Q estimate shape:  (25137, 4)\n",
      "Iter 1/50 \n",
      "M step: done,  E step: done //  (in 4.66 sec)\tlogL: -42898.422\t\n",
      "Iter 2/50 \n",
      "M step: done,  E step: done //  (in 2.77 sec)\tlogL: -39950.113\tTol1: 0.06873\tTol2: 0.14570\t\n",
      "Iter 3/50 \n",
      "M step: done,  E step: done //  (in 2.75 sec)\tlogL: -38494.164\tTol1: 0.03644\tTol2: 0.05430\t\n",
      "Iter 4/50 \n",
      "M step: done,  E step: done //  (in 2.76 sec)\tlogL: -37517.957\tTol1: 0.02536\tTol2: 0.03558\t\n",
      "Iter 5/50 \n",
      "M step: done,  E step: done //  (in 2.76 sec)\tlogL: -36815.289\tTol1: 0.01873\tTol2: 0.02921\t\n",
      "Finished training\n",
      "Initializing new EM...\n",
      "Betas shape:  (1389, 4, 4)\n",
      "Q estimate shape:  (25137, 4)\n",
      "Iter 1/50 \n",
      "M step: done,  E step: done //  (in 4.63 sec)\tlogL: -42163.785\t\n",
      "Iter 2/50 \n",
      "M step: done,  E step: done //  (in 2.76 sec)\tlogL: -39566.836\tTol1: 0.06159\tTol2: 0.15055\t\n",
      "Iter 3/50 \n",
      "M step: done,  E step: done //  (in 2.79 sec)\tlogL: -38232.953\tTol1: 0.03371\tTol2: 0.05592\t\n",
      "Iter 4/50 \n",
      "M step: done,  E step: done //  (in 2.77 sec)\tlogL: -37349.496\tTol1: 0.02311\tTol2: 0.03465\t\n",
      "Iter 5/50 \n",
      "M step: done,  E step: done //  (in 2.77 sec)\tlogL: -36674.902\tTol1: 0.01806\tTol2: 0.02708\t\n",
      "Finished training\n",
      "Multiples runs over Raykar, Epochs to converge=  5.0\n"
     ]
    }
   ],
   "source": [
    "raykarMC = RaykarMC(Xstd_train.shape[1:],y_obs_categorical.shape[-1],T,epochs=1,optimizer=OPT,DTYPE_OP=DTYPE_OP)\n",
    "raykarMC.define_model(\"mlp\",128,1,BatchN=True,drop=0.5) #otro\n",
    "\n",
    "logL_hists,i_r = raykarMC.multiples_run(20,Xstd_train,y_obs_categorical,batch_size=BATCH_SIZE,max_iter=EPOCHS_BASE,\n",
    "                                     tolerance=TOL)"
   ]
  },
  {
   "cell_type": "code",
   "execution_count": 37,
   "metadata": {},
   "outputs": [],
   "source": [
    "Z_train_p = raykarMC.get_predictions(Xstd_train)\n",
    "Z_train_pred =Z_train_p.argmax(axis=-1)\n",
    "Z_val_pred = raykarMC.get_predictions(Xstd_val).argmax(axis=-1)\n",
    "Z_test_pred = raykarMC.get_predictions(Xstd_test).argmax(axis=-1)"
   ]
  },
  {
   "cell_type": "markdown",
   "metadata": {},
   "source": [
    "### Our Proposed"
   ]
  },
  {
   "cell_type": "code",
   "execution_count": 17,
   "metadata": {},
   "outputs": [],
   "source": [
    "from code.MixtureofGroups import GroupMixtureGlo, GroupMixtureInd"
   ]
  },
  {
   "cell_type": "code",
   "execution_count": 18,
   "metadata": {},
   "outputs": [
    {
     "name": "stdout",
     "output_type": "stream",
     "text": [
      "vector of repeats:\n",
      " [[0 0 1 2]\n",
      " [1 0 0 0]\n",
      " [1 0 0 0]\n",
      " ...\n",
      " [0 1 0 0]\n",
      " [0 0 1 0]\n",
      " [2 0 0 0]]\n",
      "shape: (25137, 4)\n"
     ]
    }
   ],
   "source": [
    "\"\"\" AÑADIR A ARCHIVO GROUPS...\"\"\"\n",
    "def define_uniform_groups(power, r, M):\n",
    "    R_total = r.sum()\n",
    "    uniform_groups = np.asarray([power*R_total/M for _ in range(M)])\n",
    "    return uniform_groups\n",
    "\n",
    "\n",
    "#get our representation \n",
    "r_obs = set_representation(y_obs,\"repeat\")\n",
    "#r_obs = label_I.y_obs_repeat.copy()\n",
    "\n",
    "confe_matrix_G = get_Global_confusionM(Z_train,r_obs)\n",
    "\n",
    "print(\"vector of repeats:\\n\",r_obs)\n",
    "print(\"shape:\",r_obs.shape)"
   ]
  },
  {
   "cell_type": "code",
   "execution_count": 27,
   "metadata": {},
   "outputs": [
    {
     "name": "stdout",
     "output_type": "stream",
     "text": [
      "Normalized entropy (0-1) of repeats annotations: 0.22649788216219027\n"
     ]
    },
    {
     "data": {
      "image/png": "[encoded data removed]",
      "text/plain": [
       "<Figure size 432x288 with 1 Axes>"
      ]
     },
     "metadata": {
      "needs_background": "light"
     },
     "output_type": "display_data"
    }
   ],
   "source": [
    "mv_soft = majority_voting(r_obs,repeats=True,probas=True) \n",
    "aux = []\n",
    "for example in mv_soft:\n",
    "    aux.append(entropy(example)/np.log(Kl))\n",
    "print(\"Normalized entropy (0-1) of repeats annotations:\",np.mean(aux))\n",
    "\n",
    "from code.MixtureofGroups import *\n",
    "predicted = np.clip(mv_soft, keras.backend.epsilon(), 1.)\n",
    "data_to_cluster = []\n",
    "for i in range(mv_soft.shape[0]):\n",
    "    for j in range(mv_soft.shape[1]):\n",
    "        ob = np.tile(keras.backend.epsilon(), mv_soft.shape[1])\n",
    "        ob[j] = 1\n",
    "        true = np.clip(predicted[i],keras.backend.epsilon(),1.)      \n",
    "        f_l = distance_function(true, ob)  #funcion de distancia o similaridad\n",
    "        data_to_cluster.append(f_l)  \n",
    "data_to_cluster = np.asarray(data_to_cluster)\n",
    "model = PCA(n_components=min(3,mv_soft.shape[0]) ) \n",
    "data_to_cluster = model.fit_transform(data_to_cluster)\n",
    "\n",
    "std = StandardScaler(with_mean=True,with_std=True)\n",
    "data_to_plot = std.fit_transform(data_to_cluster)\n",
    "plt.scatter(data_to_plot[:,0],data_to_plot[:,1])\n",
    "plt.show()"
   ]
  },
  {
   "cell_type": "markdown",
   "metadata": {},
   "source": [
    "There is low entropy (information), maybe there is only a few groups in this dataset, the possible of different behavior is low."
   ]
  },
  {
   "cell_type": "code",
   "execution_count": 21,
   "metadata": {
    "scrolled": true
   },
   "outputs": [
    {
     "name": "stdout",
     "output_type": "stream",
     "text": [
      "Needed params (units,deep,drop,BatchN?)\n",
      "Initializing new EM...\n",
      "Doing clustering...Done!\n",
      "Get init alphas in 0.041659 mins\n",
      "Lambda by group:  [1. 1. 1. 1. 1.]\n",
      "Alphas:  (5,)\n",
      "MV init:  (17363, 4)\n",
      "Betas:  (5, 4, 4)\n",
      "Q estimate:  (17363, 4, 5, 4)\n",
      "Iter 1/0\n",
      "M step: done,  E step: done //  (in 1.06 sec)\tlogL: -67392.492\t\n",
      "Finished training!\n"
     ]
    },
    {
     "data": {
      "image/png": "[encoded data removed]",
      "text/plain": [
       "<Figure size 432x288 with 1 Axes>"
      ]
     },
     "metadata": {
      "needs_background": "light"
     },
     "output_type": "display_data"
    },
    {
     "data": {
      "image/png": "[encoded data removed]",
      "text/plain": [
       "<Figure size 432x288 with 1 Axes>"
      ]
     },
     "metadata": {
      "needs_background": "light"
     },
     "output_type": "display_data"
    }
   ],
   "source": [
    "gMixture_Global = GroupMixtureGlo(Xstd_train.shape[1:],Kl=r_obs.shape[1],M=5,epochs=0,optimizer=OPT,dtype_op=DTYPE_OP) \n",
    "gMixture_Global.define_model(\"mlp\",128,1,BatchN=True,drop=0.5)\n",
    "gMixture_Global.lambda_random = True \n",
    "logL_hists,i_r = gMixture_Global.multiples_run(1,Xstd_train,r_obs,batch_size=BATCH_SIZE,max_iter=0,tolerance=TOL)\n",
    "\n",
    "aux = gMixture_Global.alpha_init.sum(axis=1).sum(axis=0)\n",
    "plt.bar(np.arange(gMixture_Global.M),aux)\n",
    "plt.show()\n",
    "gMixture_Global.get_alpha()\n",
    "plt.bar(np.arange(gMixture_Global.M),gMixture_Global.get_alpha())\n",
    "plt.show()"
   ]
  },
  {
   "cell_type": "code",
   "execution_count": 20,
   "metadata": {},
   "outputs": [
    {
     "name": "stdout",
     "output_type": "stream",
     "text": [
      "459\n"
     ]
    },
    {
     "ename": "NameError",
     "evalue": "name 'logL_Mchange' is not defined",
     "output_type": "error",
     "traceback": [
      "\u001b[0;31m---------------------------------------------------------------------------\u001b[0m",
      "\u001b[0;31mNameError\u001b[0m                                 Traceback (most recent call last)",
      "\u001b[0;32m<ipython-input-20-8d67406fc568>\u001b[0m in \u001b[0;36m<module>\u001b[0;34m()\u001b[0m\n\u001b[1;32m      1\u001b[0m \u001b[0;31m#T if i know T\u001b[0m\u001b[0;34m\u001b[0m\u001b[0;34m\u001b[0m\u001b[0m\n\u001b[1;32m      2\u001b[0m \u001b[0mprint\u001b[0m\u001b[0;34m(\u001b[0m\u001b[0mT\u001b[0m\u001b[0;34m)\u001b[0m\u001b[0;34m\u001b[0m\u001b[0m\n\u001b[0;32m----> 3\u001b[0;31m \u001b[0mM_values\u001b[0m \u001b[0;34m=\u001b[0m \u001b[0mrange\u001b[0m\u001b[0;34m(\u001b[0m\u001b[0;36m1\u001b[0m\u001b[0;34m,\u001b[0m\u001b[0;36m1\u001b[0m\u001b[0;34m+\u001b[0m\u001b[0mlen\u001b[0m\u001b[0;34m(\u001b[0m\u001b[0mlogL_Mchange\u001b[0m\u001b[0;34m)\u001b[0m\u001b[0;34m)\u001b[0m\u001b[0;34m\u001b[0m\u001b[0m\n\u001b[0m\u001b[1;32m      4\u001b[0m \u001b[0mt\u001b[0m \u001b[0;34m=\u001b[0m \u001b[0mpd\u001b[0m\u001b[0;34m.\u001b[0m\u001b[0mDataFrame\u001b[0m\u001b[0;34m(\u001b[0m\u001b[0;34m)\u001b[0m\u001b[0;34m\u001b[0m\u001b[0m\n\u001b[1;32m      5\u001b[0m \u001b[0mt\u001b[0m\u001b[0;34m[\u001b[0m\u001b[0;34m\"#Groups\"\u001b[0m\u001b[0;34m]\u001b[0m \u001b[0;34m=\u001b[0m \u001b[0mM_values\u001b[0m\u001b[0;34m\u001b[0m\u001b[0m\n",
      "\u001b[0;31mNameError\u001b[0m: name 'logL_Mchange' is not defined"
     ]
    }
   ],
   "source": [
    "#T if i know T\n",
    "print(T)\n",
    "M_values = range(1,1+len(logL_Mchange))\n",
    "t = pd.DataFrame()\n",
    "t[\"#Groups\"] = M_values\n",
    "t[\">=1 annotator\"] = [ np.sum(probas*T >= 1) for probas in probas_Mchange]\n",
    "t[\">=2 annotator\"] = [ np.sum(probas*T >= 2) for probas in probas_Mchange] #si agrupa al menos tiene 2\n",
    "t[\"Used on annotators\"] = [ len(np.unique(prob_Gt.argmax(axis=1))) for prob_Gt in probGt_Mchange ]#based on p(g|t)\n",
    "t[\"Used on annotators limit >=0.01\"] = [ np.sum(prob_Gt.max(axis=0)>=0.01) for prob_Gt in probGt_Mchange ]#based on p(g|t)\n",
    "t[\"Used on annotators limit >=0.05\"] = [ np.sum(prob_Gt.max(axis=0)>=0.05) for prob_Gt in probGt_Mchange ]#based on p(g|t)\n",
    "t"
   ]
  },
  {
   "cell_type": "markdown",
   "metadata": {},
   "source": [
    "1, 2 o 3..."
   ]
  },
  {
   "cell_type": "code",
   "execution_count": 30,
   "metadata": {},
   "outputs": [],
   "source": [
    "M_seted = 3 #??\n",
    "\n",
    "uniform = False\n",
    "if uniform:\n",
    "    uniform_groups = define_uniform_groups(0.1, r_obs, M_seted)\n",
    "    print(uniform_groups)"
   ]
  },
  {
   "cell_type": "code",
   "execution_count": 31,
   "metadata": {
    "scrolled": true
   },
   "outputs": [
    {
     "name": "stdout",
     "output_type": "stream",
     "text": [
      "Needed params (units,deep,drop,BatchN?)\n",
      "Initializing new EM...\n",
      "Doing clustering...Done!\n",
      "Get init alphas in 0.061195 mins\n",
      "Lambda by group:  [1. 1. 1.]\n",
      "Alphas:  (3,)\n",
      "MV init:  (25137, 4)\n",
      "Betas:  (3, 4, 4)\n",
      "Q estimate:  (25137, 4, 3, 4)\n",
      "Iter 1/50\n",
      "M step: done,  E step: done //  (in 5.36 sec)\tlogL: -48850.147\t\n",
      "Iter 2/50\n",
      "M step: done,  E step: done //  (in 1.61 sec)\tlogL: -47276.227\tTol1: 0.03222\tTol2: 0.30078\tTol3: 0.06918\t\n",
      "Iter 3/50\n",
      "M step: done,  E step: done //  (in 1.61 sec)\tlogL: -46689.384\tTol1: 0.01241\tTol2: 0.16312\tTol3: 0.01269\t\n",
      "Iter 4/50\n",
      "M step: done,  E step: done //  (in 1.61 sec)\tlogL: -46337.897\tTol1: 0.00753\tTol2: 0.11169\tTol3: 0.00572\t\n",
      "Iter 5/50\n",
      "M step: done,  E step: done //  (in 1.61 sec)\tlogL: -46050.074\tTol1: 0.00621\tTol2: 0.11160\tTol3: 0.02064\t\n",
      "Iter 6/50\n",
      "M step: done,  E step: done //  (in 1.58 sec)\tlogL: -45765.022\tTol1: 0.00619\tTol2: 0.08859\tTol3: 0.01584\t\n",
      "Iter 7/50\n",
      "M step: done,  E step: done //  (in 1.60 sec)\tlogL: -45541.558\tTol1: 0.00488\tTol2: 0.08461\tTol3: 0.01870\t\n",
      "Iter 8/50\n",
      "M step: done,  E step: done //  (in 1.59 sec)\tlogL: -45227.835\tTol1: 0.00689\tTol2: 0.06576\tTol3: 0.00696\t\n",
      "Iter 9/50\n",
      "M step: done,  E step: done //  (in 1.58 sec)\tlogL: -44894.100\tTol1: 0.00738\tTol2: 0.06862\tTol3: 0.01061\t\n",
      "Iter 10/50\n",
      "M step: done,  E step: done //  (in 1.59 sec)\tlogL: -44671.311\tTol1: 0.00496\tTol2: 0.05804\tTol3: 0.00970\t\n",
      "Iter 11/50\n",
      "M step: done,  E step: done //  (in 1.60 sec)\tlogL: -44434.723\tTol1: 0.00530\tTol2: 0.05031\tTol3: 0.00802\t\n",
      "Iter 12/50\n",
      "M step: done,  E step: done //  (in 1.61 sec)\tlogL: -44139.088\tTol1: 0.00665\tTol2: 0.05896\tTol3: 0.01459\t\n",
      "Iter 13/50\n",
      "M step: done,  E step: done //  (in 1.62 sec)\tlogL: -43949.860\tTol1: 0.00429\tTol2: 0.04606\tTol3: 0.00841\t\n",
      "Finished training!\n",
      "Initializing new EM...\n",
      "Doing clustering...Done!\n",
      "Get init alphas in 0.056683 mins\n",
      "Lambda by group:  [1. 1. 1.]\n",
      "Alphas:  (3,)\n",
      "MV init:  (25137, 4)\n",
      "Betas:  (3, 4, 4)\n",
      "Q estimate:  (25137, 4, 3, 4)\n",
      "Iter 1/50\n",
      "M step: done,  E step: done //  (in 2.84 sec)\tlogL: -48927.873\t\n",
      "Iter 2/50\n",
      "M step: done,  E step: done //  (in 1.46 sec)\tlogL: -47312.677\tTol1: 0.03301\tTol2: 0.29213\tTol3: 0.05981\t\n",
      "Iter 3/50\n",
      "M step: done,  E step: done //  (in 1.51 sec)\tlogL: -46868.648\tTol1: 0.00938\tTol2: 0.14601\tTol3: 0.00087\t\n",
      "Iter 4/50\n",
      "M step: done,  E step: done //  (in 1.46 sec)\tlogL: -46482.920\tTol1: 0.00823\tTol2: 0.11359\tTol3: 0.00905\t\n",
      "Iter 5/50\n",
      "M step: done,  E step: done //  (in 1.47 sec)\tlogL: -46094.257\tTol1: 0.00836\tTol2: 0.09424\tTol3: 0.00918\t\n",
      "Iter 6/50\n",
      "M step: done,  E step: done //  (in 1.49 sec)\tlogL: -45851.654\tTol1: 0.00526\tTol2: 0.08109\tTol3: 0.01043\t\n",
      "Iter 7/50\n",
      "M step: done,  E step: done //  (in 1.50 sec)\tlogL: -45604.578\tTol1: 0.00539\tTol2: 0.08058\tTol3: 0.01748\t\n",
      "Iter 8/50\n",
      "M step: done,  E step: done //  (in 1.47 sec)\tlogL: -45364.472\tTol1: 0.00526\tTol2: 0.09106\tTol3: 0.01559\t\n",
      "Iter 9/50\n",
      "M step: done,  E step: done //  (in 1.50 sec)\tlogL: -44999.477\tTol1: 0.00805\tTol2: 0.07252\tTol3: 0.01814\t\n",
      "Iter 10/50\n",
      "M step: done,  E step: done //  (in 1.47 sec)\tlogL: -44879.076\tTol1: 0.00268\tTol2: 0.05433\tTol3: 0.00869\t\n",
      "Iter 11/50\n",
      "M step: done,  E step: done //  (in 1.50 sec)\tlogL: -44563.834\tTol1: 0.00702\tTol2: 0.06903\tTol3: 0.01524\t\n",
      "Iter 12/50\n",
      "M step: done,  E step: done //  (in 1.46 sec)\tlogL: -44259.691\tTol1: 0.00682\tTol2: 0.04490\tTol3: 0.00796\t\n",
      "Finished training!\n",
      "Initializing new EM...\n",
      "Doing clustering...Done!\n",
      "Get init alphas in 0.062696 mins\n",
      "Lambda by group:  [1. 1. 1.]\n",
      "Alphas:  (3,)\n",
      "MV init:  (25137, 4)\n",
      "Betas:  (3, 4, 4)\n",
      "Q estimate:  (25137, 4, 3, 4)\n",
      "Iter 1/50\n",
      "M step: done,  E step: done //  (in 2.81 sec)\tlogL: -49034.769\t\n",
      "Iter 2/50\n",
      "M step: done,  E step: done //  (in 1.47 sec)\tlogL: -47373.845\tTol1: 0.03387\tTol2: 0.28737\tTol3: 0.05795\t\n",
      "Iter 3/50\n",
      "M step: done,  E step: done //  (in 1.50 sec)\tlogL: -46865.186\tTol1: 0.01074\tTol2: 0.14691\tTol3: 0.00764\t\n",
      "Iter 4/50\n",
      "M step: done,  E step: done //  (in 1.45 sec)\tlogL: -46485.744\tTol1: 0.00810\tTol2: 0.12096\tTol3: 0.01276\t\n",
      "Iter 5/50\n",
      "M step: done,  E step: done //  (in 1.49 sec)\tlogL: -46108.598\tTol1: 0.00811\tTol2: 0.10769\tTol3: 0.01897\t\n",
      "Iter 6/50\n",
      "M step: done,  E step: done //  (in 1.46 sec)\tlogL: -45819.646\tTol1: 0.00627\tTol2: 0.08935\tTol3: 0.01599\t\n",
      "Iter 7/50\n",
      "M step: done,  E step: done //  (in 1.57 sec)\tlogL: -45550.700\tTol1: 0.00587\tTol2: 0.07918\tTol3: 0.01141\t\n",
      "Iter 8/50\n",
      "M step: done,  E step: done //  (in 1.57 sec)\tlogL: -45285.295\tTol1: 0.00583\tTol2: 0.07245\tTol3: 0.00961\t\n",
      "Iter 9/50\n",
      "M step: done,  E step: done //  (in 1.75 sec)\tlogL: -45075.754\tTol1: 0.00463\tTol2: 0.07369\tTol3: 0.01057\t\n",
      "Iter 10/50\n",
      "M step: done,  E step: done //  (in 1.52 sec)\tlogL: -44644.076\tTol1: 0.00958\tTol2: 0.08177\tTol3: 0.01193\t\n",
      "Iter 11/50\n",
      "M step: done,  E step: done //  (in 1.59 sec)\tlogL: -44433.238\tTol1: 0.00472\tTol2: 0.05100\tTol3: 0.00474\t\n",
      "Iter 12/50\n",
      "M step: done,  E step: done //  (in 1.52 sec)\tlogL: -44181.511\tTol1: 0.00567\tTol2: 0.06483\tTol3: 0.00896\t\n",
      "Iter 13/50\n",
      "M step: done,  E step: done //  (in 1.56 sec)\tlogL: -44041.101\tTol1: 0.00318\tTol2: 0.07788\tTol3: 0.01656\t\n",
      "Iter 14/50\n",
      "M step: done,  E step: done //  (in 1.47 sec)\tlogL: -43674.628\tTol1: 0.00832\tTol2: 0.06088\tTol3: 0.01109\t\n",
      "Iter 15/50\n",
      "M step: done,  E step: done //  (in 1.50 sec)\tlogL: -43475.271\tTol1: 0.00456\tTol2: 0.04496\tTol3: 0.00541\t\n",
      "Finished training!\n",
      "Initializing new EM...\n",
      "Doing clustering...Done!\n",
      "Get init alphas in 0.056903 mins\n",
      "Lambda by group:  [1. 1. 1.]\n",
      "Alphas:  (3,)\n",
      "MV init:  (25137, 4)\n",
      "Betas:  (3, 4, 4)\n",
      "Q estimate:  (25137, 4, 3, 4)\n",
      "Iter 1/50\n",
      "M step: done,  E step: done //  (in 2.81 sec)\tlogL: -48494.798\t\n",
      "Iter 2/50\n",
      "M step: done,  E step: done //  (in 1.49 sec)\tlogL: -47268.588\tTol1: 0.02529\tTol2: 0.27453\tTol3: 0.03979\t\n",
      "Iter 3/50\n",
      "M step: done,  E step: done //  (in 1.47 sec)\tlogL: -46754.406\tTol1: 0.01088\tTol2: 0.15331\tTol3: 0.00844\t\n",
      "Iter 4/50\n",
      "M step: done,  E step: done //  (in 1.50 sec)\tlogL: -46399.961\tTol1: 0.00758\tTol2: 0.11495\tTol3: 0.00627\t\n",
      "Iter 5/50\n",
      "M step: done,  E step: done //  (in 1.46 sec)\tlogL: -46017.163\tTol1: 0.00825\tTol2: 0.10043\tTol3: 0.01473\t\n",
      "Iter 6/50\n",
      "M step: done,  E step: done //  (in 1.48 sec)\tlogL: -45718.175\tTol1: 0.00650\tTol2: 0.08366\tTol3: 0.01047\t\n",
      "Iter 7/50\n",
      "M step: done,  E step: done //  (in 1.47 sec)\tlogL: -45531.584\tTol1: 0.00408\tTol2: 0.07673\tTol3: 0.01387\t\n",
      "Iter 8/50\n",
      "M step: done,  E step: done //  (in 1.50 sec)\tlogL: -45176.319\tTol1: 0.00780\tTol2: 0.08795\tTol3: 0.01322\t\n",
      "Iter 9/50\n",
      "M step: done,  E step: done //  (in 1.47 sec)\tlogL: -44847.815\tTol1: 0.00727\tTol2: 0.05867\tTol3: 0.00794\t\n",
      "Iter 10/50\n",
      "M step: done,  E step: done //  (in 1.48 sec)\tlogL: -44615.946\tTol1: 0.00517\tTol2: 0.05577\tTol3: 0.00591\t\n",
      "Iter 11/50\n",
      "M step: done,  E step: done //  (in 1.47 sec)\tlogL: -44240.474\tTol1: 0.00842\tTol2: 0.06291\tTol3: 0.00463\t\n",
      "Iter 12/50\n",
      "M step: done,  E step: done //  (in 1.54 sec)\tlogL: -44070.045\tTol1: 0.00385\tTol2: 0.05928\tTol3: 0.00928\t\n",
      "Iter 13/50\n",
      "M step: done,  E step: done //  (in 1.47 sec)\tlogL: -43819.602\tTol1: 0.00568\tTol2: 0.04281\tTol3: 0.00679\t\n",
      "Finished training!\n",
      "Initializing new EM...\n",
      "Doing clustering...Done!\n",
      "Get init alphas in 0.056700 mins\n",
      "Lambda by group:  [1. 1. 1.]\n",
      "Alphas:  (3,)\n",
      "MV init:  (25137, 4)\n",
      "Betas:  (3, 4, 4)\n",
      "Q estimate:  (25137, 4, 3, 4)\n",
      "Iter 1/50\n",
      "M step: done,  E step: done //  (in 2.83 sec)\tlogL: -48831.262\t\n",
      "Iter 2/50\n",
      "M step: done,  E step: done //  (in 1.49 sec)\tlogL: -47326.047\tTol1: 0.03082\tTol2: 0.29269\tTol3: 0.04998\t\n",
      "Iter 3/50\n",
      "M step: done,  E step: done //  (in 1.49 sec)\tlogL: -46830.486\tTol1: 0.01047\tTol2: 0.15326\tTol3: 0.00946\t\n",
      "Iter 4/50\n",
      "M step: done,  E step: done //  (in 1.64 sec)\tlogL: -46445.552\tTol1: 0.00822\tTol2: 0.11652\tTol3: 0.01049\t\n",
      "Iter 5/50\n",
      "M step: done,  E step: done //  (in 1.66 sec)\tlogL: -46116.803\tTol1: 0.00708\tTol2: 0.09165\tTol3: 0.00759\t\n",
      "Iter 6/50\n",
      "M step: done,  E step: done //  (in 1.51 sec)\tlogL: -45814.141\tTol1: 0.00656\tTol2: 0.08384\tTol3: 0.00846\t\n",
      "Iter 7/50\n",
      "M step: done,  E step: done //  (in 1.52 sec)\tlogL: -45556.496\tTol1: 0.00562\tTol2: 0.07177\tTol3: 0.00740\t\n",
      "Iter 8/50\n",
      "M step: done,  E step: done //  (in 1.71 sec)\tlogL: -45247.453\tTol1: 0.00678\tTol2: 0.08660\tTol3: 0.02188\t\n",
      "Iter 9/50\n",
      "M step: done,  E step: done //  (in 1.54 sec)\tlogL: -45035.517\tTol1: 0.00468\tTol2: 0.06059\tTol3: 0.01033\t\n",
      "Iter 10/50\n"
     ]
    },
    {
     "name": "stdout",
     "output_type": "stream",
     "text": [
      "M step: done,  E step: done //  (in 1.54 sec)\tlogL: -44740.379\tTol1: 0.00655\tTol2: 0.05819\tTol3: 0.01116\t\n",
      "Iter 11/50\n",
      "M step: done,  E step: done //  (in 1.52 sec)\tlogL: -44468.301\tTol1: 0.00608\tTol2: 0.05176\tTol3: 0.00412\t\n",
      "Iter 12/50\n",
      "M step: done,  E step: done //  (in 1.48 sec)\tlogL: -44217.387\tTol1: 0.00564\tTol2: 0.04304\tTol3: 0.00372\t\n",
      "Finished training!\n",
      "Initializing new EM...\n",
      "Doing clustering...Done!\n",
      "Get init alphas in 0.058564 mins\n",
      "Lambda by group:  [1. 1. 1.]\n",
      "Alphas:  (3,)\n",
      "MV init:  (25137, 4)\n",
      "Betas:  (3, 4, 4)\n",
      "Q estimate:  (25137, 4, 3, 4)\n",
      "Iter 1/50\n",
      "M step: done,  E step: done //  (in 2.82 sec)\tlogL: -48875.128\t\n",
      "Iter 2/50\n",
      "M step: done,  E step: done //  (in 1.46 sec)\tlogL: -47304.176\tTol1: 0.03214\tTol2: 0.29612\tTol3: 0.05883\t\n",
      "Iter 3/50\n",
      "M step: done,  E step: done //  (in 1.51 sec)\tlogL: -46838.652\tTol1: 0.00984\tTol2: 0.14442\tTol3: 0.00394\t\n",
      "Iter 4/50\n",
      "M step: done,  E step: done //  (in 1.46 sec)\tlogL: -46500.766\tTol1: 0.00721\tTol2: 0.10543\tTol3: 0.00630\t\n",
      "Iter 5/50\n",
      "M step: done,  E step: done //  (in 1.49 sec)\tlogL: -46203.032\tTol1: 0.00640\tTol2: 0.10113\tTol3: 0.01288\t\n",
      "Iter 6/50\n",
      "M step: done,  E step: done //  (in 1.46 sec)\tlogL: -45865.243\tTol1: 0.00731\tTol2: 0.09047\tTol3: 0.00800\t\n",
      "Iter 7/50\n",
      "M step: done,  E step: done //  (in 1.50 sec)\tlogL: -45660.828\tTol1: 0.00446\tTol2: 0.08036\tTol3: 0.01217\t\n",
      "Iter 8/50\n",
      "M step: done,  E step: done //  (in 1.47 sec)\tlogL: -45255.617\tTol1: 0.00887\tTol2: 0.08459\tTol3: 0.01345\t\n",
      "Iter 9/50\n",
      "M step: done,  E step: done //  (in 1.74 sec)\tlogL: -44977.665\tTol1: 0.00614\tTol2: 0.06302\tTol3: 0.00898\t\n",
      "Iter 10/50\n",
      "M step: done,  E step: done //  (in 1.58 sec)\tlogL: -44836.320\tTol1: 0.00314\tTol2: 0.06345\tTol3: 0.01392\t\n",
      "Iter 11/50\n",
      "M step: done,  E step: done //  (in 1.54 sec)\tlogL: -44535.349\tTol1: 0.00671\tTol2: 0.06155\tTol3: 0.01941\t\n",
      "Iter 12/50\n",
      "M step: done,  E step: done //  (in 1.54 sec)\tlogL: -44245.192\tTol1: 0.00652\tTol2: 0.04813\tTol3: 0.01036\t\n",
      "Finished training!\n",
      "Initializing new EM...\n",
      "Doing clustering...Done!\n",
      "Get init alphas in 0.057898 mins\n",
      "Lambda by group:  [1. 1. 1.]\n",
      "Alphas:  (3,)\n",
      "MV init:  (25137, 4)\n",
      "Betas:  (3, 4, 4)\n",
      "Q estimate:  (25137, 4, 3, 4)\n",
      "Iter 1/50\n",
      "M step: done,  E step: done //  (in 3.03 sec)\tlogL: -48940.437\t\n",
      "Iter 2/50\n",
      "M step: done,  E step: done //  (in 1.53 sec)\tlogL: -47221.074\tTol1: 0.03513\tTol2: 0.29726\tTol3: 0.06729\t\n",
      "Iter 3/50\n",
      "M step: done,  E step: done //  (in 1.55 sec)\tlogL: -46722.464\tTol1: 0.01056\tTol2: 0.14642\tTol3: 0.01244\t\n",
      "Iter 4/50\n",
      "M step: done,  E step: done //  (in 1.49 sec)\tlogL: -46339.436\tTol1: 0.00820\tTol2: 0.11025\tTol3: 0.00691\t\n",
      "Iter 5/50\n",
      "M step: done,  E step: done //  (in 1.49 sec)\tlogL: -45965.693\tTol1: 0.00807\tTol2: 0.09718\tTol3: 0.00911\t\n",
      "Iter 6/50\n",
      "M step: done,  E step: done //  (in 1.48 sec)\tlogL: -45709.793\tTol1: 0.00557\tTol2: 0.07876\tTol3: 0.01038\t\n",
      "Iter 7/50\n",
      "M step: done,  E step: done //  (in 1.48 sec)\tlogL: -45436.789\tTol1: 0.00597\tTol2: 0.06844\tTol3: 0.00623\t\n",
      "Iter 8/50\n",
      "M step: done,  E step: done //  (in 1.46 sec)\tlogL: -45151.065\tTol1: 0.00629\tTol2: 0.06932\tTol3: 0.00580\t\n",
      "Iter 9/50\n",
      "M step: done,  E step: done //  (in 1.50 sec)\tlogL: -44921.922\tTol1: 0.00508\tTol2: 0.06656\tTol3: 0.01011\t\n",
      "Iter 10/50\n",
      "M step: done,  E step: done //  (in 1.47 sec)\tlogL: -44635.308\tTol1: 0.00638\tTol2: 0.06817\tTol3: 0.01429\t\n",
      "Iter 11/50\n",
      "M step: done,  E step: done //  (in 1.50 sec)\tlogL: -44506.713\tTol1: 0.00288\tTol2: 0.05781\tTol3: 0.01248\t\n",
      "Iter 12/50\n",
      "M step: done,  E step: done //  (in 1.48 sec)\tlogL: -44094.663\tTol1: 0.00926\tTol2: 0.07465\tTol3: 0.01132\t\n",
      "Iter 13/50\n",
      "M step: done,  E step: done //  (in 1.47 sec)\tlogL: -43808.148\tTol1: 0.00650\tTol2: 0.06480\tTol3: 0.00762\t\n",
      "Iter 14/50\n",
      "M step: done,  E step: done //  (in 1.46 sec)\tlogL: -43466.517\tTol1: 0.00780\tTol2: 0.05702\tTol3: 0.01322\t\n",
      "Iter 15/50\n",
      "M step: done,  E step: done //  (in 1.50 sec)\tlogL: -43233.429\tTol1: 0.00536\tTol2: 0.05177\tTol3: 0.01438\t\n",
      "Iter 16/50\n",
      "M step: done,  E step: done //  (in 1.47 sec)\tlogL: -42977.700\tTol1: 0.00592\tTol2: 0.08162\tTol3: 0.01233\t\n",
      "Iter 17/50\n",
      "M step: done,  E step: done //  (in 1.49 sec)\tlogL: -42711.731\tTol1: 0.00619\tTol2: 0.05111\tTol3: 0.01639\t\n",
      "Iter 18/50\n",
      "M step: done,  E step: done //  (in 1.46 sec)\tlogL: -42562.303\tTol1: 0.00350\tTol2: 0.03799\tTol3: 0.01113\t\n",
      "Finished training!\n",
      "Initializing new EM...\n",
      "Doing clustering...Done!\n",
      "Get init alphas in 0.059386 mins\n",
      "Lambda by group:  [1. 1. 1.]\n",
      "Alphas:  (3,)\n",
      "MV init:  (25137, 4)\n",
      "Betas:  (3, 4, 4)\n",
      "Q estimate:  (25137, 4, 3, 4)\n",
      "Iter 1/50\n",
      "M step: done,  E step: done //  (in 2.79 sec)\tlogL: -48699.383\t\n",
      "Iter 2/50\n",
      "M step: done,  E step: done //  (in 1.48 sec)\tlogL: -47315.907\tTol1: 0.02841\tTol2: 0.27894\tTol3: 0.04751\t\n",
      "Iter 3/50\n",
      "M step: done,  E step: done //  (in 1.49 sec)\tlogL: -46832.348\tTol1: 0.01022\tTol2: 0.14209\tTol3: 0.00709\t\n",
      "Iter 4/50\n",
      "M step: done,  E step: done //  (in 1.47 sec)\tlogL: -46471.501\tTol1: 0.00771\tTol2: 0.11379\tTol3: 0.01086\t\n",
      "Iter 5/50\n",
      "M step: done,  E step: done //  (in 1.51 sec)\tlogL: -46117.494\tTol1: 0.00762\tTol2: 0.10332\tTol3: 0.01635\t\n",
      "Iter 6/50\n",
      "M step: done,  E step: done //  (in 1.46 sec)\tlogL: -45809.999\tTol1: 0.00667\tTol2: 0.08904\tTol3: 0.01562\t\n",
      "Iter 7/50\n",
      "M step: done,  E step: done //  (in 1.49 sec)\tlogL: -45478.151\tTol1: 0.00724\tTol2: 0.07123\tTol3: 0.00109\t\n",
      "Iter 8/50\n",
      "M step: done,  E step: done //  (in 1.46 sec)\tlogL: -45301.029\tTol1: 0.00389\tTol2: 0.06716\tTol3: 0.00975\t\n",
      "Iter 9/50\n",
      "M step: done,  E step: done //  (in 1.50 sec)\tlogL: -45013.863\tTol1: 0.00634\tTol2: 0.07574\tTol3: 0.01615\t\n",
      "Iter 10/50\n",
      "M step: done,  E step: done //  (in 1.47 sec)\tlogL: -44722.771\tTol1: 0.00647\tTol2: 0.05835\tTol3: 0.01054\t\n",
      "Iter 11/50\n",
      "M step: done,  E step: done //  (in 1.50 sec)\tlogL: -44461.403\tTol1: 0.00584\tTol2: 0.06446\tTol3: 0.00587\t\n",
      "Iter 12/50\n",
      "M step: done,  E step: done //  (in 1.48 sec)\tlogL: -44157.315\tTol1: 0.00684\tTol2: 0.06752\tTol3: 0.01772\t\n",
      "Iter 13/50\n",
      "M step: done,  E step: done //  (in 1.48 sec)\tlogL: -43942.922\tTol1: 0.00486\tTol2: 0.04159\tTol3: 0.00928\t\n",
      "Finished training!\n",
      "Initializing new EM...\n",
      "Doing clustering...Done!\n",
      "Get init alphas in 0.061315 mins\n",
      "Lambda by group:  [1. 1. 1.]\n",
      "Alphas:  (3,)\n",
      "MV init:  (25137, 4)\n",
      "Betas:  (3, 4, 4)\n",
      "Q estimate:  (25137, 4, 3, 4)\n",
      "Iter 1/50\n",
      "M step: done,  E step: done //  (in 2.77 sec)\tlogL: -48818.387\t\n",
      "Iter 2/50\n",
      "M step: done,  E step: done //  (in 1.48 sec)\tlogL: -47374.561\tTol1: 0.02958\tTol2: 0.28835\tTol3: 0.06009\t\n",
      "Iter 3/50\n",
      "M step: done,  E step: done //  (in 1.46 sec)\tlogL: -46730.713\tTol1: 0.01359\tTol2: 0.15736\tTol3: 0.01313\t\n",
      "Iter 4/50\n",
      "M step: done,  E step: done //  (in 1.48 sec)\tlogL: -46355.065\tTol1: 0.00804\tTol2: 0.11090\tTol3: 0.00423\t\n",
      "Iter 5/50\n",
      "M step: done,  E step: done //  (in 1.46 sec)\tlogL: -46115.990\tTol1: 0.00516\tTol2: 0.10169\tTol3: 0.00885\t\n",
      "Iter 6/50\n",
      "M step: done,  E step: done //  (in 1.48 sec)\tlogL: -45736.121\tTol1: 0.00824\tTol2: 0.08754\tTol3: 0.01232\t\n",
      "Iter 7/50\n",
      "M step: done,  E step: done //  (in 1.46 sec)\tlogL: -45496.578\tTol1: 0.00524\tTol2: 0.07209\tTol3: 0.00815\t\n",
      "Iter 8/50\n",
      "M step: done,  E step: done //  (in 1.48 sec)\tlogL: -45200.986\tTol1: 0.00650\tTol2: 0.06260\tTol3: 0.00539\t\n",
      "Iter 9/50\n",
      "M step: done,  E step: done //  (in 1.47 sec)\tlogL: -44978.713\tTol1: 0.00492\tTol2: 0.06614\tTol3: 0.01477\t\n",
      "Iter 10/50\n",
      "M step: done,  E step: done //  (in 1.48 sec)\tlogL: -44718.922\tTol1: 0.00578\tTol2: 0.06931\tTol3: 0.01700\t\n",
      "Iter 11/50\n",
      "M step: done,  E step: done //  (in 1.46 sec)\tlogL: -44476.314\tTol1: 0.00543\tTol2: 0.06492\tTol3: 0.00983\t\n",
      "Iter 12/50\n",
      "M step: done,  E step: done //  (in 1.50 sec)\tlogL: -44202.560\tTol1: 0.00616\tTol2: 0.06616\tTol3: 0.01967\t\n",
      "Iter 13/50\n",
      "M step: done,  E step: done //  (in 1.46 sec)\tlogL: -43985.768\tTol1: 0.00490\tTol2: 0.05473\tTol3: 0.01218\t\n",
      "Iter 14/50\n",
      "M step: done,  E step: done //  (in 1.50 sec)\tlogL: -43713.703\tTol1: 0.00619\tTol2: 0.05533\tTol3: 0.01211\t\n",
      "Iter 15/50\n",
      "M step: done,  E step: done //  (in 1.46 sec)\tlogL: -43414.269\tTol1: 0.00685\tTol2: 0.06192\tTol3: 0.00571\t\n",
      "Iter 16/50\n",
      "M step: done,  E step: done //  (in 1.50 sec)\tlogL: -43177.395\tTol1: 0.00546\tTol2: 0.03604\tTol3: 0.00447\t\n",
      "Finished training!\n",
      "Initializing new EM...\n",
      "Doing clustering...Done!\n",
      "Get init alphas in 0.060393 mins\n",
      "Lambda by group:  [1. 1. 1.]\n",
      "Alphas:  (3,)\n",
      "MV init:  (25137, 4)\n",
      "Betas:  (3, 4, 4)\n",
      "Q estimate:  (25137, 4, 3, 4)\n",
      "Iter 1/50\n",
      "M step: done,  E step: done //  (in 2.78 sec)\tlogL: -49231.483\t\n",
      "Iter 2/50\n"
     ]
    },
    {
     "name": "stdout",
     "output_type": "stream",
     "text": [
      "M step: done,  E step: done //  (in 1.47 sec)\tlogL: -47342.462\tTol1: 0.03837\tTol2: 0.32178\tTol3: 0.08700\t\n",
      "Iter 3/50\n",
      "M step: done,  E step: done //  (in 1.47 sec)\tlogL: -46855.662\tTol1: 0.01028\tTol2: 0.14578\tTol3: 0.01638\t\n",
      "Iter 4/50\n",
      "M step: done,  E step: done //  (in 1.48 sec)\tlogL: -46446.643\tTol1: 0.00873\tTol2: 0.12726\tTol3: 0.00813\t\n",
      "Iter 5/50\n",
      "M step: done,  E step: done //  (in 1.47 sec)\tlogL: -46132.351\tTol1: 0.00677\tTol2: 0.09213\tTol3: 0.00860\t\n",
      "Iter 6/50\n",
      "M step: done,  E step: done //  (in 1.49 sec)\tlogL: -45844.751\tTol1: 0.00623\tTol2: 0.08069\tTol3: 0.00972\t\n",
      "Iter 7/50\n",
      "M step: done,  E step: done //  (in 1.46 sec)\tlogL: -45574.518\tTol1: 0.00589\tTol2: 0.07534\tTol3: 0.01263\t\n",
      "Iter 8/50\n",
      "M step: done,  E step: done //  (in 1.49 sec)\tlogL: -45299.343\tTol1: 0.00604\tTol2: 0.05505\tTol3: 0.00548\t\n",
      "Iter 9/50\n",
      "M step: done,  E step: done //  (in 1.48 sec)\tlogL: -45054.008\tTol1: 0.00542\tTol2: 0.08467\tTol3: 0.01141\t\n",
      "Iter 10/50\n",
      "M step: done,  E step: done //  (in 1.50 sec)\tlogL: -44712.494\tTol1: 0.00758\tTol2: 0.07434\tTol3: 0.02358\t\n",
      "Iter 11/50\n",
      "M step: done,  E step: done //  (in 1.46 sec)\tlogL: -44468.424\tTol1: 0.00546\tTol2: 0.07517\tTol3: 0.00804\t\n",
      "Iter 12/50\n",
      "M step: done,  E step: done //  (in 1.50 sec)\tlogL: -44190.284\tTol1: 0.00625\tTol2: 0.04709\tTol3: 0.00288\t\n",
      "Finished training!\n",
      "Initializing new EM...\n",
      "Doing clustering...Done!\n",
      "Get init alphas in 0.059334 mins\n",
      "Lambda by group:  [1. 1. 1.]\n",
      "Alphas:  (3,)\n",
      "MV init:  (25137, 4)\n",
      "Betas:  (3, 4, 4)\n",
      "Q estimate:  (25137, 4, 3, 4)\n",
      "Iter 1/50\n",
      "M step: done,  E step: done //  (in 2.78 sec)\tlogL: -49374.109\t\n",
      "Iter 2/50\n",
      "M step: done,  E step: done //  (in 1.50 sec)\tlogL: -47244.495\tTol1: 0.04313\tTol2: 0.30853\tTol3: 0.08404\t\n",
      "Iter 3/50\n",
      "M step: done,  E step: done //  (in 1.47 sec)\tlogL: -46699.711\tTol1: 0.01153\tTol2: 0.14812\tTol3: 0.01386\t\n",
      "Iter 4/50\n",
      "M step: done,  E step: done //  (in 1.50 sec)\tlogL: -46338.800\tTol1: 0.00773\tTol2: 0.11799\tTol3: 0.01187\t\n",
      "Iter 5/50\n",
      "M step: done,  E step: done //  (in 1.46 sec)\tlogL: -46024.658\tTol1: 0.00678\tTol2: 0.09056\tTol3: 0.00783\t\n",
      "Iter 6/50\n",
      "M step: done,  E step: done //  (in 1.49 sec)\tlogL: -45711.110\tTol1: 0.00681\tTol2: 0.08208\tTol3: 0.00566\t\n",
      "Iter 7/50\n",
      "M step: done,  E step: done //  (in 1.47 sec)\tlogL: -45428.858\tTol1: 0.00617\tTol2: 0.06659\tTol3: 0.00867\t\n",
      "Iter 8/50\n",
      "M step: done,  E step: done //  (in 1.51 sec)\tlogL: -45120.288\tTol1: 0.00679\tTol2: 0.07691\tTol3: 0.01415\t\n",
      "Iter 9/50\n",
      "M step: done,  E step: done //  (in 1.47 sec)\tlogL: -44849.934\tTol1: 0.00599\tTol2: 0.05807\tTol3: 0.00732\t\n",
      "Iter 10/50\n",
      "M step: done,  E step: done //  (in 1.51 sec)\tlogL: -44666.036\tTol1: 0.00410\tTol2: 0.05775\tTol3: 0.01336\t\n",
      "Iter 11/50\n",
      "M step: done,  E step: done //  (in 1.48 sec)\tlogL: -44290.472\tTol1: 0.00841\tTol2: 0.06874\tTol3: 0.01369\t\n",
      "Iter 12/50\n",
      "M step: done,  E step: done //  (in 1.49 sec)\tlogL: -44017.270\tTol1: 0.00617\tTol2: 0.04539\tTol3: 0.00864\t\n",
      "Finished training!\n",
      "Initializing new EM...\n",
      "Doing clustering...Done!\n",
      "Get init alphas in 0.061171 mins\n",
      "Lambda by group:  [1. 1. 1.]\n",
      "Alphas:  (3,)\n",
      "MV init:  (25137, 4)\n",
      "Betas:  (3, 4, 4)\n",
      "Q estimate:  (25137, 4, 3, 4)\n",
      "Iter 1/50\n",
      "M step: done,  E step: done //  (in 2.79 sec)\tlogL: -48649.669\t\n",
      "Iter 2/50\n",
      "M step: done,  E step: done //  (in 1.49 sec)\tlogL: -47357.787\tTol1: 0.02655\tTol2: 0.28540\tTol3: 0.04739\t\n",
      "Iter 3/50\n",
      "M step: done,  E step: done //  (in 1.46 sec)\tlogL: -46819.081\tTol1: 0.01138\tTol2: 0.14372\tTol3: 0.00667\t\n",
      "Iter 4/50\n",
      "M step: done,  E step: done //  (in 1.49 sec)\tlogL: -46426.100\tTol1: 0.00839\tTol2: 0.11579\tTol3: 0.00583\t\n",
      "Iter 5/50\n",
      "M step: done,  E step: done //  (in 1.46 sec)\tlogL: -46099.412\tTol1: 0.00704\tTol2: 0.09130\tTol3: 0.00753\t\n",
      "Iter 6/50\n",
      "M step: done,  E step: done //  (in 1.48 sec)\tlogL: -45788.192\tTol1: 0.00675\tTol2: 0.09111\tTol3: 0.00719\t\n",
      "Iter 7/50\n",
      "M step: done,  E step: done //  (in 1.46 sec)\tlogL: -45540.159\tTol1: 0.00542\tTol2: 0.06874\tTol3: 0.00662\t\n",
      "Iter 8/50\n",
      "M step: done,  E step: done //  (in 1.47 sec)\tlogL: -45211.567\tTol1: 0.00722\tTol2: 0.07362\tTol3: 0.00885\t\n",
      "Iter 9/50\n",
      "M step: done,  E step: done //  (in 1.46 sec)\tlogL: -45068.245\tTol1: 0.00317\tTol2: 0.06522\tTol3: 0.00513\t\n",
      "Iter 10/50\n",
      "M step: done,  E step: done //  (in 1.50 sec)\tlogL: -44704.405\tTol1: 0.00807\tTol2: 0.06972\tTol3: 0.00690\t\n",
      "Iter 11/50\n",
      "M step: done,  E step: done //  (in 1.46 sec)\tlogL: -44444.706\tTol1: 0.00581\tTol2: 0.06577\tTol3: 0.00561\t\n",
      "Iter 12/50\n",
      "M step: done,  E step: done //  (in 1.49 sec)\tlogL: -44128.719\tTol1: 0.00711\tTol2: 0.06180\tTol3: 0.01108\t\n",
      "Iter 13/50\n",
      "M step: done,  E step: done //  (in 1.46 sec)\tlogL: -43794.024\tTol1: 0.00758\tTol2: 0.04931\tTol3: 0.00926\t\n",
      "Finished training!\n",
      "Initializing new EM...\n",
      "Doing clustering...Done!\n",
      "Get init alphas in 0.056656 mins\n",
      "Lambda by group:  [1. 1. 1.]\n",
      "Alphas:  (3,)\n",
      "MV init:  (25137, 4)\n",
      "Betas:  (3, 4, 4)\n",
      "Q estimate:  (25137, 4, 3, 4)\n",
      "Iter 1/50\n",
      "M step: done,  E step: done //  (in 2.81 sec)\tlogL: -48661.592\t\n",
      "Iter 2/50\n",
      "M step: done,  E step: done //  (in 1.47 sec)\tlogL: -47217.986\tTol1: 0.02967\tTol2: 0.28414\tTol3: 0.05928\t\n",
      "Iter 3/50\n",
      "M step: done,  E step: done //  (in 1.49 sec)\tlogL: -46684.717\tTol1: 0.01129\tTol2: 0.14843\tTol3: 0.01297\t\n",
      "Iter 4/50\n",
      "M step: done,  E step: done //  (in 1.47 sec)\tlogL: -46379.802\tTol1: 0.00653\tTol2: 0.11124\tTol3: 0.00504\t\n",
      "Iter 5/50\n",
      "M step: done,  E step: done //  (in 1.49 sec)\tlogL: -46103.177\tTol1: 0.00596\tTol2: 0.09290\tTol3: 0.00730\t\n",
      "Iter 6/50\n",
      "M step: done,  E step: done //  (in 1.46 sec)\tlogL: -45770.986\tTol1: 0.00721\tTol2: 0.08667\tTol3: 0.01449\t\n",
      "Iter 7/50\n",
      "M step: done,  E step: done //  (in 1.50 sec)\tlogL: -45546.632\tTol1: 0.00490\tTol2: 0.07946\tTol3: 0.01107\t\n",
      "Iter 8/50\n",
      "M step: done,  E step: done //  (in 1.45 sec)\tlogL: -45199.663\tTol1: 0.00762\tTol2: 0.07427\tTol3: 0.01792\t\n",
      "Iter 9/50\n",
      "M step: done,  E step: done //  (in 1.49 sec)\tlogL: -45074.931\tTol1: 0.00276\tTol2: 0.05458\tTol3: 0.00126\t\n",
      "Iter 10/50\n",
      "M step: done,  E step: done //  (in 1.45 sec)\tlogL: -44782.310\tTol1: 0.00649\tTol2: 0.05529\tTol3: 0.00860\t\n",
      "Iter 11/50\n",
      "M step: done,  E step: done //  (in 1.50 sec)\tlogL: -44498.011\tTol1: 0.00635\tTol2: 0.05713\tTol3: 0.01378\t\n",
      "Iter 12/50\n",
      "M step: done,  E step: done //  (in 1.46 sec)\tlogL: -44224.902\tTol1: 0.00614\tTol2: 0.05022\tTol3: 0.01444\t\n",
      "Iter 13/50\n",
      "M step: done,  E step: done //  (in 1.49 sec)\tlogL: -43990.474\tTol1: 0.00530\tTol2: 0.07541\tTol3: 0.01514\t\n",
      "Iter 14/50\n",
      "M step: done,  E step: done //  (in 1.48 sec)\tlogL: -43819.990\tTol1: 0.00388\tTol2: 0.05461\tTol3: 0.01348\t\n",
      "Iter 15/50\n",
      "M step: done,  E step: done //  (in 1.50 sec)\tlogL: -43551.150\tTol1: 0.00614\tTol2: 0.05013\tTol3: 0.00979\t\n",
      "Iter 16/50\n",
      "M step: done,  E step: done //  (in 1.46 sec)\tlogL: -43277.592\tTol1: 0.00628\tTol2: 0.05577\tTol3: 0.01294\t\n",
      "Iter 17/50\n",
      "M step: done,  E step: done //  (in 1.48 sec)\tlogL: -42923.330\tTol1: 0.00819\tTol2: 0.04672\tTol3: 0.01404\t\n",
      "Finished training!\n",
      "Initializing new EM...\n",
      "Doing clustering...Done!\n",
      "Get init alphas in 0.060645 mins\n",
      "Lambda by group:  [1. 1. 1.]\n",
      "Alphas:  (3,)\n",
      "MV init:  (25137, 4)\n",
      "Betas:  (3, 4, 4)\n",
      "Q estimate:  (25137, 4, 3, 4)\n",
      "Iter 1/50\n",
      "M step: done,  E step: done //  (in 2.79 sec)\tlogL: -48862.147\t\n",
      "Iter 2/50\n",
      "M step: done,  E step: done //  (in 1.49 sec)\tlogL: -47404.536\tTol1: 0.02983\tTol2: 0.28393\tTol3: 0.04981\t\n",
      "Iter 3/50\n",
      "M step: done,  E step: done //  (in 1.47 sec)\tlogL: -46917.406\tTol1: 0.01028\tTol2: 0.14987\tTol3: 0.00878\t\n",
      "Iter 4/50\n",
      "M step: done,  E step: done //  (in 1.49 sec)\tlogL: -46492.397\tTol1: 0.00906\tTol2: 0.11316\tTol3: 0.00805\t\n",
      "Iter 5/50\n",
      "M step: done,  E step: done //  (in 1.45 sec)\tlogL: -46147.003\tTol1: 0.00743\tTol2: 0.09364\tTol3: 0.00738\t\n",
      "Iter 6/50\n",
      "M step: done,  E step: done //  (in 1.48 sec)\tlogL: -45823.435\tTol1: 0.00701\tTol2: 0.08314\tTol3: 0.00850\t\n",
      "Iter 7/50\n",
      "M step: done,  E step: done //  (in 1.46 sec)\tlogL: -45542.024\tTol1: 0.00614\tTol2: 0.07083\tTol3: 0.01065\t\n",
      "Iter 8/50\n",
      "M step: done,  E step: done //  (in 1.47 sec)\tlogL: -45264.890\tTol1: 0.00609\tTol2: 0.07312\tTol3: 0.01442\t\n",
      "Iter 9/50\n",
      "M step: done,  E step: done //  (in 1.47 sec)\tlogL: -44987.858\tTol1: 0.00612\tTol2: 0.06994\tTol3: 0.01775\t\n",
      "Iter 10/50\n",
      "M step: done,  E step: done //  (in 1.49 sec)\tlogL: -44838.897\tTol1: 0.00331\tTol2: 0.05791\tTol3: 0.01210\t\n",
      "Iter 11/50\n",
      "M step: done,  E step: done //  (in 1.46 sec)\tlogL: -44581.834\tTol1: 0.00573\tTol2: 0.05496\tTol3: 0.00689\t\n",
      "Iter 12/50\n"
     ]
    },
    {
     "name": "stdout",
     "output_type": "stream",
     "text": [
      "M step: done,  E step: done //  (in 1.50 sec)\tlogL: -44259.093\tTol1: 0.00724\tTol2: 0.07252\tTol3: 0.02347\t\n",
      "Iter 13/50\n",
      "M step: done,  E step: done //  (in 1.47 sec)\tlogL: -44171.815\tTol1: 0.00197\tTol2: 0.04358\tTol3: 0.00662\t\n",
      "Finished training!\n",
      "Initializing new EM...\n",
      "Doing clustering...Done!\n",
      "Get init alphas in 0.060525 mins\n",
      "Lambda by group:  [1. 1. 1.]\n",
      "Alphas:  (3,)\n",
      "MV init:  (25137, 4)\n",
      "Betas:  (3, 4, 4)\n",
      "Q estimate:  (25137, 4, 3, 4)\n",
      "Iter 1/50\n",
      "M step: done,  E step: done //  (in 2.80 sec)\tlogL: -48691.763\t\n",
      "Iter 2/50\n",
      "M step: done,  E step: done //  (in 1.46 sec)\tlogL: -47180.140\tTol1: 0.03104\tTol2: 0.28934\tTol3: 0.05762\t\n",
      "Iter 3/50\n",
      "M step: done,  E step: done //  (in 1.50 sec)\tlogL: -46712.810\tTol1: 0.00991\tTol2: 0.15023\tTol3: 0.00386\t\n",
      "Iter 4/50\n",
      "M step: done,  E step: done //  (in 1.47 sec)\tlogL: -46332.347\tTol1: 0.00814\tTol2: 0.12368\tTol3: 0.01197\t\n",
      "Iter 5/50\n",
      "M step: done,  E step: done //  (in 1.49 sec)\tlogL: -46051.872\tTol1: 0.00605\tTol2: 0.09928\tTol3: 0.01362\t\n",
      "Iter 6/50\n",
      "M step: done,  E step: done //  (in 1.46 sec)\tlogL: -45815.700\tTol1: 0.00513\tTol2: 0.09637\tTol3: 0.01132\t\n",
      "Iter 7/50\n",
      "M step: done,  E step: done //  (in 1.48 sec)\tlogL: -45549.494\tTol1: 0.00581\tTol2: 0.09545\tTol3: 0.01215\t\n",
      "Iter 8/50\n",
      "M step: done,  E step: done //  (in 1.46 sec)\tlogL: -45222.006\tTol1: 0.00719\tTol2: 0.06576\tTol3: 0.00566\t\n",
      "Iter 9/50\n",
      "M step: done,  E step: done //  (in 1.48 sec)\tlogL: -44884.592\tTol1: 0.00746\tTol2: 0.06250\tTol3: 0.00616\t\n",
      "Iter 10/50\n",
      "M step: done,  E step: done //  (in 1.46 sec)\tlogL: -44726.801\tTol1: 0.00352\tTol2: 0.06696\tTol3: 0.01493\t\n",
      "Iter 11/50\n",
      "M step: done,  E step: done //  (in 1.50 sec)\tlogL: -44348.657\tTol1: 0.00845\tTol2: 0.07632\tTol3: 0.01946\t\n",
      "Iter 12/50\n",
      "M step: done,  E step: done //  (in 1.47 sec)\tlogL: -44171.296\tTol1: 0.00400\tTol2: 0.04390\tTol3: 0.00157\t\n",
      "Finished training!\n",
      "Initializing new EM...\n",
      "Doing clustering...Done!\n",
      "Get init alphas in 0.060586 mins\n",
      "Lambda by group:  [1. 1. 1.]\n",
      "Alphas:  (3,)\n",
      "MV init:  (25137, 4)\n",
      "Betas:  (3, 4, 4)\n",
      "Q estimate:  (25137, 4, 3, 4)\n",
      "Iter 1/50\n",
      "M step: done,  E step: done //  (in 2.79 sec)\tlogL: -48771.355\t\n",
      "Iter 2/50\n",
      "M step: done,  E step: done //  (in 1.45 sec)\tlogL: -47159.672\tTol1: 0.03305\tTol2: 0.27998\tTol3: 0.04390\t\n",
      "Iter 3/50\n",
      "M step: done,  E step: done //  (in 1.50 sec)\tlogL: -46742.895\tTol1: 0.00884\tTol2: 0.14509\tTol3: 0.00307\t\n",
      "Iter 4/50\n",
      "M step: done,  E step: done //  (in 1.47 sec)\tlogL: -46402.597\tTol1: 0.00728\tTol2: 0.12125\tTol3: 0.01200\t\n",
      "Iter 5/50\n",
      "M step: done,  E step: done //  (in 1.51 sec)\tlogL: -46112.437\tTol1: 0.00625\tTol2: 0.10403\tTol3: 0.00872\t\n",
      "Iter 6/50\n",
      "M step: done,  E step: done //  (in 1.48 sec)\tlogL: -45680.002\tTol1: 0.00938\tTol2: 0.08145\tTol3: 0.00738\t\n",
      "Iter 7/50\n",
      "M step: done,  E step: done //  (in 1.47 sec)\tlogL: -45434.364\tTol1: 0.00538\tTol2: 0.08730\tTol3: 0.00680\t\n",
      "Iter 8/50\n",
      "M step: done,  E step: done //  (in 1.46 sec)\tlogL: -45088.772\tTol1: 0.00761\tTol2: 0.08029\tTol3: 0.01362\t\n",
      "Iter 9/50\n",
      "M step: done,  E step: done //  (in 1.50 sec)\tlogL: -44909.665\tTol1: 0.00397\tTol2: 0.06466\tTol3: 0.00851\t\n",
      "Iter 10/50\n",
      "M step: done,  E step: done //  (in 1.47 sec)\tlogL: -44563.553\tTol1: 0.00771\tTol2: 0.06480\tTol3: 0.01231\t\n",
      "Iter 11/50\n",
      "M step: done,  E step: done //  (in 1.48 sec)\tlogL: -44309.446\tTol1: 0.00570\tTol2: 0.04864\tTol3: 0.00714\t\n",
      "Finished training!\n",
      "Initializing new EM...\n",
      "Doing clustering...Done!\n",
      "Get init alphas in 0.057404 mins\n",
      "Lambda by group:  [1. 1. 1.]\n",
      "Alphas:  (3,)\n",
      "MV init:  (25137, 4)\n",
      "Betas:  (3, 4, 4)\n",
      "Q estimate:  (25137, 4, 3, 4)\n",
      "Iter 1/50\n",
      "M step: done,  E step: done //  (in 2.78 sec)\tlogL: -48843.333\t\n",
      "Iter 2/50\n",
      "M step: done,  E step: done //  (in 1.49 sec)\tlogL: -47266.005\tTol1: 0.03229\tTol2: 0.28663\tTol3: 0.05215\t\n",
      "Iter 3/50\n",
      "M step: done,  E step: done //  (in 1.46 sec)\tlogL: -46781.123\tTol1: 0.01026\tTol2: 0.14605\tTol3: 0.00626\t\n",
      "Iter 4/50\n",
      "M step: done,  E step: done //  (in 1.50 sec)\tlogL: -46373.178\tTol1: 0.00872\tTol2: 0.11381\tTol3: 0.00998\t\n",
      "Iter 5/50\n",
      "M step: done,  E step: done //  (in 1.49 sec)\tlogL: -46072.553\tTol1: 0.00648\tTol2: 0.09919\tTol3: 0.01238\t\n",
      "Iter 6/50\n",
      "M step: done,  E step: done //  (in 1.50 sec)\tlogL: -45749.650\tTol1: 0.00701\tTol2: 0.08199\tTol3: 0.00524\t\n",
      "Iter 7/50\n",
      "M step: done,  E step: done //  (in 1.47 sec)\tlogL: -45504.305\tTol1: 0.00536\tTol2: 0.07421\tTol3: 0.01085\t\n",
      "Iter 8/50\n",
      "M step: done,  E step: done //  (in 1.50 sec)\tlogL: -45207.836\tTol1: 0.00652\tTol2: 0.06883\tTol3: 0.00855\t\n",
      "Iter 9/50\n",
      "M step: done,  E step: done //  (in 1.45 sec)\tlogL: -44998.983\tTol1: 0.00462\tTol2: 0.06246\tTol3: 0.01549\t\n",
      "Iter 10/50\n",
      "M step: done,  E step: done //  (in 1.51 sec)\tlogL: -44715.918\tTol1: 0.00629\tTol2: 0.05552\tTol3: 0.00893\t\n",
      "Iter 11/50\n",
      "M step: done,  E step: done //  (in 1.45 sec)\tlogL: -44434.052\tTol1: 0.00630\tTol2: 0.06141\tTol3: 0.01336\t\n",
      "Iter 12/50\n",
      "M step: done,  E step: done //  (in 1.50 sec)\tlogL: -44104.893\tTol1: 0.00741\tTol2: 0.04661\tTol3: 0.00236\t\n",
      "Finished training!\n",
      "Initializing new EM...\n",
      "Doing clustering...Done!\n",
      "Get init alphas in 0.056209 mins\n",
      "Lambda by group:  [1. 1. 1.]\n",
      "Alphas:  (3,)\n",
      "MV init:  (25137, 4)\n",
      "Betas:  (3, 4, 4)\n",
      "Q estimate:  (25137, 4, 3, 4)\n",
      "Iter 1/50\n",
      "M step: done,  E step: done //  (in 2.76 sec)\tlogL: -48596.923\t\n",
      "Iter 2/50\n",
      "M step: done,  E step: done //  (in 1.48 sec)\tlogL: -47208.269\tTol1: 0.02857\tTol2: 0.28288\tTol3: 0.04513\t\n",
      "Iter 3/50\n",
      "M step: done,  E step: done //  (in 1.47 sec)\tlogL: -46653.814\tTol1: 0.01174\tTol2: 0.14705\tTol3: 0.01521\t\n",
      "Iter 4/50\n",
      "M step: done,  E step: done //  (in 1.49 sec)\tlogL: -46269.322\tTol1: 0.00824\tTol2: 0.12002\tTol3: 0.01259\t\n",
      "Iter 5/50\n",
      "M step: done,  E step: done //  (in 1.46 sec)\tlogL: -45916.586\tTol1: 0.00762\tTol2: 0.09838\tTol3: 0.00985\t\n",
      "Iter 6/50\n",
      "M step: done,  E step: done //  (in 1.48 sec)\tlogL: -45657.669\tTol1: 0.00564\tTol2: 0.08495\tTol3: 0.01221\t\n",
      "Iter 7/50\n",
      "M step: done,  E step: done //  (in 1.46 sec)\tlogL: -45420.057\tTol1: 0.00520\tTol2: 0.08507\tTol3: 0.01735\t\n",
      "Iter 8/50\n",
      "M step: done,  E step: done //  (in 1.49 sec)\tlogL: -45060.730\tTol1: 0.00791\tTol2: 0.07711\tTol3: 0.01298\t\n",
      "Iter 9/50\n",
      "M step: done,  E step: done //  (in 1.46 sec)\tlogL: -44824.224\tTol1: 0.00525\tTol2: 0.07076\tTol3: 0.01765\t\n",
      "Iter 10/50\n",
      "M step: done,  E step: done //  (in 1.49 sec)\tlogL: -44602.348\tTol1: 0.00495\tTol2: 0.07377\tTol3: 0.02209\t\n",
      "Iter 11/50\n",
      "M step: done,  E step: done //  (in 1.48 sec)\tlogL: -44224.611\tTol1: 0.00847\tTol2: 0.05933\tTol3: 0.00533\t\n",
      "Iter 12/50\n",
      "M step: done,  E step: done //  (in 1.49 sec)\tlogL: -43954.568\tTol1: 0.00611\tTol2: 0.04598\tTol3: 0.00663\t\n",
      "Finished training!\n",
      "Initializing new EM...\n",
      "Doing clustering...Done!\n",
      "Get init alphas in 0.056866 mins\n",
      "Lambda by group:  [1. 1. 1.]\n",
      "Alphas:  (3,)\n",
      "MV init:  (25137, 4)\n",
      "Betas:  (3, 4, 4)\n",
      "Q estimate:  (25137, 4, 3, 4)\n",
      "Iter 1/50\n",
      "M step: done,  E step: done //  (in 2.78 sec)\tlogL: -48835.118\t\n",
      "Iter 2/50\n",
      "M step: done,  E step: done //  (in 1.49 sec)\tlogL: -47145.640\tTol1: 0.03460\tTol2: 0.30365\tTol3: 0.06474\t\n",
      "Iter 3/50\n",
      "M step: done,  E step: done //  (in 1.50 sec)\tlogL: -46702.553\tTol1: 0.00940\tTol2: 0.14579\tTol3: 0.00276\t\n",
      "Iter 4/50\n",
      "M step: done,  E step: done //  (in 1.51 sec)\tlogL: -46322.990\tTol1: 0.00813\tTol2: 0.11529\tTol3: 0.01110\t\n",
      "Iter 5/50\n",
      "M step: done,  E step: done //  (in 1.47 sec)\tlogL: -46028.008\tTol1: 0.00637\tTol2: 0.10015\tTol3: 0.01542\t\n",
      "Iter 6/50\n",
      "M step: done,  E step: done //  (in 1.48 sec)\tlogL: -45858.756\tTol1: 0.00368\tTol2: 0.08618\tTol3: 0.01523\t\n",
      "Iter 7/50\n",
      "M step: done,  E step: done //  (in 1.47 sec)\tlogL: -45389.665\tTol1: 0.01023\tTol2: 0.09298\tTol3: 0.01752\t\n",
      "Iter 8/50\n",
      "M step: done,  E step: done //  (in 1.50 sec)\tlogL: -45133.559\tTol1: 0.00564\tTol2: 0.07513\tTol3: 0.01398\t\n",
      "Iter 9/50\n",
      "M step: done,  E step: done //  (in 1.48 sec)\tlogL: -44802.014\tTol1: 0.00735\tTol2: 0.06835\tTol3: 0.01500\t\n",
      "Iter 10/50\n",
      "M step: done,  E step: done //  (in 1.49 sec)\tlogL: -44578.321\tTol1: 0.00499\tTol2: 0.05635\tTol3: 0.01102\t\n",
      "Iter 11/50\n",
      "M step: done,  E step: done //  (in 1.47 sec)\tlogL: -44273.920\tTol1: 0.00683\tTol2: 0.06946\tTol3: 0.02279\t\n",
      "Iter 12/50\n",
      "M step: done,  E step: done //  (in 1.49 sec)\tlogL: -44031.323\tTol1: 0.00548\tTol2: 0.05345\tTol3: 0.01815\t\n",
      "Iter 13/50\n",
      "M step: done,  E step: done //  (in 1.48 sec)\tlogL: -43775.440\tTol1: 0.00581\tTol2: 0.05364\tTol3: 0.00747\t\n",
      "Iter 14/50\n",
      "M step: done,  E step: done //  (in 1.48 sec)\tlogL: -43512.438\tTol1: 0.00601\tTol2: 0.07448\tTol3: 0.01040\t\n",
      "Iter 15/50\n"
     ]
    },
    {
     "name": "stdout",
     "output_type": "stream",
     "text": [
      "M step: done,  E step: done //  (in 1.47 sec)\tlogL: -43237.061\tTol1: 0.00633\tTol2: 0.05056\tTol3: 0.00976\t\n",
      "Iter 16/50\n",
      "M step: done,  E step: done //  (in 1.49 sec)\tlogL: -42884.528\tTol1: 0.00815\tTol2: 0.06379\tTol3: 0.00729\t\n",
      "Iter 17/50\n",
      "M step: done,  E step: done //  (in 1.47 sec)\tlogL: -42694.068\tTol1: 0.00444\tTol2: 0.05257\tTol3: 0.01651\t\n",
      "Iter 18/50\n",
      "M step: done,  E step: done //  (in 1.50 sec)\tlogL: -42565.462\tTol1: 0.00301\tTol2: 0.05601\tTol3: 0.00467\t\n",
      "Iter 19/50\n",
      "M step: done,  E step: done //  (in 1.48 sec)\tlogL: -42188.502\tTol1: 0.00886\tTol2: 0.06480\tTol3: 0.01916\t\n",
      "Iter 20/50\n",
      "M step: done,  E step: done //  (in 1.53 sec)\tlogL: -41885.895\tTol1: 0.00717\tTol2: 0.06131\tTol3: 0.00689\t\n",
      "Iter 21/50\n",
      "M step: done,  E step: done //  (in 1.50 sec)\tlogL: -41719.936\tTol1: 0.00396\tTol2: 0.03678\tTol3: 0.01499\t\n",
      "Finished training!\n",
      "Initializing new EM...\n",
      "Doing clustering...Done!\n",
      "Get init alphas in 0.058275 mins\n",
      "Lambda by group:  [1. 1. 1.]\n",
      "Alphas:  (3,)\n",
      "MV init:  (25137, 4)\n",
      "Betas:  (3, 4, 4)\n",
      "Q estimate:  (25137, 4, 3, 4)\n",
      "Iter 1/50\n",
      "M step: done,  E step: done //  (in 2.90 sec)\tlogL: -48694.396\t\n",
      "Iter 2/50\n",
      "M step: done,  E step: done //  (in 1.38 sec)\tlogL: -47157.245\tTol1: 0.03157\tTol2: 0.28991\tTol3: 0.06168\t\n",
      "Iter 3/50\n",
      "M step: done,  E step: done //  (in 1.53 sec)\tlogL: -46680.653\tTol1: 0.01011\tTol2: 0.15427\tTol3: 0.00365\t\n",
      "Iter 4/50\n",
      "M step: done,  E step: done //  (in 1.46 sec)\tlogL: -46353.685\tTol1: 0.00700\tTol2: 0.11172\tTol3: 0.00804\t\n",
      "Iter 5/50\n",
      "M step: done,  E step: done //  (in 1.50 sec)\tlogL: -46254.897\tTol1: 0.00213\tTol2: 0.09585\tTol3: 0.00879\t\n",
      "Iter 6/50\n",
      "M step: done,  E step: done //  (in 1.46 sec)\tlogL: -45806.688\tTol1: 0.00969\tTol2: 0.11098\tTol3: 0.01309\t\n",
      "Iter 7/50\n",
      "M step: done,  E step: done //  (in 1.51 sec)\tlogL: -45558.289\tTol1: 0.00542\tTol2: 0.07300\tTol3: 0.00839\t\n",
      "Iter 8/50\n",
      "M step: done,  E step: done //  (in 1.47 sec)\tlogL: -45291.057\tTol1: 0.00587\tTol2: 0.08461\tTol3: 0.01013\t\n",
      "Iter 9/50\n",
      "M step: done,  E step: done //  (in 1.47 sec)\tlogL: -45005.806\tTol1: 0.00630\tTol2: 0.07390\tTol3: 0.01746\t\n",
      "Iter 10/50\n",
      "M step: done,  E step: done //  (in 1.47 sec)\tlogL: -44755.018\tTol1: 0.00557\tTol2: 0.06558\tTol3: 0.01316\t\n",
      "Iter 11/50\n",
      "M step: done,  E step: done //  (in 1.50 sec)\tlogL: -44457.640\tTol1: 0.00664\tTol2: 0.06386\tTol3: 0.01313\t\n",
      "Iter 12/50\n",
      "M step: done,  E step: done //  (in 1.46 sec)\tlogL: -44276.684\tTol1: 0.00407\tTol2: 0.04719\tTol3: 0.01099\t\n",
      "Finished training!\n",
      "Multiples runs over Ours Global, Epochs to converge=  13.55\n"
     ]
    }
   ],
   "source": [
    "gMixture_Global = GroupMixtureGlo(Xstd_train.shape[1:],Kl=r_obs.shape[1],M=M_seted,epochs=1,optimizer=OPT,dtype_op=DTYPE_OP) \n",
    "gMixture_Global.define_model(\"mlp\",128,1,BatchN=True,drop=0.5)\n",
    "\n",
    "if uniform:\n",
    "    gMixture_Global.define_priors(\"laplace\")\n",
    "    gMixture_Global.define_priors(uniform_groups)\n",
    "\n",
    "gMixture_Global.lambda_random = False \n",
    "logL_hists,i_r = gMixture_Global.multiples_run(20,Xstd_train,r_obs,\n",
    "                                               batch_size=BATCH_SIZE,max_iter=EPOCHS_BASE,tolerance=TOL*5/3)"
   ]
  },
  {
   "cell_type": "code",
   "execution_count": 32,
   "metadata": {},
   "outputs": [],
   "source": [
    "Z_train_p = gMixture_Global.get_predictions(Xstd_train)\n",
    "Z_train_pred = Z_train_p.argmax(axis=-1)\n",
    "Z_val_p = gMixture_Global.get_predictions(Xstd_val)\n",
    "Z_val_pred = Z_val_p.argmax(axis=-1)\n",
    "Z_test_p = gMixture_Global.get_predictions(Xstd_test)\n",
    "Z_test_pred = Z_test_p.argmax(axis=-1)"
   ]
  },
  {
   "cell_type": "code",
   "execution_count": 33,
   "metadata": {},
   "outputs": [
    {
     "data": {
      "image/png": "[encoded data removed]",
      "text/plain": [
       "<Figure size 1080x504 with 1 Axes>"
      ]
     },
     "metadata": {
      "needs_background": "light"
     },
     "output_type": "display_data"
    }
   ],
   "source": [
    "plt.figure(figsize=(15,7))\n",
    "for a, value in enumerate(logL_hists): #logL_hists\n",
    "    if a != i_r:\n",
    "        plt.plot(range(len(value)),value,'.-')\n",
    "plt.plot(range(len(logL_hists[i_r])),logL_hists[i_r],'o-',markersize=10,label=\"Selected run\")\n",
    "plt.legend()\n",
    "plt.show()"
   ]
  },
  {
   "cell_type": "code",
   "execution_count": null,
   "metadata": {},
   "outputs": [],
   "source": []
  },
  {
   "cell_type": "code",
   "execution_count": 28,
   "metadata": {},
   "outputs": [
    {
     "name": "stdout",
     "output_type": "stream",
     "text": [
      "shape of annotator representation (T, R_t)= (1389, 1389)\n"
     ]
    }
   ],
   "source": [
    "Y_ann_train, T_idx = set_representation(y_obs,\"onehotvar\")\n",
    "T_idx_unique = np.arange(T).reshape(-1,1)\n",
    "\n",
    "A = keras.utils.to_categorical(np.arange(T), num_classes=T) #fast way\n",
    "print(\"shape of annotator representation (T, R_t)=\", A.shape)"
   ]
  },
  {
   "cell_type": "code",
   "execution_count": 29,
   "metadata": {
    "scrolled": true
   },
   "outputs": [
    {
     "name": "stdout",
     "output_type": "stream",
     "text": [
      "shape of annotator representation (T, R_t)= (1389, 16)\n"
     ]
    },
    {
     "data": {
      "image/png": "[encoded data removed]",
      "text/plain": [
       "<Figure size 432x288 with 1 Axes>"
      ]
     },
     "metadata": {
      "needs_background": "light"
     },
     "output_type": "display_data"
    },
    {
     "data": {
      "image/png": "[encoded data removed]",
      "text/plain": [
       "<Figure size 432x288 with 1 Axes>"
      ]
     },
     "metadata": {
      "needs_background": "light"
     },
     "output_type": "display_data"
    },
    {
     "data": {
      "text/plain": [
       "array([[27., 42., 96., 30.],\n",
       "       [50., 10.,  8., 23.],\n",
       "       [ 2.,  3.,  2.,  5.],\n",
       "       ...,\n",
       "       [ 1.,  3.,  0.,  0.],\n",
       "       [ 0.,  3.,  1.,  0.],\n",
       "       [ 0.,  1.,  0.,  0.]])"
      ]
     },
     "execution_count": 29,
     "metadata": {},
     "output_type": "execute_result"
    }
   ],
   "source": [
    "from code.MixtureofGroups import *\n",
    "conf_mat, conf_mat_norm  = build_conf_Yvar(Y_ann_train, T_idx, r_obs.argmax(axis=-1))\n",
    "\n",
    "A_rep = conf_mat_norm.reshape(conf_mat_norm.shape[0], Kl**2) #flatten\n",
    "#A_rep = np.zeros((conf_mat.shape[0], Kl))\n",
    "#for t in range(A_rep.shape[0]):\n",
    "#    A_rep[t] = JS_confmatrixs(conf_mat_norm[t], np.identity(Kl),raw=True) #distancia a I (MV)\n",
    "    \n",
    "print(\"shape of annotator representation (T, R_t)=\", A_rep.shape)\n",
    "\n",
    "from sklearn.decomposition import PCA\n",
    "model = PCA(2)\n",
    "aux_pca = model.fit_transform(A_rep)\n",
    "plt.scatter(aux_pca[:,0],aux_pca[:,1])\n",
    "plt.show()\n",
    "\n",
    "\n",
    "A_rep = np.zeros((y_obs.shape[1], Kl))\n",
    "for i in range(N):\n",
    "    for l, t_idx in enumerate(T_idx[i]):\n",
    "        obs_t = Y_ann_train[i][l].argmax(axis=-1)\n",
    "        A_rep[t_idx, obs_t] += 1\n",
    "    \n",
    "from sklearn.decomposition import PCA\n",
    "model = PCA(2)\n",
    "aux_pca = model.fit_transform(A_rep)\n",
    "plt.scatter(aux_pca[:,0],aux_pca[:,1])\n",
    "plt.show()\n",
    "A_rep"
   ]
  },
  {
   "cell_type": "code",
   "execution_count": 35,
   "metadata": {},
   "outputs": [],
   "source": [
    "#different M_seted??\n",
    "M_seted = 3"
   ]
  },
  {
   "cell_type": "code",
   "execution_count": null,
   "metadata": {},
   "outputs": [],
   "source": [
    "gMixture_Ind1 = GroupMixtureInd(Xstd_train.shape[1:],Kl=Kl,M=M_seted,epochs=1,optimizer=OPT,dtype_op=DTYPE_OP) \n",
    "gMixture_Ind1.define_model(\"mlp\",128,1,BatchN=True,drop=0.5)\n",
    "\n",
    "#gMixture_Ind.define_model_group(\"mlp\", T, M_seted, 1, BatchN=True, embed=True, embed_M=A) #con o sin BN\n",
    "gMixture_Ind1.define_model_group(\"perceptron\",T, M_seted, embed=True, embed_M=A, BatchN=True,bias=False)\n",
    "\n",
    "logL_hists,i = gMixture_Ind1.multiples_run(1,Xstd_train,Y_ann_train, T_idx, A=[], batch_size=BATCH_SIZE,\n",
    "                                    pre_init_z=3,pre_init_g=0,max_iter=EPOCHS_BASE,tolerance=TOL*5/3)"
   ]
  },
  {
   "cell_type": "code",
   "execution_count": 171,
   "metadata": {},
   "outputs": [],
   "source": [
    "Z_train_p = gMixture_Ind1.get_predictions_z(Xstd_train)\n",
    "Z_train_pred = Z_train_p.argmax(axis=-1)\n",
    "Z_val_p = gMixture_Ind1.get_predictions_z(Xstd_val)\n",
    "Z_val_pred = Z_val_p.argmax(axis=-1)\n",
    "Z_test_p = gMixture_Ind1.get_predictions_z(Xstd_test)\n",
    "Z_test_pred = Z_test_p.argmax(axis=-1)\n",
    "prob_Gt = gMixture_Ind1.get_predictions_g(T_idx_unique) "
   ]
  },
  {
   "cell_type": "code",
   "execution_count": 38,
   "metadata": {},
   "outputs": [
    {
     "data": {
      "text/plain": [
       "array([[0.12162162, 0.2027027 , 0.51351351, 0.16216216],\n",
       "       [0.52857143, 0.08571429, 0.1       , 0.28571429],\n",
       "       [0.13333333, 0.13333333, 0.53333333, 0.2       ],\n",
       "       ...,\n",
       "       [0.2       , 0.8       , 0.        , 0.        ],\n",
       "       [0.        , 0.5       , 0.5       , 0.        ],\n",
       "       [0.        , 1.        , 0.        , 0.        ]])"
      ]
     },
     "execution_count": 38,
     "metadata": {},
     "output_type": "execute_result"
    }
   ],
   "source": [
    "A_rep = A_rep/A_rep.sum(axis=-1,keepdims=True)\n",
    "A_rep"
   ]
  },
  {
   "cell_type": "code",
   "execution_count": null,
   "metadata": {},
   "outputs": [],
   "source": [
    "gMixture_Ind3 = GroupMixtureInd(Xstd_train.shape[1:],Kl=Kl,M=M_seted,epochs=1,optimizer=OPT,dtype_op=DTYPE_OP) \n",
    "gMixture_Ind3.define_model(\"mlp\",128,1,BatchN=True,drop=0.5)\n",
    "gMixture_Ind3.define_model_group(\"mlp\", A_rep.shape[1], Kl*M_seted, 1, BatchN=False, embed=False) #con BN y A norm\n",
    "\n",
    "logL_hists,i_r = gMixture_Ind3.multiples_run(1,Xstd_train,Y_ann_train, T_idx, A=A_rep, batch_size=BATCH_SIZE,\n",
    "                                   pre_init_z=3,pre_init_g=0,max_iter=EPOCHS_BASE,tolerance=TOL*5/3) "
   ]
  },
  {
   "cell_type": "code",
   "execution_count": 46,
   "metadata": {
    "scrolled": true
   },
   "outputs": [],
   "source": [
    "Z_train_p = gMixture_Ind3.get_predictions_z(Xstd_train)\n",
    "Z_train_pred = Z_train_p.argmax(axis=-1)\n",
    "Z_val_p = gMixture_Ind3.get_predictions_z(Xstd_val)\n",
    "Z_val_pred = Z_val_p.argmax(axis=-1)\n",
    "Z_test_p = gMixture_Ind3.get_predictions_z(Xstd_test)\n",
    "Z_test_pred = Z_test_p.argmax(axis=-1)\n",
    "prob_Gt = gMixture_Ind3.get_predictions_g(A_rep) "
   ]
  },
  {
   "cell_type": "markdown",
   "metadata": {},
   "source": [
    "### Compare trained models"
   ]
  },
  {
   "cell_type": "code",
   "execution_count": 19,
   "metadata": {},
   "outputs": [],
   "source": [
    "#Import it:\n",
    "from code.evaluation import Evaluation_metrics\n",
    "\n",
    "colors = {0: 'b', 1:'r' ,2:'g'}\n",
    "marker_s = {0: 'X', 1:'o', 2:'P'}\n",
    "\n",
    "def plot_alphas(alphas_training):\n",
    "    values = np.asarray(alphas_training)\n",
    "    if len(values.shape) == 3:\n",
    "        group_f = values[-1].argmax(axis=-1) #coloreado por el grupo del final..\n",
    "        \n",
    "        for m in range(M_seted):\n",
    "            plt.figure(figsize=(15,7))\n",
    "            for t in range(values.shape[1]):\n",
    "                plt.plot(values[:,t,m], color=colors[group_f[t]], markersize=5)\n",
    "            plt.title(\"Group \"+str(m))\n",
    "            plt.show()\n",
    "\n",
    "        plt.figure(figsize=(15,10))\n",
    "        for t in range(values.shape[1]):\n",
    "            grupos_t_train = values[:,t,:].argmax(axis=-1)+t/values.shape[1]\n",
    "            plt.plot(grupos_t_train, markersize=5, color=colors[group_f[t]])\n",
    "            #plt.plot(grupos_t_train, markersize=5, marker=marker_s[group_f[t]])\n",
    "\n",
    "        for m in range(M_seted+1):\n",
    "            plt.hlines(m, 0,values.shape[0], linestyles=\"dashed\")\n",
    "        plt.show()\n",
    "        \n",
    "    else:\n",
    "        plt.figure(figsize=(15,7))\n",
    "        for m in range(M_seted):\n",
    "            plt.plot(values[:,m], color=colors[m], markersize=5, label=\"Group \"+str(m))\n",
    "        plt.legend()\n",
    "        plt.show()"
   ]
  },
  {
   "cell_type": "code",
   "execution_count": 25,
   "metadata": {},
   "outputs": [
    {
     "name": "stdout",
     "output_type": "stream",
     "text": [
      "Epochs:  4.4\n"
     ]
    },
    {
     "data": {
      "text/html": [
       "<div>\n",
       "<style scoped>\n",
       "    .dataframe tbody tr th:only-of-type {\n",
       "        vertical-align: middle;\n",
       "    }\n",
       "\n",
       "    .dataframe tbody tr th {\n",
       "        vertical-align: top;\n",
       "    }\n",
       "\n",
       "    .dataframe thead th {\n",
       "        text-align: right;\n",
       "    }\n",
       "</style>\n",
       "<table border=\"1\" class=\"dataframe\">\n",
       "  <thead>\n",
       "    <tr style=\"text-align: right;\">\n",
       "      <th></th>\n",
       "      <th></th>\n",
       "      <th>Accuracy_x</th>\n",
       "      <th>F1 (micro)_x</th>\n",
       "      <th>F1 (macro)_x</th>\n",
       "      <th>Accuracy_y</th>\n",
       "      <th>F1 (micro)_y</th>\n",
       "      <th>F1 (macro)_y</th>\n",
       "    </tr>\n",
       "  </thead>\n",
       "  <tbody>\n",
       "    <tr>\n",
       "      <th>0</th>\n",
       "      <td>All</td>\n",
       "      <td>0.674625</td>\n",
       "      <td>0.674625</td>\n",
       "      <td>0.660171</td>\n",
       "      <td>0.004145</td>\n",
       "      <td>0.004145</td>\n",
       "      <td>0.005267</td>\n",
       "    </tr>\n",
       "  </tbody>\n",
       "</table>\n",
       "</div>"
      ],
      "text/plain": [
       "        Accuracy_x  F1 (micro)_x  F1 (macro)_x  Accuracy_y  F1 (micro)_y  \\\n",
       "0  All    0.674625      0.674625      0.660171    0.004145      0.004145   \n",
       "\n",
       "   F1 (macro)_y  \n",
       "0      0.005267  "
      ]
     },
     "execution_count": 25,
     "metadata": {},
     "output_type": "execute_result"
    }
   ],
   "source": [
    "aux_tr = []\n",
    "aux_te = []\n",
    "eps = []\n",
    "for _ in range(20):\n",
    "    model_UB = clone_UB.get_model()\n",
    "    model_UB.compile(loss='categorical_crossentropy',optimizer=OPT)\n",
    "    hist = model_UB.fit(Xstd_train,Z_train_onehot,epochs=EPOCHS_BASE,batch_size=BATCH_SIZE,verbose=0,callbacks=[ourCallback])\n",
    "    Z_train_pred = model_UB.predict_classes(Xstd_train)\n",
    "    Z_test_pred = model_UB.predict_classes(Xstd_test)\n",
    "\n",
    "    evaluate = Evaluation_metrics(model_UB,'keras',Xstd_train.shape[0], plot=False)\n",
    "    aux_tr += evaluate.calculate_metrics(Z=Z_train,Z_pred=Z_train_pred)\n",
    "    aux_te += evaluate.calculate_metrics(Z=Z_test,Z_pred=Z_test_pred)\n",
    "    eps.append(len(hist.epoch))\n",
    "    \n",
    "print(\"Epochs: \",np.mean(eps))\n",
    "final_tr_m = get_mean_dataframes(aux_tr)#.to_csv(\"LabelMe_Ideal_train.csv\",index=False)\n",
    "final_tr_std = get_mean_dataframes(aux_tr, mean_std=False)#.to_csv(\"LabelMe_Ideal_train_std.csv\",index=False)\n",
    "final_te_m = get_mean_dataframes(aux_te)#.to_csv(\"LabelMe_Ideal_test.csv\",index=False)\n",
    "final_te_std = get_mean_dataframes(aux_te, mean_std=False)#.to_csv(\"LabelMe_Ideal_test_std.csv\",index=False)\n",
    "\n",
    "final_tr_m.merge(final_tr_std.iloc[:,1:], left_index=True, right_index=True)"
   ]
  },
  {
   "cell_type": "code",
   "execution_count": 26,
   "metadata": {},
   "outputs": [
    {
     "data": {
      "text/html": [
       "<div>\n",
       "<style scoped>\n",
       "    .dataframe tbody tr th:only-of-type {\n",
       "        vertical-align: middle;\n",
       "    }\n",
       "\n",
       "    .dataframe tbody tr th {\n",
       "        vertical-align: top;\n",
       "    }\n",
       "\n",
       "    .dataframe thead th {\n",
       "        text-align: right;\n",
       "    }\n",
       "</style>\n",
       "<table border=\"1\" class=\"dataframe\">\n",
       "  <thead>\n",
       "    <tr style=\"text-align: right;\">\n",
       "      <th></th>\n",
       "      <th></th>\n",
       "      <th>Accuracy_x</th>\n",
       "      <th>F1 (micro)_x</th>\n",
       "      <th>F1 (macro)_x</th>\n",
       "      <th>Accuracy_y</th>\n",
       "      <th>F1 (micro)_y</th>\n",
       "      <th>F1 (macro)_y</th>\n",
       "    </tr>\n",
       "  </thead>\n",
       "  <tbody>\n",
       "    <tr>\n",
       "      <th>0</th>\n",
       "      <td>All</td>\n",
       "      <td>0.787348</td>\n",
       "      <td>0.787348</td>\n",
       "      <td>0.745004</td>\n",
       "      <td>0.003944</td>\n",
       "      <td>0.003944</td>\n",
       "      <td>0.006864</td>\n",
       "    </tr>\n",
       "  </tbody>\n",
       "</table>\n",
       "</div>"
      ],
      "text/plain": [
       "        Accuracy_x  F1 (micro)_x  F1 (macro)_x  Accuracy_y  F1 (micro)_y  \\\n",
       "0  All    0.787348      0.787348      0.745004    0.003944      0.003944   \n",
       "\n",
       "   F1 (macro)_y  \n",
       "0      0.006864  "
      ]
     },
     "execution_count": 26,
     "metadata": {},
     "output_type": "execute_result"
    }
   ],
   "source": [
    "final_te_m.merge(final_te_std.iloc[:,1:], left_index=True, right_index=True)"
   ]
  },
  {
   "cell_type": "code",
   "execution_count": 20,
   "metadata": {
    "scrolled": true
   },
   "outputs": [
    {
     "name": "stdout",
     "output_type": "stream",
     "text": [
      "*** Soft-Majority (Train with softMV) ***\n",
      "Train\n",
      "Calculate confusion matrix on repeat version\n"
     ]
    },
    {
     "data": {
      "image/png": "[encoded data removed]",
      "text/plain": [
       "<Figure size 432x288 with 2 Axes>"
      ]
     },
     "metadata": {
      "needs_background": "light"
     },
     "output_type": "display_data"
    },
    {
     "name": "stdout",
     "output_type": "stream",
     "text": [
      "JS divergence: 0.139\tNorm Frobenius: 0.225\n"
     ]
    },
    {
     "data": {
      "image/png": "[encoded data removed]",
      "text/plain": [
       "<Figure size 432x288 with 2 Axes>"
      ]
     },
     "metadata": {
      "needs_background": "light"
     },
     "output_type": "display_data"
    },
    {
     "name": "stdout",
     "output_type": "stream",
     "text": [
      "JS divergence: 0.085\tNorm Frobenius: 0.149\n"
     ]
    },
    {
     "data": {
      "image/png": "[encoded data removed]",
      "text/plain": [
       "<Figure size 432x288 with 2 Axes>"
      ]
     },
     "metadata": {
      "needs_background": "light"
     },
     "output_type": "display_data"
    },
    {
     "name": "stdout",
     "output_type": "stream",
     "text": [
      "JS divergence: 0.215\tNorm Frobenius: 0.264\n"
     ]
    },
    {
     "data": {
      "image/png": "[encoded data removed]",
      "text/plain": [
       "<Figure size 432x288 with 2 Axes>"
      ]
     },
     "metadata": {
      "needs_background": "light"
     },
     "output_type": "display_data"
    },
    {
     "name": "stdout",
     "output_type": "stream",
     "text": [
      "JS divergence: 0.183\tNorm Frobenius: 0.270\n"
     ]
    },
    {
     "data": {
      "image/png": "[encoded data removed]",
      "text/plain": [
       "<Figure size 432x288 with 2 Axes>"
      ]
     },
     "metadata": {
      "needs_background": "light"
     },
     "output_type": "display_data"
    },
    {
     "name": "stdout",
     "output_type": "stream",
     "text": [
      "JS divergence: 0.135\tNorm Frobenius: 0.171\n"
     ]
    },
    {
     "data": {
      "image/png": "[encoded data removed]",
      "text/plain": [
       "<Figure size 432x288 with 2 Axes>"
      ]
     },
     "metadata": {
      "needs_background": "light"
     },
     "output_type": "display_data"
    },
    {
     "name": "stdout",
     "output_type": "stream",
     "text": [
      "JS divergence: 0.301\tNorm Frobenius: 0.356\n"
     ]
    },
    {
     "data": {
      "image/png": "[encoded data removed]",
      "text/plain": [
       "<Figure size 432x288 with 2 Axes>"
      ]
     },
     "metadata": {
      "needs_background": "light"
     },
     "output_type": "display_data"
    },
    {
     "name": "stdout",
     "output_type": "stream",
     "text": [
      "JS divergence: 0.148\tNorm Frobenius: 0.196\n"
     ]
    },
    {
     "data": {
      "image/png": "[encoded data removed]",
      "text/plain": [
       "<Figure size 432x288 with 2 Axes>"
      ]
     },
     "metadata": {
      "needs_background": "light"
     },
     "output_type": "display_data"
    },
    {
     "name": "stdout",
     "output_type": "stream",
     "text": [
      "JS divergence: 0.126\tNorm Frobenius: 0.207\n"
     ]
    },
    {
     "data": {
      "image/png": "[encoded data removed]",
      "text/plain": [
       "<Figure size 432x288 with 2 Axes>"
      ]
     },
     "metadata": {
      "needs_background": "light"
     },
     "output_type": "display_data"
    },
    {
     "name": "stdout",
     "output_type": "stream",
     "text": [
      "JS divergence: 0.203\tNorm Frobenius: 0.273\n"
     ]
    },
    {
     "data": {
      "image/png": "[encoded data removed]",
      "text/plain": [
       "<Figure size 432x288 with 2 Axes>"
      ]
     },
     "metadata": {
      "needs_background": "light"
     },
     "output_type": "display_data"
    },
    {
     "name": "stdout",
     "output_type": "stream",
     "text": [
      "JS divergence: 0.285\tNorm Frobenius: 0.316\n"
     ]
    },
    {
     "data": {
      "image/png": "[encoded data removed]",
      "text/plain": [
       "<Figure size 432x288 with 2 Axes>"
      ]
     },
     "metadata": {
      "needs_background": "light"
     },
     "output_type": "display_data"
    },
    {
     "name": "stdout",
     "output_type": "stream",
     "text": [
      "JS divergence: 0.159\tNorm Frobenius: 0.254\n"
     ]
    },
    {
     "data": {
      "image/png": "[encoded data removed]",
      "text/plain": [
       "<Figure size 432x288 with 2 Axes>"
      ]
     },
     "metadata": {
      "needs_background": "light"
     },
     "output_type": "display_data"
    },
    {
     "name": "stdout",
     "output_type": "stream",
     "text": [
      "JS divergence: 0.205\tNorm Frobenius: 0.235\n"
     ]
    },
    {
     "data": {
      "image/png": "[encoded data removed]",
      "text/plain": [
       "<Figure size 432x288 with 2 Axes>"
      ]
     },
     "metadata": {
      "needs_background": "light"
     },
     "output_type": "display_data"
    },
    {
     "name": "stdout",
     "output_type": "stream",
     "text": [
      "JS divergence: 0.071\tNorm Frobenius: 0.123\n"
     ]
    },
    {
     "data": {
      "image/png": "[encoded data removed]",
      "text/plain": [
       "<Figure size 432x288 with 2 Axes>"
      ]
     },
     "metadata": {
      "needs_background": "light"
     },
     "output_type": "display_data"
    },
    {
     "name": "stdout",
     "output_type": "stream",
     "text": [
      "JS divergence: 0.337\tNorm Frobenius: 0.370\n"
     ]
    },
    {
     "data": {
      "image/png": "[encoded data removed]",
      "text/plain": [
       "<Figure size 432x288 with 2 Axes>"
      ]
     },
     "metadata": {
      "needs_background": "light"
     },
     "output_type": "display_data"
    },
    {
     "name": "stdout",
     "output_type": "stream",
     "text": [
      "JS divergence: 0.025\tNorm Frobenius: 0.092\n",
      "Calculate confusion matrix on global version\n"
     ]
    },
    {
     "data": {
      "image/png": "[encoded data removed]",
      "text/plain": [
       "<Figure size 432x288 with 2 Axes>"
      ]
     },
     "metadata": {
      "needs_background": "light"
     },
     "output_type": "display_data"
    },
    {
     "name": "stdout",
     "output_type": "stream",
     "text": [
      "JS divergence: 0.015\tNorm Frobenius: 0.079\n",
      "A result\n"
     ]
    },
    {
     "data": {
      "text/html": [
       "<div>\n",
       "<style scoped>\n",
       "    .dataframe tbody tr th:only-of-type {\n",
       "        vertical-align: middle;\n",
       "    }\n",
       "\n",
       "    .dataframe tbody tr th {\n",
       "        vertical-align: top;\n",
       "    }\n",
       "\n",
       "    .dataframe thead th {\n",
       "        text-align: right;\n",
       "    }\n",
       "</style>\n",
       "<table border=\"1\" class=\"dataframe\">\n",
       "  <thead>\n",
       "    <tr style=\"text-align: right;\">\n",
       "      <th></th>\n",
       "      <th></th>\n",
       "      <th>Accuracy</th>\n",
       "      <th>F1 (micro)</th>\n",
       "      <th>F1 (macro)</th>\n",
       "      <th>(R) NormF mean</th>\n",
       "      <th>(R) JS mean</th>\n",
       "      <th>(R) NormF w</th>\n",
       "      <th>(R) JS w</th>\n",
       "      <th>(G) NormF</th>\n",
       "      <th>(G) JS</th>\n",
       "    </tr>\n",
       "  </thead>\n",
       "  <tbody>\n",
       "    <tr>\n",
       "      <th>0</th>\n",
       "      <td>All</td>\n",
       "      <td>0.6151</td>\n",
       "      <td>0.6151</td>\n",
       "      <td>0.5869</td>\n",
       "      <td>0.2731</td>\n",
       "      <td>0.2259</td>\n",
       "      <td>0.2136</td>\n",
       "      <td>0.1517</td>\n",
       "      <td>0.0791</td>\n",
       "      <td>0.0153</td>\n",
       "    </tr>\n",
       "  </tbody>\n",
       "</table>\n",
       "</div>"
      ],
      "text/plain": [
       "        Accuracy  F1 (micro)  F1 (macro)  (R) NormF mean  (R) JS mean  \\\n",
       "0  All    0.6151      0.6151      0.5869          0.2731       0.2259   \n",
       "\n",
       "   (R) NormF w  (R) JS w  (G) NormF  (G) JS  \n",
       "0       0.2136    0.1517     0.0791  0.0153  "
      ]
     },
     "metadata": {},
     "output_type": "display_data"
    },
    {
     "name": "stdout",
     "output_type": "stream",
     "text": [
      "Val\n",
      "A result\n"
     ]
    },
    {
     "data": {
      "text/html": [
       "<div>\n",
       "<style scoped>\n",
       "    .dataframe tbody tr th:only-of-type {\n",
       "        vertical-align: middle;\n",
       "    }\n",
       "\n",
       "    .dataframe tbody tr th {\n",
       "        vertical-align: top;\n",
       "    }\n",
       "\n",
       "    .dataframe thead th {\n",
       "        text-align: right;\n",
       "    }\n",
       "</style>\n",
       "<table border=\"1\" class=\"dataframe\">\n",
       "  <thead>\n",
       "    <tr style=\"text-align: right;\">\n",
       "      <th></th>\n",
       "      <th></th>\n",
       "      <th>Accuracy</th>\n",
       "      <th>F1 (micro)</th>\n",
       "      <th>F1 (macro)</th>\n",
       "    </tr>\n",
       "  </thead>\n",
       "  <tbody>\n",
       "    <tr>\n",
       "      <th>0</th>\n",
       "      <td>All</td>\n",
       "      <td>0.7485</td>\n",
       "      <td>0.7485</td>\n",
       "      <td>0.6869</td>\n",
       "    </tr>\n",
       "  </tbody>\n",
       "</table>\n",
       "</div>"
      ],
      "text/plain": [
       "        Accuracy  F1 (micro)  F1 (macro)\n",
       "0  All    0.7485      0.7485      0.6869"
      ]
     },
     "metadata": {},
     "output_type": "display_data"
    },
    {
     "name": "stdout",
     "output_type": "stream",
     "text": [
      "Test\n",
      "A result\n"
     ]
    },
    {
     "data": {
      "text/html": [
       "<div>\n",
       "<style scoped>\n",
       "    .dataframe tbody tr th:only-of-type {\n",
       "        vertical-align: middle;\n",
       "    }\n",
       "\n",
       "    .dataframe tbody tr th {\n",
       "        vertical-align: top;\n",
       "    }\n",
       "\n",
       "    .dataframe thead th {\n",
       "        text-align: right;\n",
       "    }\n",
       "</style>\n",
       "<table border=\"1\" class=\"dataframe\">\n",
       "  <thead>\n",
       "    <tr style=\"text-align: right;\">\n",
       "      <th></th>\n",
       "      <th></th>\n",
       "      <th>Accuracy</th>\n",
       "      <th>F1 (micro)</th>\n",
       "      <th>F1 (macro)</th>\n",
       "    </tr>\n",
       "  </thead>\n",
       "  <tbody>\n",
       "    <tr>\n",
       "      <th>0</th>\n",
       "      <td>All</td>\n",
       "      <td>0.7485</td>\n",
       "      <td>0.7485</td>\n",
       "      <td>0.6869</td>\n",
       "    </tr>\n",
       "  </tbody>\n",
       "</table>\n",
       "</div>"
      ],
      "text/plain": [
       "        Accuracy  F1 (micro)  F1 (macro)\n",
       "0  All    0.7485      0.7485      0.6869"
      ]
     },
     "metadata": {},
     "output_type": "display_data"
    }
   ],
   "source": [
    "evaluate = Evaluation_metrics(model_mvsoft,'keras',Xstd_train.shape[0])\n",
    "evaluate.set_T_weights(T_weights)\n",
    "print(\"*** Soft-Majority (Train with softMV) ***\")\n",
    "\n",
    "print(\"Train\")\n",
    "prob_Yzt = np.tile( mv_conf_probas, (T,1,1) )\n",
    "results1 = evaluate.calculate_metrics(Z=Z_train,Z_pred=Z_train_pred,conf_pred=prob_Yzt,conf_true=confe_matrix_R,\n",
    "                                     conf_true_G =confe_matrix_G, conf_pred_G = mv_conf_probas)\n",
    "\n",
    "print(\"Val\")\n",
    "results2 = evaluate.calculate_metrics(Z=Z_val,Z_pred=Z_val_pred)\n",
    "\n",
    "print(\"Test\")\n",
    "results2 = evaluate.calculate_metrics(Z=Z_test,Z_pred=Z_test_pred)"
   ]
  },
  {
   "cell_type": "code",
   "execution_count": 22,
   "metadata": {
    "scrolled": true
   },
   "outputs": [
    {
     "name": "stdout",
     "output_type": "stream",
     "text": [
      "*** Hard-Majority (Train with hardMV) ***\n",
      "Train\n",
      "Calculate confusion matrix on repeat version\n"
     ]
    },
    {
     "data": {
      "image/png": "[encoded data removed]",
      "text/plain": [
       "<Figure size 432x288 with 2 Axes>"
      ]
     },
     "metadata": {
      "needs_background": "light"
     },
     "output_type": "display_data"
    },
    {
     "name": "stdout",
     "output_type": "stream",
     "text": [
      "JS divergence: 0.126\tNorm Frobenius: 0.256\n"
     ]
    },
    {
     "data": {
      "image/png": "[encoded data removed]",
      "text/plain": [
       "<Figure size 432x288 with 2 Axes>"
      ]
     },
     "metadata": {
      "needs_background": "light"
     },
     "output_type": "display_data"
    },
    {
     "name": "stdout",
     "output_type": "stream",
     "text": [
      "JS divergence: 0.180\tNorm Frobenius: 0.253\n"
     ]
    },
    {
     "data": {
      "image/png": "[encoded data removed]",
      "text/plain": [
       "<Figure size 432x288 with 2 Axes>"
      ]
     },
     "metadata": {
      "needs_background": "light"
     },
     "output_type": "display_data"
    },
    {
     "name": "stdout",
     "output_type": "stream",
     "text": [
      "JS divergence: 0.209\tNorm Frobenius: 0.276\n"
     ]
    },
    {
     "data": {
      "image/png": "[encoded data removed]",
      "text/plain": [
       "<Figure size 432x288 with 2 Axes>"
      ]
     },
     "metadata": {
      "needs_background": "light"
     },
     "output_type": "display_data"
    },
    {
     "name": "stdout",
     "output_type": "stream",
     "text": [
      "JS divergence: 0.172\tNorm Frobenius: 0.259\n"
     ]
    },
    {
     "data": {
      "image/png": "[encoded data removed]",
      "text/plain": [
       "<Figure size 432x288 with 2 Axes>"
      ]
     },
     "metadata": {
      "needs_background": "light"
     },
     "output_type": "display_data"
    },
    {
     "name": "stdout",
     "output_type": "stream",
     "text": [
      "JS divergence: 0.289\tNorm Frobenius: 0.340\n"
     ]
    },
    {
     "data": {
      "image/png": "[encoded data removed]",
      "text/plain": [
       "<Figure size 432x288 with 2 Axes>"
      ]
     },
     "metadata": {
      "needs_background": "light"
     },
     "output_type": "display_data"
    },
    {
     "name": "stdout",
     "output_type": "stream",
     "text": [
      "JS divergence: 0.105\tNorm Frobenius: 0.176\n"
     ]
    },
    {
     "data": {
      "image/png": "[encoded data removed]",
      "text/plain": [
       "<Figure size 432x288 with 2 Axes>"
      ]
     },
     "metadata": {
      "needs_background": "light"
     },
     "output_type": "display_data"
    },
    {
     "name": "stdout",
     "output_type": "stream",
     "text": [
      "JS divergence: 0.093\tNorm Frobenius: 0.145\n"
     ]
    },
    {
     "data": {
      "image/png": "[encoded data removed]",
      "text/plain": [
       "<Figure size 432x288 with 2 Axes>"
      ]
     },
     "metadata": {
      "needs_background": "light"
     },
     "output_type": "display_data"
    },
    {
     "name": "stdout",
     "output_type": "stream",
     "text": [
      "JS divergence: 0.098\tNorm Frobenius: 0.213\n"
     ]
    },
    {
     "data": {
      "image/png": "[encoded data removed]",
      "text/plain": [
       "<Figure size 432x288 with 2 Axes>"
      ]
     },
     "metadata": {
      "needs_background": "light"
     },
     "output_type": "display_data"
    },
    {
     "name": "stdout",
     "output_type": "stream",
     "text": [
      "JS divergence: 0.193\tNorm Frobenius: 0.271\n"
     ]
    },
    {
     "data": {
      "image/png": "[encoded data removed]",
      "text/plain": [
       "<Figure size 432x288 with 2 Axes>"
      ]
     },
     "metadata": {
      "needs_background": "light"
     },
     "output_type": "display_data"
    },
    {
     "name": "stdout",
     "output_type": "stream",
     "text": [
      "JS divergence: 0.265\tNorm Frobenius: 0.299\n"
     ]
    },
    {
     "data": {
      "image/png": "[encoded data removed]",
      "text/plain": [
       "<Figure size 432x288 with 2 Axes>"
      ]
     },
     "metadata": {
      "needs_background": "light"
     },
     "output_type": "display_data"
    },
    {
     "name": "stdout",
     "output_type": "stream",
     "text": [
      "JS divergence: 0.100\tNorm Frobenius: 0.176\n"
     ]
    },
    {
     "data": {
      "image/png": "[encoded data removed]",
      "text/plain": [
       "<Figure size 432x288 with 2 Axes>"
      ]
     },
     "metadata": {
      "needs_background": "light"
     },
     "output_type": "display_data"
    },
    {
     "name": "stdout",
     "output_type": "stream",
     "text": [
      "JS divergence: 0.102\tNorm Frobenius: 0.137\n"
     ]
    },
    {
     "data": {
      "image/png": "[encoded data removed]",
      "text/plain": [
       "<Figure size 432x288 with 2 Axes>"
      ]
     },
     "metadata": {
      "needs_background": "light"
     },
     "output_type": "display_data"
    },
    {
     "name": "stdout",
     "output_type": "stream",
     "text": [
      "JS divergence: 0.225\tNorm Frobenius: 0.273\n"
     ]
    },
    {
     "data": {
      "image/png": "[encoded data removed]",
      "text/plain": [
       "<Figure size 432x288 with 2 Axes>"
      ]
     },
     "metadata": {
      "needs_background": "light"
     },
     "output_type": "display_data"
    },
    {
     "name": "stdout",
     "output_type": "stream",
     "text": [
      "JS divergence: 0.393\tNorm Frobenius: 0.408\n"
     ]
    },
    {
     "data": {
      "image/png": "[encoded data removed]",
      "text/plain": [
       "<Figure size 432x288 with 2 Axes>"
      ]
     },
     "metadata": {
      "needs_background": "light"
     },
     "output_type": "display_data"
    },
    {
     "name": "stdout",
     "output_type": "stream",
     "text": [
      "JS divergence: 0.081\tNorm Frobenius: 0.154\n",
      "Calculate confusion matrix on global version\n"
     ]
    },
    {
     "data": {
      "image/png": "[encoded data removed]",
      "text/plain": [
       "<Figure size 432x288 with 2 Axes>"
      ]
     },
     "metadata": {
      "needs_background": "light"
     },
     "output_type": "display_data"
    },
    {
     "name": "stdout",
     "output_type": "stream",
     "text": [
      "JS divergence: 0.046\tNorm Frobenius: 0.125\n",
      "A result\n"
     ]
    },
    {
     "data": {
      "text/html": [
       "<div>\n",
       "<style scoped>\n",
       "    .dataframe tbody tr th:only-of-type {\n",
       "        vertical-align: middle;\n",
       "    }\n",
       "\n",
       "    .dataframe tbody tr th {\n",
       "        vertical-align: top;\n",
       "    }\n",
       "\n",
       "    .dataframe thead th {\n",
       "        text-align: right;\n",
       "    }\n",
       "</style>\n",
       "<table border=\"1\" class=\"dataframe\">\n",
       "  <thead>\n",
       "    <tr style=\"text-align: right;\">\n",
       "      <th></th>\n",
       "      <th></th>\n",
       "      <th>Accuracy</th>\n",
       "      <th>F1 (micro)</th>\n",
       "      <th>F1 (macro)</th>\n",
       "      <th>(R) NormF mean</th>\n",
       "      <th>(R) JS mean</th>\n",
       "      <th>(R) NormF w</th>\n",
       "      <th>(R) JS w</th>\n",
       "      <th>(G) NormF</th>\n",
       "      <th>(G) JS</th>\n",
       "    </tr>\n",
       "  </thead>\n",
       "  <tbody>\n",
       "    <tr>\n",
       "      <th>0</th>\n",
       "      <td>All</td>\n",
       "      <td>0.6031</td>\n",
       "      <td>0.6031</td>\n",
       "      <td>0.5089</td>\n",
       "      <td>0.2893</td>\n",
       "      <td>0.2434</td>\n",
       "      <td>0.2363</td>\n",
       "      <td>0.1735</td>\n",
       "      <td>0.1254</td>\n",
       "      <td>0.0464</td>\n",
       "    </tr>\n",
       "  </tbody>\n",
       "</table>\n",
       "</div>"
      ],
      "text/plain": [
       "        Accuracy  F1 (micro)  F1 (macro)  (R) NormF mean  (R) JS mean  \\\n",
       "0  All    0.6031      0.6031      0.5089          0.2893       0.2434   \n",
       "\n",
       "   (R) NormF w  (R) JS w  (G) NormF  (G) JS  \n",
       "0       0.2363    0.1735     0.1254  0.0464  "
      ]
     },
     "metadata": {},
     "output_type": "display_data"
    },
    {
     "name": "stdout",
     "output_type": "stream",
     "text": [
      "Val\n",
      "A result\n"
     ]
    },
    {
     "data": {
      "text/html": [
       "<div>\n",
       "<style scoped>\n",
       "    .dataframe tbody tr th:only-of-type {\n",
       "        vertical-align: middle;\n",
       "    }\n",
       "\n",
       "    .dataframe tbody tr th {\n",
       "        vertical-align: top;\n",
       "    }\n",
       "\n",
       "    .dataframe thead th {\n",
       "        text-align: right;\n",
       "    }\n",
       "</style>\n",
       "<table border=\"1\" class=\"dataframe\">\n",
       "  <thead>\n",
       "    <tr style=\"text-align: right;\">\n",
       "      <th></th>\n",
       "      <th></th>\n",
       "      <th>Accuracy</th>\n",
       "      <th>F1 (micro)</th>\n",
       "      <th>F1 (macro)</th>\n",
       "    </tr>\n",
       "  </thead>\n",
       "  <tbody>\n",
       "    <tr>\n",
       "      <th>0</th>\n",
       "      <td>All</td>\n",
       "      <td>0.7424</td>\n",
       "      <td>0.7424</td>\n",
       "      <td>0.6025</td>\n",
       "    </tr>\n",
       "  </tbody>\n",
       "</table>\n",
       "</div>"
      ],
      "text/plain": [
       "        Accuracy  F1 (micro)  F1 (macro)\n",
       "0  All    0.7424      0.7424      0.6025"
      ]
     },
     "metadata": {},
     "output_type": "display_data"
    },
    {
     "name": "stdout",
     "output_type": "stream",
     "text": [
      "Test\n",
      "A result\n"
     ]
    },
    {
     "data": {
      "text/html": [
       "<div>\n",
       "<style scoped>\n",
       "    .dataframe tbody tr th:only-of-type {\n",
       "        vertical-align: middle;\n",
       "    }\n",
       "\n",
       "    .dataframe tbody tr th {\n",
       "        vertical-align: top;\n",
       "    }\n",
       "\n",
       "    .dataframe thead th {\n",
       "        text-align: right;\n",
       "    }\n",
       "</style>\n",
       "<table border=\"1\" class=\"dataframe\">\n",
       "  <thead>\n",
       "    <tr style=\"text-align: right;\">\n",
       "      <th></th>\n",
       "      <th></th>\n",
       "      <th>Accuracy</th>\n",
       "      <th>F1 (micro)</th>\n",
       "      <th>F1 (macro)</th>\n",
       "    </tr>\n",
       "  </thead>\n",
       "  <tbody>\n",
       "    <tr>\n",
       "      <th>0</th>\n",
       "      <td>All</td>\n",
       "      <td>0.7424</td>\n",
       "      <td>0.7424</td>\n",
       "      <td>0.6025</td>\n",
       "    </tr>\n",
       "  </tbody>\n",
       "</table>\n",
       "</div>"
      ],
      "text/plain": [
       "        Accuracy  F1 (micro)  F1 (macro)\n",
       "0  All    0.7424      0.7424      0.6025"
      ]
     },
     "metadata": {},
     "output_type": "display_data"
    }
   ],
   "source": [
    "evaluate = Evaluation_metrics(model_mvhard,'keras',Xstd_train.shape[0])\n",
    "evaluate.set_T_weights(T_weights)\n",
    "print(\"*** Hard-Majority (Train with hardMV) ***\")\n",
    "\n",
    "print(\"Train\")\n",
    "prob_Yzt = np.tile( mv_conf_onehot, (T,1,1) )\n",
    "results1 = evaluate.calculate_metrics(Z=Z_train,Z_pred=Z_train_pred,conf_pred=prob_Yzt,conf_true=confe_matrix_R,\n",
    "                                     conf_true_G =confe_matrix_G, conf_pred_G = mv_conf_onehot)\n",
    "\n",
    "print(\"Val\")\n",
    "results2 = evaluate.calculate_metrics(Z=Z_val,Z_pred=Z_val_pred)\n",
    "\n",
    "print(\"Test\")\n",
    "results2 = evaluate.calculate_metrics(Z=Z_test,Z_pred=Z_test_pred)"
   ]
  },
  {
   "cell_type": "code",
   "execution_count": 24,
   "metadata": {
    "scrolled": true
   },
   "outputs": [
    {
     "name": "stdout",
     "output_type": "stream",
     "text": [
      "*** Dawid and Skene model (Train with D&S) ***\n",
      "Train\n",
      "Calculate confusion matrix on repeat version\n"
     ]
    },
    {
     "data": {
      "image/png": "[encoded data removed]",
      "text/plain": [
       "<Figure size 432x288 with 2 Axes>"
      ]
     },
     "metadata": {
      "needs_background": "light"
     },
     "output_type": "display_data"
    },
    {
     "name": "stdout",
     "output_type": "stream",
     "text": [
      "JS divergence: 0.112\tNorm Frobenius: 0.151\n"
     ]
    },
    {
     "data": {
      "image/png": "[encoded data removed]",
      "text/plain": [
       "<Figure size 432x288 with 2 Axes>"
      ]
     },
     "metadata": {
      "needs_background": "light"
     },
     "output_type": "display_data"
    },
    {
     "name": "stdout",
     "output_type": "stream",
     "text": [
      "JS divergence: 0.036\tNorm Frobenius: 0.056\n"
     ]
    },
    {
     "data": {
      "image/png": "[encoded data removed]",
      "text/plain": [
       "<Figure size 432x288 with 2 Axes>"
      ]
     },
     "metadata": {
      "needs_background": "light"
     },
     "output_type": "display_data"
    },
    {
     "name": "stdout",
     "output_type": "stream",
     "text": [
      "JS divergence: 0.252\tNorm Frobenius: 0.272\n"
     ]
    },
    {
     "data": {
      "image/png": "[encoded data removed]",
      "text/plain": [
       "<Figure size 432x288 with 2 Axes>"
      ]
     },
     "metadata": {
      "needs_background": "light"
     },
     "output_type": "display_data"
    },
    {
     "name": "stdout",
     "output_type": "stream",
     "text": [
      "JS divergence: 0.041\tNorm Frobenius: 0.082\n"
     ]
    },
    {
     "data": {
      "image/png": "[encoded data removed]",
      "text/plain": [
       "<Figure size 432x288 with 2 Axes>"
      ]
     },
     "metadata": {
      "needs_background": "light"
     },
     "output_type": "display_data"
    },
    {
     "name": "stdout",
     "output_type": "stream",
     "text": [
      "JS divergence: 0.031\tNorm Frobenius: 0.068\n"
     ]
    },
    {
     "data": {
      "image/png": "[encoded data removed]",
      "text/plain": [
       "<Figure size 432x288 with 2 Axes>"
      ]
     },
     "metadata": {
      "needs_background": "light"
     },
     "output_type": "display_data"
    },
    {
     "name": "stdout",
     "output_type": "stream",
     "text": [
      "JS divergence: 0.217\tNorm Frobenius: 0.342\n"
     ]
    },
    {
     "data": {
      "image/png": "[encoded data removed]",
      "text/plain": [
       "<Figure size 432x288 with 2 Axes>"
      ]
     },
     "metadata": {
      "needs_background": "light"
     },
     "output_type": "display_data"
    },
    {
     "name": "stdout",
     "output_type": "stream",
     "text": [
      "JS divergence: 0.070\tNorm Frobenius: 0.137\n"
     ]
    },
    {
     "data": {
      "image/png": "[encoded data removed]",
      "text/plain": [
       "<Figure size 432x288 with 2 Axes>"
      ]
     },
     "metadata": {
      "needs_background": "light"
     },
     "output_type": "display_data"
    },
    {
     "name": "stdout",
     "output_type": "stream",
     "text": [
      "JS divergence: 0.166\tNorm Frobenius: 0.229\n"
     ]
    },
    {
     "data": {
      "image/png": "[encoded data removed]",
      "text/plain": [
       "<Figure size 432x288 with 2 Axes>"
      ]
     },
     "metadata": {
      "needs_background": "light"
     },
     "output_type": "display_data"
    },
    {
     "name": "stdout",
     "output_type": "stream",
     "text": [
      "JS divergence: 0.058\tNorm Frobenius: 0.173\n"
     ]
    },
    {
     "data": {
      "image/png": "[encoded data removed]",
      "text/plain": [
       "<Figure size 432x288 with 2 Axes>"
      ]
     },
     "metadata": {
      "needs_background": "light"
     },
     "output_type": "display_data"
    },
    {
     "name": "stdout",
     "output_type": "stream",
     "text": [
      "JS divergence: 0.019\tNorm Frobenius: 0.040\n"
     ]
    },
    {
     "data": {
      "image/png": "[encoded data removed]",
      "text/plain": [
       "<Figure size 432x288 with 2 Axes>"
      ]
     },
     "metadata": {
      "needs_background": "light"
     },
     "output_type": "display_data"
    },
    {
     "name": "stdout",
     "output_type": "stream",
     "text": [
      "JS divergence: 0.156\tNorm Frobenius: 0.223\n"
     ]
    },
    {
     "data": {
      "image/png": "[encoded data removed]",
      "text/plain": [
       "<Figure size 432x288 with 2 Axes>"
      ]
     },
     "metadata": {
      "needs_background": "light"
     },
     "output_type": "display_data"
    },
    {
     "name": "stdout",
     "output_type": "stream",
     "text": [
      "JS divergence: 0.027\tNorm Frobenius: 0.059\n"
     ]
    },
    {
     "data": {
      "image/png": "[encoded data removed]",
      "text/plain": [
       "<Figure size 432x288 with 2 Axes>"
      ]
     },
     "metadata": {
      "needs_background": "light"
     },
     "output_type": "display_data"
    },
    {
     "name": "stdout",
     "output_type": "stream",
     "text": [
      "JS divergence: 0.412\tNorm Frobenius: 0.375\n"
     ]
    },
    {
     "data": {
      "image/png": "[encoded data removed]",
      "text/plain": [
       "<Figure size 432x288 with 2 Axes>"
      ]
     },
     "metadata": {
      "needs_background": "light"
     },
     "output_type": "display_data"
    },
    {
     "name": "stdout",
     "output_type": "stream",
     "text": [
      "JS divergence: 0.000\tNorm Frobenius: 0.000\n"
     ]
    },
    {
     "data": {
      "image/png": "[encoded data removed]",
      "text/plain": [
       "<Figure size 432x288 with 2 Axes>"
      ]
     },
     "metadata": {
      "needs_background": "light"
     },
     "output_type": "display_data"
    },
    {
     "name": "stdout",
     "output_type": "stream",
     "text": [
      "JS divergence: 0.126\tNorm Frobenius: 0.191\n",
      "Calculate confusion matrix on global version\n"
     ]
    },
    {
     "data": {
      "image/png": "[encoded data removed]",
      "text/plain": [
       "<Figure size 432x288 with 2 Axes>"
      ]
     },
     "metadata": {
      "needs_background": "light"
     },
     "output_type": "display_data"
    },
    {
     "name": "stdout",
     "output_type": "stream",
     "text": [
      "JS divergence: 0.022\tNorm Frobenius: 0.082\n",
      "A result\n"
     ]
    },
    {
     "data": {
      "text/html": [
       "<div>\n",
       "<style scoped>\n",
       "    .dataframe tbody tr th:only-of-type {\n",
       "        vertical-align: middle;\n",
       "    }\n",
       "\n",
       "    .dataframe tbody tr th {\n",
       "        vertical-align: top;\n",
       "    }\n",
       "\n",
       "    .dataframe thead th {\n",
       "        text-align: right;\n",
       "    }\n",
       "</style>\n",
       "<table border=\"1\" class=\"dataframe\">\n",
       "  <thead>\n",
       "    <tr style=\"text-align: right;\">\n",
       "      <th></th>\n",
       "      <th></th>\n",
       "      <th>Accuracy</th>\n",
       "      <th>F1 (micro)</th>\n",
       "      <th>F1 (macro)</th>\n",
       "      <th>(R) NormF mean</th>\n",
       "      <th>(R) JS mean</th>\n",
       "      <th>(R) NormF w</th>\n",
       "      <th>(R) JS w</th>\n",
       "      <th>(G) NormF</th>\n",
       "      <th>(G) JS</th>\n",
       "    </tr>\n",
       "  </thead>\n",
       "  <tbody>\n",
       "    <tr>\n",
       "      <th>0</th>\n",
       "      <td>All</td>\n",
       "      <td>0.6188</td>\n",
       "      <td>0.6188</td>\n",
       "      <td>0.5633</td>\n",
       "      <td>0.2592</td>\n",
       "      <td>0.2269</td>\n",
       "      <td>0.1404</td>\n",
       "      <td>0.0874</td>\n",
       "      <td>0.0824</td>\n",
       "      <td>0.0217</td>\n",
       "    </tr>\n",
       "  </tbody>\n",
       "</table>\n",
       "</div>"
      ],
      "text/plain": [
       "        Accuracy  F1 (micro)  F1 (macro)  (R) NormF mean  (R) JS mean  \\\n",
       "0  All    0.6188      0.6188      0.5633          0.2592       0.2269   \n",
       "\n",
       "   (R) NormF w  (R) JS w  (G) NormF  (G) JS  \n",
       "0       0.1404    0.0874     0.0824  0.0217  "
      ]
     },
     "metadata": {},
     "output_type": "display_data"
    },
    {
     "name": "stdout",
     "output_type": "stream",
     "text": [
      "Val\n",
      "A result\n"
     ]
    },
    {
     "data": {
      "text/html": [
       "<div>\n",
       "<style scoped>\n",
       "    .dataframe tbody tr th:only-of-type {\n",
       "        vertical-align: middle;\n",
       "    }\n",
       "\n",
       "    .dataframe tbody tr th {\n",
       "        vertical-align: top;\n",
       "    }\n",
       "\n",
       "    .dataframe thead th {\n",
       "        text-align: right;\n",
       "    }\n",
       "</style>\n",
       "<table border=\"1\" class=\"dataframe\">\n",
       "  <thead>\n",
       "    <tr style=\"text-align: right;\">\n",
       "      <th></th>\n",
       "      <th></th>\n",
       "      <th>Accuracy</th>\n",
       "      <th>F1 (micro)</th>\n",
       "      <th>F1 (macro)</th>\n",
       "    </tr>\n",
       "  </thead>\n",
       "  <tbody>\n",
       "    <tr>\n",
       "      <th>0</th>\n",
       "      <td>All</td>\n",
       "      <td>0.7576</td>\n",
       "      <td>0.7576</td>\n",
       "      <td>0.6692</td>\n",
       "    </tr>\n",
       "  </tbody>\n",
       "</table>\n",
       "</div>"
      ],
      "text/plain": [
       "        Accuracy  F1 (micro)  F1 (macro)\n",
       "0  All    0.7576      0.7576      0.6692"
      ]
     },
     "metadata": {},
     "output_type": "display_data"
    },
    {
     "name": "stdout",
     "output_type": "stream",
     "text": [
      "Test\n",
      "A result\n"
     ]
    },
    {
     "data": {
      "text/html": [
       "<div>\n",
       "<style scoped>\n",
       "    .dataframe tbody tr th:only-of-type {\n",
       "        vertical-align: middle;\n",
       "    }\n",
       "\n",
       "    .dataframe tbody tr th {\n",
       "        vertical-align: top;\n",
       "    }\n",
       "\n",
       "    .dataframe thead th {\n",
       "        text-align: right;\n",
       "    }\n",
       "</style>\n",
       "<table border=\"1\" class=\"dataframe\">\n",
       "  <thead>\n",
       "    <tr style=\"text-align: right;\">\n",
       "      <th></th>\n",
       "      <th></th>\n",
       "      <th>Accuracy</th>\n",
       "      <th>F1 (micro)</th>\n",
       "      <th>F1 (macro)</th>\n",
       "    </tr>\n",
       "  </thead>\n",
       "  <tbody>\n",
       "    <tr>\n",
       "      <th>0</th>\n",
       "      <td>All</td>\n",
       "      <td>0.7576</td>\n",
       "      <td>0.7576</td>\n",
       "      <td>0.6692</td>\n",
       "    </tr>\n",
       "  </tbody>\n",
       "</table>\n",
       "</div>"
      ],
      "text/plain": [
       "        Accuracy  F1 (micro)  F1 (macro)\n",
       "0  All    0.7576      0.7576      0.6692"
      ]
     },
     "metadata": {},
     "output_type": "display_data"
    }
   ],
   "source": [
    "evaluate = Evaluation_metrics(model_ds,'keras',Xstd_train.shape[0])\n",
    "evaluate.set_T_weights(T_weights)\n",
    "print(\"*** Dawid and Skene model (Train with D&S) ***\")\n",
    "\n",
    "print(\"Train\")\n",
    "results1 = evaluate.calculate_metrics(Z=Z_train,Z_pred=Z_train_pred,conf_pred=ds_conf,conf_true=confe_matrix_R,\n",
    "                                     conf_true_G =confe_matrix_G, conf_pred_G = ds_conf.mean(axis=0))\n",
    "\n",
    "print(\"Val\")\n",
    "results2 = evaluate.calculate_metrics(Z=Z_val,Z_pred=Z_val_pred)\n",
    "\n",
    "print(\"Test\")\n",
    "results2 = evaluate.calculate_metrics(Z=Z_test,Z_pred=Z_test_pred)"
   ]
  },
  {
   "cell_type": "code",
   "execution_count": 38,
   "metadata": {
    "scrolled": true
   },
   "outputs": [
    {
     "name": "stdout",
     "output_type": "stream",
     "text": [
      "*** Raykar model multiples runs***\n",
      "Train\n",
      "Calculate confusion matrix on repeat version\n"
     ]
    },
    {
     "data": {
      "image/png": "[encoded data removed]",
      "text/plain": [
       "<Figure size 432x288 with 2 Axes>"
      ]
     },
     "metadata": {
      "needs_background": "light"
     },
     "output_type": "display_data"
    },
    {
     "name": "stdout",
     "output_type": "stream",
     "text": [
      "JS divergence: 0.040\tNorm Frobenius: 0.070\n"
     ]
    },
    {
     "data": {
      "image/png": "[encoded data removed]",
      "text/plain": [
       "<Figure size 432x288 with 2 Axes>"
      ]
     },
     "metadata": {
      "needs_background": "light"
     },
     "output_type": "display_data"
    },
    {
     "name": "stdout",
     "output_type": "stream",
     "text": [
      "JS divergence: 0.295\tNorm Frobenius: 0.268\n"
     ]
    },
    {
     "data": {
      "image/png": "[encoded data removed]",
      "text/plain": [
       "<Figure size 432x288 with 2 Axes>"
      ]
     },
     "metadata": {
      "needs_background": "light"
     },
     "output_type": "display_data"
    },
    {
     "name": "stdout",
     "output_type": "stream",
     "text": [
      "JS divergence: 0.105\tNorm Frobenius: 0.145\n"
     ]
    },
    {
     "data": {
      "image/png": "[encoded data removed]",
      "text/plain": [
       "<Figure size 432x288 with 2 Axes>"
      ]
     },
     "metadata": {
      "needs_background": "light"
     },
     "output_type": "display_data"
    },
    {
     "name": "stdout",
     "output_type": "stream",
     "text": [
      "JS divergence: 0.041\tNorm Frobenius: 0.064\n"
     ]
    },
    {
     "data": {
      "image/png": "[encoded data removed]",
      "text/plain": [
       "<Figure size 432x288 with 2 Axes>"
      ]
     },
     "metadata": {
      "needs_background": "light"
     },
     "output_type": "display_data"
    },
    {
     "name": "stdout",
     "output_type": "stream",
     "text": [
      "JS divergence: 0.124\tNorm Frobenius: 0.147\n"
     ]
    },
    {
     "data": {
      "image/png": "[encoded data removed]",
      "text/plain": [
       "<Figure size 432x288 with 2 Axes>"
      ]
     },
     "metadata": {
      "needs_background": "light"
     },
     "output_type": "display_data"
    },
    {
     "name": "stdout",
     "output_type": "stream",
     "text": [
      "JS divergence: 0.056\tNorm Frobenius: 0.101\n"
     ]
    },
    {
     "data": {
      "image/png": "[encoded data removed]",
      "text/plain": [
       "<Figure size 432x288 with 2 Axes>"
      ]
     },
     "metadata": {
      "needs_background": "light"
     },
     "output_type": "display_data"
    },
    {
     "name": "stdout",
     "output_type": "stream",
     "text": [
      "JS divergence: 0.098\tNorm Frobenius: 0.154\n"
     ]
    },
    {
     "data": {
      "image/png": "[encoded data removed]",
      "text/plain": [
       "<Figure size 432x288 with 2 Axes>"
      ]
     },
     "metadata": {
      "needs_background": "light"
     },
     "output_type": "display_data"
    },
    {
     "name": "stdout",
     "output_type": "stream",
     "text": [
      "JS divergence: 0.029\tNorm Frobenius: 0.081\n"
     ]
    },
    {
     "data": {
      "image/png": "[encoded data removed]",
      "text/plain": [
       "<Figure size 432x288 with 2 Axes>"
      ]
     },
     "metadata": {
      "needs_background": "light"
     },
     "output_type": "display_data"
    },
    {
     "name": "stdout",
     "output_type": "stream",
     "text": [
      "JS divergence: 0.165\tNorm Frobenius: 0.181\n"
     ]
    },
    {
     "data": {
      "image/png": "[encoded data removed]",
      "text/plain": [
       "<Figure size 432x288 with 2 Axes>"
      ]
     },
     "metadata": {
      "needs_background": "light"
     },
     "output_type": "display_data"
    },
    {
     "name": "stdout",
     "output_type": "stream",
     "text": [
      "JS divergence: 0.140\tNorm Frobenius: 0.191\n"
     ]
    },
    {
     "data": {
      "image/png": "[encoded data removed]",
      "text/plain": [
       "<Figure size 432x288 with 2 Axes>"
      ]
     },
     "metadata": {
      "needs_background": "light"
     },
     "output_type": "display_data"
    },
    {
     "name": "stdout",
     "output_type": "stream",
     "text": [
      "JS divergence: 0.005\tNorm Frobenius: 0.045\n"
     ]
    },
    {
     "data": {
      "image/png": "[encoded data removed]",
      "text/plain": [
       "<Figure size 432x288 with 2 Axes>"
      ]
     },
     "metadata": {
      "needs_background": "light"
     },
     "output_type": "display_data"
    },
    {
     "name": "stdout",
     "output_type": "stream",
     "text": [
      "JS divergence: 0.124\tNorm Frobenius: 0.151\n"
     ]
    },
    {
     "data": {
      "image/png": "[encoded data removed]",
      "text/plain": [
       "<Figure size 432x288 with 2 Axes>"
      ]
     },
     "metadata": {
      "needs_background": "light"
     },
     "output_type": "display_data"
    },
    {
     "name": "stdout",
     "output_type": "stream",
     "text": [
      "JS divergence: 0.123\tNorm Frobenius: 0.201\n"
     ]
    },
    {
     "data": {
      "image/png": "[encoded data removed]",
      "text/plain": [
       "<Figure size 432x288 with 2 Axes>"
      ]
     },
     "metadata": {
      "needs_background": "light"
     },
     "output_type": "display_data"
    },
    {
     "name": "stdout",
     "output_type": "stream",
     "text": [
      "JS divergence: 0.225\tNorm Frobenius: 0.221\n"
     ]
    },
    {
     "data": {
      "image/png": "[encoded data removed]",
      "text/plain": [
       "<Figure size 432x288 with 2 Axes>"
      ]
     },
     "metadata": {
      "needs_background": "light"
     },
     "output_type": "display_data"
    },
    {
     "name": "stdout",
     "output_type": "stream",
     "text": [
      "JS divergence: 0.023\tNorm Frobenius: 0.037\n",
      "Calculate confusion matrix on global version\n"
     ]
    },
    {
     "data": {
      "image/png": "[encoded data removed]",
      "text/plain": [
       "<Figure size 432x288 with 2 Axes>"
      ]
     },
     "metadata": {
      "needs_background": "light"
     },
     "output_type": "display_data"
    },
    {
     "name": "stdout",
     "output_type": "stream",
     "text": [
      "JS divergence: 0.059\tNorm Frobenius: 0.137\n",
      "A result\n"
     ]
    },
    {
     "data": {
      "text/html": [
       "<div>\n",
       "<style scoped>\n",
       "    .dataframe tbody tr th:only-of-type {\n",
       "        vertical-align: middle;\n",
       "    }\n",
       "\n",
       "    .dataframe tbody tr th {\n",
       "        vertical-align: top;\n",
       "    }\n",
       "\n",
       "    .dataframe thead th {\n",
       "        text-align: right;\n",
       "    }\n",
       "</style>\n",
       "<table border=\"1\" class=\"dataframe\">\n",
       "  <thead>\n",
       "    <tr style=\"text-align: right;\">\n",
       "      <th></th>\n",
       "      <th></th>\n",
       "      <th>Accuracy</th>\n",
       "      <th>F1 (micro)</th>\n",
       "      <th>F1 (macro)</th>\n",
       "      <th>(R) NormF mean</th>\n",
       "      <th>(R) JS mean</th>\n",
       "      <th>(G) NormF</th>\n",
       "      <th>(G) JS</th>\n",
       "    </tr>\n",
       "  </thead>\n",
       "  <tbody>\n",
       "    <tr>\n",
       "      <th>0</th>\n",
       "      <td>All</td>\n",
       "      <td>0.6457</td>\n",
       "      <td>0.6457</td>\n",
       "      <td>0.6292</td>\n",
       "      <td>0.1923</td>\n",
       "      <td>0.1569</td>\n",
       "      <td>0.1371</td>\n",
       "      <td>0.0586</td>\n",
       "    </tr>\n",
       "  </tbody>\n",
       "</table>\n",
       "</div>"
      ],
      "text/plain": [
       "        Accuracy  F1 (micro)  F1 (macro)  (R) NormF mean  (R) JS mean  \\\n",
       "0  All    0.6457      0.6457      0.6292          0.1923       0.1569   \n",
       "\n",
       "   (G) NormF  (G) JS  \n",
       "0     0.1371  0.0586  "
      ]
     },
     "metadata": {},
     "output_type": "display_data"
    },
    {
     "name": "stdout",
     "output_type": "stream",
     "text": [
      "Val\n",
      "A result\n"
     ]
    },
    {
     "data": {
      "text/html": [
       "<div>\n",
       "<style scoped>\n",
       "    .dataframe tbody tr th:only-of-type {\n",
       "        vertical-align: middle;\n",
       "    }\n",
       "\n",
       "    .dataframe tbody tr th {\n",
       "        vertical-align: top;\n",
       "    }\n",
       "\n",
       "    .dataframe thead th {\n",
       "        text-align: right;\n",
       "    }\n",
       "</style>\n",
       "<table border=\"1\" class=\"dataframe\">\n",
       "  <thead>\n",
       "    <tr style=\"text-align: right;\">\n",
       "      <th></th>\n",
       "      <th></th>\n",
       "      <th>Accuracy</th>\n",
       "      <th>F1 (micro)</th>\n",
       "      <th>F1 (macro)</th>\n",
       "    </tr>\n",
       "  </thead>\n",
       "  <tbody>\n",
       "    <tr>\n",
       "      <th>0</th>\n",
       "      <td>All</td>\n",
       "      <td>0.782</td>\n",
       "      <td>0.782</td>\n",
       "      <td>0.741</td>\n",
       "    </tr>\n",
       "  </tbody>\n",
       "</table>\n",
       "</div>"
      ],
      "text/plain": [
       "        Accuracy  F1 (micro)  F1 (macro)\n",
       "0  All     0.782       0.782       0.741"
      ]
     },
     "metadata": {},
     "output_type": "display_data"
    },
    {
     "name": "stdout",
     "output_type": "stream",
     "text": [
      "Test\n",
      "A result\n"
     ]
    },
    {
     "data": {
      "text/html": [
       "<div>\n",
       "<style scoped>\n",
       "    .dataframe tbody tr th:only-of-type {\n",
       "        vertical-align: middle;\n",
       "    }\n",
       "\n",
       "    .dataframe tbody tr th {\n",
       "        vertical-align: top;\n",
       "    }\n",
       "\n",
       "    .dataframe thead th {\n",
       "        text-align: right;\n",
       "    }\n",
       "</style>\n",
       "<table border=\"1\" class=\"dataframe\">\n",
       "  <thead>\n",
       "    <tr style=\"text-align: right;\">\n",
       "      <th></th>\n",
       "      <th></th>\n",
       "      <th>Accuracy</th>\n",
       "      <th>F1 (micro)</th>\n",
       "      <th>F1 (macro)</th>\n",
       "    </tr>\n",
       "  </thead>\n",
       "  <tbody>\n",
       "    <tr>\n",
       "      <th>0</th>\n",
       "      <td>All</td>\n",
       "      <td>0.782</td>\n",
       "      <td>0.782</td>\n",
       "      <td>0.741</td>\n",
       "    </tr>\n",
       "  </tbody>\n",
       "</table>\n",
       "</div>"
      ],
      "text/plain": [
       "        Accuracy  F1 (micro)  F1 (macro)\n",
       "0  All     0.782       0.782       0.741"
      ]
     },
     "metadata": {},
     "output_type": "display_data"
    }
   ],
   "source": [
    "evaluate = Evaluation_metrics(raykarMC,'raykar')\n",
    "print(\"*** Raykar model multiples runs***\")\n",
    "\n",
    "print(\"Train\")\n",
    "prob_Yzt = raykarMC.get_confusionM()\n",
    "#prob_Yxt = raykarMC.get_predictions_annot(Xstd_train,data=Z_train_p)\n",
    "results = evaluate.calculate_metrics(Z=Z_train,Z_pred=Z_train_pred,conf_pred=prob_Yzt,conf_true=confe_matrix_R,\n",
    "                                    conf_true_G =confe_matrix_G, conf_pred_G = prob_Yzt.mean(axis=0))\n",
    "\n",
    "#results = evaluate.calculate_metrics(y_o=y_obs,yo_pred=prob_Yxt)\n",
    "\n",
    "print(\"Val\")\n",
    "results2 = evaluate.calculate_metrics(Z=Z_val,Z_pred=Z_val_pred)\n",
    "\n",
    "print(\"Test\")\n",
    "results2 = evaluate.calculate_metrics(Z=Z_test,Z_pred=Z_test_pred)"
   ]
  },
  {
   "cell_type": "code",
   "execution_count": null,
   "metadata": {},
   "outputs": [],
   "source": [
    "evaluate = Evaluation_metrics(gMixture_Global,'our1') \n",
    "aux = gMixture_Global.calculate_extra_components(Xstd_train,y_obs,T=T,calculate_pred_annotator=False,p_z=Z_train_p)\n",
    "predictions_m,prob_Gt,prob_Yzt,_ =  aux #to evaluate...\n",
    "prob_Yz = gMixture_Global.calculate_Yz()\n",
    "evaluate.set_Gt(prob_Gt)\n",
    "print(\"*** Ours Global multiples runs***\") #lambda = random\n",
    "\n",
    "print(\"Train\")\n",
    "y_o_groups = predictions_m.argmax(axis=-1)\n",
    "results = evaluate.calculate_metrics(Z=Z_train,Z_pred=Z_train_pred,conf_pred=prob_Yzt,conf_true=confe_matrix_R,\n",
    "                                     y_o=y_obs, y_o_groups=y_o_groups,# yo_pred=prob_Yxt,\n",
    "                                    conf_true_G =confe_matrix_G, conf_pred_G = prob_Yz)\n",
    "\n",
    "#results = evaluate.calculate_metrics(y_o=y_obs,yo_pred=prob_Yxt)\n",
    "\n",
    "print(\"Val\")\n",
    "c_M = gMixture_Global.get_confusionM()\n",
    "y_o_groups = gMixture_Global.get_predictions_groups(Xstd_val,data=Z_val_p).argmax(axis=-1) #obtain p(y^o|x,g=m) and then argmax\n",
    "results = evaluate.calculate_metrics(Z=Z_val,Z_pred=Z_val_pred,conf_pred=c_M, y_o_groups=y_o_groups)"
   ]
  },
  {
   "cell_type": "code",
   "execution_count": null,
   "metadata": {},
   "outputs": [],
   "source": []
  },
  {
   "cell_type": "code",
   "execution_count": 40,
   "metadata": {},
   "outputs": [
    {
     "ename": "NameError",
     "evalue": "name 'Evaluation_metrics' is not defined",
     "output_type": "error",
     "traceback": [
      "\u001b[0;31m---------------------------------------------------------------------------\u001b[0m",
      "\u001b[0;31mNameError\u001b[0m                                 Traceback (most recent call last)",
      "\u001b[0;32m<ipython-input-40-b0278bd6b7e2>\u001b[0m in \u001b[0;36m<module>\u001b[0;34m()\u001b[0m\n\u001b[0;32m----> 1\u001b[0;31m \u001b[0mevaluate\u001b[0m \u001b[0;34m=\u001b[0m \u001b[0mEvaluation_metrics\u001b[0m\u001b[0;34m(\u001b[0m\u001b[0mgMixture_Global\u001b[0m\u001b[0;34m,\u001b[0m\u001b[0;34m'our1'\u001b[0m\u001b[0;34m)\u001b[0m\u001b[0;34m\u001b[0m\u001b[0m\n\u001b[0m\u001b[1;32m      2\u001b[0m \u001b[0maux\u001b[0m \u001b[0;34m=\u001b[0m \u001b[0mgMixture_Global\u001b[0m\u001b[0;34m.\u001b[0m\u001b[0mcalculate_extra_components\u001b[0m\u001b[0;34m(\u001b[0m\u001b[0mXstd_train\u001b[0m\u001b[0;34m,\u001b[0m\u001b[0my_obs\u001b[0m\u001b[0;34m,\u001b[0m\u001b[0mT\u001b[0m\u001b[0;34m=\u001b[0m\u001b[0mT\u001b[0m\u001b[0;34m,\u001b[0m\u001b[0mcalculate_pred_annotator\u001b[0m\u001b[0;34m=\u001b[0m\u001b[0;32mTrue\u001b[0m\u001b[0;34m,\u001b[0m\u001b[0mp_z\u001b[0m\u001b[0;34m=\u001b[0m\u001b[0mZ_train_p\u001b[0m\u001b[0;34m)\u001b[0m\u001b[0;34m\u001b[0m\u001b[0m\n\u001b[1;32m      3\u001b[0m \u001b[0mpredictions_m\u001b[0m\u001b[0;34m,\u001b[0m\u001b[0mprob_Gt\u001b[0m\u001b[0;34m,\u001b[0m\u001b[0mprob_Yzt\u001b[0m\u001b[0;34m,\u001b[0m\u001b[0mprob_Yxt\u001b[0m \u001b[0;34m=\u001b[0m  \u001b[0maux\u001b[0m \u001b[0;31m#to evaluate...\u001b[0m\u001b[0;34m\u001b[0m\u001b[0m\n\u001b[1;32m      4\u001b[0m \u001b[0mevaluate\u001b[0m\u001b[0;34m.\u001b[0m\u001b[0mset_Gt\u001b[0m\u001b[0;34m(\u001b[0m\u001b[0mprob_Gt\u001b[0m\u001b[0;34m)\u001b[0m\u001b[0;34m\u001b[0m\u001b[0m\n\u001b[1;32m      5\u001b[0m \u001b[0mprint\u001b[0m\u001b[0;34m(\u001b[0m\u001b[0;34m\"*** Ours Global multiples runs***\"\u001b[0m\u001b[0;34m)\u001b[0m \u001b[0;31m#groups uniform...\u001b[0m\u001b[0;34m\u001b[0m\u001b[0m\n",
      "\u001b[0;31mNameError\u001b[0m: name 'Evaluation_metrics' is not defined"
     ]
    }
   ],
   "source": [
    "evaluate = Evaluation_metrics(gMixture_Global,'our1') \n",
    "aux = gMixture_Global.calculate_extra_components(Xstd_train,y_obs,T=T,calculate_pred_annotator=True,p_z=Z_train_p)\n",
    "predictions_m,prob_Gt,prob_Yzt,prob_Yxt =  aux #to evaluate...\n",
    "evaluate.set_Gt(prob_Gt)\n",
    "print(\"*** Ours Global multiples runs***\") #groups uniform...\n",
    "\n",
    "print(\"Train\")\n",
    "y_o_groups = predictions_m.argmax(axis=-1)\n",
    "results = evaluate.calculate_metrics(Z=Z_train,Z_pred=Z_train_pred,conf_pred=prob_Yzt,conf_true=confe_matrix_R,y_o=y_obs,yo_pred=prob_Yxt, y_o_groups=y_o_groups)\n",
    "\n",
    "results = evaluate.calculate_metrics(y_o=y_obs,yo_pred=prob_Yxt)\n",
    "\n",
    "print(\"Test\")\n",
    "c_M = gMixture_Global.get_confusionM()\n",
    "y_o_groups = gMixture_Global.get_predictions_groups(Xstd_test,data=Z_test_p).argmax(axis=-1) #obtain p(y^o|x,g=m) and then argmax\n",
    "results = evaluate.calculate_metrics(Z=Z_test,Z_pred=Z_test_pred,conf_pred=c_M, y_o_groups=y_o_groups)"
   ]
  },
  {
   "cell_type": "code",
   "execution_count": null,
   "metadata": {},
   "outputs": [],
   "source": []
  },
  {
   "cell_type": "code",
   "execution_count": null,
   "metadata": {},
   "outputs": [],
   "source": [
    "evaluate = Evaluation_metrics(gMixture_Ind1,'our1') \n",
    "aux = gMixture_Ind1.calculate_extra_components(Xstd_train, A,calculate_pred_annotator=False,p_z=Z_train_p,p_g=prob_Gt)\n",
    "predictions_m,prob_Gt,prob_Yzt,_ =  aux #to evaluate...\n",
    "prob_Yz = gMixture_Ind1.calculate_Yz(prob_Gt)\n",
    "evaluate.set_Gt(prob_Gt)\n",
    "print(\"*** Ours Individual-T multiples runs***\") #lambda = 1\n",
    "\n",
    "print(\"Train\")\n",
    "results = evaluate.calculate_metrics(Z=Z_train,Z_pred=Z_train_pred,conf_pred=prob_Yzt,conf_true=confe_matrix_R,\n",
    "                                    conf_true_G =confe_matrix_G, conf_pred_G = prob_Yz)\n",
    "\n",
    "\n",
    "print(\"Val\")\n",
    "c_M = gMixture_Ind1.get_confusionM()\n",
    "y_o_groups = gMixture_Global.get_predictions_groups(Xstd_val,data=Z_val_p).argmax(axis=-1) #obtain p(y^o|x,g=m) and then argmax\n",
    "results = evaluate.calculate_metrics(Z=Z_val,Z_pred=Z_val_pred,conf_pred=c_M, y_o_groups=y_o_groups)"
   ]
  },
  {
   "cell_type": "code",
   "execution_count": null,
   "metadata": {},
   "outputs": [],
   "source": [
    "evaluate = Evaluation_metrics(gMixture_Ind3,'our1') \n",
    "aux = gMixture_Ind3.calculate_extra_components(Xstd_train, A,calculate_pred_annotator=False,p_z=Z_train_p,p_g=prob_Gt)\n",
    "predictions_m,prob_Gt,prob_Yzt,_ =  aux #to evaluate...\n",
    "prob_Yz = gMixture_Ind3.calculate_Yz(prob_Gt)\n",
    "evaluate.set_Gt(prob_Gt)\n",
    "print(\"*** Ours Individual-K multiples runs***\") #lambda = 1\n",
    "\n",
    "print(\"Train\")\n",
    "results = evaluate.calculate_metrics(Z=Z_train,Z_pred=Z_train_pred,conf_pred=prob_Yzt,conf_true=confe_matrix_R,\n",
    "                                    conf_true_G =confe_matrix_G, conf_pred_G = prob_Yz)\n",
    "\n",
    "\n",
    "print(\"Val\")\n",
    "c_M = gMixture_Ind3.get_confusionM()\n",
    "y_o_groups = gMixture_Global.get_predictions_groups(Xstd_val,data=Z_val_p).argmax(axis=-1) #obtain p(y^o|x,g=m) and then argmax\n",
    "results = evaluate.calculate_metrics(Z=Z_val,Z_pred=Z_val_pred,conf_pred=c_M, y_o_groups=y_o_groups)"
   ]
  },
  {
   "cell_type": "code",
   "execution_count": 43,
   "metadata": {},
   "outputs": [
    {
     "ename": "NameError",
     "evalue": "name 'plot_alphas' is not defined",
     "output_type": "error",
     "traceback": [
      "\u001b[0;31m---------------------------------------------------------------------------\u001b[0m",
      "\u001b[0;31mNameError\u001b[0m                                 Traceback (most recent call last)",
      "\u001b[0;32m<ipython-input-43-4ee73b36f505>\u001b[0m in \u001b[0;36m<module>\u001b[0;34m()\u001b[0m\n\u001b[0;32m----> 1\u001b[0;31m \u001b[0mplot_alphas\u001b[0m\u001b[0;34m(\u001b[0m\u001b[0mgMixture_Ind1\u001b[0m\u001b[0;34m.\u001b[0m\u001b[0malphas_training\u001b[0m\u001b[0;34m)\u001b[0m\u001b[0;34m\u001b[0m\u001b[0m\n\u001b[0m",
      "\u001b[0;31mNameError\u001b[0m: name 'plot_alphas' is not defined"
     ]
    }
   ],
   "source": [
    "plot_alphas(gMixture_Ind1.alphas_training)"
   ]
  },
  {
   "cell_type": "code",
   "execution_count": 44,
   "metadata": {},
   "outputs": [
    {
     "ename": "NameError",
     "evalue": "name 'plot_alphas' is not defined",
     "output_type": "error",
     "traceback": [
      "\u001b[0;31m---------------------------------------------------------------------------\u001b[0m",
      "\u001b[0;31mNameError\u001b[0m                                 Traceback (most recent call last)",
      "\u001b[0;32m<ipython-input-44-fd40761b36d8>\u001b[0m in \u001b[0;36m<module>\u001b[0;34m()\u001b[0m\n\u001b[0;32m----> 1\u001b[0;31m \u001b[0mplot_alphas\u001b[0m\u001b[0;34m(\u001b[0m\u001b[0mgMixture_Ind3\u001b[0m\u001b[0;34m.\u001b[0m\u001b[0malphas_training\u001b[0m\u001b[0;34m)\u001b[0m\u001b[0;34m\u001b[0m\u001b[0m\n\u001b[0m",
      "\u001b[0;31mNameError\u001b[0m: name 'plot_alphas' is not defined"
     ]
    }
   ],
   "source": [
    "plot_alphas(gMixture_Ind3.alphas_training)"
   ]
  },
  {
   "cell_type": "markdown",
   "metadata": {
    "collapsed": true
   },
   "source": [
    "### project confusion matrices"
   ]
  },
  {
   "cell_type": "code",
   "execution_count": 42,
   "metadata": {},
   "outputs": [],
   "source": [
    "def flatten_conf(m):\n",
    "    return m.reshape(m.shape[0], np.prod(m.shape[1:]))\n",
    "\n",
    "to_plot = flatten_conf(confe_matrix_R)\n",
    "\n",
    "centroids_plot_G = flatten_conf(gMixture_Global.get_confusionM())\n",
    "centroids_plot_IT = flatten_conf(gMixture_Ind1.get_confusionM())\n",
    "centroids_plot_IK = flatten_conf(gMixture_Ind3.get_confusionM())\n",
    "global_plot = (confe_matrix_G.flatten()).reshape(1,-1)\n",
    "\n",
    "from sklearn.decomposition import PCA\n",
    "model = PCA(2)\n",
    "model.fit(to_plot) \n",
    "\n",
    "to_plot = model.transform(to_plot) \n",
    "centroids_plot_G = model.transform(centroids_plot_G)\n",
    "centroids_plot_IT = model.transform(centroids_plot_IT)\n",
    "centroids_plot_IK = model.transform(centroids_plot_IK)\n",
    "global_plot = model.transform(global_plot)"
   ]
  },
  {
   "cell_type": "code",
   "execution_count": null,
   "metadata": {},
   "outputs": [],
   "source": [
    "plt.figure(figsize=(10,7))\n",
    "plt.scatter(to_plot[:,0], to_plot[:,1], label=\"Annotators\")\n",
    "plt.scatter(centroids_plot_G[:,0], centroids_plot_G[:,1], s=150,marker=\"*\", color='g',label=\"Groups Global\", edgecolor='black')\n",
    "plt.scatter(centroids_plot_IT[:,0], centroids_plot_IT[:,1],s=150, marker=\"X\", color='purple',label=\"Groups Indiv model-T\", edgecolor='black')\n",
    "plt.scatter(centroids_plot_IK[:,0], centroids_plot_IK[:,1], s=150, marker=\"X\", color='hotpink',label=\"Groups Indiv model-K\", edgecolor='black')\n",
    "#plt.scatter(global_plot[:,0], global_plot[:,1],label=\"Global\")\n",
    "\n",
    "plt.legend()\n",
    "plt.show()#nuevo"
   ]
  },
  {
   "cell_type": "code",
   "execution_count": 43,
   "metadata": {},
   "outputs": [
    {
     "data": {
      "image/png": "[encoded data removed]",
      "text/plain": [
       "<Figure size 720x504 with 1 Axes>"
      ]
     },
     "metadata": {},
     "output_type": "display_data"
    }
   ],
   "source": [
    "plt.figure(figsize=(10,7))\n",
    "plt.scatter(to_plot[:,0], to_plot[:,1], label=\"Annotators\")\n",
    "plt.scatter(centroids_plot_G[:,0], centroids_plot_G[:,1], s=150,marker=\"*\", color='g',label=\"Groups Global\", edgecolor='black')\n",
    "plt.scatter(centroids_plot_IT[:,0], centroids_plot_IT[:,1],s=150, marker=\"X\", color='purple',label=\"Groups Indiv model-T\", edgecolor='black')\n",
    "plt.scatter(centroids_plot_IK[:,0], centroids_plot_IK[:,1], s=150, marker=\"X\", color='hotpink',label=\"Groups Indiv model-K\", edgecolor='black')\n",
    "#plt.scatter(global_plot[:,0], global_plot[:,1],label=\"Global\")\n",
    "\n",
    "plt.legend()\n",
    "plt.show()#nuevo"
   ]
  },
  {
   "cell_type": "code",
   "execution_count": null,
   "metadata": {},
   "outputs": [],
   "source": []
  }
 ],
 "metadata": {
  "kernelspec": {
   "display_name": "Python [conda env:py3]",
   "language": "python",
   "name": "conda-env-py3-py"
  },
  "language_info": {
   "codemirror_mode": {
    "name": "ipython",
    "version": 3
   },
   "file_extension": ".py",
   "mimetype": "text/x-python",
   "name": "python",
   "nbconvert_exporter": "python",
   "pygments_lexer": "ipython3",
   "version": "3.5.6"
  }
 },
 "nbformat": 4,
 "nbformat_minor": 2
}
