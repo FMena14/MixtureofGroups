{
 "cells": [
  {
   "cell_type": "code",
   "execution_count": 1,
   "metadata": {},
   "outputs": [
    {
     "name": "stderr",
     "output_type": "stream",
     "text": [
      "Using TensorFlow backend.\n"
     ]
    }
   ],
   "source": [
    "import numpy as np\n",
    "import pandas as pd\n",
    "import matplotlib.pyplot as plt\n",
    "import seaborn as sns\n",
    "import keras, time, sys, os, gc\n",
    "\n",
    "DTYPE_OP = 'float32'\n",
    "keras.backend.set_floatx(DTYPE_OP)\n",
    "\n",
    "if DTYPE_OP == 'float64':\n",
    "    keras.backend.set_epsilon(np.finfo(np.float64).eps)\n",
    "elif DTYPE_OP == 'float32':\n",
    "    keras.backend.set_epsilon(np.finfo(np.float32).eps)"
   ]
  },
  {
   "cell_type": "code",
   "execution_count": 2,
   "metadata": {},
   "outputs": [],
   "source": [
    "#GLOBAL Variables\n",
    "BATCH_SIZE = 128 #rodrigues = BATCH_SIZE = 64\n",
    "EPOCHS_BASE = 50\n",
    "OPT = 'adam' #optimizer for neural network \n",
    "TOL = 3e-2"
   ]
  },
  {
   "cell_type": "code",
   "execution_count": 3,
   "metadata": {},
   "outputs": [],
   "source": [
    "label_names = ...\n",
    "folder = \"./Fashion10000/\""
   ]
  },
  {
   "cell_type": "markdown",
   "metadata": {},
   "source": [
    "### Load Data and preprocess"
   ]
  },
  {
   "cell_type": "code",
   "execution_count": 4,
   "metadata": {},
   "outputs": [
    {
     "data": {
      "text/plain": [
       "(31077, 512)"
      ]
     },
     "execution_count": 4,
     "metadata": {},
     "output_type": "execute_result"
    }
   ],
   "source": [
    "X_vgg16 = np.load(folder+\"Fashion10000_VGG_avg_all.npy\")\n",
    "X_vgg16.shape"
   ]
  },
  {
   "cell_type": "code",
   "execution_count": 11,
   "metadata": {},
   "outputs": [],
   "source": [
    "Q_s = \"Q3\" #question selected\n",
    "p_error = \"0.7\""
   ]
  },
  {
   "cell_type": "code",
   "execution_count": 12,
   "metadata": {},
   "outputs": [],
   "source": [
    "#Q3: cerca de 82-84.. valores varian 2% "
   ]
  },
  {
   "cell_type": "code",
   "execution_count": 13,
   "metadata": {
    "scrolled": true
   },
   "outputs": [
    {
     "name": "stdout",
     "output_type": "stream",
     "text": [
      "Input train shape: (21440, 512)\n",
      "Label train shape: (21440,)\n",
      "Input test shape: (8927, 512)\n",
      "Label test shape: (8927,)\n"
     ]
    }
   ],
   "source": [
    "sets = np.loadtxt(folder+\"sets_\"+p_error+\"_\"+Q_s+\".txt\", dtype='U')\n",
    "mask_train = sets == \"train\"\n",
    "mask_test = sets == \"test\"\n",
    "\n",
    "Z_data = np.loadtxt(folder+\"Z_data_\"+Q_s+\".txt\",dtype='int')\n",
    "Z_train = Z_data[mask_train]\n",
    "Z_test = Z_data[mask_test]\n",
    "\n",
    "X_train_vgg16 = X_vgg16[mask_train]\n",
    "X_test_vgg16 = X_vgg16[mask_test]\n",
    "\n",
    "print(\"Input train shape:\",X_train_vgg16.shape)\n",
    "print(\"Label train shape:\",Z_train.shape)\n",
    "\n",
    "print(\"Input test shape:\",X_test_vgg16.shape)\n",
    "print(\"Label test shape:\",Z_test.shape)"
   ]
  },
  {
   "cell_type": "code",
   "execution_count": 14,
   "metadata": {},
   "outputs": [],
   "source": [
    "#created before..\n",
    "mask_val = np.random.rand(Z_train.shape[0]) < 0.33"
   ]
  },
  {
   "cell_type": "code",
   "execution_count": 15,
   "metadata": {},
   "outputs": [
    {
     "name": "stdout",
     "output_type": "stream",
     "text": [
      "Input train shape: (14448, 512)\n",
      "Label train shape: (14448,)\n",
      "Input val shape: (6992, 512)\n",
      "Label val shape: (6992,)\n"
     ]
    }
   ],
   "source": [
    "X_val_vgg16 = X_train_vgg16[mask_val]\n",
    "X_train_vgg16 = X_train_vgg16[~mask_val]\n",
    "Z_val = Z_train[mask_val]\n",
    "Z_train = Z_train[~mask_val]\n",
    "\n",
    "#X_train_vgg16, X_val_vgg16, Z_train, Z_val = train_test_split(X_train_vgg16, Z_train, test_size=0.33)\n",
    "print(\"Input train shape:\",X_train_vgg16.shape)\n",
    "print(\"Label train shape:\",Z_train.shape)\n",
    "\n",
    "print(\"Input val shape:\",X_val_vgg16.shape)\n",
    "print(\"Label val shape:\",Z_val.shape)"
   ]
  },
  {
   "cell_type": "code",
   "execution_count": 16,
   "metadata": {},
   "outputs": [],
   "source": [
    "Xstd_train = X_train_vgg16\n",
    "Xstd_val = X_val_vgg16\n",
    "Xstd_test = X_test_vgg16"
   ]
  },
  {
   "cell_type": "code",
   "execution_count": 11,
   "metadata": {
    "scrolled": true
   },
   "outputs": [
    {
     "data": {
      "image/png": "[encoded data removed]",
      "text/plain": [
       "<Figure size 432x288 with 1 Axes>"
      ]
     },
     "metadata": {
      "needs_background": "light"
     },
     "output_type": "display_data"
    },
    {
     "data": {
      "image/png": "[encoded data removed]",
      "text/plain": [
       "<Figure size 432x288 with 1 Axes>"
      ]
     },
     "metadata": {
      "needs_background": "light"
     },
     "output_type": "display_data"
    }
   ],
   "source": [
    "sns.countplot(Z_train)\n",
    "plt.show()\n",
    "\n",
    "sns.countplot(Z_test)\n",
    "plt.show()"
   ]
  },
  {
   "cell_type": "markdown",
   "metadata": {},
   "source": [
    "### Load annotations / Generate"
   ]
  },
  {
   "cell_type": "code",
   "execution_count": 17,
   "metadata": {
    "scrolled": true
   },
   "outputs": [
    {
     "name": "stdout",
     "output_type": "stream",
     "text": [
      "Loading AMT data...\n",
      "Remove 64 annotators that do not annotate on this set \n",
      "Shape (data,annotators):  (14448, 1287)\n",
      "Classes:  3\n"
     ]
    }
   ],
   "source": [
    "from code.representation import *\n",
    "from code.utils import *\n",
    "\n",
    "# data from Amazon Mechanical Turk\n",
    "print(\"Loading AMT data...\")\n",
    "y_obs = np.loadtxt(folder+\"answers_\"+p_error+\"_\"+Q_s+\".txt\",dtype='int16')#not annotation symbol ==-1\n",
    "y_obs = y_obs[~mask_val] \n",
    "T_weights = np.sum(y_obs != -1,axis=0) #distribucion de anotaciones\n",
    "\n",
    "print(\"Remove %d annotators that do not annotate on this set \"%(np.sum(T_weights==0)))\n",
    "y_obs = y_obs[:,T_weights!=0]\n",
    "T_weights = np.sum(y_obs != -1,axis=0) #distribucion de anotaciones\n",
    "\n",
    "N,T = y_obs.shape\n",
    "Kl = np.max(y_obs)+1 # asumiendo que estan ordenadas\n",
    "print(\"Shape (data,annotators): \",(N,T))\n",
    "print(\"Classes: \",Kl)"
   ]
  },
  {
   "cell_type": "code",
   "execution_count": null,
   "metadata": {},
   "outputs": [],
   "source": [
    "#every annotation is one annotator\n",
    "total_annotations = T_weights.sum(axis=0)\n",
    "new_annotations = np.ones((N, total_annotations),dtype='int16')*-1\n",
    "t_aux = 0\n",
    "for i in range(y_obs.shape[0]):\n",
    "    for t in range(y_obs.shape[1]):\n",
    "        if y_obs[i,t] != -1:\n",
    "            new_annotations[i,t_aux] = y_obs[i,t]\n",
    "            t_aux+=1\n",
    "new_annotations.shape"
   ]
  },
  {
   "cell_type": "code",
   "execution_count": 30,
   "metadata": {
    "collapsed": true
   },
   "outputs": [],
   "source": [
    "np.savetxt(folder+\"answers_v2.txt\",new_annotations, delimiter=\",\", fmt=\"%i\")"
   ]
  },
  {
   "cell_type": "code",
   "execution_count": 18,
   "metadata": {
    "scrolled": true
   },
   "outputs": [
    {
     "data": {
      "text/plain": [
       "array([[[0.9047619 , 0.0952381 , 0.        ],\n",
       "        [0.        , 0.92      , 0.08      ],\n",
       "        [0.17391305, 0.04347826, 0.7826087 ]],\n",
       "\n",
       "       [[1.        , 0.        , 0.        ],\n",
       "        [0.16666667, 0.8333333 , 0.        ],\n",
       "        [0.05555556, 0.        , 0.9444444 ]],\n",
       "\n",
       "       [[0.5       , 0.        , 0.5       ],\n",
       "        [0.        , 1.        , 0.        ],\n",
       "        [0.        , 0.        , 1.        ]],\n",
       "\n",
       "       ...,\n",
       "\n",
       "       [[1.        , 0.        , 0.        ],\n",
       "        [0.33333334, 0.33333334, 0.33333334],\n",
       "        [0.33333334, 0.33333334, 0.33333334]],\n",
       "\n",
       "       [[1.        , 0.        , 0.        ],\n",
       "        [0.33333334, 0.33333334, 0.33333334],\n",
       "        [0.33333334, 0.33333334, 0.33333334]],\n",
       "\n",
       "       [[1.        , 0.        , 0.        ],\n",
       "        [0.33333334, 0.33333334, 0.33333334],\n",
       "        [0.33333334, 0.33333334, 0.33333334]]], dtype=float32)"
      ]
     },
     "execution_count": 18,
     "metadata": {},
     "output_type": "execute_result"
    }
   ],
   "source": [
    "#generate conf matrix...\n",
    "confe_matrix_R = np.zeros((T,Kl,Kl),dtype=DTYPE_OP) #rodrigues add epsilon here\n",
    "for t in range(T):    \n",
    "    for i in range(N):\n",
    "        if y_obs[i,t] != -1:\n",
    "            confe_matrix_R[t,Z_train[i],y_obs[i,t]] +=1\n",
    "            \n",
    "    mask_nan = confe_matrix_R[t,:,:].sum(axis=-1) == 0\n",
    "    mean_replace = np.mean(confe_matrix_R[t,:,:][~mask_nan],axis=0)\n",
    "    for value in np.arange(Kl)[mask_nan]:\n",
    "        #how to fill where she not annotate?? -- \n",
    "        confe_matrix_R[t,value,:] =  1 #Rodrigues 1./K -- similar  to laplace smooth (prior 1)\n",
    "        #confe_matrix[t,value,:] = mean_replace #Ours\n",
    "    confe_matrix_R[t,:,:] = confe_matrix_R[t,:,:]/confe_matrix_R[t,:,:].sum(axis=-1,keepdims=True) #normalize\n",
    "confe_matrix_R"
   ]
  },
  {
   "cell_type": "code",
   "execution_count": 70,
   "metadata": {
    "scrolled": true
   },
   "outputs": [
    {
     "data": {
      "image/png": "[encoded data removed]",
      "text/plain": [
       "<Figure size 432x288 with 1 Axes>"
      ]
     },
     "metadata": {
      "needs_background": "light"
     },
     "output_type": "display_data"
    },
    {
     "name": "stdout",
     "output_type": "stream",
     "text": [
      "Minimum annotations in a example:  1\n",
      "Maximum annotations in a example:  6\n",
      "T data (expected value):  1.9566272018481086\n",
      "Graphics of T weights\n"
     ]
    },
    {
     "data": {
      "image/png": "[encoded data removed]",
      "text/plain": [
       "<Figure size 432x288 with 1 Axes>"
      ]
     },
     "metadata": {
      "needs_background": "light"
     },
     "output_type": "display_data"
    },
    {
     "data": {
      "image/png": "[encoded data removed]",
      "text/plain": [
       "<Figure size 432x288 with 1 Axes>"
      ]
     },
     "metadata": {
      "needs_background": "light"
     },
     "output_type": "display_data"
    },
    {
     "name": "stdout",
     "output_type": "stream",
     "text": [
      "Minimum annotations by an annotator:  1\n",
      "Maximum annotations by an annotator:  625\n",
      "Mean annotations by an annotator:  25.076980014803848\n"
     ]
    }
   ],
   "source": [
    "#graphics and distribution? what is T_data\n",
    "N_ann = np.sum(y_obs != -1,axis=1) #distribucion de anotaciones con este valor\n",
    "\n",
    "sns.countplot(N_ann)\n",
    "plt.show()\n",
    "print(\"Minimum annotations in a example: \",N_ann.min())\n",
    "print(\"Maximum annotations in a example: \",N_ann.max())\n",
    "print(\"T data (expected value): \",N_ann.mean())\n",
    "\n",
    "print(\"Graphics of T weights\")\n",
    "plt.hist(T_weights)\n",
    "plt.show()\n",
    "\n",
    "plt.boxplot(T_weights)\n",
    "plt.show()\n",
    "print(\"Minimum annotations by an annotator: \",T_weights.min())\n",
    "print(\"Maximum annotations by an annotator: \",T_weights.max())\n",
    "print(\"Mean annotations by an annotator: \",T_weights.mean())"
   ]
  },
  {
   "cell_type": "markdown",
   "metadata": {},
   "source": [
    "#### Delta Convergence criteria"
   ]
  },
  {
   "cell_type": "code",
   "execution_count": 19,
   "metadata": {},
   "outputs": [],
   "source": [
    "from code.learning_models import LogisticRegression_Sklearn,LogisticRegression_Keras,MLP_Keras\n",
    "#deep learning\n",
    "from code.learning_models import default_CNN,default_RNN,CNN_simple, RNN_simple, Clonable_Model\n",
    "\n",
    "from code.utils import EarlyStopRelative\n",
    "ourCallback = EarlyStopRelative(monitor='loss',patience=1,min_delta=TOL)"
   ]
  },
  {
   "cell_type": "markdown",
   "metadata": {},
   "source": [
    "### Upper Bound Model -- ideal"
   ]
  },
  {
   "cell_type": "code",
   "execution_count": 76,
   "metadata": {
    "scrolled": true
   },
   "outputs": [
    {
     "name": "stdout",
     "output_type": "stream",
     "text": [
      "Trained IDeal Model, Epochs to converge = 5\n"
     ]
    }
   ],
   "source": [
    "Z_train_onehot = keras.utils.to_categorical(Z_train, num_classes=Kl)\n",
    "\n",
    "model_UB = MLP_Keras(Xstd_train.shape[1:],Z_train_onehot.shape[1],128,1,BN=True,drop=0.5) \n",
    "\n",
    "model_UB.compile(loss='categorical_crossentropy',optimizer=OPT)\n",
    "hist=model_UB.fit(Xstd_train,Z_train_onehot,epochs=EPOCHS_BASE,batch_size=BATCH_SIZE,verbose=0,callbacks=[ourCallback])\n",
    "\n",
    "clone_UB = Clonable_Model(model_UB)\n",
    "print(\"Trained IDeal Model, Epochs to converge =\",len(hist.epoch))\n",
    "Z_train_pred = model_UB.predict_classes(Xstd_train)\n",
    "Z_val_pred = model_UB.predict_classes(Xstd_val)\n",
    "Z_test_pred = model_UB.predict_classes(Xstd_test)"
   ]
  },
  {
   "cell_type": "code",
   "execution_count": null,
   "metadata": {},
   "outputs": [],
   "source": []
  },
  {
   "cell_type": "code",
   "execution_count": 72,
   "metadata": {},
   "outputs": [],
   "source": [
    "Kl = Z_train.max()+1\n",
    "Z_train_onehot = keras.utils.to_categorical(Z_train, num_classes=Kl)\n",
    "Z_val_onehot = keras.utils.to_categorical(Z_val, num_classes=Kl)\n",
    "Z_test_onehot = keras.utils.to_categorical(Z_test, num_classes=Kl)"
   ]
  },
  {
   "cell_type": "code",
   "execution_count": 73,
   "metadata": {
    "scrolled": true
   },
   "outputs": [
    {
     "name": "stdout",
     "output_type": "stream",
     "text": [
      "_________________________________________________________________\n",
      "Layer (type)                 Output Shape              Param #   \n",
      "=================================================================\n",
      "input_9 (InputLayer)         (None, 512)               0         \n",
      "_________________________________________________________________\n",
      "dense_20 (Dense)             (None, 128)               65664     \n",
      "_________________________________________________________________\n",
      "dropout_12 (Dropout)         (None, 128)               0         \n",
      "_________________________________________________________________\n",
      "dense_21 (Dense)             (None, 128)               16512     \n",
      "_________________________________________________________________\n",
      "dropout_13 (Dropout)         (None, 128)               0         \n",
      "_________________________________________________________________\n",
      "dense_22 (Dense)             (None, 4)                 516       \n",
      "_________________________________________________________________\n",
      "activation_9 (Activation)    (None, 4)                 0         \n",
      "=================================================================\n",
      "Total params: 82,692\n",
      "Trainable params: 82,692\n",
      "Non-trainable params: 0\n",
      "_________________________________________________________________\n",
      "Train on 17315 samples, validate on 8503 samples\n",
      "Epoch 1/50\n",
      "17315/17315 [==============================] - 2s 129us/step - loss: 1.7405 - acc: 0.4068 - val_loss: 1.0544 - val_acc: 0.5392\n",
      "Epoch 2/50\n",
      "17315/17315 [==============================] - 1s 59us/step - loss: 1.1688 - acc: 0.4788 - val_loss: 0.9928 - val_acc: 0.5666\n",
      "Epoch 3/50\n",
      "17315/17315 [==============================] - 1s 57us/step - loss: 1.0851 - acc: 0.5150 - val_loss: 0.9556 - val_acc: 0.5780\n",
      "Epoch 4/50\n",
      "17315/17315 [==============================] - 1s 58us/step - loss: 1.0261 - acc: 0.5421 - val_loss: 0.9316 - val_acc: 0.5947\n",
      "Epoch 5/50\n",
      "17315/17315 [==============================] - 1s 58us/step - loss: 0.9792 - acc: 0.5614 - val_loss: 0.9160 - val_acc: 0.6021\n",
      "Epoch 6/50\n",
      "17315/17315 [==============================] - 1s 57us/step - loss: 0.9524 - acc: 0.5729 - val_loss: 0.8996 - val_acc: 0.6034\n"
     ]
    }
   ],
   "source": [
    "model_UB = MLP_Keras(Xstd_train.shape[1:],Z_train_onehot.shape[1],128,2,BN=False,drop=0.5) #true bn?\n",
    "model_UB.compile(loss='categorical_crossentropy',optimizer=OPT, metrics=[\"acc\"])\n",
    "model_UB.summary()\n",
    "hist=model_UB.fit(Xstd_train,Z_train_onehot,epochs=EPOCHS_BASE,batch_size=BATCH_SIZE,verbose=1,callbacks=[ourCallback]\n",
    "                  ,validation_data=(Xstd_val,Z_val_onehot))"
   ]
  },
  {
   "cell_type": "code",
   "execution_count": 90,
   "metadata": {
    "scrolled": true
   },
   "outputs": [
    {
     "name": "stdout",
     "output_type": "stream",
     "text": [
      "_________________________________________________________________\n",
      "Layer (type)                 Output Shape              Param #   \n",
      "=================================================================\n",
      "input_13 (InputLayer)        (None, 512)               0         \n",
      "_________________________________________________________________\n",
      "dense_30 (Dense)             (None, 128)               65664     \n",
      "_________________________________________________________________\n",
      "batch_normalization_9 (Batch (None, 128)               512       \n",
      "_________________________________________________________________\n",
      "dropout_18 (Dropout)         (None, 128)               0         \n",
      "_________________________________________________________________\n",
      "dense_31 (Dense)             (None, 4)                 516       \n",
      "_________________________________________________________________\n",
      "activation_13 (Activation)   (None, 4)                 0         \n",
      "=================================================================\n",
      "Total params: 66,692\n",
      "Trainable params: 66,436\n",
      "Non-trainable params: 256\n",
      "_________________________________________________________________\n",
      "Train on 17315 samples, validate on 8503 samples\n",
      "Epoch 1/50\n",
      "17315/17315 [==============================] - 3s 188us/step - loss: 1.2989 - acc: 0.5236 - val_loss: 0.9198 - val_acc: 0.6217\n",
      "Epoch 2/50\n",
      "17315/17315 [==============================] - 1s 70us/step - loss: 0.9757 - acc: 0.5936 - val_loss: 0.8642 - val_acc: 0.6359\n",
      "Epoch 3/50\n",
      "17315/17315 [==============================] - 1s 69us/step - loss: 0.8910 - acc: 0.6236 - val_loss: 0.8503 - val_acc: 0.6378\n",
      "Epoch 4/50\n",
      "17315/17315 [==============================] - 1s 70us/step - loss: 0.8519 - acc: 0.6433 - val_loss: 0.8441 - val_acc: 0.6371\n",
      "Epoch 5/50\n",
      "17315/17315 [==============================] - 1s 69us/step - loss: 0.8259 - acc: 0.6552 - val_loss: 0.8417 - val_acc: 0.6367\n",
      "Epoch 6/50\n",
      "17315/17315 [==============================] - 1s 71us/step - loss: 0.8101 - acc: 0.6613 - val_loss: 0.8448 - val_acc: 0.6381\n"
     ]
    }
   ],
   "source": [
    "model_UB = MLP_Keras(Xstd_train.shape[1:],Z_train_onehot.shape[1],128,1,BN=True,drop=0.5) #true bn?\n",
    "model_UB.compile(loss='categorical_crossentropy',optimizer=OPT, metrics=[\"acc\"])\n",
    "model_UB.summary()\n",
    "hist=model_UB.fit(Xstd_train,Z_train_onehot,epochs=EPOCHS_BASE,batch_size=BATCH_SIZE,verbose=1,callbacks=[ourCallback]\n",
    "                  ,validation_data=(Xstd_val,Z_val_onehot))"
   ]
  },
  {
   "cell_type": "code",
   "execution_count": 75,
   "metadata": {
    "scrolled": true
   },
   "outputs": [
    {
     "name": "stdout",
     "output_type": "stream",
     "text": [
      "_________________________________________________________________\n",
      "Layer (type)                 Output Shape              Param #   \n",
      "=================================================================\n",
      "input_11 (InputLayer)        (None, 512)               0         \n",
      "_________________________________________________________________\n",
      "dense_25 (Dense)             (None, 128)               65664     \n",
      "_________________________________________________________________\n",
      "batch_normalization_6 (Batch (None, 128)               512       \n",
      "_________________________________________________________________\n",
      "dropout_15 (Dropout)         (None, 128)               0         \n",
      "_________________________________________________________________\n",
      "dense_26 (Dense)             (None, 128)               16512     \n",
      "_________________________________________________________________\n",
      "batch_normalization_7 (Batch (None, 128)               512       \n",
      "_________________________________________________________________\n",
      "dropout_16 (Dropout)         (None, 128)               0         \n",
      "_________________________________________________________________\n",
      "dense_27 (Dense)             (None, 4)                 516       \n",
      "_________________________________________________________________\n",
      "activation_11 (Activation)   (None, 4)                 0         \n",
      "=================================================================\n",
      "Total params: 83,716\n",
      "Trainable params: 83,204\n",
      "Non-trainable params: 512\n",
      "_________________________________________________________________\n",
      "Train on 17315 samples, validate on 8503 samples\n",
      "Epoch 1/50\n",
      "17315/17315 [==============================] - 4s 209us/step - loss: 1.3744 - acc: 0.4851 - val_loss: 0.9133 - val_acc: 0.6145\n",
      "Epoch 2/50\n",
      "17315/17315 [==============================] - 2s 89us/step - loss: 1.0434 - acc: 0.5580 - val_loss: 0.8747 - val_acc: 0.6245\n",
      "Epoch 3/50\n",
      "17315/17315 [==============================] - 2s 89us/step - loss: 0.9512 - acc: 0.5939 - val_loss: 0.8653 - val_acc: 0.6246\n",
      "Epoch 4/50\n",
      "17315/17315 [==============================] - 2s 89us/step - loss: 0.9007 - acc: 0.6162 - val_loss: 0.8532 - val_acc: 0.6317\n",
      "Epoch 5/50\n",
      "17315/17315 [==============================] - 2s 89us/step - loss: 0.8758 - acc: 0.6263 - val_loss: 0.8484 - val_acc: 0.6326\n"
     ]
    }
   ],
   "source": [
    "model_UB = MLP_Keras(Xstd_train.shape[1:],Z_train_onehot.shape[1],128,2,BN=True,drop=0.5) #true bn?\n",
    "model_UB.compile(loss='categorical_crossentropy',optimizer=OPT, metrics=[\"acc\"])\n",
    "model_UB.summary()\n",
    "hist=model_UB.fit(Xstd_train,Z_train_onehot,epochs=EPOCHS_BASE,batch_size=BATCH_SIZE,verbose=1,callbacks=[ourCallback]\n",
    "                  ,validation_data=(Xstd_val,Z_val_onehot))"
   ]
  },
  {
   "cell_type": "code",
   "execution_count": null,
   "metadata": {},
   "outputs": [],
   "source": []
  },
  {
   "cell_type": "code",
   "execution_count": null,
   "metadata": {},
   "outputs": [],
   "source": []
  },
  {
   "cell_type": "code",
   "execution_count": 87,
   "metadata": {},
   "outputs": [
    {
     "name": "stdout",
     "output_type": "stream",
     "text": [
      "Trained IDeal Model, Epochs to converge = 4\n"
     ]
    }
   ],
   "source": [
    "clone_UB = Clonable_Model(model_UB)\n",
    "print(\"Trained IDeal Model, Epochs to converge =\",len(hist.epoch))\n",
    "Z_train_pred = model_UB.predict_classes(Xstd_train)\n",
    "Z_test_pred = model_UB.predict_classes(Xstd_test)"
   ]
  },
  {
   "cell_type": "code",
   "execution_count": 91,
   "metadata": {
    "scrolled": true
   },
   "outputs": [
    {
     "data": {
      "image/png": "[encoded data removed]",
      "text/plain": [
       "<Figure size 432x288 with 1 Axes>"
      ]
     },
     "metadata": {
      "needs_background": "light"
     },
     "output_type": "display_data"
    },
    {
     "data": {
      "image/png": "[encoded data removed]",
      "text/plain": [
       "<Figure size 432x288 with 1 Axes>"
      ]
     },
     "metadata": {
      "needs_background": "light"
     },
     "output_type": "display_data"
    }
   ],
   "source": [
    "sns.countplot(Z_train_pred)\n",
    "plt.show()\n",
    "sns.countplot(Z_test_pred)\n",
    "plt.show()"
   ]
  },
  {
   "cell_type": "code",
   "execution_count": 92,
   "metadata": {},
   "outputs": [
    {
     "data": {
      "text/plain": [
       "<matplotlib.legend.Legend at 0x7f2b351a6a58>"
      ]
     },
     "execution_count": 92,
     "metadata": {},
     "output_type": "execute_result"
    },
    {
     "data": {
      "image/png": "[encoded data removed]",
      "text/plain": [
       "<Figure size 432x288 with 1 Axes>"
      ]
     },
     "metadata": {
      "needs_background": "light"
     },
     "output_type": "display_data"
    }
   ],
   "source": [
    "plt.plot(hist.history[\"loss\"],label=\"train\")\n",
    "plt.plot(hist.history[\"val_loss\"])\n",
    "plt.legend()"
   ]
  },
  {
   "cell_type": "code",
   "execution_count": 33,
   "metadata": {},
   "outputs": [
    {
     "name": "stdout",
     "output_type": "stream",
     "text": [
      "*** Upper bound (Train with GT) ***\n",
      "Train\n",
      "A result\n"
     ]
    },
    {
     "data": {
      "text/html": [
       "<div>\n",
       "<style scoped>\n",
       "    .dataframe tbody tr th:only-of-type {\n",
       "        vertical-align: middle;\n",
       "    }\n",
       "\n",
       "    .dataframe tbody tr th {\n",
       "        vertical-align: top;\n",
       "    }\n",
       "\n",
       "    .dataframe thead th {\n",
       "        text-align: right;\n",
       "    }\n",
       "</style>\n",
       "<table border=\"1\" class=\"dataframe\">\n",
       "  <thead>\n",
       "    <tr style=\"text-align: right;\">\n",
       "      <th></th>\n",
       "      <th></th>\n",
       "      <th>Accuracy</th>\n",
       "      <th>F1 (micro)</th>\n",
       "      <th>F1 (macro)</th>\n",
       "    </tr>\n",
       "  </thead>\n",
       "  <tbody>\n",
       "    <tr>\n",
       "      <th>0</th>\n",
       "      <td>All</td>\n",
       "      <td>0.8238</td>\n",
       "      <td>0.8238</td>\n",
       "      <td>0.8109</td>\n",
       "    </tr>\n",
       "  </tbody>\n",
       "</table>\n",
       "</div>"
      ],
      "text/plain": [
       "        Accuracy  F1 (micro)  F1 (macro)\n",
       "0  All    0.8238      0.8238      0.8109"
      ]
     },
     "metadata": {},
     "output_type": "display_data"
    },
    {
     "name": "stdout",
     "output_type": "stream",
     "text": [
      "Test\n",
      "A result\n"
     ]
    },
    {
     "data": {
      "text/html": [
       "<div>\n",
       "<style scoped>\n",
       "    .dataframe tbody tr th:only-of-type {\n",
       "        vertical-align: middle;\n",
       "    }\n",
       "\n",
       "    .dataframe tbody tr th {\n",
       "        vertical-align: top;\n",
       "    }\n",
       "\n",
       "    .dataframe thead th {\n",
       "        text-align: right;\n",
       "    }\n",
       "</style>\n",
       "<table border=\"1\" class=\"dataframe\">\n",
       "  <thead>\n",
       "    <tr style=\"text-align: right;\">\n",
       "      <th></th>\n",
       "      <th></th>\n",
       "      <th>Accuracy</th>\n",
       "      <th>F1 (micro)</th>\n",
       "      <th>F1 (macro)</th>\n",
       "    </tr>\n",
       "  </thead>\n",
       "  <tbody>\n",
       "    <tr>\n",
       "      <th>0</th>\n",
       "      <td>All</td>\n",
       "      <td>0.843</td>\n",
       "      <td>0.843</td>\n",
       "      <td>0.825</td>\n",
       "    </tr>\n",
       "  </tbody>\n",
       "</table>\n",
       "</div>"
      ],
      "text/plain": [
       "        Accuracy  F1 (micro)  F1 (macro)\n",
       "0  All     0.843       0.843       0.825"
      ]
     },
     "metadata": {},
     "output_type": "display_data"
    }
   ],
   "source": [
    "from code.evaluation import Evaluation_metrics\n",
    "\n",
    "N = Xstd_train.shape[0]\n",
    "evaluate = Evaluation_metrics(model_UB,'keras',N)\n",
    "print(\"*** Upper bound (Train with GT) ***\")\n",
    "\n",
    "print(\"Train\")\n",
    "results1 = evaluate.calculate_metrics(Z=Z_train,Z_pred=Z_train_pred)\n",
    "\n",
    "print(\"Test\")\n",
    "results2 = evaluate.calculate_metrics(Z=Z_test,Z_pred=Z_test_pred)"
   ]
  },
  {
   "cell_type": "markdown",
   "metadata": {},
   "source": [
    "### Infer Labels (without predictive model)"
   ]
  },
  {
   "cell_type": "code",
   "execution_count": 79,
   "metadata": {},
   "outputs": [
    {
     "name": "stdout",
     "output_type": "stream",
     "text": [
      "Representation for MV in 0.754232 sec\n",
      "Representation for DS in 0.578112 sec\n",
      "Estimation MV in 0.001040 sec\n",
      "Iter\tlog-likelihood\tdelta-CM\tdelta-ER\tdelta-LL\n",
      "1 \t -34875.36960012488\n",
      "2 \t -33797.96251874367 \t0.0193\t0.305034\t0.030893\n",
      "3 \t -33451.381532317304 \t0.0131\t0.071528\t0.010254\n",
      "4 \t -33256.66848447198 \t0.0078\t0.066143\t0.005821\n",
      "5 \t -33132.509977173235 \t0.0050\t0.063487\t0.003733\n",
      "6 \t -33047.71422557834 \t0.0046\t0.060051\t0.002559\n",
      "7 \t -32986.88016410955 \t0.0044\t347.021271\t0.001841\n",
      "8 \t -32941.447285139635 \t0.0042\t0.052233\t0.001377\n",
      "9 \t -32906.56945848786 \t0.0039\t0.048752\t0.001059\n",
      "10 \t -32879.14200719682 \t0.0037\t0.045450\t0.000833\n",
      "11 \t -32857.20622208775 \t0.0034\t0.042328\t0.000667\n",
      "12 \t -32839.62964322639 \t0.0031\t0.039510\t0.000535\n",
      "13 \t -32825.47708083321 \t0.0029\t0.036761\t0.000431\n",
      "14 \t -32813.862151244255 \t0.0027\t0.034040\t0.000354\n",
      "15 \t -32804.06698408639 \t0.0024\t0.031303\t0.000299\n",
      "16 \t -32795.70814715521 \t0.0023\t346.994019\t0.000255\n",
      "17 \t -32788.388562598404 \t0.0021\t0.026505\t0.000223\n",
      "Class marginals\n",
      "[0.24 0.2  0.33 0.23]\n",
      "Estimation for DS in 293.307319 sec\n"
     ]
    }
   ],
   "source": [
    "from code.baseline import LabelInference\n",
    "\n",
    "label_I = LabelInference(y_obs,TOL,type_inf = 'all')\n",
    "\n",
    "mv_probas, mv_conf_probas = label_I.mv_labels('probas')\n",
    "mv_onehot, mv_conf_onehot = label_I.mv_labels('onehot')\n",
    "\n",
    "confe_matrix_G = get_Global_confusionM(Z_train,label_I.y_obs_repeat)\n",
    "\n",
    "if y_obs.shape[1] <= 12000:\n",
    "    ds_labels,ds_conf = label_I.DS_labels()"
   ]
  },
  {
   "cell_type": "code",
   "execution_count": 80,
   "metadata": {},
   "outputs": [
    {
     "name": "stdout",
     "output_type": "stream",
     "text": [
      "ACC MV on train: 0.6907305804215997\n",
      "F1 MV  on train: 0.6716221774710519\n",
      "ACC D&S on train: 0.6335547213398787\n",
      "F1 D&S  on train: 0.6186611929516127\n"
     ]
    }
   ],
   "source": [
    "print(\"ACC MV on train:\",np.mean(mv_onehot.argmax(axis=1)==Z_train))\n",
    "print(\"F1 MV  on train:\",f1_score(Z_train,mv_onehot.argmax(axis=1),average=\"macro\"))\n",
    "\n",
    "print(\"ACC D&S on train:\",np.mean(ds_labels.argmax(axis=1)==Z_train))\n",
    "print(\"F1 D&S  on train:\",f1_score(Z_train,ds_labels.argmax(axis=1),average=\"macro\"))"
   ]
  },
  {
   "cell_type": "code",
   "execution_count": 81,
   "metadata": {},
   "outputs": [
    {
     "name": "stdout",
     "output_type": "stream",
     "text": [
      "Trained model over soft-MV, Epochs to converge = 4\n"
     ]
    }
   ],
   "source": [
    "model_mvsoft = clone_UB.get_model()\n",
    "model_mvsoft.compile(loss='categorical_crossentropy',optimizer=OPT)\n",
    "hist=model_mvsoft.fit(Xstd_train, mv_probas, epochs=EPOCHS_BASE,batch_size=BATCH_SIZE,verbose=0,callbacks=[ourCallback])\n",
    "print(\"Trained model over soft-MV, Epochs to converge =\",len(hist.epoch))\n",
    "Z_train_pred = model_mvsoft.predict_classes(Xstd_train)\n",
    "Z_val_pred = model_mvsoft.predict_classes(Xstd_val)\n",
    "Z_test_pred = model_mvsoft.predict_classes(Xstd_test)"
   ]
  },
  {
   "cell_type": "code",
   "execution_count": 83,
   "metadata": {},
   "outputs": [
    {
     "name": "stdout",
     "output_type": "stream",
     "text": [
      "Trained model over hard-MV, Epochs to converge = 5\n"
     ]
    }
   ],
   "source": [
    "model_mvhard = clone_UB.get_model()\n",
    "model_mvhard.compile(loss='categorical_crossentropy',optimizer=OPT)\n",
    "hist=model_mvhard.fit(Xstd_train, mv_onehot, epochs=EPOCHS_BASE,batch_size=BATCH_SIZE,verbose=0,callbacks=[ourCallback])\n",
    "print(\"Trained model over hard-MV, Epochs to converge =\",len(hist.epoch))\n",
    "Z_train_pred = model_mvhard.predict_classes(Xstd_train)\n",
    "Z_val_pred = model_mvhard.predict_classes(Xstd_val)\n",
    "Z_test_pred = model_mvhard.predict_classes(Xstd_test)"
   ]
  },
  {
   "cell_type": "code",
   "execution_count": 85,
   "metadata": {
    "scrolled": true
   },
   "outputs": [
    {
     "name": "stdout",
     "output_type": "stream",
     "text": [
      "Trained model over D&S, Epochs to converge = 4\n"
     ]
    }
   ],
   "source": [
    "model_ds = clone_UB.get_model()\n",
    "model_ds.compile(loss='categorical_crossentropy',optimizer=OPT)\n",
    "hist=model_ds.fit(Xstd_train, ds_labels, epochs=EPOCHS_BASE,batch_size=BATCH_SIZE,verbose=0,callbacks=[ourCallback])\n",
    "print(\"Trained model over D&S, Epochs to converge =\",len(hist.epoch))\n",
    "Z_train_pred = model_ds.predict_classes(Xstd_train)\n",
    "Z_val_pred = model_ds.predict_classes(Xstd_val)\n",
    "Z_test_pred = model_ds.predict_classes(Xstd_test)"
   ]
  },
  {
   "cell_type": "markdown",
   "metadata": {},
   "source": [
    "### Raykar Model (joint predict model)"
   ]
  },
  {
   "cell_type": "code",
   "execution_count": 91,
   "metadata": {
    "scrolled": true
   },
   "outputs": [
    {
     "name": "stdout",
     "output_type": "stream",
     "text": [
      "shape: (11486, 1173, 3)\n"
     ]
    }
   ],
   "source": [
    "from code.baseline import RaykarMC\n",
    "y_obs_categorical = set_representation(y_obs,'onehot') #for raykar\n",
    "print(\"shape:\",y_obs_categorical.shape)"
   ]
  },
  {
   "cell_type": "code",
   "execution_count": 92,
   "metadata": {
    "scrolled": true
   },
   "outputs": [
    {
     "name": "stdout",
     "output_type": "stream",
     "text": [
      "Needed params (units,deep,drop,BatchN?)\n",
      "Initializing new EM...\n",
      "Betas shape:  (1173, 3, 3)\n",
      "Q estimate shape:  (11486, 3)\n",
      "Iter 1/50 \n",
      "M step: done,  E step: done //  (in 6.83 sec)\tlogL: -9620.629\t\n",
      "Iter 2/50 \n",
      "M step: done,  E step: done //  (in 1.15 sec)\tlogL: -9263.798\tTol1: 0.03709\tTol2: 0.13045\t\n",
      "Iter 3/50 \n",
      "M step: done,  E step: done //  (in 1.14 sec)\tlogL: -9041.914\tTol1: 0.02395\tTol2: 0.03546\t\n",
      "Iter 4/50 \n",
      "M step: done,  E step: done //  (in 1.13 sec)\tlogL: -8833.424\tTol1: 0.02306\tTol2: 0.01821\t\n",
      "Finished training\n",
      "Initializing new EM...\n",
      "Betas shape:  (1173, 3, 3)\n",
      "Q estimate shape:  (11486, 3)\n",
      "Iter 1/50 \n",
      "M step: done,  E step: done //  (in 2.52 sec)\tlogL: -9626.348\t\n",
      "Iter 2/50 \n",
      "M step: done,  E step: done //  (in 1.07 sec)\tlogL: -9135.764\tTol1: 0.05096\tTol2: 0.12893\t\n",
      "Iter 3/50 \n",
      "M step: done,  E step: done //  (in 1.06 sec)\tlogL: -8969.268\tTol1: 0.01822\tTol2: 0.03307\t\n",
      "Iter 4/50 \n",
      "M step: done,  E step: done //  (in 1.07 sec)\tlogL: -8848.744\tTol1: 0.01344\tTol2: 0.01833\t\n",
      "Finished training\n",
      "Initializing new EM...\n",
      "Betas shape:  (1173, 3, 3)\n",
      "Q estimate shape:  (11486, 3)\n",
      "Iter 1/50 \n",
      "M step: done,  E step: done //  (in 2.50 sec)\tlogL: -9620.604\t\n",
      "Iter 2/50 \n",
      "M step: done,  E step: done //  (in 1.07 sec)\tlogL: -9135.967\tTol1: 0.05037\tTol2: 0.12917\t\n",
      "Iter 3/50 \n",
      "M step: done,  E step: done //  (in 1.07 sec)\tlogL: -8945.750\tTol1: 0.02082\tTol2: 0.03466\t\n",
      "Iter 4/50 \n",
      "M step: done,  E step: done //  (in 1.08 sec)\tlogL: -8738.534\tTol1: 0.02316\tTol2: 0.01982\t\n",
      "Finished training\n",
      "Initializing new EM...\n",
      "Betas shape:  (1173, 3, 3)\n",
      "Q estimate shape:  (11486, 3)\n",
      "Iter 1/50 \n",
      "M step: done,  E step: done //  (in 2.51 sec)\tlogL: -9609.262\t\n",
      "Iter 2/50 \n",
      "M step: done,  E step: done //  (in 1.07 sec)\tlogL: -9081.063\tTol1: 0.05497\tTol2: 0.13173\t\n",
      "Iter 3/50 \n",
      "M step: done,  E step: done //  (in 1.07 sec)\tlogL: -8925.170\tTol1: 0.01717\tTol2: 0.03435\t\n",
      "Iter 4/50 \n",
      "M step: done,  E step: done //  (in 1.07 sec)\tlogL: -8779.391\tTol1: 0.01633\tTol2: 0.01637\t\n",
      "Finished training\n",
      "Initializing new EM...\n",
      "Betas shape:  (1173, 3, 3)\n",
      "Q estimate shape:  (11486, 3)\n",
      "Iter 1/50 \n",
      "M step: done,  E step: done //  (in 2.52 sec)\tlogL: -9624.856\t\n",
      "Iter 2/50 \n",
      "M step: done,  E step: done //  (in 1.07 sec)\tlogL: -9111.686\tTol1: 0.05332\tTol2: 0.12919\t\n",
      "Iter 3/50 \n",
      "M step: done,  E step: done //  (in 1.08 sec)\tlogL: -8931.644\tTol1: 0.01976\tTol2: 0.03738\t\n",
      "Iter 4/50 \n",
      "M step: done,  E step: done //  (in 1.07 sec)\tlogL: -8775.028\tTol1: 0.01753\tTol2: 0.01949\t\n",
      "Finished training\n",
      "Initializing new EM...\n",
      "Betas shape:  (1173, 3, 3)\n",
      "Q estimate shape:  (11486, 3)\n",
      "Iter 1/50 \n",
      "M step: done,  E step: done //  (in 2.51 sec)\tlogL: -9621.261\t\n",
      "Iter 2/50 \n",
      "M step: done,  E step: done //  (in 1.08 sec)\tlogL: -9150.059\tTol1: 0.04898\tTol2: 0.12995\t\n",
      "Iter 3/50 \n",
      "M step: done,  E step: done //  (in 1.07 sec)\tlogL: -8940.279\tTol1: 0.02293\tTol2: 0.03257\t\n",
      "Iter 4/50 \n",
      "M step: done,  E step: done //  (in 1.07 sec)\tlogL: -8778.621\tTol1: 0.01808\tTol2: 0.01826\t\n",
      "Finished training\n",
      "Initializing new EM...\n",
      "Betas shape:  (1173, 3, 3)\n",
      "Q estimate shape:  (11486, 3)\n",
      "Iter 1/50 \n",
      "M step: done,  E step: done //  (in 2.53 sec)\tlogL: -9530.234\t\n",
      "Iter 2/50 \n",
      "M step: done,  E step: done //  (in 1.07 sec)\tlogL: -9076.884\tTol1: 0.04757\tTol2: 0.12988\t\n",
      "Iter 3/50 \n",
      "M step: done,  E step: done //  (in 1.07 sec)\tlogL: -8869.916\tTol1: 0.02280\tTol2: 0.03369\t\n",
      "Iter 4/50 \n",
      "M step: done,  E step: done //  (in 1.06 sec)\tlogL: -8736.729\tTol1: 0.01502\tTol2: 0.01699\t\n",
      "Finished training\n",
      "Initializing new EM...\n",
      "Betas shape:  (1173, 3, 3)\n",
      "Q estimate shape:  (11486, 3)\n",
      "Iter 1/50 \n",
      "M step: done,  E step: done //  (in 2.50 sec)\tlogL: -9589.200\t\n",
      "Iter 2/50 \n",
      "M step: done,  E step: done //  (in 1.06 sec)\tlogL: -9101.986\tTol1: 0.05081\tTol2: 0.12929\t\n",
      "Iter 3/50 \n",
      "M step: done,  E step: done //  (in 1.08 sec)\tlogL: -8903.440\tTol1: 0.02181\tTol2: 0.03246\t\n",
      "Iter 4/50 \n",
      "M step: done,  E step: done //  (in 1.07 sec)\tlogL: -8743.141\tTol1: 0.01800\tTol2: 0.02080\t\n",
      "Finished training\n",
      "Initializing new EM...\n",
      "Betas shape:  (1173, 3, 3)\n",
      "Q estimate shape:  (11486, 3)\n",
      "Iter 1/50 \n",
      "M step: done,  E step: done //  (in 2.49 sec)\tlogL: -9704.402\t\n",
      "Iter 2/50 \n",
      "M step: done,  E step: done //  (in 1.07 sec)\tlogL: -9195.455\tTol1: 0.05244\tTol2: 0.13334\t\n",
      "Iter 3/50 \n",
      "M step: done,  E step: done //  (in 1.07 sec)\tlogL: -9012.797\tTol1: 0.01986\tTol2: 0.03359\t\n",
      "Iter 4/50 \n",
      "M step: done,  E step: done //  (in 1.08 sec)\tlogL: -8827.895\tTol1: 0.02052\tTol2: 0.01919\t\n",
      "Finished training\n",
      "Initializing new EM...\n",
      "Betas shape:  (1173, 3, 3)\n",
      "Q estimate shape:  (11486, 3)\n",
      "Iter 1/50 \n",
      "M step: done,  E step: done //  (in 2.51 sec)\tlogL: -9715.760\t\n",
      "Iter 2/50 \n",
      "M step: done,  E step: done //  (in 1.06 sec)\tlogL: -9138.026\tTol1: 0.05946\tTol2: 0.13006\t\n",
      "Iter 3/50 \n",
      "M step: done,  E step: done //  (in 1.08 sec)\tlogL: -8926.781\tTol1: 0.02312\tTol2: 0.03513\t\n",
      "Iter 4/50 \n",
      "M step: done,  E step: done //  (in 1.07 sec)\tlogL: -8804.725\tTol1: 0.01367\tTol2: 0.01769\t\n",
      "Finished training\n",
      "Initializing new EM...\n",
      "Betas shape:  (1173, 3, 3)\n",
      "Q estimate shape:  (11486, 3)\n",
      "Iter 1/50 \n",
      "M step: done,  E step: done //  (in 2.51 sec)\tlogL: -9647.643\t\n",
      "Iter 2/50 \n",
      "M step: done,  E step: done //  (in 1.07 sec)\tlogL: -9163.759\tTol1: 0.05016\tTol2: 0.12969\t\n",
      "Iter 3/50 \n",
      "M step: done,  E step: done //  (in 1.07 sec)\tlogL: -8971.493\tTol1: 0.02098\tTol2: 0.03277\t\n",
      "Iter 4/50 \n",
      "M step: done,  E step: done //  (in 1.07 sec)\tlogL: -8812.749\tTol1: 0.01769\tTol2: 0.01731\t\n",
      "Finished training\n",
      "Initializing new EM...\n",
      "Betas shape:  (1173, 3, 3)\n",
      "Q estimate shape:  (11486, 3)\n",
      "Iter 1/50 \n",
      "M step: done,  E step: done //  (in 2.51 sec)\tlogL: -9624.531\t\n",
      "Iter 2/50 \n",
      "M step: done,  E step: done //  (in 1.06 sec)\tlogL: -9147.092\tTol1: 0.04961\tTol2: 0.13182\t\n",
      "Iter 3/50 \n",
      "M step: done,  E step: done //  (in 1.07 sec)\tlogL: -8904.078\tTol1: 0.02657\tTol2: 0.03878\t\n",
      "Iter 4/50 \n",
      "M step: done,  E step: done //  (in 1.06 sec)\tlogL: -8758.820\tTol1: 0.01631\tTol2: 0.01927\t\n",
      "Finished training\n",
      "Initializing new EM...\n",
      "Betas shape:  (1173, 3, 3)\n",
      "Q estimate shape:  (11486, 3)\n",
      "Iter 1/50 \n",
      "M step: done,  E step: done //  (in 2.51 sec)\tlogL: -9619.975\t\n",
      "Iter 2/50 \n",
      "M step: done,  E step: done //  (in 1.08 sec)\tlogL: -9182.762\tTol1: 0.04545\tTol2: 0.13000\t\n",
      "Iter 3/50 \n",
      "M step: done,  E step: done //  (in 1.09 sec)\tlogL: -8969.973\tTol1: 0.02317\tTol2: 0.03275\t\n",
      "Iter 4/50 \n",
      "M step: done,  E step: done //  (in 1.07 sec)\tlogL: -8851.093\tTol1: 0.01325\tTol2: 0.01752\t\n",
      "Finished training\n",
      "Initializing new EM...\n",
      "Betas shape:  (1173, 3, 3)\n",
      "Q estimate shape:  (11486, 3)\n",
      "Iter 1/50 \n",
      "M step: done,  E step: done //  (in 2.51 sec)\tlogL: -9589.616\t\n",
      "Iter 2/50 \n",
      "M step: done,  E step: done //  (in 1.08 sec)\tlogL: -9221.899\tTol1: 0.03835\tTol2: 0.13071\t\n",
      "Iter 3/50 \n",
      "M step: done,  E step: done //  (in 1.07 sec)\tlogL: -8970.530\tTol1: 0.02726\tTol2: 0.03241\t\n",
      "Iter 4/50 \n",
      "M step: done,  E step: done //  (in 1.07 sec)\tlogL: -8805.696\tTol1: 0.01838\tTol2: 0.02107\t\n",
      "Finished training\n",
      "Initializing new EM...\n",
      "Betas shape:  (1173, 3, 3)\n",
      "Q estimate shape:  (11486, 3)\n",
      "Iter 1/50 \n",
      "M step: done,  E step: done //  (in 2.51 sec)\tlogL: -9668.090\t\n",
      "Iter 2/50 \n",
      "M step: done,  E step: done //  (in 1.07 sec)\tlogL: -9150.871\tTol1: 0.05350\tTol2: 0.13260\t\n",
      "Iter 3/50 \n",
      "M step: done,  E step: done //  (in 1.07 sec)\tlogL: -8942.066\tTol1: 0.02282\tTol2: 0.03194\t\n",
      "Iter 4/50 \n",
      "M step: done,  E step: done //  (in 1.07 sec)\tlogL: -8813.498\tTol1: 0.01438\tTol2: 0.01805\t\n",
      "Finished training\n",
      "Initializing new EM...\n",
      "Betas shape:  (1173, 3, 3)\n",
      "Q estimate shape:  (11486, 3)\n",
      "Iter 1/50 \n",
      "M step: done,  E step: done //  (in 2.52 sec)\tlogL: -9618.607\t\n",
      "Iter 2/50 \n",
      "M step: done,  E step: done //  (in 1.06 sec)\tlogL: -9155.605\tTol1: 0.04814\tTol2: 0.13131\t\n",
      "Iter 3/50 \n",
      "M step: done,  E step: done //  (in 1.07 sec)\tlogL: -8969.523\tTol1: 0.02032\tTol2: 0.03636\t\n",
      "Iter 4/50 \n",
      "M step: done,  E step: done //  (in 1.07 sec)\tlogL: -8840.679\tTol1: 0.01436\tTol2: 0.01718\t\n",
      "Finished training\n",
      "Initializing new EM...\n",
      "Betas shape:  (1173, 3, 3)\n",
      "Q estimate shape:  (11486, 3)\n",
      "Iter 1/50 \n",
      "M step: done,  E step: done //  (in 2.52 sec)\tlogL: -9585.061\t\n",
      "Iter 2/50 \n",
      "M step: done,  E step: done //  (in 1.07 sec)\tlogL: -9215.480\tTol1: 0.03856\tTol2: 0.12950\t\n",
      "Iter 3/50 \n",
      "M step: done,  E step: done //  (in 1.07 sec)\tlogL: -8962.414\tTol1: 0.02746\tTol2: 0.03583\t\n",
      "Iter 4/50 \n",
      "M step: done,  E step: done //  (in 1.07 sec)\tlogL: -8797.943\tTol1: 0.01835\tTol2: 0.01671\t\n",
      "Finished training\n",
      "Initializing new EM...\n",
      "Betas shape:  (1173, 3, 3)\n",
      "Q estimate shape:  (11486, 3)\n",
      "Iter 1/50 \n"
     ]
    },
    {
     "name": "stdout",
     "output_type": "stream",
     "text": [
      "M step: done,  E step: done //  (in 2.52 sec)\tlogL: -9609.291\t\n",
      "Iter 2/50 \n",
      "M step: done,  E step: done //  (in 1.06 sec)\tlogL: -9092.426\tTol1: 0.05379\tTol2: 0.12994\t\n",
      "Iter 3/50 \n",
      "M step: done,  E step: done //  (in 1.08 sec)\tlogL: -8921.285\tTol1: 0.01882\tTol2: 0.03444\t\n",
      "Iter 4/50 \n",
      "M step: done,  E step: done //  (in 1.08 sec)\tlogL: -8779.813\tTol1: 0.01586\tTol2: 0.01817\t\n",
      "Finished training\n",
      "Initializing new EM...\n",
      "Betas shape:  (1173, 3, 3)\n",
      "Q estimate shape:  (11486, 3)\n",
      "Iter 1/50 \n",
      "M step: done,  E step: done //  (in 2.50 sec)\tlogL: -9612.503\t\n",
      "Iter 2/50 \n",
      "M step: done,  E step: done //  (in 1.07 sec)\tlogL: -9217.396\tTol1: 0.04110\tTol2: 0.13253\t\n",
      "Iter 3/50 \n",
      "M step: done,  E step: done //  (in 1.08 sec)\tlogL: -8947.873\tTol1: 0.02924\tTol2: 0.03582\t\n",
      "Iter 4/50 \n",
      "M step: done,  E step: done //  (in 1.07 sec)\tlogL: -8793.646\tTol1: 0.01724\tTol2: 0.01893\t\n",
      "Finished training\n",
      "Initializing new EM...\n",
      "Betas shape:  (1173, 3, 3)\n",
      "Q estimate shape:  (11486, 3)\n",
      "Iter 1/50 \n",
      "M step: done,  E step: done //  (in 2.54 sec)\tlogL: -9662.530\t\n",
      "Iter 2/50 \n",
      "M step: done,  E step: done //  (in 1.07 sec)\tlogL: -9183.833\tTol1: 0.04954\tTol2: 0.13022\t\n",
      "Iter 3/50 \n",
      "M step: done,  E step: done //  (in 1.07 sec)\tlogL: -8970.225\tTol1: 0.02326\tTol2: 0.03249\t\n",
      "Iter 4/50 \n",
      "M step: done,  E step: done //  (in 1.07 sec)\tlogL: -8809.061\tTol1: 0.01797\tTol2: 0.01592\t\n",
      "Finished training\n",
      "Multiples runs over Raykar, Epochs to converge=  4.0\n"
     ]
    }
   ],
   "source": [
    "raykarMC = RaykarMC(Xstd_train.shape[1:],y_obs_categorical.shape[-1],T,epochs=1,optimizer=OPT,DTYPE_OP=DTYPE_OP)\n",
    "raykarMC.define_model(\"mlp\",128,1,BatchN=True,drop=0.5) #otro\n",
    "\n",
    "logL_hists,i_r = raykarMC.multiples_run(20,Xstd_train,y_obs_categorical,batch_size=BATCH_SIZE,max_iter=EPOCHS_BASE,\n",
    "                                     tolerance=TOL)"
   ]
  },
  {
   "cell_type": "code",
   "execution_count": 98,
   "metadata": {},
   "outputs": [],
   "source": [
    "Z_train_p = raykarMC.get_predictions(Xstd_train)\n",
    "Z_train_pred =Z_train_p.argmax(axis=-1)\n",
    "Z_val_pred = raykarMC.get_predictions(Xstd_val).argmax(axis=-1)\n",
    "Z_test_pred = raykarMC.get_predictions(Xstd_test).argmax(axis=-1)"
   ]
  },
  {
   "cell_type": "markdown",
   "metadata": {},
   "source": [
    "### Our Proposed"
   ]
  },
  {
   "cell_type": "code",
   "execution_count": 20,
   "metadata": {},
   "outputs": [],
   "source": [
    "from code.MixtureofGroups import GroupMixtureGlo, GroupMixtureInd"
   ]
  },
  {
   "cell_type": "code",
   "execution_count": 21,
   "metadata": {},
   "outputs": [
    {
     "name": "stdout",
     "output_type": "stream",
     "text": [
      "vector of repeats:\n",
      " [[1 0 0]\n",
      " [0 0 1]\n",
      " [0 0 2]\n",
      " ...\n",
      " [2 0 0]\n",
      " [0 1 1]\n",
      " [1 0 0]]\n",
      "shape: (14448, 3)\n"
     ]
    }
   ],
   "source": [
    "\"\"\" AÑADIR A ARCHIVO GROUPS...\"\"\"\n",
    "def define_uniform_groups(power, r, M):\n",
    "    R_total = r.sum()\n",
    "    uniform_groups = np.asarray([power*R_total/M for _ in range(M)])\n",
    "    return uniform_groups\n",
    "\n",
    "\n",
    "#get our representation \n",
    "r_obs = set_representation(y_obs,\"repeat\")\n",
    "#r_obs = label_I.y_obs_repeat.copy()\n",
    "\n",
    "confe_matrix_G = get_Global_confusionM(Z_train,r_obs)\n",
    "\n",
    "print(\"vector of repeats:\\n\",r_obs)\n",
    "print(\"shape:\",r_obs.shape)"
   ]
  },
  {
   "cell_type": "code",
   "execution_count": 22,
   "metadata": {},
   "outputs": [
    {
     "name": "stdout",
     "output_type": "stream",
     "text": [
      "Normalized entropy (0-1) of repeats annotations: 0.06213511502976383\n"
     ]
    },
    {
     "data": {
      "image/png": "[encoded data removed]",
      "text/plain": [
       "<Figure size 432x288 with 1 Axes>"
      ]
     },
     "metadata": {
      "needs_background": "light"
     },
     "output_type": "display_data"
    }
   ],
   "source": [
    "mv_soft = majority_voting(r_obs,repeats=True,probas=True) \n",
    "aux = []\n",
    "for example in mv_soft:\n",
    "    aux.append(entropy(example)/np.log(Kl))\n",
    "print(\"Normalized entropy (0-1) of repeats annotations:\",np.mean(aux))\n",
    "\n",
    "from code.MixtureofGroups import *\n",
    "predicted = np.clip(mv_soft, keras.backend.epsilon(), 1.)\n",
    "data_to_cluster = []\n",
    "for i in range(mv_soft.shape[0]):\n",
    "    for j in range(mv_soft.shape[1]):\n",
    "        ob = np.tile(keras.backend.epsilon(), mv_soft.shape[1])\n",
    "        ob[j] = 1\n",
    "        true = np.clip(predicted[i],keras.backend.epsilon(),1.)      \n",
    "        f_l = distance_function(true, ob)  #funcion de distancia o similaridad\n",
    "        data_to_cluster.append(f_l)  \n",
    "data_to_cluster = np.asarray(data_to_cluster)\n",
    "model = PCA(n_components=min(3,mv_soft.shape[0]) ) \n",
    "data_to_cluster = model.fit_transform(data_to_cluster)\n",
    "\n",
    "std = StandardScaler(with_mean=True,with_std=True)\n",
    "data_to_plot = std.fit_transform(data_to_cluster)\n",
    "plt.scatter(data_to_plot[:,0],data_to_plot[:,1])\n",
    "plt.show()"
   ]
  },
  {
   "cell_type": "markdown",
   "metadata": {},
   "source": [
    "There is low entropy (information), maybe there is only a few groups in this dataset, the possible of different behavior is low."
   ]
  },
  {
   "cell_type": "code",
   "execution_count": 21,
   "metadata": {
    "scrolled": true
   },
   "outputs": [
    {
     "name": "stdout",
     "output_type": "stream",
     "text": [
      "Needed params (units,deep,drop,BatchN?)\n",
      "Initializing new EM...\n",
      "Doing clustering...Done!\n",
      "Get init alphas in 0.041659 mins\n",
      "Lambda by group:  [1. 1. 1. 1. 1.]\n",
      "Alphas:  (5,)\n",
      "MV init:  (17363, 4)\n",
      "Betas:  (5, 4, 4)\n",
      "Q estimate:  (17363, 4, 5, 4)\n",
      "Iter 1/0\n",
      "M step: done,  E step: done //  (in 1.06 sec)\tlogL: -67392.492\t\n",
      "Finished training!\n"
     ]
    },
    {
     "data": {
      "image/png": "[encoded data removed]",
      "text/plain": [
       "<Figure size 432x288 with 1 Axes>"
      ]
     },
     "metadata": {
      "needs_background": "light"
     },
     "output_type": "display_data"
    },
    {
     "data": {
      "image/png": "[encoded data removed]",
      "text/plain": [
       "<Figure size 432x288 with 1 Axes>"
      ]
     },
     "metadata": {
      "needs_background": "light"
     },
     "output_type": "display_data"
    }
   ],
   "source": [
    "gMixture_Global = GroupMixtureGlo(Xstd_train.shape[1:],Kl=r_obs.shape[1],M=5,epochs=0,optimizer=OPT,dtype_op=DTYPE_OP) \n",
    "gMixture_Global.define_model(\"mlp\",128,1,BatchN=True,drop=0.5)\n",
    "gMixture_Global.lambda_random = True \n",
    "logL_hists,i_r = gMixture_Global.multiples_run(1,Xstd_train,r_obs,batch_size=BATCH_SIZE,max_iter=0,tolerance=TOL)\n",
    "\n",
    "aux = gMixture_Global.alpha_init.sum(axis=1).sum(axis=0)\n",
    "plt.bar(np.arange(gMixture_Global.M),aux)\n",
    "plt.show()\n",
    "gMixture_Global.get_alpha()\n",
    "plt.bar(np.arange(gMixture_Global.M),gMixture_Global.get_alpha())\n",
    "plt.show()"
   ]
  },
  {
   "cell_type": "code",
   "execution_count": 20,
   "metadata": {},
   "outputs": [
    {
     "name": "stdout",
     "output_type": "stream",
     "text": [
      "459\n"
     ]
    },
    {
     "ename": "NameError",
     "evalue": "name 'logL_Mchange' is not defined",
     "output_type": "error",
     "traceback": [
      "\u001b[0;31m---------------------------------------------------------------------------\u001b[0m",
      "\u001b[0;31mNameError\u001b[0m                                 Traceback (most recent call last)",
      "\u001b[0;32m<ipython-input-20-8d67406fc568>\u001b[0m in \u001b[0;36m<module>\u001b[0;34m()\u001b[0m\n\u001b[1;32m      1\u001b[0m \u001b[0;31m#T if i know T\u001b[0m\u001b[0;34m\u001b[0m\u001b[0;34m\u001b[0m\u001b[0m\n\u001b[1;32m      2\u001b[0m \u001b[0mprint\u001b[0m\u001b[0;34m(\u001b[0m\u001b[0mT\u001b[0m\u001b[0;34m)\u001b[0m\u001b[0;34m\u001b[0m\u001b[0m\n\u001b[0;32m----> 3\u001b[0;31m \u001b[0mM_values\u001b[0m \u001b[0;34m=\u001b[0m \u001b[0mrange\u001b[0m\u001b[0;34m(\u001b[0m\u001b[0;36m1\u001b[0m\u001b[0;34m,\u001b[0m\u001b[0;36m1\u001b[0m\u001b[0;34m+\u001b[0m\u001b[0mlen\u001b[0m\u001b[0;34m(\u001b[0m\u001b[0mlogL_Mchange\u001b[0m\u001b[0;34m)\u001b[0m\u001b[0;34m)\u001b[0m\u001b[0;34m\u001b[0m\u001b[0m\n\u001b[0m\u001b[1;32m      4\u001b[0m \u001b[0mt\u001b[0m \u001b[0;34m=\u001b[0m \u001b[0mpd\u001b[0m\u001b[0;34m.\u001b[0m\u001b[0mDataFrame\u001b[0m\u001b[0;34m(\u001b[0m\u001b[0;34m)\u001b[0m\u001b[0;34m\u001b[0m\u001b[0m\n\u001b[1;32m      5\u001b[0m \u001b[0mt\u001b[0m\u001b[0;34m[\u001b[0m\u001b[0;34m\"#Groups\"\u001b[0m\u001b[0;34m]\u001b[0m \u001b[0;34m=\u001b[0m \u001b[0mM_values\u001b[0m\u001b[0;34m\u001b[0m\u001b[0m\n",
      "\u001b[0;31mNameError\u001b[0m: name 'logL_Mchange' is not defined"
     ]
    }
   ],
   "source": [
    "#T if i know T\n",
    "print(T)\n",
    "M_values = range(1,1+len(logL_Mchange))\n",
    "t = pd.DataFrame()\n",
    "t[\"#Groups\"] = M_values\n",
    "t[\">=1 annotator\"] = [ np.sum(probas*T >= 1) for probas in probas_Mchange]\n",
    "t[\">=2 annotator\"] = [ np.sum(probas*T >= 2) for probas in probas_Mchange] #si agrupa al menos tiene 2\n",
    "t[\"Used on annotators\"] = [ len(np.unique(prob_Gt.argmax(axis=1))) for prob_Gt in probGt_Mchange ]#based on p(g|t)\n",
    "t[\"Used on annotators limit >=0.01\"] = [ np.sum(prob_Gt.max(axis=0)>=0.01) for prob_Gt in probGt_Mchange ]#based on p(g|t)\n",
    "t[\"Used on annotators limit >=0.05\"] = [ np.sum(prob_Gt.max(axis=0)>=0.05) for prob_Gt in probGt_Mchange ]#based on p(g|t)\n",
    "t"
   ]
  },
  {
   "cell_type": "markdown",
   "metadata": {},
   "source": [
    "1, 2 o 3..."
   ]
  },
  {
   "cell_type": "code",
   "execution_count": 23,
   "metadata": {},
   "outputs": [],
   "source": [
    "M_seted = 3 #??\n",
    "\n",
    "uniform = False\n",
    "if uniform:\n",
    "    uniform_groups = define_uniform_groups(0.1, r_obs, M_seted)\n",
    "    print(uniform_groups)"
   ]
  },
  {
   "cell_type": "code",
   "execution_count": 24,
   "metadata": {
    "scrolled": true
   },
   "outputs": [
    {
     "name": "stdout",
     "output_type": "stream",
     "text": [
      "Needed params (units,deep,drop,BatchN?)\n",
      "Initializing new EM...\n",
      "Doing clustering...Done!\n",
      "Get init alphas in 0.026273 mins\n",
      "Lambda by group:  [1. 1. 1.]\n",
      "Alphas:  (3,)\n",
      "MV init:  (14448, 3)\n",
      "Betas:  (3, 3, 3)\n",
      "Q estimate:  (14448, 3, 3, 3)\n",
      "Iter 1/50\n",
      "M step: done,  E step: done //  (in 2.46 sec)\tlogL: -11706.739\t\n",
      "Iter 2/50\n",
      "M step: done,  E step: done //  (in 0.83 sec)\tlogL: -10970.762\tTol1: 0.06287\tTol2: 0.37910\tTol3: 0.05405\t\n",
      "Iter 3/50\n",
      "M step: done,  E step: done //  (in 0.84 sec)\tlogL: -10758.429\tTol1: 0.01935\tTol2: 0.20261\tTol3: 0.04009\t\n",
      "Iter 4/50\n",
      "M step: done,  E step: done //  (in 0.83 sec)\tlogL: -10401.195\tTol1: 0.03321\tTol2: 0.21317\tTol3: 0.07228\t\n",
      "Iter 5/50\n",
      "M step: done,  E step: done //  (in 0.84 sec)\tlogL: -10022.236\tTol1: 0.03643\tTol2: 0.13466\tTol3: 0.05570\t\n",
      "Iter 6/50\n",
      "M step: done,  E step: done //  (in 0.84 sec)\tlogL: -9809.365\tTol1: 0.02124\tTol2: 0.12754\tTol3: 0.05693\t\n",
      "Iter 7/50\n",
      "M step: done,  E step: done //  (in 0.85 sec)\tlogL: -9483.525\tTol1: 0.03322\tTol2: 0.11488\tTol3: 0.04619\t\n",
      "Iter 8/50\n",
      "M step: done,  E step: done //  (in 0.83 sec)\tlogL: -9279.113\tTol1: 0.02155\tTol2: 0.15764\tTol3: 0.07299\t\n",
      "Iter 9/50\n",
      "M step: done,  E step: done //  (in 0.83 sec)\tlogL: -9016.013\tTol1: 0.02835\tTol2: 0.12109\tTol3: 0.06331\t\n",
      "Iter 10/50\n",
      "M step: done,  E step: done //  (in 0.83 sec)\tlogL: -8886.331\tTol1: 0.01438\tTol2: 0.09059\tTol3: 0.05906\t\n",
      "Iter 11/50\n",
      "M step: done,  E step: done //  (in 0.83 sec)\tlogL: -8580.606\tTol1: 0.03440\tTol2: 0.08836\tTol3: 0.06159\t\n",
      "Iter 12/50\n",
      "M step: done,  E step: done //  (in 0.83 sec)\tlogL: -8375.708\tTol1: 0.02388\tTol2: 0.10344\tTol3: 0.04113\t\n",
      "Iter 13/50\n",
      "M step: done,  E step: done //  (in 0.84 sec)\tlogL: -8106.465\tTol1: 0.03215\tTol2: 0.07829\tTol3: 0.04664\t\n",
      "Iter 14/50\n",
      "M step: done,  E step: done //  (in 0.82 sec)\tlogL: -8003.033\tTol1: 0.01276\tTol2: 0.09398\tTol3: 0.04134\t\n",
      "Iter 15/50\n",
      "M step: done,  E step: done //  (in 0.84 sec)\tlogL: -7752.065\tTol1: 0.03136\tTol2: 0.08067\tTol3: 0.03459\t\n",
      "Iter 16/50\n",
      "M step: done,  E step: done //  (in 0.84 sec)\tlogL: -7650.720\tTol1: 0.01307\tTol2: 0.06536\tTol3: 0.03627\t\n",
      "Iter 17/50\n",
      "M step: done,  E step: done //  (in 0.83 sec)\tlogL: -7368.223\tTol1: 0.03692\tTol2: 0.07710\tTol3: 0.03150\t\n",
      "Iter 18/50\n",
      "M step: done,  E step: done //  (in 0.82 sec)\tlogL: -7169.414\tTol1: 0.02698\tTol2: 0.06910\tTol3: 0.02736\t\n",
      "Iter 19/50\n",
      "M step: done,  E step: done //  (in 0.84 sec)\tlogL: -6933.227\tTol1: 0.03294\tTol2: 0.05080\tTol3: 0.02188\t\n",
      "Iter 20/50\n",
      "M step: done,  E step: done //  (in 0.84 sec)\tlogL: -6891.002\tTol1: 0.00609\tTol2: 0.05701\tTol3: 0.01986\t\n",
      "Iter 21/50\n",
      "M step: done,  E step: done //  (in 0.83 sec)\tlogL: -6602.656\tTol1: 0.04184\tTol2: 0.04784\tTol3: 0.01864\t\n",
      "Finished training!\n"
     ]
    }
   ],
   "source": [
    "gMixture_Global = GroupMixtureGlo(Xstd_train.shape[1:],Kl=r_obs.shape[1],M=M_seted,epochs=1,optimizer=OPT,dtype_op=DTYPE_OP) \n",
    "gMixture_Global.define_model(\"mlp\",128,1,BatchN=True,drop=0.5)\n",
    "\n",
    "if uniform:\n",
    "    gMixture_Global.define_priors(\"laplace\")\n",
    "    gMixture_Global.define_priors(uniform_groups)\n",
    "\n",
    "gMixture_Global.lambda_random = False \n",
    "logL_hists,i_r = gMixture_Global.multiples_run(20,Xstd_train,r_obs,\n",
    "                                               batch_size=BATCH_SIZE,max_iter=EPOCHS_BASE,tolerance=TOL*5/3)"
   ]
  },
  {
   "cell_type": "code",
   "execution_count": 25,
   "metadata": {},
   "outputs": [],
   "source": [
    "Z_train_p = gMixture_Global.get_predictions(Xstd_train)\n",
    "Z_train_pred = Z_train_p.argmax(axis=-1)\n",
    "Z_val_p = gMixture_Global.get_predictions(Xstd_val)\n",
    "Z_val_pred = Z_val_p.argmax(axis=-1)\n",
    "Z_test_p = gMixture_Global.get_predictions(Xstd_test)\n",
    "Z_test_pred = Z_test_p.argmax(axis=-1)"
   ]
  },
  {
   "cell_type": "code",
   "execution_count": 26,
   "metadata": {},
   "outputs": [
    {
     "ename": "TypeError",
     "evalue": "object of type 'numpy.float64' has no len()",
     "output_type": "error",
     "traceback": [
      "\u001b[0;31m---------------------------------------------------------------------------\u001b[0m",
      "\u001b[0;31mTypeError\u001b[0m                                 Traceback (most recent call last)",
      "\u001b[0;32m<ipython-input-26-b5e33b13b649>\u001b[0m in \u001b[0;36m<module>\u001b[0;34m()\u001b[0m\n\u001b[1;32m      2\u001b[0m \u001b[0;32mfor\u001b[0m \u001b[0ma\u001b[0m\u001b[0;34m,\u001b[0m \u001b[0mvalue\u001b[0m \u001b[0;32min\u001b[0m \u001b[0menumerate\u001b[0m\u001b[0;34m(\u001b[0m\u001b[0mlogL_hists\u001b[0m\u001b[0;34m)\u001b[0m\u001b[0;34m:\u001b[0m \u001b[0;31m#logL_hists\u001b[0m\u001b[0;34m\u001b[0m\u001b[0m\n\u001b[1;32m      3\u001b[0m     \u001b[0;32mif\u001b[0m \u001b[0ma\u001b[0m \u001b[0;34m!=\u001b[0m \u001b[0mi_r\u001b[0m\u001b[0;34m:\u001b[0m\u001b[0;34m\u001b[0m\u001b[0m\n\u001b[0;32m----> 4\u001b[0;31m         \u001b[0mplt\u001b[0m\u001b[0;34m.\u001b[0m\u001b[0mplot\u001b[0m\u001b[0;34m(\u001b[0m\u001b[0mrange\u001b[0m\u001b[0;34m(\u001b[0m\u001b[0mlen\u001b[0m\u001b[0;34m(\u001b[0m\u001b[0mvalue\u001b[0m\u001b[0;34m)\u001b[0m\u001b[0;34m)\u001b[0m\u001b[0;34m,\u001b[0m\u001b[0mvalue\u001b[0m\u001b[0;34m,\u001b[0m\u001b[0;34m'.-'\u001b[0m\u001b[0;34m)\u001b[0m\u001b[0;34m\u001b[0m\u001b[0m\n\u001b[0m\u001b[1;32m      5\u001b[0m \u001b[0mplt\u001b[0m\u001b[0;34m.\u001b[0m\u001b[0mplot\u001b[0m\u001b[0;34m(\u001b[0m\u001b[0mrange\u001b[0m\u001b[0;34m(\u001b[0m\u001b[0mlen\u001b[0m\u001b[0;34m(\u001b[0m\u001b[0mlogL_hists\u001b[0m\u001b[0;34m[\u001b[0m\u001b[0mi_r\u001b[0m\u001b[0;34m]\u001b[0m\u001b[0;34m)\u001b[0m\u001b[0;34m)\u001b[0m\u001b[0;34m,\u001b[0m\u001b[0mlogL_hists\u001b[0m\u001b[0;34m[\u001b[0m\u001b[0mi_r\u001b[0m\u001b[0;34m]\u001b[0m\u001b[0;34m,\u001b[0m\u001b[0;34m'o-'\u001b[0m\u001b[0;34m,\u001b[0m\u001b[0mmarkersize\u001b[0m\u001b[0;34m=\u001b[0m\u001b[0;36m10\u001b[0m\u001b[0;34m,\u001b[0m\u001b[0mlabel\u001b[0m\u001b[0;34m=\u001b[0m\u001b[0;34m\"Selected run\"\u001b[0m\u001b[0;34m)\u001b[0m\u001b[0;34m\u001b[0m\u001b[0m\n\u001b[1;32m      6\u001b[0m \u001b[0mplt\u001b[0m\u001b[0;34m.\u001b[0m\u001b[0mlegend\u001b[0m\u001b[0;34m(\u001b[0m\u001b[0;34m)\u001b[0m\u001b[0;34m\u001b[0m\u001b[0m\n",
      "\u001b[0;31mTypeError\u001b[0m: object of type 'numpy.float64' has no len()"
     ]
    },
    {
     "data": {
      "text/plain": [
       "<Figure size 1080x504 with 0 Axes>"
      ]
     },
     "metadata": {},
     "output_type": "display_data"
    }
   ],
   "source": [
    "plt.figure(figsize=(15,7))\n",
    "for a, value in enumerate(logL_hists): #logL_hists\n",
    "    if a != i_r:\n",
    "        plt.plot(range(len(value)),value,'.-')\n",
    "plt.plot(range(len(logL_hists[i_r])),logL_hists[i_r],'o-',markersize=10,label=\"Selected run\")\n",
    "plt.legend()\n",
    "plt.show()"
   ]
  },
  {
   "cell_type": "code",
   "execution_count": null,
   "metadata": {},
   "outputs": [],
   "source": []
  },
  {
   "cell_type": "code",
   "execution_count": 29,
   "metadata": {},
   "outputs": [
    {
     "name": "stdout",
     "output_type": "stream",
     "text": [
      "shape of annotator representation (T, R_t)= (1287, 1287)\n"
     ]
    }
   ],
   "source": [
    "Y_ann_train, T_idx = set_representation(y_obs,\"onehotvar\")\n",
    "T_idx_unique = np.arange(T).reshape(-1,1)\n",
    "\n",
    "A = keras.utils.to_categorical(np.arange(T), num_classes=T) #fast way\n",
    "print(\"shape of annotator representation (T, R_t)=\", A.shape)"
   ]
  },
  {
   "cell_type": "code",
   "execution_count": 30,
   "metadata": {
    "scrolled": true
   },
   "outputs": [
    {
     "name": "stdout",
     "output_type": "stream",
     "text": [
      "shape of annotator representation (T, R_t)= (1287, 9)\n"
     ]
    },
    {
     "data": {
      "image/png": "[encoded data removed]",
      "text/plain": [
       "<Figure size 432x288 with 1 Axes>"
      ]
     },
     "metadata": {
      "needs_background": "light"
     },
     "output_type": "display_data"
    },
    {
     "data": {
      "image/png": "[encoded data removed]",
      "text/plain": [
       "<Figure size 432x288 with 1 Axes>"
      ]
     },
     "metadata": {
      "needs_background": "light"
     },
     "output_type": "display_data"
    },
    {
     "data": {
      "text/plain": [
       "array([[42., 28., 20.],\n",
       "       [24.,  5., 17.],\n",
       "       [ 1.,  3.,  2.],\n",
       "       ...,\n",
       "       [ 3.,  0.,  0.],\n",
       "       [ 2.,  0.,  0.],\n",
       "       [ 1.,  0.,  0.]])"
      ]
     },
     "execution_count": 30,
     "metadata": {},
     "output_type": "execute_result"
    }
   ],
   "source": [
    "from code.MixtureofGroups import *\n",
    "conf_mat, conf_mat_norm  = build_conf_Yvar(Y_ann_train, T_idx, r_obs.argmax(axis=-1))\n",
    "\n",
    "A_rep = conf_mat_norm.reshape(conf_mat_norm.shape[0], Kl**2) #flatten\n",
    "#A_rep = np.zeros((conf_mat.shape[0], Kl))\n",
    "#for t in range(A_rep.shape[0]):\n",
    "#    A_rep[t] = JS_confmatrixs(conf_mat_norm[t], np.identity(Kl),raw=True) #distancia a I (MV)\n",
    "    \n",
    "print(\"shape of annotator representation (T, R_t)=\", A_rep.shape)\n",
    "\n",
    "from sklearn.decomposition import PCA\n",
    "model = PCA(2)\n",
    "aux_pca = model.fit_transform(A_rep)\n",
    "plt.scatter(aux_pca[:,0],aux_pca[:,1])\n",
    "plt.show()\n",
    "\n",
    "\n",
    "A_rep = np.zeros((y_obs.shape[1], Kl))\n",
    "for i in range(N):\n",
    "    for l, t_idx in enumerate(T_idx[i]):\n",
    "        obs_t = Y_ann_train[i][l].argmax(axis=-1)\n",
    "        A_rep[t_idx, obs_t] += 1\n",
    "    \n",
    "from sklearn.decomposition import PCA\n",
    "model = PCA(2)\n",
    "aux_pca = model.fit_transform(A_rep)\n",
    "plt.scatter(aux_pca[:,0],aux_pca[:,1])\n",
    "plt.show()\n",
    "A_rep"
   ]
  },
  {
   "cell_type": "code",
   "execution_count": 31,
   "metadata": {},
   "outputs": [],
   "source": [
    "#different M_seted??\n",
    "M_seted = 3"
   ]
  },
  {
   "cell_type": "code",
   "execution_count": 38,
   "metadata": {
    "scrolled": true
   },
   "outputs": [
    {
     "name": "stdout",
     "output_type": "stream",
     "text": [
      "Needed params (units,deep,drop,BatchN?)\n",
      "Initializing new EM...\n",
      "A = Son ortonormales / No fueron entregados!\n",
      "Doing clustering...Done!\n",
      "Get init alphas in 0.003027 mins\n",
      "Lambda by group:  [1. 1. 1.]\n",
      "Pre-train networks over *z* on 3 epochs... Done!\n",
      "MV init:  (14448, 3)\n",
      "Betas:  (3, 3, 3)\n",
      "Q estimate:  (20571, 3, 3)\n",
      "Iter 1/50\n",
      "M step: done,  E step: done //  (in 5.40 sec)\tlogL: -11202.975\t\n",
      "Iter 2/50\n",
      "M step: done,  E step: done //  (in 1.90 sec)\tlogL: -9985.486\tTol1: 0.10868\tTol2: 0.29088\t\n",
      "Iter 3/50\n",
      "M step: done,  E step: done //  (in 1.89 sec)\tlogL: -9605.346\tTol1: 0.03807\tTol2: 0.21676\t\n",
      "Iter 4/50\n",
      "M step: done,  E step: done //  (in 1.90 sec)\tlogL: -9361.200\tTol1: 0.02542\tTol2: 0.17226\t\n",
      "Iter 5/50\n",
      "M step: done,  E step: done //  (in 1.84 sec)\tlogL: -8995.265\tTol1: 0.03909\tTol2: 0.14548\t\n",
      "Iter 6/50\n",
      "M step: done,  E step: done //  (in 1.91 sec)\tlogL: -8706.889\tTol1: 0.03206\tTol2: 0.12103\t\n",
      "Iter 7/50\n",
      "M step: done,  E step: done //  (in 1.89 sec)\tlogL: -8550.485\tTol1: 0.01796\tTol2: 0.13860\t\n",
      "Iter 8/50\n",
      "M step: done,  E step: done //  (in 1.90 sec)\tlogL: -8228.316\tTol1: 0.03768\tTol2: 0.13850\t\n",
      "Iter 9/50\n",
      "M step: done,  E step: done //  (in 1.90 sec)\tlogL: -7918.680\tTol1: 0.03763\tTol2: 0.10152\t\n",
      "Iter 10/50\n",
      "M step: done,  E step: done //  (in 1.91 sec)\tlogL: -7759.851\tTol1: 0.02006\tTol2: 0.08173\t\n",
      "Iter 11/50\n",
      "M step: done,  E step: done //  (in 1.90 sec)\tlogL: -7575.028\tTol1: 0.02382\tTol2: 0.07276\t\n",
      "Iter 12/50\n",
      "M step: done,  E step: done //  (in 1.89 sec)\tlogL: -7365.887\tTol1: 0.02761\tTol2: 0.10292\t\n",
      "Iter 13/50\n",
      "M step: done,  E step: done //  (in 1.90 sec)\tlogL: -7115.960\tTol1: 0.03393\tTol2: 0.10142\t\n",
      "Iter 14/50\n",
      "M step: done,  E step: done //  (in 1.91 sec)\tlogL: -6855.072\tTol1: 0.03666\tTol2: 0.11854\t\n",
      "Iter 15/50\n",
      "M step: done,  E step: done //  (in 1.87 sec)\tlogL: -6658.028\tTol1: 0.02874\tTol2: 0.05193\t\n",
      "Iter 16/50\n",
      "M step: done,  E step: done //  (in 1.90 sec)\tlogL: -6524.129\tTol1: 0.02011\tTol2: 0.08115\t\n",
      "Iter 17/50\n",
      "M step: done,  E step: done //  (in 1.91 sec)\tlogL: -6272.831\tTol1: 0.03852\tTol2: 0.04841\t\n",
      "Finished training!\n"
     ]
    }
   ],
   "source": [
    "gMixture_Ind1 = GroupMixtureInd(Xstd_train.shape[1:],Kl=Kl,M=M_seted,epochs=1,optimizer=OPT,dtype_op=DTYPE_OP) \n",
    "gMixture_Ind1.define_model(\"mlp\",128,1,BatchN=True,drop=0.5)\n",
    "\n",
    "#gMixture_Ind.define_model_group(\"mlp\", T, M_seted, 1, BatchN=True, embed=True, embed_M=A) #con o sin BN\n",
    "gMixture_Ind1.define_model_group(\"perceptron\",T, M_seted, embed=True, embed_M=A, BatchN=True,bias=False)\n",
    "\n",
    "logL_hists,i = gMixture_Ind1.multiples_run(1,Xstd_train,Y_ann_train, T_idx, A=[], batch_size=BATCH_SIZE,\n",
    "                                    pre_init_z=3,pre_init_g=0,max_iter=EPOCHS_BASE,tolerance=TOL*5/3)"
   ]
  },
  {
   "cell_type": "code",
   "execution_count": 39,
   "metadata": {},
   "outputs": [],
   "source": [
    "Z_train_p = gMixture_Ind1.get_predictions_z(Xstd_train)\n",
    "Z_train_pred = Z_train_p.argmax(axis=-1)\n",
    "Z_val_p = gMixture_Ind1.get_predictions_z(Xstd_val)\n",
    "Z_val_pred = Z_val_p.argmax(axis=-1)\n",
    "Z_test_p = gMixture_Ind1.get_predictions_z(Xstd_test)\n",
    "Z_test_pred = Z_test_p.argmax(axis=-1)\n",
    "prob_Gt = gMixture_Ind1.get_predictions_g(T_idx_unique) "
   ]
  },
  {
   "cell_type": "code",
   "execution_count": 30,
   "metadata": {},
   "outputs": [
    {
     "ename": "NameError",
     "evalue": "name 'Xstd_train' is not defined",
     "output_type": "error",
     "traceback": [
      "\u001b[0;31m---------------------------------------------------------------------------\u001b[0m",
      "\u001b[0;31mNameError\u001b[0m                                 Traceback (most recent call last)",
      "\u001b[0;32m<ipython-input-30-5cbf0084a3cd>\u001b[0m in \u001b[0;36m<module>\u001b[0;34m()\u001b[0m\n\u001b[0;32m----> 1\u001b[0;31m \u001b[0mgMixture_Ind2\u001b[0m \u001b[0;34m=\u001b[0m \u001b[0mGroupMixtureInd\u001b[0m\u001b[0;34m(\u001b[0m\u001b[0mXstd_train\u001b[0m\u001b[0;34m.\u001b[0m\u001b[0mshape\u001b[0m\u001b[0;34m[\u001b[0m\u001b[0;36m1\u001b[0m\u001b[0;34m:\u001b[0m\u001b[0;34m]\u001b[0m\u001b[0;34m,\u001b[0m\u001b[0mKl\u001b[0m\u001b[0;34m=\u001b[0m\u001b[0mKl\u001b[0m\u001b[0;34m,\u001b[0m\u001b[0mM\u001b[0m\u001b[0;34m=\u001b[0m\u001b[0mM_seted\u001b[0m\u001b[0;34m,\u001b[0m\u001b[0mepochs\u001b[0m\u001b[0;34m=\u001b[0m\u001b[0;36m1\u001b[0m\u001b[0;34m,\u001b[0m\u001b[0moptimizer\u001b[0m\u001b[0;34m=\u001b[0m\u001b[0mOPT\u001b[0m\u001b[0;34m,\u001b[0m\u001b[0mdtype_op\u001b[0m\u001b[0;34m=\u001b[0m\u001b[0mDTYPE_OP\u001b[0m\u001b[0;34m)\u001b[0m\u001b[0;34m\u001b[0m\u001b[0m\n\u001b[0m\u001b[1;32m      2\u001b[0m \u001b[0mgMixture_Ind2\u001b[0m\u001b[0;34m.\u001b[0m\u001b[0mdefine_model\u001b[0m\u001b[0;34m(\u001b[0m\u001b[0;34m\"mlp\"\u001b[0m\u001b[0;34m,\u001b[0m\u001b[0;36m128\u001b[0m\u001b[0;34m,\u001b[0m\u001b[0;36m1\u001b[0m\u001b[0;34m,\u001b[0m\u001b[0mBatchN\u001b[0m\u001b[0;34m=\u001b[0m\u001b[0;32mFalse\u001b[0m\u001b[0;34m,\u001b[0m\u001b[0mdrop\u001b[0m\u001b[0;34m=\u001b[0m\u001b[0;36m0.5\u001b[0m\u001b[0;34m)\u001b[0m\u001b[0;34m\u001b[0m\u001b[0m\n\u001b[1;32m      3\u001b[0m \u001b[0;31m#gMixture_Ind.define_model_group(\"mlp\", T, M_seted, 1, BatchN=True, embed=True, embed_M=A) #con o sin BN\u001b[0m\u001b[0;34m\u001b[0m\u001b[0;34m\u001b[0m\u001b[0m\n\u001b[1;32m      4\u001b[0m \u001b[0;31m#gMixture_Ind.define_model_group(\"keras_shallow\", T, M_seted,embed=True, embed_M=A) #pareciera ser necesario pr-init\u001b[0m\u001b[0;34m\u001b[0m\u001b[0;34m\u001b[0m\u001b[0m\n\u001b[1;32m      5\u001b[0m \u001b[0;34m\u001b[0m\u001b[0m\n",
      "\u001b[0;31mNameError\u001b[0m: name 'Xstd_train' is not defined"
     ]
    }
   ],
   "source": [
    "gMixture_Ind2 = GroupMixtureInd(Xstd_train.shape[1:],Kl=Kl,M=M_seted,epochs=1,optimizer=OPT,dtype_op=DTYPE_OP) \n",
    "gMixture_Ind2.define_model(\"mlp\",128,1,BatchN=True,drop=0.5)\n",
    "#gMixture_Ind.define_model_group(\"mlp\", T, M_seted, 1, BatchN=True, embed=True, embed_M=A) #con o sin BN\n",
    "#gMixture_Ind.define_model_group(\"keras_shallow\", T, M_seted,embed=True, embed_M=A) #pareciera ser necesario pr-init\n",
    "\n",
    "logL_hists,i = gMixture_Ind2.multiples_run(20,Xstd_train,Y_ann_train, T_idx, A=[], batch_size=BATCH_SIZE,\n",
    "                                    pre_init_z=3,pre_init_g=0,max_iter=EPOCHS_BASE,tolerance=TOL)"
   ]
  },
  {
   "cell_type": "code",
   "execution_count": 43,
   "metadata": {
    "scrolled": true
   },
   "outputs": [
    {
     "name": "stdout",
     "output_type": "stream",
     "text": [
      "Needed params (units,deep,drop,BatchN?)\n",
      "Needed params (units,deep,drop,BatchN?)\n",
      "Initializing new EM...\n",
      "Doing clustering...Done!\n",
      "Get init alphas in 0.000514 mins\n",
      "Lambda by group:  [1. 1. 1.]\n",
      "Pre-train networks over *z* on 3 epochs... Done!\n",
      "MV init:  (14448, 3)\n",
      "Betas:  (3, 3, 3)\n",
      "Q estimate:  (20571, 3, 3)\n",
      "Iter 1/50\n",
      "M step: done,  E step: done //  (in 4.20 sec)\tlogL: -10712.078\t\n",
      "Iter 2/50\n",
      "M step: done,  E step: done //  (in 1.77 sec)\tlogL: -9863.438\tTol1: 0.07922\tTol2: 0.28759\t\n",
      "Iter 3/50\n",
      "M step: done,  E step: done //  (in 1.76 sec)\tlogL: -9532.396\tTol1: 0.03356\tTol2: 0.19393\t\n",
      "Iter 4/50\n",
      "M step: done,  E step: done //  (in 1.77 sec)\tlogL: -9293.877\tTol1: 0.02502\tTol2: 0.16220\t\n",
      "Iter 5/50\n",
      "M step: done,  E step: done //  (in 1.79 sec)\tlogL: -8957.596\tTol1: 0.03618\tTol2: 0.15789\t\n",
      "Iter 6/50\n",
      "M step: done,  E step: done //  (in 1.77 sec)\tlogL: -8708.703\tTol1: 0.02779\tTol2: 0.14645\t\n",
      "Iter 7/50\n",
      "M step: done,  E step: done //  (in 1.76 sec)\tlogL: -8511.516\tTol1: 0.02264\tTol2: 0.11264\t\n",
      "Iter 8/50\n",
      "M step: done,  E step: done //  (in 1.77 sec)\tlogL: -8204.567\tTol1: 0.03606\tTol2: 0.11300\t\n",
      "Iter 9/50\n",
      "M step: done,  E step: done //  (in 1.71 sec)\tlogL: -7935.451\tTol1: 0.03280\tTol2: 0.07308\t\n",
      "Iter 10/50\n",
      "M step: done,  E step: done //  (in 1.77 sec)\tlogL: -7880.984\tTol1: 0.00686\tTol2: 0.11060\t\n",
      "Iter 11/50\n",
      "M step: done,  E step: done //  (in 1.75 sec)\tlogL: -7509.155\tTol1: 0.04718\tTol2: 0.10823\t\n",
      "Iter 12/50\n",
      "M step: done,  E step: done //  (in 1.72 sec)\tlogL: -7454.377\tTol1: 0.00729\tTol2: 0.06028\t\n",
      "Iter 13/50\n",
      "M step: done,  E step: done //  (in 1.80 sec)\tlogL: -7287.686\tTol1: 0.02236\tTol2: 0.06610\t\n",
      "Iter 14/50\n",
      "M step: done,  E step: done //  (in 1.79 sec)\tlogL: -7054.604\tTol1: 0.03198\tTol2: 0.08431\t\n",
      "Iter 15/50\n",
      "M step: done,  E step: done //  (in 1.79 sec)\tlogL: -6951.035\tTol1: 0.01468\tTol2: 0.06861\t\n",
      "Iter 16/50\n",
      "M step: done,  E step: done //  (in 1.76 sec)\tlogL: -6606.002\tTol1: 0.04964\tTol2: 0.08205\t\n",
      "Iter 17/50\n",
      "M step: done,  E step: done //  (in 1.77 sec)\tlogL: -6514.501\tTol1: 0.01385\tTol2: 0.03611\t\n",
      "Finished training!\n"
     ]
    }
   ],
   "source": [
    "gMixture_Ind3 = GroupMixtureInd(Xstd_train.shape[1:],Kl=Kl,M=M_seted,epochs=1,optimizer=OPT,dtype_op=DTYPE_OP) \n",
    "gMixture_Ind3.define_model(\"mlp\",128,1,BatchN=True,drop=0.5)\n",
    "gMixture_Ind3.define_model_group(\"mlp\", A_rep.shape[1], Kl*M_seted, 1, BatchN=False, embed=False) #con BN\n",
    "\n",
    "logL_hists,i_r = gMixture_Ind3.multiples_run(1,Xstd_train,Y_ann_train, T_idx, A=A_rep, batch_size=BATCH_SIZE,\n",
    "                                   pre_init_z=3,pre_init_g=0,max_iter=EPOCHS_BASE,tolerance=TOL*5/3) "
   ]
  },
  {
   "cell_type": "code",
   "execution_count": 45,
   "metadata": {
    "scrolled": true
   },
   "outputs": [],
   "source": [
    "Z_train_p = gMixture_Ind3.get_predictions_z(Xstd_train)\n",
    "Z_train_pred = Z_train_p.argmax(axis=-1)\n",
    "Z_val_p = gMixture_Ind3.get_predictions_z(Xstd_val)\n",
    "Z_val_pred = Z_val_p.argmax(axis=-1)\n",
    "Z_test_p = gMixture_Ind3.get_predictions_z(Xstd_test)\n",
    "Z_test_pred = Z_test_p.argmax(axis=-1)\n",
    "prob_Gt = gMixture_Ind3.get_predictions_g(A_rep) "
   ]
  },
  {
   "cell_type": "markdown",
   "metadata": {},
   "source": [
    "### Compare trained models"
   ]
  },
  {
   "cell_type": "code",
   "execution_count": 27,
   "metadata": {},
   "outputs": [],
   "source": [
    "#Import it:\n",
    "from code.evaluation import Evaluation_metrics\n",
    "\n",
    "colors = {0: 'b', 1:'r' ,2:'g'}\n",
    "marker_s = {0: 'X', 1:'o', 2:'P'}\n",
    "\n",
    "def plot_alphas(alphas_training):\n",
    "    values = np.asarray(alphas_training)\n",
    "    if len(values.shape) == 3:\n",
    "        group_f = values[-1].argmax(axis=-1) #coloreado por el grupo del final..\n",
    "        \n",
    "        for m in range(M_seted):\n",
    "            plt.figure(figsize=(15,7))\n",
    "            for t in range(values.shape[1]):\n",
    "                plt.plot(values[:,t,m], color=colors[group_f[t]], markersize=5)\n",
    "            plt.title(\"Group \"+str(m))\n",
    "            plt.show()\n",
    "\n",
    "        plt.figure(figsize=(15,10))\n",
    "        for t in range(values.shape[1]):\n",
    "            grupos_t_train = values[:,t,:].argmax(axis=-1)+t/values.shape[1]\n",
    "            plt.plot(grupos_t_train, markersize=5, color=colors[group_f[t]])\n",
    "            #plt.plot(grupos_t_train, markersize=5, marker=marker_s[group_f[t]])\n",
    "\n",
    "        for m in range(M_seted+1):\n",
    "            plt.hlines(m, 0,values.shape[0], linestyles=\"dashed\")\n",
    "        plt.show()\n",
    "        \n",
    "    else:\n",
    "        plt.figure(figsize=(15,7))\n",
    "        for m in range(M_seted):\n",
    "            plt.plot(values[:,m], color=colors[m], markersize=5, label=\"Group \"+str(m))\n",
    "        plt.legend()\n",
    "        plt.show()"
   ]
  },
  {
   "cell_type": "code",
   "execution_count": 78,
   "metadata": {},
   "outputs": [
    {
     "name": "stdout",
     "output_type": "stream",
     "text": [
      "*** Upper bound (Train with GT) ***\n",
      "Train\n",
      "A result\n"
     ]
    },
    {
     "data": {
      "text/html": [
       "<div>\n",
       "<style scoped>\n",
       "    .dataframe tbody tr th:only-of-type {\n",
       "        vertical-align: middle;\n",
       "    }\n",
       "\n",
       "    .dataframe tbody tr th {\n",
       "        vertical-align: top;\n",
       "    }\n",
       "\n",
       "    .dataframe thead th {\n",
       "        text-align: right;\n",
       "    }\n",
       "</style>\n",
       "<table border=\"1\" class=\"dataframe\">\n",
       "  <thead>\n",
       "    <tr style=\"text-align: right;\">\n",
       "      <th></th>\n",
       "      <th></th>\n",
       "      <th>Accuracy</th>\n",
       "      <th>F1 (micro)</th>\n",
       "      <th>F1 (macro)</th>\n",
       "    </tr>\n",
       "  </thead>\n",
       "  <tbody>\n",
       "    <tr>\n",
       "      <th>0</th>\n",
       "      <td>All</td>\n",
       "      <td>0.693</td>\n",
       "      <td>0.693</td>\n",
       "      <td>0.6806</td>\n",
       "    </tr>\n",
       "  </tbody>\n",
       "</table>\n",
       "</div>"
      ],
      "text/plain": [
       "        Accuracy  F1 (micro)  F1 (macro)\n",
       "0  All     0.693       0.693      0.6806"
      ]
     },
     "metadata": {},
     "output_type": "display_data"
    },
    {
     "name": "stdout",
     "output_type": "stream",
     "text": [
      "Test\n",
      "A result\n"
     ]
    },
    {
     "data": {
      "text/html": [
       "<div>\n",
       "<style scoped>\n",
       "    .dataframe tbody tr th:only-of-type {\n",
       "        vertical-align: middle;\n",
       "    }\n",
       "\n",
       "    .dataframe tbody tr th {\n",
       "        vertical-align: top;\n",
       "    }\n",
       "\n",
       "    .dataframe thead th {\n",
       "        text-align: right;\n",
       "    }\n",
       "</style>\n",
       "<table border=\"1\" class=\"dataframe\">\n",
       "  <thead>\n",
       "    <tr style=\"text-align: right;\">\n",
       "      <th></th>\n",
       "      <th></th>\n",
       "      <th>Accuracy</th>\n",
       "      <th>F1 (micro)</th>\n",
       "      <th>F1 (macro)</th>\n",
       "    </tr>\n",
       "  </thead>\n",
       "  <tbody>\n",
       "    <tr>\n",
       "      <th>0</th>\n",
       "      <td>All</td>\n",
       "      <td>0.6418</td>\n",
       "      <td>0.6418</td>\n",
       "      <td>0.6283</td>\n",
       "    </tr>\n",
       "  </tbody>\n",
       "</table>\n",
       "</div>"
      ],
      "text/plain": [
       "        Accuracy  F1 (micro)  F1 (macro)\n",
       "0  All    0.6418      0.6418      0.6283"
      ]
     },
     "metadata": {},
     "output_type": "display_data"
    }
   ],
   "source": [
    "evaluate = Evaluation_metrics(model_UB,'keras',Xstd_train.shape[0])\n",
    "print(\"*** Upper bound (Train with GT) ***\")\n",
    "\n",
    "print(\"Train\")\n",
    "results1 = evaluate.calculate_metrics(Z=Z_train,Z_pred=Z_train_pred)\n",
    "\n",
    "print(\"Test\")\n",
    "results2 = evaluate.calculate_metrics(Z=Z_val,Z_pred=Z_val_pred)"
   ]
  },
  {
   "cell_type": "code",
   "execution_count": 82,
   "metadata": {
    "scrolled": true
   },
   "outputs": [
    {
     "name": "stdout",
     "output_type": "stream",
     "text": [
      "*** Soft-Majority (Train with softMV) ***\n",
      "Train\n",
      "Calculate confusion matrix on repeat version\n"
     ]
    },
    {
     "data": {
      "image/png": "[encoded data removed]",
      "text/plain": [
       "<Figure size 432x288 with 2 Axes>"
      ]
     },
     "metadata": {
      "needs_background": "light"
     },
     "output_type": "display_data"
    },
    {
     "name": "stdout",
     "output_type": "stream",
     "text": [
      "JS divergence: 0.1418\tNorm Frobenius: 0.1807\n"
     ]
    },
    {
     "data": {
      "image/png": "[encoded data removed]",
      "text/plain": [
       "<Figure size 432x288 with 2 Axes>"
      ]
     },
     "metadata": {
      "needs_background": "light"
     },
     "output_type": "display_data"
    },
    {
     "name": "stdout",
     "output_type": "stream",
     "text": [
      "JS divergence: 0.2252\tNorm Frobenius: 0.2881\n"
     ]
    },
    {
     "data": {
      "image/png": "[encoded data removed]",
      "text/plain": [
       "<Figure size 432x288 with 2 Axes>"
      ]
     },
     "metadata": {
      "needs_background": "light"
     },
     "output_type": "display_data"
    },
    {
     "name": "stdout",
     "output_type": "stream",
     "text": [
      "JS divergence: 0.1612\tNorm Frobenius: 0.2474\n"
     ]
    },
    {
     "data": {
      "image/png": "[encoded data removed]",
      "text/plain": [
       "<Figure size 432x288 with 2 Axes>"
      ]
     },
     "metadata": {
      "needs_background": "light"
     },
     "output_type": "display_data"
    },
    {
     "name": "stdout",
     "output_type": "stream",
     "text": [
      "JS divergence: 0.1672\tNorm Frobenius: 0.2029\n"
     ]
    },
    {
     "data": {
      "image/png": "[encoded data removed]",
      "text/plain": [
       "<Figure size 432x288 with 2 Axes>"
      ]
     },
     "metadata": {
      "needs_background": "light"
     },
     "output_type": "display_data"
    },
    {
     "name": "stdout",
     "output_type": "stream",
     "text": [
      "JS divergence: 0.0592\tNorm Frobenius: 0.1087\n"
     ]
    },
    {
     "data": {
      "image/png": "[encoded data removed]",
      "text/plain": [
       "<Figure size 432x288 with 2 Axes>"
      ]
     },
     "metadata": {
      "needs_background": "light"
     },
     "output_type": "display_data"
    },
    {
     "name": "stdout",
     "output_type": "stream",
     "text": [
      "JS divergence: 0.0823\tNorm Frobenius: 0.1959\n"
     ]
    },
    {
     "data": {
      "image/png": "[encoded data removed]",
      "text/plain": [
       "<Figure size 432x288 with 2 Axes>"
      ]
     },
     "metadata": {
      "needs_background": "light"
     },
     "output_type": "display_data"
    },
    {
     "name": "stdout",
     "output_type": "stream",
     "text": [
      "JS divergence: 0.1162\tNorm Frobenius: 0.1926\n"
     ]
    },
    {
     "data": {
      "image/png": "[encoded data removed]",
      "text/plain": [
       "<Figure size 432x288 with 2 Axes>"
      ]
     },
     "metadata": {
      "needs_background": "light"
     },
     "output_type": "display_data"
    },
    {
     "name": "stdout",
     "output_type": "stream",
     "text": [
      "JS divergence: 0.2796\tNorm Frobenius: 0.3149\n"
     ]
    },
    {
     "data": {
      "image/png": "[encoded data removed]",
      "text/plain": [
       "<Figure size 432x288 with 2 Axes>"
      ]
     },
     "metadata": {
      "needs_background": "light"
     },
     "output_type": "display_data"
    },
    {
     "name": "stdout",
     "output_type": "stream",
     "text": [
      "JS divergence: 0.1301\tNorm Frobenius: 0.1558\n"
     ]
    },
    {
     "data": {
      "image/png": "[encoded data removed]",
      "text/plain": [
       "<Figure size 432x288 with 2 Axes>"
      ]
     },
     "metadata": {
      "needs_background": "light"
     },
     "output_type": "display_data"
    },
    {
     "name": "stdout",
     "output_type": "stream",
     "text": [
      "JS divergence: 0.1512\tNorm Frobenius: 0.2089\n"
     ]
    },
    {
     "data": {
      "image/png": "[encoded data removed]",
      "text/plain": [
       "<Figure size 432x288 with 2 Axes>"
      ]
     },
     "metadata": {
      "needs_background": "light"
     },
     "output_type": "display_data"
    },
    {
     "name": "stdout",
     "output_type": "stream",
     "text": [
      "JS divergence: 0.1214\tNorm Frobenius: 0.1418\n"
     ]
    },
    {
     "data": {
      "image/png": "[encoded data removed]",
      "text/plain": [
       "<Figure size 432x288 with 2 Axes>"
      ]
     },
     "metadata": {
      "needs_background": "light"
     },
     "output_type": "display_data"
    },
    {
     "name": "stdout",
     "output_type": "stream",
     "text": [
      "JS divergence: 0.2855\tNorm Frobenius: 0.3443\n"
     ]
    },
    {
     "data": {
      "image/png": "[encoded data removed]",
      "text/plain": [
       "<Figure size 432x288 with 2 Axes>"
      ]
     },
     "metadata": {
      "needs_background": "light"
     },
     "output_type": "display_data"
    },
    {
     "name": "stdout",
     "output_type": "stream",
     "text": [
      "JS divergence: 0.0208\tNorm Frobenius: 0.0768\n"
     ]
    },
    {
     "data": {
      "image/png": "[encoded data removed]",
      "text/plain": [
       "<Figure size 432x288 with 2 Axes>"
      ]
     },
     "metadata": {
      "needs_background": "light"
     },
     "output_type": "display_data"
    },
    {
     "name": "stdout",
     "output_type": "stream",
     "text": [
      "JS divergence: 0.1577\tNorm Frobenius: 0.2136\n"
     ]
    },
    {
     "data": {
      "image/png": "[encoded data removed]",
      "text/plain": [
       "<Figure size 432x288 with 2 Axes>"
      ]
     },
     "metadata": {
      "needs_background": "light"
     },
     "output_type": "display_data"
    },
    {
     "name": "stdout",
     "output_type": "stream",
     "text": [
      "JS divergence: 0.2632\tNorm Frobenius: 0.3061\n",
      "Calculate confusion matrix on global version\n"
     ]
    },
    {
     "data": {
      "image/png": "[encoded data removed]",
      "text/plain": [
       "<Figure size 432x288 with 2 Axes>"
      ]
     },
     "metadata": {
      "needs_background": "light"
     },
     "output_type": "display_data"
    },
    {
     "name": "stdout",
     "output_type": "stream",
     "text": [
      "JS divergence: 0.0057\tNorm Frobenius: 0.0412\n",
      "A result\n"
     ]
    },
    {
     "data": {
      "text/html": [
       "<div>\n",
       "<style scoped>\n",
       "    .dataframe tbody tr th:only-of-type {\n",
       "        vertical-align: middle;\n",
       "    }\n",
       "\n",
       "    .dataframe tbody tr th {\n",
       "        vertical-align: top;\n",
       "    }\n",
       "\n",
       "    .dataframe thead th {\n",
       "        text-align: right;\n",
       "    }\n",
       "</style>\n",
       "<table border=\"1\" class=\"dataframe\">\n",
       "  <thead>\n",
       "    <tr style=\"text-align: right;\">\n",
       "      <th></th>\n",
       "      <th></th>\n",
       "      <th>Accuracy</th>\n",
       "      <th>F1 (micro)</th>\n",
       "      <th>F1 (macro)</th>\n",
       "      <th>(R) NormF mean</th>\n",
       "      <th>(R) JS mean</th>\n",
       "      <th>(R) NormF w</th>\n",
       "      <th>(R) JS w</th>\n",
       "      <th>(G) NormF</th>\n",
       "      <th>(G) JS</th>\n",
       "    </tr>\n",
       "  </thead>\n",
       "  <tbody>\n",
       "    <tr>\n",
       "      <th>0</th>\n",
       "      <td>All</td>\n",
       "      <td>0.6446</td>\n",
       "      <td>0.6446</td>\n",
       "      <td>0.6232</td>\n",
       "      <td>0.2642</td>\n",
       "      <td>0.219</td>\n",
       "      <td>0.2015</td>\n",
       "      <td>0.1482</td>\n",
       "      <td>0.0412</td>\n",
       "      <td>0.0057</td>\n",
       "    </tr>\n",
       "  </tbody>\n",
       "</table>\n",
       "</div>"
      ],
      "text/plain": [
       "        Accuracy  F1 (micro)  F1 (macro)  (R) NormF mean  (R) JS mean  \\\n",
       "0  All    0.6446      0.6446      0.6232          0.2642        0.219   \n",
       "\n",
       "   (R) NormF w  (R) JS w  (G) NormF  (G) JS  \n",
       "0       0.2015    0.1482     0.0412  0.0057  "
      ]
     },
     "metadata": {},
     "output_type": "display_data"
    },
    {
     "name": "stdout",
     "output_type": "stream",
     "text": [
      "Val\n",
      "A result\n"
     ]
    },
    {
     "data": {
      "text/html": [
       "<div>\n",
       "<style scoped>\n",
       "    .dataframe tbody tr th:only-of-type {\n",
       "        vertical-align: middle;\n",
       "    }\n",
       "\n",
       "    .dataframe tbody tr th {\n",
       "        vertical-align: top;\n",
       "    }\n",
       "\n",
       "    .dataframe thead th {\n",
       "        text-align: right;\n",
       "    }\n",
       "</style>\n",
       "<table border=\"1\" class=\"dataframe\">\n",
       "  <thead>\n",
       "    <tr style=\"text-align: right;\">\n",
       "      <th></th>\n",
       "      <th></th>\n",
       "      <th>Accuracy</th>\n",
       "      <th>F1 (micro)</th>\n",
       "      <th>F1 (macro)</th>\n",
       "    </tr>\n",
       "  </thead>\n",
       "  <tbody>\n",
       "    <tr>\n",
       "      <th>0</th>\n",
       "      <td>All</td>\n",
       "      <td>0.6258</td>\n",
       "      <td>0.6258</td>\n",
       "      <td>0.603</td>\n",
       "    </tr>\n",
       "  </tbody>\n",
       "</table>\n",
       "</div>"
      ],
      "text/plain": [
       "        Accuracy  F1 (micro)  F1 (macro)\n",
       "0  All    0.6258      0.6258       0.603"
      ]
     },
     "metadata": {},
     "output_type": "display_data"
    },
    {
     "name": "stdout",
     "output_type": "stream",
     "text": [
      "Test\n",
      "A result\n"
     ]
    },
    {
     "data": {
      "text/html": [
       "<div>\n",
       "<style scoped>\n",
       "    .dataframe tbody tr th:only-of-type {\n",
       "        vertical-align: middle;\n",
       "    }\n",
       "\n",
       "    .dataframe tbody tr th {\n",
       "        vertical-align: top;\n",
       "    }\n",
       "\n",
       "    .dataframe thead th {\n",
       "        text-align: right;\n",
       "    }\n",
       "</style>\n",
       "<table border=\"1\" class=\"dataframe\">\n",
       "  <thead>\n",
       "    <tr style=\"text-align: right;\">\n",
       "      <th></th>\n",
       "      <th></th>\n",
       "      <th>Accuracy</th>\n",
       "      <th>F1 (micro)</th>\n",
       "      <th>F1 (macro)</th>\n",
       "    </tr>\n",
       "  </thead>\n",
       "  <tbody>\n",
       "    <tr>\n",
       "      <th>0</th>\n",
       "      <td>All</td>\n",
       "      <td>0.7653</td>\n",
       "      <td>0.7653</td>\n",
       "      <td>0.7264</td>\n",
       "    </tr>\n",
       "  </tbody>\n",
       "</table>\n",
       "</div>"
      ],
      "text/plain": [
       "        Accuracy  F1 (micro)  F1 (macro)\n",
       "0  All    0.7653      0.7653      0.7264"
      ]
     },
     "metadata": {},
     "output_type": "display_data"
    }
   ],
   "source": [
    "evaluate = Evaluation_metrics(model_mvsoft,'keras',Xstd_train.shape[0])\n",
    "evaluate.set_T_weights(T_weights)\n",
    "print(\"*** Soft-Majority (Train with softMV) ***\")\n",
    "\n",
    "print(\"Train\")\n",
    "prob_Yzt = np.tile( mv_conf_probas, (T,1,1) )\n",
    "results1 = evaluate.calculate_metrics(Z=Z_train,Z_pred=Z_train_pred,conf_pred=prob_Yzt,conf_true=confe_matrix_R,\n",
    "                                     conf_true_G =confe_matrix_G, conf_pred_G = mv_conf_probas)\n",
    "\n",
    "print(\"Val\")\n",
    "results2 = evaluate.calculate_metrics(Z=Z_val,Z_pred=Z_val_pred)\n",
    "\n",
    "print(\"Test\")\n",
    "results2 = evaluate.calculate_metrics(Z=Z_test,Z_pred=Z_test_pred)"
   ]
  },
  {
   "cell_type": "code",
   "execution_count": 84,
   "metadata": {
    "scrolled": true
   },
   "outputs": [
    {
     "name": "stdout",
     "output_type": "stream",
     "text": [
      "*** Hard-Majority (Train with hardMV) ***\n",
      "Train\n",
      "Calculate confusion matrix on repeat version\n"
     ]
    },
    {
     "data": {
      "image/png": "[encoded data removed]",
      "text/plain": [
       "<Figure size 432x288 with 2 Axes>"
      ]
     },
     "metadata": {
      "needs_background": "light"
     },
     "output_type": "display_data"
    },
    {
     "name": "stdout",
     "output_type": "stream",
     "text": [
      "JS divergence: 0.1672\tNorm Frobenius: 0.2255\n"
     ]
    },
    {
     "data": {
      "image/png": "[encoded data removed]",
      "text/plain": [
       "<Figure size 432x288 with 2 Axes>"
      ]
     },
     "metadata": {
      "needs_background": "light"
     },
     "output_type": "display_data"
    },
    {
     "name": "stdout",
     "output_type": "stream",
     "text": [
      "JS divergence: 0.0957\tNorm Frobenius: 0.1579\n"
     ]
    },
    {
     "data": {
      "image/png": "[encoded data removed]",
      "text/plain": [
       "<Figure size 432x288 with 2 Axes>"
      ]
     },
     "metadata": {
      "needs_background": "light"
     },
     "output_type": "display_data"
    },
    {
     "name": "stdout",
     "output_type": "stream",
     "text": [
      "JS divergence: 0.1711\tNorm Frobenius: 0.2472\n"
     ]
    },
    {
     "data": {
      "image/png": "[encoded data removed]",
      "text/plain": [
       "<Figure size 432x288 with 2 Axes>"
      ]
     },
     "metadata": {
      "needs_background": "light"
     },
     "output_type": "display_data"
    },
    {
     "name": "stdout",
     "output_type": "stream",
     "text": [
      "JS divergence: 0.2137\tNorm Frobenius: 0.2802\n"
     ]
    },
    {
     "data": {
      "image/png": "[encoded data removed]",
      "text/plain": [
       "<Figure size 432x288 with 2 Axes>"
      ]
     },
     "metadata": {
      "needs_background": "light"
     },
     "output_type": "display_data"
    },
    {
     "name": "stdout",
     "output_type": "stream",
     "text": [
      "JS divergence: 0.1555\tNorm Frobenius: 0.2560\n"
     ]
    },
    {
     "data": {
      "image/png": "[encoded data removed]",
      "text/plain": [
       "<Figure size 432x288 with 2 Axes>"
      ]
     },
     "metadata": {
      "needs_background": "light"
     },
     "output_type": "display_data"
    },
    {
     "name": "stdout",
     "output_type": "stream",
     "text": [
      "JS divergence: 0.2039\tNorm Frobenius: 0.2513\n"
     ]
    },
    {
     "data": {
      "image/png": "[encoded data removed]",
      "text/plain": [
       "<Figure size 432x288 with 2 Axes>"
      ]
     },
     "metadata": {
      "needs_background": "light"
     },
     "output_type": "display_data"
    },
    {
     "name": "stdout",
     "output_type": "stream",
     "text": [
      "JS divergence: 0.0783\tNorm Frobenius: 0.1642\n"
     ]
    },
    {
     "data": {
      "image/png": "[encoded data removed]",
      "text/plain": [
       "<Figure size 432x288 with 2 Axes>"
      ]
     },
     "metadata": {
      "needs_background": "light"
     },
     "output_type": "display_data"
    },
    {
     "name": "stdout",
     "output_type": "stream",
     "text": [
      "JS divergence: 0.0238\tNorm Frobenius: 0.0725\n"
     ]
    },
    {
     "data": {
      "image/png": "[encoded data removed]",
      "text/plain": [
       "<Figure size 432x288 with 2 Axes>"
      ]
     },
     "metadata": {
      "needs_background": "light"
     },
     "output_type": "display_data"
    },
    {
     "name": "stdout",
     "output_type": "stream",
     "text": [
      "JS divergence: 0.0811\tNorm Frobenius: 0.1940\n"
     ]
    },
    {
     "data": {
      "image/png": "[encoded data removed]",
      "text/plain": [
       "<Figure size 432x288 with 2 Axes>"
      ]
     },
     "metadata": {
      "needs_background": "light"
     },
     "output_type": "display_data"
    },
    {
     "name": "stdout",
     "output_type": "stream",
     "text": [
      "JS divergence: 0.0417\tNorm Frobenius: 0.1050\n"
     ]
    },
    {
     "data": {
      "image/png": "[encoded data removed]",
      "text/plain": [
       "<Figure size 432x288 with 2 Axes>"
      ]
     },
     "metadata": {
      "needs_background": "light"
     },
     "output_type": "display_data"
    },
    {
     "name": "stdout",
     "output_type": "stream",
     "text": [
      "JS divergence: 0.3493\tNorm Frobenius: 0.3752\n"
     ]
    },
    {
     "data": {
      "image/png": "[encoded data removed]",
      "text/plain": [
       "<Figure size 432x288 with 2 Axes>"
      ]
     },
     "metadata": {
      "needs_background": "light"
     },
     "output_type": "display_data"
    },
    {
     "name": "stdout",
     "output_type": "stream",
     "text": [
      "JS divergence: 0.1221\tNorm Frobenius: 0.1956\n"
     ]
    },
    {
     "data": {
      "image/png": "[encoded data removed]",
      "text/plain": [
       "<Figure size 432x288 with 2 Axes>"
      ]
     },
     "metadata": {
      "needs_background": "light"
     },
     "output_type": "display_data"
    },
    {
     "name": "stdout",
     "output_type": "stream",
     "text": [
      "JS divergence: 0.1256\tNorm Frobenius: 0.1710\n"
     ]
    },
    {
     "data": {
      "image/png": "[encoded data removed]",
      "text/plain": [
       "<Figure size 432x288 with 2 Axes>"
      ]
     },
     "metadata": {
      "needs_background": "light"
     },
     "output_type": "display_data"
    },
    {
     "name": "stdout",
     "output_type": "stream",
     "text": [
      "JS divergence: 0.1606\tNorm Frobenius: 0.1896\n"
     ]
    },
    {
     "data": {
      "image/png": "[encoded data removed]",
      "text/plain": [
       "<Figure size 432x288 with 2 Axes>"
      ]
     },
     "metadata": {
      "needs_background": "light"
     },
     "output_type": "display_data"
    },
    {
     "name": "stdout",
     "output_type": "stream",
     "text": [
      "JS divergence: 0.3100\tNorm Frobenius: 0.3626\n",
      "Calculate confusion matrix on global version\n"
     ]
    },
    {
     "data": {
      "image/png": "[encoded data removed]",
      "text/plain": [
       "<Figure size 432x288 with 2 Axes>"
      ]
     },
     "metadata": {
      "needs_background": "light"
     },
     "output_type": "display_data"
    },
    {
     "name": "stdout",
     "output_type": "stream",
     "text": [
      "JS divergence: 0.0243\tNorm Frobenius: 0.0879\n",
      "A result\n"
     ]
    },
    {
     "data": {
      "text/html": [
       "<div>\n",
       "<style scoped>\n",
       "    .dataframe tbody tr th:only-of-type {\n",
       "        vertical-align: middle;\n",
       "    }\n",
       "\n",
       "    .dataframe tbody tr th {\n",
       "        vertical-align: top;\n",
       "    }\n",
       "\n",
       "    .dataframe thead th {\n",
       "        text-align: right;\n",
       "    }\n",
       "</style>\n",
       "<table border=\"1\" class=\"dataframe\">\n",
       "  <thead>\n",
       "    <tr style=\"text-align: right;\">\n",
       "      <th></th>\n",
       "      <th></th>\n",
       "      <th>Accuracy</th>\n",
       "      <th>F1 (micro)</th>\n",
       "      <th>F1 (macro)</th>\n",
       "      <th>(R) NormF mean</th>\n",
       "      <th>(R) JS mean</th>\n",
       "      <th>(R) NormF w</th>\n",
       "      <th>(R) JS w</th>\n",
       "      <th>(G) NormF</th>\n",
       "      <th>(G) JS</th>\n",
       "    </tr>\n",
       "  </thead>\n",
       "  <tbody>\n",
       "    <tr>\n",
       "      <th>0</th>\n",
       "      <td>All</td>\n",
       "      <td>0.6202</td>\n",
       "      <td>0.6202</td>\n",
       "      <td>0.5325</td>\n",
       "      <td>0.2777</td>\n",
       "      <td>0.2316</td>\n",
       "      <td>0.2177</td>\n",
       "      <td>0.1602</td>\n",
       "      <td>0.0879</td>\n",
       "      <td>0.0243</td>\n",
       "    </tr>\n",
       "  </tbody>\n",
       "</table>\n",
       "</div>"
      ],
      "text/plain": [
       "        Accuracy  F1 (micro)  F1 (macro)  (R) NormF mean  (R) JS mean  \\\n",
       "0  All    0.6202      0.6202      0.5325          0.2777       0.2316   \n",
       "\n",
       "   (R) NormF w  (R) JS w  (G) NormF  (G) JS  \n",
       "0       0.2177    0.1602     0.0879  0.0243  "
      ]
     },
     "metadata": {},
     "output_type": "display_data"
    },
    {
     "name": "stdout",
     "output_type": "stream",
     "text": [
      "Val\n",
      "A result\n"
     ]
    },
    {
     "data": {
      "text/html": [
       "<div>\n",
       "<style scoped>\n",
       "    .dataframe tbody tr th:only-of-type {\n",
       "        vertical-align: middle;\n",
       "    }\n",
       "\n",
       "    .dataframe tbody tr th {\n",
       "        vertical-align: top;\n",
       "    }\n",
       "\n",
       "    .dataframe thead th {\n",
       "        text-align: right;\n",
       "    }\n",
       "</style>\n",
       "<table border=\"1\" class=\"dataframe\">\n",
       "  <thead>\n",
       "    <tr style=\"text-align: right;\">\n",
       "      <th></th>\n",
       "      <th></th>\n",
       "      <th>Accuracy</th>\n",
       "      <th>F1 (micro)</th>\n",
       "      <th>F1 (macro)</th>\n",
       "    </tr>\n",
       "  </thead>\n",
       "  <tbody>\n",
       "    <tr>\n",
       "      <th>0</th>\n",
       "      <td>All</td>\n",
       "      <td>0.6025</td>\n",
       "      <td>0.6025</td>\n",
       "      <td>0.5144</td>\n",
       "    </tr>\n",
       "  </tbody>\n",
       "</table>\n",
       "</div>"
      ],
      "text/plain": [
       "        Accuracy  F1 (micro)  F1 (macro)\n",
       "0  All    0.6025      0.6025      0.5144"
      ]
     },
     "metadata": {},
     "output_type": "display_data"
    },
    {
     "name": "stdout",
     "output_type": "stream",
     "text": [
      "Test\n",
      "A result\n"
     ]
    },
    {
     "data": {
      "text/html": [
       "<div>\n",
       "<style scoped>\n",
       "    .dataframe tbody tr th:only-of-type {\n",
       "        vertical-align: middle;\n",
       "    }\n",
       "\n",
       "    .dataframe tbody tr th {\n",
       "        vertical-align: top;\n",
       "    }\n",
       "\n",
       "    .dataframe thead th {\n",
       "        text-align: right;\n",
       "    }\n",
       "</style>\n",
       "<table border=\"1\" class=\"dataframe\">\n",
       "  <thead>\n",
       "    <tr style=\"text-align: right;\">\n",
       "      <th></th>\n",
       "      <th></th>\n",
       "      <th>Accuracy</th>\n",
       "      <th>F1 (micro)</th>\n",
       "      <th>F1 (macro)</th>\n",
       "    </tr>\n",
       "  </thead>\n",
       "  <tbody>\n",
       "    <tr>\n",
       "      <th>0</th>\n",
       "      <td>All</td>\n",
       "      <td>0.7187</td>\n",
       "      <td>0.7187</td>\n",
       "      <td>0.5967</td>\n",
       "    </tr>\n",
       "  </tbody>\n",
       "</table>\n",
       "</div>"
      ],
      "text/plain": [
       "        Accuracy  F1 (micro)  F1 (macro)\n",
       "0  All    0.7187      0.7187      0.5967"
      ]
     },
     "metadata": {},
     "output_type": "display_data"
    }
   ],
   "source": [
    "evaluate = Evaluation_metrics(model_mvhard,'keras',Xstd_train.shape[0])\n",
    "evaluate.set_T_weights(T_weights)\n",
    "print(\"*** Hard-Majority (Train with hardMV) ***\")\n",
    "\n",
    "print(\"Train\")\n",
    "prob_Yzt = np.tile( mv_conf_onehot, (T,1,1) )\n",
    "results1 = evaluate.calculate_metrics(Z=Z_train,Z_pred=Z_train_pred,conf_pred=prob_Yzt,conf_true=confe_matrix_R,\n",
    "                                     conf_true_G =confe_matrix_G, conf_pred_G = mv_conf_onehot)\n",
    "\n",
    "print(\"Val\")\n",
    "results2 = evaluate.calculate_metrics(Z=Z_val,Z_pred=Z_val_pred)\n",
    "\n",
    "print(\"Test\")\n",
    "results2 = evaluate.calculate_metrics(Z=Z_test,Z_pred=Z_test_pred)"
   ]
  },
  {
   "cell_type": "code",
   "execution_count": 86,
   "metadata": {
    "scrolled": true
   },
   "outputs": [
    {
     "name": "stdout",
     "output_type": "stream",
     "text": [
      "*** Dawid and Skene model (Train with D&S) ***\n",
      "Train\n",
      "Calculate confusion matrix on repeat version\n"
     ]
    },
    {
     "data": {
      "image/png": "[encoded data removed]",
      "text/plain": [
       "<Figure size 432x288 with 2 Axes>"
      ]
     },
     "metadata": {
      "needs_background": "light"
     },
     "output_type": "display_data"
    },
    {
     "name": "stdout",
     "output_type": "stream",
     "text": [
      "JS divergence: 0.0739\tNorm Frobenius: 0.1047\n"
     ]
    },
    {
     "data": {
      "image/png": "[encoded data removed]",
      "text/plain": [
       "<Figure size 432x288 with 2 Axes>"
      ]
     },
     "metadata": {
      "needs_background": "light"
     },
     "output_type": "display_data"
    },
    {
     "name": "stdout",
     "output_type": "stream",
     "text": [
      "JS divergence: 0.1335\tNorm Frobenius: 0.2187\n"
     ]
    },
    {
     "data": {
      "image/png": "[encoded data removed]",
      "text/plain": [
       "<Figure size 432x288 with 2 Axes>"
      ]
     },
     "metadata": {
      "needs_background": "light"
     },
     "output_type": "display_data"
    },
    {
     "name": "stdout",
     "output_type": "stream",
     "text": [
      "JS divergence: 0.0741\tNorm Frobenius: 0.1520\n"
     ]
    },
    {
     "data": {
      "image/png": "[encoded data removed]",
      "text/plain": [
       "<Figure size 432x288 with 2 Axes>"
      ]
     },
     "metadata": {
      "needs_background": "light"
     },
     "output_type": "display_data"
    },
    {
     "name": "stdout",
     "output_type": "stream",
     "text": [
      "JS divergence: 0.0416\tNorm Frobenius: 0.1129\n"
     ]
    },
    {
     "data": {
      "image/png": "[encoded data removed]",
      "text/plain": [
       "<Figure size 432x288 with 2 Axes>"
      ]
     },
     "metadata": {
      "needs_background": "light"
     },
     "output_type": "display_data"
    },
    {
     "name": "stdout",
     "output_type": "stream",
     "text": [
      "JS divergence: 0.3303\tNorm Frobenius: 0.3928\n"
     ]
    },
    {
     "data": {
      "image/png": "[encoded data removed]",
      "text/plain": [
       "<Figure size 432x288 with 2 Axes>"
      ]
     },
     "metadata": {
      "needs_background": "light"
     },
     "output_type": "display_data"
    },
    {
     "name": "stdout",
     "output_type": "stream",
     "text": [
      "JS divergence: 0.0582\tNorm Frobenius: 0.1300\n"
     ]
    },
    {
     "data": {
      "image/png": "[encoded data removed]",
      "text/plain": [
       "<Figure size 432x288 with 2 Axes>"
      ]
     },
     "metadata": {
      "needs_background": "light"
     },
     "output_type": "display_data"
    },
    {
     "name": "stdout",
     "output_type": "stream",
     "text": [
      "JS divergence: 0.0696\tNorm Frobenius: 0.1271\n"
     ]
    },
    {
     "data": {
      "image/png": "[encoded data removed]",
      "text/plain": [
       "<Figure size 432x288 with 2 Axes>"
      ]
     },
     "metadata": {
      "needs_background": "light"
     },
     "output_type": "display_data"
    },
    {
     "name": "stdout",
     "output_type": "stream",
     "text": [
      "JS divergence: 0.0447\tNorm Frobenius: 0.0903\n"
     ]
    },
    {
     "data": {
      "image/png": "[encoded data removed]",
      "text/plain": [
       "<Figure size 432x288 with 2 Axes>"
      ]
     },
     "metadata": {
      "needs_background": "light"
     },
     "output_type": "display_data"
    },
    {
     "name": "stdout",
     "output_type": "stream",
     "text": [
      "JS divergence: 0.2048\tNorm Frobenius: 0.3108\n"
     ]
    },
    {
     "data": {
      "image/png": "[encoded data removed]",
      "text/plain": [
       "<Figure size 432x288 with 2 Axes>"
      ]
     },
     "metadata": {
      "needs_background": "light"
     },
     "output_type": "display_data"
    },
    {
     "name": "stdout",
     "output_type": "stream",
     "text": [
      "JS divergence: 0.1698\tNorm Frobenius: 0.2336\n"
     ]
    },
    {
     "data": {
      "image/png": "[encoded data removed]",
      "text/plain": [
       "<Figure size 432x288 with 2 Axes>"
      ]
     },
     "metadata": {
      "needs_background": "light"
     },
     "output_type": "display_data"
    },
    {
     "name": "stdout",
     "output_type": "stream",
     "text": [
      "JS divergence: 0.0718\tNorm Frobenius: 0.1032\n"
     ]
    },
    {
     "data": {
      "image/png": "[encoded data removed]",
      "text/plain": [
       "<Figure size 432x288 with 2 Axes>"
      ]
     },
     "metadata": {
      "needs_background": "light"
     },
     "output_type": "display_data"
    },
    {
     "name": "stdout",
     "output_type": "stream",
     "text": [
      "JS divergence: 0.0903\tNorm Frobenius: 0.2097\n"
     ]
    },
    {
     "data": {
      "image/png": "[encoded data removed]",
      "text/plain": [
       "<Figure size 432x288 with 2 Axes>"
      ]
     },
     "metadata": {
      "needs_background": "light"
     },
     "output_type": "display_data"
    },
    {
     "name": "stdout",
     "output_type": "stream",
     "text": [
      "JS divergence: 0.4116\tNorm Frobenius: 0.3750\n"
     ]
    },
    {
     "data": {
      "image/png": "[encoded data removed]",
      "text/plain": [
       "<Figure size 432x288 with 2 Axes>"
      ]
     },
     "metadata": {
      "needs_background": "light"
     },
     "output_type": "display_data"
    },
    {
     "name": "stdout",
     "output_type": "stream",
     "text": [
      "JS divergence: 0.0498\tNorm Frobenius: 0.1022\n"
     ]
    },
    {
     "data": {
      "image/png": "[encoded data removed]",
      "text/plain": [
       "<Figure size 432x288 with 2 Axes>"
      ]
     },
     "metadata": {
      "needs_background": "light"
     },
     "output_type": "display_data"
    },
    {
     "name": "stdout",
     "output_type": "stream",
     "text": [
      "JS divergence: 0.1899\tNorm Frobenius: 0.2730\n",
      "Calculate confusion matrix on global version\n"
     ]
    },
    {
     "data": {
      "image/png": "[encoded data removed]",
      "text/plain": [
       "<Figure size 432x288 with 2 Axes>"
      ]
     },
     "metadata": {
      "needs_background": "light"
     },
     "output_type": "display_data"
    },
    {
     "name": "stdout",
     "output_type": "stream",
     "text": [
      "JS divergence: 0.0318\tNorm Frobenius: 0.1051\n",
      "A result\n"
     ]
    },
    {
     "data": {
      "text/html": [
       "<div>\n",
       "<style scoped>\n",
       "    .dataframe tbody tr th:only-of-type {\n",
       "        vertical-align: middle;\n",
       "    }\n",
       "\n",
       "    .dataframe tbody tr th {\n",
       "        vertical-align: top;\n",
       "    }\n",
       "\n",
       "    .dataframe thead th {\n",
       "        text-align: right;\n",
       "    }\n",
       "</style>\n",
       "<table border=\"1\" class=\"dataframe\">\n",
       "  <thead>\n",
       "    <tr style=\"text-align: right;\">\n",
       "      <th></th>\n",
       "      <th></th>\n",
       "      <th>Accuracy</th>\n",
       "      <th>F1 (micro)</th>\n",
       "      <th>F1 (macro)</th>\n",
       "      <th>(R) NormF mean</th>\n",
       "      <th>(R) JS mean</th>\n",
       "      <th>(R) NormF w</th>\n",
       "      <th>(R) JS w</th>\n",
       "      <th>(G) NormF</th>\n",
       "      <th>(G) JS</th>\n",
       "    </tr>\n",
       "  </thead>\n",
       "  <tbody>\n",
       "    <tr>\n",
       "      <th>0</th>\n",
       "      <td>All</td>\n",
       "      <td>0.636</td>\n",
       "      <td>0.636</td>\n",
       "      <td>0.5879</td>\n",
       "      <td>0.2543</td>\n",
       "      <td>0.2207</td>\n",
       "      <td>0.1402</td>\n",
       "      <td>0.0883</td>\n",
       "      <td>0.1051</td>\n",
       "      <td>0.0318</td>\n",
       "    </tr>\n",
       "  </tbody>\n",
       "</table>\n",
       "</div>"
      ],
      "text/plain": [
       "        Accuracy  F1 (micro)  F1 (macro)  (R) NormF mean  (R) JS mean  \\\n",
       "0  All     0.636       0.636      0.5879          0.2543       0.2207   \n",
       "\n",
       "   (R) NormF w  (R) JS w  (G) NormF  (G) JS  \n",
       "0       0.1402    0.0883     0.1051  0.0318  "
      ]
     },
     "metadata": {},
     "output_type": "display_data"
    },
    {
     "name": "stdout",
     "output_type": "stream",
     "text": [
      "Val\n",
      "A result\n"
     ]
    },
    {
     "data": {
      "text/html": [
       "<div>\n",
       "<style scoped>\n",
       "    .dataframe tbody tr th:only-of-type {\n",
       "        vertical-align: middle;\n",
       "    }\n",
       "\n",
       "    .dataframe tbody tr th {\n",
       "        vertical-align: top;\n",
       "    }\n",
       "\n",
       "    .dataframe thead th {\n",
       "        text-align: right;\n",
       "    }\n",
       "</style>\n",
       "<table border=\"1\" class=\"dataframe\">\n",
       "  <thead>\n",
       "    <tr style=\"text-align: right;\">\n",
       "      <th></th>\n",
       "      <th></th>\n",
       "      <th>Accuracy</th>\n",
       "      <th>F1 (micro)</th>\n",
       "      <th>F1 (macro)</th>\n",
       "    </tr>\n",
       "  </thead>\n",
       "  <tbody>\n",
       "    <tr>\n",
       "      <th>0</th>\n",
       "      <td>All</td>\n",
       "      <td>0.6177</td>\n",
       "      <td>0.6177</td>\n",
       "      <td>0.569</td>\n",
       "    </tr>\n",
       "  </tbody>\n",
       "</table>\n",
       "</div>"
      ],
      "text/plain": [
       "        Accuracy  F1 (micro)  F1 (macro)\n",
       "0  All    0.6177      0.6177       0.569"
      ]
     },
     "metadata": {},
     "output_type": "display_data"
    },
    {
     "name": "stdout",
     "output_type": "stream",
     "text": [
      "Test\n",
      "A result\n"
     ]
    },
    {
     "data": {
      "text/html": [
       "<div>\n",
       "<style scoped>\n",
       "    .dataframe tbody tr th:only-of-type {\n",
       "        vertical-align: middle;\n",
       "    }\n",
       "\n",
       "    .dataframe tbody tr th {\n",
       "        vertical-align: top;\n",
       "    }\n",
       "\n",
       "    .dataframe thead th {\n",
       "        text-align: right;\n",
       "    }\n",
       "</style>\n",
       "<table border=\"1\" class=\"dataframe\">\n",
       "  <thead>\n",
       "    <tr style=\"text-align: right;\">\n",
       "      <th></th>\n",
       "      <th></th>\n",
       "      <th>Accuracy</th>\n",
       "      <th>F1 (micro)</th>\n",
       "      <th>F1 (macro)</th>\n",
       "    </tr>\n",
       "  </thead>\n",
       "  <tbody>\n",
       "    <tr>\n",
       "      <th>0</th>\n",
       "      <td>All</td>\n",
       "      <td>0.7498</td>\n",
       "      <td>0.7498</td>\n",
       "      <td>0.68</td>\n",
       "    </tr>\n",
       "  </tbody>\n",
       "</table>\n",
       "</div>"
      ],
      "text/plain": [
       "        Accuracy  F1 (micro)  F1 (macro)\n",
       "0  All    0.7498      0.7498        0.68"
      ]
     },
     "metadata": {},
     "output_type": "display_data"
    }
   ],
   "source": [
    "evaluate = Evaluation_metrics(model_ds,'keras',Xstd_train.shape[0])\n",
    "evaluate.set_T_weights(T_weights)\n",
    "print(\"*** Dawid and Skene model (Train with D&S) ***\")\n",
    "\n",
    "print(\"Train\")\n",
    "results1 = evaluate.calculate_metrics(Z=Z_train,Z_pred=Z_train_pred,conf_pred=ds_conf,conf_true=confe_matrix_R,\n",
    "                                     conf_true_G =confe_matrix_G, conf_pred_G = ds_conf.mean(axis=0))\n",
    "\n",
    "print(\"Val\")\n",
    "results2 = evaluate.calculate_metrics(Z=Z_val,Z_pred=Z_val_pred)\n",
    "\n",
    "print(\"Test\")\n",
    "results2 = evaluate.calculate_metrics(Z=Z_test,Z_pred=Z_test_pred)"
   ]
  },
  {
   "cell_type": "code",
   "execution_count": null,
   "metadata": {
    "scrolled": true
   },
   "outputs": [],
   "source": [
    "evaluate = Evaluation_metrics(raykarMC,'raykar')\n",
    "print(\"*** Raykar model multiples runs***\")\n",
    "\n",
    "print(\"Train\")\n",
    "prob_Yzt = raykarMC.get_confusionM()\n",
    "#prob_Yxt = raykarMC.get_predictions_annot(Xstd_train,data=Z_train_p)\n",
    "results = evaluate.calculate_metrics(Z=Z_train,Z_pred=Z_train_pred,conf_pred=prob_Yzt,conf_true=confe_matrix_R,\n",
    "                                     y_o=y_obs,yo_pred=prob_Yxt,conf_true_G =confe_matrix_G, conf_pred_G = prob_Yzt.mean(axis=0))\n",
    "\n",
    "#results = evaluate.calculate_metrics(y_o=y_obs,yo_pred=prob_Yxt)\n",
    "\n",
    "print(\"Val\")\n",
    "results2 = evaluate.calculate_metrics(Z=Z_val,Z_pred=Z_val_pred)\n",
    "\n",
    "print(\"Test\")\n",
    "results2 = evaluate.calculate_metrics(Z=Z_test,Z_pred=Z_test_pred)"
   ]
  },
  {
   "cell_type": "code",
   "execution_count": 28,
   "metadata": {},
   "outputs": [
    {
     "name": "stdout",
     "output_type": "stream",
     "text": [
      "*** Ours Global multiples runs***\n",
      "Train\n",
      "Calculate confusion matrix on repeat version\n"
     ]
    },
    {
     "data": {
      "image/png": "[encoded data removed]",
      "text/plain": [
       "<Figure size 432x288 with 2 Axes>"
      ]
     },
     "metadata": {
      "needs_background": "light"
     },
     "output_type": "display_data"
    },
    {
     "name": "stdout",
     "output_type": "stream",
     "text": [
      "JS divergence: 0.0666\tNorm Frobenius: 0.1093\n",
      "Groups probabilities:  [1. 0. 0.]\n"
     ]
    },
    {
     "data": {
      "image/png": "[encoded data removed]",
      "text/plain": [
       "<Figure size 432x288 with 2 Axes>"
      ]
     },
     "metadata": {
      "needs_background": "light"
     },
     "output_type": "display_data"
    },
    {
     "name": "stdout",
     "output_type": "stream",
     "text": [
      "JS divergence: 0.0322\tNorm Frobenius: 0.0787\n",
      "Groups probabilities:  [9.999e-01 1.000e-04 0.000e+00]\n"
     ]
    },
    {
     "data": {
      "image/png": "[encoded data removed]",
      "text/plain": [
       "<Figure size 432x288 with 2 Axes>"
      ]
     },
     "metadata": {
      "needs_background": "light"
     },
     "output_type": "display_data"
    },
    {
     "name": "stdout",
     "output_type": "stream",
     "text": [
      "JS divergence: 0.0815\tNorm Frobenius: 0.1631\n",
      "Groups probabilities:  [9.939e-01 6.000e-03 2.000e-04]\n"
     ]
    },
    {
     "data": {
      "image/png": "[encoded data removed]",
      "text/plain": [
       "<Figure size 432x288 with 2 Axes>"
      ]
     },
     "metadata": {
      "needs_background": "light"
     },
     "output_type": "display_data"
    },
    {
     "name": "stdout",
     "output_type": "stream",
     "text": [
      "JS divergence: 0.1273\tNorm Frobenius: 0.2216\n",
      "Groups probabilities:  [9.98e-01 1.50e-03 5.00e-04]\n"
     ]
    },
    {
     "data": {
      "image/png": "[encoded data removed]",
      "text/plain": [
       "<Figure size 432x288 with 2 Axes>"
      ]
     },
     "metadata": {
      "needs_background": "light"
     },
     "output_type": "display_data"
    },
    {
     "name": "stdout",
     "output_type": "stream",
     "text": [
      "JS divergence: 0.0029\tNorm Frobenius: 0.0052\n",
      "Groups probabilities:  [9.89e-01 1.08e-02 2.00e-04]\n"
     ]
    },
    {
     "data": {
      "image/png": "[encoded data removed]",
      "text/plain": [
       "<Figure size 432x288 with 2 Axes>"
      ]
     },
     "metadata": {
      "needs_background": "light"
     },
     "output_type": "display_data"
    },
    {
     "name": "stdout",
     "output_type": "stream",
     "text": [
      "JS divergence: 0.1365\tNorm Frobenius: 0.2471\n",
      "Groups probabilities:  [0.7782 0.2091 0.0127]\n"
     ]
    },
    {
     "data": {
      "image/png": "[encoded data removed]",
      "text/plain": [
       "<Figure size 432x288 with 2 Axes>"
      ]
     },
     "metadata": {
      "needs_background": "light"
     },
     "output_type": "display_data"
    },
    {
     "name": "stdout",
     "output_type": "stream",
     "text": [
      "JS divergence: 0.1288\tNorm Frobenius: 0.2452\n",
      "Groups probabilities:  [9.955e-01 3.900e-03 6.000e-04]\n"
     ]
    },
    {
     "data": {
      "image/png": "[encoded data removed]",
      "text/plain": [
       "<Figure size 432x288 with 2 Axes>"
      ]
     },
     "metadata": {
      "needs_background": "light"
     },
     "output_type": "display_data"
    },
    {
     "name": "stdout",
     "output_type": "stream",
     "text": [
      "JS divergence: 0.0617\tNorm Frobenius: 0.1024\n",
      "Groups probabilities:  [1. 0. 0.]\n"
     ]
    },
    {
     "data": {
      "image/png": "[encoded data removed]",
      "text/plain": [
       "<Figure size 432x288 with 2 Axes>"
      ]
     },
     "metadata": {
      "needs_background": "light"
     },
     "output_type": "display_data"
    },
    {
     "name": "stdout",
     "output_type": "stream",
     "text": [
      "JS divergence: 0.1732\tNorm Frobenius: 0.3490\n",
      "Groups probabilities:  [0.992 0.008 0.   ]\n"
     ]
    },
    {
     "data": {
      "image/png": "[encoded data removed]",
      "text/plain": [
       "<Figure size 432x288 with 2 Axes>"
      ]
     },
     "metadata": {
      "needs_background": "light"
     },
     "output_type": "display_data"
    },
    {
     "name": "stdout",
     "output_type": "stream",
     "text": [
      "JS divergence: 0.0787\tNorm Frobenius: 0.1369\n",
      "Groups probabilities:  [1. 0. 0.]\n"
     ]
    },
    {
     "data": {
      "image/png": "[encoded data removed]",
      "text/plain": [
       "<Figure size 432x288 with 2 Axes>"
      ]
     },
     "metadata": {
      "needs_background": "light"
     },
     "output_type": "display_data"
    },
    {
     "name": "stdout",
     "output_type": "stream",
     "text": [
      "JS divergence: 0.1116\tNorm Frobenius: 0.1776\n",
      "Groups probabilities:  [1. 0. 0.]\n"
     ]
    },
    {
     "data": {
      "image/png": "[encoded data removed]",
      "text/plain": [
       "<Figure size 432x288 with 2 Axes>"
      ]
     },
     "metadata": {
      "needs_background": "light"
     },
     "output_type": "display_data"
    },
    {
     "name": "stdout",
     "output_type": "stream",
     "text": [
      "JS divergence: 0.0946\tNorm Frobenius: 0.1499\n",
      "Groups probabilities:  [0.9999 0.     0.    ]\n"
     ]
    },
    {
     "data": {
      "image/png": "[encoded data removed]",
      "text/plain": [
       "<Figure size 432x288 with 2 Axes>"
      ]
     },
     "metadata": {
      "needs_background": "light"
     },
     "output_type": "display_data"
    },
    {
     "name": "stdout",
     "output_type": "stream",
     "text": [
      "JS divergence: 0.3344\tNorm Frobenius: 0.4703\n",
      "Groups probabilities:  [0.9866 0.01   0.0035]\n"
     ]
    },
    {
     "data": {
      "image/png": "[encoded data removed]",
      "text/plain": [
       "<Figure size 432x288 with 2 Axes>"
      ]
     },
     "metadata": {
      "needs_background": "light"
     },
     "output_type": "display_data"
    },
    {
     "name": "stdout",
     "output_type": "stream",
     "text": [
      "JS divergence: 0.1156\tNorm Frobenius: 0.1881\n",
      "Groups probabilities:  [9.998e-01 1.000e-04 1.000e-04]\n"
     ]
    },
    {
     "data": {
      "image/png": "[encoded data removed]",
      "text/plain": [
       "<Figure size 432x288 with 2 Axes>"
      ]
     },
     "metadata": {
      "needs_background": "light"
     },
     "output_type": "display_data"
    },
    {
     "name": "stdout",
     "output_type": "stream",
     "text": [
      "JS divergence: 0.0348\tNorm Frobenius: 0.0913\n",
      "Groups probabilities:  [9.981e-01 1.000e-03 9.000e-04]\n",
      "Calculate confusion matrix on global version\n"
     ]
    },
    {
     "data": {
      "image/png": "[encoded data removed]",
      "text/plain": [
       "<Figure size 432x288 with 2 Axes>"
      ]
     },
     "metadata": {
      "needs_background": "light"
     },
     "output_type": "display_data"
    },
    {
     "name": "stdout",
     "output_type": "stream",
     "text": [
      "JS divergence: 0.0610\tNorm Frobenius: 0.1013\n",
      "A result\n"
     ]
    },
    {
     "data": {
      "text/html": [
       "<div>\n",
       "<style scoped>\n",
       "    .dataframe tbody tr th:only-of-type {\n",
       "        vertical-align: middle;\n",
       "    }\n",
       "\n",
       "    .dataframe tbody tr th {\n",
       "        vertical-align: top;\n",
       "    }\n",
       "\n",
       "    .dataframe thead th {\n",
       "        text-align: right;\n",
       "    }\n",
       "</style>\n",
       "<table border=\"1\" class=\"dataframe\">\n",
       "  <thead>\n",
       "    <tr style=\"text-align: right;\">\n",
       "      <th></th>\n",
       "      <th></th>\n",
       "      <th>Accuracy</th>\n",
       "      <th>F1 (micro)</th>\n",
       "      <th>F1 (macro)</th>\n",
       "      <th>(R) NormF mean</th>\n",
       "      <th>(R) JS mean</th>\n",
       "      <th>(R) NormF w</th>\n",
       "      <th>(R) JS w</th>\n",
       "      <th>(G) NormF</th>\n",
       "      <th>(G) JS</th>\n",
       "    </tr>\n",
       "  </thead>\n",
       "  <tbody>\n",
       "    <tr>\n",
       "      <th>0</th>\n",
       "      <td>All</td>\n",
       "      <td>0.8755</td>\n",
       "      <td>0.8755</td>\n",
       "      <td>0.869</td>\n",
       "      <td>0.2712</td>\n",
       "      <td>0.1948</td>\n",
       "      <td>0.155</td>\n",
       "      <td>0.094</td>\n",
       "      <td>0.1013</td>\n",
       "      <td>0.061</td>\n",
       "    </tr>\n",
       "  </tbody>\n",
       "</table>\n",
       "</div>"
      ],
      "text/plain": [
       "        Accuracy  F1 (micro)  F1 (macro)  (R) NormF mean  (R) JS mean  \\\n",
       "0  All    0.8755      0.8755       0.869          0.2712       0.1948   \n",
       "\n",
       "   (R) NormF w  (R) JS w  (G) NormF  (G) JS  \n",
       "0        0.155     0.094     0.1013   0.061  "
      ]
     },
     "metadata": {},
     "output_type": "display_data"
    },
    {
     "name": "stdout",
     "output_type": "stream",
     "text": [
      "Val\n"
     ]
    },
    {
     "data": {
      "image/png": "[encoded data removed]",
      "text/plain": [
       "<Figure size 432x288 with 1 Axes>"
      ]
     },
     "metadata": {
      "needs_background": "light"
     },
     "output_type": "display_data"
    },
    {
     "data": {
      "image/png": "[encoded data removed]",
      "text/plain": [
       "<Figure size 432x288 with 1 Axes>"
      ]
     },
     "metadata": {
      "needs_background": "light"
     },
     "output_type": "display_data"
    },
    {
     "data": {
      "image/png": "[encoded data removed]",
      "text/plain": [
       "<Figure size 432x288 with 1 Axes>"
      ]
     },
     "metadata": {
      "needs_background": "light"
     },
     "output_type": "display_data"
    },
    {
     "name": "stdout",
     "output_type": "stream",
     "text": [
      "Inertia JS: 0.06548086294703619\n",
      "Inertia NormF: 0.1280928517093315\n",
      "A result\n"
     ]
    },
    {
     "data": {
      "text/html": [
       "<div>\n",
       "<style scoped>\n",
       "    .dataframe tbody tr th:only-of-type {\n",
       "        vertical-align: middle;\n",
       "    }\n",
       "\n",
       "    .dataframe tbody tr th {\n",
       "        vertical-align: top;\n",
       "    }\n",
       "\n",
       "    .dataframe thead th {\n",
       "        text-align: right;\n",
       "    }\n",
       "</style>\n",
       "<table border=\"1\" class=\"dataframe\">\n",
       "  <thead>\n",
       "    <tr style=\"text-align: right;\">\n",
       "      <th></th>\n",
       "      <th>Groups</th>\n",
       "      <th>Prob</th>\n",
       "      <th>T(g)</th>\n",
       "      <th>Entropy</th>\n",
       "      <th>Diag mean</th>\n",
       "      <th>Isim (JS)</th>\n",
       "      <th>S_raykar</th>\n",
       "      <th>S_bias</th>\n",
       "      <th>C_bias</th>\n",
       "      <th>Iner JS</th>\n",
       "      <th>Iner NormF</th>\n",
       "      <th>Accuracy</th>\n",
       "      <th>F1 (micro)</th>\n",
       "    </tr>\n",
       "  </thead>\n",
       "  <tbody>\n",
       "    <tr>\n",
       "      <th>0</th>\n",
       "      <td>0</td>\n",
       "      <td>0.9763</td>\n",
       "      <td>1256</td>\n",
       "      <td>0.0266</td>\n",
       "      <td>0.9959</td>\n",
       "      <td>0.9980</td>\n",
       "      <td>0.9939</td>\n",
       "      <td>0.0019</td>\n",
       "      <td>0</td>\n",
       "      <td>0.0655</td>\n",
       "      <td>0.1281</td>\n",
       "      <td>0.8345</td>\n",
       "      <td>0.8345</td>\n",
       "    </tr>\n",
       "    <tr>\n",
       "      <th>1</th>\n",
       "      <td>1</td>\n",
       "      <td>0.0152</td>\n",
       "      <td>19</td>\n",
       "      <td>0.4677</td>\n",
       "      <td>0.8480</td>\n",
       "      <td>0.9178</td>\n",
       "      <td>0.7720</td>\n",
       "      <td>0.1222</td>\n",
       "      <td>0</td>\n",
       "      <td>0.0655</td>\n",
       "      <td>0.1281</td>\n",
       "      <td>0.8304</td>\n",
       "      <td>0.8304</td>\n",
       "    </tr>\n",
       "    <tr>\n",
       "      <th>2</th>\n",
       "      <td>2</td>\n",
       "      <td>0.0085</td>\n",
       "      <td>10</td>\n",
       "      <td>0.5815</td>\n",
       "      <td>0.8145</td>\n",
       "      <td>0.8995</td>\n",
       "      <td>0.7217</td>\n",
       "      <td>0.0628</td>\n",
       "      <td>2</td>\n",
       "      <td>0.0655</td>\n",
       "      <td>0.1281</td>\n",
       "      <td>0.8340</td>\n",
       "      <td>0.8340</td>\n",
       "    </tr>\n",
       "  </tbody>\n",
       "</table>\n",
       "</div>"
      ],
      "text/plain": [
       "   Groups    Prob  T(g)  Entropy  Diag mean  Isim (JS)  S_raykar  S_bias  \\\n",
       "0       0  0.9763  1256   0.0266     0.9959     0.9980    0.9939  0.0019   \n",
       "1       1  0.0152    19   0.4677     0.8480     0.9178    0.7720  0.1222   \n",
       "2       2  0.0085    10   0.5815     0.8145     0.8995    0.7217  0.0628   \n",
       "\n",
       "   C_bias  Iner JS  Iner NormF  Accuracy  F1 (micro)  \n",
       "0       0   0.0655      0.1281    0.8345      0.8345  \n",
       "1       0   0.0655      0.1281    0.8304      0.8304  \n",
       "2       2   0.0655      0.1281    0.8340      0.8340  "
      ]
     },
     "metadata": {},
     "output_type": "display_data"
    },
    {
     "name": "stdout",
     "output_type": "stream",
     "text": [
      "A result\n"
     ]
    },
    {
     "data": {
      "text/html": [
       "<div>\n",
       "<style scoped>\n",
       "    .dataframe tbody tr th:only-of-type {\n",
       "        vertical-align: middle;\n",
       "    }\n",
       "\n",
       "    .dataframe tbody tr th {\n",
       "        vertical-align: top;\n",
       "    }\n",
       "\n",
       "    .dataframe thead th {\n",
       "        text-align: right;\n",
       "    }\n",
       "</style>\n",
       "<table border=\"1\" class=\"dataframe\">\n",
       "  <thead>\n",
       "    <tr style=\"text-align: right;\">\n",
       "      <th></th>\n",
       "      <th></th>\n",
       "      <th>Accuracy</th>\n",
       "      <th>F1 (micro)</th>\n",
       "      <th>F1 (macro)</th>\n",
       "    </tr>\n",
       "  </thead>\n",
       "  <tbody>\n",
       "    <tr>\n",
       "      <th>0</th>\n",
       "      <td>All</td>\n",
       "      <td>0.8347</td>\n",
       "      <td>0.8347</td>\n",
       "      <td>0.8225</td>\n",
       "    </tr>\n",
       "  </tbody>\n",
       "</table>\n",
       "</div>"
      ],
      "text/plain": [
       "        Accuracy  F1 (micro)  F1 (macro)\n",
       "0  All    0.8347      0.8347      0.8225"
      ]
     },
     "metadata": {},
     "output_type": "display_data"
    }
   ],
   "source": [
    "evaluate = Evaluation_metrics(gMixture_Global,'our1') \n",
    "aux = gMixture_Global.calculate_extra_components(Xstd_train,y_obs,T=T,calculate_pred_annotator=False,p_z=Z_train_p)\n",
    "predictions_m,prob_Gt,prob_Yzt,_ =  aux #to evaluate...\n",
    "prob_Yz = gMixture_Global.calculate_Yz()\n",
    "evaluate.set_Gt(prob_Gt)\n",
    "print(\"*** Ours Global multiples runs***\") #lambda = random\n",
    "\n",
    "print(\"Train\")\n",
    "y_o_groups = predictions_m.argmax(axis=-1)\n",
    "results = evaluate.calculate_metrics(Z=Z_train,Z_pred=Z_train_pred,conf_pred=prob_Yzt,conf_true=confe_matrix_R,\n",
    "                                     y_o=y_obs, y_o_groups=y_o_groups,# yo_pred=prob_Yxt,\n",
    "                                    conf_true_G =confe_matrix_G, conf_pred_G = prob_Yz)\n",
    "\n",
    "#results = evaluate.calculate_metrics(y_o=y_obs,yo_pred=prob_Yxt)\n",
    "\n",
    "print(\"Val\")\n",
    "c_M = gMixture_Global.get_confusionM()\n",
    "y_o_groups = gMixture_Global.get_predictions_groups(Xstd_val,data=Z_val_p).argmax(axis=-1) #obtain p(y^o|x,g=m) and then argmax\n",
    "results = evaluate.calculate_metrics(Z=Z_val,Z_pred=Z_val_pred,conf_pred=c_M, y_o_groups=y_o_groups)"
   ]
  },
  {
   "cell_type": "code",
   "execution_count": null,
   "metadata": {},
   "outputs": [],
   "source": []
  },
  {
   "cell_type": "code",
   "execution_count": 40,
   "metadata": {},
   "outputs": [
    {
     "ename": "NameError",
     "evalue": "name 'Evaluation_metrics' is not defined",
     "output_type": "error",
     "traceback": [
      "\u001b[0;31m---------------------------------------------------------------------------\u001b[0m",
      "\u001b[0;31mNameError\u001b[0m                                 Traceback (most recent call last)",
      "\u001b[0;32m<ipython-input-40-b0278bd6b7e2>\u001b[0m in \u001b[0;36m<module>\u001b[0;34m()\u001b[0m\n\u001b[0;32m----> 1\u001b[0;31m \u001b[0mevaluate\u001b[0m \u001b[0;34m=\u001b[0m \u001b[0mEvaluation_metrics\u001b[0m\u001b[0;34m(\u001b[0m\u001b[0mgMixture_Global\u001b[0m\u001b[0;34m,\u001b[0m\u001b[0;34m'our1'\u001b[0m\u001b[0;34m)\u001b[0m\u001b[0;34m\u001b[0m\u001b[0m\n\u001b[0m\u001b[1;32m      2\u001b[0m \u001b[0maux\u001b[0m \u001b[0;34m=\u001b[0m \u001b[0mgMixture_Global\u001b[0m\u001b[0;34m.\u001b[0m\u001b[0mcalculate_extra_components\u001b[0m\u001b[0;34m(\u001b[0m\u001b[0mXstd_train\u001b[0m\u001b[0;34m,\u001b[0m\u001b[0my_obs\u001b[0m\u001b[0;34m,\u001b[0m\u001b[0mT\u001b[0m\u001b[0;34m=\u001b[0m\u001b[0mT\u001b[0m\u001b[0;34m,\u001b[0m\u001b[0mcalculate_pred_annotator\u001b[0m\u001b[0;34m=\u001b[0m\u001b[0;32mTrue\u001b[0m\u001b[0;34m,\u001b[0m\u001b[0mp_z\u001b[0m\u001b[0;34m=\u001b[0m\u001b[0mZ_train_p\u001b[0m\u001b[0;34m)\u001b[0m\u001b[0;34m\u001b[0m\u001b[0m\n\u001b[1;32m      3\u001b[0m \u001b[0mpredictions_m\u001b[0m\u001b[0;34m,\u001b[0m\u001b[0mprob_Gt\u001b[0m\u001b[0;34m,\u001b[0m\u001b[0mprob_Yzt\u001b[0m\u001b[0;34m,\u001b[0m\u001b[0mprob_Yxt\u001b[0m \u001b[0;34m=\u001b[0m  \u001b[0maux\u001b[0m \u001b[0;31m#to evaluate...\u001b[0m\u001b[0;34m\u001b[0m\u001b[0m\n\u001b[1;32m      4\u001b[0m \u001b[0mevaluate\u001b[0m\u001b[0;34m.\u001b[0m\u001b[0mset_Gt\u001b[0m\u001b[0;34m(\u001b[0m\u001b[0mprob_Gt\u001b[0m\u001b[0;34m)\u001b[0m\u001b[0;34m\u001b[0m\u001b[0m\n\u001b[1;32m      5\u001b[0m \u001b[0mprint\u001b[0m\u001b[0;34m(\u001b[0m\u001b[0;34m\"*** Ours Global multiples runs***\"\u001b[0m\u001b[0;34m)\u001b[0m \u001b[0;31m#groups uniform...\u001b[0m\u001b[0;34m\u001b[0m\u001b[0m\n",
      "\u001b[0;31mNameError\u001b[0m: name 'Evaluation_metrics' is not defined"
     ]
    }
   ],
   "source": [
    "evaluate = Evaluation_metrics(gMixture_Global,'our1') \n",
    "aux = gMixture_Global.calculate_extra_components(Xstd_train,y_obs,T=T,calculate_pred_annotator=True,p_z=Z_train_p)\n",
    "predictions_m,prob_Gt,prob_Yzt,prob_Yxt =  aux #to evaluate...\n",
    "evaluate.set_Gt(prob_Gt)\n",
    "print(\"*** Ours Global multiples runs***\") #groups uniform...\n",
    "\n",
    "print(\"Train\")\n",
    "y_o_groups = predictions_m.argmax(axis=-1)\n",
    "results = evaluate.calculate_metrics(Z=Z_train,Z_pred=Z_train_pred,conf_pred=prob_Yzt,conf_true=confe_matrix_R,y_o=y_obs,yo_pred=prob_Yxt, y_o_groups=y_o_groups)\n",
    "\n",
    "results = evaluate.calculate_metrics(y_o=y_obs,yo_pred=prob_Yxt)\n",
    "\n",
    "print(\"Test\")\n",
    "c_M = gMixture_Global.get_confusionM()\n",
    "y_o_groups = gMixture_Global.get_predictions_groups(Xstd_test,data=Z_test_p).argmax(axis=-1) #obtain p(y^o|x,g=m) and then argmax\n",
    "results = evaluate.calculate_metrics(Z=Z_test,Z_pred=Z_test_pred,conf_pred=c_M, y_o_groups=y_o_groups)"
   ]
  },
  {
   "cell_type": "code",
   "execution_count": null,
   "metadata": {},
   "outputs": [],
   "source": []
  },
  {
   "cell_type": "code",
   "execution_count": 40,
   "metadata": {},
   "outputs": [
    {
     "name": "stdout",
     "output_type": "stream",
     "text": [
      "*** Ours Individual1 multiples runs***\n",
      "Train\n",
      "Calculate confusion matrix on repeat version\n"
     ]
    },
    {
     "data": {
      "image/png": "[encoded data removed]",
      "text/plain": [
       "<Figure size 432x288 with 2 Axes>"
      ]
     },
     "metadata": {
      "needs_background": "light"
     },
     "output_type": "display_data"
    },
    {
     "name": "stdout",
     "output_type": "stream",
     "text": [
      "JS divergence: 0.1064\tNorm Frobenius: 0.2351\n",
      "Groups probabilities:  [0.6205 0.0536 0.3259]\n"
     ]
    },
    {
     "data": {
      "image/png": "[encoded data removed]",
      "text/plain": [
       "<Figure size 432x288 with 2 Axes>"
      ]
     },
     "metadata": {
      "needs_background": "light"
     },
     "output_type": "display_data"
    },
    {
     "name": "stdout",
     "output_type": "stream",
     "text": [
      "JS divergence: 0.0853\tNorm Frobenius: 0.1633\n",
      "Groups probabilities:  [0.258  0.1442 0.5977]\n"
     ]
    },
    {
     "data": {
      "image/png": "[encoded data removed]",
      "text/plain": [
       "<Figure size 432x288 with 2 Axes>"
      ]
     },
     "metadata": {
      "needs_background": "light"
     },
     "output_type": "display_data"
    },
    {
     "name": "stdout",
     "output_type": "stream",
     "text": [
      "JS divergence: 0.0659\tNorm Frobenius: 0.1269\n",
      "Groups probabilities:  [0.1963 0.5934 0.2103]\n"
     ]
    },
    {
     "data": {
      "image/png": "[encoded data removed]",
      "text/plain": [
       "<Figure size 432x288 with 2 Axes>"
      ]
     },
     "metadata": {
      "needs_background": "light"
     },
     "output_type": "display_data"
    },
    {
     "name": "stdout",
     "output_type": "stream",
     "text": [
      "JS divergence: 0.1276\tNorm Frobenius: 0.2214\n",
      "Groups probabilities:  [0.1627 0.689  0.1483]\n"
     ]
    },
    {
     "data": {
      "image/png": "[encoded data removed]",
      "text/plain": [
       "<Figure size 432x288 with 2 Axes>"
      ]
     },
     "metadata": {
      "needs_background": "light"
     },
     "output_type": "display_data"
    },
    {
     "name": "stdout",
     "output_type": "stream",
     "text": [
      "JS divergence: 0.0087\tNorm Frobenius: 0.0186\n",
      "Groups probabilities:  [0.2726 0.0504 0.677 ]\n"
     ]
    },
    {
     "data": {
      "image/png": "[encoded data removed]",
      "text/plain": [
       "<Figure size 432x288 with 2 Axes>"
      ]
     },
     "metadata": {
      "needs_background": "light"
     },
     "output_type": "display_data"
    },
    {
     "name": "stdout",
     "output_type": "stream",
     "text": [
      "JS divergence: 0.1815\tNorm Frobenius: 0.2689\n",
      "Groups probabilities:  [0.1663 0.4717 0.3621]\n"
     ]
    },
    {
     "data": {
      "image/png": "[encoded data removed]",
      "text/plain": [
       "<Figure size 432x288 with 2 Axes>"
      ]
     },
     "metadata": {
      "needs_background": "light"
     },
     "output_type": "display_data"
    },
    {
     "name": "stdout",
     "output_type": "stream",
     "text": [
      "JS divergence: 0.0356\tNorm Frobenius: 0.0641\n",
      "Groups probabilities:  [0.2172 0.6248 0.158 ]\n"
     ]
    },
    {
     "data": {
      "image/png": "[encoded data removed]",
      "text/plain": [
       "<Figure size 432x288 with 2 Axes>"
      ]
     },
     "metadata": {
      "needs_background": "light"
     },
     "output_type": "display_data"
    },
    {
     "name": "stdout",
     "output_type": "stream",
     "text": [
      "JS divergence: 0.0304\tNorm Frobenius: 0.0662\n",
      "Groups probabilities:  [0.2863 0.1395 0.5742]\n"
     ]
    },
    {
     "data": {
      "image/png": "[encoded data removed]",
      "text/plain": [
       "<Figure size 432x288 with 2 Axes>"
      ]
     },
     "metadata": {
      "needs_background": "light"
     },
     "output_type": "display_data"
    },
    {
     "name": "stdout",
     "output_type": "stream",
     "text": [
      "JS divergence: 0.3026\tNorm Frobenius: 0.3835\n",
      "Groups probabilities:  [0.4724 0.1799 0.3477]\n"
     ]
    },
    {
     "data": {
      "image/png": "[encoded data removed]",
      "text/plain": [
       "<Figure size 432x288 with 2 Axes>"
      ]
     },
     "metadata": {
      "needs_background": "light"
     },
     "output_type": "display_data"
    },
    {
     "name": "stdout",
     "output_type": "stream",
     "text": [
      "JS divergence: 0.1093\tNorm Frobenius: 0.2306\n",
      "Groups probabilities:  [0.1949 0.0367 0.7684]\n"
     ]
    },
    {
     "data": {
      "image/png": "[encoded data removed]",
      "text/plain": [
       "<Figure size 432x288 with 2 Axes>"
      ]
     },
     "metadata": {
      "needs_background": "light"
     },
     "output_type": "display_data"
    },
    {
     "name": "stdout",
     "output_type": "stream",
     "text": [
      "JS divergence: 0.0739\tNorm Frobenius: 0.1245\n",
      "Groups probabilities:  [0.2451 0.5143 0.2406]\n"
     ]
    },
    {
     "data": {
      "image/png": "[encoded data removed]",
      "text/plain": [
       "<Figure size 432x288 with 2 Axes>"
      ]
     },
     "metadata": {
      "needs_background": "light"
     },
     "output_type": "display_data"
    },
    {
     "name": "stdout",
     "output_type": "stream",
     "text": [
      "JS divergence: 0.1458\tNorm Frobenius: 0.2673\n",
      "Groups probabilities:  [0.1848 0.026  0.7892]\n"
     ]
    },
    {
     "data": {
      "image/png": "[encoded data removed]",
      "text/plain": [
       "<Figure size 432x288 with 2 Axes>"
      ]
     },
     "metadata": {
      "needs_background": "light"
     },
     "output_type": "display_data"
    },
    {
     "name": "stdout",
     "output_type": "stream",
     "text": [
      "JS divergence: 0.0744\tNorm Frobenius: 0.1352\n",
      "Groups probabilities:  [0.2051 0.6459 0.149 ]\n"
     ]
    },
    {
     "data": {
      "image/png": "[encoded data removed]",
      "text/plain": [
       "<Figure size 432x288 with 2 Axes>"
      ]
     },
     "metadata": {
      "needs_background": "light"
     },
     "output_type": "display_data"
    },
    {
     "name": "stdout",
     "output_type": "stream",
     "text": [
      "JS divergence: 0.6219\tNorm Frobenius: 0.6055\n",
      "Groups probabilities:  [0.3825 0.5078 0.1097]\n"
     ]
    },
    {
     "data": {
      "image/png": "[encoded data removed]",
      "text/plain": [
       "<Figure size 432x288 with 2 Axes>"
      ]
     },
     "metadata": {
      "needs_background": "light"
     },
     "output_type": "display_data"
    },
    {
     "name": "stdout",
     "output_type": "stream",
     "text": [
      "JS divergence: 0.3377\tNorm Frobenius: 0.4705\n",
      "Groups probabilities:  [0.3553 0.172  0.4727]\n",
      "Calculate confusion matrix on global version\n"
     ]
    },
    {
     "data": {
      "image/png": "[encoded data removed]",
      "text/plain": [
       "<Figure size 432x288 with 2 Axes>"
      ]
     },
     "metadata": {
      "needs_background": "light"
     },
     "output_type": "display_data"
    },
    {
     "name": "stdout",
     "output_type": "stream",
     "text": [
      "JS divergence: 0.0580\tNorm Frobenius: 0.0986\n",
      "A result\n"
     ]
    },
    {
     "data": {
      "text/html": [
       "<div>\n",
       "<style scoped>\n",
       "    .dataframe tbody tr th:only-of-type {\n",
       "        vertical-align: middle;\n",
       "    }\n",
       "\n",
       "    .dataframe tbody tr th {\n",
       "        vertical-align: top;\n",
       "    }\n",
       "\n",
       "    .dataframe thead th {\n",
       "        text-align: right;\n",
       "    }\n",
       "</style>\n",
       "<table border=\"1\" class=\"dataframe\">\n",
       "  <thead>\n",
       "    <tr style=\"text-align: right;\">\n",
       "      <th></th>\n",
       "      <th></th>\n",
       "      <th>Accuracy</th>\n",
       "      <th>F1 (micro)</th>\n",
       "      <th>F1 (macro)</th>\n",
       "      <th>(R) NormF mean</th>\n",
       "      <th>(R) JS mean</th>\n",
       "      <th>(G) NormF</th>\n",
       "      <th>(G) JS</th>\n",
       "    </tr>\n",
       "  </thead>\n",
       "  <tbody>\n",
       "    <tr>\n",
       "      <th>0</th>\n",
       "      <td>All</td>\n",
       "      <td>0.8738</td>\n",
       "      <td>0.8738</td>\n",
       "      <td>0.8673</td>\n",
       "      <td>0.2705</td>\n",
       "      <td>0.1928</td>\n",
       "      <td>0.0986</td>\n",
       "      <td>0.058</td>\n",
       "    </tr>\n",
       "  </tbody>\n",
       "</table>\n",
       "</div>"
      ],
      "text/plain": [
       "        Accuracy  F1 (micro)  F1 (macro)  (R) NormF mean  (R) JS mean  \\\n",
       "0  All    0.8738      0.8738      0.8673          0.2705       0.1928   \n",
       "\n",
       "   (G) NormF  (G) JS  \n",
       "0     0.0986   0.058  "
      ]
     },
     "metadata": {},
     "output_type": "display_data"
    },
    {
     "name": "stdout",
     "output_type": "stream",
     "text": [
      "Val\n"
     ]
    },
    {
     "data": {
      "image/png": "[encoded data removed]",
      "text/plain": [
       "<Figure size 432x288 with 1 Axes>"
      ]
     },
     "metadata": {
      "needs_background": "light"
     },
     "output_type": "display_data"
    },
    {
     "data": {
      "image/png": "[encoded data removed]",
      "text/plain": [
       "<Figure size 432x288 with 1 Axes>"
      ]
     },
     "metadata": {
      "needs_background": "light"
     },
     "output_type": "display_data"
    },
    {
     "data": {
      "image/png": "[encoded data removed]",
      "text/plain": [
       "<Figure size 432x288 with 1 Axes>"
      ]
     },
     "metadata": {
      "needs_background": "light"
     },
     "output_type": "display_data"
    },
    {
     "name": "stdout",
     "output_type": "stream",
     "text": [
      "Inertia JS: 0.005296266517875257\n",
      "Inertia NormF: 0.016744911843935995\n",
      "A result\n"
     ]
    },
    {
     "data": {
      "text/html": [
       "<div>\n",
       "<style scoped>\n",
       "    .dataframe tbody tr th:only-of-type {\n",
       "        vertical-align: middle;\n",
       "    }\n",
       "\n",
       "    .dataframe tbody tr th {\n",
       "        vertical-align: top;\n",
       "    }\n",
       "\n",
       "    .dataframe thead th {\n",
       "        text-align: right;\n",
       "    }\n",
       "</style>\n",
       "<table border=\"1\" class=\"dataframe\">\n",
       "  <thead>\n",
       "    <tr style=\"text-align: right;\">\n",
       "      <th></th>\n",
       "      <th>Groups</th>\n",
       "      <th>Prob</th>\n",
       "      <th>Entropy</th>\n",
       "      <th>Diag mean</th>\n",
       "      <th>Isim (JS)</th>\n",
       "      <th>S_raykar</th>\n",
       "      <th>S_bias</th>\n",
       "      <th>C_bias</th>\n",
       "      <th>Iner JS</th>\n",
       "      <th>Iner NormF</th>\n",
       "      <th>Accuracy</th>\n",
       "      <th>F1 (micro)</th>\n",
       "    </tr>\n",
       "  </thead>\n",
       "  <tbody>\n",
       "    <tr>\n",
       "      <th>0</th>\n",
       "      <td>0</td>\n",
       "      <td>0.3934</td>\n",
       "      <td>0.0237</td>\n",
       "      <td>0.9968</td>\n",
       "      <td>0.9984</td>\n",
       "      <td>0.9952</td>\n",
       "      <td>0.0001</td>\n",
       "      <td>0</td>\n",
       "      <td>0.0053</td>\n",
       "      <td>0.0167</td>\n",
       "      <td>0.8368</td>\n",
       "      <td>0.8368</td>\n",
       "    </tr>\n",
       "    <tr>\n",
       "      <th>1</th>\n",
       "      <td>1</td>\n",
       "      <td>0.2268</td>\n",
       "      <td>0.0209</td>\n",
       "      <td>0.9971</td>\n",
       "      <td>0.9985</td>\n",
       "      <td>0.9956</td>\n",
       "      <td>0.0016</td>\n",
       "      <td>0</td>\n",
       "      <td>0.0053</td>\n",
       "      <td>0.0167</td>\n",
       "      <td>0.8292</td>\n",
       "      <td>0.8292</td>\n",
       "    </tr>\n",
       "    <tr>\n",
       "      <th>2</th>\n",
       "      <td>2</td>\n",
       "      <td>0.3798</td>\n",
       "      <td>0.1101</td>\n",
       "      <td>0.9763</td>\n",
       "      <td>0.9879</td>\n",
       "      <td>0.9644</td>\n",
       "      <td>0.0004</td>\n",
       "      <td>0</td>\n",
       "      <td>0.0053</td>\n",
       "      <td>0.0167</td>\n",
       "      <td>0.8337</td>\n",
       "      <td>0.8337</td>\n",
       "    </tr>\n",
       "  </tbody>\n",
       "</table>\n",
       "</div>"
      ],
      "text/plain": [
       "   Groups    Prob  Entropy  Diag mean  Isim (JS)  S_raykar  S_bias  C_bias  \\\n",
       "0       0  0.3934   0.0237     0.9968     0.9984    0.9952  0.0001       0   \n",
       "1       1  0.2268   0.0209     0.9971     0.9985    0.9956  0.0016       0   \n",
       "2       2  0.3798   0.1101     0.9763     0.9879    0.9644  0.0004       0   \n",
       "\n",
       "   Iner JS  Iner NormF  Accuracy  F1 (micro)  \n",
       "0   0.0053      0.0167    0.8368      0.8368  \n",
       "1   0.0053      0.0167    0.8292      0.8292  \n",
       "2   0.0053      0.0167    0.8337      0.8337  "
      ]
     },
     "metadata": {},
     "output_type": "display_data"
    },
    {
     "name": "stdout",
     "output_type": "stream",
     "text": [
      "A result\n"
     ]
    },
    {
     "data": {
      "text/html": [
       "<div>\n",
       "<style scoped>\n",
       "    .dataframe tbody tr th:only-of-type {\n",
       "        vertical-align: middle;\n",
       "    }\n",
       "\n",
       "    .dataframe tbody tr th {\n",
       "        vertical-align: top;\n",
       "    }\n",
       "\n",
       "    .dataframe thead th {\n",
       "        text-align: right;\n",
       "    }\n",
       "</style>\n",
       "<table border=\"1\" class=\"dataframe\">\n",
       "  <thead>\n",
       "    <tr style=\"text-align: right;\">\n",
       "      <th></th>\n",
       "      <th></th>\n",
       "      <th>Accuracy</th>\n",
       "      <th>F1 (micro)</th>\n",
       "      <th>F1 (macro)</th>\n",
       "    </tr>\n",
       "  </thead>\n",
       "  <tbody>\n",
       "    <tr>\n",
       "      <th>0</th>\n",
       "      <td>All</td>\n",
       "      <td>0.8365</td>\n",
       "      <td>0.8365</td>\n",
       "      <td>0.8253</td>\n",
       "    </tr>\n",
       "  </tbody>\n",
       "</table>\n",
       "</div>"
      ],
      "text/plain": [
       "        Accuracy  F1 (micro)  F1 (macro)\n",
       "0  All    0.8365      0.8365      0.8253"
      ]
     },
     "metadata": {},
     "output_type": "display_data"
    }
   ],
   "source": [
    "evaluate = Evaluation_metrics(gMixture_Ind1,'our1') \n",
    "aux = gMixture_Ind1.calculate_extra_components(Xstd_train, A,calculate_pred_annotator=False,p_z=Z_train_p,p_g=prob_Gt)\n",
    "predictions_m,prob_Gt,prob_Yzt,_ =  aux #to evaluate...\n",
    "prob_Yz = gMixture_Ind1.calculate_Yz(prob_Gt)\n",
    "evaluate.set_Gt(prob_Gt)\n",
    "print(\"*** Ours Individual1 multiples runs***\") #lambda = 1\n",
    "\n",
    "print(\"Train\")\n",
    "results = evaluate.calculate_metrics(Z=Z_train,Z_pred=Z_train_pred,conf_pred=prob_Yzt,conf_true=confe_matrix_R,\n",
    "                                    conf_true_G =confe_matrix_G, conf_pred_G = prob_Yz)\n",
    "\n",
    "\n",
    "print(\"Val\")\n",
    "c_M = gMixture_Ind1.get_confusionM()\n",
    "y_o_groups = gMixture_Global.get_predictions_groups(Xstd_val,data=Z_val_p).argmax(axis=-1) #obtain p(y^o|x,g=m) and then argmax\n",
    "results = evaluate.calculate_metrics(Z=Z_val,Z_pred=Z_val_pred,conf_pred=c_M, y_o_groups=y_o_groups)"
   ]
  },
  {
   "cell_type": "code",
   "execution_count": 46,
   "metadata": {
    "scrolled": true
   },
   "outputs": [
    {
     "name": "stdout",
     "output_type": "stream",
     "text": [
      "*** Ours Individual3 multiples runs***\n",
      "Train\n",
      "Calculate confusion matrix on repeat version\n"
     ]
    },
    {
     "data": {
      "image/png": "[encoded data removed]",
      "text/plain": [
       "<Figure size 432x288 with 2 Axes>"
      ]
     },
     "metadata": {
      "needs_background": "light"
     },
     "output_type": "display_data"
    },
    {
     "name": "stdout",
     "output_type": "stream",
     "text": [
      "JS divergence: 0.0283\tNorm Frobenius: 0.0751\n",
      "Groups probabilities:  [0.0758 0.5171 0.407 ]\n"
     ]
    },
    {
     "data": {
      "image/png": "[encoded data removed]",
      "text/plain": [
       "<Figure size 432x288 with 2 Axes>"
      ]
     },
     "metadata": {
      "needs_background": "light"
     },
     "output_type": "display_data"
    },
    {
     "name": "stdout",
     "output_type": "stream",
     "text": [
      "JS divergence: 0.1214\tNorm Frobenius: 0.2182\n",
      "Groups probabilities:  [0.2097 0.3039 0.4863]\n"
     ]
    },
    {
     "data": {
      "image/png": "[encoded data removed]",
      "text/plain": [
       "<Figure size 432x288 with 2 Axes>"
      ]
     },
     "metadata": {
      "needs_background": "light"
     },
     "output_type": "display_data"
    },
    {
     "name": "stdout",
     "output_type": "stream",
     "text": [
      "JS divergence: 0.0322\tNorm Frobenius: 0.0662\n",
      "Groups probabilities:  [0.3998 0.3193 0.281 ]\n"
     ]
    },
    {
     "data": {
      "image/png": "[encoded data removed]",
      "text/plain": [
       "<Figure size 432x288 with 2 Axes>"
      ]
     },
     "metadata": {
      "needs_background": "light"
     },
     "output_type": "display_data"
    },
    {
     "name": "stdout",
     "output_type": "stream",
     "text": [
      "JS divergence: 0.1362\tNorm Frobenius: 0.2814\n",
      "Groups probabilities:  [0.215  0.2719 0.5132]\n"
     ]
    },
    {
     "data": {
      "image/png": "[encoded data removed]",
      "text/plain": [
       "<Figure size 432x288 with 2 Axes>"
      ]
     },
     "metadata": {
      "needs_background": "light"
     },
     "output_type": "display_data"
    },
    {
     "name": "stdout",
     "output_type": "stream",
     "text": [
      "JS divergence: 0.1195\tNorm Frobenius: 0.2397\n",
      "Groups probabilities:  [0.2406 0.3686 0.3908]\n"
     ]
    },
    {
     "data": {
      "image/png": "[encoded data removed]",
      "text/plain": [
       "<Figure size 432x288 with 2 Axes>"
      ]
     },
     "metadata": {
      "needs_background": "light"
     },
     "output_type": "display_data"
    },
    {
     "name": "stdout",
     "output_type": "stream",
     "text": [
      "JS divergence: 0.1194\tNorm Frobenius: 0.2225\n",
      "Groups probabilities:  [0.6139 0.3319 0.0542]\n"
     ]
    },
    {
     "data": {
      "image/png": "[encoded data removed]",
      "text/plain": [
       "<Figure size 432x288 with 2 Axes>"
      ]
     },
     "metadata": {
      "needs_background": "light"
     },
     "output_type": "display_data"
    },
    {
     "name": "stdout",
     "output_type": "stream",
     "text": [
      "JS divergence: 0.0569\tNorm Frobenius: 0.1144\n",
      "Groups probabilities:  [5.247e-01 4.749e-01 4.000e-04]\n"
     ]
    },
    {
     "data": {
      "image/png": "[encoded data removed]",
      "text/plain": [
       "<Figure size 432x288 with 2 Axes>"
      ]
     },
     "metadata": {
      "needs_background": "light"
     },
     "output_type": "display_data"
    },
    {
     "name": "stdout",
     "output_type": "stream",
     "text": [
      "JS divergence: 0.0557\tNorm Frobenius: 0.0992\n",
      "Groups probabilities:  [0.     0.8273 0.1727]\n"
     ]
    },
    {
     "data": {
      "image/png": "[encoded data removed]",
      "text/plain": [
       "<Figure size 432x288 with 2 Axes>"
      ]
     },
     "metadata": {
      "needs_background": "light"
     },
     "output_type": "display_data"
    },
    {
     "name": "stdout",
     "output_type": "stream",
     "text": [
      "JS divergence: 0.1720\tNorm Frobenius: 0.3483\n",
      "Groups probabilities:  [0.0068 0.2358 0.7574]\n"
     ]
    },
    {
     "data": {
      "image/png": "[encoded data removed]",
      "text/plain": [
       "<Figure size 432x288 with 2 Axes>"
      ]
     },
     "metadata": {
      "needs_background": "light"
     },
     "output_type": "display_data"
    },
    {
     "name": "stdout",
     "output_type": "stream",
     "text": [
      "JS divergence: 0.0390\tNorm Frobenius: 0.0929\n",
      "Groups probabilities:  [0.067 0.397 0.536]\n"
     ]
    },
    {
     "data": {
      "image/png": "[encoded data removed]",
      "text/plain": [
       "<Figure size 432x288 with 2 Axes>"
      ]
     },
     "metadata": {
      "needs_background": "light"
     },
     "output_type": "display_data"
    },
    {
     "name": "stdout",
     "output_type": "stream",
     "text": [
      "JS divergence: 0.2762\tNorm Frobenius: 0.3755\n",
      "Groups probabilities:  [0.344  0.2935 0.3625]\n"
     ]
    },
    {
     "data": {
      "image/png": "[encoded data removed]",
      "text/plain": [
       "<Figure size 432x288 with 2 Axes>"
      ]
     },
     "metadata": {
      "needs_background": "light"
     },
     "output_type": "display_data"
    },
    {
     "name": "stdout",
     "output_type": "stream",
     "text": [
      "JS divergence: 0.0194\tNorm Frobenius: 0.0431\n",
      "Groups probabilities:  [0.0009 0.5956 0.4035]\n"
     ]
    },
    {
     "data": {
      "image/png": "[encoded data removed]",
      "text/plain": [
       "<Figure size 432x288 with 2 Axes>"
      ]
     },
     "metadata": {
      "needs_background": "light"
     },
     "output_type": "display_data"
    },
    {
     "name": "stdout",
     "output_type": "stream",
     "text": [
      "JS divergence: 0.3317\tNorm Frobenius: 0.4691\n",
      "Groups probabilities:  [0.2234 0.3292 0.4475]\n"
     ]
    },
    {
     "data": {
      "image/png": "[encoded data removed]",
      "text/plain": [
       "<Figure size 432x288 with 2 Axes>"
      ]
     },
     "metadata": {
      "needs_background": "light"
     },
     "output_type": "display_data"
    },
    {
     "name": "stdout",
     "output_type": "stream",
     "text": [
      "JS divergence: 0.2475\tNorm Frobenius: 0.3639\n",
      "Groups probabilities:  [0.6924 0.2774 0.0302]\n"
     ]
    },
    {
     "data": {
      "image/png": "[encoded data removed]",
      "text/plain": [
       "<Figure size 432x288 with 2 Axes>"
      ]
     },
     "metadata": {
      "needs_background": "light"
     },
     "output_type": "display_data"
    },
    {
     "name": "stdout",
     "output_type": "stream",
     "text": [
      "JS divergence: 0.1058\tNorm Frobenius: 0.1982\n",
      "Groups probabilities:  [0.0871 0.2441 0.6688]\n",
      "Calculate confusion matrix on global version\n"
     ]
    },
    {
     "data": {
      "image/png": "[encoded data removed]",
      "text/plain": [
       "<Figure size 432x288 with 2 Axes>"
      ]
     },
     "metadata": {
      "needs_background": "light"
     },
     "output_type": "display_data"
    },
    {
     "name": "stdout",
     "output_type": "stream",
     "text": [
      "JS divergence: 0.0501\tNorm Frobenius: 0.0949\n",
      "A result\n"
     ]
    },
    {
     "data": {
      "text/html": [
       "<div>\n",
       "<style scoped>\n",
       "    .dataframe tbody tr th:only-of-type {\n",
       "        vertical-align: middle;\n",
       "    }\n",
       "\n",
       "    .dataframe tbody tr th {\n",
       "        vertical-align: top;\n",
       "    }\n",
       "\n",
       "    .dataframe thead th {\n",
       "        text-align: right;\n",
       "    }\n",
       "</style>\n",
       "<table border=\"1\" class=\"dataframe\">\n",
       "  <thead>\n",
       "    <tr style=\"text-align: right;\">\n",
       "      <th></th>\n",
       "      <th></th>\n",
       "      <th>Accuracy</th>\n",
       "      <th>F1 (micro)</th>\n",
       "      <th>F1 (macro)</th>\n",
       "      <th>(R) NormF mean</th>\n",
       "      <th>(R) JS mean</th>\n",
       "      <th>(G) NormF</th>\n",
       "      <th>(G) JS</th>\n",
       "    </tr>\n",
       "  </thead>\n",
       "  <tbody>\n",
       "    <tr>\n",
       "      <th>0</th>\n",
       "      <td>All</td>\n",
       "      <td>0.8742</td>\n",
       "      <td>0.8742</td>\n",
       "      <td>0.868</td>\n",
       "      <td>0.2674</td>\n",
       "      <td>0.1861</td>\n",
       "      <td>0.0949</td>\n",
       "      <td>0.0501</td>\n",
       "    </tr>\n",
       "  </tbody>\n",
       "</table>\n",
       "</div>"
      ],
      "text/plain": [
       "        Accuracy  F1 (micro)  F1 (macro)  (R) NormF mean  (R) JS mean  \\\n",
       "0  All    0.8742      0.8742       0.868          0.2674       0.1861   \n",
       "\n",
       "   (G) NormF  (G) JS  \n",
       "0     0.0949  0.0501  "
      ]
     },
     "metadata": {},
     "output_type": "display_data"
    },
    {
     "name": "stdout",
     "output_type": "stream",
     "text": [
      "Val\n"
     ]
    },
    {
     "data": {
      "image/png": "[encoded data removed]",
      "text/plain": [
       "<Figure size 432x288 with 1 Axes>"
      ]
     },
     "metadata": {
      "needs_background": "light"
     },
     "output_type": "display_data"
    },
    {
     "data": {
      "image/png": "[encoded data removed]",
      "text/plain": [
       "<Figure size 432x288 with 1 Axes>"
      ]
     },
     "metadata": {
      "needs_background": "light"
     },
     "output_type": "display_data"
    },
    {
     "data": {
      "image/png": "[encoded data removed]",
      "text/plain": [
       "<Figure size 432x288 with 1 Axes>"
      ]
     },
     "metadata": {
      "needs_background": "light"
     },
     "output_type": "display_data"
    },
    {
     "name": "stdout",
     "output_type": "stream",
     "text": [
      "Inertia JS: 0.008759344492723304\n",
      "Inertia NormF: 0.020154986865603648\n",
      "A result\n"
     ]
    },
    {
     "data": {
      "text/html": [
       "<div>\n",
       "<style scoped>\n",
       "    .dataframe tbody tr th:only-of-type {\n",
       "        vertical-align: middle;\n",
       "    }\n",
       "\n",
       "    .dataframe tbody tr th {\n",
       "        vertical-align: top;\n",
       "    }\n",
       "\n",
       "    .dataframe thead th {\n",
       "        text-align: right;\n",
       "    }\n",
       "</style>\n",
       "<table border=\"1\" class=\"dataframe\">\n",
       "  <thead>\n",
       "    <tr style=\"text-align: right;\">\n",
       "      <th></th>\n",
       "      <th>Groups</th>\n",
       "      <th>Prob</th>\n",
       "      <th>Entropy</th>\n",
       "      <th>Diag mean</th>\n",
       "      <th>Isim (JS)</th>\n",
       "      <th>S_raykar</th>\n",
       "      <th>S_bias</th>\n",
       "      <th>C_bias</th>\n",
       "      <th>Iner JS</th>\n",
       "      <th>Iner NormF</th>\n",
       "      <th>Accuracy</th>\n",
       "      <th>F1 (micro)</th>\n",
       "    </tr>\n",
       "  </thead>\n",
       "  <tbody>\n",
       "    <tr>\n",
       "      <th>0</th>\n",
       "      <td>0</td>\n",
       "      <td>0.3652</td>\n",
       "      <td>0.1444</td>\n",
       "      <td>0.9672</td>\n",
       "      <td>0.9833</td>\n",
       "      <td>0.9508</td>\n",
       "      <td>0.0382</td>\n",
       "      <td>2</td>\n",
       "      <td>0.0088</td>\n",
       "      <td>0.0202</td>\n",
       "      <td>0.8307</td>\n",
       "      <td>0.8307</td>\n",
       "    </tr>\n",
       "    <tr>\n",
       "      <th>1</th>\n",
       "      <td>1</td>\n",
       "      <td>0.3007</td>\n",
       "      <td>0.0472</td>\n",
       "      <td>0.9917</td>\n",
       "      <td>0.9958</td>\n",
       "      <td>0.9876</td>\n",
       "      <td>0.0056</td>\n",
       "      <td>0</td>\n",
       "      <td>0.0088</td>\n",
       "      <td>0.0202</td>\n",
       "      <td>0.8307</td>\n",
       "      <td>0.8307</td>\n",
       "    </tr>\n",
       "    <tr>\n",
       "      <th>2</th>\n",
       "      <td>2</td>\n",
       "      <td>0.3341</td>\n",
       "      <td>0.0395</td>\n",
       "      <td>0.9936</td>\n",
       "      <td>0.9968</td>\n",
       "      <td>0.9904</td>\n",
       "      <td>0.0077</td>\n",
       "      <td>0</td>\n",
       "      <td>0.0088</td>\n",
       "      <td>0.0202</td>\n",
       "      <td>0.8305</td>\n",
       "      <td>0.8305</td>\n",
       "    </tr>\n",
       "  </tbody>\n",
       "</table>\n",
       "</div>"
      ],
      "text/plain": [
       "   Groups    Prob  Entropy  Diag mean  Isim (JS)  S_raykar  S_bias  C_bias  \\\n",
       "0       0  0.3652   0.1444     0.9672     0.9833    0.9508  0.0382       2   \n",
       "1       1  0.3007   0.0472     0.9917     0.9958    0.9876  0.0056       0   \n",
       "2       2  0.3341   0.0395     0.9936     0.9968    0.9904  0.0077       0   \n",
       "\n",
       "   Iner JS  Iner NormF  Accuracy  F1 (micro)  \n",
       "0   0.0088      0.0202    0.8307      0.8307  \n",
       "1   0.0088      0.0202    0.8307      0.8307  \n",
       "2   0.0088      0.0202    0.8305      0.8305  "
      ]
     },
     "metadata": {},
     "output_type": "display_data"
    },
    {
     "name": "stdout",
     "output_type": "stream",
     "text": [
      "A result\n"
     ]
    },
    {
     "data": {
      "text/html": [
       "<div>\n",
       "<style scoped>\n",
       "    .dataframe tbody tr th:only-of-type {\n",
       "        vertical-align: middle;\n",
       "    }\n",
       "\n",
       "    .dataframe tbody tr th {\n",
       "        vertical-align: top;\n",
       "    }\n",
       "\n",
       "    .dataframe thead th {\n",
       "        text-align: right;\n",
       "    }\n",
       "</style>\n",
       "<table border=\"1\" class=\"dataframe\">\n",
       "  <thead>\n",
       "    <tr style=\"text-align: right;\">\n",
       "      <th></th>\n",
       "      <th></th>\n",
       "      <th>Accuracy</th>\n",
       "      <th>F1 (micro)</th>\n",
       "      <th>F1 (macro)</th>\n",
       "    </tr>\n",
       "  </thead>\n",
       "  <tbody>\n",
       "    <tr>\n",
       "      <th>0</th>\n",
       "      <td>All</td>\n",
       "      <td>0.8307</td>\n",
       "      <td>0.8307</td>\n",
       "      <td>0.8189</td>\n",
       "    </tr>\n",
       "  </tbody>\n",
       "</table>\n",
       "</div>"
      ],
      "text/plain": [
       "        Accuracy  F1 (micro)  F1 (macro)\n",
       "0  All    0.8307      0.8307      0.8189"
      ]
     },
     "metadata": {},
     "output_type": "display_data"
    }
   ],
   "source": [
    "evaluate = Evaluation_metrics(gMixture_Ind3,'our1') \n",
    "aux = gMixture_Ind3.calculate_extra_components(Xstd_train, A,calculate_pred_annotator=False,p_z=Z_train_p,p_g=prob_Gt)\n",
    "predictions_m,prob_Gt,prob_Yzt,_ =  aux #to evaluate...\n",
    "prob_Yz = gMixture_Ind3.calculate_Yz(prob_Gt)\n",
    "evaluate.set_Gt(prob_Gt)\n",
    "print(\"*** Ours Individual3 multiples runs***\") #lambda = 1\n",
    "\n",
    "print(\"Train\")\n",
    "results = evaluate.calculate_metrics(Z=Z_train,Z_pred=Z_train_pred,conf_pred=prob_Yzt,conf_true=confe_matrix_R,\n",
    "                                    conf_true_G =confe_matrix_G, conf_pred_G = prob_Yz)\n",
    "\n",
    "\n",
    "print(\"Val\")\n",
    "c_M = gMixture_Ind3.get_confusionM()\n",
    "y_o_groups = gMixture_Global.get_predictions_groups(Xstd_val,data=Z_val_p).argmax(axis=-1) #obtain p(y^o|x,g=m) and then argmax\n",
    "results = evaluate.calculate_metrics(Z=Z_val,Z_pred=Z_val_pred,conf_pred=c_M, y_o_groups=y_o_groups)"
   ]
  },
  {
   "cell_type": "code",
   "execution_count": 43,
   "metadata": {},
   "outputs": [
    {
     "ename": "NameError",
     "evalue": "name 'plot_alphas' is not defined",
     "output_type": "error",
     "traceback": [
      "\u001b[0;31m---------------------------------------------------------------------------\u001b[0m",
      "\u001b[0;31mNameError\u001b[0m                                 Traceback (most recent call last)",
      "\u001b[0;32m<ipython-input-43-4ee73b36f505>\u001b[0m in \u001b[0;36m<module>\u001b[0;34m()\u001b[0m\n\u001b[0;32m----> 1\u001b[0;31m \u001b[0mplot_alphas\u001b[0m\u001b[0;34m(\u001b[0m\u001b[0mgMixture_Ind1\u001b[0m\u001b[0;34m.\u001b[0m\u001b[0malphas_training\u001b[0m\u001b[0;34m)\u001b[0m\u001b[0;34m\u001b[0m\u001b[0m\n\u001b[0m",
      "\u001b[0;31mNameError\u001b[0m: name 'plot_alphas' is not defined"
     ]
    }
   ],
   "source": [
    "plot_alphas(gMixture_Ind1.alphas_training)"
   ]
  },
  {
   "cell_type": "code",
   "execution_count": 44,
   "metadata": {},
   "outputs": [
    {
     "ename": "NameError",
     "evalue": "name 'plot_alphas' is not defined",
     "output_type": "error",
     "traceback": [
      "\u001b[0;31m---------------------------------------------------------------------------\u001b[0m",
      "\u001b[0;31mNameError\u001b[0m                                 Traceback (most recent call last)",
      "\u001b[0;32m<ipython-input-44-fd40761b36d8>\u001b[0m in \u001b[0;36m<module>\u001b[0;34m()\u001b[0m\n\u001b[0;32m----> 1\u001b[0;31m \u001b[0mplot_alphas\u001b[0m\u001b[0;34m(\u001b[0m\u001b[0mgMixture_Ind3\u001b[0m\u001b[0;34m.\u001b[0m\u001b[0malphas_training\u001b[0m\u001b[0;34m)\u001b[0m\u001b[0;34m\u001b[0m\u001b[0m\n\u001b[0m",
      "\u001b[0;31mNameError\u001b[0m: name 'plot_alphas' is not defined"
     ]
    }
   ],
   "source": [
    "plot_alphas(gMixture_Ind3.alphas_training)"
   ]
  },
  {
   "cell_type": "markdown",
   "metadata": {
    "collapsed": true
   },
   "source": [
    "### project confusion matrices"
   ]
  },
  {
   "cell_type": "code",
   "execution_count": 47,
   "metadata": {},
   "outputs": [],
   "source": [
    "def flatten_conf(m):\n",
    "    return m.reshape(m.shape[0], np.prod(m.shape[1:]))\n",
    "\n",
    "to_plot = flatten_conf(confe_matrix_R)\n",
    "\n",
    "centroids_plot_G = flatten_conf(gMixture_Global.get_confusionM())\n",
    "centroids_plot_IT = flatten_conf(gMixture_Ind1.get_confusionM())\n",
    "centroids_plot_IK = flatten_conf(gMixture_Ind3.get_confusionM())\n",
    "global_plot = (confe_matrix_G.flatten()).reshape(1,-1)\n",
    "\n",
    "from sklearn.decomposition import PCA\n",
    "model = PCA(2)\n",
    "model.fit(to_plot) \n",
    "\n",
    "to_plot = model.transform(to_plot) \n",
    "centroids_plot_G = model.transform(centroids_plot_G)\n",
    "centroids_plot_IT = model.transform(centroids_plot_IT)\n",
    "centroids_plot_IK = model.transform(centroids_plot_IK)\n",
    "global_plot = model.transform(global_plot)"
   ]
  },
  {
   "cell_type": "code",
   "execution_count": 48,
   "metadata": {},
   "outputs": [
    {
     "data": {
      "image/png": "[encoded data removed]",
      "text/plain": [
       "<Figure size 720x504 with 1 Axes>"
      ]
     },
     "metadata": {
      "needs_background": "light"
     },
     "output_type": "display_data"
    }
   ],
   "source": [
    "plt.figure(figsize=(10,7))\n",
    "plt.scatter(to_plot[:,0], to_plot[:,1], label=\"Annotators\")\n",
    "plt.scatter(centroids_plot_G[:,0], centroids_plot_G[:,1], s=150,marker=\"*\", color='g',label=\"Groups Global\", edgecolor='black')\n",
    "plt.scatter(centroids_plot_IT[:,0], centroids_plot_IT[:,1],s=150, marker=\"X\", color='purple',label=\"Groups Indiv model-T\", edgecolor='black')\n",
    "plt.scatter(centroids_plot_IK[:,0], centroids_plot_IK[:,1], s=150, marker=\"X\", color='hotpink',label=\"Groups Indiv model-K\", edgecolor='black')\n",
    "#plt.scatter(global_plot[:,0], global_plot[:,1],label=\"Global\")\n",
    "\n",
    "plt.legend()\n",
    "plt.show()#nuevo"
   ]
  },
  {
   "cell_type": "code",
   "execution_count": null,
   "metadata": {},
   "outputs": [],
   "source": []
  }
 ],
 "metadata": {
  "kernelspec": {
   "display_name": "Python [conda env:py3]",
   "language": "python",
   "name": "conda-env-py3-py"
  },
  "language_info": {
   "codemirror_mode": {
    "name": "ipython",
    "version": 3
   },
   "file_extension": ".py",
   "mimetype": "text/x-python",
   "name": "python",
   "nbconvert_exporter": "python",
   "pygments_lexer": "ipython3",
   "version": "3.5.6"
  }
 },
 "nbformat": 4,
 "nbformat_minor": 2
}
