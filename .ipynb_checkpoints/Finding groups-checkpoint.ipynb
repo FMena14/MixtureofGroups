{
 "cells": [
  {
   "cell_type": "code",
   "execution_count": 1,
   "metadata": {},
   "outputs": [
    {
     "name": "stderr",
     "output_type": "stream",
     "text": [
      "Using TensorFlow backend.\n"
     ]
    }
   ],
   "source": [
    "import numpy as np\n",
    "import pandas as pd\n",
    "import matplotlib.pyplot as plt\n",
    "import seaborn as sns\n",
    "import keras, time, sys, os, gc\n",
    "\n",
    "DTYPE_OP = 'float32'\n",
    "keras.backend.set_floatx(DTYPE_OP)\n",
    "\n",
    "if DTYPE_OP == 'float64':\n",
    "    keras.backend.set_epsilon(np.finfo(np.float64).eps)\n",
    "elif DTYPE_OP == 'float32':\n",
    "    keras.backend.set_epsilon(np.finfo(np.float32).eps)\n",
    "    \n",
    "\n",
    "from sklearn.preprocessing import StandardScaler\n",
    "from code.MixtureofGroups import project_and_cluster,clusterize_annotators\n",
    "from code.MixtureofGroups import *\n",
    "\n",
    "from code.baseline import LabelInference\n",
    "from code.representation import *\n",
    "from code.utils import *"
   ]
  },
  {
   "cell_type": "markdown",
   "metadata": {},
   "source": [
    "### CIFAR-10 Test set"
   ]
  },
  {
   "cell_type": "code",
   "execution_count": 2,
   "metadata": {},
   "outputs": [
    {
     "name": "stdout",
     "output_type": "stream",
     "text": [
      "Input shape: (10000, 32, 32, 3)\n"
     ]
    }
   ],
   "source": [
    "from keras.datasets import cifar10\n",
    "(_, _), (X_test, Z_test) = cifar10.load_data()\n",
    "Z_test = Z_test[:,0]\n",
    "N = X_test.shape[0]\n",
    "print(\"Input shape:\",X_test.shape)"
   ]
  },
  {
   "cell_type": "code",
   "execution_count": 3,
   "metadata": {},
   "outputs": [],
   "source": [
    "folder = \"../New_CIFAR_test/\""
   ]
  },
  {
   "cell_type": "code",
   "execution_count": 4,
   "metadata": {},
   "outputs": [
    {
     "name": "stdout",
     "output_type": "stream",
     "text": [
      "shape: (10000, 60, 10)\n"
     ]
    }
   ],
   "source": [
    "from scipy.io import loadmat\n",
    "#aux = loadmat(folder+\"CIFAR10_EasySubset.mat\")\n",
    "aux = loadmat(folder+\"CIFAR10_HumanRecogData.mat\")\n",
    "aux = aux[\"expData\"][0][0][0]\n",
    "T = 60 #60 annotations\n",
    "y_obs = np.ones((N,T),dtype='int16')*-1\n",
    "for annotation in aux:\n",
    "    ann_id = annotation[0]-1\n",
    "    cifar_indx = annotation[1]-1\n",
    "    ann = annotation[2]-1\n",
    "    y_obs[cifar_indx,ann_id] = ann\n",
    "\n",
    "T_weights = np.sum(y_obs != -1,axis=0) #distribucion de anotaciones\n",
    "\n",
    "K = np.max(y_obs)+1 # asumiendo que estan ordenadas\n",
    "\n",
    "y_obs_categorical = set_representation(y_obs,'onehot') #for raykar\n",
    "print(\"shape:\",y_obs_categorical.shape)"
   ]
  },
  {
   "cell_type": "markdown",
   "metadata": {},
   "source": [
    "Every data has 6 annotations, every annotator annotate 1000 data, T_weights = 1000, T_weights norm = 1/T"
   ]
  },
  {
   "cell_type": "code",
   "execution_count": 5,
   "metadata": {
    "scrolled": false
   },
   "outputs": [
    {
     "name": "stdout",
     "output_type": "stream",
     "text": [
      "Bayesian gaussian mixture say is 5 clusters \n",
      "DBSCAN say is 5 clusters\n",
      "Affinity Propagation say is 3 clusters\n"
     ]
    },
    {
     "data": {
      "image/png": "[encoded data removed]",
      "text/plain": [
       "<Figure size 432x288 with 1 Axes>"
      ]
     },
     "metadata": {},
     "output_type": "display_data"
    },
    {
     "name": "stdout",
     "output_type": "stream",
     "text": [
      "ACC MV on train: 0.9757\n",
      "Normalized entropy (0-1) of repeats annotations: 0.05247443779676492\n"
     ]
    },
    {
     "data": {
      "image/png": "[encoded data removed]",
      "text/plain": [
       "<Figure size 432x288 with 1 Axes>"
      ]
     },
     "metadata": {},
     "output_type": "display_data"
    }
   ],
   "source": [
    "annotators_pca = project_and_cluster(y_obs_categorical,DTYPE_OP=DTYPE_OP,mode_project='pca')[0]\n",
    "std = StandardScaler(with_mean=True,with_std=True)\n",
    "annotators_pca2 = std.fit_transform(annotators_pca)\n",
    "plt.scatter(annotators_pca2[:,0],annotators_pca2[:,1])\n",
    "plt.show()\n",
    "\n",
    "label_I = LabelInference(y_obs,1,type_inf = 'mv')\n",
    "mv_onehot = label_I.mv_labels('classes')\n",
    "print(\"ACC MV on train:\",np.mean(mv_onehot==Z_test))\n",
    "\n",
    "mv_soft = majority_voting(label_I.y_obs_repeat,repeats=True,probas=True) \n",
    "aux = []\n",
    "for example in mv_soft:\n",
    "    aux.append(entropy(example)/np.log(K))\n",
    "print(\"Normalized entropy (0-1) of repeats annotations:\",np.mean(aux))\n",
    "\n",
    "predicted = np.clip(mv_soft, keras.backend.epsilon(), 1.)\n",
    "data_to_cluster = []\n",
    "for i in range(mv_soft.shape[0]):\n",
    "    for j in range(mv_soft.shape[1]):\n",
    "        ob = np.tile(keras.backend.epsilon(), mv_soft.shape[1])\n",
    "        ob[j] = 1\n",
    "        true = np.clip(predicted[i],keras.backend.epsilon(),1.)      \n",
    "        f_l = distance_function(true, ob)  #funcion de distancia o similaridad\n",
    "        data_to_cluster.append(f_l)  \n",
    "data_to_cluster = np.asarray(data_to_cluster)\n",
    "model = PCA(n_components=min(3,mv_soft.shape[0]) ) \n",
    "data_to_cluster = model.fit_transform(data_to_cluster)\n",
    "\n",
    "std = StandardScaler(with_mean=True,with_std=True)\n",
    "data_to_plot = std.fit_transform(data_to_cluster)\n",
    "plt.scatter(data_to_plot[:,0],data_to_plot[:,1])\n",
    "plt.show()"
   ]
  },
  {
   "cell_type": "markdown",
   "metadata": {},
   "source": [
    "It look like there is a presence of groups..."
   ]
  },
  {
   "cell_type": "markdown",
   "metadata": {},
   "source": [
    "### Fashion 10000\n",
    "---\n",
    "Q6: formal?"
   ]
  },
  {
   "cell_type": "code",
   "execution_count": 2,
   "metadata": {},
   "outputs": [],
   "source": [
    "folder = \"../Fashion10000/\""
   ]
  },
  {
   "cell_type": "code",
   "execution_count": 3,
   "metadata": {
    "scrolled": true
   },
   "outputs": [
    {
     "data": {
      "text/html": [
       "<div>\n",
       "<style scoped>\n",
       "    .dataframe tbody tr th:only-of-type {\n",
       "        vertical-align: middle;\n",
       "    }\n",
       "\n",
       "    .dataframe tbody tr th {\n",
       "        vertical-align: top;\n",
       "    }\n",
       "\n",
       "    .dataframe thead th {\n",
       "        text-align: right;\n",
       "    }\n",
       "</style>\n",
       "<table border=\"1\" class=\"dataframe\">\n",
       "  <thead>\n",
       "    <tr style=\"text-align: right;\">\n",
       "      <th></th>\n",
       "      <th>HITId</th>\n",
       "      <th>HITTypeId</th>\n",
       "      <th>Title</th>\n",
       "      <th>Description</th>\n",
       "      <th>Keywords</th>\n",
       "      <th>Reward</th>\n",
       "      <th>CreationTime</th>\n",
       "      <th>MaxAssignments</th>\n",
       "      <th>RequesterAnnotation</th>\n",
       "      <th>AssignmentDurationInSeconds</th>\n",
       "      <th>...</th>\n",
       "      <th>Answer.specialty3</th>\n",
       "      <th>Answer.specialty4</th>\n",
       "      <th>Answer.type1</th>\n",
       "      <th>Answer.type2</th>\n",
       "      <th>Answer.type3</th>\n",
       "      <th>Answer.type4</th>\n",
       "      <th>PHOTO_ID1</th>\n",
       "      <th>PHOTO_ID2</th>\n",
       "      <th>PHOTO_ID3</th>\n",
       "      <th>PHOTO_ID4</th>\n",
       "    </tr>\n",
       "  </thead>\n",
       "  <tbody>\n",
       "    <tr>\n",
       "      <th>0</th>\n",
       "      <td>2BUF806UFBNFSU6QHDU9BSW83V41F0</td>\n",
       "      <td>2QKNDWIOV1S7SMT9PEL19YDZ81JIXX</td>\n",
       "      <td>Check images of clothing items and fashion acc...</td>\n",
       "      <td>In this HIT we show you 4 images and we want t...</td>\n",
       "      <td>fashion, image annotation, clothing, image, ta...</td>\n",
       "      <td>$0.09</td>\n",
       "      <td>Tue Jun 25 17:00:45 GMT 2013</td>\n",
       "      <td>3</td>\n",
       "      <td>BatchId:1189029;</td>\n",
       "      <td>900</td>\n",
       "      <td>...</td>\n",
       "      <td>No</td>\n",
       "      <td>No</td>\n",
       "      <td>notapp</td>\n",
       "      <td>notapp</td>\n",
       "      <td>yes</td>\n",
       "      <td>yes</td>\n",
       "      <td>3147969538</td>\n",
       "      <td>3504068315</td>\n",
       "      <td>3533130703</td>\n",
       "      <td>3533131723</td>\n",
       "    </tr>\n",
       "    <tr>\n",
       "      <th>1</th>\n",
       "      <td>2BUF806UFBNFSU6QHDU9BSW83V41F0</td>\n",
       "      <td>2QKNDWIOV1S7SMT9PEL19YDZ81JIXX</td>\n",
       "      <td>Check images of clothing items and fashion acc...</td>\n",
       "      <td>In this HIT we show you 4 images and we want t...</td>\n",
       "      <td>fashion, image annotation, clothing, image, ta...</td>\n",
       "      <td>$0.09</td>\n",
       "      <td>Tue Jun 25 17:00:45 GMT 2013</td>\n",
       "      <td>3</td>\n",
       "      <td>BatchId:1189029;</td>\n",
       "      <td>900</td>\n",
       "      <td>...</td>\n",
       "      <td>No</td>\n",
       "      <td>No</td>\n",
       "      <td>notapp</td>\n",
       "      <td>notapp</td>\n",
       "      <td>no</td>\n",
       "      <td>no</td>\n",
       "      <td>3147969538</td>\n",
       "      <td>3504068315</td>\n",
       "      <td>3533130703</td>\n",
       "      <td>3533131723</td>\n",
       "    </tr>\n",
       "    <tr>\n",
       "      <th>2</th>\n",
       "      <td>2BUF806UFBNFSU6QHDU9BSW83V41F0</td>\n",
       "      <td>2QKNDWIOV1S7SMT9PEL19YDZ81JIXX</td>\n",
       "      <td>Check images of clothing items and fashion acc...</td>\n",
       "      <td>In this HIT we show you 4 images and we want t...</td>\n",
       "      <td>fashion, image annotation, clothing, image, ta...</td>\n",
       "      <td>$0.09</td>\n",
       "      <td>Tue Jun 25 17:00:45 GMT 2013</td>\n",
       "      <td>3</td>\n",
       "      <td>BatchId:1189029;</td>\n",
       "      <td>900</td>\n",
       "      <td>...</td>\n",
       "      <td>No</td>\n",
       "      <td>NotSure</td>\n",
       "      <td>noperson</td>\n",
       "      <td>noperson</td>\n",
       "      <td>notapp</td>\n",
       "      <td>notapp</td>\n",
       "      <td>3147969538</td>\n",
       "      <td>3504068315</td>\n",
       "      <td>3533130703</td>\n",
       "      <td>3533131723</td>\n",
       "    </tr>\n",
       "    <tr>\n",
       "      <th>3</th>\n",
       "      <td>2I3Y58B727M0IF5GDBS64FSXVJZAVM</td>\n",
       "      <td>2QKNDWIOV1S7SMT9PEL19YDZ81JIXX</td>\n",
       "      <td>Check images of clothing items and fashion acc...</td>\n",
       "      <td>In this HIT we show you 4 images and we want t...</td>\n",
       "      <td>fashion, image annotation, clothing, image, ta...</td>\n",
       "      <td>$0.09</td>\n",
       "      <td>Tue Jun 25 17:00:45 GMT 2013</td>\n",
       "      <td>3</td>\n",
       "      <td>BatchId:1189029;</td>\n",
       "      <td>900</td>\n",
       "      <td>...</td>\n",
       "      <td>No</td>\n",
       "      <td>No</td>\n",
       "      <td>noperson</td>\n",
       "      <td>noperson</td>\n",
       "      <td>no</td>\n",
       "      <td>noperson</td>\n",
       "      <td>5805025859</td>\n",
       "      <td>5829762711</td>\n",
       "      <td>6115511126</td>\n",
       "      <td>6308843053</td>\n",
       "    </tr>\n",
       "    <tr>\n",
       "      <th>4</th>\n",
       "      <td>2I3Y58B727M0IF5GDBS64FSXVJZAVM</td>\n",
       "      <td>2QKNDWIOV1S7SMT9PEL19YDZ81JIXX</td>\n",
       "      <td>Check images of clothing items and fashion acc...</td>\n",
       "      <td>In this HIT we show you 4 images and we want t...</td>\n",
       "      <td>fashion, image annotation, clothing, image, ta...</td>\n",
       "      <td>$0.09</td>\n",
       "      <td>Tue Jun 25 17:00:45 GMT 2013</td>\n",
       "      <td>3</td>\n",
       "      <td>BatchId:1189029;</td>\n",
       "      <td>900</td>\n",
       "      <td>...</td>\n",
       "      <td>No</td>\n",
       "      <td>No</td>\n",
       "      <td>noperson</td>\n",
       "      <td>noperson</td>\n",
       "      <td>yes</td>\n",
       "      <td>noperson</td>\n",
       "      <td>5805025859</td>\n",
       "      <td>5829762711</td>\n",
       "      <td>6115511126</td>\n",
       "      <td>6308843053</td>\n",
       "    </tr>\n",
       "  </tbody>\n",
       "</table>\n",
       "<p>5 rows × 68 columns</p>\n",
       "</div>"
      ],
      "text/plain": [
       "                            HITId                       HITTypeId  \\\n",
       "0  2BUF806UFBNFSU6QHDU9BSW83V41F0  2QKNDWIOV1S7SMT9PEL19YDZ81JIXX   \n",
       "1  2BUF806UFBNFSU6QHDU9BSW83V41F0  2QKNDWIOV1S7SMT9PEL19YDZ81JIXX   \n",
       "2  2BUF806UFBNFSU6QHDU9BSW83V41F0  2QKNDWIOV1S7SMT9PEL19YDZ81JIXX   \n",
       "3  2I3Y58B727M0IF5GDBS64FSXVJZAVM  2QKNDWIOV1S7SMT9PEL19YDZ81JIXX   \n",
       "4  2I3Y58B727M0IF5GDBS64FSXVJZAVM  2QKNDWIOV1S7SMT9PEL19YDZ81JIXX   \n",
       "\n",
       "                                               Title  \\\n",
       "0  Check images of clothing items and fashion acc...   \n",
       "1  Check images of clothing items and fashion acc...   \n",
       "2  Check images of clothing items and fashion acc...   \n",
       "3  Check images of clothing items and fashion acc...   \n",
       "4  Check images of clothing items and fashion acc...   \n",
       "\n",
       "                                         Description  \\\n",
       "0  In this HIT we show you 4 images and we want t...   \n",
       "1  In this HIT we show you 4 images and we want t...   \n",
       "2  In this HIT we show you 4 images and we want t...   \n",
       "3  In this HIT we show you 4 images and we want t...   \n",
       "4  In this HIT we show you 4 images and we want t...   \n",
       "\n",
       "                                            Keywords Reward  \\\n",
       "0  fashion, image annotation, clothing, image, ta...  $0.09   \n",
       "1  fashion, image annotation, clothing, image, ta...  $0.09   \n",
       "2  fashion, image annotation, clothing, image, ta...  $0.09   \n",
       "3  fashion, image annotation, clothing, image, ta...  $0.09   \n",
       "4  fashion, image annotation, clothing, image, ta...  $0.09   \n",
       "\n",
       "                   CreationTime  MaxAssignments RequesterAnnotation  \\\n",
       "0  Tue Jun 25 17:00:45 GMT 2013               3    BatchId:1189029;   \n",
       "1  Tue Jun 25 17:00:45 GMT 2013               3    BatchId:1189029;   \n",
       "2  Tue Jun 25 17:00:45 GMT 2013               3    BatchId:1189029;   \n",
       "3  Tue Jun 25 17:00:45 GMT 2013               3    BatchId:1189029;   \n",
       "4  Tue Jun 25 17:00:45 GMT 2013               3    BatchId:1189029;   \n",
       "\n",
       "   AssignmentDurationInSeconds     ...      Answer.specialty3  \\\n",
       "0                          900     ...                     No   \n",
       "1                          900     ...                     No   \n",
       "2                          900     ...                     No   \n",
       "3                          900     ...                     No   \n",
       "4                          900     ...                     No   \n",
       "\n",
       "  Answer.specialty4  Answer.type1  Answer.type2 Answer.type3  Answer.type4  \\\n",
       "0                No        notapp        notapp          yes           yes   \n",
       "1                No        notapp        notapp           no            no   \n",
       "2           NotSure      noperson      noperson       notapp        notapp   \n",
       "3                No      noperson      noperson           no      noperson   \n",
       "4                No      noperson      noperson          yes      noperson   \n",
       "\n",
       "    PHOTO_ID1   PHOTO_ID2   PHOTO_ID3   PHOTO_ID4  \n",
       "0  3147969538  3504068315  3533130703  3533131723  \n",
       "1  3147969538  3504068315  3533130703  3533131723  \n",
       "2  3147969538  3504068315  3533130703  3533131723  \n",
       "3  5805025859  5829762711  6115511126  6308843053  \n",
       "4  5805025859  5829762711  6115511126  6308843053  \n",
       "\n",
       "[5 rows x 68 columns]"
      ]
     },
     "execution_count": 3,
     "metadata": {},
     "output_type": "execute_result"
    }
   ],
   "source": [
    "df_ann = pd.read_csv(folder+\"Annotations/MTurk_NonExperts_Results.csv\")\n",
    "for i in range(1,5): #add photo id to extract image\n",
    "    new_column = []\n",
    "    for pic_url in df_ann[\"Input.Url\"+str(i)].values:\n",
    "        process = pic_url.split(\"/\")[-1].split(\"_\")[0] #extraer el id...\n",
    "        new_column.append(int(process))\n",
    "    df_ann[\"PHOTO_ID\"+str(i)] = new_column\n",
    "df_ann.head()"
   ]
  },
  {
   "cell_type": "code",
   "execution_count": 4,
   "metadata": {},
   "outputs": [],
   "source": [
    "#photos ids distintas\n",
    "photo_ids = {}\n",
    "for i in range(1,5):\n",
    "    for value in df_ann[\"PHOTO_ID\"+str(i)].values:\n",
    "        if value in photo_ids:\n",
    "            photo_ids[value] +=1\n",
    "        else:\n",
    "            photo_ids[value] = 1 #counts\n",
    "\n",
    "idx_ann =  {value:i for i,value in enumerate(df_ann[\"WorkerIndex\"].unique())}\n",
    "num_data = {value:i for i,value in enumerate(list(photo_ids.keys())) }\n",
    "\n",
    "N = len(num_data)\n",
    "T = len(idx_ann)\n",
    "\n",
    "#which answer take\n",
    "aux = df_ann[\"Answer.formal1\"].unique()\n",
    "label_names = aux[~pd.isna(aux)]\n",
    "classes = {value:i for i,value in enumerate(label_names)}\n",
    "classes[np.nan] = -1"
   ]
  },
  {
   "cell_type": "code",
   "execution_count": 5,
   "metadata": {},
   "outputs": [
    {
     "name": "stdout",
     "output_type": "stream",
     "text": [
      "Data with GT:  (26155,)\n"
     ]
    },
    {
     "data": {
      "text/plain": [
       "<matplotlib.axes._subplots.AxesSubplot at 0x7f2499f479b0>"
      ]
     },
     "execution_count": 5,
     "metadata": {},
     "output_type": "execute_result"
    },
    {
     "data": {
      "image/png": "[encoded data removed]",
      "text/plain": [
       "<Figure size 432x288 with 1 Axes>"
      ]
     },
     "metadata": {},
     "output_type": "display_data"
    }
   ],
   "source": [
    "#probabbly ground truth\n",
    "df = pd.read_csv(folder+\"Annotations/Annotation_PerImage_All.csv\") \n",
    "new_column = []\n",
    "for dato in df.values:\n",
    "    pic_url = dato[0] #picture url\n",
    "    process = pic_url.split(\"/\")[-1].split(\"_\")[0] #extraer el id...\n",
    "    new_column.append(int(process))\n",
    "df[\"PHOTO_ID\"] = new_column\n",
    "\n",
    "Z_data = np.ones((N,),dtype='int16')*-1\n",
    "for i in range(df.shape[0]):\n",
    "    row = df.iloc[i]\n",
    "    if classes[row[\"Majority Q6\"]]!=-1: #only data that majority is reached\n",
    "        Z_data[num_data[row[\"PHOTO_ID\"]]] = classes[row[\"Majority Q6\"]]\n",
    "\n",
    "mask_gt = Z_data != -1\n",
    "Z_data = Z_data[mask_gt] #data with gt\n",
    "print(\"Data with GT: \",Z_data.shape)\n",
    "sns.countplot(Z_data)"
   ]
  },
  {
   "cell_type": "code",
   "execution_count": 6,
   "metadata": {},
   "outputs": [
    {
     "name": "stdout",
     "output_type": "stream",
     "text": [
      "Remove 19 annotators that do not annotate on this set \n",
      "shape: (31077, 1451, 6)\n"
     ]
    }
   ],
   "source": [
    "y_obs = np.ones((N,T),dtype='int16')*-1\n",
    "for i in range(df_ann.shape[0]):\n",
    "    row = df_ann.iloc[i]\n",
    "    ann_id = idx_ann[row[\"WorkerIndex\"]]\n",
    "    for j in range(1,4+1):\n",
    "        fashion_indx = num_data[row[\"PHOTO_ID\"+str(j)]]\n",
    "        ann = classes[row[\"Answer.formal\"+str(j)]] #which we are using?\n",
    "        y_obs[fashion_indx,ann_id] = ann\n",
    "        \n",
    "T_weights = np.sum(y_obs != -1,axis=0) #distribucion de anotaciones\n",
    "\n",
    "print(\"Remove %d annotators that do not annotate on this set \"%(np.sum(T_weights==0)))\n",
    "y_obs = y_obs[:,T_weights!=0]\n",
    "T_weights = np.sum(y_obs != -1,axis=0) #distribucion de anotaciones\n",
    "\n",
    "K = np.max(y_obs)+1 # asumiendo que estan ordenadas\n",
    "\n",
    "y_obs_categorical = set_representation(y_obs,'onehot') #for raykar\n",
    "print(\"shape:\",y_obs_categorical.shape)"
   ]
  },
  {
   "cell_type": "code",
   "execution_count": 14,
   "metadata": {
    "scrolled": true
   },
   "outputs": [
    {
     "data": {
      "image/png": "[encoded data removed]",
      "text/plain": [
       "<Figure size 432x288 with 1 Axes>"
      ]
     },
     "metadata": {},
     "output_type": "display_data"
    },
    {
     "name": "stdout",
     "output_type": "stream",
     "text": [
      "Minimum annotations in a example:  1\n",
      "Maximum annotations in a example:  11\n",
      "T data (expected value):  3.0664478553270906\n",
      "Graphics of T weights\n"
     ]
    },
    {
     "data": {
      "image/png": "[encoded data removed]",
      "text/plain": [
       "<Figure size 432x288 with 1 Axes>"
      ]
     },
     "metadata": {},
     "output_type": "display_data"
    },
    {
     "data": {
      "image/png": "[encoded data removed]",
      "text/plain": [
       "<Figure size 432x288 with 1 Axes>"
      ]
     },
     "metadata": {},
     "output_type": "display_data"
    },
    {
     "name": "stdout",
     "output_type": "stream",
     "text": [
      "Minimum annotations by an annotator:  1\n",
      "Maximum annotations by an annotator:  1791\n"
     ]
    }
   ],
   "source": [
    "#graphics and distribution? what is T_data\n",
    "N_ann = np.sum(y_obs != -1,axis=1) #distribucion de anotaciones con este valor\n",
    "\n",
    "sns.countplot(N_ann)\n",
    "plt.show()\n",
    "print(\"Minimum annotations in a example: \",N_ann.min())\n",
    "print(\"Maximum annotations in a example: \",N_ann.max())\n",
    "print(\"T data (expected value): \",N_ann.mean())\n",
    "\n",
    "print(\"Graphics of T weights\")\n",
    "plt.hist(T_weights)\n",
    "plt.show()\n",
    "\n",
    "plt.boxplot(T_weights)\n",
    "plt.show()\n",
    "print(\"Minimum annotations by an annotator: \",T_weights.min())\n",
    "print(\"Maximum annotations by an annotator: \",T_weights.max())"
   ]
  },
  {
   "cell_type": "code",
   "execution_count": 7,
   "metadata": {
    "scrolled": true
   },
   "outputs": [
    {
     "name": "stdout",
     "output_type": "stream",
     "text": [
      "Bayesian gaussian mixture say is 12 clusters \n"
     ]
    },
    {
     "name": "stderr",
     "output_type": "stream",
     "text": [
      "/home/casapanshop/anaconda2/envs/py3/lib/python3.5/site-packages/sklearn/metrics/pairwise.py:257: RuntimeWarning: invalid value encountered in sqrt\n",
      "  return distances if squared else np.sqrt(distances, out=distances)\n",
      "/home/casapanshop/anaconda2/envs/py3/lib/python3.5/site-packages/sklearn/metrics/pairwise.py:257: RuntimeWarning: invalid value encountered in sqrt\n",
      "  return distances if squared else np.sqrt(distances, out=distances)\n",
      "/home/casapanshop/anaconda2/envs/py3/lib/python3.5/site-packages/sklearn/metrics/pairwise.py:257: RuntimeWarning: invalid value encountered in sqrt\n",
      "  return distances if squared else np.sqrt(distances, out=distances)\n",
      "/home/casapanshop/anaconda2/envs/py3/lib/python3.5/site-packages/sklearn/metrics/pairwise.py:257: RuntimeWarning: invalid value encountered in sqrt\n",
      "  return distances if squared else np.sqrt(distances, out=distances)\n"
     ]
    },
    {
     "name": "stdout",
     "output_type": "stream",
     "text": [
      "DBSCAN say is 2 clusters\n",
      "Affinity Propagation say is 1 clusters\n"
     ]
    },
    {
     "data": {
      "image/png": "[encoded data removed]",
      "text/plain": [
       "<Figure size 432x288 with 1 Axes>"
      ]
     },
     "metadata": {},
     "output_type": "display_data"
    },
    {
     "name": "stdout",
     "output_type": "stream",
     "text": [
      "ACC MV on train: 0.9944178933282355\n",
      "Normalized entropy (0-1) of repeats annotations: 0.18531239514749437\n"
     ]
    },
    {
     "data": {
      "image/png": "[encoded data removed]",
      "text/plain": [
       "<Figure size 432x288 with 1 Axes>"
      ]
     },
     "metadata": {},
     "output_type": "display_data"
    }
   ],
   "source": [
    "annotators_pca = project_and_cluster(y_obs_categorical,DTYPE_OP=DTYPE_OP,mode_project='pca')[0]\n",
    "std = StandardScaler(with_mean=True,with_std=True)\n",
    "annotators_pca2 = std.fit_transform(annotators_pca)\n",
    "plt.scatter(annotators_pca2[:,0],annotators_pca2[:,1])\n",
    "plt.show()\n",
    "\n",
    "label_I = LabelInference(y_obs[mask_gt],1,type_inf = 'mv')\n",
    "mv_onehot = label_I.mv_labels('classes')\n",
    "print(\"ACC MV on train:\",np.mean(mv_onehot==Z_data))\n",
    "\n",
    "mv_soft = majority_voting(label_I.y_obs_repeat,repeats=True,probas=True) \n",
    "aux = []\n",
    "for example in mv_soft:\n",
    "    aux.append(entropy(example)/np.log(K))\n",
    "print(\"Normalized entropy (0-1) of repeats annotations:\",np.mean(aux))\n",
    "\n",
    "\n",
    "predicted = np.clip(mv_soft, keras.backend.epsilon(), 1.)\n",
    "data_to_cluster = []\n",
    "for i in range(mv_soft.shape[0]):\n",
    "    for j in range(mv_soft.shape[1]):\n",
    "        ob = np.tile(keras.backend.epsilon(), mv_soft.shape[1])\n",
    "        ob[j] = 1\n",
    "        true = np.clip(predicted[i],keras.backend.epsilon(),1.)      \n",
    "        f_l = distance_function(true, ob)  #funcion de distancia o similaridad\n",
    "        data_to_cluster.append(f_l)  \n",
    "data_to_cluster = np.asarray(data_to_cluster)\n",
    "model = PCA(n_components=min(3,mv_soft.shape[0]) ) \n",
    "data_to_cluster = model.fit_transform(data_to_cluster)\n",
    "\n",
    "std = StandardScaler(with_mean=True,with_std=True)\n",
    "data_to_plot = std.fit_transform(data_to_cluster)\n",
    "plt.scatter(data_to_plot[:,0],data_to_plot[:,1])\n",
    "plt.show()"
   ]
  },
  {
   "cell_type": "markdown",
   "metadata": {},
   "source": [
    "It does not look promesing that contain groups..."
   ]
  },
  {
   "cell_type": "markdown",
   "metadata": {},
   "source": [
    "### GalaxyZoo\n",
    "---\n",
    "to download images: https://astroquery.readthedocs.io/en/latest/sdss/sdss.html\n",
    "annot data: https://data.galaxyzoo.org/"
   ]
  },
  {
   "cell_type": "code",
   "execution_count": 4,
   "metadata": {},
   "outputs": [
    {
     "name": "stdout",
     "output_type": "stream",
     "text": [
      "(50000, 38)\n"
     ]
    },
    {
     "data": {
      "text/html": [
       "<div>\n",
       "<style scoped>\n",
       "    .dataframe tbody tr th:only-of-type {\n",
       "        vertical-align: middle;\n",
       "    }\n",
       "\n",
       "    .dataframe tbody tr th {\n",
       "        vertical-align: top;\n",
       "    }\n",
       "\n",
       "    .dataframe thead th {\n",
       "        text-align: right;\n",
       "    }\n",
       "</style>\n",
       "<table border=\"1\" class=\"dataframe\">\n",
       "  <thead>\n",
       "    <tr style=\"text-align: right;\">\n",
       "      <th></th>\n",
       "      <th>GalaxyID</th>\n",
       "      <th>Answer1.1</th>\n",
       "      <th>Answer1.2</th>\n",
       "      <th>Answer1.3</th>\n",
       "      <th>Answer2.1</th>\n",
       "      <th>Answer2.2</th>\n",
       "      <th>Answer3.1</th>\n",
       "      <th>Answer3.2</th>\n",
       "      <th>Answer4.1</th>\n",
       "      <th>Answer4.2</th>\n",
       "      <th>...</th>\n",
       "      <th>Answer9.3</th>\n",
       "      <th>Answer10.1</th>\n",
       "      <th>Answer10.2</th>\n",
       "      <th>Answer10.3</th>\n",
       "      <th>Answer11.1</th>\n",
       "      <th>Answer11.2</th>\n",
       "      <th>Answer11.3</th>\n",
       "      <th>Answer11.4</th>\n",
       "      <th>Answer11.5</th>\n",
       "      <th>Answer11.6</th>\n",
       "    </tr>\n",
       "  </thead>\n",
       "  <tbody>\n",
       "    <tr>\n",
       "      <th>0</th>\n",
       "      <td>569297</td>\n",
       "      <td>0.083065</td>\n",
       "      <td>0.916935</td>\n",
       "      <td>0.000000</td>\n",
       "      <td>0.023551</td>\n",
       "      <td>0.893384</td>\n",
       "      <td>0.107109</td>\n",
       "      <td>0.786276</td>\n",
       "      <td>0.714189</td>\n",
       "      <td>0.179195</td>\n",
       "      <td>...</td>\n",
       "      <td>0.000000</td>\n",
       "      <td>0.459257</td>\n",
       "      <td>0.254932</td>\n",
       "      <td>0.000000</td>\n",
       "      <td>0.000000</td>\n",
       "      <td>0.504446</td>\n",
       "      <td>0.000000</td>\n",
       "      <td>0.0</td>\n",
       "      <td>0.0</td>\n",
       "      <td>0.209744</td>\n",
       "    </tr>\n",
       "    <tr>\n",
       "      <th>1</th>\n",
       "      <td>701332</td>\n",
       "      <td>0.275109</td>\n",
       "      <td>0.713127</td>\n",
       "      <td>0.011765</td>\n",
       "      <td>0.633523</td>\n",
       "      <td>0.079604</td>\n",
       "      <td>0.079604</td>\n",
       "      <td>0.000000</td>\n",
       "      <td>0.000000</td>\n",
       "      <td>0.079604</td>\n",
       "      <td>...</td>\n",
       "      <td>0.499005</td>\n",
       "      <td>0.000000</td>\n",
       "      <td>0.000000</td>\n",
       "      <td>0.000000</td>\n",
       "      <td>0.000000</td>\n",
       "      <td>0.000000</td>\n",
       "      <td>0.000000</td>\n",
       "      <td>0.0</td>\n",
       "      <td>0.0</td>\n",
       "      <td>0.000000</td>\n",
       "    </tr>\n",
       "    <tr>\n",
       "      <th>2</th>\n",
       "      <td>908039</td>\n",
       "      <td>0.411643</td>\n",
       "      <td>0.587223</td>\n",
       "      <td>0.001134</td>\n",
       "      <td>0.234878</td>\n",
       "      <td>0.352345</td>\n",
       "      <td>0.000000</td>\n",
       "      <td>0.352345</td>\n",
       "      <td>0.205471</td>\n",
       "      <td>0.146874</td>\n",
       "      <td>...</td>\n",
       "      <td>0.026647</td>\n",
       "      <td>0.205471</td>\n",
       "      <td>0.000000</td>\n",
       "      <td>0.000000</td>\n",
       "      <td>0.000000</td>\n",
       "      <td>0.000000</td>\n",
       "      <td>0.000000</td>\n",
       "      <td>0.0</td>\n",
       "      <td>0.0</td>\n",
       "      <td>0.205471</td>\n",
       "    </tr>\n",
       "    <tr>\n",
       "      <th>3</th>\n",
       "      <td>401459</td>\n",
       "      <td>0.013316</td>\n",
       "      <td>0.986684</td>\n",
       "      <td>0.000000</td>\n",
       "      <td>0.000000</td>\n",
       "      <td>0.986684</td>\n",
       "      <td>0.753419</td>\n",
       "      <td>0.233265</td>\n",
       "      <td>0.986684</td>\n",
       "      <td>0.000000</td>\n",
       "      <td>...</td>\n",
       "      <td>0.000000</td>\n",
       "      <td>0.350273</td>\n",
       "      <td>0.381847</td>\n",
       "      <td>0.254564</td>\n",
       "      <td>0.191225</td>\n",
       "      <td>0.508621</td>\n",
       "      <td>0.095613</td>\n",
       "      <td>0.0</td>\n",
       "      <td>0.0</td>\n",
       "      <td>0.191225</td>\n",
       "    </tr>\n",
       "    <tr>\n",
       "      <th>4</th>\n",
       "      <td>607293</td>\n",
       "      <td>0.829407</td>\n",
       "      <td>0.128859</td>\n",
       "      <td>0.041733</td>\n",
       "      <td>0.021519</td>\n",
       "      <td>0.107340</td>\n",
       "      <td>0.000000</td>\n",
       "      <td>0.107340</td>\n",
       "      <td>0.000000</td>\n",
       "      <td>0.107340</td>\n",
       "      <td>...</td>\n",
       "      <td>0.000000</td>\n",
       "      <td>0.000000</td>\n",
       "      <td>0.000000</td>\n",
       "      <td>0.000000</td>\n",
       "      <td>0.000000</td>\n",
       "      <td>0.000000</td>\n",
       "      <td>0.000000</td>\n",
       "      <td>0.0</td>\n",
       "      <td>0.0</td>\n",
       "      <td>0.000000</td>\n",
       "    </tr>\n",
       "  </tbody>\n",
       "</table>\n",
       "<p>5 rows × 38 columns</p>\n",
       "</div>"
      ],
      "text/plain": [
       "   GalaxyID  Answer1.1  Answer1.2  Answer1.3  Answer2.1  Answer2.2  Answer3.1  \\\n",
       "0    569297   0.083065   0.916935   0.000000   0.023551   0.893384   0.107109   \n",
       "1    701332   0.275109   0.713127   0.011765   0.633523   0.079604   0.079604   \n",
       "2    908039   0.411643   0.587223   0.001134   0.234878   0.352345   0.000000   \n",
       "3    401459   0.013316   0.986684   0.000000   0.000000   0.986684   0.753419   \n",
       "4    607293   0.829407   0.128859   0.041733   0.021519   0.107340   0.000000   \n",
       "\n",
       "   Answer3.2  Answer4.1  Answer4.2     ...      Answer9.3  Answer10.1  \\\n",
       "0   0.786276   0.714189   0.179195     ...       0.000000    0.459257   \n",
       "1   0.000000   0.000000   0.079604     ...       0.499005    0.000000   \n",
       "2   0.352345   0.205471   0.146874     ...       0.026647    0.205471   \n",
       "3   0.233265   0.986684   0.000000     ...       0.000000    0.350273   \n",
       "4   0.107340   0.000000   0.107340     ...       0.000000    0.000000   \n",
       "\n",
       "   Answer10.2  Answer10.3  Answer11.1  Answer11.2  Answer11.3  Answer11.4  \\\n",
       "0    0.254932    0.000000    0.000000    0.504446    0.000000         0.0   \n",
       "1    0.000000    0.000000    0.000000    0.000000    0.000000         0.0   \n",
       "2    0.000000    0.000000    0.000000    0.000000    0.000000         0.0   \n",
       "3    0.381847    0.254564    0.191225    0.508621    0.095613         0.0   \n",
       "4    0.000000    0.000000    0.000000    0.000000    0.000000         0.0   \n",
       "\n",
       "   Answer11.5  Answer11.6  \n",
       "0         0.0    0.209744  \n",
       "1         0.0    0.000000  \n",
       "2         0.0    0.205471  \n",
       "3         0.0    0.191225  \n",
       "4         0.0    0.000000  \n",
       "\n",
       "[5 rows x 38 columns]"
      ]
     },
     "execution_count": 4,
     "metadata": {},
     "output_type": "execute_result"
    }
   ],
   "source": [
    "folder =\"../GalaxyZoo_kaggle/\"\n",
    "train_labels = pd.read_csv(folder+\"train_labels.csv\")\n",
    "test_labels = pd.read_csv(folder+\"test_labels.csv\")\n",
    "print(train_labels.shape)\n",
    "train_labels.head()"
   ]
  },
  {
   "cell_type": "code",
   "execution_count": 6,
   "metadata": {},
   "outputs": [
    {
     "data": {
      "image/png": "[encoded data removed]",
      "text/plain": [
       "<Figure size 1152x360 with 1 Axes>"
      ]
     },
     "metadata": {},
     "output_type": "display_data"
    }
   ],
   "source": [
    "labels = [\"Smooth-round\",\"Smooth-inbetween\",\"Smooth-Cigarshaped\",\"Disk-edge\",\"Disk-normal\",\"Star-or-Artifact\"]\n",
    "\n",
    "columns = [\"Answer7.1\",\"Answer7.2\",\"Answer7.3\",\"Answer2.1\",\"Answer2.2\",\"Answer1.3\"]\n",
    "y_train = train_labels.loc[:,columns].values\n",
    "y_test = test_labels.loc[:,columns].values\n",
    "\n",
    "plt.figure(figsize=(16,5))\n",
    "plt.bar(np.arange(y_train.shape[1]),np.mean(y_train,axis=0), yerr=np.std(y_train,axis=0),alpha=0.5,capsize=10)\n",
    "plt.xticks(np.arange(y_train.shape[1]),labels)\n",
    "plt.show()"
   ]
  },
  {
   "cell_type": "code",
   "execution_count": 11,
   "metadata": {},
   "outputs": [
    {
     "data": {
      "image/png": "[encoded data removed]",
      "text/plain": [
       "<Figure size 1152x360 with 1 Axes>"
      ]
     },
     "metadata": {},
     "output_type": "display_data"
    }
   ],
   "source": [
    "#granulada\n",
    "labels = [\"Smooth-round\",\"Smooth-inbetween\",\"Smooth-Cigarshaped\",\"Disk-edge\",\"Disk-spiral\",\"Disk-normal\",\"Star-or-Artifact\"]\n",
    "\n",
    "columns = [\"Answer7.1\",\"Answer7.2\",\"Answer7.3\",\"Answer2.1\",\"Answer4.1\",\"Answer4.2\",\"Answer1.3\"]\n",
    "y_train = train_labels.loc[:,columns].values\n",
    "y_test = test_labels.loc[:,columns].values\n",
    "\n",
    "plt.figure(figsize=(16,5))\n",
    "plt.bar(np.arange(y_train.shape[1]),np.mean(y_train,axis=0), yerr=np.std(y_train,axis=0),alpha=0.5,capsize=10)\n",
    "plt.xticks(np.arange(y_train.shape[1]),labels)\n",
    "plt.show()"
   ]
  },
  {
   "cell_type": "code",
   "execution_count": 13,
   "metadata": {},
   "outputs": [
    {
     "data": {
      "image/png": "[encoded data removed]",
      "text/plain": [
       "<Figure size 1152x360 with 1 Axes>"
      ]
     },
     "metadata": {},
     "output_type": "display_data"
    }
   ],
   "source": [
    "#mas granulada\n",
    "labels = [\"Smooth\\nround\",\"Smooth\\nbetween\",\"Smooth\\nCigarshaped\",\"Disk\\nedge\",\"Disk\\nspiral\\ntight\",\"Disk\\nspiral\\nmedium\",\"Disk\\nspiral\\nloose\",\"Disk\\nnormal\",\"Star-or-Artifact\"]\n",
    "\n",
    "columns = [\"Answer7.1\",\"Answer7.2\",\"Answer7.3\",\"Answer2.1\",\"Answer10.1\",\"Answer10.2\",\"Answer10.3\",\"Answer4.2\",\"Answer1.3\"]\n",
    "y_train = train_labels.loc[:,columns].values\n",
    "y_test = test_labels.loc[:,columns].values\n",
    "\n",
    "plt.figure(figsize=(16,5))\n",
    "plt.bar(np.arange(y_train.shape[1]),np.mean(y_train,axis=0), yerr=np.std(y_train,axis=0),alpha=0.5,capsize=10)\n",
    "plt.xticks(np.arange(y_train.shape[1]),labels)\n",
    "plt.show()"
   ]
  },
  {
   "cell_type": "code",
   "execution_count": 58,
   "metadata": {},
   "outputs": [
    {
     "name": "stdout",
     "output_type": "stream",
     "text": [
      "(225268, 11)\n",
      "T_data= 38.74157891933164\n",
      "max(T_data)= 93\n",
      "min(T_data)= 7\n"
     ]
    },
    {
     "data": {
      "text/html": [
       "<div>\n",
       "<style scoped>\n",
       "    .dataframe tbody tr th:only-of-type {\n",
       "        vertical-align: middle;\n",
       "    }\n",
       "\n",
       "    .dataframe tbody tr th {\n",
       "        vertical-align: top;\n",
       "    }\n",
       "\n",
       "    .dataframe thead th {\n",
       "        text-align: right;\n",
       "    }\n",
       "</style>\n",
       "<table border=\"1\" class=\"dataframe\">\n",
       "  <thead>\n",
       "    <tr style=\"text-align: right;\">\n",
       "      <th></th>\n",
       "      <th>OBJID</th>\n",
       "      <th>RA</th>\n",
       "      <th>DEC</th>\n",
       "      <th>NVOTE</th>\n",
       "      <th>P_EL</th>\n",
       "      <th>P_CW</th>\n",
       "      <th>P_ACW</th>\n",
       "      <th>P_EDGE</th>\n",
       "      <th>P_DK</th>\n",
       "      <th>P_MG</th>\n",
       "      <th>P_CS</th>\n",
       "    </tr>\n",
       "  </thead>\n",
       "  <tbody>\n",
       "    <tr>\n",
       "      <th>0</th>\n",
       "      <td>587730774425665700</td>\n",
       "      <td>00:00:01.28</td>\n",
       "      <td>+15:04:40.8</td>\n",
       "      <td>73</td>\n",
       "      <td>0.479</td>\n",
       "      <td>0.000</td>\n",
       "      <td>0.000</td>\n",
       "      <td>0.014</td>\n",
       "      <td>0.479</td>\n",
       "      <td>0.027</td>\n",
       "      <td>0.014</td>\n",
       "    </tr>\n",
       "    <tr>\n",
       "      <th>1</th>\n",
       "      <td>587727220876640877</td>\n",
       "      <td>00:00:01.86</td>\n",
       "      <td>+14:01:28.2</td>\n",
       "      <td>29</td>\n",
       "      <td>0.655</td>\n",
       "      <td>0.000</td>\n",
       "      <td>0.000</td>\n",
       "      <td>0.000</td>\n",
       "      <td>0.345</td>\n",
       "      <td>0.000</td>\n",
       "      <td>0.000</td>\n",
       "    </tr>\n",
       "    <tr>\n",
       "      <th>2</th>\n",
       "      <td>587727180060098742</td>\n",
       "      <td>00:00:02.15</td>\n",
       "      <td>-09:31:37.0</td>\n",
       "      <td>30</td>\n",
       "      <td>0.467</td>\n",
       "      <td>0.000</td>\n",
       "      <td>0.033</td>\n",
       "      <td>0.000</td>\n",
       "      <td>0.467</td>\n",
       "      <td>0.033</td>\n",
       "      <td>0.033</td>\n",
       "    </tr>\n",
       "    <tr>\n",
       "      <th>3</th>\n",
       "      <td>588015509806252142</td>\n",
       "      <td>00:00:02.28</td>\n",
       "      <td>+00:37:39.2</td>\n",
       "      <td>29</td>\n",
       "      <td>0.655</td>\n",
       "      <td>0.034</td>\n",
       "      <td>0.034</td>\n",
       "      <td>0.103</td>\n",
       "      <td>0.172</td>\n",
       "      <td>0.000</td>\n",
       "      <td>0.172</td>\n",
       "    </tr>\n",
       "    <tr>\n",
       "      <th>4</th>\n",
       "      <td>587731187277627683</td>\n",
       "      <td>00:00:02.96</td>\n",
       "      <td>+00:43:04.8</td>\n",
       "      <td>24</td>\n",
       "      <td>0.583</td>\n",
       "      <td>0.000</td>\n",
       "      <td>0.083</td>\n",
       "      <td>0.167</td>\n",
       "      <td>0.125</td>\n",
       "      <td>0.042</td>\n",
       "      <td>0.250</td>\n",
       "    </tr>\n",
       "  </tbody>\n",
       "</table>\n",
       "</div>"
      ],
      "text/plain": [
       "                OBJID           RA          DEC  NVOTE   P_EL   P_CW  P_ACW  \\\n",
       "0  587730774425665700  00:00:01.28  +15:04:40.8     73  0.479  0.000  0.000   \n",
       "1  587727220876640877  00:00:01.86  +14:01:28.2     29  0.655  0.000  0.000   \n",
       "2  587727180060098742  00:00:02.15  -09:31:37.0     30  0.467  0.000  0.033   \n",
       "3  588015509806252142  00:00:02.28  +00:37:39.2     29  0.655  0.034  0.034   \n",
       "4  587731187277627683  00:00:02.96  +00:43:04.8     24  0.583  0.000  0.083   \n",
       "\n",
       "   P_EDGE   P_DK   P_MG   P_CS  \n",
       "0   0.014  0.479  0.027  0.014  \n",
       "1   0.000  0.345  0.000  0.000  \n",
       "2   0.000  0.467  0.033  0.033  \n",
       "3   0.103  0.172  0.000  0.172  \n",
       "4   0.167  0.125  0.042  0.250  "
      ]
     },
     "execution_count": 58,
     "metadata": {},
     "output_type": "execute_result"
    }
   ],
   "source": [
    "aux = pd.read_csv(folder+\"/GalaxyZoo1_DR_table3.csv.gz\")\n",
    "print(aux.shape)\n",
    "print(\"T_data=\",np.mean(aux[\"NVOTE\"]))\n",
    "print(\"max(T_data)=\",np.max(aux[\"NVOTE\"]))\n",
    "print(\"min(T_data)=\",np.min(aux[\"NVOTE\"]))\n",
    "aux.head()"
   ]
  },
  {
   "cell_type": "code",
   "execution_count": 59,
   "metadata": {},
   "outputs": [
    {
     "name": "stdout",
     "output_type": "stream",
     "text": [
      "repeats shape:  (50000, 9)\n",
      "Classes:  9\n"
     ]
    }
   ],
   "source": [
    "#T is aprox 100 000\n",
    "T_data = 39\n",
    "r_obs = y_train*T_data  #assuming 39 annotations by data -- maybe sampling..\n",
    "r_obs = np.round(r_obs).astype('int')\n",
    "\n",
    "K = r_obs.shape[1]\n",
    "N = r_obs.shape[0]\n",
    "\n",
    "print(\"repeats shape: \",r_obs.shape)\n",
    "print(\"Classes: \",K)"
   ]
  },
  {
   "cell_type": "code",
   "execution_count": 60,
   "metadata": {},
   "outputs": [
    {
     "data": {
      "image/png": "[encoded data removed]",
      "text/plain": [
       "<Figure size 432x288 with 1 Axes>"
      ]
     },
     "metadata": {},
     "output_type": "display_data"
    },
    {
     "name": "stdout",
     "output_type": "stream",
     "text": [
      "Minimum annotations in a example:  36\n",
      "Maximum annotations in a example:  42\n",
      "T data (expected value):  38.98852\n"
     ]
    }
   ],
   "source": [
    "#graphics and distribution? what is T_data\n",
    "N_ann = np.sum(r_obs,axis=1) #distribucion de anotaciones con este valor\n",
    "\n",
    "sns.countplot(N_ann)\n",
    "plt.show()\n",
    "print(\"Minimum annotations in a example: \",N_ann.min())\n",
    "print(\"Maximum annotations in a example: \",N_ann.max())\n",
    "print(\"T data (expected value): \",N_ann.mean())"
   ]
  },
  {
   "cell_type": "code",
   "execution_count": 61,
   "metadata": {},
   "outputs": [
    {
     "name": "stdout",
     "output_type": "stream",
     "text": [
      "Normalized entropy (0-1) of repeats annotations: 0.5286125459892007\n"
     ]
    },
    {
     "data": {
      "image/png": "[encoded data removed]",
      "text/plain": [
       "<Figure size 432x288 with 1 Axes>"
      ]
     },
     "metadata": {},
     "output_type": "display_data"
    }
   ],
   "source": [
    "mv_soft = majority_voting(r_obs,repeats=True,probas=True) \n",
    "aux = []\n",
    "for example in mv_soft:\n",
    "    aux.append(entropy(example)/np.log(K))\n",
    "print(\"Normalized entropy (0-1) of repeats annotations:\",np.mean(aux))\n",
    "\n",
    "predicted = np.clip(mv_soft, keras.backend.epsilon(), 1.)\n",
    "data_to_cluster = []\n",
    "for i in range(mv_soft.shape[0]):\n",
    "    for j in range(mv_soft.shape[1]):\n",
    "        ob = np.tile(keras.backend.epsilon(), mv_soft.shape[1])\n",
    "        ob[j] = 1\n",
    "        true = np.clip(predicted[i],keras.backend.epsilon(),1.)      \n",
    "        f_l = distance_function(true, ob)  #funcion de distancia o similaridad\n",
    "        data_to_cluster.append(f_l)  \n",
    "data_to_cluster = np.asarray(data_to_cluster)\n",
    "model = PCA(n_components=min(3,mv_soft.shape[0]) ) \n",
    "data_to_cluster = model.fit_transform(data_to_cluster)\n",
    "\n",
    "std = StandardScaler(with_mean=True,with_std=True)\n",
    "data_to_plot = std.fit_transform(data_to_cluster)\n",
    "plt.scatter(data_to_plot[:,0],data_to_plot[:,1])\n",
    "plt.show()"
   ]
  },
  {
   "cell_type": "markdown",
   "metadata": {},
   "source": [
    "due to the density of annotations there is a chance that there are groups presented or maybe discovered.."
   ]
  },
  {
   "cell_type": "code",
   "execution_count": null,
   "metadata": {},
   "outputs": [],
   "source": []
  },
  {
   "cell_type": "code",
   "execution_count": null,
   "metadata": {},
   "outputs": [],
   "source": []
  },
  {
   "cell_type": "code",
   "execution_count": null,
   "metadata": {},
   "outputs": [],
   "source": [
    "print(\"Loading AMT data...\")\n",
    "y_obs = np.loadtxt(folder+\"answers.txt\",dtype='int16') #not annotation symbol ==-1\n",
    "T_weights = np.sum(y_obs != -1,axis=0) #distribucion de anotaciones\n",
    "\n",
    "print(\"Remove %d annotators that do not annotate on this set \"%(np.sum(T_weights==0)))\n",
    "y_obs = y_obs[:,T_weights!=0]\n",
    "T_weights = np.sum(y_obs != -1,axis=0) #distribucion de anotaciones\n",
    "\n",
    "N,T = y_obs.shape\n",
    "K = np.max(y_obs)+1 # asumiendo que estan ordenadas\n",
    "print(\"Shape (data,annotators): \",(N,T))\n",
    "print(\"Classes: \",K)"
   ]
  },
  {
   "cell_type": "code",
   "execution_count": null,
   "metadata": {},
   "outputs": [],
   "source": []
  }
 ],
 "metadata": {
  "kernelspec": {
   "display_name": "Python [conda env:py3]",
   "language": "python",
   "name": "conda-env-py3-py"
  },
  "language_info": {
   "codemirror_mode": {
    "name": "ipython",
    "version": 3
   },
   "file_extension": ".py",
   "mimetype": "text/x-python",
   "name": "python",
   "nbconvert_exporter": "python",
   "pygments_lexer": "ipython3",
   "version": "3.5.5"
  }
 },
 "nbformat": 4,
 "nbformat_minor": 2
}
