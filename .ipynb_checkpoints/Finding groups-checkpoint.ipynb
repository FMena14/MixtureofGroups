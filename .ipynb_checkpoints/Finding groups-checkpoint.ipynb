{
 "cells": [
  {
   "cell_type": "code",
   "execution_count": 1,
   "metadata": {},
   "outputs": [
    {
     "name": "stderr",
     "output_type": "stream",
     "text": [
      "Using TensorFlow backend.\n"
     ]
    }
   ],
   "source": [
    "import numpy as np\n",
    "import pandas as pd\n",
    "import matplotlib.pyplot as plt\n",
    "import seaborn as sns\n",
    "import keras, time, sys, os, gc\n",
    "\n",
    "DTYPE_OP = 'float32'\n",
    "keras.backend.set_floatx(DTYPE_OP)\n",
    "\n",
    "if DTYPE_OP == 'float64':\n",
    "    keras.backend.set_epsilon(np.finfo(np.float64).eps)\n",
    "elif DTYPE_OP == 'float32':\n",
    "    keras.backend.set_epsilon(np.finfo(np.float32).eps)\n",
    "    \n",
    "\n",
    "from sklearn.preprocessing import StandardScaler\n",
    "from code.MixtureofGroups import project_and_cluster,clusterize_annotators\n",
    "from code.MixtureofGroups import *\n",
    "\n",
    "from code.baseline import LabelInference\n",
    "from code.representation import *\n",
    "from code.utils import *"
   ]
  },
  {
   "cell_type": "markdown",
   "metadata": {},
   "source": [
    "### CIFAR-10 Test set"
   ]
  },
  {
   "cell_type": "code",
   "execution_count": 2,
   "metadata": {},
   "outputs": [
    {
     "name": "stdout",
     "output_type": "stream",
     "text": [
      "Input shape: (10000, 32, 32, 3)\n"
     ]
    }
   ],
   "source": [
    "from keras.datasets import cifar10\n",
    "(_, _), (X_test, Z_test) = cifar10.load_data()\n",
    "Z_test = Z_test[:,0]\n",
    "N = X_test.shape[0]\n",
    "print(\"Input shape:\",X_test.shape)"
   ]
  },
  {
   "cell_type": "code",
   "execution_count": 7,
   "metadata": {
    "collapsed": true
   },
   "outputs": [],
   "source": [
    "folder = \"../New_CIFAR_test/\""
   ]
  },
  {
   "cell_type": "code",
   "execution_count": 8,
   "metadata": {
    "scrolled": true
   },
   "outputs": [
    {
     "name": "stdout",
     "output_type": "stream",
     "text": [
      "shape: (10000, 60, 10)\n"
     ]
    }
   ],
   "source": [
    "from scipy.io import loadmat\n",
    "#aux = loadmat(folder+\"CIFAR10_EasySubset.mat\")\n",
    "aux = loadmat(folder+\"CIFAR10_HumanRecogData.mat\")\n",
    "aux = aux[\"expData\"][0][0][0]\n",
    "T = 60 #60 annotations\n",
    "y_obs = np.ones((N,T),dtype='int16')*-1\n",
    "for annotation in aux:\n",
    "    ann_id = annotation[0]-1\n",
    "    cifar_indx = annotation[1]-1\n",
    "    ann = annotation[2]-1\n",
    "    y_obs[cifar_indx,ann_id] = ann\n",
    "\n",
    "T_weights = np.sum(y_obs != -1,axis=0) #distribucion de anotaciones\n",
    "\n",
    "K = np.max(y_obs)+1 # asumiendo que estan ordenadas\n",
    "\n",
    "y_obs_categorical = set_representation(y_obs,'onehot') #for raykar\n",
    "print(\"shape:\",y_obs_categorical.shape)"
   ]
  },
  {
   "cell_type": "markdown",
   "metadata": {},
   "source": [
    "Every data has 6 annotations, every annotator annotate 1000 data, T_weights = 1000, T_weights norm = 1/T"
   ]
  },
  {
   "cell_type": "code",
   "execution_count": 5,
   "metadata": {
    "scrolled": false
   },
   "outputs": [
    {
     "name": "stdout",
     "output_type": "stream",
     "text": [
      "Bayesian gaussian mixture say is 5 clusters \n",
      "DBSCAN say is 5 clusters\n",
      "Affinity Propagation say is 3 clusters\n"
     ]
    },
    {
     "data": {
      "image/png": "[encoded data removed]",
      "text/plain": [
       "<Figure size 432x288 with 1 Axes>"
      ]
     },
     "metadata": {},
     "output_type": "display_data"
    },
    {
     "name": "stdout",
     "output_type": "stream",
     "text": [
      "ACC MV on train: 0.9757\n",
      "Normalized entropy (0-1) of repeats annotations: 0.05247443779676492\n"
     ]
    },
    {
     "data": {
      "image/png": "[encoded data removed]",
      "text/plain": [
       "<Figure size 432x288 with 1 Axes>"
      ]
     },
     "metadata": {},
     "output_type": "display_data"
    }
   ],
   "source": [
    "annotators_pca = project_and_cluster(y_obs_categorical,DTYPE_OP=DTYPE_OP,mode_project='pca')[0]\n",
    "std = StandardScaler(with_mean=True,with_std=True)\n",
    "annotators_pca2 = std.fit_transform(annotators_pca)\n",
    "plt.scatter(annotators_pca2[:,0],annotators_pca2[:,1])\n",
    "plt.show()\n",
    "\n",
    "label_I = LabelInference(y_obs,1,type_inf = 'mv')\n",
    "mv_onehot = label_I.mv_labels('classes')\n",
    "print(\"ACC MV on train:\",np.mean(mv_onehot==Z_test))\n",
    "\n",
    "mv_soft = majority_voting(label_I.y_obs_repeat,repeats=True,probas=True) \n",
    "aux = []\n",
    "for example in mv_soft:\n",
    "    aux.append(entropy(example)/np.log(K))\n",
    "print(\"Normalized entropy (0-1) of repeats annotations:\",np.mean(aux))\n",
    "\n",
    "predicted = np.clip(mv_soft, keras.backend.epsilon(), 1.)\n",
    "data_to_cluster = []\n",
    "for i in range(mv_soft.shape[0]):\n",
    "    for j in range(mv_soft.shape[1]):\n",
    "        ob = np.tile(keras.backend.epsilon(), mv_soft.shape[1])\n",
    "        ob[j] = 1\n",
    "        true = np.clip(predicted[i],keras.backend.epsilon(),1.)      \n",
    "        f_l = distance_function(true, ob)  #funcion de distancia o similaridad\n",
    "        data_to_cluster.append(f_l)  \n",
    "data_to_cluster = np.asarray(data_to_cluster)\n",
    "model = PCA(n_components=min(3,mv_soft.shape[0]) ) \n",
    "data_to_cluster = model.fit_transform(data_to_cluster)\n",
    "\n",
    "std = StandardScaler(with_mean=True,with_std=True)\n",
    "data_to_plot = std.fit_transform(data_to_cluster)\n",
    "plt.scatter(data_to_plot[:,0],data_to_plot[:,1])\n",
    "plt.show()"
   ]
  },
  {
   "cell_type": "markdown",
   "metadata": {},
   "source": [
    "It look like there is a presence of groups..."
   ]
  },
  {
   "cell_type": "markdown",
   "metadata": {},
   "source": [
    "### Fashion 10000\n",
    "---\n",
    "Q6: formal?"
   ]
  },
  {
   "cell_type": "code",
   "execution_count": 11,
   "metadata": {
    "collapsed": true
   },
   "outputs": [],
   "source": [
    "folder = \"./Fashion/\" #\"../Fashion10000/Annotations\""
   ]
  },
  {
   "cell_type": "code",
   "execution_count": 38,
   "metadata": {
    "scrolled": true
   },
   "outputs": [
    {
     "data": {
      "text/html": [
       "<div>\n",
       "<style scoped>\n",
       "    .dataframe tbody tr th:only-of-type {\n",
       "        vertical-align: middle;\n",
       "    }\n",
       "\n",
       "    .dataframe tbody tr th {\n",
       "        vertical-align: top;\n",
       "    }\n",
       "\n",
       "    .dataframe thead th {\n",
       "        text-align: right;\n",
       "    }\n",
       "</style>\n",
       "<table border=\"1\" class=\"dataframe\">\n",
       "  <thead>\n",
       "    <tr style=\"text-align: right;\">\n",
       "      <th></th>\n",
       "      <th>HITId</th>\n",
       "      <th>HITTypeId</th>\n",
       "      <th>Title</th>\n",
       "      <th>Description</th>\n",
       "      <th>Keywords</th>\n",
       "      <th>Reward</th>\n",
       "      <th>CreationTime</th>\n",
       "      <th>MaxAssignments</th>\n",
       "      <th>RequesterAnnotation</th>\n",
       "      <th>AssignmentDurationInSeconds</th>\n",
       "      <th>...</th>\n",
       "      <th>Answer.specialty3</th>\n",
       "      <th>Answer.specialty4</th>\n",
       "      <th>Answer.type1</th>\n",
       "      <th>Answer.type2</th>\n",
       "      <th>Answer.type3</th>\n",
       "      <th>Answer.type4</th>\n",
       "      <th>PHOTO_ID1</th>\n",
       "      <th>PHOTO_ID2</th>\n",
       "      <th>PHOTO_ID3</th>\n",
       "      <th>PHOTO_ID4</th>\n",
       "    </tr>\n",
       "  </thead>\n",
       "  <tbody>\n",
       "    <tr>\n",
       "      <th>0</th>\n",
       "      <td>2BUF806UFBNFSU6QHDU9BSW83V41F0</td>\n",
       "      <td>2QKNDWIOV1S7SMT9PEL19YDZ81JIXX</td>\n",
       "      <td>Check images of clothing items and fashion acc...</td>\n",
       "      <td>In this HIT we show you 4 images and we want t...</td>\n",
       "      <td>fashion, image annotation, clothing, image, ta...</td>\n",
       "      <td>$0.09</td>\n",
       "      <td>Tue Jun 25 17:00:45 GMT 2013</td>\n",
       "      <td>3</td>\n",
       "      <td>BatchId:1189029;</td>\n",
       "      <td>900</td>\n",
       "      <td>...</td>\n",
       "      <td>No</td>\n",
       "      <td>No</td>\n",
       "      <td>notapp</td>\n",
       "      <td>notapp</td>\n",
       "      <td>yes</td>\n",
       "      <td>yes</td>\n",
       "      <td>3147969538</td>\n",
       "      <td>3504068315</td>\n",
       "      <td>3533130703</td>\n",
       "      <td>3533131723</td>\n",
       "    </tr>\n",
       "    <tr>\n",
       "      <th>1</th>\n",
       "      <td>2BUF806UFBNFSU6QHDU9BSW83V41F0</td>\n",
       "      <td>2QKNDWIOV1S7SMT9PEL19YDZ81JIXX</td>\n",
       "      <td>Check images of clothing items and fashion acc...</td>\n",
       "      <td>In this HIT we show you 4 images and we want t...</td>\n",
       "      <td>fashion, image annotation, clothing, image, ta...</td>\n",
       "      <td>$0.09</td>\n",
       "      <td>Tue Jun 25 17:00:45 GMT 2013</td>\n",
       "      <td>3</td>\n",
       "      <td>BatchId:1189029;</td>\n",
       "      <td>900</td>\n",
       "      <td>...</td>\n",
       "      <td>No</td>\n",
       "      <td>No</td>\n",
       "      <td>notapp</td>\n",
       "      <td>notapp</td>\n",
       "      <td>no</td>\n",
       "      <td>no</td>\n",
       "      <td>3147969538</td>\n",
       "      <td>3504068315</td>\n",
       "      <td>3533130703</td>\n",
       "      <td>3533131723</td>\n",
       "    </tr>\n",
       "    <tr>\n",
       "      <th>2</th>\n",
       "      <td>2BUF806UFBNFSU6QHDU9BSW83V41F0</td>\n",
       "      <td>2QKNDWIOV1S7SMT9PEL19YDZ81JIXX</td>\n",
       "      <td>Check images of clothing items and fashion acc...</td>\n",
       "      <td>In this HIT we show you 4 images and we want t...</td>\n",
       "      <td>fashion, image annotation, clothing, image, ta...</td>\n",
       "      <td>$0.09</td>\n",
       "      <td>Tue Jun 25 17:00:45 GMT 2013</td>\n",
       "      <td>3</td>\n",
       "      <td>BatchId:1189029;</td>\n",
       "      <td>900</td>\n",
       "      <td>...</td>\n",
       "      <td>No</td>\n",
       "      <td>NotSure</td>\n",
       "      <td>noperson</td>\n",
       "      <td>noperson</td>\n",
       "      <td>notapp</td>\n",
       "      <td>notapp</td>\n",
       "      <td>3147969538</td>\n",
       "      <td>3504068315</td>\n",
       "      <td>3533130703</td>\n",
       "      <td>3533131723</td>\n",
       "    </tr>\n",
       "    <tr>\n",
       "      <th>3</th>\n",
       "      <td>2I3Y58B727M0IF5GDBS64FSXVJZAVM</td>\n",
       "      <td>2QKNDWIOV1S7SMT9PEL19YDZ81JIXX</td>\n",
       "      <td>Check images of clothing items and fashion acc...</td>\n",
       "      <td>In this HIT we show you 4 images and we want t...</td>\n",
       "      <td>fashion, image annotation, clothing, image, ta...</td>\n",
       "      <td>$0.09</td>\n",
       "      <td>Tue Jun 25 17:00:45 GMT 2013</td>\n",
       "      <td>3</td>\n",
       "      <td>BatchId:1189029;</td>\n",
       "      <td>900</td>\n",
       "      <td>...</td>\n",
       "      <td>No</td>\n",
       "      <td>No</td>\n",
       "      <td>noperson</td>\n",
       "      <td>noperson</td>\n",
       "      <td>no</td>\n",
       "      <td>noperson</td>\n",
       "      <td>5805025859</td>\n",
       "      <td>5829762711</td>\n",
       "      <td>6115511126</td>\n",
       "      <td>6308843053</td>\n",
       "    </tr>\n",
       "    <tr>\n",
       "      <th>4</th>\n",
       "      <td>2I3Y58B727M0IF5GDBS64FSXVJZAVM</td>\n",
       "      <td>2QKNDWIOV1S7SMT9PEL19YDZ81JIXX</td>\n",
       "      <td>Check images of clothing items and fashion acc...</td>\n",
       "      <td>In this HIT we show you 4 images and we want t...</td>\n",
       "      <td>fashion, image annotation, clothing, image, ta...</td>\n",
       "      <td>$0.09</td>\n",
       "      <td>Tue Jun 25 17:00:45 GMT 2013</td>\n",
       "      <td>3</td>\n",
       "      <td>BatchId:1189029;</td>\n",
       "      <td>900</td>\n",
       "      <td>...</td>\n",
       "      <td>No</td>\n",
       "      <td>No</td>\n",
       "      <td>noperson</td>\n",
       "      <td>noperson</td>\n",
       "      <td>yes</td>\n",
       "      <td>noperson</td>\n",
       "      <td>5805025859</td>\n",
       "      <td>5829762711</td>\n",
       "      <td>6115511126</td>\n",
       "      <td>6308843053</td>\n",
       "    </tr>\n",
       "  </tbody>\n",
       "</table>\n",
       "<p>5 rows × 68 columns</p>\n",
       "</div>"
      ],
      "text/plain": [
       "                            HITId                       HITTypeId  \\\n",
       "0  2BUF806UFBNFSU6QHDU9BSW83V41F0  2QKNDWIOV1S7SMT9PEL19YDZ81JIXX   \n",
       "1  2BUF806UFBNFSU6QHDU9BSW83V41F0  2QKNDWIOV1S7SMT9PEL19YDZ81JIXX   \n",
       "2  2BUF806UFBNFSU6QHDU9BSW83V41F0  2QKNDWIOV1S7SMT9PEL19YDZ81JIXX   \n",
       "3  2I3Y58B727M0IF5GDBS64FSXVJZAVM  2QKNDWIOV1S7SMT9PEL19YDZ81JIXX   \n",
       "4  2I3Y58B727M0IF5GDBS64FSXVJZAVM  2QKNDWIOV1S7SMT9PEL19YDZ81JIXX   \n",
       "\n",
       "                                               Title  \\\n",
       "0  Check images of clothing items and fashion acc...   \n",
       "1  Check images of clothing items and fashion acc...   \n",
       "2  Check images of clothing items and fashion acc...   \n",
       "3  Check images of clothing items and fashion acc...   \n",
       "4  Check images of clothing items and fashion acc...   \n",
       "\n",
       "                                         Description  \\\n",
       "0  In this HIT we show you 4 images and we want t...   \n",
       "1  In this HIT we show you 4 images and we want t...   \n",
       "2  In this HIT we show you 4 images and we want t...   \n",
       "3  In this HIT we show you 4 images and we want t...   \n",
       "4  In this HIT we show you 4 images and we want t...   \n",
       "\n",
       "                                            Keywords Reward  \\\n",
       "0  fashion, image annotation, clothing, image, ta...  $0.09   \n",
       "1  fashion, image annotation, clothing, image, ta...  $0.09   \n",
       "2  fashion, image annotation, clothing, image, ta...  $0.09   \n",
       "3  fashion, image annotation, clothing, image, ta...  $0.09   \n",
       "4  fashion, image annotation, clothing, image, ta...  $0.09   \n",
       "\n",
       "                   CreationTime  MaxAssignments RequesterAnnotation  \\\n",
       "0  Tue Jun 25 17:00:45 GMT 2013               3    BatchId:1189029;   \n",
       "1  Tue Jun 25 17:00:45 GMT 2013               3    BatchId:1189029;   \n",
       "2  Tue Jun 25 17:00:45 GMT 2013               3    BatchId:1189029;   \n",
       "3  Tue Jun 25 17:00:45 GMT 2013               3    BatchId:1189029;   \n",
       "4  Tue Jun 25 17:00:45 GMT 2013               3    BatchId:1189029;   \n",
       "\n",
       "   AssignmentDurationInSeconds     ...      Answer.specialty3  \\\n",
       "0                          900     ...                     No   \n",
       "1                          900     ...                     No   \n",
       "2                          900     ...                     No   \n",
       "3                          900     ...                     No   \n",
       "4                          900     ...                     No   \n",
       "\n",
       "  Answer.specialty4  Answer.type1  Answer.type2 Answer.type3  Answer.type4  \\\n",
       "0                No        notapp        notapp          yes           yes   \n",
       "1                No        notapp        notapp           no            no   \n",
       "2           NotSure      noperson      noperson       notapp        notapp   \n",
       "3                No      noperson      noperson           no      noperson   \n",
       "4                No      noperson      noperson          yes      noperson   \n",
       "\n",
       "    PHOTO_ID1   PHOTO_ID2   PHOTO_ID3   PHOTO_ID4  \n",
       "0  3147969538  3504068315  3533130703  3533131723  \n",
       "1  3147969538  3504068315  3533130703  3533131723  \n",
       "2  3147969538  3504068315  3533130703  3533131723  \n",
       "3  5805025859  5829762711  6115511126  6308843053  \n",
       "4  5805025859  5829762711  6115511126  6308843053  \n",
       "\n",
       "[5 rows x 68 columns]"
      ]
     },
     "execution_count": 38,
     "metadata": {},
     "output_type": "execute_result"
    }
   ],
   "source": [
    "df_ann = pd.read_csv(folder+\"MTurk_NonExperts_Results.csv\")\n",
    "for i in range(1,5): #add photo id to extract image\n",
    "    new_column = []\n",
    "    for pic_url in df_ann[\"Input.Url\"+str(i)].values:\n",
    "        process = pic_url.split(\"/\")[-1].split(\"_\")[0] #extraer el id...\n",
    "        new_column.append(int(process))\n",
    "    df_ann[\"PHOTO_ID\"+str(i)] = new_column\n",
    "df_ann.head()"
   ]
  },
  {
   "cell_type": "code",
   "execution_count": 74,
   "metadata": {},
   "outputs": [
    {
     "data": {
      "text/plain": [
       "{nan: -1, 'notapp': 0, 'yes': 2, 'noperson': 1, 'no': 3}"
      ]
     },
     "execution_count": 74,
     "metadata": {},
     "output_type": "execute_result"
    }
   ],
   "source": [
    "#photos ids distintas\n",
    "photo_ids = {}\n",
    "for i in range(1,5):\n",
    "    for value in df_ann[\"PHOTO_ID\"+str(i)].values:\n",
    "        if value in photo_ids:\n",
    "            photo_ids[value] +=1\n",
    "        else:\n",
    "            photo_ids[value] = 1 #counts\n",
    "\n",
    "idx_ann =  {value:i for i,value in enumerate(df_ann[\"WorkerIndex\"].unique())}\n",
    "num_data = {value:i for i,value in enumerate(list(photo_ids.keys())) }\n",
    "\n",
    "N = len(num_data)\n",
    "T = len(idx_ann)\n",
    "\n",
    "#which answer take\n",
    "aux = df_ann[\"Answer.type1\"].unique()\n",
    "label_names = aux[~pd.isna(aux)]\n",
    "classes = {value.lower():i for i,value in enumerate(label_names)}\n",
    "classes[np.nan] = -1\n",
    "classes"
   ]
  },
  {
   "cell_type": "code",
   "execution_count": 75,
   "metadata": {},
   "outputs": [
    {
     "name": "stdout",
     "output_type": "stream",
     "text": [
      "Data with GT:  (27105,)\n"
     ]
    },
    {
     "data": {
      "text/plain": [
       "<matplotlib.axes._subplots.AxesSubplot at 0x7f6e60261a90>"
      ]
     },
     "execution_count": 75,
     "metadata": {},
     "output_type": "execute_result"
    }
   ],
   "source": [
    "#probabbly ground truth\n",
    "df = pd.read_csv(folder+\"Annotation_PerImage_All.csv\") \n",
    "new_column = []\n",
    "for dato in df.values:\n",
    "    pic_url = dato[0] #picture url\n",
    "    process = pic_url.split(\"/\")[-1].split(\"_\")[0] #extraer el id...\n",
    "    new_column.append(int(process))\n",
    "df[\"PHOTO_ID\"] = new_column\n",
    "\n",
    "Z_data = np.ones((N,),dtype='int16')*-1\n",
    "for i in range(df.shape[0]):\n",
    "    row = df.iloc[i]\n",
    "    #Majority Q6 is formal\n",
    "    if classes[row[\"Majority Q4\"]]!=-1: #only data that majority is reached\n",
    "        Z_data[num_data[row[\"PHOTO_ID\"]]] = classes[row[\"Majority Q4\"]]\n",
    "\n",
    "mask_gt = Z_data != -1\n",
    "Z_data = Z_data[mask_gt] #data with gt\n",
    "print(\"Data with GT: \",Z_data.shape)\n",
    "sns.countplot(Z_data)"
   ]
  },
  {
   "cell_type": "code",
   "execution_count": 76,
   "metadata": {
    "scrolled": true
   },
   "outputs": [
    {
     "name": "stdout",
     "output_type": "stream",
     "text": [
      "Remove 17 annotators that do not annotate on this set \n",
      "shape: (31077, 1453, 4)\n"
     ]
    }
   ],
   "source": [
    "y_obs = np.ones((N,T),dtype='int16')*-1\n",
    "for i in range(df_ann.shape[0]):\n",
    "    row = df_ann.iloc[i]\n",
    "    ann_id = idx_ann[row[\"WorkerIndex\"]]\n",
    "    for j in range(1,4+1):\n",
    "        fashion_indx = num_data[row[\"PHOTO_ID\"+str(j)]]\n",
    "        ann = classes[row[\"Answer.type\"+str(j)]] #which we are using?\n",
    "        y_obs[fashion_indx,ann_id] = ann\n",
    "        \n",
    "T_weights = np.sum(y_obs != -1,axis=0) #distribucion de anotaciones\n",
    "\n",
    "print(\"Remove %d annotators that do not annotate on this set \"%(np.sum(T_weights==0)))\n",
    "y_obs = y_obs[:,T_weights!=0]\n",
    "T_weights = np.sum(y_obs != -1,axis=0) #distribucion de anotaciones\n",
    "\n",
    "K = np.max(y_obs)+1 # asumiendo que estan ordenadas\n",
    "\n",
    "y_obs_categorical = set_representation(y_obs,'onehot') #for raykar\n",
    "print(\"shape:\",y_obs_categorical.shape)"
   ]
  },
  {
   "cell_type": "code",
   "execution_count": 42,
   "metadata": {
    "scrolled": true
   },
   "outputs": [
    {
     "data": {
      "image/png": "[encoded data removed]",
      "text/plain": [
       "<matplotlib.figure.Figure at 0x7f6e643b85c0>"
      ]
     },
     "metadata": {},
     "output_type": "display_data"
    },
    {
     "name": "stdout",
     "output_type": "stream",
     "text": [
      "Minimum annotations in a example:  1\n",
      "Maximum annotations in a example:  11\n",
      "T data (expected value):  3.0731409080670593\n",
      "Graphics of T weights\n"
     ]
    },
    {
     "data": {
      "image/png": "[encoded data removed]",
      "text/plain": [
       "<matplotlib.figure.Figure at 0x7f6e61f32518>"
      ]
     },
     "metadata": {},
     "output_type": "display_data"
    },
    {
     "data": {
      "image/png": "[encoded data removed]",
      "text/plain": [
       "<matplotlib.figure.Figure at 0x7f6e623e36d8>"
      ]
     },
     "metadata": {},
     "output_type": "display_data"
    },
    {
     "name": "stdout",
     "output_type": "stream",
     "text": [
      "Minimum annotations by an annotator:  1\n",
      "Maximum annotations by an annotator:  1792\n"
     ]
    }
   ],
   "source": [
    "#graphics and distribution? what is T_data\n",
    "N_ann = np.sum(y_obs != -1,axis=1) #distribucion de anotaciones con este valor\n",
    "\n",
    "sns.countplot(N_ann)\n",
    "plt.show()\n",
    "print(\"Minimum annotations in a example: \",N_ann.min())\n",
    "print(\"Maximum annotations in a example: \",N_ann.max())\n",
    "print(\"T data (expected value): \",N_ann.mean())\n",
    "\n",
    "print(\"Graphics of T weights\")\n",
    "plt.hist(T_weights)\n",
    "plt.show()\n",
    "\n",
    "plt.boxplot(T_weights)\n",
    "plt.show()\n",
    "print(\"Minimum annotations by an annotator: \",T_weights.min())\n",
    "print(\"Maximum annotations by an annotator: \",T_weights.max())"
   ]
  },
  {
   "cell_type": "code",
   "execution_count": 78,
   "metadata": {
    "scrolled": true
   },
   "outputs": [
    {
     "name": "stdout",
     "output_type": "stream",
     "text": [
      "Bayesian gaussian mixture say is 12 clusters \n",
      "DBSCAN say is 2 clusters\n",
      "Affinity Propagation say is 1 clusters\n"
     ]
    },
    {
     "data": {
      "image/png": "[encoded data removed]",
      "text/plain": [
       "<matplotlib.figure.Figure at 0x7f6e65af2a90>"
      ]
     },
     "metadata": {},
     "output_type": "display_data"
    },
    {
     "name": "stdout",
     "output_type": "stream",
     "text": [
      "ACC MV on train: 0.9935067330750784\n",
      "Normalized entropy (0-1) of repeats annotations: 0.29974212070152384\n"
     ]
    },
    {
     "data": {
      "image/png": "[encoded data removed]",
      "text/plain": [
       "<matplotlib.figure.Figure at 0x7f6e65a7d240>"
      ]
     },
     "metadata": {},
     "output_type": "display_data"
    }
   ],
   "source": [
    "annotators_pca = project_and_cluster(y_obs_categorical,DTYPE_OP=DTYPE_OP,mode_project='pca')[0]\n",
    "std = StandardScaler(with_mean=True,with_std=True)\n",
    "annotators_pca2 = std.fit_transform(annotators_pca)\n",
    "plt.scatter(annotators_pca2[:,0],annotators_pca2[:,1])\n",
    "plt.show()\n",
    "\n",
    "label_I = LabelInference(y_obs[mask_gt],1,type_inf = 'mv')\n",
    "mv_onehot = label_I.mv_labels('classes')\n",
    "print(\"ACC MV on train:\",np.mean(mv_onehot==Z_data))\n",
    "\n",
    "mv_soft = majority_voting(label_I.y_obs_repeat,repeats=True,probas=True) \n",
    "aux = []\n",
    "for example in mv_soft:\n",
    "    aux.append(entropy(example)/np.log(K))\n",
    "print(\"Normalized entropy (0-1) of repeats annotations:\",np.mean(aux))\n",
    "\n",
    "\n",
    "predicted = np.clip(mv_soft, keras.backend.epsilon(), 1.)\n",
    "data_to_cluster = []\n",
    "for i in range(mv_soft.shape[0]):\n",
    "    for j in range(mv_soft.shape[1]):\n",
    "        ob = np.tile(keras.backend.epsilon(), mv_soft.shape[1])\n",
    "        ob[j] = 1\n",
    "        true = np.clip(predicted[i],keras.backend.epsilon(),1.)      \n",
    "        f_l = distance_function(true, ob)  #funcion de distancia o similaridad\n",
    "        data_to_cluster.append(f_l)  \n",
    "data_to_cluster = np.asarray(data_to_cluster)\n",
    "model = PCA(n_components=min(3,mv_soft.shape[0]) ) \n",
    "data_to_cluster = model.fit_transform(data_to_cluster)\n",
    "\n",
    "std = StandardScaler(with_mean=True,with_std=True)\n",
    "data_to_plot = std.fit_transform(data_to_cluster)\n",
    "plt.scatter(data_to_plot[:,0],data_to_plot[:,1])\n",
    "plt.show()"
   ]
  },
  {
   "cell_type": "markdown",
   "metadata": {},
   "source": [
    "It does not look promesing that contain groups..."
   ]
  },
  {
   "cell_type": "markdown",
   "metadata": {},
   "source": [
    "### GalaxyZoo\n",
    "---\n",
    "to download images: https://astroquery.readthedocs.io/en/latest/sdss/sdss.html\n",
    "annot data: https://data.galaxyzoo.org/"
   ]
  },
  {
   "cell_type": "code",
   "execution_count": 4,
   "metadata": {},
   "outputs": [
    {
     "name": "stdout",
     "output_type": "stream",
     "text": [
      "(50000, 38)\n"
     ]
    },
    {
     "data": {
      "text/html": [
       "<div>\n",
       "<style scoped>\n",
       "    .dataframe tbody tr th:only-of-type {\n",
       "        vertical-align: middle;\n",
       "    }\n",
       "\n",
       "    .dataframe tbody tr th {\n",
       "        vertical-align: top;\n",
       "    }\n",
       "\n",
       "    .dataframe thead th {\n",
       "        text-align: right;\n",
       "    }\n",
       "</style>\n",
       "<table border=\"1\" class=\"dataframe\">\n",
       "  <thead>\n",
       "    <tr style=\"text-align: right;\">\n",
       "      <th></th>\n",
       "      <th>GalaxyID</th>\n",
       "      <th>Answer1.1</th>\n",
       "      <th>Answer1.2</th>\n",
       "      <th>Answer1.3</th>\n",
       "      <th>Answer2.1</th>\n",
       "      <th>Answer2.2</th>\n",
       "      <th>Answer3.1</th>\n",
       "      <th>Answer3.2</th>\n",
       "      <th>Answer4.1</th>\n",
       "      <th>Answer4.2</th>\n",
       "      <th>...</th>\n",
       "      <th>Answer9.3</th>\n",
       "      <th>Answer10.1</th>\n",
       "      <th>Answer10.2</th>\n",
       "      <th>Answer10.3</th>\n",
       "      <th>Answer11.1</th>\n",
       "      <th>Answer11.2</th>\n",
       "      <th>Answer11.3</th>\n",
       "      <th>Answer11.4</th>\n",
       "      <th>Answer11.5</th>\n",
       "      <th>Answer11.6</th>\n",
       "    </tr>\n",
       "  </thead>\n",
       "  <tbody>\n",
       "    <tr>\n",
       "      <th>0</th>\n",
       "      <td>569297</td>\n",
       "      <td>0.083065</td>\n",
       "      <td>0.916935</td>\n",
       "      <td>0.000000</td>\n",
       "      <td>0.023551</td>\n",
       "      <td>0.893384</td>\n",
       "      <td>0.107109</td>\n",
       "      <td>0.786276</td>\n",
       "      <td>0.714189</td>\n",
       "      <td>0.179195</td>\n",
       "      <td>...</td>\n",
       "      <td>0.000000</td>\n",
       "      <td>0.459257</td>\n",
       "      <td>0.254932</td>\n",
       "      <td>0.000000</td>\n",
       "      <td>0.000000</td>\n",
       "      <td>0.504446</td>\n",
       "      <td>0.000000</td>\n",
       "      <td>0.0</td>\n",
       "      <td>0.0</td>\n",
       "      <td>0.209744</td>\n",
       "    </tr>\n",
       "    <tr>\n",
       "      <th>1</th>\n",
       "      <td>701332</td>\n",
       "      <td>0.275109</td>\n",
       "      <td>0.713127</td>\n",
       "      <td>0.011765</td>\n",
       "      <td>0.633523</td>\n",
       "      <td>0.079604</td>\n",
       "      <td>0.079604</td>\n",
       "      <td>0.000000</td>\n",
       "      <td>0.000000</td>\n",
       "      <td>0.079604</td>\n",
       "      <td>...</td>\n",
       "      <td>0.499005</td>\n",
       "      <td>0.000000</td>\n",
       "      <td>0.000000</td>\n",
       "      <td>0.000000</td>\n",
       "      <td>0.000000</td>\n",
       "      <td>0.000000</td>\n",
       "      <td>0.000000</td>\n",
       "      <td>0.0</td>\n",
       "      <td>0.0</td>\n",
       "      <td>0.000000</td>\n",
       "    </tr>\n",
       "    <tr>\n",
       "      <th>2</th>\n",
       "      <td>908039</td>\n",
       "      <td>0.411643</td>\n",
       "      <td>0.587223</td>\n",
       "      <td>0.001134</td>\n",
       "      <td>0.234878</td>\n",
       "      <td>0.352345</td>\n",
       "      <td>0.000000</td>\n",
       "      <td>0.352345</td>\n",
       "      <td>0.205471</td>\n",
       "      <td>0.146874</td>\n",
       "      <td>...</td>\n",
       "      <td>0.026647</td>\n",
       "      <td>0.205471</td>\n",
       "      <td>0.000000</td>\n",
       "      <td>0.000000</td>\n",
       "      <td>0.000000</td>\n",
       "      <td>0.000000</td>\n",
       "      <td>0.000000</td>\n",
       "      <td>0.0</td>\n",
       "      <td>0.0</td>\n",
       "      <td>0.205471</td>\n",
       "    </tr>\n",
       "    <tr>\n",
       "      <th>3</th>\n",
       "      <td>401459</td>\n",
       "      <td>0.013316</td>\n",
       "      <td>0.986684</td>\n",
       "      <td>0.000000</td>\n",
       "      <td>0.000000</td>\n",
       "      <td>0.986684</td>\n",
       "      <td>0.753419</td>\n",
       "      <td>0.233265</td>\n",
       "      <td>0.986684</td>\n",
       "      <td>0.000000</td>\n",
       "      <td>...</td>\n",
       "      <td>0.000000</td>\n",
       "      <td>0.350273</td>\n",
       "      <td>0.381847</td>\n",
       "      <td>0.254564</td>\n",
       "      <td>0.191225</td>\n",
       "      <td>0.508621</td>\n",
       "      <td>0.095613</td>\n",
       "      <td>0.0</td>\n",
       "      <td>0.0</td>\n",
       "      <td>0.191225</td>\n",
       "    </tr>\n",
       "    <tr>\n",
       "      <th>4</th>\n",
       "      <td>607293</td>\n",
       "      <td>0.829407</td>\n",
       "      <td>0.128859</td>\n",
       "      <td>0.041733</td>\n",
       "      <td>0.021519</td>\n",
       "      <td>0.107340</td>\n",
       "      <td>0.000000</td>\n",
       "      <td>0.107340</td>\n",
       "      <td>0.000000</td>\n",
       "      <td>0.107340</td>\n",
       "      <td>...</td>\n",
       "      <td>0.000000</td>\n",
       "      <td>0.000000</td>\n",
       "      <td>0.000000</td>\n",
       "      <td>0.000000</td>\n",
       "      <td>0.000000</td>\n",
       "      <td>0.000000</td>\n",
       "      <td>0.000000</td>\n",
       "      <td>0.0</td>\n",
       "      <td>0.0</td>\n",
       "      <td>0.000000</td>\n",
       "    </tr>\n",
       "  </tbody>\n",
       "</table>\n",
       "<p>5 rows × 38 columns</p>\n",
       "</div>"
      ],
      "text/plain": [
       "   GalaxyID  Answer1.1  Answer1.2  Answer1.3  Answer2.1  Answer2.2  Answer3.1  \\\n",
       "0    569297   0.083065   0.916935   0.000000   0.023551   0.893384   0.107109   \n",
       "1    701332   0.275109   0.713127   0.011765   0.633523   0.079604   0.079604   \n",
       "2    908039   0.411643   0.587223   0.001134   0.234878   0.352345   0.000000   \n",
       "3    401459   0.013316   0.986684   0.000000   0.000000   0.986684   0.753419   \n",
       "4    607293   0.829407   0.128859   0.041733   0.021519   0.107340   0.000000   \n",
       "\n",
       "   Answer3.2  Answer4.1  Answer4.2     ...      Answer9.3  Answer10.1  \\\n",
       "0   0.786276   0.714189   0.179195     ...       0.000000    0.459257   \n",
       "1   0.000000   0.000000   0.079604     ...       0.499005    0.000000   \n",
       "2   0.352345   0.205471   0.146874     ...       0.026647    0.205471   \n",
       "3   0.233265   0.986684   0.000000     ...       0.000000    0.350273   \n",
       "4   0.107340   0.000000   0.107340     ...       0.000000    0.000000   \n",
       "\n",
       "   Answer10.2  Answer10.3  Answer11.1  Answer11.2  Answer11.3  Answer11.4  \\\n",
       "0    0.254932    0.000000    0.000000    0.504446    0.000000         0.0   \n",
       "1    0.000000    0.000000    0.000000    0.000000    0.000000         0.0   \n",
       "2    0.000000    0.000000    0.000000    0.000000    0.000000         0.0   \n",
       "3    0.381847    0.254564    0.191225    0.508621    0.095613         0.0   \n",
       "4    0.000000    0.000000    0.000000    0.000000    0.000000         0.0   \n",
       "\n",
       "   Answer11.5  Answer11.6  \n",
       "0         0.0    0.209744  \n",
       "1         0.0    0.000000  \n",
       "2         0.0    0.205471  \n",
       "3         0.0    0.191225  \n",
       "4         0.0    0.000000  \n",
       "\n",
       "[5 rows x 38 columns]"
      ]
     },
     "execution_count": 4,
     "metadata": {},
     "output_type": "execute_result"
    }
   ],
   "source": [
    "folder =\"../GalaxyZoo_kaggle/\"\n",
    "train_labels = pd.read_csv(folder+\"train_labels.csv\")\n",
    "test_labels = pd.read_csv(folder+\"test_labels.csv\")\n",
    "print(train_labels.shape)\n",
    "train_labels.head()"
   ]
  },
  {
   "cell_type": "code",
   "execution_count": 6,
   "metadata": {},
   "outputs": [
    {
     "data": {
      "image/png": "[encoded data removed]",
      "text/plain": [
       "<Figure size 1152x360 with 1 Axes>"
      ]
     },
     "metadata": {},
     "output_type": "display_data"
    }
   ],
   "source": [
    "labels = [\"Smooth-round\",\"Smooth-inbetween\",\"Smooth-Cigarshaped\",\"Disk-edge\",\"Disk-normal\",\"Star-or-Artifact\"]\n",
    "\n",
    "columns = [\"Answer7.1\",\"Answer7.2\",\"Answer7.3\",\"Answer2.1\",\"Answer2.2\",\"Answer1.3\"]\n",
    "y_train = train_labels.loc[:,columns].values\n",
    "y_test = test_labels.loc[:,columns].values\n",
    "\n",
    "plt.figure(figsize=(16,5))\n",
    "plt.bar(np.arange(y_train.shape[1]),np.mean(y_train,axis=0), yerr=np.std(y_train,axis=0),alpha=0.5,capsize=10)\n",
    "plt.xticks(np.arange(y_train.shape[1]),labels)\n",
    "plt.show()"
   ]
  },
  {
   "cell_type": "code",
   "execution_count": 11,
   "metadata": {},
   "outputs": [
    {
     "data": {
      "image/png": "[encoded data removed]",
      "text/plain": [
       "<Figure size 1152x360 with 1 Axes>"
      ]
     },
     "metadata": {},
     "output_type": "display_data"
    }
   ],
   "source": [
    "#granulada\n",
    "labels = [\"Smooth-round\",\"Smooth-inbetween\",\"Smooth-Cigarshaped\",\"Disk-edge\",\"Disk-spiral\",\"Disk-normal\",\"Star-or-Artifact\"]\n",
    "\n",
    "columns = [\"Answer7.1\",\"Answer7.2\",\"Answer7.3\",\"Answer2.1\",\"Answer4.1\",\"Answer4.2\",\"Answer1.3\"]\n",
    "y_train = train_labels.loc[:,columns].values\n",
    "y_test = test_labels.loc[:,columns].values\n",
    "\n",
    "plt.figure(figsize=(16,5))\n",
    "plt.bar(np.arange(y_train.shape[1]),np.mean(y_train,axis=0), yerr=np.std(y_train,axis=0),alpha=0.5,capsize=10)\n",
    "plt.xticks(np.arange(y_train.shape[1]),labels)\n",
    "plt.show()"
   ]
  },
  {
   "cell_type": "code",
   "execution_count": 13,
   "metadata": {},
   "outputs": [
    {
     "data": {
      "image/png": "[encoded data removed]",
      "text/plain": [
       "<Figure size 1152x360 with 1 Axes>"
      ]
     },
     "metadata": {},
     "output_type": "display_data"
    }
   ],
   "source": [
    "#mas granulada\n",
    "labels = [\"Smooth\\nround\",\"Smooth\\nbetween\",\"Smooth\\nCigarshaped\",\"Disk\\nedge\",\"Disk\\nspiral\\ntight\",\"Disk\\nspiral\\nmedium\",\"Disk\\nspiral\\nloose\",\"Disk\\nnormal\",\"Star-or-Artifact\"]\n",
    "\n",
    "columns = [\"Answer7.1\",\"Answer7.2\",\"Answer7.3\",\"Answer2.1\",\"Answer10.1\",\"Answer10.2\",\"Answer10.3\",\"Answer4.2\",\"Answer1.3\"]\n",
    "y_train = train_labels.loc[:,columns].values\n",
    "y_test = test_labels.loc[:,columns].values\n",
    "\n",
    "plt.figure(figsize=(16,5))\n",
    "plt.bar(np.arange(y_train.shape[1]),np.mean(y_train,axis=0), yerr=np.std(y_train,axis=0),alpha=0.5,capsize=10)\n",
    "plt.xticks(np.arange(y_train.shape[1]),labels)\n",
    "plt.show()"
   ]
  },
  {
   "cell_type": "code",
   "execution_count": 58,
   "metadata": {},
   "outputs": [
    {
     "name": "stdout",
     "output_type": "stream",
     "text": [
      "(225268, 11)\n",
      "T_data= 38.74157891933164\n",
      "max(T_data)= 93\n",
      "min(T_data)= 7\n"
     ]
    },
    {
     "data": {
      "text/html": [
       "<div>\n",
       "<style scoped>\n",
       "    .dataframe tbody tr th:only-of-type {\n",
       "        vertical-align: middle;\n",
       "    }\n",
       "\n",
       "    .dataframe tbody tr th {\n",
       "        vertical-align: top;\n",
       "    }\n",
       "\n",
       "    .dataframe thead th {\n",
       "        text-align: right;\n",
       "    }\n",
       "</style>\n",
       "<table border=\"1\" class=\"dataframe\">\n",
       "  <thead>\n",
       "    <tr style=\"text-align: right;\">\n",
       "      <th></th>\n",
       "      <th>OBJID</th>\n",
       "      <th>RA</th>\n",
       "      <th>DEC</th>\n",
       "      <th>NVOTE</th>\n",
       "      <th>P_EL</th>\n",
       "      <th>P_CW</th>\n",
       "      <th>P_ACW</th>\n",
       "      <th>P_EDGE</th>\n",
       "      <th>P_DK</th>\n",
       "      <th>P_MG</th>\n",
       "      <th>P_CS</th>\n",
       "    </tr>\n",
       "  </thead>\n",
       "  <tbody>\n",
       "    <tr>\n",
       "      <th>0</th>\n",
       "      <td>587730774425665700</td>\n",
       "      <td>00:00:01.28</td>\n",
       "      <td>+15:04:40.8</td>\n",
       "      <td>73</td>\n",
       "      <td>0.479</td>\n",
       "      <td>0.000</td>\n",
       "      <td>0.000</td>\n",
       "      <td>0.014</td>\n",
       "      <td>0.479</td>\n",
       "      <td>0.027</td>\n",
       "      <td>0.014</td>\n",
       "    </tr>\n",
       "    <tr>\n",
       "      <th>1</th>\n",
       "      <td>587727220876640877</td>\n",
       "      <td>00:00:01.86</td>\n",
       "      <td>+14:01:28.2</td>\n",
       "      <td>29</td>\n",
       "      <td>0.655</td>\n",
       "      <td>0.000</td>\n",
       "      <td>0.000</td>\n",
       "      <td>0.000</td>\n",
       "      <td>0.345</td>\n",
       "      <td>0.000</td>\n",
       "      <td>0.000</td>\n",
       "    </tr>\n",
       "    <tr>\n",
       "      <th>2</th>\n",
       "      <td>587727180060098742</td>\n",
       "      <td>00:00:02.15</td>\n",
       "      <td>-09:31:37.0</td>\n",
       "      <td>30</td>\n",
       "      <td>0.467</td>\n",
       "      <td>0.000</td>\n",
       "      <td>0.033</td>\n",
       "      <td>0.000</td>\n",
       "      <td>0.467</td>\n",
       "      <td>0.033</td>\n",
       "      <td>0.033</td>\n",
       "    </tr>\n",
       "    <tr>\n",
       "      <th>3</th>\n",
       "      <td>588015509806252142</td>\n",
       "      <td>00:00:02.28</td>\n",
       "      <td>+00:37:39.2</td>\n",
       "      <td>29</td>\n",
       "      <td>0.655</td>\n",
       "      <td>0.034</td>\n",
       "      <td>0.034</td>\n",
       "      <td>0.103</td>\n",
       "      <td>0.172</td>\n",
       "      <td>0.000</td>\n",
       "      <td>0.172</td>\n",
       "    </tr>\n",
       "    <tr>\n",
       "      <th>4</th>\n",
       "      <td>587731187277627683</td>\n",
       "      <td>00:00:02.96</td>\n",
       "      <td>+00:43:04.8</td>\n",
       "      <td>24</td>\n",
       "      <td>0.583</td>\n",
       "      <td>0.000</td>\n",
       "      <td>0.083</td>\n",
       "      <td>0.167</td>\n",
       "      <td>0.125</td>\n",
       "      <td>0.042</td>\n",
       "      <td>0.250</td>\n",
       "    </tr>\n",
       "  </tbody>\n",
       "</table>\n",
       "</div>"
      ],
      "text/plain": [
       "                OBJID           RA          DEC  NVOTE   P_EL   P_CW  P_ACW  \\\n",
       "0  587730774425665700  00:00:01.28  +15:04:40.8     73  0.479  0.000  0.000   \n",
       "1  587727220876640877  00:00:01.86  +14:01:28.2     29  0.655  0.000  0.000   \n",
       "2  587727180060098742  00:00:02.15  -09:31:37.0     30  0.467  0.000  0.033   \n",
       "3  588015509806252142  00:00:02.28  +00:37:39.2     29  0.655  0.034  0.034   \n",
       "4  587731187277627683  00:00:02.96  +00:43:04.8     24  0.583  0.000  0.083   \n",
       "\n",
       "   P_EDGE   P_DK   P_MG   P_CS  \n",
       "0   0.014  0.479  0.027  0.014  \n",
       "1   0.000  0.345  0.000  0.000  \n",
       "2   0.000  0.467  0.033  0.033  \n",
       "3   0.103  0.172  0.000  0.172  \n",
       "4   0.167  0.125  0.042  0.250  "
      ]
     },
     "execution_count": 58,
     "metadata": {},
     "output_type": "execute_result"
    }
   ],
   "source": [
    "aux = pd.read_csv(folder+\"/GalaxyZoo1_DR_table3.csv.gz\")\n",
    "print(aux.shape)\n",
    "print(\"T_data=\",np.mean(aux[\"NVOTE\"]))\n",
    "print(\"max(T_data)=\",np.max(aux[\"NVOTE\"]))\n",
    "print(\"min(T_data)=\",np.min(aux[\"NVOTE\"]))\n",
    "aux.head()"
   ]
  },
  {
   "cell_type": "code",
   "execution_count": 59,
   "metadata": {},
   "outputs": [
    {
     "name": "stdout",
     "output_type": "stream",
     "text": [
      "repeats shape:  (50000, 9)\n",
      "Classes:  9\n"
     ]
    }
   ],
   "source": [
    "#T is aprox 100 000\n",
    "T_data = 39\n",
    "r_obs = y_train*T_data  #assuming 39 annotations by data -- maybe sampling..\n",
    "r_obs = np.round(r_obs).astype('int')\n",
    "\n",
    "K = r_obs.shape[1]\n",
    "N = r_obs.shape[0]\n",
    "\n",
    "print(\"repeats shape: \",r_obs.shape)\n",
    "print(\"Classes: \",K)"
   ]
  },
  {
   "cell_type": "code",
   "execution_count": 60,
   "metadata": {},
   "outputs": [
    {
     "data": {
      "image/png": "[encoded data removed]",
      "text/plain": [
       "<Figure size 432x288 with 1 Axes>"
      ]
     },
     "metadata": {},
     "output_type": "display_data"
    },
    {
     "name": "stdout",
     "output_type": "stream",
     "text": [
      "Minimum annotations in a example:  36\n",
      "Maximum annotations in a example:  42\n",
      "T data (expected value):  38.98852\n"
     ]
    }
   ],
   "source": [
    "#graphics and distribution? what is T_data\n",
    "N_ann = np.sum(r_obs,axis=1) #distribucion de anotaciones con este valor\n",
    "\n",
    "sns.countplot(N_ann)\n",
    "plt.show()\n",
    "print(\"Minimum annotations in a example: \",N_ann.min())\n",
    "print(\"Maximum annotations in a example: \",N_ann.max())\n",
    "print(\"T data (expected value): \",N_ann.mean())"
   ]
  },
  {
   "cell_type": "code",
   "execution_count": 61,
   "metadata": {},
   "outputs": [
    {
     "name": "stdout",
     "output_type": "stream",
     "text": [
      "Normalized entropy (0-1) of repeats annotations: 0.5286125459892007\n"
     ]
    },
    {
     "data": {
      "image/png": "[encoded data removed]",
      "text/plain": [
       "<Figure size 432x288 with 1 Axes>"
      ]
     },
     "metadata": {},
     "output_type": "display_data"
    }
   ],
   "source": [
    "mv_soft = majority_voting(r_obs,repeats=True,probas=True) \n",
    "aux = []\n",
    "for example in mv_soft:\n",
    "    aux.append(entropy(example)/np.log(K))\n",
    "print(\"Normalized entropy (0-1) of repeats annotations:\",np.mean(aux))\n",
    "\n",
    "predicted = np.clip(mv_soft, keras.backend.epsilon(), 1.)\n",
    "data_to_cluster = []\n",
    "for i in range(mv_soft.shape[0]):\n",
    "    for j in range(mv_soft.shape[1]):\n",
    "        ob = np.tile(keras.backend.epsilon(), mv_soft.shape[1])\n",
    "        ob[j] = 1\n",
    "        true = np.clip(predicted[i],keras.backend.epsilon(),1.)      \n",
    "        f_l = distance_function(true, ob)  #funcion de distancia o similaridad\n",
    "        data_to_cluster.append(f_l)  \n",
    "data_to_cluster = np.asarray(data_to_cluster)\n",
    "model = PCA(n_components=min(3,mv_soft.shape[0]) ) \n",
    "data_to_cluster = model.fit_transform(data_to_cluster)\n",
    "\n",
    "std = StandardScaler(with_mean=True,with_std=True)\n",
    "data_to_plot = std.fit_transform(data_to_cluster)\n",
    "plt.scatter(data_to_plot[:,0],data_to_plot[:,1])\n",
    "plt.show()"
   ]
  },
  {
   "cell_type": "markdown",
   "metadata": {},
   "source": [
    "due to the density of annotations there is a chance that there are groups presented or maybe discovered.."
   ]
  },
  {
   "cell_type": "markdown",
   "metadata": {},
   "source": [
    "### NER MTurk\n",
    "---\n",
    "\n",
    "cómo representar \"X\""
   ]
  },
  {
   "cell_type": "code",
   "execution_count": 2,
   "metadata": {
    "scrolled": true
   },
   "outputs": [
    {
     "name": "stderr",
     "output_type": "stream",
     "text": [
      "/home/casapanshop/anaconda2/envs/py3/lib/python3.5/site-packages/IPython/core/interactiveshell.py:2785: DtypeWarning: Columns (170,171,172,182,187,188,189,190,191,194,195,197,199,201,203,205,206,207,209,210,211,212,214,215,216,217,218,219,220,221,222,224,225,227,229,230,233,235,236,237,239,240,242,244,245,246,247,248,249,250,251,252,253,254,255,256,257,258,259,261,262,263,264,265,266,268,269,270,271,272,273,274,275,276,277,278,279,280,281,282,283,284,285,286,287,288,289,290,291,292,293,295,296,297,298,299,300,301,302,303,304,305,306,307,308,309,310,311,312,313,314,315,316,317,318,319,320,321,322,323,324,325,326,327,328,329,330) have mixed types. Specify dtype option on import or set low_memory=False.\n",
      "  interactivity=interactivity, compiler=compiler, result=result)\n",
      "/home/casapanshop/anaconda2/envs/py3/lib/python3.5/site-packages/IPython/core/interactiveshell.py:2785: DtypeWarning: Columns (254,255,281,339,340,341,343,344,345,346,349,350,351,354,355,356,357,358) have mixed types. Specify dtype option on import or set low_memory=False.\n",
      "  interactivity=interactivity, compiler=compiler, result=result)\n"
     ]
    },
    {
     "name": "stdout",
     "output_type": "stream",
     "text": [
      "(6160, 364)\n",
      "Given a Twitter status message, select words that refer to people, places, and organizations.\n"
     ]
    },
    {
     "data": {
      "text/html": [
       "<div>\n",
       "<style scoped>\n",
       "    .dataframe tbody tr th:only-of-type {\n",
       "        vertical-align: middle;\n",
       "    }\n",
       "\n",
       "    .dataframe tbody tr th {\n",
       "        vertical-align: top;\n",
       "    }\n",
       "\n",
       "    .dataframe thead th {\n",
       "        text-align: right;\n",
       "    }\n",
       "</style>\n",
       "<table border=\"1\" class=\"dataframe\">\n",
       "  <thead>\n",
       "    <tr style=\"text-align: right;\">\n",
       "      <th></th>\n",
       "      <th>AcceptTime</th>\n",
       "      <th>Answer.TID1</th>\n",
       "      <th>Answer.TID2</th>\n",
       "      <th>Answer.TID3</th>\n",
       "      <th>Answer.TID4</th>\n",
       "      <th>Answer.TID5</th>\n",
       "      <th>Answer.browserInfo</th>\n",
       "      <th>Answer.city</th>\n",
       "      <th>Answer.country</th>\n",
       "      <th>Answer.ipAddress</th>\n",
       "      <th>...</th>\n",
       "      <th>NumberOfSimilarHITs</th>\n",
       "      <th>Reject</th>\n",
       "      <th>RejectionTime</th>\n",
       "      <th>RequesterAnnotation</th>\n",
       "      <th>RequesterFeedback</th>\n",
       "      <th>Reward</th>\n",
       "      <th>SubmitTime</th>\n",
       "      <th>Title</th>\n",
       "      <th>WorkTimeInSeconds</th>\n",
       "      <th>WorkerId</th>\n",
       "    </tr>\n",
       "  </thead>\n",
       "  <tbody>\n",
       "    <tr>\n",
       "      <th>0</th>\n",
       "      <td>Fri Mar 26 07:00:48 GMT 2010</td>\n",
       "      <td>115512</td>\n",
       "      <td>115647</td>\n",
       "      <td>117353</td>\n",
       "      <td>1386721</td>\n",
       "      <td>114959</td>\n",
       "      <td>Mozilla/5.0 (Windows; U; Windows NT 5.1; en-US...</td>\n",
       "      <td>Seattle</td>\n",
       "      <td>United States</td>\n",
       "      <td>NaN</td>\n",
       "      <td>...</td>\n",
       "      <td>133</td>\n",
       "      <td>NaN</td>\n",
       "      <td>NaN</td>\n",
       "      <td>NaN</td>\n",
       "      <td>NaN</td>\n",
       "      <td>$0.05</td>\n",
       "      <td>Fri Mar 26 07:01:04 GMT 2010</td>\n",
       "      <td>Label named entities in Twitter data</td>\n",
       "      <td>16</td>\n",
       "      <td>AL8CK436OAAS</td>\n",
       "    </tr>\n",
       "    <tr>\n",
       "      <th>1</th>\n",
       "      <td>Fri Mar 26 07:07:13 GMT 2010</td>\n",
       "      <td>115512</td>\n",
       "      <td>115647</td>\n",
       "      <td>117353</td>\n",
       "      <td>1386721</td>\n",
       "      <td>114959</td>\n",
       "      <td>Mozilla/5.0 (Windows; U; Windows NT 5.1; en-US...</td>\n",
       "      <td>Mesa</td>\n",
       "      <td>United States</td>\n",
       "      <td>NaN</td>\n",
       "      <td>...</td>\n",
       "      <td>133</td>\n",
       "      <td>NaN</td>\n",
       "      <td>NaN</td>\n",
       "      <td>NaN</td>\n",
       "      <td>NaN</td>\n",
       "      <td>$0.05</td>\n",
       "      <td>Fri Mar 26 07:07:32 GMT 2010</td>\n",
       "      <td>Label named entities in Twitter data</td>\n",
       "      <td>19</td>\n",
       "      <td>A2IUEI1BFHCVBR</td>\n",
       "    </tr>\n",
       "    <tr>\n",
       "      <th>2</th>\n",
       "      <td>Thu Mar 25 22:48:12 GMT 2010</td>\n",
       "      <td>953212</td>\n",
       "      <td>115683</td>\n",
       "      <td>114681</td>\n",
       "      <td>115457</td>\n",
       "      <td>115780</td>\n",
       "      <td>NaN</td>\n",
       "      <td>NaN</td>\n",
       "      <td>NaN</td>\n",
       "      <td>NaN</td>\n",
       "      <td>...</td>\n",
       "      <td>244</td>\n",
       "      <td>NaN</td>\n",
       "      <td>NaN</td>\n",
       "      <td>NaN</td>\n",
       "      <td>NaN</td>\n",
       "      <td>$0.05</td>\n",
       "      <td>Thu Mar 25 22:48:30 GMT 2010</td>\n",
       "      <td>Label named entities in Twitter data</td>\n",
       "      <td>18</td>\n",
       "      <td>AN81OMLNG792S</td>\n",
       "    </tr>\n",
       "    <tr>\n",
       "      <th>3</th>\n",
       "      <td>Fri Mar 26 02:04:23 GMT 2010</td>\n",
       "      <td>953212</td>\n",
       "      <td>115683</td>\n",
       "      <td>114681</td>\n",
       "      <td>115457</td>\n",
       "      <td>115780</td>\n",
       "      <td>Mozilla/5.0 (Windows; U; Windows NT 6.0; en-US...</td>\n",
       "      <td>Spokane</td>\n",
       "      <td>United States</td>\n",
       "      <td>NaN</td>\n",
       "      <td>...</td>\n",
       "      <td>244</td>\n",
       "      <td>NaN</td>\n",
       "      <td>NaN</td>\n",
       "      <td>NaN</td>\n",
       "      <td>NaN</td>\n",
       "      <td>$0.05</td>\n",
       "      <td>Fri Mar 26 02:05:34 GMT 2010</td>\n",
       "      <td>Label named entities in Twitter data</td>\n",
       "      <td>71</td>\n",
       "      <td>A9Y7WSKEUTLSG</td>\n",
       "    </tr>\n",
       "    <tr>\n",
       "      <th>4</th>\n",
       "      <td>Fri Mar 26 07:51:00 GMT 2010</td>\n",
       "      <td>116704</td>\n",
       "      <td>1299720</td>\n",
       "      <td>115461</td>\n",
       "      <td>114494</td>\n",
       "      <td>115261</td>\n",
       "      <td>Mozilla/5.0 (Windows; U; Windows NT 5.1; en-US...</td>\n",
       "      <td>Salem</td>\n",
       "      <td>India</td>\n",
       "      <td>NaN</td>\n",
       "      <td>...</td>\n",
       "      <td>11</td>\n",
       "      <td>NaN</td>\n",
       "      <td>NaN</td>\n",
       "      <td>NaN</td>\n",
       "      <td>NaN</td>\n",
       "      <td>$0.05</td>\n",
       "      <td>Fri Mar 26 07:51:57 GMT 2010</td>\n",
       "      <td>Label named entities in Twitter data</td>\n",
       "      <td>57</td>\n",
       "      <td>ARUUP1I9I765J</td>\n",
       "    </tr>\n",
       "  </tbody>\n",
       "</table>\n",
       "<p>5 rows × 364 columns</p>\n",
       "</div>"
      ],
      "text/plain": [
       "                     AcceptTime  Answer.TID1  Answer.TID2  Answer.TID3  \\\n",
       "0  Fri Mar 26 07:00:48 GMT 2010       115512       115647       117353   \n",
       "1  Fri Mar 26 07:07:13 GMT 2010       115512       115647       117353   \n",
       "2  Thu Mar 25 22:48:12 GMT 2010       953212       115683       114681   \n",
       "3  Fri Mar 26 02:04:23 GMT 2010       953212       115683       114681   \n",
       "4  Fri Mar 26 07:51:00 GMT 2010       116704      1299720       115461   \n",
       "\n",
       "   Answer.TID4  Answer.TID5  \\\n",
       "0      1386721       114959   \n",
       "1      1386721       114959   \n",
       "2       115457       115780   \n",
       "3       115457       115780   \n",
       "4       114494       115261   \n",
       "\n",
       "                                  Answer.browserInfo Answer.city  \\\n",
       "0  Mozilla/5.0 (Windows; U; Windows NT 5.1; en-US...     Seattle   \n",
       "1  Mozilla/5.0 (Windows; U; Windows NT 5.1; en-US...        Mesa   \n",
       "2                                                NaN         NaN   \n",
       "3  Mozilla/5.0 (Windows; U; Windows NT 6.0; en-US...     Spokane   \n",
       "4  Mozilla/5.0 (Windows; U; Windows NT 5.1; en-US...       Salem   \n",
       "\n",
       "  Answer.country  Answer.ipAddress       ...       NumberOfSimilarHITs Reject  \\\n",
       "0  United States               NaN       ...                       133    NaN   \n",
       "1  United States               NaN       ...                       133    NaN   \n",
       "2            NaN               NaN       ...                       244    NaN   \n",
       "3  United States               NaN       ...                       244    NaN   \n",
       "4          India               NaN       ...                        11    NaN   \n",
       "\n",
       "  RejectionTime RequesterAnnotation RequesterFeedback Reward  \\\n",
       "0           NaN                 NaN               NaN  $0.05   \n",
       "1           NaN                 NaN               NaN  $0.05   \n",
       "2           NaN                 NaN               NaN  $0.05   \n",
       "3           NaN                 NaN               NaN  $0.05   \n",
       "4           NaN                 NaN               NaN  $0.05   \n",
       "\n",
       "                     SubmitTime                                 Title  \\\n",
       "0  Fri Mar 26 07:01:04 GMT 2010  Label named entities in Twitter data   \n",
       "1  Fri Mar 26 07:07:32 GMT 2010  Label named entities in Twitter data   \n",
       "2  Thu Mar 25 22:48:30 GMT 2010  Label named entities in Twitter data   \n",
       "3  Fri Mar 26 02:05:34 GMT 2010  Label named entities in Twitter data   \n",
       "4  Fri Mar 26 07:51:57 GMT 2010  Label named entities in Twitter data   \n",
       "\n",
       "  WorkTimeInSeconds        WorkerId  \n",
       "0                16    AL8CK436OAAS  \n",
       "1                19  A2IUEI1BFHCVBR  \n",
       "2                18   AN81OMLNG792S  \n",
       "3                71   A9Y7WSKEUTLSG  \n",
       "4                57   ARUUP1I9I765J  \n",
       "\n",
       "[5 rows x 364 columns]"
      ]
     },
     "execution_count": 2,
     "metadata": {},
     "output_type": "execute_result"
    }
   ],
   "source": [
    "folder = \"../Probar/20_dataArchive/\"\n",
    "\n",
    "df1 = pd.read_csv(folder+\"/ner_mturk/mturk/Batch_213638_result.csv\") \n",
    "df2 = pd.read_csv(folder+\"/ner_mturk/mturk/Batch_229788_result.csv\") \n",
    "df3 = pd.read_csv(folder+\"/ner_mturk/mturk/Batch_230657_result.csv\") \n",
    "df = pd.concat([df1,df2,df3],axis=0,ignore_index=True)\n",
    "print(df.shape)\n",
    "print(df[\"Description\"][0])\n",
    "df.head()"
   ]
  },
  {
   "cell_type": "code",
   "execution_count": 3,
   "metadata": {},
   "outputs": [
    {
     "data": {
      "text/plain": [
       "array([[-1, -1, -1, ..., -1, -1, -1],\n",
       "       [-1, -1, -1, ..., -1, -1, -1],\n",
       "       [-1, -1, -1, ..., -1, -1, -1],\n",
       "       ...,\n",
       "       [-1, -1, -1, ..., -1, -1, -1],\n",
       "       [-1, -1, -1, ..., -1, -1, -1],\n",
       "       [-1, -1, -1, ..., -1, -1, -1]], dtype=int16)"
      ]
     },
     "execution_count": 3,
     "metadata": {},
     "output_type": "execute_result"
    }
   ],
   "source": [
    "worker2ind = {value:i for i,value in enumerate(df[\"WorkerId\"].unique())}\n",
    "T = len(list(worker2ind.values()))\n",
    "id_data = set(df[\"Answer.TID1\"]) | set(df[\"Answer.TID2\"]) | set(df[\"Answer.TID3\"]) | set(df[\"Answer.TID4\"]) | set(df[\"Answer.TID5\"])\n",
    "\n",
    "answers = np.ones((len(id_data),T),dtype='int16')*-1\n",
    "answers"
   ]
  },
  {
   "cell_type": "code",
   "execution_count": 4,
   "metadata": {},
   "outputs": [],
   "source": [
    "import ast "
   ]
  },
  {
   "cell_type": "code",
   "execution_count": 28,
   "metadata": {},
   "outputs": [
    {
     "data": {
      "text/plain": [
       "{'A108MS9X4JQ31C': 192,\n",
       " 'A10GFVUN24Q71V': 248,\n",
       " 'A11XA5JEXPZ0KU': 53,\n",
       " 'A122B7AN31VJLB': 103,\n",
       " 'A12CJNE0B9FLK8': 137,\n",
       " 'A12LJL2ESEI6Y5': 77,\n",
       " 'A131N3IB2F9DNJ': 95,\n",
       " 'A146V5EFMA15XB': 34,\n",
       " 'A14WWG6NKBDWGP': 166,\n",
       " 'A153QSGVGLWKR6': 218,\n",
       " 'A15Z06PIDEJT38': 59,\n",
       " 'A16C1JJWHEU02G': 239,\n",
       " 'A171JY5QWKQR8X': 102,\n",
       " 'A17QLPGYGPYSQI': 66,\n",
       " 'A17R8JHE5H8SYH': 114,\n",
       " 'A17V9UJOCSM3OF': 68,\n",
       " 'A18SOP2YLC0HZN': 193,\n",
       " 'A18WWWZ1HRBG0V': 84,\n",
       " 'A198YDDSSOBP8A': 238,\n",
       " 'A19I5GDQ2AL0HF': 18,\n",
       " 'A19MOSX3XM0PEY': 188,\n",
       " 'A19OOK4MQ6RKIP': 8,\n",
       " 'A19P6Q6PRNNJPZ': 127,\n",
       " 'A19X7JVVC3CZMZ': 31,\n",
       " 'A1A5QGCFNSF75G': 51,\n",
       " 'A1B4J1HUDTQ5J0': 52,\n",
       " 'A1B72GLF6DS21Y': 257,\n",
       " 'A1BLX6S1YBA7Y8': 219,\n",
       " 'A1BOPXWO3VOVZL': 148,\n",
       " 'A1BPG9BBLYPIAD': 23,\n",
       " 'A1CCJXYEMTU2RR': 185,\n",
       " 'A1D67BJW63N47G': 172,\n",
       " 'A1E61YLCV0PDFU': 235,\n",
       " 'A1F0WAU8ZNOJFT': 213,\n",
       " 'A1FAASLGTOMXO9': 241,\n",
       " 'A1FP00QXS43PZ': 126,\n",
       " 'A1FS5EXKNSINCF': 232,\n",
       " 'A1G4NBA96061F3': 94,\n",
       " 'A1GISOQV9E61KD': 43,\n",
       " 'A1GRZQJP0NUN3Y': 17,\n",
       " 'A1H0X3XRHYZ3XQ': 110,\n",
       " 'A1H35C0LXHFR1M': 64,\n",
       " 'A1H6SYVQANZCDL': 128,\n",
       " 'A1HD0BY6CLQ8XJ': 187,\n",
       " 'A1HGSRZBR1OGPO': 30,\n",
       " 'A1HX354SBZT65G': 233,\n",
       " 'A1HXUW2LBMWYL7': 113,\n",
       " 'A1JP58Y4XAT7EU': 251,\n",
       " 'A1K3MQFP29T8ZI': 48,\n",
       " 'A1KAXCLAH6UVMS': 190,\n",
       " 'A1KL1SWCKPYYEK': 100,\n",
       " 'A1LU5K5V9V95ZG': 162,\n",
       " 'A1O7D4WR9ELVLS': 173,\n",
       " 'A1OO9NQO76DQIZ': 54,\n",
       " 'A1P33NYD7K2I78': 247,\n",
       " 'A1PCRHSCVYEN5': 250,\n",
       " 'A1QA1D7PTG1VUP': 149,\n",
       " 'A1R0THXBSR7CZ7': 28,\n",
       " 'A1R1QOVLF51Q4I': 267,\n",
       " 'A1RWNYJA5X25YH': 179,\n",
       " 'A1S4DL4Y8SAV0G': 62,\n",
       " 'A1SGAPRSZ4P8FZ': 125,\n",
       " 'A1SICSF8KVZI3L': 152,\n",
       " 'A1SOXBLOUV42YZ': 16,\n",
       " 'A1TF729Y38Y0WH': 87,\n",
       " 'A1TIQOAQKX1TD8': 10,\n",
       " 'A1TKGFJSMVR2RP': 150,\n",
       " 'A1TQKL3GKWKHLK': 164,\n",
       " 'A1V8DI10QPV8DK': 83,\n",
       " 'A1W2BT5XVPH4FI': 154,\n",
       " 'A1W46ZZMEAMULQ': 180,\n",
       " 'A1XEHBYEJT87N2': 206,\n",
       " 'A1XH9D9A4NHG4': 182,\n",
       " 'A1XKTWEC64LYFR': 265,\n",
       " 'A1YDJSU5I2R9EC': 124,\n",
       " 'A1YFIFU9O9GM74': 69,\n",
       " 'A1Z8NRDUBTO7F6': 119,\n",
       " 'A1ZA4F438SWNS1': 24,\n",
       " 'A2024CXWJN0VS3': 146,\n",
       " 'A20KAHLTJPNEEE': 158,\n",
       " 'A213EV7LF1DS2M': 71,\n",
       " 'A21G31QPD13YQM': 29,\n",
       " 'A21J5NHYM0HERM': 60,\n",
       " 'A222YK8RKX41FB': 242,\n",
       " 'A22CRWMZUX7FFR': 99,\n",
       " 'A22K30ERCQ7Y6V': 178,\n",
       " 'A233KU4GZUH2GE': 263,\n",
       " 'A2431HHTOIVGND': 262,\n",
       " 'A253Q11TZPQPIZ': 201,\n",
       " 'A25H6GCMT4T6R9': 139,\n",
       " 'A25Q8PI0O76EIO': 157,\n",
       " 'A25UMSG5I4A82E': 226,\n",
       " 'A263O7S1SCL5CD': 96,\n",
       " 'A269ZARYP4M5DF': 198,\n",
       " 'A26EE9NHYMLBZT': 191,\n",
       " 'A26O3NYNJKF9AB': 9,\n",
       " 'A26RB79GS3954X': 244,\n",
       " 'A26V4XEW7F98P5': 11,\n",
       " 'A270XOQ5N8SIHW': 25,\n",
       " 'A283NW6KTHH7DH': 165,\n",
       " 'A28998X63ZIJQ8': 143,\n",
       " 'A28DJG2VL0UWCX': 222,\n",
       " 'A28JRW1XS04BUF': 104,\n",
       " 'A28L19UYY327KI': 216,\n",
       " 'A292XAC6N9E32Q': 61,\n",
       " 'A2A8IAVVIBBOV1': 196,\n",
       " 'A2B7ZM74TEBLKP': 223,\n",
       " 'A2BDNLNWNA5DW6': 134,\n",
       " 'A2DJHZAX61Y6LX': 12,\n",
       " 'A2DP6J1WFW73XM': 202,\n",
       " 'A2DUY0BZQQZS5B': 44,\n",
       " 'A2E6QLLJKLWFU4': 140,\n",
       " 'A2F1244AF424WA': 205,\n",
       " 'A2HFD44TQ0LVKJ': 97,\n",
       " 'A2I216ZHLJRVDI': 207,\n",
       " 'A2I3FW8XHDEZK6': 90,\n",
       " 'A2IPQT3VOZG7CH': 266,\n",
       " 'A2IUEI1BFHCVBR': 1,\n",
       " 'A2IWJ4484DU5R3': 21,\n",
       " 'A2JPXAF2MC24F7': 227,\n",
       " 'A2K4OQPRVS5I3X': 138,\n",
       " 'A2KDCBG2V9ERXM': 221,\n",
       " 'A2KOOS1DL0C1M2': 108,\n",
       " 'A2KTFDOQMFZV52': 231,\n",
       " 'A2KVU61CZSG9GT': 98,\n",
       " 'A2L0X20WSLY4EI': 200,\n",
       " 'A2L816MYC3VUUR': 189,\n",
       " 'A2LW1BUGTPU7RX': 199,\n",
       " 'A2ML3DOZ6D3FHW': 76,\n",
       " 'A2MLSWNOA7M5GX': 240,\n",
       " 'A2N2VD7AZRVW0X': 106,\n",
       " 'A2O664GKNFII9J': 246,\n",
       " 'A2OD2HOBRAR37K': 169,\n",
       " 'A2OK11T5DN2F0V': 109,\n",
       " 'A2P2T7K63H0C7F': 252,\n",
       " 'A2P37RYCPU7O8R': 85,\n",
       " 'A2PHF842KVOW1L': 171,\n",
       " 'A2QXD8JQK5BVEZ': 42,\n",
       " 'A2R7WSIBO547JR': 15,\n",
       " 'A2RQW6XF9H6GW8': 111,\n",
       " 'A2UFD1I8ZO1V4G': 209,\n",
       " 'A2VJSCDQR23QKD': 115,\n",
       " 'A2WCEFGLJITOG8': 194,\n",
       " 'A2WOUJSFXLK4F8': 204,\n",
       " 'A2WUMW7J3QLXVS': 163,\n",
       " 'A2XDR1SV5W2ZY2': 175,\n",
       " 'A2XIOXRRYX0KZY': 177,\n",
       " 'A2XQTDKWQK9RSN': 195,\n",
       " 'A2XR5HSAGWZO2U': 20,\n",
       " 'A2YLF04UAKYVF1': 55,\n",
       " 'A2YQ96NMZAJISQ': 215,\n",
       " 'A2YYSK3D0KRFN': 65,\n",
       " 'A2Z9WFTE6UBHSB': 82,\n",
       " 'A2ZFE0JOKGMGMT': 260,\n",
       " 'A30STT341ANOK1': 67,\n",
       " 'A31IOMGG91HCNA': 261,\n",
       " 'A32SJBVROT3PVC': 50,\n",
       " 'A331MMCGG3VNEQ': 208,\n",
       " 'A33ZCOZ5DPY0XR': 217,\n",
       " 'A33ZPIHLN47SWZ': 101,\n",
       " 'A356UDT3LAFIE7': 70,\n",
       " 'A35AI779L0PV1J': 141,\n",
       " 'A35LV2O7M8X2NJ': 93,\n",
       " 'A35Y9ZG3SDSVXS': 167,\n",
       " 'A369NDCW86T3NY': 145,\n",
       " 'A37H48ADYXXG4C': 203,\n",
       " 'A37NGMQ7IUSFWH': 214,\n",
       " 'A37OBRQ91VJ854': 120,\n",
       " 'A38MZ3L2Q3PE37': 211,\n",
       " 'A39UOP7VWNYUZ0': 14,\n",
       " 'A3BE22A89FB8UJ': 186,\n",
       " 'A3BTE9DTNT4173': 268,\n",
       " 'A3CSPNNJVX2WHZ': 236,\n",
       " 'A3CVMHDSD1KZLJ': 122,\n",
       " 'A3D4D5T8JL8SY3': 74,\n",
       " 'A3DAVGZNBYJ8VV': 6,\n",
       " 'A3DLECMAOOK2O5': 256,\n",
       " 'A3DM1JU6UU7QWC': 105,\n",
       " 'A3DQNF7G5LSGX4': 155,\n",
       " 'A3DWQ7XQ3Y7BHW': 212,\n",
       " 'A3EWKLEQFLX2J9': 13,\n",
       " 'A3F1D49BTOUERS': 132,\n",
       " 'A3F28R68PBS85Z': 210,\n",
       " 'A3F7M4B9IHDWM8': 229,\n",
       " 'A3FY4JV23LKGY4': 174,\n",
       " 'A3G0Q633CHZ92L': 92,\n",
       " 'A3GCW3PZN5NVXY': 197,\n",
       " 'A3GMIILXZH1SBY': 40,\n",
       " 'A3HVL0120RNSAL': 75,\n",
       " 'A3I7W496RB0DEG': 255,\n",
       " 'A3I9UOCM5EXMR2': 41,\n",
       " 'A3IJQPRZ32ST4T': 73,\n",
       " 'A3J8M05PTHG4J': 49,\n",
       " 'A3JRLENCVJ5TUZ': 151,\n",
       " 'A3K9EDL1FV00UH': 78,\n",
       " 'A3KD8OE9L2U0U4': 46,\n",
       " 'A3KRLPBB11RF7L': 112,\n",
       " 'A3KVU2C809DOK5': 258,\n",
       " 'A3KZJ0L8TGSL88': 133,\n",
       " 'A3LLG639TR2YYJ': 36,\n",
       " 'A3M13HIXKWEWJF': 121,\n",
       " 'A3MF0IHJAXLREJ': 39,\n",
       " 'A3MTQTI651I5M6': 38,\n",
       " 'A3O749MMVC22QA': 123,\n",
       " 'A3PJKRJPL3WH1T': 147,\n",
       " 'A3PLOBCC8YCK5L': 130,\n",
       " 'A3PLRCDUJ4L47U': 228,\n",
       " 'A3Q9OWWGZUJRR1': 26,\n",
       " 'A3QPPTH384NHH4': 264,\n",
       " 'A3QU3KM3IYWHIF': 159,\n",
       " 'A3RZU5FK3D8EYW': 91,\n",
       " 'A3SGMOXI3FDSER': 107,\n",
       " 'A3TM017LLBDCEV': 156,\n",
       " 'A3U8MH0HMCTWXP': 142,\n",
       " 'A3UX7FHLV4DA04': 37,\n",
       " 'A5044PBZHGYZD': 249,\n",
       " 'A6JEY9XGQF60S': 253,\n",
       " 'A7451ONPZDLPH': 27,\n",
       " 'A7WU0CEVM9GOM': 117,\n",
       " 'A8OJOK2JQ06RY': 45,\n",
       " 'A9S36RA2FL0E5': 32,\n",
       " 'A9Y7WSKEUTLSG': 3,\n",
       " 'AA3V5BYE3MSQW': 63,\n",
       " 'ABPXKQ8NH1J7C': 118,\n",
       " 'ABTMH6JJV73XU': 89,\n",
       " 'AC212XAC7396Y': 184,\n",
       " 'AC3921T0I8PWN': 181,\n",
       " 'AC4ADH4WFYLXH': 72,\n",
       " 'ACVEFRSUAPSEQ': 135,\n",
       " 'ADB4WV4QDKOAH': 224,\n",
       " 'AE1WKCEFQ8L0Q': 170,\n",
       " 'AEDO6ZSPG3OWZ': 80,\n",
       " 'AEF3LZVHIMVVU': 5,\n",
       " 'AFOG8925S39A1': 7,\n",
       " 'AFQPQ1IAM8CVI': 57,\n",
       " 'AFROCLA4WNP4S': 243,\n",
       " 'AFS5QIWWS3YCP': 88,\n",
       " 'AG6DPGC9FCCOR': 220,\n",
       " 'AGXZK450C6QFF': 230,\n",
       " 'AHH34KPTA2LSS': 33,\n",
       " 'AHV7VHEO2QTJP': 245,\n",
       " 'AI9SPC59ZLYXO': 234,\n",
       " 'AJN8CPYFXRHPJ': 58,\n",
       " 'AJOJCFJ1RPHFV': 161,\n",
       " 'AKE7H4PSNUTH2': 183,\n",
       " 'AKIM9YMEZA9PC': 19,\n",
       " 'AKNNDDD2K8BT8': 81,\n",
       " 'AKSFNDKB16VQ8': 116,\n",
       " 'AL8CK436OAAS': 0,\n",
       " 'AMAW1QQX6MB25': 22,\n",
       " 'AMU7RM32H0M1N': 168,\n",
       " 'AN3DO1DHZ075P': 47,\n",
       " 'AN81OMLNG792S': 2,\n",
       " 'ANT4D4FOS93DQ': 131,\n",
       " 'AOKPT2GNXEF0S': 35,\n",
       " 'APTWD089IRDBV': 79,\n",
       " 'ARUUP1I9I765J': 4,\n",
       " 'ASEMC3G1PJ6SB': 225,\n",
       " 'ASJ5H5HGQFDQU': 237,\n",
       " 'ATP39726LMDLP': 153,\n",
       " 'ATT01ULC3C5IG': 259,\n",
       " 'AVD8A5TZOOF31': 136,\n",
       " 'AWBYDXC8ZOVFL': 144,\n",
       " 'AWK7JFM5BJRF9': 254,\n",
       " 'AWTJ1X4WZQ7H6': 56,\n",
       " 'AXFFN2S8WHHP5': 86,\n",
       " 'AXV75243QNOOW': 129,\n",
       " 'AYLBB2KKCRGGY': 176,\n",
       " 'AZSNNUTRHZ0G9': 160}"
      ]
     },
     "execution_count": 28,
     "metadata": {},
     "output_type": "execute_result"
    }
   ],
   "source": [
    "worker2ind"
   ]
  },
  {
   "cell_type": "code",
   "execution_count": 94,
   "metadata": {
    "scrolled": true
   },
   "outputs": [],
   "source": [
    "def sub_find(data,lista):\n",
    "    aux = []\n",
    "    for value in lista:\n",
    "        if data in value and \"unsure\" not in value:\n",
    "            aux.append(value)\n",
    "    return aux\n",
    "columns = list(df.columns)\n",
    "\n",
    "train_texts = {value:0 for value in id_data}\n",
    "answers_dic = {value:[] for value in id_data}\n",
    "for i in range(df.shape[0]):\n",
    "    id_worker = worker2ind[df.loc[i,\"WorkerId\"]]\n",
    "    for k in range(0,5):\n",
    "        id_aux = df.loc[i,\"Answer.TID\"+str(k+1)]\n",
    "        if train_texts[id_aux] == 0:\n",
    "            train_texts[id_aux] = ast.literal_eval(df.loc[i,\"Input.tweet\"+str(k)])\n",
    "        len_i = len(train_texts[id_aux])\n",
    "        \n",
    "        if len(answers_dic[id_aux]) == 0:\n",
    "            answers_dic[id_aux] = np.asarray([ [\"?\"]*T ]*len_i,dtype='object')\n",
    "        \n",
    "        aux_list = []\n",
    "        for i_d in range(len_i):\n",
    "            #palabra para un tweet\n",
    "            #print( answers_dic[id_aux][i_d])\n",
    "            if not pd.isna(df.loc[i,\"Answer.tweet\"+str(k)+\"word\"+str(i_d)]):\n",
    "                answers_dic[id_aux][i_d,id_worker] = df.loc[i,\"Answer.tweet\"+str(k)+\"word\"+str(i_d)]\n",
    "            #y si ya tiene?\n",
    "            "
   ]
  },
  {
   "cell_type": "code",
   "execution_count": 95,
   "metadata": {},
   "outputs": [],
   "source": [
    "X_train_texts = list(train_texts.values())\n",
    "answers = list(answers_dic.values())"
   ]
  },
  {
   "cell_type": "code",
   "execution_count": 49,
   "metadata": {
    "scrolled": true
   },
   "outputs": [
    {
     "data": {
      "text/plain": [
       "['Analysis:',\n",
       " \"Obama''s\",\n",
       " 'centrist',\n",
       " 'emphasis',\n",
       " 'gives',\n",
       " 'GOP',\n",
       " 'ammo',\n",
       " '\\\\n',\n",
       " '(AP)\\\\n:',\n",
       " 'AP',\n",
       " '-',\n",
       " 'Is',\n",
       " 'Barack',\n",
       " 'Obama',\n",
       " 'close',\n",
       " 'to',\n",
       " 'being',\n",
       " 'shadowed',\n",
       " 'by',\n",
       " 'giant',\n",
       " 'flip-flops',\n",
       " '',\n",
       " '',\n",
       " '']"
      ]
     },
     "execution_count": 49,
     "metadata": {},
     "output_type": "execute_result"
    }
   ],
   "source": [
    "X_train_texts[1]"
   ]
  },
  {
   "cell_type": "code",
   "execution_count": 57,
   "metadata": {
    "scrolled": true
   },
   "outputs": [
    {
     "data": {
      "text/plain": [
       "array([['?', '?', '?', ..., '?', '?', '?'],\n",
       "       ['?', '?', '?', ..., '?', '?', '?'],\n",
       "       ['?', '?', '?', ..., '?', '?', '?'],\n",
       "       ...,\n",
       "       ['?', '?', '?', ..., '?', '?', '?'],\n",
       "       ['?', '?', '?', ..., '?', '?', '?'],\n",
       "       ['?', '?', '?', ..., '?', '?', '?']], dtype=object)"
      ]
     },
     "execution_count": 57,
     "metadata": {},
     "output_type": "execute_result"
    }
   ],
   "source": [
    "answers[1]"
   ]
  },
  {
   "cell_type": "code",
   "execution_count": 83,
   "metadata": {},
   "outputs": [
    {
     "data": {
      "text/plain": [
       "{'none': 0, 'org': 1, 'person': 2, 'place': 3}"
      ]
     },
     "execution_count": 83,
     "metadata": {},
     "output_type": "execute_result"
    }
   ],
   "source": [
    "labels\n",
    "label2ind = {label: (index) for index, label in enumerate(labels)}\n",
    "ind2label = {(index): label for index, label in enumerate(labels)}\n",
    "label2ind"
   ]
  },
  {
   "cell_type": "code",
   "execution_count": 92,
   "metadata": {
    "scrolled": true
   },
   "outputs": [
    {
     "name": "stdout",
     "output_type": "stream",
     "text": [
      "Hay\n",
      "Hay\n",
      "Hay\n",
      "Hay\n",
      "Hay\n",
      "Hay\n",
      "Hay\n",
      "Hay\n",
      "Hay\n",
      "Hay\n"
     ]
    },
    {
     "ename": "KeyboardInterrupt",
     "evalue": "",
     "output_type": "error",
     "traceback": [
      "\u001b[0;31m---------------------------------------------------------------------------\u001b[0m",
      "\u001b[0;31mKeyboardInterrupt\u001b[0m                         Traceback (most recent call last)",
      "\u001b[0;32m<ipython-input-92-a586fbce2b6a>\u001b[0m in \u001b[0;36m<module>\u001b[0;34m()\u001b[0m\n\u001b[1;32m      2\u001b[0m     \u001b[0;32mfor\u001b[0m \u001b[0mpalabra\u001b[0m \u001b[0;32min\u001b[0m \u001b[0mdato\u001b[0m\u001b[0;34m:\u001b[0m\u001b[0;34m\u001b[0m\u001b[0m\n\u001b[1;32m      3\u001b[0m         \u001b[0;32mfor\u001b[0m \u001b[0mannotation\u001b[0m \u001b[0;32min\u001b[0m \u001b[0mpalabra\u001b[0m\u001b[0;34m:\u001b[0m\u001b[0;34m\u001b[0m\u001b[0m\n\u001b[0;32m----> 4\u001b[0;31m             \u001b[0;32mif\u001b[0m \u001b[0mpd\u001b[0m\u001b[0;34m.\u001b[0m\u001b[0misna\u001b[0m\u001b[0;34m(\u001b[0m\u001b[0mannotation\u001b[0m\u001b[0;34m)\u001b[0m\u001b[0;34m:\u001b[0m\u001b[0;34m\u001b[0m\u001b[0m\n\u001b[0m\u001b[1;32m      5\u001b[0m                 \u001b[0mprint\u001b[0m\u001b[0;34m(\u001b[0m\u001b[0;34m\"Hay\"\u001b[0m\u001b[0;34m)\u001b[0m\u001b[0;34m\u001b[0m\u001b[0m\n",
      "\u001b[0;32m/home/casapanshop/anaconda2/envs/py3/lib/python3.5/site-packages/pandas/core/dtypes/missing.py\u001b[0m in \u001b[0;36misna\u001b[0;34m(obj)\u001b[0m\n\u001b[1;32m     43\u001b[0m     \u001b[0mpandas\u001b[0m\u001b[0;34m.\u001b[0m\u001b[0misnull\u001b[0m\u001b[0;34m:\u001b[0m \u001b[0malias\u001b[0m \u001b[0mof\u001b[0m \u001b[0misna\u001b[0m\u001b[0;34m\u001b[0m\u001b[0m\n\u001b[1;32m     44\u001b[0m     \"\"\"\n\u001b[0;32m---> 45\u001b[0;31m     \u001b[0;32mreturn\u001b[0m \u001b[0m_isna\u001b[0m\u001b[0;34m(\u001b[0m\u001b[0mobj\u001b[0m\u001b[0;34m)\u001b[0m\u001b[0;34m\u001b[0m\u001b[0m\n\u001b[0m\u001b[1;32m     46\u001b[0m \u001b[0;34m\u001b[0m\u001b[0m\n\u001b[1;32m     47\u001b[0m \u001b[0;34m\u001b[0m\u001b[0m\n",
      "\u001b[0;32m/home/casapanshop/anaconda2/envs/py3/lib/python3.5/site-packages/pandas/core/dtypes/missing.py\u001b[0m in \u001b[0;36m_isna_new\u001b[0;34m(obj)\u001b[0m\n\u001b[1;32m     51\u001b[0m \u001b[0;32mdef\u001b[0m \u001b[0m_isna_new\u001b[0m\u001b[0;34m(\u001b[0m\u001b[0mobj\u001b[0m\u001b[0;34m)\u001b[0m\u001b[0;34m:\u001b[0m\u001b[0;34m\u001b[0m\u001b[0m\n\u001b[1;32m     52\u001b[0m     \u001b[0;32mif\u001b[0m \u001b[0mis_scalar\u001b[0m\u001b[0;34m(\u001b[0m\u001b[0mobj\u001b[0m\u001b[0;34m)\u001b[0m\u001b[0;34m:\u001b[0m\u001b[0;34m\u001b[0m\u001b[0m\n\u001b[0;32m---> 53\u001b[0;31m         \u001b[0;32mreturn\u001b[0m \u001b[0mlib\u001b[0m\u001b[0;34m.\u001b[0m\u001b[0mchecknull\u001b[0m\u001b[0;34m(\u001b[0m\u001b[0mobj\u001b[0m\u001b[0;34m)\u001b[0m\u001b[0;34m\u001b[0m\u001b[0m\n\u001b[0m\u001b[1;32m     54\u001b[0m     \u001b[0;31m# hack (for now) because MI registers as ndarray\u001b[0m\u001b[0;34m\u001b[0m\u001b[0;34m\u001b[0m\u001b[0m\n\u001b[1;32m     55\u001b[0m     \u001b[0;32melif\u001b[0m \u001b[0misinstance\u001b[0m\u001b[0;34m(\u001b[0m\u001b[0mobj\u001b[0m\u001b[0;34m,\u001b[0m \u001b[0mABCMultiIndex\u001b[0m\u001b[0;34m)\u001b[0m\u001b[0;34m:\u001b[0m\u001b[0;34m\u001b[0m\u001b[0m\n",
      "\u001b[0;31mKeyboardInterrupt\u001b[0m: "
     ]
    }
   ],
   "source": [
    "for dato in answers:\n",
    "    for palabra in dato:\n",
    "        for annotation in palabra:\n",
    "            if pd.isna(annotation):\n",
    "                print(\"Hay\")"
   ]
  },
  {
   "cell_type": "code",
   "execution_count": 96,
   "metadata": {},
   "outputs": [
    {
     "name": "stdout",
     "output_type": "stream",
     "text": [
      "205282 269\n"
     ]
    },
    {
     "data": {
      "text/plain": [
       "array([[-1, -1, -1, ..., -1, -1, -1],\n",
       "       [-1, -1, -1, ..., -1, -1, -1],\n",
       "       [-1, -1, -1, ..., -1, -1, -1],\n",
       "       ...,\n",
       "       [-1, -1, -1, ..., -1, -1, -1],\n",
       "       [-1, -1, -1, ..., -1, -1, -1],\n",
       "       [-1, -1, -1, ..., -1, -1, -1]])"
      ]
     },
     "execution_count": 96,
     "metadata": {},
     "output_type": "execute_result"
    }
   ],
   "source": [
    "y_obs = np.asarray([ [label2ind[annotation] if annotation != \"?\" else -1 for annotation in palabra] for dato in answers for palabra in dato])\n",
    "N,T = y_obs.shape\n",
    "print(N,T)\n",
    "y_obs"
   ]
  },
  {
   "cell_type": "code",
   "execution_count": null,
   "metadata": {},
   "outputs": [],
   "source": []
  },
  {
   "cell_type": "code",
   "execution_count": 58,
   "metadata": {
    "scrolled": true
   },
   "outputs": [
    {
     "name": "stdout",
     "output_type": "stream",
     "text": [
      "(441, 82)\n"
     ]
    },
    {
     "data": {
      "text/html": [
       "<div>\n",
       "<style scoped>\n",
       "    .dataframe tbody tr th:only-of-type {\n",
       "        vertical-align: middle;\n",
       "    }\n",
       "\n",
       "    .dataframe tbody tr th {\n",
       "        vertical-align: top;\n",
       "    }\n",
       "\n",
       "    .dataframe thead th {\n",
       "        text-align: right;\n",
       "    }\n",
       "</style>\n",
       "<table border=\"1\" class=\"dataframe\">\n",
       "  <thead>\n",
       "    <tr style=\"text-align: right;\">\n",
       "      <th></th>\n",
       "      <th>HITId</th>\n",
       "      <th>HITTypeId</th>\n",
       "      <th>Title</th>\n",
       "      <th>Description</th>\n",
       "      <th>Keywords</th>\n",
       "      <th>Reward</th>\n",
       "      <th>CreationTime</th>\n",
       "      <th>MaxAssignments</th>\n",
       "      <th>RequesterAnnotation</th>\n",
       "      <th>AssignmentDurationInSeconds</th>\n",
       "      <th>...</th>\n",
       "      <th>Answer.word28</th>\n",
       "      <th>Answer.unsure4</th>\n",
       "      <th>Answer.word29</th>\n",
       "      <th>Answer.unsure6</th>\n",
       "      <th>Answer.unsure15</th>\n",
       "      <th>Answer.unsure9</th>\n",
       "      <th>Answer.unsure19</th>\n",
       "      <th>Answer.unsure20</th>\n",
       "      <th>Approve</th>\n",
       "      <th>Reject</th>\n",
       "    </tr>\n",
       "  </thead>\n",
       "  <tbody>\n",
       "    <tr>\n",
       "      <th>0</th>\n",
       "      <td>1V9S0WR1Y69H2PA0OW1VNI62NNMD5T</td>\n",
       "      <td>1PG4GVIAJYO5H8LCGDJNWKIN3TOVTG</td>\n",
       "      <td>Label named entities in Twitter data</td>\n",
       "      <td>Given a Twitter status message, select words t...</td>\n",
       "      <td>twitter, named entity</td>\n",
       "      <td>$0.01</td>\n",
       "      <td>Thu Mar 18 01:39:47 GMT 2010</td>\n",
       "      <td>1</td>\n",
       "      <td>NaN</td>\n",
       "      <td>600</td>\n",
       "      <td>...</td>\n",
       "      <td>NaN</td>\n",
       "      <td>NaN</td>\n",
       "      <td>NaN</td>\n",
       "      <td>NaN</td>\n",
       "      <td>NaN</td>\n",
       "      <td>NaN</td>\n",
       "      <td>NaN</td>\n",
       "      <td>NaN</td>\n",
       "      <td>NaN</td>\n",
       "      <td>NaN</td>\n",
       "    </tr>\n",
       "    <tr>\n",
       "      <th>1</th>\n",
       "      <td>1P0UL3JPGT3HCPSUWLRFEJ9IOFFAME</td>\n",
       "      <td>1PG4GVIAJYO5H8LCGDJNWKIN3TOVTG</td>\n",
       "      <td>Label named entities in Twitter data</td>\n",
       "      <td>Given a Twitter status message, select words t...</td>\n",
       "      <td>twitter, named entity</td>\n",
       "      <td>$0.01</td>\n",
       "      <td>Thu Mar 18 01:39:47 GMT 2010</td>\n",
       "      <td>1</td>\n",
       "      <td>NaN</td>\n",
       "      <td>600</td>\n",
       "      <td>...</td>\n",
       "      <td>NaN</td>\n",
       "      <td>NaN</td>\n",
       "      <td>NaN</td>\n",
       "      <td>NaN</td>\n",
       "      <td>NaN</td>\n",
       "      <td>NaN</td>\n",
       "      <td>NaN</td>\n",
       "      <td>NaN</td>\n",
       "      <td>NaN</td>\n",
       "      <td>NaN</td>\n",
       "    </tr>\n",
       "    <tr>\n",
       "      <th>2</th>\n",
       "      <td>1F84T485IRVF6BM7RY9T4TJFDKAFS8</td>\n",
       "      <td>1PG4GVIAJYO5H8LCGDJNWKIN3TOVTG</td>\n",
       "      <td>Label named entities in Twitter data</td>\n",
       "      <td>Given a Twitter status message, select words t...</td>\n",
       "      <td>twitter, named entity</td>\n",
       "      <td>$0.01</td>\n",
       "      <td>Thu Mar 18 01:39:47 GMT 2010</td>\n",
       "      <td>1</td>\n",
       "      <td>NaN</td>\n",
       "      <td>600</td>\n",
       "      <td>...</td>\n",
       "      <td>NaN</td>\n",
       "      <td>NaN</td>\n",
       "      <td>NaN</td>\n",
       "      <td>NaN</td>\n",
       "      <td>NaN</td>\n",
       "      <td>NaN</td>\n",
       "      <td>NaN</td>\n",
       "      <td>NaN</td>\n",
       "      <td>NaN</td>\n",
       "      <td>NaN</td>\n",
       "    </tr>\n",
       "    <tr>\n",
       "      <th>3</th>\n",
       "      <td>16QPTX5PKYSX67A9W9Q0E6UTOAPALC</td>\n",
       "      <td>1PG4GVIAJYO5H8LCGDJNWKIN3TOVTG</td>\n",
       "      <td>Label named entities in Twitter data</td>\n",
       "      <td>Given a Twitter status message, select words t...</td>\n",
       "      <td>twitter, named entity</td>\n",
       "      <td>$0.01</td>\n",
       "      <td>Thu Mar 18 01:39:47 GMT 2010</td>\n",
       "      <td>1</td>\n",
       "      <td>NaN</td>\n",
       "      <td>600</td>\n",
       "      <td>...</td>\n",
       "      <td>NaN</td>\n",
       "      <td>NaN</td>\n",
       "      <td>NaN</td>\n",
       "      <td>NaN</td>\n",
       "      <td>NaN</td>\n",
       "      <td>NaN</td>\n",
       "      <td>NaN</td>\n",
       "      <td>NaN</td>\n",
       "      <td>NaN</td>\n",
       "      <td>NaN</td>\n",
       "    </tr>\n",
       "    <tr>\n",
       "      <th>4</th>\n",
       "      <td>170HZD1E9YM18Z3OQHRJSPSI2OUA4J</td>\n",
       "      <td>1PG4GVIAJYO5H8LCGDJNWKIN3TOVTG</td>\n",
       "      <td>Label named entities in Twitter data</td>\n",
       "      <td>Given a Twitter status message, select words t...</td>\n",
       "      <td>twitter, named entity</td>\n",
       "      <td>$0.01</td>\n",
       "      <td>Thu Mar 18 01:39:44 GMT 2010</td>\n",
       "      <td>1</td>\n",
       "      <td>NaN</td>\n",
       "      <td>600</td>\n",
       "      <td>...</td>\n",
       "      <td>NaN</td>\n",
       "      <td>NaN</td>\n",
       "      <td>NaN</td>\n",
       "      <td>NaN</td>\n",
       "      <td>NaN</td>\n",
       "      <td>NaN</td>\n",
       "      <td>NaN</td>\n",
       "      <td>NaN</td>\n",
       "      <td>NaN</td>\n",
       "      <td>NaN</td>\n",
       "    </tr>\n",
       "  </tbody>\n",
       "</table>\n",
       "<p>5 rows × 82 columns</p>\n",
       "</div>"
      ],
      "text/plain": [
       "                            HITId                       HITTypeId  \\\n",
       "0  1V9S0WR1Y69H2PA0OW1VNI62NNMD5T  1PG4GVIAJYO5H8LCGDJNWKIN3TOVTG   \n",
       "1  1P0UL3JPGT3HCPSUWLRFEJ9IOFFAME  1PG4GVIAJYO5H8LCGDJNWKIN3TOVTG   \n",
       "2  1F84T485IRVF6BM7RY9T4TJFDKAFS8  1PG4GVIAJYO5H8LCGDJNWKIN3TOVTG   \n",
       "3  16QPTX5PKYSX67A9W9Q0E6UTOAPALC  1PG4GVIAJYO5H8LCGDJNWKIN3TOVTG   \n",
       "4  170HZD1E9YM18Z3OQHRJSPSI2OUA4J  1PG4GVIAJYO5H8LCGDJNWKIN3TOVTG   \n",
       "\n",
       "                                  Title  \\\n",
       "0  Label named entities in Twitter data   \n",
       "1  Label named entities in Twitter data   \n",
       "2  Label named entities in Twitter data   \n",
       "3  Label named entities in Twitter data   \n",
       "4  Label named entities in Twitter data   \n",
       "\n",
       "                                         Description               Keywords  \\\n",
       "0  Given a Twitter status message, select words t...  twitter, named entity   \n",
       "1  Given a Twitter status message, select words t...  twitter, named entity   \n",
       "2  Given a Twitter status message, select words t...  twitter, named entity   \n",
       "3  Given a Twitter status message, select words t...  twitter, named entity   \n",
       "4  Given a Twitter status message, select words t...  twitter, named entity   \n",
       "\n",
       "  Reward                  CreationTime  MaxAssignments  RequesterAnnotation  \\\n",
       "0  $0.01  Thu Mar 18 01:39:47 GMT 2010               1                  NaN   \n",
       "1  $0.01  Thu Mar 18 01:39:47 GMT 2010               1                  NaN   \n",
       "2  $0.01  Thu Mar 18 01:39:47 GMT 2010               1                  NaN   \n",
       "3  $0.01  Thu Mar 18 01:39:47 GMT 2010               1                  NaN   \n",
       "4  $0.01  Thu Mar 18 01:39:44 GMT 2010               1                  NaN   \n",
       "\n",
       "   AssignmentDurationInSeconds  ...    Answer.word28 Answer.unsure4  \\\n",
       "0                          600  ...              NaN            NaN   \n",
       "1                          600  ...              NaN            NaN   \n",
       "2                          600  ...              NaN            NaN   \n",
       "3                          600  ...              NaN            NaN   \n",
       "4                          600  ...              NaN            NaN   \n",
       "\n",
       "   Answer.word29  Answer.unsure6 Answer.unsure15 Answer.unsure9  \\\n",
       "0            NaN             NaN             NaN            NaN   \n",
       "1            NaN             NaN             NaN            NaN   \n",
       "2            NaN             NaN             NaN            NaN   \n",
       "3            NaN             NaN             NaN            NaN   \n",
       "4            NaN             NaN             NaN            NaN   \n",
       "\n",
       "  Answer.unsure19 Answer.unsure20 Approve Reject  \n",
       "0             NaN             NaN     NaN    NaN  \n",
       "1             NaN             NaN     NaN    NaN  \n",
       "2             NaN             NaN     NaN    NaN  \n",
       "3             NaN             NaN     NaN    NaN  \n",
       "4             NaN             NaN     NaN    NaN  \n",
       "\n",
       "[5 rows x 82 columns]"
      ]
     },
     "execution_count": 58,
     "metadata": {},
     "output_type": "execute_result"
    }
   ],
   "source": [
    "df_g = pd.read_csv(folder+\"/ner_mturk/inputs/Gold.csv\") \n",
    "print(df_g.shape)\n",
    "df_g.head()"
   ]
  },
  {
   "cell_type": "code",
   "execution_count": 81,
   "metadata": {
    "scrolled": true
   },
   "outputs": [],
   "source": [
    "test_texts = {value:0 for value in df_g[\"Answer.TID\"].unique()}\n",
    "test_gt = {value:0 for value in df_g[\"Answer.TID\"].unique()}\n",
    "labels = []\n",
    "for i in range(df_g.shape[0]):\n",
    "    id_aux = df_g.loc[i,\"Answer.TID\"]\n",
    "    train_texts[id_aux] = ast.literal_eval(df_g.loc[i,\"Input.json_words\"])\n",
    "        \n",
    "    len_i = len(train_texts[id_aux])\n",
    "    \n",
    "    if test_gt[id_aux] == 0:\n",
    "        test_gt[id_aux] = [\"?\"]*len_i\n",
    "\n",
    "    aux_list = []\n",
    "    for i_d in range(len_i):\n",
    "        try:\n",
    "            test_gt[id_aux][i_d] = df_g.loc[i,\"Answer.word\"+str(i_d)]\n",
    "            if test_gt[id_aux][i_d] not in labels:\n",
    "                labels.append(test_gt[id_aux][i_d])\n",
    "        except:\n",
    "             pass #unsure..\n",
    "       "
   ]
  },
  {
   "cell_type": "code",
   "execution_count": 100,
   "metadata": {},
   "outputs": [
    {
     "data": {
      "text/plain": [
       "(7037,)"
      ]
     },
     "execution_count": 100,
     "metadata": {},
     "output_type": "execute_result"
    }
   ],
   "source": [
    "Z_test = np.asarray([label2ind[value] for lista in test_gt.values() for value in lista ])\n",
    "Z_test.shape"
   ]
  },
  {
   "cell_type": "code",
   "execution_count": 101,
   "metadata": {},
   "outputs": [
    {
     "data": {
      "text/plain": [
       "array([0, 0, 0, ..., 0, 0, 0])"
      ]
     },
     "execution_count": 101,
     "metadata": {},
     "output_type": "execute_result"
    }
   ],
   "source": [
    "Z_test"
   ]
  },
  {
   "cell_type": "code",
   "execution_count": 102,
   "metadata": {},
   "outputs": [
    {
     "data": {
      "text/plain": [
       "{'none': 0, 'org': 1, 'person': 2, 'place': 3}"
      ]
     },
     "execution_count": 102,
     "metadata": {},
     "output_type": "execute_result"
    }
   ],
   "source": [
    "label2ind"
   ]
  },
  {
   "cell_type": "code",
   "execution_count": null,
   "metadata": {},
   "outputs": [],
   "source": []
  },
  {
   "cell_type": "code",
   "execution_count": null,
   "metadata": {},
   "outputs": [],
   "source": []
  },
  {
   "cell_type": "code",
   "execution_count": 84,
   "metadata": {},
   "outputs": [
    {
     "name": "stdout",
     "output_type": "stream",
     "text": [
      "Answers data size: 5985\n",
      "Ground truth data size: 5985\n",
      "Test data size: 3250\n",
      "Total sequences: 9235\n"
     ]
    }
   ],
   "source": [
    "def read_conll(filename):\n",
    "    raw = open(filename, 'r').readlines()\n",
    "    all_x = []\n",
    "    point = []\n",
    "    for line in raw:\n",
    "        stripped_line = line.strip().split(' ')\n",
    "        point.append(stripped_line)\n",
    "        if line == '\\n':\n",
    "            if len(point[:-1]) > 0:\n",
    "                all_x.append(point[:-1])\n",
    "            point = []\n",
    "    all_x = all_x\n",
    "    return all_x\n",
    "\n",
    "folder = \"../Deep Learning from Crowds/ner-mturk/\"\n",
    "\n",
    "all_answers = read_conll(folder+'answers.txt') #annotations\n",
    "all_ground_truth = read_conll(folder+'ground_truth.txt')\n",
    "\n",
    "all_test = read_conll(folder+'testset.txt')\n",
    "all_docs = all_ground_truth + all_test\n",
    "\n",
    "print(\"Answers data size:\", len(all_answers))\n",
    "print(\"Ground truth data size:\", len(all_ground_truth))\n",
    "print(\"Test data size:\", len(all_test))\n",
    "print(\"Total sequences:\", len(all_docs))"
   ]
  },
  {
   "cell_type": "code",
   "execution_count": 124,
   "metadata": {},
   "outputs": [
    {
     "name": "stdout",
     "output_type": "stream",
     "text": [
      "Num annnotators: 47\n",
      "Labels: ['B-LOC', 'B-PER', 'B-ORG', 'O', 'I-ORG', 'B-MISC', 'I-MISC', 'I-PER', 'I-LOC']\n",
      "Input sequence length range:  109 1\n",
      "Max label: 9\n",
      "Maximum sequence length: 109\n"
     ]
    }
   ],
   "source": [
    "X_train_texts = [[c[0] for c in x] for x in all_answers]\n",
    "y_answers = [[c[1:] for c in y] for y in all_answers]\n",
    "y_ground_truth = [[c[1] for c in y] for y in all_ground_truth]\n",
    "X_test_texts = [[c[0] for c in x] for x in all_test]\n",
    "y_test = [[c[1] for c in y] for y in all_test]\n",
    "#X_all = [[c[0] for c in x] for x in all_docs]\n",
    "#y_all = [[c[1] for c in y] for y in all_docs]\n",
    "\n",
    "N_ANNOT = len(y_answers[0][0])\n",
    "print(\"Num annnotators:\", N_ANNOT)\n",
    "\n",
    "lengths = [len(x) for x in all_docs]\n",
    "all_text = [c for x in X_all for c in x]\n",
    "words = list(set(all_text))\n",
    "word2ind = {word: index for index, word in enumerate(words)}\n",
    "ind2word = {index: word for index, word in enumerate(words)}\n",
    "labels = list(set([c for x in y_all for c in x]))\n",
    "print(\"Labels:\", labels)\n",
    "label2ind = {label: (index) for index, label in enumerate(labels)}\n",
    "ind2label = {(index): label for index, label in enumerate(labels)}\n",
    "#ind2label[0] = \"O\" # padding index\n",
    "print('Input sequence length range: ', max(lengths), min(lengths))\n",
    "\n",
    "max_label = max(label2ind.values()) + 1\n",
    "print(\"Max label:\", max_label)\n",
    "\n",
    "maxlen = max([len(x) for x in X_all])\n",
    "print('Maximum sequence length:', maxlen)"
   ]
  },
  {
   "cell_type": "code",
   "execution_count": 99,
   "metadata": {
    "scrolled": true
   },
   "outputs": [
    {
     "data": {
      "text/plain": [
       "[['Corporate', 'America', 'taking', 'new', 'view', 'on', 'compensation', '.'],\n",
       " ['Anne', 'Murray'],\n",
       " ['NEW', 'YORK', '1996-08-23'],\n",
       " ['Corporate',\n",
       "  'America',\n",
       "  'is',\n",
       "  'planning',\n",
       "  'major',\n",
       "  'changes',\n",
       "  'in',\n",
       "  'employee',\n",
       "  'compensation',\n",
       "  'in',\n",
       "  'the',\n",
       "  'next',\n",
       "  'few',\n",
       "  'years',\n",
       "  ',',\n",
       "  'according',\n",
       "  'to',\n",
       "  'a',\n",
       "  'recent',\n",
       "  'study',\n",
       "  '.'],\n",
       " ['What',\n",
       "  'it',\n",
       "  'comes',\n",
       "  'down',\n",
       "  'to',\n",
       "  'is',\n",
       "  'this',\n",
       "  ':',\n",
       "  'If',\n",
       "  'you',\n",
       "  \"'re\",\n",
       "  'highly',\n",
       "  'skilled',\n",
       "  ',',\n",
       "  'you',\n",
       "  \"'ll\",\n",
       "  'benefit',\n",
       "  'nicely',\n",
       "  '.']]"
      ]
     },
     "execution_count": 99,
     "metadata": {},
     "output_type": "execute_result"
    }
   ],
   "source": [
    "X_all[:5]"
   ]
  },
  {
   "cell_type": "code",
   "execution_count": 176,
   "metadata": {},
   "outputs": [
    {
     "data": {
      "text/plain": [
       "(79901,)"
      ]
     },
     "execution_count": 176,
     "metadata": {},
     "output_type": "execute_result"
    }
   ],
   "source": [
    "Z_train = np.asarray([label2ind[value] for lista in y_ground_truth for value in lista ])\n",
    "Z_test = np.asarray([label2ind[value] for lista in y_test for value in lista ])\n",
    "Z_train.shape"
   ]
  },
  {
   "cell_type": "code",
   "execution_count": 155,
   "metadata": {
    "scrolled": true
   },
   "outputs": [
    {
     "data": {
      "image/png": "[encoded data removed]",
      "text/plain": [
       "<Figure size 432x288 with 1 Axes>"
      ]
     },
     "metadata": {},
     "output_type": "display_data"
    },
    {
     "data": {
      "text/plain": [
       "{0: 2929,\n",
       " 1: 2808,\n",
       " 2: 2779,\n",
       " 3: 65546,\n",
       " 4: 1544,\n",
       " 5: 1343,\n",
       " 6: 531,\n",
       " 7: 1996,\n",
       " 8: 425}"
      ]
     },
     "execution_count": 155,
     "metadata": {},
     "output_type": "execute_result"
    }
   ],
   "source": [
    "sns.countplot(Z_train)\n",
    "plt.show()\n",
    "unique, counts = np.unique(Z_train, return_counts=True)\n",
    "dict(zip(unique, counts))"
   ]
  },
  {
   "cell_type": "code",
   "execution_count": 174,
   "metadata": {},
   "outputs": [
    {
     "data": {
      "image/png": "[encoded data removed]",
      "text/plain": [
       "<Figure size 432x288 with 1 Axes>"
      ]
     },
     "metadata": {},
     "output_type": "display_data"
    },
    {
     "data": {
      "text/plain": [
       "{0: 2929, 1: 2808, 2: 2779, 3: 3425, 4: 1544, 5: 1343, 6: 531, 7: 1996, 8: 425}"
      ]
     },
     "execution_count": 174,
     "metadata": {},
     "output_type": "execute_result"
    }
   ],
   "source": [
    "#delete \"O\" =?? o achicar la cantidad.. realizar lo mismos con test...\n",
    "mask_notO = Z_train != 3\n",
    "aux = np.random.choice(np.arange(Z_train.shape[0])[~mask_notO], 3500)\n",
    "\n",
    "new_mask = mask_notO.copy()\n",
    "new_mask[aux] = True #let 3000\n",
    "\n",
    "sns.countplot(Z_train[new_mask])\n",
    "plt.show()\n",
    "unique, counts = np.unique(Z_train[new_mask], return_counts=True)\n",
    "dict(zip(unique, counts))"
   ]
  },
  {
   "cell_type": "code",
   "execution_count": 157,
   "metadata": {},
   "outputs": [
    {
     "name": "stdout",
     "output_type": "stream",
     "text": [
      "79901 47\n"
     ]
    },
    {
     "data": {
      "text/plain": [
       "array([[ 3, -1, -1, ..., -1, -1,  3],\n",
       "       [ 3, -1, -1, ..., -1, -1,  0],\n",
       "       [ 3, -1, -1, ..., -1, -1,  3],\n",
       "       ...,\n",
       "       [-1, -1, -1, ..., -1, -1,  3],\n",
       "       [-1, -1, -1, ..., -1, -1,  3],\n",
       "       [-1, -1, -1, ..., -1, -1,  3]])"
      ]
     },
     "execution_count": 157,
     "metadata": {},
     "output_type": "execute_result"
    }
   ],
   "source": [
    "y_obs = np.asarray([ [label2ind[annotation] if annotation != \"?\" else -1 for annotation in palabra] for dato in y_answers for palabra in dato])\n",
    "N,T = y_obs.shape\n",
    "print(N,T)\n",
    "y_obs"
   ]
  },
  {
   "cell_type": "code",
   "execution_count": 178,
   "metadata": {},
   "outputs": [
    {
     "name": "stdout",
     "output_type": "stream",
     "text": [
      "17780 47\n"
     ]
    },
    {
     "data": {
      "text/plain": [
       "array([[ 3, -1, -1, ..., -1, -1,  0],\n",
       "       [ 1, -1, -1, ..., -1, -1,  3],\n",
       "       [ 7, -1, -1, ..., -1, -1,  3],\n",
       "       ...,\n",
       "       [-1, -1, -1, ..., -1, -1,  1],\n",
       "       [-1, -1, -1, ..., -1, -1,  3],\n",
       "       [-1, -1, -1, ..., -1, -1,  3]])"
      ]
     },
     "execution_count": 178,
     "metadata": {},
     "output_type": "execute_result"
    }
   ],
   "source": [
    "#aplied mask\n",
    "Z_train = Z_train[new_mask]\n",
    "y_obs = y_obs[new_mask]\n",
    "N,T = y_obs.shape\n",
    "print(N,T)"
   ]
  },
  {
   "cell_type": "code",
   "execution_count": null,
   "metadata": {},
   "outputs": [],
   "source": [
    "#how to build X??"
   ]
  },
  {
   "cell_type": "code",
   "execution_count": 102,
   "metadata": {
    "scrolled": true
   },
   "outputs": [
    {
     "ename": "NameError",
     "evalue": "name 'encode' is not defined",
     "output_type": "error",
     "traceback": [
      "\u001b[0;31m---------------------------------------------------------------------------\u001b[0m",
      "\u001b[0;31mNameError\u001b[0m                                 Traceback (most recent call last)",
      "\u001b[0;32m<ipython-input-102-5ef1402e9f1f>\u001b[0m in \u001b[0;36m<module>\u001b[0;34m()\u001b[0m\n\u001b[1;32m      1\u001b[0m \u001b[0mX_train_enc\u001b[0m \u001b[0;34m=\u001b[0m \u001b[0;34m[\u001b[0m\u001b[0;34m[\u001b[0m\u001b[0mword2ind\u001b[0m\u001b[0;34m[\u001b[0m\u001b[0mc\u001b[0m\u001b[0;34m]\u001b[0m \u001b[0;32mfor\u001b[0m \u001b[0mc\u001b[0m \u001b[0;32min\u001b[0m \u001b[0mx\u001b[0m\u001b[0;34m]\u001b[0m \u001b[0;32mfor\u001b[0m \u001b[0mx\u001b[0m \u001b[0;32min\u001b[0m \u001b[0mX_train\u001b[0m\u001b[0;34m]\u001b[0m\u001b[0;34m\u001b[0m\u001b[0m\n\u001b[1;32m      2\u001b[0m \u001b[0my_ground_truth_enc\u001b[0m \u001b[0;34m=\u001b[0m \u001b[0;34m[\u001b[0m\u001b[0;34m[\u001b[0m\u001b[0;36m0\u001b[0m\u001b[0;34m]\u001b[0m \u001b[0;34m*\u001b[0m \u001b[0;34m(\u001b[0m\u001b[0mmaxlen\u001b[0m \u001b[0;34m-\u001b[0m \u001b[0mlen\u001b[0m\u001b[0;34m(\u001b[0m\u001b[0mey\u001b[0m\u001b[0;34m)\u001b[0m\u001b[0;34m)\u001b[0m \u001b[0;34m+\u001b[0m \u001b[0;34m[\u001b[0m\u001b[0mlabel2ind\u001b[0m\u001b[0;34m[\u001b[0m\u001b[0mc\u001b[0m\u001b[0;34m]\u001b[0m \u001b[0;32mfor\u001b[0m \u001b[0mc\u001b[0m \u001b[0;32min\u001b[0m \u001b[0mey\u001b[0m\u001b[0;34m]\u001b[0m \u001b[0;32mfor\u001b[0m \u001b[0mey\u001b[0m \u001b[0;32min\u001b[0m \u001b[0my_ground_truth\u001b[0m\u001b[0;34m]\u001b[0m\u001b[0;34m\u001b[0m\u001b[0m\n\u001b[0;32m----> 3\u001b[0;31m \u001b[0my_ground_truth_enc\u001b[0m \u001b[0;34m=\u001b[0m \u001b[0;34m[\u001b[0m\u001b[0;34m[\u001b[0m\u001b[0mencode\u001b[0m\u001b[0;34m(\u001b[0m\u001b[0mc\u001b[0m\u001b[0;34m,\u001b[0m \u001b[0mmax_label\u001b[0m\u001b[0;34m)\u001b[0m \u001b[0;32mfor\u001b[0m \u001b[0mc\u001b[0m \u001b[0;32min\u001b[0m \u001b[0mey\u001b[0m\u001b[0;34m]\u001b[0m \u001b[0;32mfor\u001b[0m \u001b[0mey\u001b[0m \u001b[0;32min\u001b[0m \u001b[0my_ground_truth_enc\u001b[0m\u001b[0;34m]\u001b[0m\u001b[0;34m\u001b[0m\u001b[0m\n\u001b[0m\u001b[1;32m      4\u001b[0m \u001b[0my_mv_enc\u001b[0m \u001b[0;34m=\u001b[0m \u001b[0;34m[\u001b[0m\u001b[0;34m[\u001b[0m\u001b[0;36m0\u001b[0m\u001b[0;34m]\u001b[0m \u001b[0;34m*\u001b[0m \u001b[0;34m(\u001b[0m\u001b[0mmaxlen\u001b[0m \u001b[0;34m-\u001b[0m \u001b[0mlen\u001b[0m\u001b[0;34m(\u001b[0m\u001b[0mey\u001b[0m\u001b[0;34m)\u001b[0m\u001b[0;34m)\u001b[0m \u001b[0;34m+\u001b[0m \u001b[0;34m[\u001b[0m\u001b[0mlabel2ind\u001b[0m\u001b[0;34m[\u001b[0m\u001b[0mc\u001b[0m\u001b[0;34m]\u001b[0m \u001b[0;32mfor\u001b[0m \u001b[0mc\u001b[0m \u001b[0;32min\u001b[0m \u001b[0mey\u001b[0m\u001b[0;34m]\u001b[0m \u001b[0;32mfor\u001b[0m \u001b[0mey\u001b[0m \u001b[0;32min\u001b[0m \u001b[0my_mv\u001b[0m\u001b[0;34m]\u001b[0m\u001b[0;34m\u001b[0m\u001b[0m\n\u001b[1;32m      5\u001b[0m \u001b[0my_mv_enc\u001b[0m \u001b[0;34m=\u001b[0m \u001b[0;34m[\u001b[0m\u001b[0;34m[\u001b[0m\u001b[0mencode\u001b[0m\u001b[0;34m(\u001b[0m\u001b[0mc\u001b[0m\u001b[0;34m,\u001b[0m \u001b[0mmax_label\u001b[0m\u001b[0;34m)\u001b[0m \u001b[0;32mfor\u001b[0m \u001b[0mc\u001b[0m \u001b[0;32min\u001b[0m \u001b[0mey\u001b[0m\u001b[0;34m]\u001b[0m \u001b[0;32mfor\u001b[0m \u001b[0mey\u001b[0m \u001b[0;32min\u001b[0m \u001b[0my_mv_enc\u001b[0m\u001b[0;34m]\u001b[0m\u001b[0;34m\u001b[0m\u001b[0m\n",
      "\u001b[0;32m<ipython-input-102-5ef1402e9f1f>\u001b[0m in \u001b[0;36m<listcomp>\u001b[0;34m(.0)\u001b[0m\n\u001b[1;32m      1\u001b[0m \u001b[0mX_train_enc\u001b[0m \u001b[0;34m=\u001b[0m \u001b[0;34m[\u001b[0m\u001b[0;34m[\u001b[0m\u001b[0mword2ind\u001b[0m\u001b[0;34m[\u001b[0m\u001b[0mc\u001b[0m\u001b[0;34m]\u001b[0m \u001b[0;32mfor\u001b[0m \u001b[0mc\u001b[0m \u001b[0;32min\u001b[0m \u001b[0mx\u001b[0m\u001b[0;34m]\u001b[0m \u001b[0;32mfor\u001b[0m \u001b[0mx\u001b[0m \u001b[0;32min\u001b[0m \u001b[0mX_train\u001b[0m\u001b[0;34m]\u001b[0m\u001b[0;34m\u001b[0m\u001b[0m\n\u001b[1;32m      2\u001b[0m \u001b[0my_ground_truth_enc\u001b[0m \u001b[0;34m=\u001b[0m \u001b[0;34m[\u001b[0m\u001b[0;34m[\u001b[0m\u001b[0;36m0\u001b[0m\u001b[0;34m]\u001b[0m \u001b[0;34m*\u001b[0m \u001b[0;34m(\u001b[0m\u001b[0mmaxlen\u001b[0m \u001b[0;34m-\u001b[0m \u001b[0mlen\u001b[0m\u001b[0;34m(\u001b[0m\u001b[0mey\u001b[0m\u001b[0;34m)\u001b[0m\u001b[0;34m)\u001b[0m \u001b[0;34m+\u001b[0m \u001b[0;34m[\u001b[0m\u001b[0mlabel2ind\u001b[0m\u001b[0;34m[\u001b[0m\u001b[0mc\u001b[0m\u001b[0;34m]\u001b[0m \u001b[0;32mfor\u001b[0m \u001b[0mc\u001b[0m \u001b[0;32min\u001b[0m \u001b[0mey\u001b[0m\u001b[0;34m]\u001b[0m \u001b[0;32mfor\u001b[0m \u001b[0mey\u001b[0m \u001b[0;32min\u001b[0m \u001b[0my_ground_truth\u001b[0m\u001b[0;34m]\u001b[0m\u001b[0;34m\u001b[0m\u001b[0m\n\u001b[0;32m----> 3\u001b[0;31m \u001b[0my_ground_truth_enc\u001b[0m \u001b[0;34m=\u001b[0m \u001b[0;34m[\u001b[0m\u001b[0;34m[\u001b[0m\u001b[0mencode\u001b[0m\u001b[0;34m(\u001b[0m\u001b[0mc\u001b[0m\u001b[0;34m,\u001b[0m \u001b[0mmax_label\u001b[0m\u001b[0;34m)\u001b[0m \u001b[0;32mfor\u001b[0m \u001b[0mc\u001b[0m \u001b[0;32min\u001b[0m \u001b[0mey\u001b[0m\u001b[0;34m]\u001b[0m \u001b[0;32mfor\u001b[0m \u001b[0mey\u001b[0m \u001b[0;32min\u001b[0m \u001b[0my_ground_truth_enc\u001b[0m\u001b[0;34m]\u001b[0m\u001b[0;34m\u001b[0m\u001b[0m\n\u001b[0m\u001b[1;32m      4\u001b[0m \u001b[0my_mv_enc\u001b[0m \u001b[0;34m=\u001b[0m \u001b[0;34m[\u001b[0m\u001b[0;34m[\u001b[0m\u001b[0;36m0\u001b[0m\u001b[0;34m]\u001b[0m \u001b[0;34m*\u001b[0m \u001b[0;34m(\u001b[0m\u001b[0mmaxlen\u001b[0m \u001b[0;34m-\u001b[0m \u001b[0mlen\u001b[0m\u001b[0;34m(\u001b[0m\u001b[0mey\u001b[0m\u001b[0;34m)\u001b[0m\u001b[0;34m)\u001b[0m \u001b[0;34m+\u001b[0m \u001b[0;34m[\u001b[0m\u001b[0mlabel2ind\u001b[0m\u001b[0;34m[\u001b[0m\u001b[0mc\u001b[0m\u001b[0;34m]\u001b[0m \u001b[0;32mfor\u001b[0m \u001b[0mc\u001b[0m \u001b[0;32min\u001b[0m \u001b[0mey\u001b[0m\u001b[0;34m]\u001b[0m \u001b[0;32mfor\u001b[0m \u001b[0mey\u001b[0m \u001b[0;32min\u001b[0m \u001b[0my_mv\u001b[0m\u001b[0;34m]\u001b[0m\u001b[0;34m\u001b[0m\u001b[0m\n\u001b[1;32m      5\u001b[0m \u001b[0my_mv_enc\u001b[0m \u001b[0;34m=\u001b[0m \u001b[0;34m[\u001b[0m\u001b[0;34m[\u001b[0m\u001b[0mencode\u001b[0m\u001b[0;34m(\u001b[0m\u001b[0mc\u001b[0m\u001b[0;34m,\u001b[0m \u001b[0mmax_label\u001b[0m\u001b[0;34m)\u001b[0m \u001b[0;32mfor\u001b[0m \u001b[0mc\u001b[0m \u001b[0;32min\u001b[0m \u001b[0mey\u001b[0m\u001b[0;34m]\u001b[0m \u001b[0;32mfor\u001b[0m \u001b[0mey\u001b[0m \u001b[0;32min\u001b[0m \u001b[0my_mv_enc\u001b[0m\u001b[0;34m]\u001b[0m\u001b[0;34m\u001b[0m\u001b[0m\n",
      "\u001b[0;32m<ipython-input-102-5ef1402e9f1f>\u001b[0m in \u001b[0;36m<listcomp>\u001b[0;34m(.0)\u001b[0m\n\u001b[1;32m      1\u001b[0m \u001b[0mX_train_enc\u001b[0m \u001b[0;34m=\u001b[0m \u001b[0;34m[\u001b[0m\u001b[0;34m[\u001b[0m\u001b[0mword2ind\u001b[0m\u001b[0;34m[\u001b[0m\u001b[0mc\u001b[0m\u001b[0;34m]\u001b[0m \u001b[0;32mfor\u001b[0m \u001b[0mc\u001b[0m \u001b[0;32min\u001b[0m \u001b[0mx\u001b[0m\u001b[0;34m]\u001b[0m \u001b[0;32mfor\u001b[0m \u001b[0mx\u001b[0m \u001b[0;32min\u001b[0m \u001b[0mX_train\u001b[0m\u001b[0;34m]\u001b[0m\u001b[0;34m\u001b[0m\u001b[0m\n\u001b[1;32m      2\u001b[0m \u001b[0my_ground_truth_enc\u001b[0m \u001b[0;34m=\u001b[0m \u001b[0;34m[\u001b[0m\u001b[0;34m[\u001b[0m\u001b[0;36m0\u001b[0m\u001b[0;34m]\u001b[0m \u001b[0;34m*\u001b[0m \u001b[0;34m(\u001b[0m\u001b[0mmaxlen\u001b[0m \u001b[0;34m-\u001b[0m \u001b[0mlen\u001b[0m\u001b[0;34m(\u001b[0m\u001b[0mey\u001b[0m\u001b[0;34m)\u001b[0m\u001b[0;34m)\u001b[0m \u001b[0;34m+\u001b[0m \u001b[0;34m[\u001b[0m\u001b[0mlabel2ind\u001b[0m\u001b[0;34m[\u001b[0m\u001b[0mc\u001b[0m\u001b[0;34m]\u001b[0m \u001b[0;32mfor\u001b[0m \u001b[0mc\u001b[0m \u001b[0;32min\u001b[0m \u001b[0mey\u001b[0m\u001b[0;34m]\u001b[0m \u001b[0;32mfor\u001b[0m \u001b[0mey\u001b[0m \u001b[0;32min\u001b[0m \u001b[0my_ground_truth\u001b[0m\u001b[0;34m]\u001b[0m\u001b[0;34m\u001b[0m\u001b[0m\n\u001b[0;32m----> 3\u001b[0;31m \u001b[0my_ground_truth_enc\u001b[0m \u001b[0;34m=\u001b[0m \u001b[0;34m[\u001b[0m\u001b[0;34m[\u001b[0m\u001b[0mencode\u001b[0m\u001b[0;34m(\u001b[0m\u001b[0mc\u001b[0m\u001b[0;34m,\u001b[0m \u001b[0mmax_label\u001b[0m\u001b[0;34m)\u001b[0m \u001b[0;32mfor\u001b[0m \u001b[0mc\u001b[0m \u001b[0;32min\u001b[0m \u001b[0mey\u001b[0m\u001b[0;34m]\u001b[0m \u001b[0;32mfor\u001b[0m \u001b[0mey\u001b[0m \u001b[0;32min\u001b[0m \u001b[0my_ground_truth_enc\u001b[0m\u001b[0;34m]\u001b[0m\u001b[0;34m\u001b[0m\u001b[0m\n\u001b[0m\u001b[1;32m      4\u001b[0m \u001b[0my_mv_enc\u001b[0m \u001b[0;34m=\u001b[0m \u001b[0;34m[\u001b[0m\u001b[0;34m[\u001b[0m\u001b[0;36m0\u001b[0m\u001b[0;34m]\u001b[0m \u001b[0;34m*\u001b[0m \u001b[0;34m(\u001b[0m\u001b[0mmaxlen\u001b[0m \u001b[0;34m-\u001b[0m \u001b[0mlen\u001b[0m\u001b[0;34m(\u001b[0m\u001b[0mey\u001b[0m\u001b[0;34m)\u001b[0m\u001b[0;34m)\u001b[0m \u001b[0;34m+\u001b[0m \u001b[0;34m[\u001b[0m\u001b[0mlabel2ind\u001b[0m\u001b[0;34m[\u001b[0m\u001b[0mc\u001b[0m\u001b[0;34m]\u001b[0m \u001b[0;32mfor\u001b[0m \u001b[0mc\u001b[0m \u001b[0;32min\u001b[0m \u001b[0mey\u001b[0m\u001b[0;34m]\u001b[0m \u001b[0;32mfor\u001b[0m \u001b[0mey\u001b[0m \u001b[0;32min\u001b[0m \u001b[0my_mv\u001b[0m\u001b[0;34m]\u001b[0m\u001b[0;34m\u001b[0m\u001b[0m\n\u001b[1;32m      5\u001b[0m \u001b[0my_mv_enc\u001b[0m \u001b[0;34m=\u001b[0m \u001b[0;34m[\u001b[0m\u001b[0;34m[\u001b[0m\u001b[0mencode\u001b[0m\u001b[0;34m(\u001b[0m\u001b[0mc\u001b[0m\u001b[0;34m,\u001b[0m \u001b[0mmax_label\u001b[0m\u001b[0;34m)\u001b[0m \u001b[0;32mfor\u001b[0m \u001b[0mc\u001b[0m \u001b[0;32min\u001b[0m \u001b[0mey\u001b[0m\u001b[0;34m]\u001b[0m \u001b[0;32mfor\u001b[0m \u001b[0mey\u001b[0m \u001b[0;32min\u001b[0m \u001b[0my_mv_enc\u001b[0m\u001b[0;34m]\u001b[0m\u001b[0;34m\u001b[0m\u001b[0m\n",
      "\u001b[0;31mNameError\u001b[0m: name 'encode' is not defined"
     ]
    }
   ],
   "source": [
    "X_train_enc = [[word2ind[c] for c in x] for x in X_train]\n",
    "X_test_enc = [[word2ind[c] for c in x] for x in X_test]"
   ]
  },
  {
   "cell_type": "code",
   "execution_count": 179,
   "metadata": {},
   "outputs": [
    {
     "name": "stdout",
     "output_type": "stream",
     "text": [
      "shape: (17780, 47, 9)\n"
     ]
    }
   ],
   "source": [
    "T_weights = np.sum(y_obs != -1,axis=0) #distribucion de anotaciones\n",
    "K = np.max(y_obs)+1 # asumiendo que estan ordenadas\n",
    "\n",
    "y_obs_categorical = set_representation(y_obs,'onehot') #for raykar\n",
    "print(\"shape:\",y_obs_categorical.shape)"
   ]
  },
  {
   "cell_type": "code",
   "execution_count": 180,
   "metadata": {
    "scrolled": true
   },
   "outputs": [
    {
     "data": {
      "image/png": "[encoded data removed]",
      "text/plain": [
       "<Figure size 432x288 with 1 Axes>"
      ]
     },
     "metadata": {},
     "output_type": "display_data"
    },
    {
     "name": "stdout",
     "output_type": "stream",
     "text": [
      "Minimum annotations in a example:  1\n",
      "Maximum annotations in a example:  8\n",
      "T data (expected value):  4.515466816647919\n",
      "Graphics of T weights\n"
     ]
    },
    {
     "data": {
      "image/png": "[encoded data removed]",
      "text/plain": [
       "<Figure size 432x288 with 1 Axes>"
      ]
     },
     "metadata": {},
     "output_type": "display_data"
    },
    {
     "data": {
      "image/png": "[encoded data removed]",
      "text/plain": [
       "<Figure size 432x288 with 1 Axes>"
      ]
     },
     "metadata": {},
     "output_type": "display_data"
    },
    {
     "name": "stdout",
     "output_type": "stream",
     "text": [
      "Minimum annotations by an annotator:  170\n",
      "Maximum annotations by an annotator:  6293\n",
      "Mean annotations by an annotator:  1708.1914893617022\n"
     ]
    }
   ],
   "source": [
    "#graphics and distribution? what is T_data\n",
    "N_ann = np.sum(y_obs != -1,axis=1) #distribucion de anotaciones con este valor\n",
    "\n",
    "sns.countplot(N_ann)\n",
    "plt.show()\n",
    "print(\"Minimum annotations in a example: \",N_ann.min())\n",
    "print(\"Maximum annotations in a example: \",N_ann.max())\n",
    "print(\"T data (expected value): \",N_ann.mean())\n",
    "\n",
    "print(\"Graphics of T weights\")\n",
    "plt.hist(T_weights)\n",
    "plt.show()\n",
    "\n",
    "plt.boxplot(T_weights)\n",
    "plt.show()\n",
    "print(\"Minimum annotations by an annotator: \",T_weights.min())\n",
    "print(\"Maximum annotations by an annotator: \",T_weights.max())\n",
    "print(\"Mean annotations by an annotator: \",T_weights.mean())"
   ]
  },
  {
   "cell_type": "code",
   "execution_count": 181,
   "metadata": {
    "scrolled": true
   },
   "outputs": [
    {
     "name": "stdout",
     "output_type": "stream",
     "text": [
      "Bayesian gaussian mixture say is 8 clusters \n",
      "DBSCAN say is 2 clusters\n",
      "Affinity Propagation say is 1 clusters\n"
     ]
    },
    {
     "data": {
      "image/png": "[encoded data removed]",
      "text/plain": [
       "<Figure size 432x288 with 1 Axes>"
      ]
     },
     "metadata": {},
     "output_type": "display_data"
    },
    {
     "name": "stdout",
     "output_type": "stream",
     "text": [
      "ACC MV on train: 0.6534308211473566\n",
      "F1 MV on train: 0.6534308211473566\n",
      "Normalized entropy (0-1) of repeats annotations: 0.19120196236851741\n"
     ]
    },
    {
     "data": {
      "image/png": "[encoded data removed]",
      "text/plain": [
       "<Figure size 432x288 with 1 Axes>"
      ]
     },
     "metadata": {},
     "output_type": "display_data"
    }
   ],
   "source": [
    "annotators_pca = project_and_cluster(y_obs_categorical,DTYPE_OP=DTYPE_OP,mode_project='pca')[0]\n",
    "std = StandardScaler(with_mean=True,with_std=True)\n",
    "annotators_pca2 = std.fit_transform(annotators_pca)\n",
    "plt.scatter(annotators_pca2[:,0],annotators_pca2[:,1])\n",
    "plt.show()\n",
    "\n",
    "from sklearn.metrics import f1_score\n",
    "label_I = LabelInference(y_obs,1,type_inf = 'mv')\n",
    "mv_onehot = label_I.mv_labels('classes')\n",
    "print(\"ACC MV on train:\",np.mean(mv_onehot==Z_train))\n",
    "print(\"F1 MV on train:\",f1_score(Z_train,mv_onehot,average=\"micro\"))\n",
    "\n",
    "\n",
    "mv_soft = majority_voting(label_I.y_obs_repeat,repeats=True,probas=True) \n",
    "aux = []\n",
    "for example in mv_soft:\n",
    "    aux.append(entropy(example)/np.log(K))\n",
    "print(\"Normalized entropy (0-1) of repeats annotations:\",np.mean(aux))\n",
    "\n",
    "\n",
    "predicted = np.clip(mv_soft, keras.backend.epsilon(), 1.)\n",
    "data_to_cluster = []\n",
    "for i in range(mv_soft.shape[0]):\n",
    "    for j in range(mv_soft.shape[1]):\n",
    "        ob = np.tile(keras.backend.epsilon(), mv_soft.shape[1])\n",
    "        ob[j] = 1\n",
    "        true = np.clip(predicted[i],keras.backend.epsilon(),1.)      \n",
    "        f_l = distance_function(true, ob)  #funcion de distancia o similaridad\n",
    "        data_to_cluster.append(f_l)  \n",
    "data_to_cluster = np.asarray(data_to_cluster)\n",
    "model = PCA(n_components=min(3,mv_soft.shape[0]) ) \n",
    "data_to_cluster = model.fit_transform(data_to_cluster)\n",
    "\n",
    "std = StandardScaler(with_mean=True,with_std=True)\n",
    "data_to_plot = std.fit_transform(data_to_cluster)\n",
    "plt.scatter(data_to_plot[:,0],data_to_plot[:,1])\n",
    "plt.show()"
   ]
  },
  {
   "cell_type": "code",
   "execution_count": null,
   "metadata": {},
   "outputs": [],
   "source": []
  },
  {
   "cell_type": "code",
   "execution_count": null,
   "metadata": {},
   "outputs": [],
   "source": []
  },
  {
   "cell_type": "markdown",
   "metadata": {
    "collapsed": true
   },
   "source": [
    "### Movie reviews\n",
    "---\n",
    "\n",
    "Necesario ver cómo discretizar.."
   ]
  },
  {
   "cell_type": "code",
   "execution_count": 2,
   "metadata": {},
   "outputs": [
    {
     "name": "stdout",
     "output_type": "stream",
     "text": [
      "Num. train texts: 1498\n",
      "Num. test texts:  3508\n"
     ]
    }
   ],
   "source": [
    "folder = \"../Deep Learning from Crowds/MovieReviews/\"\n",
    "def read_texts(filename):\n",
    "    f = open(filename)\n",
    "    data = [line.strip() for line in f]\n",
    "    f.close()\n",
    "    return data\n",
    "texts_train = read_texts(folder+\"texts_train.txt\")\n",
    "targets_train = np.loadtxt(folder+\"ratings_train.txt\")\n",
    "\n",
    "texts_test = read_texts(folder+\"texts_test.txt\")\n",
    "targets_test = np.loadtxt(folder+\"ratings_test.txt\")\n",
    "\n",
    "print(\"Num. train texts: %d\" % len(texts_train))\n",
    "print(\"Num. test texts:  %d\" % len(texts_test))"
   ]
  },
  {
   "cell_type": "code",
   "execution_count": 3,
   "metadata": {},
   "outputs": [
    {
     "data": {
      "text/plain": [
       "(array([  7.,  40., 137., 206., 279., 251., 285., 183.,  97.,  13.]),\n",
       " array([0.05 , 0.145, 0.24 , 0.335, 0.43 , 0.525, 0.62 , 0.715, 0.81 ,\n",
       "        0.905, 1.   ]),\n",
       " <a list of 10 Patch objects>)"
      ]
     },
     "execution_count": 3,
     "metadata": {},
     "output_type": "execute_result"
    },
    {
     "data": {
      "image/png": "[encoded data removed]",
      "text/plain": [
       "<Figure size 432x288 with 1 Axes>"
      ]
     },
     "metadata": {},
     "output_type": "display_data"
    }
   ],
   "source": [
    "plt.hist(targets_train)"
   ]
  },
  {
   "cell_type": "code",
   "execution_count": 72,
   "metadata": {
    "scrolled": true
   },
   "outputs": [
    {
     "name": "stdout",
     "output_type": "stream",
     "text": [
      "Minimum data on split:  299.6\n",
      "Splits obtained:  4\n",
      "Splits obtained ammount:  [387, 303, 513, 295]\n"
     ]
    },
    {
     "data": {
      "text/plain": [
       "array([0.  , 0.41, 0.58, 0.71, 1.1 ])"
      ]
     },
     "execution_count": 72,
     "metadata": {},
     "output_type": "execute_result"
    }
   ],
   "source": [
    "##stratified range..\n",
    "limits = [0]\n",
    "pos_values = np.unique(targets_train)\n",
    "\n",
    "N = targets_train.shape[0]\n",
    "splits = 5 #5 ,7,8\n",
    "acum_split = []\n",
    "data_by_split = N/(splits) #minimum data on split\n",
    "print(\"Minimum data on split: \",data_by_split)\n",
    "\n",
    "for i in range(splits-1):\n",
    "    if i != len(limits)-1:\n",
    "        break\n",
    "    upper_values = pos_values[pos_values>=limits[i]]\n",
    "    for value in upper_values: #find the upper limit\n",
    "        range_v = (limits[i] <= targets_train ) & (targets_train < value)\n",
    "        if np.sum(range_v) >= data_by_split:\n",
    "            limits.append(value)\n",
    "            acum_split.append(np.sum(range_v))\n",
    "            break\n",
    "range_v = (limits[-1] <= targets_train ) & (targets_train <=1)\n",
    "limits.append(np.max(pos_values)+0.1)\n",
    "acum_split.append(np.sum(range_v))\n",
    "limits = np.asarray(limits)\n",
    "\n",
    "print(\"Splits obtained: \",len(acum_split))\n",
    "print(\"Splits obtained ammount: \",acum_split)\n",
    "limits"
   ]
  },
  {
   "cell_type": "code",
   "execution_count": 73,
   "metadata": {},
   "outputs": [
    {
     "data": {
      "text/plain": [
       "<matplotlib.axes._subplots.AxesSubplot at 0x7ff8eb21fcf8>"
      ]
     },
     "execution_count": 73,
     "metadata": {},
     "output_type": "execute_result"
    },
    {
     "data": {
      "image/png": "[encoded data removed]",
      "text/plain": [
       "<Figure size 432x288 with 1 Axes>"
      ]
     },
     "metadata": {},
     "output_type": "display_data"
    }
   ],
   "source": [
    "def continous_2_cat(data):\n",
    "    if data == -1:\n",
    "        return -1\n",
    "    return np.where(limits <= data )[0][-1]\n",
    "\n",
    "targets_train_cat = list(map(continous_2_cat,targets_train ))\n",
    "targets_test_cat = list(map(continous_2_cat,targets_test ))\n",
    "sns.countplot(targets_train_cat)"
   ]
  },
  {
   "cell_type": "code",
   "execution_count": 69,
   "metadata": {},
   "outputs": [
    {
     "data": {
      "text/plain": [
       "<matplotlib.axes._subplots.AxesSubplot at 0x7ff8eb316ba8>"
      ]
     },
     "execution_count": 69,
     "metadata": {},
     "output_type": "execute_result"
    },
    {
     "data": {
      "image/png": "[encoded data removed]",
      "text/plain": [
       "<Figure size 432x288 with 1 Axes>"
      ]
     },
     "metadata": {},
     "output_type": "display_data"
    }
   ],
   "source": [
    "def continous_2_cat(data):\n",
    "    if data == -1:\n",
    "        return data\n",
    "    return math.ceil(data*10) -1\n",
    "\n",
    "targets_train_cat = list(map(continous_2_cat,targets_train ))\n",
    "targets_test_cat = list(map(continous_2_cat,targets_test ))\n",
    "sns.countplot(targets_train)"
   ]
  },
  {
   "cell_type": "code",
   "execution_count": 74,
   "metadata": {},
   "outputs": [
    {
     "name": "stdout",
     "output_type": "stream",
     "text": [
      "AMT answers matrix shape: (1498, 135)\n",
      "Num. annotators: 135\n"
     ]
    },
    {
     "data": {
      "text/plain": [
       "array([[ 0,  3, -1, ..., -1, -1, -1],\n",
       "       [ 0, -1, -1, ..., -1, -1, -1],\n",
       "       [ 0, -1, -1, ..., -1, -1, -1],\n",
       "       ...,\n",
       "       [ 3,  3, -1, ..., -1, -1, -1],\n",
       "       [ 3,  3, -1, ..., -1, -1, -1],\n",
       "       [ 3,  3, -1, ..., -1, -1, -1]], dtype=int16)"
      ]
     },
     "execution_count": 74,
     "metadata": {},
     "output_type": "execute_result"
    }
   ],
   "source": [
    "answers = pd.read_csv(folder+\"answers.txt\", header=None, delimiter=\" \").as_matrix()\n",
    "answers = answers[:,:-1]\n",
    "answers[answers == 1.1] = 1.\n",
    "answers[answers == -0.1] = 0.\n",
    "print(\"AMT answers matrix shape: %s\" % str(answers.shape))\n",
    "N_ANNOT = answers.shape[1]\n",
    "print(\"Num. annotators: %d\" % N_ANNOT)\n",
    "\n",
    "y_obs = np.empty_like(answers)\n",
    "for i in range(answers.shape[0]):\n",
    "    y_obs[i] = list(map(continous_2_cat, answers[i]))\n",
    "y_obs = y_obs.astype('int16')\n",
    "N,T = y_obs.shape\n",
    "K = np.max(y_obs)+1 # asumiendo que estan ordenadas\n",
    "y_obs"
   ]
  },
  {
   "cell_type": "code",
   "execution_count": 49,
   "metadata": {
    "scrolled": true
   },
   "outputs": [
    {
     "data": {
      "image/png": "[encoded data removed]",
      "text/plain": [
       "<Figure size 432x288 with 1 Axes>"
      ]
     },
     "metadata": {},
     "output_type": "display_data"
    },
    {
     "name": "stdout",
     "output_type": "stream",
     "text": [
      "Minimum annotations in a example:  4\n",
      "Maximum annotations in a example:  5\n",
      "T data (expected value):  4.959946595460615\n",
      "Graphics of T weights\n"
     ]
    },
    {
     "data": {
      "image/png": "[encoded data removed]",
      "text/plain": [
       "<Figure size 432x288 with 1 Axes>"
      ]
     },
     "metadata": {},
     "output_type": "display_data"
    },
    {
     "data": {
      "image/png": "[encoded data removed]",
      "text/plain": [
       "<Figure size 432x288 with 1 Axes>"
      ]
     },
     "metadata": {},
     "output_type": "display_data"
    },
    {
     "name": "stdout",
     "output_type": "stream",
     "text": [
      "Minimum annotations by an annotator:  2\n",
      "Maximum annotations by an annotator:  1359\n",
      "Mean annotations by an annotator:  55.03703703703704\n"
     ]
    }
   ],
   "source": [
    "#graphics and distribution? what is T_data\n",
    "T_weights = np.sum(y_obs != -1,axis=0) #distribucion de anotaciones\n",
    "\n",
    "N_ann = np.sum(y_obs != -1,axis=1) #distribucion de anotaciones con este valor\n",
    "\n",
    "sns.countplot(N_ann)\n",
    "plt.show()\n",
    "print(\"Minimum annotations in a example: \",N_ann.min())\n",
    "print(\"Maximum annotations in a example: \",N_ann.max())\n",
    "print(\"T data (expected value): \",N_ann.mean())\n",
    "\n",
    "print(\"Graphics of T weights\")\n",
    "plt.hist(T_weights)\n",
    "plt.show()\n",
    "\n",
    "plt.boxplot(T_weights)\n",
    "plt.show()\n",
    "print(\"Minimum annotations by an annotator: \",T_weights.min())\n",
    "print(\"Maximum annotations by an annotator: \",T_weights.max())\n",
    "print(\"Mean annotations by an annotator: \",T_weights.mean())"
   ]
  },
  {
   "cell_type": "code",
   "execution_count": null,
   "metadata": {
    "scrolled": true
   },
   "outputs": [
    {
     "name": "stdout",
     "output_type": "stream",
     "text": [
      "shape: (1498, 135, 4)\n",
      "Bayesian gaussian mixture say is 8 clusters \n",
      "DBSCAN say is 2 clusters\n",
      "Affinity Propagation say is 1 clusters\n"
     ]
    }
   ],
   "source": [
    "y_obs_categorical = set_representation(y_obs,'onehot') #for raykar\n",
    "print(\"shape:\",y_obs_categorical.shape)\n",
    "annotators_pca = project_and_cluster(y_obs_categorical,DTYPE_OP=DTYPE_OP,mode_project='pca')[0]\n",
    "std = StandardScaler(with_mean=True,with_std=True)\n",
    "annotators_pca2 = std.fit_transform(annotators_pca)\n",
    "plt.scatter(annotators_pca2[:,0],annotators_pca2[:,1])\n",
    "plt.show()\n",
    "\n",
    "label_I = LabelInference(y_obs,1,type_inf = 'mv')\n",
    "mv_onehot, conf_ma = label_I.mv_labels('classes')\n",
    "print(\"ACC MV on train:\",np.mean(mv_onehot==targets_train_cat))\n",
    "\n",
    "mv_soft = majority_voting(label_I.y_obs_repeat,repeats=True,probas=True) \n",
    "aux = []\n",
    "for example in mv_soft:\n",
    "    aux.append(entropy(example)/np.log(K))\n",
    "print(\"Normalized entropy (0-1) of repeats annotations:\",np.mean(aux))\n",
    "\n",
    "\n",
    "predicted = np.clip(mv_soft, keras.backend.epsilon(), 1.)\n",
    "data_to_cluster = []\n",
    "for i in range(mv_soft.shape[0]):\n",
    "    for j in range(mv_soft.shape[1]):\n",
    "        ob = np.tile(keras.backend.epsilon(), mv_soft.shape[1])\n",
    "        ob[j] = 1\n",
    "        true = np.clip(predicted[i],keras.backend.epsilon(),1.)      \n",
    "        f_l = distance_function(true, ob)  #funcion de distancia o similaridad\n",
    "        data_to_cluster.append(f_l)  \n",
    "data_to_cluster = np.asarray(data_to_cluster)\n",
    "model = PCA(n_components=min(3,mv_soft.shape[0]) ) \n",
    "data_to_cluster = model.fit_transform(data_to_cluster)\n",
    "\n",
    "std = StandardScaler(with_mean=True,with_std=True)\n",
    "data_to_plot = std.fit_transform(data_to_cluster)\n",
    "plt.scatter(data_to_plot[:,0],data_to_plot[:,1])\n",
    "plt.show()\n",
    "\n",
    "\n",
    "Y_ann_train, T_idx = set_representation(y_obs,\"onehotvar\")\n",
    "from code.MixtureofGroups import *\n",
    "conf_mat, conf_mat_norm  = build_conf_Yvar(Y_ann_train, T_idx, mv_soft.argmax(axis=-1))\n",
    "\n",
    "A_rep = conf_mat_norm.reshape(conf_mat_norm.shape[0], K**2) #flatten\n",
    "\n",
    "from sklearn.decomposition import PCA\n",
    "model = PCA(2)\n",
    "aux_pca = model.fit_transform(A_rep)\n",
    "plt.scatter(aux_pca[:,0],aux_pca[:,1])\n",
    "plt.show()\n"
   ]
  },
  {
   "cell_type": "code",
   "execution_count": null,
   "metadata": {},
   "outputs": [],
   "source": []
  },
  {
   "cell_type": "code",
   "execution_count": null,
   "metadata": {},
   "outputs": [],
   "source": []
  },
  {
   "cell_type": "markdown",
   "metadata": {},
   "source": [
    "### FG-NET"
   ]
  },
  {
   "cell_type": "code",
   "execution_count": 3,
   "metadata": {
    "scrolled": true
   },
   "outputs": [
    {
     "data": {
      "text/html": [
       "<div>\n",
       "<style scoped>\n",
       "    .dataframe tbody tr th:only-of-type {\n",
       "        vertical-align: middle;\n",
       "    }\n",
       "\n",
       "    .dataframe tbody tr th {\n",
       "        vertical-align: top;\n",
       "    }\n",
       "\n",
       "    .dataframe thead th {\n",
       "        text-align: right;\n",
       "    }\n",
       "</style>\n",
       "<table border=\"1\" class=\"dataframe\">\n",
       "  <thead>\n",
       "    <tr style=\"text-align: right;\">\n",
       "      <th></th>\n",
       "      <th>GT</th>\n",
       "      <th>file name</th>\n",
       "      <th>a1</th>\n",
       "      <th>a2</th>\n",
       "      <th>a3</th>\n",
       "      <th>a4</th>\n",
       "      <th>a5</th>\n",
       "      <th>a6</th>\n",
       "      <th>a7</th>\n",
       "      <th>a8</th>\n",
       "      <th>a9</th>\n",
       "      <th>a10</th>\n",
       "    </tr>\n",
       "  </thead>\n",
       "  <tbody>\n",
       "    <tr>\n",
       "      <th>0</th>\n",
       "      <td>18</td>\n",
       "      <td>FG_890022_M_18.jpg</td>\n",
       "      <td>16.0</td>\n",
       "      <td>19.0</td>\n",
       "      <td>45.0</td>\n",
       "      <td>23.0</td>\n",
       "      <td>24.0</td>\n",
       "      <td>21.0</td>\n",
       "      <td>22.0</td>\n",
       "      <td>30.0</td>\n",
       "      <td>26.0</td>\n",
       "      <td>23.0</td>\n",
       "    </tr>\n",
       "    <tr>\n",
       "      <th>1</th>\n",
       "      <td>9</td>\n",
       "      <td>FG_890065_F_09.jpg</td>\n",
       "      <td>8.0</td>\n",
       "      <td>10.0</td>\n",
       "      <td>12.0</td>\n",
       "      <td>7.0</td>\n",
       "      <td>11.0</td>\n",
       "      <td>10.0</td>\n",
       "      <td>7.0</td>\n",
       "      <td>9.0</td>\n",
       "      <td>10.0</td>\n",
       "      <td>11.0</td>\n",
       "    </tr>\n",
       "    <tr>\n",
       "      <th>2</th>\n",
       "      <td>25</td>\n",
       "      <td>FG_890034_F_25.jpg</td>\n",
       "      <td>30.0</td>\n",
       "      <td>21.0</td>\n",
       "      <td>35.0</td>\n",
       "      <td>33.0</td>\n",
       "      <td>18.0</td>\n",
       "      <td>26.0</td>\n",
       "      <td>30.0</td>\n",
       "      <td>22.0</td>\n",
       "      <td>32.0</td>\n",
       "      <td>44.0</td>\n",
       "    </tr>\n",
       "    <tr>\n",
       "      <th>3</th>\n",
       "      <td>11</td>\n",
       "      <td>FG_890066_M_11.jpg</td>\n",
       "      <td>13.0</td>\n",
       "      <td>14.0</td>\n",
       "      <td>11.0</td>\n",
       "      <td>14.0</td>\n",
       "      <td>12.0</td>\n",
       "      <td>12.0</td>\n",
       "      <td>12.0</td>\n",
       "      <td>13.0</td>\n",
       "      <td>15.0</td>\n",
       "      <td>10.0</td>\n",
       "    </tr>\n",
       "    <tr>\n",
       "      <th>4</th>\n",
       "      <td>30</td>\n",
       "      <td>FG_890034_F_30.jpg</td>\n",
       "      <td>44.0</td>\n",
       "      <td>32.0</td>\n",
       "      <td>35.0</td>\n",
       "      <td>45.0</td>\n",
       "      <td>36.0</td>\n",
       "      <td>53.0</td>\n",
       "      <td>45.0</td>\n",
       "      <td>33.0</td>\n",
       "      <td>25.0</td>\n",
       "      <td>35.0</td>\n",
       "    </tr>\n",
       "  </tbody>\n",
       "</table>\n",
       "</div>"
      ],
      "text/plain": [
       "   GT           file name    a1    a2    a3    a4    a5    a6    a7    a8  \\\n",
       "0  18  FG_890022_M_18.jpg  16.0  19.0  45.0  23.0  24.0  21.0  22.0  30.0   \n",
       "1   9  FG_890065_F_09.jpg   8.0  10.0  12.0   7.0  11.0  10.0   7.0   9.0   \n",
       "2  25  FG_890034_F_25.jpg  30.0  21.0  35.0  33.0  18.0  26.0  30.0  22.0   \n",
       "3  11  FG_890066_M_11.jpg  13.0  14.0  11.0  14.0  12.0  12.0  12.0  13.0   \n",
       "4  30  FG_890034_F_30.jpg  44.0  32.0  35.0  45.0  36.0  53.0  45.0  33.0   \n",
       "\n",
       "     a9   a10  \n",
       "0  26.0  23.0  \n",
       "1  10.0  11.0  \n",
       "2  32.0  44.0  \n",
       "3  15.0  10.0  \n",
       "4  25.0  35.0  "
      ]
     },
     "execution_count": 3,
     "metadata": {},
     "output_type": "execute_result"
    }
   ],
   "source": [
    "folder =\"../FG-Net_Age/\"\n",
    "\n",
    "columns = [\"GT\",\"file name\",\"a1\",\"a2\",\"a3\",\"a4\",\"a5\",\"a6\",\"a7\",\"a8\",\"a9\",\"a10\"]\n",
    "df_ann = pd.read_csv(folder+\"fgnet_age_estimations.csv\",header=None,names=columns)\n",
    "df_ann.head()"
   ]
  },
  {
   "cell_type": "code",
   "execution_count": 25,
   "metadata": {
    "scrolled": true
   },
   "outputs": [
    {
     "data": {
      "image/png": "[encoded data removed]",
      "text/plain": [
       "<Figure size 432x288 with 1 Axes>"
      ]
     },
     "metadata": {},
     "output_type": "display_data"
    },
    {
     "data": {
      "image/png": "[encoded data removed]",
      "text/plain": [
       "<Figure size 432x288 with 1 Axes>"
      ]
     },
     "metadata": {},
     "output_type": "display_data"
    },
    {
     "name": "stdout",
     "output_type": "stream",
     "text": [
      "10\n"
     ]
    }
   ],
   "source": [
    "gt_aux = df_ann[\"GT\"].values\n",
    "plt.hist(gt_aux)\n",
    "plt.show()\n",
    "\n",
    "#discretizar cada 10?-- exponencial mejor...\n",
    "K = int(round(aux.max()/10., 0))\n",
    "\n",
    "Z_data = np.zeros((df_ann.shape[0]))\n",
    "for i in range(Z_data.shape[0]):\n",
    "    Z_data[i] = int(gt_aux[i]/10)\n",
    "\n",
    "    \n",
    "aux = df_ann.iloc[:,2:].values\n",
    "\n",
    "r_obs = np.zeros((df_ann.shape[0],K))\n",
    "for i,anns in enumerate(aux):\n",
    "    for value in anns:\n",
    "        r_obs[ i,int(value/10)] +=1\n",
    "\n",
    "plt.hist(Z_data,bins=20)\n",
    "plt.show()\n",
    "print(K)"
   ]
  },
  {
   "cell_type": "code",
   "execution_count": 26,
   "metadata": {},
   "outputs": [
    {
     "data": {
      "text/plain": [
       "array([[0., 2., 6., ..., 0., 0., 0.],\n",
       "       [4., 6., 0., ..., 0., 0., 0.],\n",
       "       [0., 1., 3., ..., 0., 0., 0.],\n",
       "       ...,\n",
       "       [0., 5., 5., ..., 0., 0., 0.],\n",
       "       [0., 1., 3., ..., 0., 0., 0.],\n",
       "       [0., 2., 6., ..., 0., 0., 0.]])"
      ]
     },
     "execution_count": 26,
     "metadata": {},
     "output_type": "execute_result"
    }
   ],
   "source": [
    "r_obs"
   ]
  },
  {
   "cell_type": "code",
   "execution_count": 31,
   "metadata": {},
   "outputs": [
    {
     "name": "stdout",
     "output_type": "stream",
     "text": [
      "Normalized entropy (0-1) of repeats annotations: 0.2885518767426358\n",
      "ACC MV on train: 0.6676646706586826\n"
     ]
    },
    {
     "data": {
      "image/png": "[encoded data removed]",
      "text/plain": [
       "<Figure size 432x288 with 1 Axes>"
      ]
     },
     "metadata": {},
     "output_type": "display_data"
    }
   ],
   "source": [
    "mv_soft = majority_voting(r_obs,repeats=True,probas=True) \n",
    "aux = []\n",
    "for example in mv_soft:\n",
    "    aux.append(entropy(example)/np.log(K))\n",
    "print(\"Normalized entropy (0-1) of repeats annotations:\",np.mean(aux))\n",
    "\n",
    "print(\"ACC MV on train:\",np.mean(mv_soft.argmax(axis=-1)==Z_data))\n",
    "\n",
    "predicted = np.clip(mv_soft, keras.backend.epsilon(), 1.)\n",
    "data_to_cluster = []\n",
    "for i in range(mv_soft.shape[0]):\n",
    "    for j in range(mv_soft.shape[1]):\n",
    "        ob = np.tile(keras.backend.epsilon(), mv_soft.shape[1])\n",
    "        ob[j] = 1\n",
    "        true = np.clip(predicted[i],keras.backend.epsilon(),1.)      \n",
    "        f_l = distance_function(true, ob)  #funcion de distancia o similaridad\n",
    "        data_to_cluster.append(f_l)  \n",
    "data_to_cluster = np.asarray(data_to_cluster)\n",
    "model = PCA(n_components=min(3,mv_soft.shape[0]) ) \n",
    "data_to_cluster = model.fit_transform(data_to_cluster)\n",
    "\n",
    "std = StandardScaler(with_mean=True,with_std=True)\n",
    "data_to_plot = std.fit_transform(data_to_cluster)\n",
    "plt.scatter(data_to_plot[:,0],data_to_plot[:,1])\n",
    "plt.show()"
   ]
  },
  {
   "cell_type": "markdown",
   "metadata": {},
   "source": [
    "### DAISEE"
   ]
  },
  {
   "cell_type": "code",
   "execution_count": 7,
   "metadata": {},
   "outputs": [
    {
     "data": {
      "text/html": [
       "<div>\n",
       "<style scoped>\n",
       "    .dataframe tbody tr th:only-of-type {\n",
       "        vertical-align: middle;\n",
       "    }\n",
       "\n",
       "    .dataframe tbody tr th {\n",
       "        vertical-align: top;\n",
       "    }\n",
       "\n",
       "    .dataframe thead th {\n",
       "        text-align: right;\n",
       "    }\n",
       "</style>\n",
       "<table border=\"1\" class=\"dataframe\">\n",
       "  <thead>\n",
       "    <tr style=\"text-align: right;\">\n",
       "      <th></th>\n",
       "      <th>ClipID</th>\n",
       "      <th>Boredom</th>\n",
       "      <th>Engagement</th>\n",
       "      <th>Confusion</th>\n",
       "      <th>Frustration</th>\n",
       "    </tr>\n",
       "  </thead>\n",
       "  <tbody>\n",
       "    <tr>\n",
       "      <th>0</th>\n",
       "      <td>1100011002.avi</td>\n",
       "      <td>0</td>\n",
       "      <td>2</td>\n",
       "      <td>0</td>\n",
       "      <td>0</td>\n",
       "    </tr>\n",
       "    <tr>\n",
       "      <th>1</th>\n",
       "      <td>1100011003.avi</td>\n",
       "      <td>0</td>\n",
       "      <td>2</td>\n",
       "      <td>0</td>\n",
       "      <td>0</td>\n",
       "    </tr>\n",
       "    <tr>\n",
       "      <th>2</th>\n",
       "      <td>1100011004.avi</td>\n",
       "      <td>0</td>\n",
       "      <td>3</td>\n",
       "      <td>0</td>\n",
       "      <td>0</td>\n",
       "    </tr>\n",
       "    <tr>\n",
       "      <th>3</th>\n",
       "      <td>1100011005.avi</td>\n",
       "      <td>0</td>\n",
       "      <td>3</td>\n",
       "      <td>0</td>\n",
       "      <td>0</td>\n",
       "    </tr>\n",
       "    <tr>\n",
       "      <th>4</th>\n",
       "      <td>1100011006.avi</td>\n",
       "      <td>0</td>\n",
       "      <td>3</td>\n",
       "      <td>0</td>\n",
       "      <td>0</td>\n",
       "    </tr>\n",
       "  </tbody>\n",
       "</table>\n",
       "</div>"
      ],
      "text/plain": [
       "           ClipID  Boredom  Engagement  Confusion  Frustration \n",
       "0  1100011002.avi        0           2          0             0\n",
       "1  1100011003.avi        0           2          0             0\n",
       "2  1100011004.avi        0           3          0             0\n",
       "3  1100011005.avi        0           3          0             0\n",
       "4  1100011006.avi        0           3          0             0"
      ]
     },
     "execution_count": 7,
     "metadata": {},
     "output_type": "execute_result"
    }
   ],
   "source": [
    "folder =\"../DAiSEE/Labels/\"\n",
    "\n",
    "df_global = pd.read_csv(folder+\"AllLabels.csv\")\n",
    "label_names = df_global.columns[1:]\n",
    "df_global.head()"
   ]
  },
  {
   "cell_type": "code",
   "execution_count": 8,
   "metadata": {},
   "outputs": [
    {
     "data": {
      "text/plain": [
       "array([[0, 2, 0, 0],\n",
       "       [0, 2, 0, 0],\n",
       "       [0, 3, 0, 0],\n",
       "       ...,\n",
       "       [1, 3, 0, 2],\n",
       "       [1, 3, 1, 1],\n",
       "       [0, 1, 0, 0]])"
      ]
     },
     "execution_count": 8,
     "metadata": {},
     "output_type": "execute_result"
    }
   ],
   "source": [
    "r_obs = df_global.iloc[:,1:].values\n",
    "r_obs"
   ]
  },
  {
   "cell_type": "code",
   "execution_count": 10,
   "metadata": {},
   "outputs": [
    {
     "data": {
      "text/plain": [
       "3.967619047619048"
      ]
     },
     "execution_count": 10,
     "metadata": {},
     "output_type": "execute_result"
    }
   ],
   "source": [
    "r_obs.sum(axis=-1).mean()"
   ]
  },
  {
   "cell_type": "markdown",
   "metadata": {},
   "source": [
    "### Sentiment Analysis"
   ]
  },
  {
   "cell_type": "code",
   "execution_count": 3,
   "metadata": {},
   "outputs": [
    {
     "name": "stdout",
     "output_type": "stream",
     "text": [
      "Dataset de Sentiment Analysis shape:  (27746, 6)\n"
     ]
    },
    {
     "data": {
      "text/html": [
       "<div>\n",
       "<style scoped>\n",
       "    .dataframe tbody tr th:only-of-type {\n",
       "        vertical-align: middle;\n",
       "    }\n",
       "\n",
       "    .dataframe tbody tr th {\n",
       "        vertical-align: top;\n",
       "    }\n",
       "\n",
       "    .dataframe thead th {\n",
       "        text-align: right;\n",
       "    }\n",
       "</style>\n",
       "<table border=\"1\" class=\"dataframe\">\n",
       "  <thead>\n",
       "    <tr style=\"text-align: right;\">\n",
       "      <th></th>\n",
       "      <th>WorkerId</th>\n",
       "      <th>Input.id</th>\n",
       "      <th>Input.original_sentence</th>\n",
       "      <th>Input.stemmed_sent</th>\n",
       "      <th>Input.true_sent</th>\n",
       "      <th>Answer.sent</th>\n",
       "    </tr>\n",
       "  </thead>\n",
       "  <tbody>\n",
       "    <tr>\n",
       "      <th>0</th>\n",
       "      <td>A2HD5XMM48KKJW</td>\n",
       "      <td>4518</td>\n",
       "      <td>the cast is phenomenal , especially the women .</td>\n",
       "      <td>cast phenomen especi women</td>\n",
       "      <td>pos</td>\n",
       "      <td>pos</td>\n",
       "    </tr>\n",
       "    <tr>\n",
       "      <th>1</th>\n",
       "      <td>A2HD5XMM48KKJW</td>\n",
       "      <td>10415</td>\n",
       "      <td>the metaphors are provocative , but too often ...</td>\n",
       "      <td>metaphor provoc often viewer left puzzl mechan...</td>\n",
       "      <td>neg</td>\n",
       "      <td>neg</td>\n",
       "    </tr>\n",
       "    <tr>\n",
       "      <th>2</th>\n",
       "      <td>A2HD5XMM48KKJW</td>\n",
       "      <td>7098</td>\n",
       "      <td>while there's something intrinsically funny ab...</td>\n",
       "      <td>there someth intrins funni sir anthoni hopkin ...</td>\n",
       "      <td>neg</td>\n",
       "      <td>pos</td>\n",
       "    </tr>\n",
       "    <tr>\n",
       "      <th>3</th>\n",
       "      <td>A2HD5XMM48KKJW</td>\n",
       "      <td>4396</td>\n",
       "      <td>a harrowing account of a psychological breakdo...</td>\n",
       "      <td>harrow account psycholog breakdown</td>\n",
       "      <td>pos</td>\n",
       "      <td>neg</td>\n",
       "    </tr>\n",
       "    <tr>\n",
       "      <th>4</th>\n",
       "      <td>A2HD5XMM48KKJW</td>\n",
       "      <td>2812</td>\n",
       "      <td>. . . a visually seductive , unrepentantly tr...</td>\n",
       "      <td>visual seduct unrepentantli trashi rice instal...</td>\n",
       "      <td>pos</td>\n",
       "      <td>pos</td>\n",
       "    </tr>\n",
       "  </tbody>\n",
       "</table>\n",
       "</div>"
      ],
      "text/plain": [
       "         WorkerId  Input.id  \\\n",
       "0  A2HD5XMM48KKJW      4518   \n",
       "1  A2HD5XMM48KKJW     10415   \n",
       "2  A2HD5XMM48KKJW      7098   \n",
       "3  A2HD5XMM48KKJW      4396   \n",
       "4  A2HD5XMM48KKJW      2812   \n",
       "\n",
       "                             Input.original_sentence  \\\n",
       "0   the cast is phenomenal , especially the women .    \n",
       "1  the metaphors are provocative , but too often ...   \n",
       "2  while there's something intrinsically funny ab...   \n",
       "3  a harrowing account of a psychological breakdo...   \n",
       "4   . . . a visually seductive , unrepentantly tr...   \n",
       "\n",
       "                                  Input.stemmed_sent Input.true_sent  \\\n",
       "0                         cast phenomen especi women             pos   \n",
       "1  metaphor provoc often viewer left puzzl mechan...             neg   \n",
       "2  there someth intrins funni sir anthoni hopkin ...             neg   \n",
       "3                 harrow account psycholog breakdown             pos   \n",
       "4  visual seduct unrepentantli trashi rice instal...             pos   \n",
       "\n",
       "  Answer.sent  \n",
       "0         pos  \n",
       "1         neg  \n",
       "2         pos  \n",
       "3         neg  \n",
       "4         pos  "
      ]
     },
     "execution_count": 3,
     "metadata": {},
     "output_type": "execute_result"
    }
   ],
   "source": [
    "#me movie review website RottenTomatoes\n",
    "folder = \"../MTurk_paper/\"\n",
    "\n",
    "df = pd.read_csv(folder+\"sentiment_polarity/mturk_answers.csv\") \n",
    "print(\"Dataset de Sentiment Analysis shape: \",df.shape)\n",
    "df.head()"
   ]
  },
  {
   "cell_type": "code",
   "execution_count": 70,
   "metadata": {
    "scrolled": true
   },
   "outputs": [
    {
     "data": {
      "text/plain": [
       "(4999, 203)"
      ]
     },
     "execution_count": 70,
     "metadata": {},
     "output_type": "execute_result"
    }
   ],
   "source": [
    "data_id = {}\n",
    "worker_id = {}\n",
    "contador_data, contador_work = 0,0\n",
    "\n",
    "for row in df.values:\n",
    "    work_id = row[0]\n",
    "    inp_id = row[1]\n",
    "    if inp_id not in data_id:\n",
    "        data_id[inp_id] = contador_data\n",
    "        contador_data+=1        \n",
    "    if work_id not in worker_id:\n",
    "        worker_id[work_id] = contador_work\n",
    "        contador_work+=1\n",
    "        \n",
    "Z_data = np.zeros(contador_data, dtype='int16')\n",
    "y_obs = np.ones((contador_data,contador_work),dtype='int16')*-1\n",
    "for row in df.values:\n",
    "    work_id = row[0]\n",
    "    inp_id = row[1]\n",
    "    text = row[2]\n",
    "    gt = row[4]\n",
    "    ann = row[5]\n",
    "    \n",
    "    Z_data[data_id[inp_id]] = (gt == \"pos\")*1\n",
    "    y_obs[data_id[inp_id], worker_id[work_id]] = (ann == \"pos\")*1\n",
    "    \n",
    "N, T = y_obs.shape\n",
    "K = 2\n",
    "y_obs.shape"
   ]
  },
  {
   "cell_type": "code",
   "execution_count": 26,
   "metadata": {
    "scrolled": true
   },
   "outputs": [
    {
     "data": {
      "image/png": "[encoded data removed]",
      "text/plain": [
       "<Figure size 432x288 with 1 Axes>"
      ]
     },
     "metadata": {},
     "output_type": "display_data"
    },
    {
     "name": "stdout",
     "output_type": "stream",
     "text": [
      "Minimum annotations in a example:  4\n",
      "Maximum annotations in a example:  10\n",
      "T data (expected value):  5.550310062012403\n",
      "Graphics of T weights\n"
     ]
    },
    {
     "data": {
      "image/png": "[encoded data removed]",
      "text/plain": [
       "<Figure size 432x288 with 1 Axes>"
      ]
     },
     "metadata": {},
     "output_type": "display_data"
    },
    {
     "data": {
      "image/png": "[encoded data removed]",
      "text/plain": [
       "<Figure size 432x288 with 1 Axes>"
      ]
     },
     "metadata": {},
     "output_type": "display_data"
    },
    {
     "name": "stdout",
     "output_type": "stream",
     "text": [
      "Minimum annotations by an annotator:  5\n",
      "Maximum annotations by an annotator:  3993\n",
      "Mean annotations by an annotator:  136.67980295566502\n"
     ]
    }
   ],
   "source": [
    "#graphics and distribution? what is T_data\n",
    "T_weights = np.sum(y_obs != -1,axis=0) #distribucion de anotaciones\n",
    "N_ann = np.sum(y_obs != -1,axis=1) #distribucion de anotaciones con este valor\n",
    "\n",
    "sns.countplot(N_ann)\n",
    "plt.show()\n",
    "print(\"Minimum annotations in a example: \",N_ann.min())\n",
    "print(\"Maximum annotations in a example: \",N_ann.max())\n",
    "print(\"T data (expected value): \",N_ann.mean())\n",
    "\n",
    "print(\"Graphics of T weights\")\n",
    "plt.hist(T_weights)\n",
    "plt.show()\n",
    "\n",
    "plt.boxplot(T_weights)\n",
    "plt.show()\n",
    "print(\"Minimum annotations by an annotator: \",T_weights.min())\n",
    "print(\"Maximum annotations by an annotator: \",T_weights.max())\n",
    "print(\"Mean annotations by an annotator: \",T_weights.mean())"
   ]
  },
  {
   "cell_type": "code",
   "execution_count": 45,
   "metadata": {
    "scrolled": true
   },
   "outputs": [
    {
     "name": "stdout",
     "output_type": "stream",
     "text": [
      "Representation for MV in 0.212330 sec\n",
      "Estimation MV in 0.000391 sec\n",
      "ACC MV on train: 0.8895779155831166\n",
      "F1 MV on train: 0.8895779155831166\n",
      "Normalized entropy (0-1) of repeats annotations: 0.49546839861751707\n"
     ]
    },
    {
     "data": {
      "image/png": "[encoded data removed]",
      "text/plain": [
       "<Figure size 432x288 with 1 Axes>"
      ]
     },
     "metadata": {},
     "output_type": "display_data"
    },
    {
     "data": {
      "image/png": "[encoded data removed]",
      "text/plain": [
       "<Figure size 432x288 with 1 Axes>"
      ]
     },
     "metadata": {},
     "output_type": "display_data"
    }
   ],
   "source": [
    "from sklearn.metrics import f1_score\n",
    "label_I = LabelInference(y_obs,1,type_inf = 'mv')\n",
    "mv_onehot, conf = label_I.mv_labels('classes')\n",
    "print(\"ACC MV on train:\",np.mean(mv_onehot==Z_data))\n",
    "print(\"F1 MV on train:\",f1_score(Z_data,mv_onehot,average=\"micro\"))\n",
    "\n",
    "\n",
    "mv_soft = majority_voting(label_I.y_obs_repeat,repeats=True,probas=True) \n",
    "aux = []\n",
    "for example in mv_soft:\n",
    "    aux.append(entropy(example)/np.log(K))\n",
    "print(\"Normalized entropy (0-1) of repeats annotations:\",np.mean(aux))\n",
    "\n",
    "predicted = np.clip(mv_soft, keras.backend.epsilon(), 1.)\n",
    "data_to_cluster = []\n",
    "for i in range(mv_soft.shape[0]):\n",
    "    for j in range(mv_soft.shape[1]):\n",
    "        ob = np.tile(keras.backend.epsilon(), mv_soft.shape[1])\n",
    "        ob[j] = 1\n",
    "        true = np.clip(predicted[i],keras.backend.epsilon(),1.)      \n",
    "        f_l = distance_function(true, ob)  #funcion de distancia o similaridad\n",
    "        data_to_cluster.append(f_l)  \n",
    "data_to_cluster = np.asarray(data_to_cluster)\n",
    "model = PCA(n_components=min(3,mv_soft.shape[1]) ) \n",
    "data_to_cluster = model.fit_transform(data_to_cluster)\n",
    "\n",
    "std = StandardScaler(with_mean=True,with_std=True)\n",
    "data_to_plot = std.fit_transform(data_to_cluster)\n",
    "plt.scatter(data_to_plot[:,0],data_to_plot[:,1])\n",
    "plt.show()\n",
    "\n",
    "\n",
    "Y_ann_train, T_idx = set_representation(y_obs,\"onehotvar\")\n",
    "from code.MixtureofGroups import *\n",
    "conf_mat, conf_mat_norm  = build_conf_Yvar(Y_ann_train, T_idx, mv_soft.argmax(axis=-1))\n",
    "\n",
    "A_rep = conf_mat_norm.reshape(conf_mat_norm.shape[0], K**2) #flatten\n",
    "\n",
    "from sklearn.decomposition import PCA\n",
    "model = PCA(2)\n",
    "aux_pca = model.fit_transform(A_rep)\n",
    "plt.scatter(aux_pca[:,0],aux_pca[:,1])\n",
    "plt.show()"
   ]
  },
  {
   "cell_type": "code",
   "execution_count": null,
   "metadata": {},
   "outputs": [],
   "source": []
  },
  {
   "cell_type": "code",
   "execution_count": 97,
   "metadata": {
    "scrolled": true
   },
   "outputs": [
    {
     "name": "stdout",
     "output_type": "stream",
     "text": [
      "(1000, 16)\n"
     ]
    },
    {
     "name": "stderr",
     "output_type": "stream",
     "text": [
      "/home/casapanshop/anaconda2/envs/py3/lib/python3.5/site-packages/pandas/io/parsers.py:709: UserWarning: Duplicate names specified. This will raise an error in the future.\n",
      "  return _read(filepath_or_buffer, kwds)\n"
     ]
    },
    {
     "data": {
      "text/html": [
       "<div>\n",
       "<style scoped>\n",
       "    .dataframe tbody tr th:only-of-type {\n",
       "        vertical-align: middle;\n",
       "    }\n",
       "\n",
       "    .dataframe tbody tr th {\n",
       "        vertical-align: top;\n",
       "    }\n",
       "\n",
       "    .dataframe thead th {\n",
       "        text-align: right;\n",
       "    }\n",
       "</style>\n",
       "<table border=\"1\" class=\"dataframe\">\n",
       "  <thead>\n",
       "    <tr style=\"text-align: right;\">\n",
       "      <th></th>\n",
       "      <th>PrimaryKey</th>\n",
       "      <th>User1</th>\n",
       "      <th>realLabel</th>\n",
       "      <th>actual_tweat</th>\n",
       "      <th>User2</th>\n",
       "      <th>realLabel.1</th>\n",
       "      <th>actual_tweat.1</th>\n",
       "      <th>User3</th>\n",
       "      <th>realLabel.2</th>\n",
       "      <th>actual_tweat.2</th>\n",
       "      <th>User4</th>\n",
       "      <th>realLabel.3</th>\n",
       "      <th>actual_tweat.3</th>\n",
       "      <th>User5</th>\n",
       "      <th>realLabel.4</th>\n",
       "      <th>actual_tweat.4</th>\n",
       "    </tr>\n",
       "  </thead>\n",
       "  <tbody>\n",
       "    <tr>\n",
       "      <th>0</th>\n",
       "      <td>1</td>\n",
       "      <td>A17G2QHR8AH5VV</td>\n",
       "      <td>1</td>\n",
       "      <td>0</td>\n",
       "      <td>A3QTDW5WP4GFKV</td>\n",
       "      <td>1</td>\n",
       "      <td>0</td>\n",
       "      <td>A2QNS7MODF0A2N</td>\n",
       "      <td>1</td>\n",
       "      <td>0</td>\n",
       "      <td>A3TSHG5R492EHU</td>\n",
       "      <td>1</td>\n",
       "      <td>0</td>\n",
       "      <td>A2NBP5OTOYX3WK</td>\n",
       "      <td>1</td>\n",
       "      <td>0</td>\n",
       "    </tr>\n",
       "    <tr>\n",
       "      <th>1</th>\n",
       "      <td>2</td>\n",
       "      <td>A3OZ8KF0HWSVWK</td>\n",
       "      <td>1</td>\n",
       "      <td>1</td>\n",
       "      <td>A3TSHG5R492EHU</td>\n",
       "      <td>1</td>\n",
       "      <td>1</td>\n",
       "      <td>A1SCNO7L71ITFY</td>\n",
       "      <td>1</td>\n",
       "      <td>1</td>\n",
       "      <td>A2SB5KUOAGU70U</td>\n",
       "      <td>1</td>\n",
       "      <td>1</td>\n",
       "      <td>A1YW00TFC187CC</td>\n",
       "      <td>1</td>\n",
       "      <td>0</td>\n",
       "    </tr>\n",
       "    <tr>\n",
       "      <th>2</th>\n",
       "      <td>3</td>\n",
       "      <td>A2460QZM5TZC4V</td>\n",
       "      <td>1</td>\n",
       "      <td>1</td>\n",
       "      <td>A52AHJEUWFSA2</td>\n",
       "      <td>1</td>\n",
       "      <td>1</td>\n",
       "      <td>A2N2KQXUPLNDWI</td>\n",
       "      <td>1</td>\n",
       "      <td>1</td>\n",
       "      <td>A3OZ8KF0HWSVWK</td>\n",
       "      <td>1</td>\n",
       "      <td>1</td>\n",
       "      <td>A3U1K9X1LXA5JA</td>\n",
       "      <td>1</td>\n",
       "      <td>1</td>\n",
       "    </tr>\n",
       "    <tr>\n",
       "      <th>3</th>\n",
       "      <td>4</td>\n",
       "      <td>AADB14P6ZCSOC</td>\n",
       "      <td>0</td>\n",
       "      <td>0</td>\n",
       "      <td>A1SCNO7L71ITFY</td>\n",
       "      <td>0</td>\n",
       "      <td>0</td>\n",
       "      <td>A29PMRCRJ7Q9ZD</td>\n",
       "      <td>0</td>\n",
       "      <td>0</td>\n",
       "      <td>A2QNS7MODF0A2N</td>\n",
       "      <td>0</td>\n",
       "      <td>0</td>\n",
       "      <td>A3TSHG5R492EHU</td>\n",
       "      <td>0</td>\n",
       "      <td>0</td>\n",
       "    </tr>\n",
       "    <tr>\n",
       "      <th>4</th>\n",
       "      <td>5</td>\n",
       "      <td>A2460QZM5TZC4V</td>\n",
       "      <td>1</td>\n",
       "      <td>0</td>\n",
       "      <td>A3P08N6X9HDJ2V</td>\n",
       "      <td>1</td>\n",
       "      <td>0</td>\n",
       "      <td>A3OZ8KF0HWSVWK</td>\n",
       "      <td>1</td>\n",
       "      <td>0</td>\n",
       "      <td>A2H3M1JVY991Q3</td>\n",
       "      <td>1</td>\n",
       "      <td>1</td>\n",
       "      <td>ARX0S1CIDJLOX</td>\n",
       "      <td>1</td>\n",
       "      <td>0</td>\n",
       "    </tr>\n",
       "  </tbody>\n",
       "</table>\n",
       "</div>"
      ],
      "text/plain": [
       "   PrimaryKey           User1  realLabel  actual_tweat           User2  \\\n",
       "0           1  A17G2QHR8AH5VV          1             0  A3QTDW5WP4GFKV   \n",
       "1           2  A3OZ8KF0HWSVWK          1             1  A3TSHG5R492EHU   \n",
       "2           3  A2460QZM5TZC4V          1             1   A52AHJEUWFSA2   \n",
       "3           4   AADB14P6ZCSOC          0             0  A1SCNO7L71ITFY   \n",
       "4           5  A2460QZM5TZC4V          1             0  A3P08N6X9HDJ2V   \n",
       "\n",
       "   realLabel.1  actual_tweat.1           User3  realLabel.2  actual_tweat.2  \\\n",
       "0            1               0  A2QNS7MODF0A2N            1               0   \n",
       "1            1               1  A1SCNO7L71ITFY            1               1   \n",
       "2            1               1  A2N2KQXUPLNDWI            1               1   \n",
       "3            0               0  A29PMRCRJ7Q9ZD            0               0   \n",
       "4            1               0  A3OZ8KF0HWSVWK            1               0   \n",
       "\n",
       "            User4  realLabel.3  actual_tweat.3           User5  realLabel.4  \\\n",
       "0  A3TSHG5R492EHU            1               0  A2NBP5OTOYX3WK            1   \n",
       "1  A2SB5KUOAGU70U            1               1  A1YW00TFC187CC            1   \n",
       "2  A3OZ8KF0HWSVWK            1               1  A3U1K9X1LXA5JA            1   \n",
       "3  A2QNS7MODF0A2N            0               0  A3TSHG5R492EHU            0   \n",
       "4  A2H3M1JVY991Q3            1               1   ARX0S1CIDJLOX            1   \n",
       "\n",
       "   actual_tweat.4  \n",
       "0               0  \n",
       "1               0  \n",
       "2               1  \n",
       "3               0  \n",
       "4               0  "
      ]
     },
     "execution_count": 97,
     "metadata": {},
     "output_type": "execute_result"
    }
   ],
   "source": [
    "folder = \"../Mozafari/Sentiment/\"\n",
    "\n",
    "columns = [\"PrimaryKey\"]\n",
    "for i in range(1,6):\n",
    "    columns.append(\"User\"+str(i))\n",
    "    columns.append(\"realLabel\")\n",
    "    columns.append(\"actual_tweat\")\n",
    "df_ann = pd.read_csv(folder+\"tweets10k.crd\",header=None,names=columns)\n",
    "print(df_ann.shape)\n",
    "df_ann.head()"
   ]
  },
  {
   "cell_type": "code",
   "execution_count": 48,
   "metadata": {},
   "outputs": [
    {
     "name": "stdout",
     "output_type": "stream",
     "text": [
      "(10000, 3)\n"
     ]
    },
    {
     "data": {
      "text/html": [
       "<div>\n",
       "<style scoped>\n",
       "    .dataframe tbody tr th:only-of-type {\n",
       "        vertical-align: middle;\n",
       "    }\n",
       "\n",
       "    .dataframe tbody tr th {\n",
       "        vertical-align: top;\n",
       "    }\n",
       "\n",
       "    .dataframe thead th {\n",
       "        text-align: right;\n",
       "    }\n",
       "</style>\n",
       "<table border=\"1\" class=\"dataframe\">\n",
       "  <thead>\n",
       "    <tr style=\"text-align: right;\">\n",
       "      <th></th>\n",
       "      <th>PrimaryKey</th>\n",
       "      <th>realLabel</th>\n",
       "      <th>actual_tweat</th>\n",
       "    </tr>\n",
       "  </thead>\n",
       "  <tbody>\n",
       "    <tr>\n",
       "      <th>0</th>\n",
       "      <td>1</td>\n",
       "      <td>1</td>\n",
       "      <td>@chazdrums if i know how to do something</td>\n",
       "    </tr>\n",
       "    <tr>\n",
       "      <th>1</th>\n",
       "      <td>2</td>\n",
       "      <td>1</td>\n",
       "      <td>@m_ariii alright</td>\n",
       "    </tr>\n",
       "    <tr>\n",
       "      <th>2</th>\n",
       "      <td>3</td>\n",
       "      <td>1</td>\n",
       "      <td>@lsndr87 Good Luck Girl</td>\n",
       "    </tr>\n",
       "    <tr>\n",
       "      <th>3</th>\n",
       "      <td>4</td>\n",
       "      <td>0</td>\n",
       "      <td>@sloanb Got it</td>\n",
       "    </tr>\n",
       "    <tr>\n",
       "      <th>4</th>\n",
       "      <td>5</td>\n",
       "      <td>1</td>\n",
       "      <td>@lilyroseallen that's hotel tv's for ya</td>\n",
       "    </tr>\n",
       "  </tbody>\n",
       "</table>\n",
       "</div>"
      ],
      "text/plain": [
       "   PrimaryKey  realLabel                              actual_tweat\n",
       "0           1          1  @chazdrums if i know how to do something\n",
       "1           2          1                          @m_ariii alright\n",
       "2           3          1                  @lsndr87 Good Luck Girl \n",
       "3           4          0                            @sloanb Got it\n",
       "4           5          1  @lilyroseallen that's hotel tv's for ya "
      ]
     },
     "execution_count": 48,
     "metadata": {},
     "output_type": "execute_result"
    }
   ],
   "source": [
    "df_gt = pd.read_csv(folder+\"tweets10k.details\",header=None,names=[\"PrimaryKey\",\"realLabel\", \"actual_tweat\"],index_col=False)\n",
    "print(df_gt.shape)\n",
    "df_gt.head() ### could be test.."
   ]
  },
  {
   "cell_type": "code",
   "execution_count": 104,
   "metadata": {
    "scrolled": true
   },
   "outputs": [
    {
     "data": {
      "text/plain": [
       "(1000, 83)"
      ]
     },
     "execution_count": 104,
     "metadata": {},
     "output_type": "execute_result"
    }
   ],
   "source": [
    "data_id = {}\n",
    "worker_id = {}\n",
    "contador_data, contador_work = 0,0\n",
    "\n",
    "for row in df_ann.values:\n",
    "    inp_id = row[0]\n",
    "    if inp_id not in data_id:\n",
    "        data_id[inp_id] = contador_data\n",
    "        contador_data+=1        \n",
    "    \n",
    "    for i in np.arange(1,len(row),3):\n",
    "        work_id = row[i]\n",
    "        if work_id not in worker_id:\n",
    "            worker_id[work_id] = contador_work\n",
    "            contador_work+=1  \n",
    "\n",
    "Z_data = np.zeros(contador_data, dtype='int16')\n",
    "y_obs = np.ones((contador_data,contador_work),dtype='int16')*-1\n",
    "for row in df_ann.values:\n",
    "    inp_id = row[0]\n",
    "    #text = row[2] #extraer desde df_gt\n",
    "    gt = row[2]\n",
    "    Z_data[data_id[inp_id]] = (gt == 1)*1\n",
    "    \n",
    "    for i in np.arange(1,len(row),3):\n",
    "        work_id = row[i]\n",
    "        ann = row[i+2]\n",
    "        y_obs[data_id[inp_id], worker_id[work_id]] = (ann == 1)*1\n",
    "    \n",
    "N, T = y_obs.shape\n",
    "K = 2\n",
    "#Z_data\n",
    "y_obs.shape"
   ]
  },
  {
   "cell_type": "code",
   "execution_count": 99,
   "metadata": {
    "scrolled": true
   },
   "outputs": [
    {
     "data": {
      "image/png": "[encoded data removed]",
      "text/plain": [
       "<Figure size 432x288 with 1 Axes>"
      ]
     },
     "metadata": {},
     "output_type": "display_data"
    },
    {
     "name": "stdout",
     "output_type": "stream",
     "text": [
      "Minimum annotations in a example:  5\n",
      "Maximum annotations in a example:  5\n",
      "T data (expected value):  5.0\n",
      "Graphics of T weights\n"
     ]
    },
    {
     "data": {
      "image/png": "[encoded data removed]",
      "text/plain": [
       "<Figure size 432x288 with 1 Axes>"
      ]
     },
     "metadata": {},
     "output_type": "display_data"
    },
    {
     "data": {
      "image/png": "[encoded data removed]",
      "text/plain": [
       "<Figure size 432x288 with 1 Axes>"
      ]
     },
     "metadata": {},
     "output_type": "display_data"
    },
    {
     "name": "stdout",
     "output_type": "stream",
     "text": [
      "Minimum annotations by an annotator:  1\n",
      "Maximum annotations by an annotator:  846\n",
      "Mean annotations by an annotator:  60.24096385542169\n"
     ]
    }
   ],
   "source": [
    "#graphics and distribution? what is T_data\n",
    "T_weights = np.sum(y_obs != -1,axis=0) #distribucion de anotaciones\n",
    "N_ann = np.sum(y_obs != -1,axis=1) #distribucion de anotaciones con este valor\n",
    "\n",
    "sns.countplot(N_ann)\n",
    "plt.show()\n",
    "print(\"Minimum annotations in a example: \",N_ann.min())\n",
    "print(\"Maximum annotations in a example: \",N_ann.max())\n",
    "print(\"T data (expected value): \",N_ann.mean())\n",
    "\n",
    "print(\"Graphics of T weights\")\n",
    "plt.hist(T_weights)\n",
    "plt.show()\n",
    "\n",
    "plt.boxplot(T_weights)\n",
    "plt.show()\n",
    "print(\"Minimum annotations by an annotator: \",T_weights.min())\n",
    "print(\"Maximum annotations by an annotator: \",T_weights.max())\n",
    "print(\"Mean annotations by an annotator: \",T_weights.mean())"
   ]
  },
  {
   "cell_type": "code",
   "execution_count": 100,
   "metadata": {
    "scrolled": true
   },
   "outputs": [
    {
     "name": "stdout",
     "output_type": "stream",
     "text": [
      "Representation for MV in 0.044220 sec\n",
      "Estimation MV in 0.000409 sec\n",
      "ACC MV on train: 0.696\n",
      "F1 MV on train: 0.696\n",
      "Normalized entropy (0-1) of repeats annotations: 0.4119131022397207\n"
     ]
    },
    {
     "data": {
      "image/png": "[encoded data removed]",
      "text/plain": [
       "<Figure size 432x288 with 1 Axes>"
      ]
     },
     "metadata": {},
     "output_type": "display_data"
    },
    {
     "data": {
      "image/png": "[encoded data removed]",
      "text/plain": [
       "<Figure size 432x288 with 1 Axes>"
      ]
     },
     "metadata": {},
     "output_type": "display_data"
    }
   ],
   "source": [
    "from sklearn.metrics import f1_score\n",
    "label_I = LabelInference(y_obs,1,type_inf = 'mv')\n",
    "mv_onehot, conf = label_I.mv_labels('classes')\n",
    "print(\"ACC MV on train:\",np.mean(mv_onehot==Z_data))\n",
    "print(\"F1 MV on train:\",f1_score(Z_data,mv_onehot,average=\"micro\"))\n",
    "\n",
    "\n",
    "mv_soft = majority_voting(label_I.y_obs_repeat,repeats=True,probas=True) \n",
    "aux = []\n",
    "for example in mv_soft:\n",
    "    aux.append(entropy(example)/np.log(K))\n",
    "print(\"Normalized entropy (0-1) of repeats annotations:\",np.mean(aux))\n",
    "\n",
    "predicted = np.clip(mv_soft, keras.backend.epsilon(), 1.)\n",
    "data_to_cluster = []\n",
    "for i in range(mv_soft.shape[0]):\n",
    "    for j in range(mv_soft.shape[1]):\n",
    "        ob = np.tile(keras.backend.epsilon(), mv_soft.shape[1])\n",
    "        ob[j] = 1\n",
    "        true = np.clip(predicted[i],keras.backend.epsilon(),1.)      \n",
    "        f_l = distance_function(true, ob)  #funcion de distancia o similaridad\n",
    "        data_to_cluster.append(f_l)  \n",
    "data_to_cluster = np.asarray(data_to_cluster)\n",
    "model = PCA(n_components=min(3,mv_soft.shape[1]) ) \n",
    "data_to_cluster = model.fit_transform(data_to_cluster)\n",
    "\n",
    "std = StandardScaler(with_mean=True,with_std=True)\n",
    "data_to_plot = std.fit_transform(data_to_cluster)\n",
    "plt.scatter(data_to_plot[:,0],data_to_plot[:,1])\n",
    "plt.show()\n",
    "\n",
    "\n",
    "Y_ann_train, T_idx = set_representation(y_obs,\"onehotvar\")\n",
    "from code.MixtureofGroups import *\n",
    "conf_mat, conf_mat_norm  = build_conf_Yvar(Y_ann_train, T_idx, mv_soft.argmax(axis=-1))\n",
    "\n",
    "A_rep = conf_mat_norm.reshape(conf_mat_norm.shape[0], K**2) #flatten\n",
    "\n",
    "from sklearn.decomposition import PCA\n",
    "model = PCA(2)\n",
    "aux_pca = model.fit_transform(A_rep)\n",
    "plt.scatter(aux_pca[:,0],aux_pca[:,1])\n",
    "plt.show()"
   ]
  },
  {
   "cell_type": "code",
   "execution_count": null,
   "metadata": {},
   "outputs": [],
   "source": [
    "folder = \"../Probar/Sentiment/data/\"\n",
    "from scipy.io import loadmat\n",
    "file1 = loadmat(folder+\"8-5.mat\")\n",
    "file2 = loadmat(folder+\"patterns8.mat\")\n",
    "file3 = loadmat(folder+\"indices.mat\")\n",
    "\n",
    "file1"
   ]
  },
  {
   "cell_type": "code",
   "execution_count": null,
   "metadata": {},
   "outputs": [],
   "source": []
  },
  {
   "cell_type": "code",
   "execution_count": 92,
   "metadata": {
    "scrolled": true
   },
   "outputs": [
    {
     "name": "stdout",
     "output_type": "stream",
     "text": [
      "Data (X):  (16327, 1178)\n",
      "Vocabulary shape: (79308, 2)\n",
      "(9603, 3)\n"
     ]
    },
    {
     "data": {
      "text/html": [
       "<div>\n",
       "<style scoped>\n",
       "    .dataframe tbody tr th:only-of-type {\n",
       "        vertical-align: middle;\n",
       "    }\n",
       "\n",
       "    .dataframe tbody tr th {\n",
       "        vertical-align: top;\n",
       "    }\n",
       "\n",
       "    .dataframe thead th {\n",
       "        text-align: right;\n",
       "    }\n",
       "</style>\n",
       "<table border=\"1\" class=\"dataframe\">\n",
       "  <thead>\n",
       "    <tr style=\"text-align: right;\">\n",
       "      <th></th>\n",
       "      <th>article_id</th>\n",
       "      <th>user_id</th>\n",
       "      <th>annotation</th>\n",
       "    </tr>\n",
       "  </thead>\n",
       "  <tbody>\n",
       "    <tr>\n",
       "      <th>0</th>\n",
       "      <td>17</td>\n",
       "      <td>6</td>\n",
       "      <td>negative</td>\n",
       "    </tr>\n",
       "    <tr>\n",
       "      <th>1</th>\n",
       "      <td>17</td>\n",
       "      <td>7</td>\n",
       "      <td>negative</td>\n",
       "    </tr>\n",
       "    <tr>\n",
       "      <th>2</th>\n",
       "      <td>17</td>\n",
       "      <td>3</td>\n",
       "      <td>negative</td>\n",
       "    </tr>\n",
       "    <tr>\n",
       "      <th>3</th>\n",
       "      <td>17</td>\n",
       "      <td>5</td>\n",
       "      <td>negative</td>\n",
       "    </tr>\n",
       "    <tr>\n",
       "      <th>4</th>\n",
       "      <td>17</td>\n",
       "      <td>4</td>\n",
       "      <td>negative</td>\n",
       "    </tr>\n",
       "  </tbody>\n",
       "</table>\n",
       "</div>"
      ],
      "text/plain": [
       "   article_id  user_id annotation\n",
       "0          17        6   negative\n",
       "1          17        7   negative\n",
       "2          17        3   negative\n",
       "3          17        5   negative\n",
       "4          17        4   negative"
      ]
     },
     "execution_count": 92,
     "metadata": {},
     "output_type": "execute_result"
    }
   ],
   "source": [
    "\"\"\"\n",
    "This archive contains collection of 16327 articles from three Irish online news sources \n",
    "(RTE,The Irish Times,The Irish Independent) collected between 2009-07-08 and 2009-10-16. \n",
    "A subset of 1660 of these articles were annotated manually by 33 users during that period.\n",
    "\"\"\"\n",
    "\n",
    "folder = \"../Probar/otroSentiment/\"\n",
    "#df_ann = pd.read_csv(folder+\"/sentiment_main_annotations.csv\")\n",
    "df_ann = pd.read_csv(folder+\"/sentiment_all_annotations.csv\",names=[\"article_id\",\"user_id\",\"annotation\"])\n",
    "\n",
    "#texts in TF representation..\n",
    "articles_header = [\"article_id\",\"article_data(yyyy-mm-dd)\",\"provider(rte,irishtimes,independent)\"] +[\"term_index\"+str(i)+\":freq\" for i in np.arange(1175)]\n",
    "df_articles = pd.read_csv(folder+\"/sentiment_all_articles.csv\",header=None,engine='python',names=articles_header)\n",
    "print(\"Data (X): \",df_articles.shape)\n",
    "\n",
    "#vocabulary\n",
    "df_terms = pd.read_csv(folder+\"/sentiment_all_terms.csv\",names=[\"term_id\",\"term_text\"], encoding = \"ISO-8859-1\")\n",
    "print(\"Vocabulary shape:\",df_terms.shape)\n",
    "\n",
    "print(df_ann.shape)\n",
    "df_ann.head()"
   ]
  },
  {
   "cell_type": "code",
   "execution_count": 91,
   "metadata": {},
   "outputs": [
    {
     "data": {
      "text/plain": [
       "array(['negative', 'positive', 'irrelevant'], dtype=object)"
      ]
     },
     "execution_count": 91,
     "metadata": {},
     "output_type": "execute_result"
    }
   ],
   "source": [
    "df_annotations[\"annotation\"].unique()"
   ]
  },
  {
   "cell_type": "code",
   "execution_count": 93,
   "metadata": {},
   "outputs": [
    {
     "data": {
      "text/plain": [
       "(1660, 33)"
      ]
     },
     "execution_count": 93,
     "metadata": {},
     "output_type": "execute_result"
    }
   ],
   "source": [
    "#.. no hay GT..\n",
    "\n",
    "data_id = {}\n",
    "worker_id = {}\n",
    "contador_data, contador_work = 0,0\n",
    "for row in df_ann.values:\n",
    "    inp_id = row[0]\n",
    "    work_id = row[1]\n",
    "    if inp_id not in data_id:\n",
    "        data_id[inp_id] = contador_data\n",
    "        contador_data+=1        \n",
    "    if work_id not in worker_id:\n",
    "        worker_id[work_id] = contador_work\n",
    "        contador_work+=1  \n",
    "\n",
    "y_obs = np.ones((contador_data,contador_work),dtype='int16')*-1\n",
    "for row in df_ann.values:\n",
    "    inp_id = row[0]\n",
    "    #text = row[2] #extraer ]TF desde df_articles\n",
    "\n",
    "    work_id = row[1]\n",
    "    ann = row[2]\n",
    "    y_obs[data_id[inp_id], worker_id[work_id]] = (ann == \"positive\")*1\n",
    "\n",
    "N, T = y_obs.shape\n",
    "K = 2\n",
    "#Z_data\n",
    "y_obs.shape"
   ]
  },
  {
   "cell_type": "code",
   "execution_count": 94,
   "metadata": {},
   "outputs": [
    {
     "data": {
      "text/plain": [
       "array([[ 0,  0,  0, ..., -1, -1, -1],\n",
       "       [-1, -1, -1, ..., -1, -1, -1],\n",
       "       [ 0,  0,  0, ..., -1, -1, -1],\n",
       "       ...,\n",
       "       [-1, -1,  0, ..., -1, -1, -1],\n",
       "       [-1,  0,  0, ...,  1, -1, -1],\n",
       "       [-1,  1,  1, ...,  1, -1, -1]], dtype=int16)"
      ]
     },
     "execution_count": 94,
     "metadata": {},
     "output_type": "execute_result"
    }
   ],
   "source": [
    "y_obs"
   ]
  },
  {
   "cell_type": "code",
   "execution_count": 95,
   "metadata": {
    "scrolled": true
   },
   "outputs": [
    {
     "data": {
      "image/png": "[encoded data removed]",
      "text/plain": [
       "<Figure size 432x288 with 1 Axes>"
      ]
     },
     "metadata": {},
     "output_type": "display_data"
    },
    {
     "name": "stdout",
     "output_type": "stream",
     "text": [
      "Minimum annotations in a example:  1\n",
      "Maximum annotations in a example:  15\n",
      "T data (expected value):  5.784939759036145\n",
      "Graphics of T weights\n"
     ]
    },
    {
     "data": {
      "image/png": "[encoded data removed]",
      "text/plain": [
       "<Figure size 432x288 with 1 Axes>"
      ]
     },
     "metadata": {},
     "output_type": "display_data"
    },
    {
     "data": {
      "image/png": "[encoded data removed]",
      "text/plain": [
       "<Figure size 432x288 with 1 Axes>"
      ]
     },
     "metadata": {},
     "output_type": "display_data"
    },
    {
     "name": "stdout",
     "output_type": "stream",
     "text": [
      "Minimum annotations by an annotator:  7\n",
      "Maximum annotations by an annotator:  1211\n",
      "Mean annotations by an annotator:  291.0\n"
     ]
    }
   ],
   "source": [
    "#graphics and distribution? what is T_data\n",
    "T_weights = np.sum(y_obs != -1,axis=0) #distribucion de anotaciones\n",
    "N_ann = np.sum(y_obs != -1,axis=1) #distribucion de anotaciones con este valor\n",
    "\n",
    "sns.countplot(N_ann)\n",
    "plt.show()\n",
    "print(\"Minimum annotations in a example: \",N_ann.min())\n",
    "print(\"Maximum annotations in a example: \",N_ann.max())\n",
    "print(\"T data (expected value): \",N_ann.mean())\n",
    "\n",
    "print(\"Graphics of T weights\")\n",
    "plt.hist(T_weights)\n",
    "plt.show()\n",
    "\n",
    "plt.boxplot(T_weights)\n",
    "plt.show()\n",
    "print(\"Minimum annotations by an annotator: \",T_weights.min())\n",
    "print(\"Maximum annotations by an annotator: \",T_weights.max())\n",
    "print(\"Mean annotations by an annotator: \",T_weights.mean())"
   ]
  },
  {
   "cell_type": "code",
   "execution_count": 96,
   "metadata": {
    "scrolled": true
   },
   "outputs": [
    {
     "name": "stdout",
     "output_type": "stream",
     "text": [
      "Representation for MV in 0.098708 sec\n",
      "Estimation MV in 0.000733 sec\n",
      "Normalized entropy (0-1) of repeats annotations: 0.3135694930931521\n"
     ]
    },
    {
     "data": {
      "image/png": "[encoded data removed]",
      "text/plain": [
       "<Figure size 432x288 with 1 Axes>"
      ]
     },
     "metadata": {},
     "output_type": "display_data"
    },
    {
     "data": {
      "image/png": "[encoded data removed]",
      "text/plain": [
       "<Figure size 432x288 with 1 Axes>"
      ]
     },
     "metadata": {},
     "output_type": "display_data"
    }
   ],
   "source": [
    "from sklearn.metrics import f1_score\n",
    "label_I = LabelInference(y_obs,1,type_inf = 'mv')\n",
    "mv_onehot, conf = label_I.mv_labels('classes')\n",
    "\n",
    "mv_soft = majority_voting(label_I.y_obs_repeat,repeats=True,probas=True) \n",
    "aux = []\n",
    "for example in mv_soft:\n",
    "    aux.append(entropy(example)/np.log(K))\n",
    "print(\"Normalized entropy (0-1) of repeats annotations:\",np.mean(aux))\n",
    "\n",
    "predicted = np.clip(mv_soft, keras.backend.epsilon(), 1.)\n",
    "data_to_cluster = []\n",
    "for i in range(mv_soft.shape[0]):\n",
    "    for j in range(mv_soft.shape[1]):\n",
    "        ob = np.tile(keras.backend.epsilon(), mv_soft.shape[1])\n",
    "        ob[j] = 1\n",
    "        true = np.clip(predicted[i],keras.backend.epsilon(),1.)      \n",
    "        f_l = distance_function(true, ob)  #funcion de distancia o similaridad\n",
    "        data_to_cluster.append(f_l)  \n",
    "data_to_cluster = np.asarray(data_to_cluster)\n",
    "model = PCA(n_components=min(3,mv_soft.shape[1]) ) \n",
    "data_to_cluster = model.fit_transform(data_to_cluster)\n",
    "\n",
    "std = StandardScaler(with_mean=True,with_std=True)\n",
    "data_to_plot = std.fit_transform(data_to_cluster)\n",
    "plt.scatter(data_to_plot[:,0],data_to_plot[:,1])\n",
    "plt.show()\n",
    "\n",
    "\n",
    "Y_ann_train, T_idx = set_representation(y_obs,\"onehotvar\")\n",
    "from code.MixtureofGroups import *\n",
    "conf_mat, conf_mat_norm  = build_conf_Yvar(Y_ann_train, T_idx, mv_soft.argmax(axis=-1))\n",
    "\n",
    "A_rep = conf_mat_norm.reshape(conf_mat_norm.shape[0], K**2) #flatten\n",
    "\n",
    "from sklearn.decomposition import PCA\n",
    "model = PCA(2)\n",
    "aux_pca = model.fit_transform(A_rep)\n",
    "plt.scatter(aux_pca[:,0],aux_pca[:,1])\n",
    "plt.show()"
   ]
  }
 ],
 "metadata": {
  "anaconda-cloud": {},
  "kernelspec": {
   "display_name": "Python [conda env:py3]",
   "language": "python",
   "name": "conda-env-py3-py"
  },
  "language_info": {
   "codemirror_mode": {
    "name": "ipython",
    "version": 3
   },
   "file_extension": ".py",
   "mimetype": "text/x-python",
   "name": "python",
   "nbconvert_exporter": "python",
   "pygments_lexer": "ipython3",
   "version": "3.5.5"
  }
 },
 "nbformat": 4,
 "nbformat_minor": 2
}
