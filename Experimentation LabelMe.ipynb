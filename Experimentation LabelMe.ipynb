{
 "cells": [
  {
   "cell_type": "code",
   "execution_count": 1,
   "metadata": {},
   "outputs": [
    {
     "name": "stderr",
     "output_type": "stream",
     "text": [
      "Using TensorFlow backend.\n"
     ]
    }
   ],
   "source": [
    "import numpy as np\n",
    "import pandas as pd\n",
    "import matplotlib.pyplot as plt\n",
    "import seaborn as sns\n",
    "import keras, time, sys, os, gc\n",
    "\n",
    "DTYPE_OP = 'float32'\n",
    "keras.backend.set_floatx(DTYPE_OP)\n",
    "\n",
    "if DTYPE_OP == 'float64':\n",
    "    keras.backend.set_epsilon(np.finfo(np.float64).eps)\n",
    "elif DTYPE_OP == 'float32':\n",
    "    keras.backend.set_epsilon(np.finfo(np.float32).eps)"
   ]
  },
  {
   "cell_type": "code",
   "execution_count": null,
   "metadata": {},
   "outputs": [],
   "source": [
    "thttps://github.com/fmpr/CrowdLayer/blob/master/demo-labelme-mturk.ipynb"
   ]
  },
  {
   "cell_type": "code",
   "execution_count": 2,
   "metadata": {},
   "outputs": [],
   "source": [
    "#GLOBAL Variables\n",
    "BATCH_SIZE = 128 #rodrigues = BATCH_SIZE = 64\n",
    "EPOCHS_BASE = 50\n",
    "OPT = 'adam' #optimizer for neural network \n",
    "TOL = 3e-2"
   ]
  },
  {
   "cell_type": "code",
   "execution_count": 3,
   "metadata": {},
   "outputs": [],
   "source": [
    "label_names = np.asarray(['highway','insidecity','tallbuilding','street','forest','coast','mountain','opencountry'])\n",
    "#revisar bien el orden de label_names\n",
    "folder = \"./LabelMe/\""
   ]
  },
  {
   "cell_type": "markdown",
   "metadata": {},
   "source": [
    "### Load Data and preprocess"
   ]
  },
  {
   "cell_type": "code",
   "execution_count": null,
   "metadata": {},
   "outputs": [],
   "source": [
    "#which X?? max could do overfitting\n"
   ]
  },
  {
   "cell_type": "code",
   "execution_count": 4,
   "metadata": {},
   "outputs": [
    {
     "name": "stdout",
     "output_type": "stream",
     "text": [
      "Input shape: (1000, 512)\n",
      "Label shape: (1000,)\n"
     ]
    }
   ],
   "source": [
    "X_train_vgg16 = np.load(folder+\"LabelMe_VGG_avg_train.npy\")\n",
    "Z_train = np.loadtxt(folder+\"LabelMe_Z_train.txt\",dtype='int')\n",
    "\n",
    "X_val_vgg16 = np.load(folder+\"LabelMe_VGG_avg_valid.npy\")\n",
    "Z_val = np.loadtxt(folder+\"LabelMe_Z_valid.txt\",dtype='int')\n",
    "\n",
    "X_test_vgg16 = np.load(folder+\"LabelMe_VGG_avg_test.npy\")\n",
    "Z_test = np.loadtxt(folder+\"LabelMe_Z_test.txt\",dtype='int')\n",
    "\n",
    "print(\"Input shape:\",X_train_vgg16.shape)\n",
    "print(\"Label shape:\",Z_train.shape)"
   ]
  },
  {
   "cell_type": "code",
   "execution_count": null,
   "metadata": {},
   "outputs": [],
   "source": []
  },
  {
   "cell_type": "code",
   "execution_count": 5,
   "metadata": {},
   "outputs": [
    {
     "data": {
      "text/plain": [
       "(1000, 512)"
      ]
     },
     "execution_count": 5,
     "metadata": {},
     "output_type": "execute_result"
    }
   ],
   "source": [
    "from sklearn.preprocessing import StandardScaler\n",
    "std= StandardScaler(with_mean=False,with_std=False)  #do it ??\n",
    "std.fit(X_train_vgg16)\n",
    "Xstd_train = std.transform(X_train_vgg16)\n",
    "Xstd_val = std.transform(X_val_vgg16)\n",
    "Xstd_test = std.transform(X_test_vgg16)\n",
    "Xstd_train.shape"
   ]
  },
  {
   "cell_type": "markdown",
   "metadata": {},
   "source": [
    "### Load annotations / Generate"
   ]
  },
  {
   "cell_type": "code",
   "execution_count": 6,
   "metadata": {},
   "outputs": [
    {
     "name": "stdout",
     "output_type": "stream",
     "text": [
      "Loading AMT data...\n",
      "Remove 18 annotators that do not annotate on this set \n",
      "Shape (data,annotators):  (1000, 59)\n",
      "Classes:  8\n"
     ]
    }
   ],
   "source": [
    "from code.representation import *\n",
    "from code.utils import *\n",
    "\n",
    "# data from Amazon Mechanical Turk\n",
    "print(\"Loading AMT data...\")\n",
    "y_obs = np.loadtxt(folder+\"answers.txt\",dtype='int16') #not annotation symbol ==-1\n",
    "T_weights = np.sum(y_obs != -1,axis=0) #distribucion de anotaciones\n",
    "\n",
    "print(\"Remove %d annotators that do not annotate on this set \"%(np.sum(T_weights==0)))\n",
    "y_obs = y_obs[:,T_weights!=0]\n",
    "T_weights = np.sum(y_obs != -1,axis=0) #distribucion de anotaciones\n",
    "\n",
    "N,T = y_obs.shape\n",
    "K = np.max(y_obs)+1 # asumiendo que estan ordenadas\n",
    "print(\"Shape (data,annotators): \",(N,T))\n",
    "print(\"Classes: \",K)"
   ]
  },
  {
   "cell_type": "code",
   "execution_count": 104,
   "metadata": {
    "scrolled": true
   },
   "outputs": [
    {
     "name": "stderr",
     "output_type": "stream",
     "text": [
      "/home/fmena/.local/lib/python3.5/site-packages/ipykernel/__main__.py:6: RuntimeWarning: invalid value encountered in true_divide\n"
     ]
    },
    {
     "data": {
      "text/plain": [
       "array([[[0.7777778 , 0.11111111, 0.        , ..., 0.        ,\n",
       "         0.        , 0.        ],\n",
       "        [0.        , 0.78571427, 0.        , ..., 0.        ,\n",
       "         0.        , 0.        ],\n",
       "        [0.        , 0.23076923, 0.7692308 , ..., 0.        ,\n",
       "         0.        , 0.        ],\n",
       "        ...,\n",
       "        [0.        , 0.        , 0.        , ..., 1.        ,\n",
       "         0.        , 0.        ],\n",
       "        [0.        , 0.        , 0.        , ..., 0.        ,\n",
       "         1.        , 0.        ],\n",
       "        [0.        , 0.        , 0.        , ..., 0.05555556,\n",
       "         0.22222222, 0.5555556 ]],\n",
       "\n",
       "       [[1.        , 0.        , 0.        , ..., 0.        ,\n",
       "         0.        , 0.        ],\n",
       "        [0.        , 0.        , 0.        , ..., 0.        ,\n",
       "         0.        , 0.        ],\n",
       "        [       nan,        nan,        nan, ...,        nan,\n",
       "                nan,        nan],\n",
       "        ...,\n",
       "        [0.        , 0.        , 0.        , ..., 1.        ,\n",
       "         0.        , 0.        ],\n",
       "        [0.        , 0.        , 0.        , ..., 0.        ,\n",
       "         0.5       , 0.5       ],\n",
       "        [0.        , 0.        , 0.        , ..., 0.        ,\n",
       "         0.5       , 0.5       ]],\n",
       "\n",
       "       [[0.375     , 0.125     , 0.        , ..., 0.        ,\n",
       "         0.        , 0.        ],\n",
       "        [0.        , 0.75      , 0.25      , ..., 0.        ,\n",
       "         0.        , 0.        ],\n",
       "        [0.        , 0.        , 1.        , ..., 0.        ,\n",
       "         0.        , 0.        ],\n",
       "        ...,\n",
       "        [0.        , 0.        , 0.        , ..., 1.        ,\n",
       "         0.        , 0.        ],\n",
       "        [0.        , 0.        , 0.        , ..., 0.        ,\n",
       "         1.        , 0.        ],\n",
       "        [0.        , 0.07142857, 0.        , ..., 0.21428572,\n",
       "         0.21428572, 0.5       ]],\n",
       "\n",
       "       ...,\n",
       "\n",
       "       [[       nan,        nan,        nan, ...,        nan,\n",
       "                nan,        nan],\n",
       "        [0.        , 0.        , 0.        , ..., 0.        ,\n",
       "         0.        , 0.        ],\n",
       "        [0.        , 0.        , 1.        , ..., 0.        ,\n",
       "         0.        , 0.        ],\n",
       "        ...,\n",
       "        [       nan,        nan,        nan, ...,        nan,\n",
       "                nan,        nan],\n",
       "        [       nan,        nan,        nan, ...,        nan,\n",
       "                nan,        nan],\n",
       "        [       nan,        nan,        nan, ...,        nan,\n",
       "                nan,        nan]],\n",
       "\n",
       "       [[       nan,        nan,        nan, ...,        nan,\n",
       "                nan,        nan],\n",
       "        [0.        , 0.        , 1.        , ..., 0.        ,\n",
       "         0.        , 0.        ],\n",
       "        [0.        , 1.        , 0.        , ..., 0.        ,\n",
       "         0.        , 0.        ],\n",
       "        ...,\n",
       "        [       nan,        nan,        nan, ...,        nan,\n",
       "                nan,        nan],\n",
       "        [0.        , 0.        , 0.        , ..., 0.        ,\n",
       "         1.        , 0.        ],\n",
       "        [0.        , 0.        , 0.        , ..., 0.        ,\n",
       "         0.        , 1.        ]],\n",
       "\n",
       "       [[       nan,        nan,        nan, ...,        nan,\n",
       "                nan,        nan],\n",
       "        [0.        , 0.        , 0.        , ..., 0.        ,\n",
       "         0.        , 0.        ],\n",
       "        [0.        , 1.        , 0.        , ..., 0.        ,\n",
       "         0.        , 0.        ],\n",
       "        ...,\n",
       "        [       nan,        nan,        nan, ...,        nan,\n",
       "                nan,        nan],\n",
       "        [0.        , 0.        , 0.        , ..., 0.        ,\n",
       "         1.        , 0.        ],\n",
       "        [       nan,        nan,        nan, ...,        nan,\n",
       "                nan,        nan]]], dtype=float32)"
      ]
     },
     "execution_count": 104,
     "metadata": {},
     "output_type": "execute_result"
    }
   ],
   "source": [
    "#generate conf matrix...\n",
    "\n",
    "conf_matrix = np.zeros((T,K,K),dtype=DTYPE_OP) #rodrigues add epsilon here\n",
    "for t in range(T):    \n",
    "    for i in range(N):\n",
    "        if y_obs[i,t] != -1:\n",
    "            conf_matrix[t,Z_train[i],y_obs[i,t]] +=1\n",
    "    conf_matrix[t,:,:] = conf_matrix[t,:,:]/conf_matrix[t,:,:].sum(axis=-1,keepdims=True)#normalize\n",
    "    #how to fill where she not annotate?? -- Rodrigues put random there (1/K)\n",
    "conf_matrix"
   ]
  },
  {
   "cell_type": "code",
   "execution_count": 7,
   "metadata": {},
   "outputs": [
    {
     "data": {
      "image/png": "[encoded data removed]",
      "text/plain": [
       "<Figure size 432x288 with 1 Axes>"
      ]
     },
     "metadata": {},
     "output_type": "display_data"
    },
    {
     "name": "stdout",
     "output_type": "stream",
     "text": [
      "Minimum annotations in a example:  1\n",
      "Maximum annotations in a example:  3\n",
      "T data (expected value):  2.547\n",
      "Graphics of T weights\n"
     ]
    },
    {
     "data": {
      "image/png": "[encoded data removed]",
      "text/plain": [
       "<Figure size 432x288 with 1 Axes>"
      ]
     },
     "metadata": {},
     "output_type": "display_data"
    },
    {
     "data": {
      "image/png": "[encoded data removed]",
      "text/plain": [
       "<Figure size 432x288 with 1 Axes>"
      ]
     },
     "metadata": {},
     "output_type": "display_data"
    },
    {
     "name": "stdout",
     "output_type": "stream",
     "text": [
      "Minimum annotations by an annotator:  3\n",
      "Maximum annotations by an annotator:  182\n"
     ]
    }
   ],
   "source": [
    "#graphics and distribution? what is T_data\n",
    "N_ann = np.sum(y_obs != -1,axis=1) #distribucion de anotaciones con este valor\n",
    "\n",
    "sns.countplot(N_ann)\n",
    "plt.show()\n",
    "print(\"Minimum annotations in a example: \",N_ann.min())\n",
    "print(\"Maximum annotations in a example: \",N_ann.max())\n",
    "print(\"T data (expected value): \",N_ann.mean())\n",
    "\n",
    "print(\"Graphics of T weights\")\n",
    "plt.hist(T_weights)\n",
    "plt.show()\n",
    "\n",
    "plt.boxplot(T_weights)\n",
    "plt.show()\n",
    "print(\"Minimum annotations by an annotator: \",T_weights.min())\n",
    "print(\"Maximum annotations by an annotator: \",T_weights.max())"
   ]
  },
  {
   "cell_type": "markdown",
   "metadata": {},
   "source": [
    "#### Delta Convergence criteria"
   ]
  },
  {
   "cell_type": "code",
   "execution_count": 8,
   "metadata": {},
   "outputs": [],
   "source": [
    "from code.learning_models import LogisticRegression_Sklearn,LogisticRegression_Keras,MLP_Keras\n",
    "#deep learning\n",
    "from code.learning_models import default_CNN,default_RNN,default_RNNw_emb,CNN_simple, RNN_simple\n",
    "\n",
    "from code.utils import EarlyStopRelative\n",
    "ourCallback = EarlyStopRelative(monitor='loss',patience=1,min_delta=TOL)"
   ]
  },
  {
   "cell_type": "markdown",
   "metadata": {},
   "source": [
    "### Upper Bound Model -- ideal"
   ]
  },
  {
   "cell_type": "code",
   "execution_count": 226,
   "metadata": {},
   "outputs": [
    {
     "data": {
      "text/plain": [
       "(1000, 512)"
      ]
     },
     "execution_count": 226,
     "metadata": {},
     "output_type": "execute_result"
    }
   ],
   "source": [
    "X_train_vgg16.shape"
   ]
  },
  {
   "cell_type": "code",
   "execution_count": 311,
   "metadata": {},
   "outputs": [
    {
     "name": "stdout",
     "output_type": "stream",
     "text": [
      "Trained IDeal Model, Epochs to converge = 12\n"
     ]
    }
   ],
   "source": [
    "Z_train_onehot = keras.utils.to_categorical(Z_train)\n",
    "Z_val_onehot = keras.utils.to_categorical(Z_val)\n",
    "\n",
    "model_UB = MLP_Keras(Xstd_train.shape[1:],Z_train_onehot.shape[1],128,1,BN=False,drop=0.5)\n",
    "model_UB.compile(loss='categorical_crossentropy',optimizer=OPT)\n",
    "hist=model_UB.fit(Xstd_train,Z_train_onehot,epochs=EPOCHS_BASE,batch_size=BATCH_SIZE,verbose=0,callbacks=[ourCallback]\n",
    "                  ,validation_data=(Xstd_val,Z_val_onehot))\n",
    "print(\"Trained IDeal Model, Epochs to converge =\",len(hist.epoch))"
   ]
  },
  {
   "cell_type": "code",
   "execution_count": 312,
   "metadata": {},
   "outputs": [
    {
     "data": {
      "text/plain": [
       "<matplotlib.legend.Legend at 0x7f69976c0358>"
      ]
     },
     "execution_count": 312,
     "metadata": {},
     "output_type": "execute_result"
    },
    {
     "data": {
      "image/png": "[encoded data removed]",
      "text/plain": [
       "<Figure size 432x288 with 1 Axes>"
      ]
     },
     "metadata": {},
     "output_type": "display_data"
    }
   ],
   "source": [
    "plt.plot(hist.history[\"loss\"],label=\"train\")\n",
    "plt.plot(hist.history[\"val_loss\"])\n",
    "plt.legend()"
   ]
  },
  {
   "cell_type": "markdown",
   "metadata": {},
   "source": [
    "??"
   ]
  },
  {
   "cell_type": "code",
   "execution_count": 21,
   "metadata": {
    "scrolled": true
   },
   "outputs": [
    {
     "name": "stdout",
     "output_type": "stream",
     "text": [
      "Iter\tlog-likelihood\tdelta-CM\tdelta-ER\tdelta-LL\n",
      "1 \t -2837.6143326308925\n",
      "2 \t -2762.6462130736586 \t0.0214\t0.065072\t0.026419\n",
      "3 \t -2736.633205510148 \t0.0117\t0.059334\t0.009416\n",
      "4 \t -2725.3781176279813 \t0.0071\t0.058779\t0.004113\n",
      "5 \t -2719.6973770375794 \t0.0041\t0.051646\t0.002084\n",
      "6 \t -2716.5666539552362 \t0.0027\t0.040519\t0.001151\n",
      "7 \t -2714.7759730494768 \t0.0021\t0.031279\t0.000659\n",
      "8 \t -2713.6296344845814 \t0.0017\t0.024918\t0.000422\n",
      "Class marginals\n",
      "[0.08 0.11 0.14 0.11 0.14 0.14 0.17 0.09]\n"
     ]
    }
   ],
   "source": [
    "from code.baseline import LabelInference\n",
    "\n",
    "label_I = LabelInference(y_obs,TOL,type_inf = 'all')\n",
    "\n",
    "mv_probas = label_I.mv_labels('probas')\n",
    "mv_onehot = label_I.mv_labels('onehot')\n",
    "\n",
    "if y_obs.shape[1] <= 3000:\n",
    "    ds_labels,ds_conf = label_I.DS_labels()"
   ]
  },
  {
   "cell_type": "code",
   "execution_count": 22,
   "metadata": {},
   "outputs": [
    {
     "name": "stdout",
     "output_type": "stream",
     "text": [
      "ACC MV on train: 0.769\n",
      "ACC D&S on train: 0.804\n"
     ]
    }
   ],
   "source": [
    "print(\"ACC MV on train:\",np.mean(mv_onehot.argmax(axis=1)==Z_train))\n",
    "print(\"ACC D&S on train:\",np.mean(ds_labels.argmax(axis=1)==Z_train))"
   ]
  },
  {
   "cell_type": "code",
   "execution_count": 24,
   "metadata": {
    "scrolled": true
   },
   "outputs": [
    {
     "name": "stdout",
     "output_type": "stream",
     "text": [
      "ACC D&S on train: 0.804\n",
      "Similaririty between ours and his:  0.966\n"
     ]
    }
   ],
   "source": [
    "#check ds with  theones come with data\n",
    "aux = np.loadtxt(\"./LabelMe/answers_DS.txt\",dtype='int')\n",
    "print(\"ACC D&S on train:\",np.mean(ds_labels.argmax(axis=1)==Z_train)) #calculated by Rodrigues (until converge)\n",
    "print(\"Similaririty between ours and his: \",np.mean(ds_labels.argmax(axis=1) == aux))"
   ]
  },
  {
   "cell_type": "code",
   "execution_count": null,
   "metadata": {},
   "outputs": [],
   "source": [
    "model_mvsoft = keras.models.clone_model(model_UB)\n",
    "model_mvsoft.compile(loss='categorical_crossentropy',optimizer=OPT)\n",
    "hist=model_mvsoft.fit(Xstd_train, mv_probas, epochs=EPOCHS_BASE,batch_size=BATCH_SIZE,verbose=0,callbacks=[ourCallback])\n",
    "print(\"Trained model over soft-MV, Epochs to converge =\",len(hist.epoch))"
   ]
  },
  {
   "cell_type": "code",
   "execution_count": null,
   "metadata": {},
   "outputs": [],
   "source": [
    "model_mvhard = keras.models.clone_model(model_UB)\n",
    "model_mvhard.compile(loss='categorical_crossentropy',optimizer=OPT)\n",
    "hist=model_mvhard.fit(Xstd_train, mv_onehot, epochs=EPOCHS_BASE,batch_size=BATCH_SIZE,verbose=0,callbacks=[ourCallback])\n",
    "print(\"Trained model over hard-MV, Epochs to converge =\",len(hist.epoch))"
   ]
  },
  {
   "cell_type": "code",
   "execution_count": null,
   "metadata": {},
   "outputs": [],
   "source": [
    "model_ds = keras.models.clone_model(model_UB)\n",
    "model_ds.compile(loss='categorical_crossentropy',optimizer=OPT)\n",
    "hist=model_ds.fit(Xstd_train, ds_labels, epochs=EPOCHS_BASE,batch_size=BATCH_SIZE,verbose=0,callbacks=[ourCallback])\n",
    "print(\"Trained model over D&S, Epochs to converge =\",len(hist.epoch))"
   ]
  },
  {
   "cell_type": "markdown",
   "metadata": {},
   "source": [
    "### Raykar Model (joint predict model)"
   ]
  },
  {
   "cell_type": "code",
   "execution_count": 318,
   "metadata": {
    "scrolled": true
   },
   "outputs": [
    {
     "name": "stdout",
     "output_type": "stream",
     "text": [
      "shape: (1000, 59, 8)\n"
     ]
    }
   ],
   "source": [
    "from code.baseline import RaykarMC\n",
    "y_obs_categorical = set_representation(y_obs,'onehot') #for raykar\n",
    "print(\"shape:\",y_obs_categorical.shape)"
   ]
  },
  {
   "cell_type": "code",
   "execution_count": null,
   "metadata": {},
   "outputs": [],
   "source": [
    "raykarMC = RaykarMC(Xstd_train.shape[1:],y_obs_categorical.shape[-1],T,epochs=1,optimizer=OPT,DTYPE_OP=DTYPE_OP)\n",
    "raykarMC.define_model(\"mlp\",128,1,BatchN=False,drop=0.5) #otro\n",
    "\n",
    "logL_hists,i_r = raykarMC.multiples_run(10,Xstd_train,y_obs_categorical,batch_size=BATCH_SIZE,max_iter=EPOCHS_BASE,\n",
    "                                     tolerance=TOL)"
   ]
  },
  {
   "cell_type": "code",
   "execution_count": null,
   "metadata": {},
   "outputs": [],
   "source": [
    "plt.figure(figsize=(15,7))\n",
    "for a, value in enumerate(logL_hists): #logL_hists\n",
    "    if a != i_r:\n",
    "        plt.plot(range(len(value)),value,'.-')\n",
    "plt.plot(range(len(logL_hists[i_r])),logL_hists[i_r],'o-',markersize=10,label=\"Selected run\")\n",
    "plt.legend()\n",
    "plt.show()"
   ]
  },
  {
   "cell_type": "markdown",
   "metadata": {},
   "source": [
    "### Our Proposed"
   ]
  },
  {
   "cell_type": "code",
   "execution_count": 319,
   "metadata": {},
   "outputs": [
    {
     "name": "stdout",
     "output_type": "stream",
     "text": [
      "vector of repeats:\n",
      " [[0 2 0 ... 0 0 0]\n",
      " [0 1 2 ... 0 0 0]\n",
      " [0 1 1 ... 0 0 0]\n",
      " ...\n",
      " [0 1 0 ... 0 0 0]\n",
      " [0 0 3 ... 0 0 0]\n",
      " [0 0 0 ... 0 0 2]]\n",
      "shape: (1000, 8)\n"
     ]
    }
   ],
   "source": [
    "from code.MixtureofGroups import GroupMixtureOpt\n",
    "#get our representation \n",
    "#r_obs = set_representation(y_obs,\"repeat\")\n",
    "r_obs = label_I.y_obs_repeat.copy()\n",
    "\n",
    "print(\"vector of repeats:\\n\",r_obs)\n",
    "print(\"shape:\",r_obs.shape)"
   ]
  },
  {
   "cell_type": "code",
   "execution_count": 320,
   "metadata": {},
   "outputs": [
    {
     "name": "stdout",
     "output_type": "stream",
     "text": [
      "Normalized entropy (0-1) of repeats annotations: 0.11212816116784208\n"
     ]
    }
   ],
   "source": [
    "mv_soft = majority_voting(r_obs,repeats=True,probas=True) \n",
    "aux = []\n",
    "for example in mv_soft:\n",
    "    aux.append(entropy(example)/np.log(K))\n",
    "print(\"Normalized entropy (0-1) of repeats annotations:\",np.mean(aux))"
   ]
  },
  {
   "cell_type": "markdown",
   "metadata": {},
   "source": [
    "There is low entropy (information), maybe there is only a few groups in this dataset, the possible of different behavior is low."
   ]
  },
  {
   "cell_type": "code",
   "execution_count": null,
   "metadata": {},
   "outputs": [],
   "source": [
    "M_seted = ??"
   ]
  },
  {
   "cell_type": "code",
   "execution_count": null,
   "metadata": {},
   "outputs": [],
   "source": [
    "gMixture_Global = GroupMixtureOpt(Xstd_train.shape[1:],Kl=r_obs.shape[1],M=M_seted,epochs=1,pre_init=0,optimizer=OPT,dtype_op=DTYPE_OP) \n",
    "gMixture_Global.define_model(\"mlp\",128,1,BatchN=False,drop=0.5) #otro\n",
    "gMixture_Global.lambda_random = True #revisar si efectivamente sirve o no\n",
    "logL_hists,i_r = gMixture_Global.multiples_run(20,Xstd_train,r_obs,batch_size=BATCH_SIZE,max_iter=EPOCHS_BASE,tolerance=TOL\n",
    "                                   ,cluster=True)"
   ]
  },
  {
   "cell_type": "code",
   "execution_count": null,
   "metadata": {},
   "outputs": [],
   "source": [
    "plt.figure(figsize=(15,7))\n",
    "for a, value in enumerate(logL_hists): #logL_hists\n",
    "    if a != i_r:\n",
    "        plt.plot(range(len(value)),value,'.-')\n",
    "plt.plot(range(len(logL_hists[i_r])),logL_hists[i_r],'o-',markersize=10,label=\"Selected run\")\n",
    "plt.legend()\n",
    "plt.show()"
   ]
  },
  {
   "cell_type": "markdown",
   "metadata": {},
   "source": [
    "### Compare trained models"
   ]
  },
  {
   "cell_type": "code",
   "execution_count": 109,
   "metadata": {},
   "outputs": [],
   "source": [
    "#Import it:\n",
    "from code.evaluation import Evaluation_metrics\n",
    "from sklearn.metrics import confusion_matrix"
   ]
  },
  {
   "cell_type": "code",
   "execution_count": 115,
   "metadata": {},
   "outputs": [
    {
     "name": "stdout",
     "output_type": "stream",
     "text": [
      "*** Upper bound (Train with GT) ***\n",
      "Train\n",
      "A result\n",
      " ====  ======  ==========  ============\n",
      "  ..            Accuracy    F1 (micro)\n",
      "====  ======  ==========  ============\n",
      "   0  Global        0.99          0.99\n",
      "====  ======  ==========  ============\n",
      "Test\n",
      "A result\n",
      " ====  ======  ==========  ============\n",
      "  ..            Accuracy    F1 (micro)\n",
      "====  ======  ==========  ============\n",
      "   0  Global    0.923401      0.923401\n",
      "====  ======  ==========  ============\n"
     ]
    }
   ],
   "source": [
    "evaluate = Evaluation_metrics(model_UB,'keras',Xstd_train.shape[0])\n",
    "print(\"*** Upper bound (Train with GT) ***\")\n",
    "\n",
    "print(\"Train\")\n",
    "Z_train_pred = model_UB.predict_classes(Xstd_train)\n",
    "results1 = evaluate.calculate_metrics(Z=Z_train,Z_pred=Z_train_pred)\n",
    "\n",
    "print(\"Test\")\n",
    "Z_test_pred = model_UB.predict_classes(Xstd_test)\n",
    "results2 = evaluate.calculate_metrics(Z=Z_test,Z_pred=Z_test_pred)"
   ]
  },
  {
   "cell_type": "code",
   "execution_count": null,
   "metadata": {},
   "outputs": [],
   "source": [
    "print(\"ACC MV on train:\",np.mean(mv_onehot.argmax(axis=1)==Z_train))"
   ]
  },
  {
   "cell_type": "code",
   "execution_count": null,
   "metadata": {},
   "outputs": [],
   "source": []
  },
  {
   "cell_type": "code",
   "execution_count": null,
   "metadata": {},
   "outputs": [],
   "source": []
  }
 ],
 "metadata": {
  "kernelspec": {
   "display_name": "Python [conda env:tesis]",
   "language": "python",
   "name": "conda-env-tesis-py"
  },
  "language_info": {
   "codemirror_mode": {
    "name": "ipython",
    "version": 3
   },
   "file_extension": ".py",
   "mimetype": "text/x-python",
   "name": "python",
   "nbconvert_exporter": "python",
   "pygments_lexer": "ipython3",
   "version": "3.5.6"
  }
 },
 "nbformat": 4,
 "nbformat_minor": 2
}
