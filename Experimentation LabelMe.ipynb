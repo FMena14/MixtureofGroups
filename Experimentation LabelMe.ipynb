{
 "cells": [
  {
   "cell_type": "code",
   "execution_count": 1,
   "metadata": {},
   "outputs": [
    {
     "name": "stderr",
     "output_type": "stream",
     "text": [
      "Using TensorFlow backend.\n"
     ]
    }
   ],
   "source": [
    "import numpy as np\n",
    "import pandas as pd\n",
    "import matplotlib.pyplot as plt\n",
    "import keras, time, sys, os, gc\n",
    "\n",
    "DTYPE_OP = 'float32'\n",
    "keras.backend.set_floatx(DTYPE_OP)\n",
    "\n",
    "if DTYPE_OP == 'float64':\n",
    "    keras.backend.set_epsilon(np.finfo(np.float64).eps)\n",
    "elif DTYPE_OP == 'float32':\n",
    "    keras.backend.set_epsilon(np.finfo(np.float32).eps)"
   ]
  },
  {
   "cell_type": "code",
   "execution_count": null,
   "metadata": {},
   "outputs": [],
   "source": [
    "https://github.com/fmpr/CrowdLayer/blob/master/demo-labelme-mturk.ipynb"
   ]
  },
  {
   "cell_type": "code",
   "execution_count": null,
   "metadata": {},
   "outputs": [],
   "source": [
    "#GLOBAL Variables\n",
    "BATCH_SIZE = 128 #rodrigues = BATCH_SIZE = 64\n",
    "EPOCHS_BASE = 50\n",
    "OPT = 'adam' #optimizer for neural network \n",
    "TOL = 3e-2"
   ]
  },
  {
   "cell_type": "code",
   "execution_count": 15,
   "metadata": {},
   "outputs": [],
   "source": [
    "label_names = np.asarray(['insidecity','coast','mountain','coast','street','insidecity','tallbuilding','street'])\n",
    "#revisar bien el orden de label_names\n",
    "folder = \"./LabelMe/\"\n"
   ]
  },
  {
   "cell_type": "markdown",
   "metadata": {},
   "source": [
    "### Load Data and preprocess"
   ]
  },
  {
   "cell_type": "code",
   "execution_count": null,
   "metadata": {},
   "outputs": [],
   "source": [
    "#which X??\n"
   ]
  },
  {
   "cell_type": "code",
   "execution_count": 11,
   "metadata": {},
   "outputs": [
    {
     "name": "stdout",
     "output_type": "stream",
     "text": [
      "Input shape: (1000, 512)\n",
      "Label shape: (1000,)\n"
     ]
    }
   ],
   "source": [
    "X_train_vgg16 = np.load(folder+\"LabelMe_VGG_avg_train.npy\")\n",
    "Z_train = np.loadtxt(folder+\"LabelMe_Z_train.txt\",dtype='int')\n",
    "\n",
    "X_valid_vgg16 = np.load(folder+\"LabelMe_VGG_avg_valid.npy\")\n",
    "Z_valid = np.loadtxt(folder+\"LabelMe_Z_valid.txt\",dtype='int')\n",
    "\n",
    "X_test_vgg16 = np.load(folder+\"LabelMe_VGG_avg_test.npy\")\n",
    "Z_test = np.loadtxt(folder+\"LabelMe_Z_test.txt\",dtype='int')\n",
    "\n",
    "print(\"Input shape:\",X_train_vgg16.shape)\n",
    "print(\"Label shape:\",Z_train.shape)"
   ]
  },
  {
   "cell_type": "code",
   "execution_count": 16,
   "metadata": {},
   "outputs": [
    {
     "data": {
      "text/plain": [
       "array(['coast', 'coast', 'mountain', 'street', 'insidecity', 'mountain',\n",
       "       'insidecity', 'street', 'mountain', 'insidecity', 'insidecity',\n",
       "       'coast', 'coast', 'coast', 'coast', 'coast', 'tallbuilding',\n",
       "       'street', 'street', 'street', 'coast', 'coast', 'coast', 'coast',\n",
       "       'coast', 'tallbuilding', 'insidecity', 'street', 'street',\n",
       "       'mountain', 'street', 'coast', 'tallbuilding', 'tallbuilding',\n",
       "       'insidecity', 'street', 'street', 'insidecity', 'insidecity',\n",
       "       'street', 'insidecity', 'street', 'mountain', 'insidecity',\n",
       "       'street', 'mountain', 'coast', 'insidecity', 'coast',\n",
       "       'tallbuilding', 'coast', 'street', 'mountain', 'insidecity',\n",
       "       'coast', 'tallbuilding', 'street', 'street', 'street', 'street',\n",
       "       'mountain', 'insidecity', 'insidecity', 'insidecity', 'coast',\n",
       "       'coast', 'street', 'insidecity', 'mountain', 'tallbuilding',\n",
       "       'street', 'coast', 'street', 'tallbuilding', 'tallbuilding',\n",
       "       'coast', 'insidecity', 'tallbuilding', 'tallbuilding', 'street',\n",
       "       'coast', 'coast', 'insidecity', 'insidecity', 'street',\n",
       "       'insidecity', 'tallbuilding', 'street', 'insidecity', 'street',\n",
       "       'street', 'insidecity', 'coast', 'coast', 'insidecity',\n",
       "       'insidecity', 'street', 'street', 'coast', 'coast', 'insidecity',\n",
       "       'street', 'street', 'mountain', 'street', 'street', 'tallbuilding',\n",
       "       'mountain', 'street', 'mountain', 'mountain', 'coast', 'street',\n",
       "       'street', 'insidecity', 'street', 'street', 'street', 'insidecity',\n",
       "       'mountain', 'tallbuilding', 'street', 'street', 'street', 'coast',\n",
       "       'mountain', 'coast', 'street', 'coast', 'coast', 'coast',\n",
       "       'tallbuilding', 'insidecity', 'street', 'tallbuilding', 'coast',\n",
       "       'tallbuilding', 'street', 'street', 'street', 'insidecity',\n",
       "       'street', 'insidecity', 'insidecity', 'street', 'insidecity',\n",
       "       'street', 'insidecity', 'coast', 'coast', 'street', 'insidecity',\n",
       "       'insidecity', 'street', 'street', 'coast', 'insidecity',\n",
       "       'tallbuilding', 'coast', 'street', 'coast', 'insidecity', 'street',\n",
       "       'mountain', 'coast', 'street', 'insidecity', 'coast', 'insidecity',\n",
       "       'street', 'coast', 'insidecity', 'insidecity', 'mountain',\n",
       "       'street', 'mountain', 'insidecity', 'street', 'mountain', 'street',\n",
       "       'insidecity', 'coast', 'insidecity', 'street', 'coast', 'coast',\n",
       "       'tallbuilding', 'street', 'insidecity', 'coast', 'insidecity',\n",
       "       'street', 'street', 'mountain', 'insidecity', 'insidecity',\n",
       "       'street', 'street', 'coast', 'insidecity', 'insidecity',\n",
       "       'insidecity', 'coast', 'insidecity', 'tallbuilding', 'street',\n",
       "       'coast', 'street', 'mountain', 'coast', 'coast', 'street',\n",
       "       'tallbuilding', 'insidecity', 'insidecity', 'street', 'coast',\n",
       "       'street', 'coast', 'mountain', 'mountain', 'insidecity', 'street',\n",
       "       'street', 'street', 'street', 'mountain', 'coast', 'mountain',\n",
       "       'insidecity', 'coast', 'insidecity', 'mountain', 'street', 'coast',\n",
       "       'insidecity', 'tallbuilding', 'street', 'mountain', 'insidecity',\n",
       "       'street', 'coast', 'street', 'street', 'coast', 'tallbuilding',\n",
       "       'mountain', 'street', 'street', 'street', 'coast', 'street',\n",
       "       'coast', 'street', 'tallbuilding', 'street', 'mountain', 'coast',\n",
       "       'insidecity', 'street', 'coast', 'insidecity', 'insidecity',\n",
       "       'street', 'coast', 'street', 'tallbuilding', 'coast', 'street',\n",
       "       'coast', 'insidecity', 'mountain', 'street', 'insidecity', 'coast',\n",
       "       'mountain', 'tallbuilding', 'coast', 'coast', 'street', 'street',\n",
       "       'street', 'street', 'coast', 'insidecity', 'insidecity',\n",
       "       'tallbuilding', 'coast', 'tallbuilding', 'street', 'coast',\n",
       "       'tallbuilding', 'insidecity', 'street', 'coast', 'coast',\n",
       "       'tallbuilding', 'insidecity', 'mountain', 'tallbuilding',\n",
       "       'insidecity', 'street', 'insidecity', 'mountain', 'insidecity',\n",
       "       'mountain', 'coast', 'coast', 'coast', 'insidecity', 'insidecity',\n",
       "       'tallbuilding', 'insidecity', 'insidecity', 'tallbuilding',\n",
       "       'insidecity', 'insidecity', 'insidecity', 'mountain', 'street',\n",
       "       'street', 'tallbuilding', 'tallbuilding', 'coast', 'mountain',\n",
       "       'street', 'mountain', 'coast', 'insidecity', 'mountain', 'street',\n",
       "       'street', 'insidecity', 'coast', 'tallbuilding', 'insidecity',\n",
       "       'coast', 'insidecity', 'insidecity', 'coast', 'coast',\n",
       "       'insidecity', 'tallbuilding', 'street', 'insidecity', 'mountain',\n",
       "       'street', 'insidecity', 'tallbuilding', 'coast', 'coast',\n",
       "       'tallbuilding', 'street', 'insidecity', 'street', 'insidecity',\n",
       "       'street', 'insidecity', 'tallbuilding', 'coast', 'insidecity',\n",
       "       'coast', 'street', 'insidecity', 'coast', 'mountain', 'street',\n",
       "       'street', 'insidecity', 'mountain', 'tallbuilding', 'street',\n",
       "       'insidecity', 'insidecity', 'insidecity', 'street', 'coast',\n",
       "       'tallbuilding', 'mountain', 'street', 'street', 'coast', 'street',\n",
       "       'street', 'mountain', 'insidecity', 'street', 'tallbuilding',\n",
       "       'mountain', 'mountain', 'tallbuilding', 'mountain', 'coast',\n",
       "       'street', 'tallbuilding', 'coast', 'coast', 'tallbuilding',\n",
       "       'insidecity', 'mountain', 'insidecity', 'insidecity', 'insidecity',\n",
       "       'coast', 'coast', 'street', 'street', 'tallbuilding', 'mountain',\n",
       "       'insidecity', 'street', 'coast', 'insidecity', 'insidecity',\n",
       "       'street', 'street', 'coast', 'tallbuilding', 'street', 'street',\n",
       "       'street', 'tallbuilding', 'insidecity', 'street', 'street',\n",
       "       'street', 'street', 'insidecity', 'street', 'mountain', 'street',\n",
       "       'insidecity', 'street', 'street', 'insidecity', 'street',\n",
       "       'insidecity', 'mountain', 'street', 'street', 'street', 'street',\n",
       "       'coast', 'street', 'insidecity', 'insidecity', 'tallbuilding',\n",
       "       'coast', 'street', 'street', 'insidecity', 'coast', 'street',\n",
       "       'mountain', 'coast', 'insidecity', 'street', 'mountain',\n",
       "       'insidecity', 'coast', 'street', 'street', 'insidecity',\n",
       "       'mountain', 'coast', 'coast', 'coast', 'coast', 'street', 'street',\n",
       "       'tallbuilding', 'street', 'tallbuilding', 'insidecity',\n",
       "       'insidecity', 'insidecity', 'insidecity', 'coast', 'coast',\n",
       "       'mountain', 'insidecity', 'mountain', 'tallbuilding', 'coast',\n",
       "       'mountain', 'mountain', 'mountain', 'insidecity', 'street',\n",
       "       'mountain', 'mountain', 'coast', 'coast', 'street', 'coast',\n",
       "       'coast', 'tallbuilding', 'insidecity', 'coast', 'tallbuilding',\n",
       "       'insidecity', 'mountain', 'tallbuilding', 'tallbuilding',\n",
       "       'mountain', 'street', 'insidecity', 'coast', 'mountain', 'street',\n",
       "       'coast', 'street', 'insidecity', 'insidecity', 'street', 'coast',\n",
       "       'mountain', 'coast', 'insidecity', 'tallbuilding', 'street',\n",
       "       'coast', 'insidecity', 'insidecity', 'tallbuilding',\n",
       "       'tallbuilding', 'street', 'mountain', 'coast', 'street',\n",
       "       'insidecity', 'street', 'insidecity', 'insidecity', 'tallbuilding',\n",
       "       'mountain', 'coast', 'coast', 'insidecity', 'street', 'street',\n",
       "       'mountain', 'coast', 'street', 'coast', 'insidecity', 'street',\n",
       "       'coast', 'insidecity', 'insidecity', 'tallbuilding', 'coast',\n",
       "       'coast', 'street', 'street', 'street', 'mountain', 'street',\n",
       "       'coast', 'coast', 'coast', 'coast', 'insidecity', 'coast',\n",
       "       'insidecity', 'street', 'coast', 'coast', 'coast', 'street',\n",
       "       'street', 'tallbuilding', 'coast', 'insidecity', 'mountain',\n",
       "       'tallbuilding', 'insidecity', 'street', 'insidecity', 'coast',\n",
       "       'mountain', 'street', 'insidecity', 'street', 'street', 'street',\n",
       "       'street', 'coast', 'insidecity', 'tallbuilding', 'street',\n",
       "       'street', 'coast', 'tallbuilding', 'street', 'coast',\n",
       "       'tallbuilding', 'street', 'tallbuilding', 'coast', 'mountain',\n",
       "       'street', 'coast', 'insidecity', 'mountain', 'street',\n",
       "       'tallbuilding', 'insidecity', 'insidecity', 'mountain',\n",
       "       'insidecity', 'insidecity', 'street', 'tallbuilding', 'mountain',\n",
       "       'insidecity', 'coast', 'coast', 'street', 'mountain', 'insidecity',\n",
       "       'insidecity', 'coast', 'insidecity', 'tallbuilding', 'street',\n",
       "       'tallbuilding', 'insidecity', 'street', 'tallbuilding', 'street',\n",
       "       'tallbuilding', 'insidecity', 'street', 'insidecity', 'mountain',\n",
       "       'coast', 'insidecity', 'mountain', 'street', 'mountain', 'street',\n",
       "       'street', 'insidecity', 'insidecity', 'coast', 'insidecity',\n",
       "       'insidecity', 'coast', 'street', 'coast', 'mountain', 'coast',\n",
       "       'insidecity', 'coast', 'street', 'street', 'coast', 'coast',\n",
       "       'tallbuilding', 'coast', 'insidecity', 'insidecity',\n",
       "       'tallbuilding', 'coast', 'coast', 'coast', 'tallbuilding',\n",
       "       'mountain', 'street', 'mountain', 'street', 'insidecity', 'street',\n",
       "       'mountain', 'insidecity', 'street', 'tallbuilding', 'mountain',\n",
       "       'coast', 'insidecity', 'street', 'coast', 'street', 'coast',\n",
       "       'coast', 'tallbuilding', 'coast', 'insidecity', 'coast',\n",
       "       'mountain', 'insidecity', 'coast', 'street', 'coast', 'mountain',\n",
       "       'coast', 'street', 'insidecity', 'street', 'insidecity', 'street',\n",
       "       'tallbuilding', 'mountain', 'street', 'coast', 'street',\n",
       "       'insidecity', 'coast', 'mountain', 'street', 'insidecity',\n",
       "       'mountain', 'mountain', 'street', 'street', 'tallbuilding',\n",
       "       'street', 'street', 'street', 'tallbuilding', 'coast',\n",
       "       'insidecity', 'tallbuilding', 'coast', 'street', 'tallbuilding',\n",
       "       'street', 'insidecity', 'coast', 'insidecity', 'insidecity',\n",
       "       'mountain', 'tallbuilding', 'mountain', 'tallbuilding',\n",
       "       'tallbuilding', 'tallbuilding', 'tallbuilding', 'mountain',\n",
       "       'mountain', 'mountain', 'street', 'street', 'street', 'coast',\n",
       "       'street', 'street', 'street', 'street', 'street', 'mountain',\n",
       "       'coast', 'mountain', 'insidecity', 'mountain', 'coast', 'mountain',\n",
       "       'mountain', 'mountain', 'street', 'coast', 'insidecity',\n",
       "       'insidecity', 'insidecity', 'coast', 'mountain', 'insidecity',\n",
       "       'tallbuilding', 'insidecity', 'street', 'street', 'tallbuilding',\n",
       "       'coast', 'tallbuilding', 'insidecity', 'street', 'tallbuilding',\n",
       "       'insidecity', 'insidecity', 'insidecity', 'mountain', 'coast',\n",
       "       'coast', 'tallbuilding', 'mountain', 'coast', 'coast', 'street',\n",
       "       'coast', 'tallbuilding', 'mountain', 'mountain', 'insidecity',\n",
       "       'mountain', 'insidecity', 'street', 'street', 'street', 'mountain',\n",
       "       'insidecity', 'street', 'coast', 'insidecity', 'street', 'street',\n",
       "       'coast', 'insidecity', 'tallbuilding', 'street', 'coast',\n",
       "       'mountain', 'insidecity', 'mountain', 'coast', 'mountain', 'coast',\n",
       "       'tallbuilding', 'coast', 'street', 'street', 'street', 'street',\n",
       "       'tallbuilding', 'insidecity', 'street', 'tallbuilding', 'street',\n",
       "       'street', 'street', 'insidecity', 'coast', 'street', 'street',\n",
       "       'street', 'street', 'street', 'street', 'tallbuilding', 'coast',\n",
       "       'mountain', 'insidecity', 'street', 'insidecity', 'tallbuilding',\n",
       "       'insidecity', 'insidecity', 'street', 'mountain', 'tallbuilding',\n",
       "       'tallbuilding', 'insidecity', 'insidecity', 'coast', 'coast',\n",
       "       'street', 'tallbuilding', 'coast', 'coast', 'mountain', 'street',\n",
       "       'street', 'tallbuilding', 'street', 'insidecity', 'tallbuilding',\n",
       "       'tallbuilding', 'coast', 'street', 'mountain', 'street', 'coast',\n",
       "       'street', 'coast', 'tallbuilding', 'street', 'street',\n",
       "       'tallbuilding', 'tallbuilding', 'street', 'insidecity',\n",
       "       'insidecity', 'street', 'mountain', 'insidecity', 'insidecity',\n",
       "       'street', 'mountain', 'street', 'coast', 'street', 'insidecity',\n",
       "       'coast', 'street', 'insidecity', 'insidecity', 'tallbuilding',\n",
       "       'coast', 'tallbuilding', 'insidecity', 'tallbuilding', 'street',\n",
       "       'insidecity', 'insidecity', 'street', 'street', 'coast',\n",
       "       'mountain', 'street', 'tallbuilding', 'tallbuilding', 'coast',\n",
       "       'coast', 'street', 'street', 'street', 'insidecity',\n",
       "       'tallbuilding', 'coast', 'street', 'tallbuilding', 'mountain',\n",
       "       'coast', 'coast', 'street', 'street', 'insidecity', 'coast',\n",
       "       'insidecity', 'street', 'street', 'tallbuilding', 'coast',\n",
       "       'street', 'insidecity', 'insidecity', 'mountain', 'mountain',\n",
       "       'mountain', 'street', 'street', 'insidecity', 'coast', 'mountain',\n",
       "       'tallbuilding', 'mountain', 'insidecity', 'street', 'coast',\n",
       "       'coast', 'insidecity', 'street', 'mountain', 'coast', 'insidecity',\n",
       "       'tallbuilding', 'coast', 'coast', 'coast', 'insidecity', 'coast',\n",
       "       'tallbuilding', 'coast', 'mountain', 'insidecity', 'coast',\n",
       "       'tallbuilding', 'tallbuilding', 'mountain', 'coast',\n",
       "       'tallbuilding', 'coast', 'tallbuilding', 'street', 'tallbuilding',\n",
       "       'street', 'coast', 'coast', 'street', 'coast', 'street', 'street',\n",
       "       'mountain', 'insidecity', 'street', 'mountain', 'coast',\n",
       "       'mountain', 'coast', 'mountain', 'tallbuilding', 'street',\n",
       "       'tallbuilding', 'insidecity', 'coast', 'street', 'street', 'coast',\n",
       "       'mountain', 'street'], dtype='<U12')"
      ]
     },
     "execution_count": 16,
     "metadata": {},
     "output_type": "execute_result"
    }
   ],
   "source": [
    "label_names[Z_train]"
   ]
  },
  {
   "cell_type": "code",
   "execution_count": null,
   "metadata": {},
   "outputs": [],
   "source": [
    "from sklearn.preprocessing import StandardScaler\n",
    "std= StandardScaler()\n",
    "std.fit(X_train_vgg16)\n",
    "Xstd_train = std.transform(X_train_vgg16)\n",
    "Xstd_valid = std.transform(X_valid_vgg16)\n",
    "Xstd_test = std.transform(X_test_vgg16)\n",
    "Xstd_train.shape #do it ??\n",
    "asd"
   ]
  },
  {
   "cell_type": "markdown",
   "metadata": {},
   "source": [
    "### Load annotations / Generate"
   ]
  },
  {
   "cell_type": "code",
   "execution_count": 19,
   "metadata": {},
   "outputs": [
    {
     "name": "stdout",
     "output_type": "stream",
     "text": [
      "Loading AMT data...\n",
      "Shape (data,annotators):  (1000, 77)\n",
      "Classes:  8\n"
     ]
    }
   ],
   "source": [
    "# data from Amazon Mechanical Turk\n",
    "print(\"Loading AMT data...\")\n",
    "y_obs = np.loadtxt(folder+\"answers.txt\",dtype='int16')\n",
    "N,T = y_obs.shape\n",
    "K = np.max(y_obs)+1 # asumiendo que estan ordenadas\n",
    "print(\"Shape (data,annotators): \",(N,T))\n",
    "print(\"Classes: \",K)"
   ]
  },
  {
   "cell_type": "code",
   "execution_count": null,
   "metadata": {},
   "outputs": [],
   "source": [
    "#graphics and distribution? what is T_data"
   ]
  },
  {
   "cell_type": "code",
   "execution_count": null,
   "metadata": {},
   "outputs": [],
   "source": []
  }
 ],
 "metadata": {
  "kernelspec": {
   "display_name": "Python [conda env:py3]",
   "language": "python",
   "name": "conda-env-py3-py"
  },
  "language_info": {
   "codemirror_mode": {
    "name": "ipython",
    "version": 3
   },
   "file_extension": ".py",
   "mimetype": "text/x-python",
   "name": "python",
   "nbconvert_exporter": "python",
   "pygments_lexer": "ipython3",
   "version": "3.5.5"
  }
 },
 "nbformat": 4,
 "nbformat_minor": 2
}
