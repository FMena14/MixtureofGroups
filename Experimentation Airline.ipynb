{
 "cells": [
  {
   "cell_type": "code",
   "execution_count": 1,
   "metadata": {
    "scrolled": true
   },
   "outputs": [
    {
     "name": "stderr",
     "output_type": "stream",
     "text": [
      "Using TensorFlow backend.\n"
     ]
    }
   ],
   "source": [
    "import numpy as np\n",
    "import pandas as pd\n",
    "import matplotlib.pyplot as plt\n",
    "import seaborn as sns\n",
    "import keras, time, sys, os, gc\n",
    "\n",
    "DTYPE_OP = 'float32'\n",
    "keras.backend.set_floatx(DTYPE_OP)\n",
    "\n",
    "if DTYPE_OP == 'float64':\n",
    "    keras.backend.set_epsilon(np.finfo(np.float64).eps)\n",
    "elif DTYPE_OP == 'float32':\n",
    "    keras.backend.set_epsilon(np.finfo(np.float32).eps)"
   ]
  },
  {
   "cell_type": "code",
   "execution_count": 2,
   "metadata": {},
   "outputs": [],
   "source": [
    "#GLOBAL Variables\n",
    "BATCH_SIZE = 128 \n",
    "EPOCHS_BASE = 50 #or 100\n",
    "OPT = 'adam' #optimizer for neural network \n",
    "TOL = 3e-2"
   ]
  },
  {
   "cell_type": "code",
   "execution_count": 3,
   "metadata": {},
   "outputs": [],
   "source": [
    "folder = \"./AirlineSentiment/\"\n",
    "label_names = [\"negative\",\"neutral\",\"positive\"]"
   ]
  },
  {
   "cell_type": "markdown",
   "metadata": {},
   "source": [
    "### Load Data and preprocess"
   ]
  },
  {
   "cell_type": "code",
   "execution_count": 4,
   "metadata": {},
   "outputs": [
    {
     "name": "stdout",
     "output_type": "stream",
     "text": [
      "Num. train texts: 14680\n"
     ]
    }
   ],
   "source": [
    "import re\n",
    "FLAGS = re.MULTILINE | re.DOTALL\n",
    "def allcaps(text):\n",
    "    text = text.group()\n",
    "    return text.lower() + \" <allcaps>\"\n",
    "def tokenize(text):\n",
    "    # Different regex parts for smiley faces\n",
    "    eyes = r\"[8:=;]\"\n",
    "    nose = r\"['`\\-]?\"\n",
    "    def re_sub(pattern, repl):\n",
    "        return re.sub(pattern, repl, text, flags=FLAGS)\n",
    "\n",
    "    text = re_sub(r\"https?:\\/\\/\\S+\\b|www\\.(\\w+\\.)+\\S*\", \"<url>\")\n",
    "    text = re_sub(r\"/\",\" / \")\n",
    "    text = re_sub(r\"@\\w+\", \"<user>\")\n",
    "    text = re_sub(r\"{}{}[)dD]+|[)dD]+{}{}\".format(eyes, nose, nose, eyes), \"<smile>\")\n",
    "    text = re_sub(r\"{}{}p+\".format(eyes, nose), \"<lolface>\")\n",
    "    text = re_sub(r\"{}{}\\(+|\\)+{}{}\".format(eyes, nose, nose, eyes), \"<sadface>\")\n",
    "    text = re_sub(r\"{}{}[\\/|l*]\".format(eyes, nose), \"<neutralface>\")\n",
    "    text = re_sub(r\"<3\",\"<heart>\")\n",
    "    text = re_sub(r\"[-+]?[.\\d]*[\\d]+[:,.\\d]*\", \"<number>\")\n",
    "    text = re_sub(r\"#\\S+\", \"<hashtag>\")\n",
    "    text = re_sub(r\"([!?.]){2,}\", r\"\\1 <repeat>\")\n",
    "    text = re_sub(r\"\\b(\\S*?)(.)\\2{2,}\\b\", r\"\\1\\2 <elong>\")\n",
    "\n",
    "    ## -- I just don't understand why the Ruby script adds <allcaps> to everything so I limited the selection.\n",
    "    # text = re_sub(r\"([^a-z0-9()<>'`\\-]){2,}\", allcaps)\n",
    "    text = re_sub(r\"([A-Z]){2,}\", allcaps)\n",
    "    return text.lower()\n",
    "\n",
    "def read_texts(filename):\n",
    "    f = open(filename)\n",
    "    data = [line.strip() for line in f]\n",
    "    f.close()\n",
    "    return data\n",
    "\n",
    "texts_train = [tokenize(text) for text in read_texts(folder+\"texts_train.txt\")]\n",
    "#texts_test = [tokenize(text) for text in read_texts(folder+\"texts_test.txt\")]\n",
    "\n",
    "Z_train = np.loadtxt(folder+\"sent_train.txt\", dtype='int')\n",
    "#Z_test = np.loadtxt(folder+\"sent_test.txt\", dtype='int')\n",
    "\n",
    "mask_gt = Z_train != -1\n",
    "print(\"Num. train texts: %d\" % len(texts_train))\n",
    "#print(\"Num. test texts:  %d\" % len(texts_test))"
   ]
  },
  {
   "cell_type": "code",
   "execution_count": 13,
   "metadata": {},
   "outputs": [
    {
     "name": "stdout",
     "output_type": "stream",
     "text": [
      "Num. test texts:  3805\n"
     ]
    }
   ],
   "source": [
    "folder_test = \"./Sentiment/Semeval/\"\n",
    "texts_test = [tokenize(text) for text in read_texts(folder_test+\"texts_data.txt\")]\n",
    "\n",
    "Z_test = np.loadtxt(folder_test+\"sent_data.txt\", dtype='int')\n",
    "\n",
    "mask_data = Z_test <= 2\n",
    "Z_test = Z_test[mask_data]\n",
    "texts_test = list(np.asarray(texts_test)[mask_data])\n",
    "\n",
    "print(\"Num. test texts:  %d\" % len(texts_test))"
   ]
  },
  {
   "cell_type": "code",
   "execution_count": 5,
   "metadata": {},
   "outputs": [
    {
     "name": "stdout",
     "output_type": "stream",
     "text": [
      "Num. train texts: 14600\n",
      "Num. test texts:  80\n"
     ]
    }
   ],
   "source": [
    "##mask Z_train to be test....\n",
    "mask_gt = Z_train != -1\n",
    "\n",
    "texts_test = list(np.asarray(texts_train)[mask_gt])\n",
    "texts_train = list(np.asarray(texts_train)[~mask_gt])\n",
    "\n",
    "Z_test = Z_train[mask_gt]\n",
    "Z_train = Z_train[~mask_gt]\n",
    "\n",
    "print(\"Num. train texts: %d\" % len(texts_train))\n",
    "print(\"Num. test texts:  %d\" % len(texts_test))"
   ]
  },
  {
   "cell_type": "code",
   "execution_count": null,
   "metadata": {},
   "outputs": [],
   "source": [
    "## como tengo anotaciones en test podria utilizar para medir matrices de confusion \"fuera\" out of samplke"
   ]
  },
  {
   "cell_type": "code",
   "execution_count": 14,
   "metadata": {
    "scrolled": true
   },
   "outputs": [
    {
     "data": {
      "image/png": "[encoded data removed]",
      "text/plain": [
       "<Figure size 432x288 with 1 Axes>"
      ]
     },
     "metadata": {},
     "output_type": "display_data"
    }
   ],
   "source": [
    "sns.countplot(Z_test)\n",
    "plt.show()"
   ]
  },
  {
   "cell_type": "code",
   "execution_count": 17,
   "metadata": {},
   "outputs": [
    {
     "name": "stdout",
     "output_type": "stream",
     "text": [
      "Found 16224 unique tokens.\n"
     ]
    }
   ],
   "source": [
    "from keras import preprocessing\n",
    "MAX_NB_WORDS = 15000\n",
    "tokenizer = preprocessing.text.Tokenizer(num_words=MAX_NB_WORDS)\n",
    "tokenizer.fit_on_texts(texts_train+texts_test)\n",
    "sequences_train = tokenizer.texts_to_sequences(texts_train)\n",
    "sequences_test = tokenizer.texts_to_sequences(texts_test)\n",
    "MAX_NB_WORDS = len(tokenizer.word_index)\n",
    "print('Found %s unique tokens.' % len(tokenizer.word_index))"
   ]
  },
  {
   "cell_type": "code",
   "execution_count": 18,
   "metadata": {},
   "outputs": [
    {
     "name": "stdout",
     "output_type": "stream",
     "text": [
      "Real max:  50\n",
      "Shape of train tensor: (14680, 50)\n"
     ]
    }
   ],
   "source": [
    "lens = list(map(len,sequences_train))\n",
    "max_L = np.max(lens)\n",
    "print(\"Real max: \",max_L)\n",
    "\n",
    "X_train = preprocessing.sequence.pad_sequences(sequences_train, maxlen=max_L,dtype='int32', value=0,padding='pre')\n",
    "X_test = preprocessing.sequence.pad_sequences(sequences_test, maxlen=max_L,dtype='int32', value=0,padding='pre')\n",
    "print('Shape of train tensor:', X_train.shape)"
   ]
  },
  {
   "cell_type": "code",
   "execution_count": 20,
   "metadata": {},
   "outputs": [
    {
     "name": "stdout",
     "output_type": "stream",
     "text": [
      "Preparing embedding matrix.\n",
      "Words found on glove:  14161\n"
     ]
    }
   ],
   "source": [
    "EMBEDDING_DIM = 100\n",
    "GLOVE_FILE = \"../AUX_DATA/glove.twitter.27B/glove.twitter.27B.%dd.txt\"%(EMBEDDING_DIM)\n",
    "#GLOVE_FILE = \"../GLOVE/glove.twitter.27B.%dd.txt\"%(EMBEDDING_DIM)\n",
    "\n",
    "embeddings_index = {}\n",
    "with open(GLOVE_FILE) as file:\n",
    "    for line in file:\n",
    "        values = line.split()\n",
    "        coefs = np.asarray(values[1:], dtype='float32')\n",
    "        embeddings_index[values[0]] = coefs\n",
    "print('Preparing embedding matrix.')\n",
    "sorted_x = sorted(tokenizer.word_counts.items(), key=lambda kv: kv[1], reverse=True)\n",
    "vocab = {value[0]:tokenizer.word_index[value[0]] for i, value in enumerate(sorted_x) if i < MAX_NB_WORDS}\n",
    "embedding_matrix = np.zeros((len(vocab)+1, EMBEDDING_DIM))\n",
    "v=0\n",
    "for word, i in vocab.items():\n",
    "    embedding_vector = embeddings_index.get(word)\n",
    "    if embedding_vector is not None:\n",
    "        embedding_matrix[i] = embedding_vector # words not found in embedding index will be all-zeros.\n",
    "        v+=1\n",
    "del embeddings_index, sorted_x, tokenizer\n",
    "gc.collect()\n",
    "print(\"Words found on glove: \",v)"
   ]
  },
  {
   "cell_type": "markdown",
   "metadata": {},
   "source": [
    "### Load annotations / Generate"
   ]
  },
  {
   "cell_type": "code",
   "execution_count": 21,
   "metadata": {},
   "outputs": [],
   "source": [
    "from code.representation import *\n",
    "from code.utils import *"
   ]
  },
  {
   "cell_type": "code",
   "execution_count": 22,
   "metadata": {},
   "outputs": [
    {
     "name": "stdout",
     "output_type": "stream",
     "text": [
      "Loading AMT data...\n",
      "Remove 0 annotators that do not annotate on this set \n",
      "Shape (data,annotators):  (14680, 503)\n",
      "Classes:  3\n"
     ]
    }
   ],
   "source": [
    "print(\"Loading AMT data...\")\n",
    "y_obs = np.loadtxt(folder+\"answers.txt\", delimiter=' ', dtype='int16')\n",
    "\n",
    "#put mask\n",
    "#y_obs = y_obs[~mask_gt]\n",
    "\n",
    "T_weights = np.sum(y_obs != -1,axis=0) #distribucion de anotaciones\n",
    "print(\"Remove %d annotators that do not annotate on this set \"%(np.sum(T_weights==0)))\n",
    "y_obs = y_obs[:,T_weights!=0]\n",
    "\n",
    "T_weights = np.sum(y_obs != -1,axis=0) #distribucion de anotaciones\n",
    "N,T = y_obs.shape\n",
    "Kl = np.max(y_obs)+1 # asumiendo que estan ordenadas\n",
    "print(\"Shape (data,annotators): \",(N,T))\n",
    "print(\"Classes: \",Kl)"
   ]
  },
  {
   "cell_type": "code",
   "execution_count": null,
   "metadata": {},
   "outputs": [],
   "source": []
  },
  {
   "cell_type": "code",
   "execution_count": null,
   "metadata": {},
   "outputs": [],
   "source": [
    "#generate conf matrix...\n",
    "confe_matrix_R = np.zeros((T,Kl,Kl),dtype=DTYPE_OP) #rodrigues add epsilon here\n",
    "for t in range(T):    \n",
    "    for i in range(N):\n",
    "        if y_obs[i,t] != -1:\n",
    "            confe_matrix_R[t,Z_train[i],y_obs[i,t]] +=1\n",
    "            \n",
    "    mask_nan = confe_matrix_R[t,:,:].sum(axis=-1) == 0\n",
    "    mean_replace = np.mean(confe_matrix_R[t,:,:][~mask_nan],axis=0)\n",
    "    for value in np.arange(Kl)[mask_nan]:\n",
    "        confe_matrix_R[t,value,:] =  1 #Rodrigues 1./K -- similar  to laplace smooth (prior 1)\n",
    "    confe_matrix_R[t,:,:] = confe_matrix_R[t,:,:]/confe_matrix_R[t,:,:].sum(axis=-1,keepdims=True) #normalize\n",
    "confe_matrix_R"
   ]
  },
  {
   "cell_type": "code",
   "execution_count": 20,
   "metadata": {
    "scrolled": true
   },
   "outputs": [
    {
     "data": {
      "image/png": "[encoded data removed]",
      "text/plain": [
       "<Figure size 432x288 with 1 Axes>"
      ]
     },
     "metadata": {},
     "output_type": "display_data"
    },
    {
     "name": "stdout",
     "output_type": "stream",
     "text": [
      "Minimum annotations in a example:  2\n",
      "Maximum annotations in a example:  248\n",
      "T data (expected value):  3.799931880108992\n",
      "Graphics of T weights\n"
     ]
    },
    {
     "data": {
      "image/png": "[encoded data removed]",
      "text/plain": [
       "<Figure size 432x288 with 1 Axes>"
      ]
     },
     "metadata": {},
     "output_type": "display_data"
    },
    {
     "data": {
      "image/png": "[encoded data removed]",
      "text/plain": [
       "<Figure size 432x288 with 1 Axes>"
      ]
     },
     "metadata": {},
     "output_type": "display_data"
    },
    {
     "name": "stdout",
     "output_type": "stream",
     "text": [
      "Minimum annotations by an annotator:  10\n",
      "Maximum annotations by an annotator:  452\n",
      "Mean annotations by an annotator:  110.90059642147118\n"
     ]
    }
   ],
   "source": [
    "#graphics and distribution? what is T_data\n",
    "N_ann = np.sum(y_obs != -1,axis=1) #distribucion de anotaciones con este valor\n",
    "\n",
    "sns.countplot(N_ann)\n",
    "plt.show()\n",
    "print(\"Minimum annotations in a example: \",N_ann.min())\n",
    "print(\"Maximum annotations in a example: \",N_ann.max())\n",
    "print(\"T data (expected value): \",N_ann.mean())\n",
    "\n",
    "print(\"Graphics of T weights\")\n",
    "plt.hist(T_weights)\n",
    "plt.show()\n",
    "\n",
    "plt.boxplot(T_weights)\n",
    "plt.show()\n",
    "print(\"Minimum annotations by an annotator: \",T_weights.min())\n",
    "print(\"Maximum annotations by an annotator: \",T_weights.max())\n",
    "print(\"Mean annotations by an annotator: \",T_weights.mean())"
   ]
  },
  {
   "cell_type": "markdown",
   "metadata": {},
   "source": [
    "#### Delta Convergence criteria"
   ]
  },
  {
   "cell_type": "code",
   "execution_count": 23,
   "metadata": {},
   "outputs": [],
   "source": [
    "from code.learning_models import LogisticRegression_Sklearn,LogisticRegression_Keras,MLP_Keras\n",
    "#deep learning\n",
    "from code.learning_models import default_CNN,default_RNN_text,default_CNN_text, Clonable_Model\n",
    "\n",
    "from code.utils import EarlyStopRelative\n",
    "ourCallback = EarlyStopRelative(monitor='loss',patience=1,min_delta=TOL)"
   ]
  },
  {
   "cell_type": "markdown",
   "metadata": {},
   "source": [
    "### Upper Bound Model -- ideal"
   ]
  },
  {
   "cell_type": "code",
   "execution_count": 24,
   "metadata": {},
   "outputs": [
    {
     "name": "stdout",
     "output_type": "stream",
     "text": [
      "_________________________________________________________________\n",
      "Layer (type)                 Output Shape              Param #   \n",
      "=================================================================\n",
      "embedding_1 (Embedding)      (None, 50, 100)           1622500   \n",
      "_________________________________________________________________\n",
      "cu_dnngru_1 (CuDNNGRU)       (None, 50, 128)           88320     \n",
      "_________________________________________________________________\n",
      "dropout_1 (Dropout)          (None, 50, 128)           0         \n",
      "_________________________________________________________________\n",
      "cu_dnngru_2 (CuDNNGRU)       (None, 64)                37248     \n",
      "_________________________________________________________________\n",
      "dropout_2 (Dropout)          (None, 64)                0         \n",
      "_________________________________________________________________\n",
      "dense_1 (Dense)              (None, 3)                 195       \n",
      "=================================================================\n",
      "Total params: 1,748,263\n",
      "Trainable params: 125,763\n",
      "Non-trainable params: 1,622,500\n",
      "_________________________________________________________________\n"
     ]
    }
   ],
   "source": [
    "#Z_train_onehot = keras.utils.to_categorical(Z_train)\n",
    "Z_test_onehot = keras.utils.to_categorical(Z_test)\n",
    "\n",
    "model_UB = default_RNN_text(max_L, Kl, embed_M=embedding_matrix)\n",
    "model_UB.compile(loss='categorical_crossentropy',optimizer=OPT)\n",
    "model_UB.summary()\n",
    "\n",
    "#hist = model_UB.fit(X_train,Z_train_onehot,epochs=EPOCHS_BASE,batch_size=BATCH_SIZE,verbose=0,callbacks=[ourCallback])\n",
    "#print(\"Trained IDeal Model, Epochs to converge =\",len(hist.epoch))\n",
    "clone_UB = Clonable_Model(model_UB)\n",
    "#Z_train_pred = model_UB.predict_classes(X_train)\n",
    "#Z_test_pred = model_UB.predict_classes(X_test)"
   ]
  },
  {
   "cell_type": "code",
   "execution_count": null,
   "metadata": {},
   "outputs": [],
   "source": []
  },
  {
   "cell_type": "code",
   "execution_count": 26,
   "metadata": {},
   "outputs": [
    {
     "name": "stdout",
     "output_type": "stream",
     "text": [
      "Representation for MV in 0.487544 sec\n",
      "Representation for DS in 0.391745 sec\n",
      "Estimation MV in 0.001091 sec\n"
     ]
    },
    {
     "ename": "NameError",
     "evalue": "name 'Z_test' is not defined",
     "output_type": "error",
     "traceback": [
      "\u001b[0;31m---------------------------------------------------------------------------\u001b[0m",
      "\u001b[0;31mNameError\u001b[0m                                 Traceback (most recent call last)",
      "\u001b[0;32m<ipython-input-26-e8c7bf6bc347>\u001b[0m in \u001b[0;36m<module>\u001b[0;34m()\u001b[0m\n\u001b[1;32m      7\u001b[0m \u001b[0;34m\u001b[0m\u001b[0m\n\u001b[1;32m      8\u001b[0m \u001b[0mZ_train_onehot\u001b[0m \u001b[0;34m=\u001b[0m \u001b[0mkeras\u001b[0m\u001b[0;34m.\u001b[0m\u001b[0mutils\u001b[0m\u001b[0;34m.\u001b[0m\u001b[0mto_categorical\u001b[0m\u001b[0;34m(\u001b[0m\u001b[0mZ_train\u001b[0m\u001b[0;34m)\u001b[0m\u001b[0;34m\u001b[0m\u001b[0m\n\u001b[0;32m----> 9\u001b[0;31m \u001b[0mZ_test_onehot\u001b[0m \u001b[0;34m=\u001b[0m \u001b[0mkeras\u001b[0m\u001b[0;34m.\u001b[0m\u001b[0mutils\u001b[0m\u001b[0;34m.\u001b[0m\u001b[0mto_categorical\u001b[0m\u001b[0;34m(\u001b[0m\u001b[0mZ_test\u001b[0m\u001b[0;34m)\u001b[0m\u001b[0;34m\u001b[0m\u001b[0m\n\u001b[0m",
      "\u001b[0;31mNameError\u001b[0m: name 'Z_test' is not defined"
     ]
    }
   ],
   "source": [
    "from code.baseline import LabelInference\n",
    "\n",
    "label_I = LabelInference(y_obs,TOL,type_inf = 'all')\n",
    "\n",
    "mv_probas, mv_conf_probas = label_I.mv_labels('probas')\n",
    "mv_onehot, mv_conf_onehot = label_I.mv_labels('onehot')\n",
    "\n",
    "Z_train_onehot = keras.utils.to_categorical(Z_train)\n",
    "Z_test_onehot = keras.utils.to_categorical(Z_test)"
   ]
  },
  {
   "cell_type": "code",
   "execution_count": null,
   "metadata": {},
   "outputs": [],
   "source": []
  },
  {
   "cell_type": "code",
   "execution_count": 22,
   "metadata": {},
   "outputs": [],
   "source": [
    "from keras.models import Sequential,Model\n",
    "from keras.layers import *\n",
    "def default_CNN_text(input_dim,output_dim,embed_M=[]):\n",
    "    model = Sequential() \n",
    "    if len(embed_M) != 0:\n",
    "        T, R_t = embed_M.shape\n",
    "        emd_layer = Embedding(T, R_t,trainable=False,weights=[embed_M],input_length=input_dim)\n",
    "        model.add(emd_layer)\n",
    "    else:\n",
    "        model.add(InputLayer(input_shape=input_dim))\n",
    "    model.add(Conv1D(128, 3, activation='relu')) #kernel 5?\n",
    "    model.add(BatchNormalization())\n",
    "    model.add(MaxPooling1D(2))\n",
    "    model.add(Dropout(0.25))\n",
    "    \n",
    "    model.add(Conv1D(128, 3, activation='relu'))\n",
    "    model.add(BatchNormalization())\n",
    "    model.add(MaxPooling1D(2))\n",
    "    model.add(Dropout(0.25))\n",
    "    \n",
    "    model.add(GlobalAveragePooling1D())\n",
    "    \n",
    "    #model.add(Flatten())\n",
    "    #model.add(Dense(32, activation='relu'))\n",
    "    #model.add(BatchNormalization())\n",
    "    #model.add(Dropout(0.25))\n",
    "    \n",
    "    model.add(Dense(output_dim, activation='softmax')) \n",
    "    return model\n",
    "## muy parecida a la recurrente-.--"
   ]
  },
  {
   "cell_type": "code",
   "execution_count": 23,
   "metadata": {},
   "outputs": [],
   "source": [
    "def default_RNN_text(input_dim,output_dim,embed_M=[]): \n",
    "    model = Sequential() \n",
    "    if len(embed_M) != 0:\n",
    "        T, R_t = embed_M.shape\n",
    "        emd_layer = Embedding(T, R_t,trainable=False,weights=[embed_M],input_length=input_dim)\n",
    "        model.add(emd_layer)\n",
    "    else:\n",
    "        model.add(InputLayer(input_shape=input_dim))\n",
    "    #model.add(Dropout(0.2))\n",
    "    \n",
    "    layer_gru1 = CuDNNGRU(128,return_sequences=True) #, dropout=0.2, recurrent_dropout=0.5)\n",
    "    #model.add(Bidirectional(layer_gru1)) \n",
    "    model.add(layer_gru1)\n",
    "    \n",
    "    model.add(Dropout(0.25))\n",
    "    \n",
    "    layer_gru2 = CuDNNGRU(64,return_sequences=False) #, dropout=0.2, recurrent_dropout=0.5)\n",
    "    #model.add(Bidirectional(layer_gru2)) #128 funciona con embd 100 (sin otra capa)\n",
    "    model.add(layer_gru2) #128 funciona con embd 100 (sin otra capa)\n",
    "    \n",
    "    #model.add(BatchNormalization())\n",
    "    model.add(Dropout(0.25))\n",
    "    \n",
    "    #model.add(Dense(32, activation='relu'))\n",
    "    #model.add(BatchNormalization())\n",
    "    #model.add(Dropout(0.5))\n",
    "    \n",
    "    model.add(Dense(output_dim, activation='softmax'))     \n",
    "    return model"
   ]
  },
  {
   "cell_type": "code",
   "execution_count": 24,
   "metadata": {
    "scrolled": true
   },
   "outputs": [
    {
     "name": "stdout",
     "output_type": "stream",
     "text": [
      "_________________________________________________________________\n",
      "Layer (type)                 Output Shape              Param #   \n",
      "=================================================================\n",
      "embedding_1 (Embedding)      (None, 50, 100)           1046200   \n",
      "_________________________________________________________________\n",
      "cu_dnngru_1 (CuDNNGRU)       (None, 50, 128)           88320     \n",
      "_________________________________________________________________\n",
      "dropout_1 (Dropout)          (None, 50, 128)           0         \n",
      "_________________________________________________________________\n",
      "cu_dnngru_2 (CuDNNGRU)       (None, 64)                37248     \n",
      "_________________________________________________________________\n",
      "dropout_2 (Dropout)          (None, 64)                0         \n",
      "_________________________________________________________________\n",
      "dense_1 (Dense)              (None, 3)                 195       \n",
      "=================================================================\n",
      "Total params: 1,171,963\n",
      "Trainable params: 125,763\n",
      "Non-trainable params: 1,046,200\n",
      "_________________________________________________________________\n"
     ]
    }
   ],
   "source": [
    "model_UB = default_RNN_text(max_L, Kl, embed_M=embedding_matrix)\n",
    "model_UB.compile(loss='categorical_crossentropy',optimizer=OPT, metrics=[\"accuracy\"])\n",
    "model_UB.summary()"
   ]
  },
  {
   "cell_type": "code",
   "execution_count": 25,
   "metadata": {
    "scrolled": true
   },
   "outputs": [
    {
     "ename": "NameError",
     "evalue": "name 'Z_train_onehot' is not defined",
     "output_type": "error",
     "traceback": [
      "\u001b[0;31m---------------------------------------------------------------------------\u001b[0m",
      "\u001b[0;31mNameError\u001b[0m                                 Traceback (most recent call last)",
      "\u001b[0;32m<ipython-input-25-c9c81e6a6548>\u001b[0m in \u001b[0;36m<module>\u001b[0;34m()\u001b[0m\n\u001b[0;32m----> 1\u001b[0;31m hist=model_UB.fit(X_train,Z_train_onehot,epochs=EPOCHS_BASE,batch_size=BATCH_SIZE,verbose=2#,callbacks=[ourCallback]\n\u001b[0m\u001b[1;32m      2\u001b[0m                   ,validation_data=(X_test,Z_test_onehot))\n\u001b[1;32m      3\u001b[0m \u001b[0mprint\u001b[0m\u001b[0;34m(\u001b[0m\u001b[0;34m\"Trained IDeal Model, Epochs to converge =\"\u001b[0m\u001b[0;34m,\u001b[0m\u001b[0mlen\u001b[0m\u001b[0;34m(\u001b[0m\u001b[0mhist\u001b[0m\u001b[0;34m.\u001b[0m\u001b[0mepoch\u001b[0m\u001b[0;34m)\u001b[0m\u001b[0;34m)\u001b[0m\u001b[0;34m\u001b[0m\u001b[0m\n",
      "\u001b[0;31mNameError\u001b[0m: name 'Z_train_onehot' is not defined"
     ]
    }
   ],
   "source": [
    "hist=model_UB.fit(X_train,Z_train_onehot,epochs=EPOCHS_BASE,batch_size=BATCH_SIZE,verbose=2#,callbacks=[ourCallback]\n",
    "                  ,validation_data=(X_test,Z_test_onehot))\n",
    "print(\"Trained IDeal Model, Epochs to converge =\",len(hist.epoch))"
   ]
  },
  {
   "cell_type": "code",
   "execution_count": null,
   "metadata": {
    "scrolled": true
   },
   "outputs": [],
   "source": [
    "plt.plot(hist.history[\"loss\"],label=\"train\")\n",
    "plt.plot(hist.history[\"val_loss\"])\n",
    "plt.legend()"
   ]
  },
  {
   "cell_type": "code",
   "execution_count": null,
   "metadata": {},
   "outputs": [],
   "source": []
  },
  {
   "cell_type": "markdown",
   "metadata": {},
   "source": [
    "### Infer Labels (without predictive model)"
   ]
  },
  {
   "cell_type": "code",
   "execution_count": 26,
   "metadata": {
    "scrolled": true
   },
   "outputs": [
    {
     "name": "stdout",
     "output_type": "stream",
     "text": [
      "Representation for MV in 0.494737 sec\n",
      "Representation for DS in 0.317282 sec\n",
      "Estimation MV in 0.001232 sec\n"
     ]
    }
   ],
   "source": [
    "from code.baseline import LabelInference\n",
    "\n",
    "label_I = LabelInference(y_obs,TOL,type_inf = 'all')\n",
    "\n",
    "mv_probas, mv_conf_probas = label_I.mv_labels('probas')\n",
    "mv_onehot, mv_conf_onehot = label_I.mv_labels('onehot')\n",
    "\n",
    "#confe_matrix_G = get_Global_confusionM(Z_train,label_I.y_obs_repeat)\n",
    "\n",
    "ds_labels,ds_conf = label_I.DS_labels()"
   ]
  },
  {
   "cell_type": "code",
   "execution_count": 38,
   "metadata": {},
   "outputs": [
    {
     "name": "stdout",
     "output_type": "stream",
     "text": [
      "ACC MV on train: 1.0\n"
     ]
    }
   ],
   "source": [
    "print(\"ACC MV on train:\",np.mean(mv_onehot.argmax(axis=1)[mask_gt]==Z_train[mask_gt]))\n",
    "#print(\"ACC D&S on train:\",np.mean(ds_labels.argmax(axis=1)[mask_gt]==Z_train[mask_gt]))"
   ]
  },
  {
   "cell_type": "code",
   "execution_count": 39,
   "metadata": {},
   "outputs": [
    {
     "name": "stdout",
     "output_type": "stream",
     "text": [
      "Train on 14680 samples, validate on 3805 samples\n",
      "Epoch 1/50\n",
      "14680/14680 [==============================] - 3s 227us/step - loss: 0.7234 - acc: 0.7274 - val_loss: 0.9951 - val_acc: 0.5477\n",
      "Epoch 2/50\n",
      "14680/14680 [==============================] - 2s 143us/step - loss: 0.5882 - acc: 0.7905 - val_loss: 1.2133 - val_acc: 0.4746\n",
      "Epoch 3/50\n",
      "14680/14680 [==============================] - 2s 144us/step - loss: 0.5608 - acc: 0.8037 - val_loss: 0.9732 - val_acc: 0.5742\n",
      "Epoch 4/50\n",
      "14680/14680 [==============================] - 2s 141us/step - loss: 0.5443 - acc: 0.8110 - val_loss: 1.1037 - val_acc: 0.5167\n",
      "Trained model over soft-MV, Epochs to converge = 4\n"
     ]
    }
   ],
   "source": [
    "model_mvsoft = clone_UB.get_model()\n",
    "model_mvsoft.compile(loss='categorical_crossentropy',optimizer=OPT, metrics=[\"acc\"])\n",
    "hist=model_mvsoft.fit(X_train, mv_probas, epochs=EPOCHS_BASE,batch_size=BATCH_SIZE,verbose=1,callbacks=[ourCallback],\n",
    "                     validation_data=(X_test,Z_test_onehot))\n",
    "                     # validation_split=0.2)\n",
    "print(\"Trained model over soft-MV, Epochs to converge =\",len(hist.epoch))\n",
    "Z_train_p  = model_mvsoft.predict(X_train)\n",
    "Z_train_pred = Z_train_p.argmax(axis=-1)\n",
    "Z_test_pred = model_mvsoft.predict_classes(X_test)"
   ]
  },
  {
   "cell_type": "code",
   "execution_count": 40,
   "metadata": {},
   "outputs": [
    {
     "data": {
      "text/plain": [
       "<matplotlib.legend.Legend at 0x7f3d14ec0ac8>"
      ]
     },
     "execution_count": 40,
     "metadata": {},
     "output_type": "execute_result"
    },
    {
     "data": {
      "image/png": "[encoded data removed]",
      "text/plain": [
       "<Figure size 432x288 with 1 Axes>"
      ]
     },
     "metadata": {},
     "output_type": "display_data"
    }
   ],
   "source": [
    "plt.plot(hist.history[\"loss\"],label=\"train\")\n",
    "plt.plot(hist.history[\"val_loss\"])\n",
    "plt.legend()"
   ]
  },
  {
   "cell_type": "code",
   "execution_count": null,
   "metadata": {},
   "outputs": [],
   "source": []
  },
  {
   "cell_type": "code",
   "execution_count": 44,
   "metadata": {},
   "outputs": [
    {
     "name": "stdout",
     "output_type": "stream",
     "text": [
      "Trained model over hard-MV, Epochs to converge = 4\n"
     ]
    }
   ],
   "source": [
    "model_mvhard = clone_UB.get_model()\n",
    "model_mvhard.compile(loss='categorical_crossentropy',optimizer=OPT)\n",
    "hist=model_mvhard.fit(X_train, mv_onehot, epochs=EPOCHS_BASE,batch_size=BATCH_SIZE,verbose=0,callbacks=[ourCallback])\n",
    "print(\"Trained model over hard-MV, Epochs to converge =\",len(hist.epoch))\n",
    "Z_train_p = model_mvhard.predict(X_train)\n",
    "Z_train_pred = Z_train_p.argmax(axis=-1)\n",
    "Z_test_pred = model_mvhard.predict_classes(X_test)"
   ]
  },
  {
   "cell_type": "code",
   "execution_count": 46,
   "metadata": {},
   "outputs": [
    {
     "name": "stdout",
     "output_type": "stream",
     "text": [
      "Trained model over D&S, Epochs to converge = 4\n"
     ]
    }
   ],
   "source": [
    "model_ds = clone_UB.get_model()\n",
    "model_ds.compile(loss='categorical_crossentropy',optimizer=OPT)\n",
    "hist=model_ds.fit(X_train, ds_labels, epochs=EPOCHS_BASE,batch_size=BATCH_SIZE,verbose=0,callbacks=[ourCallback])\n",
    "print(\"Trained model over D&S, Epochs to converge =\",len(hist.epoch))\n",
    "Z_train_p = model_ds.predict(X_train)\n",
    "Z_train_pred = Z_train_p.argmax(axis=-1)\n",
    "Z_test_pred = model_ds.predict_classes(X_test)"
   ]
  },
  {
   "cell_type": "markdown",
   "metadata": {},
   "source": [
    "### Raykar Model (joint predict model)"
   ]
  },
  {
   "cell_type": "code",
   "execution_count": 23,
   "metadata": {},
   "outputs": [
    {
     "name": "stdout",
     "output_type": "stream",
     "text": [
      "shape: (4999, 203, 2)\n"
     ]
    }
   ],
   "source": [
    "from code.baseline import RaykarMC\n",
    "y_obs_categorical = set_representation(y_obs,'onehot') #for raykar\n",
    "print(\"shape:\",y_obs_categorical.shape)"
   ]
  },
  {
   "cell_type": "code",
   "execution_count": null,
   "metadata": {},
   "outputs": [],
   "source": [
    "raykarMC = RaykarMC(max_L, y_obs_categorical.shape[-1], T,epochs=1,optimizer=OPT,DTYPE_OP=DTYPE_OP)\n",
    "raykarMC.define_model(\"default rnn text\", embed=embedding_matrix)\n",
    "\n",
    "logL_hists,i_r = raykarMC.multiples_run(20,X_train,y_obs_categorical,batch_size=BATCH_SIZE,max_iter=EPOCHS_BASE,\n",
    "                                     tolerance=TOL)"
   ]
  },
  {
   "cell_type": "code",
   "execution_count": 25,
   "metadata": {},
   "outputs": [],
   "source": [
    "Z_train_p = raykarMC.get_predictions(X_train)\n",
    "Z_train_pred =Z_train_p.argmax(axis=-1)\n",
    "Z_test_p = raykarMC.get_predictions(X_test)\n",
    "Z_test_pred = Z_test_p.argmax(axis=-1)"
   ]
  },
  {
   "cell_type": "code",
   "execution_count": null,
   "metadata": {},
   "outputs": [],
   "source": [
    "plt.figure(figsize=(15,7))\n",
    "for a, value in enumerate(logL_hists): #logL_hists\n",
    "    if a != i_r:\n",
    "        plt.plot(range(len(value)),value,'.-')\n",
    "plt.plot(range(len(logL_hists[i_r])),logL_hists[i_r],'o-',markersize=10,label=\"Selected run\")\n",
    "plt.legend()\n",
    "plt.show()"
   ]
  },
  {
   "cell_type": "markdown",
   "metadata": {},
   "source": [
    "### Our Proposed"
   ]
  },
  {
   "cell_type": "code",
   "execution_count": 19,
   "metadata": {},
   "outputs": [],
   "source": [
    "from code.MixtureofGroups import GroupMixtureGlo, GroupMixtureInd"
   ]
  },
  {
   "cell_type": "code",
   "execution_count": 20,
   "metadata": {},
   "outputs": [
    {
     "name": "stdout",
     "output_type": "stream",
     "text": [
      "vector of repeats:\n",
      " [[0 3 0]\n",
      " [1 1 1]\n",
      " [0 2 1]\n",
      " ...\n",
      " [0 3 0]\n",
      " [3 0 0]\n",
      " [1 2 0]]\n",
      "shape: (14600, 3)\n"
     ]
    }
   ],
   "source": [
    "\"\"\" AÑADIR A ARCHIVO GROUPS...\"\"\"\n",
    "def define_uniform_groups(power, r, M):\n",
    "    R_total = r.sum()\n",
    "    uniform_groups = np.asarray([power*R_total/M for _ in range(M)])\n",
    "    return uniform_groups\n",
    "\n",
    "#get our representation \n",
    "r_obs = set_representation(y_obs,\"repeat\")\n",
    "#confe_matrix_G = get_Global_confusionM(Z_train,r_obs)\n",
    "\n",
    "print(\"vector of repeats:\\n\",r_obs)\n",
    "print(\"shape:\",r_obs.shape)"
   ]
  },
  {
   "cell_type": "markdown",
   "metadata": {},
   "source": [
    "There is low entropy (information), maybe there is only a few groups in this dataset, the possible of different behavior is low."
   ]
  },
  {
   "cell_type": "code",
   "execution_count": null,
   "metadata": {},
   "outputs": [],
   "source": [
    "gMixture_Global = GroupMixtureGlo(max_L,Kl=r_obs.shape[1],M=5,epochs=0,optimizer=OPT,dtype_op=DTYPE_OP) \n",
    "\n",
    "gMixture_Global.define_model(\"default rnn text\", embed=embedding_matrix)\n",
    "\n",
    "logL_hists,i_r = gMixture_Global.multiples_run(1,X_train,r_obs,batch_size=BATCH_SIZE,max_iter=0,tolerance=TOL)\n",
    "\n",
    "aux = gMixture_Global.alpha_init.sum(axis=1).sum(axis=0)\n",
    "plt.bar(np.arange(gMixture_Global.M),aux)\n",
    "plt.show()\n",
    "gMixture_Global.get_alpha()\n",
    "plt.bar(np.arange(gMixture_Global.M),gMixture_Global.get_alpha())"
   ]
  },
  {
   "cell_type": "code",
   "execution_count": null,
   "metadata": {},
   "outputs": [],
   "source": [
    "#select M based on JS on train and accuracy on val (as train has ground truth can evaluate JS)\n",
    "from code.evaluation import Evaluation_metrics\n",
    "logL_Mchange = []\n",
    "accTR_Mchange = []\n",
    "accTE_Mchange = []\n",
    "best_group_acc_Mchange = []\n",
    "probas_Mchange = []\n",
    "divergence1_Mchange = [] #JS Weighted\n",
    "divergence2_Mchange = [] #JS\n",
    "probGt_Mchange = []\n",
    "inertia_Mchange = [] \n",
    "\n",
    "uniform_groups = define_uniform_groups(0.1, r_obs, M_seted)\n",
    "uniform = True\n",
    "for M_seted in range(1,10+1):\n",
    "    for _ in range(10):\n",
    "        gMixture_Global = GroupMixtureGlo(max_L,Kl=r_obs.shape[1],M=M_seted,epochs=1,optimizer=OPT,dtype_op=DTYPE_OP) \n",
    "        gMixture_Global.define_model(\"default rnn text\", embed=embedding_matrix)\n",
    "        \n",
    "        if uniform:\n",
    "            #to uniform groups...\n",
    "            gMixture_Global.define_priors(\"laplace\")\n",
    "            gMixture_Global.define_priors(uniform_groups) \n",
    "        \n",
    "        logL_hists,i_r = gMixture_Global.multiples_run(20,Xstd_train,r_obs,batch_size=BATCH_SIZE,max_iter=EPOCHS_BASE,tolerance=TOL)\n",
    "        \n",
    "        print(\"Model with %d trained\"%(M_seted))\n",
    "        logL_Mchange.append(logL_hists[i_r])\n",
    "        probas_Mchange.append(gMixture_Global.get_alpha())\n",
    "\n",
    "        #measure metrics..\n",
    "        evaluate = Evaluation_metrics(gMixture_Global,'our1',plot=False) \n",
    "        aux = gMixture_Global.calculate_extra_components(Xstd_train,y_obs,T=T,calculate_pred_annotator=False)\n",
    "        predictions_m,prob_Gt,prob_Yzt,_ =  aux #to evaluate...\n",
    "        Z_train_pred = gMixture_Global.base_model.predict_classes(Xstd_train)\n",
    "        results1 = evaluate.calculate_metrics(Z=Z_train,Z_pred=Z_train_pred,conf_pred=prob_Yzt,conf_true=confe_matrix_R,y_o=y_obs)\n",
    "\n",
    "        accTR_Mchange.append(results1[0][\"Accuracy\"][0])\n",
    "        divergence1_Mchange.append(results1[0][\"Mean NormF\"][0])\n",
    "        divergence2_Mchange.append(results1[0][\"Mean JS\"][0])\n",
    "        probGt_Mchange.append(prob_Gt)\n",
    "\n",
    "        c_M = gMixture_Global.get_confusionM()\n",
    "        y_o_groups = gMixture_Global.get_predictions_groups(Xstd_val).argmax(axis=-1) #obtain p(y^o|x,g=m) and then argmax\n",
    "        Z_val_pred = gMixture_Global.base_model.predict_classes(Xstd_val)\n",
    "        results2 = evaluate.calculate_metrics(Z=Z_val,Z_pred=Z_val_pred,conf_pred=c_M, y_o_groups=y_o_groups)\n",
    "\n",
    "        best_group_acc_Mchange.append(np.max(results2[0][\"Accuracy\"]))\n",
    "        accTE_Mchange.append(results2[1][\"Accuracy\"][0])\n",
    "        inertia_Mchange.append(evaluate.inertia)\n",
    "        \n",
    "        del gMixture_Global,logL_hists,evaluate,predictions_m,prob_Gt,prob_Yzt,Z_train_pred,results1,results2,Z_val_pred\n",
    "        gc.collect()\n",
    "        keras.backend.clear_session()\n",
    "# cada 10 obtener promedio\n",
    "T_models = 9\n",
    "R = 10\n",
    "logL_Mchange = [np.mean( [value[-1] for value in logL_Mchange[i*R:(i+1)*R] ] ) for i in range(T_models)]\n",
    "accTR_Mchange = [np.mean(accTR_Mchange[i*R:(i+1)*R],axis=0) for i in range(T_models)]\n",
    "accTE_Mchange = [np.mean(accTE_Mchange[i*R:(i+1)*R],axis=0) for i in range(T_models)]\n",
    "best_group_acc_Mchange = [np.mean(best_group_acc_Mchange[i*R:(i+1)*R],axis=0) for i in range(T_models)]\n",
    "probas_Mchange = [np.mean(probas_Mchange[i*R:(i+1)*R],axis=0) for i in range(T_models)]\n",
    "divergence1_Mchange = [np.mean(divergence1_Mchange[i*R:(i+1)*R],axis=0) for i in range(T_models)] #KL or JS\n",
    "divergence2_Mchange = [np.mean(divergence2_Mchange[i*R:(i+1)*R],axis=0) for i in range(T_models)] #KL or JS\n",
    "probGt_Mchange = [np.mean(probGt_Mchange[i*R:(i+1)*R],axis=0) for i in range(T_models)]\n",
    "inertia_Mchange = [np.mean(inertia_Mchange[i*R:(i+1)*R],axis=0) for i in range(T_models)]"
   ]
  },
  {
   "cell_type": "code",
   "execution_count": null,
   "metadata": {},
   "outputs": [],
   "source": [
    "plot_Mchange(logL_Mchange,\n",
    "         accTR_Mchange,\n",
    "         accTE_Mchange,\n",
    "         best_group_acc_Mchange,\n",
    "         probas_Mchange,\n",
    "         divergence1_Mchange,\n",
    "             divergence2_Mchange,\n",
    "         probGt_Mchange,\n",
    "         inertia_Mchange\n",
    "            )"
   ]
  },
  {
   "cell_type": "code",
   "execution_count": null,
   "metadata": {},
   "outputs": [],
   "source": [
    "#T if i know T\n",
    "print(T)\n",
    "M_values = range(1,1+len(logL_Mchange))\n",
    "t = pd.DataFrame()\n",
    "t[\"#Groups\"] = M_values\n",
    "t[\">=1 annotator\"] = [ np.sum(probas*T >= 1) for probas in probas_Mchange]\n",
    "t[\">=2 annotator\"] = [ np.sum(probas*T >= 2) for probas in probas_Mchange] #si agrupa al menos tiene 2\n",
    "t[\"Used on annotators\"] = [ len(np.unique(prob_Gt.argmax(axis=1))) for prob_Gt in probGt_Mchange ]#based on p(g|t)\n",
    "t[\"Used on annotators limit >=0.01\"] = [ np.sum(prob_Gt.max(axis=0)>=0.01) for prob_Gt in probGt_Mchange ]#based on p(g|t)\n",
    "t[\"Used on annotators limit >=0.05\"] = [ np.sum(prob_Gt.max(axis=0)>=0.05) for prob_Gt in probGt_Mchange ]#based on p(g|t)\n",
    "t"
   ]
  },
  {
   "cell_type": "code",
   "execution_count": 24,
   "metadata": {},
   "outputs": [],
   "source": [
    "M_seted = 3 #??\n",
    "\n",
    "uniform = False\n",
    "if uniform:\n",
    "    uniform_groups = define_uniform_groups(0.1, r_obs, M_seted)\n",
    "    print(uniform_groups)"
   ]
  },
  {
   "cell_type": "code",
   "execution_count": null,
   "metadata": {},
   "outputs": [],
   "source": [
    "gMixture_Global = GroupMixtureGlo(max_L,Kl=r_obs.shape[1],M=M_seted,epochs=1,optimizer=OPT,dtype_op=DTYPE_OP) \n",
    "gMixture_Global.define_model(\"default rnn text\", embed=embedding_matrix)\n",
    "\n",
    "if uniform:\n",
    "    gMixture_Global.define_priors(\"laplace\")\n",
    "    gMixture_Global.define_priors(uniform_groups)\n",
    "\n",
    "logL_hists,i_r = gMixture_Global.multiples_run(20,X_train,r_obs,\n",
    "                                               batch_size=BATCH_SIZE,max_iter=EPOCHS_BASE,tolerance=TOL)"
   ]
  },
  {
   "cell_type": "code",
   "execution_count": 26,
   "metadata": {},
   "outputs": [],
   "source": [
    "Z_train_p = gMixture_Global.get_predictions(X_train)\n",
    "Z_train_pred = Z_train_p.argmax(axis=-1)\n",
    "Z_test_p = gMixture_Global.get_predictions(X_test)\n",
    "Z_test_pred = Z_test_p.argmax(axis=-1)"
   ]
  },
  {
   "cell_type": "code",
   "execution_count": null,
   "metadata": {},
   "outputs": [],
   "source": [
    "plt.figure(figsize=(15,7))\n",
    "for a, value in enumerate(logL_hists): #logL_hists\n",
    "    if a != i_r:\n",
    "        plt.plot(range(len(value)),value,'.-')\n",
    "plt.plot(range(len(logL_hists[i_r])),logL_hists[i_r],'o-',markersize=10,label=\"Selected run\")\n",
    "plt.legend()\n",
    "plt.show()"
   ]
  },
  {
   "cell_type": "code",
   "execution_count": null,
   "metadata": {},
   "outputs": [],
   "source": []
  },
  {
   "cell_type": "code",
   "execution_count": 21,
   "metadata": {},
   "outputs": [
    {
     "name": "stdout",
     "output_type": "stream",
     "text": [
      "shape of annotator representation (T, R_t)= (394, 394)\n"
     ]
    }
   ],
   "source": [
    "Y_ann_train, T_idx = set_representation(y_obs,\"onehotvar\")\n",
    "T_idx_unique = np.arange(T).reshape(-1,1)\n",
    "\n",
    "A = keras.utils.to_categorical(np.arange(T), num_classes=T) #fast way\n",
    "print(\"shape of annotator representation (T, R_t)=\", A.shape)"
   ]
  },
  {
   "cell_type": "code",
   "execution_count": 22,
   "metadata": {
    "scrolled": true
   },
   "outputs": [
    {
     "name": "stdout",
     "output_type": "stream",
     "text": [
      "shape of annotator representation (T, R_t)= (394, 3)\n"
     ]
    },
    {
     "data": {
      "image/png": "[encoded data removed]",
      "text/plain": [
       "<Figure size 432x288 with 1 Axes>"
      ]
     },
     "metadata": {},
     "output_type": "display_data"
    },
    {
     "data": {
      "image/png": "[encoded data removed]",
      "text/plain": [
       "<Figure size 432x288 with 1 Axes>"
      ]
     },
     "metadata": {},
     "output_type": "display_data"
    },
    {
     "data": {
      "text/plain": [
       "array([[127.,  24.,  38.],\n",
       "       [102.,  49.,  38.],\n",
       "       [135.,  98.,  26.],\n",
       "       ...,\n",
       "       [ 17.,   3.,   1.],\n",
       "       [  8.,   5.,   1.],\n",
       "       [  5.,   0.,   2.]])"
      ]
     },
     "execution_count": 22,
     "metadata": {},
     "output_type": "execute_result"
    }
   ],
   "source": [
    "from code.MixtureofGroups import *\n",
    "conf_mat, conf_mat_norm  = build_conf_Yvar(Y_ann_train, T_idx, r_obs.argmax(axis=-1))\n",
    "\n",
    "#A_rep = conf_mat_norm.reshape(conf_mat_norm.shape[0], Kl**2) #flatten\n",
    "A_rep = np.zeros((conf_mat.shape[0], Kl))\n",
    "for t in range(A_rep.shape[0]):\n",
    "    A_rep[t] = JS_confmatrixs(conf_mat_norm[t], np.identity(Kl),raw=True) #distancia a I (MV)\n",
    "    \n",
    "print(\"shape of annotator representation (T, R_t)=\", A_rep.shape)\n",
    "\n",
    "from sklearn.decomposition import PCA\n",
    "model = PCA(2)\n",
    "aux_pca = model.fit_transform(A_rep)\n",
    "plt.scatter(aux_pca[:,0],aux_pca[:,1])\n",
    "plt.show()\n",
    "\n",
    "\n",
    "A_rep = np.zeros((y_obs.shape[1], Kl))\n",
    "for i in range(N):\n",
    "    for l, t_idx in enumerate(T_idx[i]):\n",
    "        obs_t = Y_ann_train[i][l].argmax(axis=-1)\n",
    "        A_rep[t_idx, obs_t] += 1\n",
    "    \n",
    "from sklearn.decomposition import PCA\n",
    "model = PCA(2)\n",
    "aux_pca = model.fit_transform(A_rep)\n",
    "plt.scatter(aux_pca[:,0],aux_pca[:,1])\n",
    "plt.show()\n",
    "A_rep"
   ]
  },
  {
   "cell_type": "code",
   "execution_count": 23,
   "metadata": {},
   "outputs": [],
   "source": [
    "#different M_seted??\n",
    "M_seted = 3"
   ]
  },
  {
   "cell_type": "code",
   "execution_count": 31,
   "metadata": {
    "scrolled": true
   },
   "outputs": [
    {
     "name": "stdout",
     "output_type": "stream",
     "text": [
      "Initializing new EM...\n",
      "A = Son ortonormales / No fueron entregados!\n",
      "Doing clustering...Done!\n",
      "Get init alphas in 0.002479 mins\n",
      "Lambda by group:  [1. 1. 1.]\n",
      "Pre-train networks over *z* on 3 epochs... Done!\n",
      "MV init:  (14600, 3)\n",
      "Betas:  (3, 3, 3)\n",
      "Q estimate:  (43786, 3, 3)\n",
      "Iter 1/50\n",
      "M step: done,  E step: done //  (in 31.49 sec)\tlogL: -24985.357\t\n",
      "Iter 2/50\n",
      "M step: done,  E step: done //  (in 27.70 sec)\tlogL: -23007.584\tTol1: 0.07916\tTol2: 0.26617\t\n",
      "Iter 3/50\n",
      "M step: done,  E step: done //  (in 27.50 sec)\tlogL: -21947.745\tTol1: 0.04606\tTol2: 0.16960\t\n",
      "Iter 4/50\n",
      "M step: done,  E step: done //  (in 28.37 sec)\tlogL: -21259.809\tTol1: 0.03134\tTol2: 0.15773\t\n",
      "Iter 5/50\n",
      "M step: done,  E step: done //  (in 26.93 sec)\tlogL: -20761.514\tTol1: 0.02344\tTol2: 0.18205\t\n",
      "Iter 6/50\n",
      "M step: done,  E step: done //  (in 27.94 sec)\tlogL: -19810.373\tTol1: 0.04581\tTol2: 0.15533\t\n",
      "Iter 7/50\n",
      "M step: done,  E step: done //  (in 27.66 sec)\tlogL: -19578.498\tTol1: 0.01170\tTol2: 0.12172\t\n",
      "Iter 8/50\n",
      "M step: done,  E step: done //  (in 27.62 sec)\tlogL: -18464.508\tTol1: 0.05690\tTol2: 0.18334\t\n",
      "Iter 9/50\n",
      "M step: done,  E step: done //  (in 27.77 sec)\tlogL: -18012.758\tTol1: 0.02447\tTol2: 0.14495\t\n",
      "Iter 10/50\n",
      "M step: done,  E step: done //  (in 27.89 sec)\tlogL: -18166.810\tTol1: 0.00855\tTol2: 0.10300\t\n",
      "Iter 11/50\n",
      "M step: done,  E step: done //  (in 27.99 sec)\tlogL: -17291.498\tTol1: 0.04818\tTol2: 0.15758\t\n",
      "Iter 12/50\n",
      "M step: done,  E step: done //  (in 27.81 sec)\tlogL: -16472.449\tTol1: 0.04737\tTol2: 0.17441\t\n",
      "Iter 13/50\n",
      "M step: done,  E step: done //  (in 27.94 sec)\tlogL: -15573.287\tTol1: 0.05459\tTol2: 0.20549\t\n",
      "Iter 14/50\n",
      "M step: done,  E step: done //  (in 27.50 sec)\tlogL: -15304.117\tTol1: 0.01728\tTol2: 0.10536\t\n",
      "Iter 15/50\n",
      "M step: done,  E step: done //  (in 27.80 sec)\tlogL: -14784.946\tTol1: 0.03392\tTol2: 0.09440\t\n",
      "Iter 16/50\n",
      "M step: done,  E step: done //  (in 27.64 sec)\tlogL: -15319.626\tTol1: 0.03616\tTol2: 0.10563\t\n",
      "Iter 17/50\n",
      "M step: done,  E step: done //  (in 27.95 sec)\tlogL: -14308.863\tTol1: 0.06598\tTol2: 0.19745\t\n",
      "Iter 18/50\n",
      "M step: done,  E step: done //  (in 27.14 sec)\tlogL: -13663.536\tTol1: 0.04510\tTol2: 0.20671\t\n",
      "Iter 19/50\n",
      "M step: done,  E step: done //  (in 28.03 sec)\tlogL: -13389.967\tTol1: 0.02002\tTol2: 0.04860\t\n",
      "Iter 20/50\n",
      "M step: done,  E step: done //  (in 27.76 sec)\tlogL: -13223.823\tTol1: 0.01241\tTol2: 0.09915\t\n",
      "Iter 21/50\n",
      "M step: done,  E step: done //  (in 27.56 sec)\tlogL: -13083.972\tTol1: 0.01058\tTol2: 0.08921\t\n",
      "Iter 22/50\n",
      "M step: done,  E step: done //  (in 27.33 sec)\tlogL: -12872.710\tTol1: 0.01615\tTol2: 0.14063\t\n",
      "Iter 23/50\n",
      "M step: done,  E step: done //  (in 27.49 sec)\tlogL: -12504.239\tTol1: 0.02862\tTol2: 0.13572\t\n",
      "Iter 24/50\n",
      "M step: done,  E step: done //  (in 27.68 sec)\tlogL: -12337.576\tTol1: 0.01333\tTol2: 0.06780\t\n",
      "Iter 25/50\n",
      "M step: done,  E step: done //  (in 28.15 sec)\tlogL: -12102.223\tTol1: 0.01908\tTol2: 0.06574\t\n",
      "Iter 26/50\n",
      "M step: done,  E step: done //  (in 27.83 sec)\tlogL: -12022.266\tTol1: 0.00661\tTol2: 0.05276\t\n",
      "Iter 27/50\n",
      "M step: done,  E step: done //  (in 27.62 sec)\tlogL: -11938.586\tTol1: 0.00696\tTol2: 0.04002\t\n",
      "Iter 28/50\n",
      "M step: done,  E step: done //  (in 27.42 sec)\tlogL: -12021.766\tTol1: 0.00697\tTol2: 0.04880\t\n",
      "Iter 29/50\n",
      "M step: done,  E step: done //  (in 28.17 sec)\tlogL: -12174.503\tTol1: 0.01270\tTol2: 0.05439\t\n",
      "Iter 30/50\n",
      "M step: done,  E step: done //  (in 28.19 sec)\tlogL: -11665.362\tTol1: 0.04182\tTol2: 0.13689\t\n",
      "Iter 31/50\n",
      "M step: done,  E step: done //  (in 27.70 sec)\tlogL: -11477.615\tTol1: 0.01609\tTol2: 0.06647\t\n",
      "Iter 32/50\n",
      "M step: done,  E step: done //  (in 27.67 sec)\tlogL: -11329.876\tTol1: 0.01287\tTol2: 0.08452\t\n",
      "Iter 33/50\n",
      "M step: done,  E step: done //  (in 27.33 sec)\tlogL: -12223.918\tTol1: 0.07891\tTol2: 0.04151\t\n",
      "Iter 34/50\n",
      "M step: done,  E step: done //  (in 27.71 sec)\tlogL: -11306.310\tTol1: 0.07507\tTol2: 0.12765\t\n",
      "Iter 35/50\n",
      "M step: done,  E step: done //  (in 27.98 sec)\tlogL: -11148.667\tTol1: 0.01394\tTol2: 0.05724\t\n",
      "Iter 36/50\n",
      "M step: done,  E step: done //  (in 27.89 sec)\tlogL: -11043.813\tTol1: 0.00941\tTol2: 0.04856\t\n",
      "Iter 37/50\n",
      "M step: done,  E step: done //  (in 27.97 sec)\tlogL: -10929.722\tTol1: 0.01033\tTol2: 0.07252\t\n",
      "Iter 38/50\n",
      "M step: done,  E step: done //  (in 28.18 sec)\tlogL: -11077.764\tTol1: 0.01354\tTol2: 0.06166\t\n",
      "Iter 39/50\n",
      "M step: done,  E step: done //  (in 27.61 sec)\tlogL: -10805.358\tTol1: 0.02459\tTol2: 0.06239\t\n",
      "Iter 40/50\n",
      "M step: done,  E step: done //  (in 28.04 sec)\tlogL: -10859.579\tTol1: 0.00502\tTol2: 0.06152\t\n",
      "Iter 41/50\n",
      "M step: done,  E step: done //  (in 27.43 sec)\tlogL: -11130.547\tTol1: 0.02495\tTol2: 0.03312\t\n",
      "Iter 42/50\n",
      "M step: done,  E step: done //  (in 27.66 sec)\tlogL: -10910.627\tTol1: 0.01976\tTol2: 0.09028\t\n",
      "Iter 43/50\n",
      "M step: done,  E step: done //  (in 27.72 sec)\tlogL: -10651.384\tTol1: 0.02376\tTol2: 0.03949\t\n",
      "Iter 44/50\n",
      "M step: done,  E step: done //  (in 27.15 sec)\tlogL: -10795.362\tTol1: 0.01352\tTol2: 0.08206\t\n",
      "Iter 45/50\n",
      "M step: done,  E step: done //  (in 27.81 sec)\tlogL: -10503.611\tTol1: 0.02703\tTol2: 0.06282\t\n",
      "Iter 46/50\n",
      "M step: done,  E step: done //  (in 27.76 sec)\tlogL: -10680.034\tTol1: 0.01680\tTol2: 0.06804\t\n",
      "Iter 47/50\n",
      "M step: done,  E step: done //  (in 28.02 sec)\tlogL: -10483.728\tTol1: 0.01838\tTol2: 0.11256\t\n",
      "Iter 48/50\n",
      "M step: done,  E step: done //  (in 27.58 sec)\tlogL: -10466.683\tTol1: 0.00163\tTol2: 0.04653\t\n",
      "Iter 49/50\n",
      "M step: done,  E step: done //  (in 27.04 sec)\tlogL: -10300.774\tTol1: 0.01585\tTol2: 0.05849\t\n",
      "Iter 50/50\n",
      "M step: done,  E step: done //  (in 27.56 sec)\tlogL: -10229.078\tTol1: 0.00696\tTol2: 0.06396\t\n",
      "Finished training!\n"
     ]
    }
   ],
   "source": [
    "gMixture_Ind1 = GroupMixtureInd(max_L,Kl=Kl,M=M_seted,epochs=1,optimizer=OPT,dtype_op=DTYPE_OP) \n",
    "gMixture_Ind1.define_model(\"default rnn text\", embed=embedding_matrix)\n",
    "\n",
    "#gMixture_Ind.define_model_group(\"mlp\", T, M_seted, 1, BatchN=True, embed=True, embed_M=A) #con o sin BN\n",
    "gMixture_Ind1.define_model_group(\"perceptron\", T, embed=True, embed_M=A, BatchN=True,bias=False)\n",
    "\n",
    "logL_hists,i_r = gMixture_Ind1.multiples_run(1,X_train,Y_ann_train, T_idx, A=[], batch_size=BATCH_SIZE,\n",
    "                                    pre_init_z=3,pre_init_g=0,max_iter=EPOCHS_BASE,tolerance=TOL)"
   ]
  },
  {
   "cell_type": "code",
   "execution_count": 25,
   "metadata": {},
   "outputs": [],
   "source": [
    "Z_train_p = gMixture_Ind1.get_predictions_z(X_train)\n",
    "Z_train_pred = Z_train_p.argmax(axis=-1)\n",
    "Z_test_p = gMixture_Ind1.get_predictions_z(X_test)\n",
    "Z_test_pred = Z_test_p.argmax(axis=-1)\n",
    "prob_Gt = gMixture_Ind1.get_predictions_g(T_idx_unique) "
   ]
  },
  {
   "cell_type": "code",
   "execution_count": null,
   "metadata": {},
   "outputs": [],
   "source": [
    "gMixture_Ind3 = GroupMixtureInd(max_L,Kl=Kl,M=M_seted,epochs=1,optimizer=OPT,dtype_op=DTYPE_OP) \n",
    "gMixture_Ind3.define_model(\"default rnn text\", embed=embedding_matrix)\n",
    "\n",
    "gMixture_Ind3.define_model_group(\"mlp\", A_rep.shape[1], Kl*M_seted, 1, BatchN=False, embed=False) #con BN\n",
    "\n",
    "logL_hists,i_r = gMixture_Ind3.multiples_run(10,X_train,Y_ann_train, T_idx, A=A_rep, batch_size=BATCH_SIZE,\n",
    "                                   pre_init_z=3,pre_init_g=0,max_iter=EPOCHS_BASE,tolerance=TOL) "
   ]
  },
  {
   "cell_type": "code",
   "execution_count": null,
   "metadata": {},
   "outputs": [],
   "source": [
    "Z_train_p = gMixture_Ind3.get_predictions_z(X_train)\n",
    "Z_train_pred = Z_train_p.argmax(axis=-1)\n",
    "Z_test_p = gMixture_Ind3.get_predictions_z(X_test)\n",
    "Z_test_pred = Z_test_p.argmax(axis=-1)\n",
    "prob_Gt = gMixture_Ind3.get_predictions_g(A_rep) "
   ]
  },
  {
   "cell_type": "code",
   "execution_count": null,
   "metadata": {},
   "outputs": [],
   "source": [
    "plt.figure(figsize=(15,7))\n",
    "for a, value in enumerate(logL_hists): #logL_hists\n",
    "    if a != i_r:\n",
    "        plt.plot(range(len(value)),value,'.-')\n",
    "plt.plot(range(len(logL_hists[i_r])),logL_hists[i_r],'o-',markersize=10,label=\"Selected run\")\n",
    "plt.legend()\n",
    "plt.show()"
   ]
  },
  {
   "cell_type": "markdown",
   "metadata": {},
   "source": [
    "### Compare trained models"
   ]
  },
  {
   "cell_type": "code",
   "execution_count": 29,
   "metadata": {},
   "outputs": [],
   "source": [
    "#Import it:\n",
    "from code.evaluation import Evaluation_metrics"
   ]
  },
  {
   "cell_type": "code",
   "execution_count": null,
   "metadata": {},
   "outputs": [],
   "source": [
    "evaluate = Evaluation_metrics(model_UB,'keras',X_train.shape[0])\n",
    "print(\"*** Upper bound (Train with GT) ***\")\n",
    "\n",
    "print(\"Train\")\n",
    "results1 = evaluate.calculate_metrics(Z=Z_train,Z_pred=Z_train_pred)\n",
    "\n",
    "print(\"Test\")\n",
    "results2 = evaluate.calculate_metrics(Z=Z_test,Z_pred=Z_test_pred)"
   ]
  },
  {
   "cell_type": "code",
   "execution_count": 30,
   "metadata": {
    "scrolled": true
   },
   "outputs": [
    {
     "name": "stdout",
     "output_type": "stream",
     "text": [
      "*** Soft-Majority (Train with softMV) ***\n",
      "Train\n",
      "A result\n"
     ]
    },
    {
     "data": {
      "text/html": [
       "<div>\n",
       "<style scoped>\n",
       "    .dataframe tbody tr th:only-of-type {\n",
       "        vertical-align: middle;\n",
       "    }\n",
       "\n",
       "    .dataframe tbody tr th {\n",
       "        vertical-align: top;\n",
       "    }\n",
       "\n",
       "    .dataframe thead th {\n",
       "        text-align: right;\n",
       "    }\n",
       "</style>\n",
       "<table border=\"1\" class=\"dataframe\">\n",
       "  <thead>\n",
       "    <tr style=\"text-align: right;\">\n",
       "      <th></th>\n",
       "      <th>ACC imiting Annot mean</th>\n",
       "      <th>Cross-entropy mean</th>\n",
       "      <th>ACC imiting Annot wmean</th>\n",
       "      <th>Cross entropy wmean</th>\n",
       "    </tr>\n",
       "  </thead>\n",
       "  <tbody>\n",
       "    <tr>\n",
       "      <th>0</th>\n",
       "      <td>0.8577</td>\n",
       "      <td>0.4632</td>\n",
       "      <td>0.8238</td>\n",
       "      <td>0.5143</td>\n",
       "    </tr>\n",
       "  </tbody>\n",
       "</table>\n",
       "</div>"
      ],
      "text/plain": [
       "   ACC imiting Annot mean  Cross-entropy mean  ACC imiting Annot wmean  \\\n",
       "0                  0.8577              0.4632                   0.8238   \n",
       "\n",
       "   Cross entropy wmean  \n",
       "0               0.5143  "
      ]
     },
     "metadata": {},
     "output_type": "display_data"
    },
    {
     "name": "stdout",
     "output_type": "stream",
     "text": [
      "Test\n",
      "A result\n"
     ]
    },
    {
     "data": {
      "text/html": [
       "<div>\n",
       "<style scoped>\n",
       "    .dataframe tbody tr th:only-of-type {\n",
       "        vertical-align: middle;\n",
       "    }\n",
       "\n",
       "    .dataframe tbody tr th {\n",
       "        vertical-align: top;\n",
       "    }\n",
       "\n",
       "    .dataframe thead th {\n",
       "        text-align: right;\n",
       "    }\n",
       "</style>\n",
       "<table border=\"1\" class=\"dataframe\">\n",
       "  <thead>\n",
       "    <tr style=\"text-align: right;\">\n",
       "      <th></th>\n",
       "      <th></th>\n",
       "      <th>Accuracy</th>\n",
       "      <th>F1 (micro)</th>\n",
       "      <th>F1 (macro)</th>\n",
       "    </tr>\n",
       "  </thead>\n",
       "  <tbody>\n",
       "    <tr>\n",
       "      <th>0</th>\n",
       "      <td>All</td>\n",
       "      <td>0.5488</td>\n",
       "      <td>0.5488</td>\n",
       "      <td>0.5404</td>\n",
       "    </tr>\n",
       "  </tbody>\n",
       "</table>\n",
       "</div>"
      ],
      "text/plain": [
       "        Accuracy  F1 (micro)  F1 (macro)\n",
       "0  All    0.5488      0.5488      0.5404"
      ]
     },
     "metadata": {},
     "output_type": "display_data"
    }
   ],
   "source": [
    "evaluate = Evaluation_metrics(model_mvsoft,'keras',X_train.shape[0])\n",
    "evaluate.set_T_weights(T_weights)\n",
    "print(\"*** Soft-Majority (Train with softMV) ***\")\n",
    "\n",
    "print(\"Train\")\n",
    "#prob_Yzt = np.tile( mv_conf_probas, (T,1,1) )\n",
    "prob_Yx = np.tensordot(Z_train_p, mv_conf_probas,axes=[[1],[0]])\n",
    "prob_Yxt = np.tile(prob_Yx, (T,1,1)).transpose([1,0,2])\n",
    "\n",
    "#results1 = evaluate.calculate_metrics(conf_pred=prob_Yzt,yo_pred=prob_Yxt, conf_pred_G = mv_conf_probas)\n",
    "\n",
    "#immitate annotators\n",
    "results = evaluate.calculate_metrics(y_o=y_obs,yo_pred=prob_Yxt)\n",
    "\n",
    "print(\"Test\")\n",
    "results2 = evaluate.calculate_metrics(Z=Z_test,Z_pred=Z_test_pred)"
   ]
  },
  {
   "cell_type": "code",
   "execution_count": 45,
   "metadata": {},
   "outputs": [
    {
     "name": "stdout",
     "output_type": "stream",
     "text": [
      "*** Hard-Majority (Train with hardMV) ***\n",
      "Train\n",
      "A result\n"
     ]
    },
    {
     "data": {
      "text/html": [
       "<div>\n",
       "<style scoped>\n",
       "    .dataframe tbody tr th:only-of-type {\n",
       "        vertical-align: middle;\n",
       "    }\n",
       "\n",
       "    .dataframe tbody tr th {\n",
       "        vertical-align: top;\n",
       "    }\n",
       "\n",
       "    .dataframe thead th {\n",
       "        text-align: right;\n",
       "    }\n",
       "</style>\n",
       "<table border=\"1\" class=\"dataframe\">\n",
       "  <thead>\n",
       "    <tr style=\"text-align: right;\">\n",
       "      <th></th>\n",
       "      <th>ACC imiting Annot mean</th>\n",
       "      <th>Cross-entropy mean</th>\n",
       "      <th>ACC imiting Annot wmean</th>\n",
       "      <th>Cross entropy wmean</th>\n",
       "    </tr>\n",
       "  </thead>\n",
       "  <tbody>\n",
       "    <tr>\n",
       "      <th>0</th>\n",
       "      <td>0.7799</td>\n",
       "      <td>0.5652</td>\n",
       "      <td>0.7704</td>\n",
       "      <td>0.5839</td>\n",
       "    </tr>\n",
       "  </tbody>\n",
       "</table>\n",
       "</div>"
      ],
      "text/plain": [
       "   ACC imiting Annot mean  Cross-entropy mean  ACC imiting Annot wmean  \\\n",
       "0                  0.7799              0.5652                   0.7704   \n",
       "\n",
       "   Cross entropy wmean  \n",
       "0               0.5839  "
      ]
     },
     "metadata": {},
     "output_type": "display_data"
    },
    {
     "name": "stdout",
     "output_type": "stream",
     "text": [
      "Test\n",
      "A result\n"
     ]
    },
    {
     "data": {
      "text/html": [
       "<div>\n",
       "<style scoped>\n",
       "    .dataframe tbody tr th:only-of-type {\n",
       "        vertical-align: middle;\n",
       "    }\n",
       "\n",
       "    .dataframe tbody tr th {\n",
       "        vertical-align: top;\n",
       "    }\n",
       "\n",
       "    .dataframe thead th {\n",
       "        text-align: right;\n",
       "    }\n",
       "</style>\n",
       "<table border=\"1\" class=\"dataframe\">\n",
       "  <thead>\n",
       "    <tr style=\"text-align: right;\">\n",
       "      <th></th>\n",
       "      <th></th>\n",
       "      <th>Accuracy</th>\n",
       "      <th>F1 (micro)</th>\n",
       "      <th>F1 (macro)</th>\n",
       "    </tr>\n",
       "  </thead>\n",
       "  <tbody>\n",
       "    <tr>\n",
       "      <th>0</th>\n",
       "      <td>All</td>\n",
       "      <td>0.925</td>\n",
       "      <td>0.925</td>\n",
       "      <td>0.8638</td>\n",
       "    </tr>\n",
       "  </tbody>\n",
       "</table>\n",
       "</div>"
      ],
      "text/plain": [
       "        Accuracy  F1 (micro)  F1 (macro)\n",
       "0  All     0.925       0.925      0.8638"
      ]
     },
     "metadata": {},
     "output_type": "display_data"
    }
   ],
   "source": [
    "evaluate = Evaluation_metrics(model_mvhard,'keras',X_train.shape[0])\n",
    "evaluate.set_T_weights(T_weights)\n",
    "print(\"*** Hard-Majority (Train with hardMV) ***\")\n",
    "\n",
    "print(\"Train\")\n",
    "prob_Yx = np.tensordot(Z_train_p, mv_conf_probas,axes=[[1],[0]])\n",
    "prob_Yxt = np.tile(prob_Yx, (T,1,1)).transpose([1,0,2])\n",
    "\n",
    "#results1 = evaluate.calculate_metrics(conf_pred=prob_Yzt,yo_pred=prob_Yxt, conf_pred_G = mv_conf_probas)\n",
    "\n",
    "#immitate annotators\n",
    "results = evaluate.calculate_metrics(y_o=y_obs,yo_pred=prob_Yxt)\n",
    "\n",
    "print(\"Test\")\n",
    "results2 = evaluate.calculate_metrics(Z=Z_test,Z_pred=Z_test_pred)"
   ]
  },
  {
   "cell_type": "code",
   "execution_count": 47,
   "metadata": {},
   "outputs": [
    {
     "name": "stdout",
     "output_type": "stream",
     "text": [
      "*** Dawid and Skene model (Train with D&S) ***\n",
      "Train\n"
     ]
    },
    {
     "name": "stderr",
     "output_type": "stream",
     "text": [
      "/home/fmena/Desktop/Dataset_Tesis/MixtureofGroups/code/evaluation.py:192: RuntimeWarning: divide by zero encountered in log\n",
      "  cross_entropy_loss = -np.mean(np.sum(keras.utils.to_categorical(t_annotations,num_classes=prob_data.shape[-1])*np.log(prob_data),axis=-1))\n",
      "/home/fmena/Desktop/Dataset_Tesis/MixtureofGroups/code/evaluation.py:192: RuntimeWarning: invalid value encountered in multiply\n",
      "  cross_entropy_loss = -np.mean(np.sum(keras.utils.to_categorical(t_annotations,num_classes=prob_data.shape[-1])*np.log(prob_data),axis=-1))\n"
     ]
    },
    {
     "name": "stdout",
     "output_type": "stream",
     "text": [
      "A result\n"
     ]
    },
    {
     "data": {
      "text/html": [
       "<div>\n",
       "<style scoped>\n",
       "    .dataframe tbody tr th:only-of-type {\n",
       "        vertical-align: middle;\n",
       "    }\n",
       "\n",
       "    .dataframe tbody tr th {\n",
       "        vertical-align: top;\n",
       "    }\n",
       "\n",
       "    .dataframe thead th {\n",
       "        text-align: right;\n",
       "    }\n",
       "</style>\n",
       "<table border=\"1\" class=\"dataframe\">\n",
       "  <thead>\n",
       "    <tr style=\"text-align: right;\">\n",
       "      <th></th>\n",
       "      <th>ACC imiting Annot mean</th>\n",
       "      <th>Cross-entropy mean</th>\n",
       "      <th>ACC imiting Annot wmean</th>\n",
       "      <th>Cross entropy wmean</th>\n",
       "    </tr>\n",
       "  </thead>\n",
       "  <tbody>\n",
       "    <tr>\n",
       "      <th>0</th>\n",
       "      <td>0.808</td>\n",
       "      <td>NaN</td>\n",
       "      <td>0.7967</td>\n",
       "      <td>NaN</td>\n",
       "    </tr>\n",
       "  </tbody>\n",
       "</table>\n",
       "</div>"
      ],
      "text/plain": [
       "   ACC imiting Annot mean  Cross-entropy mean  ACC imiting Annot wmean  \\\n",
       "0                   0.808                 NaN                   0.7967   \n",
       "\n",
       "   Cross entropy wmean  \n",
       "0                  NaN  "
      ]
     },
     "metadata": {},
     "output_type": "display_data"
    },
    {
     "name": "stdout",
     "output_type": "stream",
     "text": [
      "Test\n",
      "A result\n"
     ]
    },
    {
     "data": {
      "text/html": [
       "<div>\n",
       "<style scoped>\n",
       "    .dataframe tbody tr th:only-of-type {\n",
       "        vertical-align: middle;\n",
       "    }\n",
       "\n",
       "    .dataframe tbody tr th {\n",
       "        vertical-align: top;\n",
       "    }\n",
       "\n",
       "    .dataframe thead th {\n",
       "        text-align: right;\n",
       "    }\n",
       "</style>\n",
       "<table border=\"1\" class=\"dataframe\">\n",
       "  <thead>\n",
       "    <tr style=\"text-align: right;\">\n",
       "      <th></th>\n",
       "      <th></th>\n",
       "      <th>Accuracy</th>\n",
       "      <th>F1 (micro)</th>\n",
       "      <th>F1 (macro)</th>\n",
       "    </tr>\n",
       "  </thead>\n",
       "  <tbody>\n",
       "    <tr>\n",
       "      <th>0</th>\n",
       "      <td>All</td>\n",
       "      <td>0.95</td>\n",
       "      <td>0.95</td>\n",
       "      <td>0.9059</td>\n",
       "    </tr>\n",
       "  </tbody>\n",
       "</table>\n",
       "</div>"
      ],
      "text/plain": [
       "        Accuracy  F1 (micro)  F1 (macro)\n",
       "0  All      0.95        0.95      0.9059"
      ]
     },
     "metadata": {},
     "output_type": "display_data"
    }
   ],
   "source": [
    "evaluate = Evaluation_metrics(model_ds,'keras',X_train.shape[0])\n",
    "evaluate.set_T_weights(T_weights)\n",
    "print(\"*** Dawid and Skene model (Train with D&S) ***\")\n",
    "\n",
    "print(\"Train\")\n",
    "#results1 = evaluate.calculate_metrics(Z=Z_train,Z_pred=Z_train_pred,conf_pred=ds_conf,conf_true=confe_matrix_R,\n",
    "#                                     conf_true_G =confe_matrix_G, conf_pred_G = ds_conf.mean(axis=0))\n",
    "prob_Yxt = np.tensordot(Z_train_p, ds_conf,axes=[[1],[1]])\n",
    "results = evaluate.calculate_metrics(y_o=y_obs,yo_pred=prob_Yxt)\n",
    "\n",
    "\n",
    "print(\"Test\")\n",
    "results2 = evaluate.calculate_metrics(Z=Z_test,Z_pred=Z_test_pred)"
   ]
  },
  {
   "cell_type": "code",
   "execution_count": null,
   "metadata": {},
   "outputs": [],
   "source": [
    "evaluate = Evaluation_metrics(raykarMC,'raykar')\n",
    "print(\"*** Raykar model multiples runs***\")\n",
    "\n",
    "print(\"Train\")\n",
    "prob_Yzt = raykarMC.get_confusionM()\n",
    "prob_Yxt = raykarMC.get_predictions_annot(X_train,data=Z_train_p)\n",
    "results = evaluate.calculate_metrics(Z=Z_train,Z_pred=Z_train_pred,conf_pred=prob_Yzt,conf_true=confe_matrix_R,\n",
    "                                     y_o=y_obs,yo_pred=prob_Yxt,conf_true_G =confe_matrix_G, conf_pred_G = prob_Yzt.mean(axis=0))\n",
    "\n",
    "results = evaluate.calculate_metrics(y_o=y_obs,yo_pred=prob_Yxt)\n",
    "\n",
    "print(\"Test\")\n",
    "results2 = evaluate.calculate_metrics(Z=Z_test,Z_pred=Z_test_pred)"
   ]
  },
  {
   "cell_type": "code",
   "execution_count": null,
   "metadata": {},
   "outputs": [],
   "source": [
    "evaluate = Evaluation_metrics(gMixture_Global,'our1') \n",
    "aux = gMixture_Global.calculate_extra_components(X_train,y_obs,T=T,calculate_pred_annotator=True,p_z=Z_train_p)\n",
    "predictions_m,prob_Gt,prob_Yzt,prob_Yxt =  aux #to evaluate...\n",
    "prob_Yz = gMixture_Global.calculate_Yz()\n",
    "evaluate.set_Gt(prob_Gt)\n",
    "print(\"*** Ours Global multiples runs***\") #lambda = random\n",
    "\n",
    "print(\"Train\")\n",
    "y_o_groups = predictions_m.argmax(axis=-1)\n",
    "results = evaluate.calculate_metrics(Z=Z_train,Z_pred=Z_train_pred,conf_pred=prob_Yzt,conf_true=confe_matrix_R,\n",
    "                                     y_o=y_obs,yo_pred=prob_Yxt, y_o_groups=y_o_groups,\n",
    "                                    conf_true_G =confe_matrix_G, conf_pred_G = prob_Yz)\n",
    "\n",
    "results = evaluate.calculate_metrics(y_o=y_obs,yo_pred=prob_Yxt)\n",
    "\n",
    "print(\"Test\")\n",
    "c_M = gMixture_Global.get_confusionM()\n",
    "y_o_groups = gMixture_Global.get_predictions_groups(X_test,data=Z_test_p).argmax(axis=-1) #obtain p(y^o|x,g=m) and then argmax\n",
    "results = evaluate.calculate_metrics(Z=Z_test,Z_pred=Z_test_pred,conf_pred=c_M, y_o_groups=y_o_groups)"
   ]
  },
  {
   "cell_type": "code",
   "execution_count": null,
   "metadata": {},
   "outputs": [],
   "source": [
    "evaluate = Evaluation_metrics(gMixture_Global,'our1') \n",
    "aux = gMixture_Global.calculate_extra_components(X_train,y_obs,T=T,calculate_pred_annotator=True,p_z=Z_train_p)\n",
    "predictions_m,prob_Gt,prob_Yzt,prob_Yxt =  aux #to evaluate...\n",
    "evaluate.set_Gt(prob_Gt)\n",
    "print(\"*** Ours Global multiples runs (Uniform priors) ***\") #groups uniform...\n",
    "\n",
    "print(\"Train\")\n",
    "y_o_groups = predictions_m.argmax(axis=-1)\n",
    "results = evaluate.calculate_metrics(Z=Z_train,Z_pred=Z_train_pred,conf_pred=prob_Yzt,conf_true=confe_matrix_R,y_o=y_obs,yo_pred=prob_Yxt, y_o_groups=y_o_groups)\n",
    "\n",
    "results = evaluate.calculate_metrics(y_o=y_obs,yo_pred=prob_Yxt)\n",
    "\n",
    "print(\"Test\")\n",
    "c_M = gMixture_Global.get_confusionM()\n",
    "y_o_groups = gMixture_Global.get_predictions_groups(X_test,data=Z_test_p).argmax(axis=-1) #obtain p(y^o|x,g=m) and then argmax\n",
    "results = evaluate.calculate_metrics(Z=Z_test,Z_pred=Z_test_pred,conf_pred=c_M, y_o_groups=y_o_groups)"
   ]
  },
  {
   "cell_type": "code",
   "execution_count": null,
   "metadata": {},
   "outputs": [],
   "source": []
  },
  {
   "cell_type": "code",
   "execution_count": 32,
   "metadata": {
    "scrolled": true
   },
   "outputs": [
    {
     "name": "stdout",
     "output_type": "stream",
     "text": [
      "*** Ours Individual-T multiples runs***\n",
      "Train\n",
      "A result\n"
     ]
    },
    {
     "data": {
      "text/html": [
       "<div>\n",
       "<style scoped>\n",
       "    .dataframe tbody tr th:only-of-type {\n",
       "        vertical-align: middle;\n",
       "    }\n",
       "\n",
       "    .dataframe tbody tr th {\n",
       "        vertical-align: top;\n",
       "    }\n",
       "\n",
       "    .dataframe thead th {\n",
       "        text-align: right;\n",
       "    }\n",
       "</style>\n",
       "<table border=\"1\" class=\"dataframe\">\n",
       "  <thead>\n",
       "    <tr style=\"text-align: right;\">\n",
       "      <th></th>\n",
       "      <th>ACC imiting Annot mean</th>\n",
       "      <th>Cross-entropy mean</th>\n",
       "      <th>ACC imiting Annot wmean</th>\n",
       "      <th>Cross entropy wmean</th>\n",
       "    </tr>\n",
       "  </thead>\n",
       "  <tbody>\n",
       "    <tr>\n",
       "      <th>0</th>\n",
       "      <td>0.8865</td>\n",
       "      <td>0.2867</td>\n",
       "      <td>0.8856</td>\n",
       "      <td>0.2922</td>\n",
       "    </tr>\n",
       "  </tbody>\n",
       "</table>\n",
       "</div>"
      ],
      "text/plain": [
       "   ACC imiting Annot mean  Cross-entropy mean  ACC imiting Annot wmean  \\\n",
       "0                  0.8865              0.2867                   0.8856   \n",
       "\n",
       "   Cross entropy wmean  \n",
       "0               0.2922  "
      ]
     },
     "metadata": {},
     "output_type": "display_data"
    },
    {
     "name": "stdout",
     "output_type": "stream",
     "text": [
      "Test\n"
     ]
    },
    {
     "data": {
      "image/png": "[encoded data removed]",
      "text/plain": [
       "<Figure size 432x288 with 1 Axes>"
      ]
     },
     "metadata": {},
     "output_type": "display_data"
    },
    {
     "data": {
      "image/png": "[encoded data removed]",
      "text/plain": [
       "<Figure size 432x288 with 1 Axes>"
      ]
     },
     "metadata": {},
     "output_type": "display_data"
    },
    {
     "data": {
      "image/png": "[encoded data removed]",
      "text/plain": [
       "<Figure size 432x288 with 1 Axes>"
      ]
     },
     "metadata": {},
     "output_type": "display_data"
    },
    {
     "name": "stdout",
     "output_type": "stream",
     "text": [
      "Inertia JS: 0.06117321321558042\n",
      "Inertia NormF: 0.12512152805983434\n",
      "A result\n"
     ]
    },
    {
     "data": {
      "text/html": [
       "<div>\n",
       "<style scoped>\n",
       "    .dataframe tbody tr th:only-of-type {\n",
       "        vertical-align: middle;\n",
       "    }\n",
       "\n",
       "    .dataframe tbody tr th {\n",
       "        vertical-align: top;\n",
       "    }\n",
       "\n",
       "    .dataframe thead th {\n",
       "        text-align: right;\n",
       "    }\n",
       "</style>\n",
       "<table border=\"1\" class=\"dataframe\">\n",
       "  <thead>\n",
       "    <tr style=\"text-align: right;\">\n",
       "      <th></th>\n",
       "      <th>Groups</th>\n",
       "      <th>Prob</th>\n",
       "      <th>T(g)</th>\n",
       "      <th>Entropy</th>\n",
       "      <th>Diag mean</th>\n",
       "      <th>Isim (JS)</th>\n",
       "      <th>S_raykar</th>\n",
       "      <th>S_bias</th>\n",
       "      <th>C_bias</th>\n",
       "      <th>Iner JS</th>\n",
       "      <th>Iner NormF</th>\n",
       "      <th>Accuracy</th>\n",
       "      <th>F1 (micro)</th>\n",
       "    </tr>\n",
       "  </thead>\n",
       "  <tbody>\n",
       "    <tr>\n",
       "      <th>0</th>\n",
       "      <td>0</td>\n",
       "      <td>0.2950</td>\n",
       "      <td>116</td>\n",
       "      <td>0.0505</td>\n",
       "      <td>0.9911</td>\n",
       "      <td>0.9956</td>\n",
       "      <td>0.9867</td>\n",
       "      <td>0.0101</td>\n",
       "      <td>1</td>\n",
       "      <td>0.0612</td>\n",
       "      <td>0.1251</td>\n",
       "      <td>0.975</td>\n",
       "      <td>0.975</td>\n",
       "    </tr>\n",
       "    <tr>\n",
       "      <th>1</th>\n",
       "      <td>1</td>\n",
       "      <td>0.3634</td>\n",
       "      <td>143</td>\n",
       "      <td>0.0086</td>\n",
       "      <td>0.9989</td>\n",
       "      <td>0.9995</td>\n",
       "      <td>0.9984</td>\n",
       "      <td>0.0005</td>\n",
       "      <td>0</td>\n",
       "      <td>0.0612</td>\n",
       "      <td>0.1251</td>\n",
       "      <td>0.975</td>\n",
       "      <td>0.975</td>\n",
       "    </tr>\n",
       "    <tr>\n",
       "      <th>2</th>\n",
       "      <td>2</td>\n",
       "      <td>0.3415</td>\n",
       "      <td>134</td>\n",
       "      <td>0.3399</td>\n",
       "      <td>0.8497</td>\n",
       "      <td>0.9093</td>\n",
       "      <td>0.7745</td>\n",
       "      <td>0.0424</td>\n",
       "      <td>0</td>\n",
       "      <td>0.0612</td>\n",
       "      <td>0.1251</td>\n",
       "      <td>1.000</td>\n",
       "      <td>1.000</td>\n",
       "    </tr>\n",
       "  </tbody>\n",
       "</table>\n",
       "</div>"
      ],
      "text/plain": [
       "   Groups    Prob  T(g)  Entropy  Diag mean  Isim (JS)  S_raykar  S_bias  \\\n",
       "0       0  0.2950   116   0.0505     0.9911     0.9956    0.9867  0.0101   \n",
       "1       1  0.3634   143   0.0086     0.9989     0.9995    0.9984  0.0005   \n",
       "2       2  0.3415   134   0.3399     0.8497     0.9093    0.7745  0.0424   \n",
       "\n",
       "   C_bias  Iner JS  Iner NormF  Accuracy  F1 (micro)  \n",
       "0       1   0.0612      0.1251     0.975       0.975  \n",
       "1       0   0.0612      0.1251     0.975       0.975  \n",
       "2       0   0.0612      0.1251     1.000       1.000  "
      ]
     },
     "metadata": {},
     "output_type": "display_data"
    },
    {
     "name": "stdout",
     "output_type": "stream",
     "text": [
      "A result\n"
     ]
    },
    {
     "data": {
      "text/html": [
       "<div>\n",
       "<style scoped>\n",
       "    .dataframe tbody tr th:only-of-type {\n",
       "        vertical-align: middle;\n",
       "    }\n",
       "\n",
       "    .dataframe tbody tr th {\n",
       "        vertical-align: top;\n",
       "    }\n",
       "\n",
       "    .dataframe thead th {\n",
       "        text-align: right;\n",
       "    }\n",
       "</style>\n",
       "<table border=\"1\" class=\"dataframe\">\n",
       "  <thead>\n",
       "    <tr style=\"text-align: right;\">\n",
       "      <th></th>\n",
       "      <th></th>\n",
       "      <th>Accuracy</th>\n",
       "      <th>F1 (micro)</th>\n",
       "      <th>F1 (macro)</th>\n",
       "    </tr>\n",
       "  </thead>\n",
       "  <tbody>\n",
       "    <tr>\n",
       "      <th>0</th>\n",
       "      <td>All</td>\n",
       "      <td>0.975</td>\n",
       "      <td>0.975</td>\n",
       "      <td>0.9471</td>\n",
       "    </tr>\n",
       "  </tbody>\n",
       "</table>\n",
       "</div>"
      ],
      "text/plain": [
       "        Accuracy  F1 (micro)  F1 (macro)\n",
       "0  All     0.975       0.975      0.9471"
      ]
     },
     "metadata": {},
     "output_type": "display_data"
    }
   ],
   "source": [
    "evaluate = Evaluation_metrics(gMixture_Ind1,'our1') \n",
    "aux = gMixture_Ind1.calculate_extra_components(X_train, A,calculate_pred_annotator=True,p_z=Z_train_p,p_g=prob_Gt)\n",
    "predictions_m,prob_Gt,prob_Yzt,prob_Yxt =  aux #to evaluate...\n",
    "prob_Yz = gMixture_Ind1.calculate_Yz(prob_Gt)\n",
    "evaluate.set_Gt(prob_Gt)\n",
    "print(\"*** Ours Individual-T multiples runs***\")\n",
    "\n",
    "print(\"Train\")\n",
    "results = evaluate.calculate_metrics(y_o=y_obs,yo_pred=prob_Yxt)\n",
    "\n",
    "print(\"Test\")\n",
    "c_M = gMixture_Ind1.get_confusionM()\n",
    "y_o_groups = gMixture_Ind1.get_predictions_groups(X_test,data=Z_test_p).argmax(axis=-1) #obtain p(y^o|x,g=m) and then argmax\n",
    "results = evaluate.calculate_metrics(Z=Z_test,Z_pred=Z_test_pred,conf_pred=c_M, y_o_groups=y_o_groups)"
   ]
  },
  {
   "cell_type": "code",
   "execution_count": null,
   "metadata": {},
   "outputs": [],
   "source": [
    "evaluate = Evaluation_metrics(gMixture_Ind3,'our1') \n",
    "aux = gMixture_Ind3.calculate_extra_components(X_train, A,calculate_pred_annotator=True,p_z=Z_train_p,p_g=prob_Gt)\n",
    "predictions_m,prob_Gt,prob_Yzt,prob_Yxt =  aux #to evaluate...\n",
    "prob_Yz = gMixture_Ind3.calculate_Yz(prob_Gt)\n",
    "evaluate.set_Gt(prob_Gt)\n",
    "print(\"*** Ours Individual-K multiples runs***\")\n",
    "\n",
    "print(\"Train\")\n",
    "y_o_groups = predictions_m.argmax(axis=-1)\n",
    "results = evaluate.calculate_metrics(Z=Z_train,Z_pred=Z_train_pred,conf_pred=prob_Yzt,conf_true=confe_matrix_R,\n",
    "                                     y_o=y_obs,yo_pred=prob_Yxt, y_o_groups=y_o_groups,\n",
    "                                    conf_true_G =confe_matrix_G, conf_pred_G = prob_Yz)\n",
    "results = evaluate.calculate_metrics(y_o=y_obs,yo_pred=prob_Yxt)\n",
    "\n",
    "print(\"Test\")\n",
    "c_M = gMixture_Ind3.get_confusionM()\n",
    "y_o_groups = gMixture_Ind3.get_predictions_groups(X_test,data=Z_test_p).argmax(axis=-1) #obtain p(y^o|x,g=m) and then argmax\n",
    "results = evaluate.calculate_metrics(Z=Z_test,Z_pred=Z_test_pred,conf_pred=c_M, y_o_groups=y_o_groups)"
   ]
  },
  {
   "cell_type": "code",
   "execution_count": null,
   "metadata": {},
   "outputs": [],
   "source": []
  },
  {
   "cell_type": "markdown",
   "metadata": {
    "collapsed": true
   },
   "source": [
    "### project confusion matrices"
   ]
  },
  {
   "cell_type": "code",
   "execution_count": 42,
   "metadata": {},
   "outputs": [],
   "source": [
    "def flatten_conf(m):\n",
    "    return m.reshape(m.shape[0], np.prod(m.shape[1:]))\n",
    "\n",
    "to_plot = flatten_conf(confe_matrix_R)\n",
    "\n",
    "centroids_plot_G = flatten_conf(gMixture_Global.get_confusionM())\n",
    "centroids_plot_I2 = flatten_conf(gMixture_Ind2.get_confusionM())\n",
    "centroids_plot_I3 = flatten_conf(gMixture_Ind3.get_confusionM())\n",
    "\n",
    "from sklearn.decomposition import PCA\n",
    "model = PCA(2)\n",
    "\n",
    "to_plot = model.fit_transform(to_plot)\n",
    "centroids_plot_G = model.transform(centroids_plot_G)\n",
    "centroids_plot_I2 = model.transform(centroids_plot_I2)\n",
    "centroids_plot_I3 = model.transform(centroids_plot_I3)"
   ]
  },
  {
   "cell_type": "code",
   "execution_count": null,
   "metadata": {},
   "outputs": [],
   "source": [
    "plt.figure(figsize=(10,7))\n",
    "plt.scatter(to_plot[:,0], to_plot[:,1], label=\"Annotators\")\n",
    "plt.scatter(centroids_plot_G[:,0], centroids_plot_G[:,1], s=150,marker=\"*\", color='g',label=\"Centroids Global\")\n",
    "plt.scatter(centroids_plot_I2[:,0], centroids_plot_I2[:,1],s=150, marker=\"X\", color='magenta',label=\"Centroids Individual 2\")\n",
    "plt.scatter(centroids_plot_I3[:,0], centroids_plot_I3[:,1], s=150, marker=\"X\", color='hotpink',label=\"Centroids Individual 3\")\n",
    "\n",
    "plt.legend()\n",
    "plt.show()"
   ]
  },
  {
   "cell_type": "code",
   "execution_count": null,
   "metadata": {},
   "outputs": [],
   "source": [
    "##plotear probabilidades de matriz  de conf.."
   ]
  },
  {
   "cell_type": "code",
   "execution_count": null,
   "metadata": {},
   "outputs": [],
   "source": []
  }
 ],
 "metadata": {
  "kernelspec": {
   "display_name": "Python [conda env:py3]",
   "language": "python",
   "name": "conda-env-py3-py"
  },
  "language_info": {
   "codemirror_mode": {
    "name": "ipython",
    "version": 3
   },
   "file_extension": ".py",
   "mimetype": "text/x-python",
   "name": "python",
   "nbconvert_exporter": "python",
   "pygments_lexer": "ipython3",
   "version": "3.5.5"
  }
 },
 "nbformat": 4,
 "nbformat_minor": 2
}
