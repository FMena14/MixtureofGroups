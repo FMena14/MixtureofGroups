{
 "cells": [
  {
   "cell_type": "code",
   "execution_count": 1,
   "metadata": {},
   "outputs": [
    {
     "name": "stderr",
     "output_type": "stream",
     "text": [
      "Using TensorFlow backend.\n"
     ]
    }
   ],
   "source": [
    "import numpy as np\n",
    "import pandas as pd\n",
    "import matplotlib.pyplot as plt\n",
    "import seaborn as sns\n",
    "import keras, time, sys, os, gc\n",
    "\n",
    "DTYPE_OP = 'float32'\n",
    "keras.backend.set_floatx(DTYPE_OP)\n",
    "\n",
    "if DTYPE_OP == 'float64':\n",
    "    keras.backend.set_epsilon(np.finfo(np.float64).eps)\n",
    "elif DTYPE_OP == 'float32':\n",
    "    keras.backend.set_epsilon(np.finfo(np.float32).eps)"
   ]
  },
  {
   "cell_type": "code",
   "execution_count": 2,
   "metadata": {},
   "outputs": [],
   "source": [
    "#GLOBAL Variables\n",
    "BATCH_SIZE = 128 #rodrigues = BATCH_SIZE = 64\n",
    "EPOCHS_BASE = 50\n",
    "OPT = 'adam' #optimizer for neural network \n",
    "TOL = 3e-2"
   ]
  },
  {
   "cell_type": "code",
   "execution_count": 3,
   "metadata": {},
   "outputs": [],
   "source": [
    "label_names = ...\n",
    "folder = \"./Fashion10000/\""
   ]
  },
  {
   "cell_type": "markdown",
   "metadata": {},
   "source": [
    "### Load Data and preprocess"
   ]
  },
  {
   "cell_type": "code",
   "execution_count": 4,
   "metadata": {},
   "outputs": [
    {
     "data": {
      "text/plain": [
       "(31077, 512)"
      ]
     },
     "execution_count": 4,
     "metadata": {},
     "output_type": "execute_result"
    }
   ],
   "source": [
    "X_vgg16 = np.load(folder+\"Fashion10000_VGG_avg_all.npy\")\n",
    "X_vgg16.shape"
   ]
  },
  {
   "cell_type": "code",
   "execution_count": 5,
   "metadata": {},
   "outputs": [],
   "source": [
    "Q_s = \"Q4\" #question selected\n",
    "p_error = \"0.5\""
   ]
  },
  {
   "cell_type": "code",
   "execution_count": 6,
   "metadata": {},
   "outputs": [],
   "source": [
    "#Q3: cerca de 82-84.. valores varian 2% "
   ]
  },
  {
   "cell_type": "code",
   "execution_count": 7,
   "metadata": {},
   "outputs": [
    {
     "name": "stdout",
     "output_type": "stream",
     "text": [
      "Input train shape: (25857, 512)\n",
      "Label train shape: (25857,)\n",
      "Input test shape: (1248, 512)\n",
      "Label test shape: (1248,)\n"
     ]
    }
   ],
   "source": [
    "sets = np.loadtxt(folder+\"sets_\"+p_error+\"_\"+Q_s+\".txt\", dtype='U')\n",
    "mask_train = sets == \"train\"\n",
    "mask_test = sets == \"test\"\n",
    "\n",
    "Z_data = np.loadtxt(folder+\"Z_data_\"+Q_s+\".txt\",dtype='int')\n",
    "Z_train = Z_data[mask_train]\n",
    "Z_test = Z_data[mask_test]\n",
    "\n",
    "X_train_vgg16 = X_vgg16[mask_train]\n",
    "X_test_vgg16 = X_vgg16[mask_test]\n",
    "\n",
    "print(\"Input train shape:\",X_train_vgg16.shape)\n",
    "print(\"Label train shape:\",Z_train.shape)\n",
    "\n",
    "print(\"Input test shape:\",X_test_vgg16.shape)\n",
    "print(\"Label test shape:\",Z_test.shape)"
   ]
  },
  {
   "cell_type": "code",
   "execution_count": 8,
   "metadata": {},
   "outputs": [],
   "source": [
    "#created before..\n",
    "mask_val = np.random.rand(Z_train.shape[0]) < 0.33"
   ]
  },
  {
   "cell_type": "code",
   "execution_count": 9,
   "metadata": {},
   "outputs": [
    {
     "name": "stdout",
     "output_type": "stream",
     "text": [
      "Input train shape: (17363, 512)\n",
      "Label train shape: (17363,)\n",
      "Input val shape: (8494, 512)\n",
      "Label val shape: (8494,)\n"
     ]
    }
   ],
   "source": [
    "X_val_vgg16 = X_train_vgg16[mask_val]\n",
    "X_train_vgg16 = X_train_vgg16[~mask_val]\n",
    "Z_val = Z_train[mask_val]\n",
    "Z_train = Z_train[~mask_val]\n",
    "\n",
    "#X_train_vgg16, X_val_vgg16, Z_train, Z_val = train_test_split(X_train_vgg16, Z_train, test_size=0.33)\n",
    "print(\"Input train shape:\",X_train_vgg16.shape)\n",
    "print(\"Label train shape:\",Z_train.shape)\n",
    "\n",
    "print(\"Input val shape:\",X_val_vgg16.shape)\n",
    "print(\"Label val shape:\",Z_val.shape)"
   ]
  },
  {
   "cell_type": "code",
   "execution_count": 10,
   "metadata": {},
   "outputs": [],
   "source": [
    "Xstd_train = X_train_vgg16\n",
    "Xstd_val = X_val_vgg16\n",
    "Xstd_test = X_test_vgg16"
   ]
  },
  {
   "cell_type": "code",
   "execution_count": 11,
   "metadata": {
    "scrolled": true
   },
   "outputs": [
    {
     "data": {
      "image/png": "[encoded data removed]",
      "text/plain": [
       "<Figure size 432x288 with 1 Axes>"
      ]
     },
     "metadata": {
      "needs_background": "light"
     },
     "output_type": "display_data"
    },
    {
     "data": {
      "image/png": "[encoded data removed]",
      "text/plain": [
       "<Figure size 432x288 with 1 Axes>"
      ]
     },
     "metadata": {
      "needs_background": "light"
     },
     "output_type": "display_data"
    }
   ],
   "source": [
    "sns.countplot(Z_train)\n",
    "plt.show()\n",
    "\n",
    "sns.countplot(Z_test)\n",
    "plt.show()"
   ]
  },
  {
   "cell_type": "markdown",
   "metadata": {},
   "source": [
    "### Load annotations / Generate"
   ]
  },
  {
   "cell_type": "code",
   "execution_count": 12,
   "metadata": {
    "scrolled": true
   },
   "outputs": [
    {
     "name": "stdout",
     "output_type": "stream",
     "text": [
      "Loading AMT data...\n",
      "Remove 43 annotators that do not annotate on this set \n",
      "Shape (data,annotators):  (17363, 1346)\n",
      "Classes:  4\n"
     ]
    }
   ],
   "source": [
    "from code.representation import *\n",
    "from code.utils import *\n",
    "\n",
    "# data from Amazon Mechanical Turk\n",
    "print(\"Loading AMT data...\")\n",
    "y_obs = np.loadtxt(folder+\"answers_\"+p_error+\"_\"+Q_s+\".txt\",dtype='int16')#not annotation symbol ==-1\n",
    "y_obs = y_obs[~mask_val] \n",
    "T_weights = np.sum(y_obs != -1,axis=0) #distribucion de anotaciones\n",
    "\n",
    "print(\"Remove %d annotators that do not annotate on this set \"%(np.sum(T_weights==0)))\n",
    "y_obs = y_obs[:,T_weights!=0]\n",
    "T_weights = np.sum(y_obs != -1,axis=0) #distribucion de anotaciones\n",
    "\n",
    "N,T = y_obs.shape\n",
    "Kl = np.max(y_obs)+1 # asumiendo que estan ordenadas\n",
    "print(\"Shape (data,annotators): \",(N,T))\n",
    "print(\"Classes: \",Kl)"
   ]
  },
  {
   "cell_type": "code",
   "execution_count": null,
   "metadata": {},
   "outputs": [],
   "source": [
    "#every annotation is one annotator\n",
    "total_annotations = T_weights.sum(axis=0)\n",
    "new_annotations = np.ones((N, total_annotations),dtype='int16')*-1\n",
    "t_aux = 0\n",
    "for i in range(y_obs.shape[0]):\n",
    "    for t in range(y_obs.shape[1]):\n",
    "        if y_obs[i,t] != -1:\n",
    "            new_annotations[i,t_aux] = y_obs[i,t]\n",
    "            t_aux+=1\n",
    "new_annotations.shape"
   ]
  },
  {
   "cell_type": "code",
   "execution_count": 30,
   "metadata": {
    "collapsed": true
   },
   "outputs": [],
   "source": [
    "np.savetxt(folder+\"answers_v2.txt\",new_annotations, delimiter=\",\", fmt=\"%i\")"
   ]
  },
  {
   "cell_type": "code",
   "execution_count": 13,
   "metadata": {
    "scrolled": true
   },
   "outputs": [
    {
     "data": {
      "text/plain": [
       "array([[[0.5135135 , 0.16216215, 0.13513513, 0.1891892 ],\n",
       "        [0.06060606, 0.72727275, 0.12121212, 0.09090909],\n",
       "        [0.        , 0.        , 0.88095236, 0.11904762],\n",
       "        [0.        , 0.        , 0.625     , 0.375     ]],\n",
       "\n",
       "       [[1.        , 0.        , 0.        , 0.        ],\n",
       "        [0.68      , 0.28      , 0.        , 0.04      ],\n",
       "        [0.        , 0.        , 0.6363636 , 0.36363637],\n",
       "        [0.25      , 0.08333334, 0.08333334, 0.5833333 ]],\n",
       "\n",
       "       [[0.5       , 0.5       , 0.        , 0.        ],\n",
       "        [0.        , 1.        , 0.        , 0.        ],\n",
       "        [0.        , 0.        , 0.6666667 , 0.33333334],\n",
       "        [0.        , 0.        , 0.6666667 , 0.33333334]],\n",
       "\n",
       "       ...,\n",
       "\n",
       "       [[0.25      , 0.25      , 0.25      , 0.25      ],\n",
       "        [0.        , 1.        , 0.        , 0.        ],\n",
       "        [0.25      , 0.25      , 0.25      , 0.25      ],\n",
       "        [0.25      , 0.25      , 0.25      , 0.25      ]],\n",
       "\n",
       "       [[0.        , 1.        , 0.        , 0.        ],\n",
       "        [0.25      , 0.25      , 0.25      , 0.25      ],\n",
       "        [0.25      , 0.25      , 0.25      , 0.25      ],\n",
       "        [0.        , 0.        , 1.        , 0.        ]],\n",
       "\n",
       "       [[0.25      , 0.25      , 0.25      , 0.25      ],\n",
       "        [0.        , 1.        , 0.        , 0.        ],\n",
       "        [0.25      , 0.25      , 0.25      , 0.25      ],\n",
       "        [0.25      , 0.25      , 0.25      , 0.25      ]]], dtype=float32)"
      ]
     },
     "execution_count": 13,
     "metadata": {},
     "output_type": "execute_result"
    }
   ],
   "source": [
    "#generate conf matrix...\n",
    "confe_matrix_R = np.zeros((T,Kl,Kl),dtype=DTYPE_OP) #rodrigues add epsilon here\n",
    "for t in range(T):    \n",
    "    for i in range(N):\n",
    "        if y_obs[i,t] != -1:\n",
    "            confe_matrix_R[t,Z_train[i],y_obs[i,t]] +=1\n",
    "            \n",
    "    mask_nan = confe_matrix_R[t,:,:].sum(axis=-1) == 0\n",
    "    mean_replace = np.mean(confe_matrix_R[t,:,:][~mask_nan],axis=0)\n",
    "    for value in np.arange(Kl)[mask_nan]:\n",
    "        #how to fill where she not annotate?? -- \n",
    "        confe_matrix_R[t,value,:] =  1 #Rodrigues 1./K -- similar  to laplace smooth (prior 1)\n",
    "        #confe_matrix[t,value,:] = mean_replace #Ours\n",
    "    confe_matrix_R[t,:,:] = confe_matrix_R[t,:,:]/confe_matrix_R[t,:,:].sum(axis=-1,keepdims=True) #normalize\n",
    "confe_matrix_R"
   ]
  },
  {
   "cell_type": "code",
   "execution_count": 70,
   "metadata": {
    "scrolled": true
   },
   "outputs": [
    {
     "data": {
      "image/png": "[encoded data removed]",
      "text/plain": [
       "<Figure size 432x288 with 1 Axes>"
      ]
     },
     "metadata": {
      "needs_background": "light"
     },
     "output_type": "display_data"
    },
    {
     "name": "stdout",
     "output_type": "stream",
     "text": [
      "Minimum annotations in a example:  1\n",
      "Maximum annotations in a example:  6\n",
      "T data (expected value):  1.9566272018481086\n",
      "Graphics of T weights\n"
     ]
    },
    {
     "data": {
      "image/png": "[encoded data removed]",
      "text/plain": [
       "<Figure size 432x288 with 1 Axes>"
      ]
     },
     "metadata": {
      "needs_background": "light"
     },
     "output_type": "display_data"
    },
    {
     "data": {
      "image/png": "[encoded data removed]",
      "text/plain": [
       "<Figure size 432x288 with 1 Axes>"
      ]
     },
     "metadata": {
      "needs_background": "light"
     },
     "output_type": "display_data"
    },
    {
     "name": "stdout",
     "output_type": "stream",
     "text": [
      "Minimum annotations by an annotator:  1\n",
      "Maximum annotations by an annotator:  625\n",
      "Mean annotations by an annotator:  25.076980014803848\n"
     ]
    }
   ],
   "source": [
    "#graphics and distribution? what is T_data\n",
    "N_ann = np.sum(y_obs != -1,axis=1) #distribucion de anotaciones con este valor\n",
    "\n",
    "sns.countplot(N_ann)\n",
    "plt.show()\n",
    "print(\"Minimum annotations in a example: \",N_ann.min())\n",
    "print(\"Maximum annotations in a example: \",N_ann.max())\n",
    "print(\"T data (expected value): \",N_ann.mean())\n",
    "\n",
    "print(\"Graphics of T weights\")\n",
    "plt.hist(T_weights)\n",
    "plt.show()\n",
    "\n",
    "plt.boxplot(T_weights)\n",
    "plt.show()\n",
    "print(\"Minimum annotations by an annotator: \",T_weights.min())\n",
    "print(\"Maximum annotations by an annotator: \",T_weights.max())\n",
    "print(\"Mean annotations by an annotator: \",T_weights.mean())"
   ]
  },
  {
   "cell_type": "markdown",
   "metadata": {},
   "source": [
    "#### Delta Convergence criteria"
   ]
  },
  {
   "cell_type": "code",
   "execution_count": 14,
   "metadata": {},
   "outputs": [],
   "source": [
    "from code.learning_models import LogisticRegression_Sklearn,LogisticRegression_Keras,MLP_Keras\n",
    "#deep learning\n",
    "from code.learning_models import default_CNN,default_RNN,CNN_simple, RNN_simple, Clonable_Model\n",
    "\n",
    "from code.utils import EarlyStopRelative\n",
    "ourCallback = EarlyStopRelative(monitor='loss',patience=1,min_delta=TOL)"
   ]
  },
  {
   "cell_type": "markdown",
   "metadata": {},
   "source": [
    "### Upper Bound Model -- ideal"
   ]
  },
  {
   "cell_type": "code",
   "execution_count": 76,
   "metadata": {
    "scrolled": true
   },
   "outputs": [
    {
     "name": "stdout",
     "output_type": "stream",
     "text": [
      "Trained IDeal Model, Epochs to converge = 5\n"
     ]
    }
   ],
   "source": [
    "Z_train_onehot = keras.utils.to_categorical(Z_train, num_classes=Kl)\n",
    "\n",
    "model_UB = MLP_Keras(Xstd_train.shape[1:],Z_train_onehot.shape[1],128,1,BN=True,drop=0.5) \n",
    "\n",
    "model_UB.compile(loss='categorical_crossentropy',optimizer=OPT)\n",
    "hist=model_UB.fit(Xstd_train,Z_train_onehot,epochs=EPOCHS_BASE,batch_size=BATCH_SIZE,verbose=0,callbacks=[ourCallback])\n",
    "\n",
    "clone_UB = Clonable_Model(model_UB)\n",
    "print(\"Trained IDeal Model, Epochs to converge =\",len(hist.epoch))\n",
    "Z_train_pred = model_UB.predict_classes(Xstd_train)\n",
    "Z_val_pred = model_UB.predict_classes(Xstd_val)\n",
    "Z_test_pred = model_UB.predict_classes(Xstd_test)"
   ]
  },
  {
   "cell_type": "code",
   "execution_count": null,
   "metadata": {},
   "outputs": [],
   "source": []
  },
  {
   "cell_type": "code",
   "execution_count": 72,
   "metadata": {},
   "outputs": [],
   "source": [
    "Kl = Z_train.max()+1\n",
    "Z_train_onehot = keras.utils.to_categorical(Z_train, num_classes=Kl)\n",
    "Z_val_onehot = keras.utils.to_categorical(Z_val, num_classes=Kl)\n",
    "Z_test_onehot = keras.utils.to_categorical(Z_test, num_classes=Kl)"
   ]
  },
  {
   "cell_type": "code",
   "execution_count": 73,
   "metadata": {
    "scrolled": true
   },
   "outputs": [
    {
     "name": "stdout",
     "output_type": "stream",
     "text": [
      "_________________________________________________________________\n",
      "Layer (type)                 Output Shape              Param #   \n",
      "=================================================================\n",
      "input_9 (InputLayer)         (None, 512)               0         \n",
      "_________________________________________________________________\n",
      "dense_20 (Dense)             (None, 128)               65664     \n",
      "_________________________________________________________________\n",
      "dropout_12 (Dropout)         (None, 128)               0         \n",
      "_________________________________________________________________\n",
      "dense_21 (Dense)             (None, 128)               16512     \n",
      "_________________________________________________________________\n",
      "dropout_13 (Dropout)         (None, 128)               0         \n",
      "_________________________________________________________________\n",
      "dense_22 (Dense)             (None, 4)                 516       \n",
      "_________________________________________________________________\n",
      "activation_9 (Activation)    (None, 4)                 0         \n",
      "=================================================================\n",
      "Total params: 82,692\n",
      "Trainable params: 82,692\n",
      "Non-trainable params: 0\n",
      "_________________________________________________________________\n",
      "Train on 17315 samples, validate on 8503 samples\n",
      "Epoch 1/50\n",
      "17315/17315 [==============================] - 2s 129us/step - loss: 1.7405 - acc: 0.4068 - val_loss: 1.0544 - val_acc: 0.5392\n",
      "Epoch 2/50\n",
      "17315/17315 [==============================] - 1s 59us/step - loss: 1.1688 - acc: 0.4788 - val_loss: 0.9928 - val_acc: 0.5666\n",
      "Epoch 3/50\n",
      "17315/17315 [==============================] - 1s 57us/step - loss: 1.0851 - acc: 0.5150 - val_loss: 0.9556 - val_acc: 0.5780\n",
      "Epoch 4/50\n",
      "17315/17315 [==============================] - 1s 58us/step - loss: 1.0261 - acc: 0.5421 - val_loss: 0.9316 - val_acc: 0.5947\n",
      "Epoch 5/50\n",
      "17315/17315 [==============================] - 1s 58us/step - loss: 0.9792 - acc: 0.5614 - val_loss: 0.9160 - val_acc: 0.6021\n",
      "Epoch 6/50\n",
      "17315/17315 [==============================] - 1s 57us/step - loss: 0.9524 - acc: 0.5729 - val_loss: 0.8996 - val_acc: 0.6034\n"
     ]
    }
   ],
   "source": [
    "model_UB = MLP_Keras(Xstd_train.shape[1:],Z_train_onehot.shape[1],128,2,BN=False,drop=0.5) #true bn?\n",
    "model_UB.compile(loss='categorical_crossentropy',optimizer=OPT, metrics=[\"acc\"])\n",
    "model_UB.summary()\n",
    "hist=model_UB.fit(Xstd_train,Z_train_onehot,epochs=EPOCHS_BASE,batch_size=BATCH_SIZE,verbose=1,callbacks=[ourCallback]\n",
    "                  ,validation_data=(Xstd_val,Z_val_onehot))"
   ]
  },
  {
   "cell_type": "code",
   "execution_count": 90,
   "metadata": {
    "scrolled": true
   },
   "outputs": [
    {
     "name": "stdout",
     "output_type": "stream",
     "text": [
      "_________________________________________________________________\n",
      "Layer (type)                 Output Shape              Param #   \n",
      "=================================================================\n",
      "input_13 (InputLayer)        (None, 512)               0         \n",
      "_________________________________________________________________\n",
      "dense_30 (Dense)             (None, 128)               65664     \n",
      "_________________________________________________________________\n",
      "batch_normalization_9 (Batch (None, 128)               512       \n",
      "_________________________________________________________________\n",
      "dropout_18 (Dropout)         (None, 128)               0         \n",
      "_________________________________________________________________\n",
      "dense_31 (Dense)             (None, 4)                 516       \n",
      "_________________________________________________________________\n",
      "activation_13 (Activation)   (None, 4)                 0         \n",
      "=================================================================\n",
      "Total params: 66,692\n",
      "Trainable params: 66,436\n",
      "Non-trainable params: 256\n",
      "_________________________________________________________________\n",
      "Train on 17315 samples, validate on 8503 samples\n",
      "Epoch 1/50\n",
      "17315/17315 [==============================] - 3s 188us/step - loss: 1.2989 - acc: 0.5236 - val_loss: 0.9198 - val_acc: 0.6217\n",
      "Epoch 2/50\n",
      "17315/17315 [==============================] - 1s 70us/step - loss: 0.9757 - acc: 0.5936 - val_loss: 0.8642 - val_acc: 0.6359\n",
      "Epoch 3/50\n",
      "17315/17315 [==============================] - 1s 69us/step - loss: 0.8910 - acc: 0.6236 - val_loss: 0.8503 - val_acc: 0.6378\n",
      "Epoch 4/50\n",
      "17315/17315 [==============================] - 1s 70us/step - loss: 0.8519 - acc: 0.6433 - val_loss: 0.8441 - val_acc: 0.6371\n",
      "Epoch 5/50\n",
      "17315/17315 [==============================] - 1s 69us/step - loss: 0.8259 - acc: 0.6552 - val_loss: 0.8417 - val_acc: 0.6367\n",
      "Epoch 6/50\n",
      "17315/17315 [==============================] - 1s 71us/step - loss: 0.8101 - acc: 0.6613 - val_loss: 0.8448 - val_acc: 0.6381\n"
     ]
    }
   ],
   "source": [
    "model_UB = MLP_Keras(Xstd_train.shape[1:],Z_train_onehot.shape[1],128,1,BN=True,drop=0.5) #true bn?\n",
    "model_UB.compile(loss='categorical_crossentropy',optimizer=OPT, metrics=[\"acc\"])\n",
    "model_UB.summary()\n",
    "hist=model_UB.fit(Xstd_train,Z_train_onehot,epochs=EPOCHS_BASE,batch_size=BATCH_SIZE,verbose=1,callbacks=[ourCallback]\n",
    "                  ,validation_data=(Xstd_val,Z_val_onehot))"
   ]
  },
  {
   "cell_type": "code",
   "execution_count": 75,
   "metadata": {
    "scrolled": true
   },
   "outputs": [
    {
     "name": "stdout",
     "output_type": "stream",
     "text": [
      "_________________________________________________________________\n",
      "Layer (type)                 Output Shape              Param #   \n",
      "=================================================================\n",
      "input_11 (InputLayer)        (None, 512)               0         \n",
      "_________________________________________________________________\n",
      "dense_25 (Dense)             (None, 128)               65664     \n",
      "_________________________________________________________________\n",
      "batch_normalization_6 (Batch (None, 128)               512       \n",
      "_________________________________________________________________\n",
      "dropout_15 (Dropout)         (None, 128)               0         \n",
      "_________________________________________________________________\n",
      "dense_26 (Dense)             (None, 128)               16512     \n",
      "_________________________________________________________________\n",
      "batch_normalization_7 (Batch (None, 128)               512       \n",
      "_________________________________________________________________\n",
      "dropout_16 (Dropout)         (None, 128)               0         \n",
      "_________________________________________________________________\n",
      "dense_27 (Dense)             (None, 4)                 516       \n",
      "_________________________________________________________________\n",
      "activation_11 (Activation)   (None, 4)                 0         \n",
      "=================================================================\n",
      "Total params: 83,716\n",
      "Trainable params: 83,204\n",
      "Non-trainable params: 512\n",
      "_________________________________________________________________\n",
      "Train on 17315 samples, validate on 8503 samples\n",
      "Epoch 1/50\n",
      "17315/17315 [==============================] - 4s 209us/step - loss: 1.3744 - acc: 0.4851 - val_loss: 0.9133 - val_acc: 0.6145\n",
      "Epoch 2/50\n",
      "17315/17315 [==============================] - 2s 89us/step - loss: 1.0434 - acc: 0.5580 - val_loss: 0.8747 - val_acc: 0.6245\n",
      "Epoch 3/50\n",
      "17315/17315 [==============================] - 2s 89us/step - loss: 0.9512 - acc: 0.5939 - val_loss: 0.8653 - val_acc: 0.6246\n",
      "Epoch 4/50\n",
      "17315/17315 [==============================] - 2s 89us/step - loss: 0.9007 - acc: 0.6162 - val_loss: 0.8532 - val_acc: 0.6317\n",
      "Epoch 5/50\n",
      "17315/17315 [==============================] - 2s 89us/step - loss: 0.8758 - acc: 0.6263 - val_loss: 0.8484 - val_acc: 0.6326\n"
     ]
    }
   ],
   "source": [
    "model_UB = MLP_Keras(Xstd_train.shape[1:],Z_train_onehot.shape[1],128,2,BN=True,drop=0.5) #true bn?\n",
    "model_UB.compile(loss='categorical_crossentropy',optimizer=OPT, metrics=[\"acc\"])\n",
    "model_UB.summary()\n",
    "hist=model_UB.fit(Xstd_train,Z_train_onehot,epochs=EPOCHS_BASE,batch_size=BATCH_SIZE,verbose=1,callbacks=[ourCallback]\n",
    "                  ,validation_data=(Xstd_val,Z_val_onehot))"
   ]
  },
  {
   "cell_type": "code",
   "execution_count": null,
   "metadata": {},
   "outputs": [],
   "source": []
  },
  {
   "cell_type": "code",
   "execution_count": null,
   "metadata": {},
   "outputs": [],
   "source": []
  },
  {
   "cell_type": "code",
   "execution_count": 87,
   "metadata": {},
   "outputs": [
    {
     "name": "stdout",
     "output_type": "stream",
     "text": [
      "Trained IDeal Model, Epochs to converge = 4\n"
     ]
    }
   ],
   "source": [
    "clone_UB = Clonable_Model(model_UB)\n",
    "print(\"Trained IDeal Model, Epochs to converge =\",len(hist.epoch))\n",
    "Z_train_pred = model_UB.predict_classes(Xstd_train)\n",
    "Z_test_pred = model_UB.predict_classes(Xstd_test)"
   ]
  },
  {
   "cell_type": "code",
   "execution_count": 91,
   "metadata": {
    "scrolled": true
   },
   "outputs": [
    {
     "data": {
      "image/png": "[encoded data removed]",
      "text/plain": [
       "<Figure size 432x288 with 1 Axes>"
      ]
     },
     "metadata": {
      "needs_background": "light"
     },
     "output_type": "display_data"
    },
    {
     "data": {
      "image/png": "[encoded data removed]",
      "text/plain": [
       "<Figure size 432x288 with 1 Axes>"
      ]
     },
     "metadata": {
      "needs_background": "light"
     },
     "output_type": "display_data"
    }
   ],
   "source": [
    "sns.countplot(Z_train_pred)\n",
    "plt.show()\n",
    "sns.countplot(Z_test_pred)\n",
    "plt.show()"
   ]
  },
  {
   "cell_type": "code",
   "execution_count": 92,
   "metadata": {},
   "outputs": [
    {
     "data": {
      "text/plain": [
       "<matplotlib.legend.Legend at 0x7f2b351a6a58>"
      ]
     },
     "execution_count": 92,
     "metadata": {},
     "output_type": "execute_result"
    },
    {
     "data": {
      "image/png": "[encoded data removed]",
      "text/plain": [
       "<Figure size 432x288 with 1 Axes>"
      ]
     },
     "metadata": {
      "needs_background": "light"
     },
     "output_type": "display_data"
    }
   ],
   "source": [
    "plt.plot(hist.history[\"loss\"],label=\"train\")\n",
    "plt.plot(hist.history[\"val_loss\"])\n",
    "plt.legend()"
   ]
  },
  {
   "cell_type": "code",
   "execution_count": 33,
   "metadata": {},
   "outputs": [
    {
     "name": "stdout",
     "output_type": "stream",
     "text": [
      "*** Upper bound (Train with GT) ***\n",
      "Train\n",
      "A result\n"
     ]
    },
    {
     "data": {
      "text/html": [
       "<div>\n",
       "<style scoped>\n",
       "    .dataframe tbody tr th:only-of-type {\n",
       "        vertical-align: middle;\n",
       "    }\n",
       "\n",
       "    .dataframe tbody tr th {\n",
       "        vertical-align: top;\n",
       "    }\n",
       "\n",
       "    .dataframe thead th {\n",
       "        text-align: right;\n",
       "    }\n",
       "</style>\n",
       "<table border=\"1\" class=\"dataframe\">\n",
       "  <thead>\n",
       "    <tr style=\"text-align: right;\">\n",
       "      <th></th>\n",
       "      <th></th>\n",
       "      <th>Accuracy</th>\n",
       "      <th>F1 (micro)</th>\n",
       "      <th>F1 (macro)</th>\n",
       "    </tr>\n",
       "  </thead>\n",
       "  <tbody>\n",
       "    <tr>\n",
       "      <th>0</th>\n",
       "      <td>All</td>\n",
       "      <td>0.8238</td>\n",
       "      <td>0.8238</td>\n",
       "      <td>0.8109</td>\n",
       "    </tr>\n",
       "  </tbody>\n",
       "</table>\n",
       "</div>"
      ],
      "text/plain": [
       "        Accuracy  F1 (micro)  F1 (macro)\n",
       "0  All    0.8238      0.8238      0.8109"
      ]
     },
     "metadata": {},
     "output_type": "display_data"
    },
    {
     "name": "stdout",
     "output_type": "stream",
     "text": [
      "Test\n",
      "A result\n"
     ]
    },
    {
     "data": {
      "text/html": [
       "<div>\n",
       "<style scoped>\n",
       "    .dataframe tbody tr th:only-of-type {\n",
       "        vertical-align: middle;\n",
       "    }\n",
       "\n",
       "    .dataframe tbody tr th {\n",
       "        vertical-align: top;\n",
       "    }\n",
       "\n",
       "    .dataframe thead th {\n",
       "        text-align: right;\n",
       "    }\n",
       "</style>\n",
       "<table border=\"1\" class=\"dataframe\">\n",
       "  <thead>\n",
       "    <tr style=\"text-align: right;\">\n",
       "      <th></th>\n",
       "      <th></th>\n",
       "      <th>Accuracy</th>\n",
       "      <th>F1 (micro)</th>\n",
       "      <th>F1 (macro)</th>\n",
       "    </tr>\n",
       "  </thead>\n",
       "  <tbody>\n",
       "    <tr>\n",
       "      <th>0</th>\n",
       "      <td>All</td>\n",
       "      <td>0.843</td>\n",
       "      <td>0.843</td>\n",
       "      <td>0.825</td>\n",
       "    </tr>\n",
       "  </tbody>\n",
       "</table>\n",
       "</div>"
      ],
      "text/plain": [
       "        Accuracy  F1 (micro)  F1 (macro)\n",
       "0  All     0.843       0.843       0.825"
      ]
     },
     "metadata": {},
     "output_type": "display_data"
    }
   ],
   "source": [
    "from code.evaluation import Evaluation_metrics\n",
    "\n",
    "N = Xstd_train.shape[0]\n",
    "evaluate = Evaluation_metrics(model_UB,'keras',N)\n",
    "print(\"*** Upper bound (Train with GT) ***\")\n",
    "\n",
    "print(\"Train\")\n",
    "results1 = evaluate.calculate_metrics(Z=Z_train,Z_pred=Z_train_pred)\n",
    "\n",
    "print(\"Test\")\n",
    "results2 = evaluate.calculate_metrics(Z=Z_test,Z_pred=Z_test_pred)"
   ]
  },
  {
   "cell_type": "markdown",
   "metadata": {},
   "source": [
    "### Infer Labels (without predictive model)"
   ]
  },
  {
   "cell_type": "code",
   "execution_count": 79,
   "metadata": {},
   "outputs": [
    {
     "name": "stdout",
     "output_type": "stream",
     "text": [
      "Representation for MV in 0.754232 sec\n",
      "Representation for DS in 0.578112 sec\n",
      "Estimation MV in 0.001040 sec\n",
      "Iter\tlog-likelihood\tdelta-CM\tdelta-ER\tdelta-LL\n",
      "1 \t -34875.36960012488\n",
      "2 \t -33797.96251874367 \t0.0193\t0.305034\t0.030893\n",
      "3 \t -33451.381532317304 \t0.0131\t0.071528\t0.010254\n",
      "4 \t -33256.66848447198 \t0.0078\t0.066143\t0.005821\n",
      "5 \t -33132.509977173235 \t0.0050\t0.063487\t0.003733\n",
      "6 \t -33047.71422557834 \t0.0046\t0.060051\t0.002559\n",
      "7 \t -32986.88016410955 \t0.0044\t347.021271\t0.001841\n",
      "8 \t -32941.447285139635 \t0.0042\t0.052233\t0.001377\n",
      "9 \t -32906.56945848786 \t0.0039\t0.048752\t0.001059\n",
      "10 \t -32879.14200719682 \t0.0037\t0.045450\t0.000833\n",
      "11 \t -32857.20622208775 \t0.0034\t0.042328\t0.000667\n",
      "12 \t -32839.62964322639 \t0.0031\t0.039510\t0.000535\n",
      "13 \t -32825.47708083321 \t0.0029\t0.036761\t0.000431\n",
      "14 \t -32813.862151244255 \t0.0027\t0.034040\t0.000354\n",
      "15 \t -32804.06698408639 \t0.0024\t0.031303\t0.000299\n",
      "16 \t -32795.70814715521 \t0.0023\t346.994019\t0.000255\n",
      "17 \t -32788.388562598404 \t0.0021\t0.026505\t0.000223\n",
      "Class marginals\n",
      "[0.24 0.2  0.33 0.23]\n",
      "Estimation for DS in 293.307319 sec\n"
     ]
    }
   ],
   "source": [
    "from code.baseline import LabelInference\n",
    "\n",
    "label_I = LabelInference(y_obs,TOL,type_inf = 'all')\n",
    "\n",
    "mv_probas, mv_conf_probas = label_I.mv_labels('probas')\n",
    "mv_onehot, mv_conf_onehot = label_I.mv_labels('onehot')\n",
    "\n",
    "confe_matrix_G = get_Global_confusionM(Z_train,label_I.y_obs_repeat)\n",
    "\n",
    "if y_obs.shape[1] <= 12000:\n",
    "    ds_labels,ds_conf = label_I.DS_labels()"
   ]
  },
  {
   "cell_type": "code",
   "execution_count": 80,
   "metadata": {},
   "outputs": [
    {
     "name": "stdout",
     "output_type": "stream",
     "text": [
      "ACC MV on train: 0.6907305804215997\n",
      "F1 MV  on train: 0.6716221774710519\n",
      "ACC D&S on train: 0.6335547213398787\n",
      "F1 D&S  on train: 0.6186611929516127\n"
     ]
    }
   ],
   "source": [
    "print(\"ACC MV on train:\",np.mean(mv_onehot.argmax(axis=1)==Z_train))\n",
    "print(\"F1 MV  on train:\",f1_score(Z_train,mv_onehot.argmax(axis=1),average=\"macro\"))\n",
    "\n",
    "print(\"ACC D&S on train:\",np.mean(ds_labels.argmax(axis=1)==Z_train))\n",
    "print(\"F1 D&S  on train:\",f1_score(Z_train,ds_labels.argmax(axis=1),average=\"macro\"))"
   ]
  },
  {
   "cell_type": "code",
   "execution_count": 81,
   "metadata": {},
   "outputs": [
    {
     "name": "stdout",
     "output_type": "stream",
     "text": [
      "Trained model over soft-MV, Epochs to converge = 4\n"
     ]
    }
   ],
   "source": [
    "model_mvsoft = clone_UB.get_model()\n",
    "model_mvsoft.compile(loss='categorical_crossentropy',optimizer=OPT)\n",
    "hist=model_mvsoft.fit(Xstd_train, mv_probas, epochs=EPOCHS_BASE,batch_size=BATCH_SIZE,verbose=0,callbacks=[ourCallback])\n",
    "print(\"Trained model over soft-MV, Epochs to converge =\",len(hist.epoch))\n",
    "Z_train_pred = model_mvsoft.predict_classes(Xstd_train)\n",
    "Z_val_pred = model_mvsoft.predict_classes(Xstd_val)\n",
    "Z_test_pred = model_mvsoft.predict_classes(Xstd_test)"
   ]
  },
  {
   "cell_type": "code",
   "execution_count": 83,
   "metadata": {},
   "outputs": [
    {
     "name": "stdout",
     "output_type": "stream",
     "text": [
      "Trained model over hard-MV, Epochs to converge = 5\n"
     ]
    }
   ],
   "source": [
    "model_mvhard = clone_UB.get_model()\n",
    "model_mvhard.compile(loss='categorical_crossentropy',optimizer=OPT)\n",
    "hist=model_mvhard.fit(Xstd_train, mv_onehot, epochs=EPOCHS_BASE,batch_size=BATCH_SIZE,verbose=0,callbacks=[ourCallback])\n",
    "print(\"Trained model over hard-MV, Epochs to converge =\",len(hist.epoch))\n",
    "Z_train_pred = model_mvhard.predict_classes(Xstd_train)\n",
    "Z_val_pred = model_mvhard.predict_classes(Xstd_val)\n",
    "Z_test_pred = model_mvhard.predict_classes(Xstd_test)"
   ]
  },
  {
   "cell_type": "code",
   "execution_count": 85,
   "metadata": {
    "scrolled": true
   },
   "outputs": [
    {
     "name": "stdout",
     "output_type": "stream",
     "text": [
      "Trained model over D&S, Epochs to converge = 4\n"
     ]
    }
   ],
   "source": [
    "model_ds = clone_UB.get_model()\n",
    "model_ds.compile(loss='categorical_crossentropy',optimizer=OPT)\n",
    "hist=model_ds.fit(Xstd_train, ds_labels, epochs=EPOCHS_BASE,batch_size=BATCH_SIZE,verbose=0,callbacks=[ourCallback])\n",
    "print(\"Trained model over D&S, Epochs to converge =\",len(hist.epoch))\n",
    "Z_train_pred = model_ds.predict_classes(Xstd_train)\n",
    "Z_val_pred = model_ds.predict_classes(Xstd_val)\n",
    "Z_test_pred = model_ds.predict_classes(Xstd_test)"
   ]
  },
  {
   "cell_type": "markdown",
   "metadata": {},
   "source": [
    "### Raykar Model (joint predict model)"
   ]
  },
  {
   "cell_type": "code",
   "execution_count": 91,
   "metadata": {
    "scrolled": true
   },
   "outputs": [
    {
     "name": "stdout",
     "output_type": "stream",
     "text": [
      "shape: (11486, 1173, 3)\n"
     ]
    }
   ],
   "source": [
    "from code.baseline import RaykarMC\n",
    "y_obs_categorical = set_representation(y_obs,'onehot') #for raykar\n",
    "print(\"shape:\",y_obs_categorical.shape)"
   ]
  },
  {
   "cell_type": "code",
   "execution_count": 92,
   "metadata": {
    "scrolled": true
   },
   "outputs": [
    {
     "name": "stdout",
     "output_type": "stream",
     "text": [
      "Needed params (units,deep,drop,BatchN?)\n",
      "Initializing new EM...\n",
      "Betas shape:  (1173, 3, 3)\n",
      "Q estimate shape:  (11486, 3)\n",
      "Iter 1/50 \n",
      "M step: done,  E step: done //  (in 6.83 sec)\tlogL: -9620.629\t\n",
      "Iter 2/50 \n",
      "M step: done,  E step: done //  (in 1.15 sec)\tlogL: -9263.798\tTol1: 0.03709\tTol2: 0.13045\t\n",
      "Iter 3/50 \n",
      "M step: done,  E step: done //  (in 1.14 sec)\tlogL: -9041.914\tTol1: 0.02395\tTol2: 0.03546\t\n",
      "Iter 4/50 \n",
      "M step: done,  E step: done //  (in 1.13 sec)\tlogL: -8833.424\tTol1: 0.02306\tTol2: 0.01821\t\n",
      "Finished training\n",
      "Initializing new EM...\n",
      "Betas shape:  (1173, 3, 3)\n",
      "Q estimate shape:  (11486, 3)\n",
      "Iter 1/50 \n",
      "M step: done,  E step: done //  (in 2.52 sec)\tlogL: -9626.348\t\n",
      "Iter 2/50 \n",
      "M step: done,  E step: done //  (in 1.07 sec)\tlogL: -9135.764\tTol1: 0.05096\tTol2: 0.12893\t\n",
      "Iter 3/50 \n",
      "M step: done,  E step: done //  (in 1.06 sec)\tlogL: -8969.268\tTol1: 0.01822\tTol2: 0.03307\t\n",
      "Iter 4/50 \n",
      "M step: done,  E step: done //  (in 1.07 sec)\tlogL: -8848.744\tTol1: 0.01344\tTol2: 0.01833\t\n",
      "Finished training\n",
      "Initializing new EM...\n",
      "Betas shape:  (1173, 3, 3)\n",
      "Q estimate shape:  (11486, 3)\n",
      "Iter 1/50 \n",
      "M step: done,  E step: done //  (in 2.50 sec)\tlogL: -9620.604\t\n",
      "Iter 2/50 \n",
      "M step: done,  E step: done //  (in 1.07 sec)\tlogL: -9135.967\tTol1: 0.05037\tTol2: 0.12917\t\n",
      "Iter 3/50 \n",
      "M step: done,  E step: done //  (in 1.07 sec)\tlogL: -8945.750\tTol1: 0.02082\tTol2: 0.03466\t\n",
      "Iter 4/50 \n",
      "M step: done,  E step: done //  (in 1.08 sec)\tlogL: -8738.534\tTol1: 0.02316\tTol2: 0.01982\t\n",
      "Finished training\n",
      "Initializing new EM...\n",
      "Betas shape:  (1173, 3, 3)\n",
      "Q estimate shape:  (11486, 3)\n",
      "Iter 1/50 \n",
      "M step: done,  E step: done //  (in 2.51 sec)\tlogL: -9609.262\t\n",
      "Iter 2/50 \n",
      "M step: done,  E step: done //  (in 1.07 sec)\tlogL: -9081.063\tTol1: 0.05497\tTol2: 0.13173\t\n",
      "Iter 3/50 \n",
      "M step: done,  E step: done //  (in 1.07 sec)\tlogL: -8925.170\tTol1: 0.01717\tTol2: 0.03435\t\n",
      "Iter 4/50 \n",
      "M step: done,  E step: done //  (in 1.07 sec)\tlogL: -8779.391\tTol1: 0.01633\tTol2: 0.01637\t\n",
      "Finished training\n",
      "Initializing new EM...\n",
      "Betas shape:  (1173, 3, 3)\n",
      "Q estimate shape:  (11486, 3)\n",
      "Iter 1/50 \n",
      "M step: done,  E step: done //  (in 2.52 sec)\tlogL: -9624.856\t\n",
      "Iter 2/50 \n",
      "M step: done,  E step: done //  (in 1.07 sec)\tlogL: -9111.686\tTol1: 0.05332\tTol2: 0.12919\t\n",
      "Iter 3/50 \n",
      "M step: done,  E step: done //  (in 1.08 sec)\tlogL: -8931.644\tTol1: 0.01976\tTol2: 0.03738\t\n",
      "Iter 4/50 \n",
      "M step: done,  E step: done //  (in 1.07 sec)\tlogL: -8775.028\tTol1: 0.01753\tTol2: 0.01949\t\n",
      "Finished training\n",
      "Initializing new EM...\n",
      "Betas shape:  (1173, 3, 3)\n",
      "Q estimate shape:  (11486, 3)\n",
      "Iter 1/50 \n",
      "M step: done,  E step: done //  (in 2.51 sec)\tlogL: -9621.261\t\n",
      "Iter 2/50 \n",
      "M step: done,  E step: done //  (in 1.08 sec)\tlogL: -9150.059\tTol1: 0.04898\tTol2: 0.12995\t\n",
      "Iter 3/50 \n",
      "M step: done,  E step: done //  (in 1.07 sec)\tlogL: -8940.279\tTol1: 0.02293\tTol2: 0.03257\t\n",
      "Iter 4/50 \n",
      "M step: done,  E step: done //  (in 1.07 sec)\tlogL: -8778.621\tTol1: 0.01808\tTol2: 0.01826\t\n",
      "Finished training\n",
      "Initializing new EM...\n",
      "Betas shape:  (1173, 3, 3)\n",
      "Q estimate shape:  (11486, 3)\n",
      "Iter 1/50 \n",
      "M step: done,  E step: done //  (in 2.53 sec)\tlogL: -9530.234\t\n",
      "Iter 2/50 \n",
      "M step: done,  E step: done //  (in 1.07 sec)\tlogL: -9076.884\tTol1: 0.04757\tTol2: 0.12988\t\n",
      "Iter 3/50 \n",
      "M step: done,  E step: done //  (in 1.07 sec)\tlogL: -8869.916\tTol1: 0.02280\tTol2: 0.03369\t\n",
      "Iter 4/50 \n",
      "M step: done,  E step: done //  (in 1.06 sec)\tlogL: -8736.729\tTol1: 0.01502\tTol2: 0.01699\t\n",
      "Finished training\n",
      "Initializing new EM...\n",
      "Betas shape:  (1173, 3, 3)\n",
      "Q estimate shape:  (11486, 3)\n",
      "Iter 1/50 \n",
      "M step: done,  E step: done //  (in 2.50 sec)\tlogL: -9589.200\t\n",
      "Iter 2/50 \n",
      "M step: done,  E step: done //  (in 1.06 sec)\tlogL: -9101.986\tTol1: 0.05081\tTol2: 0.12929\t\n",
      "Iter 3/50 \n",
      "M step: done,  E step: done //  (in 1.08 sec)\tlogL: -8903.440\tTol1: 0.02181\tTol2: 0.03246\t\n",
      "Iter 4/50 \n",
      "M step: done,  E step: done //  (in 1.07 sec)\tlogL: -8743.141\tTol1: 0.01800\tTol2: 0.02080\t\n",
      "Finished training\n",
      "Initializing new EM...\n",
      "Betas shape:  (1173, 3, 3)\n",
      "Q estimate shape:  (11486, 3)\n",
      "Iter 1/50 \n",
      "M step: done,  E step: done //  (in 2.49 sec)\tlogL: -9704.402\t\n",
      "Iter 2/50 \n",
      "M step: done,  E step: done //  (in 1.07 sec)\tlogL: -9195.455\tTol1: 0.05244\tTol2: 0.13334\t\n",
      "Iter 3/50 \n",
      "M step: done,  E step: done //  (in 1.07 sec)\tlogL: -9012.797\tTol1: 0.01986\tTol2: 0.03359\t\n",
      "Iter 4/50 \n",
      "M step: done,  E step: done //  (in 1.08 sec)\tlogL: -8827.895\tTol1: 0.02052\tTol2: 0.01919\t\n",
      "Finished training\n",
      "Initializing new EM...\n",
      "Betas shape:  (1173, 3, 3)\n",
      "Q estimate shape:  (11486, 3)\n",
      "Iter 1/50 \n",
      "M step: done,  E step: done //  (in 2.51 sec)\tlogL: -9715.760\t\n",
      "Iter 2/50 \n",
      "M step: done,  E step: done //  (in 1.06 sec)\tlogL: -9138.026\tTol1: 0.05946\tTol2: 0.13006\t\n",
      "Iter 3/50 \n",
      "M step: done,  E step: done //  (in 1.08 sec)\tlogL: -8926.781\tTol1: 0.02312\tTol2: 0.03513\t\n",
      "Iter 4/50 \n",
      "M step: done,  E step: done //  (in 1.07 sec)\tlogL: -8804.725\tTol1: 0.01367\tTol2: 0.01769\t\n",
      "Finished training\n",
      "Initializing new EM...\n",
      "Betas shape:  (1173, 3, 3)\n",
      "Q estimate shape:  (11486, 3)\n",
      "Iter 1/50 \n",
      "M step: done,  E step: done //  (in 2.51 sec)\tlogL: -9647.643\t\n",
      "Iter 2/50 \n",
      "M step: done,  E step: done //  (in 1.07 sec)\tlogL: -9163.759\tTol1: 0.05016\tTol2: 0.12969\t\n",
      "Iter 3/50 \n",
      "M step: done,  E step: done //  (in 1.07 sec)\tlogL: -8971.493\tTol1: 0.02098\tTol2: 0.03277\t\n",
      "Iter 4/50 \n",
      "M step: done,  E step: done //  (in 1.07 sec)\tlogL: -8812.749\tTol1: 0.01769\tTol2: 0.01731\t\n",
      "Finished training\n",
      "Initializing new EM...\n",
      "Betas shape:  (1173, 3, 3)\n",
      "Q estimate shape:  (11486, 3)\n",
      "Iter 1/50 \n",
      "M step: done,  E step: done //  (in 2.51 sec)\tlogL: -9624.531\t\n",
      "Iter 2/50 \n",
      "M step: done,  E step: done //  (in 1.06 sec)\tlogL: -9147.092\tTol1: 0.04961\tTol2: 0.13182\t\n",
      "Iter 3/50 \n",
      "M step: done,  E step: done //  (in 1.07 sec)\tlogL: -8904.078\tTol1: 0.02657\tTol2: 0.03878\t\n",
      "Iter 4/50 \n",
      "M step: done,  E step: done //  (in 1.06 sec)\tlogL: -8758.820\tTol1: 0.01631\tTol2: 0.01927\t\n",
      "Finished training\n",
      "Initializing new EM...\n",
      "Betas shape:  (1173, 3, 3)\n",
      "Q estimate shape:  (11486, 3)\n",
      "Iter 1/50 \n",
      "M step: done,  E step: done //  (in 2.51 sec)\tlogL: -9619.975\t\n",
      "Iter 2/50 \n",
      "M step: done,  E step: done //  (in 1.08 sec)\tlogL: -9182.762\tTol1: 0.04545\tTol2: 0.13000\t\n",
      "Iter 3/50 \n",
      "M step: done,  E step: done //  (in 1.09 sec)\tlogL: -8969.973\tTol1: 0.02317\tTol2: 0.03275\t\n",
      "Iter 4/50 \n",
      "M step: done,  E step: done //  (in 1.07 sec)\tlogL: -8851.093\tTol1: 0.01325\tTol2: 0.01752\t\n",
      "Finished training\n",
      "Initializing new EM...\n",
      "Betas shape:  (1173, 3, 3)\n",
      "Q estimate shape:  (11486, 3)\n",
      "Iter 1/50 \n",
      "M step: done,  E step: done //  (in 2.51 sec)\tlogL: -9589.616\t\n",
      "Iter 2/50 \n",
      "M step: done,  E step: done //  (in 1.08 sec)\tlogL: -9221.899\tTol1: 0.03835\tTol2: 0.13071\t\n",
      "Iter 3/50 \n",
      "M step: done,  E step: done //  (in 1.07 sec)\tlogL: -8970.530\tTol1: 0.02726\tTol2: 0.03241\t\n",
      "Iter 4/50 \n",
      "M step: done,  E step: done //  (in 1.07 sec)\tlogL: -8805.696\tTol1: 0.01838\tTol2: 0.02107\t\n",
      "Finished training\n",
      "Initializing new EM...\n",
      "Betas shape:  (1173, 3, 3)\n",
      "Q estimate shape:  (11486, 3)\n",
      "Iter 1/50 \n",
      "M step: done,  E step: done //  (in 2.51 sec)\tlogL: -9668.090\t\n",
      "Iter 2/50 \n",
      "M step: done,  E step: done //  (in 1.07 sec)\tlogL: -9150.871\tTol1: 0.05350\tTol2: 0.13260\t\n",
      "Iter 3/50 \n",
      "M step: done,  E step: done //  (in 1.07 sec)\tlogL: -8942.066\tTol1: 0.02282\tTol2: 0.03194\t\n",
      "Iter 4/50 \n",
      "M step: done,  E step: done //  (in 1.07 sec)\tlogL: -8813.498\tTol1: 0.01438\tTol2: 0.01805\t\n",
      "Finished training\n",
      "Initializing new EM...\n",
      "Betas shape:  (1173, 3, 3)\n",
      "Q estimate shape:  (11486, 3)\n",
      "Iter 1/50 \n",
      "M step: done,  E step: done //  (in 2.52 sec)\tlogL: -9618.607\t\n",
      "Iter 2/50 \n",
      "M step: done,  E step: done //  (in 1.06 sec)\tlogL: -9155.605\tTol1: 0.04814\tTol2: 0.13131\t\n",
      "Iter 3/50 \n",
      "M step: done,  E step: done //  (in 1.07 sec)\tlogL: -8969.523\tTol1: 0.02032\tTol2: 0.03636\t\n",
      "Iter 4/50 \n",
      "M step: done,  E step: done //  (in 1.07 sec)\tlogL: -8840.679\tTol1: 0.01436\tTol2: 0.01718\t\n",
      "Finished training\n",
      "Initializing new EM...\n",
      "Betas shape:  (1173, 3, 3)\n",
      "Q estimate shape:  (11486, 3)\n",
      "Iter 1/50 \n",
      "M step: done,  E step: done //  (in 2.52 sec)\tlogL: -9585.061\t\n",
      "Iter 2/50 \n",
      "M step: done,  E step: done //  (in 1.07 sec)\tlogL: -9215.480\tTol1: 0.03856\tTol2: 0.12950\t\n",
      "Iter 3/50 \n",
      "M step: done,  E step: done //  (in 1.07 sec)\tlogL: -8962.414\tTol1: 0.02746\tTol2: 0.03583\t\n",
      "Iter 4/50 \n",
      "M step: done,  E step: done //  (in 1.07 sec)\tlogL: -8797.943\tTol1: 0.01835\tTol2: 0.01671\t\n",
      "Finished training\n",
      "Initializing new EM...\n",
      "Betas shape:  (1173, 3, 3)\n",
      "Q estimate shape:  (11486, 3)\n",
      "Iter 1/50 \n"
     ]
    },
    {
     "name": "stdout",
     "output_type": "stream",
     "text": [
      "M step: done,  E step: done //  (in 2.52 sec)\tlogL: -9609.291\t\n",
      "Iter 2/50 \n",
      "M step: done,  E step: done //  (in 1.06 sec)\tlogL: -9092.426\tTol1: 0.05379\tTol2: 0.12994\t\n",
      "Iter 3/50 \n",
      "M step: done,  E step: done //  (in 1.08 sec)\tlogL: -8921.285\tTol1: 0.01882\tTol2: 0.03444\t\n",
      "Iter 4/50 \n",
      "M step: done,  E step: done //  (in 1.08 sec)\tlogL: -8779.813\tTol1: 0.01586\tTol2: 0.01817\t\n",
      "Finished training\n",
      "Initializing new EM...\n",
      "Betas shape:  (1173, 3, 3)\n",
      "Q estimate shape:  (11486, 3)\n",
      "Iter 1/50 \n",
      "M step: done,  E step: done //  (in 2.50 sec)\tlogL: -9612.503\t\n",
      "Iter 2/50 \n",
      "M step: done,  E step: done //  (in 1.07 sec)\tlogL: -9217.396\tTol1: 0.04110\tTol2: 0.13253\t\n",
      "Iter 3/50 \n",
      "M step: done,  E step: done //  (in 1.08 sec)\tlogL: -8947.873\tTol1: 0.02924\tTol2: 0.03582\t\n",
      "Iter 4/50 \n",
      "M step: done,  E step: done //  (in 1.07 sec)\tlogL: -8793.646\tTol1: 0.01724\tTol2: 0.01893\t\n",
      "Finished training\n",
      "Initializing new EM...\n",
      "Betas shape:  (1173, 3, 3)\n",
      "Q estimate shape:  (11486, 3)\n",
      "Iter 1/50 \n",
      "M step: done,  E step: done //  (in 2.54 sec)\tlogL: -9662.530\t\n",
      "Iter 2/50 \n",
      "M step: done,  E step: done //  (in 1.07 sec)\tlogL: -9183.833\tTol1: 0.04954\tTol2: 0.13022\t\n",
      "Iter 3/50 \n",
      "M step: done,  E step: done //  (in 1.07 sec)\tlogL: -8970.225\tTol1: 0.02326\tTol2: 0.03249\t\n",
      "Iter 4/50 \n",
      "M step: done,  E step: done //  (in 1.07 sec)\tlogL: -8809.061\tTol1: 0.01797\tTol2: 0.01592\t\n",
      "Finished training\n",
      "Multiples runs over Raykar, Epochs to converge=  4.0\n"
     ]
    }
   ],
   "source": [
    "raykarMC = RaykarMC(Xstd_train.shape[1:],y_obs_categorical.shape[-1],T,epochs=1,optimizer=OPT,DTYPE_OP=DTYPE_OP)\n",
    "raykarMC.define_model(\"mlp\",128,1,BatchN=True,drop=0.5) #otro\n",
    "\n",
    "logL_hists,i_r = raykarMC.multiples_run(20,Xstd_train,y_obs_categorical,batch_size=BATCH_SIZE,max_iter=EPOCHS_BASE,\n",
    "                                     tolerance=TOL)"
   ]
  },
  {
   "cell_type": "code",
   "execution_count": 98,
   "metadata": {},
   "outputs": [],
   "source": [
    "Z_train_p = raykarMC.get_predictions(Xstd_train)\n",
    "Z_train_pred =Z_train_p.argmax(axis=-1)\n",
    "Z_val_pred = raykarMC.get_predictions(Xstd_val).argmax(axis=-1)\n",
    "Z_test_pred = raykarMC.get_predictions(Xstd_test).argmax(axis=-1)"
   ]
  },
  {
   "cell_type": "markdown",
   "metadata": {},
   "source": [
    "### Our Proposed"
   ]
  },
  {
   "cell_type": "code",
   "execution_count": 15,
   "metadata": {},
   "outputs": [],
   "source": [
    "from code.MixtureofGroups import GroupMixtureGlo, GroupMixtureInd"
   ]
  },
  {
   "cell_type": "code",
   "execution_count": 16,
   "metadata": {},
   "outputs": [
    {
     "name": "stdout",
     "output_type": "stream",
     "text": [
      "vector of repeats:\n",
      " [[0 0 1 1]\n",
      " [1 2 0 0]\n",
      " [0 0 2 1]\n",
      " ...\n",
      " [1 0 0 1]\n",
      " [0 1 0 0]\n",
      " [2 0 0 0]]\n",
      "shape: (17363, 4)\n"
     ]
    }
   ],
   "source": [
    "\"\"\" AÑADIR A ARCHIVO GROUPS...\"\"\"\n",
    "def define_uniform_groups(power, r, M):\n",
    "    R_total = r.sum()\n",
    "    uniform_groups = np.asarray([power*R_total/M for _ in range(M)])\n",
    "    return uniform_groups\n",
    "\n",
    "\n",
    "#get our representation \n",
    "r_obs = set_representation(y_obs,\"repeat\")\n",
    "#r_obs = label_I.y_obs_repeat.copy()\n",
    "\n",
    "confe_matrix_G = get_Global_confusionM(Z_train,r_obs)\n",
    "\n",
    "print(\"vector of repeats:\\n\",r_obs)\n",
    "print(\"shape:\",r_obs.shape)"
   ]
  },
  {
   "cell_type": "code",
   "execution_count": 17,
   "metadata": {},
   "outputs": [
    {
     "name": "stdout",
     "output_type": "stream",
     "text": [
      "Normalized entropy (0-1) of repeats annotations: 0.2558561957295823\n"
     ]
    },
    {
     "data": {
      "image/png": "[encoded data removed]",
      "text/plain": [
       "<Figure size 432x288 with 1 Axes>"
      ]
     },
     "metadata": {
      "needs_background": "light"
     },
     "output_type": "display_data"
    }
   ],
   "source": [
    "mv_soft = majority_voting(r_obs,repeats=True,probas=True) \n",
    "aux = []\n",
    "for example in mv_soft:\n",
    "    aux.append(entropy(example)/np.log(Kl))\n",
    "print(\"Normalized entropy (0-1) of repeats annotations:\",np.mean(aux))\n",
    "\n",
    "from code.MixtureofGroups import *\n",
    "predicted = np.clip(mv_soft, keras.backend.epsilon(), 1.)\n",
    "data_to_cluster = []\n",
    "for i in range(mv_soft.shape[0]):\n",
    "    for j in range(mv_soft.shape[1]):\n",
    "        ob = np.tile(keras.backend.epsilon(), mv_soft.shape[1])\n",
    "        ob[j] = 1\n",
    "        true = np.clip(predicted[i],keras.backend.epsilon(),1.)      \n",
    "        f_l = distance_function(true, ob)  #funcion de distancia o similaridad\n",
    "        data_to_cluster.append(f_l)  \n",
    "data_to_cluster = np.asarray(data_to_cluster)\n",
    "model = PCA(n_components=min(3,mv_soft.shape[0]) ) \n",
    "data_to_cluster = model.fit_transform(data_to_cluster)\n",
    "\n",
    "std = StandardScaler(with_mean=True,with_std=True)\n",
    "data_to_plot = std.fit_transform(data_to_cluster)\n",
    "plt.scatter(data_to_plot[:,0],data_to_plot[:,1])\n",
    "plt.show()"
   ]
  },
  {
   "cell_type": "markdown",
   "metadata": {},
   "source": [
    "There is low entropy (information), maybe there is only a few groups in this dataset, the possible of different behavior is low."
   ]
  },
  {
   "cell_type": "code",
   "execution_count": 21,
   "metadata": {
    "scrolled": true
   },
   "outputs": [
    {
     "name": "stdout",
     "output_type": "stream",
     "text": [
      "Needed params (units,deep,drop,BatchN?)\n",
      "Initializing new EM...\n",
      "Doing clustering...Done!\n",
      "Get init alphas in 0.041659 mins\n",
      "Lambda by group:  [1. 1. 1. 1. 1.]\n",
      "Alphas:  (5,)\n",
      "MV init:  (17363, 4)\n",
      "Betas:  (5, 4, 4)\n",
      "Q estimate:  (17363, 4, 5, 4)\n",
      "Iter 1/0\n",
      "M step: done,  E step: done //  (in 1.06 sec)\tlogL: -67392.492\t\n",
      "Finished training!\n"
     ]
    },
    {
     "data": {
      "image/png": "[encoded data removed]",
      "text/plain": [
       "<Figure size 432x288 with 1 Axes>"
      ]
     },
     "metadata": {
      "needs_background": "light"
     },
     "output_type": "display_data"
    },
    {
     "data": {
      "image/png": "[encoded data removed]",
      "text/plain": [
       "<Figure size 432x288 with 1 Axes>"
      ]
     },
     "metadata": {
      "needs_background": "light"
     },
     "output_type": "display_data"
    }
   ],
   "source": [
    "gMixture_Global = GroupMixtureGlo(Xstd_train.shape[1:],Kl=r_obs.shape[1],M=5,epochs=0,optimizer=OPT,dtype_op=DTYPE_OP) \n",
    "gMixture_Global.define_model(\"mlp\",128,1,BatchN=True,drop=0.5)\n",
    "gMixture_Global.lambda_random = True \n",
    "logL_hists,i_r = gMixture_Global.multiples_run(1,Xstd_train,r_obs,batch_size=BATCH_SIZE,max_iter=0,tolerance=TOL)\n",
    "\n",
    "aux = gMixture_Global.alpha_init.sum(axis=1).sum(axis=0)\n",
    "plt.bar(np.arange(gMixture_Global.M),aux)\n",
    "plt.show()\n",
    "gMixture_Global.get_alpha()\n",
    "plt.bar(np.arange(gMixture_Global.M),gMixture_Global.get_alpha())\n",
    "plt.show()"
   ]
  },
  {
   "cell_type": "code",
   "execution_count": 20,
   "metadata": {},
   "outputs": [
    {
     "name": "stdout",
     "output_type": "stream",
     "text": [
      "459\n"
     ]
    },
    {
     "ename": "NameError",
     "evalue": "name 'logL_Mchange' is not defined",
     "output_type": "error",
     "traceback": [
      "\u001b[0;31m---------------------------------------------------------------------------\u001b[0m",
      "\u001b[0;31mNameError\u001b[0m                                 Traceback (most recent call last)",
      "\u001b[0;32m<ipython-input-20-8d67406fc568>\u001b[0m in \u001b[0;36m<module>\u001b[0;34m()\u001b[0m\n\u001b[1;32m      1\u001b[0m \u001b[0;31m#T if i know T\u001b[0m\u001b[0;34m\u001b[0m\u001b[0;34m\u001b[0m\u001b[0m\n\u001b[1;32m      2\u001b[0m \u001b[0mprint\u001b[0m\u001b[0;34m(\u001b[0m\u001b[0mT\u001b[0m\u001b[0;34m)\u001b[0m\u001b[0;34m\u001b[0m\u001b[0m\n\u001b[0;32m----> 3\u001b[0;31m \u001b[0mM_values\u001b[0m \u001b[0;34m=\u001b[0m \u001b[0mrange\u001b[0m\u001b[0;34m(\u001b[0m\u001b[0;36m1\u001b[0m\u001b[0;34m,\u001b[0m\u001b[0;36m1\u001b[0m\u001b[0;34m+\u001b[0m\u001b[0mlen\u001b[0m\u001b[0;34m(\u001b[0m\u001b[0mlogL_Mchange\u001b[0m\u001b[0;34m)\u001b[0m\u001b[0;34m)\u001b[0m\u001b[0;34m\u001b[0m\u001b[0m\n\u001b[0m\u001b[1;32m      4\u001b[0m \u001b[0mt\u001b[0m \u001b[0;34m=\u001b[0m \u001b[0mpd\u001b[0m\u001b[0;34m.\u001b[0m\u001b[0mDataFrame\u001b[0m\u001b[0;34m(\u001b[0m\u001b[0;34m)\u001b[0m\u001b[0;34m\u001b[0m\u001b[0m\n\u001b[1;32m      5\u001b[0m \u001b[0mt\u001b[0m\u001b[0;34m[\u001b[0m\u001b[0;34m\"#Groups\"\u001b[0m\u001b[0;34m]\u001b[0m \u001b[0;34m=\u001b[0m \u001b[0mM_values\u001b[0m\u001b[0;34m\u001b[0m\u001b[0m\n",
      "\u001b[0;31mNameError\u001b[0m: name 'logL_Mchange' is not defined"
     ]
    }
   ],
   "source": [
    "#T if i know T\n",
    "print(T)\n",
    "M_values = range(1,1+len(logL_Mchange))\n",
    "t = pd.DataFrame()\n",
    "t[\"#Groups\"] = M_values\n",
    "t[\">=1 annotator\"] = [ np.sum(probas*T >= 1) for probas in probas_Mchange]\n",
    "t[\">=2 annotator\"] = [ np.sum(probas*T >= 2) for probas in probas_Mchange] #si agrupa al menos tiene 2\n",
    "t[\"Used on annotators\"] = [ len(np.unique(prob_Gt.argmax(axis=1))) for prob_Gt in probGt_Mchange ]#based on p(g|t)\n",
    "t[\"Used on annotators limit >=0.01\"] = [ np.sum(prob_Gt.max(axis=0)>=0.01) for prob_Gt in probGt_Mchange ]#based on p(g|t)\n",
    "t[\"Used on annotators limit >=0.05\"] = [ np.sum(prob_Gt.max(axis=0)>=0.05) for prob_Gt in probGt_Mchange ]#based on p(g|t)\n",
    "t"
   ]
  },
  {
   "cell_type": "markdown",
   "metadata": {},
   "source": [
    "1, 2 o 3..."
   ]
  },
  {
   "cell_type": "code",
   "execution_count": 22,
   "metadata": {},
   "outputs": [],
   "source": [
    "M_seted = 3 #??\n",
    "\n",
    "uniform = False\n",
    "if uniform:\n",
    "    uniform_groups = define_uniform_groups(0.1, r_obs, M_seted)\n",
    "    print(uniform_groups)"
   ]
  },
  {
   "cell_type": "code",
   "execution_count": 46,
   "metadata": {
    "scrolled": true
   },
   "outputs": [
    {
     "name": "stdout",
     "output_type": "stream",
     "text": [
      "Needed params (units,deep,drop,BatchN?)\n",
      "Initializing new EM...\n",
      "Doing clustering...Done!\n",
      "Get init alphas in 0.042834 mins\n",
      "Lambda by group:  [1. 1. 1.]\n",
      "Alphas:  (3,)\n",
      "MV init:  (17363, 4)\n",
      "Betas:  (3, 4, 4)\n",
      "Q estimate:  (17363, 4, 3, 4)\n",
      "Iter 1/50\n",
      "M step: done,  E step: done //  (in 2.70 sec)\tlogL: -37012.846\t\n",
      "Iter 2/50\n",
      "M step: done,  E step: done //  (in 1.02 sec)\tlogL: -35725.662\tTol1: 0.03478\tTol2: 0.28192\tTol3: 0.04649\t\n",
      "Iter 3/50\n",
      "M step: done,  E step: done //  (in 1.02 sec)\tlogL: -35213.923\tTol1: 0.01432\tTol2: 0.17259\tTol3: 0.01718\t\n",
      "Iter 4/50\n",
      "M step: done,  E step: done //  (in 1.04 sec)\tlogL: -34908.222\tTol1: 0.00868\tTol2: 0.12434\tTol3: 0.00878\t\n",
      "Iter 5/50\n",
      "M step: done,  E step: done //  (in 1.01 sec)\tlogL: -34682.409\tTol1: 0.00647\tTol2: 0.10822\tTol3: 0.00197\t\n",
      "Iter 6/50\n",
      "M step: done,  E step: done //  (in 1.03 sec)\tlogL: -34369.460\tTol1: 0.00902\tTol2: 0.08851\tTol3: 0.00704\t\n",
      "Iter 7/50\n",
      "M step: done,  E step: done //  (in 1.03 sec)\tlogL: -34231.242\tTol1: 0.00402\tTol2: 0.06899\tTol3: 0.00600\t\n",
      "Iter 8/50\n",
      "M step: done,  E step: done //  (in 1.04 sec)\tlogL: -34023.925\tTol1: 0.00606\tTol2: 0.06651\tTol3: 0.00601\t\n",
      "Iter 9/50\n",
      "M step: done,  E step: done //  (in 1.03 sec)\tlogL: -33834.064\tTol1: 0.00558\tTol2: 0.06456\tTol3: 0.00998\t\n",
      "Iter 10/50\n",
      "M step: done,  E step: done //  (in 1.03 sec)\tlogL: -33668.727\tTol1: 0.00489\tTol2: 0.06870\tTol3: 0.00965\t\n",
      "Iter 11/50\n",
      "M step: done,  E step: done //  (in 1.03 sec)\tlogL: -33401.922\tTol1: 0.00792\tTol2: 0.06630\tTol3: 0.00413\t\n",
      "Iter 12/50\n",
      "M step: done,  E step: done //  (in 1.04 sec)\tlogL: -33147.655\tTol1: 0.00761\tTol2: 0.06419\tTol3: 0.01758\t\n",
      "Iter 13/50\n",
      "M step: done,  E step: done //  (in 1.02 sec)\tlogL: -32981.727\tTol1: 0.00501\tTol2: 0.04356\tTol3: 0.01321\t\n",
      "Finished training!\n",
      "Initializing new EM...\n",
      "Doing clustering...Done!\n",
      "Get init alphas in 0.041481 mins\n",
      "Lambda by group:  [1. 1. 1.]\n",
      "Alphas:  (3,)\n",
      "MV init:  (17363, 4)\n",
      "Betas:  (3, 4, 4)\n",
      "Q estimate:  (17363, 4, 3, 4)\n",
      "Iter 1/50\n",
      "M step: done,  E step: done //  (in 2.34 sec)\tlogL: -36902.390\t\n",
      "Iter 2/50\n",
      "M step: done,  E step: done //  (in 1.02 sec)\tlogL: -35664.455\tTol1: 0.03355\tTol2: 0.28413\tTol3: 0.05533\t\n",
      "Iter 3/50\n",
      "M step: done,  E step: done //  (in 1.03 sec)\tlogL: -35218.830\tTol1: 0.01249\tTol2: 0.17975\tTol3: 0.00301\t\n",
      "Iter 4/50\n",
      "M step: done,  E step: done //  (in 1.02 sec)\tlogL: -34897.234\tTol1: 0.00913\tTol2: 0.13286\tTol3: 0.00358\t\n",
      "Iter 5/50\n",
      "M step: done,  E step: done //  (in 1.03 sec)\tlogL: -34708.841\tTol1: 0.00540\tTol2: 0.09558\tTol3: 0.00387\t\n",
      "Iter 6/50\n",
      "M step: done,  E step: done //  (in 1.01 sec)\tlogL: -34439.588\tTol1: 0.00776\tTol2: 0.08952\tTol3: 0.00891\t\n",
      "Iter 7/50\n",
      "M step: done,  E step: done //  (in 1.01 sec)\tlogL: -34198.637\tTol1: 0.00700\tTol2: 0.06559\tTol3: 0.00547\t\n",
      "Iter 8/50\n",
      "M step: done,  E step: done //  (in 1.03 sec)\tlogL: -33941.743\tTol1: 0.00751\tTol2: 0.05582\tTol3: 0.00389\t\n",
      "Iter 9/50\n",
      "M step: done,  E step: done //  (in 1.03 sec)\tlogL: -33777.513\tTol1: 0.00484\tTol2: 0.06080\tTol3: 0.01074\t\n",
      "Iter 10/50\n",
      "M step: done,  E step: done //  (in 1.04 sec)\tlogL: -33552.003\tTol1: 0.00668\tTol2: 0.04571\tTol3: 0.00575\t\n",
      "Finished training!\n",
      "Initializing new EM...\n",
      "Doing clustering...Done!\n",
      "Get init alphas in 0.042276 mins\n",
      "Lambda by group:  [1. 1. 1.]\n",
      "Alphas:  (3,)\n",
      "MV init:  (17363, 4)\n",
      "Betas:  (3, 4, 4)\n",
      "Q estimate:  (17363, 4, 3, 4)\n",
      "Iter 1/50\n",
      "M step: done,  E step: done //  (in 2.34 sec)\tlogL: -36960.519\t\n",
      "Iter 2/50\n",
      "M step: done,  E step: done //  (in 1.01 sec)\tlogL: -35736.063\tTol1: 0.03313\tTol2: 0.29251\tTol3: 0.06850\t\n",
      "Iter 3/50\n",
      "M step: done,  E step: done //  (in 1.01 sec)\tlogL: -35183.401\tTol1: 0.01547\tTol2: 0.19907\tTol3: 0.02549\t\n",
      "Iter 4/50\n",
      "M step: done,  E step: done //  (in 1.02 sec)\tlogL: -34931.569\tTol1: 0.00716\tTol2: 0.12943\tTol3: 0.01069\t\n",
      "Iter 5/50\n",
      "M step: done,  E step: done //  (in 1.03 sec)\tlogL: -34639.951\tTol1: 0.00835\tTol2: 0.13074\tTol3: 0.01244\t\n",
      "Iter 6/50\n",
      "M step: done,  E step: done //  (in 1.04 sec)\tlogL: -34365.449\tTol1: 0.00792\tTol2: 0.08813\tTol3: 0.00899\t\n",
      "Iter 7/50\n",
      "M step: done,  E step: done //  (in 1.02 sec)\tlogL: -34147.226\tTol1: 0.00635\tTol2: 0.08881\tTol3: 0.00569\t\n",
      "Iter 8/50\n",
      "M step: done,  E step: done //  (in 1.01 sec)\tlogL: -33905.537\tTol1: 0.00708\tTol2: 0.06678\tTol3: 0.00628\t\n",
      "Iter 9/50\n",
      "M step: done,  E step: done //  (in 1.01 sec)\tlogL: -33691.493\tTol1: 0.00631\tTol2: 0.06605\tTol3: 0.01655\t\n",
      "Iter 10/50\n",
      "M step: done,  E step: done //  (in 1.03 sec)\tlogL: -33466.639\tTol1: 0.00667\tTol2: 0.06298\tTol3: 0.01874\t\n",
      "Iter 11/50\n",
      "M step: done,  E step: done //  (in 1.03 sec)\tlogL: -33311.022\tTol1: 0.00465\tTol2: 0.05496\tTol3: 0.01519\t\n",
      "Iter 12/50\n",
      "M step: done,  E step: done //  (in 1.03 sec)\tlogL: -33010.439\tTol1: 0.00902\tTol2: 0.05402\tTol3: 0.02142\t\n",
      "Iter 13/50\n",
      "M step: done,  E step: done //  (in 1.02 sec)\tlogL: -32801.993\tTol1: 0.00631\tTol2: 0.05544\tTol3: 0.01009\t\n",
      "Iter 14/50\n",
      "M step: done,  E step: done //  (in 1.02 sec)\tlogL: -32575.069\tTol1: 0.00692\tTol2: 0.04040\tTol3: 0.00509\t\n",
      "Finished training!\n",
      "Initializing new EM...\n",
      "Doing clustering...Done!\n",
      "Get init alphas in 0.039304 mins\n",
      "Lambda by group:  [1. 1. 1.]\n",
      "Alphas:  (3,)\n",
      "MV init:  (17363, 4)\n",
      "Betas:  (3, 4, 4)\n",
      "Q estimate:  (17363, 4, 3, 4)\n",
      "Iter 1/50\n",
      "M step: done,  E step: done //  (in 2.34 sec)\tlogL: -37421.083\t\n",
      "Iter 2/50\n",
      "M step: done,  E step: done //  (in 1.01 sec)\tlogL: -35779.037\tTol1: 0.04388\tTol2: 0.33427\tTol3: 0.07401\t\n",
      "Iter 3/50\n",
      "M step: done,  E step: done //  (in 1.02 sec)\tlogL: -35224.544\tTol1: 0.01550\tTol2: 0.18306\tTol3: 0.02265\t\n",
      "Iter 4/50\n",
      "M step: done,  E step: done //  (in 1.04 sec)\tlogL: -34971.843\tTol1: 0.00717\tTol2: 0.12249\tTol3: 0.00983\t\n",
      "Iter 5/50\n",
      "M step: done,  E step: done //  (in 1.03 sec)\tlogL: -34730.337\tTol1: 0.00691\tTol2: 0.10350\tTol3: 0.01127\t\n",
      "Iter 6/50\n",
      "M step: done,  E step: done //  (in 1.02 sec)\tlogL: -34475.039\tTol1: 0.00735\tTol2: 0.09403\tTol3: 0.00568\t\n",
      "Iter 7/50\n",
      "M step: done,  E step: done //  (in 1.03 sec)\tlogL: -34307.009\tTol1: 0.00487\tTol2: 0.07229\tTol3: 0.01146\t\n",
      "Iter 8/50\n",
      "M step: done,  E step: done //  (in 1.02 sec)\tlogL: -34071.120\tTol1: 0.00688\tTol2: 0.08171\tTol3: 0.01308\t\n",
      "Iter 9/50\n",
      "M step: done,  E step: done //  (in 1.02 sec)\tlogL: -33792.601\tTol1: 0.00817\tTol2: 0.07590\tTol3: 0.01876\t\n",
      "Iter 10/50\n",
      "M step: done,  E step: done //  (in 1.02 sec)\tlogL: -33531.424\tTol1: 0.00773\tTol2: 0.07278\tTol3: 0.00931\t\n",
      "Iter 11/50\n",
      "M step: done,  E step: done //  (in 1.02 sec)\tlogL: -33364.836\tTol1: 0.00497\tTol2: 0.05507\tTol3: 0.01159\t\n",
      "Iter 12/50\n",
      "M step: done,  E step: done //  (in 1.02 sec)\tlogL: -33068.185\tTol1: 0.00889\tTol2: 0.05128\tTol3: 0.00881\t\n",
      "Iter 13/50\n",
      "M step: done,  E step: done //  (in 1.01 sec)\tlogL: -32906.071\tTol1: 0.00490\tTol2: 0.05994\tTol3: 0.00658\t\n",
      "Iter 14/50\n",
      "M step: done,  E step: done //  (in 1.03 sec)\tlogL: -32638.856\tTol1: 0.00812\tTol2: 0.05583\tTol3: 0.00865\t\n",
      "Iter 15/50\n",
      "M step: done,  E step: done //  (in 1.03 sec)\tlogL: -32461.849\tTol1: 0.00542\tTol2: 0.04138\tTol3: 0.00853\t\n",
      "Finished training!\n",
      "Initializing new EM...\n",
      "Doing clustering...Done!\n",
      "Get init alphas in 0.039257 mins\n",
      "Lambda by group:  [1. 1. 1.]\n",
      "Alphas:  (3,)\n",
      "MV init:  (17363, 4)\n",
      "Betas:  (3, 4, 4)\n",
      "Q estimate:  (17363, 4, 3, 4)\n",
      "Iter 1/50\n",
      "M step: done,  E step: done //  (in 2.36 sec)\tlogL: -37097.993\t\n",
      "Iter 2/50\n",
      "M step: done,  E step: done //  (in 1.01 sec)\tlogL: -35818.683\tTol1: 0.03448\tTol2: 0.27706\tTol3: 0.07364\t\n",
      "Iter 3/50\n",
      "M step: done,  E step: done //  (in 1.02 sec)\tlogL: -35167.343\tTol1: 0.01818\tTol2: 0.19717\tTol3: 0.01678\t\n",
      "Iter 4/50\n",
      "M step: done,  E step: done //  (in 1.03 sec)\tlogL: -34840.819\tTol1: 0.00928\tTol2: 0.12793\tTol3: 0.00423\t\n",
      "Iter 5/50\n",
      "M step: done,  E step: done //  (in 1.01 sec)\tlogL: -34574.899\tTol1: 0.00763\tTol2: 0.09824\tTol3: 0.00236\t\n",
      "Iter 6/50\n",
      "M step: done,  E step: done //  (in 1.02 sec)\tlogL: -34356.586\tTol1: 0.00631\tTol2: 0.08973\tTol3: 0.00754\t\n",
      "Iter 7/50\n",
      "M step: done,  E step: done //  (in 1.01 sec)\tlogL: -34161.252\tTol1: 0.00569\tTol2: 0.07008\tTol3: 0.00443\t\n",
      "Iter 8/50\n",
      "M step: done,  E step: done //  (in 1.04 sec)\tlogL: -33910.643\tTol1: 0.00734\tTol2: 0.08760\tTol3: 0.00828\t\n",
      "Iter 9/50\n",
      "M step: done,  E step: done //  (in 1.01 sec)\tlogL: -33681.928\tTol1: 0.00674\tTol2: 0.06487\tTol3: 0.01100\t\n",
      "Iter 10/50\n",
      "M step: done,  E step: done //  (in 1.03 sec)\tlogL: -33452.658\tTol1: 0.00681\tTol2: 0.06254\tTol3: 0.01258\t\n",
      "Iter 11/50\n"
     ]
    },
    {
     "name": "stdout",
     "output_type": "stream",
     "text": [
      "M step: done,  E step: done //  (in 1.02 sec)\tlogL: -33198.446\tTol1: 0.00760\tTol2: 0.04332\tTol3: 0.00886\t\n",
      "Finished training!\n",
      "Initializing new EM...\n",
      "Doing clustering...Done!\n",
      "Get init alphas in 0.042497 mins\n",
      "Lambda by group:  [1. 1. 1.]\n",
      "Alphas:  (3,)\n",
      "MV init:  (17363, 4)\n",
      "Betas:  (3, 4, 4)\n",
      "Q estimate:  (17363, 4, 3, 4)\n",
      "Iter 1/50\n",
      "M step: done,  E step: done //  (in 2.34 sec)\tlogL: -36967.598\t\n",
      "Iter 2/50\n",
      "M step: done,  E step: done //  (in 1.02 sec)\tlogL: -35642.216\tTol1: 0.03585\tTol2: 0.27766\tTol3: 0.07463\t\n",
      "Iter 3/50\n",
      "M step: done,  E step: done //  (in 1.02 sec)\tlogL: -35202.201\tTol1: 0.01235\tTol2: 0.18444\tTol3: 0.01396\t\n",
      "Iter 4/50\n",
      "M step: done,  E step: done //  (in 1.02 sec)\tlogL: -34912.720\tTol1: 0.00822\tTol2: 0.13590\tTol3: 0.00890\t\n",
      "Iter 5/50\n",
      "M step: done,  E step: done //  (in 1.02 sec)\tlogL: -34689.353\tTol1: 0.00640\tTol2: 0.09120\tTol3: 0.00411\t\n",
      "Iter 6/50\n",
      "M step: done,  E step: done //  (in 1.02 sec)\tlogL: -34438.337\tTol1: 0.00724\tTol2: 0.09371\tTol3: 0.01113\t\n",
      "Iter 7/50\n",
      "M step: done,  E step: done //  (in 1.05 sec)\tlogL: -34207.836\tTol1: 0.00669\tTol2: 0.06962\tTol3: 0.00388\t\n",
      "Iter 8/50\n",
      "M step: done,  E step: done //  (in 1.02 sec)\tlogL: -34002.783\tTol1: 0.00599\tTol2: 0.06418\tTol3: 0.00547\t\n",
      "Iter 9/50\n",
      "M step: done,  E step: done //  (in 1.03 sec)\tlogL: -33770.765\tTol1: 0.00682\tTol2: 0.06800\tTol3: 0.01415\t\n",
      "Iter 10/50\n",
      "M step: done,  E step: done //  (in 1.03 sec)\tlogL: -33563.060\tTol1: 0.00615\tTol2: 0.04550\tTol3: 0.00332\t\n",
      "Finished training!\n",
      "Initializing new EM...\n",
      "Doing clustering...Done!\n",
      "Get init alphas in 0.043012 mins\n",
      "Lambda by group:  [1. 1. 1.]\n",
      "Alphas:  (3,)\n",
      "MV init:  (17363, 4)\n",
      "Betas:  (3, 4, 4)\n",
      "Q estimate:  (17363, 4, 3, 4)\n",
      "Iter 1/50\n",
      "M step: done,  E step: done //  (in 2.35 sec)\tlogL: -36913.383\t\n",
      "Iter 2/50\n",
      "M step: done,  E step: done //  (in 1.03 sec)\tlogL: -35565.340\tTol1: 0.03652\tTol2: 0.28111\tTol3: 0.05250\t\n",
      "Iter 3/50\n",
      "M step: done,  E step: done //  (in 1.03 sec)\tlogL: -35136.168\tTol1: 0.01207\tTol2: 0.16223\tTol3: 0.00609\t\n",
      "Iter 4/50\n",
      "M step: done,  E step: done //  (in 1.01 sec)\tlogL: -34845.031\tTol1: 0.00829\tTol2: 0.13107\tTol3: 0.01152\t\n",
      "Iter 5/50\n",
      "M step: done,  E step: done //  (in 1.03 sec)\tlogL: -34599.611\tTol1: 0.00704\tTol2: 0.09803\tTol3: 0.00832\t\n",
      "Iter 6/50\n",
      "M step: done,  E step: done //  (in 1.02 sec)\tlogL: -34354.691\tTol1: 0.00708\tTol2: 0.07434\tTol3: 0.00275\t\n",
      "Iter 7/50\n",
      "M step: done,  E step: done //  (in 1.02 sec)\tlogL: -34153.914\tTol1: 0.00584\tTol2: 0.07101\tTol3: 0.00471\t\n",
      "Iter 8/50\n",
      "M step: done,  E step: done //  (in 1.02 sec)\tlogL: -33908.989\tTol1: 0.00717\tTol2: 0.07653\tTol3: 0.00859\t\n",
      "Iter 9/50\n",
      "M step: done,  E step: done //  (in 1.02 sec)\tlogL: -33642.298\tTol1: 0.00786\tTol2: 0.05787\tTol3: 0.00984\t\n",
      "Iter 10/50\n",
      "M step: done,  E step: done //  (in 1.03 sec)\tlogL: -33448.286\tTol1: 0.00577\tTol2: 0.05245\tTol3: 0.01002\t\n",
      "Iter 11/50\n",
      "M step: done,  E step: done //  (in 1.02 sec)\tlogL: -33320.551\tTol1: 0.00382\tTol2: 0.06004\tTol3: 0.01600\t\n",
      "Iter 12/50\n",
      "M step: done,  E step: done //  (in 1.03 sec)\tlogL: -33093.985\tTol1: 0.00680\tTol2: 0.06910\tTol3: 0.02231\t\n",
      "Iter 13/50\n",
      "M step: done,  E step: done //  (in 1.02 sec)\tlogL: -32762.597\tTol1: 0.01001\tTol2: 0.04775\tTol3: 0.00875\t\n",
      "Finished training!\n",
      "Initializing new EM...\n",
      "Doing clustering...Done!\n",
      "Get init alphas in 0.042900 mins\n",
      "Lambda by group:  [1. 1. 1.]\n",
      "Alphas:  (3,)\n",
      "MV init:  (17363, 4)\n",
      "Betas:  (3, 4, 4)\n",
      "Q estimate:  (17363, 4, 3, 4)\n",
      "Iter 1/50\n",
      "M step: done,  E step: done //  (in 2.36 sec)\tlogL: -36867.012\t\n",
      "Iter 2/50\n",
      "M step: done,  E step: done //  (in 1.01 sec)\tlogL: -35641.627\tTol1: 0.03324\tTol2: 0.27784\tTol3: 0.06851\t\n",
      "Iter 3/50\n",
      "M step: done,  E step: done //  (in 1.01 sec)\tlogL: -35199.590\tTol1: 0.01240\tTol2: 0.19067\tTol3: 0.02038\t\n",
      "Iter 4/50\n",
      "M step: done,  E step: done //  (in 1.03 sec)\tlogL: -34864.897\tTol1: 0.00951\tTol2: 0.13141\tTol3: 0.00475\t\n",
      "Iter 5/50\n",
      "M step: done,  E step: done //  (in 1.01 sec)\tlogL: -34651.047\tTol1: 0.00613\tTol2: 0.10334\tTol3: 0.00844\t\n",
      "Iter 6/50\n",
      "M step: done,  E step: done //  (in 1.03 sec)\tlogL: -34449.100\tTol1: 0.00583\tTol2: 0.09011\tTol3: 0.00941\t\n",
      "Iter 7/50\n",
      "M step: done,  E step: done //  (in 1.03 sec)\tlogL: -34204.224\tTol1: 0.00711\tTol2: 0.07691\tTol3: 0.01395\t\n",
      "Iter 8/50\n",
      "M step: done,  E step: done //  (in 1.02 sec)\tlogL: -34004.928\tTol1: 0.00583\tTol2: 0.06259\tTol3: 0.00745\t\n",
      "Iter 9/50\n",
      "M step: done,  E step: done //  (in 1.01 sec)\tlogL: -33757.112\tTol1: 0.00729\tTol2: 0.06147\tTol3: 0.01401\t\n",
      "Iter 10/50\n",
      "M step: done,  E step: done //  (in 1.03 sec)\tlogL: -33526.142\tTol1: 0.00684\tTol2: 0.05556\tTol3: 0.01586\t\n",
      "Iter 11/50\n",
      "M step: done,  E step: done //  (in 1.03 sec)\tlogL: -33388.897\tTol1: 0.00409\tTol2: 0.05147\tTol3: 0.00949\t\n",
      "Iter 12/50\n",
      "M step: done,  E step: done //  (in 1.03 sec)\tlogL: -33091.678\tTol1: 0.00890\tTol2: 0.06002\tTol3: 0.01203\t\n",
      "Iter 13/50\n",
      "M step: done,  E step: done //  (in 1.02 sec)\tlogL: -32826.056\tTol1: 0.00803\tTol2: 0.05332\tTol3: 0.01612\t\n",
      "Iter 14/50\n",
      "M step: done,  E step: done //  (in 1.03 sec)\tlogL: -32580.824\tTol1: 0.00747\tTol2: 0.04983\tTol3: 0.00879\t\n",
      "Finished training!\n",
      "Initializing new EM...\n",
      "Doing clustering...Done!\n",
      "Get init alphas in 0.041670 mins\n",
      "Lambda by group:  [1. 1. 1.]\n",
      "Alphas:  (3,)\n",
      "MV init:  (17363, 4)\n",
      "Betas:  (3, 4, 4)\n",
      "Q estimate:  (17363, 4, 3, 4)\n",
      "Iter 1/50\n",
      "M step: done,  E step: done //  (in 2.33 sec)\tlogL: -36861.081\t\n",
      "Iter 2/50\n",
      "M step: done,  E step: done //  (in 1.02 sec)\tlogL: -35590.903\tTol1: 0.03446\tTol2: 0.27291\tTol3: 0.05848\t\n",
      "Iter 3/50\n",
      "M step: done,  E step: done //  (in 1.02 sec)\tlogL: -35128.309\tTol1: 0.01300\tTol2: 0.18649\tTol3: 0.00589\t\n",
      "Iter 4/50\n",
      "M step: done,  E step: done //  (in 1.03 sec)\tlogL: -34821.329\tTol1: 0.00874\tTol2: 0.13145\tTol3: 0.00535\t\n",
      "Iter 5/50\n",
      "M step: done,  E step: done //  (in 1.01 sec)\tlogL: -34569.574\tTol1: 0.00723\tTol2: 0.10145\tTol3: 0.00837\t\n",
      "Iter 6/50\n",
      "M step: done,  E step: done //  (in 1.04 sec)\tlogL: -34398.477\tTol1: 0.00495\tTol2: 0.08885\tTol3: 0.01130\t\n",
      "Iter 7/50\n",
      "M step: done,  E step: done //  (in 1.03 sec)\tlogL: -34199.123\tTol1: 0.00580\tTol2: 0.07431\tTol3: 0.00801\t\n",
      "Iter 8/50\n",
      "M step: done,  E step: done //  (in 1.03 sec)\tlogL: -33922.067\tTol1: 0.00810\tTol2: 0.07612\tTol3: 0.01661\t\n",
      "Iter 9/50\n",
      "M step: done,  E step: done //  (in 1.02 sec)\tlogL: -33671.136\tTol1: 0.00740\tTol2: 0.06520\tTol3: 0.00818\t\n",
      "Iter 10/50\n",
      "M step: done,  E step: done //  (in 1.03 sec)\tlogL: -33484.257\tTol1: 0.00555\tTol2: 0.05450\tTol3: 0.01213\t\n",
      "Iter 11/50\n",
      "M step: done,  E step: done //  (in 1.02 sec)\tlogL: -33215.196\tTol1: 0.00804\tTol2: 0.05869\tTol3: 0.01400\t\n",
      "Iter 12/50\n",
      "M step: done,  E step: done //  (in 1.02 sec)\tlogL: -33023.542\tTol1: 0.00577\tTol2: 0.06589\tTol3: 0.00890\t\n",
      "Iter 13/50\n",
      "M step: done,  E step: done //  (in 1.02 sec)\tlogL: -32741.422\tTol1: 0.00854\tTol2: 0.04613\tTol3: 0.00833\t\n",
      "Finished training!\n",
      "Initializing new EM...\n",
      "Doing clustering...Done!\n",
      "Get init alphas in 0.041502 mins\n",
      "Lambda by group:  [1. 1. 1.]\n",
      "Alphas:  (3,)\n",
      "MV init:  (17363, 4)\n",
      "Betas:  (3, 4, 4)\n",
      "Q estimate:  (17363, 4, 3, 4)\n",
      "Iter 1/50\n",
      "M step: done,  E step: done //  (in 2.36 sec)\tlogL: -37090.113\t\n",
      "Iter 2/50\n",
      "M step: done,  E step: done //  (in 1.02 sec)\tlogL: -35630.835\tTol1: 0.03934\tTol2: 0.28253\tTol3: 0.07859\t\n",
      "Iter 3/50\n",
      "M step: done,  E step: done //  (in 1.03 sec)\tlogL: -35202.345\tTol1: 0.01203\tTol2: 0.17195\tTol3: 0.01323\t\n",
      "Iter 4/50\n",
      "M step: done,  E step: done //  (in 1.03 sec)\tlogL: -34910.951\tTol1: 0.00828\tTol2: 0.12950\tTol3: 0.00913\t\n",
      "Iter 5/50\n",
      "M step: done,  E step: done //  (in 1.03 sec)\tlogL: -34631.866\tTol1: 0.00799\tTol2: 0.10909\tTol3: 0.01081\t\n",
      "Iter 6/50\n",
      "M step: done,  E step: done //  (in 1.02 sec)\tlogL: -34473.478\tTol1: 0.00457\tTol2: 0.08775\tTol3: 0.00671\t\n",
      "Iter 7/50\n",
      "M step: done,  E step: done //  (in 1.02 sec)\tlogL: -34198.331\tTol1: 0.00798\tTol2: 0.10342\tTol3: 0.01500\t\n",
      "Iter 8/50\n",
      "M step: done,  E step: done //  (in 1.03 sec)\tlogL: -33919.799\tTol1: 0.00814\tTol2: 0.06193\tTol3: 0.00555\t\n",
      "Iter 9/50\n",
      "M step: done,  E step: done //  (in 1.03 sec)\tlogL: -33767.698\tTol1: 0.00448\tTol2: 0.05486\tTol3: 0.00889\t\n",
      "Iter 10/50\n",
      "M step: done,  E step: done //  (in 1.03 sec)\tlogL: -33545.286\tTol1: 0.00659\tTol2: 0.07433\tTol3: 0.00601\t\n",
      "Iter 11/50\n",
      "M step: done,  E step: done //  (in 1.02 sec)\tlogL: -33372.378\tTol1: 0.00515\tTol2: 0.05696\tTol3: 0.01254\t\n",
      "Iter 12/50\n",
      "M step: done,  E step: done //  (in 1.04 sec)\tlogL: -33136.294\tTol1: 0.00707\tTol2: 0.05159\tTol3: 0.01758\t\n",
      "Iter 13/50\n"
     ]
    },
    {
     "name": "stdout",
     "output_type": "stream",
     "text": [
      "M step: done,  E step: done //  (in 1.03 sec)\tlogL: -32846.612\tTol1: 0.00874\tTol2: 0.05574\tTol3: 0.00864\t\n",
      "Iter 14/50\n",
      "M step: done,  E step: done //  (in 1.02 sec)\tlogL: -32681.049\tTol1: 0.00504\tTol2: 0.04725\tTol3: 0.01255\t\n",
      "Finished training!\n",
      "Initializing new EM...\n",
      "Doing clustering...Done!\n",
      "Get init alphas in 0.043659 mins\n",
      "Lambda by group:  [1. 1. 1.]\n",
      "Alphas:  (3,)\n",
      "MV init:  (17363, 4)\n",
      "Betas:  (3, 4, 4)\n",
      "Q estimate:  (17363, 4, 3, 4)\n",
      "Iter 1/50\n",
      "M step: done,  E step: done //  (in 2.34 sec)\tlogL: -36705.431\t\n",
      "Iter 2/50\n",
      "M step: done,  E step: done //  (in 1.01 sec)\tlogL: -35590.391\tTol1: 0.03038\tTol2: 0.28040\tTol3: 0.04565\t\n",
      "Iter 3/50\n",
      "M step: done,  E step: done //  (in 1.01 sec)\tlogL: -35186.734\tTol1: 0.01134\tTol2: 0.16967\tTol3: 0.00587\t\n",
      "Iter 4/50\n",
      "M step: done,  E step: done //  (in 1.02 sec)\tlogL: -34925.101\tTol1: 0.00744\tTol2: 0.13750\tTol3: 0.01156\t\n",
      "Iter 5/50\n",
      "M step: done,  E step: done //  (in 1.03 sec)\tlogL: -34642.251\tTol1: 0.00810\tTol2: 0.11808\tTol3: 0.01869\t\n",
      "Iter 6/50\n",
      "M step: done,  E step: done //  (in 1.02 sec)\tlogL: -34371.350\tTol1: 0.00782\tTol2: 0.08851\tTol3: 0.01161\t\n",
      "Iter 7/50\n",
      "M step: done,  E step: done //  (in 1.01 sec)\tlogL: -34220.754\tTol1: 0.00438\tTol2: 0.07464\tTol3: 0.01031\t\n",
      "Iter 8/50\n",
      "M step: done,  E step: done //  (in 1.02 sec)\tlogL: -33989.070\tTol1: 0.00677\tTol2: 0.07277\tTol3: 0.01429\t\n",
      "Iter 9/50\n",
      "M step: done,  E step: done //  (in 1.03 sec)\tlogL: -33673.207\tTol1: 0.00929\tTol2: 0.08830\tTol3: 0.00169\t\n",
      "Iter 10/50\n",
      "M step: done,  E step: done //  (in 1.04 sec)\tlogL: -33424.159\tTol1: 0.00740\tTol2: 0.04738\tTol3: 0.00521\t\n",
      "Finished training!\n",
      "Initializing new EM...\n",
      "Doing clustering...Done!\n",
      "Get init alphas in 0.041617 mins\n",
      "Lambda by group:  [1. 1. 1.]\n",
      "Alphas:  (3,)\n",
      "MV init:  (17363, 4)\n",
      "Betas:  (3, 4, 4)\n",
      "Q estimate:  (17363, 4, 3, 4)\n",
      "Iter 1/50\n",
      "M step: done,  E step: done //  (in 2.34 sec)\tlogL: -37071.039\t\n",
      "Iter 2/50\n",
      "M step: done,  E step: done //  (in 1.03 sec)\tlogL: -35600.865\tTol1: 0.03966\tTol2: 0.28934\tTol3: 0.06855\t\n",
      "Iter 3/50\n",
      "M step: done,  E step: done //  (in 1.02 sec)\tlogL: -35154.364\tTol1: 0.01254\tTol2: 0.17967\tTol3: 0.01284\t\n",
      "Iter 4/50\n",
      "M step: done,  E step: done //  (in 1.02 sec)\tlogL: -34851.633\tTol1: 0.00861\tTol2: 0.14087\tTol3: 0.01171\t\n",
      "Iter 5/50\n",
      "M step: done,  E step: done //  (in 0.99 sec)\tlogL: -34627.368\tTol1: 0.00643\tTol2: 0.11119\tTol3: 0.01441\t\n",
      "Iter 6/50\n",
      "M step: done,  E step: done //  (in 1.02 sec)\tlogL: -34387.129\tTol1: 0.00694\tTol2: 0.10437\tTol3: 0.01206\t\n",
      "Iter 7/50\n",
      "M step: done,  E step: done //  (in 1.03 sec)\tlogL: -34188.661\tTol1: 0.00577\tTol2: 0.07049\tTol3: 0.00583\t\n",
      "Iter 8/50\n",
      "M step: done,  E step: done //  (in 1.03 sec)\tlogL: -33932.619\tTol1: 0.00749\tTol2: 0.06568\tTol3: 0.00715\t\n",
      "Iter 9/50\n",
      "M step: done,  E step: done //  (in 1.02 sec)\tlogL: -33677.761\tTol1: 0.00751\tTol2: 0.05703\tTol3: 0.01014\t\n",
      "Iter 10/50\n",
      "M step: done,  E step: done //  (in 1.03 sec)\tlogL: -33461.878\tTol1: 0.00641\tTol2: 0.06332\tTol3: 0.00657\t\n",
      "Iter 11/50\n",
      "M step: done,  E step: done //  (in 1.02 sec)\tlogL: -33314.818\tTol1: 0.00439\tTol2: 0.04432\tTol3: 0.00755\t\n",
      "Finished training!\n",
      "Initializing new EM...\n",
      "Doing clustering...Done!\n",
      "Get init alphas in 0.040884 mins\n",
      "Lambda by group:  [1. 1. 1.]\n",
      "Alphas:  (3,)\n",
      "MV init:  (17363, 4)\n",
      "Betas:  (3, 4, 4)\n",
      "Q estimate:  (17363, 4, 3, 4)\n",
      "Iter 1/50\n",
      "M step: done,  E step: done //  (in 2.34 sec)\tlogL: -37048.737\t\n",
      "Iter 2/50\n",
      "M step: done,  E step: done //  (in 1.02 sec)\tlogL: -35744.178\tTol1: 0.03521\tTol2: 0.28498\tTol3: 0.04153\t\n",
      "Iter 3/50\n",
      "M step: done,  E step: done //  (in 1.03 sec)\tlogL: -35222.190\tTol1: 0.01460\tTol2: 0.17012\tTol3: 0.00328\t\n",
      "Iter 4/50\n",
      "M step: done,  E step: done //  (in 1.01 sec)\tlogL: -34908.350\tTol1: 0.00891\tTol2: 0.12971\tTol3: 0.00743\t\n",
      "Iter 5/50\n",
      "M step: done,  E step: done //  (in 1.02 sec)\tlogL: -34600.441\tTol1: 0.00882\tTol2: 0.09907\tTol3: 0.00686\t\n",
      "Iter 6/50\n",
      "M step: done,  E step: done //  (in 1.02 sec)\tlogL: -34380.983\tTol1: 0.00634\tTol2: 0.09318\tTol3: 0.01351\t\n",
      "Iter 7/50\n",
      "M step: done,  E step: done //  (in 1.02 sec)\tlogL: -34087.287\tTol1: 0.00854\tTol2: 0.07894\tTol3: 0.00712\t\n",
      "Iter 8/50\n",
      "M step: done,  E step: done //  (in 1.02 sec)\tlogL: -33992.614\tTol1: 0.00278\tTol2: 0.07637\tTol3: 0.01346\t\n",
      "Iter 9/50\n",
      "M step: done,  E step: done //  (in 1.03 sec)\tlogL: -33655.493\tTol1: 0.00992\tTol2: 0.10775\tTol3: 0.01755\t\n",
      "Iter 10/50\n",
      "M step: done,  E step: done //  (in 1.04 sec)\tlogL: -33392.392\tTol1: 0.00782\tTol2: 0.05861\tTol3: 0.00995\t\n",
      "Iter 11/50\n",
      "M step: done,  E step: done //  (in 1.02 sec)\tlogL: -33268.720\tTol1: 0.00370\tTol2: 0.04824\tTol3: 0.01011\t\n",
      "Finished training!\n",
      "Initializing new EM...\n",
      "Doing clustering...Done!\n",
      "Get init alphas in 0.042033 mins\n",
      "Lambda by group:  [1. 1. 1.]\n",
      "Alphas:  (3,)\n",
      "MV init:  (17363, 4)\n",
      "Betas:  (3, 4, 4)\n",
      "Q estimate:  (17363, 4, 3, 4)\n",
      "Iter 1/50\n",
      "M step: done,  E step: done //  (in 2.34 sec)\tlogL: -36768.133\t\n",
      "Iter 2/50\n",
      "M step: done,  E step: done //  (in 1.01 sec)\tlogL: -35665.597\tTol1: 0.02999\tTol2: 0.29327\tTol3: 0.04129\t\n",
      "Iter 3/50\n",
      "M step: done,  E step: done //  (in 1.02 sec)\tlogL: -35232.463\tTol1: 0.01214\tTol2: 0.17570\tTol3: 0.00500\t\n",
      "Iter 4/50\n",
      "M step: done,  E step: done //  (in 1.02 sec)\tlogL: -34983.183\tTol1: 0.00708\tTol2: 0.12645\tTol3: 0.00638\t\n",
      "Iter 5/50\n",
      "M step: done,  E step: done //  (in 1.02 sec)\tlogL: -34693.147\tTol1: 0.00829\tTol2: 0.10852\tTol3: 0.00941\t\n",
      "Iter 6/50\n",
      "M step: done,  E step: done //  (in 1.03 sec)\tlogL: -34462.004\tTol1: 0.00666\tTol2: 0.08500\tTol3: 0.00056\t\n",
      "Iter 7/50\n",
      "M step: done,  E step: done //  (in 1.03 sec)\tlogL: -34389.098\tTol1: 0.00212\tTol2: 0.07320\tTol3: 0.01040\t\n",
      "Iter 8/50\n",
      "M step: done,  E step: done //  (in 1.03 sec)\tlogL: -34059.757\tTol1: 0.00958\tTol2: 0.10695\tTol3: 0.01723\t\n",
      "Iter 9/50\n",
      "M step: done,  E step: done //  (in 1.01 sec)\tlogL: -33863.157\tTol1: 0.00577\tTol2: 0.06151\tTol3: 0.01098\t\n",
      "Iter 10/50\n",
      "M step: done,  E step: done //  (in 1.03 sec)\tlogL: -33635.493\tTol1: 0.00672\tTol2: 0.06051\tTol3: 0.01771\t\n",
      "Iter 11/50\n",
      "M step: done,  E step: done //  (in 1.02 sec)\tlogL: -33391.319\tTol1: 0.00726\tTol2: 0.04755\tTol3: 0.01035\t\n",
      "Finished training!\n",
      "Initializing new EM...\n",
      "Doing clustering...Done!\n",
      "Get init alphas in 0.041770 mins\n",
      "Lambda by group:  [1. 1. 1.]\n",
      "Alphas:  (3,)\n",
      "MV init:  (17363, 4)\n",
      "Betas:  (3, 4, 4)\n",
      "Q estimate:  (17363, 4, 3, 4)\n",
      "Iter 1/50\n",
      "M step: done,  E step: done //  (in 2.34 sec)\tlogL: -36937.626\t\n",
      "Iter 2/50\n",
      "M step: done,  E step: done //  (in 1.01 sec)\tlogL: -35582.336\tTol1: 0.03669\tTol2: 0.28003\tTol3: 0.05778\t\n",
      "Iter 3/50\n",
      "M step: done,  E step: done //  (in 1.01 sec)\tlogL: -35193.445\tTol1: 0.01093\tTol2: 0.16955\tTol3: 0.01383\t\n",
      "Iter 4/50\n",
      "M step: done,  E step: done //  (in 1.03 sec)\tlogL: -34823.873\tTol1: 0.01050\tTol2: 0.13630\tTol3: 0.00187\t\n",
      "Iter 5/50\n",
      "M step: done,  E step: done //  (in 1.03 sec)\tlogL: -34583.664\tTol1: 0.00690\tTol2: 0.10481\tTol3: 0.00513\t\n",
      "Iter 6/50\n",
      "M step: done,  E step: done //  (in 1.03 sec)\tlogL: -34307.449\tTol1: 0.00799\tTol2: 0.07858\tTol3: 0.00636\t\n",
      "Iter 7/50\n",
      "M step: done,  E step: done //  (in 1.03 sec)\tlogL: -34088.537\tTol1: 0.00638\tTol2: 0.06933\tTol3: 0.00569\t\n",
      "Iter 8/50\n",
      "M step: done,  E step: done //  (in 1.01 sec)\tlogL: -33882.002\tTol1: 0.00606\tTol2: 0.06164\tTol3: 0.00409\t\n",
      "Iter 9/50\n",
      "M step: done,  E step: done //  (in 1.01 sec)\tlogL: -33674.462\tTol1: 0.00613\tTol2: 0.06783\tTol3: 0.01321\t\n",
      "Iter 10/50\n",
      "M step: done,  E step: done //  (in 1.02 sec)\tlogL: -33432.015\tTol1: 0.00720\tTol2: 0.06103\tTol3: 0.01180\t\n",
      "Iter 11/50\n",
      "M step: done,  E step: done //  (in 1.03 sec)\tlogL: -33186.038\tTol1: 0.00736\tTol2: 0.05870\tTol3: 0.01234\t\n",
      "Iter 12/50\n",
      "M step: done,  E step: done //  (in 1.02 sec)\tlogL: -33038.540\tTol1: 0.00444\tTol2: 0.04996\tTol3: 0.01247\t\n",
      "Finished training!\n",
      "Initializing new EM...\n",
      "Doing clustering...Done!\n",
      "Get init alphas in 0.043049 mins\n",
      "Lambda by group:  [1. 1. 1.]\n",
      "Alphas:  (3,)\n",
      "MV init:  (17363, 4)\n",
      "Betas:  (3, 4, 4)\n",
      "Q estimate:  (17363, 4, 3, 4)\n",
      "Iter 1/50\n",
      "M step: done,  E step: done //  (in 2.36 sec)\tlogL: -37050.651\t\n",
      "Iter 2/50\n",
      "M step: done,  E step: done //  (in 1.04 sec)\tlogL: -35678.830\tTol1: 0.03703\tTol2: 0.29552\tTol3: 0.05191\t\n",
      "Iter 3/50\n",
      "M step: done,  E step: done //  (in 1.01 sec)\tlogL: -35170.849\tTol1: 0.01424\tTol2: 0.16715\tTol3: 0.01524\t\n",
      "Iter 4/50\n",
      "M step: done,  E step: done //  (in 1.03 sec)\tlogL: -34885.217\tTol1: 0.00812\tTol2: 0.12849\tTol3: 0.00584\t\n",
      "Iter 5/50\n"
     ]
    },
    {
     "name": "stdout",
     "output_type": "stream",
     "text": [
      "M step: done,  E step: done //  (in 1.02 sec)\tlogL: -34639.490\tTol1: 0.00704\tTol2: 0.10223\tTol3: 0.00999\t\n",
      "Iter 6/50\n",
      "M step: done,  E step: done //  (in 1.03 sec)\tlogL: -34334.293\tTol1: 0.00881\tTol2: 0.07498\tTol3: 0.00398\t\n",
      "Iter 7/50\n",
      "M step: done,  E step: done //  (in 1.02 sec)\tlogL: -34141.944\tTol1: 0.00560\tTol2: 0.07152\tTol3: 0.00824\t\n",
      "Iter 8/50\n",
      "M step: done,  E step: done //  (in 1.03 sec)\tlogL: -33951.363\tTol1: 0.00558\tTol2: 0.06900\tTol3: 0.00715\t\n",
      "Iter 9/50\n",
      "M step: done,  E step: done //  (in 1.02 sec)\tlogL: -33779.545\tTol1: 0.00506\tTol2: 0.06729\tTol3: 0.01191\t\n",
      "Iter 10/50\n",
      "M step: done,  E step: done //  (in 1.03 sec)\tlogL: -33525.314\tTol1: 0.00753\tTol2: 0.07014\tTol3: 0.00880\t\n",
      "Iter 11/50\n",
      "M step: done,  E step: done //  (in 1.02 sec)\tlogL: -33261.279\tTol1: 0.00788\tTol2: 0.05301\tTol3: 0.01240\t\n",
      "Iter 12/50\n",
      "M step: done,  E step: done //  (in 1.03 sec)\tlogL: -32990.040\tTol1: 0.00815\tTol2: 0.08086\tTol3: 0.01471\t\n",
      "Iter 13/50\n",
      "M step: done,  E step: done //  (in 1.02 sec)\tlogL: -32831.224\tTol1: 0.00481\tTol2: 0.04869\tTol3: 0.00836\t\n",
      "Finished training!\n",
      "Initializing new EM...\n",
      "Doing clustering...Done!\n",
      "Get init alphas in 0.041755 mins\n",
      "Lambda by group:  [1. 1. 1.]\n",
      "Alphas:  (3,)\n",
      "MV init:  (17363, 4)\n",
      "Betas:  (3, 4, 4)\n",
      "Q estimate:  (17363, 4, 3, 4)\n",
      "Iter 1/50\n",
      "M step: done,  E step: done //  (in 2.32 sec)\tlogL: -37044.384\t\n",
      "Iter 2/50\n",
      "M step: done,  E step: done //  (in 1.01 sec)\tlogL: -35675.997\tTol1: 0.03694\tTol2: 0.29936\tTol3: 0.05818\t\n",
      "Iter 3/50\n",
      "M step: done,  E step: done //  (in 1.04 sec)\tlogL: -35248.176\tTol1: 0.01199\tTol2: 0.16050\tTol3: 0.00474\t\n",
      "Iter 4/50\n",
      "M step: done,  E step: done //  (in 1.01 sec)\tlogL: -34973.392\tTol1: 0.00780\tTol2: 0.12943\tTol3: 0.00943\t\n",
      "Iter 5/50\n",
      "M step: done,  E step: done //  (in 1.02 sec)\tlogL: -34767.753\tTol1: 0.00588\tTol2: 0.09899\tTol3: 0.00647\t\n",
      "Iter 6/50\n",
      "M step: done,  E step: done //  (in 1.03 sec)\tlogL: -34480.345\tTol1: 0.00827\tTol2: 0.09139\tTol3: 0.00971\t\n",
      "Iter 7/50\n",
      "M step: done,  E step: done //  (in 1.03 sec)\tlogL: -34224.370\tTol1: 0.00742\tTol2: 0.06794\tTol3: 0.00816\t\n",
      "Iter 8/50\n",
      "M step: done,  E step: done //  (in 1.03 sec)\tlogL: -33994.061\tTol1: 0.00673\tTol2: 0.07530\tTol3: 0.01040\t\n",
      "Iter 9/50\n",
      "M step: done,  E step: done //  (in 1.03 sec)\tlogL: -33895.706\tTol1: 0.00289\tTol2: 0.05524\tTol3: 0.00888\t\n",
      "Iter 10/50\n",
      "M step: done,  E step: done //  (in 1.03 sec)\tlogL: -33550.252\tTol1: 0.01019\tTol2: 0.08931\tTol3: 0.01721\t\n",
      "Iter 11/50\n",
      "M step: done,  E step: done //  (in 1.04 sec)\tlogL: -33370.090\tTol1: 0.00537\tTol2: 0.05130\tTol3: 0.01533\t\n",
      "Iter 12/50\n",
      "M step: done,  E step: done //  (in 1.02 sec)\tlogL: -33091.787\tTol1: 0.00834\tTol2: 0.06612\tTol3: 0.01215\t\n",
      "Iter 13/50\n",
      "M step: done,  E step: done //  (in 1.03 sec)\tlogL: -32862.748\tTol1: 0.00692\tTol2: 0.04724\tTol3: 0.01457\t\n",
      "Finished training!\n",
      "Initializing new EM...\n",
      "Doing clustering...Done!\n",
      "Get init alphas in 0.041298 mins\n",
      "Lambda by group:  [1. 1. 1.]\n",
      "Alphas:  (3,)\n",
      "MV init:  (17363, 4)\n",
      "Betas:  (3, 4, 4)\n",
      "Q estimate:  (17363, 4, 3, 4)\n",
      "Iter 1/50\n",
      "M step: done,  E step: done //  (in 2.34 sec)\tlogL: -36783.075\t\n",
      "Iter 2/50\n",
      "M step: done,  E step: done //  (in 1.02 sec)\tlogL: -35665.015\tTol1: 0.03040\tTol2: 0.28374\tTol3: 0.01080\t\n",
      "Iter 3/50\n",
      "M step: done,  E step: done //  (in 1.03 sec)\tlogL: -35173.633\tTol1: 0.01378\tTol2: 0.17370\tTol3: 0.00702\t\n",
      "Iter 4/50\n",
      "M step: done,  E step: done //  (in 1.02 sec)\tlogL: -34967.679\tTol1: 0.00586\tTol2: 0.12671\tTol3: 0.00536\t\n",
      "Iter 5/50\n",
      "M step: done,  E step: done //  (in 1.02 sec)\tlogL: -34745.006\tTol1: 0.00637\tTol2: 0.11218\tTol3: 0.01266\t\n",
      "Iter 6/50\n",
      "M step: done,  E step: done //  (in 1.03 sec)\tlogL: -34507.973\tTol1: 0.00682\tTol2: 0.08074\tTol3: 0.00574\t\n",
      "Iter 7/50\n",
      "M step: done,  E step: done //  (in 1.03 sec)\tlogL: -34317.238\tTol1: 0.00553\tTol2: 0.06984\tTol3: 0.00965\t\n",
      "Iter 8/50\n",
      "M step: done,  E step: done //  (in 1.01 sec)\tlogL: -34098.573\tTol1: 0.00637\tTol2: 0.06364\tTol3: 0.00284\t\n",
      "Iter 9/50\n",
      "M step: done,  E step: done //  (in 1.04 sec)\tlogL: -33879.004\tTol1: 0.00644\tTol2: 0.06105\tTol3: 0.01479\t\n",
      "Iter 10/50\n",
      "M step: done,  E step: done //  (in 1.01 sec)\tlogL: -33604.583\tTol1: 0.00810\tTol2: 0.07767\tTol3: 0.01181\t\n",
      "Iter 11/50\n",
      "M step: done,  E step: done //  (in 1.03 sec)\tlogL: -33412.090\tTol1: 0.00573\tTol2: 0.04660\tTol3: 0.00710\t\n",
      "Finished training!\n",
      "Initializing new EM...\n",
      "Doing clustering...Done!\n",
      "Get init alphas in 0.042745 mins\n",
      "Lambda by group:  [1. 1. 1.]\n",
      "Alphas:  (3,)\n",
      "MV init:  (17363, 4)\n",
      "Betas:  (3, 4, 4)\n",
      "Q estimate:  (17363, 4, 3, 4)\n",
      "Iter 1/50\n",
      "M step: done,  E step: done //  (in 2.35 sec)\tlogL: -36919.494\t\n",
      "Iter 2/50\n",
      "M step: done,  E step: done //  (in 1.03 sec)\tlogL: -35498.869\tTol1: 0.03848\tTol2: 0.28863\tTol3: 0.06576\t\n",
      "Iter 3/50\n",
      "M step: done,  E step: done //  (in 1.02 sec)\tlogL: -35095.225\tTol1: 0.01137\tTol2: 0.17226\tTol3: 0.00231\t\n",
      "Iter 4/50\n",
      "M step: done,  E step: done //  (in 1.01 sec)\tlogL: -34769.345\tTol1: 0.00929\tTol2: 0.13984\tTol3: 0.01224\t\n",
      "Iter 5/50\n",
      "M step: done,  E step: done //  (in 1.01 sec)\tlogL: -34507.510\tTol1: 0.00753\tTol2: 0.09600\tTol3: 0.00558\t\n",
      "Iter 6/50\n",
      "M step: done,  E step: done //  (in 1.02 sec)\tlogL: -34304.644\tTol1: 0.00588\tTol2: 0.08057\tTol3: 0.00299\t\n",
      "Iter 7/50\n",
      "M step: done,  E step: done //  (in 1.01 sec)\tlogL: -34045.577\tTol1: 0.00755\tTol2: 0.07183\tTol3: 0.01282\t\n",
      "Iter 8/50\n",
      "M step: done,  E step: done //  (in 1.01 sec)\tlogL: -33797.558\tTol1: 0.00728\tTol2: 0.06418\tTol3: 0.01338\t\n",
      "Iter 9/50\n",
      "M step: done,  E step: done //  (in 1.03 sec)\tlogL: -33593.970\tTol1: 0.00602\tTol2: 0.05389\tTol3: 0.00690\t\n",
      "Iter 10/50\n",
      "M step: done,  E step: done //  (in 1.01 sec)\tlogL: -33423.583\tTol1: 0.00507\tTol2: 0.06196\tTol3: 0.01386\t\n",
      "Iter 11/50\n",
      "M step: done,  E step: done //  (in 1.02 sec)\tlogL: -33188.456\tTol1: 0.00703\tTol2: 0.07452\tTol3: 0.00794\t\n",
      "Iter 12/50\n",
      "M step: done,  E step: done //  (in 1.02 sec)\tlogL: -32953.495\tTol1: 0.00708\tTol2: 0.06070\tTol3: 0.01086\t\n",
      "Iter 13/50\n",
      "M step: done,  E step: done //  (in 1.03 sec)\tlogL: -32751.707\tTol1: 0.00612\tTol2: 0.04905\tTol3: 0.01155\t\n",
      "Finished training!\n",
      "Initializing new EM...\n",
      "Doing clustering...Done!\n",
      "Get init alphas in 0.041653 mins\n",
      "Lambda by group:  [1. 1. 1.]\n",
      "Alphas:  (3,)\n",
      "MV init:  (17363, 4)\n",
      "Betas:  (3, 4, 4)\n",
      "Q estimate:  (17363, 4, 3, 4)\n",
      "Iter 1/50\n",
      "M step: done,  E step: done //  (in 2.33 sec)\tlogL: -37082.096\t\n",
      "Iter 2/50\n",
      "M step: done,  E step: done //  (in 1.01 sec)\tlogL: -35545.310\tTol1: 0.04144\tTol2: 0.28722\tTol3: 0.08092\t\n",
      "Iter 3/50\n",
      "M step: done,  E step: done //  (in 1.03 sec)\tlogL: -35142.329\tTol1: 0.01134\tTol2: 0.17820\tTol3: 0.00611\t\n",
      "Iter 4/50\n",
      "M step: done,  E step: done //  (in 1.02 sec)\tlogL: -34875.106\tTol1: 0.00760\tTol2: 0.13586\tTol3: 0.00751\t\n",
      "Iter 5/50\n",
      "M step: done,  E step: done //  (in 1.01 sec)\tlogL: -34596.935\tTol1: 0.00798\tTol2: 0.09720\tTol3: 0.00594\t\n",
      "Iter 6/50\n",
      "M step: done,  E step: done //  (in 1.03 sec)\tlogL: -34384.726\tTol1: 0.00613\tTol2: 0.08817\tTol3: 0.00846\t\n",
      "Iter 7/50\n",
      "M step: done,  E step: done //  (in 1.02 sec)\tlogL: -34153.299\tTol1: 0.00673\tTol2: 0.07457\tTol3: 0.01123\t\n",
      "Iter 8/50\n",
      "M step: done,  E step: done //  (in 1.02 sec)\tlogL: -33983.510\tTol1: 0.00497\tTol2: 0.06648\tTol3: 0.00764\t\n",
      "Iter 9/50\n",
      "M step: done,  E step: done //  (in 1.02 sec)\tlogL: -33701.023\tTol1: 0.00831\tTol2: 0.08700\tTol3: 0.00872\t\n",
      "Iter 10/50\n",
      "M step: done,  E step: done //  (in 1.03 sec)\tlogL: -33484.696\tTol1: 0.00642\tTol2: 0.05445\tTol3: 0.01201\t\n",
      "Iter 11/50\n",
      "M step: done,  E step: done //  (in 1.02 sec)\tlogL: -33260.105\tTol1: 0.00671\tTol2: 0.05403\tTol3: 0.01717\t\n",
      "Iter 12/50\n",
      "M step: done,  E step: done //  (in 1.02 sec)\tlogL: -33075.620\tTol1: 0.00555\tTol2: 0.05734\tTol3: 0.01204\t\n",
      "Iter 13/50\n",
      "M step: done,  E step: done //  (in 1.02 sec)\tlogL: -32856.387\tTol1: 0.00663\tTol2: 0.05085\tTol3: 0.00919\t\n",
      "Iter 14/50\n",
      "M step: done,  E step: done //  (in 1.02 sec)\tlogL: -32577.780\tTol1: 0.00848\tTol2: 0.06702\tTol3: 0.01005\t\n",
      "Iter 15/50\n",
      "M step: done,  E step: done //  (in 1.01 sec)\tlogL: -32339.493\tTol1: 0.00731\tTol2: 0.05730\tTol3: 0.01478\t\n",
      "Iter 16/50\n",
      "M step: done,  E step: done //  (in 1.02 sec)\tlogL: -32103.832\tTol1: 0.00729\tTol2: 0.05922\tTol3: 0.01530\t\n",
      "Iter 17/50\n",
      "M step: done,  E step: done //  (in 1.02 sec)\tlogL: -31898.456\tTol1: 0.00640\tTol2: 0.04050\tTol3: 0.01098\t\n",
      "Finished training!\n",
      "Multiples runs over Ours Global, Epochs to converge=  12.45\n"
     ]
    }
   ],
   "source": [
    "gMixture_Global = GroupMixtureGlo(Xstd_train.shape[1:],Kl=r_obs.shape[1],M=M_seted,epochs=1,optimizer=OPT,dtype_op=DTYPE_OP) \n",
    "gMixture_Global.define_model(\"mlp\",128,1,BatchN=True,drop=0.5)\n",
    "\n",
    "if uniform:\n",
    "    gMixture_Global.define_priors(\"laplace\")\n",
    "    gMixture_Global.define_priors(uniform_groups)\n",
    "\n",
    "gMixture_Global.lambda_random = False \n",
    "logL_hists,i_r = gMixture_Global.multiples_run(20,Xstd_train,r_obs,\n",
    "                                               batch_size=BATCH_SIZE,max_iter=EPOCHS_BASE,tolerance=TOL*5/3)"
   ]
  },
  {
   "cell_type": "code",
   "execution_count": 47,
   "metadata": {},
   "outputs": [],
   "source": [
    "Z_train_p = gMixture_Global.get_predictions(Xstd_train)\n",
    "Z_train_pred = Z_train_p.argmax(axis=-1)\n",
    "Z_val_p = gMixture_Global.get_predictions(Xstd_val)\n",
    "Z_val_pred = Z_val_p.argmax(axis=-1)\n",
    "Z_test_p = gMixture_Global.get_predictions(Xstd_test)\n",
    "Z_test_pred = Z_test_p.argmax(axis=-1)"
   ]
  },
  {
   "cell_type": "code",
   "execution_count": 48,
   "metadata": {},
   "outputs": [
    {
     "data": {
      "image/png": "[encoded data removed]",
      "text/plain": [
       "<Figure size 1080x504 with 1 Axes>"
      ]
     },
     "metadata": {
      "needs_background": "light"
     },
     "output_type": "display_data"
    }
   ],
   "source": [
    "plt.figure(figsize=(15,7))\n",
    "for a, value in enumerate(logL_hists): #logL_hists\n",
    "    if a != i_r:\n",
    "        plt.plot(range(len(value)),value,'.-')\n",
    "plt.plot(range(len(logL_hists[i_r])),logL_hists[i_r],'o-',markersize=10,label=\"Selected run\")\n",
    "plt.legend()\n",
    "plt.show()"
   ]
  },
  {
   "cell_type": "code",
   "execution_count": null,
   "metadata": {},
   "outputs": [],
   "source": []
  },
  {
   "cell_type": "code",
   "execution_count": 38,
   "metadata": {},
   "outputs": [
    {
     "name": "stdout",
     "output_type": "stream",
     "text": [
      "shape of annotator representation (T, R_t)= (1346, 1346)\n"
     ]
    }
   ],
   "source": [
    "Y_ann_train, T_idx = set_representation(y_obs,\"onehotvar\")\n",
    "T_idx_unique = np.arange(T).reshape(-1,1)\n",
    "\n",
    "A = keras.utils.to_categorical(np.arange(T), num_classes=T) #fast way\n",
    "print(\"shape of annotator representation (T, R_t)=\", A.shape)"
   ]
  },
  {
   "cell_type": "code",
   "execution_count": 39,
   "metadata": {
    "scrolled": true
   },
   "outputs": [
    {
     "name": "stdout",
     "output_type": "stream",
     "text": [
      "shape of annotator representation (T, R_t)= (1346, 16)\n"
     ]
    },
    {
     "data": {
      "image/png": "[encoded data removed]",
      "text/plain": [
       "<Figure size 432x288 with 1 Axes>"
      ]
     },
     "metadata": {
      "needs_background": "light"
     },
     "output_type": "display_data"
    },
    {
     "data": {
      "image/png": "[encoded data removed]",
      "text/plain": [
       "<Figure size 432x288 with 1 Axes>"
      ]
     },
     "metadata": {
      "needs_background": "light"
     },
     "output_type": "display_data"
    },
    {
     "data": {
      "text/plain": [
       "array([[21., 30., 66., 27.],\n",
       "       [39.,  8.,  8., 12.],\n",
       "       [ 1.,  3.,  4.,  2.],\n",
       "       ...,\n",
       "       [ 0.,  2.,  0.,  0.],\n",
       "       [ 0.,  2.,  1.,  0.],\n",
       "       [ 0.,  1.,  0.,  0.]])"
      ]
     },
     "execution_count": 39,
     "metadata": {},
     "output_type": "execute_result"
    }
   ],
   "source": [
    "from code.MixtureofGroups import *\n",
    "conf_mat, conf_mat_norm  = build_conf_Yvar(Y_ann_train, T_idx, r_obs.argmax(axis=-1))\n",
    "\n",
    "A_rep = conf_mat_norm.reshape(conf_mat_norm.shape[0], Kl**2) #flatten\n",
    "#A_rep = np.zeros((conf_mat.shape[0], Kl))\n",
    "#for t in range(A_rep.shape[0]):\n",
    "#    A_rep[t] = JS_confmatrixs(conf_mat_norm[t], np.identity(Kl),raw=True) #distancia a I (MV)\n",
    "    \n",
    "print(\"shape of annotator representation (T, R_t)=\", A_rep.shape)\n",
    "\n",
    "from sklearn.decomposition import PCA\n",
    "model = PCA(2)\n",
    "aux_pca = model.fit_transform(A_rep)\n",
    "plt.scatter(aux_pca[:,0],aux_pca[:,1])\n",
    "plt.show()\n",
    "\n",
    "\n",
    "A_rep = np.zeros((y_obs.shape[1], Kl))\n",
    "for i in range(N):\n",
    "    for l, t_idx in enumerate(T_idx[i]):\n",
    "        obs_t = Y_ann_train[i][l].argmax(axis=-1)\n",
    "        A_rep[t_idx, obs_t] += 1\n",
    "    \n",
    "from sklearn.decomposition import PCA\n",
    "model = PCA(2)\n",
    "aux_pca = model.fit_transform(A_rep)\n",
    "plt.scatter(aux_pca[:,0],aux_pca[:,1])\n",
    "plt.show()\n",
    "A_rep"
   ]
  },
  {
   "cell_type": "code",
   "execution_count": 40,
   "metadata": {},
   "outputs": [],
   "source": [
    "#different M_seted??\n",
    "M_seted = 3"
   ]
  },
  {
   "cell_type": "code",
   "execution_count": 41,
   "metadata": {
    "scrolled": true
   },
   "outputs": [
    {
     "name": "stdout",
     "output_type": "stream",
     "text": [
      "Needed params (units,deep,drop,BatchN?)\n",
      "Initializing new EM...\n",
      "A = Son ortonormales / No fueron entregados!\n",
      "Doing clustering...Done!\n",
      "Get init alphas in 0.003719 mins\n",
      "Lambda by group:  [1. 1. 1.]\n",
      "Pre-train networks over *z* on 3 epochs... Done!\n",
      "MV init:  (17363, 4)\n",
      "Betas:  (3, 4, 4)\n",
      "Q estimate:  (34067, 3, 4)\n",
      "Iter 1/50\n",
      "M step: done,  E step: done //  (in 5.77 sec)\tlogL: -36001.926\t\n",
      "Iter 2/50\n",
      "M step: done,  E step: done //  (in 2.31 sec)\tlogL: -34275.226\tTol1: 0.04796\tTol2: 0.24328\t\n",
      "Iter 3/50\n",
      "M step: done,  E step: done //  (in 2.27 sec)\tlogL: -33452.544\tTol1: 0.02400\tTol2: 0.20057\t\n",
      "Iter 4/50\n",
      "M step: done,  E step: done //  (in 2.29 sec)\tlogL: -32691.081\tTol1: 0.02276\tTol2: 0.17719\t\n",
      "Iter 5/50\n",
      "M step: done,  E step: done //  (in 2.28 sec)\tlogL: -32171.596\tTol1: 0.01589\tTol2: 0.15758\t\n",
      "Iter 6/50\n",
      "M step: done,  E step: done //  (in 2.20 sec)\tlogL: -31623.424\tTol1: 0.01704\tTol2: 0.13942\t\n",
      "Iter 7/50\n",
      "M step: done,  E step: done //  (in 2.30 sec)\tlogL: -31118.778\tTol1: 0.01596\tTol2: 0.14392\t\n",
      "Iter 8/50\n",
      "M step: done,  E step: done //  (in 2.28 sec)\tlogL: -30646.520\tTol1: 0.01518\tTol2: 0.13206\t\n",
      "Iter 9/50\n",
      "M step: done,  E step: done //  (in 2.29 sec)\tlogL: -30144.006\tTol1: 0.01640\tTol2: 0.11630\t\n",
      "Iter 10/50\n",
      "M step: done,  E step: done //  (in 2.29 sec)\tlogL: -29704.509\tTol1: 0.01458\tTol2: 0.12774\t\n",
      "Iter 11/50\n",
      "M step: done,  E step: done //  (in 2.26 sec)\tlogL: -29331.342\tTol1: 0.01256\tTol2: 0.11112\t\n",
      "Iter 12/50\n",
      "M step: done,  E step: done //  (in 2.25 sec)\tlogL: -28958.084\tTol1: 0.01273\tTol2: 0.10708\t\n",
      "Iter 13/50\n",
      "M step: done,  E step: done //  (in 2.19 sec)\tlogL: -28595.624\tTol1: 0.01252\tTol2: 0.09853\t\n",
      "Iter 14/50\n",
      "M step: done,  E step: done //  (in 2.28 sec)\tlogL: -28265.302\tTol1: 0.01155\tTol2: 0.08920\t\n",
      "Iter 15/50\n",
      "M step: done,  E step: done //  (in 2.28 sec)\tlogL: -27933.446\tTol1: 0.01174\tTol2: 0.08126\t\n",
      "Iter 16/50\n",
      "M step: done,  E step: done //  (in 2.24 sec)\tlogL: -27543.786\tTol1: 0.01395\tTol2: 0.09685\t\n",
      "Iter 17/50\n",
      "M step: done,  E step: done //  (in 2.30 sec)\tlogL: -27286.749\tTol1: 0.00933\tTol2: 0.06113\t\n",
      "Iter 18/50\n",
      "M step: done,  E step: done //  (in 2.19 sec)\tlogL: -27110.140\tTol1: 0.00647\tTol2: 0.06047\t\n",
      "Iter 19/50\n",
      "M step: done,  E step: done //  (in 2.29 sec)\tlogL: -26661.143\tTol1: 0.01656\tTol2: 0.08518\t\n",
      "Iter 20/50\n",
      "M step: done,  E step: done //  (in 2.29 sec)\tlogL: -26573.774\tTol1: 0.00328\tTol2: 0.06635\t\n",
      "Iter 21/50\n",
      "M step: done,  E step: done //  (in 2.30 sec)\tlogL: -26247.708\tTol1: 0.01227\tTol2: 0.06161\t\n",
      "Iter 22/50\n",
      "M step: done,  E step: done //  (in 2.30 sec)\tlogL: -25977.605\tTol1: 0.01029\tTol2: 0.05305\t\n",
      "Iter 23/50\n",
      "M step: done,  E step: done //  (in 2.29 sec)\tlogL: -25834.654\tTol1: 0.00550\tTol2: 0.06463\t\n",
      "Iter 24/50\n",
      "M step: done,  E step: done //  (in 2.25 sec)\tlogL: -25714.584\tTol1: 0.00465\tTol2: 0.06981\t\n",
      "Iter 25/50\n",
      "M step: done,  E step: done //  (in 2.28 sec)\tlogL: -25419.704\tTol1: 0.01147\tTol2: 0.05399\t\n",
      "Iter 26/50\n",
      "M step: done,  E step: done //  (in 2.21 sec)\tlogL: -25400.665\tTol1: 0.00075\tTol2: 0.03926\t\n",
      "Iter 27/50\n",
      "M step: done,  E step: done //  (in 2.29 sec)\tlogL: -25098.435\tTol1: 0.01190\tTol2: 0.04675\t\n",
      "Iter 28/50\n",
      "M step: done,  E step: done //  (in 2.27 sec)\tlogL: -25017.936\tTol1: 0.00321\tTol2: 0.05561\t\n",
      "Iter 29/50\n",
      "M step: done,  E step: done //  (in 2.28 sec)\tlogL: -24836.923\tTol1: 0.00724\tTol2: 0.05048\t\n",
      "Iter 30/50\n",
      "M step: done,  E step: done //  (in 2.25 sec)\tlogL: -24646.164\tTol1: 0.00768\tTol2: 0.05069\t\n",
      "Iter 31/50\n",
      "M step: done,  E step: done //  (in 2.29 sec)\tlogL: -24442.658\tTol1: 0.00826\tTol2: 0.02841\t\n",
      "Finished training!\n",
      "Initializing new EM...\n",
      "A = Son ortonormales / No fueron entregados!\n",
      "Doing clustering...Done!\n",
      "Get init alphas in 0.004164 mins\n",
      "Lambda by group:  [1. 1. 1.]\n",
      "Pre-train networks over *z* on 3 epochs... Done!\n",
      "MV init:  (17363, 4)\n",
      "Betas:  (3, 4, 4)\n",
      "Q estimate:  (34067, 3, 4)\n",
      "Iter 1/50\n",
      "M step: done,  E step: done //  (in 4.69 sec)\tlogL: -35745.306\t\n",
      "Iter 2/50\n",
      "M step: done,  E step: done //  (in 2.27 sec)\tlogL: -34138.284\tTol1: 0.04496\tTol2: 0.24214\t\n",
      "Iter 3/50\n",
      "M step: done,  E step: done //  (in 2.25 sec)\tlogL: -33353.398\tTol1: 0.02299\tTol2: 0.20393\t\n",
      "Iter 4/50\n",
      "M step: done,  E step: done //  (in 2.25 sec)\tlogL: -32630.534\tTol1: 0.02167\tTol2: 0.18078\t\n",
      "Iter 5/50\n",
      "M step: done,  E step: done //  (in 2.27 sec)\tlogL: -32115.579\tTol1: 0.01578\tTol2: 0.15071\t\n",
      "Iter 6/50\n",
      "M step: done,  E step: done //  (in 2.28 sec)\tlogL: -31645.290\tTol1: 0.01464\tTol2: 0.14737\t\n",
      "Iter 7/50\n",
      "M step: done,  E step: done //  (in 2.27 sec)\tlogL: -31033.225\tTol1: 0.01934\tTol2: 0.13727\t\n",
      "Iter 8/50\n",
      "M step: done,  E step: done //  (in 2.27 sec)\tlogL: -30530.490\tTol1: 0.01620\tTol2: 0.12982\t\n",
      "Iter 9/50\n",
      "M step: done,  E step: done //  (in 2.26 sec)\tlogL: -30072.528\tTol1: 0.01500\tTol2: 0.12321\t\n",
      "Iter 10/50\n",
      "M step: done,  E step: done //  (in 2.26 sec)\tlogL: -29662.676\tTol1: 0.01363\tTol2: 0.12264\t\n",
      "Iter 11/50\n",
      "M step: done,  E step: done //  (in 2.27 sec)\tlogL: -29220.000\tTol1: 0.01492\tTol2: 0.10569\t\n",
      "Iter 12/50\n",
      "M step: done,  E step: done //  (in 2.24 sec)\tlogL: -28929.708\tTol1: 0.00993\tTol2: 0.10950\t\n",
      "Iter 13/50\n",
      "M step: done,  E step: done //  (in 2.26 sec)\tlogL: -28513.278\tTol1: 0.01439\tTol2: 0.08955\t\n",
      "Iter 14/50\n",
      "M step: done,  E step: done //  (in 2.22 sec)\tlogL: -28212.877\tTol1: 0.01054\tTol2: 0.09934\t\n",
      "Iter 15/50\n",
      "M step: done,  E step: done //  (in 2.27 sec)\tlogL: -27805.040\tTol1: 0.01446\tTol2: 0.07913\t\n",
      "Iter 16/50\n",
      "M step: done,  E step: done //  (in 2.26 sec)\tlogL: -27608.551\tTol1: 0.00707\tTol2: 0.08319\t\n",
      "Iter 17/50\n",
      "M step: done,  E step: done //  (in 2.27 sec)\tlogL: -27190.706\tTol1: 0.01513\tTol2: 0.07895\t\n",
      "Iter 18/50\n",
      "M step: done,  E step: done //  (in 2.27 sec)\tlogL: -26940.605\tTol1: 0.00920\tTol2: 0.06079\t\n",
      "Iter 19/50\n",
      "M step: done,  E step: done //  (in 2.28 sec)\tlogL: -26726.663\tTol1: 0.00794\tTol2: 0.07000\t\n",
      "Iter 20/50\n",
      "M step: done,  E step: done //  (in 2.27 sec)\tlogL: -26430.619\tTol1: 0.01108\tTol2: 0.06739\t\n",
      "Iter 21/50\n",
      "M step: done,  E step: done //  (in 2.26 sec)\tlogL: -26325.696\tTol1: 0.00397\tTol2: 0.05880\t\n",
      "Iter 22/50\n",
      "M step: done,  E step: done //  (in 2.24 sec)\tlogL: -25990.264\tTol1: 0.01274\tTol2: 0.07542\t\n",
      "Iter 23/50\n",
      "M step: done,  E step: done //  (in 2.28 sec)\tlogL: -25915.595\tTol1: 0.00287\tTol2: 0.05119\t\n",
      "Iter 24/50\n",
      "M step: done,  E step: done //  (in 2.20 sec)\tlogL: -25645.152\tTol1: 0.01044\tTol2: 0.04360\t\n",
      "Iter 25/50\n",
      "M step: done,  E step: done //  (in 2.30 sec)\tlogL: -25602.216\tTol1: 0.00167\tTol2: 0.06013\t\n",
      "Iter 26/50\n",
      "M step: done,  E step: done //  (in 2.26 sec)\tlogL: -25412.851\tTol1: 0.00740\tTol2: 0.03923\t\n",
      "Iter 27/50\n",
      "M step: done,  E step: done //  (in 2.29 sec)\tlogL: -25237.390\tTol1: 0.00690\tTol2: 0.04039\t\n",
      "Iter 28/50\n",
      "M step: done,  E step: done //  (in 2.27 sec)\tlogL: -25039.713\tTol1: 0.00783\tTol2: 0.05520\t\n",
      "Iter 29/50\n",
      "M step: done,  E step: done //  (in 2.27 sec)\tlogL: -24889.269\tTol1: 0.00601\tTol2: 0.07409\t\n",
      "Iter 30/50\n",
      "M step: done,  E step: done //  (in 2.27 sec)\tlogL: -24717.935\tTol1: 0.00688\tTol2: 0.03892\t\n",
      "Iter 31/50\n",
      "M step: done,  E step: done //  (in 2.29 sec)\tlogL: -24651.189\tTol1: 0.00270\tTol2: 0.04160\t\n",
      "Iter 32/50\n",
      "M step: done,  E step: done //  (in 2.26 sec)\tlogL: -24435.397\tTol1: 0.00875\tTol2: 0.04198\t\n",
      "Iter 33/50\n",
      "M step: done,  E step: done //  (in 2.31 sec)\tlogL: -24383.908\tTol1: 0.00211\tTol2: 0.02545\t\n",
      "Finished training!\n",
      "Initializing new EM...\n",
      "A = Son ortonormales / No fueron entregados!\n",
      "Doing clustering...Done!\n",
      "Get init alphas in 0.003897 mins\n",
      "Lambda by group:  [1. 1. 1.]\n",
      "Pre-train networks over *z* on 3 epochs..."
     ]
    },
    {
     "ename": "KeyboardInterrupt",
     "evalue": "",
     "output_type": "error",
     "traceback": [
      "\u001b[0;31m---------------------------------------------------------------------------\u001b[0m",
      "\u001b[0;31mKeyboardInterrupt\u001b[0m                         Traceback (most recent call last)",
      "\u001b[0;32m<ipython-input-41-da1c1830808e>\u001b[0m in \u001b[0;36m<module>\u001b[0;34m()\u001b[0m\n\u001b[1;32m      6\u001b[0m \u001b[0;34m\u001b[0m\u001b[0m\n\u001b[1;32m      7\u001b[0m logL_hists,i = gMixture_Ind1.multiples_run(20,Xstd_train,Y_ann_train, T_idx, A=[], batch_size=BATCH_SIZE,\n\u001b[0;32m----> 8\u001b[0;31m                                     pre_init_z=3,pre_init_g=0,max_iter=EPOCHS_BASE,tolerance=TOL)\n\u001b[0m",
      "\u001b[0;32m~/Desktop/Dataset_Tesis/MixtureofGroups/code/MixtureofGroups.py\u001b[0m in \u001b[0;36mmultiples_run\u001b[0;34m(self, Runs, X, Y_ann, T_idx, A, pre_init_z, pre_init_g, batch_size, max_iter, tolerance)\u001b[0m\n\u001b[1;32m    876\u001b[0m                 \u001b[0mself\u001b[0m\u001b[0;34m.\u001b[0m\u001b[0mgroup_model\u001b[0m\u001b[0;34m.\u001b[0m\u001b[0mcompile\u001b[0m\u001b[0;34m(\u001b[0m\u001b[0mloss\u001b[0m\u001b[0;34m=\u001b[0m\u001b[0;34m'categorical_crossentropy'\u001b[0m\u001b[0;34m,\u001b[0m\u001b[0moptimizer\u001b[0m\u001b[0;34m=\u001b[0m\u001b[0mself\u001b[0m\u001b[0;34m.\u001b[0m\u001b[0moptimizer\u001b[0m\u001b[0;34m)\u001b[0m\u001b[0;34m\u001b[0m\u001b[0m\n\u001b[1;32m    877\u001b[0m \u001b[0;34m\u001b[0m\u001b[0m\n\u001b[0;32m--> 878\u001b[0;31m             \u001b[0mlogL_hist\u001b[0m \u001b[0;34m=\u001b[0m \u001b[0mself\u001b[0m\u001b[0;34m.\u001b[0m\u001b[0mtrain\u001b[0m\u001b[0;34m(\u001b[0m\u001b[0mX\u001b[0m\u001b[0;34m,\u001b[0m\u001b[0mY_ann\u001b[0m\u001b[0;34m,\u001b[0m\u001b[0mT_idx\u001b[0m\u001b[0;34m,\u001b[0m \u001b[0mA_train\u001b[0m\u001b[0;34m=\u001b[0m\u001b[0mA\u001b[0m\u001b[0;34m,\u001b[0m \u001b[0mpre_init_z\u001b[0m\u001b[0;34m=\u001b[0m\u001b[0mpre_init_z\u001b[0m\u001b[0;34m,\u001b[0m\u001b[0mpre_init_g\u001b[0m\u001b[0;34m=\u001b[0m\u001b[0mpre_init_g\u001b[0m\u001b[0;34m,\u001b[0m \u001b[0mbatch_size\u001b[0m\u001b[0;34m=\u001b[0m\u001b[0mbatch_size\u001b[0m\u001b[0;34m,\u001b[0m\u001b[0mmax_iter\u001b[0m\u001b[0;34m=\u001b[0m\u001b[0mmax_iter\u001b[0m\u001b[0;34m,\u001b[0m\u001b[0mtolerance\u001b[0m\u001b[0;34m=\u001b[0m\u001b[0mtolerance\u001b[0m\u001b[0;34m)\u001b[0m \u001b[0;31m#here the models get resets\u001b[0m\u001b[0;34m\u001b[0m\u001b[0m\n\u001b[0m\u001b[1;32m    879\u001b[0m \u001b[0;34m\u001b[0m\u001b[0m\n\u001b[1;32m    880\u001b[0m             \u001b[0mfound_betas\u001b[0m\u001b[0;34m.\u001b[0m\u001b[0mappend\u001b[0m\u001b[0;34m(\u001b[0m\u001b[0mself\u001b[0m\u001b[0;34m.\u001b[0m\u001b[0mbetas\u001b[0m\u001b[0;34m.\u001b[0m\u001b[0mcopy\u001b[0m\u001b[0;34m(\u001b[0m\u001b[0;34m)\u001b[0m\u001b[0;34m)\u001b[0m\u001b[0;34m\u001b[0m\u001b[0m\n",
      "\u001b[0;32m~/Desktop/Dataset_Tesis/MixtureofGroups/code/MixtureofGroups.py\u001b[0m in \u001b[0;36mtrain\u001b[0;34m(self, X_train, Y_ann_train, T_idx, A_train, pre_init_z, pre_init_g, batch_size, max_iter, relative, tolerance)\u001b[0m\n\u001b[1;32m    788\u001b[0m         \u001b[0mself\u001b[0m\u001b[0;34m.\u001b[0m\u001b[0mT\u001b[0m \u001b[0;34m=\u001b[0m \u001b[0mmax\u001b[0m\u001b[0;34m(\u001b[0m\u001b[0mlist\u001b[0m\u001b[0;34m(\u001b[0m\u001b[0mmap\u001b[0m\u001b[0;34m(\u001b[0m\u001b[0mmax\u001b[0m\u001b[0;34m,\u001b[0m\u001b[0mT_idx\u001b[0m\u001b[0;34m)\u001b[0m\u001b[0;34m)\u001b[0m\u001b[0;34m)\u001b[0m\u001b[0;34m+\u001b[0m\u001b[0;36m1\u001b[0m \u001b[0;31m#not important...--> is important for clustering\u001b[0m\u001b[0;34m\u001b[0m\u001b[0m\n\u001b[1;32m    789\u001b[0m         \u001b[0mprint\u001b[0m\u001b[0;34m(\u001b[0m\u001b[0;34m\"Initializing new EM...\"\u001b[0m\u001b[0;34m)\u001b[0m\u001b[0;34m\u001b[0m\u001b[0m\n\u001b[0;32m--> 790\u001b[0;31m         \u001b[0mself\u001b[0m\u001b[0;34m.\u001b[0m\u001b[0minit_E\u001b[0m\u001b[0;34m(\u001b[0m\u001b[0mX_train\u001b[0m\u001b[0;34m,\u001b[0m\u001b[0mY_ann_train\u001b[0m\u001b[0;34m,\u001b[0m\u001b[0mT_idx\u001b[0m\u001b[0;34m,\u001b[0m \u001b[0mA\u001b[0m\u001b[0;34m=\u001b[0m\u001b[0mA_train\u001b[0m\u001b[0;34m)\u001b[0m\u001b[0;34m\u001b[0m\u001b[0m\n\u001b[0m\u001b[1;32m    791\u001b[0m \u001b[0;34m\u001b[0m\u001b[0m\n\u001b[1;32m    792\u001b[0m         \u001b[0;32mif\u001b[0m \u001b[0mlen\u001b[0m\u001b[0;34m(\u001b[0m\u001b[0mA_train\u001b[0m\u001b[0;34m)\u001b[0m \u001b[0;34m==\u001b[0m \u001b[0;36m0\u001b[0m\u001b[0;34m:\u001b[0m \u001b[0;31m#use T instead\u001b[0m\u001b[0;34m\u001b[0m\u001b[0m\n",
      "\u001b[0;32m~/Desktop/Dataset_Tesis/MixtureofGroups/code/MixtureofGroups.py\u001b[0m in \u001b[0;36minit_E\u001b[0;34m(self, X, Y_ann, T_idx, A)\u001b[0m\n\u001b[1;32m    709\u001b[0m         \u001b[0;32mif\u001b[0m \u001b[0mself\u001b[0m\u001b[0;34m.\u001b[0m\u001b[0mpre_init_z\u001b[0m \u001b[0;34m!=\u001b[0m \u001b[0;36m0\u001b[0m\u001b[0;34m:\u001b[0m\u001b[0;34m\u001b[0m\u001b[0m\n\u001b[1;32m    710\u001b[0m             \u001b[0mprint\u001b[0m\u001b[0;34m(\u001b[0m\u001b[0;34m\"Pre-train networks over *z* on %d epochs...\"\u001b[0m\u001b[0;34m%\u001b[0m\u001b[0;34m(\u001b[0m\u001b[0mself\u001b[0m\u001b[0;34m.\u001b[0m\u001b[0mpre_init_z\u001b[0m\u001b[0;34m)\u001b[0m\u001b[0;34m,\u001b[0m\u001b[0mend\u001b[0m\u001b[0;34m=\u001b[0m\u001b[0;34m''\u001b[0m\u001b[0;34m,\u001b[0m\u001b[0mflush\u001b[0m\u001b[0;34m=\u001b[0m\u001b[0;32mTrue\u001b[0m\u001b[0;34m)\u001b[0m\u001b[0;34m\u001b[0m\u001b[0m\n\u001b[0;32m--> 711\u001b[0;31m             \u001b[0mself\u001b[0m\u001b[0;34m.\u001b[0m\u001b[0mbase_model\u001b[0m\u001b[0;34m.\u001b[0m\u001b[0mfit\u001b[0m\u001b[0;34m(\u001b[0m\u001b[0mX\u001b[0m\u001b[0;34m,\u001b[0m\u001b[0mmv_probs_j\u001b[0m\u001b[0;34m,\u001b[0m\u001b[0mbatch_size\u001b[0m\u001b[0;34m=\u001b[0m\u001b[0mself\u001b[0m\u001b[0;34m.\u001b[0m\u001b[0mbatch_size\u001b[0m\u001b[0;34m,\u001b[0m\u001b[0mepochs\u001b[0m\u001b[0;34m=\u001b[0m\u001b[0mself\u001b[0m\u001b[0;34m.\u001b[0m\u001b[0mpre_init_z\u001b[0m\u001b[0;34m,\u001b[0m\u001b[0mverbose\u001b[0m\u001b[0;34m=\u001b[0m\u001b[0;36m0\u001b[0m\u001b[0;34m)\u001b[0m\u001b[0;34m\u001b[0m\u001b[0m\n\u001b[0m\u001b[1;32m    712\u001b[0m             \u001b[0mself\u001b[0m\u001b[0;34m.\u001b[0m\u001b[0mbase_model\u001b[0m\u001b[0;34m.\u001b[0m\u001b[0mcompile\u001b[0m\u001b[0;34m(\u001b[0m\u001b[0mloss\u001b[0m\u001b[0;34m=\u001b[0m\u001b[0;34m'categorical_crossentropy'\u001b[0m\u001b[0;34m,\u001b[0m\u001b[0moptimizer\u001b[0m\u001b[0;34m=\u001b[0m\u001b[0mself\u001b[0m\u001b[0;34m.\u001b[0m\u001b[0moptimizer\u001b[0m\u001b[0;34m)\u001b[0m \u001b[0;31m#reset optimizer but hold weights--necessary for stability\u001b[0m\u001b[0;34m\u001b[0m\u001b[0m\n\u001b[1;32m    713\u001b[0m             \u001b[0mprint\u001b[0m\u001b[0;34m(\u001b[0m\u001b[0;34m\" Done!\"\u001b[0m\u001b[0;34m)\u001b[0m\u001b[0;34m\u001b[0m\u001b[0m\n",
      "\u001b[0;32m~/.local/lib/python3.5/site-packages/keras/models.py\u001b[0m in \u001b[0;36mfit\u001b[0;34m(self, x, y, batch_size, epochs, verbose, callbacks, validation_split, validation_data, shuffle, class_weight, sample_weight, initial_epoch, steps_per_epoch, validation_steps, **kwargs)\u001b[0m\n\u001b[1;32m   1000\u001b[0m                               \u001b[0minitial_epoch\u001b[0m\u001b[0;34m=\u001b[0m\u001b[0minitial_epoch\u001b[0m\u001b[0;34m,\u001b[0m\u001b[0;34m\u001b[0m\u001b[0m\n\u001b[1;32m   1001\u001b[0m                               \u001b[0msteps_per_epoch\u001b[0m\u001b[0;34m=\u001b[0m\u001b[0msteps_per_epoch\u001b[0m\u001b[0;34m,\u001b[0m\u001b[0;34m\u001b[0m\u001b[0m\n\u001b[0;32m-> 1002\u001b[0;31m                               validation_steps=validation_steps)\n\u001b[0m\u001b[1;32m   1003\u001b[0m \u001b[0;34m\u001b[0m\u001b[0m\n\u001b[1;32m   1004\u001b[0m     def evaluate(self, x=None, y=None,\n",
      "\u001b[0;32m~/.local/lib/python3.5/site-packages/keras/engine/training.py\u001b[0m in \u001b[0;36mfit\u001b[0;34m(self, x, y, batch_size, epochs, verbose, callbacks, validation_split, validation_data, shuffle, class_weight, sample_weight, initial_epoch, steps_per_epoch, validation_steps, **kwargs)\u001b[0m\n\u001b[1;32m   1703\u001b[0m                               \u001b[0minitial_epoch\u001b[0m\u001b[0;34m=\u001b[0m\u001b[0minitial_epoch\u001b[0m\u001b[0;34m,\u001b[0m\u001b[0;34m\u001b[0m\u001b[0m\n\u001b[1;32m   1704\u001b[0m                               \u001b[0msteps_per_epoch\u001b[0m\u001b[0;34m=\u001b[0m\u001b[0msteps_per_epoch\u001b[0m\u001b[0;34m,\u001b[0m\u001b[0;34m\u001b[0m\u001b[0m\n\u001b[0;32m-> 1705\u001b[0;31m                               validation_steps=validation_steps)\n\u001b[0m\u001b[1;32m   1706\u001b[0m \u001b[0;34m\u001b[0m\u001b[0m\n\u001b[1;32m   1707\u001b[0m     def evaluate(self, x=None, y=None,\n",
      "\u001b[0;32m~/.local/lib/python3.5/site-packages/keras/engine/training.py\u001b[0m in \u001b[0;36m_fit_loop\u001b[0;34m(self, f, ins, out_labels, batch_size, epochs, verbose, callbacks, val_f, val_ins, shuffle, callback_metrics, initial_epoch, steps_per_epoch, validation_steps)\u001b[0m\n\u001b[1;32m   1234\u001b[0m                         \u001b[0mins_batch\u001b[0m\u001b[0;34m[\u001b[0m\u001b[0mi\u001b[0m\u001b[0;34m]\u001b[0m \u001b[0;34m=\u001b[0m \u001b[0mins_batch\u001b[0m\u001b[0;34m[\u001b[0m\u001b[0mi\u001b[0m\u001b[0;34m]\u001b[0m\u001b[0;34m.\u001b[0m\u001b[0mtoarray\u001b[0m\u001b[0;34m(\u001b[0m\u001b[0;34m)\u001b[0m\u001b[0;34m\u001b[0m\u001b[0m\n\u001b[1;32m   1235\u001b[0m \u001b[0;34m\u001b[0m\u001b[0m\n\u001b[0;32m-> 1236\u001b[0;31m                     \u001b[0mouts\u001b[0m \u001b[0;34m=\u001b[0m \u001b[0mf\u001b[0m\u001b[0;34m(\u001b[0m\u001b[0mins_batch\u001b[0m\u001b[0;34m)\u001b[0m\u001b[0;34m\u001b[0m\u001b[0m\n\u001b[0m\u001b[1;32m   1237\u001b[0m                     \u001b[0;32mif\u001b[0m \u001b[0;32mnot\u001b[0m \u001b[0misinstance\u001b[0m\u001b[0;34m(\u001b[0m\u001b[0mouts\u001b[0m\u001b[0;34m,\u001b[0m \u001b[0mlist\u001b[0m\u001b[0;34m)\u001b[0m\u001b[0;34m:\u001b[0m\u001b[0;34m\u001b[0m\u001b[0m\n\u001b[1;32m   1238\u001b[0m                         \u001b[0mouts\u001b[0m \u001b[0;34m=\u001b[0m \u001b[0;34m[\u001b[0m\u001b[0mouts\u001b[0m\u001b[0;34m]\u001b[0m\u001b[0;34m\u001b[0m\u001b[0m\n",
      "\u001b[0;32m~/.local/lib/python3.5/site-packages/keras/backend/tensorflow_backend.py\u001b[0m in \u001b[0;36m__call__\u001b[0;34m(self, inputs)\u001b[0m\n\u001b[1;32m   2480\u001b[0m         \u001b[0msession\u001b[0m \u001b[0;34m=\u001b[0m \u001b[0mget_session\u001b[0m\u001b[0;34m(\u001b[0m\u001b[0;34m)\u001b[0m\u001b[0;34m\u001b[0m\u001b[0m\n\u001b[1;32m   2481\u001b[0m         updated = session.run(fetches=fetches, feed_dict=feed_dict,\n\u001b[0;32m-> 2482\u001b[0;31m                               **self.session_kwargs)\n\u001b[0m\u001b[1;32m   2483\u001b[0m         \u001b[0;32mreturn\u001b[0m \u001b[0mupdated\u001b[0m\u001b[0;34m[\u001b[0m\u001b[0;34m:\u001b[0m\u001b[0mlen\u001b[0m\u001b[0;34m(\u001b[0m\u001b[0mself\u001b[0m\u001b[0;34m.\u001b[0m\u001b[0moutputs\u001b[0m\u001b[0;34m)\u001b[0m\u001b[0;34m]\u001b[0m\u001b[0;34m\u001b[0m\u001b[0m\n\u001b[1;32m   2484\u001b[0m \u001b[0;34m\u001b[0m\u001b[0m\n",
      "\u001b[0;32m/home/casapanshop/anaconda2/envs/py3/lib/python3.5/site-packages/tensorflow/python/client/session.py\u001b[0m in \u001b[0;36mrun\u001b[0;34m(self, fetches, feed_dict, options, run_metadata)\u001b[0m\n\u001b[1;32m    898\u001b[0m     \u001b[0;32mtry\u001b[0m\u001b[0;34m:\u001b[0m\u001b[0;34m\u001b[0m\u001b[0m\n\u001b[1;32m    899\u001b[0m       result = self._run(None, fetches, feed_dict, options_ptr,\n\u001b[0;32m--> 900\u001b[0;31m                          run_metadata_ptr)\n\u001b[0m\u001b[1;32m    901\u001b[0m       \u001b[0;32mif\u001b[0m \u001b[0mrun_metadata\u001b[0m\u001b[0;34m:\u001b[0m\u001b[0;34m\u001b[0m\u001b[0m\n\u001b[1;32m    902\u001b[0m         \u001b[0mproto_data\u001b[0m \u001b[0;34m=\u001b[0m \u001b[0mtf_session\u001b[0m\u001b[0;34m.\u001b[0m\u001b[0mTF_GetBuffer\u001b[0m\u001b[0;34m(\u001b[0m\u001b[0mrun_metadata_ptr\u001b[0m\u001b[0;34m)\u001b[0m\u001b[0;34m\u001b[0m\u001b[0m\n",
      "\u001b[0;32m/home/casapanshop/anaconda2/envs/py3/lib/python3.5/site-packages/tensorflow/python/client/session.py\u001b[0m in \u001b[0;36m_run\u001b[0;34m(self, handle, fetches, feed_dict, options, run_metadata)\u001b[0m\n\u001b[1;32m   1133\u001b[0m     \u001b[0;32mif\u001b[0m \u001b[0mfinal_fetches\u001b[0m \u001b[0;32mor\u001b[0m \u001b[0mfinal_targets\u001b[0m \u001b[0;32mor\u001b[0m \u001b[0;34m(\u001b[0m\u001b[0mhandle\u001b[0m \u001b[0;32mand\u001b[0m \u001b[0mfeed_dict_tensor\u001b[0m\u001b[0;34m)\u001b[0m\u001b[0;34m:\u001b[0m\u001b[0;34m\u001b[0m\u001b[0m\n\u001b[1;32m   1134\u001b[0m       results = self._do_run(handle, final_targets, final_fetches,\n\u001b[0;32m-> 1135\u001b[0;31m                              feed_dict_tensor, options, run_metadata)\n\u001b[0m\u001b[1;32m   1136\u001b[0m     \u001b[0;32melse\u001b[0m\u001b[0;34m:\u001b[0m\u001b[0;34m\u001b[0m\u001b[0m\n\u001b[1;32m   1137\u001b[0m       \u001b[0mresults\u001b[0m \u001b[0;34m=\u001b[0m \u001b[0;34m[\u001b[0m\u001b[0;34m]\u001b[0m\u001b[0;34m\u001b[0m\u001b[0m\n",
      "\u001b[0;32m/home/casapanshop/anaconda2/envs/py3/lib/python3.5/site-packages/tensorflow/python/client/session.py\u001b[0m in \u001b[0;36m_do_run\u001b[0;34m(self, handle, target_list, fetch_list, feed_dict, options, run_metadata)\u001b[0m\n\u001b[1;32m   1314\u001b[0m     \u001b[0;32mif\u001b[0m \u001b[0mhandle\u001b[0m \u001b[0;32mis\u001b[0m \u001b[0;32mNone\u001b[0m\u001b[0;34m:\u001b[0m\u001b[0;34m\u001b[0m\u001b[0m\n\u001b[1;32m   1315\u001b[0m       return self._do_call(_run_fn, feeds, fetches, targets, options,\n\u001b[0;32m-> 1316\u001b[0;31m                            run_metadata)\n\u001b[0m\u001b[1;32m   1317\u001b[0m     \u001b[0;32melse\u001b[0m\u001b[0;34m:\u001b[0m\u001b[0;34m\u001b[0m\u001b[0m\n\u001b[1;32m   1318\u001b[0m       \u001b[0;32mreturn\u001b[0m \u001b[0mself\u001b[0m\u001b[0;34m.\u001b[0m\u001b[0m_do_call\u001b[0m\u001b[0;34m(\u001b[0m\u001b[0m_prun_fn\u001b[0m\u001b[0;34m,\u001b[0m \u001b[0mhandle\u001b[0m\u001b[0;34m,\u001b[0m \u001b[0mfeeds\u001b[0m\u001b[0;34m,\u001b[0m \u001b[0mfetches\u001b[0m\u001b[0;34m)\u001b[0m\u001b[0;34m\u001b[0m\u001b[0m\n",
      "\u001b[0;32m/home/casapanshop/anaconda2/envs/py3/lib/python3.5/site-packages/tensorflow/python/client/session.py\u001b[0m in \u001b[0;36m_do_call\u001b[0;34m(self, fn, *args)\u001b[0m\n\u001b[1;32m   1320\u001b[0m   \u001b[0;32mdef\u001b[0m \u001b[0m_do_call\u001b[0m\u001b[0;34m(\u001b[0m\u001b[0mself\u001b[0m\u001b[0;34m,\u001b[0m \u001b[0mfn\u001b[0m\u001b[0;34m,\u001b[0m \u001b[0;34m*\u001b[0m\u001b[0margs\u001b[0m\u001b[0;34m)\u001b[0m\u001b[0;34m:\u001b[0m\u001b[0;34m\u001b[0m\u001b[0m\n\u001b[1;32m   1321\u001b[0m     \u001b[0;32mtry\u001b[0m\u001b[0;34m:\u001b[0m\u001b[0;34m\u001b[0m\u001b[0m\n\u001b[0;32m-> 1322\u001b[0;31m       \u001b[0;32mreturn\u001b[0m \u001b[0mfn\u001b[0m\u001b[0;34m(\u001b[0m\u001b[0;34m*\u001b[0m\u001b[0margs\u001b[0m\u001b[0;34m)\u001b[0m\u001b[0;34m\u001b[0m\u001b[0m\n\u001b[0m\u001b[1;32m   1323\u001b[0m     \u001b[0;32mexcept\u001b[0m \u001b[0merrors\u001b[0m\u001b[0;34m.\u001b[0m\u001b[0mOpError\u001b[0m \u001b[0;32mas\u001b[0m \u001b[0me\u001b[0m\u001b[0;34m:\u001b[0m\u001b[0;34m\u001b[0m\u001b[0m\n\u001b[1;32m   1324\u001b[0m       \u001b[0mmessage\u001b[0m \u001b[0;34m=\u001b[0m \u001b[0mcompat\u001b[0m\u001b[0;34m.\u001b[0m\u001b[0mas_text\u001b[0m\u001b[0;34m(\u001b[0m\u001b[0me\u001b[0m\u001b[0;34m.\u001b[0m\u001b[0mmessage\u001b[0m\u001b[0;34m)\u001b[0m\u001b[0;34m\u001b[0m\u001b[0m\n",
      "\u001b[0;32m/home/casapanshop/anaconda2/envs/py3/lib/python3.5/site-packages/tensorflow/python/client/session.py\u001b[0m in \u001b[0;36m_run_fn\u001b[0;34m(feed_dict, fetch_list, target_list, options, run_metadata)\u001b[0m\n\u001b[1;32m   1305\u001b[0m       \u001b[0mself\u001b[0m\u001b[0;34m.\u001b[0m\u001b[0m_extend_graph\u001b[0m\u001b[0;34m(\u001b[0m\u001b[0;34m)\u001b[0m\u001b[0;34m\u001b[0m\u001b[0m\n\u001b[1;32m   1306\u001b[0m       return self._call_tf_sessionrun(\n\u001b[0;32m-> 1307\u001b[0;31m           options, feed_dict, fetch_list, target_list, run_metadata)\n\u001b[0m\u001b[1;32m   1308\u001b[0m \u001b[0;34m\u001b[0m\u001b[0m\n\u001b[1;32m   1309\u001b[0m     \u001b[0;32mdef\u001b[0m \u001b[0m_prun_fn\u001b[0m\u001b[0;34m(\u001b[0m\u001b[0mhandle\u001b[0m\u001b[0;34m,\u001b[0m \u001b[0mfeed_dict\u001b[0m\u001b[0;34m,\u001b[0m \u001b[0mfetch_list\u001b[0m\u001b[0;34m)\u001b[0m\u001b[0;34m:\u001b[0m\u001b[0;34m\u001b[0m\u001b[0m\n",
      "\u001b[0;32m/home/casapanshop/anaconda2/envs/py3/lib/python3.5/site-packages/tensorflow/python/client/session.py\u001b[0m in \u001b[0;36m_call_tf_sessionrun\u001b[0;34m(self, options, feed_dict, fetch_list, target_list, run_metadata)\u001b[0m\n\u001b[1;32m   1407\u001b[0m       return tf_session.TF_SessionRun_wrapper(\n\u001b[1;32m   1408\u001b[0m           \u001b[0mself\u001b[0m\u001b[0;34m.\u001b[0m\u001b[0m_session\u001b[0m\u001b[0;34m,\u001b[0m \u001b[0moptions\u001b[0m\u001b[0;34m,\u001b[0m \u001b[0mfeed_dict\u001b[0m\u001b[0;34m,\u001b[0m \u001b[0mfetch_list\u001b[0m\u001b[0;34m,\u001b[0m \u001b[0mtarget_list\u001b[0m\u001b[0;34m,\u001b[0m\u001b[0;34m\u001b[0m\u001b[0m\n\u001b[0;32m-> 1409\u001b[0;31m           run_metadata)\n\u001b[0m\u001b[1;32m   1410\u001b[0m     \u001b[0;32melse\u001b[0m\u001b[0;34m:\u001b[0m\u001b[0;34m\u001b[0m\u001b[0m\n\u001b[1;32m   1411\u001b[0m       \u001b[0;32mwith\u001b[0m \u001b[0merrors\u001b[0m\u001b[0;34m.\u001b[0m\u001b[0mraise_exception_on_not_ok_status\u001b[0m\u001b[0;34m(\u001b[0m\u001b[0;34m)\u001b[0m \u001b[0;32mas\u001b[0m \u001b[0mstatus\u001b[0m\u001b[0;34m:\u001b[0m\u001b[0;34m\u001b[0m\u001b[0m\n",
      "\u001b[0;31mKeyboardInterrupt\u001b[0m: "
     ]
    }
   ],
   "source": [
    "gMixture_Ind1 = GroupMixtureInd(Xstd_train.shape[1:],Kl=Kl,M=M_seted,epochs=1,optimizer=OPT,dtype_op=DTYPE_OP) \n",
    "gMixture_Ind1.define_model(\"mlp\",128,1,BatchN=True,drop=0.5)\n",
    "\n",
    "#gMixture_Ind.define_model_group(\"mlp\", T, M_seted, 1, BatchN=True, embed=True, embed_M=A) #con o sin BN\n",
    "gMixture_Ind1.define_model_group(\"perceptron\",T, M_seted, embed=True, embed_M=A, BatchN=True,bias=False)\n",
    "\n",
    "logL_hists,i = gMixture_Ind1.multiples_run(20,Xstd_train,Y_ann_train, T_idx, A=[], batch_size=BATCH_SIZE,\n",
    "                                    pre_init_z=3,pre_init_g=0,max_iter=EPOCHS_BASE,tolerance=TOL)"
   ]
  },
  {
   "cell_type": "code",
   "execution_count": 29,
   "metadata": {},
   "outputs": [
    {
     "ename": "NameError",
     "evalue": "name 'gMixture_Ind1' is not defined",
     "output_type": "error",
     "traceback": [
      "\u001b[0;31m---------------------------------------------------------------------------\u001b[0m",
      "\u001b[0;31mNameError\u001b[0m                                 Traceback (most recent call last)",
      "\u001b[0;32m<ipython-input-29-cea28ee98747>\u001b[0m in \u001b[0;36m<module>\u001b[0;34m()\u001b[0m\n\u001b[0;32m----> 1\u001b[0;31m \u001b[0mZ_train_p\u001b[0m \u001b[0;34m=\u001b[0m \u001b[0mgMixture_Ind1\u001b[0m\u001b[0;34m.\u001b[0m\u001b[0mget_predictions_z\u001b[0m\u001b[0;34m(\u001b[0m\u001b[0mXstd_train\u001b[0m\u001b[0;34m)\u001b[0m\u001b[0;34m\u001b[0m\u001b[0m\n\u001b[0m\u001b[1;32m      2\u001b[0m \u001b[0mZ_train_pred\u001b[0m \u001b[0;34m=\u001b[0m \u001b[0mZ_train_p\u001b[0m\u001b[0;34m.\u001b[0m\u001b[0margmax\u001b[0m\u001b[0;34m(\u001b[0m\u001b[0maxis\u001b[0m\u001b[0;34m=\u001b[0m\u001b[0;34m-\u001b[0m\u001b[0;36m1\u001b[0m\u001b[0;34m)\u001b[0m\u001b[0;34m\u001b[0m\u001b[0m\n\u001b[1;32m      3\u001b[0m \u001b[0mZ_test_p\u001b[0m \u001b[0;34m=\u001b[0m \u001b[0mgMixture_Ind1\u001b[0m\u001b[0;34m.\u001b[0m\u001b[0mget_predictions_z\u001b[0m\u001b[0;34m(\u001b[0m\u001b[0mXstd_test\u001b[0m\u001b[0;34m)\u001b[0m\u001b[0;34m\u001b[0m\u001b[0m\n\u001b[1;32m      4\u001b[0m \u001b[0mZ_test_pred\u001b[0m \u001b[0;34m=\u001b[0m \u001b[0mZ_test_p\u001b[0m\u001b[0;34m.\u001b[0m\u001b[0margmax\u001b[0m\u001b[0;34m(\u001b[0m\u001b[0maxis\u001b[0m\u001b[0;34m=\u001b[0m\u001b[0;34m-\u001b[0m\u001b[0;36m1\u001b[0m\u001b[0;34m)\u001b[0m\u001b[0;34m\u001b[0m\u001b[0m\n\u001b[1;32m      5\u001b[0m \u001b[0mprob_Gt\u001b[0m \u001b[0;34m=\u001b[0m \u001b[0mgMixture_Ind1\u001b[0m\u001b[0;34m.\u001b[0m\u001b[0mget_predictions_g\u001b[0m\u001b[0;34m(\u001b[0m\u001b[0mT_idx_unique\u001b[0m\u001b[0;34m)\u001b[0m\u001b[0;34m\u001b[0m\u001b[0m\n",
      "\u001b[0;31mNameError\u001b[0m: name 'gMixture_Ind1' is not defined"
     ]
    }
   ],
   "source": [
    "Z_train_p = gMixture_Ind1.get_predictions_z(Xstd_train)\n",
    "Z_train_pred = Z_train_p.argmax(axis=-1)\n",
    "Z_val_p = gMixture_Ind1.get_predictions(Xstd_val)\n",
    "Z_val_pred = Z_val_p.argmax(axis=-1)\n",
    "Z_test_p = gMixture_Ind1.get_predictions_z(Xstd_test)\n",
    "Z_test_pred = Z_test_p.argmax(axis=-1)\n",
    "prob_Gt = gMixture_Ind1.get_predictions_g(T_idx_unique) "
   ]
  },
  {
   "cell_type": "code",
   "execution_count": 30,
   "metadata": {},
   "outputs": [
    {
     "ename": "NameError",
     "evalue": "name 'Xstd_train' is not defined",
     "output_type": "error",
     "traceback": [
      "\u001b[0;31m---------------------------------------------------------------------------\u001b[0m",
      "\u001b[0;31mNameError\u001b[0m                                 Traceback (most recent call last)",
      "\u001b[0;32m<ipython-input-30-5cbf0084a3cd>\u001b[0m in \u001b[0;36m<module>\u001b[0;34m()\u001b[0m\n\u001b[0;32m----> 1\u001b[0;31m \u001b[0mgMixture_Ind2\u001b[0m \u001b[0;34m=\u001b[0m \u001b[0mGroupMixtureInd\u001b[0m\u001b[0;34m(\u001b[0m\u001b[0mXstd_train\u001b[0m\u001b[0;34m.\u001b[0m\u001b[0mshape\u001b[0m\u001b[0;34m[\u001b[0m\u001b[0;36m1\u001b[0m\u001b[0;34m:\u001b[0m\u001b[0;34m]\u001b[0m\u001b[0;34m,\u001b[0m\u001b[0mKl\u001b[0m\u001b[0;34m=\u001b[0m\u001b[0mKl\u001b[0m\u001b[0;34m,\u001b[0m\u001b[0mM\u001b[0m\u001b[0;34m=\u001b[0m\u001b[0mM_seted\u001b[0m\u001b[0;34m,\u001b[0m\u001b[0mepochs\u001b[0m\u001b[0;34m=\u001b[0m\u001b[0;36m1\u001b[0m\u001b[0;34m,\u001b[0m\u001b[0moptimizer\u001b[0m\u001b[0;34m=\u001b[0m\u001b[0mOPT\u001b[0m\u001b[0;34m,\u001b[0m\u001b[0mdtype_op\u001b[0m\u001b[0;34m=\u001b[0m\u001b[0mDTYPE_OP\u001b[0m\u001b[0;34m)\u001b[0m\u001b[0;34m\u001b[0m\u001b[0m\n\u001b[0m\u001b[1;32m      2\u001b[0m \u001b[0mgMixture_Ind2\u001b[0m\u001b[0;34m.\u001b[0m\u001b[0mdefine_model\u001b[0m\u001b[0;34m(\u001b[0m\u001b[0;34m\"mlp\"\u001b[0m\u001b[0;34m,\u001b[0m\u001b[0;36m128\u001b[0m\u001b[0;34m,\u001b[0m\u001b[0;36m1\u001b[0m\u001b[0;34m,\u001b[0m\u001b[0mBatchN\u001b[0m\u001b[0;34m=\u001b[0m\u001b[0;32mFalse\u001b[0m\u001b[0;34m,\u001b[0m\u001b[0mdrop\u001b[0m\u001b[0;34m=\u001b[0m\u001b[0;36m0.5\u001b[0m\u001b[0;34m)\u001b[0m\u001b[0;34m\u001b[0m\u001b[0m\n\u001b[1;32m      3\u001b[0m \u001b[0;31m#gMixture_Ind.define_model_group(\"mlp\", T, M_seted, 1, BatchN=True, embed=True, embed_M=A) #con o sin BN\u001b[0m\u001b[0;34m\u001b[0m\u001b[0;34m\u001b[0m\u001b[0m\n\u001b[1;32m      4\u001b[0m \u001b[0;31m#gMixture_Ind.define_model_group(\"keras_shallow\", T, M_seted,embed=True, embed_M=A) #pareciera ser necesario pr-init\u001b[0m\u001b[0;34m\u001b[0m\u001b[0;34m\u001b[0m\u001b[0m\n\u001b[1;32m      5\u001b[0m \u001b[0;34m\u001b[0m\u001b[0m\n",
      "\u001b[0;31mNameError\u001b[0m: name 'Xstd_train' is not defined"
     ]
    }
   ],
   "source": [
    "gMixture_Ind2 = GroupMixtureInd(Xstd_train.shape[1:],Kl=Kl,M=M_seted,epochs=1,optimizer=OPT,dtype_op=DTYPE_OP) \n",
    "gMixture_Ind2.define_model(\"mlp\",128,1,BatchN=True,drop=0.5)\n",
    "#gMixture_Ind.define_model_group(\"mlp\", T, M_seted, 1, BatchN=True, embed=True, embed_M=A) #con o sin BN\n",
    "#gMixture_Ind.define_model_group(\"keras_shallow\", T, M_seted,embed=True, embed_M=A) #pareciera ser necesario pr-init\n",
    "\n",
    "logL_hists,i = gMixture_Ind2.multiples_run(20,Xstd_train,Y_ann_train, T_idx, A=[], batch_size=BATCH_SIZE,\n",
    "                                    pre_init_z=3,pre_init_g=0,max_iter=EPOCHS_BASE,tolerance=TOL)"
   ]
  },
  {
   "cell_type": "code",
   "execution_count": 42,
   "metadata": {
    "scrolled": true
   },
   "outputs": [
    {
     "name": "stdout",
     "output_type": "stream",
     "text": [
      "Needed params (units,deep,drop,BatchN?)\n",
      "Needed params (units,deep,drop,BatchN?)\n",
      "Initializing new EM...\n",
      "Doing clustering...Done!\n",
      "Get init alphas in 0.000222 mins\n",
      "Lambda by group:  [1. 1. 1.]\n",
      "Pre-train networks over *z* on 3 epochs... Done!\n",
      "MV init:  (17363, 4)\n",
      "Betas:  (3, 4, 4)\n",
      "Q estimate:  (34067, 3, 4)\n",
      "Iter 1/50\n",
      "M step: done,  E step: done //  (in 4.49 sec)\tlogL: -36335.335\t\n",
      "Iter 2/50\n",
      "M step: done,  E step: done //  (in 2.14 sec)\tlogL: -34518.826\tTol1: 0.04999\tTol2: 0.33779\t\n",
      "Iter 3/50\n",
      "M step: done,  E step: done //  (in 2.15 sec)\tlogL: -33755.252\tTol1: 0.02212\tTol2: 0.25170\t\n",
      "Iter 4/50\n",
      "M step: done,  E step: done //  (in 2.14 sec)\tlogL: -33184.764\tTol1: 0.01690\tTol2: 0.21064\t\n",
      "Iter 5/50\n",
      "M step: done,  E step: done //  (in 2.15 sec)\tlogL: -32683.362\tTol1: 0.01511\tTol2: 0.19462\t\n",
      "Iter 6/50\n",
      "M step: done,  E step: done //  (in 2.14 sec)\tlogL: -32290.278\tTol1: 0.01203\tTol2: 0.16352\t\n",
      "Iter 7/50\n",
      "M step: done,  E step: done //  (in 2.15 sec)\tlogL: -31853.893\tTol1: 0.01351\tTol2: 0.16095\t\n",
      "Iter 8/50\n",
      "M step: done,  E step: done //  (in 2.15 sec)\tlogL: -31476.288\tTol1: 0.01185\tTol2: 0.15161\t\n",
      "Iter 9/50\n",
      "M step: done,  E step: done //  (in 2.15 sec)\tlogL: -31107.321\tTol1: 0.01172\tTol2: 0.12658\t\n",
      "Iter 10/50\n",
      "M step: done,  E step: done //  (in 2.06 sec)\tlogL: -30747.606\tTol1: 0.01156\tTol2: 0.09743\t\n",
      "Iter 11/50\n",
      "M step: done,  E step: done //  (in 2.11 sec)\tlogL: -30429.359\tTol1: 0.01035\tTol2: 0.11137\t\n",
      "Iter 12/50\n",
      "M step: done,  E step: done //  (in 2.15 sec)\tlogL: -29946.771\tTol1: 0.01586\tTol2: 0.08470\t\n",
      "Iter 13/50\n",
      "M step: done,  E step: done //  (in 2.13 sec)\tlogL: -29629.268\tTol1: 0.01060\tTol2: 0.07634\t\n",
      "Iter 14/50\n",
      "M step: done,  E step: done //  (in 2.14 sec)\tlogL: -29324.494\tTol1: 0.01029\tTol2: 0.07075\t\n",
      "Iter 15/50\n",
      "M step: done,  E step: done //  (in 2.13 sec)\tlogL: -29370.209\tTol1: 0.00156\tTol2: 0.06681\t\n",
      "Iter 16/50\n",
      "M step: done,  E step: done //  (in 2.16 sec)\tlogL: -28904.719\tTol1: 0.01585\tTol2: 0.07158\t\n",
      "Iter 17/50\n",
      "M step: done,  E step: done //  (in 2.14 sec)\tlogL: -28492.972\tTol1: 0.01424\tTol2: 0.05889\t\n",
      "Iter 18/50\n",
      "M step: done,  E step: done //  (in 2.12 sec)\tlogL: -28316.760\tTol1: 0.00618\tTol2: 0.08264\t\n",
      "Iter 19/50\n",
      "M step: done,  E step: done //  (in 2.14 sec)\tlogL: -28123.893\tTol1: 0.00681\tTol2: 0.06833\t\n",
      "Iter 20/50\n",
      "M step: done,  E step: done //  (in 2.15 sec)\tlogL: -27907.089\tTol1: 0.00771\tTol2: 0.07735\t\n",
      "Iter 21/50\n",
      "M step: done,  E step: done //  (in 2.14 sec)\tlogL: -27634.621\tTol1: 0.00976\tTol2: 0.05004\t\n",
      "Iter 22/50\n",
      "M step: done,  E step: done //  (in 2.13 sec)\tlogL: -27302.043\tTol1: 0.01203\tTol2: 0.05373\t\n",
      "Iter 23/50\n",
      "M step: done,  E step: done //  (in 2.13 sec)\tlogL: -27226.770\tTol1: 0.00276\tTol2: 0.06682\t\n",
      "Iter 24/50\n",
      "M step: done,  E step: done //  (in 2.15 sec)\tlogL: -26893.464\tTol1: 0.01224\tTol2: 0.05482\t\n",
      "Iter 25/50\n",
      "M step: done,  E step: done //  (in 2.14 sec)\tlogL: -26796.202\tTol1: 0.00362\tTol2: 0.04277\t\n",
      "Iter 26/50\n",
      "M step: done,  E step: done //  (in 2.15 sec)\tlogL: -26478.470\tTol1: 0.01186\tTol2: 0.06221\t\n",
      "Iter 27/50\n",
      "M step: done,  E step: done //  (in 2.14 sec)\tlogL: -26263.800\tTol1: 0.00811\tTol2: 0.06019\t\n",
      "Iter 28/50\n",
      "M step: done,  E step: done //  (in 2.15 sec)\tlogL: -26030.586\tTol1: 0.00888\tTol2: 0.05221\t\n",
      "Iter 29/50\n",
      "M step: done,  E step: done //  (in 2.13 sec)\tlogL: -25818.303\tTol1: 0.00816\tTol2: 0.06476\t\n",
      "Iter 30/50\n",
      "M step: done,  E step: done //  (in 2.15 sec)\tlogL: -25823.611\tTol1: 0.00021\tTol2: 0.04565\t\n",
      "Iter 31/50\n",
      "M step: done,  E step: done //  (in 2.15 sec)\tlogL: -25634.033\tTol1: 0.00734\tTol2: 0.04346\t\n",
      "Iter 32/50\n",
      "M step: done,  E step: done //  (in 2.15 sec)\tlogL: -25314.855\tTol1: 0.01245\tTol2: 0.03540\t\n",
      "Iter 33/50\n",
      "M step: done,  E step: done //  (in 2.16 sec)\tlogL: -25326.127\tTol1: 0.00045\tTol2: 0.05342\t\n",
      "Iter 34/50\n",
      "M step: done,  E step: done //  (in 2.15 sec)\tlogL: -25167.334\tTol1: 0.00627\tTol2: 0.04121\t\n",
      "Iter 35/50\n",
      "M step: done,  E step: done //  (in 2.15 sec)\tlogL: -25171.595\tTol1: 0.00017\tTol2: 0.04729\t\n",
      "Iter 36/50\n",
      "M step: done,  E step: done //  (in 2.15 sec)\tlogL: -24780.852\tTol1: 0.01552\tTol2: 0.04050\t\n",
      "Iter 37/50\n",
      "M step: done,  E step: done //  (in 2.13 sec)\tlogL: -24633.984\tTol1: 0.00593\tTol2: 0.04154\t\n",
      "Iter 38/50\n",
      "M step: done,  E step: done //  (in 2.14 sec)\tlogL: -24595.975\tTol1: 0.00154\tTol2: 0.02973\t\n",
      "Finished training!\n",
      "Initializing new EM...\n",
      "Doing clustering...Done!\n",
      "Get init alphas in 0.000358 mins\n",
      "Lambda by group:  [1. 1. 1.]\n",
      "Pre-train networks over *z* on 3 epochs... Done!\n",
      "MV init:  (17363, 4)\n",
      "Betas:  (3, 4, 4)\n",
      "Q estimate:  (34067, 3, 4)\n",
      "Iter 1/50\n",
      "M step:"
     ]
    },
    {
     "ename": "KeyboardInterrupt",
     "evalue": "",
     "output_type": "error",
     "traceback": [
      "\u001b[0;31m---------------------------------------------------------------------------\u001b[0m",
      "\u001b[0;31mKeyboardInterrupt\u001b[0m                         Traceback (most recent call last)",
      "\u001b[0;32m<ipython-input-42-cab44174cbb2>\u001b[0m in \u001b[0;36m<module>\u001b[0;34m()\u001b[0m\n\u001b[1;32m      4\u001b[0m \u001b[0;34m\u001b[0m\u001b[0m\n\u001b[1;32m      5\u001b[0m logL_hists,i_r = gMixture_Ind3.multiples_run(20,Xstd_train,Y_ann_train, T_idx, A=A_rep, batch_size=BATCH_SIZE,\n\u001b[0;32m----> 6\u001b[0;31m                                    pre_init_z=3,pre_init_g=0,max_iter=EPOCHS_BASE,tolerance=TOL) \n\u001b[0m",
      "\u001b[0;32m~/Desktop/Dataset_Tesis/MixtureofGroups/code/MixtureofGroups.py\u001b[0m in \u001b[0;36mmultiples_run\u001b[0;34m(self, Runs, X, Y_ann, T_idx, A, pre_init_z, pre_init_g, batch_size, max_iter, tolerance)\u001b[0m\n\u001b[1;32m    876\u001b[0m                 \u001b[0mself\u001b[0m\u001b[0;34m.\u001b[0m\u001b[0mgroup_model\u001b[0m\u001b[0;34m.\u001b[0m\u001b[0mcompile\u001b[0m\u001b[0;34m(\u001b[0m\u001b[0mloss\u001b[0m\u001b[0;34m=\u001b[0m\u001b[0;34m'categorical_crossentropy'\u001b[0m\u001b[0;34m,\u001b[0m\u001b[0moptimizer\u001b[0m\u001b[0;34m=\u001b[0m\u001b[0mself\u001b[0m\u001b[0;34m.\u001b[0m\u001b[0moptimizer\u001b[0m\u001b[0;34m)\u001b[0m\u001b[0;34m\u001b[0m\u001b[0m\n\u001b[1;32m    877\u001b[0m \u001b[0;34m\u001b[0m\u001b[0m\n\u001b[0;32m--> 878\u001b[0;31m             \u001b[0mlogL_hist\u001b[0m \u001b[0;34m=\u001b[0m \u001b[0mself\u001b[0m\u001b[0;34m.\u001b[0m\u001b[0mtrain\u001b[0m\u001b[0;34m(\u001b[0m\u001b[0mX\u001b[0m\u001b[0;34m,\u001b[0m\u001b[0mY_ann\u001b[0m\u001b[0;34m,\u001b[0m\u001b[0mT_idx\u001b[0m\u001b[0;34m,\u001b[0m \u001b[0mA_train\u001b[0m\u001b[0;34m=\u001b[0m\u001b[0mA\u001b[0m\u001b[0;34m,\u001b[0m \u001b[0mpre_init_z\u001b[0m\u001b[0;34m=\u001b[0m\u001b[0mpre_init_z\u001b[0m\u001b[0;34m,\u001b[0m\u001b[0mpre_init_g\u001b[0m\u001b[0;34m=\u001b[0m\u001b[0mpre_init_g\u001b[0m\u001b[0;34m,\u001b[0m \u001b[0mbatch_size\u001b[0m\u001b[0;34m=\u001b[0m\u001b[0mbatch_size\u001b[0m\u001b[0;34m,\u001b[0m\u001b[0mmax_iter\u001b[0m\u001b[0;34m=\u001b[0m\u001b[0mmax_iter\u001b[0m\u001b[0;34m,\u001b[0m\u001b[0mtolerance\u001b[0m\u001b[0;34m=\u001b[0m\u001b[0mtolerance\u001b[0m\u001b[0;34m)\u001b[0m \u001b[0;31m#here the models get resets\u001b[0m\u001b[0;34m\u001b[0m\u001b[0m\n\u001b[0m\u001b[1;32m    879\u001b[0m \u001b[0;34m\u001b[0m\u001b[0m\n\u001b[1;32m    880\u001b[0m             \u001b[0mfound_betas\u001b[0m\u001b[0;34m.\u001b[0m\u001b[0mappend\u001b[0m\u001b[0;34m(\u001b[0m\u001b[0mself\u001b[0m\u001b[0;34m.\u001b[0m\u001b[0mbetas\u001b[0m\u001b[0;34m.\u001b[0m\u001b[0mcopy\u001b[0m\u001b[0;34m(\u001b[0m\u001b[0;34m)\u001b[0m\u001b[0;34m)\u001b[0m\u001b[0;34m\u001b[0m\u001b[0m\n",
      "\u001b[0;32m~/Desktop/Dataset_Tesis/MixtureofGroups/code/MixtureofGroups.py\u001b[0m in \u001b[0;36mtrain\u001b[0;34m(self, X_train, Y_ann_train, T_idx, A_train, pre_init_z, pre_init_g, batch_size, max_iter, relative, tolerance)\u001b[0m\n\u001b[1;32m    807\u001b[0m             \u001b[0mstart_time\u001b[0m \u001b[0;34m=\u001b[0m \u001b[0mtime\u001b[0m\u001b[0;34m.\u001b[0m\u001b[0mtime\u001b[0m\u001b[0;34m(\u001b[0m\u001b[0;34m)\u001b[0m\u001b[0;34m\u001b[0m\u001b[0m\n\u001b[1;32m    808\u001b[0m             \u001b[0mprint\u001b[0m\u001b[0;34m(\u001b[0m\u001b[0;34m\"Iter %d/%d\\nM step:\"\u001b[0m\u001b[0;34m%\u001b[0m\u001b[0;34m(\u001b[0m\u001b[0mself\u001b[0m\u001b[0;34m.\u001b[0m\u001b[0mcurrent_iter\u001b[0m\u001b[0;34m,\u001b[0m\u001b[0mmax_iter\u001b[0m\u001b[0;34m)\u001b[0m\u001b[0;34m,\u001b[0m\u001b[0mend\u001b[0m\u001b[0;34m=\u001b[0m\u001b[0;34m''\u001b[0m\u001b[0;34m,\u001b[0m\u001b[0mflush\u001b[0m\u001b[0;34m=\u001b[0m\u001b[0;32mTrue\u001b[0m\u001b[0;34m)\u001b[0m\u001b[0;34m\u001b[0m\u001b[0m\n\u001b[0;32m--> 809\u001b[0;31m             \u001b[0mself\u001b[0m\u001b[0;34m.\u001b[0m\u001b[0mM_step\u001b[0m\u001b[0;34m(\u001b[0m\u001b[0mX_train\u001b[0m\u001b[0;34m,\u001b[0m \u001b[0mY_ann_train\u001b[0m\u001b[0;34m,\u001b[0m \u001b[0mA_train\u001b[0m\u001b[0;34m)\u001b[0m\u001b[0;34m\u001b[0m\u001b[0m\n\u001b[0m\u001b[1;32m    810\u001b[0m             \u001b[0mprint\u001b[0m\u001b[0;34m(\u001b[0m\u001b[0;34m\" done,  E step:\"\u001b[0m\u001b[0;34m,\u001b[0m\u001b[0mend\u001b[0m\u001b[0;34m=\u001b[0m\u001b[0;34m''\u001b[0m\u001b[0;34m,\u001b[0m\u001b[0mflush\u001b[0m\u001b[0;34m=\u001b[0m\u001b[0;32mTrue\u001b[0m\u001b[0;34m)\u001b[0m\u001b[0;34m\u001b[0m\u001b[0m\n\u001b[1;32m    811\u001b[0m             \u001b[0mpredictions_z\u001b[0m \u001b[0;34m=\u001b[0m \u001b[0mself\u001b[0m\u001b[0;34m.\u001b[0m\u001b[0mget_predictions_z\u001b[0m\u001b[0;34m(\u001b[0m\u001b[0mX_train\u001b[0m\u001b[0;34m)\u001b[0m \u001b[0;31m#p(z|x)\u001b[0m\u001b[0;34m\u001b[0m\u001b[0m\n",
      "\u001b[0;32m~/Desktop/Dataset_Tesis/MixtureofGroups/code/MixtureofGroups.py\u001b[0m in \u001b[0;36mM_step\u001b[0;34m(self, X, Y_ann, A)\u001b[0m\n\u001b[1;32m    752\u001b[0m             \u001b[0mself\u001b[0m\u001b[0;34m.\u001b[0m\u001b[0mbase_model\u001b[0m\u001b[0;34m.\u001b[0m\u001b[0mfit\u001b[0m\u001b[0;34m(\u001b[0m\u001b[0mX\u001b[0m\u001b[0;34m,\u001b[0m \u001b[0mnp\u001b[0m\u001b[0;34m.\u001b[0m\u001b[0margmax\u001b[0m\u001b[0;34m(\u001b[0m\u001b[0mr_estimate\u001b[0m\u001b[0;34m,\u001b[0m\u001b[0maxis\u001b[0m\u001b[0;34m=\u001b[0m\u001b[0;36m1\u001b[0m\u001b[0;34m)\u001b[0m \u001b[0;34m)\u001b[0m\u001b[0;34m\u001b[0m\u001b[0m\n\u001b[1;32m    753\u001b[0m         \u001b[0;32melse\u001b[0m\u001b[0;34m:\u001b[0m\u001b[0;34m\u001b[0m\u001b[0m\n\u001b[0;32m--> 754\u001b[0;31m             \u001b[0mself\u001b[0m\u001b[0;34m.\u001b[0m\u001b[0mbase_model\u001b[0m\u001b[0;34m.\u001b[0m\u001b[0mfit\u001b[0m\u001b[0;34m(\u001b[0m\u001b[0mX\u001b[0m\u001b[0;34m,\u001b[0m \u001b[0mr_estimate\u001b[0m\u001b[0;34m,\u001b[0m \u001b[0mbatch_size\u001b[0m\u001b[0;34m=\u001b[0m\u001b[0mself\u001b[0m\u001b[0;34m.\u001b[0m\u001b[0mbatch_size\u001b[0m\u001b[0;34m,\u001b[0m\u001b[0mepochs\u001b[0m\u001b[0;34m=\u001b[0m\u001b[0mself\u001b[0m\u001b[0;34m.\u001b[0m\u001b[0mepochs\u001b[0m\u001b[0;34m,\u001b[0m\u001b[0mverbose\u001b[0m\u001b[0;34m=\u001b[0m\u001b[0;36m0\u001b[0m\u001b[0;34m)\u001b[0m\u001b[0;34m\u001b[0m\u001b[0m\n\u001b[0m\u001b[1;32m    755\u001b[0m \u001b[0;34m\u001b[0m\u001b[0m\n\u001b[1;32m    756\u001b[0m         \u001b[0;31m#-------> alpha\u001b[0m\u001b[0;34m\u001b[0m\u001b[0;34m\u001b[0m\u001b[0m\n",
      "\u001b[0;32m~/.local/lib/python3.5/site-packages/keras/models.py\u001b[0m in \u001b[0;36mfit\u001b[0;34m(self, x, y, batch_size, epochs, verbose, callbacks, validation_split, validation_data, shuffle, class_weight, sample_weight, initial_epoch, steps_per_epoch, validation_steps, **kwargs)\u001b[0m\n\u001b[1;32m   1000\u001b[0m                               \u001b[0minitial_epoch\u001b[0m\u001b[0;34m=\u001b[0m\u001b[0minitial_epoch\u001b[0m\u001b[0;34m,\u001b[0m\u001b[0;34m\u001b[0m\u001b[0m\n\u001b[1;32m   1001\u001b[0m                               \u001b[0msteps_per_epoch\u001b[0m\u001b[0;34m=\u001b[0m\u001b[0msteps_per_epoch\u001b[0m\u001b[0;34m,\u001b[0m\u001b[0;34m\u001b[0m\u001b[0m\n\u001b[0;32m-> 1002\u001b[0;31m                               validation_steps=validation_steps)\n\u001b[0m\u001b[1;32m   1003\u001b[0m \u001b[0;34m\u001b[0m\u001b[0m\n\u001b[1;32m   1004\u001b[0m     def evaluate(self, x=None, y=None,\n",
      "\u001b[0;32m~/.local/lib/python3.5/site-packages/keras/engine/training.py\u001b[0m in \u001b[0;36mfit\u001b[0;34m(self, x, y, batch_size, epochs, verbose, callbacks, validation_split, validation_data, shuffle, class_weight, sample_weight, initial_epoch, steps_per_epoch, validation_steps, **kwargs)\u001b[0m\n\u001b[1;32m   1703\u001b[0m                               \u001b[0minitial_epoch\u001b[0m\u001b[0;34m=\u001b[0m\u001b[0minitial_epoch\u001b[0m\u001b[0;34m,\u001b[0m\u001b[0;34m\u001b[0m\u001b[0m\n\u001b[1;32m   1704\u001b[0m                               \u001b[0msteps_per_epoch\u001b[0m\u001b[0;34m=\u001b[0m\u001b[0msteps_per_epoch\u001b[0m\u001b[0;34m,\u001b[0m\u001b[0;34m\u001b[0m\u001b[0m\n\u001b[0;32m-> 1705\u001b[0;31m                               validation_steps=validation_steps)\n\u001b[0m\u001b[1;32m   1706\u001b[0m \u001b[0;34m\u001b[0m\u001b[0m\n\u001b[1;32m   1707\u001b[0m     def evaluate(self, x=None, y=None,\n",
      "\u001b[0;32m~/.local/lib/python3.5/site-packages/keras/engine/training.py\u001b[0m in \u001b[0;36m_fit_loop\u001b[0;34m(self, f, ins, out_labels, batch_size, epochs, verbose, callbacks, val_f, val_ins, shuffle, callback_metrics, initial_epoch, steps_per_epoch, validation_steps)\u001b[0m\n\u001b[1;32m   1234\u001b[0m                         \u001b[0mins_batch\u001b[0m\u001b[0;34m[\u001b[0m\u001b[0mi\u001b[0m\u001b[0;34m]\u001b[0m \u001b[0;34m=\u001b[0m \u001b[0mins_batch\u001b[0m\u001b[0;34m[\u001b[0m\u001b[0mi\u001b[0m\u001b[0;34m]\u001b[0m\u001b[0;34m.\u001b[0m\u001b[0mtoarray\u001b[0m\u001b[0;34m(\u001b[0m\u001b[0;34m)\u001b[0m\u001b[0;34m\u001b[0m\u001b[0m\n\u001b[1;32m   1235\u001b[0m \u001b[0;34m\u001b[0m\u001b[0m\n\u001b[0;32m-> 1236\u001b[0;31m                     \u001b[0mouts\u001b[0m \u001b[0;34m=\u001b[0m \u001b[0mf\u001b[0m\u001b[0;34m(\u001b[0m\u001b[0mins_batch\u001b[0m\u001b[0;34m)\u001b[0m\u001b[0;34m\u001b[0m\u001b[0m\n\u001b[0m\u001b[1;32m   1237\u001b[0m                     \u001b[0;32mif\u001b[0m \u001b[0;32mnot\u001b[0m \u001b[0misinstance\u001b[0m\u001b[0;34m(\u001b[0m\u001b[0mouts\u001b[0m\u001b[0;34m,\u001b[0m \u001b[0mlist\u001b[0m\u001b[0;34m)\u001b[0m\u001b[0;34m:\u001b[0m\u001b[0;34m\u001b[0m\u001b[0m\n\u001b[1;32m   1238\u001b[0m                         \u001b[0mouts\u001b[0m \u001b[0;34m=\u001b[0m \u001b[0;34m[\u001b[0m\u001b[0mouts\u001b[0m\u001b[0;34m]\u001b[0m\u001b[0;34m\u001b[0m\u001b[0m\n",
      "\u001b[0;32m~/.local/lib/python3.5/site-packages/keras/backend/tensorflow_backend.py\u001b[0m in \u001b[0;36m__call__\u001b[0;34m(self, inputs)\u001b[0m\n\u001b[1;32m   2480\u001b[0m         \u001b[0msession\u001b[0m \u001b[0;34m=\u001b[0m \u001b[0mget_session\u001b[0m\u001b[0;34m(\u001b[0m\u001b[0;34m)\u001b[0m\u001b[0;34m\u001b[0m\u001b[0m\n\u001b[1;32m   2481\u001b[0m         updated = session.run(fetches=fetches, feed_dict=feed_dict,\n\u001b[0;32m-> 2482\u001b[0;31m                               **self.session_kwargs)\n\u001b[0m\u001b[1;32m   2483\u001b[0m         \u001b[0;32mreturn\u001b[0m \u001b[0mupdated\u001b[0m\u001b[0;34m[\u001b[0m\u001b[0;34m:\u001b[0m\u001b[0mlen\u001b[0m\u001b[0;34m(\u001b[0m\u001b[0mself\u001b[0m\u001b[0;34m.\u001b[0m\u001b[0moutputs\u001b[0m\u001b[0;34m)\u001b[0m\u001b[0;34m]\u001b[0m\u001b[0;34m\u001b[0m\u001b[0m\n\u001b[1;32m   2484\u001b[0m \u001b[0;34m\u001b[0m\u001b[0m\n",
      "\u001b[0;32m/home/casapanshop/anaconda2/envs/py3/lib/python3.5/site-packages/tensorflow/python/client/session.py\u001b[0m in \u001b[0;36mrun\u001b[0;34m(self, fetches, feed_dict, options, run_metadata)\u001b[0m\n\u001b[1;32m    898\u001b[0m     \u001b[0;32mtry\u001b[0m\u001b[0;34m:\u001b[0m\u001b[0;34m\u001b[0m\u001b[0m\n\u001b[1;32m    899\u001b[0m       result = self._run(None, fetches, feed_dict, options_ptr,\n\u001b[0;32m--> 900\u001b[0;31m                          run_metadata_ptr)\n\u001b[0m\u001b[1;32m    901\u001b[0m       \u001b[0;32mif\u001b[0m \u001b[0mrun_metadata\u001b[0m\u001b[0;34m:\u001b[0m\u001b[0;34m\u001b[0m\u001b[0m\n\u001b[1;32m    902\u001b[0m         \u001b[0mproto_data\u001b[0m \u001b[0;34m=\u001b[0m \u001b[0mtf_session\u001b[0m\u001b[0;34m.\u001b[0m\u001b[0mTF_GetBuffer\u001b[0m\u001b[0;34m(\u001b[0m\u001b[0mrun_metadata_ptr\u001b[0m\u001b[0;34m)\u001b[0m\u001b[0;34m\u001b[0m\u001b[0m\n",
      "\u001b[0;32m/home/casapanshop/anaconda2/envs/py3/lib/python3.5/site-packages/tensorflow/python/client/session.py\u001b[0m in \u001b[0;36m_run\u001b[0;34m(self, handle, fetches, feed_dict, options, run_metadata)\u001b[0m\n\u001b[1;32m   1133\u001b[0m     \u001b[0;32mif\u001b[0m \u001b[0mfinal_fetches\u001b[0m \u001b[0;32mor\u001b[0m \u001b[0mfinal_targets\u001b[0m \u001b[0;32mor\u001b[0m \u001b[0;34m(\u001b[0m\u001b[0mhandle\u001b[0m \u001b[0;32mand\u001b[0m \u001b[0mfeed_dict_tensor\u001b[0m\u001b[0;34m)\u001b[0m\u001b[0;34m:\u001b[0m\u001b[0;34m\u001b[0m\u001b[0m\n\u001b[1;32m   1134\u001b[0m       results = self._do_run(handle, final_targets, final_fetches,\n\u001b[0;32m-> 1135\u001b[0;31m                              feed_dict_tensor, options, run_metadata)\n\u001b[0m\u001b[1;32m   1136\u001b[0m     \u001b[0;32melse\u001b[0m\u001b[0;34m:\u001b[0m\u001b[0;34m\u001b[0m\u001b[0m\n\u001b[1;32m   1137\u001b[0m       \u001b[0mresults\u001b[0m \u001b[0;34m=\u001b[0m \u001b[0;34m[\u001b[0m\u001b[0;34m]\u001b[0m\u001b[0;34m\u001b[0m\u001b[0m\n",
      "\u001b[0;32m/home/casapanshop/anaconda2/envs/py3/lib/python3.5/site-packages/tensorflow/python/client/session.py\u001b[0m in \u001b[0;36m_do_run\u001b[0;34m(self, handle, target_list, fetch_list, feed_dict, options, run_metadata)\u001b[0m\n\u001b[1;32m   1314\u001b[0m     \u001b[0;32mif\u001b[0m \u001b[0mhandle\u001b[0m \u001b[0;32mis\u001b[0m \u001b[0;32mNone\u001b[0m\u001b[0;34m:\u001b[0m\u001b[0;34m\u001b[0m\u001b[0m\n\u001b[1;32m   1315\u001b[0m       return self._do_call(_run_fn, feeds, fetches, targets, options,\n\u001b[0;32m-> 1316\u001b[0;31m                            run_metadata)\n\u001b[0m\u001b[1;32m   1317\u001b[0m     \u001b[0;32melse\u001b[0m\u001b[0;34m:\u001b[0m\u001b[0;34m\u001b[0m\u001b[0m\n\u001b[1;32m   1318\u001b[0m       \u001b[0;32mreturn\u001b[0m \u001b[0mself\u001b[0m\u001b[0;34m.\u001b[0m\u001b[0m_do_call\u001b[0m\u001b[0;34m(\u001b[0m\u001b[0m_prun_fn\u001b[0m\u001b[0;34m,\u001b[0m \u001b[0mhandle\u001b[0m\u001b[0;34m,\u001b[0m \u001b[0mfeeds\u001b[0m\u001b[0;34m,\u001b[0m \u001b[0mfetches\u001b[0m\u001b[0;34m)\u001b[0m\u001b[0;34m\u001b[0m\u001b[0m\n",
      "\u001b[0;32m/home/casapanshop/anaconda2/envs/py3/lib/python3.5/site-packages/tensorflow/python/client/session.py\u001b[0m in \u001b[0;36m_do_call\u001b[0;34m(self, fn, *args)\u001b[0m\n\u001b[1;32m   1320\u001b[0m   \u001b[0;32mdef\u001b[0m \u001b[0m_do_call\u001b[0m\u001b[0;34m(\u001b[0m\u001b[0mself\u001b[0m\u001b[0;34m,\u001b[0m \u001b[0mfn\u001b[0m\u001b[0;34m,\u001b[0m \u001b[0;34m*\u001b[0m\u001b[0margs\u001b[0m\u001b[0;34m)\u001b[0m\u001b[0;34m:\u001b[0m\u001b[0;34m\u001b[0m\u001b[0m\n\u001b[1;32m   1321\u001b[0m     \u001b[0;32mtry\u001b[0m\u001b[0;34m:\u001b[0m\u001b[0;34m\u001b[0m\u001b[0m\n\u001b[0;32m-> 1322\u001b[0;31m       \u001b[0;32mreturn\u001b[0m \u001b[0mfn\u001b[0m\u001b[0;34m(\u001b[0m\u001b[0;34m*\u001b[0m\u001b[0margs\u001b[0m\u001b[0;34m)\u001b[0m\u001b[0;34m\u001b[0m\u001b[0m\n\u001b[0m\u001b[1;32m   1323\u001b[0m     \u001b[0;32mexcept\u001b[0m \u001b[0merrors\u001b[0m\u001b[0;34m.\u001b[0m\u001b[0mOpError\u001b[0m \u001b[0;32mas\u001b[0m \u001b[0me\u001b[0m\u001b[0;34m:\u001b[0m\u001b[0;34m\u001b[0m\u001b[0m\n\u001b[1;32m   1324\u001b[0m       \u001b[0mmessage\u001b[0m \u001b[0;34m=\u001b[0m \u001b[0mcompat\u001b[0m\u001b[0;34m.\u001b[0m\u001b[0mas_text\u001b[0m\u001b[0;34m(\u001b[0m\u001b[0me\u001b[0m\u001b[0;34m.\u001b[0m\u001b[0mmessage\u001b[0m\u001b[0;34m)\u001b[0m\u001b[0;34m\u001b[0m\u001b[0m\n",
      "\u001b[0;32m/home/casapanshop/anaconda2/envs/py3/lib/python3.5/site-packages/tensorflow/python/client/session.py\u001b[0m in \u001b[0;36m_run_fn\u001b[0;34m(feed_dict, fetch_list, target_list, options, run_metadata)\u001b[0m\n\u001b[1;32m   1305\u001b[0m       \u001b[0mself\u001b[0m\u001b[0;34m.\u001b[0m\u001b[0m_extend_graph\u001b[0m\u001b[0;34m(\u001b[0m\u001b[0;34m)\u001b[0m\u001b[0;34m\u001b[0m\u001b[0m\n\u001b[1;32m   1306\u001b[0m       return self._call_tf_sessionrun(\n\u001b[0;32m-> 1307\u001b[0;31m           options, feed_dict, fetch_list, target_list, run_metadata)\n\u001b[0m\u001b[1;32m   1308\u001b[0m \u001b[0;34m\u001b[0m\u001b[0m\n\u001b[1;32m   1309\u001b[0m     \u001b[0;32mdef\u001b[0m \u001b[0m_prun_fn\u001b[0m\u001b[0;34m(\u001b[0m\u001b[0mhandle\u001b[0m\u001b[0;34m,\u001b[0m \u001b[0mfeed_dict\u001b[0m\u001b[0;34m,\u001b[0m \u001b[0mfetch_list\u001b[0m\u001b[0;34m)\u001b[0m\u001b[0;34m:\u001b[0m\u001b[0;34m\u001b[0m\u001b[0m\n",
      "\u001b[0;32m/home/casapanshop/anaconda2/envs/py3/lib/python3.5/site-packages/tensorflow/python/client/session.py\u001b[0m in \u001b[0;36m_call_tf_sessionrun\u001b[0;34m(self, options, feed_dict, fetch_list, target_list, run_metadata)\u001b[0m\n\u001b[1;32m   1407\u001b[0m       return tf_session.TF_SessionRun_wrapper(\n\u001b[1;32m   1408\u001b[0m           \u001b[0mself\u001b[0m\u001b[0;34m.\u001b[0m\u001b[0m_session\u001b[0m\u001b[0;34m,\u001b[0m \u001b[0moptions\u001b[0m\u001b[0;34m,\u001b[0m \u001b[0mfeed_dict\u001b[0m\u001b[0;34m,\u001b[0m \u001b[0mfetch_list\u001b[0m\u001b[0;34m,\u001b[0m \u001b[0mtarget_list\u001b[0m\u001b[0;34m,\u001b[0m\u001b[0;34m\u001b[0m\u001b[0m\n\u001b[0;32m-> 1409\u001b[0;31m           run_metadata)\n\u001b[0m\u001b[1;32m   1410\u001b[0m     \u001b[0;32melse\u001b[0m\u001b[0;34m:\u001b[0m\u001b[0;34m\u001b[0m\u001b[0m\n\u001b[1;32m   1411\u001b[0m       \u001b[0;32mwith\u001b[0m \u001b[0merrors\u001b[0m\u001b[0;34m.\u001b[0m\u001b[0mraise_exception_on_not_ok_status\u001b[0m\u001b[0;34m(\u001b[0m\u001b[0;34m)\u001b[0m \u001b[0;32mas\u001b[0m \u001b[0mstatus\u001b[0m\u001b[0;34m:\u001b[0m\u001b[0;34m\u001b[0m\u001b[0m\n",
      "\u001b[0;31mKeyboardInterrupt\u001b[0m: "
     ]
    }
   ],
   "source": [
    "gMixture_Ind3 = GroupMixtureInd(Xstd_train.shape[1:],Kl=Kl,M=M_seted,epochs=1,optimizer=OPT,dtype_op=DTYPE_OP) \n",
    "gMixture_Ind3.define_model(\"mlp\",128,1,BatchN=True,drop=0.5)\n",
    "gMixture_Ind3.define_model_group(\"mlp\", A_rep.shape[1], Kl*M_seted, 1, BatchN=False, embed=False) #con BN\n",
    "\n",
    "logL_hists,i_r = gMixture_Ind3.multiples_run(20,Xstd_train,Y_ann_train, T_idx, A=A_rep, batch_size=BATCH_SIZE,\n",
    "                                   pre_init_z=3,pre_init_g=0,max_iter=EPOCHS_BASE,tolerance=TOL) "
   ]
  },
  {
   "cell_type": "code",
   "execution_count": 32,
   "metadata": {},
   "outputs": [
    {
     "ename": "NameError",
     "evalue": "name 'gMixture_Ind3' is not defined",
     "output_type": "error",
     "traceback": [
      "\u001b[0;31m---------------------------------------------------------------------------\u001b[0m",
      "\u001b[0;31mNameError\u001b[0m                                 Traceback (most recent call last)",
      "\u001b[0;32m<ipython-input-32-c9c9c0059d87>\u001b[0m in \u001b[0;36m<module>\u001b[0;34m()\u001b[0m\n\u001b[0;32m----> 1\u001b[0;31m \u001b[0mZ_train_p\u001b[0m \u001b[0;34m=\u001b[0m \u001b[0mgMixture_Ind3\u001b[0m\u001b[0;34m.\u001b[0m\u001b[0mget_predictions_z\u001b[0m\u001b[0;34m(\u001b[0m\u001b[0mXstd_train\u001b[0m\u001b[0;34m)\u001b[0m\u001b[0;34m\u001b[0m\u001b[0m\n\u001b[0m\u001b[1;32m      2\u001b[0m \u001b[0mZ_train_pred\u001b[0m \u001b[0;34m=\u001b[0m \u001b[0mZ_train_p\u001b[0m\u001b[0;34m.\u001b[0m\u001b[0margmax\u001b[0m\u001b[0;34m(\u001b[0m\u001b[0maxis\u001b[0m\u001b[0;34m=\u001b[0m\u001b[0;34m-\u001b[0m\u001b[0;36m1\u001b[0m\u001b[0;34m)\u001b[0m\u001b[0;34m\u001b[0m\u001b[0m\n\u001b[1;32m      3\u001b[0m \u001b[0mZ_test_p\u001b[0m \u001b[0;34m=\u001b[0m \u001b[0mgMixture_Ind3\u001b[0m\u001b[0;34m.\u001b[0m\u001b[0mget_predictions_z\u001b[0m\u001b[0;34m(\u001b[0m\u001b[0mXstd_test\u001b[0m\u001b[0;34m)\u001b[0m\u001b[0;34m\u001b[0m\u001b[0m\n\u001b[1;32m      4\u001b[0m \u001b[0mZ_test_pred\u001b[0m \u001b[0;34m=\u001b[0m \u001b[0mZ_test_p\u001b[0m\u001b[0;34m.\u001b[0m\u001b[0margmax\u001b[0m\u001b[0;34m(\u001b[0m\u001b[0maxis\u001b[0m\u001b[0;34m=\u001b[0m\u001b[0;34m-\u001b[0m\u001b[0;36m1\u001b[0m\u001b[0;34m)\u001b[0m\u001b[0;34m\u001b[0m\u001b[0m\n\u001b[1;32m      5\u001b[0m \u001b[0mprob_Gt\u001b[0m \u001b[0;34m=\u001b[0m \u001b[0mgMixture_Ind3\u001b[0m\u001b[0;34m.\u001b[0m\u001b[0mget_predictions_g\u001b[0m\u001b[0;34m(\u001b[0m\u001b[0mA_rep\u001b[0m\u001b[0;34m)\u001b[0m\u001b[0;34m\u001b[0m\u001b[0m\n",
      "\u001b[0;31mNameError\u001b[0m: name 'gMixture_Ind3' is not defined"
     ]
    }
   ],
   "source": [
    "Z_train_p = gMixture_Ind3.get_predictions_z(Xstd_train)\n",
    "Z_train_pred = Z_train_p.argmax(axis=-1)\n",
    "Z_val_p = gMixture_Ind1.get_predictions(Xstd_val)\n",
    "Z_val_pred = Z_val_p.argmax(axis=-1)\n",
    "Z_test_p = gMixture_Ind3.get_predictions_z(Xstd_test)\n",
    "Z_test_pred = Z_test_p.argmax(axis=-1)\n",
    "prob_Gt = gMixture_Ind3.get_predictions_g(A_rep) "
   ]
  },
  {
   "cell_type": "markdown",
   "metadata": {},
   "source": [
    "### Compare trained models"
   ]
  },
  {
   "cell_type": "code",
   "execution_count": 33,
   "metadata": {},
   "outputs": [],
   "source": [
    "#Import it:\n",
    "from code.evaluation import Evaluation_metrics\n",
    "\n",
    "colors = {0: 'b', 1:'r' ,2:'g'}\n",
    "marker_s = {0: 'X', 1:'o', 2:'P'}\n",
    "\n",
    "def plot_alphas(alphas_training):\n",
    "    values = np.asarray(alphas_training)\n",
    "    if len(values.shape) == 3:\n",
    "        group_f = values[-1].argmax(axis=-1) #coloreado por el grupo del final..\n",
    "        \n",
    "        for m in range(M_seted):\n",
    "            plt.figure(figsize=(15,7))\n",
    "            for t in range(values.shape[1]):\n",
    "                plt.plot(values[:,t,m], color=colors[group_f[t]], markersize=5)\n",
    "            plt.title(\"Group \"+str(m))\n",
    "            plt.show()\n",
    "\n",
    "        plt.figure(figsize=(15,10))\n",
    "        for t in range(values.shape[1]):\n",
    "            grupos_t_train = values[:,t,:].argmax(axis=-1)+t/values.shape[1]\n",
    "            plt.plot(grupos_t_train, markersize=5, color=colors[group_f[t]])\n",
    "            #plt.plot(grupos_t_train, markersize=5, marker=marker_s[group_f[t]])\n",
    "\n",
    "        for m in range(M_seted+1):\n",
    "            plt.hlines(m, 0,values.shape[0], linestyles=\"dashed\")\n",
    "        plt.show()\n",
    "        \n",
    "    else:\n",
    "        plt.figure(figsize=(15,7))\n",
    "        for m in range(M_seted):\n",
    "            plt.plot(values[:,m], color=colors[m], markersize=5, label=\"Group \"+str(m))\n",
    "        plt.legend()\n",
    "        plt.show()"
   ]
  },
  {
   "cell_type": "code",
   "execution_count": 78,
   "metadata": {},
   "outputs": [
    {
     "name": "stdout",
     "output_type": "stream",
     "text": [
      "*** Upper bound (Train with GT) ***\n",
      "Train\n",
      "A result\n"
     ]
    },
    {
     "data": {
      "text/html": [
       "<div>\n",
       "<style scoped>\n",
       "    .dataframe tbody tr th:only-of-type {\n",
       "        vertical-align: middle;\n",
       "    }\n",
       "\n",
       "    .dataframe tbody tr th {\n",
       "        vertical-align: top;\n",
       "    }\n",
       "\n",
       "    .dataframe thead th {\n",
       "        text-align: right;\n",
       "    }\n",
       "</style>\n",
       "<table border=\"1\" class=\"dataframe\">\n",
       "  <thead>\n",
       "    <tr style=\"text-align: right;\">\n",
       "      <th></th>\n",
       "      <th></th>\n",
       "      <th>Accuracy</th>\n",
       "      <th>F1 (micro)</th>\n",
       "      <th>F1 (macro)</th>\n",
       "    </tr>\n",
       "  </thead>\n",
       "  <tbody>\n",
       "    <tr>\n",
       "      <th>0</th>\n",
       "      <td>All</td>\n",
       "      <td>0.693</td>\n",
       "      <td>0.693</td>\n",
       "      <td>0.6806</td>\n",
       "    </tr>\n",
       "  </tbody>\n",
       "</table>\n",
       "</div>"
      ],
      "text/plain": [
       "        Accuracy  F1 (micro)  F1 (macro)\n",
       "0  All     0.693       0.693      0.6806"
      ]
     },
     "metadata": {},
     "output_type": "display_data"
    },
    {
     "name": "stdout",
     "output_type": "stream",
     "text": [
      "Test\n",
      "A result\n"
     ]
    },
    {
     "data": {
      "text/html": [
       "<div>\n",
       "<style scoped>\n",
       "    .dataframe tbody tr th:only-of-type {\n",
       "        vertical-align: middle;\n",
       "    }\n",
       "\n",
       "    .dataframe tbody tr th {\n",
       "        vertical-align: top;\n",
       "    }\n",
       "\n",
       "    .dataframe thead th {\n",
       "        text-align: right;\n",
       "    }\n",
       "</style>\n",
       "<table border=\"1\" class=\"dataframe\">\n",
       "  <thead>\n",
       "    <tr style=\"text-align: right;\">\n",
       "      <th></th>\n",
       "      <th></th>\n",
       "      <th>Accuracy</th>\n",
       "      <th>F1 (micro)</th>\n",
       "      <th>F1 (macro)</th>\n",
       "    </tr>\n",
       "  </thead>\n",
       "  <tbody>\n",
       "    <tr>\n",
       "      <th>0</th>\n",
       "      <td>All</td>\n",
       "      <td>0.6418</td>\n",
       "      <td>0.6418</td>\n",
       "      <td>0.6283</td>\n",
       "    </tr>\n",
       "  </tbody>\n",
       "</table>\n",
       "</div>"
      ],
      "text/plain": [
       "        Accuracy  F1 (micro)  F1 (macro)\n",
       "0  All    0.6418      0.6418      0.6283"
      ]
     },
     "metadata": {},
     "output_type": "display_data"
    }
   ],
   "source": [
    "evaluate = Evaluation_metrics(model_UB,'keras',Xstd_train.shape[0])\n",
    "print(\"*** Upper bound (Train with GT) ***\")\n",
    "\n",
    "print(\"Train\")\n",
    "results1 = evaluate.calculate_metrics(Z=Z_train,Z_pred=Z_train_pred)\n",
    "\n",
    "print(\"Test\")\n",
    "results2 = evaluate.calculate_metrics(Z=Z_val,Z_pred=Z_val_pred)"
   ]
  },
  {
   "cell_type": "code",
   "execution_count": 82,
   "metadata": {
    "scrolled": true
   },
   "outputs": [
    {
     "name": "stdout",
     "output_type": "stream",
     "text": [
      "*** Soft-Majority (Train with softMV) ***\n",
      "Train\n",
      "Calculate confusion matrix on repeat version\n"
     ]
    },
    {
     "data": {
      "image/png": "[encoded data removed]",
      "text/plain": [
       "<Figure size 432x288 with 2 Axes>"
      ]
     },
     "metadata": {
      "needs_background": "light"
     },
     "output_type": "display_data"
    },
    {
     "name": "stdout",
     "output_type": "stream",
     "text": [
      "JS divergence: 0.1418\tNorm Frobenius: 0.1807\n"
     ]
    },
    {
     "data": {
      "image/png": "[encoded data removed]",
      "text/plain": [
       "<Figure size 432x288 with 2 Axes>"
      ]
     },
     "metadata": {
      "needs_background": "light"
     },
     "output_type": "display_data"
    },
    {
     "name": "stdout",
     "output_type": "stream",
     "text": [
      "JS divergence: 0.2252\tNorm Frobenius: 0.2881\n"
     ]
    },
    {
     "data": {
      "image/png": "[encoded data removed]",
      "text/plain": [
       "<Figure size 432x288 with 2 Axes>"
      ]
     },
     "metadata": {
      "needs_background": "light"
     },
     "output_type": "display_data"
    },
    {
     "name": "stdout",
     "output_type": "stream",
     "text": [
      "JS divergence: 0.1612\tNorm Frobenius: 0.2474\n"
     ]
    },
    {
     "data": {
      "image/png": "[encoded data removed]",
      "text/plain": [
       "<Figure size 432x288 with 2 Axes>"
      ]
     },
     "metadata": {
      "needs_background": "light"
     },
     "output_type": "display_data"
    },
    {
     "name": "stdout",
     "output_type": "stream",
     "text": [
      "JS divergence: 0.1672\tNorm Frobenius: 0.2029\n"
     ]
    },
    {
     "data": {
      "image/png": "[encoded data removed]",
      "text/plain": [
       "<Figure size 432x288 with 2 Axes>"
      ]
     },
     "metadata": {
      "needs_background": "light"
     },
     "output_type": "display_data"
    },
    {
     "name": "stdout",
     "output_type": "stream",
     "text": [
      "JS divergence: 0.0592\tNorm Frobenius: 0.1087\n"
     ]
    },
    {
     "data": {
      "image/png": "[encoded data removed]",
      "text/plain": [
       "<Figure size 432x288 with 2 Axes>"
      ]
     },
     "metadata": {
      "needs_background": "light"
     },
     "output_type": "display_data"
    },
    {
     "name": "stdout",
     "output_type": "stream",
     "text": [
      "JS divergence: 0.0823\tNorm Frobenius: 0.1959\n"
     ]
    },
    {
     "data": {
      "image/png": "[encoded data removed]",
      "text/plain": [
       "<Figure size 432x288 with 2 Axes>"
      ]
     },
     "metadata": {
      "needs_background": "light"
     },
     "output_type": "display_data"
    },
    {
     "name": "stdout",
     "output_type": "stream",
     "text": [
      "JS divergence: 0.1162\tNorm Frobenius: 0.1926\n"
     ]
    },
    {
     "data": {
      "image/png": "[encoded data removed]",
      "text/plain": [
       "<Figure size 432x288 with 2 Axes>"
      ]
     },
     "metadata": {
      "needs_background": "light"
     },
     "output_type": "display_data"
    },
    {
     "name": "stdout",
     "output_type": "stream",
     "text": [
      "JS divergence: 0.2796\tNorm Frobenius: 0.3149\n"
     ]
    },
    {
     "data": {
      "image/png": "[encoded data removed]",
      "text/plain": [
       "<Figure size 432x288 with 2 Axes>"
      ]
     },
     "metadata": {
      "needs_background": "light"
     },
     "output_type": "display_data"
    },
    {
     "name": "stdout",
     "output_type": "stream",
     "text": [
      "JS divergence: 0.1301\tNorm Frobenius: 0.1558\n"
     ]
    },
    {
     "data": {
      "image/png": "[encoded data removed]",
      "text/plain": [
       "<Figure size 432x288 with 2 Axes>"
      ]
     },
     "metadata": {
      "needs_background": "light"
     },
     "output_type": "display_data"
    },
    {
     "name": "stdout",
     "output_type": "stream",
     "text": [
      "JS divergence: 0.1512\tNorm Frobenius: 0.2089\n"
     ]
    },
    {
     "data": {
      "image/png": "[encoded data removed]",
      "text/plain": [
       "<Figure size 432x288 with 2 Axes>"
      ]
     },
     "metadata": {
      "needs_background": "light"
     },
     "output_type": "display_data"
    },
    {
     "name": "stdout",
     "output_type": "stream",
     "text": [
      "JS divergence: 0.1214\tNorm Frobenius: 0.1418\n"
     ]
    },
    {
     "data": {
      "image/png": "[encoded data removed]",
      "text/plain": [
       "<Figure size 432x288 with 2 Axes>"
      ]
     },
     "metadata": {
      "needs_background": "light"
     },
     "output_type": "display_data"
    },
    {
     "name": "stdout",
     "output_type": "stream",
     "text": [
      "JS divergence: 0.2855\tNorm Frobenius: 0.3443\n"
     ]
    },
    {
     "data": {
      "image/png": "[encoded data removed]",
      "text/plain": [
       "<Figure size 432x288 with 2 Axes>"
      ]
     },
     "metadata": {
      "needs_background": "light"
     },
     "output_type": "display_data"
    },
    {
     "name": "stdout",
     "output_type": "stream",
     "text": [
      "JS divergence: 0.0208\tNorm Frobenius: 0.0768\n"
     ]
    },
    {
     "data": {
      "image/png": "[encoded data removed]",
      "text/plain": [
       "<Figure size 432x288 with 2 Axes>"
      ]
     },
     "metadata": {
      "needs_background": "light"
     },
     "output_type": "display_data"
    },
    {
     "name": "stdout",
     "output_type": "stream",
     "text": [
      "JS divergence: 0.1577\tNorm Frobenius: 0.2136\n"
     ]
    },
    {
     "data": {
      "image/png": "[encoded data removed]",
      "text/plain": [
       "<Figure size 432x288 with 2 Axes>"
      ]
     },
     "metadata": {
      "needs_background": "light"
     },
     "output_type": "display_data"
    },
    {
     "name": "stdout",
     "output_type": "stream",
     "text": [
      "JS divergence: 0.2632\tNorm Frobenius: 0.3061\n",
      "Calculate confusion matrix on global version\n"
     ]
    },
    {
     "data": {
      "image/png": "[encoded data removed]",
      "text/plain": [
       "<Figure size 432x288 with 2 Axes>"
      ]
     },
     "metadata": {
      "needs_background": "light"
     },
     "output_type": "display_data"
    },
    {
     "name": "stdout",
     "output_type": "stream",
     "text": [
      "JS divergence: 0.0057\tNorm Frobenius: 0.0412\n",
      "A result\n"
     ]
    },
    {
     "data": {
      "text/html": [
       "<div>\n",
       "<style scoped>\n",
       "    .dataframe tbody tr th:only-of-type {\n",
       "        vertical-align: middle;\n",
       "    }\n",
       "\n",
       "    .dataframe tbody tr th {\n",
       "        vertical-align: top;\n",
       "    }\n",
       "\n",
       "    .dataframe thead th {\n",
       "        text-align: right;\n",
       "    }\n",
       "</style>\n",
       "<table border=\"1\" class=\"dataframe\">\n",
       "  <thead>\n",
       "    <tr style=\"text-align: right;\">\n",
       "      <th></th>\n",
       "      <th></th>\n",
       "      <th>Accuracy</th>\n",
       "      <th>F1 (micro)</th>\n",
       "      <th>F1 (macro)</th>\n",
       "      <th>(R) NormF mean</th>\n",
       "      <th>(R) JS mean</th>\n",
       "      <th>(R) NormF w</th>\n",
       "      <th>(R) JS w</th>\n",
       "      <th>(G) NormF</th>\n",
       "      <th>(G) JS</th>\n",
       "    </tr>\n",
       "  </thead>\n",
       "  <tbody>\n",
       "    <tr>\n",
       "      <th>0</th>\n",
       "      <td>All</td>\n",
       "      <td>0.6446</td>\n",
       "      <td>0.6446</td>\n",
       "      <td>0.6232</td>\n",
       "      <td>0.2642</td>\n",
       "      <td>0.219</td>\n",
       "      <td>0.2015</td>\n",
       "      <td>0.1482</td>\n",
       "      <td>0.0412</td>\n",
       "      <td>0.0057</td>\n",
       "    </tr>\n",
       "  </tbody>\n",
       "</table>\n",
       "</div>"
      ],
      "text/plain": [
       "        Accuracy  F1 (micro)  F1 (macro)  (R) NormF mean  (R) JS mean  \\\n",
       "0  All    0.6446      0.6446      0.6232          0.2642        0.219   \n",
       "\n",
       "   (R) NormF w  (R) JS w  (G) NormF  (G) JS  \n",
       "0       0.2015    0.1482     0.0412  0.0057  "
      ]
     },
     "metadata": {},
     "output_type": "display_data"
    },
    {
     "name": "stdout",
     "output_type": "stream",
     "text": [
      "Val\n",
      "A result\n"
     ]
    },
    {
     "data": {
      "text/html": [
       "<div>\n",
       "<style scoped>\n",
       "    .dataframe tbody tr th:only-of-type {\n",
       "        vertical-align: middle;\n",
       "    }\n",
       "\n",
       "    .dataframe tbody tr th {\n",
       "        vertical-align: top;\n",
       "    }\n",
       "\n",
       "    .dataframe thead th {\n",
       "        text-align: right;\n",
       "    }\n",
       "</style>\n",
       "<table border=\"1\" class=\"dataframe\">\n",
       "  <thead>\n",
       "    <tr style=\"text-align: right;\">\n",
       "      <th></th>\n",
       "      <th></th>\n",
       "      <th>Accuracy</th>\n",
       "      <th>F1 (micro)</th>\n",
       "      <th>F1 (macro)</th>\n",
       "    </tr>\n",
       "  </thead>\n",
       "  <tbody>\n",
       "    <tr>\n",
       "      <th>0</th>\n",
       "      <td>All</td>\n",
       "      <td>0.6258</td>\n",
       "      <td>0.6258</td>\n",
       "      <td>0.603</td>\n",
       "    </tr>\n",
       "  </tbody>\n",
       "</table>\n",
       "</div>"
      ],
      "text/plain": [
       "        Accuracy  F1 (micro)  F1 (macro)\n",
       "0  All    0.6258      0.6258       0.603"
      ]
     },
     "metadata": {},
     "output_type": "display_data"
    },
    {
     "name": "stdout",
     "output_type": "stream",
     "text": [
      "Test\n",
      "A result\n"
     ]
    },
    {
     "data": {
      "text/html": [
       "<div>\n",
       "<style scoped>\n",
       "    .dataframe tbody tr th:only-of-type {\n",
       "        vertical-align: middle;\n",
       "    }\n",
       "\n",
       "    .dataframe tbody tr th {\n",
       "        vertical-align: top;\n",
       "    }\n",
       "\n",
       "    .dataframe thead th {\n",
       "        text-align: right;\n",
       "    }\n",
       "</style>\n",
       "<table border=\"1\" class=\"dataframe\">\n",
       "  <thead>\n",
       "    <tr style=\"text-align: right;\">\n",
       "      <th></th>\n",
       "      <th></th>\n",
       "      <th>Accuracy</th>\n",
       "      <th>F1 (micro)</th>\n",
       "      <th>F1 (macro)</th>\n",
       "    </tr>\n",
       "  </thead>\n",
       "  <tbody>\n",
       "    <tr>\n",
       "      <th>0</th>\n",
       "      <td>All</td>\n",
       "      <td>0.7653</td>\n",
       "      <td>0.7653</td>\n",
       "      <td>0.7264</td>\n",
       "    </tr>\n",
       "  </tbody>\n",
       "</table>\n",
       "</div>"
      ],
      "text/plain": [
       "        Accuracy  F1 (micro)  F1 (macro)\n",
       "0  All    0.7653      0.7653      0.7264"
      ]
     },
     "metadata": {},
     "output_type": "display_data"
    }
   ],
   "source": [
    "evaluate = Evaluation_metrics(model_mvsoft,'keras',Xstd_train.shape[0])\n",
    "evaluate.set_T_weights(T_weights)\n",
    "print(\"*** Soft-Majority (Train with softMV) ***\")\n",
    "\n",
    "print(\"Train\")\n",
    "prob_Yzt = np.tile( mv_conf_probas, (T,1,1) )\n",
    "results1 = evaluate.calculate_metrics(Z=Z_train,Z_pred=Z_train_pred,conf_pred=prob_Yzt,conf_true=confe_matrix_R,\n",
    "                                     conf_true_G =confe_matrix_G, conf_pred_G = mv_conf_probas)\n",
    "\n",
    "print(\"Val\")\n",
    "results2 = evaluate.calculate_metrics(Z=Z_val,Z_pred=Z_val_pred)\n",
    "\n",
    "print(\"Test\")\n",
    "results2 = evaluate.calculate_metrics(Z=Z_test,Z_pred=Z_test_pred)"
   ]
  },
  {
   "cell_type": "code",
   "execution_count": 84,
   "metadata": {
    "scrolled": true
   },
   "outputs": [
    {
     "name": "stdout",
     "output_type": "stream",
     "text": [
      "*** Hard-Majority (Train with hardMV) ***\n",
      "Train\n",
      "Calculate confusion matrix on repeat version\n"
     ]
    },
    {
     "data": {
      "image/png": "[encoded data removed]",
      "text/plain": [
       "<Figure size 432x288 with 2 Axes>"
      ]
     },
     "metadata": {
      "needs_background": "light"
     },
     "output_type": "display_data"
    },
    {
     "name": "stdout",
     "output_type": "stream",
     "text": [
      "JS divergence: 0.1672\tNorm Frobenius: 0.2255\n"
     ]
    },
    {
     "data": {
      "image/png": "[encoded data removed]",
      "text/plain": [
       "<Figure size 432x288 with 2 Axes>"
      ]
     },
     "metadata": {
      "needs_background": "light"
     },
     "output_type": "display_data"
    },
    {
     "name": "stdout",
     "output_type": "stream",
     "text": [
      "JS divergence: 0.0957\tNorm Frobenius: 0.1579\n"
     ]
    },
    {
     "data": {
      "image/png": "[encoded data removed]",
      "text/plain": [
       "<Figure size 432x288 with 2 Axes>"
      ]
     },
     "metadata": {
      "needs_background": "light"
     },
     "output_type": "display_data"
    },
    {
     "name": "stdout",
     "output_type": "stream",
     "text": [
      "JS divergence: 0.1711\tNorm Frobenius: 0.2472\n"
     ]
    },
    {
     "data": {
      "image/png": "[encoded data removed]",
      "text/plain": [
       "<Figure size 432x288 with 2 Axes>"
      ]
     },
     "metadata": {
      "needs_background": "light"
     },
     "output_type": "display_data"
    },
    {
     "name": "stdout",
     "output_type": "stream",
     "text": [
      "JS divergence: 0.2137\tNorm Frobenius: 0.2802\n"
     ]
    },
    {
     "data": {
      "image/png": "[encoded data removed]",
      "text/plain": [
       "<Figure size 432x288 with 2 Axes>"
      ]
     },
     "metadata": {
      "needs_background": "light"
     },
     "output_type": "display_data"
    },
    {
     "name": "stdout",
     "output_type": "stream",
     "text": [
      "JS divergence: 0.1555\tNorm Frobenius: 0.2560\n"
     ]
    },
    {
     "data": {
      "image/png": "[encoded data removed]",
      "text/plain": [
       "<Figure size 432x288 with 2 Axes>"
      ]
     },
     "metadata": {
      "needs_background": "light"
     },
     "output_type": "display_data"
    },
    {
     "name": "stdout",
     "output_type": "stream",
     "text": [
      "JS divergence: 0.2039\tNorm Frobenius: 0.2513\n"
     ]
    },
    {
     "data": {
      "image/png": "[encoded data removed]",
      "text/plain": [
       "<Figure size 432x288 with 2 Axes>"
      ]
     },
     "metadata": {
      "needs_background": "light"
     },
     "output_type": "display_data"
    },
    {
     "name": "stdout",
     "output_type": "stream",
     "text": [
      "JS divergence: 0.0783\tNorm Frobenius: 0.1642\n"
     ]
    },
    {
     "data": {
      "image/png": "[encoded data removed]",
      "text/plain": [
       "<Figure size 432x288 with 2 Axes>"
      ]
     },
     "metadata": {
      "needs_background": "light"
     },
     "output_type": "display_data"
    },
    {
     "name": "stdout",
     "output_type": "stream",
     "text": [
      "JS divergence: 0.0238\tNorm Frobenius: 0.0725\n"
     ]
    },
    {
     "data": {
      "image/png": "[encoded data removed]",
      "text/plain": [
       "<Figure size 432x288 with 2 Axes>"
      ]
     },
     "metadata": {
      "needs_background": "light"
     },
     "output_type": "display_data"
    },
    {
     "name": "stdout",
     "output_type": "stream",
     "text": [
      "JS divergence: 0.0811\tNorm Frobenius: 0.1940\n"
     ]
    },
    {
     "data": {
      "image/png": "[encoded data removed]",
      "text/plain": [
       "<Figure size 432x288 with 2 Axes>"
      ]
     },
     "metadata": {
      "needs_background": "light"
     },
     "output_type": "display_data"
    },
    {
     "name": "stdout",
     "output_type": "stream",
     "text": [
      "JS divergence: 0.0417\tNorm Frobenius: 0.1050\n"
     ]
    },
    {
     "data": {
      "image/png": "[encoded data removed]",
      "text/plain": [
       "<Figure size 432x288 with 2 Axes>"
      ]
     },
     "metadata": {
      "needs_background": "light"
     },
     "output_type": "display_data"
    },
    {
     "name": "stdout",
     "output_type": "stream",
     "text": [
      "JS divergence: 0.3493\tNorm Frobenius: 0.3752\n"
     ]
    },
    {
     "data": {
      "image/png": "[encoded data removed]",
      "text/plain": [
       "<Figure size 432x288 with 2 Axes>"
      ]
     },
     "metadata": {
      "needs_background": "light"
     },
     "output_type": "display_data"
    },
    {
     "name": "stdout",
     "output_type": "stream",
     "text": [
      "JS divergence: 0.1221\tNorm Frobenius: 0.1956\n"
     ]
    },
    {
     "data": {
      "image/png": "[encoded data removed]",
      "text/plain": [
       "<Figure size 432x288 with 2 Axes>"
      ]
     },
     "metadata": {
      "needs_background": "light"
     },
     "output_type": "display_data"
    },
    {
     "name": "stdout",
     "output_type": "stream",
     "text": [
      "JS divergence: 0.1256\tNorm Frobenius: 0.1710\n"
     ]
    },
    {
     "data": {
      "image/png": "[encoded data removed]",
      "text/plain": [
       "<Figure size 432x288 with 2 Axes>"
      ]
     },
     "metadata": {
      "needs_background": "light"
     },
     "output_type": "display_data"
    },
    {
     "name": "stdout",
     "output_type": "stream",
     "text": [
      "JS divergence: 0.1606\tNorm Frobenius: 0.1896\n"
     ]
    },
    {
     "data": {
      "image/png": "[encoded data removed]",
      "text/plain": [
       "<Figure size 432x288 with 2 Axes>"
      ]
     },
     "metadata": {
      "needs_background": "light"
     },
     "output_type": "display_data"
    },
    {
     "name": "stdout",
     "output_type": "stream",
     "text": [
      "JS divergence: 0.3100\tNorm Frobenius: 0.3626\n",
      "Calculate confusion matrix on global version\n"
     ]
    },
    {
     "data": {
      "image/png": "[encoded data removed]",
      "text/plain": [
       "<Figure size 432x288 with 2 Axes>"
      ]
     },
     "metadata": {
      "needs_background": "light"
     },
     "output_type": "display_data"
    },
    {
     "name": "stdout",
     "output_type": "stream",
     "text": [
      "JS divergence: 0.0243\tNorm Frobenius: 0.0879\n",
      "A result\n"
     ]
    },
    {
     "data": {
      "text/html": [
       "<div>\n",
       "<style scoped>\n",
       "    .dataframe tbody tr th:only-of-type {\n",
       "        vertical-align: middle;\n",
       "    }\n",
       "\n",
       "    .dataframe tbody tr th {\n",
       "        vertical-align: top;\n",
       "    }\n",
       "\n",
       "    .dataframe thead th {\n",
       "        text-align: right;\n",
       "    }\n",
       "</style>\n",
       "<table border=\"1\" class=\"dataframe\">\n",
       "  <thead>\n",
       "    <tr style=\"text-align: right;\">\n",
       "      <th></th>\n",
       "      <th></th>\n",
       "      <th>Accuracy</th>\n",
       "      <th>F1 (micro)</th>\n",
       "      <th>F1 (macro)</th>\n",
       "      <th>(R) NormF mean</th>\n",
       "      <th>(R) JS mean</th>\n",
       "      <th>(R) NormF w</th>\n",
       "      <th>(R) JS w</th>\n",
       "      <th>(G) NormF</th>\n",
       "      <th>(G) JS</th>\n",
       "    </tr>\n",
       "  </thead>\n",
       "  <tbody>\n",
       "    <tr>\n",
       "      <th>0</th>\n",
       "      <td>All</td>\n",
       "      <td>0.6202</td>\n",
       "      <td>0.6202</td>\n",
       "      <td>0.5325</td>\n",
       "      <td>0.2777</td>\n",
       "      <td>0.2316</td>\n",
       "      <td>0.2177</td>\n",
       "      <td>0.1602</td>\n",
       "      <td>0.0879</td>\n",
       "      <td>0.0243</td>\n",
       "    </tr>\n",
       "  </tbody>\n",
       "</table>\n",
       "</div>"
      ],
      "text/plain": [
       "        Accuracy  F1 (micro)  F1 (macro)  (R) NormF mean  (R) JS mean  \\\n",
       "0  All    0.6202      0.6202      0.5325          0.2777       0.2316   \n",
       "\n",
       "   (R) NormF w  (R) JS w  (G) NormF  (G) JS  \n",
       "0       0.2177    0.1602     0.0879  0.0243  "
      ]
     },
     "metadata": {},
     "output_type": "display_data"
    },
    {
     "name": "stdout",
     "output_type": "stream",
     "text": [
      "Val\n",
      "A result\n"
     ]
    },
    {
     "data": {
      "text/html": [
       "<div>\n",
       "<style scoped>\n",
       "    .dataframe tbody tr th:only-of-type {\n",
       "        vertical-align: middle;\n",
       "    }\n",
       "\n",
       "    .dataframe tbody tr th {\n",
       "        vertical-align: top;\n",
       "    }\n",
       "\n",
       "    .dataframe thead th {\n",
       "        text-align: right;\n",
       "    }\n",
       "</style>\n",
       "<table border=\"1\" class=\"dataframe\">\n",
       "  <thead>\n",
       "    <tr style=\"text-align: right;\">\n",
       "      <th></th>\n",
       "      <th></th>\n",
       "      <th>Accuracy</th>\n",
       "      <th>F1 (micro)</th>\n",
       "      <th>F1 (macro)</th>\n",
       "    </tr>\n",
       "  </thead>\n",
       "  <tbody>\n",
       "    <tr>\n",
       "      <th>0</th>\n",
       "      <td>All</td>\n",
       "      <td>0.6025</td>\n",
       "      <td>0.6025</td>\n",
       "      <td>0.5144</td>\n",
       "    </tr>\n",
       "  </tbody>\n",
       "</table>\n",
       "</div>"
      ],
      "text/plain": [
       "        Accuracy  F1 (micro)  F1 (macro)\n",
       "0  All    0.6025      0.6025      0.5144"
      ]
     },
     "metadata": {},
     "output_type": "display_data"
    },
    {
     "name": "stdout",
     "output_type": "stream",
     "text": [
      "Test\n",
      "A result\n"
     ]
    },
    {
     "data": {
      "text/html": [
       "<div>\n",
       "<style scoped>\n",
       "    .dataframe tbody tr th:only-of-type {\n",
       "        vertical-align: middle;\n",
       "    }\n",
       "\n",
       "    .dataframe tbody tr th {\n",
       "        vertical-align: top;\n",
       "    }\n",
       "\n",
       "    .dataframe thead th {\n",
       "        text-align: right;\n",
       "    }\n",
       "</style>\n",
       "<table border=\"1\" class=\"dataframe\">\n",
       "  <thead>\n",
       "    <tr style=\"text-align: right;\">\n",
       "      <th></th>\n",
       "      <th></th>\n",
       "      <th>Accuracy</th>\n",
       "      <th>F1 (micro)</th>\n",
       "      <th>F1 (macro)</th>\n",
       "    </tr>\n",
       "  </thead>\n",
       "  <tbody>\n",
       "    <tr>\n",
       "      <th>0</th>\n",
       "      <td>All</td>\n",
       "      <td>0.7187</td>\n",
       "      <td>0.7187</td>\n",
       "      <td>0.5967</td>\n",
       "    </tr>\n",
       "  </tbody>\n",
       "</table>\n",
       "</div>"
      ],
      "text/plain": [
       "        Accuracy  F1 (micro)  F1 (macro)\n",
       "0  All    0.7187      0.7187      0.5967"
      ]
     },
     "metadata": {},
     "output_type": "display_data"
    }
   ],
   "source": [
    "evaluate = Evaluation_metrics(model_mvhard,'keras',Xstd_train.shape[0])\n",
    "evaluate.set_T_weights(T_weights)\n",
    "print(\"*** Hard-Majority (Train with hardMV) ***\")\n",
    "\n",
    "print(\"Train\")\n",
    "prob_Yzt = np.tile( mv_conf_onehot, (T,1,1) )\n",
    "results1 = evaluate.calculate_metrics(Z=Z_train,Z_pred=Z_train_pred,conf_pred=prob_Yzt,conf_true=confe_matrix_R,\n",
    "                                     conf_true_G =confe_matrix_G, conf_pred_G = mv_conf_onehot)\n",
    "\n",
    "print(\"Val\")\n",
    "results2 = evaluate.calculate_metrics(Z=Z_val,Z_pred=Z_val_pred)\n",
    "\n",
    "print(\"Test\")\n",
    "results2 = evaluate.calculate_metrics(Z=Z_test,Z_pred=Z_test_pred)"
   ]
  },
  {
   "cell_type": "code",
   "execution_count": 86,
   "metadata": {
    "scrolled": true
   },
   "outputs": [
    {
     "name": "stdout",
     "output_type": "stream",
     "text": [
      "*** Dawid and Skene model (Train with D&S) ***\n",
      "Train\n",
      "Calculate confusion matrix on repeat version\n"
     ]
    },
    {
     "data": {
      "image/png": "[encoded data removed]",
      "text/plain": [
       "<Figure size 432x288 with 2 Axes>"
      ]
     },
     "metadata": {
      "needs_background": "light"
     },
     "output_type": "display_data"
    },
    {
     "name": "stdout",
     "output_type": "stream",
     "text": [
      "JS divergence: 0.0739\tNorm Frobenius: 0.1047\n"
     ]
    },
    {
     "data": {
      "image/png": "[encoded data removed]",
      "text/plain": [
       "<Figure size 432x288 with 2 Axes>"
      ]
     },
     "metadata": {
      "needs_background": "light"
     },
     "output_type": "display_data"
    },
    {
     "name": "stdout",
     "output_type": "stream",
     "text": [
      "JS divergence: 0.1335\tNorm Frobenius: 0.2187\n"
     ]
    },
    {
     "data": {
      "image/png": "[encoded data removed]",
      "text/plain": [
       "<Figure size 432x288 with 2 Axes>"
      ]
     },
     "metadata": {
      "needs_background": "light"
     },
     "output_type": "display_data"
    },
    {
     "name": "stdout",
     "output_type": "stream",
     "text": [
      "JS divergence: 0.0741\tNorm Frobenius: 0.1520\n"
     ]
    },
    {
     "data": {
      "image/png": "[encoded data removed]",
      "text/plain": [
       "<Figure size 432x288 with 2 Axes>"
      ]
     },
     "metadata": {
      "needs_background": "light"
     },
     "output_type": "display_data"
    },
    {
     "name": "stdout",
     "output_type": "stream",
     "text": [
      "JS divergence: 0.0416\tNorm Frobenius: 0.1129\n"
     ]
    },
    {
     "data": {
      "image/png": "[encoded data removed]",
      "text/plain": [
       "<Figure size 432x288 with 2 Axes>"
      ]
     },
     "metadata": {
      "needs_background": "light"
     },
     "output_type": "display_data"
    },
    {
     "name": "stdout",
     "output_type": "stream",
     "text": [
      "JS divergence: 0.3303\tNorm Frobenius: 0.3928\n"
     ]
    },
    {
     "data": {
      "image/png": "[encoded data removed]",
      "text/plain": [
       "<Figure size 432x288 with 2 Axes>"
      ]
     },
     "metadata": {
      "needs_background": "light"
     },
     "output_type": "display_data"
    },
    {
     "name": "stdout",
     "output_type": "stream",
     "text": [
      "JS divergence: 0.0582\tNorm Frobenius: 0.1300\n"
     ]
    },
    {
     "data": {
      "image/png": "[encoded data removed]",
      "text/plain": [
       "<Figure size 432x288 with 2 Axes>"
      ]
     },
     "metadata": {
      "needs_background": "light"
     },
     "output_type": "display_data"
    },
    {
     "name": "stdout",
     "output_type": "stream",
     "text": [
      "JS divergence: 0.0696\tNorm Frobenius: 0.1271\n"
     ]
    },
    {
     "data": {
      "image/png": "[encoded data removed]",
      "text/plain": [
       "<Figure size 432x288 with 2 Axes>"
      ]
     },
     "metadata": {
      "needs_background": "light"
     },
     "output_type": "display_data"
    },
    {
     "name": "stdout",
     "output_type": "stream",
     "text": [
      "JS divergence: 0.0447\tNorm Frobenius: 0.0903\n"
     ]
    },
    {
     "data": {
      "image/png": "[encoded data removed]",
      "text/plain": [
       "<Figure size 432x288 with 2 Axes>"
      ]
     },
     "metadata": {
      "needs_background": "light"
     },
     "output_type": "display_data"
    },
    {
     "name": "stdout",
     "output_type": "stream",
     "text": [
      "JS divergence: 0.2048\tNorm Frobenius: 0.3108\n"
     ]
    },
    {
     "data": {
      "image/png": "[encoded data removed]",
      "text/plain": [
       "<Figure size 432x288 with 2 Axes>"
      ]
     },
     "metadata": {
      "needs_background": "light"
     },
     "output_type": "display_data"
    },
    {
     "name": "stdout",
     "output_type": "stream",
     "text": [
      "JS divergence: 0.1698\tNorm Frobenius: 0.2336\n"
     ]
    },
    {
     "data": {
      "image/png": "[encoded data removed]",
      "text/plain": [
       "<Figure size 432x288 with 2 Axes>"
      ]
     },
     "metadata": {
      "needs_background": "light"
     },
     "output_type": "display_data"
    },
    {
     "name": "stdout",
     "output_type": "stream",
     "text": [
      "JS divergence: 0.0718\tNorm Frobenius: 0.1032\n"
     ]
    },
    {
     "data": {
      "image/png": "[encoded data removed]",
      "text/plain": [
       "<Figure size 432x288 with 2 Axes>"
      ]
     },
     "metadata": {
      "needs_background": "light"
     },
     "output_type": "display_data"
    },
    {
     "name": "stdout",
     "output_type": "stream",
     "text": [
      "JS divergence: 0.0903\tNorm Frobenius: 0.2097\n"
     ]
    },
    {
     "data": {
      "image/png": "[encoded data removed]",
      "text/plain": [
       "<Figure size 432x288 with 2 Axes>"
      ]
     },
     "metadata": {
      "needs_background": "light"
     },
     "output_type": "display_data"
    },
    {
     "name": "stdout",
     "output_type": "stream",
     "text": [
      "JS divergence: 0.4116\tNorm Frobenius: 0.3750\n"
     ]
    },
    {
     "data": {
      "image/png": "[encoded data removed]",
      "text/plain": [
       "<Figure size 432x288 with 2 Axes>"
      ]
     },
     "metadata": {
      "needs_background": "light"
     },
     "output_type": "display_data"
    },
    {
     "name": "stdout",
     "output_type": "stream",
     "text": [
      "JS divergence: 0.0498\tNorm Frobenius: 0.1022\n"
     ]
    },
    {
     "data": {
      "image/png": "[encoded data removed]",
      "text/plain": [
       "<Figure size 432x288 with 2 Axes>"
      ]
     },
     "metadata": {
      "needs_background": "light"
     },
     "output_type": "display_data"
    },
    {
     "name": "stdout",
     "output_type": "stream",
     "text": [
      "JS divergence: 0.1899\tNorm Frobenius: 0.2730\n",
      "Calculate confusion matrix on global version\n"
     ]
    },
    {
     "data": {
      "image/png": "[encoded data removed]",
      "text/plain": [
       "<Figure size 432x288 with 2 Axes>"
      ]
     },
     "metadata": {
      "needs_background": "light"
     },
     "output_type": "display_data"
    },
    {
     "name": "stdout",
     "output_type": "stream",
     "text": [
      "JS divergence: 0.0318\tNorm Frobenius: 0.1051\n",
      "A result\n"
     ]
    },
    {
     "data": {
      "text/html": [
       "<div>\n",
       "<style scoped>\n",
       "    .dataframe tbody tr th:only-of-type {\n",
       "        vertical-align: middle;\n",
       "    }\n",
       "\n",
       "    .dataframe tbody tr th {\n",
       "        vertical-align: top;\n",
       "    }\n",
       "\n",
       "    .dataframe thead th {\n",
       "        text-align: right;\n",
       "    }\n",
       "</style>\n",
       "<table border=\"1\" class=\"dataframe\">\n",
       "  <thead>\n",
       "    <tr style=\"text-align: right;\">\n",
       "      <th></th>\n",
       "      <th></th>\n",
       "      <th>Accuracy</th>\n",
       "      <th>F1 (micro)</th>\n",
       "      <th>F1 (macro)</th>\n",
       "      <th>(R) NormF mean</th>\n",
       "      <th>(R) JS mean</th>\n",
       "      <th>(R) NormF w</th>\n",
       "      <th>(R) JS w</th>\n",
       "      <th>(G) NormF</th>\n",
       "      <th>(G) JS</th>\n",
       "    </tr>\n",
       "  </thead>\n",
       "  <tbody>\n",
       "    <tr>\n",
       "      <th>0</th>\n",
       "      <td>All</td>\n",
       "      <td>0.636</td>\n",
       "      <td>0.636</td>\n",
       "      <td>0.5879</td>\n",
       "      <td>0.2543</td>\n",
       "      <td>0.2207</td>\n",
       "      <td>0.1402</td>\n",
       "      <td>0.0883</td>\n",
       "      <td>0.1051</td>\n",
       "      <td>0.0318</td>\n",
       "    </tr>\n",
       "  </tbody>\n",
       "</table>\n",
       "</div>"
      ],
      "text/plain": [
       "        Accuracy  F1 (micro)  F1 (macro)  (R) NormF mean  (R) JS mean  \\\n",
       "0  All     0.636       0.636      0.5879          0.2543       0.2207   \n",
       "\n",
       "   (R) NormF w  (R) JS w  (G) NormF  (G) JS  \n",
       "0       0.1402    0.0883     0.1051  0.0318  "
      ]
     },
     "metadata": {},
     "output_type": "display_data"
    },
    {
     "name": "stdout",
     "output_type": "stream",
     "text": [
      "Val\n",
      "A result\n"
     ]
    },
    {
     "data": {
      "text/html": [
       "<div>\n",
       "<style scoped>\n",
       "    .dataframe tbody tr th:only-of-type {\n",
       "        vertical-align: middle;\n",
       "    }\n",
       "\n",
       "    .dataframe tbody tr th {\n",
       "        vertical-align: top;\n",
       "    }\n",
       "\n",
       "    .dataframe thead th {\n",
       "        text-align: right;\n",
       "    }\n",
       "</style>\n",
       "<table border=\"1\" class=\"dataframe\">\n",
       "  <thead>\n",
       "    <tr style=\"text-align: right;\">\n",
       "      <th></th>\n",
       "      <th></th>\n",
       "      <th>Accuracy</th>\n",
       "      <th>F1 (micro)</th>\n",
       "      <th>F1 (macro)</th>\n",
       "    </tr>\n",
       "  </thead>\n",
       "  <tbody>\n",
       "    <tr>\n",
       "      <th>0</th>\n",
       "      <td>All</td>\n",
       "      <td>0.6177</td>\n",
       "      <td>0.6177</td>\n",
       "      <td>0.569</td>\n",
       "    </tr>\n",
       "  </tbody>\n",
       "</table>\n",
       "</div>"
      ],
      "text/plain": [
       "        Accuracy  F1 (micro)  F1 (macro)\n",
       "0  All    0.6177      0.6177       0.569"
      ]
     },
     "metadata": {},
     "output_type": "display_data"
    },
    {
     "name": "stdout",
     "output_type": "stream",
     "text": [
      "Test\n",
      "A result\n"
     ]
    },
    {
     "data": {
      "text/html": [
       "<div>\n",
       "<style scoped>\n",
       "    .dataframe tbody tr th:only-of-type {\n",
       "        vertical-align: middle;\n",
       "    }\n",
       "\n",
       "    .dataframe tbody tr th {\n",
       "        vertical-align: top;\n",
       "    }\n",
       "\n",
       "    .dataframe thead th {\n",
       "        text-align: right;\n",
       "    }\n",
       "</style>\n",
       "<table border=\"1\" class=\"dataframe\">\n",
       "  <thead>\n",
       "    <tr style=\"text-align: right;\">\n",
       "      <th></th>\n",
       "      <th></th>\n",
       "      <th>Accuracy</th>\n",
       "      <th>F1 (micro)</th>\n",
       "      <th>F1 (macro)</th>\n",
       "    </tr>\n",
       "  </thead>\n",
       "  <tbody>\n",
       "    <tr>\n",
       "      <th>0</th>\n",
       "      <td>All</td>\n",
       "      <td>0.7498</td>\n",
       "      <td>0.7498</td>\n",
       "      <td>0.68</td>\n",
       "    </tr>\n",
       "  </tbody>\n",
       "</table>\n",
       "</div>"
      ],
      "text/plain": [
       "        Accuracy  F1 (micro)  F1 (macro)\n",
       "0  All    0.7498      0.7498        0.68"
      ]
     },
     "metadata": {},
     "output_type": "display_data"
    }
   ],
   "source": [
    "evaluate = Evaluation_metrics(model_ds,'keras',Xstd_train.shape[0])\n",
    "evaluate.set_T_weights(T_weights)\n",
    "print(\"*** Dawid and Skene model (Train with D&S) ***\")\n",
    "\n",
    "print(\"Train\")\n",
    "results1 = evaluate.calculate_metrics(Z=Z_train,Z_pred=Z_train_pred,conf_pred=ds_conf,conf_true=confe_matrix_R,\n",
    "                                     conf_true_G =confe_matrix_G, conf_pred_G = ds_conf.mean(axis=0))\n",
    "\n",
    "print(\"Val\")\n",
    "results2 = evaluate.calculate_metrics(Z=Z_val,Z_pred=Z_val_pred)\n",
    "\n",
    "print(\"Test\")\n",
    "results2 = evaluate.calculate_metrics(Z=Z_test,Z_pred=Z_test_pred)"
   ]
  },
  {
   "cell_type": "code",
   "execution_count": null,
   "metadata": {
    "scrolled": true
   },
   "outputs": [],
   "source": [
    "evaluate = Evaluation_metrics(raykarMC,'raykar')\n",
    "print(\"*** Raykar model multiples runs***\")\n",
    "\n",
    "print(\"Train\")\n",
    "prob_Yzt = raykarMC.get_confusionM()\n",
    "#prob_Yxt = raykarMC.get_predictions_annot(Xstd_train,data=Z_train_p)\n",
    "results = evaluate.calculate_metrics(Z=Z_train,Z_pred=Z_train_pred,conf_pred=prob_Yzt,conf_true=confe_matrix_R,\n",
    "                                     y_o=y_obs,yo_pred=prob_Yxt,conf_true_G =confe_matrix_G, conf_pred_G = prob_Yzt.mean(axis=0))\n",
    "\n",
    "#results = evaluate.calculate_metrics(y_o=y_obs,yo_pred=prob_Yxt)\n",
    "\n",
    "print(\"Val\")\n",
    "results2 = evaluate.calculate_metrics(Z=Z_val,Z_pred=Z_val_pred)\n",
    "\n",
    "print(\"Test\")\n",
    "results2 = evaluate.calculate_metrics(Z=Z_test,Z_pred=Z_test_pred)"
   ]
  },
  {
   "cell_type": "code",
   "execution_count": 49,
   "metadata": {},
   "outputs": [
    {
     "name": "stdout",
     "output_type": "stream",
     "text": [
      "*** Ours Global multiples runs***\n",
      "Train\n",
      "Calculate confusion matrix on repeat version\n"
     ]
    },
    {
     "data": {
      "image/png": "[encoded data removed]",
      "text/plain": [
       "<Figure size 432x288 with 2 Axes>"
      ]
     },
     "metadata": {
      "needs_background": "light"
     },
     "output_type": "display_data"
    },
    {
     "name": "stdout",
     "output_type": "stream",
     "text": [
      "JS divergence: 0.1605\tNorm Frobenius: 0.2644\n",
      "Groups probabilities:  [0. 1. 0.]\n"
     ]
    },
    {
     "data": {
      "image/png": "[encoded data removed]",
      "text/plain": [
       "<Figure size 432x288 with 2 Axes>"
      ]
     },
     "metadata": {
      "needs_background": "light"
     },
     "output_type": "display_data"
    },
    {
     "name": "stdout",
     "output_type": "stream",
     "text": [
      "JS divergence: 0.1288\tNorm Frobenius: 0.2261\n",
      "Groups probabilities:  [0. 1. 0.]\n"
     ]
    },
    {
     "data": {
      "image/png": "[encoded data removed]",
      "text/plain": [
       "<Figure size 432x288 with 2 Axes>"
      ]
     },
     "metadata": {
      "needs_background": "light"
     },
     "output_type": "display_data"
    },
    {
     "name": "stdout",
     "output_type": "stream",
     "text": [
      "JS divergence: 0.0939\tNorm Frobenius: 0.1540\n",
      "Groups probabilities:  [0. 1. 0.]\n"
     ]
    },
    {
     "data": {
      "image/png": "[encoded data removed]",
      "text/plain": [
       "<Figure size 432x288 with 2 Axes>"
      ]
     },
     "metadata": {
      "needs_background": "light"
     },
     "output_type": "display_data"
    },
    {
     "name": "stdout",
     "output_type": "stream",
     "text": [
      "JS divergence: 0.2530\tNorm Frobenius: 0.3098\n",
      "Groups probabilities:  [2.000e-04 9.998e-01 0.000e+00]\n"
     ]
    },
    {
     "data": {
      "image/png": "[encoded data removed]",
      "text/plain": [
       "<Figure size 432x288 with 2 Axes>"
      ]
     },
     "metadata": {
      "needs_background": "light"
     },
     "output_type": "display_data"
    },
    {
     "name": "stdout",
     "output_type": "stream",
     "text": [
      "JS divergence: 0.1974\tNorm Frobenius: 0.2975\n",
      "Groups probabilities:  [0.0026 0.9974 0.    ]\n"
     ]
    },
    {
     "data": {
      "image/png": "[encoded data removed]",
      "text/plain": [
       "<Figure size 432x288 with 2 Axes>"
      ]
     },
     "metadata": {
      "needs_background": "light"
     },
     "output_type": "display_data"
    },
    {
     "name": "stdout",
     "output_type": "stream",
     "text": [
      "JS divergence: 0.1539\tNorm Frobenius: 0.2329\n",
      "Groups probabilities:  [1. 0. 0.]\n"
     ]
    },
    {
     "data": {
      "image/png": "[encoded data removed]",
      "text/plain": [
       "<Figure size 432x288 with 2 Axes>"
      ]
     },
     "metadata": {
      "needs_background": "light"
     },
     "output_type": "display_data"
    },
    {
     "name": "stdout",
     "output_type": "stream",
     "text": [
      "JS divergence: 0.2294\tNorm Frobenius: 0.2902\n",
      "Groups probabilities:  [0. 1. 0.]\n"
     ]
    },
    {
     "data": {
      "image/png": "[encoded data removed]",
      "text/plain": [
       "<Figure size 432x288 with 2 Axes>"
      ]
     },
     "metadata": {
      "needs_background": "light"
     },
     "output_type": "display_data"
    },
    {
     "name": "stdout",
     "output_type": "stream",
     "text": [
      "JS divergence: 0.0531\tNorm Frobenius: 0.0786\n",
      "Groups probabilities:  [0.6968 0.3032 0.    ]\n"
     ]
    },
    {
     "data": {
      "image/png": "[encoded data removed]",
      "text/plain": [
       "<Figure size 432x288 with 2 Axes>"
      ]
     },
     "metadata": {
      "needs_background": "light"
     },
     "output_type": "display_data"
    },
    {
     "name": "stdout",
     "output_type": "stream",
     "text": [
      "JS divergence: 0.5166\tNorm Frobenius: 0.4585\n",
      "Groups probabilities:  [1.464e-01 8.535e-01 1.000e-04]\n"
     ]
    },
    {
     "data": {
      "image/png": "[encoded data removed]",
      "text/plain": [
       "<Figure size 432x288 with 2 Axes>"
      ]
     },
     "metadata": {
      "needs_background": "light"
     },
     "output_type": "display_data"
    },
    {
     "name": "stdout",
     "output_type": "stream",
     "text": [
      "JS divergence: 0.1016\tNorm Frobenius: 0.1470\n",
      "Groups probabilities:  [0. 1. 0.]\n"
     ]
    },
    {
     "data": {
      "image/png": "[encoded data removed]",
      "text/plain": [
       "<Figure size 432x288 with 2 Axes>"
      ]
     },
     "metadata": {
      "needs_background": "light"
     },
     "output_type": "display_data"
    },
    {
     "name": "stdout",
     "output_type": "stream",
     "text": [
      "JS divergence: 0.0925\tNorm Frobenius: 0.1406\n",
      "Groups probabilities:  [0.4276 0.5724 0.    ]\n"
     ]
    },
    {
     "data": {
      "image/png": "[encoded data removed]",
      "text/plain": [
       "<Figure size 432x288 with 2 Axes>"
      ]
     },
     "metadata": {
      "needs_background": "light"
     },
     "output_type": "display_data"
    },
    {
     "name": "stdout",
     "output_type": "stream",
     "text": [
      "JS divergence: 0.1618\tNorm Frobenius: 0.2315\n",
      "Groups probabilities:  [0. 1. 0.]\n"
     ]
    },
    {
     "data": {
      "image/png": "[encoded data removed]",
      "text/plain": [
       "<Figure size 432x288 with 2 Axes>"
      ]
     },
     "metadata": {
      "needs_background": "light"
     },
     "output_type": "display_data"
    },
    {
     "name": "stdout",
     "output_type": "stream",
     "text": [
      "JS divergence: 0.1617\tNorm Frobenius: 0.2478\n",
      "Groups probabilities:  [0. 1. 0.]\n"
     ]
    },
    {
     "data": {
      "image/png": "[encoded data removed]",
      "text/plain": [
       "<Figure size 432x288 with 2 Axes>"
      ]
     },
     "metadata": {
      "needs_background": "light"
     },
     "output_type": "display_data"
    },
    {
     "name": "stdout",
     "output_type": "stream",
     "text": [
      "JS divergence: 0.3712\tNorm Frobenius: 0.3677\n",
      "Groups probabilities:  [0.4862 0.3768 0.1371]\n"
     ]
    },
    {
     "data": {
      "image/png": "[encoded data removed]",
      "text/plain": [
       "<Figure size 432x288 with 2 Axes>"
      ]
     },
     "metadata": {
      "needs_background": "light"
     },
     "output_type": "display_data"
    },
    {
     "name": "stdout",
     "output_type": "stream",
     "text": [
      "JS divergence: 0.0935\tNorm Frobenius: 0.1461\n",
      "Groups probabilities:  [1. 0. 0.]\n",
      "Calculate confusion matrix on global version\n"
     ]
    },
    {
     "data": {
      "image/png": "[encoded data removed]",
      "text/plain": [
       "<Figure size 432x288 with 2 Axes>"
      ]
     },
     "metadata": {
      "needs_background": "light"
     },
     "output_type": "display_data"
    },
    {
     "name": "stdout",
     "output_type": "stream",
     "text": [
      "JS divergence: 0.0715\tNorm Frobenius: 0.1466\n",
      "A result\n"
     ]
    },
    {
     "data": {
      "text/html": [
       "<div>\n",
       "<style scoped>\n",
       "    .dataframe tbody tr th:only-of-type {\n",
       "        vertical-align: middle;\n",
       "    }\n",
       "\n",
       "    .dataframe tbody tr th {\n",
       "        vertical-align: top;\n",
       "    }\n",
       "\n",
       "    .dataframe thead th {\n",
       "        text-align: right;\n",
       "    }\n",
       "</style>\n",
       "<table border=\"1\" class=\"dataframe\">\n",
       "  <thead>\n",
       "    <tr style=\"text-align: right;\">\n",
       "      <th></th>\n",
       "      <th></th>\n",
       "      <th>Accuracy</th>\n",
       "      <th>F1 (micro)</th>\n",
       "      <th>F1 (macro)</th>\n",
       "      <th>(R) NormF mean</th>\n",
       "      <th>(R) JS mean</th>\n",
       "      <th>(R) NormF w</th>\n",
       "      <th>(R) JS w</th>\n",
       "      <th>(G) NormF</th>\n",
       "      <th>(G) JS</th>\n",
       "    </tr>\n",
       "  </thead>\n",
       "  <tbody>\n",
       "    <tr>\n",
       "      <th>0</th>\n",
       "      <td>All</td>\n",
       "      <td>0.6742</td>\n",
       "      <td>0.6742</td>\n",
       "      <td>0.658</td>\n",
       "      <td>0.302</td>\n",
       "      <td>0.263</td>\n",
       "      <td>0.2481</td>\n",
       "      <td>0.1913</td>\n",
       "      <td>0.1466</td>\n",
       "      <td>0.0715</td>\n",
       "    </tr>\n",
       "  </tbody>\n",
       "</table>\n",
       "</div>"
      ],
      "text/plain": [
       "        Accuracy  F1 (micro)  F1 (macro)  (R) NormF mean  (R) JS mean  \\\n",
       "0  All    0.6742      0.6742       0.658           0.302        0.263   \n",
       "\n",
       "   (R) NormF w  (R) JS w  (G) NormF  (G) JS  \n",
       "0       0.2481    0.1913     0.1466  0.0715  "
      ]
     },
     "metadata": {},
     "output_type": "display_data"
    },
    {
     "name": "stdout",
     "output_type": "stream",
     "text": [
      "Val\n"
     ]
    },
    {
     "data": {
      "image/png": "[encoded data removed]",
      "text/plain": [
       "<Figure size 432x288 with 1 Axes>"
      ]
     },
     "metadata": {
      "needs_background": "light"
     },
     "output_type": "display_data"
    },
    {
     "data": {
      "image/png": "[encoded data removed]",
      "text/plain": [
       "<Figure size 432x288 with 1 Axes>"
      ]
     },
     "metadata": {
      "needs_background": "light"
     },
     "output_type": "display_data"
    },
    {
     "data": {
      "image/png": "[encoded data removed]",
      "text/plain": [
       "<Figure size 432x288 with 1 Axes>"
      ]
     },
     "metadata": {
      "needs_background": "light"
     },
     "output_type": "display_data"
    },
    {
     "name": "stdout",
     "output_type": "stream",
     "text": [
      "Inertia JS: 0.3034384716247916\n",
      "Inertia NormF: 0.3565158646418873\n",
      "A result\n"
     ]
    },
    {
     "data": {
      "text/html": [
       "<div>\n",
       "<style scoped>\n",
       "    .dataframe tbody tr th:only-of-type {\n",
       "        vertical-align: middle;\n",
       "    }\n",
       "\n",
       "    .dataframe tbody tr th {\n",
       "        vertical-align: top;\n",
       "    }\n",
       "\n",
       "    .dataframe thead th {\n",
       "        text-align: right;\n",
       "    }\n",
       "</style>\n",
       "<table border=\"1\" class=\"dataframe\">\n",
       "  <thead>\n",
       "    <tr style=\"text-align: right;\">\n",
       "      <th></th>\n",
       "      <th>Groups</th>\n",
       "      <th>Prob</th>\n",
       "      <th>T(g)</th>\n",
       "      <th>Entropy</th>\n",
       "      <th>Diag mean</th>\n",
       "      <th>Isim (JS)</th>\n",
       "      <th>S_raykar</th>\n",
       "      <th>S_bias</th>\n",
       "      <th>C_bias</th>\n",
       "      <th>Iner JS</th>\n",
       "      <th>Iner NormF</th>\n",
       "      <th>Accuracy</th>\n",
       "      <th>F1 (micro)</th>\n",
       "    </tr>\n",
       "  </thead>\n",
       "  <tbody>\n",
       "    <tr>\n",
       "      <th>0</th>\n",
       "      <td>0</td>\n",
       "      <td>0.1502</td>\n",
       "      <td>202</td>\n",
       "      <td>0.3179</td>\n",
       "      <td>0.7385</td>\n",
       "      <td>0.7676</td>\n",
       "      <td>0.6513</td>\n",
       "      <td>0.0685</td>\n",
       "      <td>1</td>\n",
       "      <td>0.3034</td>\n",
       "      <td>0.3565</td>\n",
       "      <td>0.5519</td>\n",
       "      <td>0.5519</td>\n",
       "    </tr>\n",
       "    <tr>\n",
       "      <th>1</th>\n",
       "      <td>1</td>\n",
       "      <td>0.7145</td>\n",
       "      <td>961</td>\n",
       "      <td>0.2844</td>\n",
       "      <td>0.9157</td>\n",
       "      <td>0.9545</td>\n",
       "      <td>0.8876</td>\n",
       "      <td>0.0540</td>\n",
       "      <td>0</td>\n",
       "      <td>0.3034</td>\n",
       "      <td>0.3565</td>\n",
       "      <td>0.6209</td>\n",
       "      <td>0.6209</td>\n",
       "    </tr>\n",
       "    <tr>\n",
       "      <th>2</th>\n",
       "      <td>2</td>\n",
       "      <td>0.1353</td>\n",
       "      <td>182</td>\n",
       "      <td>0.2066</td>\n",
       "      <td>0.7376</td>\n",
       "      <td>0.7586</td>\n",
       "      <td>0.6502</td>\n",
       "      <td>0.2111</td>\n",
       "      <td>3</td>\n",
       "      <td>0.3034</td>\n",
       "      <td>0.3565</td>\n",
       "      <td>0.4483</td>\n",
       "      <td>0.4483</td>\n",
       "    </tr>\n",
       "  </tbody>\n",
       "</table>\n",
       "</div>"
      ],
      "text/plain": [
       "   Groups    Prob  T(g)  Entropy  Diag mean  Isim (JS)  S_raykar  S_bias  \\\n",
       "0       0  0.1502   202   0.3179     0.7385     0.7676    0.6513  0.0685   \n",
       "1       1  0.7145   961   0.2844     0.9157     0.9545    0.8876  0.0540   \n",
       "2       2  0.1353   182   0.2066     0.7376     0.7586    0.6502  0.2111   \n",
       "\n",
       "   C_bias  Iner JS  Iner NormF  Accuracy  F1 (micro)  \n",
       "0       1   0.3034      0.3565    0.5519      0.5519  \n",
       "1       0   0.3034      0.3565    0.6209      0.6209  \n",
       "2       3   0.3034      0.3565    0.4483      0.4483  "
      ]
     },
     "metadata": {},
     "output_type": "display_data"
    },
    {
     "name": "stdout",
     "output_type": "stream",
     "text": [
      "A result\n"
     ]
    },
    {
     "data": {
      "text/html": [
       "<div>\n",
       "<style scoped>\n",
       "    .dataframe tbody tr th:only-of-type {\n",
       "        vertical-align: middle;\n",
       "    }\n",
       "\n",
       "    .dataframe tbody tr th {\n",
       "        vertical-align: top;\n",
       "    }\n",
       "\n",
       "    .dataframe thead th {\n",
       "        text-align: right;\n",
       "    }\n",
       "</style>\n",
       "<table border=\"1\" class=\"dataframe\">\n",
       "  <thead>\n",
       "    <tr style=\"text-align: right;\">\n",
       "      <th></th>\n",
       "      <th></th>\n",
       "      <th>Accuracy</th>\n",
       "      <th>F1 (micro)</th>\n",
       "      <th>F1 (macro)</th>\n",
       "    </tr>\n",
       "  </thead>\n",
       "  <tbody>\n",
       "    <tr>\n",
       "      <th>0</th>\n",
       "      <td>All</td>\n",
       "      <td>0.6286</td>\n",
       "      <td>0.6286</td>\n",
       "      <td>0.609</td>\n",
       "    </tr>\n",
       "  </tbody>\n",
       "</table>\n",
       "</div>"
      ],
      "text/plain": [
       "        Accuracy  F1 (micro)  F1 (macro)\n",
       "0  All    0.6286      0.6286       0.609"
      ]
     },
     "metadata": {},
     "output_type": "display_data"
    }
   ],
   "source": [
    "evaluate = Evaluation_metrics(gMixture_Global,'our1') \n",
    "aux = gMixture_Global.calculate_extra_components(Xstd_train,y_obs,T=T,calculate_pred_annotator=False,p_z=Z_train_p)\n",
    "predictions_m,prob_Gt,prob_Yzt,_ =  aux #to evaluate...\n",
    "prob_Yz = gMixture_Global.calculate_Yz()\n",
    "evaluate.set_Gt(prob_Gt)\n",
    "print(\"*** Ours Global multiples runs***\") #lambda = random\n",
    "\n",
    "print(\"Train\")\n",
    "y_o_groups = predictions_m.argmax(axis=-1)\n",
    "results = evaluate.calculate_metrics(Z=Z_train,Z_pred=Z_train_pred,conf_pred=prob_Yzt,conf_true=confe_matrix_R,\n",
    "                                     y_o=y_obs, y_o_groups=y_o_groups,# yo_pred=prob_Yxt,\n",
    "                                    conf_true_G =confe_matrix_G, conf_pred_G = prob_Yz)\n",
    "\n",
    "#results = evaluate.calculate_metrics(y_o=y_obs,yo_pred=prob_Yxt)\n",
    "\n",
    "print(\"Val\")\n",
    "c_M = gMixture_Global.get_confusionM()\n",
    "y_o_groups = gMixture_Global.get_predictions_groups(Xstd_val,data=Z_val_p).argmax(axis=-1) #obtain p(y^o|x,g=m) and then argmax\n",
    "results = evaluate.calculate_metrics(Z=Z_val,Z_pred=Z_val_pred,conf_pred=c_M, y_o_groups=y_o_groups)"
   ]
  },
  {
   "cell_type": "code",
   "execution_count": null,
   "metadata": {},
   "outputs": [],
   "source": []
  },
  {
   "cell_type": "code",
   "execution_count": 40,
   "metadata": {},
   "outputs": [
    {
     "ename": "NameError",
     "evalue": "name 'Evaluation_metrics' is not defined",
     "output_type": "error",
     "traceback": [
      "\u001b[0;31m---------------------------------------------------------------------------\u001b[0m",
      "\u001b[0;31mNameError\u001b[0m                                 Traceback (most recent call last)",
      "\u001b[0;32m<ipython-input-40-b0278bd6b7e2>\u001b[0m in \u001b[0;36m<module>\u001b[0;34m()\u001b[0m\n\u001b[0;32m----> 1\u001b[0;31m \u001b[0mevaluate\u001b[0m \u001b[0;34m=\u001b[0m \u001b[0mEvaluation_metrics\u001b[0m\u001b[0;34m(\u001b[0m\u001b[0mgMixture_Global\u001b[0m\u001b[0;34m,\u001b[0m\u001b[0;34m'our1'\u001b[0m\u001b[0;34m)\u001b[0m\u001b[0;34m\u001b[0m\u001b[0m\n\u001b[0m\u001b[1;32m      2\u001b[0m \u001b[0maux\u001b[0m \u001b[0;34m=\u001b[0m \u001b[0mgMixture_Global\u001b[0m\u001b[0;34m.\u001b[0m\u001b[0mcalculate_extra_components\u001b[0m\u001b[0;34m(\u001b[0m\u001b[0mXstd_train\u001b[0m\u001b[0;34m,\u001b[0m\u001b[0my_obs\u001b[0m\u001b[0;34m,\u001b[0m\u001b[0mT\u001b[0m\u001b[0;34m=\u001b[0m\u001b[0mT\u001b[0m\u001b[0;34m,\u001b[0m\u001b[0mcalculate_pred_annotator\u001b[0m\u001b[0;34m=\u001b[0m\u001b[0;32mTrue\u001b[0m\u001b[0;34m,\u001b[0m\u001b[0mp_z\u001b[0m\u001b[0;34m=\u001b[0m\u001b[0mZ_train_p\u001b[0m\u001b[0;34m)\u001b[0m\u001b[0;34m\u001b[0m\u001b[0m\n\u001b[1;32m      3\u001b[0m \u001b[0mpredictions_m\u001b[0m\u001b[0;34m,\u001b[0m\u001b[0mprob_Gt\u001b[0m\u001b[0;34m,\u001b[0m\u001b[0mprob_Yzt\u001b[0m\u001b[0;34m,\u001b[0m\u001b[0mprob_Yxt\u001b[0m \u001b[0;34m=\u001b[0m  \u001b[0maux\u001b[0m \u001b[0;31m#to evaluate...\u001b[0m\u001b[0;34m\u001b[0m\u001b[0m\n\u001b[1;32m      4\u001b[0m \u001b[0mevaluate\u001b[0m\u001b[0;34m.\u001b[0m\u001b[0mset_Gt\u001b[0m\u001b[0;34m(\u001b[0m\u001b[0mprob_Gt\u001b[0m\u001b[0;34m)\u001b[0m\u001b[0;34m\u001b[0m\u001b[0m\n\u001b[1;32m      5\u001b[0m \u001b[0mprint\u001b[0m\u001b[0;34m(\u001b[0m\u001b[0;34m\"*** Ours Global multiples runs***\"\u001b[0m\u001b[0;34m)\u001b[0m \u001b[0;31m#groups uniform...\u001b[0m\u001b[0;34m\u001b[0m\u001b[0m\n",
      "\u001b[0;31mNameError\u001b[0m: name 'Evaluation_metrics' is not defined"
     ]
    }
   ],
   "source": [
    "evaluate = Evaluation_metrics(gMixture_Global,'our1') \n",
    "aux = gMixture_Global.calculate_extra_components(Xstd_train,y_obs,T=T,calculate_pred_annotator=True,p_z=Z_train_p)\n",
    "predictions_m,prob_Gt,prob_Yzt,prob_Yxt =  aux #to evaluate...\n",
    "evaluate.set_Gt(prob_Gt)\n",
    "print(\"*** Ours Global multiples runs***\") #groups uniform...\n",
    "\n",
    "print(\"Train\")\n",
    "y_o_groups = predictions_m.argmax(axis=-1)\n",
    "results = evaluate.calculate_metrics(Z=Z_train,Z_pred=Z_train_pred,conf_pred=prob_Yzt,conf_true=confe_matrix_R,y_o=y_obs,yo_pred=prob_Yxt, y_o_groups=y_o_groups)\n",
    "\n",
    "results = evaluate.calculate_metrics(y_o=y_obs,yo_pred=prob_Yxt)\n",
    "\n",
    "print(\"Test\")\n",
    "c_M = gMixture_Global.get_confusionM()\n",
    "y_o_groups = gMixture_Global.get_predictions_groups(Xstd_test,data=Z_test_p).argmax(axis=-1) #obtain p(y^o|x,g=m) and then argmax\n",
    "results = evaluate.calculate_metrics(Z=Z_test,Z_pred=Z_test_pred,conf_pred=c_M, y_o_groups=y_o_groups)"
   ]
  },
  {
   "cell_type": "code",
   "execution_count": null,
   "metadata": {},
   "outputs": [],
   "source": []
  },
  {
   "cell_type": "code",
   "execution_count": 41,
   "metadata": {},
   "outputs": [
    {
     "ename": "NameError",
     "evalue": "name 'Evaluation_metrics' is not defined",
     "output_type": "error",
     "traceback": [
      "\u001b[0;31m---------------------------------------------------------------------------\u001b[0m",
      "\u001b[0;31mNameError\u001b[0m                                 Traceback (most recent call last)",
      "\u001b[0;32m<ipython-input-41-5ae16cc914c6>\u001b[0m in \u001b[0;36m<module>\u001b[0;34m()\u001b[0m\n\u001b[0;32m----> 1\u001b[0;31m \u001b[0mevaluate\u001b[0m \u001b[0;34m=\u001b[0m \u001b[0mEvaluation_metrics\u001b[0m\u001b[0;34m(\u001b[0m\u001b[0mgMixture_Ind1\u001b[0m\u001b[0;34m,\u001b[0m\u001b[0;34m'our1'\u001b[0m\u001b[0;34m)\u001b[0m\u001b[0;34m\u001b[0m\u001b[0m\n\u001b[0m\u001b[1;32m      2\u001b[0m \u001b[0maux\u001b[0m \u001b[0;34m=\u001b[0m \u001b[0mgMixture_Ind1\u001b[0m\u001b[0;34m.\u001b[0m\u001b[0mcalculate_extra_components\u001b[0m\u001b[0;34m(\u001b[0m\u001b[0mXstd_train\u001b[0m\u001b[0;34m,\u001b[0m \u001b[0mA\u001b[0m\u001b[0;34m,\u001b[0m\u001b[0mcalculate_pred_annotator\u001b[0m\u001b[0;34m=\u001b[0m\u001b[0;32mTrue\u001b[0m\u001b[0;34m,\u001b[0m\u001b[0mp_z\u001b[0m\u001b[0;34m=\u001b[0m\u001b[0mZ_train_p\u001b[0m\u001b[0;34m,\u001b[0m\u001b[0mp_g\u001b[0m\u001b[0;34m=\u001b[0m\u001b[0mprob_Gt\u001b[0m\u001b[0;34m)\u001b[0m\u001b[0;34m\u001b[0m\u001b[0m\n\u001b[1;32m      3\u001b[0m \u001b[0mpredictions_m\u001b[0m\u001b[0;34m,\u001b[0m\u001b[0mprob_Gt\u001b[0m\u001b[0;34m,\u001b[0m\u001b[0mprob_Yzt\u001b[0m\u001b[0;34m,\u001b[0m\u001b[0mprob_Yxt\u001b[0m \u001b[0;34m=\u001b[0m  \u001b[0maux\u001b[0m \u001b[0;31m#to evaluate...\u001b[0m\u001b[0;34m\u001b[0m\u001b[0m\n\u001b[1;32m      4\u001b[0m \u001b[0mprob_Yz\u001b[0m \u001b[0;34m=\u001b[0m \u001b[0mgMixture_Ind1\u001b[0m\u001b[0;34m.\u001b[0m\u001b[0mcalculate_Yz\u001b[0m\u001b[0;34m(\u001b[0m\u001b[0mprob_Gt\u001b[0m\u001b[0;34m)\u001b[0m\u001b[0;34m\u001b[0m\u001b[0m\n\u001b[1;32m      5\u001b[0m \u001b[0mevaluate\u001b[0m\u001b[0;34m.\u001b[0m\u001b[0mset_Gt\u001b[0m\u001b[0;34m(\u001b[0m\u001b[0mprob_Gt\u001b[0m\u001b[0;34m)\u001b[0m\u001b[0;34m\u001b[0m\u001b[0m\n",
      "\u001b[0;31mNameError\u001b[0m: name 'Evaluation_metrics' is not defined"
     ]
    }
   ],
   "source": [
    "evaluate = Evaluation_metrics(gMixture_Ind1,'our1') \n",
    "aux = gMixture_Ind1.calculate_extra_components(Xstd_train, A,calculate_pred_annotator=True,p_z=Z_train_p,p_g=prob_Gt)\n",
    "predictions_m,prob_Gt,prob_Yzt,prob_Yxt =  aux #to evaluate...\n",
    "prob_Yz = gMixture_Ind1.calculate_Yz(prob_Gt)\n",
    "evaluate.set_Gt(prob_Gt)\n",
    "print(\"*** Ours Individual1 multiples runs***\") #lambda = 1\n",
    "\n",
    "print(\"Train\")\n",
    "y_o_groups = predictions_m.argmax(axis=-1)\n",
    "results = evaluate.calculate_metrics(Z=Z_train,Z_pred=Z_train_pred,conf_pred=prob_Yzt,conf_true=confe_matrix_R,\n",
    "                                     y_o=y_obs,yo_pred=prob_Yxt, y_o_groups=y_o_groups,\n",
    "                                    conf_true_G =confe_matrix_G, conf_pred_G = prob_Yz)\n",
    "results = evaluate.calculate_metrics(y_o=y_obs,yo_pred=prob_Yxt)\n",
    "\n",
    "print(\"Test\")\n",
    "c_M = gMixture_Ind1.get_confusionM()\n",
    "y_o_groups = gMixture_Ind1.get_predictions_groups(Xstd_test,data=Z_test_p).argmax(axis=-1) #obtain p(y^o|x,g=m) and then argmax\n",
    "results = evaluate.calculate_metrics(Z=Z_test,Z_pred=Z_test_pred,conf_pred=c_M, y_o_groups=y_o_groups)"
   ]
  },
  {
   "cell_type": "code",
   "execution_count": 42,
   "metadata": {},
   "outputs": [
    {
     "ename": "NameError",
     "evalue": "name 'Evaluation_metrics' is not defined",
     "output_type": "error",
     "traceback": [
      "\u001b[0;31m---------------------------------------------------------------------------\u001b[0m",
      "\u001b[0;31mNameError\u001b[0m                                 Traceback (most recent call last)",
      "\u001b[0;32m<ipython-input-42-5a4cf2752ce1>\u001b[0m in \u001b[0;36m<module>\u001b[0;34m()\u001b[0m\n\u001b[0;32m----> 1\u001b[0;31m \u001b[0mevaluate\u001b[0m \u001b[0;34m=\u001b[0m \u001b[0mEvaluation_metrics\u001b[0m\u001b[0;34m(\u001b[0m\u001b[0mgMixture_Ind3\u001b[0m\u001b[0;34m,\u001b[0m\u001b[0;34m'our1'\u001b[0m\u001b[0;34m)\u001b[0m\u001b[0;34m\u001b[0m\u001b[0m\n\u001b[0m\u001b[1;32m      2\u001b[0m \u001b[0maux\u001b[0m \u001b[0;34m=\u001b[0m \u001b[0mgMixture_Ind3\u001b[0m\u001b[0;34m.\u001b[0m\u001b[0mcalculate_extra_components\u001b[0m\u001b[0;34m(\u001b[0m\u001b[0mXstd_train\u001b[0m\u001b[0;34m,\u001b[0m \u001b[0mA\u001b[0m\u001b[0;34m,\u001b[0m\u001b[0mcalculate_pred_annotator\u001b[0m\u001b[0;34m=\u001b[0m\u001b[0;32mTrue\u001b[0m\u001b[0;34m,\u001b[0m\u001b[0mp_z\u001b[0m\u001b[0;34m=\u001b[0m\u001b[0mZ_train_p\u001b[0m\u001b[0;34m,\u001b[0m\u001b[0mp_g\u001b[0m\u001b[0;34m=\u001b[0m\u001b[0mprob_Gt\u001b[0m\u001b[0;34m)\u001b[0m\u001b[0;34m\u001b[0m\u001b[0m\n\u001b[1;32m      3\u001b[0m \u001b[0mpredictions_m\u001b[0m\u001b[0;34m,\u001b[0m\u001b[0mprob_Gt\u001b[0m\u001b[0;34m,\u001b[0m\u001b[0mprob_Yzt\u001b[0m\u001b[0;34m,\u001b[0m\u001b[0mprob_Yxt\u001b[0m \u001b[0;34m=\u001b[0m  \u001b[0maux\u001b[0m \u001b[0;31m#to evaluate...\u001b[0m\u001b[0;34m\u001b[0m\u001b[0m\n\u001b[1;32m      4\u001b[0m \u001b[0mprob_Yz\u001b[0m \u001b[0;34m=\u001b[0m \u001b[0mgMixture_Ind3\u001b[0m\u001b[0;34m.\u001b[0m\u001b[0mcalculate_Yz\u001b[0m\u001b[0;34m(\u001b[0m\u001b[0mprob_Gt\u001b[0m\u001b[0;34m)\u001b[0m\u001b[0;34m\u001b[0m\u001b[0m\n\u001b[1;32m      5\u001b[0m \u001b[0mevaluate\u001b[0m\u001b[0;34m.\u001b[0m\u001b[0mset_Gt\u001b[0m\u001b[0;34m(\u001b[0m\u001b[0mprob_Gt\u001b[0m\u001b[0;34m)\u001b[0m\u001b[0;34m\u001b[0m\u001b[0m\n",
      "\u001b[0;31mNameError\u001b[0m: name 'Evaluation_metrics' is not defined"
     ]
    }
   ],
   "source": [
    "evaluate = Evaluation_metrics(gMixture_Ind3,'our1') \n",
    "aux = gMixture_Ind3.calculate_extra_components(Xstd_train, A,calculate_pred_annotator=True,p_z=Z_train_p,p_g=prob_Gt)\n",
    "predictions_m,prob_Gt,prob_Yzt,prob_Yxt =  aux #to evaluate...\n",
    "prob_Yz = gMixture_Ind3.calculate_Yz(prob_Gt)\n",
    "evaluate.set_Gt(prob_Gt)\n",
    "print(\"*** Ours Individual3 multiples runs***\") #lambda = 1\n",
    "\n",
    "print(\"Train\")\n",
    "y_o_groups = predictions_m.argmax(axis=-1)\n",
    "results = evaluate.calculate_metrics(Z=Z_train,Z_pred=Z_train_pred,conf_pred=prob_Yzt,conf_true=confe_matrix_R,\n",
    "                                     y_o=y_obs,yo_pred=prob_Yxt, y_o_groups=y_o_groups,\n",
    "                                    conf_true_G =confe_matrix_G, conf_pred_G = prob_Yz)\n",
    "results = evaluate.calculate_metrics(y_o=y_obs,yo_pred=prob_Yxt)\n",
    "\n",
    "print(\"Test\")\n",
    "c_M = gMixture_Ind3.get_confusionM()\n",
    "y_o_groups = gMixture_Ind3.get_predictions_groups(Xstd_test,data=Z_test_p).argmax(axis=-1) #obtain p(y^o|x,g=m) and then argmax\n",
    "results = evaluate.calculate_metrics(Z=Z_test,Z_pred=Z_test_pred,conf_pred=c_M, y_o_groups=y_o_groups)"
   ]
  },
  {
   "cell_type": "code",
   "execution_count": 43,
   "metadata": {},
   "outputs": [
    {
     "ename": "NameError",
     "evalue": "name 'plot_alphas' is not defined",
     "output_type": "error",
     "traceback": [
      "\u001b[0;31m---------------------------------------------------------------------------\u001b[0m",
      "\u001b[0;31mNameError\u001b[0m                                 Traceback (most recent call last)",
      "\u001b[0;32m<ipython-input-43-4ee73b36f505>\u001b[0m in \u001b[0;36m<module>\u001b[0;34m()\u001b[0m\n\u001b[0;32m----> 1\u001b[0;31m \u001b[0mplot_alphas\u001b[0m\u001b[0;34m(\u001b[0m\u001b[0mgMixture_Ind1\u001b[0m\u001b[0;34m.\u001b[0m\u001b[0malphas_training\u001b[0m\u001b[0;34m)\u001b[0m\u001b[0;34m\u001b[0m\u001b[0m\n\u001b[0m",
      "\u001b[0;31mNameError\u001b[0m: name 'plot_alphas' is not defined"
     ]
    }
   ],
   "source": [
    "plot_alphas(gMixture_Ind1.alphas_training)"
   ]
  },
  {
   "cell_type": "code",
   "execution_count": 44,
   "metadata": {},
   "outputs": [
    {
     "ename": "NameError",
     "evalue": "name 'plot_alphas' is not defined",
     "output_type": "error",
     "traceback": [
      "\u001b[0;31m---------------------------------------------------------------------------\u001b[0m",
      "\u001b[0;31mNameError\u001b[0m                                 Traceback (most recent call last)",
      "\u001b[0;32m<ipython-input-44-fd40761b36d8>\u001b[0m in \u001b[0;36m<module>\u001b[0;34m()\u001b[0m\n\u001b[0;32m----> 1\u001b[0;31m \u001b[0mplot_alphas\u001b[0m\u001b[0;34m(\u001b[0m\u001b[0mgMixture_Ind3\u001b[0m\u001b[0;34m.\u001b[0m\u001b[0malphas_training\u001b[0m\u001b[0;34m)\u001b[0m\u001b[0;34m\u001b[0m\u001b[0m\n\u001b[0m",
      "\u001b[0;31mNameError\u001b[0m: name 'plot_alphas' is not defined"
     ]
    }
   ],
   "source": [
    "plot_alphas(gMixture_Ind3.alphas_training)"
   ]
  },
  {
   "cell_type": "markdown",
   "metadata": {
    "collapsed": true
   },
   "source": [
    "### project confusion matrices"
   ]
  },
  {
   "cell_type": "code",
   "execution_count": 45,
   "metadata": {},
   "outputs": [
    {
     "ename": "NameError",
     "evalue": "name 'gMixture_Global' is not defined",
     "output_type": "error",
     "traceback": [
      "\u001b[0;31m---------------------------------------------------------------------------\u001b[0m",
      "\u001b[0;31mNameError\u001b[0m                                 Traceback (most recent call last)",
      "\u001b[0;32m<ipython-input-45-68abb3d8069f>\u001b[0m in \u001b[0;36m<module>\u001b[0;34m()\u001b[0m\n\u001b[1;32m      4\u001b[0m \u001b[0mto_plot\u001b[0m \u001b[0;34m=\u001b[0m \u001b[0mflatten_conf\u001b[0m\u001b[0;34m(\u001b[0m\u001b[0mconfe_matrix_R\u001b[0m\u001b[0;34m)\u001b[0m\u001b[0;34m\u001b[0m\u001b[0m\n\u001b[1;32m      5\u001b[0m \u001b[0;34m\u001b[0m\u001b[0m\n\u001b[0;32m----> 6\u001b[0;31m \u001b[0mcentroids_plot_G\u001b[0m \u001b[0;34m=\u001b[0m \u001b[0mflatten_conf\u001b[0m\u001b[0;34m(\u001b[0m\u001b[0mgMixture_Global\u001b[0m\u001b[0;34m.\u001b[0m\u001b[0mget_confusionM\u001b[0m\u001b[0;34m(\u001b[0m\u001b[0;34m)\u001b[0m\u001b[0;34m)\u001b[0m\u001b[0;34m\u001b[0m\u001b[0m\n\u001b[0m\u001b[1;32m      7\u001b[0m \u001b[0mcentroids_plot_IT\u001b[0m \u001b[0;34m=\u001b[0m \u001b[0mflatten_conf\u001b[0m\u001b[0;34m(\u001b[0m\u001b[0mgMixture_Ind1\u001b[0m\u001b[0;34m.\u001b[0m\u001b[0mget_confusionM\u001b[0m\u001b[0;34m(\u001b[0m\u001b[0;34m)\u001b[0m\u001b[0;34m)\u001b[0m\u001b[0;34m\u001b[0m\u001b[0m\n\u001b[1;32m      8\u001b[0m \u001b[0mcentroids_plot_IK\u001b[0m \u001b[0;34m=\u001b[0m \u001b[0mflatten_conf\u001b[0m\u001b[0;34m(\u001b[0m\u001b[0mgMixture_Ind3\u001b[0m\u001b[0;34m.\u001b[0m\u001b[0mget_confusionM\u001b[0m\u001b[0;34m(\u001b[0m\u001b[0;34m)\u001b[0m\u001b[0;34m)\u001b[0m\u001b[0;34m\u001b[0m\u001b[0m\n",
      "\u001b[0;31mNameError\u001b[0m: name 'gMixture_Global' is not defined"
     ]
    }
   ],
   "source": [
    "def flatten_conf(m):\n",
    "    return m.reshape(m.shape[0], np.prod(m.shape[1:]))\n",
    "\n",
    "to_plot = flatten_conf(confe_matrix_R)\n",
    "\n",
    "centroids_plot_G = flatten_conf(gMixture_Global.get_confusionM())\n",
    "centroids_plot_IT = flatten_conf(gMixture_Ind1.get_confusionM())\n",
    "centroids_plot_IK = flatten_conf(gMixture_Ind3.get_confusionM())\n",
    "global_plot = (confe_matrix_G.flatten()).reshape(1,-1)\n",
    "\n",
    "from sklearn.decomposition import PCA\n",
    "model = PCA(2)\n",
    "model.fit(to_plot) \n",
    "\n",
    "to_plot = model.transform(to_plot) \n",
    "centroids_plot_G = model.transform(centroids_plot_G)\n",
    "centroids_plot_IT = model.transform(centroids_plot_IT)\n",
    "centroids_plot_IK = model.transform(centroids_plot_IK)\n",
    "global_plot = model.transform(global_plot)"
   ]
  },
  {
   "cell_type": "code",
   "execution_count": 46,
   "metadata": {},
   "outputs": [
    {
     "ename": "NameError",
     "evalue": "name 'centroids_plot_G' is not defined",
     "output_type": "error",
     "traceback": [
      "\u001b[0;31m---------------------------------------------------------------------------\u001b[0m",
      "\u001b[0;31mNameError\u001b[0m                                 Traceback (most recent call last)",
      "\u001b[0;32m<ipython-input-46-4d57db9010ef>\u001b[0m in \u001b[0;36m<module>\u001b[0;34m()\u001b[0m\n\u001b[1;32m      1\u001b[0m \u001b[0mplt\u001b[0m\u001b[0;34m.\u001b[0m\u001b[0mfigure\u001b[0m\u001b[0;34m(\u001b[0m\u001b[0mfigsize\u001b[0m\u001b[0;34m=\u001b[0m\u001b[0;34m(\u001b[0m\u001b[0;36m10\u001b[0m\u001b[0;34m,\u001b[0m\u001b[0;36m7\u001b[0m\u001b[0;34m)\u001b[0m\u001b[0;34m)\u001b[0m\u001b[0;34m\u001b[0m\u001b[0m\n\u001b[1;32m      2\u001b[0m \u001b[0mplt\u001b[0m\u001b[0;34m.\u001b[0m\u001b[0mscatter\u001b[0m\u001b[0;34m(\u001b[0m\u001b[0mto_plot\u001b[0m\u001b[0;34m[\u001b[0m\u001b[0;34m:\u001b[0m\u001b[0;34m,\u001b[0m\u001b[0;36m0\u001b[0m\u001b[0;34m]\u001b[0m\u001b[0;34m,\u001b[0m \u001b[0mto_plot\u001b[0m\u001b[0;34m[\u001b[0m\u001b[0;34m:\u001b[0m\u001b[0;34m,\u001b[0m\u001b[0;36m1\u001b[0m\u001b[0;34m]\u001b[0m\u001b[0;34m,\u001b[0m \u001b[0mlabel\u001b[0m\u001b[0;34m=\u001b[0m\u001b[0;34m\"Annotators\"\u001b[0m\u001b[0;34m)\u001b[0m\u001b[0;34m\u001b[0m\u001b[0m\n\u001b[0;32m----> 3\u001b[0;31m \u001b[0mplt\u001b[0m\u001b[0;34m.\u001b[0m\u001b[0mscatter\u001b[0m\u001b[0;34m(\u001b[0m\u001b[0mcentroids_plot_G\u001b[0m\u001b[0;34m[\u001b[0m\u001b[0;34m:\u001b[0m\u001b[0;34m,\u001b[0m\u001b[0;36m0\u001b[0m\u001b[0;34m]\u001b[0m\u001b[0;34m,\u001b[0m \u001b[0mcentroids_plot_G\u001b[0m\u001b[0;34m[\u001b[0m\u001b[0;34m:\u001b[0m\u001b[0;34m,\u001b[0m\u001b[0;36m1\u001b[0m\u001b[0;34m]\u001b[0m\u001b[0;34m,\u001b[0m \u001b[0ms\u001b[0m\u001b[0;34m=\u001b[0m\u001b[0;36m150\u001b[0m\u001b[0;34m,\u001b[0m\u001b[0mmarker\u001b[0m\u001b[0;34m=\u001b[0m\u001b[0;34m\"*\"\u001b[0m\u001b[0;34m,\u001b[0m \u001b[0mcolor\u001b[0m\u001b[0;34m=\u001b[0m\u001b[0;34m'g'\u001b[0m\u001b[0;34m,\u001b[0m\u001b[0mlabel\u001b[0m\u001b[0;34m=\u001b[0m\u001b[0;34m\"Groups Global\"\u001b[0m\u001b[0;34m,\u001b[0m \u001b[0medgecolor\u001b[0m\u001b[0;34m=\u001b[0m\u001b[0;34m'black'\u001b[0m\u001b[0;34m)\u001b[0m\u001b[0;34m\u001b[0m\u001b[0m\n\u001b[0m\u001b[1;32m      4\u001b[0m \u001b[0mplt\u001b[0m\u001b[0;34m.\u001b[0m\u001b[0mscatter\u001b[0m\u001b[0;34m(\u001b[0m\u001b[0mcentroids_plot_IT\u001b[0m\u001b[0;34m[\u001b[0m\u001b[0;34m:\u001b[0m\u001b[0;34m,\u001b[0m\u001b[0;36m0\u001b[0m\u001b[0;34m]\u001b[0m\u001b[0;34m,\u001b[0m \u001b[0mcentroids_plot_IT\u001b[0m\u001b[0;34m[\u001b[0m\u001b[0;34m:\u001b[0m\u001b[0;34m,\u001b[0m\u001b[0;36m1\u001b[0m\u001b[0;34m]\u001b[0m\u001b[0;34m,\u001b[0m\u001b[0ms\u001b[0m\u001b[0;34m=\u001b[0m\u001b[0;36m150\u001b[0m\u001b[0;34m,\u001b[0m \u001b[0mmarker\u001b[0m\u001b[0;34m=\u001b[0m\u001b[0;34m\"X\"\u001b[0m\u001b[0;34m,\u001b[0m \u001b[0mcolor\u001b[0m\u001b[0;34m=\u001b[0m\u001b[0;34m'purple'\u001b[0m\u001b[0;34m,\u001b[0m\u001b[0mlabel\u001b[0m\u001b[0;34m=\u001b[0m\u001b[0;34m\"Groups Indiv model-T\"\u001b[0m\u001b[0;34m,\u001b[0m \u001b[0medgecolor\u001b[0m\u001b[0;34m=\u001b[0m\u001b[0;34m'black'\u001b[0m\u001b[0;34m)\u001b[0m\u001b[0;34m\u001b[0m\u001b[0m\n\u001b[1;32m      5\u001b[0m \u001b[0mplt\u001b[0m\u001b[0;34m.\u001b[0m\u001b[0mscatter\u001b[0m\u001b[0;34m(\u001b[0m\u001b[0mcentroids_plot_IK\u001b[0m\u001b[0;34m[\u001b[0m\u001b[0;34m:\u001b[0m\u001b[0;34m,\u001b[0m\u001b[0;36m0\u001b[0m\u001b[0;34m]\u001b[0m\u001b[0;34m,\u001b[0m \u001b[0mcentroids_plot_IK\u001b[0m\u001b[0;34m[\u001b[0m\u001b[0;34m:\u001b[0m\u001b[0;34m,\u001b[0m\u001b[0;36m1\u001b[0m\u001b[0;34m]\u001b[0m\u001b[0;34m,\u001b[0m \u001b[0ms\u001b[0m\u001b[0;34m=\u001b[0m\u001b[0;36m150\u001b[0m\u001b[0;34m,\u001b[0m \u001b[0mmarker\u001b[0m\u001b[0;34m=\u001b[0m\u001b[0;34m\"X\"\u001b[0m\u001b[0;34m,\u001b[0m \u001b[0mcolor\u001b[0m\u001b[0;34m=\u001b[0m\u001b[0;34m'hotpink'\u001b[0m\u001b[0;34m,\u001b[0m\u001b[0mlabel\u001b[0m\u001b[0;34m=\u001b[0m\u001b[0;34m\"Groups Indiv model-K\"\u001b[0m\u001b[0;34m,\u001b[0m \u001b[0medgecolor\u001b[0m\u001b[0;34m=\u001b[0m\u001b[0;34m'black'\u001b[0m\u001b[0;34m)\u001b[0m\u001b[0;34m\u001b[0m\u001b[0m\n",
      "\u001b[0;31mNameError\u001b[0m: name 'centroids_plot_G' is not defined"
     ]
    },
    {
     "data": {
      "image/png": "[encoded data removed]",
      "text/plain": [
       "<Figure size 720x504 with 1 Axes>"
      ]
     },
     "metadata": {
      "needs_background": "light"
     },
     "output_type": "display_data"
    }
   ],
   "source": [
    "plt.figure(figsize=(10,7))\n",
    "plt.scatter(to_plot[:,0], to_plot[:,1], label=\"Annotators\")\n",
    "plt.scatter(centroids_plot_G[:,0], centroids_plot_G[:,1], s=150,marker=\"*\", color='g',label=\"Groups Global\", edgecolor='black')\n",
    "plt.scatter(centroids_plot_IT[:,0], centroids_plot_IT[:,1],s=150, marker=\"X\", color='purple',label=\"Groups Indiv model-T\", edgecolor='black')\n",
    "plt.scatter(centroids_plot_IK[:,0], centroids_plot_IK[:,1], s=150, marker=\"X\", color='hotpink',label=\"Groups Indiv model-K\", edgecolor='black')\n",
    "#plt.scatter(global_plot[:,0], global_plot[:,1],label=\"Global\")\n",
    "\n",
    "plt.legend()\n",
    "plt.show()#nuevo"
   ]
  },
  {
   "cell_type": "code",
   "execution_count": null,
   "metadata": {},
   "outputs": [],
   "source": []
  }
 ],
 "metadata": {
  "kernelspec": {
   "display_name": "Python [conda env:py3]",
   "language": "python",
   "name": "conda-env-py3-py"
  },
  "language_info": {
   "codemirror_mode": {
    "name": "ipython",
    "version": 3
   },
   "file_extension": ".py",
   "mimetype": "text/x-python",
   "name": "python",
   "nbconvert_exporter": "python",
   "pygments_lexer": "ipython3",
   "version": "3.5.6"
  }
 },
 "nbformat": 4,
 "nbformat_minor": 2
}
