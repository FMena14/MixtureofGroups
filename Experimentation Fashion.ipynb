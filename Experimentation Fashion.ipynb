{
 "cells": [
  {
   "cell_type": "code",
   "execution_count": 45,
   "metadata": {},
   "outputs": [],
   "source": [
    "import numpy as np\n",
    "import pandas as pd\n",
    "import matplotlib.pyplot as plt\n",
    "import seaborn as sns\n",
    "import keras, time, sys, os, gc\n",
    "\n",
    "DTYPE_OP = 'float32'\n",
    "keras.backend.set_floatx(DTYPE_OP)\n",
    "\n",
    "if DTYPE_OP == 'float64':\n",
    "    keras.backend.set_epsilon(np.finfo(np.float64).eps)\n",
    "elif DTYPE_OP == 'float32':\n",
    "    keras.backend.set_epsilon(np.finfo(np.float32).eps)"
   ]
  },
  {
   "cell_type": "code",
   "execution_count": 46,
   "metadata": {},
   "outputs": [],
   "source": [
    "#GLOBAL Variables\n",
    "BATCH_SIZE = 128 #rodrigues = BATCH_SIZE = 64\n",
    "EPOCHS_BASE = 50\n",
    "OPT = 'adam' #optimizer for neural network \n",
    "TOL = 3e-2"
   ]
  },
  {
   "cell_type": "code",
   "execution_count": 47,
   "metadata": {},
   "outputs": [],
   "source": [
    "label_names = ...\n",
    "folder = \"./Fashion10000/\""
   ]
  },
  {
   "cell_type": "markdown",
   "metadata": {},
   "source": [
    "### Load Data and preprocess"
   ]
  },
  {
   "cell_type": "code",
   "execution_count": 48,
   "metadata": {},
   "outputs": [
    {
     "data": {
      "text/plain": [
       "(31077, 512)"
      ]
     },
     "execution_count": 48,
     "metadata": {},
     "output_type": "execute_result"
    }
   ],
   "source": [
    "X_vgg16 = np.load(folder+\"Fashion10000_VGG_avg_all.npy\")\n",
    "X_vgg16.shape"
   ]
  },
  {
   "cell_type": "code",
   "execution_count": 56,
   "metadata": {},
   "outputs": [],
   "source": [
    "Q_s = \"Q4\" #question selected\n",
    "p_error = \"0.5\" #Q3: cerca de 82-84.. valores varian 2% "
   ]
  },
  {
   "cell_type": "code",
   "execution_count": 57,
   "metadata": {
    "scrolled": true
   },
   "outputs": [
    {
     "name": "stdout",
     "output_type": "stream",
     "text": [
      "Input train shape: (25915, 512)\n",
      "Label train shape: (25915,)\n",
      "Input test shape: (1190, 512)\n",
      "Label test shape: (1190,)\n"
     ]
    }
   ],
   "source": [
    "sets = np.loadtxt(folder+\"sets_\"+p_error+\"_\"+Q_s+\".txt\", dtype='U')\n",
    "mask_train = sets == \"train\"\n",
    "mask_test = sets == \"test\"\n",
    "\n",
    "Z_data = np.loadtxt(folder+\"Z_data_\"+Q_s+\".txt\",dtype='int')\n",
    "Z_train = Z_data[mask_train]\n",
    "Z_test = Z_data[mask_test]\n",
    "\n",
    "X_train_vgg16 = X_vgg16[mask_train]\n",
    "X_test_vgg16 = X_vgg16[mask_test]\n",
    "\n",
    "X_val_vgg16 = X_test_vgg16\n",
    "Z_val = Z_test\n",
    "\n",
    "print(\"Input train shape:\",X_train_vgg16.shape)\n",
    "print(\"Label train shape:\",Z_train.shape)\n",
    "\n",
    "print(\"Input test shape:\",X_test_vgg16.shape)\n",
    "print(\"Label test shape:\",Z_test.shape)"
   ]
  },
  {
   "cell_type": "code",
   "execution_count": 27,
   "metadata": {
    "scrolled": true
   },
   "outputs": [
    {
     "ename": "KeyboardInterrupt",
     "evalue": "",
     "output_type": "error",
     "traceback": [
      "\u001b[0;31m---------------------------------------------------------------------------\u001b[0m",
      "\u001b[0;31mKeyboardInterrupt\u001b[0m                         Traceback (most recent call last)",
      "\u001b[0;32m<ipython-input-27-9d9480212935>\u001b[0m in \u001b[0;36m<module>\u001b[0;34m()\u001b[0m\n\u001b[1;32m      9\u001b[0m \u001b[0mmask_sets\u001b[0m\u001b[0;34m[\u001b[0m\u001b[0mmask_test\u001b[0m\u001b[0;34m]\u001b[0m \u001b[0;34m=\u001b[0m \u001b[0;34m\"test\"\u001b[0m\u001b[0;34m\u001b[0m\u001b[0m\n\u001b[1;32m     10\u001b[0m \u001b[0;34m\u001b[0m\u001b[0m\n\u001b[0;32m---> 11\u001b[0;31m \u001b[0my_obs\u001b[0m \u001b[0;34m=\u001b[0m \u001b[0mnp\u001b[0m\u001b[0;34m.\u001b[0m\u001b[0mloadtxt\u001b[0m\u001b[0;34m(\u001b[0m\u001b[0mfolder\u001b[0m\u001b[0;34m+\u001b[0m\u001b[0;34m\"answers_\"\u001b[0m\u001b[0;34m+\u001b[0m\u001b[0mp_error\u001b[0m\u001b[0;34m+\u001b[0m\u001b[0;34m\"_\"\u001b[0m\u001b[0;34m+\u001b[0m\u001b[0mQ_s\u001b[0m\u001b[0;34m+\u001b[0m\u001b[0;34m\".txt\"\u001b[0m\u001b[0;34m,\u001b[0m\u001b[0mdtype\u001b[0m\u001b[0;34m=\u001b[0m\u001b[0;34m'int16'\u001b[0m\u001b[0;34m)\u001b[0m\u001b[0;31m#not annotation symbol ==-1\u001b[0m\u001b[0;34m\u001b[0m\u001b[0m\n\u001b[0m\u001b[1;32m     12\u001b[0m \u001b[0;34m\u001b[0m\u001b[0m\n\u001b[1;32m     13\u001b[0m \u001b[0mnp\u001b[0m\u001b[0;34m.\u001b[0m\u001b[0msavetxt\u001b[0m\u001b[0;34m(\u001b[0m\u001b[0mfolder\u001b[0m\u001b[0;34m+\u001b[0m\u001b[0;34m\"sets_\"\u001b[0m\u001b[0;34m+\u001b[0m\u001b[0mp_error\u001b[0m\u001b[0;34m+\u001b[0m\u001b[0;34m\"_\"\u001b[0m\u001b[0;34m+\u001b[0m\u001b[0mQ_s\u001b[0m\u001b[0;34m+\u001b[0m\u001b[0;34m\".txt\"\u001b[0m\u001b[0;34m,\u001b[0m \u001b[0mmask_sets\u001b[0m\u001b[0;34m,\u001b[0m\u001b[0mdelimiter\u001b[0m\u001b[0;34m=\u001b[0m\u001b[0;34m' '\u001b[0m\u001b[0;34m,\u001b[0m \u001b[0mfmt\u001b[0m\u001b[0;34m=\u001b[0m\u001b[0;34m'%s'\u001b[0m\u001b[0;34m)\u001b[0m\u001b[0;34m\u001b[0m\u001b[0m\n",
      "\u001b[0;32m~/anaconda3/envs/tesis/lib/python3.5/site-packages/numpy/lib/npyio.py\u001b[0m in \u001b[0;36mloadtxt\u001b[0;34m(fname, dtype, comments, delimiter, converters, skiprows, usecols, unpack, ndmin, encoding, max_rows)\u001b[0m\n\u001b[1;32m   1144\u001b[0m         \u001b[0;31m# converting the data\u001b[0m\u001b[0;34m\u001b[0m\u001b[0;34m\u001b[0m\u001b[0m\n\u001b[1;32m   1145\u001b[0m         \u001b[0mX\u001b[0m \u001b[0;34m=\u001b[0m \u001b[0;32mNone\u001b[0m\u001b[0;34m\u001b[0m\u001b[0m\n\u001b[0;32m-> 1146\u001b[0;31m         \u001b[0;32mfor\u001b[0m \u001b[0mx\u001b[0m \u001b[0;32min\u001b[0m \u001b[0mread_data\u001b[0m\u001b[0;34m(\u001b[0m\u001b[0m_loadtxt_chunksize\u001b[0m\u001b[0;34m)\u001b[0m\u001b[0;34m:\u001b[0m\u001b[0;34m\u001b[0m\u001b[0m\n\u001b[0m\u001b[1;32m   1147\u001b[0m             \u001b[0;32mif\u001b[0m \u001b[0mX\u001b[0m \u001b[0;32mis\u001b[0m \u001b[0;32mNone\u001b[0m\u001b[0;34m:\u001b[0m\u001b[0;34m\u001b[0m\u001b[0m\n\u001b[1;32m   1148\u001b[0m                 \u001b[0mX\u001b[0m \u001b[0;34m=\u001b[0m \u001b[0mnp\u001b[0m\u001b[0;34m.\u001b[0m\u001b[0marray\u001b[0m\u001b[0;34m(\u001b[0m\u001b[0mx\u001b[0m\u001b[0;34m,\u001b[0m \u001b[0mdtype\u001b[0m\u001b[0;34m)\u001b[0m\u001b[0;34m\u001b[0m\u001b[0m\n",
      "\u001b[0;32m~/anaconda3/envs/tesis/lib/python3.5/site-packages/numpy/lib/npyio.py\u001b[0m in \u001b[0;36mread_data\u001b[0;34m(chunk_size)\u001b[0m\n\u001b[1;32m   1072\u001b[0m \u001b[0;34m\u001b[0m\u001b[0m\n\u001b[1;32m   1073\u001b[0m             \u001b[0;31m# Convert each value according to its column and store\u001b[0m\u001b[0;34m\u001b[0m\u001b[0;34m\u001b[0m\u001b[0m\n\u001b[0;32m-> 1074\u001b[0;31m             \u001b[0mitems\u001b[0m \u001b[0;34m=\u001b[0m \u001b[0;34m[\u001b[0m\u001b[0mconv\u001b[0m\u001b[0;34m(\u001b[0m\u001b[0mval\u001b[0m\u001b[0;34m)\u001b[0m \u001b[0;32mfor\u001b[0m \u001b[0;34m(\u001b[0m\u001b[0mconv\u001b[0m\u001b[0;34m,\u001b[0m \u001b[0mval\u001b[0m\u001b[0;34m)\u001b[0m \u001b[0;32min\u001b[0m \u001b[0mzip\u001b[0m\u001b[0;34m(\u001b[0m\u001b[0mconverters\u001b[0m\u001b[0;34m,\u001b[0m \u001b[0mvals\u001b[0m\u001b[0;34m)\u001b[0m\u001b[0;34m]\u001b[0m\u001b[0;34m\u001b[0m\u001b[0m\n\u001b[0m\u001b[1;32m   1075\u001b[0m \u001b[0;34m\u001b[0m\u001b[0m\n\u001b[1;32m   1076\u001b[0m             \u001b[0;31m# Then pack it according to the dtype's nesting\u001b[0m\u001b[0;34m\u001b[0m\u001b[0;34m\u001b[0m\u001b[0m\n",
      "\u001b[0;32m~/anaconda3/envs/tesis/lib/python3.5/site-packages/numpy/lib/npyio.py\u001b[0m in \u001b[0;36m<listcomp>\u001b[0;34m(.0)\u001b[0m\n\u001b[1;32m   1072\u001b[0m \u001b[0;34m\u001b[0m\u001b[0m\n\u001b[1;32m   1073\u001b[0m             \u001b[0;31m# Convert each value according to its column and store\u001b[0m\u001b[0;34m\u001b[0m\u001b[0;34m\u001b[0m\u001b[0m\n\u001b[0;32m-> 1074\u001b[0;31m             \u001b[0mitems\u001b[0m \u001b[0;34m=\u001b[0m \u001b[0;34m[\u001b[0m\u001b[0mconv\u001b[0m\u001b[0;34m(\u001b[0m\u001b[0mval\u001b[0m\u001b[0;34m)\u001b[0m \u001b[0;32mfor\u001b[0m \u001b[0;34m(\u001b[0m\u001b[0mconv\u001b[0m\u001b[0;34m,\u001b[0m \u001b[0mval\u001b[0m\u001b[0;34m)\u001b[0m \u001b[0;32min\u001b[0m \u001b[0mzip\u001b[0m\u001b[0;34m(\u001b[0m\u001b[0mconverters\u001b[0m\u001b[0;34m,\u001b[0m \u001b[0mvals\u001b[0m\u001b[0;34m)\u001b[0m\u001b[0;34m]\u001b[0m\u001b[0;34m\u001b[0m\u001b[0m\n\u001b[0m\u001b[1;32m   1075\u001b[0m \u001b[0;34m\u001b[0m\u001b[0m\n\u001b[1;32m   1076\u001b[0m             \u001b[0;31m# Then pack it according to the dtype's nesting\u001b[0m\u001b[0;34m\u001b[0m\u001b[0;34m\u001b[0m\u001b[0m\n",
      "\u001b[0;32m~/anaconda3/envs/tesis/lib/python3.5/site-packages/numpy/lib/npyio.py\u001b[0m in \u001b[0;36m<lambda>\u001b[0;34m(x)\u001b[0m\n\u001b[1;32m    789\u001b[0m         \u001b[0;32mreturn\u001b[0m \u001b[0mnp\u001b[0m\u001b[0;34m.\u001b[0m\u001b[0mint64\u001b[0m\u001b[0;34m\u001b[0m\u001b[0m\n\u001b[1;32m    790\u001b[0m     \u001b[0;32mif\u001b[0m \u001b[0missubclass\u001b[0m\u001b[0;34m(\u001b[0m\u001b[0mtyp\u001b[0m\u001b[0;34m,\u001b[0m \u001b[0mnp\u001b[0m\u001b[0;34m.\u001b[0m\u001b[0minteger\u001b[0m\u001b[0;34m)\u001b[0m\u001b[0;34m:\u001b[0m\u001b[0;34m\u001b[0m\u001b[0m\n\u001b[0;32m--> 791\u001b[0;31m         \u001b[0;32mreturn\u001b[0m \u001b[0;32mlambda\u001b[0m \u001b[0mx\u001b[0m\u001b[0;34m:\u001b[0m \u001b[0mint\u001b[0m\u001b[0;34m(\u001b[0m\u001b[0mfloat\u001b[0m\u001b[0;34m(\u001b[0m\u001b[0mx\u001b[0m\u001b[0;34m)\u001b[0m\u001b[0;34m)\u001b[0m\u001b[0;34m\u001b[0m\u001b[0m\n\u001b[0m\u001b[1;32m    792\u001b[0m     \u001b[0;32melif\u001b[0m \u001b[0missubclass\u001b[0m\u001b[0;34m(\u001b[0m\u001b[0mtyp\u001b[0m\u001b[0;34m,\u001b[0m \u001b[0mnp\u001b[0m\u001b[0;34m.\u001b[0m\u001b[0mlongdouble\u001b[0m\u001b[0;34m)\u001b[0m\u001b[0;34m:\u001b[0m\u001b[0;34m\u001b[0m\u001b[0m\n\u001b[1;32m    793\u001b[0m         \u001b[0;32mreturn\u001b[0m \u001b[0mnp\u001b[0m\u001b[0;34m.\u001b[0m\u001b[0mlongdouble\u001b[0m\u001b[0;34m\u001b[0m\u001b[0m\n",
      "\u001b[0;31mKeyboardInterrupt\u001b[0m: "
     ]
    }
   ],
   "source": [
    "## create new test...\n",
    "mask_val = np.random.rand(Z_train.shape[0]) < 0.25 #0.33\n",
    "\n",
    "mask_test[mask_train] = mask_val #test selected to be test\n",
    "mask_train[mask_train] = ~mask_val #train extracted to be test..\n",
    "\n",
    "mask_sets = np.asarray([\"aux\" for _ in range(Z_data.shape[0])]).astype(\"U5\")\n",
    "mask_sets[mask_train] = \"train\"\n",
    "mask_sets[mask_test] = \"test\"\n",
    "\n",
    "y_obs = np.loadtxt(folder+\"answers_\"+p_error+\"_\"+Q_s+\".txt\",dtype='int16')#not annotation symbol ==-1\n",
    "\n",
    "np.savetxt(folder+\"sets_\"+p_error+\"_\"+Q_s+\".txt\", mask_sets,delimiter=' ', fmt='%s')\n",
    "np.savetxt(folder+\"answers_\"+p_error+\"_\"+Q_s+\".txt\", y_obs[~mask_val], delimiter=' ', fmt='%d')"
   ]
  },
  {
   "cell_type": "code",
   "execution_count": 7,
   "metadata": {},
   "outputs": [],
   "source": [
    "#created before..\n",
    "mask_val = np.random.rand(Z_train.shape[0]) < 0.33 #0.25 #0.33"
   ]
  },
  {
   "cell_type": "code",
   "execution_count": 63,
   "metadata": {},
   "outputs": [
    {
     "name": "stdout",
     "output_type": "stream",
     "text": [
      "Input train shape: (18201, 512)\n",
      "Label train shape: (18201,)\n",
      "Input val shape: (8904, 512)\n",
      "Label val shape: (8904,)\n"
     ]
    }
   ],
   "source": [
    "X_val_vgg16 = X_train_vgg16[mask_val]\n",
    "X_train_vgg16 = X_train_vgg16[~mask_val]\n",
    "Z_val = Z_train[mask_val]\n",
    "Z_train = Z_train[~mask_val]\n",
    "\n",
    "X_val_vgg16 = np.concatenate([X_val_vgg16,X_test_vgg16])\n",
    "Z_val = np.concatenate([Z_val,Z_test])\n",
    "\n",
    "\n",
    "print(\"Input train shape:\",X_train_vgg16.shape)\n",
    "print(\"Label train shape:\",Z_train.shape)\n",
    "\n",
    "print(\"Input val shape:\",X_val_vgg16.shape)\n",
    "print(\"Label val shape:\",Z_val.shape)"
   ]
  },
  {
   "cell_type": "code",
   "execution_count": 51,
   "metadata": {},
   "outputs": [],
   "source": [
    "Xstd_train = X_train_vgg16\n",
    "Xstd_val = X_val_vgg16\n",
    "Xstd_test = X_test_vgg16"
   ]
  },
  {
   "cell_type": "code",
   "execution_count": 70,
   "metadata": {},
   "outputs": [],
   "source": [
    "from sklearn.preprocessing import StandardScaler\n",
    "std = StandardScaler().fit(X_train_vgg16)\n",
    "Xstd_train = std.transform(X_train_vgg16)\n",
    "Xstd_val = std.transform(X_val_vgg16)\n",
    "Xstd_test = std.transform(X_test_vgg16)"
   ]
  },
  {
   "cell_type": "code",
   "execution_count": 27,
   "metadata": {
    "scrolled": true
   },
   "outputs": [
    {
     "data": {
      "image/png": "[encoded data removed]",
      "text/plain": [
       "<Figure size 432x288 with 1 Axes>"
      ]
     },
     "metadata": {},
     "output_type": "display_data"
    },
    {
     "ename": "ValueError",
     "evalue": "min() arg is an empty sequence",
     "output_type": "error",
     "traceback": [
      "\u001b[0;31m---------------------------------------------------------------------------\u001b[0m",
      "\u001b[0;31mValueError\u001b[0m                                Traceback (most recent call last)",
      "\u001b[0;32m<ipython-input-27-d1da6908798e>\u001b[0m in \u001b[0;36m<module>\u001b[0;34m()\u001b[0m\n\u001b[1;32m      2\u001b[0m \u001b[0mplt\u001b[0m\u001b[0;34m.\u001b[0m\u001b[0mshow\u001b[0m\u001b[0;34m(\u001b[0m\u001b[0;34m)\u001b[0m\u001b[0;34m\u001b[0m\u001b[0m\n\u001b[1;32m      3\u001b[0m \u001b[0;34m\u001b[0m\u001b[0m\n\u001b[0;32m----> 4\u001b[0;31m \u001b[0msns\u001b[0m\u001b[0;34m.\u001b[0m\u001b[0mcountplot\u001b[0m\u001b[0;34m(\u001b[0m\u001b[0mZ_test\u001b[0m\u001b[0;34m)\u001b[0m\u001b[0;34m\u001b[0m\u001b[0m\n\u001b[0m\u001b[1;32m      5\u001b[0m \u001b[0mplt\u001b[0m\u001b[0;34m.\u001b[0m\u001b[0mshow\u001b[0m\u001b[0;34m(\u001b[0m\u001b[0;34m)\u001b[0m\u001b[0;34m\u001b[0m\u001b[0m\n",
      "\u001b[0;32m~/.local/lib/python3.5/site-packages/seaborn/categorical.py\u001b[0m in \u001b[0;36mcountplot\u001b[0;34m(x, y, hue, data, order, hue_order, orient, color, palette, saturation, dodge, ax, **kwargs)\u001b[0m\n\u001b[1;32m   3551\u001b[0m                           \u001b[0mestimator\u001b[0m\u001b[0;34m,\u001b[0m \u001b[0mci\u001b[0m\u001b[0;34m,\u001b[0m \u001b[0mn_boot\u001b[0m\u001b[0;34m,\u001b[0m \u001b[0munits\u001b[0m\u001b[0;34m,\u001b[0m\u001b[0;34m\u001b[0m\u001b[0m\n\u001b[1;32m   3552\u001b[0m                           \u001b[0morient\u001b[0m\u001b[0;34m,\u001b[0m \u001b[0mcolor\u001b[0m\u001b[0;34m,\u001b[0m \u001b[0mpalette\u001b[0m\u001b[0;34m,\u001b[0m \u001b[0msaturation\u001b[0m\u001b[0;34m,\u001b[0m\u001b[0;34m\u001b[0m\u001b[0m\n\u001b[0;32m-> 3553\u001b[0;31m                           errcolor, errwidth, capsize, dodge)\n\u001b[0m\u001b[1;32m   3554\u001b[0m \u001b[0;34m\u001b[0m\u001b[0m\n\u001b[1;32m   3555\u001b[0m     \u001b[0mplotter\u001b[0m\u001b[0;34m.\u001b[0m\u001b[0mvalue_label\u001b[0m \u001b[0;34m=\u001b[0m \u001b[0;34m\"count\"\u001b[0m\u001b[0;34m\u001b[0m\u001b[0m\n",
      "\u001b[0;32m~/.local/lib/python3.5/site-packages/seaborn/categorical.py\u001b[0m in \u001b[0;36m__init__\u001b[0;34m(self, x, y, hue, data, order, hue_order, estimator, ci, n_boot, units, orient, color, palette, saturation, errcolor, errwidth, capsize, dodge)\u001b[0m\n\u001b[1;32m   1606\u001b[0m         self.establish_variables(x, y, hue, data, orient,\n\u001b[1;32m   1607\u001b[0m                                  order, hue_order, units)\n\u001b[0;32m-> 1608\u001b[0;31m         \u001b[0mself\u001b[0m\u001b[0;34m.\u001b[0m\u001b[0mestablish_colors\u001b[0m\u001b[0;34m(\u001b[0m\u001b[0mcolor\u001b[0m\u001b[0;34m,\u001b[0m \u001b[0mpalette\u001b[0m\u001b[0;34m,\u001b[0m \u001b[0msaturation\u001b[0m\u001b[0;34m)\u001b[0m\u001b[0;34m\u001b[0m\u001b[0m\n\u001b[0m\u001b[1;32m   1609\u001b[0m         \u001b[0mself\u001b[0m\u001b[0;34m.\u001b[0m\u001b[0mestimate_statistic\u001b[0m\u001b[0;34m(\u001b[0m\u001b[0mestimator\u001b[0m\u001b[0;34m,\u001b[0m \u001b[0mci\u001b[0m\u001b[0;34m,\u001b[0m \u001b[0mn_boot\u001b[0m\u001b[0;34m)\u001b[0m\u001b[0;34m\u001b[0m\u001b[0m\n\u001b[1;32m   1610\u001b[0m \u001b[0;34m\u001b[0m\u001b[0m\n",
      "\u001b[0;32m~/.local/lib/python3.5/site-packages/seaborn/categorical.py\u001b[0m in \u001b[0;36mestablish_colors\u001b[0;34m(self, color, palette, saturation)\u001b[0m\n\u001b[1;32m    313\u001b[0m         \u001b[0;31m# Determine the gray color to use for the lines framing the plot\u001b[0m\u001b[0;34m\u001b[0m\u001b[0;34m\u001b[0m\u001b[0m\n\u001b[1;32m    314\u001b[0m         \u001b[0mlight_vals\u001b[0m \u001b[0;34m=\u001b[0m \u001b[0;34m[\u001b[0m\u001b[0mcolorsys\u001b[0m\u001b[0;34m.\u001b[0m\u001b[0mrgb_to_hls\u001b[0m\u001b[0;34m(\u001b[0m\u001b[0;34m*\u001b[0m\u001b[0mc\u001b[0m\u001b[0;34m)\u001b[0m\u001b[0;34m[\u001b[0m\u001b[0;36m1\u001b[0m\u001b[0;34m]\u001b[0m \u001b[0;32mfor\u001b[0m \u001b[0mc\u001b[0m \u001b[0;32min\u001b[0m \u001b[0mrgb_colors\u001b[0m\u001b[0;34m]\u001b[0m\u001b[0;34m\u001b[0m\u001b[0m\n\u001b[0;32m--> 315\u001b[0;31m         \u001b[0mlum\u001b[0m \u001b[0;34m=\u001b[0m \u001b[0mmin\u001b[0m\u001b[0;34m(\u001b[0m\u001b[0mlight_vals\u001b[0m\u001b[0;34m)\u001b[0m \u001b[0;34m*\u001b[0m \u001b[0;36m.6\u001b[0m\u001b[0;34m\u001b[0m\u001b[0m\n\u001b[0m\u001b[1;32m    316\u001b[0m         \u001b[0mgray\u001b[0m \u001b[0;34m=\u001b[0m \u001b[0mmpl\u001b[0m\u001b[0;34m.\u001b[0m\u001b[0mcolors\u001b[0m\u001b[0;34m.\u001b[0m\u001b[0mrgb2hex\u001b[0m\u001b[0;34m(\u001b[0m\u001b[0;34m(\u001b[0m\u001b[0mlum\u001b[0m\u001b[0;34m,\u001b[0m \u001b[0mlum\u001b[0m\u001b[0;34m,\u001b[0m \u001b[0mlum\u001b[0m\u001b[0;34m)\u001b[0m\u001b[0;34m)\u001b[0m\u001b[0;34m\u001b[0m\u001b[0m\n\u001b[1;32m    317\u001b[0m \u001b[0;34m\u001b[0m\u001b[0m\n",
      "\u001b[0;31mValueError\u001b[0m: min() arg is an empty sequence"
     ]
    }
   ],
   "source": [
    "sns.countplot(Z_train)\n",
    "plt.show()\n",
    "\n",
    "sns.countplot(Z_test)\n",
    "plt.show()"
   ]
  },
  {
   "cell_type": "markdown",
   "metadata": {},
   "source": [
    "### Load annotations / Generate"
   ]
  },
  {
   "cell_type": "code",
   "execution_count": 30,
   "metadata": {
    "scrolled": true
   },
   "outputs": [
    {
     "name": "stdout",
     "output_type": "stream",
     "text": [
      "Loading AMT data...\n",
      "Remove 0 annotators that do not annotate on this set \n",
      "Shape (data,annotators):  (25027, 1386)\n",
      "Classes:  4\n"
     ]
    }
   ],
   "source": [
    "from code.representation import *\n",
    "from code.utils import *\n",
    "\n",
    "# data from Amazon Mechanical Turk\n",
    "print(\"Loading AMT data...\")\n",
    "y_obs = np.loadtxt(folder+\"answers_\"+p_error+\"_\"+Q_s+\".txt\",dtype='int16')#not annotation symbol ==-1\n",
    "#y_obs = y_obs[~mask_val]\n",
    "T_weights = np.sum(y_obs != -1,axis=0) #distribucion de anotaciones\n",
    "\n",
    "print(\"Remove %d annotators that do not annotate on this set \"%(np.sum(T_weights==0)))\n",
    "y_obs = y_obs[:,T_weights!=0]\n",
    "T_weights = np.sum(y_obs != -1,axis=0) #distribucion de anotaciones\n",
    "\n",
    "N,T = y_obs.shape\n",
    "Kl = np.max(y_obs)+1 # asumiendo que estan ordenadas\n",
    "print(\"Shape (data,annotators): \",(N,T))\n",
    "print(\"Classes: \",Kl)"
   ]
  },
  {
   "cell_type": "code",
   "execution_count": null,
   "metadata": {},
   "outputs": [],
   "source": [
    "#every annotation is one annotator\n",
    "total_annotations = T_weights.sum(axis=0)\n",
    "new_annotations = np.ones((N, total_annotations),dtype='int16')*-1\n",
    "t_aux = 0\n",
    "for i in range(y_obs.shape[0]):\n",
    "    for t in range(y_obs.shape[1]):\n",
    "        if y_obs[i,t] != -1:\n",
    "            new_annotations[i,t_aux] = y_obs[i,t]\n",
    "            t_aux+=1\n",
    "new_annotations.shape"
   ]
  },
  {
   "cell_type": "code",
   "execution_count": 30,
   "metadata": {
    "collapsed": true
   },
   "outputs": [],
   "source": [
    "np.savetxt(folder+\"answers_v2.txt\",new_annotations, delimiter=\",\", fmt=\"%i\")"
   ]
  },
  {
   "cell_type": "code",
   "execution_count": 31,
   "metadata": {
    "scrolled": true
   },
   "outputs": [
    {
     "data": {
      "text/plain": [
       "array([[[0.54385966, 0.21052632, 0.10526316, 0.14035088],\n",
       "        [0.04761905, 0.5714286 , 0.21428572, 0.16666667],\n",
       "        [0.        , 0.        , 0.8947368 , 0.10526316],\n",
       "        [0.        , 0.        , 0.6938776 , 0.30612245]],\n",
       "\n",
       "       [[1.        , 0.        , 0.        , 0.        ],\n",
       "        [0.6363636 , 0.33333334, 0.        , 0.03030303],\n",
       "        [0.        , 0.        , 0.5       , 0.5       ],\n",
       "        [0.16      , 0.04      , 0.04      , 0.76      ]],\n",
       "\n",
       "       [[0.33333334, 0.6666667 , 0.        , 0.        ],\n",
       "        [0.        , 1.        , 0.        , 0.        ],\n",
       "        [0.        , 0.        , 0.625     , 0.375     ],\n",
       "        [0.        , 0.        , 0.4       , 0.6       ]],\n",
       "\n",
       "       ...,\n",
       "\n",
       "       [[0.25      , 0.25      , 0.25      , 0.25      ],\n",
       "        [0.        , 1.        , 0.        , 0.        ],\n",
       "        [0.25      , 0.25      , 0.25      , 0.25      ],\n",
       "        [1.        , 0.        , 0.        , 0.        ]],\n",
       "\n",
       "       [[0.        , 1.        , 0.        , 0.        ],\n",
       "        [0.25      , 0.25      , 0.25      , 0.25      ],\n",
       "        [0.25      , 0.25      , 0.25      , 0.25      ],\n",
       "        [0.        , 0.        , 1.        , 0.        ]],\n",
       "\n",
       "       [[0.25      , 0.25      , 0.25      , 0.25      ],\n",
       "        [0.        , 1.        , 0.        , 0.        ],\n",
       "        [0.25      , 0.25      , 0.25      , 0.25      ],\n",
       "        [0.25      , 0.25      , 0.25      , 0.25      ]]], dtype=float32)"
      ]
     },
     "execution_count": 31,
     "metadata": {},
     "output_type": "execute_result"
    }
   ],
   "source": [
    "#generate conf matrix...\n",
    "confe_matrix_R = np.zeros((T,Kl,Kl),dtype=DTYPE_OP) #rodrigues add epsilon here\n",
    "for t in range(T):    \n",
    "    for i in range(N):\n",
    "        if y_obs[i,t] != -1:\n",
    "            confe_matrix_R[t,Z_train[i],y_obs[i,t]] +=1\n",
    "            \n",
    "    mask_nan = confe_matrix_R[t,:,:].sum(axis=-1) == 0\n",
    "    mean_replace = np.mean(confe_matrix_R[t,:,:][~mask_nan],axis=0)\n",
    "    for value in np.arange(Kl)[mask_nan]:\n",
    "        #how to fill where she not annotate?? -- \n",
    "        confe_matrix_R[t,value,:] =  1 #Rodrigues 1./K -- similar  to laplace smooth (prior 1)\n",
    "        #confe_matrix[t,value,:] = mean_replace #Ours\n",
    "    confe_matrix_R[t,:,:] = confe_matrix_R[t,:,:]/confe_matrix_R[t,:,:].sum(axis=-1,keepdims=True) #normalize\n",
    "confe_matrix_R"
   ]
  },
  {
   "cell_type": "code",
   "execution_count": 70,
   "metadata": {
    "scrolled": true
   },
   "outputs": [
    {
     "data": {
      "image/png": "[encoded data removed]",
      "text/plain": [
       "<Figure size 432x288 with 1 Axes>"
      ]
     },
     "metadata": {
      "needs_background": "light"
     },
     "output_type": "display_data"
    },
    {
     "name": "stdout",
     "output_type": "stream",
     "text": [
      "Minimum annotations in a example:  1\n",
      "Maximum annotations in a example:  6\n",
      "T data (expected value):  1.9566272018481086\n",
      "Graphics of T weights\n"
     ]
    },
    {
     "data": {
      "image/png": "[encoded data removed]",
      "text/plain": [
       "<Figure size 432x288 with 1 Axes>"
      ]
     },
     "metadata": {
      "needs_background": "light"
     },
     "output_type": "display_data"
    },
    {
     "data": {
      "image/png": "[encoded data removed]",
      "text/plain": [
       "<Figure size 432x288 with 1 Axes>"
      ]
     },
     "metadata": {
      "needs_background": "light"
     },
     "output_type": "display_data"
    },
    {
     "name": "stdout",
     "output_type": "stream",
     "text": [
      "Minimum annotations by an annotator:  1\n",
      "Maximum annotations by an annotator:  625\n",
      "Mean annotations by an annotator:  25.076980014803848\n"
     ]
    }
   ],
   "source": [
    "#graphics and distribution? what is T_data\n",
    "N_ann = np.sum(y_obs != -1,axis=1) #distribucion de anotaciones con este valor\n",
    "\n",
    "sns.countplot(N_ann)\n",
    "plt.show()\n",
    "print(\"Minimum annotations in a example: \",N_ann.min())\n",
    "print(\"Maximum annotations in a example: \",N_ann.max())\n",
    "print(\"T data (expected value): \",N_ann.mean())\n",
    "\n",
    "print(\"Graphics of T weights\")\n",
    "plt.hist(T_weights)\n",
    "plt.show()\n",
    "\n",
    "plt.boxplot(T_weights)\n",
    "plt.show()\n",
    "print(\"Minimum annotations by an annotator: \",T_weights.min())\n",
    "print(\"Maximum annotations by an annotator: \",T_weights.max())\n",
    "print(\"Mean annotations by an annotator: \",T_weights.mean())"
   ]
  },
  {
   "cell_type": "markdown",
   "metadata": {},
   "source": [
    "#### Delta Convergence criteria"
   ]
  },
  {
   "cell_type": "code",
   "execution_count": 32,
   "metadata": {},
   "outputs": [],
   "source": [
    "from code.learning_models import LogisticRegression_Sklearn,LogisticRegression_Keras,MLP_Keras\n",
    "#deep learning\n",
    "from code.learning_models import default_CNN,default_RNN,CNN_simple, RNN_simple, Clonable_Model\n",
    "\n",
    "from code.utils import EarlyStopRelative\n",
    "ourCallback = EarlyStopRelative(monitor='loss',patience=1,min_delta=TOL)"
   ]
  },
  {
   "cell_type": "markdown",
   "metadata": {},
   "source": [
    "### Upper Bound Model -- ideal"
   ]
  },
  {
   "cell_type": "code",
   "execution_count": 33,
   "metadata": {
    "scrolled": true
   },
   "outputs": [
    {
     "name": "stdout",
     "output_type": "stream",
     "text": [
      "Trained IDeal Model, Epochs to converge = 5\n"
     ]
    }
   ],
   "source": [
    "Z_train_onehot = keras.utils.to_categorical(Z_train, num_classes=Kl)\n",
    "\n",
    "model_UB = MLP_Keras(Xstd_train.shape[1:],Z_train_onehot.shape[1],128,1,BN=True,drop=0.5) \n",
    "\n",
    "model_UB.compile(loss='categorical_crossentropy',optimizer=OPT)\n",
    "hist=model_UB.fit(Xstd_train,Z_train_onehot,epochs=EPOCHS_BASE,batch_size=BATCH_SIZE,verbose=0,callbacks=[ourCallback])\n",
    "\n",
    "clone_UB = Clonable_Model(model_UB)\n",
    "print(\"Trained IDeal Model, Epochs to converge =\",len(hist.epoch))\n",
    "Z_train_pred = model_UB.predict_classes(Xstd_train)\n",
    "Z_val_pred = model_UB.predict_classes(Xstd_val)\n",
    "Z_test_pred = model_UB.predict_classes(Xstd_test)"
   ]
  },
  {
   "cell_type": "code",
   "execution_count": null,
   "metadata": {},
   "outputs": [],
   "source": []
  },
  {
   "cell_type": "code",
   "execution_count": 52,
   "metadata": {},
   "outputs": [],
   "source": [
    "Kl = Z_train.max()+1\n",
    "Z_train_onehot = keras.utils.to_categorical(Z_train, num_classes=Kl)\n",
    "Z_val_onehot = keras.utils.to_categorical(Z_val, num_classes=Kl)\n",
    "Z_test_onehot = keras.utils.to_categorical(Z_test, num_classes=Kl)"
   ]
  },
  {
   "cell_type": "code",
   "execution_count": 53,
   "metadata": {
    "scrolled": true
   },
   "outputs": [
    {
     "name": "stdout",
     "output_type": "stream",
     "text": [
      "_________________________________________________________________\n",
      "Layer (type)                 Output Shape              Param #   \n",
      "=================================================================\n",
      "input_1 (InputLayer)         (None, 512)               0         \n",
      "_________________________________________________________________\n",
      "dense_1 (Dense)              (None, 128)               65664     \n",
      "_________________________________________________________________\n",
      "dropout_1 (Dropout)          (None, 128)               0         \n",
      "_________________________________________________________________\n",
      "dense_2 (Dense)              (None, 128)               16512     \n",
      "_________________________________________________________________\n",
      "dropout_2 (Dropout)          (None, 128)               0         \n",
      "_________________________________________________________________\n",
      "dense_3 (Dense)              (None, 4)                 516       \n",
      "_________________________________________________________________\n",
      "activation_1 (Activation)    (None, 4)                 0         \n",
      "=================================================================\n",
      "Total params: 82,692\n",
      "Trainable params: 82,692\n",
      "Non-trainable params: 0\n",
      "_________________________________________________________________\n",
      "Train on 25027 samples, validate on 2078 samples\n",
      "Epoch 1/50\n",
      "25027/25027 [==============================] - 1s 49us/step - loss: 9.2896 - acc: 0.3975 - val_loss: 4.8659 - val_acc: 0.6785\n",
      "Epoch 2/50\n",
      "25027/25027 [==============================] - 1s 36us/step - loss: 7.5863 - acc: 0.5080 - val_loss: 4.6786 - val_acc: 0.6935\n",
      "Epoch 3/50\n",
      "25027/25027 [==============================] - 1s 35us/step - loss: 7.1706 - acc: 0.5284 - val_loss: 4.7993 - val_acc: 0.6848\n",
      "Epoch 4/50\n",
      "25027/25027 [==============================] - 1s 36us/step - loss: 7.0418 - acc: 0.5384 - val_loss: 4.9714 - val_acc: 0.6675\n"
     ]
    }
   ],
   "source": [
    "model_UB = MLP_Keras(Xstd_train.shape[1:],Z_train_onehot.shape[1],128,2,BN=False,drop=0.5) #true bn?\n",
    "model_UB.compile(loss='categorical_crossentropy',optimizer=OPT, metrics=[\"acc\"])\n",
    "model_UB.summary()\n",
    "hist=model_UB.fit(Xstd_train,Z_train_onehot,epochs=EPOCHS_BASE,batch_size=BATCH_SIZE,verbose=1,callbacks=[ourCallback]\n",
    "                  ,validation_data=(Xstd_val,Z_val_onehot))"
   ]
  },
  {
   "cell_type": "code",
   "execution_count": 54,
   "metadata": {
    "scrolled": true
   },
   "outputs": [
    {
     "name": "stdout",
     "output_type": "stream",
     "text": [
      "_________________________________________________________________\n",
      "Layer (type)                 Output Shape              Param #   \n",
      "=================================================================\n",
      "input_2 (InputLayer)         (None, 512)               0         \n",
      "_________________________________________________________________\n",
      "dense_4 (Dense)              (None, 128)               65664     \n",
      "_________________________________________________________________\n",
      "batch_normalization_1 (Batch (None, 128)               512       \n",
      "_________________________________________________________________\n",
      "dropout_3 (Dropout)          (None, 128)               0         \n",
      "_________________________________________________________________\n",
      "dense_5 (Dense)              (None, 4)                 516       \n",
      "_________________________________________________________________\n",
      "activation_2 (Activation)    (None, 4)                 0         \n",
      "=================================================================\n",
      "Total params: 66,692\n",
      "Trainable params: 66,436\n",
      "Non-trainable params: 256\n",
      "_________________________________________________________________\n",
      "Train on 25027 samples, validate on 2078 samples\n",
      "Epoch 1/50\n",
      "25027/25027 [==============================] - 1s 52us/step - loss: 1.2170 - acc: 0.5356 - val_loss: 0.6555 - val_acc: 0.7416\n",
      "Epoch 2/50\n",
      "25027/25027 [==============================] - 1s 41us/step - loss: 0.9524 - acc: 0.5948 - val_loss: 0.6191 - val_acc: 0.7680\n",
      "Epoch 3/50\n",
      "25027/25027 [==============================] - 1s 39us/step - loss: 0.8993 - acc: 0.6170 - val_loss: 0.6280 - val_acc: 0.7671\n",
      "Epoch 4/50\n",
      "25027/25027 [==============================] - 1s 39us/step - loss: 0.8747 - acc: 0.6262 - val_loss: 0.6384 - val_acc: 0.7603\n"
     ]
    }
   ],
   "source": [
    "model_UB = MLP_Keras(Xstd_train.shape[1:],Z_train_onehot.shape[1],128,1,BN=True,drop=0.5) #true bn?\n",
    "model_UB.compile(loss='categorical_crossentropy',optimizer=OPT, metrics=[\"acc\"])\n",
    "model_UB.summary()\n",
    "hist=model_UB.fit(Xstd_train,Z_train_onehot,epochs=EPOCHS_BASE,batch_size=BATCH_SIZE,verbose=1,callbacks=[ourCallback]\n",
    "                  ,validation_data=(Xstd_val,Z_val_onehot))"
   ]
  },
  {
   "cell_type": "code",
   "execution_count": 55,
   "metadata": {
    "scrolled": true
   },
   "outputs": [
    {
     "name": "stdout",
     "output_type": "stream",
     "text": [
      "_________________________________________________________________\n",
      "Layer (type)                 Output Shape              Param #   \n",
      "=================================================================\n",
      "input_3 (InputLayer)         (None, 512)               0         \n",
      "_________________________________________________________________\n",
      "dense_6 (Dense)              (None, 128)               65664     \n",
      "_________________________________________________________________\n",
      "batch_normalization_2 (Batch (None, 128)               512       \n",
      "_________________________________________________________________\n",
      "dropout_4 (Dropout)          (None, 128)               0         \n",
      "_________________________________________________________________\n",
      "dense_7 (Dense)              (None, 128)               16512     \n",
      "_________________________________________________________________\n",
      "batch_normalization_3 (Batch (None, 128)               512       \n",
      "_________________________________________________________________\n",
      "dropout_5 (Dropout)          (None, 128)               0         \n",
      "_________________________________________________________________\n",
      "dense_8 (Dense)              (None, 4)                 516       \n",
      "_________________________________________________________________\n",
      "activation_3 (Activation)    (None, 4)                 0         \n",
      "=================================================================\n",
      "Total params: 83,716\n",
      "Trainable params: 83,204\n",
      "Non-trainable params: 512\n",
      "_________________________________________________________________\n",
      "Train on 25027 samples, validate on 2078 samples\n",
      "Epoch 1/50\n",
      "25027/25027 [==============================] - 2s 68us/step - loss: 1.3661 - acc: 0.4860 - val_loss: 0.6672 - val_acc: 0.7392\n",
      "Epoch 2/50\n",
      "25027/25027 [==============================] - 1s 40us/step - loss: 1.0129 - acc: 0.5631 - val_loss: 0.6341 - val_acc: 0.7575\n",
      "Epoch 3/50\n",
      "25027/25027 [==============================] - 1s 40us/step - loss: 0.9371 - acc: 0.5916 - val_loss: 0.6349 - val_acc: 0.7700\n",
      "Epoch 4/50\n",
      "25027/25027 [==============================] - 1s 38us/step - loss: 0.9086 - acc: 0.6058 - val_loss: 0.6115 - val_acc: 0.7825\n",
      "Epoch 5/50\n",
      "25027/25027 [==============================] - 1s 55us/step - loss: 0.8950 - acc: 0.6121 - val_loss: 0.6320 - val_acc: 0.7786\n"
     ]
    }
   ],
   "source": [
    "model_UB = MLP_Keras(Xstd_train.shape[1:],Z_train_onehot.shape[1],128,2,BN=True,drop=0.5) #true bn?\n",
    "model_UB.compile(loss='categorical_crossentropy',optimizer=OPT, metrics=[\"acc\"])\n",
    "model_UB.summary()\n",
    "hist=model_UB.fit(Xstd_train,Z_train_onehot,epochs=EPOCHS_BASE,batch_size=BATCH_SIZE,verbose=1,callbacks=[ourCallback]\n",
    "                  ,validation_data=(Xstd_val,Z_val_onehot))"
   ]
  },
  {
   "cell_type": "code",
   "execution_count": null,
   "metadata": {},
   "outputs": [],
   "source": []
  },
  {
   "cell_type": "code",
   "execution_count": null,
   "metadata": {},
   "outputs": [],
   "source": []
  },
  {
   "cell_type": "code",
   "execution_count": 87,
   "metadata": {},
   "outputs": [
    {
     "name": "stdout",
     "output_type": "stream",
     "text": [
      "Trained IDeal Model, Epochs to converge = 4\n"
     ]
    }
   ],
   "source": [
    "clone_UB = Clonable_Model(model_UB)\n",
    "print(\"Trained IDeal Model, Epochs to converge =\",len(hist.epoch))\n",
    "Z_train_pred = model_UB.predict_classes(Xstd_train)\n",
    "Z_test_pred = model_UB.predict_classes(Xstd_test)"
   ]
  },
  {
   "cell_type": "code",
   "execution_count": 91,
   "metadata": {
    "scrolled": true
   },
   "outputs": [
    {
     "data": {
      "image/png": "[encoded data removed]",
      "text/plain": [
       "<Figure size 432x288 with 1 Axes>"
      ]
     },
     "metadata": {
      "needs_background": "light"
     },
     "output_type": "display_data"
    },
    {
     "data": {
      "image/png": "[encoded data removed]",
      "text/plain": [
       "<Figure size 432x288 with 1 Axes>"
      ]
     },
     "metadata": {
      "needs_background": "light"
     },
     "output_type": "display_data"
    }
   ],
   "source": [
    "sns.countplot(Z_train_pred)\n",
    "plt.show()\n",
    "sns.countplot(Z_test_pred)\n",
    "plt.show()"
   ]
  },
  {
   "cell_type": "code",
   "execution_count": 92,
   "metadata": {},
   "outputs": [
    {
     "data": {
      "text/plain": [
       "<matplotlib.legend.Legend at 0x7f2b351a6a58>"
      ]
     },
     "execution_count": 92,
     "metadata": {},
     "output_type": "execute_result"
    },
    {
     "data": {
      "image/png": "[encoded data removed]",
      "text/plain": [
       "<Figure size 432x288 with 1 Axes>"
      ]
     },
     "metadata": {
      "needs_background": "light"
     },
     "output_type": "display_data"
    }
   ],
   "source": [
    "plt.plot(hist.history[\"loss\"],label=\"train\")\n",
    "plt.plot(hist.history[\"val_loss\"])\n",
    "plt.legend()"
   ]
  },
  {
   "cell_type": "code",
   "execution_count": 33,
   "metadata": {},
   "outputs": [
    {
     "name": "stdout",
     "output_type": "stream",
     "text": [
      "*** Upper bound (Train with GT) ***\n",
      "Train\n",
      "A result\n"
     ]
    },
    {
     "data": {
      "text/html": [
       "<div>\n",
       "<style scoped>\n",
       "    .dataframe tbody tr th:only-of-type {\n",
       "        vertical-align: middle;\n",
       "    }\n",
       "\n",
       "    .dataframe tbody tr th {\n",
       "        vertical-align: top;\n",
       "    }\n",
       "\n",
       "    .dataframe thead th {\n",
       "        text-align: right;\n",
       "    }\n",
       "</style>\n",
       "<table border=\"1\" class=\"dataframe\">\n",
       "  <thead>\n",
       "    <tr style=\"text-align: right;\">\n",
       "      <th></th>\n",
       "      <th></th>\n",
       "      <th>Accuracy</th>\n",
       "      <th>F1 (micro)</th>\n",
       "      <th>F1 (macro)</th>\n",
       "    </tr>\n",
       "  </thead>\n",
       "  <tbody>\n",
       "    <tr>\n",
       "      <th>0</th>\n",
       "      <td>All</td>\n",
       "      <td>0.8238</td>\n",
       "      <td>0.8238</td>\n",
       "      <td>0.8109</td>\n",
       "    </tr>\n",
       "  </tbody>\n",
       "</table>\n",
       "</div>"
      ],
      "text/plain": [
       "        Accuracy  F1 (micro)  F1 (macro)\n",
       "0  All    0.8238      0.8238      0.8109"
      ]
     },
     "metadata": {},
     "output_type": "display_data"
    },
    {
     "name": "stdout",
     "output_type": "stream",
     "text": [
      "Test\n",
      "A result\n"
     ]
    },
    {
     "data": {
      "text/html": [
       "<div>\n",
       "<style scoped>\n",
       "    .dataframe tbody tr th:only-of-type {\n",
       "        vertical-align: middle;\n",
       "    }\n",
       "\n",
       "    .dataframe tbody tr th {\n",
       "        vertical-align: top;\n",
       "    }\n",
       "\n",
       "    .dataframe thead th {\n",
       "        text-align: right;\n",
       "    }\n",
       "</style>\n",
       "<table border=\"1\" class=\"dataframe\">\n",
       "  <thead>\n",
       "    <tr style=\"text-align: right;\">\n",
       "      <th></th>\n",
       "      <th></th>\n",
       "      <th>Accuracy</th>\n",
       "      <th>F1 (micro)</th>\n",
       "      <th>F1 (macro)</th>\n",
       "    </tr>\n",
       "  </thead>\n",
       "  <tbody>\n",
       "    <tr>\n",
       "      <th>0</th>\n",
       "      <td>All</td>\n",
       "      <td>0.843</td>\n",
       "      <td>0.843</td>\n",
       "      <td>0.825</td>\n",
       "    </tr>\n",
       "  </tbody>\n",
       "</table>\n",
       "</div>"
      ],
      "text/plain": [
       "        Accuracy  F1 (micro)  F1 (macro)\n",
       "0  All     0.843       0.843       0.825"
      ]
     },
     "metadata": {},
     "output_type": "display_data"
    }
   ],
   "source": [
    "from code.evaluation import Evaluation_metrics\n",
    "\n",
    "N = Xstd_train.shape[0]\n",
    "evaluate = Evaluation_metrics(model_UB,'keras',N)\n",
    "print(\"*** Upper bound (Train with GT) ***\")\n",
    "\n",
    "print(\"Train\")\n",
    "results1 = evaluate.calculate_metrics(Z=Z_train,Z_pred=Z_train_pred)\n",
    "\n",
    "print(\"Test\")\n",
    "results2 = evaluate.calculate_metrics(Z=Z_test,Z_pred=Z_test_pred)"
   ]
  },
  {
   "cell_type": "markdown",
   "metadata": {},
   "source": [
    "### Infer Labels (without predictive model)"
   ]
  },
  {
   "cell_type": "code",
   "execution_count": 79,
   "metadata": {
    "scrolled": true
   },
   "outputs": [
    {
     "name": "stdout",
     "output_type": "stream",
     "text": [
      "Representation for MV in 0.754232 sec\n",
      "Representation for DS in 0.578112 sec\n",
      "Estimation MV in 0.001040 sec\n",
      "Iter\tlog-likelihood\tdelta-CM\tdelta-ER\tdelta-LL\n",
      "1 \t -34875.36960012488\n",
      "2 \t -33797.96251874367 \t0.0193\t0.305034\t0.030893\n",
      "3 \t -33451.381532317304 \t0.0131\t0.071528\t0.010254\n",
      "4 \t -33256.66848447198 \t0.0078\t0.066143\t0.005821\n",
      "5 \t -33132.509977173235 \t0.0050\t0.063487\t0.003733\n",
      "6 \t -33047.71422557834 \t0.0046\t0.060051\t0.002559\n",
      "7 \t -32986.88016410955 \t0.0044\t347.021271\t0.001841\n",
      "8 \t -32941.447285139635 \t0.0042\t0.052233\t0.001377\n",
      "9 \t -32906.56945848786 \t0.0039\t0.048752\t0.001059\n",
      "10 \t -32879.14200719682 \t0.0037\t0.045450\t0.000833\n",
      "11 \t -32857.20622208775 \t0.0034\t0.042328\t0.000667\n",
      "12 \t -32839.62964322639 \t0.0031\t0.039510\t0.000535\n",
      "13 \t -32825.47708083321 \t0.0029\t0.036761\t0.000431\n",
      "14 \t -32813.862151244255 \t0.0027\t0.034040\t0.000354\n",
      "15 \t -32804.06698408639 \t0.0024\t0.031303\t0.000299\n",
      "16 \t -32795.70814715521 \t0.0023\t346.994019\t0.000255\n",
      "17 \t -32788.388562598404 \t0.0021\t0.026505\t0.000223\n",
      "Class marginals\n",
      "[0.24 0.2  0.33 0.23]\n",
      "Estimation for DS in 293.307319 sec\n"
     ]
    }
   ],
   "source": [
    "from code.baseline import LabelInference\n",
    "\n",
    "label_I = LabelInference(y_obs,TOL,type_inf = 'all')\n",
    "\n",
    "mv_probas, mv_conf_probas = label_I.mv_labels('probas')\n",
    "mv_onehot, mv_conf_onehot = label_I.mv_labels('onehot')\n",
    "\n",
    "confe_matrix_G = get_Global_confusionM(Z_train,label_I.y_obs_repeat)\n",
    "\n",
    "if y_obs.shape[1] <= 12000:\n",
    "    ds_labels,ds_conf = label_I.DS_labels()"
   ]
  },
  {
   "cell_type": "code",
   "execution_count": 34,
   "metadata": {},
   "outputs": [
    {
     "name": "stdout",
     "output_type": "stream",
     "text": [
      "Representation for MV in 0.459586 sec\n",
      "Representation for DS in 0.725737 sec\n",
      "Estimation MV in 0.001641 sec\n"
     ]
    }
   ],
   "source": [
    "from code.baseline import LabelInference\n",
    "\n",
    "label_I = LabelInference(y_obs,TOL,type_inf = 'all')\n",
    "\n",
    "mv_probas, mv_conf_probas = label_I.mv_labels('probas')\n",
    "mv_onehot, mv_conf_onehot = label_I.mv_labels('onehot')\n",
    "confe_matrix_G = get_Global_confusionM(Z_train,label_I.y_obs_repeat)"
   ]
  },
  {
   "cell_type": "code",
   "execution_count": 35,
   "metadata": {},
   "outputs": [
    {
     "name": "stdout",
     "output_type": "stream",
     "text": [
      "ACC MV on train: 0.6018699804211451\n",
      "F1 MV  on train: 0.5810237929992176\n"
     ]
    },
    {
     "ename": "NameError",
     "evalue": "name 'ds_labels' is not defined",
     "output_type": "error",
     "traceback": [
      "\u001b[0;31m---------------------------------------------------------------------------\u001b[0m",
      "\u001b[0;31mNameError\u001b[0m                                 Traceback (most recent call last)",
      "\u001b[0;32m<ipython-input-35-5fd1fc08862f>\u001b[0m in \u001b[0;36m<module>\u001b[0;34m()\u001b[0m\n\u001b[1;32m      2\u001b[0m \u001b[0mprint\u001b[0m\u001b[0;34m(\u001b[0m\u001b[0;34m\"F1 MV  on train:\"\u001b[0m\u001b[0;34m,\u001b[0m\u001b[0mf1_score\u001b[0m\u001b[0;34m(\u001b[0m\u001b[0mZ_train\u001b[0m\u001b[0;34m,\u001b[0m\u001b[0mmv_onehot\u001b[0m\u001b[0;34m.\u001b[0m\u001b[0margmax\u001b[0m\u001b[0;34m(\u001b[0m\u001b[0maxis\u001b[0m\u001b[0;34m=\u001b[0m\u001b[0;36m1\u001b[0m\u001b[0;34m)\u001b[0m\u001b[0;34m,\u001b[0m\u001b[0maverage\u001b[0m\u001b[0;34m=\u001b[0m\u001b[0;34m\"macro\"\u001b[0m\u001b[0;34m)\u001b[0m\u001b[0;34m)\u001b[0m\u001b[0;34m\u001b[0m\u001b[0m\n\u001b[1;32m      3\u001b[0m \u001b[0;34m\u001b[0m\u001b[0m\n\u001b[0;32m----> 4\u001b[0;31m \u001b[0mprint\u001b[0m\u001b[0;34m(\u001b[0m\u001b[0;34m\"ACC D&S on train:\"\u001b[0m\u001b[0;34m,\u001b[0m\u001b[0mnp\u001b[0m\u001b[0;34m.\u001b[0m\u001b[0mmean\u001b[0m\u001b[0;34m(\u001b[0m\u001b[0mds_labels\u001b[0m\u001b[0;34m.\u001b[0m\u001b[0margmax\u001b[0m\u001b[0;34m(\u001b[0m\u001b[0maxis\u001b[0m\u001b[0;34m=\u001b[0m\u001b[0;36m1\u001b[0m\u001b[0;34m)\u001b[0m\u001b[0;34m==\u001b[0m\u001b[0mZ_train\u001b[0m\u001b[0;34m)\u001b[0m\u001b[0;34m)\u001b[0m\u001b[0;34m\u001b[0m\u001b[0m\n\u001b[0m\u001b[1;32m      5\u001b[0m \u001b[0mprint\u001b[0m\u001b[0;34m(\u001b[0m\u001b[0;34m\"F1 D&S  on train:\"\u001b[0m\u001b[0;34m,\u001b[0m\u001b[0mf1_score\u001b[0m\u001b[0;34m(\u001b[0m\u001b[0mZ_train\u001b[0m\u001b[0;34m,\u001b[0m\u001b[0mds_labels\u001b[0m\u001b[0;34m.\u001b[0m\u001b[0margmax\u001b[0m\u001b[0;34m(\u001b[0m\u001b[0maxis\u001b[0m\u001b[0;34m=\u001b[0m\u001b[0;36m1\u001b[0m\u001b[0;34m)\u001b[0m\u001b[0;34m,\u001b[0m\u001b[0maverage\u001b[0m\u001b[0;34m=\u001b[0m\u001b[0;34m\"macro\"\u001b[0m\u001b[0;34m)\u001b[0m\u001b[0;34m)\u001b[0m\u001b[0;34m\u001b[0m\u001b[0m\n",
      "\u001b[0;31mNameError\u001b[0m: name 'ds_labels' is not defined"
     ]
    }
   ],
   "source": [
    "print(\"ACC MV on train:\",np.mean(mv_onehot.argmax(axis=1)==Z_train))\n",
    "print(\"F1 MV  on train:\",f1_score(Z_train,mv_onehot.argmax(axis=1),average=\"macro\"))\n",
    "\n",
    "print(\"ACC D&S on train:\",np.mean(ds_labels.argmax(axis=1)==Z_train))\n",
    "print(\"F1 D&S  on train:\",f1_score(Z_train,ds_labels.argmax(axis=1),average=\"macro\"))"
   ]
  },
  {
   "cell_type": "code",
   "execution_count": 37,
   "metadata": {},
   "outputs": [
    {
     "name": "stdout",
     "output_type": "stream",
     "text": [
      "Trained model over soft-MV, Epochs to converge = 4\n"
     ]
    }
   ],
   "source": [
    "model_mvsoft = clone_UB.get_model()\n",
    "model_mvsoft.compile(loss='categorical_crossentropy',optimizer=OPT)\n",
    "hist=model_mvsoft.fit(Xstd_train, mv_probas, epochs=EPOCHS_BASE,batch_size=BATCH_SIZE,verbose=0,callbacks=[ourCallback])\n",
    "print(\"Trained model over soft-MV, Epochs to converge =\",len(hist.epoch))\n",
    "Z_train_pred = model_mvsoft.predict_classes(Xstd_train)\n",
    "Z_val_pred = model_mvsoft.predict_classes(Xstd_val)\n",
    "Z_test_pred = model_mvsoft.predict_classes(Xstd_test)"
   ]
  },
  {
   "cell_type": "code",
   "execution_count": 39,
   "metadata": {},
   "outputs": [
    {
     "name": "stdout",
     "output_type": "stream",
     "text": [
      "Trained model over hard-MV, Epochs to converge = 4\n"
     ]
    }
   ],
   "source": [
    "model_mvhard = clone_UB.get_model()\n",
    "model_mvhard.compile(loss='categorical_crossentropy',optimizer=OPT)\n",
    "hist=model_mvhard.fit(Xstd_train, mv_onehot, epochs=EPOCHS_BASE,batch_size=BATCH_SIZE,verbose=0,callbacks=[ourCallback])\n",
    "print(\"Trained model over hard-MV, Epochs to converge =\",len(hist.epoch))\n",
    "Z_train_pred = model_mvhard.predict_classes(Xstd_train)\n",
    "Z_val_pred = model_mvhard.predict_classes(Xstd_val)\n",
    "Z_test_pred = model_mvhard.predict_classes(Xstd_test)"
   ]
  },
  {
   "cell_type": "code",
   "execution_count": 85,
   "metadata": {
    "scrolled": true
   },
   "outputs": [
    {
     "name": "stdout",
     "output_type": "stream",
     "text": [
      "Trained model over D&S, Epochs to converge = 4\n"
     ]
    }
   ],
   "source": [
    "model_ds = clone_UB.get_model()\n",
    "model_ds.compile(loss='categorical_crossentropy',optimizer=OPT)\n",
    "hist=model_ds.fit(Xstd_train, ds_labels, epochs=EPOCHS_BASE,batch_size=BATCH_SIZE,verbose=0,callbacks=[ourCallback])\n",
    "print(\"Trained model over D&S, Epochs to converge =\",len(hist.epoch))\n",
    "Z_train_pred = model_ds.predict_classes(Xstd_train)\n",
    "Z_val_pred = model_ds.predict_classes(Xstd_val)\n",
    "Z_test_pred = model_ds.predict_classes(Xstd_test)"
   ]
  },
  {
   "cell_type": "markdown",
   "metadata": {},
   "source": [
    "### Raykar Model (joint predict model)"
   ]
  },
  {
   "cell_type": "code",
   "execution_count": 41,
   "metadata": {
    "scrolled": true
   },
   "outputs": [
    {
     "name": "stdout",
     "output_type": "stream",
     "text": [
      "shape: (25027, 1386, 4)\n"
     ]
    }
   ],
   "source": [
    "from code.baseline import RaykarMC\n",
    "y_obs_categorical = set_representation(y_obs,'onehot') #for raykar\n",
    "print(\"shape:\",y_obs_categorical.shape)"
   ]
  },
  {
   "cell_type": "code",
   "execution_count": 42,
   "metadata": {
    "scrolled": true
   },
   "outputs": [
    {
     "name": "stdout",
     "output_type": "stream",
     "text": [
      "Needed params (units,deep,drop,BatchN?)\n",
      "Initializing new EM...\n",
      "Betas shape:  (1386, 4, 4)\n",
      "Q estimate shape:  (25027, 4)\n",
      "Iter 1/50 \n",
      "M step: done,  E step: done //  (in 3.31 sec)\tlogL: -42253.484\t\n",
      "Iter 2/50 \n",
      "M step: done,  E step: done //  (in 1.40 sec)\tlogL: -39484.688\tTol1: 0.06553\tTol2: 0.14696\t\n",
      "Iter 3/50 \n",
      "M step: done,  E step: done //  (in 1.19 sec)\tlogL: -38116.609\tTol1: 0.03465\tTol2: 0.05484\t\n",
      "Iter 4/50 \n",
      "M step: done,  E step: done //  (in 1.40 sec)\tlogL: -37266.375\tTol1: 0.02231\tTol2: 0.03597\t\n",
      "Iter 5/50 \n",
      "M step: done,  E step: done //  (in 1.67 sec)\tlogL: -36684.133\tTol1: 0.01562\tTol2: 0.02933\t\n",
      "Finished training\n",
      "Initializing new EM...\n",
      "Betas shape:  (1386, 4, 4)\n",
      "Q estimate shape:  (25027, 4)\n",
      "Iter 1/50 \n",
      "M step: done,  E step: done //  (in 2.39 sec)\tlogL: -42202.918\t\n",
      "Iter 2/50 \n",
      "M step: done,  E step: done //  (in 1.30 sec)\tlogL: -39470.320\tTol1: 0.06475\tTol2: 0.14962\t\n",
      "Iter 3/50 \n",
      "M step: done,  E step: done //  (in 1.29 sec)\tlogL: -38190.141\tTol1: 0.03243\tTol2: 0.05616\t\n",
      "Iter 4/50 \n",
      "M step: done,  E step: done //  (in 1.33 sec)\tlogL: -37410.547\tTol1: 0.02041\tTol2: 0.03528\t\n",
      "Iter 5/50 \n",
      "M step: done,  E step: done //  (in 1.20 sec)\tlogL: -36776.656\tTol1: 0.01694\tTol2: 0.02614\t\n",
      "Finished training\n",
      "Initializing new EM...\n",
      "Betas shape:  (1386, 4, 4)\n",
      "Q estimate shape:  (25027, 4)\n",
      "Iter 1/50 \n",
      "M step: done,  E step: done //  (in 2.36 sec)\tlogL: -42274.723\t\n",
      "Iter 2/50 \n",
      "M step: done,  E step: done //  (in 1.23 sec)\tlogL: -39525.016\tTol1: 0.06504\tTol2: 0.14622\t\n",
      "Iter 3/50 \n",
      "M step: done,  E step: done //  (in 1.40 sec)\tlogL: -38239.977\tTol1: 0.03251\tTol2: 0.05485\t\n",
      "Iter 4/50 \n",
      "M step: done,  E step: done //  (in 1.40 sec)\tlogL: -37334.590\tTol1: 0.02368\tTol2: 0.03513\t\n",
      "Iter 5/50 \n",
      "M step: done,  E step: done //  (in 1.26 sec)\tlogL: -36827.016\tTol1: 0.01360\tTol2: 0.02767\t\n",
      "Finished training\n",
      "Initializing new EM...\n",
      "Betas shape:  (1386, 4, 4)\n",
      "Q estimate shape:  (25027, 4)\n",
      "Iter 1/50 \n",
      "M step: done,  E step: done //  (in 2.55 sec)\tlogL: -42065.668\t\n",
      "Iter 2/50 \n",
      "M step: done,  E step: done //  (in 1.62 sec)\tlogL: -39409.195\tTol1: 0.06315\tTol2: 0.15071\t\n",
      "Iter 3/50 \n",
      "M step: done,  E step: done //  (in 1.59 sec)\tlogL: -38139.906\tTol1: 0.03221\tTol2: 0.05435\t\n",
      "Iter 4/50 \n",
      "M step: done,  E step: done //  (in 1.65 sec)\tlogL: -37250.918\tTol1: 0.02331\tTol2: 0.03616\t\n",
      "Iter 5/50 \n",
      "M step: done,  E step: done //  (in 1.58 sec)\tlogL: -36544.777\tTol1: 0.01896\tTol2: 0.03138\t\n",
      "Iter 6/50 \n",
      "M step: done,  E step: done //  (in 1.63 sec)\tlogL: -36051.141\tTol1: 0.01351\tTol2: 0.02355\t\n",
      "Finished training\n",
      "Initializing new EM...\n",
      "Betas shape:  (1386, 4, 4)\n",
      "Q estimate shape:  (25027, 4)\n",
      "Iter 1/50 \n",
      "M step: done,  E step: done //  (in 2.87 sec)\tlogL: -42269.852\t\n",
      "Iter 2/50 \n",
      "M step: done,  E step: done //  (in 1.65 sec)\tlogL: -39575.984\tTol1: 0.06373\tTol2: 0.14925\t\n",
      "Iter 3/50 \n",
      "M step: done,  E step: done //  (in 1.61 sec)\tlogL: -38301.371\tTol1: 0.03221\tTol2: 0.05489\t\n",
      "Iter 4/50 \n",
      "M step: done,  E step: done //  (in 1.60 sec)\tlogL: -37449.262\tTol1: 0.02225\tTol2: 0.03647\t\n",
      "Iter 5/50 \n",
      "M step: done,  E step: done //  (in 1.61 sec)\tlogL: -36780.559\tTol1: 0.01786\tTol2: 0.02765\t\n",
      "Finished training\n",
      "Initializing new EM...\n",
      "Betas shape:  (1386, 4, 4)\n",
      "Q estimate shape:  (25027, 4)\n",
      "Iter 1/50 \n",
      "M step: done,  E step: done //  (in 2.90 sec)\tlogL: -42254.270\t\n",
      "Iter 2/50 \n",
      "M step: done,  E step: done //  (in 1.64 sec)\tlogL: -39641.727\tTol1: 0.06183\tTol2: 0.14859\t\n",
      "Iter 3/50 \n",
      "M step: done,  E step: done //  (in 1.67 sec)\tlogL: -38353.707\tTol1: 0.03249\tTol2: 0.05443\t\n",
      "Iter 4/50 \n",
      "M step: done,  E step: done //  (in 1.63 sec)\tlogL: -37369.762\tTol1: 0.02565\tTol2: 0.03510\t\n",
      "Iter 5/50 \n",
      "M step: done,  E step: done //  (in 1.62 sec)\tlogL: -36692.188\tTol1: 0.01813\tTol2: 0.03095\t\n",
      "Iter 6/50 \n",
      "M step: done,  E step: done //  (in 1.67 sec)\tlogL: -36274.340\tTol1: 0.01139\tTol2: 0.02382\t\n",
      "Finished training\n",
      "Initializing new EM...\n",
      "Betas shape:  (1386, 4, 4)\n",
      "Q estimate shape:  (25027, 4)\n",
      "Iter 1/50 \n",
      "M step: done,  E step: done //  (in 2.96 sec)\tlogL: -42041.496\t\n",
      "Iter 2/50 \n",
      "M step: done,  E step: done //  (in 1.64 sec)\tlogL: -39214.211\tTol1: 0.06725\tTol2: 0.15636\t\n",
      "Iter 3/50 \n",
      "M step: done,  E step: done //  (in 1.67 sec)\tlogL: -38019.684\tTol1: 0.03046\tTol2: 0.05556\t\n",
      "Iter 4/50 \n",
      "M step: done,  E step: done //  (in 1.46 sec)\tlogL: -37254.887\tTol1: 0.02012\tTol2: 0.03349\t\n",
      "Iter 5/50 \n",
      "M step: done,  E step: done //  (in 1.51 sec)\tlogL: -36768.383\tTol1: 0.01306\tTol2: 0.02598\t\n",
      "Finished training\n",
      "Initializing new EM...\n",
      "Betas shape:  (1386, 4, 4)\n",
      "Q estimate shape:  (25027, 4)\n",
      "Iter 1/50 \n",
      "M step: done,  E step: done //  (in 2.40 sec)\tlogL: -42055.383\t\n",
      "Iter 2/50 \n",
      "M step: done,  E step: done //  (in 1.51 sec)\tlogL: -39325.219\tTol1: 0.06492\tTol2: 0.14829\t\n",
      "Iter 3/50 \n",
      "M step: done,  E step: done //  (in 1.69 sec)\tlogL: -38058.367\tTol1: 0.03221\tTol2: 0.05597\t\n",
      "Iter 4/50 \n",
      "M step: done,  E step: done //  (in 1.66 sec)\tlogL: -37220.504\tTol1: 0.02202\tTol2: 0.03477\t\n",
      "Iter 5/50 \n",
      "M step: done,  E step: done //  (in 1.37 sec)\tlogL: -36622.727\tTol1: 0.01606\tTol2: 0.02777\t\n",
      "Finished training\n",
      "Initializing new EM...\n",
      "Betas shape:  (1386, 4, 4)\n",
      "Q estimate shape:  (25027, 4)\n",
      "Iter 1/50 \n",
      "M step: done,  E step: done //  (in 2.62 sec)\tlogL: -42343.133\t\n",
      "Iter 2/50 \n",
      "M step: done,  E step: done //  (in 1.64 sec)\tlogL: -39492.820\tTol1: 0.06731\tTol2: 0.14575\t\n",
      "Iter 3/50 \n",
      "M step: done,  E step: done //  (in 1.67 sec)\tlogL: -38178.062\tTol1: 0.03329\tTol2: 0.05597\t\n",
      "Iter 4/50 \n",
      "M step: done,  E step: done //  (in 1.70 sec)\tlogL: -37332.152\tTol1: 0.02216\tTol2: 0.03566\t\n",
      "Iter 5/50 \n",
      "M step: done,  E step: done //  (in 1.43 sec)\tlogL: -36621.918\tTol1: 0.01902\tTol2: 0.02608\t\n",
      "Finished training\n",
      "Initializing new EM...\n",
      "Betas shape:  (1386, 4, 4)\n",
      "Q estimate shape:  (25027, 4)\n",
      "Iter 1/50 \n",
      "M step: done,  E step: done //  (in 2.93 sec)\tlogL: -42234.371\t\n",
      "Iter 2/50 \n",
      "M step: done,  E step: done //  (in 1.34 sec)\tlogL: -39586.941\tTol1: 0.06268\tTol2: 0.14890\t\n",
      "Iter 3/50 \n",
      "M step: done,  E step: done //  (in 1.44 sec)\tlogL: -38302.270\tTol1: 0.03245\tTol2: 0.05326\t\n",
      "Iter 4/50 \n",
      "M step: done,  E step: done //  (in 1.47 sec)\tlogL: -37481.047\tTol1: 0.02144\tTol2: 0.03448\t\n",
      "Iter 5/50 \n",
      "M step: done,  E step: done //  (in 1.38 sec)\tlogL: -36738.980\tTol1: 0.01980\tTol2: 0.02984\t\n",
      "Finished training\n",
      "Initializing new EM...\n",
      "Betas shape:  (1386, 4, 4)\n",
      "Q estimate shape:  (25027, 4)\n",
      "Iter 1/50 \n",
      "M step: done,  E step: done //  (in 2.38 sec)\tlogL: -42141.207\t\n",
      "Iter 2/50 \n",
      "M step: done,  E step: done //  (in 1.27 sec)\tlogL: -39386.680\tTol1: 0.06536\tTol2: 0.14981\t\n",
      "Iter 3/50 \n",
      "M step: done,  E step: done //  (in 1.64 sec)\tlogL: -38032.969\tTol1: 0.03437\tTol2: 0.05459\t\n",
      "Iter 4/50 \n",
      "M step: done,  E step: done //  (in 1.46 sec)\tlogL: -37274.512\tTol1: 0.01994\tTol2: 0.03731\t\n",
      "Iter 5/50 \n",
      "M step: done,  E step: done //  (in 1.41 sec)\tlogL: -36658.078\tTol1: 0.01654\tTol2: 0.02586\t\n",
      "Finished training\n",
      "Initializing new EM...\n",
      "Betas shape:  (1386, 4, 4)\n",
      "Q estimate shape:  (25027, 4)\n",
      "Iter 1/50 \n",
      "M step: done,  E step: done //  (in 2.99 sec)\tlogL: -41963.875\t\n",
      "Iter 2/50 \n",
      "M step: done,  E step: done //  (in 1.59 sec)\tlogL: -39269.551\tTol1: 0.06421\tTol2: 0.15213\t\n",
      "Iter 3/50 \n",
      "M step: done,  E step: done //  (in 1.46 sec)\tlogL: -38026.957\tTol1: 0.03164\tTol2: 0.05354\t\n",
      "Iter 4/50 \n",
      "M step: done,  E step: done //  (in 1.45 sec)\tlogL: -37239.488\tTol1: 0.02071\tTol2: 0.03351\t\n",
      "Iter 5/50 \n",
      "M step: done,  E step: done //  (in 1.61 sec)\tlogL: -36661.289\tTol1: 0.01553\tTol2: 0.02432\t\n",
      "Finished training\n",
      "Initializing new EM...\n",
      "Betas shape:  (1386, 4, 4)\n",
      "Q estimate shape:  (25027, 4)\n",
      "Iter 1/50 \n",
      "M step: done,  E step: done //  (in 2.97 sec)\tlogL: -42003.250\t\n",
      "Iter 2/50 \n",
      "M step: done,  E step: done //  (in 1.61 sec)\tlogL: -39308.031\tTol1: 0.06417\tTol2: 0.15132\t\n",
      "Iter 3/50 \n",
      "M step: done,  E step: done //  (in 1.65 sec)\tlogL: -38102.168\tTol1: 0.03068\tTol2: 0.05269\t\n",
      "Iter 4/50 \n",
      "M step: done,  E step: done //  (in 1.63 sec)\tlogL: -37305.035\tTol1: 0.02092\tTol2: 0.03526\t\n",
      "Iter 5/50 \n",
      "M step: done,  E step: done //  (in 1.62 sec)\tlogL: -36634.637\tTol1: 0.01797\tTol2: 0.02705\t\n",
      "Finished training\n",
      "Initializing new EM...\n",
      "Betas shape:  (1386, 4, 4)\n",
      "Q estimate shape:  (25027, 4)\n",
      "Iter 1/50 \n",
      "M step: done,  E step: done //  (in 2.47 sec)\tlogL: -42328.113\t\n",
      "Iter 2/50 \n",
      "M step: done,  E step: done //  (in 1.26 sec)\tlogL: -39472.594\tTol1: 0.06746\tTol2: 0.15153\t\n",
      "Iter 3/50 \n"
     ]
    },
    {
     "name": "stdout",
     "output_type": "stream",
     "text": [
      "M step: done,  E step: done //  (in 1.47 sec)\tlogL: -38097.492\tTol1: 0.03484\tTol2: 0.05712\t\n",
      "Iter 4/50 \n",
      "M step: done,  E step: done //  (in 1.59 sec)\tlogL: -37115.602\tTol1: 0.02577\tTol2: 0.03720\t\n",
      "Iter 5/50 \n",
      "M step: done,  E step: done //  (in 1.66 sec)\tlogL: -36507.383\tTol1: 0.01639\tTol2: 0.03024\t\n",
      "Iter 6/50 \n",
      "M step: done,  E step: done //  (in 1.64 sec)\tlogL: -36047.152\tTol1: 0.01261\tTol2: 0.02134\t\n",
      "Finished training\n",
      "Initializing new EM...\n",
      "Betas shape:  (1386, 4, 4)\n",
      "Q estimate shape:  (25027, 4)\n",
      "Iter 1/50 \n",
      "M step: done,  E step: done //  (in 2.88 sec)\tlogL: -42328.926\t\n",
      "Iter 2/50 \n",
      "M step: done,  E step: done //  (in 1.61 sec)\tlogL: -39559.988\tTol1: 0.06541\tTol2: 0.14829\t\n",
      "Iter 3/50 \n",
      "M step: done,  E step: done //  (in 1.62 sec)\tlogL: -38073.965\tTol1: 0.03756\tTol2: 0.05604\t\n",
      "Iter 4/50 \n",
      "M step: done,  E step: done //  (in 1.62 sec)\tlogL: -37203.031\tTol1: 0.02287\tTol2: 0.03852\t\n",
      "Iter 5/50 \n",
      "M step: done,  E step: done //  (in 1.70 sec)\tlogL: -36605.195\tTol1: 0.01607\tTol2: 0.02875\t\n",
      "Finished training\n",
      "Initializing new EM...\n",
      "Betas shape:  (1386, 4, 4)\n",
      "Q estimate shape:  (25027, 4)\n",
      "Iter 1/50 \n",
      "M step: done,  E step: done //  (in 2.92 sec)\tlogL: -42465.289\t\n",
      "Iter 2/50 \n",
      "M step: done,  E step: done //  (in 1.63 sec)\tlogL: -39536.523\tTol1: 0.06897\tTol2: 0.14678\t\n",
      "Iter 3/50 \n",
      "M step: done,  E step: done //  (in 1.70 sec)\tlogL: -38340.027\tTol1: 0.03026\tTol2: 0.05697\t\n",
      "Iter 4/50 \n",
      "M step: done,  E step: done //  (in 1.63 sec)\tlogL: -37435.734\tTol1: 0.02359\tTol2: 0.03512\t\n",
      "Iter 5/50 \n",
      "M step: done,  E step: done //  (in 1.73 sec)\tlogL: -36846.727\tTol1: 0.01573\tTol2: 0.02828\t\n",
      "Finished training\n",
      "Initializing new EM...\n",
      "Betas shape:  (1386, 4, 4)\n",
      "Q estimate shape:  (25027, 4)\n",
      "Iter 1/50 \n",
      "M step: done,  E step: done //  (in 2.90 sec)\tlogL: -41981.832\t\n",
      "Iter 2/50 \n",
      "M step: done,  E step: done //  (in 1.50 sec)\tlogL: -39348.008\tTol1: 0.06274\tTol2: 0.15296\t\n",
      "Iter 3/50 \n",
      "M step: done,  E step: done //  (in 1.64 sec)\tlogL: -38224.383\tTol1: 0.02856\tTol2: 0.05365\t\n",
      "Iter 4/50 \n",
      "M step: done,  E step: done //  (in 1.67 sec)\tlogL: -37280.480\tTol1: 0.02469\tTol2: 0.03552\t\n",
      "Iter 5/50 \n",
      "M step: done,  E step: done //  (in 1.67 sec)\tlogL: -36659.492\tTol1: 0.01666\tTol2: 0.03071\t\n",
      "Iter 6/50 \n",
      "M step: done,  E step: done //  (in 1.65 sec)\tlogL: -36204.809\tTol1: 0.01240\tTol2: 0.02386\t\n",
      "Finished training\n",
      "Initializing new EM...\n",
      "Betas shape:  (1386, 4, 4)\n",
      "Q estimate shape:  (25027, 4)\n",
      "Iter 1/50 \n",
      "M step: done,  E step: done //  (in 2.92 sec)\tlogL: -42267.906\t\n",
      "Iter 2/50 \n",
      "M step: done,  E step: done //  (in 1.53 sec)\tlogL: -39406.273\tTol1: 0.06770\tTol2: 0.14896\t\n",
      "Iter 3/50 \n",
      "M step: done,  E step: done //  (in 1.50 sec)\tlogL: -38080.855\tTol1: 0.03363\tTol2: 0.05708\t\n",
      "Iter 4/50 \n",
      "M step: done,  E step: done //  (in 1.47 sec)\tlogL: -37242.430\tTol1: 0.02202\tTol2: 0.03474\t\n",
      "Iter 5/50 \n",
      "M step: done,  E step: done //  (in 1.29 sec)\tlogL: -36711.812\tTol1: 0.01425\tTol2: 0.02649\t\n",
      "Finished training\n",
      "Initializing new EM...\n",
      "Betas shape:  (1386, 4, 4)\n",
      "Q estimate shape:  (25027, 4)\n",
      "Iter 1/50 \n",
      "M step: done,  E step: done //  (in 2.93 sec)\tlogL: -42439.543\t\n",
      "Iter 2/50 \n",
      "M step: done,  E step: done //  (in 1.35 sec)\tlogL: -39529.816\tTol1: 0.06856\tTol2: 0.14827\t\n",
      "Iter 3/50 \n",
      "M step: done,  E step: done //  (in 1.49 sec)\tlogL: -38183.238\tTol1: 0.03406\tTol2: 0.05628\t\n",
      "Iter 4/50 \n",
      "M step: done,  E step: done //  (in 1.23 sec)\tlogL: -37325.473\tTol1: 0.02246\tTol2: 0.03519\t\n",
      "Iter 5/50 \n",
      "M step: done,  E step: done //  (in 1.45 sec)\tlogL: -36744.512\tTol1: 0.01556\tTol2: 0.02711\t\n",
      "Finished training\n",
      "Initializing new EM...\n",
      "Betas shape:  (1386, 4, 4)\n",
      "Q estimate shape:  (25027, 4)\n",
      "Iter 1/50 \n",
      "M step: done,  E step: done //  (in 2.59 sec)\tlogL: -42117.484\t\n",
      "Iter 2/50 \n",
      "M step: done,  E step: done //  (in 1.29 sec)\tlogL: -39505.035\tTol1: 0.06203\tTol2: 0.14789\t\n",
      "Iter 3/50 \n",
      "M step: done,  E step: done //  (in 1.47 sec)\tlogL: -38145.809\tTol1: 0.03441\tTol2: 0.05412\t\n",
      "Iter 4/50 \n",
      "M step: done,  E step: done //  (in 1.49 sec)\tlogL: -37359.457\tTol1: 0.02061\tTol2: 0.03582\t\n",
      "Iter 5/50 \n",
      "M step: done,  E step: done //  (in 1.48 sec)\tlogL: -36761.820\tTol1: 0.01600\tTol2: 0.02518\t\n",
      "Finished training\n",
      "Multiples runs over Raykar, Epochs to converge=  5.2\n"
     ]
    }
   ],
   "source": [
    "raykarMC = RaykarMC(Xstd_train.shape[1:],y_obs_categorical.shape[-1],T,epochs=1,optimizer=OPT,DTYPE_OP=DTYPE_OP)\n",
    "raykarMC.define_model(\"mlp\",128,1,BatchN=True,drop=0.5) #otro\n",
    "\n",
    "logL_hists,i_r = raykarMC.multiples_run(20,Xstd_train,y_obs_categorical,batch_size=BATCH_SIZE,max_iter=EPOCHS_BASE,\n",
    "                                     tolerance=TOL)"
   ]
  },
  {
   "cell_type": "code",
   "execution_count": 43,
   "metadata": {},
   "outputs": [],
   "source": [
    "Z_train_p = raykarMC.get_predictions(Xstd_train)\n",
    "Z_train_pred =Z_train_p.argmax(axis=-1)\n",
    "Z_val_pred = raykarMC.get_predictions(Xstd_val).argmax(axis=-1)\n",
    "Z_test_pred = raykarMC.get_predictions(Xstd_test).argmax(axis=-1)"
   ]
  },
  {
   "cell_type": "markdown",
   "metadata": {},
   "source": [
    "### Our Proposed"
   ]
  },
  {
   "cell_type": "code",
   "execution_count": 159,
   "metadata": {},
   "outputs": [],
   "source": [
    "from code.MixtureofGroups import GroupMixtureGlo, GroupMixtureInd"
   ]
  },
  {
   "cell_type": "code",
   "execution_count": 160,
   "metadata": {},
   "outputs": [
    {
     "name": "stdout",
     "output_type": "stream",
     "text": [
      "vector of repeats:\n",
      " [[0 0 1 1]\n",
      " [1 1 0 0]\n",
      " [0 0 2 1]\n",
      " ...\n",
      " [0 0 0 1]\n",
      " [0 1 0 0]\n",
      " [2 0 0 0]]\n",
      "shape: (19402, 4)\n"
     ]
    }
   ],
   "source": [
    "\"\"\" AÑADIR A ARCHIVO GROUPS...\"\"\"\n",
    "def define_uniform_groups(power, r, M):\n",
    "    R_total = r.sum()\n",
    "    uniform_groups = np.asarray([power*R_total/M for _ in range(M)])\n",
    "    return uniform_groups\n",
    "\n",
    "\n",
    "#get our representation \n",
    "r_obs = set_representation(y_obs,\"repeat\")\n",
    "#r_obs = label_I.y_obs_repeat.copy()\n",
    "\n",
    "confe_matrix_G = get_Global_confusionM(Z_train,r_obs)\n",
    "\n",
    "print(\"vector of repeats:\\n\",r_obs)\n",
    "print(\"shape:\",r_obs.shape)"
   ]
  },
  {
   "cell_type": "code",
   "execution_count": 22,
   "metadata": {},
   "outputs": [
    {
     "name": "stdout",
     "output_type": "stream",
     "text": [
      "Normalized entropy (0-1) of repeats annotations: 0.06213511502976383\n"
     ]
    },
    {
     "data": {
      "image/png": "[encoded data removed]",
      "text/plain": [
       "<Figure size 432x288 with 1 Axes>"
      ]
     },
     "metadata": {
      "needs_background": "light"
     },
     "output_type": "display_data"
    }
   ],
   "source": [
    "mv_soft = majority_voting(r_obs,repeats=True,probas=True) \n",
    "aux = []\n",
    "for example in mv_soft:\n",
    "    aux.append(entropy(example)/np.log(Kl))\n",
    "print(\"Normalized entropy (0-1) of repeats annotations:\",np.mean(aux))\n",
    "\n",
    "from code.MixtureofGroups import *\n",
    "predicted = np.clip(mv_soft, keras.backend.epsilon(), 1.)\n",
    "data_to_cluster = []\n",
    "for i in range(mv_soft.shape[0]):\n",
    "    for j in range(mv_soft.shape[1]):\n",
    "        ob = np.tile(keras.backend.epsilon(), mv_soft.shape[1])\n",
    "        ob[j] = 1\n",
    "        true = np.clip(predicted[i],keras.backend.epsilon(),1.)      \n",
    "        f_l = distance_function(true, ob)  #funcion de distancia o similaridad\n",
    "        data_to_cluster.append(f_l)  \n",
    "data_to_cluster = np.asarray(data_to_cluster)\n",
    "model = PCA(n_components=min(3,mv_soft.shape[0]) ) \n",
    "data_to_cluster = model.fit_transform(data_to_cluster)\n",
    "\n",
    "std = StandardScaler(with_mean=True,with_std=True)\n",
    "data_to_plot = std.fit_transform(data_to_cluster)\n",
    "plt.scatter(data_to_plot[:,0],data_to_plot[:,1])\n",
    "plt.show()"
   ]
  },
  {
   "cell_type": "markdown",
   "metadata": {},
   "source": [
    "There is low entropy (information), maybe there is only a few groups in this dataset, the possible of different behavior is low."
   ]
  },
  {
   "cell_type": "code",
   "execution_count": 21,
   "metadata": {
    "scrolled": true
   },
   "outputs": [
    {
     "name": "stdout",
     "output_type": "stream",
     "text": [
      "Needed params (units,deep,drop,BatchN?)\n",
      "Initializing new EM...\n",
      "Doing clustering...Done!\n",
      "Get init alphas in 0.041659 mins\n",
      "Lambda by group:  [1. 1. 1. 1. 1.]\n",
      "Alphas:  (5,)\n",
      "MV init:  (17363, 4)\n",
      "Betas:  (5, 4, 4)\n",
      "Q estimate:  (17363, 4, 5, 4)\n",
      "Iter 1/0\n",
      "M step: done,  E step: done //  (in 1.06 sec)\tlogL: -67392.492\t\n",
      "Finished training!\n"
     ]
    },
    {
     "data": {
      "image/png": "[encoded data removed]",
      "text/plain": [
       "<Figure size 432x288 with 1 Axes>"
      ]
     },
     "metadata": {
      "needs_background": "light"
     },
     "output_type": "display_data"
    },
    {
     "data": {
      "image/png": "[encoded data removed]",
      "text/plain": [
       "<Figure size 432x288 with 1 Axes>"
      ]
     },
     "metadata": {
      "needs_background": "light"
     },
     "output_type": "display_data"
    }
   ],
   "source": [
    "gMixture_Global = GroupMixtureGlo(Xstd_train.shape[1:],Kl=r_obs.shape[1],M=5,epochs=0,optimizer=OPT,dtype_op=DTYPE_OP) \n",
    "gMixture_Global.define_model(\"mlp\",128,1,BatchN=True,drop=0.5)\n",
    "gMixture_Global.lambda_random = True \n",
    "logL_hists,i_r = gMixture_Global.multiples_run(1,Xstd_train,r_obs,batch_size=BATCH_SIZE,max_iter=0,tolerance=TOL)\n",
    "\n",
    "aux = gMixture_Global.alpha_init.sum(axis=1).sum(axis=0)\n",
    "plt.bar(np.arange(gMixture_Global.M),aux)\n",
    "plt.show()\n",
    "gMixture_Global.get_alpha()\n",
    "plt.bar(np.arange(gMixture_Global.M),gMixture_Global.get_alpha())\n",
    "plt.show()"
   ]
  },
  {
   "cell_type": "code",
   "execution_count": 20,
   "metadata": {},
   "outputs": [
    {
     "name": "stdout",
     "output_type": "stream",
     "text": [
      "459\n"
     ]
    },
    {
     "ename": "NameError",
     "evalue": "name 'logL_Mchange' is not defined",
     "output_type": "error",
     "traceback": [
      "\u001b[0;31m---------------------------------------------------------------------------\u001b[0m",
      "\u001b[0;31mNameError\u001b[0m                                 Traceback (most recent call last)",
      "\u001b[0;32m<ipython-input-20-8d67406fc568>\u001b[0m in \u001b[0;36m<module>\u001b[0;34m()\u001b[0m\n\u001b[1;32m      1\u001b[0m \u001b[0;31m#T if i know T\u001b[0m\u001b[0;34m\u001b[0m\u001b[0;34m\u001b[0m\u001b[0m\n\u001b[1;32m      2\u001b[0m \u001b[0mprint\u001b[0m\u001b[0;34m(\u001b[0m\u001b[0mT\u001b[0m\u001b[0;34m)\u001b[0m\u001b[0;34m\u001b[0m\u001b[0m\n\u001b[0;32m----> 3\u001b[0;31m \u001b[0mM_values\u001b[0m \u001b[0;34m=\u001b[0m \u001b[0mrange\u001b[0m\u001b[0;34m(\u001b[0m\u001b[0;36m1\u001b[0m\u001b[0;34m,\u001b[0m\u001b[0;36m1\u001b[0m\u001b[0;34m+\u001b[0m\u001b[0mlen\u001b[0m\u001b[0;34m(\u001b[0m\u001b[0mlogL_Mchange\u001b[0m\u001b[0;34m)\u001b[0m\u001b[0;34m)\u001b[0m\u001b[0;34m\u001b[0m\u001b[0m\n\u001b[0m\u001b[1;32m      4\u001b[0m \u001b[0mt\u001b[0m \u001b[0;34m=\u001b[0m \u001b[0mpd\u001b[0m\u001b[0;34m.\u001b[0m\u001b[0mDataFrame\u001b[0m\u001b[0;34m(\u001b[0m\u001b[0;34m)\u001b[0m\u001b[0;34m\u001b[0m\u001b[0m\n\u001b[1;32m      5\u001b[0m \u001b[0mt\u001b[0m\u001b[0;34m[\u001b[0m\u001b[0;34m\"#Groups\"\u001b[0m\u001b[0;34m]\u001b[0m \u001b[0;34m=\u001b[0m \u001b[0mM_values\u001b[0m\u001b[0;34m\u001b[0m\u001b[0m\n",
      "\u001b[0;31mNameError\u001b[0m: name 'logL_Mchange' is not defined"
     ]
    }
   ],
   "source": [
    "#T if i know T\n",
    "print(T)\n",
    "M_values = range(1,1+len(logL_Mchange))\n",
    "t = pd.DataFrame()\n",
    "t[\"#Groups\"] = M_values\n",
    "t[\">=1 annotator\"] = [ np.sum(probas*T >= 1) for probas in probas_Mchange]\n",
    "t[\">=2 annotator\"] = [ np.sum(probas*T >= 2) for probas in probas_Mchange] #si agrupa al menos tiene 2\n",
    "t[\"Used on annotators\"] = [ len(np.unique(prob_Gt.argmax(axis=1))) for prob_Gt in probGt_Mchange ]#based on p(g|t)\n",
    "t[\"Used on annotators limit >=0.01\"] = [ np.sum(prob_Gt.max(axis=0)>=0.01) for prob_Gt in probGt_Mchange ]#based on p(g|t)\n",
    "t[\"Used on annotators limit >=0.05\"] = [ np.sum(prob_Gt.max(axis=0)>=0.05) for prob_Gt in probGt_Mchange ]#based on p(g|t)\n",
    "t"
   ]
  },
  {
   "cell_type": "markdown",
   "metadata": {},
   "source": [
    "1, 2 o 3..."
   ]
  },
  {
   "cell_type": "code",
   "execution_count": 161,
   "metadata": {},
   "outputs": [],
   "source": [
    "M_seted = 3 #??\n",
    "\n",
    "uniform = False\n",
    "if uniform:\n",
    "    uniform_groups = define_uniform_groups(0.1, r_obs, M_seted)\n",
    "    print(uniform_groups)"
   ]
  },
  {
   "cell_type": "code",
   "execution_count": 162,
   "metadata": {
    "scrolled": true
   },
   "outputs": [
    {
     "name": "stdout",
     "output_type": "stream",
     "text": [
      "Needed params (units,deep,drop,BatchN?)\n",
      "Initializing new EM...\n",
      "Doing clustering...Done!\n",
      "Get init alphas in 0.063289 mins\n",
      "Lambda by group:  [1. 1. 1.]\n",
      "Alphas:  (3,)\n",
      "MV init:  (19402, 4)\n",
      "Betas:  (3, 4, 4)\n",
      "Q estimate:  (19402, 4, 3, 4)\n",
      "Iter 1/50\n",
      "M step: done,  E step: done //  (in 3.34 sec)\tlogL: -40711.726\t\n",
      "Iter 2/50\n",
      "M step: done,  E step: done //  (in 0.90 sec)\tlogL: -39247.808\tTol1: 0.03596\tTol2: 0.30602\tTol3: 0.02017\t\n",
      "Iter 3/50\n",
      "M step: done,  E step: done //  (in 0.87 sec)\tlogL: -38831.075\tTol1: 0.01062\tTol2: 0.17421\tTol3: 0.00641\t\n",
      "Iter 4/50\n",
      "M step: done,  E step: done //  (in 0.94 sec)\tlogL: -38545.303\tTol1: 0.00736\tTol2: 0.11798\tTol3: 0.00442\t\n",
      "Iter 5/50\n",
      "M step: done,  E step: done //  (in 0.96 sec)\tlogL: -38176.741\tTol1: 0.00956\tTol2: 0.09352\tTol3: 0.00584\t\n",
      "Iter 6/50\n",
      "M step: done,  E step: done //  (in 0.94 sec)\tlogL: -37933.109\tTol1: 0.00638\tTol2: 0.08706\tTol3: 0.00822\t\n",
      "Iter 7/50\n",
      "M step: done,  E step: done //  (in 0.97 sec)\tlogL: -37621.880\tTol1: 0.00820\tTol2: 0.07675\tTol3: 0.02020\t\n",
      "Iter 8/50\n",
      "M step: done,  E step: done //  (in 0.91 sec)\tlogL: -37383.668\tTol1: 0.00633\tTol2: 0.06854\tTol3: 0.01544\t\n",
      "Iter 9/50\n",
      "M step: done,  E step: done //  (in 0.94 sec)\tlogL: -37128.380\tTol1: 0.00683\tTol2: 0.06302\tTol3: 0.01011\t\n",
      "Iter 10/50\n",
      "M step: done,  E step: done //  (in 0.95 sec)\tlogL: -36911.435\tTol1: 0.00584\tTol2: 0.05301\tTol3: 0.00662\t\n",
      "Iter 11/50\n",
      "M step: done,  E step: done //  (in 0.83 sec)\tlogL: -36732.245\tTol1: 0.00485\tTol2: 0.04937\tTol3: 0.00765\t\n",
      "Finished training!\n"
     ]
    }
   ],
   "source": [
    "gMixture_Global = GroupMixtureGlo(Xstd_train.shape[1:],Kl=r_obs.shape[1],M=M_seted,epochs=1,optimizer=OPT,dtype_op=DTYPE_OP) \n",
    "gMixture_Global.define_model(\"mlp\",128,1,BatchN=True,drop=0.5)\n",
    "\n",
    "if uniform:\n",
    "    gMixture_Global.define_priors(\"laplace\")\n",
    "    gMixture_Global.define_priors(uniform_groups)\n",
    "\n",
    "gMixture_Global.lambda_random = False \n",
    "logL_hists,i_r = gMixture_Global.multiples_run(1,Xstd_train,r_obs,\n",
    "                                               batch_size=BATCH_SIZE,max_iter=EPOCHS_BASE,tolerance=TOL*5/3)"
   ]
  },
  {
   "cell_type": "code",
   "execution_count": 165,
   "metadata": {},
   "outputs": [],
   "source": [
    "Z_train_p = gMixture_Global.get_predictions(Xstd_train)\n",
    "Z_train_pred = Z_train_p.argmax(axis=-1)\n",
    "Z_val_p = gMixture_Global.get_predictions(Xstd_val)\n",
    "Z_val_pred = Z_val_p.argmax(axis=-1)\n",
    "Z_test_p = gMixture_Global.get_predictions(Xstd_test)\n",
    "Z_test_pred = Z_test_p.argmax(axis=-1)"
   ]
  },
  {
   "cell_type": "code",
   "execution_count": 26,
   "metadata": {},
   "outputs": [
    {
     "ename": "TypeError",
     "evalue": "object of type 'numpy.float64' has no len()",
     "output_type": "error",
     "traceback": [
      "\u001b[0;31m---------------------------------------------------------------------------\u001b[0m",
      "\u001b[0;31mTypeError\u001b[0m                                 Traceback (most recent call last)",
      "\u001b[0;32m<ipython-input-26-b5e33b13b649>\u001b[0m in \u001b[0;36m<module>\u001b[0;34m()\u001b[0m\n\u001b[1;32m      2\u001b[0m \u001b[0;32mfor\u001b[0m \u001b[0ma\u001b[0m\u001b[0;34m,\u001b[0m \u001b[0mvalue\u001b[0m \u001b[0;32min\u001b[0m \u001b[0menumerate\u001b[0m\u001b[0;34m(\u001b[0m\u001b[0mlogL_hists\u001b[0m\u001b[0;34m)\u001b[0m\u001b[0;34m:\u001b[0m \u001b[0;31m#logL_hists\u001b[0m\u001b[0;34m\u001b[0m\u001b[0m\n\u001b[1;32m      3\u001b[0m     \u001b[0;32mif\u001b[0m \u001b[0ma\u001b[0m \u001b[0;34m!=\u001b[0m \u001b[0mi_r\u001b[0m\u001b[0;34m:\u001b[0m\u001b[0;34m\u001b[0m\u001b[0m\n\u001b[0;32m----> 4\u001b[0;31m         \u001b[0mplt\u001b[0m\u001b[0;34m.\u001b[0m\u001b[0mplot\u001b[0m\u001b[0;34m(\u001b[0m\u001b[0mrange\u001b[0m\u001b[0;34m(\u001b[0m\u001b[0mlen\u001b[0m\u001b[0;34m(\u001b[0m\u001b[0mvalue\u001b[0m\u001b[0;34m)\u001b[0m\u001b[0;34m)\u001b[0m\u001b[0;34m,\u001b[0m\u001b[0mvalue\u001b[0m\u001b[0;34m,\u001b[0m\u001b[0;34m'.-'\u001b[0m\u001b[0;34m)\u001b[0m\u001b[0;34m\u001b[0m\u001b[0m\n\u001b[0m\u001b[1;32m      5\u001b[0m \u001b[0mplt\u001b[0m\u001b[0;34m.\u001b[0m\u001b[0mplot\u001b[0m\u001b[0;34m(\u001b[0m\u001b[0mrange\u001b[0m\u001b[0;34m(\u001b[0m\u001b[0mlen\u001b[0m\u001b[0;34m(\u001b[0m\u001b[0mlogL_hists\u001b[0m\u001b[0;34m[\u001b[0m\u001b[0mi_r\u001b[0m\u001b[0;34m]\u001b[0m\u001b[0;34m)\u001b[0m\u001b[0;34m)\u001b[0m\u001b[0;34m,\u001b[0m\u001b[0mlogL_hists\u001b[0m\u001b[0;34m[\u001b[0m\u001b[0mi_r\u001b[0m\u001b[0;34m]\u001b[0m\u001b[0;34m,\u001b[0m\u001b[0;34m'o-'\u001b[0m\u001b[0;34m,\u001b[0m\u001b[0mmarkersize\u001b[0m\u001b[0;34m=\u001b[0m\u001b[0;36m10\u001b[0m\u001b[0;34m,\u001b[0m\u001b[0mlabel\u001b[0m\u001b[0;34m=\u001b[0m\u001b[0;34m\"Selected run\"\u001b[0m\u001b[0;34m)\u001b[0m\u001b[0;34m\u001b[0m\u001b[0m\n\u001b[1;32m      6\u001b[0m \u001b[0mplt\u001b[0m\u001b[0;34m.\u001b[0m\u001b[0mlegend\u001b[0m\u001b[0;34m(\u001b[0m\u001b[0;34m)\u001b[0m\u001b[0;34m\u001b[0m\u001b[0m\n",
      "\u001b[0;31mTypeError\u001b[0m: object of type 'numpy.float64' has no len()"
     ]
    },
    {
     "data": {
      "text/plain": [
       "<Figure size 1080x504 with 0 Axes>"
      ]
     },
     "metadata": {},
     "output_type": "display_data"
    }
   ],
   "source": [
    "plt.figure(figsize=(15,7))\n",
    "for a, value in enumerate(logL_hists): #logL_hists\n",
    "    if a != i_r:\n",
    "        plt.plot(range(len(value)),value,'.-')\n",
    "plt.plot(range(len(logL_hists[i_r])),logL_hists[i_r],'o-',markersize=10,label=\"Selected run\")\n",
    "plt.legend()\n",
    "plt.show()"
   ]
  },
  {
   "cell_type": "code",
   "execution_count": null,
   "metadata": {},
   "outputs": [],
   "source": []
  },
  {
   "cell_type": "code",
   "execution_count": 167,
   "metadata": {},
   "outputs": [
    {
     "name": "stdout",
     "output_type": "stream",
     "text": [
      "shape of annotator representation (T, R_t)= (1361, 1361)\n"
     ]
    }
   ],
   "source": [
    "Y_ann_train, T_idx = set_representation(y_obs,\"onehotvar\")\n",
    "T_idx_unique = np.arange(T).reshape(-1,1)\n",
    "\n",
    "A = keras.utils.to_categorical(np.arange(T), num_classes=T) #fast way\n",
    "print(\"shape of annotator representation (T, R_t)=\", A.shape)"
   ]
  },
  {
   "cell_type": "code",
   "execution_count": 168,
   "metadata": {
    "scrolled": true
   },
   "outputs": [
    {
     "name": "stdout",
     "output_type": "stream",
     "text": [
      "shape of annotator representation (T, R_t)= (1361, 16)\n"
     ]
    },
    {
     "data": {
      "image/png": "[encoded data removed]",
      "text/plain": [
       "<Figure size 432x288 with 1 Axes>"
      ]
     },
     "metadata": {},
     "output_type": "display_data"
    },
    {
     "data": {
      "image/png": "[encoded data removed]",
      "text/plain": [
       "<Figure size 432x288 with 1 Axes>"
      ]
     },
     "metadata": {},
     "output_type": "display_data"
    },
    {
     "data": {
      "text/plain": [
       "array([[25., 36., 83., 29.],\n",
       "       [37.,  6.,  7., 21.],\n",
       "       [ 2.,  2.,  8.,  4.],\n",
       "       ...,\n",
       "       [ 1.,  0.,  2.,  0.],\n",
       "       [ 0.,  2.,  0.,  0.],\n",
       "       [ 0.,  1.,  1.,  0.]])"
      ]
     },
     "execution_count": 168,
     "metadata": {},
     "output_type": "execute_result"
    }
   ],
   "source": [
    "from code.MixtureofGroups import *\n",
    "conf_mat, conf_mat_norm  = build_conf_Yvar(Y_ann_train, T_idx, r_obs.argmax(axis=-1))\n",
    "\n",
    "A_rep = conf_mat_norm.reshape(conf_mat_norm.shape[0], Kl**2) #flatten\n",
    "#A_rep = np.zeros((conf_mat.shape[0], Kl))\n",
    "#for t in range(A_rep.shape[0]):\n",
    "#    A_rep[t] = JS_confmatrixs(conf_mat_norm[t], np.identity(Kl),raw=True) #distancia a I (MV)\n",
    "    \n",
    "print(\"shape of annotator representation (T, R_t)=\", A_rep.shape)\n",
    "\n",
    "from sklearn.decomposition import PCA\n",
    "model = PCA(2)\n",
    "aux_pca = model.fit_transform(A_rep)\n",
    "plt.scatter(aux_pca[:,0],aux_pca[:,1])\n",
    "plt.show()\n",
    "\n",
    "\n",
    "A_rep = np.zeros((y_obs.shape[1], Kl))\n",
    "for i in range(N):\n",
    "    for l, t_idx in enumerate(T_idx[i]):\n",
    "        obs_t = Y_ann_train[i][l].argmax(axis=-1)\n",
    "        A_rep[t_idx, obs_t] += 1\n",
    "    \n",
    "from sklearn.decomposition import PCA\n",
    "model = PCA(2)\n",
    "aux_pca = model.fit_transform(A_rep)\n",
    "plt.scatter(aux_pca[:,0],aux_pca[:,1])\n",
    "plt.show()\n",
    "A_rep"
   ]
  },
  {
   "cell_type": "code",
   "execution_count": 169,
   "metadata": {},
   "outputs": [],
   "source": [
    "#different M_seted??\n",
    "M_seted = 3"
   ]
  },
  {
   "cell_type": "code",
   "execution_count": 170,
   "metadata": {
    "scrolled": true
   },
   "outputs": [
    {
     "name": "stdout",
     "output_type": "stream",
     "text": [
      "Needed params (units,deep,drop,BatchN?)\n",
      "Initializing new EM...\n",
      "A = Son ortonormales / No fueron entregados!\n",
      "Doing clustering...Done!\n",
      "Get init alphas in 0.002219 mins\n",
      "Lambda by group:  [1. 1. 1.]\n",
      "Pre-train networks over *z* on 3 epochs... Done!\n",
      "MV init:  (19402, 4)\n",
      "Betas:  (3, 4, 4)\n",
      "Q estimate:  (37782, 3, 4)\n",
      "Iter 1/50\n",
      "M step: done,  E step: done //  (in 6.90 sec)\tlogL: -39787.774\t\n",
      "Iter 2/50\n",
      "M step: done,  E step: done //  (in 1.87 sec)\tlogL: -38004.306\tTol1: 0.04482\tTol2: 0.23823\t\n",
      "Iter 3/50\n",
      "M step: done,  E step: done //  (in 1.98 sec)\tlogL: -37124.403\tTol1: 0.02315\tTol2: 0.20678\t\n",
      "Iter 4/50\n",
      "M step: done,  E step: done //  (in 2.01 sec)\tlogL: -36385.977\tTol1: 0.01989\tTol2: 0.18136\t\n",
      "Iter 5/50\n",
      "M step: done,  E step: done //  (in 2.04 sec)\tlogL: -35787.638\tTol1: 0.01644\tTol2: 0.16163\t\n",
      "Iter 6/50\n",
      "M step: done,  E step: done //  (in 1.88 sec)\tlogL: -35117.250\tTol1: 0.01873\tTol2: 0.16999\t\n",
      "Iter 7/50\n",
      "M step: done,  E step: done //  (in 1.85 sec)\tlogL: -34558.808\tTol1: 0.01590\tTol2: 0.15307\t\n",
      "Iter 8/50\n",
      "M step: done,  E step: done //  (in 1.97 sec)\tlogL: -33973.370\tTol1: 0.01694\tTol2: 0.13525\t\n",
      "Iter 9/50\n",
      "M step: done,  E step: done //  (in 2.18 sec)\tlogL: -33512.110\tTol1: 0.01358\tTol2: 0.12694\t\n",
      "Iter 10/50\n",
      "M step: done,  E step: done //  (in 1.89 sec)\tlogL: -33028.612\tTol1: 0.01443\tTol2: 0.11572\t\n",
      "Iter 11/50\n",
      "M step: done,  E step: done //  (in 1.81 sec)\tlogL: -32518.315\tTol1: 0.01545\tTol2: 0.09626\t\n",
      "Iter 12/50\n",
      "M step: done,  E step: done //  (in 1.94 sec)\tlogL: -32184.971\tTol1: 0.01025\tTol2: 0.08246\t\n",
      "Iter 13/50\n",
      "M step: done,  E step: done //  (in 1.95 sec)\tlogL: -31895.312\tTol1: 0.00900\tTol2: 0.09794\t\n",
      "Iter 14/50\n",
      "M step: done,  E step: done //  (in 2.15 sec)\tlogL: -31607.604\tTol1: 0.00902\tTol2: 0.07819\t\n",
      "Iter 15/50\n",
      "M step: done,  E step: done //  (in 1.99 sec)\tlogL: -31173.257\tTol1: 0.01374\tTol2: 0.12596\t\n",
      "Iter 16/50\n",
      "M step: done,  E step: done //  (in 1.96 sec)\tlogL: -30970.564\tTol1: 0.00650\tTol2: 0.06938\t\n",
      "Iter 17/50\n",
      "M step: done,  E step: done //  (in 1.98 sec)\tlogL: -30594.914\tTol1: 0.01213\tTol2: 0.08268\t\n",
      "Iter 18/50\n",
      "M step: done,  E step: done //  (in 2.06 sec)\tlogL: -30306.758\tTol1: 0.00942\tTol2: 0.06248\t\n",
      "Iter 19/50\n",
      "M step: done,  E step: done //  (in 2.05 sec)\tlogL: -30006.437\tTol1: 0.00991\tTol2: 0.06516\t\n",
      "Iter 20/50\n",
      "M step: done,  E step: done //  (in 2.04 sec)\tlogL: -29776.175\tTol1: 0.00767\tTol2: 0.06601\t\n",
      "Iter 21/50\n",
      "M step: done,  E step: done //  (in 1.99 sec)\tlogL: -29591.941\tTol1: 0.00619\tTol2: 0.04524\t\n",
      "Finished training!\n"
     ]
    }
   ],
   "source": [
    "gMixture_Ind1 = GroupMixtureInd(Xstd_train.shape[1:],Kl=Kl,M=M_seted,epochs=1,optimizer=OPT,dtype_op=DTYPE_OP) \n",
    "gMixture_Ind1.define_model(\"mlp\",128,1,BatchN=True,drop=0.5)\n",
    "\n",
    "#gMixture_Ind.define_model_group(\"mlp\", T, M_seted, 1, BatchN=True, embed=True, embed_M=A) #con o sin BN\n",
    "gMixture_Ind1.define_model_group(\"perceptron\",T, M_seted, embed=True, embed_M=A, BatchN=True,bias=False)\n",
    "\n",
    "logL_hists,i = gMixture_Ind1.multiples_run(1,Xstd_train,Y_ann_train, T_idx, A=[], batch_size=BATCH_SIZE,\n",
    "                                    pre_init_z=3,pre_init_g=0,max_iter=EPOCHS_BASE,tolerance=TOL*5/3)"
   ]
  },
  {
   "cell_type": "code",
   "execution_count": 171,
   "metadata": {},
   "outputs": [],
   "source": [
    "Z_train_p = gMixture_Ind1.get_predictions_z(Xstd_train)\n",
    "Z_train_pred = Z_train_p.argmax(axis=-1)\n",
    "Z_val_p = gMixture_Ind1.get_predictions_z(Xstd_val)\n",
    "Z_val_pred = Z_val_p.argmax(axis=-1)\n",
    "Z_test_p = gMixture_Ind1.get_predictions_z(Xstd_test)\n",
    "Z_test_pred = Z_test_p.argmax(axis=-1)\n",
    "prob_Gt = gMixture_Ind1.get_predictions_g(T_idx_unique) "
   ]
  },
  {
   "cell_type": "code",
   "execution_count": 30,
   "metadata": {},
   "outputs": [
    {
     "ename": "NameError",
     "evalue": "name 'Xstd_train' is not defined",
     "output_type": "error",
     "traceback": [
      "\u001b[0;31m---------------------------------------------------------------------------\u001b[0m",
      "\u001b[0;31mNameError\u001b[0m                                 Traceback (most recent call last)",
      "\u001b[0;32m<ipython-input-30-5cbf0084a3cd>\u001b[0m in \u001b[0;36m<module>\u001b[0;34m()\u001b[0m\n\u001b[0;32m----> 1\u001b[0;31m \u001b[0mgMixture_Ind2\u001b[0m \u001b[0;34m=\u001b[0m \u001b[0mGroupMixtureInd\u001b[0m\u001b[0;34m(\u001b[0m\u001b[0mXstd_train\u001b[0m\u001b[0;34m.\u001b[0m\u001b[0mshape\u001b[0m\u001b[0;34m[\u001b[0m\u001b[0;36m1\u001b[0m\u001b[0;34m:\u001b[0m\u001b[0;34m]\u001b[0m\u001b[0;34m,\u001b[0m\u001b[0mKl\u001b[0m\u001b[0;34m=\u001b[0m\u001b[0mKl\u001b[0m\u001b[0;34m,\u001b[0m\u001b[0mM\u001b[0m\u001b[0;34m=\u001b[0m\u001b[0mM_seted\u001b[0m\u001b[0;34m,\u001b[0m\u001b[0mepochs\u001b[0m\u001b[0;34m=\u001b[0m\u001b[0;36m1\u001b[0m\u001b[0;34m,\u001b[0m\u001b[0moptimizer\u001b[0m\u001b[0;34m=\u001b[0m\u001b[0mOPT\u001b[0m\u001b[0;34m,\u001b[0m\u001b[0mdtype_op\u001b[0m\u001b[0;34m=\u001b[0m\u001b[0mDTYPE_OP\u001b[0m\u001b[0;34m)\u001b[0m\u001b[0;34m\u001b[0m\u001b[0m\n\u001b[0m\u001b[1;32m      2\u001b[0m \u001b[0mgMixture_Ind2\u001b[0m\u001b[0;34m.\u001b[0m\u001b[0mdefine_model\u001b[0m\u001b[0;34m(\u001b[0m\u001b[0;34m\"mlp\"\u001b[0m\u001b[0;34m,\u001b[0m\u001b[0;36m128\u001b[0m\u001b[0;34m,\u001b[0m\u001b[0;36m1\u001b[0m\u001b[0;34m,\u001b[0m\u001b[0mBatchN\u001b[0m\u001b[0;34m=\u001b[0m\u001b[0;32mFalse\u001b[0m\u001b[0;34m,\u001b[0m\u001b[0mdrop\u001b[0m\u001b[0;34m=\u001b[0m\u001b[0;36m0.5\u001b[0m\u001b[0;34m)\u001b[0m\u001b[0;34m\u001b[0m\u001b[0m\n\u001b[1;32m      3\u001b[0m \u001b[0;31m#gMixture_Ind.define_model_group(\"mlp\", T, M_seted, 1, BatchN=True, embed=True, embed_M=A) #con o sin BN\u001b[0m\u001b[0;34m\u001b[0m\u001b[0;34m\u001b[0m\u001b[0m\n\u001b[1;32m      4\u001b[0m \u001b[0;31m#gMixture_Ind.define_model_group(\"keras_shallow\", T, M_seted,embed=True, embed_M=A) #pareciera ser necesario pr-init\u001b[0m\u001b[0;34m\u001b[0m\u001b[0;34m\u001b[0m\u001b[0m\n\u001b[1;32m      5\u001b[0m \u001b[0;34m\u001b[0m\u001b[0m\n",
      "\u001b[0;31mNameError\u001b[0m: name 'Xstd_train' is not defined"
     ]
    }
   ],
   "source": [
    "gMixture_Ind2 = GroupMixtureInd(Xstd_train.shape[1:],Kl=Kl,M=M_seted,epochs=1,optimizer=OPT,dtype_op=DTYPE_OP) \n",
    "gMixture_Ind2.define_model(\"mlp\",128,1,BatchN=True,drop=0.5)\n",
    "#gMixture_Ind.define_model_group(\"mlp\", T, M_seted, 1, BatchN=True, embed=True, embed_M=A) #con o sin BN\n",
    "#gMixture_Ind.define_model_group(\"keras_shallow\", T, M_seted,embed=True, embed_M=A) #pareciera ser necesario pr-init\n",
    "\n",
    "logL_hists,i = gMixture_Ind2.multiples_run(20,Xstd_train,Y_ann_train, T_idx, A=[], batch_size=BATCH_SIZE,\n",
    "                                    pre_init_z=3,pre_init_g=0,max_iter=EPOCHS_BASE,tolerance=TOL)"
   ]
  },
  {
   "cell_type": "code",
   "execution_count": 38,
   "metadata": {},
   "outputs": [
    {
     "data": {
      "text/plain": [
       "array([[0.12162162, 0.2027027 , 0.51351351, 0.16216216],\n",
       "       [0.52857143, 0.08571429, 0.1       , 0.28571429],\n",
       "       [0.13333333, 0.13333333, 0.53333333, 0.2       ],\n",
       "       ...,\n",
       "       [0.2       , 0.8       , 0.        , 0.        ],\n",
       "       [0.        , 0.5       , 0.5       , 0.        ],\n",
       "       [0.        , 1.        , 0.        , 0.        ]])"
      ]
     },
     "execution_count": 38,
     "metadata": {},
     "output_type": "execute_result"
    }
   ],
   "source": [
    "A_rep = A_rep/A_rep.sum(axis=-1,keepdims=True)\n",
    "A_rep"
   ]
  },
  {
   "cell_type": "code",
   "execution_count": 45,
   "metadata": {
    "scrolled": true
   },
   "outputs": [
    {
     "name": "stdout",
     "output_type": "stream",
     "text": [
      "Needed params (units,deep,drop,BatchN?)\n",
      "Needed params (units,deep,drop,BatchN?)\n",
      "Initializing new EM...\n",
      "Doing clustering...Done!\n",
      "Get init alphas in 0.000258 mins\n",
      "Lambda by group:  [1. 1. 1.]\n",
      "Pre-train networks over *z* on 3 epochs... Done!\n",
      "MV init:  (17331, 4)\n",
      "Betas:  (3, 4, 4)\n",
      "Q estimate:  (33746, 3, 4)\n",
      "Iter 1/50\n",
      "M step: done,  E step: done //  (in 4.13 sec)\tlogL: -35946.977\t\n",
      "Iter 2/50\n",
      "M step: done,  E step: done //  (in 1.33 sec)\tlogL: -34538.540\tTol1: 0.03918\tTol2: 0.25040\t\n",
      "Iter 3/50\n",
      "M step: done,  E step: done //  (in 1.28 sec)\tlogL: -33782.731\tTol1: 0.02188\tTol2: 0.20455\t\n",
      "Iter 4/50\n",
      "M step: done,  E step: done //  (in 1.42 sec)\tlogL: -33292.438\tTol1: 0.01451\tTol2: 0.16790\t\n",
      "Iter 5/50\n",
      "M step: done,  E step: done //  (in 1.25 sec)\tlogL: -32842.724\tTol1: 0.01351\tTol2: 0.14674\t\n",
      "Iter 6/50\n",
      "M step: done,  E step: done //  (in 1.38 sec)\tlogL: -32446.367\tTol1: 0.01207\tTol2: 0.13691\t\n",
      "Iter 7/50\n",
      "M step: done,  E step: done //  (in 1.35 sec)\tlogL: -32150.262\tTol1: 0.00913\tTol2: 0.12532\t\n",
      "Iter 8/50\n",
      "M step: done,  E step: done //  (in 1.36 sec)\tlogL: -31672.612\tTol1: 0.01486\tTol2: 0.14443\t\n",
      "Iter 9/50\n",
      "M step: done,  E step: done //  (in 1.42 sec)\tlogL: -31205.045\tTol1: 0.01476\tTol2: 0.13974\t\n",
      "Iter 10/50\n",
      "M step: done,  E step: done //  (in 1.19 sec)\tlogL: -30852.667\tTol1: 0.01129\tTol2: 0.15249\t\n",
      "Iter 11/50\n",
      "M step: done,  E step: done //  (in 1.42 sec)\tlogL: -30529.032\tTol1: 0.01049\tTol2: 0.12239\t\n",
      "Iter 12/50\n",
      "M step: done,  E step: done //  (in 1.40 sec)\tlogL: -30007.971\tTol1: 0.01707\tTol2: 0.12571\t\n",
      "Iter 13/50\n",
      "M step: done,  E step: done //  (in 1.38 sec)\tlogL: -29554.544\tTol1: 0.01511\tTol2: 0.10167\t\n",
      "Iter 14/50\n",
      "M step: done,  E step: done //  (in 1.36 sec)\tlogL: -29172.510\tTol1: 0.01293\tTol2: 0.08283\t\n",
      "Iter 15/50\n",
      "M step: done,  E step: done //  (in 1.39 sec)\tlogL: -28987.200\tTol1: 0.00635\tTol2: 0.10008\t\n",
      "Iter 16/50\n",
      "M step: done,  E step: done //  (in 1.37 sec)\tlogL: -28539.828\tTol1: 0.01543\tTol2: 0.08402\t\n",
      "Iter 17/50\n",
      "M step: done,  E step: done //  (in 1.49 sec)\tlogL: -28165.591\tTol1: 0.01311\tTol2: 0.07875\t\n",
      "Iter 18/50\n",
      "M step: done,  E step: done //  (in 1.41 sec)\tlogL: -28037.513\tTol1: 0.00455\tTol2: 0.07840\t\n",
      "Iter 19/50\n",
      "M step: done,  E step: done //  (in 1.49 sec)\tlogL: -27850.601\tTol1: 0.00667\tTol2: 0.06719\t\n",
      "Iter 20/50\n",
      "M step: done,  E step: done //  (in 1.42 sec)\tlogL: -27596.248\tTol1: 0.00913\tTol2: 0.06811\t\n",
      "Iter 21/50\n",
      "M step: done,  E step: done //  (in 1.46 sec)\tlogL: -27288.362\tTol1: 0.01116\tTol2: 0.05272\t\n",
      "Iter 22/50\n",
      "M step: done,  E step: done //  (in 1.42 sec)\tlogL: -26942.767\tTol1: 0.01266\tTol2: 0.06554\t\n",
      "Iter 23/50\n",
      "M step: done,  E step: done //  (in 1.54 sec)\tlogL: -26710.635\tTol1: 0.00862\tTol2: 0.04381\t\n",
      "Finished training!\n"
     ]
    }
   ],
   "source": [
    "gMixture_Ind3 = GroupMixtureInd(Xstd_train.shape[1:],Kl=Kl,M=M_seted,epochs=1,optimizer=OPT,dtype_op=DTYPE_OP) \n",
    "gMixture_Ind3.define_model(\"mlp\",128,1,BatchN=True,drop=0.5)\n",
    "gMixture_Ind3.define_model_group(\"mlp\", A_rep.shape[1], Kl*M_seted, 1, BatchN=False, embed=False) #con BN y A norm\n",
    "\n",
    "logL_hists,i_r = gMixture_Ind3.multiples_run(1,Xstd_train,Y_ann_train, T_idx, A=A_rep, batch_size=BATCH_SIZE,\n",
    "                                   pre_init_z=3,pre_init_g=0,max_iter=EPOCHS_BASE,tolerance=TOL*5/3) "
   ]
  },
  {
   "cell_type": "code",
   "execution_count": 46,
   "metadata": {
    "scrolled": true
   },
   "outputs": [],
   "source": [
    "Z_train_p = gMixture_Ind3.get_predictions_z(Xstd_train)\n",
    "Z_train_pred = Z_train_p.argmax(axis=-1)\n",
    "Z_val_p = gMixture_Ind3.get_predictions_z(Xstd_val)\n",
    "Z_val_pred = Z_val_p.argmax(axis=-1)\n",
    "Z_test_p = gMixture_Ind3.get_predictions_z(Xstd_test)\n",
    "Z_test_pred = Z_test_p.argmax(axis=-1)\n",
    "prob_Gt = gMixture_Ind3.get_predictions_g(A_rep) "
   ]
  },
  {
   "cell_type": "markdown",
   "metadata": {},
   "source": [
    "### Compare trained models"
   ]
  },
  {
   "cell_type": "code",
   "execution_count": 17,
   "metadata": {},
   "outputs": [],
   "source": [
    "#Import it:\n",
    "from code.evaluation import Evaluation_metrics\n",
    "\n",
    "colors = {0: 'b', 1:'r' ,2:'g'}\n",
    "marker_s = {0: 'X', 1:'o', 2:'P'}\n",
    "\n",
    "def plot_alphas(alphas_training):\n",
    "    values = np.asarray(alphas_training)\n",
    "    if len(values.shape) == 3:\n",
    "        group_f = values[-1].argmax(axis=-1) #coloreado por el grupo del final..\n",
    "        \n",
    "        for m in range(M_seted):\n",
    "            plt.figure(figsize=(15,7))\n",
    "            for t in range(values.shape[1]):\n",
    "                plt.plot(values[:,t,m], color=colors[group_f[t]], markersize=5)\n",
    "            plt.title(\"Group \"+str(m))\n",
    "            plt.show()\n",
    "\n",
    "        plt.figure(figsize=(15,10))\n",
    "        for t in range(values.shape[1]):\n",
    "            grupos_t_train = values[:,t,:].argmax(axis=-1)+t/values.shape[1]\n",
    "            plt.plot(grupos_t_train, markersize=5, color=colors[group_f[t]])\n",
    "            #plt.plot(grupos_t_train, markersize=5, marker=marker_s[group_f[t]])\n",
    "\n",
    "        for m in range(M_seted+1):\n",
    "            plt.hlines(m, 0,values.shape[0], linestyles=\"dashed\")\n",
    "        plt.show()\n",
    "        \n",
    "    else:\n",
    "        plt.figure(figsize=(15,7))\n",
    "        for m in range(M_seted):\n",
    "            plt.plot(values[:,m], color=colors[m], markersize=5, label=\"Group \"+str(m))\n",
    "        plt.legend()\n",
    "        plt.show()"
   ]
  },
  {
   "cell_type": "code",
   "execution_count": 36,
   "metadata": {},
   "outputs": [
    {
     "name": "stdout",
     "output_type": "stream",
     "text": [
      "*** Upper bound (Train with GT) ***\n",
      "Train\n",
      "A result\n"
     ]
    },
    {
     "data": {
      "text/html": [
       "<div>\n",
       "<style scoped>\n",
       "    .dataframe tbody tr th:only-of-type {\n",
       "        vertical-align: middle;\n",
       "    }\n",
       "\n",
       "    .dataframe tbody tr th {\n",
       "        vertical-align: top;\n",
       "    }\n",
       "\n",
       "    .dataframe thead th {\n",
       "        text-align: right;\n",
       "    }\n",
       "</style>\n",
       "<table border=\"1\" class=\"dataframe\">\n",
       "  <thead>\n",
       "    <tr style=\"text-align: right;\">\n",
       "      <th></th>\n",
       "      <th></th>\n",
       "      <th>Accuracy</th>\n",
       "      <th>F1 (micro)</th>\n",
       "      <th>F1 (macro)</th>\n",
       "    </tr>\n",
       "  </thead>\n",
       "  <tbody>\n",
       "    <tr>\n",
       "      <th>0</th>\n",
       "      <td>All</td>\n",
       "      <td>0.6832</td>\n",
       "      <td>0.6832</td>\n",
       "      <td>0.672</td>\n",
       "    </tr>\n",
       "  </tbody>\n",
       "</table>\n",
       "</div>"
      ],
      "text/plain": [
       "        Accuracy  F1 (micro)  F1 (macro)\n",
       "0  All    0.6832      0.6832       0.672"
      ]
     },
     "metadata": {},
     "output_type": "display_data"
    },
    {
     "name": "stdout",
     "output_type": "stream",
     "text": [
      "Test\n",
      "A result\n"
     ]
    },
    {
     "data": {
      "text/html": [
       "<div>\n",
       "<style scoped>\n",
       "    .dataframe tbody tr th:only-of-type {\n",
       "        vertical-align: middle;\n",
       "    }\n",
       "\n",
       "    .dataframe tbody tr th {\n",
       "        vertical-align: top;\n",
       "    }\n",
       "\n",
       "    .dataframe thead th {\n",
       "        text-align: right;\n",
       "    }\n",
       "</style>\n",
       "<table border=\"1\" class=\"dataframe\">\n",
       "  <thead>\n",
       "    <tr style=\"text-align: right;\">\n",
       "      <th></th>\n",
       "      <th></th>\n",
       "      <th>Accuracy</th>\n",
       "      <th>F1 (micro)</th>\n",
       "      <th>F1 (macro)</th>\n",
       "    </tr>\n",
       "  </thead>\n",
       "  <tbody>\n",
       "    <tr>\n",
       "      <th>0</th>\n",
       "      <td>All</td>\n",
       "      <td>0.7892</td>\n",
       "      <td>0.7892</td>\n",
       "      <td>0.7489</td>\n",
       "    </tr>\n",
       "  </tbody>\n",
       "</table>\n",
       "</div>"
      ],
      "text/plain": [
       "        Accuracy  F1 (micro)  F1 (macro)\n",
       "0  All    0.7892      0.7892      0.7489"
      ]
     },
     "metadata": {},
     "output_type": "display_data"
    }
   ],
   "source": [
    "evaluate = Evaluation_metrics(model_UB,'keras',Xstd_train.shape[0])\n",
    "print(\"*** Upper bound (Train with GT) ***\")\n",
    "\n",
    "print(\"Train\")\n",
    "results1 = evaluate.calculate_metrics(Z=Z_train,Z_pred=Z_train_pred)\n",
    "\n",
    "print(\"Test\")\n",
    "results2 = evaluate.calculate_metrics(Z=Z_val,Z_pred=Z_val_pred)"
   ]
  },
  {
   "cell_type": "code",
   "execution_count": 38,
   "metadata": {
    "scrolled": true
   },
   "outputs": [
    {
     "name": "stdout",
     "output_type": "stream",
     "text": [
      "*** Soft-Majority (Train with softMV) ***\n",
      "Train\n",
      "Calculate confusion matrix on repeat version\n"
     ]
    },
    {
     "data": {
      "image/png": "[encoded data removed]",
      "text/plain": [
       "<Figure size 432x288 with 2 Axes>"
      ]
     },
     "metadata": {},
     "output_type": "display_data"
    },
    {
     "name": "stdout",
     "output_type": "stream",
     "text": [
      "JS divergence: 0.1607\tNorm Frobenius: 0.2088\n"
     ]
    },
    {
     "data": {
      "image/png": "[encoded data removed]",
      "text/plain": [
       "<Figure size 432x288 with 2 Axes>"
      ]
     },
     "metadata": {},
     "output_type": "display_data"
    },
    {
     "name": "stdout",
     "output_type": "stream",
     "text": [
      "JS divergence: 0.0844\tNorm Frobenius: 0.1494\n"
     ]
    },
    {
     "data": {
      "image/png": "[encoded data removed]",
      "text/plain": [
       "<Figure size 432x288 with 2 Axes>"
      ]
     },
     "metadata": {},
     "output_type": "display_data"
    },
    {
     "name": "stdout",
     "output_type": "stream",
     "text": [
      "JS divergence: 0.1199\tNorm Frobenius: 0.1946\n"
     ]
    },
    {
     "data": {
      "image/png": "[encoded data removed]",
      "text/plain": [
       "<Figure size 432x288 with 2 Axes>"
      ]
     },
     "metadata": {},
     "output_type": "display_data"
    },
    {
     "name": "stdout",
     "output_type": "stream",
     "text": [
      "JS divergence: 0.2301\tNorm Frobenius: 0.2857\n"
     ]
    },
    {
     "data": {
      "image/png": "[encoded data removed]",
      "text/plain": [
       "<Figure size 432x288 with 2 Axes>"
      ]
     },
     "metadata": {},
     "output_type": "display_data"
    },
    {
     "name": "stdout",
     "output_type": "stream",
     "text": [
      "JS divergence: 0.1678\tNorm Frobenius: 0.2612\n"
     ]
    },
    {
     "data": {
      "image/png": "[encoded data removed]",
      "text/plain": [
       "<Figure size 432x288 with 2 Axes>"
      ]
     },
     "metadata": {},
     "output_type": "display_data"
    },
    {
     "name": "stdout",
     "output_type": "stream",
     "text": [
      "JS divergence: 0.1206\tNorm Frobenius: 0.1834\n"
     ]
    },
    {
     "data": {
      "image/png": "[encoded data removed]",
      "text/plain": [
       "<Figure size 432x288 with 2 Axes>"
      ]
     },
     "metadata": {},
     "output_type": "display_data"
    },
    {
     "name": "stdout",
     "output_type": "stream",
     "text": [
      "JS divergence: 0.0587\tNorm Frobenius: 0.1502\n"
     ]
    },
    {
     "data": {
      "image/png": "[encoded data removed]",
      "text/plain": [
       "<Figure size 432x288 with 2 Axes>"
      ]
     },
     "metadata": {},
     "output_type": "display_data"
    },
    {
     "name": "stdout",
     "output_type": "stream",
     "text": [
      "JS divergence: 0.0164\tNorm Frobenius: 0.0388\n"
     ]
    },
    {
     "data": {
      "image/png": "[encoded data removed]",
      "text/plain": [
       "<Figure size 432x288 with 2 Axes>"
      ]
     },
     "metadata": {},
     "output_type": "display_data"
    },
    {
     "name": "stdout",
     "output_type": "stream",
     "text": [
      "JS divergence: 0.2104\tNorm Frobenius: 0.2802\n"
     ]
    },
    {
     "data": {
      "image/png": "[encoded data removed]",
      "text/plain": [
       "<Figure size 432x288 with 2 Axes>"
      ]
     },
     "metadata": {},
     "output_type": "display_data"
    },
    {
     "name": "stdout",
     "output_type": "stream",
     "text": [
      "JS divergence: 0.1342\tNorm Frobenius: 0.1779\n"
     ]
    },
    {
     "data": {
      "image/png": "[encoded data removed]",
      "text/plain": [
       "<Figure size 432x288 with 2 Axes>"
      ]
     },
     "metadata": {},
     "output_type": "display_data"
    },
    {
     "name": "stdout",
     "output_type": "stream",
     "text": [
      "JS divergence: 0.1387\tNorm Frobenius: 0.2125\n"
     ]
    },
    {
     "data": {
      "image/png": "[encoded data removed]",
      "text/plain": [
       "<Figure size 432x288 with 2 Axes>"
      ]
     },
     "metadata": {},
     "output_type": "display_data"
    },
    {
     "name": "stdout",
     "output_type": "stream",
     "text": [
      "JS divergence: 0.1825\tNorm Frobenius: 0.2452\n"
     ]
    },
    {
     "data": {
      "image/png": "[encoded data removed]",
      "text/plain": [
       "<Figure size 432x288 with 2 Axes>"
      ]
     },
     "metadata": {},
     "output_type": "display_data"
    },
    {
     "name": "stdout",
     "output_type": "stream",
     "text": [
      "JS divergence: 0.1813\tNorm Frobenius: 0.2499\n"
     ]
    },
    {
     "data": {
      "image/png": "[encoded data removed]",
      "text/plain": [
       "<Figure size 432x288 with 2 Axes>"
      ]
     },
     "metadata": {},
     "output_type": "display_data"
    },
    {
     "name": "stdout",
     "output_type": "stream",
     "text": [
      "JS divergence: 0.0523\tNorm Frobenius: 0.1288\n"
     ]
    },
    {
     "data": {
      "image/png": "[encoded data removed]",
      "text/plain": [
       "<Figure size 432x288 with 2 Axes>"
      ]
     },
     "metadata": {},
     "output_type": "display_data"
    },
    {
     "name": "stdout",
     "output_type": "stream",
     "text": [
      "JS divergence: 0.2047\tNorm Frobenius: 0.2348\n",
      "Calculate confusion matrix on global version\n"
     ]
    },
    {
     "data": {
      "image/png": "[encoded data removed]",
      "text/plain": [
       "<Figure size 432x288 with 2 Axes>"
      ]
     },
     "metadata": {},
     "output_type": "display_data"
    },
    {
     "name": "stdout",
     "output_type": "stream",
     "text": [
      "JS divergence: 0.0160\tNorm Frobenius: 0.0811\n",
      "A result\n"
     ]
    },
    {
     "data": {
      "text/html": [
       "<div>\n",
       "<style scoped>\n",
       "    .dataframe tbody tr th:only-of-type {\n",
       "        vertical-align: middle;\n",
       "    }\n",
       "\n",
       "    .dataframe tbody tr th {\n",
       "        vertical-align: top;\n",
       "    }\n",
       "\n",
       "    .dataframe thead th {\n",
       "        text-align: right;\n",
       "    }\n",
       "</style>\n",
       "<table border=\"1\" class=\"dataframe\">\n",
       "  <thead>\n",
       "    <tr style=\"text-align: right;\">\n",
       "      <th></th>\n",
       "      <th></th>\n",
       "      <th>Accuracy</th>\n",
       "      <th>F1 (micro)</th>\n",
       "      <th>F1 (macro)</th>\n",
       "      <th>(R) NormF mean</th>\n",
       "      <th>(R) JS mean</th>\n",
       "      <th>(R) NormF w</th>\n",
       "      <th>(R) JS w</th>\n",
       "      <th>(G) NormF</th>\n",
       "      <th>(G) JS</th>\n",
       "    </tr>\n",
       "  </thead>\n",
       "  <tbody>\n",
       "    <tr>\n",
       "      <th>0</th>\n",
       "      <td>All</td>\n",
       "      <td>0.6255</td>\n",
       "      <td>0.6255</td>\n",
       "      <td>0.6128</td>\n",
       "      <td>0.2727</td>\n",
       "      <td>0.2255</td>\n",
       "      <td>0.2144</td>\n",
       "      <td>0.1521</td>\n",
       "      <td>0.0811</td>\n",
       "      <td>0.016</td>\n",
       "    </tr>\n",
       "  </tbody>\n",
       "</table>\n",
       "</div>"
      ],
      "text/plain": [
       "        Accuracy  F1 (micro)  F1 (macro)  (R) NormF mean  (R) JS mean  \\\n",
       "0  All    0.6255      0.6255      0.6128          0.2727       0.2255   \n",
       "\n",
       "   (R) NormF w  (R) JS w  (G) NormF  (G) JS  \n",
       "0       0.2144    0.1521     0.0811   0.016  "
      ]
     },
     "metadata": {},
     "output_type": "display_data"
    },
    {
     "name": "stdout",
     "output_type": "stream",
     "text": [
      "Val\n",
      "A result\n"
     ]
    },
    {
     "data": {
      "text/html": [
       "<div>\n",
       "<style scoped>\n",
       "    .dataframe tbody tr th:only-of-type {\n",
       "        vertical-align: middle;\n",
       "    }\n",
       "\n",
       "    .dataframe tbody tr th {\n",
       "        vertical-align: top;\n",
       "    }\n",
       "\n",
       "    .dataframe thead th {\n",
       "        text-align: right;\n",
       "    }\n",
       "</style>\n",
       "<table border=\"1\" class=\"dataframe\">\n",
       "  <thead>\n",
       "    <tr style=\"text-align: right;\">\n",
       "      <th></th>\n",
       "      <th></th>\n",
       "      <th>Accuracy</th>\n",
       "      <th>F1 (micro)</th>\n",
       "      <th>F1 (macro)</th>\n",
       "    </tr>\n",
       "  </thead>\n",
       "  <tbody>\n",
       "    <tr>\n",
       "      <th>0</th>\n",
       "      <td>All</td>\n",
       "      <td>0.7613</td>\n",
       "      <td>0.7613</td>\n",
       "      <td>0.7174</td>\n",
       "    </tr>\n",
       "  </tbody>\n",
       "</table>\n",
       "</div>"
      ],
      "text/plain": [
       "        Accuracy  F1 (micro)  F1 (macro)\n",
       "0  All    0.7613      0.7613      0.7174"
      ]
     },
     "metadata": {},
     "output_type": "display_data"
    },
    {
     "name": "stdout",
     "output_type": "stream",
     "text": [
      "Test\n",
      "A result\n"
     ]
    },
    {
     "data": {
      "text/html": [
       "<div>\n",
       "<style scoped>\n",
       "    .dataframe tbody tr th:only-of-type {\n",
       "        vertical-align: middle;\n",
       "    }\n",
       "\n",
       "    .dataframe tbody tr th {\n",
       "        vertical-align: top;\n",
       "    }\n",
       "\n",
       "    .dataframe thead th {\n",
       "        text-align: right;\n",
       "    }\n",
       "</style>\n",
       "<table border=\"1\" class=\"dataframe\">\n",
       "  <thead>\n",
       "    <tr style=\"text-align: right;\">\n",
       "      <th></th>\n",
       "      <th></th>\n",
       "      <th>Accuracy</th>\n",
       "      <th>F1 (micro)</th>\n",
       "      <th>F1 (macro)</th>\n",
       "    </tr>\n",
       "  </thead>\n",
       "  <tbody>\n",
       "    <tr>\n",
       "      <th>0</th>\n",
       "      <td>All</td>\n",
       "      <td>0.7613</td>\n",
       "      <td>0.7613</td>\n",
       "      <td>0.7174</td>\n",
       "    </tr>\n",
       "  </tbody>\n",
       "</table>\n",
       "</div>"
      ],
      "text/plain": [
       "        Accuracy  F1 (micro)  F1 (macro)\n",
       "0  All    0.7613      0.7613      0.7174"
      ]
     },
     "metadata": {},
     "output_type": "display_data"
    }
   ],
   "source": [
    "evaluate = Evaluation_metrics(model_mvsoft,'keras',Xstd_train.shape[0])\n",
    "evaluate.set_T_weights(T_weights)\n",
    "print(\"*** Soft-Majority (Train with softMV) ***\")\n",
    "\n",
    "print(\"Train\")\n",
    "prob_Yzt = np.tile( mv_conf_probas, (T,1,1) )\n",
    "results1 = evaluate.calculate_metrics(Z=Z_train,Z_pred=Z_train_pred,conf_pred=prob_Yzt,conf_true=confe_matrix_R,\n",
    "                                     conf_true_G =confe_matrix_G, conf_pred_G = mv_conf_probas)\n",
    "\n",
    "print(\"Val\")\n",
    "results2 = evaluate.calculate_metrics(Z=Z_val,Z_pred=Z_val_pred)\n",
    "\n",
    "print(\"Test\")\n",
    "results2 = evaluate.calculate_metrics(Z=Z_test,Z_pred=Z_test_pred)"
   ]
  },
  {
   "cell_type": "code",
   "execution_count": 40,
   "metadata": {
    "scrolled": true
   },
   "outputs": [
    {
     "name": "stdout",
     "output_type": "stream",
     "text": [
      "*** Hard-Majority (Train with hardMV) ***\n",
      "Train\n",
      "Calculate confusion matrix on repeat version\n"
     ]
    },
    {
     "data": {
      "image/png": "[encoded data removed]",
      "text/plain": [
       "<Figure size 432x288 with 2 Axes>"
      ]
     },
     "metadata": {},
     "output_type": "display_data"
    },
    {
     "name": "stdout",
     "output_type": "stream",
     "text": [
      "JS divergence: 0.1014\tNorm Frobenius: 0.2242\n"
     ]
    },
    {
     "data": {
      "image/png": "[encoded data removed]",
      "text/plain": [
       "<Figure size 432x288 with 2 Axes>"
      ]
     },
     "metadata": {},
     "output_type": "display_data"
    },
    {
     "name": "stdout",
     "output_type": "stream",
     "text": [
      "JS divergence: 0.1639\tNorm Frobenius: 0.2338\n"
     ]
    },
    {
     "data": {
      "image/png": "[encoded data removed]",
      "text/plain": [
       "<Figure size 432x288 with 2 Axes>"
      ]
     },
     "metadata": {},
     "output_type": "display_data"
    },
    {
     "name": "stdout",
     "output_type": "stream",
     "text": [
      "JS divergence: 0.1140\tNorm Frobenius: 0.1794\n"
     ]
    },
    {
     "data": {
      "image/png": "[encoded data removed]",
      "text/plain": [
       "<Figure size 432x288 with 2 Axes>"
      ]
     },
     "metadata": {},
     "output_type": "display_data"
    },
    {
     "name": "stdout",
     "output_type": "stream",
     "text": [
      "JS divergence: 0.2506\tNorm Frobenius: 0.3198\n"
     ]
    },
    {
     "data": {
      "image/png": "[encoded data removed]",
      "text/plain": [
       "<Figure size 432x288 with 2 Axes>"
      ]
     },
     "metadata": {},
     "output_type": "display_data"
    },
    {
     "name": "stdout",
     "output_type": "stream",
     "text": [
      "JS divergence: 0.2318\tNorm Frobenius: 0.2869\n"
     ]
    },
    {
     "data": {
      "image/png": "[encoded data removed]",
      "text/plain": [
       "<Figure size 432x288 with 2 Axes>"
      ]
     },
     "metadata": {},
     "output_type": "display_data"
    },
    {
     "name": "stdout",
     "output_type": "stream",
     "text": [
      "JS divergence: 0.1375\tNorm Frobenius: 0.1781\n"
     ]
    },
    {
     "data": {
      "image/png": "[encoded data removed]",
      "text/plain": [
       "<Figure size 432x288 with 2 Axes>"
      ]
     },
     "metadata": {},
     "output_type": "display_data"
    },
    {
     "name": "stdout",
     "output_type": "stream",
     "text": [
      "JS divergence: 0.0267\tNorm Frobenius: 0.0822\n"
     ]
    },
    {
     "data": {
      "image/png": "[encoded data removed]",
      "text/plain": [
       "<Figure size 432x288 with 2 Axes>"
      ]
     },
     "metadata": {},
     "output_type": "display_data"
    },
    {
     "name": "stdout",
     "output_type": "stream",
     "text": [
      "JS divergence: 0.2862\tNorm Frobenius: 0.3137\n"
     ]
    },
    {
     "data": {
      "image/png": "[encoded data removed]",
      "text/plain": [
       "<Figure size 432x288 with 2 Axes>"
      ]
     },
     "metadata": {},
     "output_type": "display_data"
    },
    {
     "name": "stdout",
     "output_type": "stream",
     "text": [
      "JS divergence: 0.1440\tNorm Frobenius: 0.2193\n"
     ]
    },
    {
     "data": {
      "image/png": "[encoded data removed]",
      "text/plain": [
       "<Figure size 432x288 with 2 Axes>"
      ]
     },
     "metadata": {},
     "output_type": "display_data"
    },
    {
     "name": "stdout",
     "output_type": "stream",
     "text": [
      "JS divergence: 0.1971\tNorm Frobenius: 0.2751\n"
     ]
    },
    {
     "data": {
      "image/png": "[encoded data removed]",
      "text/plain": [
       "<Figure size 432x288 with 2 Axes>"
      ]
     },
     "metadata": {},
     "output_type": "display_data"
    },
    {
     "name": "stdout",
     "output_type": "stream",
     "text": [
      "JS divergence: 0.3302\tNorm Frobenius: 0.3468\n"
     ]
    },
    {
     "data": {
      "image/png": "[encoded data removed]",
      "text/plain": [
       "<Figure size 432x288 with 2 Axes>"
      ]
     },
     "metadata": {},
     "output_type": "display_data"
    },
    {
     "name": "stdout",
     "output_type": "stream",
     "text": [
      "JS divergence: 0.1221\tNorm Frobenius: 0.2003\n"
     ]
    },
    {
     "data": {
      "image/png": "[encoded data removed]",
      "text/plain": [
       "<Figure size 432x288 with 2 Axes>"
      ]
     },
     "metadata": {},
     "output_type": "display_data"
    },
    {
     "name": "stdout",
     "output_type": "stream",
     "text": [
      "JS divergence: 0.2047\tNorm Frobenius: 0.2691\n"
     ]
    },
    {
     "data": {
      "image/png": "[encoded data removed]",
      "text/plain": [
       "<Figure size 432x288 with 2 Axes>"
      ]
     },
     "metadata": {},
     "output_type": "display_data"
    },
    {
     "name": "stdout",
     "output_type": "stream",
     "text": [
      "JS divergence: 0.1041\tNorm Frobenius: 0.1308\n"
     ]
    },
    {
     "data": {
      "image/png": "[encoded data removed]",
      "text/plain": [
       "<Figure size 432x288 with 2 Axes>"
      ]
     },
     "metadata": {},
     "output_type": "display_data"
    },
    {
     "name": "stdout",
     "output_type": "stream",
     "text": [
      "JS divergence: 0.1007\tNorm Frobenius: 0.1879\n",
      "Calculate confusion matrix on global version\n"
     ]
    },
    {
     "data": {
      "image/png": "[encoded data removed]",
      "text/plain": [
       "<Figure size 432x288 with 2 Axes>"
      ]
     },
     "metadata": {},
     "output_type": "display_data"
    },
    {
     "name": "stdout",
     "output_type": "stream",
     "text": [
      "JS divergence: 0.0474\tNorm Frobenius: 0.1263\n",
      "A result\n"
     ]
    },
    {
     "data": {
      "text/html": [
       "<div>\n",
       "<style scoped>\n",
       "    .dataframe tbody tr th:only-of-type {\n",
       "        vertical-align: middle;\n",
       "    }\n",
       "\n",
       "    .dataframe tbody tr th {\n",
       "        vertical-align: top;\n",
       "    }\n",
       "\n",
       "    .dataframe thead th {\n",
       "        text-align: right;\n",
       "    }\n",
       "</style>\n",
       "<table border=\"1\" class=\"dataframe\">\n",
       "  <thead>\n",
       "    <tr style=\"text-align: right;\">\n",
       "      <th></th>\n",
       "      <th></th>\n",
       "      <th>Accuracy</th>\n",
       "      <th>F1 (micro)</th>\n",
       "      <th>F1 (macro)</th>\n",
       "      <th>(R) NormF mean</th>\n",
       "      <th>(R) JS mean</th>\n",
       "      <th>(R) NormF w</th>\n",
       "      <th>(R) JS w</th>\n",
       "      <th>(G) NormF</th>\n",
       "      <th>(G) JS</th>\n",
       "    </tr>\n",
       "  </thead>\n",
       "  <tbody>\n",
       "    <tr>\n",
       "      <th>0</th>\n",
       "      <td>All</td>\n",
       "      <td>0.6045</td>\n",
       "      <td>0.6045</td>\n",
       "      <td>0.5193</td>\n",
       "      <td>0.2883</td>\n",
       "      <td>0.2426</td>\n",
       "      <td>0.2369</td>\n",
       "      <td>0.1739</td>\n",
       "      <td>0.1263</td>\n",
       "      <td>0.0474</td>\n",
       "    </tr>\n",
       "  </tbody>\n",
       "</table>\n",
       "</div>"
      ],
      "text/plain": [
       "        Accuracy  F1 (micro)  F1 (macro)  (R) NormF mean  (R) JS mean  \\\n",
       "0  All    0.6045      0.6045      0.5193          0.2883       0.2426   \n",
       "\n",
       "   (R) NormF w  (R) JS w  (G) NormF  (G) JS  \n",
       "0       0.2369    0.1739     0.1263  0.0474  "
      ]
     },
     "metadata": {},
     "output_type": "display_data"
    },
    {
     "name": "stdout",
     "output_type": "stream",
     "text": [
      "Val\n",
      "A result\n"
     ]
    },
    {
     "data": {
      "text/html": [
       "<div>\n",
       "<style scoped>\n",
       "    .dataframe tbody tr th:only-of-type {\n",
       "        vertical-align: middle;\n",
       "    }\n",
       "\n",
       "    .dataframe tbody tr th {\n",
       "        vertical-align: top;\n",
       "    }\n",
       "\n",
       "    .dataframe thead th {\n",
       "        text-align: right;\n",
       "    }\n",
       "</style>\n",
       "<table border=\"1\" class=\"dataframe\">\n",
       "  <thead>\n",
       "    <tr style=\"text-align: right;\">\n",
       "      <th></th>\n",
       "      <th></th>\n",
       "      <th>Accuracy</th>\n",
       "      <th>F1 (micro)</th>\n",
       "      <th>F1 (macro)</th>\n",
       "    </tr>\n",
       "  </thead>\n",
       "  <tbody>\n",
       "    <tr>\n",
       "      <th>0</th>\n",
       "      <td>All</td>\n",
       "      <td>0.7406</td>\n",
       "      <td>0.7406</td>\n",
       "      <td>0.6062</td>\n",
       "    </tr>\n",
       "  </tbody>\n",
       "</table>\n",
       "</div>"
      ],
      "text/plain": [
       "        Accuracy  F1 (micro)  F1 (macro)\n",
       "0  All    0.7406      0.7406      0.6062"
      ]
     },
     "metadata": {},
     "output_type": "display_data"
    },
    {
     "name": "stdout",
     "output_type": "stream",
     "text": [
      "Test\n",
      "A result\n"
     ]
    },
    {
     "data": {
      "text/html": [
       "<div>\n",
       "<style scoped>\n",
       "    .dataframe tbody tr th:only-of-type {\n",
       "        vertical-align: middle;\n",
       "    }\n",
       "\n",
       "    .dataframe tbody tr th {\n",
       "        vertical-align: top;\n",
       "    }\n",
       "\n",
       "    .dataframe thead th {\n",
       "        text-align: right;\n",
       "    }\n",
       "</style>\n",
       "<table border=\"1\" class=\"dataframe\">\n",
       "  <thead>\n",
       "    <tr style=\"text-align: right;\">\n",
       "      <th></th>\n",
       "      <th></th>\n",
       "      <th>Accuracy</th>\n",
       "      <th>F1 (micro)</th>\n",
       "      <th>F1 (macro)</th>\n",
       "    </tr>\n",
       "  </thead>\n",
       "  <tbody>\n",
       "    <tr>\n",
       "      <th>0</th>\n",
       "      <td>All</td>\n",
       "      <td>0.7406</td>\n",
       "      <td>0.7406</td>\n",
       "      <td>0.6062</td>\n",
       "    </tr>\n",
       "  </tbody>\n",
       "</table>\n",
       "</div>"
      ],
      "text/plain": [
       "        Accuracy  F1 (micro)  F1 (macro)\n",
       "0  All    0.7406      0.7406      0.6062"
      ]
     },
     "metadata": {},
     "output_type": "display_data"
    }
   ],
   "source": [
    "evaluate = Evaluation_metrics(model_mvhard,'keras',Xstd_train.shape[0])\n",
    "evaluate.set_T_weights(T_weights)\n",
    "print(\"*** Hard-Majority (Train with hardMV) ***\")\n",
    "\n",
    "print(\"Train\")\n",
    "prob_Yzt = np.tile( mv_conf_onehot, (T,1,1) )\n",
    "results1 = evaluate.calculate_metrics(Z=Z_train,Z_pred=Z_train_pred,conf_pred=prob_Yzt,conf_true=confe_matrix_R,\n",
    "                                     conf_true_G =confe_matrix_G, conf_pred_G = mv_conf_onehot)\n",
    "\n",
    "print(\"Val\")\n",
    "results2 = evaluate.calculate_metrics(Z=Z_val,Z_pred=Z_val_pred)\n",
    "\n",
    "print(\"Test\")\n",
    "results2 = evaluate.calculate_metrics(Z=Z_test,Z_pred=Z_test_pred)"
   ]
  },
  {
   "cell_type": "code",
   "execution_count": 86,
   "metadata": {
    "scrolled": true
   },
   "outputs": [
    {
     "name": "stdout",
     "output_type": "stream",
     "text": [
      "*** Dawid and Skene model (Train with D&S) ***\n",
      "Train\n",
      "Calculate confusion matrix on repeat version\n"
     ]
    },
    {
     "data": {
      "image/png": "[encoded data removed]",
      "text/plain": [
       "<Figure size 432x288 with 2 Axes>"
      ]
     },
     "metadata": {
      "needs_background": "light"
     },
     "output_type": "display_data"
    },
    {
     "name": "stdout",
     "output_type": "stream",
     "text": [
      "JS divergence: 0.0739\tNorm Frobenius: 0.1047\n"
     ]
    },
    {
     "data": {
      "image/png": "[encoded data removed]",
      "text/plain": [
       "<Figure size 432x288 with 2 Axes>"
      ]
     },
     "metadata": {
      "needs_background": "light"
     },
     "output_type": "display_data"
    },
    {
     "name": "stdout",
     "output_type": "stream",
     "text": [
      "JS divergence: 0.1335\tNorm Frobenius: 0.2187\n"
     ]
    },
    {
     "data": {
      "image/png": "[encoded data removed]",
      "text/plain": [
       "<Figure size 432x288 with 2 Axes>"
      ]
     },
     "metadata": {
      "needs_background": "light"
     },
     "output_type": "display_data"
    },
    {
     "name": "stdout",
     "output_type": "stream",
     "text": [
      "JS divergence: 0.0741\tNorm Frobenius: 0.1520\n"
     ]
    },
    {
     "data": {
      "image/png": "[encoded data removed]",
      "text/plain": [
       "<Figure size 432x288 with 2 Axes>"
      ]
     },
     "metadata": {
      "needs_background": "light"
     },
     "output_type": "display_data"
    },
    {
     "name": "stdout",
     "output_type": "stream",
     "text": [
      "JS divergence: 0.0416\tNorm Frobenius: 0.1129\n"
     ]
    },
    {
     "data": {
      "image/png": "[encoded data removed]",
      "text/plain": [
       "<Figure size 432x288 with 2 Axes>"
      ]
     },
     "metadata": {
      "needs_background": "light"
     },
     "output_type": "display_data"
    },
    {
     "name": "stdout",
     "output_type": "stream",
     "text": [
      "JS divergence: 0.3303\tNorm Frobenius: 0.3928\n"
     ]
    },
    {
     "data": {
      "image/png": "[encoded data removed]",
      "text/plain": [
       "<Figure size 432x288 with 2 Axes>"
      ]
     },
     "metadata": {
      "needs_background": "light"
     },
     "output_type": "display_data"
    },
    {
     "name": "stdout",
     "output_type": "stream",
     "text": [
      "JS divergence: 0.0582\tNorm Frobenius: 0.1300\n"
     ]
    },
    {
     "data": {
      "image/png": "[encoded data removed]",
      "text/plain": [
       "<Figure size 432x288 with 2 Axes>"
      ]
     },
     "metadata": {
      "needs_background": "light"
     },
     "output_type": "display_data"
    },
    {
     "name": "stdout",
     "output_type": "stream",
     "text": [
      "JS divergence: 0.0696\tNorm Frobenius: 0.1271\n"
     ]
    },
    {
     "data": {
      "image/png": "[encoded data removed]",
      "text/plain": [
       "<Figure size 432x288 with 2 Axes>"
      ]
     },
     "metadata": {
      "needs_background": "light"
     },
     "output_type": "display_data"
    },
    {
     "name": "stdout",
     "output_type": "stream",
     "text": [
      "JS divergence: 0.0447\tNorm Frobenius: 0.0903\n"
     ]
    },
    {
     "data": {
      "image/png": "[encoded data removed]",
      "text/plain": [
       "<Figure size 432x288 with 2 Axes>"
      ]
     },
     "metadata": {
      "needs_background": "light"
     },
     "output_type": "display_data"
    },
    {
     "name": "stdout",
     "output_type": "stream",
     "text": [
      "JS divergence: 0.2048\tNorm Frobenius: 0.3108\n"
     ]
    },
    {
     "data": {
      "image/png": "[encoded data removed]",
      "text/plain": [
       "<Figure size 432x288 with 2 Axes>"
      ]
     },
     "metadata": {
      "needs_background": "light"
     },
     "output_type": "display_data"
    },
    {
     "name": "stdout",
     "output_type": "stream",
     "text": [
      "JS divergence: 0.1698\tNorm Frobenius: 0.2336\n"
     ]
    },
    {
     "data": {
      "image/png": "[encoded data removed]",
      "text/plain": [
       "<Figure size 432x288 with 2 Axes>"
      ]
     },
     "metadata": {
      "needs_background": "light"
     },
     "output_type": "display_data"
    },
    {
     "name": "stdout",
     "output_type": "stream",
     "text": [
      "JS divergence: 0.0718\tNorm Frobenius: 0.1032\n"
     ]
    },
    {
     "data": {
      "image/png": "[encoded data removed]",
      "text/plain": [
       "<Figure size 432x288 with 2 Axes>"
      ]
     },
     "metadata": {
      "needs_background": "light"
     },
     "output_type": "display_data"
    },
    {
     "name": "stdout",
     "output_type": "stream",
     "text": [
      "JS divergence: 0.0903\tNorm Frobenius: 0.2097\n"
     ]
    },
    {
     "data": {
      "image/png": "[encoded data removed]",
      "text/plain": [
       "<Figure size 432x288 with 2 Axes>"
      ]
     },
     "metadata": {
      "needs_background": "light"
     },
     "output_type": "display_data"
    },
    {
     "name": "stdout",
     "output_type": "stream",
     "text": [
      "JS divergence: 0.4116\tNorm Frobenius: 0.3750\n"
     ]
    },
    {
     "data": {
      "image/png": "[encoded data removed]",
      "text/plain": [
       "<Figure size 432x288 with 2 Axes>"
      ]
     },
     "metadata": {
      "needs_background": "light"
     },
     "output_type": "display_data"
    },
    {
     "name": "stdout",
     "output_type": "stream",
     "text": [
      "JS divergence: 0.0498\tNorm Frobenius: 0.1022\n"
     ]
    },
    {
     "data": {
      "image/png": "[encoded data removed]",
      "text/plain": [
       "<Figure size 432x288 with 2 Axes>"
      ]
     },
     "metadata": {
      "needs_background": "light"
     },
     "output_type": "display_data"
    },
    {
     "name": "stdout",
     "output_type": "stream",
     "text": [
      "JS divergence: 0.1899\tNorm Frobenius: 0.2730\n",
      "Calculate confusion matrix on global version\n"
     ]
    },
    {
     "data": {
      "image/png": "[encoded data removed]",
      "text/plain": [
       "<Figure size 432x288 with 2 Axes>"
      ]
     },
     "metadata": {
      "needs_background": "light"
     },
     "output_type": "display_data"
    },
    {
     "name": "stdout",
     "output_type": "stream",
     "text": [
      "JS divergence: 0.0318\tNorm Frobenius: 0.1051\n",
      "A result\n"
     ]
    },
    {
     "data": {
      "text/html": [
       "<div>\n",
       "<style scoped>\n",
       "    .dataframe tbody tr th:only-of-type {\n",
       "        vertical-align: middle;\n",
       "    }\n",
       "\n",
       "    .dataframe tbody tr th {\n",
       "        vertical-align: top;\n",
       "    }\n",
       "\n",
       "    .dataframe thead th {\n",
       "        text-align: right;\n",
       "    }\n",
       "</style>\n",
       "<table border=\"1\" class=\"dataframe\">\n",
       "  <thead>\n",
       "    <tr style=\"text-align: right;\">\n",
       "      <th></th>\n",
       "      <th></th>\n",
       "      <th>Accuracy</th>\n",
       "      <th>F1 (micro)</th>\n",
       "      <th>F1 (macro)</th>\n",
       "      <th>(R) NormF mean</th>\n",
       "      <th>(R) JS mean</th>\n",
       "      <th>(R) NormF w</th>\n",
       "      <th>(R) JS w</th>\n",
       "      <th>(G) NormF</th>\n",
       "      <th>(G) JS</th>\n",
       "    </tr>\n",
       "  </thead>\n",
       "  <tbody>\n",
       "    <tr>\n",
       "      <th>0</th>\n",
       "      <td>All</td>\n",
       "      <td>0.636</td>\n",
       "      <td>0.636</td>\n",
       "      <td>0.5879</td>\n",
       "      <td>0.2543</td>\n",
       "      <td>0.2207</td>\n",
       "      <td>0.1402</td>\n",
       "      <td>0.0883</td>\n",
       "      <td>0.1051</td>\n",
       "      <td>0.0318</td>\n",
       "    </tr>\n",
       "  </tbody>\n",
       "</table>\n",
       "</div>"
      ],
      "text/plain": [
       "        Accuracy  F1 (micro)  F1 (macro)  (R) NormF mean  (R) JS mean  \\\n",
       "0  All     0.636       0.636      0.5879          0.2543       0.2207   \n",
       "\n",
       "   (R) NormF w  (R) JS w  (G) NormF  (G) JS  \n",
       "0       0.1402    0.0883     0.1051  0.0318  "
      ]
     },
     "metadata": {},
     "output_type": "display_data"
    },
    {
     "name": "stdout",
     "output_type": "stream",
     "text": [
      "Val\n",
      "A result\n"
     ]
    },
    {
     "data": {
      "text/html": [
       "<div>\n",
       "<style scoped>\n",
       "    .dataframe tbody tr th:only-of-type {\n",
       "        vertical-align: middle;\n",
       "    }\n",
       "\n",
       "    .dataframe tbody tr th {\n",
       "        vertical-align: top;\n",
       "    }\n",
       "\n",
       "    .dataframe thead th {\n",
       "        text-align: right;\n",
       "    }\n",
       "</style>\n",
       "<table border=\"1\" class=\"dataframe\">\n",
       "  <thead>\n",
       "    <tr style=\"text-align: right;\">\n",
       "      <th></th>\n",
       "      <th></th>\n",
       "      <th>Accuracy</th>\n",
       "      <th>F1 (micro)</th>\n",
       "      <th>F1 (macro)</th>\n",
       "    </tr>\n",
       "  </thead>\n",
       "  <tbody>\n",
       "    <tr>\n",
       "      <th>0</th>\n",
       "      <td>All</td>\n",
       "      <td>0.6177</td>\n",
       "      <td>0.6177</td>\n",
       "      <td>0.569</td>\n",
       "    </tr>\n",
       "  </tbody>\n",
       "</table>\n",
       "</div>"
      ],
      "text/plain": [
       "        Accuracy  F1 (micro)  F1 (macro)\n",
       "0  All    0.6177      0.6177       0.569"
      ]
     },
     "metadata": {},
     "output_type": "display_data"
    },
    {
     "name": "stdout",
     "output_type": "stream",
     "text": [
      "Test\n",
      "A result\n"
     ]
    },
    {
     "data": {
      "text/html": [
       "<div>\n",
       "<style scoped>\n",
       "    .dataframe tbody tr th:only-of-type {\n",
       "        vertical-align: middle;\n",
       "    }\n",
       "\n",
       "    .dataframe tbody tr th {\n",
       "        vertical-align: top;\n",
       "    }\n",
       "\n",
       "    .dataframe thead th {\n",
       "        text-align: right;\n",
       "    }\n",
       "</style>\n",
       "<table border=\"1\" class=\"dataframe\">\n",
       "  <thead>\n",
       "    <tr style=\"text-align: right;\">\n",
       "      <th></th>\n",
       "      <th></th>\n",
       "      <th>Accuracy</th>\n",
       "      <th>F1 (micro)</th>\n",
       "      <th>F1 (macro)</th>\n",
       "    </tr>\n",
       "  </thead>\n",
       "  <tbody>\n",
       "    <tr>\n",
       "      <th>0</th>\n",
       "      <td>All</td>\n",
       "      <td>0.7498</td>\n",
       "      <td>0.7498</td>\n",
       "      <td>0.68</td>\n",
       "    </tr>\n",
       "  </tbody>\n",
       "</table>\n",
       "</div>"
      ],
      "text/plain": [
       "        Accuracy  F1 (micro)  F1 (macro)\n",
       "0  All    0.7498      0.7498        0.68"
      ]
     },
     "metadata": {},
     "output_type": "display_data"
    }
   ],
   "source": [
    "evaluate = Evaluation_metrics(model_ds,'keras',Xstd_train.shape[0])\n",
    "evaluate.set_T_weights(T_weights)\n",
    "print(\"*** Dawid and Skene model (Train with D&S) ***\")\n",
    "\n",
    "print(\"Train\")\n",
    "results1 = evaluate.calculate_metrics(Z=Z_train,Z_pred=Z_train_pred,conf_pred=ds_conf,conf_true=confe_matrix_R,\n",
    "                                     conf_true_G =confe_matrix_G, conf_pred_G = ds_conf.mean(axis=0))\n",
    "\n",
    "print(\"Val\")\n",
    "results2 = evaluate.calculate_metrics(Z=Z_val,Z_pred=Z_val_pred)\n",
    "\n",
    "print(\"Test\")\n",
    "results2 = evaluate.calculate_metrics(Z=Z_test,Z_pred=Z_test_pred)"
   ]
  },
  {
   "cell_type": "code",
   "execution_count": 44,
   "metadata": {
    "scrolled": true
   },
   "outputs": [
    {
     "name": "stdout",
     "output_type": "stream",
     "text": [
      "*** Raykar model multiples runs***\n",
      "Train\n",
      "Calculate confusion matrix on repeat version\n"
     ]
    },
    {
     "data": {
      "image/png": "[encoded data removed]",
      "text/plain": [
       "<Figure size 432x288 with 2 Axes>"
      ]
     },
     "metadata": {},
     "output_type": "display_data"
    },
    {
     "name": "stdout",
     "output_type": "stream",
     "text": [
      "JS divergence: 0.0273\tNorm Frobenius: 0.0743\n"
     ]
    },
    {
     "data": {
      "image/png": "[encoded data removed]",
      "text/plain": [
       "<Figure size 432x288 with 2 Axes>"
      ]
     },
     "metadata": {},
     "output_type": "display_data"
    },
    {
     "name": "stdout",
     "output_type": "stream",
     "text": [
      "JS divergence: 0.2412\tNorm Frobenius: 0.2398\n"
     ]
    },
    {
     "data": {
      "image/png": "[encoded data removed]",
      "text/plain": [
       "<Figure size 432x288 with 2 Axes>"
      ]
     },
     "metadata": {},
     "output_type": "display_data"
    },
    {
     "name": "stdout",
     "output_type": "stream",
     "text": [
      "JS divergence: 0.1186\tNorm Frobenius: 0.1543\n"
     ]
    },
    {
     "data": {
      "image/png": "[encoded data removed]",
      "text/plain": [
       "<Figure size 432x288 with 2 Axes>"
      ]
     },
     "metadata": {},
     "output_type": "display_data"
    },
    {
     "name": "stdout",
     "output_type": "stream",
     "text": [
      "JS divergence: 0.1061\tNorm Frobenius: 0.1477\n"
     ]
    },
    {
     "data": {
      "image/png": "[encoded data removed]",
      "text/plain": [
       "<Figure size 432x288 with 2 Axes>"
      ]
     },
     "metadata": {},
     "output_type": "display_data"
    },
    {
     "name": "stdout",
     "output_type": "stream",
     "text": [
      "JS divergence: 0.0526\tNorm Frobenius: 0.0884\n"
     ]
    },
    {
     "data": {
      "image/png": "[encoded data removed]",
      "text/plain": [
       "<Figure size 432x288 with 2 Axes>"
      ]
     },
     "metadata": {},
     "output_type": "display_data"
    },
    {
     "name": "stdout",
     "output_type": "stream",
     "text": [
      "JS divergence: 0.0610\tNorm Frobenius: 0.1066\n"
     ]
    },
    {
     "data": {
      "image/png": "[encoded data removed]",
      "text/plain": [
       "<Figure size 432x288 with 2 Axes>"
      ]
     },
     "metadata": {},
     "output_type": "display_data"
    },
    {
     "name": "stdout",
     "output_type": "stream",
     "text": [
      "JS divergence: 0.0921\tNorm Frobenius: 0.1448\n"
     ]
    },
    {
     "data": {
      "image/png": "[encoded data removed]",
      "text/plain": [
       "<Figure size 432x288 with 2 Axes>"
      ]
     },
     "metadata": {},
     "output_type": "display_data"
    },
    {
     "name": "stdout",
     "output_type": "stream",
     "text": [
      "JS divergence: 0.0226\tNorm Frobenius: 0.0813\n"
     ]
    },
    {
     "data": {
      "image/png": "[encoded data removed]",
      "text/plain": [
       "<Figure size 432x288 with 2 Axes>"
      ]
     },
     "metadata": {},
     "output_type": "display_data"
    },
    {
     "name": "stdout",
     "output_type": "stream",
     "text": [
      "JS divergence: 0.1538\tNorm Frobenius: 0.2223\n"
     ]
    },
    {
     "data": {
      "image/png": "[encoded data removed]",
      "text/plain": [
       "<Figure size 432x288 with 2 Axes>"
      ]
     },
     "metadata": {},
     "output_type": "display_data"
    },
    {
     "name": "stdout",
     "output_type": "stream",
     "text": [
      "JS divergence: 0.0300\tNorm Frobenius: 0.0643\n"
     ]
    },
    {
     "data": {
      "image/png": "[encoded data removed]",
      "text/plain": [
       "<Figure size 432x288 with 2 Axes>"
      ]
     },
     "metadata": {},
     "output_type": "display_data"
    },
    {
     "name": "stdout",
     "output_type": "stream",
     "text": [
      "JS divergence: 0.0511\tNorm Frobenius: 0.0697\n"
     ]
    },
    {
     "data": {
      "image/png": "[encoded data removed]",
      "text/plain": [
       "<Figure size 432x288 with 2 Axes>"
      ]
     },
     "metadata": {},
     "output_type": "display_data"
    },
    {
     "name": "stdout",
     "output_type": "stream",
     "text": [
      "JS divergence: 0.1540\tNorm Frobenius: 0.1747\n"
     ]
    },
    {
     "data": {
      "image/png": "[encoded data removed]",
      "text/plain": [
       "<Figure size 432x288 with 2 Axes>"
      ]
     },
     "metadata": {},
     "output_type": "display_data"
    },
    {
     "name": "stdout",
     "output_type": "stream",
     "text": [
      "JS divergence: 0.0097\tNorm Frobenius: 0.0606\n"
     ]
    },
    {
     "data": {
      "image/png": "[encoded data removed]",
      "text/plain": [
       "<Figure size 432x288 with 2 Axes>"
      ]
     },
     "metadata": {},
     "output_type": "display_data"
    },
    {
     "name": "stdout",
     "output_type": "stream",
     "text": [
      "JS divergence: 0.0794\tNorm Frobenius: 0.0884\n"
     ]
    },
    {
     "data": {
      "image/png": "[encoded data removed]",
      "text/plain": [
       "<Figure size 432x288 with 2 Axes>"
      ]
     },
     "metadata": {},
     "output_type": "display_data"
    },
    {
     "name": "stdout",
     "output_type": "stream",
     "text": [
      "JS divergence: 0.2108\tNorm Frobenius: 0.2292\n",
      "Calculate confusion matrix on global version\n"
     ]
    },
    {
     "data": {
      "image/png": "[encoded data removed]",
      "text/plain": [
       "<Figure size 432x288 with 2 Axes>"
      ]
     },
     "metadata": {},
     "output_type": "display_data"
    },
    {
     "name": "stdout",
     "output_type": "stream",
     "text": [
      "JS divergence: 0.0582\tNorm Frobenius: 0.1367\n",
      "A result\n"
     ]
    },
    {
     "data": {
      "text/html": [
       "<div>\n",
       "<style scoped>\n",
       "    .dataframe tbody tr th:only-of-type {\n",
       "        vertical-align: middle;\n",
       "    }\n",
       "\n",
       "    .dataframe tbody tr th {\n",
       "        vertical-align: top;\n",
       "    }\n",
       "\n",
       "    .dataframe thead th {\n",
       "        text-align: right;\n",
       "    }\n",
       "</style>\n",
       "<table border=\"1\" class=\"dataframe\">\n",
       "  <thead>\n",
       "    <tr style=\"text-align: right;\">\n",
       "      <th></th>\n",
       "      <th></th>\n",
       "      <th>Accuracy</th>\n",
       "      <th>F1 (micro)</th>\n",
       "      <th>F1 (macro)</th>\n",
       "      <th>(R) NormF mean</th>\n",
       "      <th>(R) JS mean</th>\n",
       "      <th>(G) NormF</th>\n",
       "      <th>(G) JS</th>\n",
       "    </tr>\n",
       "  </thead>\n",
       "  <tbody>\n",
       "    <tr>\n",
       "      <th>0</th>\n",
       "      <td>All</td>\n",
       "      <td>0.6467</td>\n",
       "      <td>0.6467</td>\n",
       "      <td>0.6301</td>\n",
       "      <td>0.1951</td>\n",
       "      <td>0.1603</td>\n",
       "      <td>0.1367</td>\n",
       "      <td>0.0582</td>\n",
       "    </tr>\n",
       "  </tbody>\n",
       "</table>\n",
       "</div>"
      ],
      "text/plain": [
       "        Accuracy  F1 (micro)  F1 (macro)  (R) NormF mean  (R) JS mean  \\\n",
       "0  All    0.6467      0.6467      0.6301          0.1951       0.1603   \n",
       "\n",
       "   (G) NormF  (G) JS  \n",
       "0     0.1367  0.0582  "
      ]
     },
     "metadata": {},
     "output_type": "display_data"
    },
    {
     "name": "stdout",
     "output_type": "stream",
     "text": [
      "Val\n",
      "A result\n"
     ]
    },
    {
     "data": {
      "text/html": [
       "<div>\n",
       "<style scoped>\n",
       "    .dataframe tbody tr th:only-of-type {\n",
       "        vertical-align: middle;\n",
       "    }\n",
       "\n",
       "    .dataframe tbody tr th {\n",
       "        vertical-align: top;\n",
       "    }\n",
       "\n",
       "    .dataframe thead th {\n",
       "        text-align: right;\n",
       "    }\n",
       "</style>\n",
       "<table border=\"1\" class=\"dataframe\">\n",
       "  <thead>\n",
       "    <tr style=\"text-align: right;\">\n",
       "      <th></th>\n",
       "      <th></th>\n",
       "      <th>Accuracy</th>\n",
       "      <th>F1 (micro)</th>\n",
       "      <th>F1 (macro)</th>\n",
       "    </tr>\n",
       "  </thead>\n",
       "  <tbody>\n",
       "    <tr>\n",
       "      <th>0</th>\n",
       "      <td>All</td>\n",
       "      <td>0.783</td>\n",
       "      <td>0.783</td>\n",
       "      <td>0.7412</td>\n",
       "    </tr>\n",
       "  </tbody>\n",
       "</table>\n",
       "</div>"
      ],
      "text/plain": [
       "        Accuracy  F1 (micro)  F1 (macro)\n",
       "0  All     0.783       0.783      0.7412"
      ]
     },
     "metadata": {},
     "output_type": "display_data"
    },
    {
     "name": "stdout",
     "output_type": "stream",
     "text": [
      "Test\n",
      "A result\n"
     ]
    },
    {
     "data": {
      "text/html": [
       "<div>\n",
       "<style scoped>\n",
       "    .dataframe tbody tr th:only-of-type {\n",
       "        vertical-align: middle;\n",
       "    }\n",
       "\n",
       "    .dataframe tbody tr th {\n",
       "        vertical-align: top;\n",
       "    }\n",
       "\n",
       "    .dataframe thead th {\n",
       "        text-align: right;\n",
       "    }\n",
       "</style>\n",
       "<table border=\"1\" class=\"dataframe\">\n",
       "  <thead>\n",
       "    <tr style=\"text-align: right;\">\n",
       "      <th></th>\n",
       "      <th></th>\n",
       "      <th>Accuracy</th>\n",
       "      <th>F1 (micro)</th>\n",
       "      <th>F1 (macro)</th>\n",
       "    </tr>\n",
       "  </thead>\n",
       "  <tbody>\n",
       "    <tr>\n",
       "      <th>0</th>\n",
       "      <td>All</td>\n",
       "      <td>0.783</td>\n",
       "      <td>0.783</td>\n",
       "      <td>0.7412</td>\n",
       "    </tr>\n",
       "  </tbody>\n",
       "</table>\n",
       "</div>"
      ],
      "text/plain": [
       "        Accuracy  F1 (micro)  F1 (macro)\n",
       "0  All     0.783       0.783      0.7412"
      ]
     },
     "metadata": {},
     "output_type": "display_data"
    }
   ],
   "source": [
    "evaluate = Evaluation_metrics(raykarMC,'raykar')\n",
    "print(\"*** Raykar model multiples runs***\")\n",
    "\n",
    "print(\"Train\")\n",
    "prob_Yzt = raykarMC.get_confusionM()\n",
    "#prob_Yxt = raykarMC.get_predictions_annot(Xstd_train,data=Z_train_p)\n",
    "results = evaluate.calculate_metrics(Z=Z_train,Z_pred=Z_train_pred,conf_pred=prob_Yzt,conf_true=confe_matrix_R,\n",
    "                                    conf_true_G =confe_matrix_G, conf_pred_G = prob_Yzt.mean(axis=0))\n",
    "\n",
    "#results = evaluate.calculate_metrics(y_o=y_obs,yo_pred=prob_Yxt)\n",
    "\n",
    "print(\"Val\")\n",
    "results2 = evaluate.calculate_metrics(Z=Z_val,Z_pred=Z_val_pred)\n",
    "\n",
    "print(\"Test\")\n",
    "results2 = evaluate.calculate_metrics(Z=Z_test,Z_pred=Z_test_pred)"
   ]
  },
  {
   "cell_type": "code",
   "execution_count": 166,
   "metadata": {},
   "outputs": [
    {
     "name": "stdout",
     "output_type": "stream",
     "text": [
      "*** Ours Global multiples runs***\n",
      "Train\n",
      "Calculate confusion matrix on repeat version\n"
     ]
    },
    {
     "data": {
      "image/png": "[encoded data removed]",
      "text/plain": [
       "<Figure size 432x288 with 2 Axes>"
      ]
     },
     "metadata": {},
     "output_type": "display_data"
    },
    {
     "name": "stdout",
     "output_type": "stream",
     "text": [
      "JS divergence: 0.2253\tNorm Frobenius: 0.2913\n",
      "Groups probabilities:  [1. 0. 0.]\n"
     ]
    },
    {
     "data": {
      "image/png": "[encoded data removed]",
      "text/plain": [
       "<Figure size 432x288 with 2 Axes>"
      ]
     },
     "metadata": {},
     "output_type": "display_data"
    },
    {
     "name": "stdout",
     "output_type": "stream",
     "text": [
      "JS divergence: 0.1325\tNorm Frobenius: 0.1962\n",
      "Groups probabilities:  [1. 0. 0.]\n"
     ]
    },
    {
     "data": {
      "image/png": "[encoded data removed]",
      "text/plain": [
       "<Figure size 432x288 with 2 Axes>"
      ]
     },
     "metadata": {},
     "output_type": "display_data"
    },
    {
     "name": "stdout",
     "output_type": "stream",
     "text": [
      "JS divergence: 0.3224\tNorm Frobenius: 0.3688\n",
      "Groups probabilities:  [0.9429 0.     0.0571]\n"
     ]
    },
    {
     "data": {
      "image/png": "[encoded data removed]",
      "text/plain": [
       "<Figure size 432x288 with 2 Axes>"
      ]
     },
     "metadata": {},
     "output_type": "display_data"
    },
    {
     "name": "stdout",
     "output_type": "stream",
     "text": [
      "JS divergence: 0.2564\tNorm Frobenius: 0.3281\n",
      "Groups probabilities:  [1. 0. 0.]\n"
     ]
    },
    {
     "data": {
      "image/png": "[encoded data removed]",
      "text/plain": [
       "<Figure size 432x288 with 2 Axes>"
      ]
     },
     "metadata": {},
     "output_type": "display_data"
    },
    {
     "name": "stdout",
     "output_type": "stream",
     "text": [
      "JS divergence: 0.1899\tNorm Frobenius: 0.2729\n",
      "Groups probabilities:  [1. 0. 0.]\n"
     ]
    },
    {
     "data": {
      "image/png": "[encoded data removed]",
      "text/plain": [
       "<Figure size 432x288 with 2 Axes>"
      ]
     },
     "metadata": {},
     "output_type": "display_data"
    },
    {
     "name": "stdout",
     "output_type": "stream",
     "text": [
      "JS divergence: 0.0761\tNorm Frobenius: 0.1346\n",
      "Groups probabilities:  [1. 0. 0.]\n"
     ]
    },
    {
     "data": {
      "image/png": "[encoded data removed]",
      "text/plain": [
       "<Figure size 432x288 with 2 Axes>"
      ]
     },
     "metadata": {},
     "output_type": "display_data"
    },
    {
     "name": "stdout",
     "output_type": "stream",
     "text": [
      "JS divergence: 0.1842\tNorm Frobenius: 0.2705\n",
      "Groups probabilities:  [1. 0. 0.]\n"
     ]
    },
    {
     "data": {
      "image/png": "[encoded data removed]",
      "text/plain": [
       "<Figure size 432x288 with 2 Axes>"
      ]
     },
     "metadata": {},
     "output_type": "display_data"
    },
    {
     "name": "stdout",
     "output_type": "stream",
     "text": [
      "JS divergence: 0.1414\tNorm Frobenius: 0.2081\n",
      "Groups probabilities:  [9.999e-01 1.000e-04 0.000e+00]\n"
     ]
    },
    {
     "data": {
      "image/png": "[encoded data removed]",
      "text/plain": [
       "<Figure size 432x288 with 2 Axes>"
      ]
     },
     "metadata": {},
     "output_type": "display_data"
    },
    {
     "name": "stdout",
     "output_type": "stream",
     "text": [
      "JS divergence: 0.1130\tNorm Frobenius: 0.1942\n",
      "Groups probabilities:  [1. 0. 0.]\n"
     ]
    },
    {
     "data": {
      "image/png": "[encoded data removed]",
      "text/plain": [
       "<Figure size 432x288 with 2 Axes>"
      ]
     },
     "metadata": {},
     "output_type": "display_data"
    },
    {
     "name": "stdout",
     "output_type": "stream",
     "text": [
      "JS divergence: 0.1476\tNorm Frobenius: 0.2270\n",
      "Groups probabilities:  [1. 0. 0.]\n"
     ]
    },
    {
     "data": {
      "image/png": "[encoded data removed]",
      "text/plain": [
       "<Figure size 432x288 with 2 Axes>"
      ]
     },
     "metadata": {},
     "output_type": "display_data"
    },
    {
     "name": "stdout",
     "output_type": "stream",
     "text": [
      "JS divergence: 0.2395\tNorm Frobenius: 0.3164\n",
      "Groups probabilities:  [1. 0. 0.]\n"
     ]
    },
    {
     "data": {
      "image/png": "[encoded data removed]",
      "text/plain": [
       "<Figure size 432x288 with 2 Axes>"
      ]
     },
     "metadata": {},
     "output_type": "display_data"
    },
    {
     "name": "stdout",
     "output_type": "stream",
     "text": [
      "JS divergence: 0.4487\tNorm Frobenius: 0.4407\n",
      "Groups probabilities:  [0.6803 0.1943 0.1255]\n"
     ]
    },
    {
     "data": {
      "image/png": "[encoded data removed]",
      "text/plain": [
       "<Figure size 432x288 with 2 Axes>"
      ]
     },
     "metadata": {},
     "output_type": "display_data"
    },
    {
     "name": "stdout",
     "output_type": "stream",
     "text": [
      "JS divergence: 0.1122\tNorm Frobenius: 0.1476\n",
      "Groups probabilities:  [1. 0. 0.]\n"
     ]
    },
    {
     "data": {
      "image/png": "[encoded data removed]",
      "text/plain": [
       "<Figure size 432x288 with 2 Axes>"
      ]
     },
     "metadata": {},
     "output_type": "display_data"
    },
    {
     "name": "stdout",
     "output_type": "stream",
     "text": [
      "JS divergence: 0.1182\tNorm Frobenius: 0.1879\n",
      "Groups probabilities:  [9.997e-01 3.000e-04 0.000e+00]\n"
     ]
    },
    {
     "data": {
      "image/png": "[encoded data removed]",
      "text/plain": [
       "<Figure size 432x288 with 2 Axes>"
      ]
     },
     "metadata": {},
     "output_type": "display_data"
    },
    {
     "name": "stdout",
     "output_type": "stream",
     "text": [
      "JS divergence: 0.1337\tNorm Frobenius: 0.2461\n",
      "Groups probabilities:  [0.7891 0.     0.2109]\n",
      "Calculate confusion matrix on global version\n"
     ]
    },
    {
     "data": {
      "image/png": "[encoded data removed]",
      "text/plain": [
       "<Figure size 432x288 with 2 Axes>"
      ]
     },
     "metadata": {},
     "output_type": "display_data"
    },
    {
     "name": "stdout",
     "output_type": "stream",
     "text": [
      "JS divergence: 0.0617\tNorm Frobenius: 0.1392\n",
      "A result\n"
     ]
    },
    {
     "data": {
      "text/html": [
       "<div>\n",
       "<style scoped>\n",
       "    .dataframe tbody tr th:only-of-type {\n",
       "        vertical-align: middle;\n",
       "    }\n",
       "\n",
       "    .dataframe tbody tr th {\n",
       "        vertical-align: top;\n",
       "    }\n",
       "\n",
       "    .dataframe thead th {\n",
       "        text-align: right;\n",
       "    }\n",
       "</style>\n",
       "<table border=\"1\" class=\"dataframe\">\n",
       "  <thead>\n",
       "    <tr style=\"text-align: right;\">\n",
       "      <th></th>\n",
       "      <th></th>\n",
       "      <th>Accuracy</th>\n",
       "      <th>F1 (micro)</th>\n",
       "      <th>F1 (macro)</th>\n",
       "      <th>(R) NormF mean</th>\n",
       "      <th>(R) JS mean</th>\n",
       "      <th>(R) NormF w</th>\n",
       "      <th>(R) JS w</th>\n",
       "      <th>(G) NormF</th>\n",
       "      <th>(G) JS</th>\n",
       "    </tr>\n",
       "  </thead>\n",
       "  <tbody>\n",
       "    <tr>\n",
       "      <th>0</th>\n",
       "      <td>All</td>\n",
       "      <td>0.6659</td>\n",
       "      <td>0.6659</td>\n",
       "      <td>0.6557</td>\n",
       "      <td>0.306</td>\n",
       "      <td>0.2642</td>\n",
       "      <td>0.2541</td>\n",
       "      <td>0.1944</td>\n",
       "      <td>0.1392</td>\n",
       "      <td>0.0617</td>\n",
       "    </tr>\n",
       "  </tbody>\n",
       "</table>\n",
       "</div>"
      ],
      "text/plain": [
       "        Accuracy  F1 (micro)  F1 (macro)  (R) NormF mean  (R) JS mean  \\\n",
       "0  All    0.6659      0.6659      0.6557           0.306       0.2642   \n",
       "\n",
       "   (R) NormF w  (R) JS w  (G) NormF  (G) JS  \n",
       "0       0.2541    0.1944     0.1392  0.0617  "
      ]
     },
     "metadata": {},
     "output_type": "display_data"
    },
    {
     "name": "stdout",
     "output_type": "stream",
     "text": [
      "Val\n"
     ]
    },
    {
     "data": {
      "image/png": "[encoded data removed]",
      "text/plain": [
       "<Figure size 432x288 with 1 Axes>"
      ]
     },
     "metadata": {},
     "output_type": "display_data"
    },
    {
     "data": {
      "image/png": "[encoded data removed]",
      "text/plain": [
       "<Figure size 432x288 with 1 Axes>"
      ]
     },
     "metadata": {},
     "output_type": "display_data"
    },
    {
     "data": {
      "image/png": "[encoded data removed]",
      "text/plain": [
       "<Figure size 432x288 with 1 Axes>"
      ]
     },
     "metadata": {},
     "output_type": "display_data"
    },
    {
     "name": "stdout",
     "output_type": "stream",
     "text": [
      "Inertia JS: 0.32555424069973066\n",
      "Inertia NormF: 0.3633051593553451\n",
      "A result\n"
     ]
    },
    {
     "data": {
      "text/html": [
       "<div>\n",
       "<style scoped>\n",
       "    .dataframe tbody tr th:only-of-type {\n",
       "        vertical-align: middle;\n",
       "    }\n",
       "\n",
       "    .dataframe tbody tr th {\n",
       "        vertical-align: top;\n",
       "    }\n",
       "\n",
       "    .dataframe thead th {\n",
       "        text-align: right;\n",
       "    }\n",
       "</style>\n",
       "<table border=\"1\" class=\"dataframe\">\n",
       "  <thead>\n",
       "    <tr style=\"text-align: right;\">\n",
       "      <th></th>\n",
       "      <th>Groups</th>\n",
       "      <th>Prob</th>\n",
       "      <th>T(g)</th>\n",
       "      <th>Entropy</th>\n",
       "      <th>Diag mean</th>\n",
       "      <th>Isim (JS)</th>\n",
       "      <th>S_raykar</th>\n",
       "      <th>S_bias</th>\n",
       "      <th>C_bias</th>\n",
       "      <th>Iner JS</th>\n",
       "      <th>Iner NormF</th>\n",
       "      <th>Accuracy</th>\n",
       "      <th>F1 (micro)</th>\n",
       "    </tr>\n",
       "  </thead>\n",
       "  <tbody>\n",
       "    <tr>\n",
       "      <th>0</th>\n",
       "      <td>0</td>\n",
       "      <td>0.6689</td>\n",
       "      <td>910</td>\n",
       "      <td>0.3132</td>\n",
       "      <td>0.9142</td>\n",
       "      <td>0.9545</td>\n",
       "      <td>0.8856</td>\n",
       "      <td>0.0380</td>\n",
       "      <td>3</td>\n",
       "      <td>0.3256</td>\n",
       "      <td>0.3633</td>\n",
       "      <td>0.6588</td>\n",
       "      <td>0.6588</td>\n",
       "    </tr>\n",
       "    <tr>\n",
       "      <th>1</th>\n",
       "      <td>1</td>\n",
       "      <td>0.2002</td>\n",
       "      <td>272</td>\n",
       "      <td>0.2509</td>\n",
       "      <td>0.7411</td>\n",
       "      <td>0.7522</td>\n",
       "      <td>0.6548</td>\n",
       "      <td>0.1071</td>\n",
       "      <td>0</td>\n",
       "      <td>0.3256</td>\n",
       "      <td>0.3633</td>\n",
       "      <td>0.6160</td>\n",
       "      <td>0.6160</td>\n",
       "    </tr>\n",
       "    <tr>\n",
       "      <th>2</th>\n",
       "      <td>2</td>\n",
       "      <td>0.1309</td>\n",
       "      <td>178</td>\n",
       "      <td>0.2044</td>\n",
       "      <td>0.7364</td>\n",
       "      <td>0.7521</td>\n",
       "      <td>0.6485</td>\n",
       "      <td>0.2087</td>\n",
       "      <td>3</td>\n",
       "      <td>0.3256</td>\n",
       "      <td>0.3633</td>\n",
       "      <td>0.4644</td>\n",
       "      <td>0.4644</td>\n",
       "    </tr>\n",
       "  </tbody>\n",
       "</table>\n",
       "</div>"
      ],
      "text/plain": [
       "   Groups    Prob  T(g)  Entropy  Diag mean  Isim (JS)  S_raykar  S_bias  \\\n",
       "0       0  0.6689   910   0.3132     0.9142     0.9545    0.8856  0.0380   \n",
       "1       1  0.2002   272   0.2509     0.7411     0.7522    0.6548  0.1071   \n",
       "2       2  0.1309   178   0.2044     0.7364     0.7521    0.6485  0.2087   \n",
       "\n",
       "   C_bias  Iner JS  Iner NormF  Accuracy  F1 (micro)  \n",
       "0       3   0.3256      0.3633    0.6588      0.6588  \n",
       "1       0   0.3256      0.3633    0.6160      0.6160  \n",
       "2       3   0.3256      0.3633    0.4644      0.4644  "
      ]
     },
     "metadata": {},
     "output_type": "display_data"
    },
    {
     "name": "stdout",
     "output_type": "stream",
     "text": [
      "A result\n"
     ]
    },
    {
     "data": {
      "text/html": [
       "<div>\n",
       "<style scoped>\n",
       "    .dataframe tbody tr th:only-of-type {\n",
       "        vertical-align: middle;\n",
       "    }\n",
       "\n",
       "    .dataframe tbody tr th {\n",
       "        vertical-align: top;\n",
       "    }\n",
       "\n",
       "    .dataframe thead th {\n",
       "        text-align: right;\n",
       "    }\n",
       "</style>\n",
       "<table border=\"1\" class=\"dataframe\">\n",
       "  <thead>\n",
       "    <tr style=\"text-align: right;\">\n",
       "      <th></th>\n",
       "      <th></th>\n",
       "      <th>Accuracy</th>\n",
       "      <th>F1 (micro)</th>\n",
       "      <th>F1 (macro)</th>\n",
       "    </tr>\n",
       "  </thead>\n",
       "  <tbody>\n",
       "    <tr>\n",
       "      <th>0</th>\n",
       "      <td>All</td>\n",
       "      <td>0.6625</td>\n",
       "      <td>0.6625</td>\n",
       "      <td>0.6484</td>\n",
       "    </tr>\n",
       "  </tbody>\n",
       "</table>\n",
       "</div>"
      ],
      "text/plain": [
       "        Accuracy  F1 (micro)  F1 (macro)\n",
       "0  All    0.6625      0.6625      0.6484"
      ]
     },
     "metadata": {},
     "output_type": "display_data"
    }
   ],
   "source": [
    "evaluate = Evaluation_metrics(gMixture_Global,'our1') \n",
    "aux = gMixture_Global.calculate_extra_components(Xstd_train,y_obs,T=T,calculate_pred_annotator=False,p_z=Z_train_p)\n",
    "predictions_m,prob_Gt,prob_Yzt,_ =  aux #to evaluate...\n",
    "prob_Yz = gMixture_Global.calculate_Yz()\n",
    "evaluate.set_Gt(prob_Gt)\n",
    "print(\"*** Ours Global multiples runs***\") #lambda = random\n",
    "\n",
    "print(\"Train\")\n",
    "y_o_groups = predictions_m.argmax(axis=-1)\n",
    "results = evaluate.calculate_metrics(Z=Z_train,Z_pred=Z_train_pred,conf_pred=prob_Yzt,conf_true=confe_matrix_R,\n",
    "                                     y_o=y_obs, y_o_groups=y_o_groups,# yo_pred=prob_Yxt,\n",
    "                                    conf_true_G =confe_matrix_G, conf_pred_G = prob_Yz)\n",
    "\n",
    "#results = evaluate.calculate_metrics(y_o=y_obs,yo_pred=prob_Yxt)\n",
    "\n",
    "print(\"Val\")\n",
    "c_M = gMixture_Global.get_confusionM()\n",
    "y_o_groups = gMixture_Global.get_predictions_groups(Xstd_val,data=Z_val_p).argmax(axis=-1) #obtain p(y^o|x,g=m) and then argmax\n",
    "results = evaluate.calculate_metrics(Z=Z_val,Z_pred=Z_val_pred,conf_pred=c_M, y_o_groups=y_o_groups)"
   ]
  },
  {
   "cell_type": "code",
   "execution_count": null,
   "metadata": {},
   "outputs": [],
   "source": []
  },
  {
   "cell_type": "code",
   "execution_count": 40,
   "metadata": {},
   "outputs": [
    {
     "ename": "NameError",
     "evalue": "name 'Evaluation_metrics' is not defined",
     "output_type": "error",
     "traceback": [
      "\u001b[0;31m---------------------------------------------------------------------------\u001b[0m",
      "\u001b[0;31mNameError\u001b[0m                                 Traceback (most recent call last)",
      "\u001b[0;32m<ipython-input-40-b0278bd6b7e2>\u001b[0m in \u001b[0;36m<module>\u001b[0;34m()\u001b[0m\n\u001b[0;32m----> 1\u001b[0;31m \u001b[0mevaluate\u001b[0m \u001b[0;34m=\u001b[0m \u001b[0mEvaluation_metrics\u001b[0m\u001b[0;34m(\u001b[0m\u001b[0mgMixture_Global\u001b[0m\u001b[0;34m,\u001b[0m\u001b[0;34m'our1'\u001b[0m\u001b[0;34m)\u001b[0m\u001b[0;34m\u001b[0m\u001b[0m\n\u001b[0m\u001b[1;32m      2\u001b[0m \u001b[0maux\u001b[0m \u001b[0;34m=\u001b[0m \u001b[0mgMixture_Global\u001b[0m\u001b[0;34m.\u001b[0m\u001b[0mcalculate_extra_components\u001b[0m\u001b[0;34m(\u001b[0m\u001b[0mXstd_train\u001b[0m\u001b[0;34m,\u001b[0m\u001b[0my_obs\u001b[0m\u001b[0;34m,\u001b[0m\u001b[0mT\u001b[0m\u001b[0;34m=\u001b[0m\u001b[0mT\u001b[0m\u001b[0;34m,\u001b[0m\u001b[0mcalculate_pred_annotator\u001b[0m\u001b[0;34m=\u001b[0m\u001b[0;32mTrue\u001b[0m\u001b[0;34m,\u001b[0m\u001b[0mp_z\u001b[0m\u001b[0;34m=\u001b[0m\u001b[0mZ_train_p\u001b[0m\u001b[0;34m)\u001b[0m\u001b[0;34m\u001b[0m\u001b[0m\n\u001b[1;32m      3\u001b[0m \u001b[0mpredictions_m\u001b[0m\u001b[0;34m,\u001b[0m\u001b[0mprob_Gt\u001b[0m\u001b[0;34m,\u001b[0m\u001b[0mprob_Yzt\u001b[0m\u001b[0;34m,\u001b[0m\u001b[0mprob_Yxt\u001b[0m \u001b[0;34m=\u001b[0m  \u001b[0maux\u001b[0m \u001b[0;31m#to evaluate...\u001b[0m\u001b[0;34m\u001b[0m\u001b[0m\n\u001b[1;32m      4\u001b[0m \u001b[0mevaluate\u001b[0m\u001b[0;34m.\u001b[0m\u001b[0mset_Gt\u001b[0m\u001b[0;34m(\u001b[0m\u001b[0mprob_Gt\u001b[0m\u001b[0;34m)\u001b[0m\u001b[0;34m\u001b[0m\u001b[0m\n\u001b[1;32m      5\u001b[0m \u001b[0mprint\u001b[0m\u001b[0;34m(\u001b[0m\u001b[0;34m\"*** Ours Global multiples runs***\"\u001b[0m\u001b[0;34m)\u001b[0m \u001b[0;31m#groups uniform...\u001b[0m\u001b[0;34m\u001b[0m\u001b[0m\n",
      "\u001b[0;31mNameError\u001b[0m: name 'Evaluation_metrics' is not defined"
     ]
    }
   ],
   "source": [
    "evaluate = Evaluation_metrics(gMixture_Global,'our1') \n",
    "aux = gMixture_Global.calculate_extra_components(Xstd_train,y_obs,T=T,calculate_pred_annotator=True,p_z=Z_train_p)\n",
    "predictions_m,prob_Gt,prob_Yzt,prob_Yxt =  aux #to evaluate...\n",
    "evaluate.set_Gt(prob_Gt)\n",
    "print(\"*** Ours Global multiples runs***\") #groups uniform...\n",
    "\n",
    "print(\"Train\")\n",
    "y_o_groups = predictions_m.argmax(axis=-1)\n",
    "results = evaluate.calculate_metrics(Z=Z_train,Z_pred=Z_train_pred,conf_pred=prob_Yzt,conf_true=confe_matrix_R,y_o=y_obs,yo_pred=prob_Yxt, y_o_groups=y_o_groups)\n",
    "\n",
    "results = evaluate.calculate_metrics(y_o=y_obs,yo_pred=prob_Yxt)\n",
    "\n",
    "print(\"Test\")\n",
    "c_M = gMixture_Global.get_confusionM()\n",
    "y_o_groups = gMixture_Global.get_predictions_groups(Xstd_test,data=Z_test_p).argmax(axis=-1) #obtain p(y^o|x,g=m) and then argmax\n",
    "results = evaluate.calculate_metrics(Z=Z_test,Z_pred=Z_test_pred,conf_pred=c_M, y_o_groups=y_o_groups)"
   ]
  },
  {
   "cell_type": "code",
   "execution_count": null,
   "metadata": {},
   "outputs": [],
   "source": []
  },
  {
   "cell_type": "code",
   "execution_count": 172,
   "metadata": {},
   "outputs": [
    {
     "name": "stdout",
     "output_type": "stream",
     "text": [
      "*** Ours Individual1 multiples runs***\n",
      "Train\n",
      "Calculate confusion matrix on repeat version\n"
     ]
    },
    {
     "data": {
      "image/png": "[encoded data removed]",
      "text/plain": [
       "<Figure size 432x288 with 2 Axes>"
      ]
     },
     "metadata": {},
     "output_type": "display_data"
    },
    {
     "name": "stdout",
     "output_type": "stream",
     "text": [
      "JS divergence: 0.1527\tNorm Frobenius: 0.2469\n",
      "Groups probabilities:  [0.8692 0.029  0.1017]\n"
     ]
    },
    {
     "data": {
      "image/png": "[encoded data removed]",
      "text/plain": [
       "<Figure size 432x288 with 2 Axes>"
      ]
     },
     "metadata": {},
     "output_type": "display_data"
    },
    {
     "name": "stdout",
     "output_type": "stream",
     "text": [
      "JS divergence: 0.1883\tNorm Frobenius: 0.2971\n",
      "Groups probabilities:  [0.8979 0.0886 0.0135]\n"
     ]
    },
    {
     "data": {
      "image/png": "[encoded data removed]",
      "text/plain": [
       "<Figure size 432x288 with 2 Axes>"
      ]
     },
     "metadata": {},
     "output_type": "display_data"
    },
    {
     "name": "stdout",
     "output_type": "stream",
     "text": [
      "JS divergence: 0.2101\tNorm Frobenius: 0.2462\n",
      "Groups probabilities:  [0.0506 0.4395 0.5099]\n"
     ]
    },
    {
     "data": {
      "image/png": "[encoded data removed]",
      "text/plain": [
       "<Figure size 432x288 with 2 Axes>"
      ]
     },
     "metadata": {},
     "output_type": "display_data"
    },
    {
     "name": "stdout",
     "output_type": "stream",
     "text": [
      "JS divergence: 0.1032\tNorm Frobenius: 0.1979\n",
      "Groups probabilities:  [0.7824 0.2013 0.0163]\n"
     ]
    },
    {
     "data": {
      "image/png": "[encoded data removed]",
      "text/plain": [
       "<Figure size 432x288 with 2 Axes>"
      ]
     },
     "metadata": {},
     "output_type": "display_data"
    },
    {
     "name": "stdout",
     "output_type": "stream",
     "text": [
      "JS divergence: 0.2706\tNorm Frobenius: 0.3131\n",
      "Groups probabilities:  [0.0624 0.3071 0.6305]\n"
     ]
    },
    {
     "data": {
      "image/png": "[encoded data removed]",
      "text/plain": [
       "<Figure size 432x288 with 2 Axes>"
      ]
     },
     "metadata": {},
     "output_type": "display_data"
    },
    {
     "name": "stdout",
     "output_type": "stream",
     "text": [
      "JS divergence: 0.0984\tNorm Frobenius: 0.1758\n",
      "Groups probabilities:  [0.0934 0.2881 0.6185]\n"
     ]
    },
    {
     "data": {
      "image/png": "[encoded data removed]",
      "text/plain": [
       "<Figure size 432x288 with 2 Axes>"
      ]
     },
     "metadata": {},
     "output_type": "display_data"
    },
    {
     "name": "stdout",
     "output_type": "stream",
     "text": [
      "JS divergence: 0.2221\tNorm Frobenius: 0.2769\n",
      "Groups probabilities:  [0.0085 0.1313 0.8602]\n"
     ]
    },
    {
     "data": {
      "image/png": "[encoded data removed]",
      "text/plain": [
       "<Figure size 432x288 with 2 Axes>"
      ]
     },
     "metadata": {},
     "output_type": "display_data"
    },
    {
     "name": "stdout",
     "output_type": "stream",
     "text": [
      "JS divergence: 0.1524\tNorm Frobenius: 0.2572\n",
      "Groups probabilities:  [0.4941 0.0247 0.4812]\n"
     ]
    },
    {
     "data": {
      "image/png": "[encoded data removed]",
      "text/plain": [
       "<Figure size 432x288 with 2 Axes>"
      ]
     },
     "metadata": {},
     "output_type": "display_data"
    },
    {
     "name": "stdout",
     "output_type": "stream",
     "text": [
      "JS divergence: 0.1150\tNorm Frobenius: 0.1322\n",
      "Groups probabilities:  [0.369  0.0365 0.5945]\n"
     ]
    },
    {
     "data": {
      "image/png": "[encoded data removed]",
      "text/plain": [
       "<Figure size 432x288 with 2 Axes>"
      ]
     },
     "metadata": {},
     "output_type": "display_data"
    },
    {
     "name": "stdout",
     "output_type": "stream",
     "text": [
      "JS divergence: 0.3119\tNorm Frobenius: 0.3234\n",
      "Groups probabilities:  [0.1333 0.2187 0.648 ]\n"
     ]
    },
    {
     "data": {
      "image/png": "[encoded data removed]",
      "text/plain": [
       "<Figure size 432x288 with 2 Axes>"
      ]
     },
     "metadata": {},
     "output_type": "display_data"
    },
    {
     "name": "stdout",
     "output_type": "stream",
     "text": [
      "JS divergence: 0.2043\tNorm Frobenius: 0.3106\n",
      "Groups probabilities:  [0.8323 0.1579 0.0099]\n"
     ]
    },
    {
     "data": {
      "image/png": "[encoded data removed]",
      "text/plain": [
       "<Figure size 432x288 with 2 Axes>"
      ]
     },
     "metadata": {},
     "output_type": "display_data"
    },
    {
     "name": "stdout",
     "output_type": "stream",
     "text": [
      "JS divergence: 0.0661\tNorm Frobenius: 0.1441\n",
      "Groups probabilities:  [0.2734 0.4362 0.2904]\n"
     ]
    },
    {
     "data": {
      "image/png": "[encoded data removed]",
      "text/plain": [
       "<Figure size 432x288 with 2 Axes>"
      ]
     },
     "metadata": {},
     "output_type": "display_data"
    },
    {
     "name": "stdout",
     "output_type": "stream",
     "text": [
      "JS divergence: 0.0928\tNorm Frobenius: 0.1597\n",
      "Groups probabilities:  [0.9008 0.0171 0.082 ]\n"
     ]
    },
    {
     "data": {
      "image/png": "[encoded data removed]",
      "text/plain": [
       "<Figure size 432x288 with 2 Axes>"
      ]
     },
     "metadata": {},
     "output_type": "display_data"
    },
    {
     "name": "stdout",
     "output_type": "stream",
     "text": [
      "JS divergence: 0.0882\tNorm Frobenius: 0.1700\n",
      "Groups probabilities:  [0.3894 0.0323 0.5782]\n"
     ]
    },
    {
     "data": {
      "image/png": "[encoded data removed]",
      "text/plain": [
       "<Figure size 432x288 with 2 Axes>"
      ]
     },
     "metadata": {},
     "output_type": "display_data"
    },
    {
     "name": "stdout",
     "output_type": "stream",
     "text": [
      "JS divergence: 0.3428\tNorm Frobenius: 0.3935\n",
      "Groups probabilities:  [0.7726 0.2153 0.0121]\n",
      "Calculate confusion matrix on global version\n"
     ]
    },
    {
     "data": {
      "image/png": "[encoded data removed]",
      "text/plain": [
       "<Figure size 432x288 with 2 Axes>"
      ]
     },
     "metadata": {},
     "output_type": "display_data"
    },
    {
     "name": "stdout",
     "output_type": "stream",
     "text": [
      "JS divergence: 0.0596\tNorm Frobenius: 0.1143\n",
      "A result\n"
     ]
    },
    {
     "data": {
      "text/html": [
       "<div>\n",
       "<style scoped>\n",
       "    .dataframe tbody tr th:only-of-type {\n",
       "        vertical-align: middle;\n",
       "    }\n",
       "\n",
       "    .dataframe tbody tr th {\n",
       "        vertical-align: top;\n",
       "    }\n",
       "\n",
       "    .dataframe thead th {\n",
       "        text-align: right;\n",
       "    }\n",
       "</style>\n",
       "<table border=\"1\" class=\"dataframe\">\n",
       "  <thead>\n",
       "    <tr style=\"text-align: right;\">\n",
       "      <th></th>\n",
       "      <th></th>\n",
       "      <th>Accuracy</th>\n",
       "      <th>F1 (micro)</th>\n",
       "      <th>F1 (macro)</th>\n",
       "      <th>(R) NormF mean</th>\n",
       "      <th>(R) JS mean</th>\n",
       "      <th>(G) NormF</th>\n",
       "      <th>(G) JS</th>\n",
       "    </tr>\n",
       "  </thead>\n",
       "  <tbody>\n",
       "    <tr>\n",
       "      <th>0</th>\n",
       "      <td>All</td>\n",
       "      <td>0.6855</td>\n",
       "      <td>0.6855</td>\n",
       "      <td>0.6642</td>\n",
       "      <td>0.2786</td>\n",
       "      <td>0.2397</td>\n",
       "      <td>0.1143</td>\n",
       "      <td>0.0596</td>\n",
       "    </tr>\n",
       "  </tbody>\n",
       "</table>\n",
       "</div>"
      ],
      "text/plain": [
       "        Accuracy  F1 (micro)  F1 (macro)  (R) NormF mean  (R) JS mean  \\\n",
       "0  All    0.6855      0.6855      0.6642          0.2786       0.2397   \n",
       "\n",
       "   (G) NormF  (G) JS  \n",
       "0     0.1143  0.0596  "
      ]
     },
     "metadata": {},
     "output_type": "display_data"
    },
    {
     "name": "stdout",
     "output_type": "stream",
     "text": [
      "Val\n"
     ]
    },
    {
     "data": {
      "image/png": "[encoded data removed]",
      "text/plain": [
       "<Figure size 432x288 with 1 Axes>"
      ]
     },
     "metadata": {},
     "output_type": "display_data"
    },
    {
     "data": {
      "image/png": "[encoded data removed]",
      "text/plain": [
       "<Figure size 432x288 with 1 Axes>"
      ]
     },
     "metadata": {},
     "output_type": "display_data"
    },
    {
     "data": {
      "image/png": "[encoded data removed]",
      "text/plain": [
       "<Figure size 432x288 with 1 Axes>"
      ]
     },
     "metadata": {},
     "output_type": "display_data"
    },
    {
     "name": "stdout",
     "output_type": "stream",
     "text": [
      "Inertia JS: 0.31377889128227826\n",
      "Inertia NormF: 0.3553775649822834\n",
      "A result\n"
     ]
    },
    {
     "data": {
      "text/html": [
       "<div>\n",
       "<style scoped>\n",
       "    .dataframe tbody tr th:only-of-type {\n",
       "        vertical-align: middle;\n",
       "    }\n",
       "\n",
       "    .dataframe tbody tr th {\n",
       "        vertical-align: top;\n",
       "    }\n",
       "\n",
       "    .dataframe thead th {\n",
       "        text-align: right;\n",
       "    }\n",
       "</style>\n",
       "<table border=\"1\" class=\"dataframe\">\n",
       "  <thead>\n",
       "    <tr style=\"text-align: right;\">\n",
       "      <th></th>\n",
       "      <th>Groups</th>\n",
       "      <th>Prob</th>\n",
       "      <th>Entropy</th>\n",
       "      <th>Diag mean</th>\n",
       "      <th>Isim (JS)</th>\n",
       "      <th>S_raykar</th>\n",
       "      <th>S_bias</th>\n",
       "      <th>C_bias</th>\n",
       "      <th>Iner JS</th>\n",
       "      <th>Iner NormF</th>\n",
       "      <th>Accuracy</th>\n",
       "      <th>F1 (micro)</th>\n",
       "    </tr>\n",
       "  </thead>\n",
       "  <tbody>\n",
       "    <tr>\n",
       "      <th>0</th>\n",
       "      <td>0</td>\n",
       "      <td>0.2420</td>\n",
       "      <td>0.0899</td>\n",
       "      <td>0.9809</td>\n",
       "      <td>0.9903</td>\n",
       "      <td>0.9745</td>\n",
       "      <td>0.0076</td>\n",
       "      <td>2</td>\n",
       "      <td>0.3138</td>\n",
       "      <td>0.3554</td>\n",
       "      <td>0.6574</td>\n",
       "      <td>0.6574</td>\n",
       "    </tr>\n",
       "    <tr>\n",
       "      <th>1</th>\n",
       "      <td>1</td>\n",
       "      <td>0.3035</td>\n",
       "      <td>0.3126</td>\n",
       "      <td>0.7281</td>\n",
       "      <td>0.7923</td>\n",
       "      <td>0.6375</td>\n",
       "      <td>0.2767</td>\n",
       "      <td>0</td>\n",
       "      <td>0.3138</td>\n",
       "      <td>0.3554</td>\n",
       "      <td>0.6115</td>\n",
       "      <td>0.6115</td>\n",
       "    </tr>\n",
       "    <tr>\n",
       "      <th>2</th>\n",
       "      <td>2</td>\n",
       "      <td>0.4544</td>\n",
       "      <td>0.4932</td>\n",
       "      <td>0.6349</td>\n",
       "      <td>0.7092</td>\n",
       "      <td>0.5132</td>\n",
       "      <td>0.2003</td>\n",
       "      <td>3</td>\n",
       "      <td>0.3138</td>\n",
       "      <td>0.3554</td>\n",
       "      <td>0.4614</td>\n",
       "      <td>0.4614</td>\n",
       "    </tr>\n",
       "  </tbody>\n",
       "</table>\n",
       "</div>"
      ],
      "text/plain": [
       "   Groups    Prob  Entropy  Diag mean  Isim (JS)  S_raykar  S_bias  C_bias  \\\n",
       "0       0  0.2420   0.0899     0.9809     0.9903    0.9745  0.0076       2   \n",
       "1       1  0.3035   0.3126     0.7281     0.7923    0.6375  0.2767       0   \n",
       "2       2  0.4544   0.4932     0.6349     0.7092    0.5132  0.2003       3   \n",
       "\n",
       "   Iner JS  Iner NormF  Accuracy  F1 (micro)  \n",
       "0   0.3138      0.3554    0.6574      0.6574  \n",
       "1   0.3138      0.3554    0.6115      0.6115  \n",
       "2   0.3138      0.3554    0.4614      0.4614  "
      ]
     },
     "metadata": {},
     "output_type": "display_data"
    },
    {
     "name": "stdout",
     "output_type": "stream",
     "text": [
      "A result\n"
     ]
    },
    {
     "data": {
      "text/html": [
       "<div>\n",
       "<style scoped>\n",
       "    .dataframe tbody tr th:only-of-type {\n",
       "        vertical-align: middle;\n",
       "    }\n",
       "\n",
       "    .dataframe tbody tr th {\n",
       "        vertical-align: top;\n",
       "    }\n",
       "\n",
       "    .dataframe thead th {\n",
       "        text-align: right;\n",
       "    }\n",
       "</style>\n",
       "<table border=\"1\" class=\"dataframe\">\n",
       "  <thead>\n",
       "    <tr style=\"text-align: right;\">\n",
       "      <th></th>\n",
       "      <th></th>\n",
       "      <th>Accuracy</th>\n",
       "      <th>F1 (micro)</th>\n",
       "      <th>F1 (macro)</th>\n",
       "    </tr>\n",
       "  </thead>\n",
       "  <tbody>\n",
       "    <tr>\n",
       "      <th>0</th>\n",
       "      <td>All</td>\n",
       "      <td>0.661</td>\n",
       "      <td>0.661</td>\n",
       "      <td>0.6373</td>\n",
       "    </tr>\n",
       "  </tbody>\n",
       "</table>\n",
       "</div>"
      ],
      "text/plain": [
       "        Accuracy  F1 (micro)  F1 (macro)\n",
       "0  All     0.661       0.661      0.6373"
      ]
     },
     "metadata": {},
     "output_type": "display_data"
    }
   ],
   "source": [
    "evaluate = Evaluation_metrics(gMixture_Ind1,'our1') \n",
    "aux = gMixture_Ind1.calculate_extra_components(Xstd_train, A,calculate_pred_annotator=False,p_z=Z_train_p,p_g=prob_Gt)\n",
    "predictions_m,prob_Gt,prob_Yzt,_ =  aux #to evaluate...\n",
    "prob_Yz = gMixture_Ind1.calculate_Yz(prob_Gt)\n",
    "evaluate.set_Gt(prob_Gt)\n",
    "print(\"*** Ours Individual1 multiples runs***\") #lambda = 1\n",
    "\n",
    "print(\"Train\")\n",
    "results = evaluate.calculate_metrics(Z=Z_train,Z_pred=Z_train_pred,conf_pred=prob_Yzt,conf_true=confe_matrix_R,\n",
    "                                    conf_true_G =confe_matrix_G, conf_pred_G = prob_Yz)\n",
    "\n",
    "\n",
    "print(\"Val\")\n",
    "c_M = gMixture_Ind1.get_confusionM()\n",
    "y_o_groups = gMixture_Global.get_predictions_groups(Xstd_val,data=Z_val_p).argmax(axis=-1) #obtain p(y^o|x,g=m) and then argmax\n",
    "results = evaluate.calculate_metrics(Z=Z_val,Z_pred=Z_val_pred,conf_pred=c_M, y_o_groups=y_o_groups)"
   ]
  },
  {
   "cell_type": "code",
   "execution_count": 47,
   "metadata": {
    "scrolled": true
   },
   "outputs": [
    {
     "name": "stdout",
     "output_type": "stream",
     "text": [
      "*** Ours Individual3 multiples runs***\n",
      "Train\n",
      "Calculate confusion matrix on repeat version\n"
     ]
    },
    {
     "data": {
      "image/png": "[encoded data removed]",
      "text/plain": [
       "<Figure size 432x288 with 2 Axes>"
      ]
     },
     "metadata": {},
     "output_type": "display_data"
    },
    {
     "name": "stdout",
     "output_type": "stream",
     "text": [
      "JS divergence: 0.1910\tNorm Frobenius: 0.2673\n",
      "Groups probabilities:  [0.0336 0.     0.9664]\n"
     ]
    },
    {
     "data": {
      "image/png": "[encoded data removed]",
      "text/plain": [
       "<Figure size 432x288 with 2 Axes>"
      ]
     },
     "metadata": {},
     "output_type": "display_data"
    },
    {
     "name": "stdout",
     "output_type": "stream",
     "text": [
      "JS divergence: 0.2512\tNorm Frobenius: 0.3154\n",
      "Groups probabilities:  [0.2841 0.     0.7159]\n"
     ]
    },
    {
     "data": {
      "image/png": "[encoded data removed]",
      "text/plain": [
       "<Figure size 432x288 with 2 Axes>"
      ]
     },
     "metadata": {},
     "output_type": "display_data"
    },
    {
     "name": "stdout",
     "output_type": "stream",
     "text": [
      "JS divergence: 0.3069\tNorm Frobenius: 0.3502\n",
      "Groups probabilities:  [5.000e-04 4.900e-03 9.947e-01]\n"
     ]
    },
    {
     "data": {
      "image/png": "[encoded data removed]",
      "text/plain": [
       "<Figure size 432x288 with 2 Axes>"
      ]
     },
     "metadata": {},
     "output_type": "display_data"
    },
    {
     "name": "stdout",
     "output_type": "stream",
     "text": [
      "JS divergence: 0.3044\tNorm Frobenius: 0.3812\n",
      "Groups probabilities:  [0.0312 0.     0.9688]\n"
     ]
    },
    {
     "data": {
      "image/png": "[encoded data removed]",
      "text/plain": [
       "<Figure size 432x288 with 2 Axes>"
      ]
     },
     "metadata": {},
     "output_type": "display_data"
    },
    {
     "name": "stdout",
     "output_type": "stream",
     "text": [
      "JS divergence: 0.1874\tNorm Frobenius: 0.2483\n",
      "Groups probabilities:  [0.0025 0.     0.9975]\n"
     ]
    },
    {
     "data": {
      "image/png": "[encoded data removed]",
      "text/plain": [
       "<Figure size 432x288 with 2 Axes>"
      ]
     },
     "metadata": {},
     "output_type": "display_data"
    },
    {
     "name": "stdout",
     "output_type": "stream",
     "text": [
      "JS divergence: 0.2985\tNorm Frobenius: 0.3139\n",
      "Groups probabilities:  [0.4223 0.2375 0.3402]\n"
     ]
    },
    {
     "data": {
      "image/png": "[encoded data removed]",
      "text/plain": [
       "<Figure size 432x288 with 2 Axes>"
      ]
     },
     "metadata": {},
     "output_type": "display_data"
    },
    {
     "name": "stdout",
     "output_type": "stream",
     "text": [
      "JS divergence: 0.0939\tNorm Frobenius: 0.2187\n",
      "Groups probabilities:  [0.7415 0.     0.2585]\n"
     ]
    },
    {
     "data": {
      "image/png": "[encoded data removed]",
      "text/plain": [
       "<Figure size 432x288 with 2 Axes>"
      ]
     },
     "metadata": {},
     "output_type": "display_data"
    },
    {
     "name": "stdout",
     "output_type": "stream",
     "text": [
      "JS divergence: 0.4834\tNorm Frobenius: 0.4331\n",
      "Groups probabilities:  [0.2203 0.0434 0.7363]\n"
     ]
    },
    {
     "data": {
      "image/png": "[encoded data removed]",
      "text/plain": [
       "<Figure size 432x288 with 2 Axes>"
      ]
     },
     "metadata": {},
     "output_type": "display_data"
    },
    {
     "name": "stdout",
     "output_type": "stream",
     "text": [
      "JS divergence: 0.2398\tNorm Frobenius: 0.3018\n",
      "Groups probabilities:  [0. 0. 1.]\n"
     ]
    },
    {
     "data": {
      "image/png": "[encoded data removed]",
      "text/plain": [
       "<Figure size 432x288 with 2 Axes>"
      ]
     },
     "metadata": {},
     "output_type": "display_data"
    },
    {
     "name": "stdout",
     "output_type": "stream",
     "text": [
      "JS divergence: 0.2242\tNorm Frobenius: 0.2777\n",
      "Groups probabilities:  [0.7346 0.     0.2654]\n"
     ]
    },
    {
     "data": {
      "image/png": "[encoded data removed]",
      "text/plain": [
       "<Figure size 432x288 with 2 Axes>"
      ]
     },
     "metadata": {},
     "output_type": "display_data"
    },
    {
     "name": "stdout",
     "output_type": "stream",
     "text": [
      "JS divergence: 0.0762\tNorm Frobenius: 0.1324\n",
      "Groups probabilities:  [0.6917 0.     0.3083]\n"
     ]
    },
    {
     "data": {
      "image/png": "[encoded data removed]",
      "text/plain": [
       "<Figure size 432x288 with 2 Axes>"
      ]
     },
     "metadata": {},
     "output_type": "display_data"
    },
    {
     "name": "stdout",
     "output_type": "stream",
     "text": [
      "JS divergence: 0.0555\tNorm Frobenius: 0.1298\n",
      "Groups probabilities:  [0.6502 0.     0.3498]\n"
     ]
    },
    {
     "data": {
      "image/png": "[encoded data removed]",
      "text/plain": [
       "<Figure size 432x288 with 2 Axes>"
      ]
     },
     "metadata": {},
     "output_type": "display_data"
    },
    {
     "name": "stdout",
     "output_type": "stream",
     "text": [
      "JS divergence: 0.0507\tNorm Frobenius: 0.1033\n",
      "Groups probabilities:  [0.0026 0.     0.9974]\n"
     ]
    },
    {
     "data": {
      "image/png": "[encoded data removed]",
      "text/plain": [
       "<Figure size 432x288 with 2 Axes>"
      ]
     },
     "metadata": {},
     "output_type": "display_data"
    },
    {
     "name": "stdout",
     "output_type": "stream",
     "text": [
      "JS divergence: 0.1373\tNorm Frobenius: 0.1927\n",
      "Groups probabilities:  [0. 0. 1.]\n"
     ]
    },
    {
     "data": {
      "image/png": "[encoded data removed]",
      "text/plain": [
       "<Figure size 432x288 with 2 Axes>"
      ]
     },
     "metadata": {},
     "output_type": "display_data"
    },
    {
     "name": "stdout",
     "output_type": "stream",
     "text": [
      "JS divergence: 0.1528\tNorm Frobenius: 0.2099\n",
      "Groups probabilities:  [0.5519 0.0827 0.3653]\n",
      "Calculate confusion matrix on global version\n"
     ]
    },
    {
     "data": {
      "image/png": "[encoded data removed]",
      "text/plain": [
       "<Figure size 432x288 with 2 Axes>"
      ]
     },
     "metadata": {},
     "output_type": "display_data"
    },
    {
     "name": "stdout",
     "output_type": "stream",
     "text": [
      "JS divergence: 0.0658\tNorm Frobenius: 0.1189\n",
      "A result\n"
     ]
    },
    {
     "data": {
      "text/html": [
       "<div>\n",
       "<style scoped>\n",
       "    .dataframe tbody tr th:only-of-type {\n",
       "        vertical-align: middle;\n",
       "    }\n",
       "\n",
       "    .dataframe tbody tr th {\n",
       "        vertical-align: top;\n",
       "    }\n",
       "\n",
       "    .dataframe thead th {\n",
       "        text-align: right;\n",
       "    }\n",
       "</style>\n",
       "<table border=\"1\" class=\"dataframe\">\n",
       "  <thead>\n",
       "    <tr style=\"text-align: right;\">\n",
       "      <th></th>\n",
       "      <th></th>\n",
       "      <th>Accuracy</th>\n",
       "      <th>F1 (micro)</th>\n",
       "      <th>F1 (macro)</th>\n",
       "      <th>(R) NormF mean</th>\n",
       "      <th>(R) JS mean</th>\n",
       "      <th>(G) NormF</th>\n",
       "      <th>(G) JS</th>\n",
       "    </tr>\n",
       "  </thead>\n",
       "  <tbody>\n",
       "    <tr>\n",
       "      <th>0</th>\n",
       "      <td>All</td>\n",
       "      <td>0.6877</td>\n",
       "      <td>0.6877</td>\n",
       "      <td>0.6762</td>\n",
       "      <td>0.2909</td>\n",
       "      <td>0.2554</td>\n",
       "      <td>0.1189</td>\n",
       "      <td>0.0658</td>\n",
       "    </tr>\n",
       "  </tbody>\n",
       "</table>\n",
       "</div>"
      ],
      "text/plain": [
       "        Accuracy  F1 (micro)  F1 (macro)  (R) NormF mean  (R) JS mean  \\\n",
       "0  All    0.6877      0.6877      0.6762          0.2909       0.2554   \n",
       "\n",
       "   (G) NormF  (G) JS  \n",
       "0     0.1189  0.0658  "
      ]
     },
     "metadata": {},
     "output_type": "display_data"
    },
    {
     "name": "stdout",
     "output_type": "stream",
     "text": [
      "Val\n"
     ]
    },
    {
     "data": {
      "image/png": "[encoded data removed]",
      "text/plain": [
       "<Figure size 432x288 with 1 Axes>"
      ]
     },
     "metadata": {},
     "output_type": "display_data"
    },
    {
     "data": {
      "image/png": "[encoded data removed]",
      "text/plain": [
       "<Figure size 432x288 with 1 Axes>"
      ]
     },
     "metadata": {},
     "output_type": "display_data"
    },
    {
     "data": {
      "image/png": "[encoded data removed]",
      "text/plain": [
       "<Figure size 432x288 with 1 Axes>"
      ]
     },
     "metadata": {},
     "output_type": "display_data"
    },
    {
     "name": "stdout",
     "output_type": "stream",
     "text": [
      "Inertia JS: 0.46039892536607957\n",
      "Inertia NormF: 0.44236856900251925\n",
      "A result\n"
     ]
    },
    {
     "data": {
      "text/html": [
       "<div>\n",
       "<style scoped>\n",
       "    .dataframe tbody tr th:only-of-type {\n",
       "        vertical-align: middle;\n",
       "    }\n",
       "\n",
       "    .dataframe tbody tr th {\n",
       "        vertical-align: top;\n",
       "    }\n",
       "\n",
       "    .dataframe thead th {\n",
       "        text-align: right;\n",
       "    }\n",
       "</style>\n",
       "<table border=\"1\" class=\"dataframe\">\n",
       "  <thead>\n",
       "    <tr style=\"text-align: right;\">\n",
       "      <th></th>\n",
       "      <th>Groups</th>\n",
       "      <th>Prob</th>\n",
       "      <th>Entropy</th>\n",
       "      <th>Diag mean</th>\n",
       "      <th>Isim (JS)</th>\n",
       "      <th>S_raykar</th>\n",
       "      <th>S_bias</th>\n",
       "      <th>C_bias</th>\n",
       "      <th>Iner JS</th>\n",
       "      <th>Iner NormF</th>\n",
       "      <th>Accuracy</th>\n",
       "      <th>F1 (micro)</th>\n",
       "    </tr>\n",
       "  </thead>\n",
       "  <tbody>\n",
       "    <tr>\n",
       "      <th>0</th>\n",
       "      <td>0</td>\n",
       "      <td>0.3282</td>\n",
       "      <td>0.4233</td>\n",
       "      <td>0.7553</td>\n",
       "      <td>0.8317</td>\n",
       "      <td>0.6737</td>\n",
       "      <td>0.1740</td>\n",
       "      <td>0</td>\n",
       "      <td>0.4604</td>\n",
       "      <td>0.4424</td>\n",
       "      <td>0.6021</td>\n",
       "      <td>0.6021</td>\n",
       "    </tr>\n",
       "    <tr>\n",
       "      <th>1</th>\n",
       "      <td>1</td>\n",
       "      <td>0.1609</td>\n",
       "      <td>0.2849</td>\n",
       "      <td>0.3481</td>\n",
       "      <td>0.4185</td>\n",
       "      <td>0.1308</td>\n",
       "      <td>0.8284</td>\n",
       "      <td>3</td>\n",
       "      <td>0.4604</td>\n",
       "      <td>0.4424</td>\n",
       "      <td>0.6072</td>\n",
       "      <td>0.6072</td>\n",
       "    </tr>\n",
       "    <tr>\n",
       "      <th>2</th>\n",
       "      <td>2</td>\n",
       "      <td>0.5109</td>\n",
       "      <td>0.1269</td>\n",
       "      <td>0.9718</td>\n",
       "      <td>0.9856</td>\n",
       "      <td>0.9624</td>\n",
       "      <td>0.0193</td>\n",
       "      <td>3</td>\n",
       "      <td>0.4604</td>\n",
       "      <td>0.4424</td>\n",
       "      <td>0.6074</td>\n",
       "      <td>0.6074</td>\n",
       "    </tr>\n",
       "  </tbody>\n",
       "</table>\n",
       "</div>"
      ],
      "text/plain": [
       "   Groups    Prob  Entropy  Diag mean  Isim (JS)  S_raykar  S_bias  C_bias  \\\n",
       "0       0  0.3282   0.4233     0.7553     0.8317    0.6737  0.1740       0   \n",
       "1       1  0.1609   0.2849     0.3481     0.4185    0.1308  0.8284       3   \n",
       "2       2  0.5109   0.1269     0.9718     0.9856    0.9624  0.0193       3   \n",
       "\n",
       "   Iner JS  Iner NormF  Accuracy  F1 (micro)  \n",
       "0   0.4604      0.4424    0.6021      0.6021  \n",
       "1   0.4604      0.4424    0.6072      0.6072  \n",
       "2   0.4604      0.4424    0.6074      0.6074  "
      ]
     },
     "metadata": {},
     "output_type": "display_data"
    },
    {
     "name": "stdout",
     "output_type": "stream",
     "text": [
      "A result\n"
     ]
    },
    {
     "data": {
      "text/html": [
       "<div>\n",
       "<style scoped>\n",
       "    .dataframe tbody tr th:only-of-type {\n",
       "        vertical-align: middle;\n",
       "    }\n",
       "\n",
       "    .dataframe tbody tr th {\n",
       "        vertical-align: top;\n",
       "    }\n",
       "\n",
       "    .dataframe thead th {\n",
       "        text-align: right;\n",
       "    }\n",
       "</style>\n",
       "<table border=\"1\" class=\"dataframe\">\n",
       "  <thead>\n",
       "    <tr style=\"text-align: right;\">\n",
       "      <th></th>\n",
       "      <th></th>\n",
       "      <th>Accuracy</th>\n",
       "      <th>F1 (micro)</th>\n",
       "      <th>F1 (macro)</th>\n",
       "    </tr>\n",
       "  </thead>\n",
       "  <tbody>\n",
       "    <tr>\n",
       "      <th>0</th>\n",
       "      <td>All</td>\n",
       "      <td>0.6068</td>\n",
       "      <td>0.6068</td>\n",
       "      <td>0.5942</td>\n",
       "    </tr>\n",
       "  </tbody>\n",
       "</table>\n",
       "</div>"
      ],
      "text/plain": [
       "        Accuracy  F1 (micro)  F1 (macro)\n",
       "0  All    0.6068      0.6068      0.5942"
      ]
     },
     "metadata": {},
     "output_type": "display_data"
    }
   ],
   "source": [
    "evaluate = Evaluation_metrics(gMixture_Ind3,'our1') \n",
    "aux = gMixture_Ind3.calculate_extra_components(Xstd_train, A,calculate_pred_annotator=False,p_z=Z_train_p,p_g=prob_Gt)\n",
    "predictions_m,prob_Gt,prob_Yzt,_ =  aux #to evaluate...\n",
    "prob_Yz = gMixture_Ind3.calculate_Yz(prob_Gt)\n",
    "evaluate.set_Gt(prob_Gt)\n",
    "print(\"*** Ours Individual3 multiples runs***\") #lambda = 1\n",
    "\n",
    "print(\"Train\")\n",
    "results = evaluate.calculate_metrics(Z=Z_train,Z_pred=Z_train_pred,conf_pred=prob_Yzt,conf_true=confe_matrix_R,\n",
    "                                    conf_true_G =confe_matrix_G, conf_pred_G = prob_Yz)\n",
    "\n",
    "\n",
    "print(\"Val\")\n",
    "c_M = gMixture_Ind3.get_confusionM()\n",
    "y_o_groups = gMixture_Global.get_predictions_groups(Xstd_val,data=Z_val_p).argmax(axis=-1) #obtain p(y^o|x,g=m) and then argmax\n",
    "results = evaluate.calculate_metrics(Z=Z_val,Z_pred=Z_val_pred,conf_pred=c_M, y_o_groups=y_o_groups)"
   ]
  },
  {
   "cell_type": "code",
   "execution_count": 43,
   "metadata": {},
   "outputs": [
    {
     "ename": "NameError",
     "evalue": "name 'plot_alphas' is not defined",
     "output_type": "error",
     "traceback": [
      "\u001b[0;31m---------------------------------------------------------------------------\u001b[0m",
      "\u001b[0;31mNameError\u001b[0m                                 Traceback (most recent call last)",
      "\u001b[0;32m<ipython-input-43-4ee73b36f505>\u001b[0m in \u001b[0;36m<module>\u001b[0;34m()\u001b[0m\n\u001b[0;32m----> 1\u001b[0;31m \u001b[0mplot_alphas\u001b[0m\u001b[0;34m(\u001b[0m\u001b[0mgMixture_Ind1\u001b[0m\u001b[0;34m.\u001b[0m\u001b[0malphas_training\u001b[0m\u001b[0;34m)\u001b[0m\u001b[0;34m\u001b[0m\u001b[0m\n\u001b[0m",
      "\u001b[0;31mNameError\u001b[0m: name 'plot_alphas' is not defined"
     ]
    }
   ],
   "source": [
    "plot_alphas(gMixture_Ind1.alphas_training)"
   ]
  },
  {
   "cell_type": "code",
   "execution_count": 44,
   "metadata": {},
   "outputs": [
    {
     "ename": "NameError",
     "evalue": "name 'plot_alphas' is not defined",
     "output_type": "error",
     "traceback": [
      "\u001b[0;31m---------------------------------------------------------------------------\u001b[0m",
      "\u001b[0;31mNameError\u001b[0m                                 Traceback (most recent call last)",
      "\u001b[0;32m<ipython-input-44-fd40761b36d8>\u001b[0m in \u001b[0;36m<module>\u001b[0;34m()\u001b[0m\n\u001b[0;32m----> 1\u001b[0;31m \u001b[0mplot_alphas\u001b[0m\u001b[0;34m(\u001b[0m\u001b[0mgMixture_Ind3\u001b[0m\u001b[0;34m.\u001b[0m\u001b[0malphas_training\u001b[0m\u001b[0;34m)\u001b[0m\u001b[0;34m\u001b[0m\u001b[0m\n\u001b[0m",
      "\u001b[0;31mNameError\u001b[0m: name 'plot_alphas' is not defined"
     ]
    }
   ],
   "source": [
    "plot_alphas(gMixture_Ind3.alphas_training)"
   ]
  },
  {
   "cell_type": "markdown",
   "metadata": {
    "collapsed": true
   },
   "source": [
    "### project confusion matrices"
   ]
  },
  {
   "cell_type": "code",
   "execution_count": 42,
   "metadata": {},
   "outputs": [],
   "source": [
    "def flatten_conf(m):\n",
    "    return m.reshape(m.shape[0], np.prod(m.shape[1:]))\n",
    "\n",
    "to_plot = flatten_conf(confe_matrix_R)\n",
    "\n",
    "centroids_plot_G = flatten_conf(gMixture_Global.get_confusionM())\n",
    "centroids_plot_IT = flatten_conf(gMixture_Ind1.get_confusionM())\n",
    "centroids_plot_IK = flatten_conf(gMixture_Ind3.get_confusionM())\n",
    "global_plot = (confe_matrix_G.flatten()).reshape(1,-1)\n",
    "\n",
    "from sklearn.decomposition import PCA\n",
    "model = PCA(2)\n",
    "model.fit(to_plot) \n",
    "\n",
    "to_plot = model.transform(to_plot) \n",
    "centroids_plot_G = model.transform(centroids_plot_G)\n",
    "centroids_plot_IT = model.transform(centroids_plot_IT)\n",
    "centroids_plot_IK = model.transform(centroids_plot_IK)\n",
    "global_plot = model.transform(global_plot)"
   ]
  },
  {
   "cell_type": "code",
   "execution_count": 43,
   "metadata": {},
   "outputs": [
    {
     "data": {
      "image/png": "[encoded data removed]",
      "text/plain": [
       "<Figure size 720x504 with 1 Axes>"
      ]
     },
     "metadata": {},
     "output_type": "display_data"
    }
   ],
   "source": [
    "plt.figure(figsize=(10,7))\n",
    "plt.scatter(to_plot[:,0], to_plot[:,1], label=\"Annotators\")\n",
    "plt.scatter(centroids_plot_G[:,0], centroids_plot_G[:,1], s=150,marker=\"*\", color='g',label=\"Groups Global\", edgecolor='black')\n",
    "plt.scatter(centroids_plot_IT[:,0], centroids_plot_IT[:,1],s=150, marker=\"X\", color='purple',label=\"Groups Indiv model-T\", edgecolor='black')\n",
    "plt.scatter(centroids_plot_IK[:,0], centroids_plot_IK[:,1], s=150, marker=\"X\", color='hotpink',label=\"Groups Indiv model-K\", edgecolor='black')\n",
    "#plt.scatter(global_plot[:,0], global_plot[:,1],label=\"Global\")\n",
    "\n",
    "plt.legend()\n",
    "plt.show()#nuevo"
   ]
  },
  {
   "cell_type": "code",
   "execution_count": null,
   "metadata": {},
   "outputs": [],
   "source": []
  }
 ],
 "metadata": {
  "kernelspec": {
   "display_name": "Python [conda env:tesis]",
   "language": "python",
   "name": "conda-env-tesis-py"
  },
  "language_info": {
   "codemirror_mode": {
    "name": "ipython",
    "version": 3
   },
   "file_extension": ".py",
   "mimetype": "text/x-python",
   "name": "python",
   "nbconvert_exporter": "python",
   "pygments_lexer": "ipython3",
   "version": "3.5.5"
  }
 },
 "nbformat": 4,
 "nbformat_minor": 2
}
